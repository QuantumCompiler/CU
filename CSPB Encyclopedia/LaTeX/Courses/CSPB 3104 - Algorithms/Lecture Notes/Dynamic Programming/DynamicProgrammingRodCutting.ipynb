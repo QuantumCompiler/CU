{
 "cells": [
  {
   "cell_type": "markdown",
   "metadata": {},
   "source": [
    "# Dynamic Programming: The Rod Cutting Problem\n",
    "\n",
    "__Input:__ You are given \n",
    "  * length of rod `L` a natural number and \n",
    "  * List `sizes`  `[l1, l2, .., lk]`  of possible lengths that we can cut the rod and\n",
    "  * List `prices`  how much money does each length of rod yield `[p1, p2, .., pk]`\n",
    "  * Note: The `sizes` and `prices` list must have the same length.\n",
    "\n",
    "__ Assumptions: __ $k \\geq 1$, `L` is positive whole number, `li` are all positive, whole numbers, and prices `pi` are positive. \n",
    "\n",
    "__Question:__ Why are they reasonable assumptions to make? What do we do if these assumptions do not hold? Ask us on piazza!\n",
    "\n"
   ]
  },
  {
   "cell_type": "code",
   "execution_count": 5,
   "metadata": {},
   "outputs": [],
   "source": [
    "L = 100\n",
    "sizes =  [ 1, 3, 5, 10, 30, 50, 75]\n",
    "prices = [ 0.1, 0.2, 0.4, 0.9, 3.1, 5.1, 8.2]"
   ]
  },
  {
   "cell_type": "markdown",
   "metadata": {},
   "source": [
    "## Optimal Substructure(Attempt 1)\n",
    "\n",
    "Suppose we have length `L` left for now, we can decide on a possible cut now and then optimally solve for the remaining length of the rod.\n",
    "\n",
    "  1. If we choose to cut `li` length now, that pays off `pi` revenue. \n",
    "  2. Then we can decide how to cut the remaining length `L-li` optimally.\n",
    "  3. Once we solve step (2), the solution for (1) simply appends a cut of length `li` before the decisions for (2) are carried out.\n",
    "\n",
    "Thus, we see that the problem has optimal substructure property.\n",
    "\n",
    "## Defining a recurrence\n",
    "\n",
    "Based on this, we define: $\\text{maxRevenue}(L)$  as the maximum revenue that can be obtained for length `L` of rod. Note that `sizes` and `prices` are also arguments to this function but in this formulation they are going to remain fixed. So we do not list them explicitly.\n",
    "\n",
    "First, we consider the actual recurrence and then write down the base cases (though this is the reverse of how we ought to do things, technically speaking).\n",
    "\n",
    "$$ \\text{maxRevenue}(L) = \\max \\left\\{ \\begin{array}{ll}\n",
    "0 & \\leftarrow \\text{Waste the current length of rod without cutting it } \\\\\n",
    "p_1 + \\text{maxRevenue}(L-l_1) & \\leftarrow\\ \\text{Choosing Option 1: yields revenue}\\ p_1\\ \\text{and cuts off}\\ l_1 \\\\\n",
    "p_2 + \\text{maxRevenue}(L-l_2) & \\leftarrow\\ \\text{Choosing Option 2: yields revenue}\\ p_2\\ \\text{and cuts off}\\ l_2 \\\\\n",
    "\\vdots & \\vdots \\\\\n",
    "p_k + \\text{maxRevenue}(L-l_k) & \\leftarrow\\ \\text{Choosing Option k: yields revenue}\\ p_k\\ \\text{and cuts off}\\ l_k \\\\\n",
    "\\end{array}\\right.$$\n",
    "\n",
    "What are the base cases:\n",
    "\n",
    "  * $\\text{maxRevenue}(L) = 0$ whenever $L= 0$. If no rod to cut then nothing to do.\n",
    "  * $\\text{maxRevenue}(L) = - \\infty$ whenever $L < 0$. If there is negative rod to cut, we will \"punish\" the cutter infinitely.\n",
    "  \n",
    "__Question:__  How can  $\\text{maxRevenue}(\\hat{L})$ end up with an argument\n",
    "$\\hat{L} < 0$? What is the physical meaning in terms of the cutting a rod? Why is it OK to assign it to $-\\infty$?\n",
    "If you are unable to grok these, ask us on piazza.\n",
    "\n",
    "\n",
    "\n",
    "\n",
    "\n"
   ]
  },
  {
   "cell_type": "code",
   "execution_count": 6,
   "metadata": {},
   "outputs": [],
   "source": [
    "# Naive Attempt to Implement the Recurrence\n",
    "\n",
    "def maxRevenue_Recursive(L, sizes, prices):\n",
    "    if L == 0: \n",
    "        return 0\n",
    "    if L < 0: \n",
    "        return (-100000000) # Just a large negative number will do\n",
    "    k = len(sizes)\n",
    "    assert len(prices) == k\n",
    "    # Let us implement the max of \n",
    "    optionValues = [ (prices[i] + maxRevenue_Recursive(L-sizes[i], sizes, prices)) for i in range(k) ]\n",
    "    optionValues.append(0) # also add 0 to cover the case where we waste \n",
    "    bestValueSoFar = max(optionValues)\n",
    "    return bestValueSoFar\n"
   ]
  },
  {
   "cell_type": "code",
   "execution_count": 7,
   "metadata": {},
   "outputs": [
    {
     "name": "stdout",
     "output_type": "stream",
     "text": [
      "3.1\n"
     ]
    }
   ],
   "source": [
    "# WARNING: Will run for a long time\n",
    "print(maxRevenue_Recursive(30, sizes, prices))"
   ]
  },
  {
   "cell_type": "code",
   "execution_count": null,
   "metadata": {},
   "outputs": [],
   "source": [
    "# WARNING: Will run for a really long time\n",
    "print(maxRevenue_Recursive(50, sizes, prices))"
   ]
  },
  {
   "cell_type": "markdown",
   "metadata": {},
   "source": [
    "## Memoization \n",
    "\n",
    "The recurrences above take too long, unfortunately. Are you wondering why? If so, just add a print statement to see what values of L are being called. You will find that the same values of L are being called repeatedly billions of time. This causes lots of unnecessary work that can be avoided through\n",
    "__Memoization__.\n",
    "\n",
    "In memoization, we will simply store the results for previously computed lengths so that we can simply retrieve them from our store. To do so we will use a memo table $T$.\n",
    "\n",
    "$T[0], ..., T[L]$ will store the values of maxRevenue for lenghts $0$ to $L$. In particular, $T[0] = 0$ by the base case.\n",
    "\n"
   ]
  },
  {
   "cell_type": "code",
   "execution_count": 27,
   "metadata": {},
   "outputs": [],
   "source": [
    "def maxRevenue_Memoize(L, sizes, prices): \n",
    "    T = [0]*(L+1) # create an array of size L+1 and fill it with all 0s \n",
    "    k = len(sizes)\n",
    "    assert len(prices) == k\n",
    "    \n",
    "    for l in range(1, L+1):\n",
    "        optionValues = [ (prices[i] + T[L-sizes[i]]) for i in range(k) if l - sizes[i] >= 0 ]\n",
    "        T[l] = \n",
    "    return T[L]"
   ]
  },
  {
   "cell_type": "code",
   "execution_count": 28,
   "metadata": {},
   "outputs": [
    {
     "name": "stdout",
     "output_type": "stream",
     "text": [
      "3.1\n"
     ]
    }
   ],
   "source": [
    "print(maxRevenue_Memoize(30, sizes, prices))"
   ]
  },
  {
   "cell_type": "code",
   "execution_count": 29,
   "metadata": {},
   "outputs": [
    {
     "name": "stdout",
     "output_type": "stream",
     "text": [
      "5.1000000000000005\n"
     ]
    }
   ],
   "source": [
    "print(maxRevenue_Memoize(50, sizes, prices))"
   ]
  },
  {
   "cell_type": "code",
   "execution_count": 30,
   "metadata": {},
   "outputs": [
    {
     "name": "stdout",
     "output_type": "stream",
     "text": [
      "32.8\n"
     ]
    }
   ],
   "source": [
    "print(maxRevenue_Memoize(300, sizes, prices))"
   ]
  },
  {
   "cell_type": "markdown",
   "metadata": {},
   "source": [
    "## Recovering The Solution\n",
    "\n",
    "The last step is to recover the actual solution instead of just the overall value.\n",
    "\n",
    "The key is to not just record the maximum but also to record for each `l`, which choice yields the maximum"
   ]
  },
  {
   "cell_type": "code",
   "execution_count": 56,
   "metadata": {},
   "outputs": [],
   "source": [
    "def maxRevenue_Memoize_With_Solution_Recovery(L, sizes, prices): \n",
    "    T = [0]*(L+1)    # create an array of size L+1 and fill it with all 0s \n",
    "    S = [-1] * (L+1) # create an array to also record the best option for each l\n",
    "                     # let us use -1 for the \"waste\" option\n",
    "    k = len(sizes)\n",
    "    assert len(prices) == k\n",
    "    \n",
    "    for l in range(1, L+1):\n",
    "        T[l] = 0\n",
    "        bestOptionSoFar = -1 # Let us us -1 for the waste option\n",
    "        for i in range(k):\n",
    "            li = sizes[i]\n",
    "            if l - li >= 0:\n",
    "                option_value = prices[i] + T[l - li]\n",
    "                if option_value > T[l]:\n",
    "                    T[l] = option_value\n",
    "                    bestOptionSoFar = i\n",
    "        S[l] = bestOptionSoFar\n",
    "        \n",
    "    # Now for solution recovery\n",
    "    cuts = []\n",
    "    l = L\n",
    "    while l > 0:\n",
    "        option_id = S[l] # Which option gave the best result for l?\n",
    "        if option_id >= 0:  # If it is an option that involves a cut\n",
    "            cuts.append(sizes[option_id]) # Add the cut to the list\n",
    "            l = l - sizes[option_id] # Reduce the remaining size\n",
    "        else:  \n",
    "            break  # If best option is to waste, then we are done\n",
    "    return T[L], (cuts) # Returen max revenue and list of cuts"
   ]
  },
  {
   "cell_type": "code",
   "execution_count": 57,
   "metadata": {},
   "outputs": [
    {
     "name": "stdout",
     "output_type": "stream",
     "text": [
      "(3.1, [30])\n"
     ]
    }
   ],
   "source": [
    "print(maxRevenue_Memoize_With_Solution_Recovery(30, sizes, prices))"
   ]
  },
  {
   "cell_type": "code",
   "execution_count": 58,
   "metadata": {},
   "outputs": [
    {
     "name": "stdout",
     "output_type": "stream",
     "text": [
      "(5.1000000000000005, [1, 30, 1, 1, 1, 1, 1, 1, 1, 1, 1, 1, 1, 1, 1, 1, 1, 1, 1, 1, 1])\n"
     ]
    }
   ],
   "source": [
    "print(maxRevenue_Memoize_With_Solution_Recovery(50, sizes, prices))"
   ]
  },
  {
   "cell_type": "code",
   "execution_count": 59,
   "metadata": {},
   "outputs": [
    {
     "name": "stdout",
     "output_type": "stream",
     "text": [
      "(10.7, [1, 1, 1, 1, 75, 1, 1, 1, 1, 1, 1, 1, 1, 1, 1, 1, 1, 1, 1, 1, 1, 1, 1, 1, 1, 1])\n"
     ]
    }
   ],
   "source": [
    "print(maxRevenue_Memoize_With_Solution_Recovery(100, sizes, prices))"
   ]
  },
  {
   "cell_type": "code",
   "execution_count": 60,
   "metadata": {},
   "outputs": [
    {
     "name": "stdout",
     "output_type": "stream",
     "text": [
      "(13.8, [75, 30, 1, 1, 1, 1, 1, 1, 1, 1, 1, 1, 1, 1, 1, 1, 1, 1, 1, 1, 1, 1, 1, 1, 1, 1, 1])\n"
     ]
    }
   ],
   "source": [
    "print(maxRevenue_Memoize_With_Solution_Recovery(130, sizes, prices))"
   ]
  },
  {
   "cell_type": "code",
   "execution_count": 61,
   "metadata": {},
   "outputs": [
    {
     "name": "stdout",
     "output_type": "stream",
     "text": [
      "(145.00000000000003, [1, 1, 1, 30, 75, 75, 75, 75, 75, 75, 75, 75, 75, 75, 1, 1, 1, 1, 1, 1, 1, 1, 1, 1, 1, 1, 1, 1, 1, 1, 1, 1, 1, 1, 1, 1, 75, 75, 75, 75, 75, 75, 75])\n"
     ]
    }
   ],
   "source": [
    "print(maxRevenue_Memoize_With_Solution_Recovery(1330, sizes, prices))"
   ]
  },
  {
   "cell_type": "markdown",
   "metadata": {},
   "source": [
    "## A Different Approach To Formulating the Recurrence\n",
    "\n",
    "Previously, we staged the cuts to be made at each step by considering all possible options available and looking at the optimal way of handling the remaining length. Note however, that this results in the same cut being repeated multiple times. Perhaps  instead of saying\n",
    "`[1,1,1,1,1,1,1,1,1, 30, 30]`, we could say make cuts of `1 unit` length 9 times, and `30 unit` length 2 times. This could be even more efficient and yields a different way of thinking about this problem.\n",
    "\n",
    "we have lengths `[l1, ..., lk]` and prices `[p1, ..., pk]`. First let us consider the length `l1` and make a decision on how many cuts of length `l1` should be made. If `L` is the current rod length, we can consider making $k_1 = 0, \\ldots, \\lfloor \\frac{L}{l_1} \\rfloor$ cuts of length `l1`.\n",
    "The remaining sub problem will have lengths `[l2,..., lk]`, prices `[p2, .. , pk]` and remaining rod length will be `L - k1 * l1`\n",
    "\n",
    "This way of looking at things leads us to a different recurrence: \n",
    "\n",
    "Let $ \\text{maxRevenue}(L, i) $ denote the maximum revenue we obtain if the current remaining length is L and we are allowed\n",
    "to look at lengths from `[li, ..., lk]` and prices `[pi, ... , pk]`. Here L is a positive number and `i` ranges from `1` to `k+1`. \n",
    "\n",
    "\n",
    "Let us first write down the recurrence and then the base case: \n",
    "\n",
    "$$ \\text{maxRevenue} (L, i) = \\left\\{ \\begin{array}{ll}\n",
    "0 & \\leftarrow \\text{Waste the current length} \\\\ \n",
    "\\text{maxRevenue}(L, i+1) & \\leftarrow\\ \\text{Apply the length}\\ l_i\\  \\text{0 times} \\\\\n",
    "p_i + \\text{maxRevenue}(L - l_i, i+1) & \\leftarrow\\ \\text{Apply the length}\\ l_i\\  \\text{1 times} \\\\\n",
    "\\vdots & \\vdots \\\\\n",
    "k_i p_i + \\text{maxRevenue}(L - k_i l_i, i+1) & \\leftarrow\\ \\text{Apply the length}\\ l_i\\  k_i\\text{times} \\\\\n",
    "\\end{array}\\right. $$\n",
    "\n",
    "Wherein $k_i = \\left\\lfloor \\frac{L}{l_i} \\right\\rfloor$.\n",
    "\n",
    "The base cases are \n",
    "\n",
    "  * $\\text{maxRevenue}(0, j) = 0$, the rod has entirely been cut.\n",
    "  * $\\text{maxRevenue}(L, k+1) = 0$, if $L > 0$ since we do not have any possible lengths left to consider.\n",
    "  * $\\text{maxRevenue}(L, j) = -\\infty $, if $L < 0$.\n",
    "\n"
   ]
  },
  {
   "cell_type": "code",
   "execution_count": 14,
   "metadata": {},
   "outputs": [],
   "source": [
    "def maxRevenueNew(L, j, prices, sizes): \n",
    "    k = len(prices)\n",
    "    assert len(sizes) == k\n",
    "    if L == 0: \n",
    "        return 0\n",
    "    if L < 0:\n",
    "        return - 1000000\n",
    "    if j >= k:  # Note that pseudocode array indices are from 1 to k. Python indices are 0 to k-1\n",
    "        return 0\n",
    "    ki = L // sizes[j]\n",
    "    if ki <= 0: \n",
    "        return 0\n",
    "    lstOfOptions = [ (i * prices[j] +  maxRevenueNew(L-i*sizes[j], j+1, prices, sizes)) for i in range(ki+1) ]\n",
    "    return max(lstOfOptions)\n",
    "    "
   ]
  },
  {
   "cell_type": "code",
   "execution_count": 18,
   "metadata": {},
   "outputs": [
    {
     "data": {
      "text/plain": [
       "3.1"
      ]
     },
     "execution_count": 18,
     "metadata": {},
     "output_type": "execute_result"
    }
   ],
   "source": [
    "# It is now much faster than before :-)\n",
    "maxRevenueNew(30, 0, prices, sizes)"
   ]
  },
  {
   "cell_type": "code",
   "execution_count": 20,
   "metadata": {},
   "outputs": [
    {
     "data": {
      "text/plain": [
       "5.1"
      ]
     },
     "execution_count": 20,
     "metadata": {},
     "output_type": "execute_result"
    }
   ],
   "source": [
    "maxRevenueNew(50, 0, prices, sizes)"
   ]
  },
  {
   "cell_type": "code",
   "execution_count": 21,
   "metadata": {},
   "outputs": [
    {
     "data": {
      "text/plain": [
       "10.7"
      ]
     },
     "execution_count": 21,
     "metadata": {},
     "output_type": "execute_result"
    }
   ],
   "source": [
    "maxRevenueNew(100, 0, prices, sizes)"
   ]
  },
  {
   "cell_type": "code",
   "execution_count": 25,
   "metadata": {},
   "outputs": [
    {
     "data": {
      "text/plain": [
       "32.8"
      ]
     },
     "execution_count": 25,
     "metadata": {},
     "output_type": "execute_result"
    }
   ],
   "source": [
    "# But it should be sped up even further\n",
    "maxRevenueNew(300, 0, prices, sizes)"
   ]
  },
  {
   "cell_type": "markdown",
   "metadata": {},
   "source": [
    "## Memoization\n",
    "\n",
    "To speed up the maxRevenue recurrence, we design a new memo table $T$ with rows labeled $l = 0, \\ldots, L$ and columns\n",
    "$j = 1, \\ldots, k+1$. \n",
    "\n",
    "$$ \\begin{array}{|c|l|l|l|l| l| }\n",
    "  \\hline\n",
    "  & j=1 & j=2 & \\cdots & j=k & j=k+1 \\\\\n",
    "    \\hline\n",
    "l=0 & 0 & 0 & \\cdots & 0 & 0 \\\\\n",
    "\\hline\n",
    "l=1 &  &  & \\cdots &  & 0 \\\\\n",
    "\\hline\n",
    "\\vdots & &  & \\ddots &  & 0 \\\\\n",
    "\\hline\n",
    "l=L & ? &  & \\cdots &  & 0 \\\\\n",
    "\\hline\n",
    "\\end{array}$$\n",
    "\n",
    "The problem seeks the value for $l = L $ and $j = 1$. The corresponding cell is marked with a $?$ in the figure above.\n",
    "Once we fill this cell, the value can be returned as the solution.\n",
    "\n",
    "Note that each cell $(l, j)$ depends on the value of cells $(\\hat{l}, j+1)$ where $\\hat{l} < l$. These values need\n",
    "to be computed before we are able to compute the value for $(l,j)$. Therefore, we start to fill the cells\n",
    "from $l = 0, \\ldots, L$ and $j = k+1, \\ldots, 0$ i.e, right to left and top to bottom.\n",
    "\n",
    "\n"
   ]
  },
  {
   "cell_type": "code",
   "execution_count": 51,
   "metadata": {},
   "outputs": [],
   "source": [
    "def maxRevenueNew_Memoize(L, sizes, prices):\n",
    "   \n",
    "    k = len(sizes)\n",
    "    assert len(prices) == k\n",
    "    # Build a two dimensional tbl in python\n",
    "    # The entire table is filled with zeros\n",
    "    tbl = [] \n",
    "    # Also record which option is best to reconstruct solution\n",
    "    sol = []\n",
    "    for i in range(L+1): \n",
    "        tbl.append([0]*(k+1))\n",
    "        sol.append([-1]* (k+1))\n",
    "    \n",
    "    for l in range(L+1):\n",
    "        for j in range(k-1, -1, -1): # Iterate from k-1 down to 0\n",
    "            ki = l // sizes[j]\n",
    "            valuesToConsider = [ ((i * prices[j] +  tbl[ l-i*sizes[j] ][j+1]), i) for i in range(ki+1) ]\n",
    "            valuesToConsider.append((0, -1))\n",
    "            (val, option_id) = max(valuesToConsider)\n",
    "            tbl[l][j] = val\n",
    "            sol[l][j] = option_id\n",
    "    # Now retrieve the solution\n",
    "    cuts = []\n",
    "    l = L\n",
    "    j = 0\n",
    "    while l > 0 and j < k:\n",
    "        option_id = sol[l][j]\n",
    "        if option_id == -1:\n",
    "            break\n",
    "        if (option_id > 0):\n",
    "            cuts.append('Cut length = %d , %d times' % (sizes[j], option_id))\n",
    "        l = l - option_id * sizes[j]\n",
    "        j = j + 1\n",
    "    return tbl[L][0], cuts\n",
    "        "
   ]
  },
  {
   "cell_type": "code",
   "execution_count": 52,
   "metadata": {},
   "outputs": [
    {
     "data": {
      "text/plain": [
       "(3.1, ['Cut length = 30 , 1 times'])"
      ]
     },
     "execution_count": 52,
     "metadata": {},
     "output_type": "execute_result"
    }
   ],
   "source": [
    "maxRevenueNew_Memoize(30, sizes, prices)"
   ]
  },
  {
   "cell_type": "code",
   "execution_count": 53,
   "metadata": {},
   "outputs": [
    {
     "data": {
      "text/plain": [
       "(5.1, ['Cut length = 1 , 20 times', 'Cut length = 30 , 1 times'])"
      ]
     },
     "execution_count": 53,
     "metadata": {},
     "output_type": "execute_result"
    }
   ],
   "source": [
    "maxRevenueNew_Memoize(50, sizes, prices)"
   ]
  },
  {
   "cell_type": "code",
   "execution_count": 55,
   "metadata": {},
   "outputs": [
    {
     "data": {
      "text/plain": [
       "(11.899999999999999,\n",
       " ['Cut length = 1 , 6 times',\n",
       "  'Cut length = 30 , 1 times',\n",
       "  'Cut length = 75 , 1 times'])"
      ]
     },
     "execution_count": 55,
     "metadata": {},
     "output_type": "execute_result"
    }
   ],
   "source": [
    "maxRevenueNew_Memoize(111, sizes, prices)"
   ]
  },
  {
   "cell_type": "code",
   "execution_count": 62,
   "metadata": {},
   "outputs": [
    {
     "data": {
      "text/plain": [
       "(32.8, ['Cut length = 75 , 4 times'])"
      ]
     },
     "execution_count": 62,
     "metadata": {},
     "output_type": "execute_result"
    }
   ],
   "source": [
    "maxRevenueNew_Memoize(300, sizes, prices)"
   ]
  },
  {
   "cell_type": "code",
   "execution_count": 63,
   "metadata": {},
   "outputs": [
    {
     "data": {
      "text/plain": [
       "(341.2,\n",
       " ['Cut length = 1 , 19 times',\n",
       "  'Cut length = 30 , 1 times',\n",
       "  'Cut length = 75 , 41 times'])"
      ]
     },
     "execution_count": 63,
     "metadata": {},
     "output_type": "execute_result"
    }
   ],
   "source": [
    "maxRevenueNew_Memoize(3124, sizes, prices)"
   ]
  },
  {
   "cell_type": "code",
   "execution_count": null,
   "metadata": {},
   "outputs": [],
   "source": []
  }
 ],
 "metadata": {
  "kernelspec": {
   "display_name": "Python 3",
   "language": "python",
   "name": "python3"
  },
  "language_info": {
   "codemirror_mode": {
    "name": "ipython",
    "version": 3
   },
   "file_extension": ".py",
   "mimetype": "text/x-python",
   "name": "python",
   "nbconvert_exporter": "python",
   "pygments_lexer": "ipython3",
   "version": "3.6.5"
  }
 },
 "nbformat": 4,
 "nbformat_minor": 2
}
