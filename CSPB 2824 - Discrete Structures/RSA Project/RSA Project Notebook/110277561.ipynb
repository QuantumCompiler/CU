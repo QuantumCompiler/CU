{
 "cells": [
  {
   "cell_type": "markdown",
   "metadata": {},
   "source": [
    "## RSA - The Project"
   ]
  },
  {
   "cell_type": "markdown",
   "metadata": {},
   "source": [
    "Name:  Taylor Larrechea\n",
    "\n",
    "Moodle Email: tala4156@colorado.edu\n",
    "\n",
    "Name your file \"cuidentikey\".ipynb  This means YOUR identikey. \n",
    "\n",
    "**Do NOT delete instructions or pre-existing comments in the code.** \n"
   ]
  },
  {
   "cell_type": "markdown",
   "metadata": {},
   "source": [
    "<hr />\n",
    "\n",
    "# Table of Contents\n",
    "\n",
    "### 1. Introduction  (5 points)\n",
    "\n",
    "### 2. RSA Code Package    (10 points)\n",
    "###### &nbsp;&nbsp;&nbsp;&nbsp;&nbsp;&nbsp; 2.1 Basic tool set\n",
    "###### &nbsp;&nbsp;&nbsp;&nbsp;&nbsp;&nbsp; 2.2 First tool set\n",
    "###### &nbsp;&nbsp;&nbsp;&nbsp;&nbsp;&nbsp; 2.3 Second tool set\n",
    "\n",
    "### 3. RSA More Code  (10 points)\n",
    "\n",
    "###### &nbsp;&nbsp;&nbsp;&nbsp;&nbsp;&nbsp;  Encode\n",
    "###### &nbsp;&nbsp;&nbsp;&nbsp;&nbsp;&nbsp;  Decode\n",
    "\n",
    "### 4. Create a demo of encoding and decoding a message that highlights how your code works and the steps involved.   (10 points)\n",
    "\n",
    "### 5. Results of exchanging codes with others.  (5 points)\n",
    "\n",
    "### 6. Narrative (25 points)\n",
    "\n",
    "### 7. Why FME?  (5 points)\n",
    "\n",
    "### 8. How to break codes  (5 points)\n",
    "\n",
    "### 9. Code breaking complete examples  (5 points)\n",
    "\n",
    "### 10. Custom code feature / Advanced options  (15 points) \n"
   ]
  },
  {
   "cell_type": "markdown",
   "metadata": {},
   "source": [
    "\n",
    "\n",
    "\n",
    "\n",
    "\n",
    "\n",
    "### 1. Introduction to your RSA Package and Project.  Give an overview of your project and what you have learned. "
   ]
  },
  {
   "cell_type": "markdown",
   "metadata": {},
   "source": [
    "<span style=\"color:red;\">Introduction</span>\n",
    "\n",
    "RSA is a data encryption / decryption technique that is widely used in multiple facets in society for the safe transfer of data and information. RSA incorporates many mathematical procedures ranging from fast modular exponentiation (FME) to the extended Euclidean algorithm (EEA) and more. This project aims to generate encrypted messages that can be decrypted with the use of public key exchanges between parties. With access to these keys, one can decrypt encrypted messages in a safe manner where only the intended parties have access to the information. I will walk through the necessary components that were used to build this project, demonstrate its use, and discuss the results from this project. Furthermore, I will discuss possible pitfalls that exist in this project and how they can be improved."
   ]
  },
  {
   "cell_type": "markdown",
   "metadata": {},
   "source": [
    "### 2.1\n",
    "#### Basic tool set\n",
    "\n",
    "These are functions that you'll need to pre-process the messages before the messages are encoded and decoded by the RSA algorithm. That is the reason we will be defining them first.\n",
    "\n"
   ]
  },
  {
   "cell_type": "markdown",
   "metadata": {},
   "source": [
    "<span style=\"color:red;\">Basic Tool Set Code</span>"
   ]
  },
  {
   "cell_type": "code",
   "execution_count": 21,
   "metadata": {},
   "outputs": [],
   "source": [
    "# Convert_Text - Converts a string to an array of integers that correspond to the ascii code for a given value\n",
    "# Input:\n",
    "#   _string - String that is to be converted to an array of ascii integers\n",
    "# Algorithm:\n",
    "#   * Create an empty array where the ascii digits are supposed to be appended to\n",
    "#   * Iterate over the string and append the corresponding ascii value to integer_list\n",
    "#       * Append the ascii code to integer_list\n",
    "#   * Return the array\n",
    "# Output:\n",
    "#   integer_list - Array of integer values pertaining to the ascii of a letter or character\n",
    "def Convert_Text(_string):\n",
    "    \"\"\"\n",
    "    Define this function such that it takes in a simple \n",
    "    string such as \"hello\" and outputs the corresponding\n",
    "    standard list of integers (ascii) for each letter in the word hello.\n",
    "    For example:\n",
    "    _string = hello\n",
    "    integer_list = [104, 101, 108, 108, 111]\n",
    "    \n",
    "    You may use \"ord()\"\n",
    "    \"\"\"\n",
    "    integer_list = []\n",
    "    for i in _string:\n",
    "        integer_list.append(ord(i))\n",
    "    return integer_list"
   ]
  },
  {
   "cell_type": "code",
   "execution_count": 22,
   "metadata": {},
   "outputs": [],
   "source": [
    "# Convert_Num - Converts an array of numbers representing ascii numbers for a given character\n",
    "# Input:\n",
    "#   _list - Array of integers that represent ascii codes for a given character\n",
    "# Algorithm:\n",
    "#   * Create an empty string where characters are to be appended to the string\n",
    "#   * Iterate over the array and append the characters to the string\n",
    "#       * Append the character in _list to _string\n",
    "#   * Return the string\n",
    "# Output:\n",
    "#   _string - String that represents the converted array to string\n",
    "def Convert_Num(_list):\n",
    "    \"\"\"\n",
    "    Do the opposite of what you did in the Convert_Text\n",
    "    function defined above.\n",
    "    \n",
    "    Define this function such that it takes in a list of integers\n",
    "    and outputs the corresponding string (ascii).\n",
    "    \n",
    "    For example:\n",
    "    _list = [104, 101, 108, 108, 111]\n",
    "    _string = hello\n",
    "    \"\"\"\n",
    "    _string = ''\n",
    "    for i in _list:\n",
    "        _string += chr(i)\n",
    "    return _string"
   ]
  },
  {
   "cell_type": "code",
   "execution_count": 23,
   "metadata": {},
   "outputs": [],
   "source": [
    "# Convert_Binary_String - Converts a decimal number to binary\n",
    "# Input:\n",
    "#   _int - Integer value that is to represent a number in decimal that is to be converted to binary\n",
    "# Algorithm:\n",
    "#   * Create an empty string that will represent the binary number\n",
    "#   * While _int is greater than 0\n",
    "#       * Calculate the binary digit by taking the modulo of _int and 2\n",
    "#       * Update the string value with this digit\n",
    "#       * Update _int by calculating the floor of _int divided by 2\n",
    "#   * Reverse the order of the string\n",
    "#   * Return the string\n",
    "# Output:\n",
    "#   _string - String value that is equal to the binary number of the original integer _int\n",
    "def Convert_Binary_String(_int):\n",
    "    \"\"\"\n",
    "    Here, you need to define a function that converts an integer to\n",
    "    a string of its binary expansion.\n",
    "    \n",
    "    For example:\n",
    "    _int = 345\n",
    "    bits = 101011001\n",
    "    \"\"\"\n",
    "    _string = ''\n",
    "    while(_int > 0):\n",
    "        bindig = _int % 2\n",
    "        _string += str(bindig)\n",
    "        _int = _int // 2\n",
    "    _string = _string[::-1]\n",
    "    return _string"
   ]
  },
  {
   "cell_type": "markdown",
   "metadata": {},
   "source": [
    "Now that you're done with the basic toolset we'll move on to the first tool set which is actually involved in the RSA system."
   ]
  },
  {
   "cell_type": "markdown",
   "metadata": {},
   "source": [
    "### 2.2 \n",
    "#### First tool set.\n",
    "\n"
   ]
  },
  {
   "cell_type": "markdown",
   "metadata": {},
   "source": [
    "<span style=\"color:red;\">First Tool Set Code</span>"
   ]
  },
  {
   "cell_type": "code",
   "execution_count": 24,
   "metadata": {},
   "outputs": [],
   "source": [
    "# FME - A function to calculate Fast Modular Exponentiation (b^n mod m)\n",
    "# Input:\n",
    "#   b - Integer value that represents the base of of the FME (b) in (b^n mod m)\n",
    "#   n - Integer value that represents the exponent value in FME (n) in (b^n mod m)\n",
    "#   m - Integer value that represents the value that is being modulo'd against in FME (m) in (b^n mod m)\n",
    "# Algorithm:\n",
    "#   * Calculate the binary representation of n with Convert_Binary_String\n",
    "#   * Reverse the binary number so that the last digit appears first in the array\n",
    "#   * Set the return value (x) to 1\n",
    "#   * Calculate power by taking the modulo of b and m\n",
    "#   * Traverse the string of binary digits up to the length of the binary number\n",
    "#       * Convert the string to an integer and store it in binVal\n",
    "#       * If the current digit is a one, calculate x with (x * power) % m\n",
    "#       * Update the power variable with (power * power) % m\n",
    "#   * Return x after the for loop finishes completion\n",
    "# Output:\n",
    "#   x - Integer value that is returned from the expression of (b^n mod m)\n",
    "def FME(b,n,m):\n",
    "    \"\"\"\n",
    "    1. Using the fast modular exponentiation algorithm,\n",
    "    the below function should return b**n mod m.\n",
    "    As described on page 254. (however, you may input the exponent and \n",
    "    then convert it to a string - the book verison imports the binary expansion)  \n",
    "    2. You should use the function defined above Convert_Binary_String() if using the book algorithm.\n",
    "    3. For this block you MUST use one of the 3 methods offered in the Mastery Workbook.\n",
    "    4. Any method using bit-shifting or copied from the internet (even changing varibale names) will result in a 0.\n",
    "    5. **If you are completely stuck, you may use pow() with a 10pt penalty.**\n",
    "\n",
    "    You may use the function you developed in your Mastery Workbook - but be sure it is your own\n",
    "    work, commented, etc. and change inputs as needed.\n",
    "    \"\"\"  \n",
    "    DecInBin = Convert_Binary_String(n)\n",
    "    DecInBin = DecInBin[::-1]\n",
    "    x = 1\n",
    "    power = b % m\n",
    "    for i in DecInBin:\n",
    "        binVal = int(i)\n",
    "        if (binVal == 1):\n",
    "            x = (x * power) % m\n",
    "        power = (power * power) % m\n",
    "    return x"
   ]
  },
  {
   "cell_type": "code",
   "execution_count": 25,
   "metadata": {},
   "outputs": [],
   "source": [
    "# Euclidean_Alg - Greatest Common Divisor or Euclidean algorithm for two numbers a and b\n",
    "# Input:\n",
    "#   a - Integer value that represents the larger of the two values in the EEA calculation\n",
    "#   b - Integer value that represents the smaller of the two values in the EEA calculation\n",
    "# Algorithm:\n",
    "#   * Assign values to the initial of a and b with m_0 and b_0\n",
    "#   * Assign values to the initial Bezout coefficients s_1,t_1 with 1 and 0\n",
    "#   * Assign values to the updated Bezout coefficients s_2,t_2 with 0 and 1\n",
    "#   * Execute the while loop until b is less than or equal to 0 (usually equal to 0)\n",
    "#       * Calculate the modulo of a and b and assign it to k\n",
    "#       * Calculate the integer division of a and b and assign it to q\n",
    "#       * Update a to the current value of b and b to to the current value of k\n",
    "#       * Calculate new values for the Bezout coefficients S_1,T_1 with s_2,t_2\n",
    "#       * Calculate the new updated Bezout coefficients S_2,T_2 with s_1 - q * s_2, t_1 - q * t_2\n",
    "#       * Update the Bezout coefficients (which will eventually be returned) s_1,t_1 with S_1,T_1\n",
    "#       * Update the updated Bezout coefficients s_2,t_2 with S_2,T_2\n",
    "#   * Return the GCD (a) and the Bezout coefficients (s_1,t_1) as an array after the loop\n",
    "# Output:\n",
    "#   This algorithm returns an array of values related to the Extended Euclidean Algorithm\n",
    "#   a - This is the GCD of the two original numbers a and b\n",
    "#   s_1 - This is the first Bezout coefficient (s) that is returned\n",
    "#   t_1 - This is the second Bezout coefficient (t) that is returned\n",
    "def Euclidean_Alg(a,b):\n",
    "    \"\"\"\n",
    "    1. Calculate the Greatest Common Divisor of a and b.\n",
    "    \n",
    "    2. This version should have only postive inputs and outputs.\n",
    "    \n",
    "    3. The function must return a single integer ('x') which is\n",
    "    the gcd of a and b.\n",
    "    \n",
    "    \n",
    "    \"\"\"\n",
    "    a_0,b_0 = a,b\n",
    "    s_1,t_1 = 1,0\n",
    "    s_2,t_2 = 0,1\n",
    "    while (b > 0):\n",
    "        k = a % b\n",
    "        q = a // b\n",
    "        a = b\n",
    "        b = k\n",
    "        S_1,T_1 = s_2,t_2\n",
    "        S_2,T_2 = s_1 - q * s_2, t_1 - q * t_2\n",
    "        s_1,t_1 = S_1,T_1\n",
    "        s_2,t_2 = S_2,T_2\n",
    "    return [a,s_1,t_1]"
   ]
  },
  {
   "cell_type": "markdown",
   "metadata": {},
   "source": [
    "### 2.3\n",
    "#### Second tool set\n",
    "\n",
    "Here we will implement the core of the RSA cryptosystem. The functions below will generate the public and private key pairs which will then be used to create a ciphertext using the public key and then decode the same using the pirvate key.\n",
    "\n"
   ]
  },
  {
   "cell_type": "markdown",
   "metadata": {},
   "source": [
    "<span style=\"color:red;\">Second Tool Set Code</span>"
   ]
  },
  {
   "cell_type": "code",
   "execution_count": 26,
   "metadata": {},
   "outputs": [],
   "source": [
    "# Find_Public_Key_e - This function finds a public key e such that it is relatively prime to (p-1)(q-1)\n",
    "# Input:\n",
    "#   p - First prime number\n",
    "#   q - Second prime number\n",
    "# Algorithm:\n",
    "#   * Calculate both (p-1) and (q-1) and store them as P and Q\n",
    "#   * Calculate the product of p and q and store it as n\n",
    "#   * Initialize e to be 2\n",
    "#   * While the gcd(e,P*Q) is not 1 and e is not equal to both p and q\n",
    "#       * Increment e by 1\n",
    "#   * Return e and n in an array\n",
    "# Output:\n",
    "#   This function returns the public key e and n\n",
    "def Find_Public_Key_e(p, q):\n",
    "    \"\"\"\n",
    "    Implement this function such that\n",
    "    it takes 2 primes p and q.\n",
    "    \n",
    "    Use the gcd function that you have \n",
    "    defined before.\n",
    "    \n",
    "    The function should return 2 elements as follows:\n",
    "    public key: n\n",
    "    public key: e\n",
    "    \n",
    "    HINT: this function will run a loop to find e such \n",
    "    that e is relatively prime to (p - 1) (q - 1) \n",
    "    and not equal to p or q.\n",
    "    \n",
    "    NOTE: There are a number of ways to implement this key feature. \n",
    "    You, as the coder, can choose to how to achieve this goal.\n",
    "    \n",
    "    \"\"\"\n",
    "    P = p - 1\n",
    "    Q = q - 1\n",
    "    n = p * q\n",
    "    e = 2\n",
    "    while (Euclidean_Alg(e,P*Q)[0] != 1 and e != p and e != q):\n",
    "        e += 1\n",
    "    return [e,n]"
   ]
  },
  {
   "cell_type": "code",
   "execution_count": 27,
   "metadata": {},
   "outputs": [],
   "source": [
    "# Find_Private_Key_d - This function returns the private key d from a public key e and two prime numbers p and q\n",
    "# Input:\n",
    "#   e - Public key that is calculated with Find_Public_Key_e\n",
    "#   p - First prime number\n",
    "#   q - Second prime number\n",
    "# Algorithm:\n",
    "#   * Calculate (p-1) and (q-1) and store them as P and Q respectively\n",
    "#   * Calculate the modular inverse (the Bezout coefficient) of e and P*Q and store it as d\n",
    "#   * If d is negative, add the modulo to it until it is positive\n",
    "#   * Return d\n",
    "# Output:\n",
    "#   This function returns the public key d\n",
    "def Find_Private_Key_d(e, p, q):\n",
    "    \"\"\"\n",
    "    Implement this function to find the decryption exponent d, \n",
    "    such that d is the modular inverse of e. \n",
    "    \n",
    "    This will use the Extended Euclidean Algorithm\n",
    "    \n",
    "    This function should return the following:\n",
    "    d: the decryption component.\n",
    "    \n",
    "    This is not a single action, and there are multiple methods to create this. \n",
    "    \n",
    "    You may create a helper function or have all code within this function.\n",
    "    \n",
    "    Plan ahead before coding this.\n",
    "\n",
    "    \"\"\"\n",
    "    P = p - 1\n",
    "    Q = q - 1\n",
    "    d = Euclidean_Alg(e,P*Q)[1]\n",
    "    if (d < 0):\n",
    "        while(d < 0):\n",
    "            d += P*Q\n",
    "    return d"
   ]
  },
  {
   "cell_type": "markdown",
   "metadata": {},
   "source": [
    "### 3.\n",
    "#### Putting things all together.\n",
    "\n",
    "1. In this part, you will define two functions `Encode` and `Decode` which will use the public and private keys that you calculated using the above 2 functions in the second toolset.\n",
    "2. Using the public key, the `Encode` function will encode a message and generate the corresponding cipher_text.\n",
    "3. Using the private key, the `Decode` function will decode a ciper_text and recover the original message.\n",
    "\n"
   ]
  },
  {
   "cell_type": "markdown",
   "metadata": {},
   "source": [
    "<span style=\"color:red;\">Encode And Decode Algorithms</span>"
   ]
  },
  {
   "cell_type": "code",
   "execution_count": 28,
   "metadata": {},
   "outputs": [],
   "source": [
    "# Encode - Encodes a string of text from a public key e and number n\n",
    "# Input:\n",
    "#   n - Integer value that is calculated with Find_Public_Key_e\n",
    "#   e - Integer value that is calculated with Find_Public_Key_e\n",
    "#   message - Message that is fed into the algorithm to by encoded\n",
    "# Algorithm:\n",
    "#   * Create an empty array called cipher_text\n",
    "#   * Iterate over the characters in the message\n",
    "#       * Calculate the integer value of char from Convert_Text\n",
    "#       * Encode charNum with the use of FME and the value of e and n with charNum\n",
    "#       * Append this value to cipher_text\n",
    "#   * Return cipher_text\n",
    "# Output:\n",
    "#   This function returns an array of integers that represent encoded values from message\n",
    "def Encode(n,e,message):\n",
    "    \"\"\"\n",
    "    Here, the message will be a string of characters.\n",
    "    Use the function Convert_Text from \n",
    "    the basic tool set and get a list of numbers.\n",
    "    \n",
    "    Encode each of these numbers using n and e and\n",
    "    return the encoded cipher_text.\n",
    "    \"\"\"\n",
    "    cipher_text = []\n",
    "    for char in message:\n",
    "        charNum = Convert_Text(char)[0]\n",
    "        encoded = FME(charNum,e,n)\n",
    "        cipher_text.append(encoded)\n",
    "    return cipher_text"
   ]
  },
  {
   "cell_type": "code",
   "execution_count": 29,
   "metadata": {},
   "outputs": [],
   "source": [
    "# Decode - Decodes a message from an array of integers with private key d, n, and cipher_text\n",
    "# Input:\n",
    "#   n - Integer value that is calculated with Find_Public_Key_e\n",
    "#   d - Integer value that is calculated with Find_Private_Key_d\n",
    "#   cipher_text - Array of integers that represents an encoded message\n",
    "# Algorithm:\n",
    "#   * Create an empty container for the message that is to be returned\n",
    "#   * Create an empty array to store the converted integers to strings in\n",
    "#   * Iterate over the cipher_text array\n",
    "#       * Calculate the ascii code for the given string with FME\n",
    "#       * Append this ascii code to empty\n",
    "#   * Decode the ascii values with Convert_Num and assign the result to message\n",
    "#   * Return message\n",
    "# Output:\n",
    "#   This function returns the decoded message from cipher_text with private key d and n\n",
    "def Decode(n,d,cipher_text):\n",
    "    \"\"\"\n",
    "    Here, the cipher_text will be a list of integers.\n",
    "    First, you will decrypt each of those integers using \n",
    "    n and d.\n",
    "    \n",
    "    Later, you will need to use the function Convert_Num from the \n",
    "    basic toolset to recover the original message as a string. \n",
    "    \n",
    "    \"\"\"\n",
    "    message = ''\n",
    "    empty = []\n",
    "    for num in cipher_text:\n",
    "        numVal = FME(num,d,n)\n",
    "        empty.append(numVal)\n",
    "    message = Convert_Num(empty)\n",
    "    return message"
   ]
  },
  {
   "cell_type": "markdown",
   "metadata": {
    "tags": []
   },
   "source": [
    "### 4.  Create a Demo \n",
    "This is a **step-by-step** guide to using your code with a specific example that we can follow using the functions you have created above in a mix of code and text blocks. \n",
    "\n",
    "**This is essentially a test that demonstates that your code works and how it works. You will call the functions above. You are not using a main function or custom feature here - just calling the functions.**\n",
    "\n",
    "Imagine you are showing me how you code works in person. \n",
    "Your function calls show how it works with an example.\n",
    "You text s what you would say to me.\n",
    "\n",
    "It is mix of code blocks and **text blocks** and must discuss all three parts of the project for full credit. You must **show and explain your method and demonstrate (by calling your function as an example.** for generating keys and how your encoding and decoding functions work. \n",
    "\n",
    "\n",
    "* Generate keys. \n",
    "\n",
    "* Encode a message.\n",
    "\n",
    "* Decode the same message. \n"
   ]
  },
  {
   "cell_type": "markdown",
   "metadata": {},
   "source": [
    "<span style=\"color:red;\">Demo</span>"
   ]
  },
  {
   "cell_type": "code",
   "execution_count": 30,
   "metadata": {},
   "outputs": [
    {
     "name": "stdout",
     "output_type": "stream",
     "text": [
      "Public key e = 7\n",
      "n value = 5381387362291970723\n",
      "Private key d = 1537539244950834343\n",
      "Encoded text = [29509034655744, 131593177923584, 140710042265625, 266001988046875, 34359738368, 140710042265625, 266001988046875, 34359738368, 80798284478113, 34359738368, 282621973446656, 107213535210701, 266001988046875, 282621973446656, 34359738368, 207616015289871, 114868566764928, 34359738368, 24928547056768, 27136050989627, 4902227890625, 34359738368, 114868566764928, 207616015289871, 250226879128704, 34359738368, 282621973446656, 131593177923584, 140710042265625, 266001988046875, 34359738368, 221068140740608, 250226879128704, 207616015289871, 150363025899136, 107213535210701, 93206534790699, 282621973446656, 435817657216]\n",
      "Decoded text = This is a test of RSA for this project.\n"
     ]
    }
   ],
   "source": [
    "testMessage = \"This is a test of RSA for this project.\" # Test message\n",
    "p = 1599380351 # Prime number 1\n",
    "q = 3364670173 # Prime number 2\n",
    "Public_Key = Find_Public_Key_e(p,q) # Generate public keys from p and q\n",
    "for i in range(len(Public_Key)):\n",
    "    if (i == 0):\n",
    "        print(f\"Public key e = {Public_Key[i]}\")\n",
    "    else:\n",
    "        print(f\"n value = {Public_Key[i]}\")\n",
    "Private_Key = Find_Private_Key_d(Public_Key[0],p,q) # Generate private keys from e, p, and q\n",
    "print(f\"Private key d = {Private_Key}\")\n",
    "Encoded = Encode(Public_Key[1],Public_Key[0],testMessage) # Generate encoded text\n",
    "print(f\"Encoded text = {Encoded}\")\n",
    "Decoded = Decode(Public_Key[1],Private_Key,Encoded)\n",
    "print(f\"Decoded text = {Decoded}\")"
   ]
  },
  {
   "cell_type": "markdown",
   "metadata": {},
   "source": [
    "<span style=\"color:red;\">Demo Explanation</span>\n",
    "\n",
    "\n",
    "The above involves the test message \"This is a test of RSA for this project.\". The prime numbers used in this example are p = 1599380351 and q = 3364670173. We then\n",
    "\n",
    "* Calculate The Public Key e And n Value:\n",
    "    * The public key in this case is e = 7\n",
    "    * The value for n in this case is n = 5381387362291970723\n",
    "* Calculate The Private Key d:\n",
    "    * The private key in this case is d = 1537539244950834343\n",
    "* Encode The Message:\n",
    "    * The array of integers that represents this encoded message is: [29509034655744, 131593177923584, 140710042265625, 266001988046875, 34359738368, 140710042265625, 266001988046875, 34359738368, 80798284478113, 34359738368, 282621973446656, 107213535210701, 266001988046875, 282621973446656, 34359738368, 207616015289871, 114868566764928, 34359738368, 24928547056768, 27136050989627, 4902227890625, 34359738368, 114868566764928, 207616015289871, 250226879128704, 34359738368, 282621973446656, 131593177923584, 140710042265625, 266001988046875, 34359738368, 221068140740608, 250226879128704, 207616015289871, 150363025899136, 107213535210701, 93206534790699, 282621973446656, 435817657216]\n",
    "* Decode The Message:\n",
    "    * The decoded message is then: This is a test of RSA for this project.\n",
    "\n",
    "Here I have correctly generated public and private keys, encoded a message, and in turn decoded the message from these keys, the encoded message, and the n value."
   ]
  },
  {
   "cell_type": "markdown",
   "metadata": {},
   "source": [
    "### 5. Code Exchange\n",
    "Now that your code is working and you are able read and write message, include 3 complete examples of exhanging code from Piazza here. Put BOTH the code and solutions here. "
   ]
  },
  {
   "cell_type": "markdown",
   "metadata": {},
   "source": [
    "<span style=\"color:red;\">Derek Larson Response</span>\n",
    "\n",
    "The public key and value of n are: n = 1649, e = 115\n",
    "\n",
    "The private key and value of n are: n = 1649, d = 187\n",
    "\n",
    "The encoded message is: [155, 203, 1095, 23, 497, 825, 497, 203, 203, 825, 27, 1105, 825, 1095, 1096, 27, 497, 825, 1095, 1096, 27, 716, 188, 825, 1530, 1154, 317, 890, 497, 1507, 825, 1147, 1096, 776, 1095, 23, 497, 825, 722, 1154, 536, 317, 825, 1105, 776, 815, 1154, 317, 27, 1095, 203, 825, 1476, 27, 571, 571, 776, 825, 1095, 1154, 1476, 1476, 27, 716, 188, 504]\n",
    "\n",
    "The code for generating a response to this can be seen below:"
   ]
  },
  {
   "cell_type": "code",
   "execution_count": 31,
   "metadata": {},
   "outputs": [
    {
     "name": "stdout",
     "output_type": "stream",
     "text": [
      "Let's see if this thing works. What's your favorite pizza topping?\n",
      "[816, 203, 1105, 27, 716, 27, 1095, 203, 607, 722, 825, 489, 776, 607, 203, 1476, 203, 716, 1154, 497, 1507, 825, 1315, 1105, 825, 716, 1154, 1095, 825, 489, 776, 607, 203, 1476, 203, 716, 1154, 497, 31, 825, 1262, 776, 716, 776, 716, 776, 825, 1476, 203, 1476, 1476, 203, 317, 497, 1308]\n"
     ]
    }
   ],
   "source": [
    "secretMessage = [155, 203, 1095, 23, 497, 825, 497, 203, 203, 825, 27, 1105, 825, 1095, 1096, 27, 497, 825, 1095, 1096, 27, 716, 188, 825, 1530, 1154, 317, 890, 497, 1507, 825, 1147, 1096, 776, 1095, 23, 497, 825, 722, 1154, 536, 317, 825, 1105, 776, 815, 1154, 317, 27, 1095, 203, 825, 1476, 27, 571, 571, 776, 825, 1095, 1154, 1476, 1476, 27, 716, 188, 504]\n",
    "print(Decode(1649,187,secretMessage))\n",
    "responseMessage = \"Definitely jalepenos. If not jalepenos, banana peppers!\"\n",
    "print(Encode(1649,115,responseMessage))"
   ]
  },
  {
   "cell_type": "markdown",
   "metadata": {},
   "source": [
    "<span style=\"color:red;\">Thomas Dunn Response</span>\n",
    "\n",
    "The public key and value of n are: n = 94043, e = 77893\n",
    "\n",
    "The private key and value of n are: n = 94043, d = 59245\n",
    "\n",
    "The encoded message is: [4601, 88511, 36234, 52588, 27051, 75635, 15375, 52588, 68716, 67855, 75635, 27451, 52588, 70258, 51010, 60685, 70258, 52588, 70258, 51010, 20485, 52588, 86547, 60685, 9881, 20485, 52588, 82631, 73433, 47782, 52588, 56805, 74324, 75635, 49971, 74324, 60685, 9881, 52588, 27451, 75635, 74324, 68716, 86547, 52588, 27451, 88511, 70258, 51010, 52588, 36234, 88511, 92225, 92225, 20485, 74324, 20485, 67855, 70258, 52588, 45073, 60685, 67855, 49971, 15375, 60685, 49971, 20485, 86547, 92575, 52588, 52588, 59141, 75635, 15375, 52588, 23650, 15375, 86547, 70258, 52588, 67855, 20485, 20485, 36234, 52588, 45073, 60685, 74324, 49971, 20485, 74324, 52588, 56805, 74324, 88511, 9881, 20485, 86547, 83986, 52588, 52588, 54495, 14902, 33964, 52588, 77050, 12248, 29183, 16531, 51881, 47024, 35193, 51881, 46292, 67886, 35193, 34047, 83986]\n",
    "\n",
    "The code for generating a response to this can be seen below:"
   ]
  },
  {
   "cell_type": "code",
   "execution_count": 32,
   "metadata": {},
   "outputs": [
    {
     "name": "stdout",
     "output_type": "stream",
     "text": [
      "Did you know that the same RSA program works with different languages?  You just need larger primes!  你好！ Здравствуйте!\n",
      "[60136, 52588, 36234, 88511, 36234, 52588, 67855, 75635, 70258, 52588, 68716, 67855, 75635, 27451, 52588, 70258, 51010, 88511, 86547, 83986, 52588, 60136, 52588, 88511, 9881, 60685, 49971, 88511, 67855, 20485, 52588, 70258, 51010, 60685, 70258, 52588, 27051, 75635, 15375, 52588, 51010, 60685, 18433, 20485, 52588, 70258, 75635, 52588, 15375, 86547, 20485, 52588, 36234, 88511, 92225, 92225, 20485, 74324, 20485, 67855, 70258, 52588, 60685, 86547, 6433, 88511, 88511, 52588, 6433, 75635, 36234, 20485, 86547, 52588, 92225, 75635, 74324, 52588, 6433, 51010, 60685, 74324, 60685, 6433, 70258, 20485, 74324, 86547, 52588, 88511, 67855, 52588, 75635, 70258, 51010, 20485, 74324, 52588, 45073, 60685, 67855, 49971, 15375, 60685, 49971, 20485, 86547, 61112, 52588, 51122, 15375, 70258, 52588, 70258, 51010, 88511, 86547, 52588, 88511, 86547, 52588, 56805, 74324, 20485, 70258, 70258, 27051, 52588, 6433, 75635, 75635, 45073, 52588, 74324, 20485, 49971, 60685, 74324, 36234, 45073, 20485, 86547, 86547, 83986]\n"
     ]
    }
   ],
   "source": [
    "secretMessage = [4601, 88511, 36234, 52588, 27051, 75635, 15375, 52588, 68716, 67855, 75635, 27451, 52588, 70258, 51010, 60685, 70258, 52588, 70258, 51010, 20485, 52588, 86547, 60685, 9881, 20485, 52588, 82631, 73433, 47782, 52588, 56805, 74324, 75635, 49971, 74324, 60685, 9881, 52588, 27451, 75635, 74324, 68716, 86547, 52588, 27451, 88511, 70258, 51010, 52588, 36234, 88511, 92225, 92225, 20485, 74324, 20485, 67855, 70258, 52588, 45073, 60685, 67855, 49971, 15375, 60685, 49971, 20485, 86547, 92575, 52588, 52588, 59141, 75635, 15375, 52588, 23650, 15375, 86547, 70258, 52588, 67855, 20485, 20485, 36234, 52588, 45073, 60685, 74324, 49971, 20485, 74324, 52588, 56805, 74324, 88511, 9881, 20485, 86547, 83986, 52588, 52588, 54495, 14902, 33964, 52588, 77050, 12248, 29183, 16531, 51881, 47024, 35193, 51881, 46292, 67886, 35193, 34047, 83986]\n",
    "print(Decode(94043,59245,secretMessage))\n",
    "responseMessage = \"I did not know this! I imagine that you have to use different ascii codes for characters in other languages. But this is pretty cool regardless!\"\n",
    "print(Encode(94043,77893,responseMessage))"
   ]
  },
  {
   "cell_type": "markdown",
   "metadata": {},
   "source": [
    "<span style=\"color:red;\">Personal Post</span>\n",
    "\n",
    "The original post is: I'm a team from Mile High, My uniforms are orange and blue, My fans often chant In-Com-Plete, A franchise orchestrated with a coach that is new. With a horse in my name, I proudly stand, In Denver's heart, across the land.\n",
    "\n",
    "The primes that were used to generate these keys and the message are:\n",
    "\n",
    "p = 26107057872784305673\n",
    "\n",
    "q = 75432624068748034463\n",
    "\n",
    "The keys that are generated for this are:\n",
    "\n",
    "n = 1969323882058787277298186868172930408599, e = 5, d = 393864776411757455439329437246279613693\n",
    "\n",
    "The encoded message is then: [2073071593, 90224199, 15386239549, 33554432, 8587340257, 33554432, 21003416576, 10510100501, 8587340257, 15386239549, 33554432, 11040808032, 19254145824, 16850581551, 15386239549, 33554432, 2706784157, 12762815625, 14693280768, 10510100501, 33554432, 1934917632, 12762815625, 11592740743, 12166529024, 164916224, 33554432, 4984209207, 12762815625, 21003416576, 12166529024, 33554432, 8587340257, 33554432, 12166529024, 16850581551, 19254145824, 20113571875, 10510100501, 33554432, 12762815625, 16105100000, 33554432, 15386239549, 25937424601, 33554432, 16105100000, 8587340257, 15386239549, 10510100501, 164916224, 33554432, 2073071593, 33554432, 17623416832, 19254145824, 16850581551, 21924480357, 10000000000, 14693280768, 25937424601, 33554432, 20113571875, 21003416576, 8587340257, 16105100000, 10000000000, 164916224, 33554432, 2073071593, 16105100000, 33554432, 1453933568, 10510100501, 16105100000, 22877577568, 10510100501, 19254145824, 90224199, 20113571875, 33554432, 12166529024, 10510100501, 8587340257, 19254145824, 21003416576, 164916224, 33554432, 8587340257, 9509900499, 19254145824, 16850581551, 20113571875, 20113571875, 33554432, 21003416576, 12166529024, 10510100501, 33554432, 14693280768, 8587340257, 16105100000, 10000000000, 205962976]"
   ]
  },
  {
   "cell_type": "code",
   "execution_count": 33,
   "metadata": {},
   "outputs": [
    {
     "name": "stdout",
     "output_type": "stream",
     "text": [
      "Public key e = 5, n value = 1969323882058787277298186868172930408599\n",
      "Private key d = 393864776411757455439329437246279613693\n",
      "Encoded message: [2073071593, 90224199, 15386239549, 33554432, 8587340257, 33554432, 21003416576, 10510100501, 8587340257, 15386239549, 33554432, 11040808032, 19254145824, 16850581551, 15386239549, 33554432, 2706784157, 12762815625, 14693280768, 10510100501, 33554432, 1934917632, 12762815625, 11592740743, 12166529024, 164916224, 33554432, 4984209207, 12762815625, 21003416576, 12166529024, 33554432, 8587340257, 33554432, 12166529024, 16850581551, 19254145824, 20113571875, 10510100501, 33554432, 12762815625, 16105100000, 33554432, 15386239549, 25937424601, 33554432, 16105100000, 8587340257, 15386239549, 10510100501, 164916224, 33554432, 2073071593, 33554432, 17623416832, 19254145824, 16850581551, 21924480357, 10000000000, 14693280768, 25937424601, 33554432, 20113571875, 21003416576, 8587340257, 16105100000, 10000000000, 164916224, 33554432, 2073071593, 16105100000, 33554432, 1453933568, 10510100501, 16105100000, 22877577568, 10510100501, 19254145824, 90224199, 20113571875, 33554432, 12166529024, 10510100501, 8587340257, 19254145824, 21003416576, 164916224, 33554432, 8587340257, 9509900499, 19254145824, 16850581551, 20113571875, 20113571875, 33554432, 21003416576, 12166529024, 10510100501, 33554432, 14693280768, 8587340257, 16105100000, 10000000000, 205962976]\n",
      "Decoded message: I'm a team from Mile High, With a horse in my name, I proudly stand, In Denver's heart, across the land.\n"
     ]
    }
   ],
   "source": [
    "secretMessage = \"I'm a team from Mile High, With a horse in my name, I proudly stand, In Denver's heart, across the land.\"\n",
    "p = 26107057872784305673\n",
    "q = 75432624068748034463\n",
    "publicKey = Find_Public_Key_e(p,q)\n",
    "e = publicKey[0]\n",
    "n = publicKey[1]\n",
    "print(f\"Public key e = {e}, n value = {n}\")\n",
    "d = Find_Private_Key_d(e,p,q)\n",
    "print(f\"Private key d = {d}\")\n",
    "encoded = Encode(n,e,secretMessage)\n",
    "print(f\"Encoded message: {encoded}\")\n",
    "print(f\"Decoded message: {Decode(n,d,encoded)}\")"
   ]
  },
  {
   "cell_type": "markdown",
   "metadata": {},
   "source": [
    "### 6. Write a Narrative (TWO pages of meaningful narrative about your process - not including the examples - about 800 words) here in this block.\n",
    "\n",
    "* Describe your process. Did you plan ahead? Did you wing it? Do you wish you'd planned ahead more?\n",
    "\n",
    "* Describe the results of exchanging keys and codes with classmates. Did it work the first time or did you need to make adjustments.Describe your process. Did you plan ahead? Did you wing it? Do you wish you'd planned ahead more?\n",
    "\n",
    "* What was most challenging? \n",
    "\n",
    "* Who helped you with your project?  Which resources were most helpful?\n",
    "\n",
    "* What was your Best Mistake? (funniest? most frustrating? the one you learned the most from?)\n",
    "\n",
    "\n"
   ]
  },
  {
   "cell_type": "markdown",
   "metadata": {},
   "source": [
    "<span style=\"color:red;\">RSA Narrative</span>\n",
    "\n",
    "During the process of completing this project I had to formulate a game plan as to how to complete each part of the project. I first started making the necessary components of the project by completing the problems in the mastery workbooks. I originally made an FME algorithm that was recursive (of which I did not initially know was acceptable) and then learned that it was not allowed. So, I had to go back to the drawing board and rewrite my algorithm so that it matched the one from Rosen. I am more inclined to use recursive algorithms when possible because of the difficulty for outsiders who may plan to copy my code at some point. Plus I really think recursion is cool and thus why I prefer.\n",
    "\n",
    "After completing the FME algorithm I moved on to completing the EEA algorithm. Both of these algorithms are imperative to RSA's success and so I spent a lot of time making sure that they did what they needed to do. Upon completing each algorithm, I first checked simple problems by hand to make sure that they were working in the way that they were intended to work. This enabled me to make sure that my algorithms were correct. I then scoured the internet to find resources that would allow me to check more complicated examples. For the FME algorithm I used a resource at (https://www.omnicalculator.com/math/power-modulo) to work on more complicated examples. Once the results that I input online were matching with that of my algorithm I had full confidence that my algorithm was correct.\n",
    "\n",
    "I then moved on to checking that my EEA algorithm was working the way that I had hoped. At first I worked with simple examples and checked again that what I was putting into my EEA was correct by checking it by hand. Once I got the simple examples were working (I primarily checked my examples with my work from the mastery workbook problems) and then moved on to finding resources online that could handle more complicated computations. For the EEA I used a resource at (https://planetcalc.com/8586/) to check more complicated examples with my custom EEA. After completing this process I moved on to working on the functions inside the Jupyter notebook so that they could all be pieced together. \n",
    "\n",
    "After the FME and EEA algorithms were completed I moved on to the algorithms that were inside the mastery workbook. Before I put my finished code for each algorithm I made a separate Python file that contained the necessary components from previous algorithms so that they could be tested with the new one that I was currently working on. The first three algorithms, Convert_Text, Convert_Num, and Convert_Binary_String were rather easy for me to complete. At first I was trying to code Convert_Text manually instead of using ord() and this was a big mistake for me. I was trying to construct arrays, dictionaries, and other containers that could be used to store ascii codes with certain containers and that was a nightmare for me. I then went back to the comments in the notebook and researched what ord did in the context in Python and I was able to complete the first algorithm after that. Completing Convert_Num was rather simple with the use of chr and then the last basic algorithm that I needed to complete was Convert_Binary_String and this leads to my funniest mistake that I made in the project.\n",
    "\n",
    "I am good at a lot of things but one thing that I am subpar in is reading directions. This proved to be a big achilles heal to me as I spent a copious amount of time hand coding a decimal to binary algorithm. I cannot understate how long I spent on this one algorithm alone. I had no idea how to get it to work, I had no idea what to store the result in at first, and I had no idea how to even begin. So I referenced Rosen and was able to get on track with the pseudo code that was provided to me. Upon completing the algorithm originally I noticed that my digits were in reverse order. Thankfully I had spent a lot of time in Python in my past when I was a physicist and was able to quickly reverse the string that I was working with inside the algorithm. After completing the algorithm and then putting it inside my notebook I noticed that we were allowed to use bin in this function and I let out an audible groan after all the time that I had spent coding my algorithm. After this algorithm I made sure to read the instructions before starting my algorithms and the rest of the product went pretty smoothly from there.\n",
    "\n",
    "I then proceed to complete the remaining algorithms with a lot less effort and was able to get my code working where I could accurately produce keys, encode a message, and decode a message that was given to me. At this point I was now ready to start exchanging keys and codes with classmates. Upon getting all of the algorithms complete the first message that I attempted to decrypt was the one that Professor Stade posted that was supposed to say \"Hello Earth\". Upon putting all of the necessary information into my IDE I was jumping with joy to see that my code was actually working. This then enabled me to go to other threads and check that my code was working with other people's posts. In the first thread that involved students posting both their public and private keys with their cipher text, I was able to decode the messages with relative ease and it wasn't too hard for me to produce a response. After I had confidence that I was able to decode people's posts with ease I moved on to producing my own post. I wanted to be a little bit different and test the limitations of RSA so I found a resource at (https://bigprimes.org/) that allowed me to produce very large primes. I believe that some people may have been a little apprehensive in decoding my message because of the size of keys but people who did not respond to the post on Piazza said that they were able to decode my post and that gave me confidence that my algorithms were working.\n",
    "\n",
    "After posting and responding to messages in Piazza in the public thread I moved on to breaking codes in its respective thread. This was more challenging for me because I was unable to decrypt some peoples posts but upon with consulting with other students I found out that they were having the same problem. I had to baseline my code breaking with an example that I knew was most likely correct. So, I broke the code that was posted by Professor Stade and I was able to successfully break it so I knew what I was doing was most likely correct. I did have a mistake in my Find_Private_Key_d function in how I was handling the generation of d when the original was negative. Originally I was just returning the other Bezout coefficient but upon consulting with Professor Stade I realized that was incorrect and I had to go back to the drawing board. I then changed my code so that it added the modulo value to d until it was positive and returned that key after. Upon fixing my code I was able to break other students code and had an efficient and correct process for breaking code.\n",
    "\n",
    "Overall I really enjoyed this project and was very happy with the results that were produced upon completing it. This is by far one of my favorite projects that I have worked on and I am very happy that I got an opportunity to do so."
   ]
  },
  {
   "cell_type": "markdown",
   "metadata": {},
   "source": [
    "### 7. FME Exploration - (CODE INTERVIEW type question)\n",
    "\n",
    "\n",
    "\n",
    "* Explain in detail why RSA needs to use an FME function and cannot just simply use the Python Mod function % .\n",
    "\n",
    "* Provide some specific examples and/or include chart and graphs. \n",
    "\n",
    "* You may use your arguments/work from the Number Theory Mastery Workbook.\n",
    "\n",
    "\n"
   ]
  },
  {
   "cell_type": "markdown",
   "metadata": {},
   "source": [
    "<span style=\"color:red;\">FME Exploration</span>\n",
    "\n",
    "For starters, the reason why RSA needs to use FME over just the Python Mod function is because RSA works with very large numbers. FME is more efficient than Python's mod function because calculating the modulo of very large numbers requires a lot of computations. When dealing with very large numbers Python's regular mod function would take a long time to compute because of its limitations. On the other hand FME can calculate these results much faster and more securely.\n",
    "\n",
    "FME also calculates a number raised to another power and then modulo'd with another. This also adds a level of security when producing keys that are hard for others to crack and break the encryption. Because of the previous two reasons; less computations and safer key generation RSA is a more optimal choice for calculating keys and whatnot.\n",
    "\n",
    "Take for instance the calculation of $15^{1234} \\text{ mod } 37 $ with the mod function in Python and FME. "
   ]
  },
  {
   "cell_type": "code",
   "execution_count": 34,
   "metadata": {},
   "outputs": [
    {
     "name": "stdout",
     "output_type": "stream",
     "text": [
      "Regular mod calculation: 4.1484832763671875e-05 seconds.\n",
      "FME calculation: 1.0967254638671875e-05 seconds.\n"
     ]
    }
   ],
   "source": [
    "import time\n",
    "start_time1 = time.time()\n",
    "15**1234 % 37\n",
    "end_time1 = time.time()\n",
    "elapsed_time1 = end_time1 - start_time1\n",
    "FME(15,1234,37)\n",
    "start_time2 = time.time()\n",
    "end_time2 = time.time()\n",
    "elapsed_time2 = end_time2 - start_time2\n",
    "\n",
    "print(f\"Regular mod calculation: {elapsed_time1} seconds.\")\n",
    "print(f\"FME calculation: {elapsed_time2} seconds.\")"
   ]
  },
  {
   "cell_type": "markdown",
   "metadata": {},
   "source": [
    "We can see for this simple example that FME is around 10 times faster than the regular Python mod function. This discrepancy will increase for larger numbers and that is a big reason why we should use FME instead of just mod in Python."
   ]
  },
  {
   "cell_type": "markdown",
   "metadata": {},
   "source": [
    "## CODE BREAKING ##\n",
    "\n",
    "This section of the project is only available to students exchanging codes by the Friday (midnight) before the project is due.\n",
    "\n",
    "After you have tested your RSA package yourself, and tested it with classmates by publishing both the private and public keys on Piazza, post 2 messages with just the public keys for people to break on the \"Just Public Keys\" thread - use both very small n ‘s (under 1000) for practice, and some with a challenge.\n",
    "\n",
    "\n",
    "**Implementing a factoring algorithm:**\n",
    "\n",
    "Begin by coding the basic brute force factorization algorithm given in pseudocode below.\n",
    "\n",
    "Brute Force Factoring\n",
    "<pre><code>def factorize(n):\n",
    "    # n is a number, return the smallest factor of n\n",
    "    for i from 2 to n-1:\n",
    "        if i divides n:\n",
    "            return i\n",
    "        return FALSE\n",
    "        </code></pre>\n"
   ]
  },
  {
   "cell_type": "markdown",
   "metadata": {},
   "source": [
    "<span style=\"color:red;\">Brute Force Factorization Algorithm</span>"
   ]
  },
  {
   "cell_type": "code",
   "execution_count": 35,
   "metadata": {},
   "outputs": [],
   "source": [
    "# factorize - Factors an integer n\n",
    "# Input:\n",
    "#   n - Integer value that is being factored\n",
    "# Algorithm:\n",
    "#   * Iterate from 2 to one less than the value of n\n",
    "#       * Check if the modulo of n and i is zero, if it is return the factors of both\n",
    "#   * Otherwise continue to the next number\n",
    "# Output:\n",
    "#   This function returns an array of integers that represents the factors of n if n isn't prime\n",
    "def factorize(n):\n",
    "    for i in range(2,n-1):\n",
    "        if (n % i == 0):\n",
    "            return [i,n // i]\n",
    "        else:\n",
    "            continue"
   ]
  },
  {
   "cell_type": "markdown",
   "metadata": {
    "tags": []
   },
   "source": [
    "### 8. How to Break Code. \n",
    "* Explain in detail how breaking works in this text block. \n",
    "* What are the complete steps? What tools do you need?\n",
    "* How secure is RSA? Why is it difficult to break codes in RSA? \n",
    "* Is our implementation of RSA secure? What are it's flaws?\n",
    "\n",
    "\n",
    "\n",
    "\n",
    "\n",
    "\n",
    "\n"
   ]
  },
  {
   "cell_type": "markdown",
   "metadata": {},
   "source": [
    "<span style=\"color:red;\">Breaking Code</span>\n",
    "\n",
    "To break the code, we need to calculate the factors of n that are generated in the RSA process. If we are able to find the values of p and q (the factors of n), then we can calculate the private key d and thus decrypt a message.\n",
    "\n",
    "First we start by factoring n. Once we have the factors of n, we call the Find_Private_Key_d function to calculate the private key for this message. When we have d, we proceed to decode the message with the Decode function with the cipher text that was \"intercepted\" in this process. After this, we know what the message is and have successfully broke the encryption.\n",
    "\n",
    "RSA is overall very secure compared to other encryption methods. It is hard to break codes in RSA because of the size of n that is typically produced. Even though we could theoretically break n if we had infinite time, that is not practical in the real world. Because of the size of the numbers that we are working with RSA, it would take a very long time to actually break the code. \n",
    "\n",
    "I think for the most part that our implementation of RSA is secure. As long as we are using primes p and q that are large enough, the brute force breaking of the code would be very hard. The way that we are generating the cipher text could be considered a flaw. This is because each element in the array of the cipher text is one character. If we made it so that it was more characters (thus being represented by different integers) it could possibly be more difficult to break. This to me is the biggest flaw in our implementation and in turn would be something that I would change to use somewhere else."
   ]
  },
  {
   "cell_type": "markdown",
   "metadata": {},
   "source": [
    "### 9. Decode!  Use a mix of text and code blocks\n",
    "\n",
    "* Decode one example from Piazza in detial showing all the steps.\n",
    "* Decode and Respond to 3 \"just codes with public keys\" in Piazza with different sizes of n. Include complete results here.\n",
    "* What did you notice about larger n s?\n"
   ]
  },
  {
   "cell_type": "markdown",
   "metadata": {},
   "source": [
    "<span style=\"color:red;\">Decoding Responses</span>\n",
    "\n",
    "For large n's, it takes a lot longer to factor them. This feeds into the idea of why RSA is so secure because these values are typically very large and hard to crack."
   ]
  },
  {
   "cell_type": "markdown",
   "metadata": {},
   "source": [
    "<span style=\"color:red;\">Decoding Example With All Steps</span>\n",
    "\n",
    "The first example that I am going to decode is from <span style=\"color:red;\">Ashely Montgomery</span>.\n",
    "\n",
    "n value = 779\n",
    "\n",
    "Public key e = 253\n",
    "\n",
    "Cipher = [752, 643, 32, 254, 643, 345, 32, 100, 643, 114, 373, 32, 523, 604, 32, 211, 461, 461, 523, 439, 523, 643, 604, 32, 439, 643, 32, 439, 211, 373, 523, 604, 46, 32, 555, 773, 211, 20, 20, 671, 20, 272, 32, 73, 159, 32, 20, 643, 120, 32, 100, 313, 211, 439, 32, 461, 643, 32, 254, 643, 345, 32, 461, 643, 272]\n",
    "\n",
    "I will now show the steps to break this code:"
   ]
  },
  {
   "cell_type": "code",
   "execution_count": 36,
   "metadata": {},
   "outputs": [
    {
     "name": "stdout",
     "output_type": "stream",
     "text": [
      "The first factor is 19 and the second factor is 41.\n",
      "The private key for this is d = 37.\n",
      "The decoded message is then: Do you work in addition to taking classes? If so, what do you do?\n",
      "The encoded response is then: [545, 671, 20, 32, 73, 32, 461, 643, 32, 100, 643, 114, 373, 717, 32, 73, 32, 100, 643, 114, 373, 32, 211, 439, 32, 73, 604, 439, 671, 773, 32, 211, 604, 461, 32, 73, 32, 14, 211, 604, 211, 46, 671, 32, 211, 32, 439, 643, 643, 773, 32, 20, 671, 439, 32, 439, 313, 211, 439, 32, 523, 20, 32, 345, 20, 671, 461, 32, 439, 643, 32, 523, 604, 20, 321, 671, 555, 439, 32, 555, 313, 523, 321, 20, 32, 439, 313, 211, 439, 32, 211, 114, 671, 32, 611, 671, 523, 604, 46, 32, 14, 211, 604, 345, 159, 211, 555, 439, 345, 114, 671, 461, 654]\n"
     ]
    }
   ],
   "source": [
    "n = 779\n",
    "e = 253\n",
    "cipher = [752, 643, 32, 254, 643, 345, 32, 100, 643, 114, 373, 32, 523, 604, 32, 211, 461, 461, 523, 439, 523, 643, 604, 32, 439, 643, 32, 439, 211, 373, 523, 604, 46, 32, 555, 773, 211, 20, 20, 671, 20, 272, 32, 73, 159, 32, 20, 643, 120, 32, 100, 313, 211, 439, 32, 461, 643, 32, 254, 643, 345, 32, 461, 643, 272]\n",
    "factored = factorize(n)\n",
    "p = factored[0]\n",
    "q = factored[1]\n",
    "print(f\"The first factor is {p} and the second factor is {q}.\")\n",
    "d = Find_Private_Key_d(e,p,q)\n",
    "print(f\"The private key for this is d = {d}.\")\n",
    "decoded = Decode(n,d,cipher)\n",
    "print(f\"The decoded message is then: {decoded}\")\n",
    "responseMessage = \"Yes I do work! I work at Intel and I manage a tool set that is used to inspect chips that are being manufactured.\"\n",
    "encodedResponse = Encode(n,e,responseMessage)\n",
    "print(f\"The encoded response is then: {encodedResponse}\")"
   ]
  },
  {
   "cell_type": "markdown",
   "metadata": {},
   "source": [
    "The private key for this value of n came out to be 37 where the factors of n were found to be 19 and 41.\n",
    "\n",
    "The decoded message that Ashley posted was \"Do you work in addition to taking classes? If so, what do you do?\". I then responded with \"Yes I do work! I work at Intel and I manage a tool set that is used to inspect chips that are being manufactured.\". This then produced the cipher text \"[545, 671, 20, 32, 73, 32, 461, 643, 32, 100, 643, 114, 373, 717, 32, 73, 32, 100, 643, 114, 373, 32, 211, 439, 32, 73, 604, 439, 671, 773, 32, 211, 604, 461, 32, 73, 32, 14, 211, 604, 211, 46, 671, 32, 211, 32, 439, 643, 643, 773, 32, 20, 671, 439, 32, 439, 313, 211, 439, 32, 523, 20, 32, 345, 20, 671, 461, 32, 439, 643, 32, 523, 604, 20, 321, 671, 555, 439, 32, 555, 313, 523, 321, 20, 32, 439, 313, 211, 439, 32, 211, 114, 671, 32, 611, 671, 523, 604, 46, 32, 14, 211, 604, 345, 159, 211, 555, 439, 345, 114, 671, 461, 654]\"."
   ]
  },
  {
   "cell_type": "markdown",
   "metadata": {},
   "source": [
    "The second example that I am going to decode is from <span style=\"color:red;\">Professor Stade</span>.\n",
    "\n",
    "n value = 703\n",
    "\n",
    "Public key e = 113\n",
    "\n",
    "Cipher = [544, 472, 233, 242, 250, 555, 591, 550, 376, 364, 210, 165, 526, 47, 555, 95, 476, 210, 242, 165, 95, 233, 526, 210, 376, 95, 233, 242, 364, 210, 242, 224, 376, 95, 364, 233, 47, 242, 210, 555, 376, 165, 472, 242, 555, 410, 242, 250, 95, 233, 233, 47, 145]"
   ]
  },
  {
   "cell_type": "code",
   "execution_count": 37,
   "metadata": {},
   "outputs": [
    {
     "name": "stdout",
     "output_type": "stream",
     "text": [
      "The Conquistador's treasure is buried south of Creed.\n",
      "[116, 526, 210, 242, 526, 591, 581, 555, 591, 233, 242, 90, 555, 555, 160, 233, 47, 242, 591, 555, 95, 165, 472, 242, 555, 410, 242, 250, 95, 233, 233, 47, 195]\n"
     ]
    }
   ],
   "source": [
    "n = 703\n",
    "e = 113\n",
    "cipher = [544, 472, 233, 242, 250, 555, 591, 550, 376, 364, 210, 165, 526, 47, 555, 95, 476, 210, 242, 165, 95, 233, 526, 210, 376, 95, 233, 242, 364, 210, 242, 224, 376, 95, 364, 233, 47, 242, 210, 555, 376, 165, 472, 242, 555, 410, 242, 250, 95, 233, 233, 47, 145]\n",
    "factored = factorize(n)\n",
    "p = factored[0]\n",
    "q = factored[1]\n",
    "d = Find_Private_Key_d(e,p,q)\n",
    "decoded = Decode(n,d,cipher)\n",
    "print(f\"{decoded}\")\n",
    "encodedResponse = \"Has anyone looked north of Creed?\"\n",
    "encoded = Encode(n,e,encodedResponse)\n",
    "print(f\"{encoded}\")"
   ]
  },
  {
   "cell_type": "markdown",
   "metadata": {},
   "source": [
    "The third example that I am going to decode is from <span style=\"color:red;\">Thomas Dunn</span>.\n",
    "\n",
    "n value = 29917061\n",
    "\n",
    "Public key e = 8684999\n",
    "\n",
    "Cipher = [22287915, 9078012, 17453490, 17453490, 14264532, 24523837, 985919, 6341542, 17441500, 5831276, 9066565, 12008286, 9078012, 6341542, 9066565, 985919, 6341542, 17441500, 5831276, 29026233, 29334782, 28836202, 29334782, 25597531, 14264532, 6341542, 12008286, 14264532, 6341542, 11639104, 28836202, 7800891, 29026233, 5831276, 9066565, 20457492, 9078012, 15992531, 6341542, 6341542, 24846263, 12106619, 29650399, 23100921, 13584848, 9668251, 18965502, 15992531, 6341542, 6341542, 15697184, 3102918, 28836202, 17453490, 28615097, 985919, 6341542, 15697184, 29026233, 12008286, 12008286, 14264532, 6341542, 15697184, 15040546, 20457492, 29026233, 17453490, 9078012, 22072925]"
   ]
  },
  {
   "cell_type": "code",
   "execution_count": 38,
   "metadata": {},
   "outputs": [
    {
     "name": "stdout",
     "output_type": "stream",
     "text": [
      "Jenny's prime is probably my favorite.  8675309.  Thanks Tommy Tutone!\n",
      "[11338336, 3102918, 28836202, 20457492, 6341542, 28836202, 29334782, 29026233, 15040546, 20457492, 6341542, 22287915, 29026233, 3102918, 17453490, 17453490, 14264532, 6341542, 22810953, 5831276, 28836202, 7800891, 29026233, 24523837, 985919, 6341542, 17441500, 5831276, 9066565, 12008286, 9078012, 11094536, 6341542, 25926241, 13584848]\n"
     ]
    }
   ],
   "source": [
    "n = 29917061\n",
    "e = 8684999\n",
    "cipher = [22287915, 9078012, 17453490, 17453490, 14264532, 24523837, 985919, 6341542, 17441500, 5831276, 9066565, 12008286, 9078012, 6341542, 9066565, 985919, 6341542, 17441500, 5831276, 29026233, 29334782, 28836202, 29334782, 25597531, 14264532, 6341542, 12008286, 14264532, 6341542, 11639104, 28836202, 7800891, 29026233, 5831276, 9066565, 20457492, 9078012, 15992531, 6341542, 6341542, 24846263, 12106619, 29650399, 23100921, 13584848, 9668251, 18965502, 15992531, 6341542, 6341542, 15697184, 3102918, 28836202, 17453490, 28615097, 985919, 6341542, 15697184, 29026233, 12008286, 12008286, 14264532, 6341542, 15697184, 15040546, 20457492, 29026233, 17453490, 9078012, 22072925]\n",
    "factored = factorize(n)\n",
    "p = factored[0]\n",
    "q = factored[1]\n",
    "d = Find_Private_Key_d(e,p,q)\n",
    "decoded = Decode(n,d,cipher)\n",
    "print(f\"{decoded}\")\n",
    "encodedResponse = \"What about Johnny Bravo's prime? 13\"\n",
    "encoded = Encode(n,e,encodedResponse)\n",
    "print(f\"{encoded}\")"
   ]
  },
  {
   "cell_type": "markdown",
   "metadata": {},
   "source": [
    "<span style=\"color:red;\">My</span> example that I posted can be seen below.\n",
    "\n",
    "Original message: Those who say that pineapple doesn't belong on pizza are just wrong!\n",
    "\n",
    "Prime numbers:\n",
    "\n",
    "p = 13\n",
    "\n",
    "q = 17\n",
    "\n",
    "n value = 689\n",
    "\n",
    "Public key e = 5\n",
    "\n",
    "Cipher = [67, 117, 76, 98, 186, 2, 136, 117, 76, 2, 98, 54, 49, 2, 12, 117, 54, 12, 2, 125, 209, 145, 186, 54, 125, 125, 75, 186, 2, 172, 76, 186, 98, 145, 65, 12, 2, 115, 186, 75, 76, 145, 103, 2, 76, 145, 2, 125, 209, 5, 5, 54, 2, 54, 173, 186, 2, 123, 104, 98, 12, 2, 136, 173, 76, 145, 103, 50]"
   ]
  },
  {
   "cell_type": "code",
   "execution_count": 39,
   "metadata": {},
   "outputs": [
    {
     "name": "stdout",
     "output_type": "stream",
     "text": [
      "n value = 221, Public key = 5\n",
      "Cipher text: [67, 117, 76, 98, 186, 2, 136, 117, 76, 2, 98, 54, 49, 2, 12, 117, 54, 12, 2, 125, 209, 145, 186, 54, 125, 125, 75, 186, 2, 172, 76, 186, 98, 145, 65, 12, 2, 115, 186, 75, 76, 145, 103, 2, 76, 145, 2, 125, 209, 5, 5, 54, 2, 54, 173, 186, 2, 123, 104, 98, 12, 2, 136, 173, 76, 145, 103, 50]\n",
      "Test of decoding: Those who say that pineapple doesn't belong on pizza are just wrong!\n"
     ]
    }
   ],
   "source": [
    "secretMessage = \"Those who say that pineapple doesn't belong on pizza are just wrong!\"\n",
    "p = 13\n",
    "q = 17\n",
    "publicKey = Find_Public_Key_e(p,q)\n",
    "e = publicKey[0]\n",
    "n = publicKey[1]\n",
    "print(f\"n value = {n}, Public key = {e}\")\n",
    "cipher = Encode(n,e,secretMessage)\n",
    "print(f\"Cipher text: {cipher}\")\n",
    "factored = factorize(n)\n",
    "pp = factored[0]\n",
    "qq = factored[1]\n",
    "d = Find_Private_Key_d(e,pp,qq)\n",
    "decoded = Decode(n,d,cipher)\n",
    "print(f\"Test of decoding: {decoded}\")"
   ]
  },
  {
   "cell_type": "markdown",
   "metadata": {},
   "source": [
    "\n",
    "### 10. Custom CODE Feature ##\n",
    "The custom feature should be a \"Stand Alone\" feature at the end of the notebook. If you want to use code from above, please copy the functions again as part of your feature so it can be tested independently. Be sure to provide a demonstration showing that it works. See RSA Guide for more information and suggestions. \n",
    "\n",
    "**Do not forget the self-grading element.**\n"
   ]
  },
  {
   "cell_type": "markdown",
   "metadata": {},
   "source": [
    "<span style=\"color:red;\">Custom CODE Feature</span>\n",
    "\n",
    "For my custom feature I decided to make a GUI with Python demonstrating encrypting and decrypting messages. I have a video explaining how this works which can be seen at the following link [Fall 2023 RSA Project](https://youtu.be/oU71NMc6mPc). Please make sure to view this video in the highest resolution possible, I recorded this on my large 40\" monitor so it can be very pixelated if you view it in a smaller definition.\n",
    "\n",
    "For this project I primarily used a book to generate a GUI in Python (Create GUI Applications with Python & Qt5 (5th Edition) - Martin Fitzpatrick). Along with this book, I used some other resources for some of the functions / data manipulation within the code.\n",
    "\n",
    "- [Python Prime Number Generator](https://www.w3resource.com/python-exercises/generators-yield/python-generators-yield-exercise-3.php)\n",
    "- [Python Convert String To Array](https://stackoverflow.com/questions/15197673/using-pythons-eval-vs-ast-literal-eval)\n",
    "- [Prime Number Checker](http://www.math.com/students/calculators/source/prime-number.htm)\n",
    "\n",
    "My video covers the demonstration of this program and I have commented out my code so that it doesn't crash csel when my notebook is ran online. I am including some screen shots of the program that I created as well. These can be seen below.\n",
    "\n",
    "<p align=\"center\">\n",
    "  <img src=\"Images/Image 1.png\" alt=\"Open Screen\"/>\n",
    "</p>\n",
    "\n",
    "<p align=\"center\">\n",
    "  <img src=\"Images/Image 4.png\" alt=\"Encoding\" />\n",
    "</p>\n",
    "\n",
    "<p align=\"center\">\n",
    "  <img src=\"Images/Image 2.png\" alt=\"Decoding\" />\n",
    "</p>\n",
    "\n",
    "<p align=\"center\">\n",
    "  <img src=\"Images/Image 3.png\" alt=\"Encoding Response\" />\n",
    "</p>\n",
    "\n",
    "It should be noted that when someone is encoding a response where they know the public key and the value of n, this program does not produce a value of the private key and thus why it is equal to 0."
   ]
  },
  {
   "cell_type": "markdown",
   "metadata": {},
   "source": [
    "<span style=\"color:red;\">RSA GUI Code</span>"
   ]
  },
  {
   "cell_type": "code",
   "execution_count": 40,
   "metadata": {},
   "outputs": [],
   "source": [
    "# # Python modules\n",
    "# import sys\n",
    "# import random\n",
    "# import ast\n",
    "# # RSA modules\n",
    "# import BasicToolSet as BTS\n",
    "# import FirstToolSet as FTS\n",
    "# import SecondToolSet as STS\n",
    "# import EncryptingDecrpyting as ED\n",
    "# # PyQT modules\n",
    "# from PyQt6.QtCore import Qt\n",
    "# from PyQt6.QtWidgets import (\n",
    "#     QApplication,\n",
    "#     QMainWindow,\n",
    "#     QWidget,\n",
    "#     QHBoxLayout,\n",
    "#     QGridLayout,\n",
    "#     QVBoxLayout,\n",
    "#     QLabel,\n",
    "#     QLineEdit,\n",
    "#     QPushButton,\n",
    "#     QTextEdit,\n",
    "# )\n",
    "\n",
    "# # IsPrime - Checks if a number is prime\n",
    "# # Input:\n",
    "# #   n - Integer that is being checked if it is a prime number\n",
    "# # Algorithm:\n",
    "# #   * Index from 2 up to the square root of n + 1\n",
    "# #       * If the modulo of n and i is zero, then the number is not prime\n",
    "# #       * Return False\n",
    "# #   * Return True if False is not returned\n",
    "# # Output:\n",
    "# #   This function returns a boolean value depending on whether or not an integer is prime\n",
    "# def IsPrime(n):\n",
    "#     for i in range(2,int(n**0.5) + 1):\n",
    "#         if (n % i == 0):\n",
    "#             return False\n",
    "#     return True\n",
    "\n",
    "# # GeneratePrime - Generates a prime number between two values a and b\n",
    "# # Input:\n",
    "# #   a - Integer value that represents the lower bound of the two integers\n",
    "# #   b - Integer value that represents the upper bound of the two integers\n",
    "# # Algorithm:\n",
    "# #   * Generate a random number in the range of a and b and assign it to start\n",
    "# #   * While the number that is generated is not prime\n",
    "# #       * Increment start by one\n",
    "# #       * If start reaches the upper bound equal to b\n",
    "# #           * Double b\n",
    "# #           * Set start back to a and continue the loop\n",
    "# #   * Return the prime number start after the loop ends execution\n",
    "# # Output:\n",
    "# #   start - Random prime number that is generated between a and b\n",
    "# def GeneratePrime(a,b):\n",
    "#     start = random.randrange(a,b)\n",
    "#     while (IsPrime(start) == False):\n",
    "#         start += 1\n",
    "#         if (start > b):\n",
    "#             b *= 2\n",
    "#             start = a\n",
    "#     return start\n",
    "\n",
    "# # MainWindow - Class that incorporates all of the PyQt components that are necessary for a GUI in this program\n",
    "# # Constructor\n",
    "# #   * Set the title of the window\n",
    "# #   * Set the minimum height and width of the window\n",
    "# #   * Generate the main layouts of the window\n",
    "# #   * Generate the nested layouts for the main layouts\n",
    "# #   * Generate the widgets for the encode column\n",
    "# #       * Set the default values of each widget\n",
    "# #       * Set alignments and object names of each widget\n",
    "# #       * Add widgets to nestedEncodeLayout\n",
    "# #   * Generate the widgets for the decode column\n",
    "# #       * Set the default values of each widget\n",
    "# #       * Set alignments and object names of each widget\n",
    "# #       * Add widgets to nestedDecodeLayout\n",
    "# #   * Generate the widgets for the results row\n",
    "# #       * Set the default values of each widget\n",
    "# #       * Set alignments and object names of each widget\n",
    "# #       * Add widgets to mainResultsLayout\n",
    "# #   * Add the Encode and Decode layouts to mainInputLayout\n",
    "# #   * Add the Input and Results layouts to mainLayout\n",
    "# #   * Set the main layout\n",
    "# #   * Set the central layout\n",
    "# # ClearInputs - See inline comments\n",
    "# # DecodeIt - See inline comments\n",
    "# # EncodeIt - See inline comments\n",
    "# class MainWindow(QMainWindow):\n",
    "#     # Constructor\n",
    "#     def __init__(self):\n",
    "#         super().__init__()\n",
    "#         # Title of Window\n",
    "#         self.setWindowTitle(\"RSA\")\n",
    "#         # Height and Width of Window\n",
    "#         self.resize(850,500)\n",
    "#         self.setMinimumWidth(850)\n",
    "#         self.setMinimumHeight(400)\n",
    "#         # Main Layouts\n",
    "#         mainLayout = QVBoxLayout()\n",
    "#         mainInputLayout = QHBoxLayout()\n",
    "#         mainEncodeLayout = QVBoxLayout()\n",
    "#         mainDecodeLayout = QVBoxLayout()\n",
    "#         mainResultsLayout = QVBoxLayout()\n",
    "#         # Nested Layouts\n",
    "#         nestedEncodeLayout = QGridLayout()\n",
    "#         nestedDecodeLayout = QGridLayout()\n",
    "#         # Encode Column Widgets\n",
    "#         encodeColumnTitle = QLabel(\"Encode Message\")\n",
    "#         encodeColumnTitle.setAlignment(Qt.AlignmentFlag.AlignHCenter)\n",
    "#         encodeMessage = QTextEdit()\n",
    "#         encodeMessage.setPlaceholderText(\"Enter Message Here...\")\n",
    "#         encodeMessage.setObjectName(\"encodeMessage\")\n",
    "#         encodePublicKey = QLineEdit()\n",
    "#         encodePublicKey.setPlaceholderText(\"Enter Public Key Here...\")\n",
    "#         encodePublicKey.setMaxLength(10000)\n",
    "#         encodePublicKey.setMinimumWidth(400)\n",
    "#         encodePublicKey.setObjectName(\"encodePublicKey\")\n",
    "#         encodenValue = QLineEdit()\n",
    "#         encodenValue.setPlaceholderText(\"Enter n Value Here...\")\n",
    "#         encodenValue.setMaxLength(10000)\n",
    "#         encodenValue.setMinimumWidth(400)\n",
    "#         encodenValue.setObjectName(\"encodenValue\")\n",
    "#         encodeButton = QPushButton(\"Encode Message\")\n",
    "#         encodeButton.setObjectName(\"encodeButton\")\n",
    "#         encodeButton.clicked.connect(self.EncodeIt)\n",
    "#         # Add Widgets To nestedEncodeLayout Layout\n",
    "#         nestedEncodeLayout.addWidget(encodeColumnTitle, 0,0)\n",
    "#         nestedEncodeLayout.addWidget(encodeMessage,1,0)\n",
    "#         nestedEncodeLayout.addWidget(encodePublicKey,2,0)\n",
    "#         nestedEncodeLayout.addWidget(encodenValue,3,0)\n",
    "#         nestedEncodeLayout.addWidget(encodeButton,4,0)\n",
    "#         mainEncodeLayout.addLayout(nestedEncodeLayout)\n",
    "#         # Decode Column Widgets\n",
    "#         decodeColumnTitle = QLabel(\"Decode Message\")\n",
    "#         decodeColumnTitle.setAlignment(Qt.AlignmentFlag.AlignHCenter)\n",
    "#         decodeMessage = QTextEdit()\n",
    "#         decodeMessage.setPlaceholderText(\"Enter Message Here...\")\n",
    "#         decodeMessage.setObjectName(\"decodeMessage\")\n",
    "#         decodePrivateKey = QLineEdit()\n",
    "#         decodePrivateKey.setPlaceholderText(\"Enter Private Key Here...\")\n",
    "#         decodePrivateKey.setMaxLength(10000)\n",
    "#         decodePrivateKey.setMinimumWidth(400)\n",
    "#         decodePrivateKey.setObjectName(\"decodePrivateKey\")\n",
    "#         decodenValue = QLineEdit()\n",
    "#         decodenValue.setPlaceholderText(\"Enter n Value Here...\")\n",
    "#         decodenValue.setMaxLength(10000)\n",
    "#         decodenValue.setMinimumWidth(400)\n",
    "#         decodenValue.setObjectName(\"decodenValue\")\n",
    "#         decodeButton = QPushButton(\"Decode Message\")\n",
    "#         decodeButton.setObjectName(\"decodeButton\")\n",
    "#         decodeButton.clicked.connect(self.DecodeIt)\n",
    "#         # Add Widgets To nestedDecodeLayout Layout\n",
    "#         nestedDecodeLayout.addWidget(decodeColumnTitle,0,0)\n",
    "#         nestedDecodeLayout.addWidget(decodeMessage,1,0)\n",
    "#         nestedDecodeLayout.addWidget(decodePrivateKey,2,0)\n",
    "#         nestedDecodeLayout.addWidget(decodenValue,3,0)\n",
    "#         nestedDecodeLayout.addWidget(decodeButton,4,0)\n",
    "#         mainDecodeLayout.addLayout(nestedDecodeLayout)\n",
    "#         # Results Row Widgets\n",
    "#         resultsRowTitle = QLabel(\"Encoding / Decoding Results\")\n",
    "#         resultsRowTitle.setAlignment(Qt.AlignmentFlag.AlignVCenter | Qt.AlignmentFlag.AlignHCenter)\n",
    "#         resultsRowTitle.setObjectName(\"resultsRowTitle\")\n",
    "#         encodingDecodingResults1 = QTextEdit()\n",
    "#         encodingDecodingResults1.setPlaceholderText(\"Encoding / Decoding Results Here...\")\n",
    "#         encodingDecodingResults1.setMaximumHeight(400)\n",
    "#         encodingDecodingResults1.setObjectName(\"encodingDecodingResults1\")\n",
    "#         encodingDecodingResults2 = QTextEdit()\n",
    "#         encodingDecodingResults2.setPlaceholderText(\"Private Key / Public Key Here...\")\n",
    "#         encodingDecodingResults2.setMaximumHeight(400)\n",
    "#         encodingDecodingResults2.setObjectName(\"encodingDecodingResults2\")\n",
    "#         resultsRowClearButton = QPushButton(\"Clear Entries\")\n",
    "#         resultsRowClearButton.setObjectName(\"clearResultsButton\")\n",
    "#         resultsRowClearButton.clicked.connect(self.ClearInputs)\n",
    "#         # Add Widgets to Results Layout\n",
    "#         mainResultsLayout.addWidget(resultsRowTitle)\n",
    "#         mainResultsLayout.addWidget(encodingDecodingResults1)\n",
    "#         mainResultsLayout.addWidget(encodingDecodingResults2)\n",
    "#         mainResultsLayout.addWidget(resultsRowClearButton)\n",
    "#         # Add Layouts to mainInputLayout\n",
    "#         mainInputLayout.addLayout(mainEncodeLayout)\n",
    "#         mainInputLayout.addLayout(mainDecodeLayout)\n",
    "#         # Add Layouts to Main Layout\n",
    "#         mainLayout.addLayout(mainInputLayout)\n",
    "#         mainLayout.addLayout(mainResultsLayout)\n",
    "#         # Set Main Layout\n",
    "#         widget = QWidget()\n",
    "#         widget.setLayout(mainLayout)\n",
    "#         # Set The Central Widget\n",
    "#         self.setCentralWidget(widget)\n",
    "\n",
    "#     # ClearInputs - Clears the inputs in the window\n",
    "#     def ClearInputs(self):\n",
    "#         # Grab children from main window\n",
    "#         decodeButton = self.findChild(QPushButton,\"decodeButton\")\n",
    "#         decodeMessage = self.findChild(QTextEdit,\"decodeMessage\")\n",
    "#         decodenValue = self.findChild(QLineEdit,\"decodenValue\")\n",
    "#         decodePrivateKey = self.findChild(QLineEdit,\"decodePrivateKey\")\n",
    "#         encodeButton = self.findChild(QPushButton,\"encodeButton\")\n",
    "#         encodeMessage = self.findChild(QTextEdit,\"encodeMessage\")\n",
    "#         encodenValue = self.findChild(QLineEdit,\"encodenValue\")\n",
    "#         encodePublicKey = self.findChild(QLineEdit,\"encodePublicKey\")\n",
    "#         resultsTitle = self.findChild(QLabel,\"resultsRowTitle\")\n",
    "#         encodingDecodingResults1 = self.findChild(QTextEdit,\"encodingDecodingResults1\")\n",
    "#         encodingDecodingResults2 = self.findChild(QTextEdit,\"encodingDecodingResults2\")\n",
    "#         # Enable buttons\n",
    "#         encodeButton.setEnabled(True)\n",
    "#         decodeButton.setEnabled(True)\n",
    "#         # Clear text edit boxes\n",
    "#         encodeMessage.clear()\n",
    "#         decodeMessage.clear()\n",
    "#         encodingDecodingResults1.clear()\n",
    "#         encodingDecodingResults2.clear()\n",
    "#         # Clear line edit boxes\n",
    "#         decodenValue.clear()\n",
    "#         decodePrivateKey.clear()\n",
    "#         encodenValue.clear()\n",
    "#         encodePublicKey.clear()\n",
    "#         # Clear labels\n",
    "#         resultsTitle.setText(\"Encoding / Decoding Results\")\n",
    "\n",
    "#     # DecodeIt - Decodes a message from the decode text box, private key and n value line edits\n",
    "#     def DecodeIt(self):\n",
    "#         # Grab children from main window (convert them to their correct data types if necessary)\n",
    "#         decodeMessageText = str(self.findChild(QTextEdit,\"decodeMessage\").toPlainText())\n",
    "#         decodePrivateKey = str(self.findChild(QLineEdit,\"decodePrivateKey\").text())\n",
    "#         decodenValue = str(self.findChild(QLineEdit,\"decodenValue\").text())\n",
    "#         encodeButton = self.findChild(QPushButton,\"encodeButton\")\n",
    "#         decodeButton = self.findChild(QPushButton,\"decodeButton\")\n",
    "#         encodeButton.setEnabled(False)\n",
    "#         decodeButton.setEnabled(False)\n",
    "#         resultsTitle = self.findChild(QLabel,\"resultsRowTitle\")\n",
    "#         decodingResults = self.findChild(QTextEdit,\"encodingDecodingResults1\")\n",
    "#         publicPrivateKey = self.findChild(QTextEdit,\"encodingDecodingResults2\")\n",
    "#         # Create place holders for return values\n",
    "#         decodedMessage = \"\"\n",
    "#         # Make sure that all fields are entered\n",
    "#         if (decodeMessageText.strip() != \"\" and decodePrivateKey != \"\" and decodenValue != \"\"):\n",
    "#             # Convert entries to correct data types\n",
    "#             decodeMessage = ast.literal_eval(self.findChild(QTextEdit,\"decodeMessage\").toPlainText())\n",
    "#             decodenValue = int(decodenValue)\n",
    "#             decodePrivateKey = int(decodePrivateKey)\n",
    "#             decodedMessage = ED.Decode(decodenValue,decodePrivateKey,decodeMessage)\n",
    "#             # Update the labels in the main window with the results from the decoding\n",
    "#             resultsTitle.setText(\"Decoding Results\")\n",
    "#             decodingResults.append(\"Decoded Message: \" + str(decodedMessage))\n",
    "#             publicPrivateKey.append(\"Private Key d = \" + str(decodePrivateKey) + \", n = \" + str(decodenValue))\n",
    "#         else:\n",
    "#             encodeButton.setEnabled(True)\n",
    "#             decodeButton.setEnabled(True)\n",
    "\n",
    "#     # EncodeIt - Encodes a message from the encode text edit box\n",
    "#     def EncodeIt(self):\n",
    "#         # Grab children from main window (convert them to their correct data types if necessary)\n",
    "#         encodeMessage = self.findChild(QTextEdit,\"encodeMessage\").toPlainText()\n",
    "#         encodenValueText = str(self.findChild(QLineEdit,\"encodenValue\").text())\n",
    "#         encodePublicKeyText = str(self.findChild(QLineEdit,\"encodePublicKey\").text())\n",
    "#         encodeButton = self.findChild(QPushButton,\"encodeButton\")\n",
    "#         decodeButton = self.findChild(QPushButton,\"decodeButton\")\n",
    "#         encodeButton.setEnabled(False)\n",
    "#         decodeButton.setEnabled(False)\n",
    "#         resultsTitle = self.findChild(QLabel,\"resultsRowTitle\")\n",
    "#         encodingResults = self.findChild(QTextEdit,\"encodingDecodingResults1\")\n",
    "#         publicPrivatekey = self.findChild(QTextEdit,\"encodingDecodingResults2\")\n",
    "#         # Create place holders for values\n",
    "#         encodedMessage = \"\"\n",
    "#         nValue = 0\n",
    "#         publicKey = 0\n",
    "#         privateKey = 0\n",
    "#         # Check if public key and n value are empty\n",
    "#         if (encodenValueText == \"\" and encodePublicKeyText == \"\"):\n",
    "#             # Generate random prime numbers\n",
    "#             firstSeed = random.randrange(100,1000)\n",
    "#             secondSeed = random.randrange(1,10)*firstSeed\n",
    "#             firstPrime = GeneratePrime(firstSeed,secondSeed)\n",
    "#             secondPrime = GeneratePrime(10*firstSeed,10*secondSeed)\n",
    "#             # Calculate the public and private keys using the Second Tool Set module (STS)\n",
    "#             nValue = STS.Find_Public_Key_e(firstPrime,secondPrime)[1]\n",
    "#             publicKey = STS.Find_Public_Key_e(firstPrime,secondPrime)[0]\n",
    "#             privateKey = STS.Find_Private_Key_d(publicKey,firstPrime,secondPrime)\n",
    "#             # Encode the message using the Encode / Decode module (ED)\n",
    "#             encodedMessage = ED.Encode(nValue,publicKey,encodeMessage)\n",
    "#         # Check if the user has entered a public key and n value\n",
    "#         elif (encodenValueText != \"\" and encodePublicKeyText != \"\"):\n",
    "#             # Convert the entries to integers\n",
    "#             nValue = int(encodenValueText)\n",
    "#             publicKey = int(encodePublicKeyText)\n",
    "#             # Encode the message using the Encode / Decode module (ED)\n",
    "#             encodedMessage = ED.Encode(nValue,publicKey,encodeMessage)\n",
    "#         if ((encodenValueText == \"\" and encodePublicKeyText == \"\") or (encodenValueText != \"\" and encodePublicKeyText != \"\")):\n",
    "#             # Update the labels in the main window with the results from the encoding\n",
    "#             resultsTitle.setText(\"Encoding Results\")\n",
    "#             encodingResults.append(\"Encoded Message: \" + str(encodedMessage))\n",
    "#             publicPrivatekey.append(\"Public Key e = \" + str(publicKey) + \", Private Key d = \" + str(privateKey) + \", n = \" + str(nValue))\n",
    "\n",
    "# # Call application and main window class\n",
    "# app = QApplication(sys.argv)\n",
    "# window = MainWindow()\n",
    "# window.show()\n",
    "# sys.exit(app.exec())"
   ]
  },
  {
   "cell_type": "markdown",
   "metadata": {},
   "source": [
    "**Please use the grading guide below to self grade your Custom Feature.**\n",
    "\n",
    "GRADING FOR CUSTOM FEATURE:\n",
    "\n",
    "15 pts  Wow.  It is amazing.\n",
    "        Shows initiative and originality. \n",
    "        You did something extra special and pushed yourself.\n",
    "        You went beyond all expectations \n",
    "        You broke the rules in a creative way. \n",
    "        Your coding and commenting is exceptional.\n",
    "        Excellent \n",
    "\n",
    "10 - 14 points - It is GOOD! \n",
    "        You were a “self starter.” \n",
    "         You did everything  requested. \n",
    "        All expectations met. \n",
    "       \tYou did a very good job. \n",
    "        Good use of commenting.\n",
    "        Shows mastery of skills.\n",
    "\n",
    "5 -10 points  - Okay.\n",
    "        Minimum requirements.\n",
    "        Commenting weak.\n",
    "\n",
    "0 -5 points - It is not finished. \n",
    "          Does meet objectives. \n",
    "            Did not follow directions. \n",
    "            Chose not to do this part (which is a totally fine choice)\n"
   ]
  },
  {
   "cell_type": "markdown",
   "metadata": {},
   "source": [
    "## Self grading of custom feature ##\n",
    "\n",
    "Here in this block, please rate what score out of 15 your custom feature merits given the criteria above:\n",
    "\n",
    "* For example, if you are brand new to programming, using a main function could be an amazing feature - tell me how this helped you move to a new level.\n",
    "* In what ways did you push yourself? Did you try something you've never done before?\n",
    "* Alternatively, if you just did not have the time to do the custom feature, that is actually just fine and a reasonable choice for an adult. No judgment."
   ]
  },
  {
   "cell_type": "markdown",
   "metadata": {},
   "source": [
    "<span style=\"color:red;\">Self Grading</span>\n",
    "\n",
    "I personally believe that deserve a 15/15 for my custom feature. I am not new to programming so making something like a main function was trivial to me. So instead I wanted to push myself and learn something new. This is why I chose to make a GUI for this project (with the exception of code breaking). I have worked with frameworks in the past that involved HTML and JS but since this program was done in Python I wanted to do something new to myself.\n",
    "\n",
    "Thankfully, the book that I used was a great reference for making GUIs with Python. I had to spend a lot of time tinkering with small aspects here and there to make sure that my program did what it was designed to. I pushed my self to find a way to incorporate generating random prime numbers in a given range and with pre-existing code. Before this project, I really hadn't done anything similar to this as I was very apprehensive about making GUIs because they looked very intimidating to me. But through perseverance I was able to make it all work. I am very proud with what I made and this project seemed trivial to me at the beginning but I can't put into words how much my opinion has changed. RSA has proven to be a very interesting topic and this will definitely be something that I will be putting on my portfolio at some point. Of course with more error handling however.\n",
    "\n",
    "Thank you to Professor Stade for making the exception for me so that I could bring this to life. This was truly a great learning tool for me and I can't put into words how thankful I am that I was able to do this. I learned a lot of new things that have opened up the door for me in the future when building projects and I will always look back to this project as the starting point for me. Thank you again."
   ]
  }
 ],
 "metadata": {
  "kernelspec": {
   "display_name": "Python 3 (ipykernel)",
   "language": "python",
   "name": "python3"
  },
  "language_info": {
   "codemirror_mode": {
    "name": "ipython",
    "version": 3
   },
   "file_extension": ".py",
   "mimetype": "text/x-python",
   "name": "python",
   "nbconvert_exporter": "python",
   "pygments_lexer": "ipython3",
   "version": "3.11.4"
  }
 },
 "nbformat": 4,
 "nbformat_minor": 4
}
