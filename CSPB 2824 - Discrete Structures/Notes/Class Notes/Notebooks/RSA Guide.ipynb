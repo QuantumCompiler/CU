{
 "cells": [
  {
   "cell_type": "markdown",
   "id": "abe7dab0-8004-4bfb-b1bf-c24052f657c6",
   "metadata": {},
   "source": [
    "### RSA Project Overview"
   ]
  },
  {
   "cell_type": "markdown",
   "id": "2e43bca7-19c6-4da8-80ba-5dd3db6936b6",
   "metadata": {},
   "source": [
    "RSA is a public-key encryption algorithm used for data transmission. Over the course of 3 weeks, you will be creating a mini version of an RSA code package in a Jupyter notebook. This is not a group project. You may not work with others, but you are allowed to discuss with other students on Piazza. \n",
    "\n",
    "This project has **two due dates**. Full credit is possible only when the both portions of the project are completed by their respective due dates. \n",
    "\n",
    "There are many ways to write the code needed for this project and you are free to explore different algorithms, however, no bit shifting is allowed. "
   ]
  },
  {
   "cell_type": "markdown",
   "id": "8ff10581-beb3-4253-bd5b-dd124e8e7dd3",
   "metadata": {},
   "source": [
    "### Custon Feature \n",
    "\n",
    "The last 15 points of the project require you to create a custom feature. This is an opportinity for you to explore an RSA or coding topic of interest to you. At this point it is not about points, but exploring advanced ideas relevant to you. This is also a feature that should be relevant to your programming ability. If you are in 1300, creating a main type function may be enough. If you are an experienced programmer, find a topic to push yourself. \n",
    "\n",
    "* The custom feature should be a \"Stand Alone\" feature at the end of the notebook.\n",
    "* If you want to use code from above, please copy the functions again as part of your feature so it can be tested independently.\n",
    "* Be sure to provide a demonstration of your feature showing that it works. This is a good check for you, shows us it works, and helps us if we are unable to get your feature to work when grading.\n",
    "* In the Jupyter notebook, there is a self-grading section that you must fill out. \n",
    "\n",
    "The Custom Feature is an important part of the project, and it should be a non-trivial response. \n",
    "Please help organize your Custom Feature by breaking it up into sections - ie. not one long block of text.\n",
    "Mininimally executed, \"dialling it in\" type features will not recieve full points. \n",
    "\n",
    "Custom Features could be one or more of the following:\n",
    "1. Code breaking improvements. An exploration of factoring improvements and analyze how effective they are. Must include some kind of timing analysis and multiple code breaking. A superficial treatment will not recieve full points. Must be throughly tested with excellent investigations to recieve full points.\n",
    "2. A Python \"main\" function that allows a user to \"Get keys/Encode/Decode/Break Codes\" etc... This can use elements of initial RSA code above HOWEVER please include all your code here. It should be well-organized. *Include your complete new implementation in section 10.*\n",
    "3. A script to read codes from Piazza data. You can copy and paste codes from Piazza into a txt files and then have your script read it. This is a VERY helpful tool for doing the project as well. \n",
    "4. Exploration of advanced factoring alogrithms (see Moodle) Try Pollard's Rho <- super satisfying. (full points if well - impemented with thoughtful examples). \n",
    "5. Advanced complexity analysis. \n",
    "6. Frequency anaylsis from our Piazza post.\n",
    "7. A deep dive in the mathematics of the RSA proofs.\n",
    "8. Advanced code breaking challenges  - this should be an organized and well-documented effort.\n",
    "9. More options available, all include a coding element. Please ask is you have an unique idea. "
   ]
  },
  {
   "cell_type": "markdown",
   "id": "92b3db88-3a91-4d7b-b005-f451ade3119a",
   "metadata": {},
   "source": [
    "### Grading \n",
    "\n",
    "The Jupyter notebook has 10 sections, ranging from 5 to 25 points each, for a total of 100 points. \n",
    "\n",
    "This is an important part of your course grade. All work must be explained well and well-organized. Sloppy, rushed, incomplete, or work otherwise demonstrating minimial effort, will not recieve full credit. Projects achieving a total of fewer than 60 points will be assigned a grade of 0.\n",
    "\n",
    "If your target grade in the course can be acheived without this project you are welcome to skip it. That is an entirely reasonable choice it your work/life situation requires and your final grade can support it. Please take the 0 points if you wish and use the time as needed in your adult life. #nojudgment \n",
    "\n",
    "**Further grading notes** \n",
    "* All code must be well-commented and easy to read - Here is a simple guide: https://realpython.com/python-comments-guide/ \n",
    "* Must use a mix of code and text blocks.\n",
    "* A Jupyter Notebook is an interactive document - not a long scroll of code and commments.\n",
    "* Use the variables given in the first part of the project.\n",
    "* The narrative elements of the project are just as important as the coding.\n",
    "* Do NOT copy code from the internet (or anywhere). If you use found code as part of a custom feature be sure to cite sources, comment the code and add you own insight.\n",
    "* Encoded Piazza comments do not count towards your weekly participation grade. You must still contribute to class discussion with words for those points. \n",
    "\n",
    "Points for sections 8 through 10 are only available if the student is exchanging messages by the first due date. "
   ]
  },
  {
   "cell_type": "markdown",
   "id": "de21807d-acfe-492d-84c8-2aebe209b710",
   "metadata": {},
   "source": [
    "**Notes on coding comments**\n",
    "\n",
    "Well-commented does not necessarily mean heavily-commented. It means providing enough information so someone else, or even your future self, can look back and understand the code upon reading it. "
   ]
  },
  {
   "cell_type": "markdown",
   "id": "781b98b5-0bd2-4c40-92bb-3be4adaaccab",
   "metadata": {},
   "source": [
    "This is not an example of \"well-commented\" code. The comments are not helpful in understanding what is happening because they are redundant. "
   ]
  },
  {
   "cell_type": "code",
   "execution_count": 1,
   "id": "3adefb0b-6f02-4112-9768-e26e2518dd0f",
   "metadata": {
    "tags": []
   },
   "outputs": [],
   "source": [
    "def return_a(a): # Defines function return_a, which requires an input: a. \n",
    "    return a # Returns a \n",
    "a = 3 # We are assigning the varaible a the value of 3. a has type int. \n",
    "return_a(a); # Calls function return_a with input a, which in line 3 we assigned the value of 3. "
   ]
  },
  {
   "cell_type": "markdown",
   "id": "4e9e0add-698e-43a0-8d7e-1fc175aff744",
   "metadata": {},
   "source": [
    "Here are some examples of well-commented code: \n",
    "\n",
    "http://www.math.buffalo.edu/~badzioch/MTH337/Report_guide/report9.html\n",
    "\n",
    "https://www.programiz.com/python-programming/examples/quadratic-roots \n",
    "\n",
    "As you see, these examples do not involve coding each individual line of code, but allow someone who has not seen the code before to quickly understand what the code is doing. \n",
    "\n",
    "In the Quadratic Equation example, it wouldn't be helpful to say:\n",
    "* #giving d the value of (b^2) - (4*a*c) or \n",
    "* #calculating d\n",
    "\n",
    "However, it is helpful for the reader to say: # calculating the discriminant. In this instance, the code comments provide context and meaning. "
   ]
  },
  {
   "cell_type": "markdown",
   "id": "96a1b755-206b-4aa6-919a-7abed299470e",
   "metadata": {},
   "source": [
    "### Due Dates\n",
    "\n",
    "**Code Exchange due: Friday, March 17th at 11:59pm** Piazza code breaking threads will be posted during week  8. There you will be asked to complete 3 tasks. (If you would like to post earlier than week 8, let me know. The current record for posting is Wednesday of Week 8.) \n",
    "\n",
    "**Full Project due: Monday, March 20th at 11:59pm** This is the Moodle submission of your Jupyter notebook. "
   ]
  },
  {
   "cell_type": "markdown",
   "id": "fe25e61a-4357-47f1-b955-b99f58542f8f",
   "metadata": {},
   "source": [
    "### Submission \n",
    "You do not need to submit anything to Moodle for the first due date. You only need to finish posting on Piazza. \n",
    "\n",
    "For the second due date, you must submit your Jupyter notebook to Moodle. Do not submit any additional files unless your custom feature includes reading a text file, in which case you are allowed to submit a single test file set up to work with your project. \n",
    "\n",
    "Your Jupyter file must be submitted with your CU identikey as the file name (example: emca5057.ipynb). "
   ]
  },
  {
   "cell_type": "markdown",
   "id": "8716a040-6fba-4bec-98ec-77a969e2cda5",
   "metadata": {},
   "source": [
    "### Jupyter Tips\n",
    "\n",
    "* Each time you open Jupyter, you must run the code blocks where your functions are defined in order to call them. \n",
    "* You DO NOT need to repeat the code the demonstration - you should simply call the function. \n",
    "* Add new blocks by using the A (above) and B (below) your current location. \n",
    "* Press M to change the current cell to Markdown and press Y to change it back to Code.\n",
    "* If you prefer, you can work on the project in your preferred IDE, but you must submit it as a Jupyter notebook and we will only be testing it as a Jupyter notebook. "
   ]
  },
  {
   "cell_type": "markdown",
   "id": "1326d5e6-9b2b-4604-b8f2-1e6815423793",
   "metadata": {},
   "source": [
    "### Advanced Resources\n",
    "\n",
    "For those of you in 1300, creating a main funtion might be a great option for you. \n",
    "* [Best Practices for Python Main Functions](https://www.youtube.com/watch?v=lOeIDvyRUQs) - youtube video \n",
    "\n",
    "For those of you who wish to go to the next level, meaning you've already made basic imporvements to your code breaking, here are some advanced resources for you to consider. \n",
    "\n",
    "There is a whole world of research around looking for and factoring large primes because if you can do that you will break the global banking system.\n",
    "\n",
    "Some things to think about when \"really\" trying to break RSA:\n",
    "\n",
    "* The Pollard's Rho algorithm. It is actually pretty easy to implement and give quite astonishing results. Not extra credit, but well worth doing. \n",
    "* FACTORING IMPROVEMENTS There are a few that are fairly accessible. These include Pollard's Rho algorithm. I have posted a tutorial on it here: [Pollard's Rho](https://home.cs.colorado.edu/~srirams/courses/csci2824-spr14/pollardsRho.html). My code is in the C language, but you will have to implement it in Python. You should focus on the main ideas. There are other much better online expositions. Can you understand and implement it?\n",
    "* There are other approaches such as [Fermat factoring](https://arstechnica.com/information-technology/2022/03/researcher-uses-600-year-old-algorithm-to-crack-crypto-keys-found-in-the-wild/),  while this is advanced the ideas are closely linked to ideas we have studied.\n",
    "* You might also try multi-threading. The algorithm works on a single thread. Can you explore parallelizing this algorithm? You can read about how to write parallel multithreaded code in Python3: [here](https://www.tutorialspoint.com/python3/python_multithreading.htm). \n",
    "* Warning: This is really advanced stuff for beginner programmers, but perhaps never too early to learn some ideas on parallelization (which you will revisit in other classes). Post on piazza for some ideas on how to parallelize brute force search. The tricky part is to stop all threads if one thread found a factor, look up threading.Event objects.\n",
    "* If you use one of these resources or any other, **you must cite your sources**. "
   ]
  },
  {
   "cell_type": "code",
   "execution_count": null,
   "id": "d97ac61a-65a0-4ca9-9714-5e025caf315c",
   "metadata": {},
   "outputs": [],
   "source": []
  }
 ],
 "metadata": {
  "kernelspec": {
   "display_name": "Python 3 (ipykernel)",
   "language": "python",
   "name": "python3"
  },
  "language_info": {
   "codemirror_mode": {
    "name": "ipython",
    "version": 3
   },
   "file_extension": ".py",
   "mimetype": "text/x-python",
   "name": "python",
   "nbconvert_exporter": "python",
   "pygments_lexer": "ipython3",
   "version": "3.10.8"
  }
 },
 "nbformat": 4,
 "nbformat_minor": 5
}
