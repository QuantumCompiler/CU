{
 "cells": [
  {
   "cell_type": "code",
   "execution_count": 140,
   "metadata": {},
   "outputs": [],
   "source": [
    "import numpy as np\n",
    "import matplotlib.pyplot as plt"
   ]
  },
  {
   "cell_type": "markdown",
   "metadata": {},
   "source": [
    "# 2.1 Linear Functions"
   ]
  },
  {
   "cell_type": "markdown",
   "metadata": {},
   "source": [
    "#### Functions in Python"
   ]
  },
  {
   "cell_type": "code",
   "execution_count": 141,
   "metadata": {
    "tags": []
   },
   "outputs": [],
   "source": [
    "f = lambda x: x[0]+x[1]-(x[3])**2\n",
    "g = lambda x,a: sum([x[n]*a[n] for n in range(len(x)) if len(x) == len(a)])"
   ]
  },
  {
   "cell_type": "code",
   "execution_count": 142,
   "metadata": {
    "collapsed": true,
    "jupyter": {
     "outputs_hidden": true
    },
    "tags": []
   },
   "outputs": [
    {
     "data": {
      "text/plain": [
       "(-5, 10)"
      ]
     },
     "execution_count": 142,
     "metadata": {},
     "output_type": "execute_result"
    }
   ],
   "source": [
    "x = [-1,0,1,2]\n",
    "a = [1,2,3,4]\n",
    "f(x), g(x,a)"
   ]
  },
  {
   "cell_type": "markdown",
   "metadata": {},
   "source": [
    "#### Superposition"
   ]
  },
  {
   "cell_type": "markdown",
   "metadata": {},
   "source": [
    "1. Homogeneity property: f(ax) = a(fx)\n",
    "2. Additivity property: f(x+y) = f(x) + f(y)\n",
    "3. Superposition: f(ax+by) = a(fx)+b(fy)"
   ]
  },
  {
   "cell_type": "markdown",
   "metadata": {},
   "source": [
    "Functions of 1 variable"
   ]
  },
  {
   "cell_type": "code",
   "execution_count": 143,
   "metadata": {},
   "outputs": [
    {
     "data": {
      "text/plain": [
       "(4.0, 5.0)"
      ]
     },
     "execution_count": 143,
     "metadata": {},
     "output_type": "execute_result"
    }
   ],
   "source": [
    "f = lambda x: x**2 # this isn't a linear function\n",
    "x,y=1, 3\n",
    "alpha, beta = 0.5,0.5\n",
    "lhs,rhs = f(alpha*x + beta*y), alpha*f(x) + beta*f(y)\n",
    "lhs,rhs # so we shouldn't be suprised that superposition doesn't hold"
   ]
  },
  {
   "cell_type": "markdown",
   "metadata": {},
   "source": [
    "Functions of more variables"
   ]
  },
  {
   "cell_type": "code",
   "execution_count": 144,
   "metadata": {},
   "outputs": [],
   "source": [
    "a = np.array([-2,-1,1,-3])\n",
    "f = lambda x: np.inner(a,x)\n",
    "x,y = np.array([2,2,-1,1]), np.array([0,1,-3,0])\n",
    "alpha, beta = 1.2,-3.7"
   ]
  },
  {
   "cell_type": "code",
   "execution_count": 145,
   "metadata": {},
   "outputs": [
    {
     "data": {
      "text/plain": [
       "(2.800000000000003, 2.8000000000000007)"
      ]
     },
     "execution_count": 145,
     "metadata": {},
     "output_type": "execute_result"
    }
   ],
   "source": [
    "lhs,rhs = f(alpha*x + beta*y), alpha*f(x) + beta*f(y)\n",
    "lhs,rhs"
   ]
  },
  {
   "cell_type": "code",
   "execution_count": 146,
   "metadata": {},
   "outputs": [
    {
     "data": {
      "text/plain": [
       "True"
      ]
     },
     "execution_count": 146,
     "metadata": {},
     "output_type": "execute_result"
    }
   ],
   "source": [
    "abs(lhs - rhs) <= 1.0e-6 # we can't use == because of floating point errorrs"
   ]
  },
  {
   "cell_type": "code",
   "execution_count": 147,
   "metadata": {},
   "outputs": [
    {
     "data": {
      "text/plain": [
       "1"
      ]
     },
     "execution_count": 147,
     "metadata": {},
     "output_type": "execute_result"
    }
   ],
   "source": [
    "e3 = [0,0,1,0]\n",
    "f(e3)"
   ]
  },
  {
   "cell_type": "code",
   "execution_count": 148,
   "metadata": {},
   "outputs": [
    {
     "data": {
      "text/plain": [
       "-0.25"
      ]
     },
     "execution_count": 148,
     "metadata": {},
     "output_type": "execute_result"
    }
   ],
   "source": [
    "avg = lambda x: np.inner((np.ones(len(x))/len(x)),x)\n",
    "x = np.array([1,-3,2,-1])\n",
    "avg(x)"
   ]
  },
  {
   "cell_type": "markdown",
   "metadata": {},
   "source": [
    "## Non - Linearity Detector ? ## (OPTIONAL EXPLORATION)"
   ]
  },
  {
   "cell_type": "code",
   "execution_count": 149,
   "metadata": {},
   "outputs": [],
   "source": [
    "# this is an attempt at a function to check if a function is non linear by trying to find a point where homogeneity fails.\n",
    "# it doesn't work because we would need to check infinitely many points\n",
    "def test_linear(f, n):\n",
    "    if abs(f(0)) > 1.0e-6:\n",
    "        print('Not linear; function is not zero at x=0')\n",
    "        return\n",
    "    test = lambda x: f(x) - x*f(1)\n",
    "    for i in range(2, n):\n",
    "        if abs(test(i)) > 1.0e-6:\n",
    "            print('Not linear; f('+str(i)+')!='+str(i)+'*f(1)')\n",
    "            return\n",
    "    print('Cannot determine if function is linear')"
   ]
  },
  {
   "cell_type": "code",
   "execution_count": 150,
   "metadata": {},
   "outputs": [
    {
     "name": "stdout",
     "output_type": "stream",
     "text": [
      "Not linear; f(3)!=3*f(1)\n"
     ]
    }
   ],
   "source": [
    "f = lambda x: x * (x - 1) * (x - 2) + x \n",
    "test_linear(f, 5) # for some non-linear functions we can find points where homogeneity fails"
   ]
  },
  {
   "cell_type": "code",
   "execution_count": 151,
   "metadata": {},
   "outputs": [
    {
     "name": "stdout",
     "output_type": "stream",
     "text": [
      "Cannot determine if function is linear\n"
     ]
    }
   ],
   "source": [
    "from math import sin\n",
    "from math import pi\n",
    "g = lambda x: sin(pi * x)\n",
    "test_linear(g, 100) # for other functions it might not work for any n"
   ]
  },
  {
   "cell_type": "markdown",
   "metadata": {},
   "source": [
    "# 2.2 Taylor Approximations"
   ]
  },
  {
   "cell_type": "code",
   "execution_count": 152,
   "metadata": {},
   "outputs": [
    {
     "data": {
      "text/plain": [
       "(3.65960311115695, 3.646453645613141)"
      ]
     },
     "execution_count": 152,
     "metadata": {},
     "output_type": "execute_result"
    }
   ],
   "source": [
    "#This is an example of a non linear, non affine function, \n",
    "#being approximated by a function that is affine\n",
    "\n",
    "from math import exp\n",
    "f = lambda x: x[0] + exp(x[1]-x[0]) #some function f(x, y) = y+e**(y-x)\n",
    "grad_f = lambda x: [1-exp(x[1]-x[0]), exp(x[1]-x[0])] #function gradient\n",
    "z = np.array([1,2])\n",
    "f_hat = lambda x: f(z) + np.inner(grad_f(z),(x-z))\n",
    "delta = np.array([0.2, 0.1]);\n",
    "f(z+delta), f_hat(z+delta)"
   ]
  },
  {
   "cell_type": "markdown",
   "metadata": {},
   "source": [
    "Graphing Taylor Approximations"
   ]
  },
  {
   "cell_type": "code",
   "execution_count": 153,
   "metadata": {},
   "outputs": [
    {
     "data": {
      "image/png": "[encoded data removed]",
      "text/plain": [
       "<Figure size 640x480 with 1 Axes>"
      ]
     },
     "metadata": {},
     "output_type": "display_data"
    }
   ],
   "source": [
    "from math import sin\n",
    "from math import cos\n",
    "f = lambda x: x + sin(x)\n",
    "grad_f = lambda x: 1 + cos(x)\n",
    "z = 2\n",
    "f_hat = lambda x: f(z) + grad_f(z) * (x - z)\n",
    "x_vals = [-10.0 + 0.1 * x for x in range(0, 200)]\n",
    "f_vals = [f(x) for x in x_vals]\n",
    "f_hat_vals = [f_hat(x) for x in x_vals]\n",
    "plt.plot(x_vals, f_vals, color='blue')\n",
    "plt.plot(x_vals, f_hat_vals, linestyle='dashed', color='red')\n",
    "plt.xlim(-10,10)\n",
    "plt.ylim(-10,10)\n",
    "plt.grid(True)"
   ]
  },
  {
   "cell_type": "markdown",
   "metadata": {},
   "source": [
    "# 2.3 Regression"
   ]
  },
  {
   "cell_type": "code",
   "execution_count": 154,
   "metadata": {},
   "outputs": [
    {
     "data": {
      "text/plain": [
       "(161.37557999999999, 213.61852000000002)"
      ]
     },
     "execution_count": 154,
     "metadata": {},
     "output_type": "execute_result"
    }
   ],
   "source": [
    "#beta is an n-vector, aka a weight, \n",
    "#v is a scalar, aka offset, intercept\n",
    "#x, y aka regressor, predictor\n",
    "\n",
    "#beta and v are parameters in this regression model\n",
    "beta,v = np.array([148.73, -18.85]), 54.40\n",
    "y_hat = lambda x: np.inner(x,beta) + v\n",
    "y_hat(np.array([0.846, 1])),y_hat(np.array([1.324,2])) \n",
    "#actuals: 115, 234.50"
   ]
  },
  {
   "cell_type": "code",
   "execution_count": 155,
   "metadata": {},
   "outputs": [
    {
     "data": {
      "text/plain": [
       "array([[155.7042191, 167.1344646, 132.1236159, 188.2591539, 148.521102 ,\n",
       "        167.6699522, 184.2151634, 141.3748844, 134.1363545, 103.5572588,\n",
       "        198.1567356, 162.9981618, 175.3147579, 162.167224 , 234.3493851,\n",
       "        130.9418151, 158.5664088, 140.1007713, 163.1458869, 182.848738 ,\n",
       "        182.2024248, 170.1812789, 168.0208152, 201.702138 , 162.7027116,\n",
       "        170.1812789, 207.3156918, 157.6800582, 196.4394472, 148.2810646,\n",
       "        147.819376 , 209.3284304, 176.1456957, 153.8392056, 170.7721793,\n",
       "        213.4278337, 144.440212 , 212.393758 , 267.7906705, 223.6208656,\n",
       "        216.0314727, 173.3389188, 213.871009 , 213.9633213, 232.1889214,\n",
       "        172.8957435, 205.5429906, 170.9753172, 168.0208152, 252.4272601,\n",
       "        177.3274965, 164.770863 , 215.7914353, 216.3269229, 207.611142 ,\n",
       "        186.929628 , 232.1335086, 199.0430862, 184.8614766, 232.3366465,\n",
       "        266.701182 , 136.1121936, 221.0541261, 213.871009 , 214.7573596,\n",
       "        214.7942591, 275.6755136, 217.7118616, 216.1791978, 187.9637037,\n",
       "        167.6330527, 192.8940448, 309.1536985, 307.0301343, 174.0775443,\n",
       "        317.3708913, 185.3046519, 139.3621458, 330.6292508, 190.6227555,\n",
       "        214.0187341, 212.5783826, 270.0988593, 262.7680171, 372.287729 ,\n",
       "        225.4858791, 148.2256518, 244.8378672, 141.8734725, 329.3920372,\n",
       "        211.4519946, 423.4929259, 282.7109056, 273.4042243, 272.1670107,\n",
       "        183.0333626, 328.5610994, 270.0988593, 241.237052 , 373.76498  ,\n",
       "        320.0853559, 309.8000117, 479.5361516, 261.7339414, 266.350319 ,\n",
       "        400.3923975, 326.7329854, 320.6208435, 245.0410051, 287.5304211,\n",
       "        441.9585634, 261.8816665, 382.8685234, 309.541461 , 427.5369164,\n",
       "        491.7973349, 282.4154554, 249.325033 , 238.1902377, 487.162444 ,\n",
       "        418.2671346, 327.4716109, 300.9734052, 467.2749683, 494.1609365,\n",
       "        357.0720437, 381.3912724, 487.162444 , 478.3543508, 342.6872962,\n",
       "        341.3023575, 134.1363545, 141.3379849, 140.783984 , 134.87498  ,\n",
       "        126.8978246, 155.4641817, 173.3943316, 195.3499587, 144.9202868,\n",
       "        134.3394924, 106.807211 , 196.919522 , 142.2058222, 240.5538393,\n",
       "        142.2058222, 157.384608 , 151.3278789, 153.1005801, 159.5450717,\n",
       "        160.0436598, 152.952855 , 161.816361 , 129.0213888, 163.293612 ,\n",
       "        157.384608 , 139.2144207, 157.3291952, 176.7365961, 184.5660264,\n",
       "        157.384608 , 184.8614766, 163.5336494, 175.4070702, 123.3524222,\n",
       "        192.8940448, 173.3389188, 153.7468933, 192.838632 , 162.8504367,\n",
       "        199.3385364, 172.507981 , 165.3063506, 160.9300104, 136.352231 ,\n",
       "        182.5901873, 150.2383904, 168.6117156, 211.8397571, 203.4748392,\n",
       "        210.4179189, 169.0548909, 244.6901421, 254.883174 , 184.7137515,\n",
       "        165.4540757, 251.3377716, 227.9048935, 249.1773079, 227.5540305,\n",
       "        144.440212 , 165.8049387, 171.2707674, 203.6225643, 188.2591539,\n",
       "        244.7455549, 267.4952203, 123.5001473, 212.0983078, 192.3954567,\n",
       "        198.747636 , 222.6791022, 237.6547501, 214.2587715, 216.0868855,\n",
       "        196.8826225, 177.4752216, 210.9534065, 229.3267317, 260.2012776,\n",
       "        320.9162937, 188.5546041, 219.8723253, 346.9713241, 204.1580519,\n",
       "        171.5662176, 194.0758456, 219.1336998, 230.3608074, 318.404967 ,\n",
       "        214.6096345, 229.3267317, 164.0876503, 240.1660768, 278.870053 ,\n",
       "        224.0086281, 223.1776903, 282.7109056, 347.4144994, 212.042895 ,\n",
       "        299.4038419, 210.565644 , 223.4177277, 204.8043651, 206.2816161,\n",
       "        187.5205284, 319.7899057, 261.143041 , 290.4849231, 304.7219455,\n",
       "        230.7485699, 183.6796758, 378.2336325,  96.3187289, 305.1651208,\n",
       "        161.5209108, 214.6096345, 297.9265909, 269.3602338, 259.66579  ,\n",
       "        232.7798218, 460.7750639, 441.718526 , 295.6553016, 364.1074357,\n",
       "        381.3912724, 513.5129246, 450.5266192, 200.9080997, 360.2665831,\n",
       "        303.3370068, 568.7066992, 480.8102647, 533.4558131, 252.7596098,\n",
       "        432.504157 , 548.6714984, 307.2332722, 545.9570338, 380.5603346,\n",
       "        327.0838484, 141.134847 , 108.7276373, 154.3746932, 134.2840796,\n",
       "        139.8976334, 139.8976334, 153.1928924, 134.1363545, 182.497875 ,\n",
       "        162.0563984, 147.4870263, 147.3393012, 134.1363545, 152.3065418,\n",
       "        157.6800582, 159.1018964, 127.8764875, 147.8747888, 144.440212 ,\n",
       "        194.4636081, 147.6347514, 192.8940448, 140.5439466, 131.7727529,\n",
       "        140.1930836, 179.19251  , 171.2707674, 176.1456957, 135.4658804,\n",
       "        158.2155458, 199.6339866, 149.7952151, 100.6581696, 157.384608 ,\n",
       "        160.9300104, 160.2836972, 184.325989 , 179.0078854, 134.1363545,\n",
       "        131.920478 , 213.4278337, 176.4411459, 184.9537889, 266.350319 ,\n",
       "        181.7592495, 207.0202416, 189.88413  , 163.293612 , 213.871009 ,\n",
       "        205.6907157, 184.0859516, 240.9970146, 245.4287676, 200.224887 ,\n",
       "        200.224887 , 178.5647101, 168.0208152, 212.3383452, 162.942749 ,\n",
       "        188.3514662, 172.4525682, 180.9652112, 160.33911  , 168.076228 ,\n",
       "        168.076228 , 151.3278789, 169.0548909, 262.1771167, 222.383652 ,\n",
       "        175.7025204, 163.293612 , 209.9747436, 212.1906201, 220.9618138,\n",
       "        164.42     , 168.0208152, 168.3162654, 197.7135603, 194.1681579,\n",
       "        198.1567356, 220.1677755, 146.8961259, 166.8390144, 154.079243 ,\n",
       "        239.8706266, 265.574794 , 241.3478776, 183.6796758, 255.5294872,\n",
       "        180.9652112, 253.1658856, 265.4270689, 145.2711498, 257.5422258,\n",
       "        314.2686642, 157.033745 , 235.8820489, 221.7927516, 143.7938988,\n",
       "        208.7006305, 176.8843212, 255.3817621, 190.1795802, 128.3750756,\n",
       "        278.2791526, 200.9635125, 201.351275 , 154.1346558, 173.1911937,\n",
       "        212.2829324, 264.9838936, 208.6452177, 245.7242178, 244.5978298,\n",
       "        370.7550652, 247.2568816, 414.5371076, 251.3931844, 190.7704806,\n",
       "        340.4714197, 152.7128176, 153.5991682, 169.202616 , 208.2020424,\n",
       "        211.5074074, 268.178433 , 233.6661724, 202.0899005, 300.2901925,\n",
       "        260.2566904, 246.0750808, 379.4708461, 250.8945963, 213.0769707,\n",
       "        381.3912724, 214.7019468, 355.687105 , 263.8020928, 281.7691422,\n",
       "        196.2363093, 220.906401 , 209.2915309, 402.1281992, 290.5403359,\n",
       "        204.1211524, 182.2024248, 256.1203876, 252.4272601, 306.6423718,\n",
       "        203.7702894, 206.133891 , 472.4453468, 306.6977846, 306.8455097,\n",
       "        224.0640409, 358.5861942, 297.3356905, 265.223931 , 390.9934039,\n",
       "        216.2346106, 298.9606666, 255.3817621, 263.74668  , 246.4628433,\n",
       "        252.4641596, 172.0093929, 239.9629389, 444.8207531, 248.5309947,\n",
       "        286.9949335, 265.4270689, 280.8273788, 247.6446441, 274.7337502,\n",
       "        614.6492053, 587.3754746, 333.7683774, 430.4360056, 367.5974253,\n",
       "        279.2578155, 192.838632 , 427.6292287, 512.7742991, 371.936866 ,\n",
       "        474.9012607, 387.9465896, 519.7173788, 140.4885338, 150.2383904,\n",
       "        169.1472032, 150.2383904, 176.238008 , 162.942749 , 149.64749  ,\n",
       "        143.8862111, 150.5338406, 166.0449761, 158.7141339, 139.6021832,\n",
       "        134.87498  , 169.8489292, 136.352231 , 136.1676064, 151.2724661,\n",
       "        160.5237346, 192.838632 , 206.133891 , 162.5549865, 170.5321419,\n",
       "        169.7935164, 177.0874591, 177.9183969, 145.4742877, 185.7478272,\n",
       "        164.0876503, 163.293612 , 181.8515618, 258.188539 , 183.975126 ,\n",
       "        204.65664  , 184.5660264, 154.430106 , 183.9197132, 214.4064966,\n",
       "        159.1573092, 219.4845628, 139.657596 , 156.6459825, 208.7929428,\n",
       "        179.5987858, 206.133891 , 250.5991461, 198.0644233, 166.248114 ,\n",
       "        207.8142799, 206.133891 , 181.020624 , 213.0400712, 212.393758 ,\n",
       "        244.3946919, 149.8506279, 160.7822853, 317.0754411, 241.587915 ,\n",
       "        175.11162  , 170.679867 , 174.9638949, 229.3821445, 168.7594407,\n",
       "        206.133891 , 171.2707674, 233.1675843, 159.3050343, 259.314927 ,\n",
       "        191.1213436, 163.8845124, 147.2469889, 239.8152138, 194.0204328,\n",
       "        185.8955523, 157.6800582, 212.0983078, 134.2840796, 202.5884886,\n",
       "        212.3383452, 221.3495763, 212.0983078, 235.4388736, 215.4405723,\n",
       "        167.725365 , 164.3276877, 166.8390144, 141.4302972, 319.6421806,\n",
       "        216.3269229, 209.088393 , 244.89328  , 267.4952203, 163.293612 ,\n",
       "        179.8388232, 180.9097984, 323.0398579, 197.4181101, 182.2578376,\n",
       "        210.3256066, 181.4083865, 169.1472032, 188.6100169, 184.1228511,\n",
       "        258.5208887, 195.4976838, 293.1070754, 210.7133691, 273.1087741,\n",
       "        293.0516626, 159.4527594, 213.8155962, 293.6979758, 156.4982574,\n",
       "        290.8357861, 246.9060186, 261.8816665, 328.6534117, 287.6781462,\n",
       "        224.3963906, 262.1217039, 256.1203876, 180.2819985, 348.8917504,\n",
       "        245.4287676, 199.7817117, 259.5180649, 239.5197636, 267.8829828,\n",
       "        191.4167938, 212.1906201, 222.383652 , 220.3155006, 363.8119855,\n",
       "        174.5207196, 237.3038871, 265.3716561, 225.338154 , 225.7813293,\n",
       "        328.5610994, 241.587915 , 306.0514714, 296.947928 , 211.0088193,\n",
       "        212.6892082, 272.1670107, 254.1445485, 288.6199096, 251.928672 ,\n",
       "        298.074316 , 183.1441882, 233.2229971, 175.1670328, 271.7792482,\n",
       "        185.6924144, 256.4527373, 213.0769707, 318.7189305, 230.8039827,\n",
       "        343.0381592, 204.8043651, 219.7246002, 193.8727077, 244.89328  ,\n",
       "        299.4038419, 323.0952707, 275.0292004, 305.7560212, 423.1051634,\n",
       "        198.747636 , 186.3387276, 416.5498462, 257.8930888, 226.5199548,\n",
       "        290.5403359, 345.9372484, 312.5513758, 324.6094212, 236.5652616,\n",
       "        329.3920372, 345.1063106, 385.1398127, 435.107796 , 318.7004172,\n",
       "        308.06421  , 263.0080545, 318.0172045, 359.6756827, 252.9627477,\n",
       "        217.2132735, 242.3265405, 300.5302299, 384.8443625, 303.8355949,\n",
       "        209.3284304, 342.6318834, 315.5058778, 218.3950743, 371.8445537,\n",
       "        377.3103824, 460.7196511, 282.2677303, 330.4261129, 466.5732423,\n",
       "        196.9749348, 201.6467252, 455.9924479, 530.7967613, 327.0284356,\n",
       "        488.8428329, 202.3484512, 125.8083361, 146.1020876, 154.5224183,\n",
       "        144.3293864, 166.0449761, 150.0537658, 159.1573092, 157.9200956,\n",
       "        184.9537889, 154.1346558, 151.475604 , 197.8612854, 153.1005801,\n",
       "        136.2968182, 169.3503411, 146.1575004, 179.3956479, 182.3501499,\n",
       "        169.3503411, 147.043851 , 194.9621962, 185.3046519, 192.1923188,\n",
       "        210.916507 , 159.3050343, 139.9530462, 158.7141339, 164.3276877,\n",
       "        172.3602559, 159.988247 , 166.8390144, 145.5666   , 175.9979706,\n",
       "        187.6682535, 225.7813293, 147.2838884, 148.3733769, 184.6214392,\n",
       "        153.1928924, 177.6229467, 244.542417 , 190.1795802, 217.6564488,\n",
       "        200.6680623, 182.9964631, 184.7137515, 146.8407131, 216.5300608,\n",
       "        196.3840344, 175.4070702, 160.9300104, 179.8388232, 239.8152138,\n",
       "        190.5673427, 231.5426082, 150.2383904, 195.793134 , 175.7025204,\n",
       "        197.1780727, 200.1325747, 139.657596 , 208.7929428, 151.3278789,\n",
       "        223.7131779, 258.4839892, 257.7453637, 188.9977794, 239.8152138,\n",
       "        245.5764927, 156.3505323, 179.6910981, 171.4184925, 207.0202416,\n",
       "        198.4521858, 216.6777859, 269.7110968, 177.5675339, 189.2932296,\n",
       "        192.3400439, 134.1363545, 200.3726121, 191.361381 , 184.2705762,\n",
       "        236.029774 , 221.9404767, 212.042895 , 207.0202416, 129.0213888,\n",
       "        275.8601382, 190.1795802, 207.3156918, 173.8375069, 240.461527 ,\n",
       "        219.3368377, 151.475604 , 139.657596 , 212.9292456, 212.042895 ,\n",
       "        198.4521858, 175.3147579, 232.3366465, 184.2705762, 315.801328 ,\n",
       "        216.0314727, 177.4752216, 227.9048935, 199.0430862]])"
      ]
     },
     "execution_count": 155,
     "metadata": {},
     "output_type": "execute_result"
    }
   ],
   "source": [
    "%run ./House_Data.ipynb # there is quite a lot of data here \n",
    "                        # I've put the data in the file House_Data\n",
    "\n",
    "price = D[\"price\"]\n",
    "area = D[\"area\"]\n",
    "beds = D[\"beds\"]\n",
    "v = 54.4017 #scalar\n",
    "beta = [147.7251, -18.8534] #weights *area beta is 148.73 in textbook, might be a small typo here\n",
    "#scalar and weights were determined using a method learned in Ch13: Least Squares\n",
    "y_hat = np.array([beta[0]*area + beta[1]*beds])+v\n",
    "#math notation: y hat = (x^T B) + v = B1*x1 + B2*x2 + v\n",
    "#this function returns predictions for each house based on beds and area\n",
    "#it applies a beta to each feature, and an offset, scalar to each price\n",
    "y_hat"
   ]
  },
  {
   "cell_type": "code",
   "execution_count": 156,
   "metadata": {},
   "outputs": [
    {
     "data": {
      "image/png": "[encoded data removed]",
      "text/plain": [
       "<Figure size 640x480 with 1 Axes>"
      ]
     },
     "metadata": {},
     "output_type": "display_data"
    }
   ],
   "source": [
    "plt.scatter(price, y_hat)\n",
    "plt.plot([0,800],[0,800], linestyle='dashed', color = 'red')\n",
    "plt.xlabel(\"actual\")\n",
    "plt.xlim(0,800)\n",
    "plt.ylabel(\"predicted\")\n",
    "plt.ylim(0,800)\n",
    "plt.grid(True)"
   ]
  },
  {
   "cell_type": "code",
   "execution_count": null,
   "metadata": {},
   "outputs": [],
   "source": []
  },
  {
   "cell_type": "code",
   "execution_count": null,
   "metadata": {},
   "outputs": [],
   "source": []
  },
  {
   "cell_type": "code",
   "execution_count": null,
   "metadata": {},
   "outputs": [],
   "source": []
  }
 ],
 "metadata": {
  "kernelspec": {
   "display_name": "Python 3 (ipykernel)",
   "language": "python",
   "name": "python3"
  },
  "language_info": {
   "codemirror_mode": {
    "name": "ipython",
    "version": 3
   },
   "file_extension": ".py",
   "mimetype": "text/x-python",
   "name": "python",
   "nbconvert_exporter": "python",
   "pygments_lexer": "ipython3",
   "version": "3.11.4"
  }
 },
 "nbformat": 4,
 "nbformat_minor": 4
}
