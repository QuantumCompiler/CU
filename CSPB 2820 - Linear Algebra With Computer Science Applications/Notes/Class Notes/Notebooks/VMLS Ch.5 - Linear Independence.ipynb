{
 "cells": [
  {
   "cell_type": "markdown",
   "id": "5d02ef10-aa58-4c32-8317-ca1441005488",
   "metadata": {},
   "source": [
    "# Chapter 5: Linear Independence"
   ]
  },
  {
   "cell_type": "markdown",
   "id": "26d086f9-8a2f-4ee5-a7dd-e1c0ed61c0ed",
   "metadata": {},
   "source": [
    "### 5.4 Gram-Schmidt algorithm\n",
    "\n",
    "The Python implementation of the Gram-Schmidt Algorithm takes as input an array of arrays, *a*.\n",
    "\n",
    "If the vectors are linearly independent, it returns an array of arrays, *q*, of orthonormal set of computed vectors.\n",
    "\n",
    "If the vectors are linearly dependent, and the GS Algorithm terminates early at some *q_j = 0*, it returns the array *q[0], ..., q[i-1]* of length *i*.\n",
    "\n",
    "The following code is supplemented from the Python Companion 5.4 (p. 41,42)"
   ]
  },
  {
   "cell_type": "code",
   "execution_count": 9,
   "id": "5433ff14-67f1-4fcb-9961-3353843e5b03",
   "metadata": {},
   "outputs": [],
   "source": [
    "import numpy as np\n",
    "def gram_schmidt(a):\n",
    "    q = []\n",
    "    for i in range(len(a)):\n",
    "        #orthogonalization\n",
    "        q_tilde = a[i]\n",
    "        for j in range(len(q)):\n",
    "            q_tilde = q_tilde - (q[j] @ a[i])*q[j]\n",
    "        #Test for dependence\n",
    "        if np.sqrt(sum(q_tilde**2)) <= 1e-10:\n",
    "            print('Vectors are linearly dependent.')\n",
    "            print('GS algorithm terminates at iteration ', i+1)\n",
    "            return q\n",
    "        #Normalization\n",
    "        else:\n",
    "            q_tilde = q_tilde / np.sqrt(sum(q_tilde**2))\n",
    "            q.append(q_tilde)\n",
    "    print('Vectors are linearly independent.')\n",
    "    return q"
   ]
  },
  {
   "cell_type": "markdown",
   "id": "9cb440e8-482b-42ea-8b18-fbf8a1359ebf",
   "metadata": {},
   "source": [
    "### Book Example - Linearly Independent\n",
    "(VMLS p.100, Companion p.42)"
   ]
  },
  {
   "cell_type": "code",
   "execution_count": 10,
   "id": "6282bc6c-3a68-4858-be7c-492836a51e65",
   "metadata": {},
   "outputs": [
    {
     "name": "stdout",
     "output_type": "stream",
     "text": [
      "Vectors are linearly independent.\n",
      "[array([-0.5,  0.5, -0.5,  0.5]), array([0.5, 0.5, 0.5, 0.5]), array([-0.5, -0.5,  0.5,  0.5])]\n",
      "Norm of q[0] : 1.0\n",
      "Inner product of q[0] and q[1] : 0.0\n",
      "Inner product of q[0] and q[2] : 0.0\n",
      "Norm of q[1] : 1.0\n",
      "Inner product of q[1] and q[2] : 0.0\n",
      "Norm of q[2] : 1.0\n"
     ]
    }
   ],
   "source": [
    "a = np.array([ [-1, 1, -1, 1], [-1, 3, -1, 3], [1, 3, 5, 7] ])\n",
    "q = gram_schmidt(a)\n",
    "print(q)\n",
    "#Test orthonormality\n",
    "print('Norm of q[0] :', (sum(q[0]**2))**0.5)\n",
    "print('Inner product of q[0] and q[1] :', q[0] @ q[1])\n",
    "print('Inner product of q[0] and q[2] :', q[0] @ q[2])\n",
    "print('Norm of q[1] :', (sum(q[1]**2))**0.5)\n",
    "print('Inner product of q[1] and q[2] :', q[1] @ q[2])\n",
    "print('Norm of q[2] :', (sum(q[2]**2))**0.5)"
   ]
  },
  {
   "cell_type": "markdown",
   "id": "565b7708-9611-44b3-8f82-459db70f1fee",
   "metadata": {},
   "source": [
    "From these results, we see that we have an orthonormal collection of vector q0, q1, snd q2: The norm of each vector is 1, and transposing it with any other vector within the collection yields an inner product of 0. "
   ]
  },
  {
   "cell_type": "markdown",
   "id": "23bf4b60-0c80-4009-8952-48b62abe5a88",
   "metadata": {},
   "source": [
    "### Book Example - Linearly Dependent\n",
    "\n",
    "(Quiz 5 #5)\n",
    "\n",
    "The Python companion makes an important mention that you can rig the GS-Algorithm by formulating one of the inserted vectors as a linear combination of the other input vectors. Thus, we would expect the GS-Algorithm to determine that the vectors are linearly dependent - and it does.\n",
    "\n",
    "In this example, for simplicity, we formulate a third vector as a linear combination of the first and second vector. This is the definition of a linear combination: If any vector can be represented as a linear combination of any other vectors in the set, then the series is **linearly dependent**.\n",
    "\n",
    "We will use the same input vectors from the previous example, while inputting a third vector as a linear combination of the first vector multiplied by 2 added to the second one.\n",
    "\n",
    "The algorithm outputs that these vectors are linearly dependent, which is to be expected. Purposefully making the third input vector a linear combination of the first two forces the GS-Algorithm to terminate at the third iteration, the point when it arrives to process the third input vector.\n",
    "\n",
    "The steps are also written out by hand in a pdf, where we can arrive at the same conclusion."
   ]
  },
  {
   "cell_type": "code",
   "execution_count": 11,
   "id": "800498c8-a11e-41a2-9623-dd5a0f5b35b1",
   "metadata": {},
   "outputs": [
    {
     "name": "stdout",
     "output_type": "stream",
     "text": [
      "Vectors are linearly dependent.\n",
      "GS algorithm terminates at iteration  3\n",
      "[array([-0.5,  0.5, -0.5,  0.5]), array([0.5, 0.5, 0.5, 0.5])]\n"
     ]
    }
   ],
   "source": [
    "#The first two vectors\n",
    "a = np.array([ [-1, 1, -1, 1], [-1, 3, -1, 3]])\n",
    "\n",
    "#Creating a linearly dependent vector from the above two vectors\n",
    "lin_dep_vector = 2*a[0] + a[1]\n",
    "\n",
    "#Create a stacked vector, b, \n",
    "b = np.array([a[0], a[1], lin_dep_vector])\n",
    "q = gram_schmidt(b)\n",
    "print(q)"
   ]
  },
  {
   "cell_type": "code",
   "execution_count": 13,
   "id": "b1c07eb4-1ce9-48fb-bac8-d7265fdb1140",
   "metadata": {},
   "outputs": [
    {
     "name": "stdout",
     "output_type": "stream",
     "text": [
      "Vectors are linearly independent.\n",
      "[array([ 0.57735027, -0.57735027,  0.57735027]), array([0.40824829, 0.81649658, 0.40824829]), array([-0.70710678,  0.        ,  0.70710678])]\n"
     ]
    }
   ],
   "source": [
    "import numpy as np\n",
    "def gram_schmidt(a):\n",
    "    q = []\n",
    "    for i in range(len(a)):\n",
    "        #orthogonalization\n",
    "        q_tilde = a[i]\n",
    "        for j in range(len(q)):\n",
    "            q_tilde = q_tilde - (q[j] @ a[i])*q[j]\n",
    "        #Test for dependence\n",
    "        if np.sqrt(sum(q_tilde**2)) <= 1e-10:\n",
    "            print('Vectors are linearly dependent.')\n",
    "            print('GS algorithm terminates at iteration ', i+1)\n",
    "            return q\n",
    "        #Normalization\n",
    "        else:\n",
    "            q_tilde = q_tilde / np.sqrt(sum(q_tilde**2))\n",
    "            q.append(q_tilde)\n",
    "    print('Vectors are linearly independent.')\n",
    "    return q\n",
    "\n",
    "#The first two vectors\n",
    "a = np.array([ [1, -1, 1], [1, 0, 1], [1, 1, 2]])\n",
    "\n",
    "q = gram_schmidt(a)\n",
    "print(q)"
   ]
  }
 ],
 "metadata": {
  "kernelspec": {
   "display_name": "Python 3 (ipykernel)",
   "language": "python",
   "name": "python3"
  },
  "language_info": {
   "codemirror_mode": {
    "name": "ipython",
    "version": 3
   },
   "file_extension": ".py",
   "mimetype": "text/x-python",
   "name": "python",
   "nbconvert_exporter": "python",
   "pygments_lexer": "ipython3",
   "version": "3.11.4"
  }
 },
 "nbformat": 4,
 "nbformat_minor": 5
}
