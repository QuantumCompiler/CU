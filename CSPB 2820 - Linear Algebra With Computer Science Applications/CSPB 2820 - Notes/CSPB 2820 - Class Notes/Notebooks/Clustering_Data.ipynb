{
 "cells": [
  {
   "cell_type": "code",
   "execution_count": 2,
   "id": "8c037b91-1743-4979-9337-18c2bb3f3608",
   "metadata": {},
   "outputs": [],
   "source": [
    "import numpy as np\n",
    "import random\n",
    "import math\n",
    "import matplotlib.pyplot as plt\n",
    "\n",
    "def data_set_1():\n",
    "    root_points = [np.random.randn(4) for _ in range(6)]\n",
    "    return np.array([2 * random.choice(root_points) + 0.15 * np.random.randn(4) for _ in range(300)])\n",
    "    \n",
    "def data_set_2():\n",
    "    angle = 2 * math.pi / 5\n",
    "    sin_a = math.sin(angle)\n",
    "    cos_a = math.cos(angle)\n",
    "    point_1 = np.array([1.0, 0.0, 0.0, 0.0])\n",
    "    edge_angle = 1.10714872 # arctan 2\n",
    "    point_2 = np.array([math.cos(edge_angle), math.sin(edge_angle), 0.0, 0.0])\n",
    "    half_1 = np.array([point_2[1], -point_2[0], 0.0, 0.0])\n",
    "    half_2 = np.array([math.cos(angle / 2) * half_1[0], math.cos(angle / 2) * half_1[1], math.sin(angle / 2), 0.0])\n",
    "    \n",
    "    def r1(point):\n",
    "        return np.array([point[0], cos_a * point[1] + sin_a * point[2], cos_a * point[2] - sin_a * point[1], point[3]])\n",
    "        \n",
    "    def r2(point):\n",
    "        r1 = point - 2.0 * half_1 * np.inner(half_1, point)\n",
    "        return r1 - 2.0 * half_2 * np.inner(half_2, r1)\n",
    "    \n",
    "    vert_points = [point_1 + 0.1 * np.random.randn(4) for _ in range(5)]\n",
    "    \n",
    "    def add_point(verts, point):\n",
    "        found = False\n",
    "        for p in verts:\n",
    "            diff = p - point\n",
    "            test = np.inner(diff, diff)\n",
    "            if test < 1.0e-6:\n",
    "                found = True\n",
    "                break\n",
    "            \n",
    "        if not found:\n",
    "            verts.append(point)\n",
    "            \n",
    "        return verts\n",
    "    \n",
    "    upto = 0\n",
    "    \n",
    "    while upto < len(vert_points):\n",
    "        new_1 = r1(vert_points[upto])\n",
    "        vert_points = add_point(vert_points, new_1)\n",
    "        \n",
    "        new_2 = r2(vert_points[upto])\n",
    "        vert_points = add_point(vert_points, new_2)\n",
    "        upto += 1\n",
    "        \n",
    "    return np.array(vert_points)\n",
    "\n",
    "def data_set_3():\n",
    "    first_roots = [np.random.randn(4) for _ in range(5)]\n",
    "    second_roots = [random.choice(first_roots) + 0.1 * np.random.randn(4) for _ in range(11)]\n",
    "    return np.array([random.choice(second_roots) + 0.01 * np.random.randn(4) for _ in range(800)])\n",
    "        "
   ]
  },
  {
   "cell_type": "code",
   "execution_count": null,
   "id": "1364160c-5e84-4f14-805d-717aa61132e4",
   "metadata": {},
   "outputs": [],
   "source": []
  },
  {
   "cell_type": "code",
   "execution_count": null,
   "id": "6aece4ba-d362-4d0f-83b9-afc20e24c0d1",
   "metadata": {},
   "outputs": [],
   "source": []
  }
 ],
 "metadata": {
  "kernelspec": {
   "display_name": "Python 3 (ipykernel)",
   "language": "python",
   "name": "python3"
  },
  "language_info": {
   "codemirror_mode": {
    "name": "ipython",
    "version": 3
   },
   "file_extension": ".py",
   "mimetype": "text/x-python",
   "name": "python",
   "nbconvert_exporter": "python",
   "pygments_lexer": "ipython3",
   "version": "3.9.6"
  }
 },
 "nbformat": 4,
 "nbformat_minor": 5
}
