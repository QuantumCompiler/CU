{
 "cells": [
  {
   "cell_type": "markdown",
   "metadata": {},
   "source": [
    "Vectors Jupyter Notebook"
   ]
  },
  {
   "cell_type": "markdown",
   "metadata": {},
   "source": [
    "Code Block 1 - For the first code block I am defining a vector with the use of numpy. This original code block can be found on page 2 of the python companion and the theory of this can be found on page 3 of VMLS. The original code block can be seen below."
   ]
  },
  {
   "cell_type": "code",
   "execution_count": 21,
   "metadata": {},
   "outputs": [
    {
     "data": {
      "text/plain": [
       "4"
      ]
     },
     "execution_count": 21,
     "metadata": {},
     "output_type": "execute_result"
    }
   ],
   "source": [
    "import numpy as np\n",
    "import random\n",
    "x = [-1.1, 0.0, 3.6, -7.2]\n",
    "len(x)"
   ]
  },
  {
   "cell_type": "markdown",
   "metadata": {},
   "source": [
    "For my example, I am generating a random integer value between 1 and 100 for each element of the vector and then printing the vector itself along with the length of the vector."
   ]
  },
  {
   "cell_type": "code",
   "execution_count": 22,
   "metadata": {},
   "outputs": [
    {
     "name": "stdout",
     "output_type": "stream",
     "text": [
      "Random Cool Vector: [39 61 16]\n",
      "Random Cool Vector Length: 3\n"
     ]
    }
   ],
   "source": [
    "import numpy as np\n",
    "import random\n",
    "# Vector definition\n",
    "cool_vector = np.array([random.randint(1, 100), random.randint(1, 100), random.randint(1, 100)])\n",
    "# Print statements\n",
    "print(\"Random Cool Vector:\", cool_vector)\n",
    "print(\"Random Cool Vector Length:\", len(cool_vector))"
   ]
  },
  {
   "cell_type": "markdown",
   "metadata": {},
   "source": [
    "Code Block 2 - For the second code block I am copying a vector with the use of the \"copy()\" method. Once the vector has been copied, we re-assign an element with indexing one of the elements and assign it to a new value. This original code block can be found on page 4 of the python companion. The theory of how to index a vector can be found on page 5 of VMLS. The original code block can be found below."
   ]
  },
  {
   "cell_type": "code",
   "execution_count": 23,
   "metadata": {},
   "outputs": [
    {
     "name": "stdout",
     "output_type": "stream",
     "text": [
      "[-1.1  0.   3.6 -7.2]\n"
     ]
    }
   ],
   "source": [
    "import numpy as np\n",
    "x = np.array([-1.1, 0.0, 3.6, -7.2])\n",
    "y = x.copy()\n",
    "x[2] = 20.0\n",
    "print(y)"
   ]
  },
  {
   "cell_type": "markdown",
   "metadata": {},
   "source": [
    "For my rendition of this concept, I first create a vector and then copy it to another vector. I then re-assign a random element from the copied vector with the use of \"random\" and then assign it a random integer that ranges between 7 and 10."
   ]
  },
  {
   "cell_type": "code",
   "execution_count": 24,
   "metadata": {},
   "outputs": [
    {
     "name": "stdout",
     "output_type": "stream",
     "text": [
      "Original Cool Vector: [1 3 5 6]\n",
      "Copy Of Cool Vector: [ 1  3  5 10]\n"
     ]
    }
   ],
   "source": [
    "import numpy as np\n",
    "import random\n",
    "# Vector definition\n",
    "another_cool_vector = np.array([1, 3, 5, 6])\n",
    "# Copy the vector\n",
    "copy_of_another_cool_vector = another_cool_vector.copy()\n",
    "copy_of_another_cool_vector[random.randint(0, len(copy_of_another_cool_vector) - 1)] = random.randint(7, 10)\n",
    "# Print the original and the copied vector that has been modified\n",
    "print(\"Original Cool Vector:\", another_cool_vector)\n",
    "print(\"Copy Of Cool Vector:\", copy_of_another_cool_vector)"
   ]
  },
  {
   "cell_type": "markdown",
   "metadata": {},
   "source": [
    "Code Block 3 - For the third code block, I am looking into concatenation of two vectors. The way that this is done in python can be found in python companion on page 6 and the theory of stacked vectors can be found on page 4 on VMLS. The original code block can be found below."
   ]
  },
  {
   "cell_type": "code",
   "execution_count": 25,
   "metadata": {},
   "outputs": [
    {
     "name": "stdout",
     "output_type": "stream",
     "text": [
      "[ 1 -2  1  1  0]\n"
     ]
    }
   ],
   "source": [
    "import numpy as np\n",
    "x = np.array([1, -2])\n",
    "y = np.array([1,1,0])\n",
    "z = np.concatenate((x,y))\n",
    "print(z)"
   ]
  },
  {
   "cell_type": "markdown",
   "metadata": {},
   "source": [
    "For my rendition of this, I first create two vectors. The first vector contains integer values from 1 to 4 and the second is an addition of four to each element of the original vector. I then concatenate the two vectors and print all of the vectors."
   ]
  },
  {
   "cell_type": "code",
   "execution_count": 26,
   "metadata": {},
   "outputs": [
    {
     "name": "stdout",
     "output_type": "stream",
     "text": [
      "Vector X: [1 2 3 4]\n",
      "Vector Y: [5 6 7 8]\n",
      "Concatenated Vector, Z: [1 2 3 4 5 6 7 8]\n"
     ]
    }
   ],
   "source": [
    "import numpy as np\n",
    "# Vector definition\n",
    "x = np.array([1, 2, 3, 4])\n",
    "y = np.array([x[0] + 4, x[1] + 4, x[2] + 4, x[3] + 4])\n",
    "# Concatenate vector\n",
    "z = np.concatenate((x,y))\n",
    "# Print the vectors\n",
    "print(\"Vector X:\", x)\n",
    "print(\"Vector Y:\", y)\n",
    "print(\"Concatenated Vector, Z:\", z)"
   ]
  },
  {
   "cell_type": "markdown",
   "metadata": {},
   "source": [
    "Code Block 4 - For the fourth code block we are examining the addition of two vectors. The original code block can be found in the python companion on page 10. The theory for this can be found on page 11 of VMLS. The original code block can be found below."
   ]
  },
  {
   "cell_type": "code",
   "execution_count": 27,
   "metadata": {},
   "outputs": [
    {
     "name": "stdout",
     "output_type": "stream",
     "text": [
      "Sum of arrays: [101 202 303]\n",
      "Difference of arrays: [ -99 -198 -297]\n"
     ]
    }
   ],
   "source": [
    "import numpy as np\n",
    "x = np.array([1,2,3])\n",
    "y = np.array([100,200,300])\n",
    "print('Sum of arrays:', x+y)\n",
    "print('Difference of arrays:', x-y)"
   ]
  },
  {
   "cell_type": "markdown",
   "metadata": {},
   "source": [
    "My rendition of this example involves two vectors. The first vector is defined with set values, the second vector then has its elements assigned with random values that are predicated on the original vector. For example, for the first element of b, we take the first element of a as the minimum in the random calculation and then the maximum is calculated by taking a multiple of the second element from a and then multiplying it with the first element of a. This patten is repeated for all of the succeeding values."
   ]
  },
  {
   "cell_type": "code",
   "execution_count": 28,
   "metadata": {},
   "outputs": [
    {
     "name": "stdout",
     "output_type": "stream",
     "text": [
      "Sum of a and b: [ 9  8 15 22]\n",
      "Difference of arrays: [-5  0 -3 -6]\n"
     ]
    }
   ],
   "source": [
    "import numpy as np\n",
    "import random\n",
    "# Vector definition\n",
    "a = np.array([2, 4, 6, 8])\n",
    "b = np.array([random.randint(a[0], a[1] * a[0]), random.randint(a[1], a[0] * a[1]), random.randint(a[2], a[3] * a[2]), random.randint(a[3], a[2] * a[3])])\n",
    "# Sum and difference\n",
    "print(\"Sum of a and b:\", a + b)\n",
    "print(\"Difference of arrays:\", a - b)"
   ]
  },
  {
   "cell_type": "markdown",
   "metadata": {},
   "source": [
    "Code Block 5 - For the fifth code block, I am taking the plot example from pages 9 and 10 of the python companion. The theory of this can be found on page 15 of VMLS. The original code block can be seen below."
   ]
  },
  {
   "cell_type": "code",
   "execution_count": 29,
   "metadata": {},
   "outputs": [
    {
     "data": {
      "image/png": "[encoded data removed]",
      "text/plain": [
       "<Figure size 640x480 with 1 Axes>"
      ]
     },
     "metadata": {},
     "output_type": "display_data"
    }
   ],
   "source": [
    "import matplotlib.pyplot as plt\n",
    "plt.ion()\n",
    "temps = [ 71, 71, 68, 69, 68, 69, 68, 74, 77, 82, 85, 86, 88, 86,\n",
    "85, 86, 84, 79, 77, 75, 73, 71, 70, 70, 69, 69, 69, 69, 67,\n",
    "68, 68, 73, 76, 77, 82, 84, 84, 81, 80, 78, 79, 78, 73, 72,\n",
    "70, 70, 68, 67 ]\n",
    "plt.plot(temps, '-bo')\n",
    "plt.savefig('temperature.pdf', format = 'pdf')\n",
    "plt.show()"
   ]
  },
  {
   "cell_type": "markdown",
   "metadata": {},
   "source": [
    "Now, for my rendition I am going to plot the values of two vectors that have been added together. These vectors are 100 elements in length and the elements in them are random. This code block uses the \"append\" method found later on the python companion."
   ]
  },
  {
   "cell_type": "code",
   "execution_count": 30,
   "metadata": {},
   "outputs": [
    {
     "data": {
      "image/png": "[encoded data removed]",
      "text/plain": [
       "<Figure size 640x480 with 1 Axes>"
      ]
     },
     "metadata": {},
     "output_type": "display_data"
    }
   ],
   "source": [
    "import numpy as np\n",
    "import random\n",
    "import matplotlib.pyplot as plt\n",
    "# Vector definitions\n",
    "a = []\n",
    "b = []\n",
    "# Assign random values to elements in vector\n",
    "for i in range(100):\n",
    "    a.append(random.random())\n",
    "    b.append(random.random())\n",
    "# Add vectors\n",
    "c = a + b\n",
    "# Plot\n",
    "plt.plot(c, '-bo')\n",
    "plt.show()"
   ]
  },
  {
   "cell_type": "markdown",
   "metadata": {},
   "source": [
    "Code Block 6 - For this code block, I am going to take a look at scalar-vector multiplication. The original code block can be found on page 11 of the python companion. The theory of this operation can be found on page 15 of VMLS. The original code block can be found below."
   ]
  },
  {
   "cell_type": "code",
   "execution_count": 31,
   "metadata": {},
   "outputs": [
    {
     "name": "stdout",
     "output_type": "stream",
     "text": [
      "[2.2 4.4 6.6]\n"
     ]
    }
   ],
   "source": [
    "import numpy as np\n",
    "x = np.array([1,2,3])\n",
    "print(2.2*x)"
   ]
  },
  {
   "cell_type": "markdown",
   "metadata": {},
   "source": [
    "For my rendition, I am going to perform scalar-vector multiplication based off of the vector size."
   ]
  },
  {
   "cell_type": "code",
   "execution_count": 32,
   "metadata": {},
   "outputs": [
    {
     "name": "stdout",
     "output_type": "stream",
     "text": [
      "Original Vector: [1 2 4 5 6 7]\n",
      "Scalar Multiplied Vector: [ 6 12 24 30 36 42]\n"
     ]
    }
   ],
   "source": [
    "import numpy as np\n",
    "x = np.array([1, 2, 4, 5, 6, 7])\n",
    "y = len(x) * x\n",
    "print(\"Original Vector:\", x)\n",
    "print(\"Scalar Multiplied Vector:\", y)"
   ]
  },
  {
   "cell_type": "markdown",
   "metadata": {},
   "source": [
    "Code Block 7 - For the seventh code block, I am going to dive into linear combination. The original code block can be found on page 12 of the python companion and the theory of this can be found on page 17 of VMLS. The original code block can be found below."
   ]
  },
  {
   "cell_type": "code",
   "execution_count": 33,
   "metadata": {},
   "outputs": [
    {
     "name": "stdout",
     "output_type": "stream",
     "text": [
      "[4. 5.]\n"
     ]
    }
   ],
   "source": [
    "import numpy as np\n",
    "a = np.array([1,2])\n",
    "b = np.array([3,4])\n",
    "alpha = -0.5\n",
    "beta = 1.5\n",
    "c = alpha*a + beta*b\n",
    "print(c)"
   ]
  },
  {
   "cell_type": "markdown",
   "metadata": {},
   "source": [
    "For my rendition, I am generating two random vectors that are comprised of 10 elements. These vectors are then scaled off of the middle element of the vector and then combined into a third vector."
   ]
  },
  {
   "cell_type": "code",
   "execution_count": 34,
   "metadata": {},
   "outputs": [
    {
     "name": "stdout",
     "output_type": "stream",
     "text": [
      "Vector a: [0.85226249 0.33766032 0.39193881 0.987842   0.84522741 0.07673927\n",
      " 0.47095763 0.24721789 0.86380362 0.7840817 ]\n",
      "Vector b: [0.22896021 0.65161428 0.09290719 0.6868429  0.51744293 0.52351399\n",
      " 0.35781774 0.90120774 0.00718673 0.72531563]\n",
      "Vector c: [0.83882945 0.62257295 0.37935159 1.19035314 0.98215656 0.33575074\n",
      " 0.58321656 0.67527891 0.73382921 1.03803679]\n",
      "Alpha: 0.8452274084651978\n",
      "Beta: 0.5174429306003135\n"
     ]
    }
   ],
   "source": [
    "import numpy as np\n",
    "import random\n",
    "# Vector definition\n",
    "a = []\n",
    "b = []\n",
    "# Append random values\n",
    "for i in range(10):\n",
    "    a.append(random.random())\n",
    "    b.append(random.random())\n",
    "# Grab middle element\n",
    "alpha = a[4]\n",
    "beta = b[4]\n",
    "# Create numpy arrays\n",
    "a = np.array(a)\n",
    "b = np.array(b)\n",
    "# Calculate new vector\n",
    "c = alpha*a + beta*b\n",
    "print(\"Vector a:\", a)\n",
    "print(\"Vector b:\", b)\n",
    "print(\"Vector c:\", c)\n",
    "print(\"Alpha:\", alpha)\n",
    "print(\"Beta:\", beta)"
   ]
  },
  {
   "cell_type": "markdown",
   "metadata": {},
   "source": [
    "Code Block 8 - This code block is based off of the inner product example that can be found on page 14 of the python companion. The theory of this can be found on page 20 of VMLS. The original code block can be found below."
   ]
  },
  {
   "cell_type": "code",
   "execution_count": 35,
   "metadata": {},
   "outputs": [
    {
     "name": "stdout",
     "output_type": "stream",
     "text": [
      "1.236162401468524\n"
     ]
    }
   ],
   "source": [
    "import numpy as np\n",
    "c = np.array([0.1,0.1,0.1,1.1]) #cash flow vector\n",
    "n = len(c)\n",
    "r = 0.05 #5% per-period interest rate\n",
    "d = np.array([(1+r)**-i for i in range(n)])\n",
    "NPV = c @ d\n",
    "print(NPV)"
   ]
  },
  {
   "cell_type": "markdown",
   "metadata": {},
   "source": [
    "The only difference from the original code block to my rendition is that the interest rate is randomly generated. The minimum value of this random interest rate is 0.01 and the maximum is 0.10. The way that this number was generated can be found at the following link: https://www.w3schools.com/python/ref_random_uniform.asp"
   ]
  },
  {
   "cell_type": "code",
   "execution_count": 36,
   "metadata": {},
   "outputs": [
    {
     "name": "stdout",
     "output_type": "stream",
     "text": [
      "1.3309583328199663\n"
     ]
    }
   ],
   "source": [
    "import numpy as np\n",
    "import random\n",
    "c = np.array([0.1,0.1,0.1,1.1]) #cash flow vector\n",
    "n = len(c)\n",
    "r = random.uniform(0.01, 0.1)\n",
    "d = np.array([(1+r)**-i for i in range(n)])\n",
    "NPV = c @ d\n",
    "print(NPV)"
   ]
  },
  {
   "cell_type": "markdown",
   "metadata": {},
   "source": [
    "Code 9 - This code block examines slicing in python. The original code block can be found on page 7 of the python companion. The theory of slicing can be found on page 4 of VMLS. The original code block can be found below."
   ]
  },
  {
   "cell_type": "code",
   "execution_count": 37,
   "metadata": {},
   "outputs": [
    {
     "name": "stdout",
     "output_type": "stream",
     "text": [
      "[ 7 -5 -1 -1  8 -2]\n"
     ]
    }
   ],
   "source": [
    "import numpy as np\n",
    "x = np.array([1,8,3,2,1,9,7])\n",
    "d = x[1:] - x[:-1]\n",
    "print(d)"
   ]
  },
  {
   "cell_type": "markdown",
   "metadata": {},
   "source": [
    "For my rendition, I am adding the values instead of subtracting them."
   ]
  },
  {
   "cell_type": "code",
   "execution_count": 38,
   "metadata": {},
   "outputs": [
    {
     "name": "stdout",
     "output_type": "stream",
     "text": [
      "[ 9 11  5  3 10 16]\n"
     ]
    }
   ],
   "source": [
    "import numpy as np\n",
    "x = np.array([1,8,3,2,1,9,7])\n",
    "d = x[1:] + x[:-1]\n",
    "print(d)"
   ]
  },
  {
   "cell_type": "markdown",
   "metadata": {},
   "source": [
    "Code Block 10 - For the last code block, we are going to look at unit vectors. The application of this can be found on page 8 of the python companion. The theory of this can be found on page 5 of VMLS. The original code block can be found below."
   ]
  },
  {
   "cell_type": "code",
   "execution_count": 39,
   "metadata": {},
   "outputs": [
    {
     "name": "stdout",
     "output_type": "stream",
     "text": [
      "[0. 0. 1. 0.]\n"
     ]
    }
   ],
   "source": [
    "import numpy as np\n",
    "i = 2\n",
    "n = 4\n",
    "x = np.zeros(n)\n",
    "x[i] = 1\n",
    "print(x)"
   ]
  },
  {
   "cell_type": "markdown",
   "metadata": {},
   "source": [
    "For my rendition, I am going to randomly create a unit vector. e.g. The length of the vector will be an arbitrary number of elements from 5 to 10 and location of i will be randomly selected based on the size of the vector."
   ]
  },
  {
   "cell_type": "code",
   "execution_count": 40,
   "metadata": {},
   "outputs": [
    {
     "name": "stdout",
     "output_type": "stream",
     "text": [
      "[0. 0. 0. 0. 0. 0. 0. 1. 0.]\n"
     ]
    }
   ],
   "source": [
    "import numpy as np\n",
    "import random\n",
    "n = random.randint(5, 10)\n",
    "i = random.randint(0, n - 1)\n",
    "x = np.zeros(n)\n",
    "x[i] = 1\n",
    "print(x)"
   ]
  },
  {
   "cell_type": "markdown",
   "metadata": {},
   "source": [
    "Most of my examples involved random number generations. These random numbers followed the method that is found on page 9 of the python companion. Most of theory that was taken place can be found in the corresponding pages of VMLS."
   ]
  }
 ],
 "metadata": {
  "kernelspec": {
   "display_name": "Python 3 (ipykernel)",
   "language": "python",
   "name": "python3"
  },
  "language_info": {
   "codemirror_mode": {
    "name": "ipython",
    "version": 3
   },
   "file_extension": ".py",
   "mimetype": "text/x-python",
   "name": "python",
   "nbconvert_exporter": "python",
   "pygments_lexer": "ipython3",
   "version": "3.11.4"
  }
 },
 "nbformat": 4,
 "nbformat_minor": 4
}
