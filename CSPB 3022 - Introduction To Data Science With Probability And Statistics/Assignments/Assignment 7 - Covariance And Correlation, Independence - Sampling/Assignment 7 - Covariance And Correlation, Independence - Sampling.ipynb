{
 "cells": [
  {
   "cell_type": "code",
   "execution_count": 1,
   "id": "e6a23aae",
   "metadata": {
    "deletable": false,
    "editable": false
   },
   "outputs": [],
   "source": [
    "# Initialize Otter\n",
    "import otter\n",
    "grader = otter.Notebook(\"Assignment 7 - Covariance And Correlation, Independence - Sampling.ipynb\")"
   ]
  },
  {
   "cell_type": "markdown",
   "id": "ab2812fa-72b8-4e9d-8ac3-af3b0437c214",
   "metadata": {},
   "source": [
    "# Homework 7: \n",
    "\n",
    "## Due on Gradescope\n",
    "\n",
    "\n",
    "## Collaboration Policy\n",
    "\n",
    "Data science is a collaborative activity.  However a key step in learning and retention is **creating solutions on your own.**  \n",
    "\n",
    "Please see the **Course Syllabus for the Collaboration Policy**.\n",
    "\n",
    "On the other hand, the following are some **examples of things which would NOT usually be\n",
    "considered to be cheating**:\n",
    " - Working on a HW problem on your own first and then discussing with a classmate a particular part in the problem solution where you are stuck.  After clarifying any questions you should then continue to write your solution independently.\n",
    " - Asking someone (or searching online) how a particular construct in the language works.\n",
    " - Asking someone (or searching online) how to formulate a particular construct in the language.\n",
    " - Asking someone for help in finding an error in your program.  \n",
    " - Asking someone why a particular construct does not work as you expected in a given program.\n",
    "   \n",
    "\n",
    "To test whether you are truly doing your own work and retaining what you've learned you should be able to easily reproduce from scratch and explain a HW solution that was your own when asked in office hours by an Instructor or on a quiz/exam.   \n",
    "\n",
    "\n",
    "If you have difficulty in formulating the general solution to a problem on your own, or\n",
    "you have difficulty in translating that general solution into a program, it is advisable to see\n",
    "your instructor.\n",
    "\n",
    "We are here to help!  Visit OH Hours and/or post questions on Piazza!\n"
   ]
  },
  {
   "cell_type": "markdown",
   "id": "b040a7c3-e466-403d-9884-5b8969f8aec3",
   "metadata": {},
   "source": [
    "If while completing this assignment you reference any websites other than those linked in this assignment or provided on Canvas please list those references here:\n",
    "\n",
    "**External references**:  *list any websites you referenced"
   ]
  },
  {
   "cell_type": "code",
   "execution_count": null,
   "id": "93140281",
   "metadata": {},
   "outputs": [],
   "source": []
  },
  {
   "cell_type": "markdown",
   "id": "1ee34b34-778f-48d8-87a7-173cd97a049c",
   "metadata": {},
   "source": [
    "#### Grading\n",
    "Grading is broken down into autograded answers and manually graded answers. \n",
    "\n",
    "For autograded answers, the results of your code are compared to provided and/or hidden tests.\n",
    "\n",
    "For manually graded answers you must show and explain all steps.  Graders will evaluate how well you answered the question and/or fulfilled the requirements of the question.\n",
    "\n",
    "\n",
    "### Score breakdown\n",
    "\n",
    "\n",
    "\n",
    "Question | Points | Grading Type\n",
    "--- | --- | ---\n",
    "Question 1abc | 3 | autograded\n",
    "Question 1d | 2 | manual\n",
    "Question 2 | 9 | manual\n",
    "Question 3 | 7 | autograded\n",
    "Question 4 | 2 | manual\n",
    "Question 5ad | 5 | manual\n",
    "Question 5bcef | 6 | autograded\n",
    "Question 6abe| 7 | manual\n",
    "Question 6cd| 3 | autograded\n",
    "Question 7a | 1 | autograded\n",
    "Question 7bcd | 5 | manual\n",
    "|Total | 50"
   ]
  },
  {
   "cell_type": "code",
   "execution_count": 2,
   "id": "4a8b68c6-e69d-4da4-a604-265b23aedf84",
   "metadata": {
    "scrolled": true
   },
   "outputs": [],
   "source": [
    "import numpy as np\n",
    "import pandas as pd\n",
    "import math\n",
    "import scipy.stats as stats\n",
    "from scipy import special\n",
    "import matplotlib\n",
    "import matplotlib.pyplot as plt\n",
    "import seaborn as sns\n",
    "from IPython.display import display, Latex, Markdown\n",
    "\n",
    "plt.style.use('fivethirtyeight')\n",
    "# Default plot configurations\n",
    "plt.rcParams['figure.figsize'] = (16,8)\n",
    "plt.rcParams['figure.dpi'] = 150\n",
    "sns.set()\n",
    "\n",
    "%matplotlib inline"
   ]
  },
  {
   "cell_type": "markdown",
   "id": "856aad1b-a8c8-4f18-99b6-abdfafe5b5ee",
   "metadata": {},
   "source": [
    "<a id='top'></a>\n",
    "---\n",
    "**Shortcuts:**  [Problem 2](#p2) | [Problem 3](#p3) | [Problem 4](#p4) |  [Problem 5](#p5) | [Problem 6](#p6) | [Problem 7](#p7) | \n",
    "\n",
    "               \n",
    "---\n",
    "<hr style=\"border: 5px solid #003262;\" />\n",
    "<hr style=\"border: 1px solid #fdb515;\" />\n",
    "\n"
   ]
  },
  {
   "cell_type": "markdown",
   "id": "0cda729b-9ad2-4222-abc4-c10b228384f3",
   "metadata": {},
   "source": [
    "# Part 1:  Joint Distributions, Covariance and Correlation"
   ]
  },
  {
   "cell_type": "markdown",
   "id": "27a12946-6112-45b9-84db-a4b87acf645c",
   "metadata": {},
   "source": [
    "## (5 pts) Problem 1 :\n",
    "\n",
    "Suppose $X$ and $Y$ are two discrete random variables with the following joint probability mass function:\n",
    "\n",
    "\n",
    "\n",
    "$$\n",
    "\\begin{array}{|c|c|c|}\n",
    "\\hline\n",
    " & Y=1 & Y=2 \\\\\n",
    "\\hline\n",
    "X=1 & \\frac{1}{3} &  \\\\\n",
    "\\hline\n",
    "X=2 & \\frac{1}{6} & 0  \\\\\n",
    "\\hline\n",
    "X=4 & \\frac{1}{12} & \\frac{1}{3}  \\\\\n",
    "\\hline\n",
    "\\end{array}\n",
    "$$\n"
   ]
  },
  {
   "cell_type": "markdown",
   "id": "7e59ab05-5276-4932-af58-d82d3b5a1369",
   "metadata": {
    "deletable": false,
    "editable": false
   },
   "source": [
    "\n",
    "\n",
    "**Part A)**\n",
    "What is $P(X=1, Y=2)$?  \n"
   ]
  },
  {
   "cell_type": "code",
   "execution_count": 3,
   "id": "d84d80d4-c4dd-467c-9046-ada6ec2bbd44",
   "metadata": {
    "tags": []
   },
   "outputs": [],
   "source": [
    "prob_xequals1_and_yequals2 = 1 - ((1 / 3) + (1 / 6) + (1 / 12) + (1 / 3) + 0)"
   ]
  },
  {
   "cell_type": "code",
   "execution_count": 4,
   "id": "caa823bd",
   "metadata": {
    "deletable": false,
    "editable": false
   },
   "outputs": [
    {
     "data": {
      "text/html": [
       "<p><strong><pre style='display: inline;'>q1a</pre></strong> passed! 🌟</p>"
      ],
      "text/plain": [
       "q1a results: All test cases passed!"
      ]
     },
     "execution_count": 4,
     "metadata": {},
     "output_type": "execute_result"
    }
   ],
   "source": [
    "grader.check(\"q1a\")"
   ]
  },
  {
   "cell_type": "markdown",
   "id": "2fb03469-1224-4562-9e0e-2cc16a0801e1",
   "metadata": {
    "deletable": false,
    "editable": false
   },
   "source": [
    "**Part B)**\n",
    "Find the marginal PMF for X, (i.e. find $P(X=x)$ for $x=1, 2, 4$).  "
   ]
  },
  {
   "cell_type": "code",
   "execution_count": 5,
   "id": "4b4599ba-927b-47c7-b93c-096674fd231a",
   "metadata": {
    "tags": []
   },
   "outputs": [],
   "source": [
    "prob_x_equals_1 = (1 / 3) + (1 / 12)\n",
    "prob_x_equals_2 = (1 / 6) + 0\n",
    "prob_x_equals_4 = (1 / 12) + (1 / 3)"
   ]
  },
  {
   "cell_type": "code",
   "execution_count": 6,
   "id": "40fbbd31",
   "metadata": {
    "deletable": false,
    "editable": false
   },
   "outputs": [
    {
     "data": {
      "text/html": [
       "<p><strong><pre style='display: inline;'>q1b</pre></strong> passed! 🌈</p>"
      ],
      "text/plain": [
       "q1b results: All test cases passed!"
      ]
     },
     "execution_count": 6,
     "metadata": {},
     "output_type": "execute_result"
    }
   ],
   "source": [
    "grader.check(\"q1b\")"
   ]
  },
  {
   "cell_type": "markdown",
   "id": "8586d42d-929f-48bf-9584-cb1611bc8c06",
   "metadata": {
    "deletable": false,
    "editable": false
   },
   "source": [
    "**Part C)**\n",
    "Find the marginal PMF for Y (i.e. find $P(Y=y)$ for $y = 1, 2$)"
   ]
  },
  {
   "cell_type": "code",
   "execution_count": 7,
   "id": "7ef525f0-79a5-4242-874e-49d7cb4d6706",
   "metadata": {
    "tags": []
   },
   "outputs": [],
   "source": [
    "prob_y_equals_1 = (1 / 3) + (1 / 6) + (1 / 12)\n",
    "prob_y_equals_2 = (1 / 12) + 0 + (1 / 3)"
   ]
  },
  {
   "cell_type": "code",
   "execution_count": 8,
   "id": "7b45136c",
   "metadata": {
    "deletable": false,
    "editable": false
   },
   "outputs": [
    {
     "data": {
      "text/html": [
       "<p><strong><pre style='display: inline;'>q1c</pre></strong> passed! ✨</p>"
      ],
      "text/plain": [
       "q1c results: All test cases passed!"
      ]
     },
     "execution_count": 8,
     "metadata": {},
     "output_type": "execute_result"
    }
   ],
   "source": [
    "grader.check(\"q1c\")"
   ]
  },
  {
   "cell_type": "markdown",
   "id": "49e53047-ab5f-4215-94a6-158050bce375",
   "metadata": {
    "deletable": false,
    "editable": false
   },
   "source": [
    "<!-- BEGIN QUESTION -->\n",
    "\n",
    "**Part D)**\n",
    "Are $X$ and $Y$ independent or dependent?  Fully justify your answer in the cell below using LaTeX and the mathematical definition of independence."
   ]
  },
  {
   "cell_type": "markdown",
   "id": "9cccebcd",
   "metadata": {},
   "source": [
    "The mathematical definition of independence says\n",
    "\n",
    "$$\n",
    "P(a \\cap b) = P(a)P(b).\n",
    "$$\n",
    "\n",
    "Take for example when $X = 1$ and $Y = 1$. The joint probability in this case is \n",
    "\n",
    "$$\n",
    "P((X = 1) \\cap (Y = 1)) = \\frac{1}{3}.\n",
    "$$\n",
    "\n",
    "This means, if these variables are independent we constitute that \n",
    "\n",
    "$$\n",
    "P((X = 1) \\cap (Y = 1)) = P(X = 1)P(Y = 1)\n",
    "$$\n",
    "\n",
    "is true. We know from the previous parts of this problem that $P(X = 1) \\frac{5}{12}$ and $P(Y = 1) = \\frac{7}{12}$. Putting this together we can see\n",
    "\n",
    "$$\n",
    "P(X = 1)P(Y = 1) = \\frac{5}{12} \\cdot \\frac{7}{12} = \\frac{35}{144}\n",
    "$$\n",
    "\n",
    "which is **NOT** equal to the value of $P((X = 1) \\cap (Y = 1)) = \\frac{1}{3}$. Because of this we can then say\n",
    "\n",
    "$$\n",
    "P((X = 1) \\cap (Y = 1)) \\neq P(X = 1)P(Y = 1)\n",
    "$$\n",
    "\n",
    "and therefore we can conclude from this one example that $X$ and $Y$ are **NOT INDEPENDENT**. Showing that one of these cases is not independent is enough to conclude that these variables are not independent."
   ]
  },
  {
   "cell_type": "markdown",
   "id": "bc7b55a0-57be-41bf-8095-b43b21ca0ff4",
   "metadata": {
    "deletable": false,
    "editable": false
   },
   "source": [
    "<!-- END QUESTION -->\n",
    "\n",
    "To check your answer to question 1d, enter a boolean value, True or False (note to receive credit on 1d you must mathematically justify your answer in the cell above). "
   ]
  },
  {
   "cell_type": "code",
   "execution_count": 9,
   "id": "5a8df35e-09b6-43fb-bcdc-78d516b8ce00",
   "metadata": {
    "tags": []
   },
   "outputs": [],
   "source": [
    "x_y_independent = False"
   ]
  },
  {
   "cell_type": "code",
   "execution_count": 10,
   "id": "99d10ae8",
   "metadata": {
    "deletable": false,
    "editable": false
   },
   "outputs": [
    {
     "data": {
      "text/html": [
       "<p><strong><pre style='display: inline;'>q1d_check</pre></strong> passed! 🎉</p>"
      ],
      "text/plain": [
       "q1d_check results: All test cases passed!"
      ]
     },
     "execution_count": 10,
     "metadata": {},
     "output_type": "execute_result"
    }
   ],
   "source": [
    "grader.check(\"q1d_check\")"
   ]
  },
  {
   "cell_type": "markdown",
   "id": "595cdfd1-862a-420a-91b0-8d660a635335",
   "metadata": {},
   "source": [
    "***\n",
    "\n",
    "[Back to top](#top)\n",
    "\n",
    "<a id='p2'></a>\n",
    "\n",
    "\n",
    "## (9 pts) Problem 2 :\n",
    "\n",
    "The following parts are **NOT** related:\n"
   ]
  },
  {
   "cell_type": "markdown",
   "id": "45d4001d-80ba-4b2b-8929-ba7157f7cfa8",
   "metadata": {
    "deletable": false,
    "editable": false
   },
   "source": [
    "<!-- BEGIN QUESTION -->\n",
    "\n",
    "**Part A)**\n",
    "If $\\text{Cov}(X,Y)=0$, what does this tell us about the random variables X and Y?  \n"
   ]
  },
  {
   "cell_type": "markdown",
   "id": "a64065ae",
   "metadata": {},
   "source": [
    "If the covariance of two variables is 0, this implies that there is **no linear relationship** between the two variables. It does not implicate necessarily that the two variables are independent, it just tells us that there is no linear relationship between these two variables."
   ]
  },
  {
   "cell_type": "markdown",
   "id": "3a5ef2e1-521f-4a8e-9d30-0372d8d1e4b7",
   "metadata": {
    "deletable": false,
    "editable": false
   },
   "source": [
    "<!-- END QUESTION -->\n",
    "\n",
    "<!-- BEGIN QUESTION -->\n",
    "\n",
    "**Part B)**  Given the following joint pmf for discrete random variables $X$ and $Y$:\n",
    "\n",
    "$$\n",
    "\\begin{array}{|c|c|c|c|}\n",
    "\\hline\n",
    " & Y=0 & Y=1 & Y=2 \\\\\n",
    "\\hline\n",
    "X=0 & \\frac{1}{6} & \\frac{1}{4} &\\frac{1}{8} \\\\\n",
    "\\hline\n",
    "X=1 & \\frac{1}{8} & \\frac{1}{6} &\\frac{1}{6} \\\\\n",
    "\\hline\n",
    "\\end{array}\n",
    "$$\n",
    "\n",
    "\n",
    " - i).  Calculate $\\text{Cov}(X,Y)$.  \n",
    " - ii).  Calculate $\\rho(X,Y)$   \n",
    " \n",
    "\n",
    "\n",
    "Show all steps for both parts using Markdown and LaTeX in the cell below:"
   ]
  },
  {
   "cell_type": "markdown",
   "id": "9213d494",
   "metadata": {},
   "source": [
    "### Part i\n",
    "\n",
    "The mathematical formula for calculating the covariance of two variables is \n",
    "\n",
    "$$\n",
    "\\text{Cov}(X,Y) = E[XY] - E[X]E[Y].\n",
    "$$\n",
    "\n",
    "We first need to fill out a table so that we have the marginal PMF of each variable:\n",
    "\n",
    "$$\n",
    "\\begin{array}{|c|c|c|c|c|}\n",
    "\\hline\n",
    " & Y=0 & Y=1 & Y=2 & \\\\\n",
    "\\hline\n",
    "X=0 & \\frac{1}{6} & \\frac{1}{4} &\\frac{1}{8} & \\frac{13}{24} \\\\\n",
    "\\hline\n",
    "X=1 & \\frac{1}{8} & \\frac{1}{6} &\\frac{1}{6} & \\frac{11}{24}  \\\\\n",
    "\\hline\n",
    " & \\frac{7}{24} & \\frac{10}{24} & \\frac{7}{24} & 1 \\\\\n",
    "\\hline\n",
    "\\end{array}\n",
    "$$\n",
    "\n",
    "We next calculate $E(X)$ which is \n",
    "\n",
    "$$\n",
    "E(X) = \\sum_{i = 0}^{1} X_{i} P(X_{i}) = 0 \\cdot \\frac{13}{24} + 1 \\cdot \\frac{11}{24}.\n",
    "$$\n",
    "\n",
    "Now $E(y)$ which is \n",
    "\n",
    "$$\n",
    "E(Y) = \\sum_{i = 0}^{1} Y_{i} P(Y_{i}) = 0 \\cdot \\frac{7}{24} + 1 \\cdot \\frac{10}{24} + 2 \\cdot \\frac{7}{24} = \\frac{10}{24} + \\frac{14}{24} = 1.\n",
    "$$\n",
    "\n",
    "Now $E(XY)$ which is \n",
    "\n",
    "$$\n",
    "E(XY) = (1 \\cdot 0) \\cdot \\frac{1}{8} + (1 \\cdot 1) \\cdot \\frac{1}{6} + (1 \\cdot 2) \\cdot \\frac{1}{6} = 0 + \\frac{3}{6} = \\frac{12}{24}.\n",
    "$$\n",
    "\n",
    "Now, combining these results we then have\n",
    "\n",
    "$$\n",
    "\\text{Cov}(X,Y) = E[XY] - E[X]E[Y] = \\frac{12}{24} - \\frac{11}{24} = \\color{blue}{\\frac{1}{24}}.\n",
    "$$\n",
    "\n",
    "### Part ii\n",
    "\n",
    "The mathematical for correlation is \n",
    "\n",
    "$$\n",
    "\\rho(X,Y) = \\frac{\\text{Cov}(X,Y)}{\\text{SD}(X)\\text{SD}(Y)}\n",
    "$$\n",
    "\n",
    "All we need to do is calculate the standard deviation of $X$ and $Y$. The formula for standard deviation is \n",
    "\n",
    "$$\n",
    "\\sigma_{\\alpha} = \\sqrt{\\text{Var}(\\alpha)} = \\sqrt{E(\\alpha^{2}) - E(\\alpha)^{2}}.\n",
    "$$\n",
    "\n",
    "So we first need to calculate the variances of $X$ and $Y$. The variance of $X$ is \n",
    "\n",
    "\\begin{align}\n",
    "\\text{Var(X)} & = E(X^{2}) - E(X)^{2} \\\\\n",
    "& = \\left(\\sum_{i} X_{i}^{2} P(X_{i}) \\right) - \\left(\\sum_{i} X_{i} P(X_{i}) \\right)^{2} \\\\\n",
    "& = \\left(0^{2} \\cdot \\frac{13}{24} + 1^{2} \\cdot \\frac{11}{24} \\right) - \\left( 0 \\cdot \\frac{13}{24} + 1 \\cdot \\frac{11}{24} \\right)^{2} \\\\\n",
    "& = \\frac{11}{24} - \\left( \\frac{11}{24} \\right)^{2} = \\frac{11}{24} \\left( 1 - \\frac{11}{24} \\right) = \\frac{11}{24} \\cdot \\frac{13}{24} = \\color{blue}{\\frac{143}{576}}.\n",
    "\\end{align}\n",
    "\n",
    "The variance of $Y$ is then\n",
    "\n",
    "\\begin{align}\n",
    "\\text{Var(Y)} & = E(Y^{2}) - E(Y)^{2} \\\\\n",
    "& = \\left(\\sum_{i} Y_{i}^{2} P(Y_{i}) \\right) - \\left(\\sum_{i} Y_{i} P(Y_{i}) \\right)^{2} \\\\\n",
    "& = \\left( 0^{2} \\cdot \\frac{7}{24} + 1^{2} \\cdot \\frac{10}{24} + 2^{2} \\cdot \\frac{7}{24} \\right) - \\left( 0 \\cdot \\frac{7}{24} + 1 \\cdot \\frac{10}{24} + 2 \\cdot \\frac{7}{24} \\right)^{2} \\\\\n",
    "& = \\left( \\frac{10}{24} + \\frac{28}{24} \\right) - \\left( \\frac{10}{24} + \\frac{14}{24} \\right)^{2} \\\\\n",
    "& = \\frac{38}{24} - 1^{2} = \\color{blue}{\\frac{14}{24}}.\n",
    "\\end{align}\n",
    "\n",
    "This then means our standard deviations are then\n",
    "\n",
    "\\begin{align}\n",
    "\\sigma_{Y} & = \\color{blue}{\\sqrt{\\frac{143}{576}}} \\\\\n",
    "\\sigma_{Y} & = \\color{blue}{\\sqrt{\\frac{14}{24}}}\n",
    "\\end{align}\n",
    "\n",
    "Putting this altogether the correlation of $X$ and $Y$ is then\n",
    "\n",
    "\\begin{align}\n",
    "\\rho(X,Y) & = \\frac{1 / 24}{\\sqrt{\\frac{143}{576}}\\sqrt{\\frac{14}{24}}} \\\\\n",
    "& = \\frac{\\sqrt{\\frac{1}{576}}}{\\sqrt{\\frac{143}{576}}\\sqrt{\\frac{14}{24}}} \\\\\n",
    "& = \\sqrt{\\frac{24}{143 \\cdot 14}} = \\sqrt{\\frac{12}{143 \\cdot 7}} \\\\\n",
    "& = \\sqrt{\\frac{12}{1001}} = \\color{blue}{2 \\sqrt{\\frac{3}{1001}}}.\n",
    "\\end{align}\n"
   ]
  },
  {
   "cell_type": "markdown",
   "id": "9ba3c773",
   "metadata": {
    "deletable": false,
    "editable": false
   },
   "source": [
    "<!-- END QUESTION -->\n",
    "\n",
    "To check your answer for Problem 2bi, enter the answer you came up with (just the number) in the cell below. Note that this is just a public test. Full credit requires that you show all your work written in LaTeX fully justifying your answer in the cell above.  "
   ]
  },
  {
   "cell_type": "code",
   "execution_count": 11,
   "id": "a64e545f-499c-4e32-8d46-ed45a9625849",
   "metadata": {
    "tags": []
   },
   "outputs": [],
   "source": [
    "cov_xy = 1 / 24"
   ]
  },
  {
   "cell_type": "code",
   "execution_count": 12,
   "id": "a848c5f2",
   "metadata": {
    "deletable": false,
    "editable": false
   },
   "outputs": [
    {
     "data": {
      "text/html": [
       "<p><strong><pre style='display: inline;'>q2bi_check</pre></strong> passed! 🎉</p>"
      ],
      "text/plain": [
       "q2bi_check results: All test cases passed!"
      ]
     },
     "execution_count": 12,
     "metadata": {},
     "output_type": "execute_result"
    }
   ],
   "source": [
    "grader.check(\"q2bi_check\")"
   ]
  },
  {
   "cell_type": "markdown",
   "id": "68bbf30a",
   "metadata": {
    "deletable": false,
    "editable": false
   },
   "source": [
    "To check your answer for Problem 2bii, enter the answer you came up with (just the number) in the cell below. Note that this is just a public test. Full credit requires that you show all your work written in LaTeX fully justifying your answer in the cell above.  "
   ]
  },
  {
   "cell_type": "code",
   "execution_count": 13,
   "id": "08376899-cbc6-4999-a677-edbdc3024bb3",
   "metadata": {
    "tags": []
   },
   "outputs": [],
   "source": [
    "p_xy = 2 * np.sqrt(3 / 1001)"
   ]
  },
  {
   "cell_type": "code",
   "execution_count": 14,
   "id": "25a7c0d3",
   "metadata": {
    "deletable": false,
    "editable": false
   },
   "outputs": [
    {
     "data": {
      "text/html": [
       "<p><strong><pre style='display: inline;'>q2bii_check</pre></strong> passed! 🙌</p>"
      ],
      "text/plain": [
       "q2bii_check results: All test cases passed!"
      ]
     },
     "execution_count": 14,
     "metadata": {},
     "output_type": "execute_result"
    }
   ],
   "source": [
    "grader.check(\"q2bii_check\")"
   ]
  },
  {
   "cell_type": "markdown",
   "id": "569df411-47f2-4872-b68e-51bbf5bb43ad",
   "metadata": {
    "deletable": false,
    "editable": false
   },
   "source": [
    "<!-- BEGIN QUESTION -->\n",
    "\n",
    "**Part C)**\n",
    "This part is **NOT** related to the parts above.  \n",
    "Suppose you're only given the following information about two joint random variables $X$ and $Y$:  \n",
    "\n",
    "$$ \n",
    "\\mu_X = 6, \\hspace{2mm} \\mu_Y = 5, \\hspace{2mm} \\sigma_X^2 = 4, \\hspace{2mm} \\sigma_Y^2=9 \\text{ and }  E[XY]=27 \n",
    "$$\n",
    "\n",
    "For each of the quantities below, calculate if you have enough information, showing all steps.  If not, explain what additional info you'd need.\n",
    "\n",
    "i).  $\\text{Cov}(X,Y)$\n",
    "\n",
    "ii).  $\\text{Cov}(Y,X)$\n",
    "\n",
    "iii).  $\\rho(X,Y)$\n",
    "\n",
    "Answer all parts in the ONE markdown cell below, fully justifying your answer:"
   ]
  },
  {
   "cell_type": "markdown",
   "id": "c3d864b3",
   "metadata": {},
   "source": [
    "### Part i\n",
    "\n",
    "Using the given information the covariance of $X$ and $Y$ can be calculated with\n",
    "\n",
    "$$\n",
    "\\text{Cov}(X,Y) = E[XY] - E[X]E[Y] = E[XY] - \\mu_{X}\\mu_{Y} = 27 - (6)(5) = 27 - 30 = \\color{blue}{-3}.\n",
    "$$\n",
    "\n",
    "### Part ii\n",
    "\n",
    "The covariance of $Y$ and $X$ is the same as the covariance of $X$ and $Y$ in this context, so\n",
    "\n",
    "$$\n",
    "\\text{Cov}(Y,X) = \\color{blue}{-3}.\n",
    "$$\n",
    "\n",
    "### Part iii\n",
    "\n",
    "The correlation of $X$ and $Y$ is calculated with \n",
    "\n",
    "$$\n",
    "\\rho(X,Y) = \\frac{\\text{Cov}(X,Y)}{\\sigma_{X}\\sigma_{Y}} = \\frac{-3}{\\sqrt{4}\\sqrt{9}} = \\frac{-3}{2(3)} = \\color{blue}{-\\frac{1}{2}}.\n",
    "$$"
   ]
  },
  {
   "cell_type": "markdown",
   "id": "85b36ab1",
   "metadata": {
    "deletable": false,
    "editable": false
   },
   "source": [
    "<!-- END QUESTION -->\n",
    "\n",
    "To check your answers for Problem 2c, enter the answers you came up with (just the numbers) in the cell below. Note that this is just a public test. Full credit requires that you show all your work written in LaTeX fully justifying your answer in the cell above.  "
   ]
  },
  {
   "cell_type": "code",
   "execution_count": 15,
   "id": "42c1ce0d-feb0-4d94-831e-81ec5a47fe62",
   "metadata": {
    "tags": []
   },
   "outputs": [],
   "source": [
    "cov_xy = -3\n",
    "cov_yx = -3\n",
    "p_xy = - (1 / 2)"
   ]
  },
  {
   "cell_type": "code",
   "execution_count": 16,
   "id": "29e25439",
   "metadata": {
    "deletable": false,
    "editable": false
   },
   "outputs": [
    {
     "data": {
      "text/html": [
       "<p><strong><pre style='display: inline;'>q2c_check</pre></strong> passed! 🚀</p>"
      ],
      "text/plain": [
       "q2c_check results: All test cases passed!"
      ]
     },
     "execution_count": 16,
     "metadata": {},
     "output_type": "execute_result"
    }
   ],
   "source": [
    "grader.check(\"q2c_check\")"
   ]
  },
  {
   "cell_type": "markdown",
   "id": "d02bc584-7f23-4c6d-a5db-873be8461c29",
   "metadata": {},
   "source": [
    "<hr>"
   ]
  },
  {
   "cell_type": "markdown",
   "id": "a742ea12-91dc-4a13-a1e4-b151a72e4add",
   "metadata": {},
   "source": [
    "# Part 2 Introduction\n",
    "\n",
    "The outcome of the US presidential election in 2016 took many people and many pollsters by surprise. In this assignment we will carry out a simulation study / post mortem in an attempt to understand what happened."
   ]
  },
  {
   "cell_type": "markdown",
   "id": "55651b39-e559-482d-95e8-0c8de0cf9f13",
   "metadata": {},
   "source": [
    "***\n",
    "\n",
    "[Back to top](#top)\n",
    "\n",
    "<a id='p3'></a>\n",
    "\n",
    "\n",
    "## (7 pts) Problem 3"
   ]
  },
  {
   "cell_type": "markdown",
   "id": "239c8e21-a4d8-4f62-8b83-aee8861aea5c",
   "metadata": {},
   "source": [
    "In Pennsylvania, 6,165,478 people voted in the 2016 Presidential election.\n",
    "Trump received 48.18% of the vote and Clinton recieved 47.46%.\n",
    "This doesn't add up to 100% because other candidates received votes.\n",
    "All together these other candidates received 100% - 48.18% - 47.46% = 4.36% of the vote.\n",
    "\n",
    "The table below displays the counts and proportions.\n",
    "\n",
    "\n",
    "|   Voted for   |  Trump|    Clinton|    Other|\n",
    "|-----------|-----------|-----------|---------|\n",
    "| Probability      |   0.4818   | 0.4746  |   0.0436 |\n",
    "| Number of people | 2,970,733  | 2,926,441 | 268,304 |"
   ]
  },
  {
   "cell_type": "markdown",
   "id": "26fdd41e-4d41-4178-b42c-fe6f287f2df9",
   "metadata": {
    "deletable": false,
    "editable": false
   },
   "source": [
    "### 3a)\n",
    "Suppose we pick a simple random sample of 20 of the 6,165,478 Pennsylvania (PA) voters. \n",
    "\n",
    "In the sample, let $N_T$ be the number of Trump voters, $N_C$ the number of Clinton voters, and $N_O$ the number of \"other\" voters. Then $N_T$, $N_C$, and $N_O$ are random: they depend on how the sample comes out. Such quantities are called \"statistics\".\n",
    "\n",
    "Pick the correct option: $N_T + N_C + N_O$ is equal to\n",
    "\n",
    "(a) 3\n",
    "\n",
    "(b) 20\n",
    "\n",
    "(c) 6,165,478\n",
    "\n",
    "(d) a random quantity\n",
    "\n",
    "*Note*: if your answer is (d), put  **ans_3a = 'd'**  for the purpose of grading. Passing the test below **does NOT** mean you answer is correct (there are hidden tests that will check this question when you submit your assignment). The test below only checks if your answer is in the correct format."
   ]
  },
  {
   "cell_type": "code",
   "execution_count": 17,
   "id": "e2245057-ebee-4616-9416-15f1648c476f",
   "metadata": {
    "tags": []
   },
   "outputs": [],
   "source": [
    "ans_3a = 'c'"
   ]
  },
  {
   "cell_type": "code",
   "execution_count": 18,
   "id": "4b95f296",
   "metadata": {
    "deletable": false,
    "editable": false
   },
   "outputs": [
    {
     "data": {
      "text/html": [
       "<p><strong><pre style='display: inline;'>q3a</pre></strong> passed! 🙌</p>"
      ],
      "text/plain": [
       "q3a results: All test cases passed!"
      ]
     },
     "execution_count": 18,
     "metadata": {},
     "output_type": "execute_result"
    }
   ],
   "source": [
    "grader.check(\"q3a\")"
   ]
  },
  {
   "cell_type": "markdown",
   "id": "37122a0c-462a-4a3e-9dab-ca30f204e39b",
   "metadata": {
    "deletable": false,
    "editable": false
   },
   "source": [
    "### 3b) \n",
    "Pick the correct option.\n",
    "\n",
    "A simple random sample of 20 PA voters is like a sample drawn at random with replacement, because\n",
    "\n",
    "(a) that's the definition of \"simple random sample\"\n",
    "\n",
    "(b) there are only 3 categories of voters, which is small in comparison to 20\n",
    "\n",
    "(c) there are only 20 people in the sample, which is small in comparison to the total number of PA voters\n",
    "\n",
    "(d) all PA voters are equally likely to be selected\n",
    "\n",
    "*Note*: if your answer is (d), put **ans_3a = 'd'**  for the purpose of grading. Passing the test below **does NOT** mean you answer is correct (there are hidden tests that will check this question when you submit your assignment). The test below only checks if your answer is in the correct format."
   ]
  },
  {
   "cell_type": "code",
   "execution_count": 19,
   "id": "b3323302-6142-4524-952f-d43bc3c4c7f6",
   "metadata": {
    "tags": []
   },
   "outputs": [],
   "source": [
    "ans_3b = 'c'"
   ]
  },
  {
   "cell_type": "code",
   "execution_count": 20,
   "id": "de494c79",
   "metadata": {
    "deletable": false,
    "editable": false
   },
   "outputs": [
    {
     "data": {
      "text/html": [
       "<p><strong><pre style='display: inline;'>q3b</pre></strong> passed! 💯</p>"
      ],
      "text/plain": [
       "q3b results: All test cases passed!"
      ]
     },
     "execution_count": 20,
     "metadata": {},
     "output_type": "execute_result"
    }
   ],
   "source": [
    "grader.check(\"q3b\")"
   ]
  },
  {
   "cell_type": "markdown",
   "id": "3f3af5f5-1b2b-446d-808a-b0c89c004013",
   "metadata": {
    "deletable": false,
    "editable": false
   },
   "source": [
    "### 3c)\n",
    "\n",
    "Let $t$, $c$, and $o$ be any three non-negative integers. For the sample defined in Part **a**, the probability that the sample contains $t$ Trump voters, $c$ Clinton voters and $o$ \"other\" voters is denoted by $P(N_T = t, N_C = c, N_O = o)$.\n",
    "\n",
    "Define a function `prob_sample_counts` that takes any three non-negative integers $t$, $c$, and $o$, and returns $P(N_T = t, N_C = c, N_O = o)$. The probability is 0 for some choices of the arguments, and your function should return 0 in those cases.\n",
    "\n",
    "Remember that Part **b** implies you can use results for sampling with replacement.\n"
   ]
  },
  {
   "cell_type": "code",
   "execution_count": 21,
   "id": "2ef87dda-6944-4174-a106-6e9fc73d8f28",
   "metadata": {
    "tags": []
   },
   "outputs": [],
   "source": [
    "def prob_sample_counts(t, c, o):\n",
    "    \"\"\"\n",
    "    Input:\n",
    "    t - number of votes for Trump\n",
    "    c - number of votes for Clinton\n",
    "    o - number of votes for Other\n",
    "    Return: The probability of getting a such sample\n",
    "    \"\"\"\n",
    "    if (t + c + o != 20):\n",
    "        return 0\n",
    "    else:\n",
    "        total = 6165478\n",
    "        trumpProb = np.power(0.4818, t)\n",
    "        clintonProb = np.power(0.4746, c)\n",
    "        otherProb = np.power(0.0436, o)\n",
    "        ret = (special.factorial(20) / (special.factorial(t) * special.factorial(c) * special.factorial(o))) * (trumpProb) * (clintonProb) * (otherProb)\n",
    "        return ret\n",
    "    # your code above this line"
   ]
  },
  {
   "cell_type": "code",
   "execution_count": 22,
   "id": "b54ac18d",
   "metadata": {
    "deletable": false,
    "editable": false
   },
   "outputs": [
    {
     "data": {
      "text/html": [
       "<p><strong><pre style='display: inline;'>q3c</pre></strong> passed! 🙌</p>"
      ],
      "text/plain": [
       "q3c results: All test cases passed!"
      ]
     },
     "execution_count": 22,
     "metadata": {},
     "output_type": "execute_result"
    }
   ],
   "source": [
    "grader.check(\"q3c\")"
   ]
  },
  {
   "cell_type": "markdown",
   "id": "d8955cac-1672-42a9-98ce-3f8ba002a6a4",
   "metadata": {
    "deletable": false,
    "editable": false
   },
   "source": [
    "### 3d) \n",
    "\n",
    "Check that your function determines a probability distribution by summing all the positive terms. You know what the sum should be. **Hint: You might need to iterate through certain values of c and t to compute the sum of all positive probabilities.**"
   ]
  },
  {
   "cell_type": "code",
   "execution_count": 23,
   "id": "18360126-332f-4ec4-8ee8-448c3d90f778",
   "metadata": {
    "tags": []
   },
   "outputs": [
    {
     "data": {
      "text/plain": [
       "1.0000000000000007"
      ]
     },
     "execution_count": 23,
     "metadata": {},
     "output_type": "execute_result"
    }
   ],
   "source": [
    "prob_3d = sum(prob_sample_counts(i, j, k) for i in range(0,21) for j in range(0, 21) for k in range(0,21))\n",
    "prob_3d"
   ]
  },
  {
   "cell_type": "code",
   "execution_count": 24,
   "id": "71a5520f",
   "metadata": {
    "deletable": false,
    "editable": false
   },
   "outputs": [
    {
     "data": {
      "text/html": [
       "<p><strong><pre style='display: inline;'>q3d</pre></strong> passed! ✨</p>"
      ],
      "text/plain": [
       "q3d results: All test cases passed!"
      ]
     },
     "execution_count": 24,
     "metadata": {},
     "output_type": "execute_result"
    }
   ],
   "source": [
    "grader.check(\"q3d\")"
   ]
  },
  {
   "cell_type": "markdown",
   "id": "82854a8f-0847-4561-98b6-c15bcdc6342f",
   "metadata": {
    "deletable": false,
    "editable": false
   },
   "source": [
    "### 3e)\n",
    "Use `prob_sample_counts` to find the chance that the sample consists of 11 Trump voters, 8 Clinton voters, and 1 \"other\" voter."
   ]
  },
  {
   "cell_type": "code",
   "execution_count": 25,
   "id": "108b70ea-2efe-4ca0-b3d4-9ca11a393717",
   "metadata": {
    "tags": []
   },
   "outputs": [
    {
     "data": {
      "text/plain": [
       "0.055092374118670545"
      ]
     },
     "execution_count": 25,
     "metadata": {},
     "output_type": "execute_result"
    }
   ],
   "source": [
    "prob_3e = prob_sample_counts(11, 8, 1)\n",
    "prob_3e"
   ]
  },
  {
   "cell_type": "code",
   "execution_count": 26,
   "id": "18dca147",
   "metadata": {
    "deletable": false,
    "editable": false
   },
   "outputs": [
    {
     "data": {
      "text/html": [
       "<p><strong><pre style='display: inline;'>q3e</pre></strong> passed! 💯</p>"
      ],
      "text/plain": [
       "q3e results: All test cases passed!"
      ]
     },
     "execution_count": 26,
     "metadata": {},
     "output_type": "execute_result"
    }
   ],
   "source": [
    "grader.check(\"q3e\")"
   ]
  },
  {
   "cell_type": "markdown",
   "id": "bebf7a4f-9ccd-49b4-ad7a-09e3d9da4215",
   "metadata": {
    "deletable": false,
    "editable": false
   },
   "source": [
    "### 3f)\n",
    "Write an expression that evaluates the chance that the sample contains at least 7 Trump voters, at least 7 Clinton voters, and at least 1 \"other\" voter. **Hint: You might find 3d useful.**"
   ]
  },
  {
   "cell_type": "code",
   "execution_count": 27,
   "id": "ce36b341-d62f-44c1-bc29-23649a009aa9",
   "metadata": {
    "tags": []
   },
   "outputs": [
    {
     "data": {
      "text/plain": [
       "0.46938707665092416"
      ]
     },
     "execution_count": 27,
     "metadata": {},
     "output_type": "execute_result"
    }
   ],
   "source": [
    "prob_3f = sum(prob_sample_counts(t, c, 20 - (t + c)) for t in range(7, 13) for c in range(7, 20 - t))\n",
    "prob_3f"
   ]
  },
  {
   "cell_type": "code",
   "execution_count": 28,
   "id": "7ff48885",
   "metadata": {
    "tags": []
   },
   "outputs": [
    {
     "name": "stdout",
     "output_type": "stream",
     "text": [
      "[2.98683815e-05 2.43845193e-04 1.47462957e-03 6.42072654e-03\n",
      " 1.90613646e-02 3.45815123e-02 2.47544488e-04 1.68412577e-03\n",
      " 8.14766658e-03 2.66069901e-02 5.26592055e-02 1.51971119e-03\n",
      " 8.27127214e-03 3.00118177e-02 6.53376545e-02 6.71740230e-03\n",
      " 2.74204054e-02 6.63288705e-02 2.02446482e-02 5.50923741e-02\n",
      " 3.72854416e-02]\n"
     ]
    }
   ],
   "source": [
    "a=np.array([prob_sample_counts(t, c, 20-(t+c)) for t in range(7, 13) for c in range(7, 20-t)])\n",
    "\n",
    "print(a)"
   ]
  },
  {
   "cell_type": "code",
   "execution_count": 29,
   "id": "cf9cde15",
   "metadata": {
    "deletable": false,
    "editable": false
   },
   "outputs": [
    {
     "data": {
      "text/html": [
       "<p><strong><pre style='display: inline;'>q3f</pre></strong> passed! 🚀</p>"
      ],
      "text/plain": [
       "q3f results: All test cases passed!"
      ]
     },
     "execution_count": 29,
     "metadata": {},
     "output_type": "execute_result"
    }
   ],
   "source": [
    "grader.check(\"q3f\")"
   ]
  },
  {
   "cell_type": "markdown",
   "id": "3bbde0bb-7aeb-466a-9e54-844dd456b7f0",
   "metadata": {
    "nbgrader": {
     "grade": false,
     "grade_id": "codebook",
     "locked": true,
     "schema_version": 2,
     "solution": false
    }
   },
   "source": [
    "## Election Polling\n",
    "\n",
    "Political polling is a type of public opinion polling that can at best represent a snapshot of public opinion at the particular moment in time. Voter opinion shifts from week to week, even day to day, as candidates battle it out on the campaign field.\n",
    "\n",
    "Polls usually start with a \"horse-race\" question, where respondents are asked whom they would vote for in a head-to-head race if the election were tomorrow: Candidate A or Candidate B. The survey begins with this question so that the respondent is not influenced by any of the other questions asked in the survey. Some of these other questions are asked to help assess how likely is it that the respondent will vote. Other questions are asked about age, education, and sex in order to adjust the findings if one group appears overly represented in the sample.\n",
    "\n",
    "Pollsters typically use [random digit dialing](https://en.wikipedia.org/wiki/Random_digit_dialing) to contact people."
   ]
  },
  {
   "cell_type": "markdown",
   "id": "021a9c6c-d3a4-4082-9cb4-430376180f62",
   "metadata": {
    "deletable": false,
    "editable": false
   },
   "source": [
    "<!-- BEGIN QUESTION -->\n",
    "\n",
    "***\n",
    "\n",
    "[Back to top](#top)\n",
    "\n",
    "<a id='p4'></a>\n",
    "\n",
    "## (2 pts) Problem 4"
   ]
  },
  {
   "cell_type": "markdown",
   "id": "195f026a-ab6b-478b-972b-84c1ddf471c8",
   "metadata": {
    "deletable": false,
    "editable": false
   },
   "source": [
    "\n",
    "If we're trying to predict the results of the Clinton vs. Trump 2016 presidential race:\n",
    "\n",
    "i).  What is the population of interest? \n",
    "\n",
    "ii).  What is the sampling frame?\n",
    "\n",
    "Give both of your answers in the same below in Markdown."
   ]
  },
  {
   "cell_type": "markdown",
   "id": "de043528",
   "metadata": {},
   "source": [
    "### Part i\n",
    "\n",
    "The population of interest are the people in the United States who are eligible to vote. This takes into account the people who are going to vote as well as the people who are not going to vote.\n",
    "\n",
    "### Part ii\n",
    "\n",
    "The sampling frame is the list of people who are registered to vote. This takes into account people who are most likely going to vote in the election."
   ]
  },
  {
   "cell_type": "markdown",
   "id": "3bf01900-4338-45a3-8d42-be5388578a88",
   "metadata": {
    "deletable": false,
    "editable": false,
    "nbgrader": {
     "grade": false,
     "grade_id": "examine-contents",
     "locked": true,
     "schema_version": 2,
     "solution": false
    }
   },
   "source": [
    "<!-- END QUESTION -->\n",
    "\n",
    "### How might the sampling frame differ from the population?\n",
    "\n",
    "After the fact, many experts have studied the 2016 election results. For example, according to the American Association for Public Opinion Research (AAPOR), predictions made before the election were flawed for three key reasons:\n",
    "\n",
    "1. voters changed their preferences a few days before the election\n",
    "2. those sampled were not representative of the voting population, e.g., some said that there was an overrepresentation of college graduates in some poll samples \n",
    "3. voters kept their support for Trump to themselves (hidden from the pollsters)\n",
    "\n",
    "\n",
    "\n",
    "The 1st and 3rd biases (voters changing preference and voters hiding their preference) can only be determined after the election. It might be possible to assess this with a post election survey where people were asked about these things.   \n",
    "\n",
    "In the rest of this assignment we will focus on analyzing the 2nd  type of bias:\n",
    "\n",
    "\n",
    "+ Question 5: We will carry out a study of the sampling error when there is no bias. In other words, we will try to compute the chance that we get the election result wrong even if we collect our sample in a manner that is completely correct. In this case, any **failure of our prediction is due entirely to random chance**.\n",
    "+ Question 6: We will carry out a study of the sampling error when there is bias of the second type from the list above. In other words, we will try to compute the chance that we get the election result wrong if we have a small systematic bias. In this case, any failure of our prediction is due to a **combination of random chance and our bias**.\n",
    "\n"
   ]
  },
  {
   "cell_type": "markdown",
   "id": "6e4775d0-bf4c-4425-b121-6b46a679ed7c",
   "metadata": {
    "nbgrader": {
     "grade": false,
     "grade_id": "examine-size",
     "locked": true,
     "schema_version": 2,
     "solution": false
    }
   },
   "source": [
    "### How large was the sampling error?\n",
    "\n",
    "In some states the race was very close, and it may have been simply sampling error, i.e., random chance that the majority of the voters chosen for the sample voted for Clinton.\n",
    "\n",
    "A 2- or 3-point polling error in Trump’s favor (typical error historically) would likely be enough to tip the Electoral College to him.\n",
    "\n",
    "One year after the 2016 election, Nate Silver (https://substack.com/@natesilver) wrote in\n",
    "*The Media Has A Probability Problem* that\n",
    "the \"media’s demand for certainty -- and its lack of statistical rigor -- is a bad match for our complex world.\"\n",
    "FiveThirtyEight forecasted that Clinton had about a 70 percent chance of winning.  \n",
    "\n",
    "We will first carry out a simulation study to assess the impact of the sampling error on the predictions.\n"
   ]
  },
  {
   "cell_type": "markdown",
   "id": "0bda0c9d-8e57-497e-9507-33c473ff664b",
   "metadata": {
    "nbgrader": {
     "grade": false,
     "grade_id": "load-data",
     "locked": true,
     "schema_version": 2,
     "solution": false
    }
   },
   "source": [
    "## The Electoral College\n",
    "\n",
    "The US president is chosen by the Electoral College, not by the\n",
    "popular vote. Each state is alotted a certain number of \n",
    "electoral college votes, as a function of their population.\n",
    "Whomever wins in the state gets all of the electoral college votes for that state.\n",
    "\n",
    "There are 538 electoral college votes (hence the name of the website Nate Silver started, FiveThirtyEight: https://projects.fivethirtyeight.com/polls/).\n",
    "\n",
    "Pollsters correctly predicted the election outcome in 46 of the 50 states. \n",
    "For these 46 states Trump received 231 and Clinton received 232 electoral college votes.\n",
    "\n",
    "The remaining 4 states accounted for a total of 75 votes, and \n",
    "whichever candidate received the majority of the electoral college votes in these states would win the election. \n",
    "\n",
    "These states were Florida, Michigan, Pennsylvania, and Wisconsin.\n",
    "\n",
    "|State |Electoral College Votes|\n",
    "| --- | --- |\n",
    "|florida | 29 |\n",
    "|michigan | 16 |\n",
    "|pennsylvania | 20 |\n",
    "|wisconsin | 10|\n",
    "\n",
    "For Donald Trump to win the election, he had to win either:\n",
    "* Florida + one (or more) other states\n",
    "* Michigan, Pennsylvania, and Wisconsin\n",
    "\n",
    "\n",
    "In the final results the electoral margins were very narrow in these four states, as seen below:\n",
    "\n",
    "\n",
    "|State | % Trump |   % Clinton | Total Voters |\n",
    "| --- | --- |  --- |  --- |\n",
    "|florida | 49.02 | 47.82 | 9,419,886  | \n",
    "|michigan | 47.50 | 47.27  |  4,799,284|\n",
    "|pennsylvania | 48.18 | 47.46 |  6,165,478|\n",
    "|wisconsin | 47.22 | 46.45  |  2,976,150|\n",
    "\n",
    "Those narrow electoral margins can make it hard to predict the outcome **given the sample sizes** that the polls used. "
   ]
  },
  {
   "cell_type": "markdown",
   "id": "784f58fe-cd3a-41d2-b382-c20543f00b32",
   "metadata": {},
   "source": [
    "---\n",
    "## Simulation Study of the Sampling Error\n",
    "\n",
    "Now that we know how people actually voted, we can carry\n",
    "out a simulation study that imitates the polling.\n",
    "\n",
    "Our ultimate goal in this problem is to use the actual voting percentages to simulate polling results and **understand the chance that we will incorrectly call the election for Hillary Clinton even if our sample was collected with absolutely no bias**."
   ]
  },
  {
   "cell_type": "markdown",
   "id": "cad32e4e-d9b1-4672-9947-cec618e3bfa4",
   "metadata": {
    "deletable": false,
    "editable": false,
    "nbgrader": {
     "grade": false,
     "grade_id": "q1a",
     "locked": true,
     "schema_version": 2,
     "solution": false
    }
   },
   "source": [
    "<!-- BEGIN QUESTION -->\n",
    "\n",
    "***\n",
    "\n",
    "[Back to top](#top)\n",
    "\n",
    "<a id='p5'></a>\n",
    "\n",
    "\n",
    "## Problem 5 (11 pts) \n",
    "\n",
    "#### Part A\n",
    "\n",
    "For your convenience, the actual results of the vote in the four pivotal states is repeated below:\n",
    "\n",
    "|State |% Trump |   % Clinton | Total Voters |\n",
    "| --- | --- |  --- |  --- |\n",
    "|florida | 49.02 | 47.82 | 9,419,886  | \n",
    "|michigan | 47.50 | 47.27  |  4,799,284|\n",
    "|pennsylvania | 48.18 | 47.46 |  6,165,478|\n",
    "|wisconsin | 47.22 | 46.45  |  2,976,150|\n",
    "\n",
    "\n",
    "Using the table above, write a function `draw_state_sample(N, state)` that returns a sample with replacement of N voters from the given state, using the percentages given in the table above. Your result should be returned as a list, where the first element is the number of Trump votes, the second element is the number of Clinton votes, and the third is the number of Other votes. For example, `draw_state_sample(1500, \"florida\")` could return `[727, 692, 81]`. You may assume that the state name is given in all lower case.  \n",
    "\n",
    "**Hint:** You might find `np.random.multinomial` useful.\n"
   ]
  },
  {
   "cell_type": "code",
   "execution_count": 30,
   "id": "94d2c3ed-76dc-4ced-8dc5-adf35733088b",
   "metadata": {
    "tags": []
   },
   "outputs": [],
   "source": [
    "def draw_state_sample(N, state):\n",
    "    trump = 0\n",
    "    clinton = 0\n",
    "    if (state == \"florida\"):\n",
    "        trump = 0.4902\n",
    "        clinton = 0.4782\n",
    "    elif (state == \"michigan\"):\n",
    "        trump = 0.4750\n",
    "        clinton = 0.4727\n",
    "    elif (state == \"pennsylvania\"):\n",
    "        trump = 0.4818\n",
    "        clinton = 0.4746\n",
    "    elif (state == \"wisconsin\"):\n",
    "        trump = 0.4722\n",
    "        clinton = 0.4645\n",
    "    other = 1 - (trump + clinton)\n",
    "    sample = np.random.multinomial(N, [trump, clinton, other])\n",
    "    return sample.tolist()"
   ]
  },
  {
   "cell_type": "code",
   "execution_count": 31,
   "id": "f9046436",
   "metadata": {
    "deletable": false,
    "editable": false
   },
   "outputs": [
    {
     "data": {
      "text/html": [
       "<p><strong><pre style='display: inline;'>q5a</pre></strong> passed! 🍀</p>"
      ],
      "text/plain": [
       "q5a results: All test cases passed!"
      ]
     },
     "execution_count": 31,
     "metadata": {},
     "output_type": "execute_result"
    }
   ],
   "source": [
    "grader.check(\"q5a\")"
   ]
  },
  {
   "cell_type": "markdown",
   "id": "f0e53201-786f-49cc-8361-3eccce9ddc60",
   "metadata": {
    "deletable": false,
    "editable": false
   },
   "source": [
    "<!-- END QUESTION -->\n",
    "\n",
    "#### Part B\n",
    "\n",
    "Now, create a function `trump_advantage` that takes in list of sample of votes (like the one returned by `draw_state_sample`) and returns the difference in the proportion of votes between Trump and Clinton. For example `trump_advantage([100, 60, 40])` should return `0.2`, since Trump had 50% of the votes in this sample and Clinton had 30%.  In contrast, `trump_advantage([60, 100, 40])` should return `-0.2`"
   ]
  },
  {
   "cell_type": "code",
   "execution_count": 32,
   "id": "8a9b8b2f-4c44-44cc-a57a-3339f6e1674c",
   "metadata": {
    "tags": []
   },
   "outputs": [],
   "source": [
    "def trump_advantage(voter_sample):\n",
    "    tot = sum(voter_sample)\n",
    "    trumpRat = voter_sample[0] / tot\n",
    "    clintonRat = voter_sample[1] / tot\n",
    "    return trumpRat - clintonRat"
   ]
  },
  {
   "cell_type": "code",
   "execution_count": 33,
   "id": "23062fd5",
   "metadata": {
    "deletable": false,
    "editable": false
   },
   "outputs": [
    {
     "data": {
      "text/html": [
       "<p><strong><pre style='display: inline;'>q5b</pre></strong> passed! ✨</p>"
      ],
      "text/plain": [
       "q5b results: All test cases passed!"
      ]
     },
     "execution_count": 33,
     "metadata": {},
     "output_type": "execute_result"
    }
   ],
   "source": [
    "grader.check(\"q5b\")"
   ]
  },
  {
   "cell_type": "markdown",
   "id": "615db96b-80fd-4671-9cb8-a91050279540",
   "metadata": {
    "deletable": false,
    "editable": false
   },
   "source": [
    "#### Part C\n",
    "\n",
    "Simulate Trump's advantage across 100,000 simple random samples of 1500 voters for the state of Pennsylvania and store the results of each simulation in an `np.array` called `simulations`. \n",
    "\n",
    "That is, `simulations[i]` should be Trump's proportion advantage for the `i+1`th simple random sample."
   ]
  },
  {
   "cell_type": "code",
   "execution_count": 34,
   "id": "d665c645-5ccb-4fd6-8707-970c5c2edb4a",
   "metadata": {
    "tags": []
   },
   "outputs": [],
   "source": [
    "simulations = np.array([trump_advantage(draw_state_sample(1500, \"pennsylvania\")) for _ in range(100000)])\n"
   ]
  },
  {
   "cell_type": "code",
   "execution_count": 35,
   "id": "59b61c7e",
   "metadata": {
    "deletable": false,
    "editable": false
   },
   "outputs": [
    {
     "data": {
      "text/html": [
       "<p><strong><pre style='display: inline;'>q5c</pre></strong> passed! 🙌</p>"
      ],
      "text/plain": [
       "q5c results: All test cases passed!"
      ]
     },
     "execution_count": 35,
     "metadata": {},
     "output_type": "execute_result"
    }
   ],
   "source": [
    "grader.check(\"q5c\")"
   ]
  },
  {
   "cell_type": "markdown",
   "id": "3b28b68a-5523-4084-86e9-0c41ff50794f",
   "metadata": {
    "deletable": false,
    "editable": false,
    "nbgrader": {
     "grade": false,
     "grade_id": "q1c",
     "locked": true,
     "schema_version": 2,
     "solution": false
    }
   },
   "source": [
    "<!-- BEGIN QUESTION -->\n",
    "\n",
    "#### Part D\n",
    "\n",
    "i).  Make a **frequency** histogram of `simulations`.   This is a histogram of the sampling distribution of Trump's proportion advantage in Pennsylvania. \n",
    "\n",
    "Hint: You should use the [`plt.hist`](https://matplotlib.org/3.1.1/api/_as_gen/matplotlib.pyplot.hist.html) function in your code.\n",
    "\n",
    "Make sure to include a title as well as axis labels. You can do this using `plt.title`, `plt.xlabel`, and `plt.ylabel`.\n",
    "\n",
    "ii).  Based on your simulation, what is the probability that a random sample of 1500 will correctly predict that Trump wins Pennsylvania? (i.e. what proportion of these simulations predict a Trump victory?)  Assign your answer to `prob_penn_1500_random_correct`\n"
   ]
  },
  {
   "cell_type": "code",
   "execution_count": 36,
   "id": "9347c48d-8907-4a2a-8b2b-74a47ec64275",
   "metadata": {
    "scrolled": true,
    "tags": []
   },
   "outputs": [
    {
     "data": {
      "image/png": "[encoded data removed]",
      "text/plain": [
       "<Figure size 2400x1200 with 1 Axes>"
      ]
     },
     "metadata": {},
     "output_type": "display_data"
    }
   ],
   "source": [
    "# Part (i):\n",
    "plt.hist(simulations)\n",
    "plt.xlabel(\"Advantage For Trump\")\n",
    "plt.ylabel(\"Frequency Of Advantage\")\n",
    "plt.title(\"Simulation Of Trump's Advantage In Pennsylvania\")\n",
    "# your code for the histogram above here.  The code below plots a red marker at the mean:\n",
    "plt.scatter(simulations.mean(), -1, marker='^', color='red', s=500);"
   ]
  },
  {
   "cell_type": "code",
   "execution_count": 37,
   "id": "eff7e62f-835c-4edf-b907-6a96b75d182f",
   "metadata": {
    "tags": []
   },
   "outputs": [
    {
     "data": {
      "text/plain": [
       "0.60607"
      ]
     },
     "execution_count": 37,
     "metadata": {},
     "output_type": "execute_result"
    }
   ],
   "source": [
    "# Part (ii):\n",
    "prob_penn_1500_random_correct = \\\n",
    "sum(simulations[i] > 0 for i in range(len(simulations))) / len(simulations)\n",
    "\n",
    "prob_penn_1500_random_correct"
   ]
  },
  {
   "cell_type": "markdown",
   "id": "2db917b5-1f6f-46ce-9c3f-3a0d10820009",
   "metadata": {
    "deletable": false,
    "editable": false
   },
   "source": [
    "<!-- END QUESTION -->\n",
    "\n",
    "Your result above allows us to calculate the chance that we will incorrectly call the election for Hillary Clinton in Pennsylvania based on the results of this random sample of 1500 even if our sample was collected with absolutely no bias:\n"
   ]
  },
  {
   "cell_type": "code",
   "execution_count": 38,
   "id": "62778948-5fee-4d58-a52d-c12eb004d616",
   "metadata": {
    "deletable": false,
    "editable": false
   },
   "outputs": [
    {
     "data": {
      "text/plain": [
       "0.39393"
      ]
     },
     "execution_count": 38,
     "metadata": {},
     "output_type": "execute_result"
    }
   ],
   "source": [
    "prob_penn_1500_random_incorrect = 1-prob_penn_1500_random_correct\n",
    "prob_penn_1500_random_incorrect"
   ]
  },
  {
   "cell_type": "markdown",
   "id": "772229cf-4ce2-4d64-b1b2-f9ffb12fa2ac",
   "metadata": {
    "deletable": false,
    "editable": false
   },
   "source": [
    "#### Part E\n",
    "\n",
    "Now write a function `trump_wins(N)` that creates a random sample of N voters for **each of the four crucial states** (that is N voters from Florida, N voters from Michigan, N voters from Pennsylvania, and N voters from Wisconsin) and returns 1 if Trump is predicted to win based on these samples and 0 if Trump is predicted to lose.   \n",
    "(Hint: use `draw_state_sample` from above) \n",
    "\n",
    "Recall that for Trump to win the election, he must either:\n",
    "* Win the state of Florida and 1 or more other states\n",
    "* Win Michigan, Pennsylvania, and Wisconsin"
   ]
  },
  {
   "cell_type": "markdown",
   "id": "92f12e3e",
   "metadata": {
    "deletable": false,
    "editable": false
   },
   "source": [
    "Then repeat 100,000 simulations of the election, i.e. call `trump_wins(1500)` 100,000 times and calculate what proportion of these simulations predict a Trump victory. Give your answer as a float stored in `proportion_trump`.\n",
    "\n",
    "This number represents the percent chance that samples of 1500 from each of the 4 states will correctly predict Trump's victory *if the samples were collected with absolutely no bias*. \n"
   ]
  },
  {
   "cell_type": "code",
   "execution_count": 39,
   "id": "b18a8492-de53-4dc2-8952-7759c95e265c",
   "metadata": {
    "tags": []
   },
   "outputs": [
    {
     "data": {
      "text/plain": [
       "0.69137"
      ]
     },
     "execution_count": 39,
     "metadata": {},
     "output_type": "execute_result"
    }
   ],
   "source": [
    "def trump_wins(N):\n",
    "    FL = draw_state_sample(N, \"florida\")\n",
    "    MI = draw_state_sample(N, \"michigan\")\n",
    "    PN = draw_state_sample(N, \"pennsylvania\")\n",
    "    WI = draw_state_sample(N, \"wisconsin\")\n",
    "    if ((FL[0] > FL[1]) and ((MI[0] > MI[1]) or (PN[0] > PN[1]) or (WI[0] > WI[1]))):\n",
    "        return 1\n",
    "    elif ((MI[0] > MI[1]) and (PN[0] > PN[1]) and (WI[0] > WI[1])):\n",
    "        return 1\n",
    "    else:\n",
    "        return 0\n",
    "    \n",
    "proportion_trump = sum([trump_wins(1500) for _ in range(100000)]) / 100000\n",
    "proportion_trump"
   ]
  },
  {
   "cell_type": "code",
   "execution_count": 40,
   "id": "6148f918",
   "metadata": {
    "deletable": false,
    "editable": false
   },
   "outputs": [
    {
     "data": {
      "text/html": [
       "<p><strong><pre style='display: inline;'>q5e</pre></strong> passed! 🎉</p>"
      ],
      "text/plain": [
       "q5e results: All test cases passed!"
      ]
     },
     "execution_count": 40,
     "metadata": {},
     "output_type": "execute_result"
    }
   ],
   "source": [
    "grader.check(\"q5e\")"
   ]
  },
  {
   "cell_type": "markdown",
   "id": "c37aa518-c5a4-49bf-ba71-ad4bc03f0fbb",
   "metadata": {
    "deletable": false,
    "editable": false
   },
   "source": [
    "#### Part F\n",
    "Based on your work above, what is the chance that we will incorrectly call the election for Hillary Clinton based on the results of random samples of 1500 people in these 4 battleground states **even if our samples were collected with absolutely no bias?**    "
   ]
  },
  {
   "cell_type": "code",
   "execution_count": 41,
   "id": "0d330204-458c-4351-8f66-5274d6acaf64",
   "metadata": {
    "tags": []
   },
   "outputs": [
    {
     "data": {
      "text/plain": [
       "0.30862999999999996"
      ]
     },
     "execution_count": 41,
     "metadata": {},
     "output_type": "execute_result"
    }
   ],
   "source": [
    "prob_election_1500_random_incorrect = 1 - proportion_trump\n",
    "prob_election_1500_random_incorrect"
   ]
  },
  {
   "cell_type": "code",
   "execution_count": 42,
   "id": "fc68c804",
   "metadata": {
    "deletable": false,
    "editable": false
   },
   "outputs": [
    {
     "data": {
      "text/html": [
       "<p><strong><pre style='display: inline;'>q5f</pre></strong> passed! 🙌</p>"
      ],
      "text/plain": [
       "q5f results: All test cases passed!"
      ]
     },
     "execution_count": 42,
     "metadata": {},
     "output_type": "execute_result"
    }
   ],
   "source": [
    "grader.check(\"q5f\")"
   ]
  },
  {
   "cell_type": "markdown",
   "id": "1055b87f-76ba-4821-9a27-5bf1ec44c1c2",
   "metadata": {
    "nbgrader": {
     "grade": false,
     "grade_id": "q2",
     "locked": true,
     "schema_version": 2,
     "solution": false
    }
   },
   "source": [
    "---\n",
    "## Simulation Study of Selection Bias\n",
    "\n",
    "According to [an article](https://blogs.lse.ac.uk/usappblog/2018/02/01/better-poll-sampling-would-have-cast-more-doubt-on-the-potential-for-hillary-clinton-to-win-the-2016-election/#Author) by Grotenhuis, Subramanian, Nieuwenhuis, Pelzer and Eisinga:\n",
    "\n",
    "> In a perfect world, polls sample from the population of voters, who would state their political preference perfectly clearly and then vote accordingly.\n",
    "\n",
    "That's the simulation study that we just performed. \n",
    "\n",
    "\n",
    "It's difficult to control for every source of selection bias.\n",
    "And, it's not possible to control for some of the other sources of bias.\n",
    "\n",
    "Next we investigate the effect of small sampling bias on the polling results in these four battleground states.  \n",
    "\n",
    "Throughout this problem, we'll examine the impacts of a 0.5 percent bias in favor of Clinton in each state. Such a bias has been suggested because highly educated voters tend to be more willing to participate in polls."
   ]
  },
  {
   "cell_type": "markdown",
   "id": "3bd763f5-1913-42a5-ab86-c4eecb395c32",
   "metadata": {
    "deletable": false,
    "editable": false,
    "nbgrader": {
     "grade": false,
     "grade_id": "q2a",
     "locked": true,
     "schema_version": 2,
     "solution": false
    }
   },
   "source": [
    "<!-- BEGIN QUESTION -->\n",
    "\n",
    "***\n",
    "\n",
    "[Back to top](#top)\n",
    "\n",
    "<a id='p6'></a>\n",
    "\n",
    "\n",
    "\n",
    "## Problem 6 (10 pts)\n",
    "\n",
    "Throughout this problem, adjust the selection of voters so that there is a 0.5% bias in favor of Clinton in each of these states. \n",
    "\n",
    "For example, in Pennsylvania, Clinton received 47.46\\% of the votes and Trump 48.18\\%. Increase the population of Clinton voters to 47.46\\% + 0.5\\%  and correspondingly decrease the percent of Trump voters. \n",
    "\n",
    "#### Part A\n",
    "\n",
    "Simulate Trump's advantage across 100,000 simple random samples of 1500 voters for the **state of Pennsylvania** and store the results of each simulation in an `np.array` called `biased_simulations`.\n",
    "\n",
    "That is, `biased_simulation[i]` should hold the result of the `i+1`th simulation.\n",
    "\n",
    "That is, your answer to this problem should be just like your answer from Question 5C, but now using samples that are biased as described above.\n"
   ]
  },
  {
   "cell_type": "code",
   "execution_count": 43,
   "id": "8ef2e788-d3bb-48e1-8324-2df4356ad591",
   "metadata": {
    "tags": []
   },
   "outputs": [],
   "source": [
    "def draw_biased_state_sample(N, state):\n",
    "    trump = 0\n",
    "    clinton = 0\n",
    "    bias = 0.005\n",
    "    if (state == \"florida\"):\n",
    "        trump = 0.4902 - bias\n",
    "        clinton = 0.4782 + bias\n",
    "    elif (state == \"michigan\"):\n",
    "        trump = 0.4750 - bias\n",
    "        clinton = 0.4727 + bias\n",
    "    elif (state == \"pennsylvania\"):\n",
    "        trump = 0.4818 - bias\n",
    "        clinton = 0.4746 + bias\n",
    "    elif (state == \"wisconsin\"):\n",
    "        trump = 0.4722 - bias\n",
    "        clinton = 0.4645 + bias\n",
    "    other = 1 - (trump + clinton)\n",
    "    sample = np.random.multinomial(N, [trump, clinton, other])\n",
    "    return sample.tolist()\n",
    "    \n",
    "biased_simulations = \\\n",
    "np.array([trump_advantage(draw_biased_state_sample(1500, \"pennsylvania\")) \\\n",
    "for _ in range(100000)])"
   ]
  },
  {
   "cell_type": "code",
   "execution_count": 44,
   "id": "4477505d",
   "metadata": {
    "deletable": false,
    "editable": false
   },
   "outputs": [
    {
     "data": {
      "text/html": [
       "<p><strong><pre style='display: inline;'>q6a</pre></strong> passed! 🎉</p>"
      ],
      "text/plain": [
       "q6a results: All test cases passed!"
      ]
     },
     "execution_count": 44,
     "metadata": {},
     "output_type": "execute_result"
    }
   ],
   "source": [
    "grader.check(\"q6a\")"
   ]
  },
  {
   "cell_type": "markdown",
   "id": "53713747-8d91-481a-87cf-15ee2ee54be2",
   "metadata": {
    "deletable": false,
    "editable": false
   },
   "source": [
    "<!-- END QUESTION -->\n",
    "\n",
    "<!-- BEGIN QUESTION -->\n",
    "\n",
    "#### Part B\n",
    "\n",
    "Create a plot of **overlaid DENSITY** histograms of the following:\n",
    " - The new sampling distribution of Trump's proportion advantage in Pennsylvania using these biased samples \n",
    "  - The sampling distribution of the unbiased samples from Problem 5D (plotted as a density, not a frequency histogram)\n",
    "  \n",
    "Include 2 markers (of different colors) with the sample means for each distribution (see 5D for code how to do this).  The colors of the markers should correspond to the colors of the density histograms.\n",
    "\n",
    "Make sure to give your plot a title, label the x and y axes and include a legend.\n",
    "Use the parameter `alpha` to adjust the transparency of each histogram.\n",
    "\n",
    "\n"
   ]
  },
  {
   "cell_type": "code",
   "execution_count": 45,
   "id": "c3c88a23-e6dd-4875-ac6f-b6a0036751c4",
   "metadata": {
    "tags": []
   },
   "outputs": [
    {
     "data": {
      "image/png": "[encoded data removed]",
      "text/plain": [
       "<Figure size 2400x1200 with 1 Axes>"
      ]
     },
     "metadata": {},
     "output_type": "display_data"
    }
   ],
   "source": [
    "plt.hist(biased_simulations)\n",
    "plt.hist(simulations)\n",
    "plt.xlabel(\"Advantage For Trump\")\n",
    "plt.ylabel(\"Frequency Of Advantage\")\n",
    "plt.title(\"Simulation Of Trump's Advantage In Pennsylvania\")\n",
    "# your code for the histogram above here.  The code below plots a red marker at the mean:\n",
    "plt.scatter(biased_simulations.mean(), -1, marker='^', color='blue', s=500);\n",
    "plt.scatter(simulations.mean(), -1, marker='^', color='orange', s=500);"
   ]
  },
  {
   "cell_type": "markdown",
   "id": "82c7712c-cb85-49db-bb2d-b5a9a6a13a17",
   "metadata": {
    "deletable": false,
    "editable": false
   },
   "source": [
    "<!-- END QUESTION -->\n",
    "\n",
    "#### Part C\n",
    "\n",
    "Use your result above to calculate the chance that we will incorrectly call the election for Hillary Clinton in Pennsylvania based on the results of this random sample of 1500 if our sample was collected with this $0.5\\%$ bias:\n"
   ]
  },
  {
   "cell_type": "code",
   "execution_count": 46,
   "id": "82d407f7-785c-4b34-bef4-01b6e09bad36",
   "metadata": {
    "tags": []
   },
   "outputs": [
    {
     "data": {
      "text/plain": [
       "0.54916"
      ]
     },
     "execution_count": 46,
     "metadata": {},
     "output_type": "execute_result"
    }
   ],
   "source": [
    "prob_penn_1500_biased_incorrect = 1 - (sum(biased_simulations[i] > 0 for i in range(len(biased_simulations))) / len(biased_simulations))\n",
    "prob_penn_1500_biased_incorrect"
   ]
  },
  {
   "cell_type": "code",
   "execution_count": 47,
   "id": "de7118a2",
   "metadata": {
    "deletable": false,
    "editable": false
   },
   "outputs": [
    {
     "data": {
      "text/html": [
       "<p><strong><pre style='display: inline;'>q6c</pre></strong> passed! 🙌</p>"
      ],
      "text/plain": [
       "q6c results: All test cases passed!"
      ]
     },
     "execution_count": 47,
     "metadata": {},
     "output_type": "execute_result"
    }
   ],
   "source": [
    "grader.check(\"q6c\")"
   ]
  },
  {
   "cell_type": "markdown",
   "id": "967f39c1-7679-4050-9f4c-914c9ac17c18",
   "metadata": {
    "deletable": false,
    "editable": false
   },
   "source": [
    "#### Part D\n",
    "\n",
    "Now perform 100,000 simulations of $1500$ voters from **each of the four states** (1500 voters from Pennsylvania, 1500 voters from Michigan, etc)  and return the proportion of these simulations that result in a Trump victory. This is the same fraction that you computed in Question 5e, but now using your biased samples.\n",
    "\n",
    "Give your answer as `proportion_trump_biased`.\n",
    "\n",
    "This number represents the chance that a sample biased 0.5% in Hillary Clinton's favor will correctly predict Trump's victory. "
   ]
  },
  {
   "cell_type": "code",
   "execution_count": 48,
   "id": "61173956-0231-42d3-bc7a-81b3dfffd0f0",
   "metadata": {
    "tags": []
   },
   "outputs": [
    {
     "data": {
      "text/plain": [
       "0.46524"
      ]
     },
     "execution_count": 48,
     "metadata": {},
     "output_type": "execute_result"
    }
   ],
   "source": [
    "def trump_wins_biased(N): \n",
    "    FL = draw_biased_state_sample(N, \"florida\")\n",
    "    MI = draw_biased_state_sample(N, \"michigan\")\n",
    "    PN = draw_biased_state_sample(N, \"pennsylvania\")\n",
    "    WI = draw_biased_state_sample(N, \"wisconsin\")\n",
    "    if ((FL[0] > FL[1]) and ((MI[0] > MI[1]) or (PN[0] > PN[1]) or (WI[0] > WI[1]))):\n",
    "        return 1\n",
    "    elif ((MI[0] > MI[1]) and (PN[0] > PN[1]) and (WI[0] > WI[1])):\n",
    "        return 1\n",
    "    else:\n",
    "        return 0\n",
    "\n",
    "proportion_trump_biased = sum([trump_wins_biased(1500) for _ in range(100000)]) / 100000\n",
    "proportion_trump_biased"
   ]
  },
  {
   "cell_type": "code",
   "execution_count": 49,
   "id": "8687be63",
   "metadata": {
    "deletable": false,
    "editable": false
   },
   "outputs": [
    {
     "data": {
      "text/html": [
       "<p><strong><pre style='display: inline;'>q6d</pre></strong> passed! ✨</p>"
      ],
      "text/plain": [
       "q6d results: All test cases passed!"
      ]
     },
     "execution_count": 49,
     "metadata": {},
     "output_type": "execute_result"
    }
   ],
   "source": [
    "grader.check(\"q6d\")"
   ]
  },
  {
   "cell_type": "markdown",
   "id": "079c618c",
   "metadata": {},
   "source": [
    "#### Part E"
   ]
  },
  {
   "cell_type": "markdown",
   "id": "d66ccee7",
   "metadata": {
    "deletable": false,
    "editable": false
   },
   "source": [
    "<!-- BEGIN QUESTION -->\n",
    "\n",
    "Summarize the findings from these simulations:\n",
    "\n",
    "i).  Based on your simulations, what was the **chance of error** in correctly predicting that Trump wins using the **unbiased** samples of $1500$ people from each state?      Many people, even well educated ones, assume that this number should be $0\\%$. After all, how could a non-biased sample be wrong?   Give a mathematical explanation as to why it isn't $0\\%$ (or close to $0\\%$).   This is the type of incredibly important intuition we hope to develop in you throughout this class and your future data science coursework.\n",
    "\n",
    "\n",
    "ii).  What was the chance of error in predicting the results using the **biased** samples and how different is it from your answer in part(i)?  Recall, we only biased the samples by $0.5\\%$. However, even a bias this small in the percentages can lead to a much larger chance of error in prediction of the final result."
   ]
  },
  {
   "cell_type": "markdown",
   "id": "0c25be77",
   "metadata": {},
   "source": [
    "### Part i\n",
    "\n",
    "To calculate the chance of error in correctly predicting that Trump wins using the unbiased samples of 1500 people from each state is simply 1 minus proportion of times Trump wins. Calculating this we find\n",
    "\n",
    "$$\n",
    "\\text{C.O.E} = 1 - \\text{proportion\\_trump} = 1 - 0.6931 = \\color{blue}{0.3069}.\n",
    "$$\n",
    "\n",
    "Non biased sample can be wrong because of some of the aforementioned reasons from before. For instance, we people polled, some hid their support for Trump due to many reasons. This can cause the polls to be incorrect and thus not predict correct results. The chance of error in this case is the proportion of times Trump loses, and this is not close to zero because if it were, it would essentially say that Clinton wins almost 100% of the time and this is not realistic.\n",
    "\n",
    "### Part ii\n",
    "\n",
    "To calculate this chance of error, we do the same as we did in the prior part for the unbiased scenario. So\n",
    "\n",
    "$$\n",
    "\\text{C.O.E} = 1 - \\text{proportion\\_trump\\_biased} = 1 - 0.46429 = \\color{blue}{0.53571}\n",
    "$$\n",
    "\n",
    "is the chance of error in the biased example. This essentially is the percentage of times Trump would lose in the biased scenario. This is drastically different than the unbiased example and thus explains why so many predicted that Clinton would win even though she did not."
   ]
  },
  {
   "cell_type": "markdown",
   "id": "81a7df2f",
   "metadata": {
    "deletable": false,
    "editable": false,
    "nbgrader": {
     "grade": false,
     "grade_id": "q2c",
     "locked": true,
     "schema_version": 2,
     "solution": false
    }
   },
   "source": [
    "<!-- END QUESTION -->\n",
    "\n",
    "\n",
    "***\n",
    "\n",
    "[Back to top](#top)\n",
    "\n",
    "<a id='p7'></a>\n",
    "\n",
    "## Question 7 (6 pts)\n",
    "\n",
    "Would increasing the sample size have helped?\n",
    "\n",
    "#### Part A\n",
    "\n",
    "\n",
    "Try a sample size of 5,000 (in each of the 4 states) and run 100,000 simulations of a sample with replacement. What proportion of the 100,000 times is Trump incorrectly predicted to lose the election in the unbiased setting? In the biased setting?\n",
    "\n",
    "Give your answers as `high_sample_size_unbiased_proportion_trump` and `high_sample_size_biased_proportion_trump`.\n",
    "\n",
    "\n",
    "\n",
    "*Note: Don't worry if your solution takes a while to run.* "
   ]
  },
  {
   "cell_type": "code",
   "execution_count": 50,
   "id": "047e3d5b",
   "metadata": {
    "tags": []
   },
   "outputs": [
    {
     "name": "stdout",
     "output_type": "stream",
     "text": [
      "0.17339000000000004 0.5532\n"
     ]
    }
   ],
   "source": [
    "\n",
    "high_sample_size_unbiased_proportion_incorrect = 1 - sum([trump_wins(5000) for _ in range(100000)]) / 100000\n",
    "high_sample_size_biased_proportion_incorrect = 1 - sum([trump_wins_biased(5000) for _ in range(100000)]) / 100000\n",
    "\n",
    "print(high_sample_size_unbiased_proportion_incorrect, high_sample_size_biased_proportion_incorrect)\n"
   ]
  },
  {
   "cell_type": "code",
   "execution_count": 51,
   "id": "0b493444",
   "metadata": {
    "deletable": false,
    "editable": false
   },
   "outputs": [
    {
     "data": {
      "text/html": [
       "<p><strong><pre style='display: inline;'>q7a</pre></strong> passed! ✨</p>"
      ],
      "text/plain": [
       "q7a results: All test cases passed!"
      ]
     },
     "execution_count": 51,
     "metadata": {},
     "output_type": "execute_result"
    }
   ],
   "source": [
    "grader.check(\"q7a\")"
   ]
  },
  {
   "cell_type": "markdown",
   "id": "ae9f33b8",
   "metadata": {
    "deletable": false,
    "editable": false
   },
   "source": [
    "<!-- BEGIN QUESTION -->\n",
    "\n",
    "#### Part B\n",
    "\n",
    "Compare your observations from 7a to your observations in 6d.  Did the chance of error increase or decrease in each case and why?  What do these changes imply about the impact of sample size on the sampling error and on the bias?   "
   ]
  },
  {
   "cell_type": "markdown",
   "id": "7814e127",
   "metadata": {},
   "source": [
    "The chance of error decreased in the unbiased example (drastically) and increased (minutely). The drastic change in the unbiased sample implicates that having a higher sample size will deduce the chance of error significantly. Conversely, having a higher sample size with a biased sample will only slightly affect the chance of error and still not give an accurate representation of the results that are being sought after."
   ]
  },
  {
   "cell_type": "markdown",
   "id": "6935c0db-9ac3-4de2-9f62-c9a55a096388",
   "metadata": {
    "deletable": false,
    "editable": false
   },
   "source": [
    "<!-- END QUESTION -->\n",
    "\n",
    "<!-- BEGIN QUESTION -->\n",
    "\n",
    "#### Part C\n",
    "\n",
    "Is it possible to correctly predict Trump's victory with less than $1\\%$ error using **unbiased sampling?**  Rerun the simulation (in each of the 4 states) with increasing sample sizes and 100,000 simulations to determine if you can find an approximate minimum sample size (it doesn't have to be exact) such that the probability of correctly predicting Trump's victory is at least $99\\%$ (assuming your sample is unbiased).  \n",
    "\n"
   ]
  },
  {
   "cell_type": "code",
   "execution_count": 52,
   "id": "0d59cb37-8189-47ac-8c91-9072f9746938",
   "metadata": {
    "tags": []
   },
   "outputs": [
    {
     "name": "stdout",
     "output_type": "stream",
     "text": [
      "Incorrect Prediction: 1.0%\n",
      "Sample Size: 30,000\n"
     ]
    }
   ],
   "source": [
    "very_high_trump_proportion_incorrect = \\\n",
    "1 - sum([trump_wins(30000) for _ in range(100000)]) / 100000\n",
    "print(f\"Incorrect Prediction: {100 * np.round(very_high_trump_proportion_incorrect,2)}%\")\n",
    "print(f\"Sample Size: 30,000\")\n",
    "# your code above this line.\n",
    "# output the number of samples you used to get to at least 99% accuracy."
   ]
  },
  {
   "cell_type": "markdown",
   "id": "09c8c6cf-1cf4-4957-9ea5-d5c0898d3ef3",
   "metadata": {
    "deletable": false,
    "editable": false
   },
   "source": [
    "<!-- END QUESTION -->\n",
    "\n",
    "<!-- BEGIN QUESTION -->\n",
    "\n",
    "#### Part D\n",
    "\n",
    "Is it possible to correctly predict Trump's victory with less than $1\\%$ error using **biased sampling?**  Use the code cell below to rerun the simulation (in each of the 4 states) with increasing sample sizes.   What happens to the probability of error?  Explain in the markdown cell below."
   ]
  },
  {
   "cell_type": "markdown",
   "id": "1b66ca8b",
   "metadata": {},
   "source": [
    "If we increase the sample size, the proportion of times Trump wins will actually decrease. This means that as the sample size grows, the error actually increases. This is because we calculate the error by subtracting the number of times Trump wins (the proportion) from 1. Because of this it is **highly unlikely** that we can correctly predict Trump's victory with less than 1% error. The existence of the bias in the sample will significantly skew the results and thus make generating an accurate prediction extremely difficult."
   ]
  },
  {
   "cell_type": "markdown",
   "id": "3060cf65",
   "metadata": {
    "deletable": false,
    "editable": false
   },
   "source": [
    "<!-- END QUESTION -->\n",
    "\n"
   ]
  },
  {
   "cell_type": "code",
   "execution_count": 53,
   "id": "d38644d0-880e-4e48-846a-64050fd8297b",
   "metadata": {},
   "outputs": [
    {
     "name": "stdout",
     "output_type": "stream",
     "text": [
      "10,000 runs gives 0.42315\n",
      "20,000 runs gives 0.39677\n",
      "30,000 runs gives 0.37526\n"
     ]
    }
   ],
   "source": [
    "print(\"10,000 runs gives\",np.mean([trump_wins_biased(10000) for i in range(100000)]))\n",
    "print(\"20,000 runs gives\",np.mean([trump_wins_biased(20000) for i in range(100000)]))\n",
    "print(\"30,000 runs gives\",np.mean([trump_wins_biased(30000) for i in range(100000)]))"
   ]
  },
  {
   "cell_type": "markdown",
   "id": "169d7663",
   "metadata": {},
   "source": [
    "<br/><br/>\n",
    "<hr style=\"border: 5px solid #003262;\" />\n",
    "<hr style=\"border: 1px solid #fdb515;\" />\n",
    "\n",
    "## Congratulations! You have finished Homework 7!"
   ]
  },
  {
   "cell_type": "markdown",
   "id": "cc31acf9",
   "metadata": {},
   "source": [
    "If you discussed this assignment with any other students in the class (in a manner that is acceptable as described by the Collaboration policy above) please **include their names** here:\n",
    "\n",
    "**Collaborators**: *list collaborators here*"
   ]
  },
  {
   "cell_type": "markdown",
   "id": "46739932",
   "metadata": {},
   "source": [
    "### Submission Instructions\n",
    "\n",
    "Before proceeding any further, **save this notebook.**\n",
    "\n",
    "After running the `grader.export()` cell provided below, **2 files will be created**: a zip file and pdf file.  You can download them using the links provided below OR by finding them in the same folder where this juptyer notebook resides in your JuptyerHub.\n",
    "\n",
    "To receive credit on this assignment, **you must submit BOTH of these files\n",
    "to their respective Gradescope portals:** \n",
    "\n",
    "* **Homework 7 Autograded**: Submit the zip file that is output by the `grader.export()` cell below to the HW7 Autograded assignment in Gradescope.\n",
    "\n",
    "* **Homework 7 Manually Graded**: Submit your hw07.PDF to the HW7 Manually Graded assignment in Gradescope.  **YOU MUST SELECT THE PAGES CORRESPONDING TO EACH QUESTION WHEN YOU UPLOAD TO GRADESCOPE.  IF NOT, YOU WILL LOSE POINTS**   Also, **check** that all of your plots **and** all lines of your code are showing up in your PDF before submitting.  If not, you will not receive credit for your plots/code.  \n",
    "\n",
    "\n",
    "**You are responsible for ensuring your submission follows our requirements. We will not be granting regrade requests nor extensions to submissions that don't follow instructions.** If you encounter any difficulties with submission, please don't hesitate to reach out to staff prior to the deadline."
   ]
  },
  {
   "cell_type": "markdown",
   "id": "b6857eb0",
   "metadata": {
    "deletable": false,
    "editable": false
   },
   "source": [
    "## Submission\n",
    "\n",
    "Make sure you have run all cells in your notebook in order before running the cell below, so that all images/graphs appear in the output. The cell below will generate a zip file for you to submit. **Please save before exporting!**\n",
    "\n",
    "AFTER running the cell below, click on <a href='hw07.pdf' download>this link to download the PDF </a> to upload to Gradescope.  There will be a separate link that appears after running the cell below with a link to download the zip file to upload to Gradescope."
   ]
  },
  {
   "cell_type": "code",
   "execution_count": 54,
   "id": "2c3f03a7",
   "metadata": {
    "deletable": false,
    "editable": false
   },
   "outputs": [
    {
     "name": "stdout",
     "output_type": "stream",
     "text": [
      "Running your submission against local test cases...\n",
      "\n",
      "\n",
      "\n",
      "Your submission received the following results when run against available test cases:\n",
      "\n",
      "    q1a results: All test cases passed!\n",
      "\n",
      "    q1b results: All test cases passed!\n",
      "\n",
      "    q1c results: All test cases passed!\n",
      "\n",
      "    q1d_check results: All test cases passed!\n",
      "\n",
      "    q2bi_check results: All test cases passed!\n",
      "\n",
      "    q2bii_check results: All test cases passed!\n",
      "\n",
      "    q2c_check results: All test cases passed!\n",
      "\n",
      "    q3a results: All test cases passed!\n",
      "\n",
      "    q3b results: All test cases passed!\n",
      "\n",
      "    q3c results: All test cases passed!\n",
      "\n",
      "    q3d results: All test cases passed!\n",
      "\n",
      "    q3e results: All test cases passed!\n",
      "\n",
      "    q3f results: All test cases passed!\n",
      "\n",
      "    q5a results: All test cases passed!\n",
      "\n",
      "    q5b results: All test cases passed!\n",
      "\n",
      "    q5c results: All test cases passed!\n",
      "\n",
      "    q5e results: All test cases passed!\n",
      "\n",
      "    q5f results: All test cases passed!\n",
      "\n",
      "    q6a results: All test cases passed!\n",
      "\n",
      "    q6c results: All test cases passed!\n",
      "\n",
      "    q6d results: All test cases passed!\n",
      "\n",
      "    q7a results: All test cases passed!\n"
     ]
    },
    {
     "data": {
      "text/html": [
       "\n",
       "                    <p>\n",
       "                        Your submission has been exported. Click\n",
       "                        <a href=\"Assignment 7 - Covariance And Correlation, Independence - Sampling_2024_03_11T05_13_45_863456.zip\" download=\"Assignment 7 - Covariance And Correlation, Independence - Sampling_2024_03_11T05_13_45_863456.zip\" target=\"_blank\">here</a> to download\n",
       "                        the zip file.\n",
       "                    </p>\n",
       "                "
      ],
      "text/plain": [
       "<IPython.core.display.HTML object>"
      ]
     },
     "metadata": {},
     "output_type": "display_data"
    }
   ],
   "source": [
    "# Save your notebook first, then run this cell to export your submission.\n",
    "grader.export(run_tests=True)"
   ]
  },
  {
   "cell_type": "markdown",
   "id": "2ca6f12c",
   "metadata": {},
   "source": [
    " "
   ]
  }
 ],
 "metadata": {
  "kernelspec": {
   "display_name": "Python 3 (ipykernel)",
   "language": "python",
   "name": "python3"
  },
  "language_info": {
   "codemirror_mode": {
    "name": "ipython",
    "version": 3
   },
   "file_extension": ".py",
   "mimetype": "text/x-python",
   "name": "python",
   "nbconvert_exporter": "python",
   "pygments_lexer": "ipython3",
   "version": "3.10.8"
  },
  "otter": {
   "OK_FORMAT": true,
   "tests": {
    "q1a": {
     "name": "q1a",
     "points": 1,
     "suites": [
      {
       "cases": [
        {
         "code": ">>> # TEST\n>>> assert np.isclose(prob_xequals1_and_yequals2, 1/12)\n",
         "hidden": false,
         "locked": false
        }
       ],
       "scored": true,
       "setup": "",
       "teardown": "",
       "type": "doctest"
      }
     ]
    },
    "q1b": {
     "name": "q1b",
     "points": 1,
     "suites": [
      {
       "cases": [
        {
         "code": ">>> # TEST\n>>> assert np.isclose(prob_x_equals_1, 5/12)\n",
         "hidden": false,
         "locked": false
        },
        {
         "code": ">>> # TEST\n>>> assert np.isclose(prob_x_equals_2, 1/6)\n",
         "hidden": false,
         "locked": false
        },
        {
         "code": ">>> # TEST\n>>> assert np.isclose(prob_x_equals_4, 5/12)\n",
         "hidden": false,
         "locked": false
        }
       ],
       "scored": true,
       "setup": "",
       "teardown": "",
       "type": "doctest"
      }
     ]
    },
    "q1c": {
     "name": "q1c",
     "points": 1,
     "suites": [
      {
       "cases": [
        {
         "code": ">>> # TEST\n>>> assert np.isclose(prob_y_equals_1, 7/12)\n",
         "hidden": false,
         "locked": false
        },
        {
         "code": ">>> # TEST\n>>> assert np.isclose(prob_y_equals_2, 5/12)\n",
         "hidden": false,
         "locked": false
        }
       ],
       "scored": true,
       "setup": "",
       "teardown": "",
       "type": "doctest"
      }
     ]
    },
    "q1d_check": {
     "name": "q1d_check",
     "points": 0,
     "suites": [
      {
       "cases": [
        {
         "code": ">>> # TEST\n>>> assert x_y_independent == False\n",
         "hidden": false,
         "locked": false
        }
       ],
       "scored": true,
       "setup": "",
       "teardown": "",
       "type": "doctest"
      }
     ]
    },
    "q2bi_check": {
     "name": "q2bi_check",
     "points": 0,
     "suites": [
      {
       "cases": [
        {
         "code": ">>> # TEST\n>>> assert np.isclose(cov_xy, 1/24)\n",
         "hidden": false,
         "locked": false
        }
       ],
       "scored": true,
       "setup": "",
       "teardown": "",
       "type": "doctest"
      }
     ]
    },
    "q2bii_check": {
     "name": "q2bii_check",
     "points": 0,
     "suites": [
      {
       "cases": [
        {
         "code": ">>> # TEST\n>>> assert np.isclose(p_xy, 2*np.sqrt(3/1001))\n",
         "hidden": false,
         "locked": false
        }
       ],
       "scored": true,
       "setup": "",
       "teardown": "",
       "type": "doctest"
      }
     ]
    },
    "q2c_check": {
     "name": "q2c_check",
     "points": 0,
     "suites": [
      {
       "cases": [
        {
         "code": ">>> # TEST\n>>> assert cov_xy == -3\n",
         "hidden": false,
         "locked": false
        },
        {
         "code": ">>> # TEST\n>>> assert cov_yx == -3\n",
         "hidden": false,
         "locked": false
        },
        {
         "code": ">>> # TEST\n>>> assert p_xy == -1/2\n",
         "hidden": false,
         "locked": false
        }
       ],
       "scored": true,
       "setup": "",
       "teardown": "",
       "type": "doctest"
      }
     ]
    },
    "q3a": {
     "name": "q3a",
     "points": [
      0
     ],
     "suites": [
      {
       "cases": [
        {
         "code": ">>> # TEST\n>>> assert ans_3a in ['a', 'b', 'c', 'd']\n",
         "hidden": false,
         "locked": false
        }
       ],
       "scored": true,
       "setup": "",
       "teardown": "",
       "type": "doctest"
      }
     ]
    },
    "q3b": {
     "name": "q3b",
     "points": [
      0
     ],
     "suites": [
      {
       "cases": [
        {
         "code": ">>> # TEST\n>>> assert ans_3b in ['a', 'b', 'c', 'd']\n",
         "hidden": false,
         "locked": false
        }
       ],
       "scored": true,
       "setup": "",
       "teardown": "",
       "type": "doctest"
      }
     ]
    },
    "q3c": {
     "name": "q3c",
     "points": 2,
     "suites": [
      {
       "cases": [
        {
         "code": ">>> # TEST\n>>> assert (0 <= prob_sample_counts(2, 5, 13) <= 1)\n",
         "hidden": false,
         "locked": false
        },
        {
         "code": ">>> # TEST\n>>> assert (0 <= prob_sample_counts(5, 1, 14) <= 1)\n",
         "hidden": false,
         "locked": false
        },
        {
         "code": ">>> # TEST\n>>> assert (0 <= prob_sample_counts(10, 8, 2) <= 1)\n",
         "hidden": false,
         "locked": false
        },
        {
         "code": ">>> # TEST\n>>> assert (0 <= prob_sample_counts(6, 12, 2) <= 1)\n",
         "hidden": false,
         "locked": false
        },
        {
         "code": ">>> # TEST\n>>> assert np.isclose(prob_sample_counts(6, 12, 3), 0, atol = 1e-5)\n",
         "hidden": false,
         "locked": false
        },
        {
         "code": ">>> # TEST\n>>> assert np.isclose(prob_sample_counts(20, 1, 3), 0, atol = 1e-12)\n",
         "hidden": false,
         "locked": false
        },
        {
         "code": ">>> # TEST\n>>> assert np.isclose(prob_sample_counts(6, 6, 2), 0, atol = 1e-5)\n",
         "hidden": false,
         "locked": false
        },
        {
         "code": ">>> # TEST\n>>> assert np.isclose(prob_sample_counts(6, 12, 2), 0.01095, atol = 1e-4)\n",
         "hidden": false,
         "locked": false
        },
        {
         "code": ">>> # TEST\n>>> assert np.isclose(prob_sample_counts(13, 7, 0), 0.03169, atol = 1e-4)\n",
         "hidden": false,
         "locked": false
        },
        {
         "code": ">>> # TEST\n>>> assert np.isclose(prob_sample_counts(13, 5, 2), 0.00562, atol = 1e-4)\n",
         "hidden": false,
         "locked": false
        }
       ],
       "scored": true,
       "setup": "",
       "teardown": "",
       "type": "doctest"
      }
     ]
    },
    "q3d": {
     "name": "q3d",
     "points": 1,
     "suites": [
      {
       "cases": [
        {
         "code": ">>> # TEST\n>>> assert np.isclose(prob_3d, 1, atol = 1e-4)\n",
         "hidden": false,
         "locked": false
        }
       ],
       "scored": true,
       "setup": "",
       "teardown": "",
       "type": "doctest"
      }
     ]
    },
    "q3e": {
     "name": "q3e",
     "points": 1,
     "suites": [
      {
       "cases": [
        {
         "code": ">>> # TEST\n>>> assert np.isclose(prob_3e, 0.05509, atol = 1e-4)\n",
         "hidden": false,
         "locked": false
        }
       ],
       "scored": true,
       "setup": "",
       "teardown": "",
       "type": "doctest"
      }
     ]
    },
    "q3f": {
     "name": "q3f",
     "points": 1,
     "suites": [
      {
       "cases": [
        {
         "code": ">>> # TEST\n>>> assert np.isclose(prob_3f, 0.46939, atol = 1e-4)\n",
         "hidden": false,
         "locked": false
        }
       ],
       "scored": true,
       "setup": "",
       "teardown": "",
       "type": "doctest"
      }
     ]
    },
    "q5a": {
     "name": "q5a",
     "points": 0,
     "suites": [
      {
       "cases": [
        {
         "code": ">>> # TEST\n>>> assert len(draw_state_sample(1500, \"florida\")) == 3\n",
         "hidden": false,
         "locked": false
        },
        {
         "code": ">>> # TEST \n>>> assert sum(draw_state_sample(1500, \"michigan\")) == 1500\n",
         "hidden": false,
         "locked": false
        },
        {
         "code": ">>> # TEST\n>>> q5a_penn = draw_state_sample(1500, \"pennsylvania\")\n>>> trump_win_penn = (q5a_penn[0] - q5a_penn[1]) / 1500\n>>> assert abs(trump_win_penn - 0.007) <= 0.12\n",
         "hidden": false,
         "locked": false
        }
       ],
       "scored": true,
       "setup": "",
       "teardown": "",
       "type": "doctest"
      }
     ]
    },
    "q5b": {
     "name": "q5b",
     "points": [
      0,
      0.5,
      0.5
     ],
     "suites": [
      {
       "cases": [
        {
         "code": ">>> # TEST\n>>> assert (-1 < trump_advantage(draw_state_sample(1500, \"wisconsin\")) < 1)\n",
         "hidden": false,
         "locked": false
        },
        {
         "code": ">>> # TEST\n>>> assert np.isclose(trump_advantage([100, 60, 40]), 0.2)\n",
         "hidden": false,
         "locked": false
        },
        {
         "code": ">>> # TEST\n>>> assert np.isclose(trump_advantage([10, 30, 10]), -0.4)\n",
         "hidden": false,
         "locked": false
        }
       ],
       "scored": true,
       "setup": "",
       "teardown": "",
       "type": "doctest"
      }
     ]
    },
    "q5c": {
     "name": "q5c",
     "points": [
      0,
      0,
      2
     ],
     "suites": [
      {
       "cases": [
        {
         "code": ">>> # TEST\n>>> assert len(simulations) == 100000\n",
         "hidden": false,
         "locked": false
        },
        {
         "code": ">>> # TEST\n>>> assert sum([-1 < x < 1 for x in simulations]) == len(simulations)\n",
         "hidden": false,
         "locked": false
        },
        {
         "code": ">>> # TEST\n>>> assert abs(np.mean(simulations) - 0.007) <= 0.016\n",
         "hidden": false,
         "locked": false
        }
       ],
       "scored": true,
       "setup": "",
       "teardown": "",
       "type": "doctest"
      }
     ]
    },
    "q5e": {
     "name": "q5e",
     "points": [
      0,
      2
     ],
     "suites": [
      {
       "cases": [
        {
         "code": ">>> # TEST\n>>> trump_wins(1000) in [0, 1]\nTrue",
         "hidden": false,
         "locked": false
        },
        {
         "code": ">>> # TEST\n>>> assert abs(proportion_trump - 0.695) <= 0.02\n",
         "hidden": false,
         "locked": false
        }
       ],
       "scored": true,
       "setup": "",
       "teardown": "",
       "type": "doctest"
      }
     ]
    },
    "q5f": {
     "name": "q5f",
     "points": 1,
     "suites": [
      {
       "cases": [
        {
         "code": ">>> # TEST\n>>> \n>>> assert abs((1-proportion_trump) - .3)<= 0.03\n",
         "hidden": false,
         "locked": false
        }
       ],
       "scored": true,
       "setup": "",
       "teardown": "",
       "type": "doctest"
      }
     ]
    },
    "q6a": {
     "name": "q6a",
     "points": 0,
     "suites": [
      {
       "cases": [
        {
         "code": ">>> # TEST\n>>> assert len(draw_biased_state_sample(1000, \"wisconsin\")) == 3\n",
         "hidden": false,
         "locked": false
        },
        {
         "code": ">>> # TEST\n>>> assert sum(draw_biased_state_sample(1000, \"michigan\")) == 1000\n",
         "hidden": false,
         "locked": false
        },
        {
         "code": ">>> # TEST\n>>> q6_1 = draw_biased_state_sample(3000, \"florida\")\n>>> assert (q6_1[0] > q6_1[2] and q6_1[1] > q6_1[2])\n",
         "hidden": false,
         "locked": false
        },
        {
         "code": ">>> # TEST\n>>> assert len(biased_simulations) == 100000\n",
         "hidden": false,
         "locked": false
        },
        {
         "code": ">>> # TEST\n>>> assert sum([-1 < x < 1 for x in biased_simulations]) == len(biased_simulations)\n",
         "hidden": false,
         "locked": false
        },
        {
         "code": ">>> # TEST\n>>> assert abs(np.mean(biased_simulations) + 0.003) <= 0.12\n",
         "hidden": false,
         "locked": false
        }
       ],
       "scored": true,
       "setup": "",
       "teardown": "",
       "type": "doctest"
      }
     ]
    },
    "q6c": {
     "name": "q6c",
     "points": 1,
     "suites": [
      {
       "cases": [
        {
         "code": ">>> assert abs(prob_penn_1500_biased_incorrect - 0.55) <= 0.025\n",
         "hidden": false,
         "locked": false
        }
       ],
       "scored": true,
       "setup": "",
       "teardown": "",
       "type": "doctest"
      }
     ]
    },
    "q6d": {
     "name": "q6d",
     "points": 2,
     "suites": [
      {
       "cases": [
        {
         "code": ">>> # TEST\n>>> assert abs(proportion_trump_biased - 0.466) <= 0.04\n",
         "hidden": false,
         "locked": false
        }
       ],
       "scored": true,
       "setup": "",
       "teardown": "",
       "type": "doctest"
      }
     ]
    },
    "q7a": {
     "name": "q7a",
     "points": 1,
     "suites": [
      {
       "cases": [
        {
         "code": ">>> # TEST\n>>> np.abs(high_sample_size_unbiased_proportion_incorrect - 0.171) <= 0.02\nTrue",
         "hidden": false,
         "locked": false
        },
        {
         "code": ">>> # TEST \n>>> np.abs(high_sample_size_biased_proportion_incorrect - 0.555) <= 0.04\nTrue",
         "hidden": false,
         "locked": false
        }
       ],
       "scored": true,
       "setup": "",
       "teardown": "",
       "type": "doctest"
      }
     ]
    }
   }
  }
 },
 "nbformat": 4,
 "nbformat_minor": 5
}
