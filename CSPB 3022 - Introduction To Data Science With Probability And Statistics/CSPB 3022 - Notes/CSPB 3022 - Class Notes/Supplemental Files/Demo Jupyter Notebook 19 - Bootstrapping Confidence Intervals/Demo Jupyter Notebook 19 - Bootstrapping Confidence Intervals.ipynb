{
 "cells": [
  {
   "cell_type": "markdown",
   "metadata": {},
   "source": [
    "# Lec 23: Confidence Intervals & The Bootstrap \n",
    "***\n",
    "\n",
    "We'll need Numpy, Matplotlib, Pandas, and scipy.stats for this notebook, so let's load them. "
   ]
  },
  {
   "cell_type": "code",
   "execution_count": 3,
   "metadata": {},
   "outputs": [],
   "source": [
    "import numpy as np \n",
    "from scipy import stats\n",
    "import pandas as pd \n",
    "import matplotlib.pyplot as plt \n",
    "%matplotlib inline\n",
    "\n",
    "import math"
   ]
  },
  {
   "cell_type": "markdown",
   "metadata": {},
   "source": [
    "## Inference: Estimation"
   ]
  },
  {
   "cell_type": "code",
   "execution_count": 4,
   "metadata": {},
   "outputs": [
    {
     "data": {
      "text/html": [
       "<div>\n",
       "<style scoped>\n",
       "    .dataframe tbody tr th:only-of-type {\n",
       "        vertical-align: middle;\n",
       "    }\n",
       "\n",
       "    .dataframe tbody tr th {\n",
       "        vertical-align: top;\n",
       "    }\n",
       "\n",
       "    .dataframe thead th {\n",
       "        text-align: right;\n",
       "    }\n",
       "</style>\n",
       "<table border=\"1\" class=\"dataframe\">\n",
       "  <thead>\n",
       "    <tr style=\"text-align: right;\">\n",
       "      <th></th>\n",
       "      <th>Organization Group</th>\n",
       "      <th>Department</th>\n",
       "      <th>Job Family</th>\n",
       "      <th>Job</th>\n",
       "      <th>Salary</th>\n",
       "      <th>Overtime</th>\n",
       "      <th>Benefits</th>\n",
       "      <th>Total Compensation</th>\n",
       "    </tr>\n",
       "  </thead>\n",
       "  <tbody>\n",
       "    <tr>\n",
       "      <th>0</th>\n",
       "      <td>Public Protection</td>\n",
       "      <td>Adult Probation</td>\n",
       "      <td>Information Systems</td>\n",
       "      <td>IS Trainer-Journey</td>\n",
       "      <td>91332.0</td>\n",
       "      <td>0.0</td>\n",
       "      <td>40059.0</td>\n",
       "      <td>131391.0</td>\n",
       "    </tr>\n",
       "    <tr>\n",
       "      <th>1</th>\n",
       "      <td>Public Protection</td>\n",
       "      <td>Adult Probation</td>\n",
       "      <td>Information Systems</td>\n",
       "      <td>IS Engineer-Assistant</td>\n",
       "      <td>123241.0</td>\n",
       "      <td>0.0</td>\n",
       "      <td>49279.0</td>\n",
       "      <td>172520.0</td>\n",
       "    </tr>\n",
       "    <tr>\n",
       "      <th>2</th>\n",
       "      <td>Public Protection</td>\n",
       "      <td>Adult Probation</td>\n",
       "      <td>Information Systems</td>\n",
       "      <td>IS Business Analyst-Senior</td>\n",
       "      <td>115715.0</td>\n",
       "      <td>0.0</td>\n",
       "      <td>46752.0</td>\n",
       "      <td>162468.0</td>\n",
       "    </tr>\n",
       "    <tr>\n",
       "      <th>3</th>\n",
       "      <td>Public Protection</td>\n",
       "      <td>Adult Probation</td>\n",
       "      <td>Information Systems</td>\n",
       "      <td>IS Business Analyst-Principal</td>\n",
       "      <td>159394.0</td>\n",
       "      <td>0.0</td>\n",
       "      <td>57312.0</td>\n",
       "      <td>216706.0</td>\n",
       "    </tr>\n",
       "    <tr>\n",
       "      <th>4</th>\n",
       "      <td>Public Protection</td>\n",
       "      <td>Adult Probation</td>\n",
       "      <td>Information Systems</td>\n",
       "      <td>IS Programmer Analyst</td>\n",
       "      <td>70035.0</td>\n",
       "      <td>0.0</td>\n",
       "      <td>28671.0</td>\n",
       "      <td>98706.0</td>\n",
       "    </tr>\n",
       "  </tbody>\n",
       "</table>\n",
       "</div>"
      ],
      "text/plain": [
       "  Organization Group       Department           Job Family  \\\n",
       "0  Public Protection  Adult Probation  Information Systems   \n",
       "1  Public Protection  Adult Probation  Information Systems   \n",
       "2  Public Protection  Adult Probation  Information Systems   \n",
       "3  Public Protection  Adult Probation  Information Systems   \n",
       "4  Public Protection  Adult Probation  Information Systems   \n",
       "\n",
       "                             Job    Salary  Overtime  Benefits  \\\n",
       "0             IS Trainer-Journey   91332.0       0.0   40059.0   \n",
       "1          IS Engineer-Assistant  123241.0       0.0   49279.0   \n",
       "2     IS Business Analyst-Senior  115715.0       0.0   46752.0   \n",
       "3  IS Business Analyst-Principal  159394.0       0.0   57312.0   \n",
       "4          IS Programmer Analyst   70035.0       0.0   28671.0   \n",
       "\n",
       "   Total Compensation  \n",
       "0            131391.0  \n",
       "1            172520.0  \n",
       "2            162468.0  \n",
       "3            216706.0  \n",
       "4             98706.0  "
      ]
     },
     "execution_count": 4,
     "metadata": {},
     "output_type": "execute_result"
    }
   ],
   "source": [
    "sf = pd.read_csv('san_francisco_2019.csv')\n",
    "sf.head()"
   ]
  },
  {
   "cell_type": "markdown",
   "metadata": {},
   "source": [
    "Suppose we're interested in a histogram of the `Total Compensation` Distribution:"
   ]
  },
  {
   "cell_type": "code",
   "execution_count": 264,
   "metadata": {},
   "outputs": [
    {
     "data": {
      "text/plain": [
       "array([[<AxesSubplot:title={'center':'Total Compensation'}>]],\n",
       "      dtype=object)"
      ]
     },
     "execution_count": 264,
     "metadata": {},
     "output_type": "execute_result"
    },
    {
     "data": {
      "image/png": "[encoded data removed]",
      "text/plain": [
       "<Figure size 432x288 with 1 Axes>"
      ]
     },
     "metadata": {
      "needs_background": "light"
     },
     "output_type": "display_data"
    }
   ],
   "source": [
    "# Population Total Compensation Distribution \n",
    "\n",
    "\n",
    "sf.hist('Total Compensation', bins=100)"
   ]
  },
  {
   "cell_type": "code",
   "execution_count": 265,
   "metadata": {},
   "outputs": [
    {
     "data": {
      "text/plain": [
       "43936    724031.0\n",
       "43937    617951.0\n",
       "43938    617554.0\n",
       "43940    571784.0\n",
       "43939    570235.0\n",
       "Name: Total Compensation, dtype: float64"
      ]
     },
     "execution_count": 265,
     "metadata": {},
     "output_type": "execute_result"
    }
   ],
   "source": [
    "# Who made the most money\n",
    "sf['Total Compensation'].sort_values(ascending=False).head()"
   ]
  },
  {
   "cell_type": "code",
   "execution_count": 229,
   "metadata": {},
   "outputs": [
    {
     "data": {
      "text/plain": [
       "18526    0.0\n",
       "43234    0.0\n",
       "22329    0.0\n",
       "32865    0.0\n",
       "38732    0.0\n",
       "Name: Total Compensation, dtype: float64"
      ]
     },
     "execution_count": 229,
     "metadata": {},
     "output_type": "execute_result"
    }
   ],
   "source": [
    "# Who made the least money\n",
    "sf['Total Compensation'].sort_values().head()"
   ]
  },
  {
   "cell_type": "code",
   "execution_count": 267,
   "metadata": {},
   "outputs": [
    {
     "data": {
      "text/plain": [
       "array([[<AxesSubplot:title={'center':'Total Compensation'}>]],\n",
       "      dtype=object)"
      ]
     },
     "execution_count": 267,
     "metadata": {},
     "output_type": "execute_result"
    },
    {
     "data": {
      "image/png": "[encoded data removed]",
      "text/plain": [
       "<Figure size 432x288 with 1 Axes>"
      ]
     },
     "metadata": {
      "needs_background": "light"
     },
     "output_type": "display_data"
    }
   ],
   "source": [
    "# Use Cutoff for Min Salary:  People working at minimum wage part-time:\n",
    "# $15/hr, 20 hr/wk, 52 weeks\n",
    "min_salary = 15 * 20 * 52\n",
    "sf = sf[sf[\"Salary\"]>=min_salary]\n",
    "\n",
    "sf_bins = np.arange(0, 726000, 25000)\n",
    "\n",
    "sf.hist('Total Compensation', bins=30)"
   ]
  },
  {
   "cell_type": "code",
   "execution_count": 268,
   "metadata": {},
   "outputs": [
    {
     "data": {
      "text/plain": [
       "136164.0"
      ]
     },
     "execution_count": 268,
     "metadata": {},
     "output_type": "execute_result"
    }
   ],
   "source": [
    "pop_median = sf['Total Compensation'].median()\n",
    "pop_median"
   ]
  },
  {
   "cell_type": "code",
   "execution_count": 289,
   "metadata": {},
   "outputs": [
    {
     "data": {
      "text/plain": [
       "array([[<AxesSubplot:title={'center':'Total Compensation'}>]],\n",
       "      dtype=object)"
      ]
     },
     "execution_count": 289,
     "metadata": {},
     "output_type": "execute_result"
    },
    {
     "data": {
      "image/png": "[encoded data removed]",
      "text/plain": [
       "<Figure size 432x288 with 1 Axes>"
      ]
     },
     "metadata": {
      "needs_background": "light"
     },
     "output_type": "display_data"
    }
   ],
   "source": [
    "# Empirical Distribution of One Random Sample\n",
    "sample_size = 400\n",
    "orig_sample = sf.sample(sample_size,replace=False)\n",
    "orig_sample.hist('Total Compensation', bins=sf_bins)"
   ]
  },
  {
   "cell_type": "code",
   "execution_count": 81,
   "metadata": {},
   "outputs": [
    {
     "data": {
      "text/plain": [
       "136164.0"
      ]
     },
     "execution_count": 81,
     "metadata": {},
     "output_type": "execute_result"
    }
   ],
   "source": [
    "# Parameter: Median Total Compensation \n",
    "pop_median = sf['Total Compensation'].median()\n",
    "pop_median"
   ]
  },
  {
   "cell_type": "code",
   "execution_count": 279,
   "metadata": {
    "scrolled": true
   },
   "outputs": [
    {
     "data": {
      "text/plain": [
       "138231.0"
      ]
     },
     "execution_count": 279,
     "metadata": {},
     "output_type": "execute_result"
    }
   ],
   "source": [
    "# Estimate: Median of a Sample\n",
    "orig_sample[\"Total Compensation\"].median()"
   ]
  },
  {
   "cell_type": "markdown",
   "metadata": {},
   "source": [
    "However, our random sample *could have been different*. Then our estimate would have been different too. To see how different, we need another sample.\n"
   ]
  },
  {
   "cell_type": "markdown",
   "metadata": {},
   "source": [
    "## Variability of the Estimate"
   ]
  },
  {
   "cell_type": "code",
   "execution_count": null,
   "metadata": {},
   "outputs": [],
   "source": [
    "def generate_sample_median(samp_size):\n",
    "    new_sample = sf.sample(samp_size, replace=False)\n",
    "    return new_sample['Total Compensation'].median()"
   ]
  },
  {
   "cell_type": "code",
   "execution_count": 11,
   "metadata": {},
   "outputs": [
    {
     "data": {
      "text/plain": [
       "381099.0"
      ]
     },
     "execution_count": 11,
     "metadata": {},
     "output_type": "execute_result"
    }
   ],
   "source": [
    "FUN_NAME(400)"
   ]
  },
  {
   "cell_type": "code",
   "execution_count": 12,
   "metadata": {},
   "outputs": [],
   "source": [
    "repetitions=10000\n",
    "SIM_VALS=np.array([])\n",
    "\n",
    "for i in np.arange(repetitions):\n",
    "    one_sim_max=generate_sample_median(25)\n",
    "    SIM_VALS=np.append(SIM_VALS, one_sim_max)\n",
    "    "
   ]
  },
  {
   "cell_type": "code",
   "execution_count": 13,
   "metadata": {},
   "outputs": [
    {
     "data": {
      "text/plain": [
       "array([126617., 112031., 114726., ...,  98346., 135073., 150035.])"
      ]
     },
     "execution_count": 13,
     "metadata": {},
     "output_type": "execute_result"
    }
   ],
   "source": [
    "SIM_VALS"
   ]
  },
  {
   "cell_type": "markdown",
   "metadata": {},
   "source": [
    "## Quantifying Uncertainty:  Distribution of Sample Median"
   ]
  },
  {
   "cell_type": "code",
   "execution_count": 245,
   "metadata": {},
   "outputs": [],
   "source": [
    "sample_medians=np.array([generate_sample_median(400) for i in range(1000)])"
   ]
  },
  {
   "cell_type": "code",
   "execution_count": 256,
   "metadata": {},
   "outputs": [
    {
     "data": {
      "image/png": "[encoded data removed]",
      "text/plain": [
       "<Figure size 432x288 with 1 Axes>"
      ]
     },
     "metadata": {
      "needs_background": "light"
     },
     "output_type": "display_data"
    }
   ],
   "source": [
    "med_bins = np.arange(120000, 160000, 2000)\n",
    "plt.hist(sample_medians,med_bins, density=True, ec='white');\n",
    "plt.ylim(-0.000005, 0.00014)\n",
    "plt.xlabel(\"Sample Medians\")\n",
    "plt.ylabel(\"Percent per unit\")\n",
    "plt.title(\"Sampling Distribution of the Sample Median\")\n",
    "parameter_green = '#32CD32'\n",
    "plt.scatter(pop_median, 0, color=parameter_green, s=40, zorder=3);"
   ]
  },
  {
   "cell_type": "markdown",
   "metadata": {},
   "source": [
    "But in the real world we won't be able to keep going back to the population. How to generate a new random sample *without going back to the population?* "
   ]
  },
  {
   "cell_type": "markdown",
   "metadata": {},
   "source": [
    "# Bootstrap\n",
    "\n",
    "Sample randomly:\n",
    " - from the original sample\n",
    " - with replacement\n",
    " - the same number of times as the original sample size"
   ]
  },
  {
   "cell_type": "code",
   "execution_count": 287,
   "metadata": {},
   "outputs": [],
   "source": [
    "def one_bootstrap_median(our_sample):\n",
    "    # draw the bootstrap sample\n",
    "    resample=our_sample.sample(frac=1,replace=True)\n",
    "    return resample['Total Compensation'].median()\n"
   ]
  },
  {
   "cell_type": "code",
   "execution_count": 254,
   "metadata": {},
   "outputs": [
    {
     "data": {
      "text/plain": [
       "139523.0"
      ]
     },
     "execution_count": 254,
     "metadata": {},
     "output_type": "execute_result"
    }
   ],
   "source": [
    "one_bootstrap_median(orig_sample)"
   ]
  },
  {
   "cell_type": "markdown",
   "metadata": {},
   "source": [
    "## Creating a 95% Confidence Interval Using the Percentile Method:  Middle 95% of the Bootstrap Estimates "
   ]
  },
  {
   "cell_type": "code",
   "execution_count": 290,
   "metadata": {},
   "outputs": [
    {
     "data": {
      "text/plain": [
       "[130429.5, 143420.125]"
      ]
     },
     "execution_count": 290,
     "metadata": {},
     "output_type": "execute_result"
    },
    {
     "data": {
      "image/png": "[encoded data removed]",
      "text/plain": [
       "<Figure size 432x288 with 1 Axes>"
      ]
     },
     "metadata": {
      "needs_background": "light"
     },
     "output_type": "display_data"
    }
   ],
   "source": [
    "def bootstrapped_median_CI(our_sample, num_boots=1000,hist=False):\n",
    "     \n",
    "    #Create array of bootstrapped medians using original sample\n",
    "    bstrap_medians=np.array([one_bootstrap_median(our_sample) for i in range(num_boots)])    \n",
    "    \n",
    "    #Return Bootstrapped 95% Confidence Interval\n",
    "    L = np.percentile(bstrap_medians,2.5)\n",
    "    U = np.percentile(bstrap_medians,97.5)\n",
    "    \n",
    "    CI = [L, U]\n",
    "    \n",
    "    \n",
    "    if hist==True:\n",
    "        \n",
    "        #Plot Histogram of bootstrapped medians\n",
    "        med_bins = np.arange(120000, 160000, 2000)\n",
    "        plt.hist(bstrap_medians,bins=med_bins, density=True, ec='white');\n",
    "        plt.ylim(-0.000005, 0.00014)\n",
    "        parameter_green = '#32CD32'\n",
    "    \n",
    "        #Add plot of actual population median (we don't usually know this)\n",
    "        plt.scatter(pop_median, 0, color=parameter_green, s=40, zorder=3);\n",
    "        plt.title('Bootstrap Medians and the Parameter (Green Dot)')\n",
    "   \n",
    "  \n",
    "        #Add Confidence Interval (in yellow) to histogram\n",
    "        plt.plot(np.array([L, U]), [0,0], color='yellow', lw=3, zorder=1)\n",
    "    \n",
    "   \n",
    "    return CI \n",
    "    \n",
    "\n",
    "bootstrapped_median_CI(orig_sample,hist=True)\n"
   ]
  },
  {
   "cell_type": "markdown",
   "metadata": {},
   "source": [
    "### Visualizing the Empirical Coverage of Bootstrapped Confidence Intervals  \n",
    "*** \n",
    "\n",
    "Complete the function CI_test below to test the coverage of the bootstrapped confidence intervals at the 95% confidence level for the median of the Total Compensation.  Recall that you know that the true population median is `pop_median` = 136164"
   ]
  },
  {
   "cell_type": "code",
   "execution_count": 261,
   "metadata": {},
   "outputs": [
    {
     "data": {
      "image/png": "[encoded data removed]",
      "text/plain": [
       "<Figure size 864x432 with 1 Axes>"
      ]
     },
     "metadata": {
      "needs_background": "light"
     },
     "output_type": "display_data"
    }
   ],
   "source": [
    "def CI_test(pop_median, num_CIs=100, num_boots=1000):\n",
    "    \n",
    "    \n",
    "    fig, ax = plt.subplots(nrows=1, ncols=1, figsize=(12,6))\n",
    "    \n",
    "    \n",
    "    ax.plot([0,num_CIs], [pop_median, pop_median], color=\"green\", ls='--', lw=3)\n",
    "       # Horizontal line marking the mean\n",
    "        \n",
    "    for jj in range(num_CIs):\n",
    "        # Take a random sample:\n",
    "        sample1=sf.sample(sample_size,replace=False)\n",
    "        # Calculate the bootstrapped CI for that sample\n",
    "        L, U = bootstrapped_median_CI(sample1, num_boots)\n",
    "        CI = np.array([L, U])\n",
    "        ax.plot([jj, jj], [L, U])\n",
    "        \n",
    "        \n",
    "            \n",
    "        \n",
    "    ax.set_xlim([-1,num_CIs+1])\n",
    "    plt.xticks(range(num_CIs), fontsize=12)\n",
    "        \n",
    "CI_test(pop_median,num_CIs=20, num_boots=1000)\n",
    "# Call the function"
   ]
  },
  {
   "cell_type": "code",
   "execution_count": null,
   "metadata": {},
   "outputs": [],
   "source": []
  }
 ],
 "metadata": {
  "kernelspec": {
   "display_name": "Python 3 (ipykernel)",
   "language": "python",
   "name": "python3"
  },
  "language_info": {
   "codemirror_mode": {
    "name": "ipython",
    "version": 3
   },
   "file_extension": ".py",
   "mimetype": "text/x-python",
   "name": "python",
   "nbconvert_exporter": "python",
   "pygments_lexer": "ipython3",
   "version": "3.9.12"
  }
 },
 "nbformat": 4,
 "nbformat_minor": 2
}
