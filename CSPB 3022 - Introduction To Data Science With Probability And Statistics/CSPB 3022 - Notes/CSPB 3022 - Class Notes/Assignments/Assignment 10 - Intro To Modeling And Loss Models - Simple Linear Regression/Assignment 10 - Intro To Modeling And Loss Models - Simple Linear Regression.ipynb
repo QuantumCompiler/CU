{
 "cells": [
  {
   "cell_type": "code",
   "execution_count": null,
   "id": "fd9a0cce",
   "metadata": {
    "deletable": false,
    "editable": false
   },
   "outputs": [],
   "source": [
    "# Initialize Otter\n",
    "import otter\n",
    "grader = otter.Notebook(\"Assignment 10 - Intro To Modeling And Loss Models - Simple Linear Regression.ipynb\")"
   ]
  },
  {
   "cell_type": "markdown",
   "id": "bbbf1431",
   "metadata": {},
   "source": [
    "# Homework 11:  Simple Linear Regression"
   ]
  },
  {
   "cell_type": "markdown",
   "id": "1eeace48",
   "metadata": {},
   "source": [
    "**Assigned Readings On These Topics from Class Schedule**: \n",
    "\n",
    "* [Using Confidence Intervals](https://inferentialthinking.com/chapters/13/4/Using_Confidence_Intervals.html)\n",
    "* [The Regression Line](https://inferentialthinking.com/chapters/15/2/Regression_Line.html#the-regression-line-in-standard-units)\n",
    "* [Inference for Regression](https://www.inferentialthinking.com/chapters/16/Inference_for_Regression.html)\n",
    "\n",
    "* [Transformations](https://learningds.org/ch/11/viz_scale.html)\n",
    "\n",
    "* [Transformations to fit Linear Models](https://ds100.org/course-notes/constant_model_loss_transformations/loss_transformations.html#transformations-to-fit-linear-models)"
   ]
  },
  {
   "cell_type": "markdown",
   "id": "2b1fa56f",
   "metadata": {},
   "source": [
    "\n",
    "\n",
    "## Due on Gradescope\n",
    "\n",
    "\n",
    "## Collaboration Policy\n",
    "\n",
    "Data science is a collaborative activity.  However a key step in learning and retention is **creating solutions on your own.**  \n",
    "\n",
    "Below are examples of acceptable vs unacceptable use of resources and collaboration when doing HW assignments in CSCI 3022.\n",
    "\n",
    "\n",
    "The following would be some **examples of cheating** when working on HW assignments in CSCI 3022.  Any of these constitute a **violation of the course's collaboration policy and will result in an F in the course and a trip to the honor council**.   \n",
    "\n",
    "\n",
    " - Consulting web pages that may have a solution to a given homework problem or one similar is cheating.  However, consulting the class notes, and web pages that explain the material taught in class but do NOT show a solution to the homework problem in question are permissible to view.  Clearly, there's a fuzzy line here between a valid use of resources and cheating. To avoid this line, one should merely consult the course notes, the course textbook, and references that contain syntax and/or formulas.\n",
    " - Copying a segment of code or math solution of three lines or more from another student from a printout, handwritten copy, or by looking at their computer screen \n",
    " - Allowing another student to copy a segment of your code or math solution of three lines or more\n",
    " - Taking a copy of another student's work (or a solution found online) and then editing that copy\n",
    " - Reading someone else’s solution to a problem on the HW before writing your own.\n",
    " - Asking someone to write all or part of a program or solution for you.\n",
    " - Asking someone else for the code necessary to fix the error for you, other than for simple syntactical errors\n",
    " \n",
    "\n",
    "\n",
    "On the other hand, the following are some **examples of things which would NOT usually be\n",
    "considered to be cheating**:\n",
    " - Working on a HW problem on your own first and then discussing with a classmate a particular part in the problem solution where you are stuck.  After clarifying any questions you should then continue to write your solution independently.\n",
    " - Asking someone (or searching online) how a particular construct in the language works.\n",
    " - Asking someone (or searching online) how to formulate a particular construct in the language.\n",
    " - Asking someone for help in finding an error in your program.  \n",
    " - Asking someone why a particular construct does not work as you expected in a given program.\n",
    "   \n",
    "\n",
    "To test whether you are truly doing your own work and retaining what you've learned you should be able to easily reproduce from scratch and explain a HW solution that was your own when asked in office hours by a TA/Instructor or on a quiz/exam.   \n",
    "\n",
    "\n",
    "If you have difficulty in formulating the general solution to a problem on your own, or\n",
    "you have difficulty in translating that general solution into a program, it is advisable to see\n",
    "your instructor or teaching assistant rather than another student as this situation can easily\n",
    "lead to a, possibly inadvertent, cheating situation.\n",
    "\n",
    "We are here to help!  Visit OH Hours and/or post questions on Piazza!\n"
   ]
  },
  {
   "cell_type": "markdown",
   "id": "b040a7c3-e466-403d-9884-5b8969f8aec3",
   "metadata": {},
   "source": [
    "If while completing this assignment you reference any websites other than those linked in this assignment or provided on Canvas please list those references here:\n",
    "\n",
    "**External references**:  *list any websites you referenced"
   ]
  },
  {
   "cell_type": "code",
   "execution_count": null,
   "id": "93140281",
   "metadata": {},
   "outputs": [],
   "source": []
  },
  {
   "cell_type": "markdown",
   "id": "1ee34b34-778f-48d8-87a7-173cd97a049c",
   "metadata": {},
   "source": [
    "#### Grading\n",
    "Grading is broken down into autograded answers and manually graded answers. \n",
    "\n",
    "For autograded answers, the results of your code are compared to provided and/or hidden tests.\n",
    "\n",
    "For manually graded answers you must show and explain all steps.  Graders will evaluate how well you answered the question and/or fulfilled the requirements of the question.\n",
    "\n",
    "\n",
    "### Score breakdown\n",
    "\n",
    "\n",
    "\n",
    "Question | Points | Grading Type\n",
    "--- | --- | ---\n",
    "Question 1.1, 1.4 | 6 | manual\n",
    "Question 1.2, 1.3 | 4 | auto\n",
    "Question 2.1, 2.2, 2.4-2.6, 2.8-2.9 | 9 | auto\n",
    "Question 2.3, 2.7, 2.8| 9 | manual\n",
    "Question 3.1, 3.4 | 4 | manual\n",
    "Question 3.2, 3.3 | 2 | auto\n",
    "Question 4.1, 4.4, 4.7 |3 | auto\n",
    "Question 4.2, 4.3, 4.4-4.8 | 13 | manual\n",
    "|Total | 50"
   ]
  },
  {
   "cell_type": "code",
   "execution_count": null,
   "id": "20af1960",
   "metadata": {},
   "outputs": [],
   "source": [
    "import numpy as np\n",
    "import seaborn as sns\n",
    "import pandas as pd\n",
    "\n",
    "# These lines do some fancy plotting magic\n",
    "import matplotlib\n",
    "%matplotlib inline\n",
    "import matplotlib.pyplot as plt\n",
    "plt.style.use('fivethirtyeight')\n",
    "import warnings\n",
    "warnings.simplefilter('ignore')\n",
    "from datetime import datetime"
   ]
  },
  {
   "cell_type": "markdown",
   "id": "f218ceb6",
   "metadata": {},
   "source": [
    "## Question 1\n",
    "The [Snowy Plover](https://www.audubon.org/field-guide/bird/snowy-plover) is a tiny bird that lives on the coast in parts of California and elsewhere. It is so small that it is vulnerable to many predators, including people and dogs that don't look where they are stepping when they go to the beach. It is considered endangered in many parts of the U.S.\n",
    "\n",
    "The data are about the eggs and newly-hatched chicks of the Snowy Plover. Here's a picture of [a parent bird incubating its eggs](http://cescos.fau.edu/jay/eps/articles/snowyplover.html).\n",
    "\n",
    "<img src=\"plover_and_eggs.jpeg\" alt=\"Plover and Eggs\" width=\"300\">\n",
    "\n",
    "The data were collected at the [Point Reyes National Seashore](https://openlibrary.org/books/OL2038693M/BLSS_the_Berkeley_interactive_statistical_system). The goal was to see how the size of an egg could be used to predict the weight of the resulting chick. The bigger the newly-hatched chick, the more likely it is to survive.\n",
    "\n",
    "\n",
    "Each row of the table below corresponds to one Snowy Plover egg and the resulting chick. Note how tiny the bird is:\n",
    "\n",
    "- `Egg Length` and `Egg Breadth` (widest diameter) are measured in millimeters\n",
    "- `Egg Weight` and `Bird Weight` are measured in grams; for comparison, a standard paper clip weighs about one gram"
   ]
  },
  {
   "cell_type": "code",
   "execution_count": null,
   "id": "88b578da",
   "metadata": {
    "tags": []
   },
   "outputs": [],
   "source": [
    "birds = pd.read_csv('snowy_plover.csv')\n",
    "birds.head()"
   ]
  },
  {
   "cell_type": "markdown",
   "id": "76aa0fde",
   "metadata": {
    "deletable": false,
    "editable": false
   },
   "source": [
    "<!-- BEGIN QUESTION -->\n",
    "\n",
    "**Question 1.1.**   \n",
    "\n",
    "a).  Create a scatter plot of the egg weights (on the x-axis) vs the bird weights (on the y-axis).  Label your axes and give your plot a title.\n",
    "\n",
    "\n",
    "b).  Based only on your plot, make a guess as to what the correlation is between these two variables and assign it to the variable `corr_guess` (don't do any actual calculations yet, just guess based on your visual inspection of the plot).  "
   ]
  },
  {
   "cell_type": "code",
   "execution_count": null,
   "id": "d78d97d9",
   "metadata": {
    "tags": []
   },
   "outputs": [],
   "source": [
    "...\n",
    "# Your code for part (a) above this line"
   ]
  },
  {
   "cell_type": "code",
   "execution_count": null,
   "id": "2df964cd",
   "metadata": {
    "tags": []
   },
   "outputs": [],
   "source": [
    "corr_guess = ..."
   ]
  },
  {
   "cell_type": "markdown",
   "id": "84b43d58",
   "metadata": {
    "deletable": false,
    "editable": false
   },
   "source": [
    "<!-- END QUESTION -->\n",
    "\n",
    "**Question 1.2.**   \n",
    "\n",
    "Define the following two functions:\n",
    "\n",
    "1. `standard_units`: This function takes in an array of numbers and returns an array containing those numbers converted to standard units.\n",
    "2. `correlation`: This function takes in a dataframe and two column names (one for *x* and one for *y*) and returns the correlation between these columns. \n",
    "\n",
    "Then calculate the correlation of the egg weight and bird weight data and assign it to the variable `correlation_bird`.\n",
    "\n"
   ]
  },
  {
   "cell_type": "code",
   "execution_count": null,
   "id": "bb882d48",
   "metadata": {
    "ExecuteTime": {
     "end_time": "2018-04-11T12:05:50.894154Z",
     "start_time": "2018-04-11T12:05:50.889145Z"
    },
    "deletable": false,
    "tags": []
   },
   "outputs": [],
   "source": [
    "def standard_units(arr):\n",
    "    ...\n",
    "\n",
    "def correlation(df, x_col, y_col):\n",
    "    ...\n",
    "\n",
    "correlation_bird = ...\n",
    "\n",
    "correlation_bird"
   ]
  },
  {
   "cell_type": "code",
   "execution_count": null,
   "id": "873050bc",
   "metadata": {
    "deletable": false,
    "editable": false
   },
   "outputs": [],
   "source": [
    "grader.check(\"q1_2\")"
   ]
  },
  {
   "cell_type": "markdown",
   "id": "bf74fc32",
   "metadata": {
    "deletable": false,
    "editable": false
   },
   "source": [
    "**Question 1.3.** Using the functions you just implemented, create a function called `fit_line`.  It should take a dataframe like `birds` and the column names associated to *x* and *y* as its arguments and return a *numpy array* containing the slope and intercept of (in that order) the least squares regression line  for the data. (You can use the formulas for the slope and intercepts that we derived in class).\n"
   ]
  },
  {
   "cell_type": "code",
   "execution_count": null,
   "id": "98706bfb",
   "metadata": {
    "ExecuteTime": {
     "end_time": "2018-04-11T12:05:51.483516Z",
     "start_time": "2018-04-11T12:05:51.472484Z"
    },
    "for_assignment_type": "solution",
    "tags": []
   },
   "outputs": [],
   "source": [
    "def fit_line(df, x_col, y_col):\n",
    "    ...\n"
   ]
  },
  {
   "cell_type": "code",
   "execution_count": null,
   "id": "5580a64d",
   "metadata": {
    "deletable": false,
    "editable": false
   },
   "outputs": [],
   "source": [
    "grader.check(\"q1_3\")"
   ]
  },
  {
   "cell_type": "markdown",
   "id": "5240ee1c",
   "metadata": {
    "deletable": false,
    "editable": false
   },
   "source": [
    "<!-- BEGIN QUESTION -->\n",
    "\n",
    "**Question 1.4**\n",
    "\n",
    "**Part a).**  \n",
    "\n",
    " - Run `fit_line` on the `birds` table.\n",
    "\n",
    " - Then create a scatterplot of the birds data with an overlaid plot of the least squares linear regression line (using the output of your `fit_line` function).  \n",
    "\n",
    " - For credit on this problem you must use the output of your `fit_line` function to create the line yourself, to demonstrate you understand how this line is created.\n",
    "\n",
    " - Label your axes and create a label for the line on the plot that gives the equation of the line. \n",
    " Tip: including the following code in your plt.plot function will add a label with the equation of the best fit line:  `label =r'$Bird = {0:.2f}Egg{1:.2f}$'.format(slope, intercept)`\n",
    "\n",
    "\n",
    "**Part b).**  Based on the slope from your least squares regression line model, we see there is a positive linear association in this sample of data between Snowy Plover egg weight and bird weight.  Can we conclude from this that there is also a positive linear association between egg weight and bird weight in the population of Snowy Plover birds?  Why or why not?  Explain your reasoning.  \n"
   ]
  },
  {
   "cell_type": "markdown",
   "id": "0159b35c",
   "metadata": {},
   "source": [
    "**Part b answer cell:**   *Put your answer to part b in this cell...*"
   ]
  },
  {
   "cell_type": "code",
   "execution_count": null,
   "id": "344c5b72",
   "metadata": {
    "ExecuteTime": {
     "end_time": "2018-04-11T12:05:51.754766Z",
     "start_time": "2018-04-11T12:05:51.624390Z"
    },
    "tags": []
   },
   "outputs": [],
   "source": [
    "...\n",
    "# Your code for part a above this line"
   ]
  },
  {
   "cell_type": "markdown",
   "id": "8a03ef63",
   "metadata": {
    "deletable": false,
    "editable": false
   },
   "source": [
    "<!-- END QUESTION -->\n",
    "\n",
    "\n",
    "## Regression Inference\n",
    "\n",
    "Previously in this class, we've used confidence intervals to quantify uncertainty about estimates. We can also run hypothesis tests using a confidence interval under the following procedure:\n",
    "\n",
    "1. Define a null and alternative hypothesis (they must be of the form \"The parameter is X\" and \"The parameter is not X\").\n",
    "2. Choose a p-value cutoff, and call it $q$.\n",
    "3. Construct a $(100-q)\\%$ interval using bootstrap sampling (for example, if your p-value cutoff is 0.01, or 1%, then construct a 99% confidence interval).\n",
    "4. Using the confidence interval, determine if your data are more consistent with your null or alternative hypothesis:\n",
    "   * If the null hypothesis parameter X is in your confidence interval, the data are more consistent with the null hypothesis.\n",
    "   * If the null hypothesis parameter X is *not* in your confidence interval, the data are more consistent with the alternative hypothesis.\n",
    "\n",
    "More recently, we've discussed the use of linear regression to make predictions based on correlated variables. For example, we can predict the height of children based on the heights of their parents.\n",
    "\n",
    "We can combine these two topics to make powerful statements about our population by using the following techniques:\n",
    "\n",
    "- Bootstrapped interval for the true slope\n",
    "- Bootstrapped prediction interval for y (given a particular value of x)\n",
    "\n",
    "Questions 2 explores these two methods.\n",
    "\n",
    "\n",
    "\n",
    "## Question 2:  Finding the Bootstrap Confidence Interval for the True Slope\n",
    "\n",
    "Looking at the scatter plot of our sample from Question 1, we observe a linear relationship between egg weight and bird weight. However, relationships that appear in a sample might not exist in the population from which the sample was taken.\n",
    "\n",
    "We want to know if there truly exists a linear relationship between egg weight and bird weight in the population of Snowy Plovers. If there is no linear relationship between the two variables, then we'd expect a correlation of 0. Consequently, the slope of the regression line would also be 0. "
   ]
  },
  {
   "cell_type": "markdown",
   "id": "ee190dcf",
   "metadata": {
    "deletable": false,
    "editable": false
   },
   "source": [
    "**Question 2.1.** Let's run a hypothesis test using confidence intervals to see if there is a linear relationship between egg weight and bird weight.   Which of the following statements below are the correct null and alternative hypotheses to conduct this test?  \n",
    "\n",
    "Assign `null_hypothesis_number` to the **number** next to the statement below that correctly describes the null hypothesis. \n",
    "\n",
    "Similarly, assign `alternative_hypothesis_number` to the **number** next to the statement below that correctly describes the alternative hypothesis. \n",
    "\n",
    "(For example, if you believe statement 1 is the correct null hypothesis, set `null_hypothesis_number` = 1 in the code cell below).  Note that the check below just checks that your answer is in the correct form, it doesn't check if you have the correct answer (that will be done when you submit to Gradescope).\n",
    "\n",
    "\n",
    " 1. The true slope of the regression line that predicts bird weight from egg weight, computed using the **population** of all Snowy Plovers, is 0.72.   Any difference in the slope of the regression line computed from our sample is just a result of chance.\n",
    " \n",
    " 2. The slope of the regression line that predicts bird weight from egg weight, computed using our **sample** of Snowy Plovers is 0.   \n",
    " \n",
    " 3. The slope of the regression line that predicts bird weight from egg weight, computed using our **sample** of Snowy Plovers is 0.72. \n",
    "\n",
    " 4. The true slope of the regression line that predicts bird weight from egg weight, computed using the **population** of all Snowy Plovers, is 0.   Any difference in the slope of the regression line computed from our sample is just a result of chance.\n",
    "\n",
    " 5. The slope of the regression line that predicts bird weight from egg weight, computed using our **sample** from Snowy Plovers, is not equal to zero.  \n",
    "\n",
    " 6. The true slope of the regression line that predicts bird weight from egg weight, computed using the **population** of all Snowy Plovers, is not equal to zero.  \n",
    " \n",
    " 7. The true slope of the regression line that predicts bird weight from egg weight, computed using the **population** of all Snowy Plovers, is not equal to 0.72.  \n",
    " \n",
    " "
   ]
  },
  {
   "cell_type": "code",
   "execution_count": null,
   "id": "c67347df",
   "metadata": {
    "tags": []
   },
   "outputs": [],
   "source": [
    "null_hypothesis_number = ...\n",
    "\n",
    "alternative_hypothesis_number = ..."
   ]
  },
  {
   "cell_type": "code",
   "execution_count": null,
   "id": "19e5cbd1",
   "metadata": {
    "deletable": false,
    "editable": false
   },
   "outputs": [],
   "source": [
    "grader.check(\"q2_1\")"
   ]
  },
  {
   "cell_type": "markdown",
   "id": "3b7093b6",
   "metadata": {},
   "source": [
    "Now we have all the tools we need to create a confidence interval that quantifies our uncertainty about the true relationship between egg weight and bird weight."
   ]
  },
  {
   "cell_type": "markdown",
   "id": "e7c86e62",
   "metadata": {
    "deletable": false,
    "editable": false
   },
   "source": [
    "<!-- BEGIN QUESTION -->\n",
    "\n",
    "**Question 2.2.** \n",
    "\n",
    "a).  Create a *numpy array* called `resampled_slopes` that contains the slope of the best fit line for 10,000 bootstrap resamples of `birds`.   (Hint, use your function `fit_line` from question 1). \n",
    "\n",
    "b).  Then create a $95\\%$ Confidence Interval for the true value of the slopes and assign the lower and upper values to the variables `CI_lower` and `CI_upper` respectively.  \n",
    "\n",
    "c).  Create a plot with a histogram of the density distribution of these slopes AND the confidence interval overlaid on the bottom of the distribution (similar to histograms you made in HW 10).   \n",
    "\n",
    "\n"
   ]
  },
  {
   "cell_type": "code",
   "execution_count": null,
   "id": "4a0c19fd",
   "metadata": {
    "for_assignment_type": "solution",
    "tags": []
   },
   "outputs": [],
   "source": [
    "...\n",
    "# your code for part (a) above\n",
    "\n",
    "CI_lower = ...\n",
    "CI_upper = ...\n",
    "\n",
    "print(\"95% confidence interval for slope: [{:g}, {:g}]\".format(CI_lower, CI_upper)) \n",
    "\n",
    "\n",
    "...\n",
    "# your code for part (c) above"
   ]
  },
  {
   "cell_type": "code",
   "execution_count": null,
   "id": "514d0973",
   "metadata": {
    "deletable": false,
    "editable": false
   },
   "outputs": [],
   "source": [
    "grader.check(\"q2_2\")"
   ]
  },
  {
   "cell_type": "markdown",
   "id": "785b2f40",
   "metadata": {
    "deletable": false,
    "editable": false
   },
   "source": [
    "<!-- END QUESTION -->\n",
    "\n",
    "<!-- BEGIN QUESTION -->\n",
    "\n",
    "**Question 2.3.** Based on your confidence interval, would you accept or reject the null hypothesis that the true slope is 0?  Explain your reasoning.  What p-value cutoff are you using? "
   ]
  },
  {
   "cell_type": "markdown",
   "id": "98325022",
   "metadata": {},
   "source": [
    "_Type your answer here, replacing this text._"
   ]
  },
  {
   "cell_type": "markdown",
   "id": "e8f1edc8",
   "metadata": {
    "deletable": false,
    "editable": false
   },
   "source": [
    "<!-- END QUESTION -->\n",
    "\n",
    "## Finding the Bootstrap Prediction Interval"
   ]
  },
  {
   "cell_type": "markdown",
   "id": "b6520396",
   "metadata": {},
   "source": [
    "Suppose we're visiting Point Reyes and stumble upon some Snowy Plover eggs; we'd like to know how heavy they'll be once they hatch. In other words, we want to use our regression line to make predictions about a bird's weight based on the weight of the corresponding egg.\n",
    "\n",
    "However, just as we're uncertain about the slope of the true regression line, we're also uncertain about the predictions made based on the true regression line."
   ]
  },
  {
   "cell_type": "markdown",
   "id": "b660a530",
   "metadata": {
    "deletable": false,
    "editable": false
   },
   "source": [
    "**Question 2.4.** Define the function `fitted_value`.  It should take in four arguments:\n",
    "\n",
    "1. `df`: a dataframe like `birds`.  We'll be predicting the values in the second column using the first.\n",
    "2. `x_col`: the name of our x-column within the input `table`\n",
    "3. `y_col`: the name of our y-column within the input `table`\n",
    "2. `given_x`: a number, the value of the predictor variable for which we'd like to make a prediction.\n",
    "  \n",
    "The function should return the line’s prediction for the given x. \n",
    "\n",
    "*Hint:* Make sure to use the `fit_line` function you defined in Question 1.\n"
   ]
  },
  {
   "cell_type": "code",
   "execution_count": null,
   "id": "03d10b7c",
   "metadata": {
    "ExecuteTime": {
     "end_time": "2018-04-11T12:05:53.935846Z",
     "start_time": "2018-04-11T12:05:53.927826Z"
    },
    "for_assignment_type": "solution",
    "tags": []
   },
   "outputs": [],
   "source": [
    "def fitted_value(df, x_col, y_col, given_x):\n",
    "    line = ...\n",
    "    slope = ...\n",
    "    intercept = ...\n",
    "    ...\n",
    "\n",
    "# Here's an example of how fitted_value is used. The code below\n",
    "# computes the prediction for the bird weight, in grams, based on\n",
    "# an egg weight of 6 grams.\n",
    "egg_weight_six = fitted_value(birds, \"Egg Weight\", \"Bird Weight\", 6)\n",
    "egg_weight_six"
   ]
  },
  {
   "cell_type": "code",
   "execution_count": null,
   "id": "b7d2d6c6",
   "metadata": {
    "deletable": false,
    "editable": false
   },
   "outputs": [],
   "source": [
    "grader.check(\"q2_4\")"
   ]
  },
  {
   "cell_type": "markdown",
   "id": "c34d66b2",
   "metadata": {
    "deletable": false,
    "editable": false
   },
   "source": [
    "**Question 2.5.** Raymond, the resident Snowy Plover expert at Point Reyes, tells us that the egg he has been carefully observing has a weight of 8 grams. Using `fitted_value` above, assign the variable `experts_egg` to the predicted bird weight for Raymond's egg. \n"
   ]
  },
  {
   "cell_type": "code",
   "execution_count": null,
   "id": "25884ed9",
   "metadata": {
    "ExecuteTime": {
     "end_time": "2018-04-11T12:05:54.430725Z",
     "start_time": "2018-04-11T12:05:54.424720Z"
    },
    "deletable": false,
    "tags": []
   },
   "outputs": [],
   "source": [
    "experts_egg = ...\n",
    "experts_egg"
   ]
  },
  {
   "cell_type": "code",
   "execution_count": null,
   "id": "68c7f03c",
   "metadata": {
    "deletable": false,
    "editable": false
   },
   "outputs": [],
   "source": [
    "grader.check(\"q2_5\")"
   ]
  },
  {
   "cell_type": "code",
   "execution_count": null,
   "id": "eb232597",
   "metadata": {
    "scrolled": true,
    "tags": []
   },
   "outputs": [],
   "source": [
    "# Let's look at the number of rows in the birds table.\n",
    "len(birds)"
   ]
  },
  {
   "cell_type": "markdown",
   "id": "7ab18ffe",
   "metadata": {},
   "source": [
    "A fellow parkgoer raises the following objection to your prediction:\n",
    "\n",
    "> \"Your prediction depends on your sample of 44 birds.  Wouldn't your prediction change if you had a different sample of 44 birds?\"\n",
    "\n",
    "Having read section [16.3](https://inferentialthinking.com/chapters/16/3/Prediction_Intervals.html) of the textbook, you know just the response! Had the sample been different, the regression line would have been different too. This would ultimately result in a different prediction. To see how good our prediction is, we must get a sense of how variable the prediction can be."
   ]
  },
  {
   "cell_type": "markdown",
   "id": "9aa59b72",
   "metadata": {
    "deletable": false,
    "editable": false
   },
   "source": [
    "**Question 2.6.** Define a function `compute_resampled_line` that takes in a dataframe `df`and two column names, `x_col` and `y_col`, and returns an array containing the parameters of the best fit line (slope and intercept) for one bootstrapped resample of the table.\n"
   ]
  },
  {
   "cell_type": "code",
   "execution_count": null,
   "id": "2c58fd13",
   "metadata": {
    "tags": []
   },
   "outputs": [],
   "source": [
    "def compute_resampled_line(df, x_col, y_col):\n",
    "    resample = ...\n",
    "    resampled_line = ...\n",
    "    ..."
   ]
  },
  {
   "cell_type": "code",
   "execution_count": null,
   "id": "445f3bd6",
   "metadata": {
    "deletable": false,
    "editable": false
   },
   "outputs": [],
   "source": [
    "grader.check(\"q2_6\")"
   ]
  },
  {
   "cell_type": "markdown",
   "id": "ea499e36",
   "metadata": {
    "deletable": false,
    "editable": false
   },
   "source": [
    "<!-- BEGIN QUESTION -->\n",
    "\n",
    "**Question 2.7**\n",
    "Define the function `bootstrap_lines`.  It takes in four arguments:\n",
    "1. `df`: a dataframe like `birds`\n",
    "2. `x_col`: the name of our x-column within the input `tbl`\n",
    "3. `y_col`: the name of our y-column within the input `tbl`\n",
    "4. `num_bootstraps`: an integer, a number of bootstraps to run.\n",
    "\n",
    "It returns a *dataframe* with one row for each bootstrap resample and the following two columns:\n",
    "1. `Slope`: the bootstrapped slopes \n",
    "2. `Intercept`: the corresponding bootstrapped intercepts \n",
    "\n",
    "(Hint, use your function from the previous part of this question)\n",
    "\n",
    "Then call this function 10,000 times using the bird data.\n"
   ]
  },
  {
   "cell_type": "code",
   "execution_count": null,
   "id": "adf345e3",
   "metadata": {
    "ExecuteTime": {
     "end_time": "2018-04-11T12:05:55.698074Z",
     "start_time": "2018-04-11T12:05:55.243866Z"
    },
    "for_assignment_type": "solution",
    "tags": []
   },
   "outputs": [],
   "source": [
    "def bootstrap_lines(df, x_col, y_col, num_bootstraps):\n",
    "    ...\n",
    "\n",
    "regression_lines = bootstrap_lines(birds, \"Egg Weight\", \"Bird Weight\", 10000)\n",
    "regression_lines.head()"
   ]
  },
  {
   "cell_type": "markdown",
   "id": "f58f3f61",
   "metadata": {
    "deletable": false,
    "editable": false
   },
   "source": [
    "<!-- END QUESTION -->\n",
    "\n",
    "<!-- BEGIN QUESTION -->\n",
    "\n",
    "**Question 2.8.** \n",
    "\n",
    "a).  Create a *numpy array* called `predictions_for_eight` that contains the predicted bird weights based on an egg of weight 8 grams for each regression line in `regression_lines` (from Question 2.7). \n",
    "\n",
    "b).  Then create a $95\\%$ Confidence Interval for the true value of the prediction for a weight of 8 grams and assign the lower and upper values to the variables `CI_lower_pred` and `CI_upper_pred` respectively.  \n",
    "\n",
    "c).  Create a plot with a histogram of the density distribution of these predictions AND the confidence interval overlaid on the bottom of the distribution.   Label your axes on the plot.\n",
    "\n",
    "\n"
   ]
  },
  {
   "cell_type": "code",
   "execution_count": null,
   "id": "8eeb68d4",
   "metadata": {
    "ExecuteTime": {
     "end_time": "2018-04-11T12:05:55.991855Z",
     "start_time": "2018-04-11T12:05:55.759236Z"
    },
    "deletable": false,
    "scrolled": true,
    "tags": []
   },
   "outputs": [],
   "source": [
    "...\n",
    "# your code for part (a) above\n",
    "\n",
    "CI_lower_pred = ...\n",
    "CI_upper_pred = ...\n",
    "\n",
    "print(\"95% confidence interval for slope: [{:g}, {:g}]\".format(CI_lower_pred, CI_upper_pred)) \n",
    "\n",
    "\n",
    "...\n",
    "# your code for part (c) above\n",
    "\n"
   ]
  },
  {
   "cell_type": "code",
   "execution_count": null,
   "id": "d435ba2f",
   "metadata": {
    "deletable": false,
    "editable": false
   },
   "outputs": [],
   "source": [
    "grader.check(\"q2_8\")"
   ]
  },
  {
   "cell_type": "markdown",
   "id": "492d1ad7",
   "metadata": {
    "deletable": false,
    "editable": false
   },
   "source": [
    "<!-- END QUESTION -->\n",
    "\n",
    "**Question 2.9.** Set `plover_statements` to a list of integer(s) that correspond to all the statement(s) that are true.\n",
    "\n",
    "1. The 95% confidence interval we found in the previous part covers 95% of the bird weights for eggs that had a weight of eight grams in `birds`.\n",
    "\n",
    "2. The 95% confidence interval we found in the previous part gives a sense of how much actual weights differ from your prediction.\n",
    "\n",
    "3. The 95% confidence interval we found in the previous part quantifies the uncertainty in our estimate of what the true line would predict.\n"
   ]
  },
  {
   "cell_type": "code",
   "execution_count": null,
   "id": "2ff8cb5f",
   "metadata": {
    "ExecuteTime": {
     "end_time": "2018-04-11T12:05:56.479878Z",
     "start_time": "2018-04-11T12:05:56.476869Z"
    },
    "deletable": false,
    "tags": []
   },
   "outputs": [],
   "source": [
    "plover_statements = ..."
   ]
  },
  {
   "cell_type": "code",
   "execution_count": null,
   "id": "1d7c55d3",
   "metadata": {
    "deletable": false,
    "editable": false
   },
   "outputs": [],
   "source": [
    "grader.check(\"q2_9\")"
   ]
  },
  {
   "cell_type": "markdown",
   "id": "f5a4d925",
   "metadata": {},
   "source": [
    "**Seaborn For Visualizing Least Squares Regression Models and Prediction Intervals:**\n",
    "\n",
    "In the last question we calculated the prediction interval for one input value (x=8).  We could repeat the process for every x value, and get a \"prediction band\".  \n",
    "\n",
    "\n",
    "`seaborn` has a built-in function `lmplot` that allows us to visualize this prediction band as well as the linear regression model for a given dataset using one line of code:  https://seaborn.pydata.org/generated/seaborn.lmplot.html"
   ]
  },
  {
   "cell_type": "code",
   "execution_count": null,
   "id": "f6edf4e6",
   "metadata": {},
   "outputs": [],
   "source": [
    "# Run this code.  \n",
    "sns.lmplot(data=birds,x=\"Egg Weight\",y= \"Bird Weight\")"
   ]
  },
  {
   "cell_type": "markdown",
   "id": "54178597",
   "metadata": {},
   "source": [
    "<br/><br/>\n",
    "<hr style=\"border: 5px solid #003262;\" />\n",
    "<hr style=\"border: 1px solid #fdb515;\" />\n",
    "\n",
    "## Question 3:\n",
    "\n",
    "In this question, you will predict fuel efficiency (`mpg`) of several models of automobiles using a **single feature**: engine power (`horsepower`). \n",
    "\n",
    "First, let's load in the data."
   ]
  },
  {
   "cell_type": "code",
   "execution_count": null,
   "id": "8ea9d56a",
   "metadata": {},
   "outputs": [],
   "source": [
    "# Here, we load the fuel dataset, and drop any rows that have missing data.\n",
    "vehicle_data = sns.load_dataset('mpg').dropna()\n",
    "vehicle_data = vehicle_data.sort_values('horsepower', ascending=True)\n",
    "vehicle_data[vehicle_data[\"horsepower\"]==150]"
   ]
  },
  {
   "cell_type": "code",
   "execution_count": null,
   "id": "349946c7",
   "metadata": {},
   "outputs": [],
   "source": [
    "vehicle_data.shape"
   ]
  },
  {
   "cell_type": "markdown",
   "id": "394ab9d5",
   "metadata": {},
   "source": [
    "We have 392 datapoints and 8 potential features (plus our observed $y$ values, `mpg`)."
   ]
  },
  {
   "cell_type": "markdown",
   "id": "4ac0c23a",
   "metadata": {
    "deletable": false,
    "editable": false
   },
   "source": [
    "<!-- BEGIN QUESTION -->\n",
    "\n",
    "**Question 3.1.** \n",
    "We'll start by building a simple linear regression model to try and predict `mpg` using `horsepower`.  \n",
    "\n",
    "a).  Use your function `fit_line` from question to fit this linear model (i.e. find the slope and intercept for the least squares regression line).  \n",
    "\n",
    "\n",
    "b).  Then use seaborn `lmplot` to plot a scatterplot of horsepower (on the x-axis) vs mpg (on the y-axis) with the least squares linear regression line and prediction intervals included on the plot."
   ]
  },
  {
   "cell_type": "code",
   "execution_count": null,
   "id": "bbceafe8",
   "metadata": {
    "tags": []
   },
   "outputs": [],
   "source": [
    "\n",
    "slope, intercept = ...\n",
    "\n",
    "print(\"Our model slope is \", slope, \"and the intercept is\", intercept)\n",
    "\n",
    "\n",
    "...\n",
    "# Your code for part b above this line"
   ]
  },
  {
   "cell_type": "markdown",
   "id": "91d9f612-dab1-4494-a100-eb200f6c91c9",
   "metadata": {
    "deletable": false,
    "editable": false
   },
   "source": [
    "<!-- END QUESTION -->\n",
    "\n",
    "## `sklearn`\n",
    "\n",
    "While writing code to fit simple linear regression models by hand (like you did in Questions 1 and 2) is not complicated, this process will become much more complex as we increase the number of features in our models.  We now introduce a built-in library in Python that we will use to build and fit more complex models.\n",
    "\n",
    "`sklearn` is a popular Python library for building and fitting models. Below we walk through the general workflow for writing code for `sklearn`. We'll start by using it to get the best fit regression model for horsepower vs mpg (i.e. the line you plotted above), so you can see how it works with an example you've already coded by hand.  \n",
    "\n",
    "Note that while our examples will be focused on linear models, `sklearn` is highly adaptable for use on other (more complex) kinds of models. "
   ]
  },
  {
   "cell_type": "markdown",
   "id": "1787a703-ad56-4ec7-ae1f-01b2989d4355",
   "metadata": {},
   "source": [
    "There are three steps to creating and using a model in `sklearn`. \n",
    "\n",
    "**(1) Initialize an instance of the model class**\n",
    "\n",
    "`sklearn` stores \"templates\" of useful models for machine learning. We begin the modeling process by making a \"copy\" of one of these templates for our own use. Model initialization looks like `ModelClass()`, where `ModelClass` is the type of model we wish to create.\n",
    "\n",
    "For now, let's create a linear regression model using `LinearRegression()`. "
   ]
  },
  {
   "cell_type": "code",
   "execution_count": null,
   "id": "e14ebdf4-c362-4e8f-9ace-7c58959b1437",
   "metadata": {},
   "outputs": [],
   "source": [
    "# Run the cell below\n",
    "import sklearn.linear_model as lm\n",
    "\n",
    "my_model = lm.LinearRegression()\n",
    "\n",
    "my_model"
   ]
  },
  {
   "cell_type": "markdown",
   "id": "e4e28647-a19a-46e2-9704-64a89b4c53e9",
   "metadata": {},
   "source": [
    "`my_model` is now an instance of the `LinearRegression` class. You can think of it as the \"idea\" of a linear regression model. We haven't trained it yet, so it doesn't know any model parameters and cannot be used to make predictions. In fact, we haven't even told it what data to use for modeling! It simply waits for further instructions.\n",
    "\n",
    "**(2) Train the model using `.fit`**\n",
    "\n",
    "Before the model can make predictions, we will need to fit it to our training data. When we fit the model, `sklearn` will do the math behind the scenes minimize the MSE and determine the optimal model parameters. It will then save these model parameters to our model instance for future use. \n",
    "\n",
    "All `sklearn` model classes include a `.fit` method. This function is used to fit the model. It takes in two inputs: the design matrix, `X`, and the target variable, `y`. \n",
    "\n",
    "Let's start by fitting a model with just one feature: the `horsepower`. \n",
    "\n",
    "We create a design matrix `X` by pulling out the `\"horsepower\"` column from the DataFrame. \n",
    "\n",
    "Notice that we use **double brackets** to extract this column. Why double brackets instead of just single brackets? The `.fit` method, by default, expects to receive **2-dimensional** data – some kind of data that includes both rows and columns. Writing `vehicle_data[\"horsepower\"]` would return a 1D `Series`, causing `sklearn` to error. We avoid this by writing `vehicle_data[[\"horsepower\"]]` to produce a 2D DataFrame. "
   ]
  },
  {
   "cell_type": "code",
   "execution_count": null,
   "id": "c51bbfd8-08c1-400d-8be7-d1024f7164f6",
   "metadata": {},
   "outputs": [],
   "source": [
    "# .fit expects a 2D data design matrix, so we use double brackets to extract a DataFrame\n",
    "X = vehicle_data[[\"horsepower\"]]\n",
    "y = vehicle_data[\"mpg\"]\n",
    "\n",
    "my_model.fit(X, y)"
   ]
  },
  {
   "cell_type": "markdown",
   "id": "2510bea9-15ba-49a8-adb0-fcca38c2f648",
   "metadata": {},
   "source": [
    "And in just three lines of code, our model has determined the optimal model parameters! Our single-feature model takes the form:\n",
    "\n",
    "$$\\text{mpg} = \\theta_0 + \\theta_1 \\text{horsepower}$$\n",
    "\n",
    "Note that `LinearRegression` will automatically include an intercept term. \n",
    "\n",
    "The fitted model parameters are stored as attributes of the model instance. `my_model.intercept_` will return the value of $\\hat{\\theta}_0$ as a scalar. `my_model.coef_` will return all values $\\hat{\\theta}_1, \n",
    "\\hat{\\theta}_1, ...$ in an array. Because our model only contains one feature, we see just the value of $\\hat{\\theta}_1$ in the cell below.\n",
    "\n",
    "**Notice how these exactly match the slope and intercept you found in 3.1 using your own fit_line function!**"
   ]
  },
  {
   "cell_type": "code",
   "execution_count": null,
   "id": "63252e1e-02ef-40de-ae52-c373c98e7fd7",
   "metadata": {},
   "outputs": [],
   "source": [
    "# The intercept term, theta_0\n",
    "intercept_model1=my_model.intercept_\n",
    "intercept_model1"
   ]
  },
  {
   "cell_type": "code",
   "execution_count": null,
   "id": "f66bba83-0da2-4db7-9f1d-9664bff520d1",
   "metadata": {},
   "outputs": [],
   "source": [
    "# All parameters theta_1, ..., theta_p.  \n",
    "#If we want to pick out the slope, we need to select the first entry in this list\n",
    "slope_model1=my_model.coef_[0]\n",
    "slope_model1"
   ]
  },
  {
   "cell_type": "markdown",
   "id": "734a2c68-4bc5-42e3-b1ca-529323b79014",
   "metadata": {},
   "source": [
    "**(3) Use the fitted model to make predictions**\n",
    "\n",
    "Now that the model has been trained, we can use it to make predictions! To do so, we use the `.predict` method. `.predict` takes in one argument, the design matrix that should be used to generate predictions. To understand how the model performs on the training set, we would pass in the training data. Alternatively, to make predictions on unseen data, we would pass in a new dataset that wasn't used to train the model.\n",
    "\n",
    "Below, we call `.predict` to generate model predictions on the original training data. As before, we use double brackets to ensure that we extract 2-dimensional data."
   ]
  },
  {
   "cell_type": "code",
   "execution_count": null,
   "id": "701f8b82-de61-485e-b374-8a8ccfbfa0ef",
   "metadata": {},
   "outputs": [],
   "source": [
    "predicted_mpg = my_model.predict(vehicle_data[[\"horsepower\"]])\n"
   ]
  },
  {
   "cell_type": "markdown",
   "id": "c3711240",
   "metadata": {
    "deletable": false,
    "editable": false
   },
   "source": [
    "**Question 3.2.**\n",
    "\n",
    "Now we analyze the fit of our model.  \n",
    "\n",
    "Start by calculating the Root Mean Squared Error (RMSE) for this model.    (Hint: this can be done in one line using predicted_mpg and the appropriate information from the original dataset). \n"
   ]
  },
  {
   "cell_type": "code",
   "execution_count": null,
   "id": "406a31cf",
   "metadata": {
    "tags": []
   },
   "outputs": [],
   "source": [
    "RMSE = ...\n",
    "\n",
    "print(\"The RMSE of this model is \", RMSE)"
   ]
  },
  {
   "cell_type": "code",
   "execution_count": null,
   "id": "1f4e0b62",
   "metadata": {
    "deletable": false,
    "editable": false
   },
   "outputs": [],
   "source": [
    "grader.check(\"q3_2\")"
   ]
  },
  {
   "cell_type": "markdown",
   "id": "c65c5673",
   "metadata": {
    "deletable": false,
    "editable": false
   },
   "source": [
    "<!-- BEGIN QUESTION -->\n",
    "\n",
    "**Question 3.3.** \n",
    " One way we check model goodness of fit is to analyze the residuals.\n",
    "\n",
    "For each of the (horsepower, mpg) data points given below, calculate the residual.  Give your answer as a **float value**.\n",
    "\n",
    "Hint: You can use `my_model.predict()`   https://scikit-learn.org/stable/modules/generated/sklearn.linear_model.LinearRegression.html#sklearn.linear_model.LinearRegression.predict \n",
    "\n",
    "Note that the input and the output of this method are numpy arrays, and the test below requires a single float as your answer.  \n",
    "\n",
    "\n",
    "Data point A: (52, 44)\n",
    "\n",
    "Data point B: (150, 11)\n"
   ]
  },
  {
   "cell_type": "code",
   "execution_count": null,
   "id": "ffa32655",
   "metadata": {
    "tags": []
   },
   "outputs": [],
   "source": [
    "\n",
    "res_A = ...\n",
    "\n",
    "res_B = ...\n",
    "\n",
    "print(res_A)\n",
    "print(res_B)"
   ]
  },
  {
   "cell_type": "code",
   "execution_count": null,
   "id": "ab9a47ab",
   "metadata": {
    "deletable": false,
    "editable": false
   },
   "outputs": [],
   "source": [
    "grader.check(\"q3_3\")"
   ]
  },
  {
   "cell_type": "markdown",
   "id": "ab733d3f",
   "metadata": {
    "deletable": false,
    "editable": false
   },
   "source": [
    "<!-- END QUESTION -->\n",
    "\n",
    "Next, we **plot the residuals.** \n",
    "\n",
    "When we make a residual plot, we'll put the residuals on the y-axis.  But we have an option of what to use for the x-axis:  either the single input feature (in this case `horsepower` OR the fitted y-values (i.e. the predicted y output of the model).  When we have more than one feature i.e. in Multiple Linear Regression, we usually just plot the residuals vs the fitted y-values.  \n",
    "\n",
    "\n",
    "For reference we'll provide both residual plots below.  We also replot the original dataset and our SLR model.\n",
    "\n"
   ]
  },
  {
   "cell_type": "code",
   "execution_count": null,
   "id": "994e7e25",
   "metadata": {},
   "outputs": [],
   "source": [
    "fig, ax = plt.subplots(1,3, figsize=(15, 5))\n",
    "\n",
    "ax[0].scatter(vehicle_data['horsepower'], vehicle_data['mpg'])\n",
    "ax[0].plot(vehicle_data['horsepower'], predicted_mpg, 'r--', label =r'$mpg = {0:.2f}hp+{1:.2f}$'.format(my_model.coef_[0],my_model.intercept_))\n",
    "ax[0].set_xlabel('horsepower')\n",
    "ax[0].set_ylabel('mpg')\n",
    "ax[0].set_title('SLR')\n",
    "ax[0].legend()\n",
    "\n",
    "\n",
    "ax[1].scatter(vehicle_data['horsepower'], vehicle_data['mpg'] - predicted_mpg)\n",
    "ax[1].axhline(0, c='black', linewidth=1)\n",
    "ax[1].set_xlabel(r'horsepower')\n",
    "ax[1].set_ylabel(r'Residuals: $y - \\hat{y}$');\n",
    "ax[1].set_title(\"Residuals vs. mpg\")\n",
    "\n",
    "ax[2].scatter(predicted_mpg, vehicle_data['mpg'] - predicted_mpg)\n",
    "ax[2].axhline(0, c='black', linewidth=1)\n",
    "ax[2].set_xlabel(r'Fitted Values $\\hat{y}$')\n",
    "ax[2].set_ylabel(r'Residuals: $y - \\hat{y}$');\n",
    "ax[2].set_title(\"Residuals vs. predicted mpg\")\n",
    "\n"
   ]
  },
  {
   "cell_type": "markdown",
   "id": "bc219784",
   "metadata": {
    "deletable": false,
    "editable": false
   },
   "source": [
    "<!-- BEGIN QUESTION -->\n",
    "\n",
    "**Question 3.4.**  Do these residual plots indicate that our linear model is a good model for the data? Why or why not?\n"
   ]
  },
  {
   "cell_type": "markdown",
   "id": "ee360065",
   "metadata": {},
   "source": [
    "_Type your answer here, replacing this text._"
   ]
  },
  {
   "cell_type": "markdown",
   "id": "4bf9ec3a",
   "metadata": {
    "deletable": false,
    "editable": false
   },
   "source": [
    "<!-- END QUESTION -->\n",
    "\n",
    "\n",
    "\n",
    "## Question 4: Transform a Single Feature\n",
    "\n",
    "Based on the residual plot in Question 3, our first attempt at the model is not the best fit for our data.  \n",
    "\n",
    "Recall from lecture, the Tukey-Mosteller Bulge Diagram is a useful tool for summarizing what transformations can linearize the relationship between two variables. To determine what transformations might be appropriate, trace the shape of the “bulge” made by your data. Find the quadrant of the diagram that matches this bulge. The transformations shown on the vertical and horizontal axes of this quadrant can help improve the fit between the variables.\n",
    "\n",
    "Note that:\n",
    "\n",
    " - There are multiple solutions. Some will fit better than others.\n",
    " - sqrt and log make a value “smaller.”\n",
    " - Raising to a power makes a value “bigger.”\n",
    " - Each of these transformations equates to increasing or decreasing the scale of an axis.\n",
    "\n",
    "<img src=\"Tukey.jpeg\" alt=\"Tukey-Mosteller\" width=\"500\">\n",
    "\n"
   ]
  },
  {
   "cell_type": "markdown",
   "id": "43813ca0",
   "metadata": {
    "deletable": false,
    "editable": false
   },
   "source": [
    "**Question 4.1**\n",
    "\n",
    "Based on the scatterplot of the `horsepower` vs `mpg` data, which of the following are possible data transformations we could try?  Set `tukey` to $\\textit{a list of integer(s)}$ that correspond to all the possible applicable transformations.\n",
    "\n",
    "1. Use $\\sqrt{horsepower}$\n",
    "\n",
    "2. Use $\\log({horsepower})$\n",
    "\n",
    "3. Use $(horsepower)^2$\n",
    "\n",
    "4. Use $(horsepower)^3$\n",
    "\n",
    "5. Use $\\sqrt{mpg}$\n",
    "\n",
    "6. Use $\\log({mpg})$\n",
    "\n",
    "7. Use $(mpg)^2$\n",
    "\n",
    "8. Use $(mpg)^3$\n"
   ]
  },
  {
   "cell_type": "code",
   "execution_count": null,
   "id": "8da5c746",
   "metadata": {
    "ExecuteTime": {
     "end_time": "2018-04-11T12:05:56.479878Z",
     "start_time": "2018-04-11T12:05:56.476869Z"
    },
    "deletable": false,
    "tags": []
   },
   "outputs": [],
   "source": [
    "tukey = ..."
   ]
  },
  {
   "cell_type": "code",
   "execution_count": null,
   "id": "ce210319",
   "metadata": {
    "deletable": false,
    "editable": false
   },
   "outputs": [],
   "source": [
    "grader.check(\"q4_1\")"
   ]
  },
  {
   "cell_type": "markdown",
   "id": "962ab7d7",
   "metadata": {
    "deletable": false,
    "editable": false
   },
   "source": [
    "<!-- BEGIN QUESTION -->\n",
    "\n",
    "**Question 4.2**\n",
    "\n",
    "Let's start by trying Option 1 in the list above.  \n",
    "\n",
    "a).  Add a new column to vehicle_data called `sqrt(hp)` that contains the square root of the horsepower data.  \n",
    "\n",
    "\n",
    "b).  Then plot a scatterplot of `mpg` vs `sqrt(hp)` to visually inspect if this transformation makes the data appear more linear than our first model.  Label your axes.\n",
    "\n"
   ]
  },
  {
   "cell_type": "code",
   "execution_count": null,
   "id": "539f5722",
   "metadata": {
    "tags": []
   },
   "outputs": [],
   "source": [
    "...\n",
    "# your code for part(a) above\n",
    "\n",
    "\n",
    "vehicle_data.head()"
   ]
  },
  {
   "cell_type": "code",
   "execution_count": null,
   "id": "85dcb902",
   "metadata": {
    "tags": []
   },
   "outputs": [],
   "source": [
    "...\n",
    "# your code for part(b) above\n"
   ]
  },
  {
   "cell_type": "code",
   "execution_count": null,
   "id": "93ba3b06",
   "metadata": {
    "deletable": false,
    "editable": false
   },
   "outputs": [],
   "source": [
    "grader.check(\"q4_2\")"
   ]
  },
  {
   "cell_type": "markdown",
   "id": "02d48c2c",
   "metadata": {
    "deletable": false,
    "editable": false
   },
   "source": [
    "<!-- END QUESTION -->\n",
    "\n",
    "**Question 4.3.** \n",
    "\n",
    "Let's try fitting this adjusted model:\n",
    "\n",
    "\n",
    "$$\\text{predicted_mpg_hp_sqrt} = \\theta_0 + \\theta_1 \\sqrt{\\text{horsepower}}$$\n"
   ]
  },
  {
   "cell_type": "markdown",
   "id": "f31225f1-c443-4bbb-a295-7a04d809026b",
   "metadata": {
    "deletable": false,
    "editable": false
   },
   "source": [
    "<!-- BEGIN QUESTION -->\n",
    "\n",
    "In the cell below, explain why we use the term \"linear\" to describe the model above, even though it incorporates a square root function as a feature."
   ]
  },
  {
   "cell_type": "markdown",
   "id": "cb8aa027",
   "metadata": {},
   "source": [
    "_Type your answer here, replacing this text._"
   ]
  },
  {
   "cell_type": "markdown",
   "id": "423a66c9",
   "metadata": {
    "deletable": false,
    "editable": false
   },
   "source": [
    "<!-- END QUESTION -->\n",
    "\n",
    "<!-- BEGIN QUESTION -->\n",
    "\n",
    "**Question 4.4.**  \n",
    "\n",
    "a).  Use `sklearn` to create and fit this new model.  \n",
    "\n",
    "b.   Once you've created the new model, set `predicted_mpg_hp_sqrt` to the predicted mpg for the data.\n",
    "\n",
    "c).  Make 2 side-by-side plots:  \n",
    " - A plot of this new model overlaid with a scatterplot of the original data.  Include the equation for the new model as a label on your plot (see the plots in question 3 for reference on how to code this).\n",
    " - A plot of the residuals vs the **predicted values of mpg**\n",
    "\n",
    "d).  Calculate the RMSE for this model"
   ]
  },
  {
   "cell_type": "code",
   "execution_count": null,
   "id": "1411cc74",
   "metadata": {
    "tags": []
   },
   "outputs": [],
   "source": [
    "...\n",
    "# Your code for parts a) and b) above this line"
   ]
  },
  {
   "cell_type": "code",
   "execution_count": null,
   "id": "a1caf6b4",
   "metadata": {
    "tags": []
   },
   "outputs": [],
   "source": [
    "...\n",
    "# Your code for part c  above this line\n"
   ]
  },
  {
   "cell_type": "code",
   "execution_count": null,
   "id": "30e3ae90",
   "metadata": {
    "tags": []
   },
   "outputs": [],
   "source": [
    "RMSE_hp_sqrt = ...\n",
    "\n",
    "print(\"The RMSE of this model is \", RMSE_hp_sqrt)"
   ]
  },
  {
   "cell_type": "code",
   "execution_count": null,
   "id": "73aa3cac",
   "metadata": {
    "deletable": false,
    "editable": false
   },
   "outputs": [],
   "source": [
    "grader.check(\"q4_4\")"
   ]
  },
  {
   "cell_type": "markdown",
   "id": "ce18fce6",
   "metadata": {
    "deletable": false,
    "editable": false
   },
   "source": [
    "<!-- END QUESTION -->\n",
    "\n",
    "<!-- BEGIN QUESTION -->\n",
    "\n",
    "**Question 4.5.** \n",
    "Analyze the new model compared to the original one.  Which RMSE is smaller?  Does the residual plot of this new model indicate this model is a good choice?  Why or why not?"
   ]
  },
  {
   "cell_type": "markdown",
   "id": "2b39d951",
   "metadata": {},
   "source": [
    "_Type your answer here, replacing this text._"
   ]
  },
  {
   "cell_type": "markdown",
   "id": "cfddb26a",
   "metadata": {
    "deletable": false,
    "editable": false
   },
   "source": [
    "<!-- END QUESTION -->\n",
    "\n",
    "**Question 4.6.**   \n",
    "\n",
    "Based on the Tukey-Mosteller Bulge Diagram and since there are still some patterns in our residuals, we could try to further linearize the data by taking the log of the y-values.\n",
    "\n",
    "\n",
    "Let's try fitting this adjusted model:\n",
    "\n",
    "\n",
    "$$\\text{log(mpg)} = \\theta_0 + \\theta_1 \\sqrt{\\text{horsepower}}$$\n",
    "\n"
   ]
  },
  {
   "cell_type": "markdown",
   "id": "187a5480-7d7d-4f8a-9e0e-356d34afd9ab",
   "metadata": {
    "deletable": false,
    "editable": false
   },
   "source": [
    "<!-- BEGIN QUESTION -->\n",
    "\n",
    "a).  Add a new column to vehicle_data called `log(mpg)` that contains the that contains the log of the mpg data.\n",
    "\n",
    "b).  Then plot a scatterplot of `log(mpg)` vs `sqrt(hp)` to visually inspect if this transformation makes the data appear more linear than our first and second models.  Label your axes."
   ]
  },
  {
   "cell_type": "code",
   "execution_count": null,
   "id": "97e595a1",
   "metadata": {
    "tags": []
   },
   "outputs": [],
   "source": [
    "..."
   ]
  },
  {
   "cell_type": "markdown",
   "id": "dc64055f",
   "metadata": {
    "deletable": false,
    "editable": false
   },
   "source": [
    "<!-- END QUESTION -->\n",
    "\n",
    "<!-- BEGIN QUESTION -->\n",
    "\n",
    "**Question 4.7.**  \n",
    "\n",
    "a).  Use `sklearn` to create and fit this new model.  \n",
    "\n",
    "b).  Since the model will output predicted values in units of log(mp), you will need to transform it back to compare to our original data.\n",
    "\n",
    "Notice:\n",
    "\n",
    "$$\\text{log(mpg)} = \\theta_0 + \\theta_1 \\sqrt{\\text{horsepower}}$$\n",
    "\n",
    "$$ \\implies mpg = e^{\\theta_0 + \\theta_1 \\sqrt{\\text{horsepower}}}$$\n",
    "\n",
    "\n",
    "Let `predicted_mpg_model3` equal the output from the transformed equation: $mpg = e^{\\theta_0 + \\theta_1 \\sqrt{\\text{horsepower}}}$\n",
    "\n",
    "\n",
    "c).  Make 2 side-by-side plots:  \n",
    " - A plot of this new model overlaid with a scatterplot of the original data.  Include the equation for the new model as a label on your plot (see the plots in question 3 for reference on how to code this).\n",
    " - A plot of the residuals vs the **predicted values of mpg** (`predicted_mpg_model3`)\n",
    " \n",
    "`\n",
    "d).  Calculate the RMSE for this model"
   ]
  },
  {
   "cell_type": "code",
   "execution_count": null,
   "id": "60e0e06b",
   "metadata": {
    "tags": []
   },
   "outputs": [],
   "source": [
    "...\n",
    "# Your code for parts a) and b) above this line"
   ]
  },
  {
   "cell_type": "code",
   "execution_count": null,
   "id": "18a17271",
   "metadata": {
    "tags": []
   },
   "outputs": [],
   "source": [
    "...\n",
    "\n",
    "# Your code for part c  above this line\n"
   ]
  },
  {
   "cell_type": "code",
   "execution_count": null,
   "id": "94d45771",
   "metadata": {
    "tags": []
   },
   "outputs": [],
   "source": [
    "RMSE_model3 = ...\n",
    "\n",
    "print(\"The RMSE of this model is \", RMSE_model3)"
   ]
  },
  {
   "cell_type": "code",
   "execution_count": null,
   "id": "a3122847",
   "metadata": {
    "deletable": false,
    "editable": false
   },
   "outputs": [],
   "source": [
    "grader.check(\"q4_7\")"
   ]
  },
  {
   "cell_type": "markdown",
   "id": "87c5b993",
   "metadata": {
    "deletable": false,
    "editable": false
   },
   "source": [
    "<!-- END QUESTION -->\n",
    "\n",
    "<!-- BEGIN QUESTION -->\n",
    "\n",
    "**Question 4.8.** \n",
    "Analyze this new model compared to the first 2 ones.  Which RMSE is smaller?  Does the residual plot of this new model indicate this model is a better choice than the first two?  Why or why not?"
   ]
  },
  {
   "cell_type": "markdown",
   "id": "52166dc1",
   "metadata": {},
   "source": [
    "_Type your answer here, replacing this text._"
   ]
  },
  {
   "cell_type": "markdown",
   "id": "169d7663",
   "metadata": {
    "deletable": false,
    "editable": false
   },
   "source": [
    "<!-- END QUESTION -->\n",
    "\n",
    "<br/><br/>\n",
    "<hr style=\"border: 5px solid #003262;\" />\n",
    "<hr style=\"border: 1px solid #fdb515;\" />\n",
    "\n",
    "## Congratulations! You have finished Homework 11!"
   ]
  },
  {
   "cell_type": "markdown",
   "id": "cc31acf9",
   "metadata": {},
   "source": [
    "If you discussed this assignment with any other students in the class (in a manner that is acceptable as described by the Collaboration policy above) please **include their names** here:\n",
    "\n",
    "**Collaborators**: *list collaborators here*"
   ]
  },
  {
   "cell_type": "markdown",
   "id": "46739932",
   "metadata": {},
   "source": [
    "### Submission Instructions\n",
    "\n",
    "Before proceeding any further, **save this notebook.**\n",
    "\n",
    "After running the `grader.export()` cell provided below, **2 files will be created**: a zip file and pdf file.  You can download them using the links provided below OR by finding them in the same folder where this juptyer notebook resides in your JuptyerHub.\n",
    "\n",
    "To receive credit on this assignment, **you must submit BOTH of these files\n",
    "to their respective Gradescope portals:** \n",
    "\n",
    "* **Homework 11 Autograded**: Submit the zip file that is output by the `grader.export()` cell below to the HW9 Autograded assignment in Gradescope.\n",
    "\n",
    "* **Homework 11 Manually Graded**: Submit your hw11.PDF to the HW11 Manually Graded assignment in Gradescope.  **YOU MUST SELECT THE PAGES CORRESPONDING TO EACH QUESTION WHEN YOU UPLOAD TO GRADESCOPE.  IF NOT, YOU WILL LOSE POINTS**   Also, **check** that all of your plots **and** all lines of your code are showing up in your PDF before submitting.  If not, you will not receive credit for your plots/code.  \n",
    "\n",
    "\n",
    "**You are responsible for ensuring your submission follows our requirements. We will not be granting regrade requests nor extensions to submissions that don't follow instructions.** If you encounter any difficulties with submission, please don't hesitate to reach out to staff prior to the deadline."
   ]
  },
  {
   "cell_type": "code",
   "execution_count": null,
   "id": "30761bf2",
   "metadata": {},
   "outputs": [],
   "source": []
  },
  {
   "cell_type": "code",
   "execution_count": null,
   "id": "cd63cedb",
   "metadata": {},
   "outputs": [],
   "source": []
  },
  {
   "cell_type": "markdown",
   "id": "c31fae1b",
   "metadata": {
    "deletable": false,
    "editable": false
   },
   "source": [
    "## Submission\n",
    "\n",
    "Make sure you have run all cells in your notebook in order before running the cell below, so that all images/graphs appear in the output. The cell below will generate a zip file for you to submit. **Please save before exporting!**\n",
    "\n",
    "AFTER running the cell below, click on <a href='hw11.pdf' download>this link to download the PDF </a> to upload to Gradescope.  There will be a separate link that appears after running the cell below with a link to download the zip file to upload to Gradescope."
   ]
  },
  {
   "cell_type": "code",
   "execution_count": null,
   "id": "a9da627d",
   "metadata": {
    "deletable": false,
    "editable": false
   },
   "outputs": [],
   "source": [
    "# Save your notebook first, then run this cell to export your submission.\n",
    "grader.export(run_tests=True)"
   ]
  },
  {
   "cell_type": "markdown",
   "id": "4645151e",
   "metadata": {},
   "source": [
    " "
   ]
  }
 ],
 "metadata": {
  "kernelspec": {
   "display_name": "Python 3 (ipykernel)",
   "language": "python",
   "name": "python3"
  },
  "language_info": {
   "codemirror_mode": {
    "name": "ipython",
    "version": 3
   },
   "file_extension": ".py",
   "mimetype": "text/x-python",
   "name": "python",
   "nbconvert_exporter": "python",
   "pygments_lexer": "ipython3",
   "version": "3.10.8"
  },
  "otter": {
   "OK_FORMAT": true,
   "tests": {
    "q1_2": {
     "name": "q1_2",
     "points": [
      1,
      1
     ],
     "suites": [
      {
       "cases": [
        {
         "code": ">>> \n>>> assert np.allclose(standard_units(np.arange(5)), np.sqrt(2)/2 * np.arange(-2, 3))\n",
         "hidden": false,
         "locked": false
        },
        {
         "code": ">>> \n>>> assert np.isclose(correlation_bird, 0.8472275)\n",
         "hidden": false,
         "locked": false
        }
       ],
       "scored": true,
       "setup": "",
       "teardown": "",
       "type": "doctest"
      }
     ]
    },
    "q1_3": {
     "name": "q1_3",
     "points": [
      1,
      1
     ],
     "suites": [
      {
       "cases": [
        {
         "code": ">>> assert np.allclose(np.round(fit_line(pd.DataFrame(data={'x': [0, 1], 'y': [1, 3]}), \"x\", \"y\"), 5), np.array([2, 1]))\n",
         "hidden": false,
         "locked": false
        },
        {
         "code": ">>> assert np.allclose(np.round(fit_line(birds, \"Egg Weight\", \"Bird Weight\"), 5), np.array([ 0.71852, -0.05827]))\n",
         "hidden": false,
         "locked": false
        }
       ],
       "scored": true,
       "setup": "",
       "teardown": "",
       "type": "doctest"
      }
     ]
    },
    "q2_1": {
     "name": "q2_1",
     "points": [
      0,
      0
     ],
     "suites": [
      {
       "cases": [
        {
         "code": ">>> assert any(alternative_hypothesis_number == x for x in np.arange(175))\n",
         "hidden": false,
         "locked": false
        },
        {
         "code": ">>> assert any(null_hypothesis_number == x for x in np.arange(1,7))\n",
         "hidden": false,
         "locked": false
        }
       ],
       "scored": true,
       "setup": "",
       "teardown": "",
       "type": "doctest"
      }
     ]
    },
    "q2_2": {
     "name": "q2_2",
     "points": [
      0
     ],
     "suites": [
      {
       "cases": [
        {
         "code": ">>> assert len(resampled_slopes) == 10000\n",
         "hidden": false,
         "locked": false
        }
       ],
       "scored": true,
       "setup": "",
       "teardown": "",
       "type": "doctest"
      }
     ]
    },
    "q2_4": {
     "name": "q2_4",
     "points": [
      0
     ],
     "suites": [
      {
       "cases": [
        {
         "code": ">>> assert type(egg_weight_six) in set([float, np.float32, np.float64])\n",
         "hidden": false,
         "locked": false
        }
       ],
       "scored": true,
       "setup": "",
       "teardown": "",
       "type": "doctest"
      }
     ]
    },
    "q2_5": {
     "name": "q2_5",
     "points": [
      1
     ],
     "suites": [
      {
       "cases": [
        {
         "code": ">>> \n>>> assert np.isclose(experts_egg, 5.6898504)\n",
         "hidden": false,
         "locked": false
        }
       ],
       "scored": true,
       "setup": "",
       "teardown": "",
       "type": "doctest"
      }
     ]
    },
    "q2_6": {
     "name": "q2_6",
     "points": [
      2
     ],
     "suites": [
      {
       "cases": [
        {
         "code": ">>> np.random.seed(0)\n>>> \n>>> assert np.allclose(compute_resampled_line(birds, \"Egg Weight\", \"Bird Weight\"), np.array([0.64163345, 0.53766856]))\n",
         "hidden": false,
         "locked": false
        }
       ],
       "scored": true,
       "setup": "",
       "teardown": "",
       "type": "doctest"
      }
     ]
    },
    "q2_8": {
     "name": "q2_8",
     "points": [
      0
     ],
     "suites": [
      {
       "cases": [
        {
         "code": ">>> assert len(predictions_for_eight) == len(regression_lines)\n",
         "hidden": false,
         "locked": false
        }
       ],
       "scored": true,
       "setup": "",
       "teardown": "",
       "type": "doctest"
      }
     ]
    },
    "q2_9": {
     "name": "q2_9",
     "points": [
      0
     ],
     "suites": [
      {
       "cases": [
        {
         "code": ">>> assert type(plover_statements) == list\n",
         "hidden": false,
         "locked": false
        }
       ],
       "scored": true,
       "setup": "",
       "teardown": "",
       "type": "doctest"
      }
     ]
    },
    "q3_2": {
     "name": "q3_2",
     "points": 1,
     "suites": [
      {
       "cases": [
        {
         "code": ">>> assert np.isclose(RMSE, 4.893226)\n",
         "hidden": false,
         "locked": false
        }
       ],
       "scored": true,
       "setup": "",
       "teardown": "",
       "type": "doctest"
      }
     ]
    },
    "q3_3": {
     "name": "q3_3",
     "points": [
      0.5,
      0.5
     ],
     "suites": [
      {
       "cases": [
        {
         "code": ">>> assert np.isclose(res_A, 12.27206511)\n",
         "hidden": false,
         "locked": false
        },
        {
         "code": ">>> assert np.isclose(res_B, -5.2591510)\n",
         "hidden": false,
         "locked": false
        }
       ],
       "scored": true,
       "setup": "",
       "teardown": "",
       "type": "doctest"
      }
     ]
    },
    "q4_1": {
     "name": "q4_1",
     "points": [
      0
     ],
     "suites": [
      {
       "cases": [
        {
         "code": ">>> assert type(tukey) == list\n",
         "hidden": false,
         "locked": false
        }
       ],
       "scored": true,
       "setup": "",
       "teardown": "",
       "type": "doctest"
      }
     ]
    },
    "q4_2": {
     "name": "q4_2",
     "points": null,
     "suites": [
      {
       "cases": [
        {
         "code": ">>> assert len(vehicle_data['sqrt(hp)']) == 392\n",
         "hidden": false,
         "locked": false
        }
       ],
       "scored": true,
       "setup": "",
       "teardown": "",
       "type": "doctest"
      }
     ]
    },
    "q4_4": {
     "name": "q4_4",
     "points": 1,
     "suites": [
      {
       "cases": [
        {
         "code": ">>> assert np.isclose(RMSE_hp_sqrt, 4.6529072)\n",
         "hidden": false,
         "locked": false
        }
       ],
       "scored": true,
       "setup": "",
       "teardown": "",
       "type": "doctest"
      }
     ]
    },
    "q4_7": {
     "name": "q4_7",
     "points": 1,
     "suites": [
      {
       "cases": [
        {
         "code": ">>> assert np.isclose(RMSE_model3, 4.4623596)\n",
         "hidden": false,
         "locked": false
        }
       ],
       "scored": true,
       "setup": "",
       "teardown": "",
       "type": "doctest"
      }
     ]
    }
   }
  }
 },
 "nbformat": 4,
 "nbformat_minor": 5
}
