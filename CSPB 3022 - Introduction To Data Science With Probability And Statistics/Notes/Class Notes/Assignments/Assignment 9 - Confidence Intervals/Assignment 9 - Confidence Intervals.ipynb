{
 "cells": [
  {
   "cell_type": "code",
   "execution_count": null,
   "id": "ca0b8ee1",
   "metadata": {
    "deletable": false,
    "editable": false
   },
   "outputs": [],
   "source": [
    "# Initialize Otter\n",
    "import otter\n",
    "grader = otter.Notebook(\"Assignment 9 - Confidence Intervals.ipynb\")"
   ]
  },
  {
   "cell_type": "markdown",
   "id": "bbbf1431",
   "metadata": {},
   "source": [
    "# Homework 10:  Confidence Intervals - v2"
   ]
  },
  {
   "cell_type": "markdown",
   "id": "1eeace48",
   "metadata": {},
   "source": [
    "**Assigned Readings On These Topics from Class Schedule**: \n",
    "\n",
    "* [Bootstrapping](https://inferentialthinking.com/chapters/13/2/Bootstrap.html)\n",
    "\n",
    "* [Confidence Intervals](https://inferentialthinking.com/chapters/13/3/Confidence_Intervals.html)\n",
    "\n",
    "* [Using Confidence Intervals](https://inferentialthinking.com/chapters/13/4/Using_Confidence_Intervals.html)\n",
    "\n",
    "* [Choosing a Sample Size](https://inferentialthinking.com/chapters/14/6/Choosing_a_Sample_Size.html)"
   ]
  },
  {
   "cell_type": "markdown",
   "id": "2b1fa56f",
   "metadata": {},
   "source": [
    "\n",
    "\n",
    "## Due Date: Monday Nov 27th by 11:59 PM MT on Gradescope\n",
    "\n",
    "\n",
    "## Collaboration Policy\n",
    "\n",
    "Data science is a collaborative activity.  However a key step in learning and retention is **creating solutions on your own.**  \n",
    "\n",
    "Please see the **Course Syllabus for the Collaboration Policy**.\n",
    "\n",
    "On the other hand, the following are some **examples of things which would NOT usually be\n",
    "considered to be cheating**:\n",
    " - Working on a HW problem on your own first and then discussing with a classmate a particular part in the problem solution where you are stuck.  After clarifying any questions you should then continue to write your solution independently.\n",
    " - Asking someone (or searching online) how a particular construct in the language works.\n",
    " - Asking someone (or searching online) how to formulate a particular construct in the language.\n",
    " - Asking someone for help in finding an error in your program.  \n",
    " - Asking someone why a particular construct does not work as you expected in a given program.\n",
    "   \n",
    "\n",
    "To test whether you are truly doing your own work and retaining what you've learned you should be able to easily reproduce from scratch and explain a HW solution that was your own when asked in office hours by an Instructor or on a quiz/exam.   \n",
    "\n",
    "\n",
    "If you have difficulty in formulating the general solution to a problem on your own, or\n",
    "you have difficulty in translating that general solution into a program, it is advisable to see\n",
    "your instructor.\n",
    "\n",
    "We are here to help!  Visit OH Hours and/or post questions on Piazza!\n"
   ]
  },
  {
   "cell_type": "markdown",
   "id": "b040a7c3-e466-403d-9884-5b8969f8aec3",
   "metadata": {},
   "source": [
    "If while completing this assignment you reference any websites other than those linked in this assignment or provided on Canvas please list those references here:\n",
    "\n",
    "**External references**:  *list any websites you referenced"
   ]
  },
  {
   "cell_type": "code",
   "execution_count": null,
   "id": "93140281",
   "metadata": {},
   "outputs": [],
   "source": []
  },
  {
   "cell_type": "markdown",
   "id": "1ee34b34-778f-48d8-87a7-173cd97a049c",
   "metadata": {},
   "source": [
    "#### Grading\n",
    "Grading is broken down into autograded answers and manually graded answers. \n",
    "\n",
    "For autograded answers, the results of your code are compared to provided and/or hidden tests.\n",
    "\n",
    "For manually graded answers you must show and explain all steps.  Graders will evaluate how well you answered the question and/or fulfilled the requirements of the question.\n",
    "\n",
    "\n",
    "### Score breakdown\n",
    "\n",
    "\n",
    "\n",
    "Question | Points | Grading Type\n",
    "--- | --- | ---\n",
    "Question 1.1, 1.3 | 3 | auto\n",
    "Question 1.2 | 3 | manual\n",
    "Question 2.1-2.4 | 4 | auto\n",
    "Question 2.5 | 5 | manual\n",
    "Question 3 | 11 | auto\n",
    "Question 4.1, 4.2 | 13 | manual\n",
    "Question 4.3-4.9 | 11 | auto\n",
    "|Total | 50"
   ]
  },
  {
   "cell_type": "code",
   "execution_count": null,
   "id": "20af1960",
   "metadata": {},
   "outputs": [],
   "source": [
    "import pandas as pd\n",
    "# These lines import the Numpy and Datascience modules.\n",
    "import numpy as np\n",
    "from matplotlib.ticker import PercentFormatter\n",
    "# These lines do some fancy plotting magic.\n",
    "import matplotlib\n",
    "%matplotlib inline\n",
    "import matplotlib.pyplot as plt\n",
    "plt.style.use('fivethirtyeight')\n",
    "import warnings\n",
    "warnings.simplefilter('ignore', FutureWarning)\n",
    "\n",
    "from matplotlib import patches\n",
    "from ipywidgets import interact, interactive, fixed\n",
    "import ipywidgets as widgets"
   ]
  },
  {
   "cell_type": "markdown",
   "id": "cc31acf9",
   "metadata": {},
   "source": [
    "If you discussed this assignment with any other students in the class (in a manner that is acceptable as described by the Collaboration policy above) please **include their names** here:\n",
    "\n",
    "**Collaborators**: *list collaborators here*"
   ]
  },
  {
   "cell_type": "markdown",
   "id": "ca83a993",
   "metadata": {},
   "source": [
    "## Question 1. Thai Restaurants in Boulder"
   ]
  },
  {
   "cell_type": "markdown",
   "id": "9c760bda",
   "metadata": {},
   "source": [
    "Oswaldo and Varun are trying to see what the best Thai restaurant in Boulder is. They survey 1,500 CU Boulder students selected uniformly at random and ask each student what Thai restaurant is the best. (*Note: This data is fabricated for the purposes of this homework.*) The choices of Thai restaurants are [Aloy Thai](https://www.aloythai.com/), [Budda Cafe](https://www.buddhathaicuisine.com/menu), [Folsom Thai](https://www.folsomthaiatboulder.com/), and [Khow Thai](https://khow-thai.com/). After compiling the results, Oswaldo and Varun release the following percentages from their sample:\n",
    "\n",
    "|Thai Restaurant  | Percentage|\n",
    "|:------------:|:------------:|\n",
    "|Aloy Thai| 8% |\n",
    "|Khow Thai | 53% |\n",
    "|Folsom Thai | 25% |\n",
    "|Budda Cafe | 14% |\n",
    "\n",
    "These percentages represent a uniform random sample of the population of CU Boulder students. We will attempt to estimate the corresponding *parameters*, or the percentage of the votes that each restaurant will receive from the population (i.e. all CU Boulder students). We will use confidence intervals to compute a range of values that reflects the uncertainty of our estimates.\n",
    "\n",
    "The table `votes` contains the results of Oswaldo and Varun's survey."
   ]
  },
  {
   "cell_type": "code",
   "execution_count": null,
   "id": "74d6d265",
   "metadata": {},
   "outputs": [],
   "source": [
    "# Just run this cell\n",
    "votes = pd.read_csv('votes.csv')"
   ]
  },
  {
   "cell_type": "markdown",
   "id": "670fc03f",
   "metadata": {
    "deletable": false,
    "editable": false
   },
   "source": [
    "**Question 1.1.** \n",
    "\n",
    "Oswaldo and Varun notice that in their sample, Khow Thai has received more than half of the votes.    They are interested in obtaining a confidence interval for the percentage of votes that Khow Thai will receive from the population.\n",
    "\n",
    "\n",
    "To begin, complete the function `one_resampled_percentage` below. It should return Khow Thai's ***percentage*** of votes after taking the original table as input (`tbl`) and performing **one bootstrap sample** of it. Reminder that a percentage is between 0 and 100. \n",
    "\n",
    "*Note:* `tbl` will always be in the same format as `votes`.\n",
    "\n",
    "*Hint:* Given a table of votes, how can you figure out what percentage of the votes are for a certain restaurant? **Be sure to use percentages, not proportions, for this question!**\n"
   ]
  },
  {
   "cell_type": "code",
   "execution_count": null,
   "id": "b957a5cb",
   "metadata": {
    "tags": []
   },
   "outputs": [],
   "source": [
    "def one_resampled_percentage(tbl):\n",
    "    ...\n",
    "\n",
    "one_resampled_percentage(votes)"
   ]
  },
  {
   "cell_type": "code",
   "execution_count": null,
   "id": "ef843255",
   "metadata": {
    "deletable": false,
    "editable": false
   },
   "outputs": [],
   "source": [
    "grader.check(\"q1_1\")"
   ]
  },
  {
   "cell_type": "markdown",
   "id": "5cc949b8",
   "metadata": {
    "deletable": false,
    "editable": false
   },
   "source": [
    "<!-- BEGIN QUESTION -->\n",
    "\n",
    "**Question 1.2.** \n",
    "\n",
    "a).  Complete the `percentages_in_resamples` function such that it simulates and returns a numpy array of 2022 elements, where each element represents a bootstrapped estimate of the percentage of voters who will vote for Khow Thai. You should use the `one_resampled_percentage` function you wrote above.\n",
    "\n",
    "\n",
    "b).  Then run your function `percentages_in_resamples` and store the results in a numpy array called `resampled_percentages`.  Then create a density histogram of the entries in `resampled_percentages` array.  Label your axes and include a title on your plot. \n",
    "\n"
   ]
  },
  {
   "cell_type": "code",
   "execution_count": null,
   "id": "429d07b2",
   "metadata": {
    "for_assignment_type": "solution",
    "tags": []
   },
   "outputs": [],
   "source": [
    "def percentages_in_resamples():\n",
    "    \n",
    "    ...\n"
   ]
  },
  {
   "cell_type": "code",
   "execution_count": null,
   "id": "32c6ddd0",
   "metadata": {
    "tags": []
   },
   "outputs": [],
   "source": [
    "...\n",
    "# your code for histogram above this line"
   ]
  },
  {
   "cell_type": "code",
   "execution_count": null,
   "id": "6b90c5fc",
   "metadata": {
    "deletable": false,
    "editable": false
   },
   "outputs": [],
   "source": [
    "grader.check(\"q1_2\")"
   ]
  },
  {
   "cell_type": "markdown",
   "id": "9bafe3dd",
   "metadata": {
    "deletable": false,
    "editable": false
   },
   "source": [
    "<!-- END QUESTION -->\n",
    "\n",
    "**Question 1.3.** Using the array `resampled_percentages`, find the values at the two edges of the middle 95% of the bootstrapped percentage estimates. Compute the lower and upper ends of the interval, named `khow_lower_bound` and `khow_upper_bound` respectively. \n"
   ]
  },
  {
   "cell_type": "code",
   "execution_count": null,
   "id": "801120d3",
   "metadata": {
    "deletable": false,
    "tags": []
   },
   "outputs": [],
   "source": [
    "khow_lower_bound = ...\n",
    "khow_upper_bound = ...\n",
    "print(f\"Bootstrapped 95% confidence interval for the percentage of Khow Thai voters in the population: [{khow_lower_bound:.2f}, {khow_upper_bound:.2f}]\")"
   ]
  },
  {
   "cell_type": "code",
   "execution_count": null,
   "id": "89ca7346",
   "metadata": {
    "deletable": false,
    "editable": false
   },
   "outputs": [],
   "source": [
    "grader.check(\"q1_3\")"
   ]
  },
  {
   "cell_type": "markdown",
   "id": "a9ff3c0a",
   "metadata": {},
   "source": [
    "## Question 2. Interpreting Confidence Intervals "
   ]
  },
  {
   "cell_type": "markdown",
   "id": "8176d8d4",
   "metadata": {
    "deletable": false,
    "editable": false
   },
   "source": [
    "**Question 2.1.** Suppose we produced 6,000 new samples (each one a new/distinct uniform random sample of 1,500 students) from the population and created a 95% confidence interval for the percentage of people who vote for Khow Thai from each one. Roughly how many of those 6,000 intervals do you expect will actually contain the true percentage of the population? \n",
    "\n",
    "Assign your answer to `true_percentage_intervals`.\n"
   ]
  },
  {
   "cell_type": "code",
   "execution_count": null,
   "id": "6e84dc58",
   "metadata": {
    "deletable": false,
    "tags": []
   },
   "outputs": [],
   "source": [
    "true_percentage_intervals = ..."
   ]
  },
  {
   "cell_type": "code",
   "execution_count": null,
   "id": "8943ea7f",
   "metadata": {
    "deletable": false,
    "editable": false
   },
   "outputs": [],
   "source": [
    "grader.check(\"q2_1\")"
   ]
  },
  {
   "cell_type": "markdown",
   "id": "07d06bef",
   "metadata": {
    "deletable": false,
    "editable": false
   },
   "source": [
    "**Question 2.2.** \n",
    "\n",
    "\n",
    "The staff computed the following 95% confidence interval for the percentage of Khow Thai voters: \n",
    "\n",
    "$$[50.53, 55.53]$$\n",
    "\n",
    "(Your answer may have been a bit different due to randomness; that doesn't mean it was wrong!)\n",
    "\n",
    "Suppose we are interested in testing a simple yes-or-no question:\n",
    "\n",
    "> \"Is the percentage of votes for Khow Thai equal to the percentage of votes for Aloy Thai, Folsom Thai, and Budda Cafe combined?\"\n",
    "\n",
    "Our null hypothesis is that the percentages are equal, or equivalently, that Khow Thai's percentage is 50%. Our alternative hypothesis is that Khow Thai's percentage is not equal to 50%  In the questions below, don't compute any confidence interval yourself—use only the staff's 95% confidence interval."
   ]
  },
  {
   "cell_type": "markdown",
   "id": "48bc78f9",
   "metadata": {
    "deletable": false,
    "editable": false
   },
   "source": [
    "Say we use a 5% p-value cutoff. Do we reject the null, fail to reject the null, or are we unable to tell using the staff's confidence interval? \n",
    "\n",
    "\n",
    "Assign `cutoff_five_percent` to the number corresponding to the correct answer.\n",
    "\n",
    "1. Reject the null / Data is consistent with the alternative hypothesis\n",
    "2. Fail to reject the null / Data is consistent with the null hypothesis\n",
    "3. Unable to tell using our staff confidence interval\n",
    "\n",
    "*Hint:* Consider the relationship between the p-value cutoff and confidence. If you're confused, take a look at [this chapter](https://inferentialthinking.com/chapters/13/4/Using_Confidence_Intervals.html) of the textbook.\n"
   ]
  },
  {
   "cell_type": "code",
   "execution_count": null,
   "id": "4e294f26",
   "metadata": {
    "deletable": false,
    "tags": []
   },
   "outputs": [],
   "source": [
    "cutoff_five_percent = ..."
   ]
  },
  {
   "cell_type": "code",
   "execution_count": null,
   "id": "1500d789",
   "metadata": {
    "deletable": false,
    "editable": false
   },
   "outputs": [],
   "source": [
    "grader.check(\"q2_2\")"
   ]
  },
  {
   "cell_type": "markdown",
   "id": "26085d99",
   "metadata": {
    "deletable": false,
    "editable": false
   },
   "source": [
    "**Question 2.3.** What if, instead, we use a p-value cutoff of 1%? Do we reject the null, fail to reject the null, or are we unable to tell using our staff confidence interval? \n",
    "\n",
    "Recall, the staff computed the following 95% confidence interval for the percentage of Khow Thai voters: \n",
    "\n",
    "$$[50.53, 55.53]$$\n",
    "\n",
    "\n",
    "Assign `cutoff_one_percent` to the number corresponding to the correct answer.\n",
    "\n",
    "1. Reject the null / Data is consistent with the alternative hypothesis\n",
    "2. Fail to reject the null / Data is consistent with the null hypothesis\n",
    "3. Unable to tell using our staff confidence interval\n"
   ]
  },
  {
   "cell_type": "code",
   "execution_count": null,
   "id": "b5e83728",
   "metadata": {
    "deletable": false,
    "tags": []
   },
   "outputs": [],
   "source": [
    "cutoff_one_percent = ..."
   ]
  },
  {
   "cell_type": "code",
   "execution_count": null,
   "id": "da91e8d1",
   "metadata": {
    "deletable": false,
    "editable": false
   },
   "outputs": [],
   "source": [
    "grader.check(\"q2_3\")"
   ]
  },
  {
   "cell_type": "markdown",
   "id": "e79c8efd",
   "metadata": {
    "deletable": false,
    "editable": false
   },
   "source": [
    "**Question 2.4.** What if we use a p-value cutoff of 10%? Do we reject, fail to reject, or are we unable to tell using our confidence interval? \n",
    "\n",
    "The staff computed the following 95% confidence interval for the percentage of Khow Thai voters: \n",
    "\n",
    "$$[50.53, 55.53]$$\n",
    "\n",
    "\n",
    "\n",
    "Assign `cutoff_ten_percent` to the number corresponding to the correct answer.\n",
    "\n",
    "1. Reject the null / Data is consistent with the alternative hypothesis\n",
    "2. Fail to reject the null / Data is consistent with the null hypothesis\n",
    "3. Unable to tell using our staff confidence interval\n"
   ]
  },
  {
   "cell_type": "code",
   "execution_count": null,
   "id": "d5f1fa73",
   "metadata": {
    "deletable": false,
    "tags": []
   },
   "outputs": [],
   "source": [
    "cutoff_ten_percent = ..."
   ]
  },
  {
   "cell_type": "code",
   "execution_count": null,
   "id": "029c26de",
   "metadata": {
    "deletable": false,
    "editable": false
   },
   "outputs": [],
   "source": [
    "grader.check(\"q2_4\")"
   ]
  },
  {
   "cell_type": "markdown",
   "id": "8c61a713",
   "metadata": {
    "deletable": false,
    "editable": false
   },
   "source": [
    "<!-- BEGIN QUESTION -->\n",
    "\n",
    "**Question 2.5**. The staff also created 70%, 90%, and 99% confidence intervals from the same sample, but we forgot to label which confidence interval represented which percentages! **First**, match each confidence level (70%, 90%, 99%) with its corresponding interval in the cell below \n",
    "\n",
    "(e.g. __ % CI: [52.1, 54] $\\rightarrow$ replace the blank with one of the three confidence levels).\n",
    "\n",
    "**Then**, explain your thought process and how you came up with your answers. \n",
    "\n",
    "The intervals are below:\n",
    "\n",
    "* [50.03, 55.94]\n",
    "* [52.1, 54]\n",
    "* [50.97, 54.99]\n",
    "\n"
   ]
  },
  {
   "cell_type": "markdown",
   "id": "88134db5",
   "metadata": {},
   "source": [
    "_Type your answer here, replacing this text._"
   ]
  },
  {
   "cell_type": "markdown",
   "id": "a9e457a3-a516-4635-bc73-5294a9442d25",
   "metadata": {
    "deletable": false,
    "editable": false
   },
   "source": [
    "<!-- END QUESTION -->\n",
    "\n",
    "## Question 3. Sample Size and Confidence Level\n",
    "\n",
    "A data science class at the large University wants to estimate the **percent of students at the school who use Facebook.** To do this, they need to take a random sample of students. You can assume that their method of sampling is equivalent to drawing at random with replacement from students at the school.\n",
    "\n",
    "***Please review [Section 14.6](https://inferentialthinking.com/chapters/14/6/Choosing_a_Sample_Size.html#) of the textbook before proceeding with this section. Your work will go much faster that way!***"
   ]
  },
  {
   "cell_type": "markdown",
   "id": "434290ef-e68b-4c5e-bfe1-10c08a7f0502",
   "metadata": {
    "deletable": false,
    "editable": false
   },
   "source": [
    "**Question 3.1.** Assign `smallest` to the **integer** (not float) that gives the smallest number of students they should sample to ensure that a **95%** confidence interval for the parameter has a width of no more than $6\\%$ from left end to right end. \n",
    "\n",
    "*Hint:* How can our data be represented to show if a student in the sample is a Facebook user? Given this, what assumptions can we make for the SD of the population? [Section 14.6](https://inferentialthinking.com/chapters/14/6/Choosing_a_Sample_Size.html#) might be helpful!\n",
    "\n",
    "*Note:* Notice that the smallest sample size has to be an integer, so if you get a non-integer for an answer, you need to round it up to the nearest integer.  The `np.ceil` function may be helpful.\n"
   ]
  },
  {
   "cell_type": "code",
   "execution_count": null,
   "id": "9c260d75-d7a8-4348-8ce9-23fdb18677ee",
   "metadata": {
    "tags": []
   },
   "outputs": [],
   "source": [
    "smallest = ...\n",
    "smallest"
   ]
  },
  {
   "cell_type": "code",
   "execution_count": null,
   "id": "21cdb5f5",
   "metadata": {
    "deletable": false,
    "editable": false
   },
   "outputs": [],
   "source": [
    "grader.check(\"q3_1\")"
   ]
  },
  {
   "cell_type": "markdown",
   "id": "5aab5e92-c0eb-4ef3-ae64-33b989869514",
   "metadata": {
    "deletable": false,
    "editable": false
   },
   "source": [
    "**Question 3.2.** Suppose the data science class decides to construct a 90% confidence interval instead of a 95% confidence interval, but they still require that the width of the interval is no more than 6% from left end to right end. Will they need the same sample size as in Question 3.1? \n",
    "\n",
    "Assign `sample_90` to the number corresponding to the correct answer.\n",
    "\n",
    "1. Yes, they must use the same sample size.\n",
    "2. No, a smaller sample size will work.\n",
    "3. No, they will need a bigger sample.\n"
   ]
  },
  {
   "cell_type": "code",
   "execution_count": null,
   "id": "57eec391",
   "metadata": {
    "deletable": false,
    "tags": []
   },
   "outputs": [],
   "source": [
    "sample_90 = ..."
   ]
  },
  {
   "cell_type": "code",
   "execution_count": null,
   "id": "786b5585",
   "metadata": {
    "deletable": false,
    "editable": false
   },
   "outputs": [],
   "source": [
    "grader.check(\"q3_2\")"
   ]
  },
  {
   "cell_type": "markdown",
   "id": "24925980-af0c-4983-a836-6f6c32735035",
   "metadata": {
    "deletable": false,
    "editable": false
   },
   "source": [
    "**Question 3.3.** The professor tells the class that a 90% confidence interval for the parameter is constructed exactly like a 95% confidence interval, except that you have to go only 1.64 SDs on either side of the estimate (±1.64) instead of 2 SDs on either side (±2). Assign `smallest_num` to the smallest number of students they should sample to ensure that a **90%** confidence interval for the parameter has a width of no more than 6% from left end to right end. \n",
    "\n",
    "*Note:* Just like in Question 3.1, your answer should an **integer**. \n"
   ]
  },
  {
   "cell_type": "code",
   "execution_count": null,
   "id": "f3791d50-205b-4262-ba9f-3d1d00c1465f",
   "metadata": {
    "tags": []
   },
   "outputs": [],
   "source": [
    "smallest_num = ...\n",
    "smallest_num"
   ]
  },
  {
   "cell_type": "code",
   "execution_count": null,
   "id": "d2457945",
   "metadata": {
    "deletable": false,
    "editable": false
   },
   "outputs": [],
   "source": [
    "grader.check(\"q3_3\")"
   ]
  },
  {
   "cell_type": "markdown",
   "id": "3a731698-3ce0-47df-ab78-237d9ac6e1db",
   "metadata": {},
   "source": [
    "For this next exercise, please consult [Section 14.3.4](https://inferentialthinking.com/chapters/14/3/SD_and_the_Normal_Curve.html#the-standard-normal-cdf) of the textbook for similar examples.\n",
    "\n",
    "The students are curious about how the professor came up with the value 1.64 in Question 3.3. "
   ]
  },
  {
   "cell_type": "markdown",
   "id": "bc0730b9",
   "metadata": {},
   "source": [
    "To start, run the code below to visualize a plot of the standard normal distribution (with mean 0 and standard deviation 1).  \n",
    "\n",
    "The `plt.fill_between` method shades in the region from -1.64 to +1.64 SDs. \n"
   ]
  },
  {
   "cell_type": "code",
   "execution_count": null,
   "id": "04e0f8e0-08b6-469b-a05d-8e00d34f80dd",
   "metadata": {},
   "outputs": [],
   "source": [
    "# Just run this cell\n",
    "from scipy import stats\n",
    "\n",
    "\n",
    "x = np.linspace(-4, 4, 1000)\n",
    "plt.plot(x, stats.norm.pdf(x,0))\n",
    "plt.xticks([-3,-1.64,0,1.64,3])\n",
    "plt.title(\"Normal Distribution: mean = 0, std = 1\")\n",
    "plt.fill_between(x, stats.norm.pdf(x,0), where=[(x > -1.64) and (x < 1.64) for x in x], alpha=0.4)\n"
   ]
  },
  {
   "cell_type": "markdown",
   "id": "08c099cf-c114-468d-87e0-6e43e5521c0a",
   "metadata": {},
   "source": [
    "**Question 3.4.** To verify that 1.64 is in fact the correct cutoff for a 90% confidence interval, use built-in python functions to calculate the shaded area in the plot above.  Assign your answer to the variable `shaded_area`\n",
    "\n",
    "*Hint:* Recall the acronym `cdf` stands for `cumulative distribution function`. It measures the proportion to the left of a specified point under a probability histogram."
   ]
  },
  {
   "cell_type": "code",
   "execution_count": null,
   "id": "4a708629",
   "metadata": {
    "tags": []
   },
   "outputs": [],
   "source": [
    "shaded_area = ...\n",
    "shaded_area\n"
   ]
  },
  {
   "cell_type": "code",
   "execution_count": null,
   "id": "e276369b",
   "metadata": {
    "deletable": false,
    "editable": false
   },
   "outputs": [],
   "source": [
    "grader.check(\"q3_4\")"
   ]
  },
  {
   "cell_type": "markdown",
   "id": "5d8a54e4",
   "metadata": {},
   "source": [
    "The acronym `ppf` stands for `probability point function`.  It's the inverse of the `cdf`.  \n",
    "\n",
    "Specifically, `ppf(y)` returns the exact point where the probability of everything to the left is equal to y. This can be thought of as the percentile function since the ppf tells us the value of a given percentile of the data.\n",
    "\n",
    "To find the lower SD cut-off for a 90% confidence interval, notice that we want the value on the x-axis of the standard normal distribution such that the area to left is equal to $\\frac{1-.90}{2}$ = 0.05\n",
    "\n",
    "We can find this by running the following code:\n"
   ]
  },
  {
   "cell_type": "code",
   "execution_count": null,
   "id": "5b11ba58",
   "metadata": {},
   "outputs": [],
   "source": [
    "stats.norm.ppf(.05)"
   ]
  },
  {
   "cell_type": "raw",
   "id": "88d991d6",
   "metadata": {},
   "source": [
    "By symmetry the upper SD cutoff is the opposite of this value:"
   ]
  },
  {
   "cell_type": "code",
   "execution_count": null,
   "id": "e74c514f",
   "metadata": {},
   "outputs": [],
   "source": [
    "-stats.norm.ppf(.05)"
   ]
  },
  {
   "cell_type": "markdown",
   "id": "12d7e6b2",
   "metadata": {
    "deletable": false,
    "editable": false
   },
   "source": [
    "**Question 3.5.** \n",
    "\n",
    "a).  To construct a 99% confidence interval for a parameter, how many SDs do you need to add and subtract to the sample estimate?   Give your answer as a positive value, rounded to the nearest hundredth.  Assign `SD_99` to your answer.  \n",
    "\n",
    "\n",
    "b). Using your rounded answer for `SD_99` from part a, assign `smallest_num_99` to the **integer** (not float) that gives the smallest number of students you should sample to ensure that a **99%** confidence interval for the parameter has a width of no more than $6\\%$ from left end to right end.  (Double check your answer by hand - depending on the order of operations you use you may inadvertendly end up with a floating point error that leads to the incorrect answer). \n",
    "\n"
   ]
  },
  {
   "cell_type": "code",
   "execution_count": null,
   "id": "0262e379-8cbb-4486-8a28-f547c2fdf00b",
   "metadata": {
    "tags": []
   },
   "outputs": [],
   "source": [
    "SD_99 = ...\n",
    "SD_99"
   ]
  },
  {
   "cell_type": "code",
   "execution_count": null,
   "id": "bbd57b64",
   "metadata": {
    "tags": []
   },
   "outputs": [],
   "source": [
    "smallest_num_99 = ...\n",
    "smallest_num_99"
   ]
  },
  {
   "cell_type": "code",
   "execution_count": null,
   "id": "aedb471a",
   "metadata": {
    "deletable": false,
    "editable": false
   },
   "outputs": [],
   "source": [
    "grader.check(\"q3_5\")"
   ]
  },
  {
   "cell_type": "markdown",
   "id": "c84c93b6-f4d2-486f-9fa7-de4f3d9b3a47",
   "metadata": {},
   "source": [
    "## Question 4. Polling and the Normal Distribution"
   ]
  },
  {
   "cell_type": "markdown",
   "id": "62b2cc23-8ab1-42eb-bdc2-e0c12c58065e",
   "metadata": {},
   "source": [
    "Michelle is a statistical consultant, and she works for a group that supports Proposition 68 (which would mandate labeling of all horizontal and vertical axes) called Yes on 68.  They want to know how many Coloradans will vote for the proposition.\n",
    "\n",
    "Michelle polls a uniform random sample of all Colorado voters, and she finds that 210 of the 400 sampled voters will vote in favor of the proposition. We have provided a table for you below which has 3 columns: the first two columns are identical to `sample`. The third column contains the proportion of total voters that chose each option."
   ]
  },
  {
   "cell_type": "code",
   "execution_count": null,
   "id": "e56e6bf3-aa48-40cd-ba69-5f8c3b325768",
   "metadata": {
    "ExecuteTime": {
     "end_time": "2018-03-20T04:34:23.388186Z",
     "start_time": "2018-03-20T04:34:23.372185Z"
    },
    "manual_problem_id": "sample_with_proportions",
    "tags": []
   },
   "outputs": [],
   "source": [
    "sample = pd.DataFrame(data={\"Vote\": [\"Yes\", \"No\"],\"Count\": [210, 190]})\n",
    "\n",
    "sample_size = sum(sample[\"Count\"])\n",
    "sample_with_proportions = sample.copy()\n",
    "sample_with_proportions[\"Proportion\"] = sample_with_proportions[\"Count\"] / sample_size\n",
    "\n",
    "sample_with_proportions"
   ]
  },
  {
   "cell_type": "markdown",
   "id": "c17bd8f7-0f73-4828-875a-dbb96cf14968",
   "metadata": {
    "deletable": false,
    "editable": false
   },
   "source": [
    "<!-- BEGIN QUESTION -->\n",
    "\n",
    "**Question 4.1.** Michelle wants to use 10,000 bootstrap resamples to compute a confidence interval for the proportion of all Colorado voters who will vote Yes.  \n",
    "\n",
    "\n",
    "a). Use bootstrap resampling to simulate 10,000 election outcomes, and assign the np.array `resample_yes_proportions` to contain the Yes proportion of each bootstrap resample.   \n",
    "\n",
    "b). Calculate the 95% bootstrapped confidence interval for the Yes proportion.\n",
    "\n",
    "\n",
    "c).  Then, plot a density histogram of `resample_yes_proportions`.   Include a title and label both axes.  **You should see a bell shaped curve centered near the proportion of Yes in the original sample.**   We have provided code that overlays your confidence interval at the bottom of your histogram. \n"
   ]
  },
  {
   "cell_type": "code",
   "execution_count": null,
   "id": "d57bd93b-dda0-483f-a6db-f5c57f084869",
   "metadata": {
    "ExecuteTime": {
     "end_time": "2018-03-20T04:35:22.190065Z",
     "start_time": "2018-03-20T04:35:21.777769Z"
    },
    "manual_problem_id": "resample_yes_proportions",
    "tags": []
   },
   "outputs": [],
   "source": [
    "...\n",
    "# Your code to simulate empirical distribution above this line\n",
    "resample_yes_proportions;"
   ]
  },
  {
   "cell_type": "code",
   "execution_count": null,
   "id": "a031fd8b",
   "metadata": {
    "tags": []
   },
   "outputs": [],
   "source": [
    "CI_lower = ...\n",
    "CI_upper = ...\n",
    "[CI_lower,CI_upper]"
   ]
  },
  {
   "cell_type": "code",
   "execution_count": null,
   "id": "2888dbdb",
   "metadata": {
    "tags": []
   },
   "outputs": [],
   "source": [
    "...\n",
    "# Your code to plot histogram above this line\n",
    "\n",
    "plt.plot(np.array([CI_lower, CI_upper]), np.array([0, 0]), c='m', lw=10)"
   ]
  },
  {
   "cell_type": "code",
   "execution_count": null,
   "id": "dc1fd50f",
   "metadata": {
    "deletable": false,
    "editable": false
   },
   "outputs": [],
   "source": [
    "grader.check(\"q4_1\")"
   ]
  },
  {
   "cell_type": "markdown",
   "id": "26a68453-0360-478e-baab-aedb1c492995",
   "metadata": {
    "deletable": false,
    "editable": false
   },
   "source": [
    "<!-- END QUESTION -->\n",
    "\n",
    "<!-- BEGIN QUESTION -->\n",
    "\n",
    "**Question 4.2.** \n",
    "\n",
    "\n",
    "a).  Why does the Central Limit Theorem (CLT) apply in this situation, and how does it explain the distribution we see above? \n",
    "\n",
    "\n",
    "b). Prove the following:  In a population whose members are 0 or 1, the **standard deviation** of that population is:\n",
    "\n",
    "\n",
    "$$\\text{standard deviation of population} = \\sqrt{(\\text{proportion of 0s}) \\times (\\text{proportion of 1s})}$$\n",
    "\n",
    "\n",
    "Write up your answers to both parts in the same Markdown cell below:"
   ]
  },
  {
   "cell_type": "markdown",
   "id": "21f9848a",
   "metadata": {},
   "source": [
    "_Type your answer here, replacing this text._"
   ]
  },
  {
   "cell_type": "markdown",
   "id": "a3d58dec-cab8-46d8-87fe-bd8f005c4419",
   "metadata": {
    "deletable": false,
    "editable": false
   },
   "source": [
    "<!-- END QUESTION -->\n",
    "\n",
    "**Question 4.3.** \n",
    "In the following few questions we're going to walk through the steps to calculate our confidence interval using the Central Limit Theorem (and then we'll compare to the bootstrapped confidence interval we found in 4.1)\n",
    "\n",
    "Using only the Central Limit Theorem and the numbers of Yes and No voters in our sample of 400, *algebraically* compute the predicted standard deviation of the `resample_yes_proportions` array. Assign this number to `approximate_sd`. **Do not access the data in `resample_yes_proportions` in any way.** \n",
    "\n",
    "Remember that the standard deviation of the sample means can be computed from the population SD and the size of the sample (the formula above might be helpful). If we do not know the population SD, we can use the sample SD as a reasonable approximation in its place. [This section](https://inferentialthinking.com/chapters/14/5/Variability_of_the_Sample_Mean.html#the-sd-of-all-the-sample-means) of the textbook also may be helpful.\n"
   ]
  },
  {
   "cell_type": "code",
   "execution_count": null,
   "id": "c52c3e7a-0b06-4085-868b-baadaf724eb5",
   "metadata": {
    "ExecuteTime": {
     "end_time": "2018-03-20T04:35:33.660846Z",
     "start_time": "2018-03-20T04:35:33.652810Z"
    },
    "manual_problem_id": "approximate_sd",
    "tags": []
   },
   "outputs": [],
   "source": [
    "approx_pop_sd = ...\n",
    "approximate_sd = ...\n",
    "approximate_sd"
   ]
  },
  {
   "cell_type": "code",
   "execution_count": null,
   "id": "f5a234b1",
   "metadata": {
    "deletable": false,
    "editable": false
   },
   "outputs": [],
   "source": [
    "grader.check(\"q4_3\")"
   ]
  },
  {
   "cell_type": "markdown",
   "id": "188eb98b-c3b8-4ace-81bf-c5396396b7a6",
   "metadata": {
    "deletable": false,
    "editable": false
   },
   "source": [
    "**Question 4.4.** Compute the standard deviation of the array `resample_yes_proportions`, which will act as an approximation to the true SD of the possible sample proportions. This will help verify whether your answer to question 4.3 is approximately correct.\n"
   ]
  },
  {
   "cell_type": "code",
   "execution_count": null,
   "id": "463fad2d-1066-4342-9908-9f4fa80e24e1",
   "metadata": {
    "ExecuteTime": {
     "end_time": "2018-03-20T04:35:34.753988Z",
     "start_time": "2018-03-20T04:35:34.745953Z"
    },
    "manual_problem_id": "exact_sd",
    "tags": []
   },
   "outputs": [],
   "source": [
    "exact_sd = ...\n",
    "exact_sd"
   ]
  },
  {
   "cell_type": "code",
   "execution_count": null,
   "id": "eb8ebfe7",
   "metadata": {
    "deletable": false,
    "editable": false
   },
   "outputs": [],
   "source": [
    "grader.check(\"q4_4\")"
   ]
  },
  {
   "cell_type": "markdown",
   "id": "5348d53e-79db-4c1e-b125-2975212c04ef",
   "metadata": {
    "deletable": false,
    "editable": false
   },
   "source": [
    "**Question 4.5.** **Again, without accessing `resample_yes_proportions` in any way**, use the Central Limit Theorem to compute an approximate 95% confidence interval for the proportion of Yes voters in California. \n",
    "\n",
    "Compare your answer to the bootstrapped confidence interval you found in Question 4.1.\n",
    "\n",
    "The cell below draws your interval as a red bar below the histogram of `resample_yes_proportions`; use that to verify that your answer looks right.\n",
    "\n",
    "*Hint:* How many SDs corresponds to 95% of the distribution promised by the CLT? Recall the discussion in the textbook [here](https://inferentialthinking.com/chapters/14/3/SD_and_the_Normal_Curve.html).\n",
    "\n",
    "*Hint:* The `approximate_sd` variable you previously defined may be helpful!\n"
   ]
  },
  {
   "cell_type": "code",
   "execution_count": null,
   "id": "b5676368-53e4-4036-bbb1-39cf862e38b9",
   "metadata": {
    "ExecuteTime": {
     "end_time": "2018-03-20T04:35:42.572582Z",
     "start_time": "2018-03-20T04:35:42.560545Z"
    },
    "manual_problem_id": "ci_without_data",
    "tags": []
   },
   "outputs": [],
   "source": [
    "lower_limit = ...\n",
    "upper_limit = ...\n",
    "print('lower:', lower_limit, 'upper:', upper_limit)"
   ]
  },
  {
   "cell_type": "code",
   "execution_count": null,
   "id": "bdce26b9",
   "metadata": {
    "deletable": false,
    "editable": false
   },
   "outputs": [],
   "source": [
    "grader.check(\"q4_5\")"
   ]
  },
  {
   "cell_type": "code",
   "execution_count": null,
   "id": "aae61b4a-499c-4d57-8459-81baa88a846b",
   "metadata": {},
   "outputs": [],
   "source": [
    "resample_yes_proportions_hist = plt.hist(resample_yes_proportions, edgecolor=\"white\", bins=np.arange(.2,.8,.01))\n",
    "plt.plot(np.array([lower_limit, upper_limit]), np.array([0, 0]), c='r', lw=10)"
   ]
  },
  {
   "cell_type": "markdown",
   "id": "51121b76-1e54-46f3-9ecf-b676014012e0",
   "metadata": {},
   "source": [
    "Your confidence interval should overlap the number 0.5.  That means we can't be very sure whether Proposition 68 is winning, even though the sample Yes proportion is a bit above 0.5.\n",
    "\n",
    "The Yes on 68 campaign really needs to know whether they're winning.  It's impossible to be absolutely sure without polling the whole population, but they'd be okay if the standard deviation of the sample mean (i.e. the Standard Error) was only 0.005.  They ask Michelle to run a new poll with a sample size that's large enough to achieve that.  (Polling is expensive, so the sample also shouldn't be bigger than necessary.)\n",
    "\n",
    "Michelle consults Chapter 14 of your textbook.  Instead of making the conservative assumption that the population standard deviation is 0.5 (coding Yes voters as 1 and No voters as 0), she decides to assume that it's equal to the standard deviation of the sample,\n",
    "\n",
    "$$\\sqrt{(\\text{Yes proportion in the sample}) \\times (\\text{No proportion in the sample})}.$$\n",
    "\n",
    "Under that assumption, Michelle decides that a sample of 9,975 would suffice."
   ]
  },
  {
   "cell_type": "markdown",
   "id": "4db34d79-f97e-4808-9ecb-9ac9edb5bb86",
   "metadata": {
    "deletable": false,
    "editable": false
   },
   "source": [
    "**Question 4.6.** Does Michelle's sample size achieve the desired Standard Error (SE)? What SE would you achieve with a smaller sample size? A higher sample size?\n",
    "\n",
    "To explore this, first compute the SD of sample means (i.e. the Standard Error) obtained by using Michelle's sample size.\n"
   ]
  },
  {
   "cell_type": "code",
   "execution_count": null,
   "id": "b4792b8d-4829-4459-b0b8-a056c38c7ad6",
   "metadata": {
    "ExecuteTime": {
     "end_time": "2018-03-20T04:35:45.882794Z",
     "start_time": "2018-03-20T04:35:45.870760Z"
    },
    "manual_problem_id": "michelle_sample_mean_sd",
    "scrolled": true,
    "tags": []
   },
   "outputs": [],
   "source": [
    "estimated_population_sd = ...\n",
    "michelle_sample_size = ...\n",
    "michelle_sample_mean_se = ...\n",
    "print(\"With Michelle's sample size, you would predict a standard error of %f.\" % michelle_sample_mean_se)"
   ]
  },
  {
   "cell_type": "code",
   "execution_count": null,
   "id": "b535378d",
   "metadata": {
    "deletable": false,
    "editable": false
   },
   "outputs": [],
   "source": [
    "grader.check(\"q4_6\")"
   ]
  },
  {
   "cell_type": "markdown",
   "id": "bf883950-8db3-4b57-8a91-7f6efdc7bde8",
   "metadata": {
    "deletable": false,
    "editable": false
   },
   "source": [
    "**Question 4.7.** Next, compute the standard error that you would get from a smaller sample size. Ideally, you should pick a number that is significantly smaller, but any sample size smaller than Michelle's will do. \n"
   ]
  },
  {
   "cell_type": "code",
   "execution_count": null,
   "id": "9af019e6-ab2d-4b1d-97ca-b3c7c416c105",
   "metadata": {
    "ExecuteTime": {
     "end_time": "2018-03-20T04:35:47.010246Z",
     "start_time": "2018-03-20T04:35:47.002724Z"
    },
    "manual_problem_id": "smaller_sample_size",
    "tags": []
   },
   "outputs": [],
   "source": [
    "smaller_sample_size = ...\n",
    "smaller_sample_mean_se = ...\n",
    "print(\"With this smaller sample size, you would predict a sample mean SD of %f\" % smaller_sample_mean_se)"
   ]
  },
  {
   "cell_type": "code",
   "execution_count": null,
   "id": "750d6a3a",
   "metadata": {
    "deletable": false,
    "editable": false
   },
   "outputs": [],
   "source": [
    "grader.check(\"q3_7\")"
   ]
  },
  {
   "cell_type": "markdown",
   "id": "9397686e-b060-447a-bf53-65c4efea5678",
   "metadata": {
    "deletable": false,
    "editable": false
   },
   "source": [
    "**Question 4.8.** Finally, compute the Standard Error that you would get from a larger sample size. Here, a number that is significantly larger would make any difference more obvious, but any sample size larger than Michelle's will do. \n"
   ]
  },
  {
   "cell_type": "code",
   "execution_count": null,
   "id": "a1147b58-7205-44a0-9633-46b42d340532",
   "metadata": {
    "ExecuteTime": {
     "end_time": "2018-03-20T04:35:48.098047Z",
     "start_time": "2018-03-20T04:35:48.089414Z"
    },
    "manual_problem_id": "larger_sample_mean_sd",
    "tags": []
   },
   "outputs": [],
   "source": [
    "larger_sample_size = ...\n",
    "larger_sample_mean_se = ...\n",
    "print(\"With this larger sample size, you would predict a sample mean SD of %f\" % larger_sample_mean_se)"
   ]
  },
  {
   "cell_type": "code",
   "execution_count": null,
   "id": "4a91080b",
   "metadata": {
    "deletable": false,
    "editable": false
   },
   "outputs": [],
   "source": [
    "grader.check(\"q3_8\")"
   ]
  },
  {
   "cell_type": "markdown",
   "id": "a95b1b9b-472b-4c05-a14d-83d13fcc874e",
   "metadata": {
    "deletable": false,
    "editable": false
   },
   "source": [
    "**Question 4.9.** Based off of this, was Michelle's sample size approximately the minimum sufficient sample, given her assumption that the sample SD is the same as the population SD? Assign `min_sufficient` to `True` if 9,975 was indeed approximately the minimum sufficient sample, and `False` if it wasn't. \n"
   ]
  },
  {
   "cell_type": "code",
   "execution_count": null,
   "id": "e3c2e915-f700-4ba9-8b60-9f0a076e3bcd",
   "metadata": {
    "ExecuteTime": {
     "end_time": "2018-03-20T04:35:49.134092Z",
     "start_time": "2018-03-20T04:35:49.126066Z"
    },
    "manual_problem_id": "min_sufficient",
    "tags": []
   },
   "outputs": [],
   "source": [
    "min_sufficient = ...\n",
    "min_sufficient"
   ]
  },
  {
   "cell_type": "code",
   "execution_count": null,
   "id": "6125e391",
   "metadata": {
    "deletable": false,
    "editable": false
   },
   "outputs": [],
   "source": [
    "grader.check(\"q3_9\")"
   ]
  },
  {
   "cell_type": "markdown",
   "id": "169d7663",
   "metadata": {},
   "source": [
    "<br/><br/>\n",
    "<hr style=\"border: 5px solid #003262;\" />\n",
    "<hr style=\"border: 1px solid #fdb515;\" />\n",
    "\n",
    "## Congratulations! You have finished Homework 10!"
   ]
  },
  {
   "cell_type": "markdown",
   "id": "46739932",
   "metadata": {},
   "source": [
    "### Submission Instructions\n",
    "\n",
    "Before proceeding any further, **save this notebook.**\n",
    "\n",
    "After running the `grader.export()` cell provided below, **2 files will be created**: a zip file and pdf file.  You can download them using the links provided below OR by finding them in the same folder where this juptyer notebook resides in your JuptyerHub.\n",
    "\n",
    "To receive credit on this assignment, **you must submit BOTH of these files\n",
    "to their respective Gradescope portals:** \n",
    "\n",
    "* **Homework 10 Autograded**: Submit the zip file that is output by the `grader.export()` cell below to the HW 10 Autograded assignment in Gradescope.\n",
    "\n",
    "* **Homework 10 Manually Graded**: Submit your hw10.PDF to the HW9 Manually Graded assignment in Gradescope.  **YOU MUST SELECT THE PAGES CORRESPONDING TO EACH QUESTION WHEN YOU UPLOAD TO GRADESCOPE.  IF NOT, YOU WILL LOSE POINTS**   Also, **check** that all of your plots **and** all lines of your code are showing up in your PDF before submitting.  If not, you will not receive credit for your plots/code.  \n",
    "\n",
    "\n",
    "**You are responsible for ensuring your submission follows our requirements. We will not be granting regrade requests nor extensions to submissions that don't follow instructions.** If you encounter any difficulties with submission, please don't hesitate to reach out to staff prior to the deadline."
   ]
  },
  {
   "cell_type": "markdown",
   "id": "f46a9c54",
   "metadata": {
    "deletable": false,
    "editable": false
   },
   "source": [
    "## Submission\n",
    "\n",
    "Make sure you have run all cells in your notebook in order before running the cell below, so that all images/graphs appear in the output. The cell below will generate a zip file for you to submit. **Please save before exporting!**\n",
    "\n",
    "AFTER running the cell below, click on <a href='hw10.pdf' download>this link to download the PDF </a> to upload to Gradescope.  There will be a separate link that appears after running the cell below with a link to download the zip file to upload to Gradescope."
   ]
  },
  {
   "cell_type": "code",
   "execution_count": null,
   "id": "09539ddb",
   "metadata": {
    "deletable": false,
    "editable": false
   },
   "outputs": [],
   "source": [
    "# Save your notebook first, then run this cell to export your submission.\n",
    "# grader.export(run_tests=True)"
   ]
  },
  {
   "cell_type": "markdown",
   "id": "5b7229a6",
   "metadata": {},
   "source": [
    " "
   ]
  }
 ],
 "metadata": {
  "kernelspec": {
   "display_name": "Python 3 (ipykernel)",
   "language": "python",
   "name": "python3"
  },
  "language_info": {
   "codemirror_mode": {
    "name": "ipython",
    "version": 3
   },
   "file_extension": ".py",
   "mimetype": "text/x-python",
   "name": "python",
   "nbconvert_exporter": "python",
   "pygments_lexer": "ipython3",
   "version": "3.10.8"
  },
  "otter": {
   "OK_FORMAT": true,
   "tests": {
    "q1_1": {
     "name": "q1_1",
     "points": [
      0,
      0,
      0
     ],
     "suites": [
      {
       "cases": [
        {
         "code": ">>> assert type(one_resampled_percentage(votes)) in set([float, np.float64]) \n",
         "hidden": false,
         "locked": false
        },
        {
         "code": ">>> # Remember, the question asks for a percentage, not a proportion. \n>>> assert one_resampled_percentage(votes) > 0\n",
         "hidden": false,
         "locked": false
        },
        {
         "code": ">>> assert 35 <= one_resampled_percentage(votes) <= 65\n",
         "hidden": false,
         "locked": false
        }
       ],
       "scored": true,
       "setup": "",
       "teardown": "",
       "type": "doctest"
      }
     ]
    },
    "q1_2": {
     "name": "q1_2",
     "points": [
      0
     ],
     "suites": [
      {
       "cases": [
        {
         "code": ">>> # TEST\n>>> \n>>> assert (len(percentages_in_resamples()) == 2022)\n>>> \n",
         "hidden": false,
         "locked": false
        }
       ],
       "scored": true,
       "setup": "",
       "teardown": "",
       "type": "doctest"
      }
     ]
    },
    "q1_3": {
     "name": "q1_3",
     "points": [
      0
     ],
     "suites": [
      {
       "cases": [
        {
         "code": ">>> assert 45 <= khow_lower_bound <= khow_upper_bound <= 65\n",
         "hidden": false,
         "locked": false
        }
       ],
       "scored": true,
       "setup": "",
       "teardown": "",
       "type": "doctest"
      }
     ]
    },
    "q2_1": {
     "name": "q2_1",
     "points": [
      0
     ],
     "suites": [
      {
       "cases": [
        {
         "code": ">>> assert (1000 <= true_percentage_intervals <= 10000)\n",
         "hidden": false,
         "locked": false
        }
       ],
       "scored": true,
       "setup": "",
       "teardown": "",
       "type": "doctest"
      }
     ]
    },
    "q2_2": {
     "name": "q2_2",
     "points": [
      0
     ],
     "suites": [
      {
       "cases": [
        {
         "code": ">>> assert (1 <= cutoff_five_percent <= 3)\n",
         "hidden": false,
         "locked": false
        }
       ],
       "scored": true,
       "setup": "",
       "teardown": "",
       "type": "doctest"
      }
     ]
    },
    "q2_3": {
     "name": "q2_3",
     "points": [
      0
     ],
     "suites": [
      {
       "cases": [
        {
         "code": ">>> assert (1 <= cutoff_one_percent <= 3)\n",
         "hidden": false,
         "locked": false
        }
       ],
       "scored": true,
       "setup": "",
       "teardown": "",
       "type": "doctest"
      }
     ]
    },
    "q2_4": {
     "name": "q2_4",
     "points": [
      0
     ],
     "suites": [
      {
       "cases": [
        {
         "code": ">>> assert (1 <= cutoff_ten_percent <= 3)\n",
         "hidden": false,
         "locked": false
        }
       ],
       "scored": true,
       "setup": "",
       "teardown": "",
       "type": "doctest"
      }
     ]
    },
    "q3_1": {
     "name": "q3_1",
     "points": [
      0,
      0
     ],
     "suites": [
      {
       "cases": [
        {
         "code": ">>> assert  type(smallest)== int\n",
         "hidden": false,
         "locked": false
        },
        {
         "code": ">>> assert 1100 <= smallest <= 1130\n",
         "hidden": false,
         "locked": false
        }
       ],
       "scored": true,
       "setup": "",
       "teardown": "",
       "type": "doctest"
      }
     ]
    },
    "q3_2": {
     "name": "q3_2",
     "points": [
      0
     ],
     "suites": [
      {
       "cases": [
        {
         "code": ">>> assert (1 <= sample_90 <= 3)\n",
         "hidden": false,
         "locked": false
        }
       ],
       "scored": true,
       "setup": "",
       "teardown": "",
       "type": "doctest"
      }
     ]
    },
    "q3_3": {
     "name": "q3_3",
     "points": [
      0,
      0
     ],
     "suites": [
      {
       "cases": [
        {
         "code": ">>> assert type(smallest_num)== int\n",
         "hidden": false,
         "locked": false
        },
        {
         "code": ">>> assert 700 <= smallest_num <= 800\n",
         "hidden": false,
         "locked": false
        }
       ],
       "scored": true,
       "setup": "",
       "teardown": "",
       "type": "doctest"
      }
     ]
    },
    "q3_4": {
     "name": "q3_4",
     "points": 1,
     "suites": [
      {
       "cases": [
        {
         "code": ">>> assert np.isclose(shaded_area, 0.89899483)\n",
         "hidden": false,
         "locked": false
        }
       ],
       "scored": true,
       "setup": "",
       "teardown": "",
       "type": "doctest"
      }
     ]
    },
    "q3_5": {
     "name": "q3_5",
     "points": [
      2,
      0,
      0
     ],
     "suites": [
      {
       "cases": [
        {
         "code": ">>> assert np.isclose(SD_99, 2.58)\n",
         "hidden": false,
         "locked": false
        },
        {
         "code": ">>> assert type(smallest_num_99)== int\n",
         "hidden": false,
         "locked": false
        },
        {
         "code": ">>> assert 1800<= smallest_num_99 <= 1900\n",
         "hidden": false,
         "locked": false
        }
       ],
       "scored": true,
       "setup": "",
       "teardown": "",
       "type": "doctest"
      }
     ]
    },
    "q3_7": {
     "name": "q3_7",
     "points": [
      0
     ],
     "suites": [
      {
       "cases": [
        {
         "code": ">>> assert smaller_sample_size < michelle_sample_size\n",
         "hidden": false,
         "locked": false
        }
       ],
       "scored": true,
       "setup": "",
       "teardown": "",
       "type": "doctest"
      }
     ]
    },
    "q3_8": {
     "name": "q3_8",
     "points": [
      0
     ],
     "suites": [
      {
       "cases": [
        {
         "code": ">>> assert larger_sample_size > michelle_sample_size\n",
         "hidden": false,
         "locked": false
        }
       ],
       "scored": true,
       "setup": "",
       "teardown": "",
       "type": "doctest"
      }
     ]
    },
    "q3_9": {
     "name": "q3_9",
     "points": [
      0
     ],
     "suites": [
      {
       "cases": [
        {
         "code": ">>> assert min_sufficient or not min_sufficient \n",
         "hidden": false,
         "locked": false
        }
       ],
       "scored": true,
       "setup": "",
       "teardown": "",
       "type": "doctest"
      }
     ]
    },
    "q4_1": {
     "name": "q4_1",
     "points": 0,
     "suites": [
      {
       "cases": [
        {
         "code": ">>> assert len(resample_yes_proportions) == 10000\n",
         "hidden": false,
         "locked": false
        },
        {
         "code": ">>> assert abs(np.mean(resample_yes_proportions) - .525) < .025 and np.std(resample_yes_proportions) < .08\n",
         "hidden": false,
         "locked": false
        }
       ],
       "scored": true,
       "setup": "",
       "teardown": "",
       "type": "doctest"
      }
     ]
    },
    "q4_3": {
     "name": "q4_3",
     "points": [
      0
     ],
     "suites": [
      {
       "cases": [
        {
         "code": ">>> assert approximate_sd < 0.025\n",
         "hidden": false,
         "locked": false
        }
       ],
       "scored": true,
       "setup": "",
       "teardown": "",
       "type": "doctest"
      }
     ]
    },
    "q4_4": {
     "name": "q4_4",
     "points": [
      0
     ],
     "suites": [
      {
       "cases": [
        {
         "code": ">>> assert exact_sd < 0.05\n",
         "hidden": false,
         "locked": false
        }
       ],
       "scored": true,
       "setup": "",
       "teardown": "",
       "type": "doctest"
      }
     ]
    },
    "q4_5": {
     "name": "q4_5",
     "points": [
      0
     ],
     "suites": [
      {
       "cases": [
        {
         "code": ">>> assert 0.4 <= lower_limit < upper_limit <= 0.7\n",
         "hidden": false,
         "locked": false
        }
       ],
       "scored": true,
       "setup": "",
       "teardown": "",
       "type": "doctest"
      }
     ]
    },
    "q4_6": {
     "name": "q4_6",
     "points": [
      0
     ],
     "suites": [
      {
       "cases": [
        {
         "code": ">>> assert michelle_sample_size == 9975\n",
         "hidden": false,
         "locked": false
        }
       ],
       "scored": true,
       "setup": "",
       "teardown": "",
       "type": "doctest"
      }
     ]
    }
   }
  }
 },
 "nbformat": 4,
 "nbformat_minor": 5
}
