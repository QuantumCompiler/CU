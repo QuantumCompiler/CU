{
 "cells": [
  {
   "cell_type": "code",
   "execution_count": null,
   "id": "ad3da67b",
   "metadata": {
    "deletable": false,
    "editable": false
   },
   "outputs": [],
   "source": [
    "# Initialize Otter\n",
    "import otter\n",
    "grader = otter.Notebook(\"hw01.ipynb\")"
   ]
  },
  {
   "cell_type": "markdown",
   "id": "0ca24414",
   "metadata": {
    "nbgrader": {
     "grade": false,
     "grade_id": "introduction",
     "locked": true,
     "schema_version": 2,
     "solution": false
    }
   },
   "source": [
    "<a id='verytop'></a>\n",
    "\n",
    "# Homework 1\n",
    "## Intro to Jupyter Notebooks and Python\n",
    "## Submit on Gradescope\n",
    "\n",
    "\n",
    "### Detailed Submission Instructions Are Provided at the end of this Notebook\n",
    "\n",
    "\n",
    "## Assignment Scope:\n",
    "\n",
    "\n",
    "1. Navigate Jupyter notebooks (like this one);\n",
    "2. Write and evaluate some basic *expressions* in Python, the computer language of the course;\n",
    "3. Practice with basic  *functions*\n",
    "4. Practice writing math expressions with LaTeX\n",
    "\n",
    "\n",
    "This hw covers parts of [Chapter 3 ](http://www.inferentialthinking.com/chapters/03/programming-in-python.html) and [Chapter 8](https://inferentialthinking.com/chapters/08/Functions_and_Tables.html) of the online textbook: Computational and Inferential Thinking: The Foundations of Data Science\n",
    "\n",
    "\n",
    "## Collaboration Policy\n",
    "\n",
    "Data science is a collaborative activity.  However a key step in learning and retention is **creating solutions on your own.**  \n",
    "\n",
    "Please see the ***Course Syllabus for the Collaboration Policy***. \n",
    "\n",
    "The following are some **examples of things which would NOT usually be\n",
    "considered to be cheating**:\n",
    " - Working on a HW problem on your own first and then discussing with a classmate a particular part in the problem solution where you are stuck.  After clarifying any questions you should then continue to write your solution independently.\n",
    " - Asking someone (or searching online) how a particular construct in the language works.\n",
    " - Asking someone (or searching online) how to formulate a particular construct in the language.\n",
    " - Asking someone for help in finding an error in your program.  \n",
    " - Asking someone why a particular construct does not work as you expected in a given program.\n",
    "   \n",
    "\n",
    "To test whether you are truly doing your own work and retaining what you've learned you should be able to easily reproduce from scratch and explain a HW solution that was your own when asked in office hours by an Instructor or on a quiz/exam.   \n",
    "\n",
    "We are here to help!  Visit HW Hours and/or post questions on Piazza!"
   ]
  },
  {
   "cell_type": "markdown",
   "id": "021c55c3",
   "metadata": {},
   "source": [
    "If while completing this assignment you reference any websites other than those linked in this assignment or provided on Moodle please list those references here:\n",
    "\n",
    "**External references**:  *list any websites you referenced*"
   ]
  },
  {
   "cell_type": "markdown",
   "id": "5801c889",
   "metadata": {},
   "source": [
    "## Grading\n",
    "Grading is broken down into autograded answers and manually graded answers. \n",
    "\n",
    "For autograded answers, the results of your code are compared to provided and/or hidden tests.\n",
    "\n",
    "For manually graded answers you must show and explain all steps.  Graders will evaluate how well you answered the question and/or fulfilled the requirements of the question.\n",
    "\n",
    "\n",
    "### Score breakdown\n",
    "\n",
    "\n",
    "\n",
    "Question | Points | Grading Type\n",
    "--- | --- | ---\n",
    "Question 1 | 5 | manual\n",
    "Question 2 | 5 | autograded\n",
    "Question 3 | 5 | autograded\n",
    "Question 4 | 5 | autograded\n",
    "Question 5 | 5 | autograded\n",
    "Question 6 | 5 | autograded\n",
    "Question 7 | 5 | autograded\n",
    "Question 8 | 5 | autograded\n",
    "Question 9 | 2.5 | autograded\n",
    "Question 10 | 2.5 | autograded\n",
    "Question 11 |5 | manual\n",
    "<a id='top'></a>Total | 50"
   ]
  },
  {
   "cell_type": "markdown",
   "id": "51fc4ee3",
   "metadata": {},
   "source": [
    "<a id='top'></a>\n",
    "---\n",
    "**Shortcuts:**  [Problem 1](#p1) | [Problem 2](#p2) | [Problem 3](#p3) | [Problem 4](#p4) [Problem 5](#p5) | [Problem 6](#p6) | [Problem 7](#p7) | [Problem 8](#p8)| [Problem 9](#p9) | [Problem 10](#p10) | [Problem 11](#p11)\n",
    "\n",
    "---"
   ]
  },
  {
   "cell_type": "markdown",
   "id": "ec3c4216",
   "metadata": {},
   "source": [
    "<hr style=\"border: 5px solid #003262;\" />\n",
    "<hr style=\"border: 1px solid #fdb515;\" />\n",
    "\n",
    "# 1. Jupyter Notebooks\n",
    "This webpage is called a Jupyter Notebook.  Jupyter Notebook is an open source web application that you can use to create and share documents that contain live code, equations, visualizations, and text.  \n",
    "(Fun fact: The name, Jupyter, is a loose acronym meaning Julia, Python, and R, although now it supports many other languages).     \n",
    "We’ll be using Python in this class. \n",
    "\n"
   ]
  },
  {
   "cell_type": "markdown",
   "id": "eb3cd47c",
   "metadata": {},
   "source": [
    "### Jupyter Shortcuts ###\n",
    "\n",
    "Here are some useful Jupyter notebook keyboard shortcuts.  To learn more keyboard shortcuts, go to **Help -> Keyboard Shortcuts** in the menu above. \n",
    "\n",
    "Here are a few we like:\n",
    "1. `ctrl`+`return` : *Evaluate the current cell*\n",
    "1. `shift`+`return`: *Evaluate the current cell and move to the next*\n",
    "1. `esc` : *command mode* (may need to press before using any of the commands below)\n",
    "1. `esc`+`a` : *create a cell above*\n",
    "1. `esc`+`b` : *create a cell below*\n",
    "1. `esc`+`dd` : *delete a cell*\n",
    "1. `esc`+`m` : *convert a cell to markdown*\n",
    "1. `esc`+`y` : *convert a cell to code*"
   ]
  },
  {
   "cell_type": "markdown",
   "id": "173a9019",
   "metadata": {},
   "source": [
    "## 1.1. Text cells\n",
    "In a notebook, each rectangle containing text or code is called a *cell*.\n",
    "\n",
    "Text cells (like this one) can be edited by double-clicking on them. They're written in a simple format called [Markdown](http://daringfireball.net/projects/markdown/syntax) to add formatting and section headings. \n",
    "\n",
    "After you edit a text cell, click the \"run cell\" button at the top that looks like ▶| or hold down `shift` + `return` to confirm any changes. "
   ]
  },
  {
   "cell_type": "markdown",
   "id": "387eded2",
   "metadata": {},
   "source": [
    "**Practice 1.1.1.** This paragraph is in its own text cell.  Try editing it so that this sentence is the last sentence in the paragraph, and then click the \"run cell\" ▶| button or hold down `shift` + `return`.  This sentence, for example, should be deleted.  So should this one."
   ]
  },
  {
   "cell_type": "markdown",
   "id": "c1bfcffa",
   "metadata": {},
   "source": [
    "**Practice 1.1.2**:   Double click on this cell to see the Markdown \"behind the scenes\"</span>:\n",
    " \n",
    "This is type\n",
    "\n",
    "<span style='color:Green'> This is GREEN type </span>\n",
    "\n",
    "<span style='background :yellow' > This is highlighted type </span>\n",
    "\n",
    "### This is big type\n",
    "## This is bigger type\n",
    "# This is even bigger type\n",
    "\n",
    "\n",
    "*Italic*  or _Italic_ \n",
    "\n",
    "**Bold** \n",
    "\n",
    "***Bold and Italic*** \n",
    "\n",
    "~~Scratch Me.~~\n"
   ]
  },
  {
   "cell_type": "markdown",
   "id": "be486c55",
   "metadata": {},
   "source": [
    "[Back to top](#top)\n",
    "\n",
    "<a id='p1'></a>\n"
   ]
  },
  {
   "cell_type": "markdown",
   "id": "e933d897",
   "metadata": {
    "deletable": false,
    "editable": false
   },
   "source": [
    "<!-- BEGIN QUESTION -->\n",
    "\n",
    "### Question 1 (5 pts): Getting to know you\n",
    "\n",
    "We'd like to learn about your math background.  Answer both of the questions in the single cell provided below.  (Please do not add any additional cells for your answer).  \n",
    "\n",
    "a).  How do you learn math best?\n",
    "\n",
    "b).  What was the last math class you took?  Where and when did you take it and how did it go?\n",
    "\n",
    "After you have typed your answer in the cell run the cell (hold down shift + return).  \n"
   ]
  },
  {
   "cell_type": "markdown",
   "id": "04006c5d",
   "metadata": {},
   "source": [
    "_Type your answer here, replacing this text._"
   ]
  },
  {
   "cell_type": "markdown",
   "id": "50f71a18",
   "metadata": {
    "deletable": false,
    "editable": false
   },
   "source": [
    "<!-- END QUESTION -->\n",
    "\n",
    "[Back to top](#top)\n",
    "\n",
    "<a id='p2'></a>\n",
    "\n",
    "### Question 2 (5 pts):  \n",
    "\n",
    "\n",
    "**STEP 1**  If you haven't already, scroll up to the top of this notebook and run the first cell that says Initialize Otter:   [Back to top](#verytop) \n",
    "\n",
    "**STEP 2** \n",
    "\n",
    "In the Question 2 thread on Piazza, there will be a 5-digit integer code displayed. Assign `q2_int` to that integer below (i.e. replace the ellipses (`...`) with the 5-digit code). **After you have typed your answer in the cell run the cell (hold down shift + return)**.  \n",
    "\n",
    "\n",
    "Running the `grader.check` cell directly after it will test whether you have assigned `q2_int` to an integer (Note that this test won't determine whether you have assigned it the correct integer code - that will be done via a hidden test that is run once the assignment has been submitted to Gradescope).  \n"
   ]
  },
  {
   "cell_type": "code",
   "execution_count": null,
   "id": "db1cec3f",
   "metadata": {
    "tags": []
   },
   "outputs": [],
   "source": [
    "q2_int = ..."
   ]
  },
  {
   "cell_type": "code",
   "execution_count": null,
   "id": "ee51e4f2",
   "metadata": {
    "deletable": false,
    "editable": false
   },
   "outputs": [],
   "source": [
    "grader.check(\"q2\")"
   ]
  },
  {
   "cell_type": "markdown",
   "id": "12f6fe45",
   "metadata": {},
   "source": [
    "## 1.2. Code cells\n",
    "Other cells contain code in the Python 3 language. Running a code cell will execute all of the code it contains.\n",
    "\n",
    "To run the code in a code cell, first click on that cell to activate it.  It'll be highlighted with a little green or blue rectangle.  Next, either press ▶| or hold down `shift` + `return`.\n",
    "\n",
    "**Practice 1.2.1** Try running the cell below:"
   ]
  },
  {
   "cell_type": "code",
   "execution_count": null,
   "id": "cec66cd7",
   "metadata": {},
   "outputs": [],
   "source": [
    "print(\"Hello, World!\")"
   ]
  },
  {
   "cell_type": "markdown",
   "id": "ac0a2ee9",
   "metadata": {},
   "source": [
    "And this one:"
   ]
  },
  {
   "cell_type": "code",
   "execution_count": null,
   "id": "3d1d2252",
   "metadata": {},
   "outputs": [],
   "source": [
    "print(\"\\N{WAVING HAND SIGN}, \\N{EARTH GLOBE ASIA-AUSTRALIA}!\")"
   ]
  },
  {
   "cell_type": "markdown",
   "id": "d207c679",
   "metadata": {},
   "source": [
    "**Expressions:**  The fundamental building block of Python code is an expression. Cells can contain multiple lines with multiple expressions. When you run a cell, the lines of code are executed in the order in which they appear. Every `print` expression prints a line. \n",
    "\n",
    "Run the next cell and notice the order of the output."
   ]
  },
  {
   "cell_type": "code",
   "execution_count": null,
   "id": "916b1444",
   "metadata": {},
   "outputs": [],
   "source": [
    "print(\"First this line is printed,\")\n",
    "print(\"and then this one.\")"
   ]
  },
  {
   "cell_type": "markdown",
   "id": "a521255d",
   "metadata": {},
   "source": [
    "## 1.3. Writing Jupyter notebooks\n",
    "You can use Jupyter notebooks for your own projects or documents.  When you make your own notebook, you'll need to create your own cells for text and code.\n",
    "\n",
    "To add a cell, click the + button in the menu bar.  It'll start out as a text cell.  You can change it to a code cell by clicking inside it so it's highlighted, clicking the drop-down box next to the restart (⟳) button in the menu bar, and choosing \"Code\".\n",
    "\n",
    "**Practice 1.3.1.** Add a code cell below this one.  Write code in it that prints out:\n",
    "   \n",
    "\n",
    "    First this line,\n",
    "    then the whole 🌏,\n",
    "    and then this one.\n",
    "\n",
    "\n",
    "Run your cell to verify that it works."
   ]
  },
  {
   "cell_type": "markdown",
   "id": "4cb251c8",
   "metadata": {},
   "source": [
    "## 1.4. Errors\n",
    "Python is a language, and like natural human languages, it has rules.  It differs from natural language in two important ways:\n",
    "1. The rules are *simple*.  You can learn most of them in a few weeks and gain reasonable proficiency with the language in a semester.\n",
    "2. The rules are *rigid*.  If you're proficient in a natural language, you can understand a non-proficient speaker, glossing over small mistakes.  A computer running Python code is not smart enough to do that.\n",
    "\n",
    "Whenever you write code, you'll make mistakes.  When you run a code cell that has errors, Python will sometimes produce error messages to tell you what you did wrong.\n",
    "\n",
    "Errors are okay; even experienced programmers make many errors.  When you make an error, you just have to find the source of the problem, fix it, and move on."
   ]
  },
  {
   "cell_type": "code",
   "execution_count": null,
   "id": "6c16b699",
   "metadata": {},
   "outputs": [],
   "source": [
    "print(\"This line is missing something.\""
   ]
  },
  {
   "cell_type": "markdown",
   "id": "53d48478",
   "metadata": {},
   "source": [
    "**Note:** In the toolbar, there is the option to click `Cell > Run All`, which will run all the code cells in this notebook in order. However, the notebook stops running code cells if it hits an error, like the one in the cell above."
   ]
  },
  {
   "cell_type": "markdown",
   "id": "2c5b2d0a",
   "metadata": {},
   "source": [
    "You should see something like this (minus our annotations):\n",
    "\n",
    "<img src=\"error.jpg\"/>\n",
    "\n",
    "The last line of the error output attempts to tell you what went wrong.  The *syntax* of a language is its structure, and this `SyntaxError` tells you that you have created an illegal structure.  The message is saying Python expected you to write something more (in this case, a right parenthesis) before finishing the cell.\n",
    "\n",
    "There's a lot of terminology in programming languages, but you don't need to know it all in order to program effectively. If you see a cryptic message like this, you can often get by without deciphering it.  (Of course, if you're frustrated, ask a neighbor or a staff member for help.) \n",
    "\n",
    "\n",
    "**Practice 1.4.1** Try to fix the code above so that you can run the cell and see the intended message instead of an error."
   ]
  },
  {
   "cell_type": "markdown",
   "id": "62f065fb",
   "metadata": {},
   "source": [
    "## 1.5. The Kernel\n",
    "The kernel is a program that executes the code inside your notebook and outputs the results. In the top right of your window, you can see a circle that indicates the status of your kernel. If the circle is empty (⚪), the kernel is idle and ready to execute code. If the circle is filled in (⚫), the kernel is busy running some code. \n",
    "\n",
    "Next to every code cell, you'll see some text that says `[ ]`. Before you run the cell, you'll see `[ ]`. When the cell is running, you'll see `[*]`. If you see an asterisk (\\*) next to a cell that doesn't go away, it's likely that the code inside the cell is taking too long to run, and it might be a good time to interrupt the kernel (discussed below). When a cell is finished running, you'll see a number inside the brackets, like so: `[1]`. The number corresponds to the order in which you run the cells; so, the first cell you run will show a 1 when it's finished running, the second will show a 2, and so on. \n",
    "\n",
    "You may run into problems where your kernel is stuck for an excessive amount of time, your notebook is very slow and unresponsive, or your kernel loses its connection.  Or if you find that when you try to run the top cell in this notebook it outputs an error it's an issue with the kernel.  If this happens, try the following steps:\n",
    "\n",
    "1. At the top of your screen, click **Kernel**, then **Interrupt**.\n",
    "2. If that doesn't help, click **Kernel**, then **Restart**. If you do this, you will have to run your code cells from the start of your notebook up until where you paused your work."
   ]
  },
  {
   "cell_type": "markdown",
   "id": "928a6089",
   "metadata": {},
   "source": [
    "# 2. Number Types\n",
    "\n",
    "Quantitative information arises everywhere in data science. In addition to representing commands to print out lines, expressions can represent numbers and methods of combining numbers.\n",
    "\n",
    "\n",
    "Python has two real number types:\n",
    "\n",
    "`int`: \t\tan integer of any size\n",
    "\n",
    "`float`:\ta number with an optional fractional part\n",
    "\n",
    "An int never has a decimal point; a float always does\n",
    "\n",
    "A float might be printed using scientific notation\n",
    "\n",
    "\n",
    "\n",
    "\n",
    "The expression `3.2500` evaluates to the floating point 3.25. (Run the cell and see.)"
   ]
  },
  {
   "cell_type": "code",
   "execution_count": null,
   "id": "201232d5",
   "metadata": {},
   "outputs": [],
   "source": [
    "3.2500"
   ]
  },
  {
   "cell_type": "markdown",
   "id": "cdde6eef",
   "metadata": {},
   "source": [
    "Notice that we didn't have to `print`. When you run a notebook cell, if the last line has a value, then Jupyter helpfully prints out that value for you. However, it won't print out prior lines automatically."
   ]
  },
  {
   "cell_type": "code",
   "execution_count": null,
   "id": "0e7dce3a",
   "metadata": {},
   "outputs": [],
   "source": [
    "print(2)\n",
    "3\n",
    "4"
   ]
  },
  {
   "cell_type": "markdown",
   "id": "fcd64563",
   "metadata": {},
   "source": [
    "Above, you should see that 4 is the value of the last expression, 2 is printed, but 3 is lost forever because it was neither printed nor last.\n",
    "\n",
    "You don't want to print everything all the time anyway.  But if you feel sorry for 3, change the cell above to print it."
   ]
  },
  {
   "cell_type": "markdown",
   "id": "b4c93d56",
   "metadata": {},
   "source": [
    "## 2.1 Limitations of float values:\n",
    "\n",
    "Be aware that float values have the following limitations, which can lead to issues if you're not aware:\n",
    "\n",
    "- They have limited precision of 15-16 decimal places\n",
    "\n",
    "- After arithmetic, the final few decimal places can be wrong\n",
    "\n",
    "- They have limited size (but the limit is huge)\n"
   ]
  },
  {
   "cell_type": "markdown",
   "id": "8b9f960b",
   "metadata": {},
   "source": [
    "**Practice 2.2.1**:  Run the cells below to observe some of the issues that arise when working with float values"
   ]
  },
  {
   "cell_type": "code",
   "execution_count": null,
   "id": "f3b652ab",
   "metadata": {},
   "outputs": [],
   "source": [
    "382764238764.238742034876503865238723985 - 382764238764.238742"
   ]
  },
  {
   "cell_type": "code",
   "execution_count": null,
   "id": "829497c6",
   "metadata": {},
   "outputs": [],
   "source": [
    "print(0.1 + 0.2)"
   ]
  },
  {
   "cell_type": "code",
   "execution_count": null,
   "id": "2b146016",
   "metadata": {},
   "outputs": [],
   "source": [
    "0.1 + 0.2 == 0.3"
   ]
  },
  {
   "cell_type": "markdown",
   "id": "f3a28389",
   "metadata": {},
   "source": [
    "# 3. Names and Assignment Statements\n",
    "In natural language, we have terminology that lets us quickly reference very complicated concepts.  We don't say, \"That's a large mammal with brown fur and sharp teeth!\"  Instead, we just say, \"Bear!\"\n",
    "\n",
    "In Python, we do this with *assignment statements*. An assignment statement has a name on the left side of an `=` sign and an expression to be evaluated on the right."
   ]
  },
  {
   "cell_type": "code",
   "execution_count": null,
   "id": "ee9b252c",
   "metadata": {},
   "outputs": [],
   "source": [
    "ten = 3 * 2 + 4"
   ]
  },
  {
   "cell_type": "markdown",
   "id": "0339c893",
   "metadata": {},
   "source": [
    "When you run that cell, Python first computes the value of the expression on the right-hand side, `3 * 2 + 4`, which is the number 10.  Then it assigns that value to the name `ten`.  At that point, the code in the cell is done running.\n",
    "\n",
    "After you run that cell, the value 10 is bound to the name `ten`:"
   ]
  },
  {
   "cell_type": "code",
   "execution_count": null,
   "id": "fbf07ec6",
   "metadata": {},
   "outputs": [],
   "source": [
    "ten"
   ]
  },
  {
   "cell_type": "markdown",
   "id": "a0d3dcc8",
   "metadata": {},
   "source": [
    "The statement `ten = 3 * 2 + 4` is not asserting that `ten` is already equal to `3 * 2 + 4`, as we might expect by analogy with math notation.  Rather, that line of code changes what `ten` means; it now refers to the value 10, whereas before it meant nothing at all.\n",
    "\n",
    "If the designers of Python had been ruthlessly pedantic, they might have made us write\n",
    "\n",
    "    define the name ten to hereafter have the value of 3 * 2 + 4 \n",
    "\n",
    "instead.  You will probably appreciate the brevity of \"`=`\"!  But keep in mind that this is the real meaning.\n",
    "\n",
    "**Practice 3.1.** Run the following cell which uses a variable name `eleven` that hasn't been assigned to anything. You'll see an error!"
   ]
  },
  {
   "cell_type": "code",
   "execution_count": null,
   "id": "2e43c60d",
   "metadata": {},
   "outputs": [],
   "source": [
    "eleven + 8"
   ]
  },
  {
   "cell_type": "markdown",
   "id": "1ae55360",
   "metadata": {},
   "source": [
    "A common pattern in Jupyter notebooks is to assign a value to a name and then immediately evaluate the name in the last line in the cell so that the value is displayed as output. "
   ]
  },
  {
   "cell_type": "code",
   "execution_count": null,
   "id": "70be973d",
   "metadata": {},
   "outputs": [],
   "source": [
    "close_to_pi = 355/113\n",
    "close_to_pi"
   ]
  },
  {
   "cell_type": "markdown",
   "id": "85c9e97a",
   "metadata": {},
   "source": [
    "Another common pattern is that a series of lines in a single cell will build up a complex computation in stages, naming the intermediate results."
   ]
  },
  {
   "cell_type": "code",
   "execution_count": null,
   "id": "0e2639d5",
   "metadata": {},
   "outputs": [],
   "source": [
    "semimonthly_salary = 842.5\n",
    "monthly_salary = 2 * semimonthly_salary\n",
    "number_of_months_in_a_year = 12\n",
    "yearly_salary = number_of_months_in_a_year * monthly_salary\n",
    "yearly_salary"
   ]
  },
  {
   "cell_type": "markdown",
   "id": "41a5c709",
   "metadata": {},
   "source": [
    "Names in Python can have letters (upper- and lower-case letters are both okay and count as different letters), underscores, and numbers.  The first character can't be a number (otherwise a name might look like a number).  And names can't contain spaces, since spaces are used to separate pieces of code from each other.\n",
    "\n",
    "Other than those rules, what you name something doesn't matter *to Python*.  For example, this cell does the same thing as the above cell, except everything has a different name:"
   ]
  },
  {
   "cell_type": "code",
   "execution_count": null,
   "id": "5552264d",
   "metadata": {},
   "outputs": [],
   "source": [
    "a = 842.5\n",
    "b = 2 * a\n",
    "c = 12\n",
    "d = c * b\n",
    "d"
   ]
  },
  {
   "cell_type": "markdown",
   "id": "bf3de357",
   "metadata": {},
   "source": [
    "**However**, names are very important for making your code *readable* to yourself and others.  The cell above is shorter, but it's totally useless without an explanation of what it does."
   ]
  },
  {
   "cell_type": "markdown",
   "id": "ff7ce9a8",
   "metadata": {},
   "source": [
    "## 3.1. Checking Your Code\n",
    "\n",
    "Now that you know how to name things, you can start using the built-in *tests* to check whether your work is correct. Sometimes, there are multiple tests for a single question, and passing all of them is required to receive credit for the question.  \n",
    "**Some questions will also contain hidden tests that won't be run until you submit to Gradescope.**   Please don't change the contents of the test cells. \n",
    "\n",
    "Run the cell below.  It will import the module NumPy which will be used in some of the tests below.  We will discuss more about NumPy and importing modules in a later section of this assignment."
   ]
  },
  {
   "cell_type": "code",
   "execution_count": null,
   "id": "45a31b52",
   "metadata": {},
   "outputs": [],
   "source": [
    "import numpy as np"
   ]
  },
  {
   "cell_type": "markdown",
   "id": "4d76a98a",
   "metadata": {},
   "source": [
    "Go ahead and attempt Question 3 below. Running the cell directly after it will test whether you have assigned `seconds_in_a_decade` correctly in Question 3. If you haven't, this test will tell you the correct answer. Resist the urge to just copy it, and instead try to adjust your expression. (Sometimes the tests will give hints about what went wrong...)"
   ]
  },
  {
   "cell_type": "markdown",
   "id": "3aa4b433",
   "metadata": {
    "deletable": false,
    "editable": false
   },
   "source": [
    "<a id='p3'></a>\n",
    "\n",
    "### Question 3 (5 points)\n",
    "Assign the name `seconds_in_a_decade` to the number of seconds between midnight January 1, 2010 and midnight January 1, 2020. Note that there are two leap years in this span of a decade. A non-leap year has 365 days and a leap year has 366 days.\n",
    "\n",
    "Replace the ellipses (`...`) with your expression.\n"
   ]
  },
  {
   "cell_type": "code",
   "execution_count": null,
   "id": "a4269749",
   "metadata": {
    "tags": []
   },
   "outputs": [],
   "source": [
    "# Change the next line \n",
    "# so that it computes the number of seconds in a decade \n",
    "# and assigns that number the name, seconds_in_a_decade.\n",
    "\n",
    "seconds_in_a_decade = ...\n",
    "\n",
    "# We've put this line in this cell \n",
    "# so that it will print the value you've given to seconds_in_a_decade when you run it.  \n",
    "# You don't need to change this.\n",
    "seconds_in_a_decade"
   ]
  },
  {
   "cell_type": "code",
   "execution_count": null,
   "id": "e9dc3daf",
   "metadata": {
    "deletable": false,
    "editable": false
   },
   "outputs": [],
   "source": [
    "grader.check(\"q3\")"
   ]
  },
  {
   "cell_type": "markdown",
   "id": "15ac620c",
   "metadata": {},
   "source": [
    "[Back to top](#top)\n",
    "\n",
    "<a id='p4'></a>\n",
    "\n",
    "\n",
    "### Question 4 (5 pts)\n",
    "When you run the following cell, Python produces a cryptic error message."
   ]
  },
  {
   "cell_type": "code",
   "execution_count": null,
   "id": "26547631",
   "metadata": {},
   "outputs": [],
   "source": [
    "4 = 2 + 2"
   ]
  },
  {
   "cell_type": "markdown",
   "id": "1d424018",
   "metadata": {
    "deletable": false,
    "editable": false
   },
   "source": [
    "Choose the best explanation of what's wrong with the code, and then assign 1, 2, 3, or 4 to `names_q4` below to indicate your answer.  Replace the ellipses (`...`) with your answer.  \n",
    "1. Python is smart and already knows `4 = 2 + 2`.\n",
    "\n",
    "2. In Python, it's a rule that the `=` sign must have a variable name to its left, and `4` isn't a variable name.\n",
    "\n",
    "3. It should be `2 + 2 = 4`.\n",
    "\n",
    "4. I don't get an error message. This is a trick question.\n"
   ]
  },
  {
   "cell_type": "code",
   "execution_count": null,
   "id": "5204e6e1",
   "metadata": {
    "tags": []
   },
   "outputs": [],
   "source": [
    "names_q4 = ...\n",
    "\n",
    "# We've put this line in this cell \n",
    "# so that it will print the value you've given to names_q4 when you run it.  \n",
    "# You don't need to change this.\n",
    "names_q4\n",
    "\n",
    "#Note that the grader check below only checks if you have entered a valid input (i.e. an integer between 1 and 4),\n",
    "#not whether or not you chose the correct input - that will be graded via a hidden test in Gradescope."
   ]
  },
  {
   "cell_type": "code",
   "execution_count": null,
   "id": "9d7d02f4",
   "metadata": {
    "deletable": false,
    "editable": false
   },
   "outputs": [],
   "source": [
    "grader.check(\"q4\")"
   ]
  },
  {
   "cell_type": "markdown",
   "id": "4f8d1c11",
   "metadata": {},
   "source": [
    "## 3.2. Operators\n"
   ]
  },
  {
   "cell_type": "markdown",
   "id": "a771ee62",
   "metadata": {},
   "source": [
    "Many basic arithmetic operations are built into Python.  The textbook section on [Expressions](http://www.inferentialthinking.com/chapters/03/1/Expressions.html) describes all some key arithmetic operators.  The common operator that differs from typical math notation is `**`, which raises one number to the power of the other. So, `2**3` stands for $2^3$ and evaluates to 8. "
   ]
  },
  {
   "cell_type": "markdown",
   "id": "2f98ec40",
   "metadata": {},
   "source": [
    "**Practice:** Play around with the operators $\\%, /, **$, and $//$ to see what they do:"
   ]
  },
  {
   "cell_type": "code",
   "execution_count": null,
   "id": "37e7561d",
   "metadata": {},
   "outputs": [],
   "source": []
  },
  {
   "cell_type": "markdown",
   "id": "41fff292",
   "metadata": {},
   "source": [
    "The order of operations is the same as what you learned in elementary school, and Python also has parentheses.  For example, compare the outputs of the cells below. The second cell uses parentheses for a happy new school year!"
   ]
  },
  {
   "cell_type": "code",
   "execution_count": null,
   "id": "265b18f7",
   "metadata": {},
   "outputs": [],
   "source": [
    "7+6*5-6*3**2*2**3/4*7"
   ]
  },
  {
   "cell_type": "code",
   "execution_count": null,
   "id": "a5fab05f",
   "metadata": {},
   "outputs": [],
   "source": [
    "7+(6*5-(6*3))**2*((2**3)/4*7)"
   ]
  },
  {
   "cell_type": "markdown",
   "id": "ebae07f6",
   "metadata": {
    "deletable": false,
    "editable": false
   },
   "source": [
    "In standard math notation, the first expression is\n",
    "\n",
    "$$6 + 6 \\times 5 - 6 \\times 3^2 \\times \\frac{2^3}{4} \\times 7,$$\n",
    "\n",
    "while the second expression is\n",
    "\n",
    "$$6 + (6 \\times 5 - (6 \\times 3))^2 \\times \\left(\\frac{\\left(2^3\\right)}{4} \\times 7\\right).$$\n"
   ]
  },
  {
   "cell_type": "markdown",
   "id": "3b09d391",
   "metadata": {
    "deletable": false,
    "editable": false
   },
   "source": [
    "[Back to top](#top)\n",
    "\n",
    "<a id='p5'></a>\n",
    "    \n",
    "### Question 5 (5 pts) ###\n",
    "\n",
    "Write a Python expression in this next cell that's equal to $\\displaystyle 5 \\times \\left(3 \\frac{10}{11}\\right) - 50 \\frac{1}{3} + 2^{0.5 \\times 22} - \\frac{7}{33} + 6$.  That's five times three and ten elevenths, minus fifty and a third, plus two to the power of half twenty-two, minus seven thirty-thirds plus six.  By \"$\\displaystyle 3 \\frac{10}{11}$\" we mean $\\displaystyle 3+\\frac{10}{11}$, not $\\displaystyle 3 \\times \\frac{10}{11}$.\n",
    "\n",
    "Replace the ellipses (`...`) with your expression.  Try to use parentheses only when necessary.\n",
    "\n"
   ]
  },
  {
   "cell_type": "code",
   "execution_count": null,
   "id": "c68f02e3",
   "metadata": {
    "tags": []
   },
   "outputs": [],
   "source": [
    "q5_answer = ...\n",
    "\n",
    "# We've put this line in this cell \n",
    "# so that it will print the value you've given to q5_answer when you run it.  \n",
    "# You don't need to change this.\n",
    "q5_answer"
   ]
  },
  {
   "cell_type": "code",
   "execution_count": null,
   "id": "a86d6b2c",
   "metadata": {
    "deletable": false,
    "editable": false
   },
   "outputs": [],
   "source": [
    "grader.check(\"q5\")"
   ]
  },
  {
   "cell_type": "markdown",
   "id": "32760430",
   "metadata": {},
   "source": [
    "## 3.3 Comments\n",
    "You may have noticed these lines in the cell in which you answered Question 1:\n",
    "\n",
    "    # Change the next line \n",
    "    # so that it computes the number of seconds in a decade \n",
    "    # and assigns that number the name, seconds_in_a_decade.\n",
    "    \n",
    "This is called a *comment*. It doesn't make anything happen in Python; Python ignores anything on a line after a `#`.  Instead, it's there to communicate something about the code to you, the human reader. Comments are extremely useful. \n",
    "\n",
    "<img src=\"http://imgs.xkcd.com/comics/future_self.png\">\n",
    "Source: http://imgs.xkcd.com/comics/future_self.png"
   ]
  },
  {
   "cell_type": "markdown",
   "id": "daaf01c0",
   "metadata": {},
   "source": [
    "# 4. Functions\n",
    "\n",
    "The most common way to combine or manipulate values in Python is by calling functions. \n",
    "\n",
    "\n",
    "Functions are either built-in, or user-defined as demonstrated below. \n",
    "\n",
    "\n",
    "### 4.1 Built In Functions:\n",
    "Python comes with many built-in functions that perform common operations.\n",
    "\n",
    "Examples of a few built-in functions we will frequently use include:  \n",
    "`abs(), sum(), min(), max(), len(), set(), sorted(), enumerate(), type(), map(), int() lambda(), round()`\n",
    "\n",
    "\n",
    "For example, the `abs` function takes a single number as its argument and returns the absolute value of that number. Run the next two cells and see if you understand the output."
   ]
  },
  {
   "cell_type": "code",
   "execution_count": null,
   "id": "ef50b819",
   "metadata": {},
   "outputs": [],
   "source": [
    "abs(5)"
   ]
  },
  {
   "cell_type": "code",
   "execution_count": null,
   "id": "d935a8b3",
   "metadata": {},
   "outputs": [],
   "source": [
    "abs(-5)"
   ]
  },
  {
   "cell_type": "markdown",
   "id": "3024fd64",
   "metadata": {},
   "source": [
    "You can check the type of any object in Python using the built-in `type` function:"
   ]
  },
  {
   "cell_type": "code",
   "execution_count": null,
   "id": "2bc96baa",
   "metadata": {},
   "outputs": [],
   "source": [
    "type(2)"
   ]
  },
  {
   "cell_type": "code",
   "execution_count": null,
   "id": "be1ab5ec",
   "metadata": {},
   "outputs": [],
   "source": [
    "type(2.5)"
   ]
  },
  {
   "cell_type": "code",
   "execution_count": null,
   "id": "3ab40eb2",
   "metadata": {},
   "outputs": [],
   "source": [
    "type('hello')"
   ]
  },
  {
   "cell_type": "code",
   "execution_count": null,
   "id": "d11fc80f",
   "metadata": {},
   "outputs": [],
   "source": [
    "type([1,2.5,'hello'])"
   ]
  },
  {
   "cell_type": "markdown",
   "id": "9b5002db",
   "metadata": {},
   "source": [
    "### 4.2 Multiple arguments\n",
    "Some functions take multiple arguments, separated by commas. For example, the built-in `max` function returns the maximum argument passed to it."
   ]
  },
  {
   "cell_type": "code",
   "execution_count": null,
   "id": "ce424714",
   "metadata": {},
   "outputs": [],
   "source": [
    "max(2, -3, 4, -5)"
   ]
  },
  {
   "cell_type": "markdown",
   "id": "ea31ddae",
   "metadata": {},
   "source": [
    "### 4.3 Viewing Documentation\n",
    "\n",
    "To output the documentation for a function, use the `help` function."
   ]
  },
  {
   "cell_type": "code",
   "execution_count": null,
   "id": "1bb2e681",
   "metadata": {},
   "outputs": [],
   "source": [
    "help(max)"
   ]
  },
  {
   "cell_type": "markdown",
   "id": "21c57c40",
   "metadata": {},
   "source": [
    "You can also use Jupyter to view function documentation inside your notebook. The function must already be defined in the kernel for this to work.\n",
    "\n",
    "**Practice 4.1.1:** Below, click your mouse anywhere on the `sum` block below and use `Shift` + `Tab` to view the function's documentation. "
   ]
  },
  {
   "cell_type": "code",
   "execution_count": null,
   "id": "c1300843",
   "metadata": {},
   "outputs": [],
   "source": [
    "max(2, -3, 4, -5)"
   ]
  },
  {
   "cell_type": "markdown",
   "id": "28294942",
   "metadata": {},
   "source": [
    "### 4.4. User Designed Functions\n",
    "\n",
    "Let's write a very simple function that converts a proportion to a percentage by multiplying it by 100.  For example, the value of `to_percentage(.5)` should be the number 50 (no percent sign).\n",
    "\n",
    "A function definition has a few parts."
   ]
  },
  {
   "cell_type": "markdown",
   "id": "31aa287d",
   "metadata": {},
   "source": [
    "##### `def`\n",
    "It always starts with `def` (short for **def**ine):\n",
    "\n",
    "    def"
   ]
  },
  {
   "cell_type": "markdown",
   "id": "62f2067e",
   "metadata": {},
   "source": [
    "##### Name\n",
    "Next comes the name of the function.  Like other names we've defined, it can't start with a number or contain spaces. Let's call our function `to_percentage`:\n",
    "    \n",
    "    def to_percentage"
   ]
  },
  {
   "cell_type": "markdown",
   "id": "8342a734",
   "metadata": {},
   "source": [
    "##### Signature\n",
    "Next comes something called the *signature* of the function.  This tells Python how many arguments your function should have, and what names you'll use to refer to those arguments in the function's code.  A function can have any number of arguments (including 0!). \n",
    "\n",
    "`to_percentage` should take one argument, and we'll call that argument `proportion` since it should be a proportion.\n",
    "\n",
    "    def to_percentage(proportion)\n",
    "    \n",
    "If we want our function to take more than one argument, we add a comma between each argument name. Note that if we had zero arguments, we'd still place the parentheses () after that name. \n",
    "\n",
    "We put a **colon** after the signature to tell Python that the next indented lines are the body of the function. If you're getting a syntax error after defining a function, check to make sure you remembered the colon!\n",
    "\n",
    "    def to_percentage(proportion):"
   ]
  },
  {
   "cell_type": "markdown",
   "id": "ba60d57e",
   "metadata": {},
   "source": [
    "##### Documentation\n",
    "Functions can do complicated things, so you should write an explanation of what your function does.  For small functions, this is less important, but it's a good habit to learn from the start.  Conventionally, Python functions are documented by writing an **indented** triple-quoted string:\n",
    "\n",
    "    def to_percentage(proportion):\n",
    "        \"\"\"Converts a proportion to a percentage.\"\"\""
   ]
  },
  {
   "cell_type": "markdown",
   "id": "8307e11f",
   "metadata": {},
   "source": [
    "##### Body\n",
    "Now we start writing code that runs when the function is called.  This is called the *body* of the function and every line **must be indented with a tab**.  Any lines that are *not* indented and left-aligned with the def statement is considered outside the function. \n",
    "\n",
    "Some notes about the body of the function:\n",
    "- We can write code that we would write anywhere else.  \n",
    "- We use the arguments defined in the function signature. We can do this because we assume that when we call the function, values are already assigned to those arguments.\n",
    "- We generally avoid referencing variables defined *outside* the function. If you would like to reference variables outside of the function, pass them through as arguments!\n",
    "\n",
    "\n",
    "Now, let's give a name to the number we multiply a proportion by to get a percentage:\n",
    "\n",
    "    def to_percentage(proportion):\n",
    "        \"\"\"Converts a proportion to a percentage.\"\"\"\n",
    "        factor = 100"
   ]
  },
  {
   "cell_type": "markdown",
   "id": "d383afd0",
   "metadata": {},
   "source": [
    "##### `return`\n",
    "The special instruction `return` is part of the function's body and tells Python to make the value of the function call equal to whatever comes right after `return`.  We want the value of `to_percentage(.5)` to be the proportion .5 times the factor 100, so we write:\n",
    "\n",
    "    def to_percentage(proportion):\n",
    "        \"\"\"Converts a proportion to a percentage.\"\"\"\n",
    "        factor = 100\n",
    "        return proportion * factor\n",
    "        \n",
    "`return` only makes sense in the context of a function, and **can never be used outside of a function**. `return` is always the last line of the function because Python stops executing the body of a function once it hits a `return` statement. If a function does not have a return statement, it will not return anything; if you expect a value back from the function, make sure to include a return statement. \n",
    "\n",
    "*Note:*  `return` inside a function tells Python what value the function evaluates to. However, there are other functions, like `print`, that have no `return` value. For example, `print` simply prints a certain value out to the console. \n",
    "\n",
    "In short, `return` is used when you want to tell the *computer* what the value of some variable is, while `print` is used to tell you, a *human*, its value."
   ]
  },
  {
   "cell_type": "markdown",
   "id": "8f00fa08",
   "metadata": {
    "deletable": false,
    "editable": false
   },
   "source": [
    "[Back to top](#top)\n",
    "\n",
    "<a id='p6'></a>\n",
    "\n",
    "### Question 6 (5 pts) ###\n",
    "\n",
    "Define `to_percentage` in the cell below. \n",
    "\n",
    "Call your function to convert the proportion 0.2 to a percentage.  Name that percentage `twenty_percent`.\n",
    "\n",
    "Replace EACH ellipses below (`...`)  with the corresponding correct code.  \n"
   ]
  },
  {
   "cell_type": "code",
   "execution_count": null,
   "id": "2a07bbbc",
   "metadata": {
    "tags": []
   },
   "outputs": [],
   "source": [
    "def ...\n",
    "    ''' ... '''\n",
    "    ... = ...\n",
    "    return ...\n",
    "\n",
    "twenty_percent = ...\n",
    "twenty_percent"
   ]
  },
  {
   "cell_type": "code",
   "execution_count": null,
   "id": "9fd16902",
   "metadata": {
    "deletable": false,
    "editable": false
   },
   "outputs": [],
   "source": [
    "grader.check(\"q6\")"
   ]
  },
  {
   "cell_type": "markdown",
   "id": "ccbf9729",
   "metadata": {},
   "source": [
    "Here's something important about functions: the names assigned *within* a function body are only accessible within the function body. Once the function has returned, those names are gone.  So even if you created a variable called `factor` and defined `factor = 100` inside of the body of the `to_percentage` function and then called `to_percentage`, `factor` would not have a value assigned to it outside of the body of `to_percentage`:\n",
    "\n",
    "**Note**: Below, you should see an error message."
   ]
  },
  {
   "cell_type": "code",
   "execution_count": null,
   "id": "2ca87cb8",
   "metadata": {},
   "outputs": [],
   "source": [
    "# You should get an error when you run this.  (If you don't, \n",
    "# you might have defined factor somewhere above.)\n",
    "factor"
   ]
  },
  {
   "cell_type": "markdown",
   "id": "236c6769",
   "metadata": {
    "deletable": false,
    "editable": false
   },
   "source": [
    "[Back to top](#top)\n",
    "\n",
    "<a id='p7'></a>\n",
    "\n",
    "### Question 7 (5 pts):\n",
    "\n",
    "You can also pass in named values as arguments to your function.\n",
    "\n",
    "Use `to_percentage` again to convert the proportion named `a_proportion` (defined below) to a percentage called `a_percentage`.\n",
    "\n",
    "*Note:* You don't need to define `to_percentage` again!  Like other named values, functions stick around after you define them."
   ]
  },
  {
   "cell_type": "code",
   "execution_count": null,
   "id": "03bfaef6",
   "metadata": {
    "tags": []
   },
   "outputs": [],
   "source": [
    "a_proportion = 2**(0.5) / 2\n",
    "a_percentage = ...\n",
    "a_percentage"
   ]
  },
  {
   "cell_type": "code",
   "execution_count": null,
   "id": "0bfb9da2",
   "metadata": {
    "deletable": false,
    "editable": false
   },
   "outputs": [],
   "source": [
    "grader.check(\"q7\")"
   ]
  },
  {
   "cell_type": "markdown",
   "id": "1b0cde17",
   "metadata": {
    "deletable": false,
    "editable": false
   },
   "source": [
    "[Back to top](#top)\n",
    "\n",
    "<a id='p8'></a>\n",
    "\n",
    "### Question 8 (5 pts):\n",
    "\n",
    "Write a function `square` that takes a number as its argument and returns the square of its argument."
   ]
  },
  {
   "cell_type": "code",
   "execution_count": null,
   "id": "bffefd18",
   "metadata": {
    "tags": []
   },
   "outputs": [],
   "source": [
    "def square(x):\n",
    "    ..."
   ]
  },
  {
   "cell_type": "code",
   "execution_count": null,
   "id": "4020c598",
   "metadata": {
    "deletable": false,
    "editable": false
   },
   "outputs": [],
   "source": [
    "grader.check(\"q8\")"
   ]
  },
  {
   "cell_type": "markdown",
   "id": "2fc1f70d",
   "metadata": {},
   "source": [
    "### 4.5 Methods \n",
    "\n",
    " \n",
    "A method is a function associated with a specified object (and, by extension, with the type of that object). That is, a method corresponds to a data-type operation.  Methods are defined within the class from which an object is instantiated. \n",
    "\n",
    "\n",
    "We can call (or invoke) a method by using a variable name, followed by the dot operator (.), followed by the method name, followed by a list of arguments delimited by commas and enclosed in parentheses. \n",
    "\n",
    "**Practice 4.3.1** As a simple example, Python's built-in int type has a method named bit_length(), so you can determine the number of bits in the binary representation of an int value as follows:\n"
   ]
  },
  {
   "cell_type": "code",
   "execution_count": null,
   "id": "73465d3c",
   "metadata": {},
   "outputs": [],
   "source": [
    "x = 3 ** 100\n",
    "bits = x.bit_length()\n",
    "bits"
   ]
  },
  {
   "cell_type": "markdown",
   "id": "155e9621",
   "metadata": {},
   "source": [
    "## 5. Importing Code\n",
    "\n",
    "Most programming involves work that is very similar to work that has been done before.  Since writing code is time-consuming, it's good to rely on others' published code when you can.  Rather than copy-pasting, Python allows us to **import modules**. A module is a file with Python code that has defined variables and functions. By importing a module, we are able to use its code in our own notebook.\n",
    "\n",
    "Python includes many useful modules that are just an `import` away.  \n"
   ]
  },
  {
   "cell_type": "markdown",
   "id": "e32d3bb2",
   "metadata": {},
   "source": [
    "### 5.1:  NumPy module:\n",
    "\n",
    "𝐍𝐮𝐦𝐏𝐲  (short for \"Numeric Python\") is an open source Python module for scientific computing. NumPy supports large, multidimensional arrays and matrices. It also supports a large collection of mathematical functions not found in Python's standard math library.\n",
    "\n",
    "It's custom in data science to import Numpy  with the alias $\\texttt{np}$.  We can then ***access any mathematical function in the Numpy library by prepending function names by $\\texttt{np}$***\n",
    "\n",
    "For a more in-depth description of methods and attributes built into Numpy see here:  https://numpy.org/doc/stable/user/quickstart.html   \n",
    "and  here:  https://numpy.org/doc/stable/reference/routines.math.html\n",
    "\n",
    "*Hint: If you press `shift+tab` while next to the function call, the documentation for that function will appear.*"
   ]
  },
  {
   "cell_type": "markdown",
   "id": "092e7f93",
   "metadata": {},
   "source": [
    "In Sec 3.1 above, the line `import numpy as np` imports the numpy module. This statement creates a module and then assigns the name `np` to that module. We are now able to access any variables or functions defined within `np` by typing the name of the module followed by a dot, then followed by the name of the variable or function we want.\n",
    "\n",
    "    <np>.<name>"
   ]
  },
  {
   "cell_type": "code",
   "execution_count": null,
   "id": "404be9a5",
   "metadata": {},
   "outputs": [],
   "source": [
    "radius = 5\n",
    "area_of_circle = radius**2 * np.pi\n",
    "area_of_circle"
   ]
  },
  {
   "cell_type": "markdown",
   "id": "fe9736ea",
   "metadata": {
    "deletable": false,
    "editable": false
   },
   "source": [
    "[Back to top](#top)\n",
    "\n",
    "<a id='p9'></a>\n",
    "\n",
    "\n",
    "### Question 9 (2.5 pts)\n",
    "The module `numpy` also provides the name `e` for the base of the natural logarithm, which is roughly 2.71. \n",
    "\n",
    "Compute $e^{\\pi}-\\pi$, giving it the name `near_twenty`.\n",
    "\n",
    "*Remember: You can access `pi` from the `numpy` module as well!*\n"
   ]
  },
  {
   "cell_type": "code",
   "execution_count": null,
   "id": "c6f15ce6",
   "metadata": {
    "tags": []
   },
   "outputs": [],
   "source": [
    "near_twenty = ...\n",
    "near_twenty"
   ]
  },
  {
   "cell_type": "code",
   "execution_count": null,
   "id": "774bc3da",
   "metadata": {
    "deletable": false,
    "editable": false
   },
   "outputs": [],
   "source": [
    "grader.check(\"q9\")"
   ]
  },
  {
   "cell_type": "markdown",
   "id": "68a8769c",
   "metadata": {},
   "source": [
    "### 5.2  Accessing Functions\n",
    "\n",
    "In the question above, you accessed variables within the `numpy` module. \n",
    "\n",
    "**Modules** also define **functions**.  For example, `numpy` provides the name `floor` for the floor function.  Having imported `numpy as np` already, we can write `np.floor(7.5)` to compute the floor of 7.5.  (Note that the floor function returns the largest integer less than or equal to a given number.)\n"
   ]
  },
  {
   "cell_type": "code",
   "execution_count": null,
   "id": "c8d65852",
   "metadata": {},
   "outputs": [],
   "source": [
    "np.floor(7.5)"
   ]
  },
  {
   "cell_type": "markdown",
   "id": "a64245d7",
   "metadata": {
    "deletable": false,
    "editable": false
   },
   "source": [
    "[Back to top](#top)\n",
    "\n",
    "<a id='p10'></a>\n",
    "\n",
    "### Question 10 (2.5 pts)\n",
    "\n",
    "Calculate the square root of `pi` using `sqrt` and `pi` from the `numpy` module.  Give the result the name `sqrt_of_pi`."
   ]
  },
  {
   "cell_type": "code",
   "execution_count": null,
   "id": "a8e3bb59",
   "metadata": {
    "tags": []
   },
   "outputs": [],
   "source": [
    "sqrt_of_pi = ...\n",
    "sqrt_of_pi"
   ]
  },
  {
   "cell_type": "code",
   "execution_count": null,
   "id": "9adbd433",
   "metadata": {
    "deletable": false,
    "editable": false
   },
   "outputs": [],
   "source": [
    "grader.check(\"q10\")"
   ]
  },
  {
   "cell_type": "markdown",
   "id": "c3069036",
   "metadata": {},
   "source": [
    "### 5.3  Methods vs Functions in NumPy\n",
    "\n",
    "Many things are implemented in NumPy as both functions and methods:\n",
    "\n",
    "Examples are `mean`, `min`, `max`, `sum`, `reshape`\n",
    "\n",
    "For example, there is a `np.sum` function, that adds up all the elements:"
   ]
  },
  {
   "cell_type": "code",
   "execution_count": null,
   "id": "667578a5",
   "metadata": {},
   "outputs": [],
   "source": [
    "arr = np.array([1, 2, 0, 1])\n",
    "np.sum(arr)\n",
    "4"
   ]
  },
  {
   "cell_type": "markdown",
   "id": "bfa234ff",
   "metadata": {},
   "source": [
    "There is also a `sum()` method of the numpy array object:"
   ]
  },
  {
   "cell_type": "code",
   "execution_count": null,
   "id": "980047ed",
   "metadata": {},
   "outputs": [],
   "source": [
    "type(arr)"
   ]
  },
  {
   "cell_type": "code",
   "execution_count": null,
   "id": "f6f95ebd",
   "metadata": {},
   "outputs": [],
   "source": [
    "arr.sum()"
   ]
  },
  {
   "cell_type": "markdown",
   "id": "1a4590f0",
   "metadata": {},
   "source": [
    "In these cases choosing the method or the function will usually depend on which one is easier to read."
   ]
  },
  {
   "cell_type": "markdown",
   "id": "8aafcaa1",
   "metadata": {},
   "source": [
    "## 6. Math Questions"
   ]
  },
  {
   "cell_type": "markdown",
   "id": "58b19ad6",
   "metadata": {},
   "source": [
    "### 6.1 LaTex ###\n",
    "You should use LaTeX to format math in your answers. If you aren't familiar with LaTeX, not to worry. It's not hard to use in a Jupyter notebook. Just place your math in between dollar signs:\n",
    "\n",
    "\\\\$ f(x) = 2x \\\\$ becomes $ f(x) = 2x $.\n",
    "\n",
    "If you have a longer equation, use double dollar signs to place it on a line by itself:\n",
    "\n",
    "\\\\$\\\\$ \\sum_{i=0}^n i^2 \\\\$\\\\$ becomes:\n",
    "\n",
    "$$ \\sum_{i=0}^n i^2 $$.\n",
    "\n",
    "Here is some handy LaTex:\n",
    "\n",
    "| Output | Latex   |\n",
    "|:--|:--|\n",
    "| $$x^{a + b}$$  | `x^{a + b}` |\n",
    "| $$x_{a + b}$$ | `x_{a + b}` |\n",
    "| $$\\frac{a}{b}$$ | `\\frac{a}{b}` |\n",
    "| $$\\sqrt{a + b}$$ | `\\sqrt{a + b}` |\n",
    "| $$\\{ \\alpha, \\beta, \\gamma, \\pi, \\mu, \\sigma^2  \\}$$ | `\\{ \\alpha, \\beta, \\gamma, \\pi, \\mu, \\sigma^2  \\}` |\n",
    "| $$\\int_{x=2}^{\\infty} \\frac{1}{x} \\,dx $$ | `\\sum_{x=2}^{\\infty} \\frac{1}{x} \\,dx` |\n",
    "| $$\\sum_{x=1}^{100} x$$ | `\\sum_{x=1}^{100} x` |\n",
    "| $$\\frac{d}{d x} $$ | `\\frac{d}{dx} ` |\n",
    "\n",
    "\n",
    "\n",
    "[For more about basic LaTeX formatting, you can read this article.](https://www.sharelatex.com/learn/Mathematical_expressions)\n"
   ]
  },
  {
   "cell_type": "markdown",
   "id": "ffbc4db0",
   "metadata": {
    "deletable": false,
    "editable": false
   },
   "source": [
    "<!-- BEGIN QUESTION -->\n",
    "\n",
    "[Back to top](#top)\n",
    "\n",
    "<a id='p11'></a>\n",
    "\n",
    "\n",
    "### Question 11 (5 pts)\n",
    "\n",
    "Exponential functions and their derivatives will be used in this class when we discuss probability distributions.  \n",
    "\n",
    "To brush up on Calculus, evaluate the following derivative by hand: $$\\frac{d}{dx} \\left( e^{x/4} \\right)$$\n",
    "\n",
    "Type your answer in the cell below using Markdown and LaTeX"
   ]
  },
  {
   "cell_type": "markdown",
   "id": "10d5370c",
   "metadata": {},
   "source": [
    "_Type your answer here, replacing this text._"
   ]
  },
  {
   "cell_type": "markdown",
   "id": "487d009f",
   "metadata": {
    "deletable": false,
    "editable": false
   },
   "source": [
    "<!-- END QUESTION -->\n",
    "\n",
    "<br/><br/>\n",
    "<hr style=\"border: 5px solid #003262;\" />\n",
    "<hr style=\"border: 1px solid #fdb515;\" />\n",
    "\n",
    "## Congratulations! You have finished Homework 1!"
   ]
  },
  {
   "cell_type": "markdown",
   "id": "4a3ea147",
   "metadata": {},
   "source": [
    "If you discussed this assignment with any other students in the class (in a manner that is acceptable as described by the Collaboration policy above) please **include their names** here:\n",
    "\n",
    "**Collaborators**: *list collaborators here*"
   ]
  },
  {
   "cell_type": "markdown",
   "id": "d65478fe",
   "metadata": {},
   "source": [
    "### Submission Instructions\n",
    "\n",
    "Before proceeding any further, **save this notebook.**\n",
    "\n",
    "After running the `grader.export()` cell provided below, **2 files will be created**: a zip file and pdf file.  You can download them using the links provided below OR by finding them in the same folder where this juptyer notebook resides in your JuptyerHub.\n",
    "\n",
    "To receive credit on this assignment, **you must submit BOTH of these files\n",
    "to their respective Gradescope portals:** \n",
    "\n",
    "* **Homework 1 Autograded**: Submit the zip file that is output by the `grader.export()` cell below to the HW1 Autograded assignment in Gradescope.\n",
    "\n",
    "* **Homework 1 Manually Graded**: Submit your hw01.PDF to the HW1 Manually Graded assignment in Gradescope.  \n",
    "\n",
    "\n",
    "**You are responsible for ensuring your submission follows our requirements. We will not be granting regrade requests nor extensions to submissions that don't follow instructions.** If you encounter any difficulties with submission, please don't hesitate to reach out to staff prior to the deadline."
   ]
  },
  {
   "cell_type": "markdown",
   "id": "0b49e0b9",
   "metadata": {
    "deletable": false,
    "editable": false
   },
   "source": [
    "## Submission\n",
    "\n",
    "Make sure you have run all cells in your notebook in order before running the cell below, so that all images/graphs appear in the output. The cell below will generate a zip file for you to submit. **Please save before exporting!**\n",
    "\n",
    "AFTER running the cell below, click on <a href='hw01.pdf' download>this link to download the PDF </a> to upload to Gradescope.  There will be a separate link that appears after running the cell below with a link to download the zip file to upload to Gradescope."
   ]
  },
  {
   "cell_type": "code",
   "execution_count": null,
   "id": "a9846eb1",
   "metadata": {
    "deletable": false,
    "editable": false
   },
   "outputs": [],
   "source": [
    "# Save your notebook first, then run this cell to export your submission.\n",
    "grader.export(run_tests=True)"
   ]
  },
  {
   "cell_type": "markdown",
   "id": "0a5a6730",
   "metadata": {},
   "source": [
    " "
   ]
  }
 ],
 "metadata": {
  "kernelspec": {
   "display_name": "Python 3 (ipykernel)",
   "language": "python",
   "name": "python3"
  },
  "language_info": {
   "codemirror_mode": {
    "name": "ipython",
    "version": 3
   },
   "file_extension": ".py",
   "mimetype": "text/x-python",
   "name": "python",
   "nbconvert_exporter": "python",
   "pygments_lexer": "ipython3",
   "version": "3.10.8"
  },
  "otter": {
   "OK_FORMAT": true,
   "tests": {
    "q10": {
     "name": "q10",
     "points": 2.5,
     "suites": [
      {
       "cases": [
        {
         "code": ">>> assert np.isclose(sqrt_of_pi, 1.7724538509055159)\n",
         "hidden": false,
         "locked": false
        }
       ],
       "scored": true,
       "setup": "",
       "teardown": "",
       "type": "doctest"
      }
     ]
    },
    "q2": {
     "name": "q2",
     "points": [
      0
     ],
     "suites": [
      {
       "cases": [
        {
         "code": ">>> # TEST\n>>> assert type(q2_int)==int\n",
         "hidden": false,
         "locked": false
        }
       ],
       "scored": true,
       "setup": "",
       "teardown": "",
       "type": "doctest"
      }
     ]
    },
    "q3": {
     "name": "q3",
     "points": 5,
     "suites": [
      {
       "cases": [
        {
         "code": ">>> assert seconds_in_a_decade == 315532800\n",
         "hidden": false,
         "locked": false
        }
       ],
       "scored": true,
       "setup": "",
       "teardown": "",
       "type": "doctest"
      }
     ]
    },
    "q4": {
     "name": "q4",
     "points": [
      0
     ],
     "suites": [
      {
       "cases": [
        {
         "code": ">>> # TEST\n>>> \n>>> assert names_q4 in [1,2,3,4]\n",
         "hidden": false,
         "locked": false
        }
       ],
       "scored": true,
       "setup": "",
       "teardown": "",
       "type": "doctest"
      }
     ]
    },
    "q5": {
     "name": "q5",
     "points": 5,
     "suites": [
      {
       "cases": [
        {
         "code": ">>> assert q5_answer == 2023.0\n",
         "hidden": false,
         "locked": false
        }
       ],
       "scored": true,
       "setup": "",
       "teardown": "",
       "type": "doctest"
      }
     ]
    },
    "q6": {
     "name": "q6",
     "points": 5,
     "suites": [
      {
       "cases": [
        {
         "code": ">>> # Make sure your function has the proper syntax!\n>>> assert to_percentage(.35) == 35.0\n",
         "hidden": false,
         "locked": false
        },
        {
         "code": ">>> # Make sure you are passing in the proper argument!\n>>> assert twenty_percent == 20.0\n",
         "hidden": false,
         "locked": false
        }
       ],
       "scored": true,
       "setup": "",
       "teardown": "",
       "type": "doctest"
      }
     ]
    },
    "q7": {
     "name": "q7",
     "points": 5,
     "suites": [
      {
       "cases": [
        {
         "code": ">>> assert np.isclose(a_percentage, 70.71067811865476)\n",
         "hidden": false,
         "locked": false
        }
       ],
       "scored": true,
       "setup": "",
       "teardown": "",
       "type": "doctest"
      }
     ]
    },
    "q8": {
     "name": "q8",
     "points": 5,
     "suites": [
      {
       "cases": [
        {
         "code": ">>> assert square(1) == 1\n",
         "hidden": false,
         "locked": false
        },
        {
         "code": ">>> assert square(0) == 0\n",
         "hidden": false,
         "locked": false
        }
       ],
       "scored": true,
       "setup": "",
       "teardown": "",
       "type": "doctest"
      }
     ]
    },
    "q9": {
     "name": "q9",
     "points": 2.5,
     "suites": [
      {
       "cases": [
        {
         "code": ">>> assert np.isclose(near_twenty, 19.99909997918947)\n",
         "hidden": false,
         "locked": false
        }
       ],
       "scored": true,
       "setup": "",
       "teardown": "",
       "type": "doctest"
      }
     ]
    }
   }
  }
 },
 "nbformat": 4,
 "nbformat_minor": 5
}
