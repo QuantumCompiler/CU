{
 "cells": [
  {
   "cell_type": "markdown",
   "metadata": {},
   "source": [
    "<figure>\n",
    "  <IMG SRC=\"https://www.colorado.edu/cs/profiles/express/themes/cuspirit/logo.png\" WIDTH=50 ALIGN=\"right\">\n",
    "</figure>\n",
    "# Beginning Python\n",
    "*CSCI 3022 - Dirk Grunwald*"
   ]
  },
  {
   "cell_type": "markdown",
   "metadata": {},
   "source": [
    "We need to know \"just enough Python\" to manipulate statistical data and do basic statistical computations.\n",
    "\n",
    "\n",
    "We'll introduce additional concepts throughout the semester, but need some background that we will use through the course."
   ]
  },
  {
   "cell_type": "markdown",
   "metadata": {
    "heading_collapsed": true
   },
   "source": [
    "## Python Assignment , Variables and Comments"
   ]
  },
  {
   "cell_type": "markdown",
   "metadata": {
    "collapsed": true,
    "hidden": true
   },
   "source": [
    "Variables are names for data of varying types. We assign values to those variables using an assignment statement with a new variable on the left-hand side of the assignment. Here are a couple of examples:"
   ]
  },
  {
   "cell_type": "code",
   "execution_count": null,
   "metadata": {
    "collapsed": true,
    "hidden": true
   },
   "outputs": [],
   "source": [
    "x = 10\n",
    "y = 20.0"
   ]
  },
  {
   "cell_type": "markdown",
   "metadata": {
    "hidden": true
   },
   "source": [
    "Once variables are defined, we can use them anywhere we would use a value"
   ]
  },
  {
   "cell_type": "code",
   "execution_count": null,
   "metadata": {
    "hidden": true
   },
   "outputs": [],
   "source": [
    "print(x+y)"
   ]
  },
  {
   "cell_type": "markdown",
   "metadata": {
    "hidden": true
   },
   "source": [
    "There are more complex rules about variables, put we're leaving more complex programming and software development issues to other classes.\n",
    "\n",
    "*Comments* start with a ```#``` and continue to the end of line"
   ]
  },
  {
   "cell_type": "code",
   "execution_count": null,
   "metadata": {
    "hidden": true
   },
   "outputs": [],
   "source": [
    "print(10.0)\n",
    "# this is a comment that will be ignored"
   ]
  },
  {
   "cell_type": "markdown",
   "metadata": {
    "heading_collapsed": true
   },
   "source": [
    "## Seeing output"
   ]
  },
  {
   "cell_type": "markdown",
   "metadata": {
    "hidden": true
   },
   "source": [
    "Python notebooks capture and display the output of your python program statements. Some python statements produce no output (_e.g._ the assignment statements below)."
   ]
  },
  {
   "cell_type": "code",
   "execution_count": null,
   "metadata": {
    "collapsed": true,
    "hidden": true
   },
   "outputs": [],
   "source": [
    "z = 20"
   ]
  },
  {
   "cell_type": "markdown",
   "metadata": {
    "hidden": true
   },
   "source": [
    "Statements containing just expressions or variable names produce output of _the last line_ of input. For example, the following input will evaluate two statements but produce a single line of output."
   ]
  },
  {
   "cell_type": "code",
   "execution_count": null,
   "metadata": {
    "hidden": true
   },
   "outputs": [],
   "source": [
    "x\n",
    "y+z"
   ]
  },
  {
   "cell_type": "markdown",
   "metadata": {
    "hidden": true
   },
   "source": [
    "You can statements explicitly produce output using **print** statements. If you need to see the value of variables, you should explicitly print them rather than using the \"last line of input\" method."
   ]
  },
  {
   "cell_type": "code",
   "execution_count": null,
   "metadata": {
    "hidden": true
   },
   "outputs": [],
   "source": [
    "print('x is', x)\n",
    "print('y+z is', y+z)"
   ]
  },
  {
   "cell_type": "markdown",
   "metadata": {
    "heading_collapsed": true
   },
   "source": [
    "## Order of Cell Evaluation in Notebooks"
   ]
  },
  {
   "cell_type": "markdown",
   "metadata": {
    "hidden": true
   },
   "source": [
    "Python notebooks \"read\" from top to bottom like a narrative or web page. However, the code cells are _evaluated in the order they are executed_. For example, execute the the following cell and then go back to the ```print``` cell above and re-evaluate it."
   ]
  },
  {
   "cell_type": "code",
   "execution_count": null,
   "metadata": {
    "collapsed": true,
    "hidden": true
   },
   "outputs": [],
   "source": [
    "z = 9999"
   ]
  },
  {
   "cell_type": "markdown",
   "metadata": {
    "hidden": true
   },
   "source": [
    "This can be useful because it allows us to change values and \"play with\" a piece of code to see their effect, but it can also cause misunderstandings because the notebook didn't capture the order in which things were executed.\n",
    "\n",
    "To make certain others will see the results you expect them to see, you should use the **Kernel -> Restart & Run All** menu item to execute all cells in the order they appear in the notebook."
   ]
  },
  {
   "cell_type": "markdown",
   "metadata": {
    "heading_collapsed": true
   },
   "source": [
    "## Python Datatypes"
   ]
  },
  {
   "cell_type": "markdown",
   "metadata": {
    "hidden": true
   },
   "source": [
    "Computers distinguish different kinds of data, called *datatypes*.\n",
    "\n",
    "The Python datatypes we'll use are:\n",
    "* Floating point - numbers like 3.1415 or -0.5\n",
    "* Integers - numbers like 2 or -10\n",
    "* Booleans - True or False\n",
    "* Strings - character strings \"in double quotes\" or 'single'"
   ]
  },
  {
   "cell_type": "markdown",
   "metadata": {
    "hidden": true
   },
   "source": [
    "In python, a variable can hold any kind of data type. Operations on data types largely make sense based on your highschool algebra class:"
   ]
  },
  {
   "cell_type": "code",
   "execution_count": null,
   "metadata": {
    "hidden": true
   },
   "outputs": [],
   "source": [
    "print(11.0/2)"
   ]
  },
  {
   "cell_type": "markdown",
   "metadata": {
    "hidden": true
   },
   "source": [
    "In Python3, division normally produces a floating point value, even if an integer is divided. Go and change the '11.0' to '10' in the previous cell. You can force integer division by using ```//``` for division, like this:"
   ]
  },
  {
   "cell_type": "code",
   "execution_count": null,
   "metadata": {
    "hidden": true
   },
   "outputs": [],
   "source": [
    "print(11//2)"
   ]
  },
  {
   "cell_type": "markdown",
   "metadata": {
    "hidden": true
   },
   "source": [
    "The only odd notation is ```**``` for exponents. For example:"
   ]
  },
  {
   "cell_type": "code",
   "execution_count": null,
   "metadata": {
    "hidden": true
   },
   "outputs": [],
   "source": [
    "print('2 to the third power is', 2**3)"
   ]
  },
  {
   "cell_type": "markdown",
   "metadata": {
    "hidden": true
   },
   "source": [
    "Comparison operations produce Booleans as a value. "
   ]
  },
  {
   "cell_type": "code",
   "execution_count": null,
   "metadata": {
    "hidden": true
   },
   "outputs": [],
   "source": [
    "print(5 < 10)\n",
    "print(10 < 5)"
   ]
  },
  {
   "cell_type": "markdown",
   "metadata": {
    "hidden": true
   },
   "source": [
    "Addition can be used strings combine strings and multiplication duplicates strings. There are no string substraction or division operations."
   ]
  },
  {
   "cell_type": "code",
   "execution_count": null,
   "metadata": {
    "hidden": true
   },
   "outputs": [],
   "source": [
    "print('dog' + 'cat')\n",
    "print('dog' * 2)\n",
    "#print('dog' - 'g')"
   ]
  },
  {
   "cell_type": "markdown",
   "metadata": {
    "hidden": true
   },
   "source": [
    "You can convert one type of data to another using *conversion functions*.\n",
    "\n",
    "Conversions are:\n",
    "* float(x) - convert to a floating point number\n",
    "* int(x) - convert to an integer\n",
    "* str(x) - convert to a string\n",
    "* type(x) - identify the type of a variable"
   ]
  },
  {
   "cell_type": "code",
   "execution_count": null,
   "metadata": {
    "hidden": true
   },
   "outputs": [],
   "source": [
    "s = \"123\"\n",
    "print(s * 2)\n",
    "print(int(s) * 2)\n",
    "print('s is a', type(s))"
   ]
  },
  {
   "cell_type": "markdown",
   "metadata": {
    "heading_collapsed": true
   },
   "source": [
    "## Collections"
   ]
  },
  {
   "cell_type": "markdown",
   "metadata": {
    "hidden": true
   },
   "source": [
    "In statistics and data science, we usually manipulate collections of data. Python has three *collection types* built in:\n",
    "* tuples - multiple values that you can't modify\n",
    "* lists - multiple values that you *can* modify\n",
    "* dictionaries - a method to access a *value* given a *key*\n",
    "\n",
    "Later, we will examine *vectors* and *arrays* provided by the NumPy extension to Python and the Pandas *series* and *data frame*. We will use a combination of all of these collections in this course."
   ]
  },
  {
   "cell_type": "markdown",
   "metadata": {
    "heading_collapsed": true,
    "hidden": true
   },
   "source": [
    "### Tuples"
   ]
  },
  {
   "cell_type": "markdown",
   "metadata": {
    "hidden": true
   },
   "source": [
    "Collections are simply comma-separated values enclosed in parenthesis. You can access the elements or parts of a tuple using the *subscript* or *index* notation. Tuples can contain any values of any type."
   ]
  },
  {
   "cell_type": "code",
   "execution_count": null,
   "metadata": {
    "hidden": true
   },
   "outputs": [],
   "source": [
    "t1 = ('dog', 47, 'cat', 9.2)\n",
    "print('t1 is', t1, 'and has', len(t1), 'elements')\n",
    "print('First element of t1 is', t1[0])\n",
    "print('Fourth element of t1 is', t1[3])"
   ]
  },
  {
   "cell_type": "markdown",
   "metadata": {
    "hidden": true
   },
   "source": [
    "You can't change the parts of a tuple."
   ]
  },
  {
   "cell_type": "code",
   "execution_count": null,
   "metadata": {
    "collapsed": true,
    "hidden": true
   },
   "outputs": [],
   "source": [
    "#t1[0] = 'foo'"
   ]
  },
  {
   "cell_type": "markdown",
   "metadata": {
    "hidden": true
   },
   "source": [
    "### Lists"
   ]
  },
  {
   "cell_type": "markdown",
   "metadata": {
    "hidden": true
   },
   "source": [
    "Lists are basically tuples you can modify."
   ]
  },
  {
   "cell_type": "code",
   "execution_count": null,
   "metadata": {
    "hidden": true
   },
   "outputs": [],
   "source": [
    "l1 = [ 'dog', 47, 'cat', 9.2]\n",
    "print('l1 is', l1, 'and has', len(l1), 'elements')\n",
    "print('First element of l1 is', l1[0])\n",
    "l1[0] = 'dragon'\n",
    "print('l1 is now', l1)"
   ]
  },
  {
   "cell_type": "markdown",
   "metadata": {
    "hidden": true
   },
   "source": [
    "You can extract *slices* from lists. We'll use slices with NumPy arrays as well."
   ]
  },
  {
   "cell_type": "code",
   "execution_count": null,
   "metadata": {
    "hidden": true
   },
   "outputs": [],
   "source": [
    "print('Middle part', l1[1:3])\n",
    "print('Front part', l1[:2])\n",
    "print('Back part', l1[2:])\n",
    "print('Every other', l1[::2])"
   ]
  },
  {
   "cell_type": "markdown",
   "metadata": {
    "hidden": true
   },
   "source": [
    "You can combine lists and append single items or lists to lists. The following illustrates that appending doesn't always do what you think (you may way want ```extend```) and also that assigning lists *does not* copy them -- both l1 and l3 refer to the same list after this code."
   ]
  },
  {
   "cell_type": "code",
   "execution_count": null,
   "metadata": {
    "hidden": true
   },
   "outputs": [],
   "source": [
    "l2 = [ 'hamster', 19, 'shrew', 0.5]\n",
    "print(l1 + l2)\n",
    "l3 = l1\n",
    "l3.append(l2)\n",
    "print('l3 is now ', l3)\n",
    "print('l1 is now ', l1, 'and has length', len(l1))"
   ]
  },
  {
   "cell_type": "markdown",
   "metadata": {
    "hidden": true
   },
   "source": [
    "Some python functions operate on lists."
   ]
  },
  {
   "cell_type": "code",
   "execution_count": null,
   "metadata": {
    "hidden": true
   },
   "outputs": [],
   "source": [
    "height = [ 10, 20, 15, 12, 7]\n",
    "print('The mean height is', sum(height) / len(height))"
   ]
  },
  {
   "cell_type": "markdown",
   "metadata": {
    "hidden": true
   },
   "source": [
    "In this course, we mainly deal with lists of numbers and rather than append or manipulate lists we use *list comprehensions* to operate on list elements. This is easiest to see in an example:"
   ]
  },
  {
   "cell_type": "code",
   "execution_count": null,
   "metadata": {
    "hidden": true
   },
   "outputs": [],
   "source": [
    "evens = [ 0, 2, 4, 6, 8, 10]\n",
    "squares = [ x**2 for x in evens ]\n",
    "print('squares is', squares)"
   ]
  },
  {
   "cell_type": "markdown",
   "metadata": {
    "heading_collapsed": true,
    "hidden": true
   },
   "source": [
    "### Dictionaries"
   ]
  },
  {
   "cell_type": "markdown",
   "metadata": {
    "collapsed": true,
    "hidden": true
   },
   "source": [
    "We make little use of dictionaries in this class, but they may appear in some examples you encounter."
   ]
  },
  {
   "cell_type": "code",
   "execution_count": null,
   "metadata": {
    "hidden": true
   },
   "outputs": [],
   "source": [
    "opposites = { 'cat' : 'dog', 'tall' : 'short'}\n",
    "print('There are', len(opposites), 'entries in the dictionary')\n",
    "print('The opposite of cat is', opposites['cat'])"
   ]
  },
  {
   "cell_type": "code",
   "execution_count": null,
   "metadata": {
    "hidden": true
   },
   "outputs": [],
   "source": [
    "print('The keys are', opposites.keys())\n",
    "print('The values are', opposites.values())"
   ]
  },
  {
   "cell_type": "code",
   "execution_count": null,
   "metadata": {
    "hidden": true
   },
   "outputs": [],
   "source": [
    "print('Is cat in the dictionary?', 'cat' in opposites)"
   ]
  },
  {
   "cell_type": "code",
   "execution_count": null,
   "metadata": {
    "collapsed": true,
    "hidden": true
   },
   "outputs": [],
   "source": []
  }
 ],
 "metadata": {
  "kernelspec": {
   "display_name": "Python 3",
   "language": "python",
   "name": "python3"
  },
  "language_info": {
   "codemirror_mode": {
    "name": "ipython",
    "version": 3
   },
   "file_extension": ".py",
   "mimetype": "text/x-python",
   "name": "python",
   "nbconvert_exporter": "python",
   "pygments_lexer": "ipython3",
   "version": "3.6.2"
  }
 },
 "nbformat": 4,
 "nbformat_minor": 2
}
