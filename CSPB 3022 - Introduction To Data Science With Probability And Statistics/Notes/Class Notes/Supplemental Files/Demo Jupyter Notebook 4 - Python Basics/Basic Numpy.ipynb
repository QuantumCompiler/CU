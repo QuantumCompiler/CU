{
 "cells": [
  {
   "cell_type": "markdown",
   "metadata": {},
   "source": [
    "<figure>\n",
    "  <IMG SRC=\"https://www.colorado.edu/cs/profiles/express/themes/cuspirit/logo.png\" WIDTH=50 ALIGN=\"right\">\n",
    "</figure>\n",
    "# Basic NumPy\n",
    "*CSCI 3022 - Dirk Grunwald*"
   ]
  },
  {
   "cell_type": "markdown",
   "metadata": {
    "heading_collapsed": true
   },
   "source": [
    "## Overview"
   ]
  },
  {
   "cell_type": "markdown",
   "metadata": {
    "hidden": true
   },
   "source": [
    "Statistians and data scientists primarily deal with structured numeric data.\n",
    "\n",
    "While tuples, lists and dictionaries are useful for general programming, *vectors* and *arrays* are more useful for mathematical calculations.\n",
    "\n",
    "[NumPy](https://docs.scipy.org/doc/numpy-1.13.0/index.html) is an *extension module* to the Python language that provides vectors and arrays. In order to use NumPy, we must *import* the numpy module."
   ]
  },
  {
   "cell_type": "code",
   "execution_count": null,
   "metadata": {
    "collapsed": true,
    "hidden": true
   },
   "outputs": [],
   "source": [
    "import numpy as np"
   ]
  },
  {
   "cell_type": "markdown",
   "metadata": {
    "hidden": true
   },
   "source": [
    "In this course, we will almost always use the same method to refer to NumPy operations -- we will import NumPy and use the name ```np``` to refer to parts of numpy.\n",
    "\n",
    "In this tutorial, we focus on the parts of NumPy we use in this course. NumPy site has [a quickstart tutorial](https://docs.scipy.org/doc/numpy-1.13.0/user/quickstart.html) that is more complete. \n",
    "\n",
    "There is also a complete [reference manual](https://docs.scipy.org/doc/numpy-1.13.0/reference/index.html).\n",
    "\n",
    "I usually use [Google to search for reference pages](https://www.google.com/search?source=hp&ei=jrdCWpeHPMumjwSr-JngCA&q=numpy+ones&oq=numpy+ones&gs_l=psy-ab.3..0l2.5642.6767.0.7015.12.11.0.0.0.0.113.801.9j1.11.0....0...1c.1.64.psy-ab..1.11.891.6..35i39k1j0i67k1j0i131k1j0i20i264k1j0i20i263i264k1j0i20i263k1.92.hgIku2CyNOo) and also check out answers presented in [Stack Overflow](https://stackoverflow.com/questions/tagged/numpy)."
   ]
  },
  {
   "cell_type": "markdown",
   "metadata": {
    "heading_collapsed": true
   },
   "source": [
    "## Creating a vector"
   ]
  },
  {
   "cell_type": "markdown",
   "metadata": {
    "hidden": true
   },
   "source": [
    "A numpy vector is similar to a list, but each element must be exactly the same type. In this course, we will mainly use vectors of floating point numbers although using the [different datayptes](https://docs.scipy.org/doc/numpy-1.13.0/user/basics.types.html) can be much more efficient."
   ]
  },
  {
   "cell_type": "code",
   "execution_count": null,
   "metadata": {
    "hidden": true
   },
   "outputs": [],
   "source": [
    "z = np.zeros(5)\n",
    "print('z is', z)"
   ]
  },
  {
   "cell_type": "code",
   "execution_count": null,
   "metadata": {
    "hidden": true
   },
   "outputs": [],
   "source": [
    "o = np.ones(3)\n",
    "print('o is', o)"
   ]
  },
  {
   "cell_type": "code",
   "execution_count": null,
   "metadata": {
    "hidden": true
   },
   "outputs": [],
   "source": [
    "evens = np.arange(0, 12, 2)\n",
    "print('evens is', evens)"
   ]
  },
  {
   "cell_type": "code",
   "execution_count": null,
   "metadata": {
    "hidden": true
   },
   "outputs": [],
   "source": [
    "ls = np.linspace(2,10,9)\n",
    "print('ls is', ls)"
   ]
  },
  {
   "cell_type": "markdown",
   "metadata": {
    "hidden": true
   },
   "source": [
    "Although it's not very efficient, you can create a vector from a Python list or tuple."
   ]
  },
  {
   "cell_type": "code",
   "execution_count": null,
   "metadata": {
    "hidden": true
   },
   "outputs": [],
   "source": [
    "evens = np.array([0, 2, 4, 6, 8, 10])\n",
    "print('evens is', evens)"
   ]
  },
  {
   "cell_type": "markdown",
   "metadata": {
    "hidden": true
   },
   "source": [
    "You can also extract or slice elements from a vector just like a list and you can even repeatedly skip parts"
   ]
  },
  {
   "cell_type": "code",
   "execution_count": null,
   "metadata": {
    "hidden": true
   },
   "outputs": [],
   "source": [
    "print('Middle part', evens[1:3])\n",
    "print('Front part', evens[:2])\n",
    "print('Back part', evens[2:])\n",
    "print('Every other', evens[::2])"
   ]
  },
  {
   "cell_type": "markdown",
   "metadata": {
    "heading_collapsed": true
   },
   "source": [
    "## Arrays and shapes"
   ]
  },
  {
   "cell_type": "markdown",
   "metadata": {
    "hidden": true
   },
   "source": [
    "A vector is a 1-dimensional array (like a list), but NumPy handles different types of arrays.\n",
    "\n",
    "Each vector has a size and shape. For a vector, the size tells you how many items are in the vector. While it might appear that ```len``` and ```size``` give you the same infomation, they don't."
   ]
  },
  {
   "cell_type": "code",
   "execution_count": null,
   "metadata": {
    "hidden": true
   },
   "outputs": [],
   "source": [
    "print('evens has', len(evens), 'elements')\n",
    "print('That is also the size of evens:', evens.size)"
   ]
  },
  {
   "cell_type": "markdown",
   "metadata": {
    "hidden": true
   },
   "source": [
    " The *shape* is needed for arrays where you need to determine the size of each dimension (*e.g.* "
   ]
  },
  {
   "cell_type": "code",
   "execution_count": null,
   "metadata": {
    "hidden": true
   },
   "outputs": [],
   "source": [
    "print('the shape of evens is', evens.shape)\n",
    "twod = np.array( [[0, 2, 4], [6,8,10]])\n",
    "print('twod is', twod)\n",
    "print('It has length', len(twod), 'size', twod.size, 'and shape', twod.shape)"
   ]
  },
  {
   "cell_type": "markdown",
   "metadata": {
    "hidden": true
   },
   "source": [
    "It is possible to *reshape* an array from one shape to another. We use this sparingly in this class because it's often confusing to people."
   ]
  },
  {
   "cell_type": "code",
   "execution_count": null,
   "metadata": {
    "hidden": true
   },
   "outputs": [],
   "source": [
    "flat = twod.reshape((6,))\n",
    "print('flat is ', flat)\n",
    "print('twod is now', twod)"
   ]
  },
  {
   "cell_type": "code",
   "execution_count": null,
   "metadata": {
    "hidden": true
   },
   "outputs": [],
   "source": [
    "print('Second row, first element of twod is', twod[1][0])"
   ]
  },
  {
   "cell_type": "markdown",
   "metadata": {
    "heading_collapsed": true
   },
   "source": [
    "## Operations on Vectors"
   ]
  },
  {
   "cell_type": "markdown",
   "metadata": {
    "hidden": true
   },
   "source": [
    "NumPy has functions that operate on all the elements of a vector or array. Some of the more useful ones are:\n",
    "* [Mathmatical functions](https://docs.scipy.org/doc/numpy-1.13.0/reference/routines.math.html) - sum, prod, log, absolute value and others\n",
    "* [Logic functions](https://docs.scipy.org/doc/numpy-1.13.0/reference/routines.logic.html) - such as determining if all or any elements of a vector are true\n",
    "* [Random sampling](https://docs.scipy.org/doc/numpy-1.13.0/reference/routines.random.html) - to generate random numbers\n",
    "* [Statistics](https://docs.scipy.org/doc/numpy-1.13.0/reference/routines.statistics.html) - mean, median and the like"
   ]
  },
  {
   "cell_type": "code",
   "execution_count": null,
   "metadata": {
    "hidden": true
   },
   "outputs": [],
   "source": [
    "evens = np.arange(0,12,2)\n",
    "print('evens are', evens,'and they sum to', np.sum(evens))\n",
    "print('mean is', np.sum(evens)/evens.size)\n",
    "print('which you could write as', np.mean(evens))\n",
    "print('the largest value is', np.max(evens))\n",
    "print('and the largest value is at location', np.argmax(evens))"
   ]
  },
  {
   "cell_type": "markdown",
   "metadata": {
    "hidden": true
   },
   "source": [
    "Some of the functions involve multiple vectors"
   ]
  },
  {
   "cell_type": "code",
   "execution_count": null,
   "metadata": {
    "hidden": true
   },
   "outputs": [],
   "source": [
    "odds = np.arange(1,12,2)\n",
    "print('evens are', evens, 'and odds are', odds)\n",
    "print('the sum of evens and odds is', np.add(evens,odds))\n",
    "print('the maximum of evens and odds is', np.maximum(evens,odds))\n",
    "print('or, more compactly', evens + odds)"
   ]
  },
  {
   "cell_type": "markdown",
   "metadata": {
    "heading_collapsed": true
   },
   "source": [
    "## Operations on vector elements"
   ]
  },
  {
   "cell_type": "markdown",
   "metadata": {
    "hidden": true
   },
   "source": [
    "Certain [NumPy functions](https://docs.scipy.org/doc/numpy-1.13.0/reference/ufuncs.html) operate on the elements of the vector in ways that makes mathematical sense for vectors and arrays."
   ]
  },
  {
   "cell_type": "code",
   "execution_count": null,
   "metadata": {
    "hidden": true
   },
   "outputs": [],
   "source": [
    "data = np.arange(0,12)\n",
    "print('data is', data)\n",
    "print('data * 2 is', data * 2)\n",
    "print('data + data is', data + data)\n",
    "print('data squared is', data**2)"
   ]
  },
  {
   "cell_type": "code",
   "execution_count": null,
   "metadata": {
    "hidden": true
   },
   "outputs": [],
   "source": [
    "twod = np.array( [[0, 2, 4], [6,8,10]])\n",
    "print('twod is', twod)\n",
    "print('twod*2 is', twod*2)"
   ]
  },
  {
   "cell_type": "markdown",
   "metadata": {
    "heading_collapsed": true
   },
   "source": [
    "## Operations and Slicing"
   ]
  },
  {
   "cell_type": "markdown",
   "metadata": {
    "hidden": true
   },
   "source": [
    "You can combine operations on elements to extract and manipulate data. Logical operations produce a True or False result and we can use a vector of Boolean values to extract values from an existing vector."
   ]
  },
  {
   "cell_type": "code",
   "execution_count": null,
   "metadata": {
    "hidden": true
   },
   "outputs": [],
   "source": [
    "print('Elements less than 5 are', data < 5)"
   ]
  },
  {
   "cell_type": "code",
   "execution_count": null,
   "metadata": {
    "hidden": true
   },
   "outputs": [],
   "source": [
    "print('Those elements are: ', data[ data < 5 ])"
   ]
  },
  {
   "cell_type": "markdown",
   "metadata": {
    "hidden": true
   },
   "source": [
    "We will use this all the time to winnow or reduce data sets. You don't need to just use the comparison in the same vector. For example, assume we have some ages and salaries, and then want to extract the salaries corresponding to people older than 40."
   ]
  },
  {
   "cell_type": "code",
   "execution_count": null,
   "metadata": {
    "hidden": true
   },
   "outputs": [],
   "source": [
    "ages = np.array([20, 39, 45, 18, 56, 90])\n",
    "salary = np.array([10000, 40000, 50000, 8000, 55000, 5000])\n",
    "print('salaries for folks older than 40:', salary[ ages >= 40 ])"
   ]
  },
  {
   "cell_type": "code",
   "execution_count": null,
   "metadata": {
    "collapsed": true,
    "hidden": true
   },
   "outputs": [],
   "source": []
  }
 ],
 "metadata": {
  "kernelspec": {
   "display_name": "Python 3",
   "language": "python",
   "name": "python3"
  },
  "language_info": {
   "codemirror_mode": {
    "name": "ipython",
    "version": 3
   },
   "file_extension": ".py",
   "mimetype": "text/x-python",
   "name": "python",
   "nbconvert_exporter": "python",
   "pygments_lexer": "ipython3",
   "version": "3.6.2"
  }
 },
 "nbformat": 4,
 "nbformat_minor": 2
}
