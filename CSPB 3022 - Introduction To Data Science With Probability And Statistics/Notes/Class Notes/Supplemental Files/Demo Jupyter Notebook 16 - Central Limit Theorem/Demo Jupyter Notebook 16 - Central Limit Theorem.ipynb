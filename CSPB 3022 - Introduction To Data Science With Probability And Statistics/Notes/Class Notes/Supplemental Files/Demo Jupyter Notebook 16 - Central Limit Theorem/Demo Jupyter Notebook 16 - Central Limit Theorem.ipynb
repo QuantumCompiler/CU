{
 "cells": [
  {
   "cell_type": "markdown",
   "id": "bbbf1431",
   "metadata": {},
   "source": [
    "# Notebook 8: Testing Hypotheses & Central Limit Theorem\n"
   ]
  },
  {
   "cell_type": "code",
   "execution_count": null,
   "id": "20af1960",
   "metadata": {
    "tags": []
   },
   "outputs": [],
   "source": [
    "import pandas as pd\n",
    "import numpy as np\n",
    "from matplotlib.ticker import PercentFormatter\n",
    "from scipy import stats\n",
    "# These lines do some fancy plotting magic.\n",
    "import matplotlib\n",
    "%matplotlib inline\n",
    "import matplotlib.pyplot as plt\n",
    "plt.style.use('fivethirtyeight')\n",
    "import warnings\n",
    "warnings.simplefilter('ignore', FutureWarning)"
   ]
  },
  {
   "cell_type": "markdown",
   "id": "801fb164-e00c-4c34-a6ca-a8f2a1407426",
   "metadata": {},
   "source": [
    "## 1. Vaccinations Across The Nation\n",
    "\n",
    "A vaccination clinic has two types of vaccines against a disease. Each person who comes in to be vaccinated gets either Vaccine 1 or Vaccine 2. One week, everyone who came in on Monday, Wednesday, and Friday was given Vaccine 1. Everyone who came in on Tuesday and Thursday was given Vaccine 2. The clinic is closed on weekends.\n",
    "\n",
    "Doctor DeNero at the clinic said, \"Oh wow, it's just like tossing a coin that lands heads with chance $\\frac{3}{5}$. Heads you get Vaccine 1 and Tails you get Vaccine 2.\"\n",
    "\n",
    "But Doctor Sahai said, \"No, it's not. We're not doing anything like tossing a coin.\"\n",
    "\n",
    "That week, the clinic gave Vaccine 1 to 211 people and Vaccine 2 to 107 people. Conduct a test of hypotheses to see which doctor's position is better supported by the data."
   ]
  },
  {
   "cell_type": "markdown",
   "id": "4837603a-18d8-408f-93c1-6e4b1eec0a35",
   "metadata": {},
   "source": [
    "**Question 1.1.** Given the information above, what was the sample size for the data, and what was the percentage of people who got **Vaccine 1?** **(4 points)**\n",
    "\n",
    "*Note*: Your percent should be a number between 0 and 100.\n"
   ]
  },
  {
   "cell_type": "code",
   "execution_count": null,
   "id": "1a2f2456",
   "metadata": {
    "tags": []
   },
   "outputs": [],
   "source": [
    "sample_size = ...\n",
    "percent_V1 = ...\n",
    "\n",
    "print(f\"Sample Size: {sample_size}\")\n",
    "print(f\"Vaccine 1 Percent: {percent_V1}\")"
   ]
  },
  {
   "cell_type": "markdown",
   "id": "f821694b-a065-4e06-bc94-1381c9a3700f",
   "metadata": {},
   "source": [
    "**Question 1.2.** State the null hypothesis. It should reflect the position of either Dr. DeNero or Dr. Sahai. **(4 points)**\n",
    "\n",
    "*Note:* Check out [11.3](https://inferentialthinking.com/chapters/11/3/Decisions_and_Uncertainty.html#step-1-the-hypotheses) for a refresher on hypotheses.\n"
   ]
  },
  {
   "cell_type": "markdown",
   "id": "1589d70f-35e7-4212-894b-0b4108565eca",
   "metadata": {},
   "source": [
    "**SOLUTION:** \n"
   ]
  },
  {
   "cell_type": "markdown",
   "id": "b036b5e0-8b60-4a04-999c-4b8e374e9672",
   "metadata": {},
   "source": [
    "**Question 1.3.** State the alternative hypothesis. It should reflect the position of the doctor you did not choose to represent in Question 1.2. **(4 points)**\n",
    "\n",
    "*Note:* Check out [11.3](https://inferentialthinking.com/chapters/11/3/Decisions_and_Uncertainty.html#step-1-the-hypotheses) for a refresher on hypotheses.\n"
   ]
  },
  {
   "cell_type": "markdown",
   "id": "d0ea3749-895c-46d5-a1b1-50e5114e9634",
   "metadata": {},
   "source": [
    "**SOLUTION:** \n",
    "    "
   ]
  },
  {
   "cell_type": "markdown",
   "id": "0d60a812-e462-480c-b50f-c65e1f6b119f",
   "metadata": {},
   "source": [
    "**Question 1.4.** One of the test statistics below is appropriate for testing these hypotheses. Assign the variable `valid_test_stat` to the number corresponding to the correct test statistic. **(4 points)**\n",
    "\n",
    "1. percent of heads - 60\n",
    "2. percent of heads - 50\n",
    "3. |percent of heads - 60|\n",
    "4. |percent of heads - 50|\n"
   ]
  },
  {
   "cell_type": "code",
   "execution_count": null,
   "id": "d4458942",
   "metadata": {
    "tags": []
   },
   "outputs": [],
   "source": [
    "valid_test_stat = ...\n",
    "valid_test_stat"
   ]
  },
  {
   "cell_type": "markdown",
   "id": "79f0a6a3-6c33-4d28-8eef-50a22325b1a6",
   "metadata": {},
   "source": [
    "**Question 1.5.** Using your answer from Questions 1.1 and 1.4, find the observed value of the test statistic and assign it to the variable `observed_statistic`. **(4 points)**\n"
   ]
  },
  {
   "cell_type": "code",
   "execution_count": null,
   "id": "ef0e7780",
   "metadata": {
    "tags": []
   },
   "outputs": [],
   "source": [
    "observed_statistic = ...\n",
    "observed_statistic"
   ]
  },
  {
   "cell_type": "markdown",
   "id": "089266f4-2b0b-4710-afee-a2e96cc4e669",
   "metadata": {},
   "source": [
    "**Question 1.6.** In order to perform this hypothesis test, you must simulate the test statistic. From the four options below, pick the assumption that is needed for this simulation. Assign `assumption_needed` to an integer corresponding to the assumption. **(4 points)**\n",
    "\n",
    "1. The statistic must be simulated under the null hypothesis.\n",
    "2. The statistic must be simulated under the alternative hypothesis.\n",
    "3. The statistic must be simulated under both hypotheses.\n",
    "4. No assumptions are needed. We can just simulate the statistic.\n"
   ]
  },
  {
   "cell_type": "code",
   "execution_count": null,
   "id": "de9346d4",
   "metadata": {
    "tags": []
   },
   "outputs": [],
   "source": [
    "assumption_needed = ...\n",
    "assumption_needed"
   ]
  },
  {
   "cell_type": "markdown",
   "id": "5216a1ee-2c58-4e05-bad9-ee655ebe874a",
   "metadata": {},
   "source": [
    "**Question 1.7.** Simulate 20,000 values of the test statistic under the assumption you picked in Question 1.6. **(4 points)** \n",
    "\n",
    "As usual, start by defining a function that simulates one value of the statistic. Your function should use `sample_proportions`. (You may find a variable defined in Question 1.1 useful here!) Then, write a `for` loop to simulate multiple values and collect them in the array `simulated_statistics`.\n",
    "\n",
    "Use as many lines of code as you need. We have included the code that visualizes the distribution of the simulated values. The red dot represents the observed statistic you found in Question 1.5.\n"
   ]
  },
  {
   "cell_type": "code",
   "execution_count": null,
   "id": "cec2ee84",
   "metadata": {
    "tags": []
   },
   "outputs": [],
   "source": [
    "def one_simulated_statistic():\n",
    "    ...\n",
    "\n",
    "num_simulations = 20000\n",
    "\n",
    "simulated_statistics = ...\n",
    "for i in np.arange(num_simulations):\n",
    "    ...\n",
    "\n",
    "# Run the this cell a few times to see how the simulated statistic changes\n",
    "one_simulated_statistic()"
   ]
  },
  {
   "cell_type": "code",
   "execution_count": null,
   "id": "43f85f9d",
   "metadata": {
    "tags": []
   },
   "outputs": [],
   "source": [
    "# Run this cell to produce a histogram of the simulated statistics\n",
    "plt.hist(simulated_statistics, density = True, ec= \"white\")\n",
    "plt.xlabel('Simulated Statistic')\n",
    "plt.ylabel('Percent per Unit')\n",
    "plt.title('Histogram of Simulated Statistics')\n",
    "plt.gca().yaxis.set_major_formatter(PercentFormatter(1))\n",
    "plt.scatter(observed_statistic, -0.002, color='red', s=40);\n",
    "plt.show()"
   ]
  },
  {
   "cell_type": "markdown",
   "id": "78cb22aa-1fc1-4773-9dcb-6a0e2ca24d7a",
   "metadata": {},
   "source": [
    "**Question 1.8.** Using `simulated_statistics`, `observed_statistic`, and `num_simulations`, find the empirical p-value based on the simulation. **(4 points)**\n"
   ]
  },
  {
   "cell_type": "code",
   "execution_count": null,
   "id": "f7c7ef67",
   "metadata": {
    "tags": []
   },
   "outputs": [],
   "source": [
    "p_value = ...\n",
    "p_value"
   ]
  },
  {
   "cell_type": "markdown",
   "id": "5805782b-fa06-4516-bbc4-a3cb680d9518",
   "metadata": {},
   "source": [
    "**Question 1.9.** Assign `correct_doctor` to the number corresponding to the correct statement below. Use the 5% cutoff for the p-value. **(4 points)**\n",
    "\n",
    "1. The data support Dr. DeNero's position more than they support Dr. Sahai's.\n",
    "2. The data support Dr. Sahai's position more than they support Dr. DeNero's.\n",
    "\n",
    "As a reminder, here are the two claims made by Dr. DeNero and Dr. Sahai:\n",
    "> **Doctor DeNero:** \"Oh wow, it's just like tossing a coin that lands heads with chance $\\frac{3}{5}$. Heads you get Vaccine 1 and Tails you get Vaccine 2.\"\n",
    "\n",
    ">**Doctor Sahai:** \"No, it's not. We're not doing anything like tossing a coin.\"\n"
   ]
  },
  {
   "cell_type": "code",
   "execution_count": null,
   "id": "cba3a1d4",
   "metadata": {
    "tags": []
   },
   "outputs": [],
   "source": [
    "correct_doctor = ...\n",
    "correct_doctor"
   ]
  },
  {
   "cell_type": "markdown",
   "id": "c075a48f",
   "metadata": {},
   "source": [
    "### Exercise 2 - Estimating Means of the Binomial Distributions\n",
    "*** \n",
    "\n",
    "The size of the sample that you have to draw before the estimator becomes approximately normally distributed $\\color{red}{\\text{depends on how non-normal the population distribution is.}}$  In this exercise we'll look at the sample means of the Binomial distribution when $p=0.5$ $\\color{red}{\\text{(pretty normal)}}$ and $p=0.95$ $\\color{red}{\\text{(pretty non-normal).}}$ \n",
    "\n",
    "**Part A**: Draw at least $10000$ samples from the distribution $Bin(6,0.5)$ and $Bin(6,0.95)$ and make histograms with compatible axes-limits. "
   ]
  },
  {
   "cell_type": "code",
   "execution_count": null,
   "id": "119d35b3",
   "metadata": {},
   "outputs": [],
   "source": [
    "fig, axes = plt.subplots(nrows=2, ncols=1, figsize=(8,8))\n",
    "\n",
    "..."
   ]
  },
  {
   "cell_type": "markdown",
   "id": "f6b09ce1",
   "metadata": {},
   "source": [
    "**Part B**: We know from class that the $\\color{red}{\\text{expected value of}}$ $\\color{red}{Bin(n,p)}$ $\\color{red}{\\text{is}}$ $\\color{red}{E[X] = np}$.  Complete the function est_mean_bin below to draw estimates of the mean of $Bin(n,p)$ of a given sample size. Test your function by drawing several means with a sample size of your choice.  $\\color{red}{\\text{Do you get results that are fairly close}}$ to $E[X]$ for your given choice of parameter? "
   ]
  },
  {
   "cell_type": "code",
   "execution_count": null,
   "id": "df832f63",
   "metadata": {},
   "outputs": [],
   "source": [
    "def est_mean_bin(n=6, p=0.5, sample_size=5):\n",
    "    ..."
   ]
  },
  {
   "cell_type": "code",
   "execution_count": null,
   "id": "a8382739",
   "metadata": {},
   "outputs": [],
   "source": [
    "print([est_mean_bin(n=6, p=0.5, sample_size=10) for ii in range(7)])\n",
    "  # Now we call the function 7 times.\n",
    "  # Therefore, we get 7 sample means from samples of size n=5"
   ]
  },
  {
   "cell_type": "markdown",
   "id": "ef3bf854",
   "metadata": {},
   "source": [
    "**Part C**: Complete the function sample_bin_dist that computes $\\color{blue}{\\text{many}}$ independent estimates $\\color{blue}{\\text{(more than 7, as in the previous block)}}$ of the mean of $Bin(n,p)$ and plots their $\\color{blue}{\\text{histogram}}$.  $\\color{red}{\\text{Vary the size of the samples (previously they were of size 5)}}$ in each estimate.  $\\color{red}{\\text{How big does the sample size have to be}}$ for $Bin(6,0.5)$ before the sample distribution looks approximately normal? How big does the sample size have to be for $Bin(6,0.95)$ before the sample distribution looks approximately normal? "
   ]
  },
  {
   "cell_type": "code",
   "execution_count": null,
   "id": "e2613423",
   "metadata": {},
   "outputs": [],
   "source": [
    "def sample_bin_dist(n=6, p=0.5, sample_size=5, num_means=int(5e4)):\n",
    "    ..."
   ]
  },
  {
   "cell_type": "markdown",
   "id": "0c91725e",
   "metadata": {},
   "source": [
    "### Exercise 3 - The CLT and Monte Carlo Simulation\n",
    "*** \n",
    "\n",
    "In this exercise we'll see how we can use the CLT to estimate how good our approximation from a simulation actually is. \n",
    "\n",
    "**Part A**: Let $X$ be a random variable taking on the face values of a $d$-sided die after a single roll.  If the die is fair, then $X$ follows a discrete uniform distribution of the form $\\textrm{unif}\\{1,d\\}$. Look up the mean and variance of $\\textrm{unif}\\{1,d\\}$ on [wiki](https://en.wikipedia.org/wiki/Discrete_uniform_distribution) and figure out the specific values of the mean and variance when $d=6$.  \n"
   ]
  },
  {
   "cell_type": "markdown",
   "id": "51be0e57",
   "metadata": {},
   "source": [
    "**Solution**: "
   ]
  },
  {
   "cell_type": "markdown",
   "id": "cb43c1b3",
   "metadata": {},
   "source": [
    "**Part B**: Write a function sim_die that takes as arguments integers $d$ representing the number of sides on the die and $n$ representing the number of iterations to run your simulation.  The function should return an estimate of the expected value of the die roll, as well as an array of the results of each of the $n$ rolls in the simulation. "
   ]
  },
  {
   "cell_type": "code",
   "execution_count": null,
   "id": "a8ea423b",
   "metadata": {},
   "outputs": [],
   "source": [
    "# YOUR CODE HERE"
   ]
  },
  {
   "cell_type": "markdown",
   "id": "1bd6293d",
   "metadata": {},
   "source": [
    "**Part C**: Write a function running_est that takes in your rolls history from **Part B** and computes the running estimate of the expected value after each new sample in the simulation.  That is, your function should return an array $r$ such that \n",
    "\n",
    "$$\n",
    "r[i] = \\frac{\\textrm{Estimate after i samples}}{i} \\quad \\textrm{for }i=1,2,\\ldots,n\n",
    "$$"
   ]
  },
  {
   "cell_type": "markdown",
   "id": "e534b1c8",
   "metadata": {},
   "source": [
    "**Solution**:"
   ]
  },
  {
   "cell_type": "code",
   "execution_count": null,
   "id": "f4d43693",
   "metadata": {},
   "outputs": [],
   "source": [
    "def running_est(rolls):\n",
    "    ..."
   ]
  },
  {
   "cell_type": "markdown",
   "id": "d801e874",
   "metadata": {},
   "source": [
    "**Part D**: Let $\\bar{X}_n$ be the random variable that estimates $E[X]$ using the first $n$ rolls of the simulation.  Based on the Central Limit Theorem, what distribution does the $\\bar{X}_n$ follow when $d=6$. \n"
   ]
  },
  {
   "cell_type": "markdown",
   "id": "2461bf47",
   "metadata": {},
   "source": [
    "**Solution**: "
   ]
  },
  {
   "cell_type": "markdown",
   "id": "4575042e",
   "metadata": {},
   "source": [
    "**Part E**: Give an upper and lower bound for a region that $\\bar{X}_n$ will fall in with 95% probability when $d=6$ as a function of $n$. "
   ]
  },
  {
   "cell_type": "markdown",
   "id": "26670c72",
   "metadata": {},
   "source": [
    "**Solution**: Let's formulate the problem as finding a value of $\\mu$ plus/minus a multiple of the standard deviation that will give us a 95% bound.  Note that $\\sqrt{2.92}= 1.71$.  We then have \n",
    "\n",
    "\n",
    "$$\n",
    "P\\left(3.5 - y\\cdot\\frac{1.71}{\\sqrt{n}} \\leq \\bar{X}_n \\leq 3.5 + y\\cdot\\frac{1.71}{\\sqrt{n}} \\right) = 0.95\n",
    "$$\n",
    "\n",
    "Converting to a standard unit normal, we have \n",
    "\n",
    "$$\n",
    "3.5 \\pm y\\cdot\\frac{1.71}{\\sqrt{n}} \\rightarrow \\left[3.5 \\pm y\\cdot\\frac{1.71}{\\sqrt{n}} - 3.5\\right] \\bigg/\\frac{1.71}{\\sqrt{n}} = \\pm y \n",
    "$$\n",
    "\n",
    "Thus, if $Z$ is a standard normal random variable we want to choose $y$, so that \n",
    "\n",
    "$$\n",
    "P(-y \\leq Z \\leq y) = 0.95\n",
    "$$\n",
    "\n",
    "Note that this occurs when $y$ is the $97.5$th percentile of $N(0,1)$.  We can check this value using Python "
   ]
  },
  {
   "cell_type": "code",
   "execution_count": null,
   "id": "f774d42f",
   "metadata": {},
   "outputs": [],
   "source": [
    "print(\"y = {:.3f}\".format(stats.norm.ppf(.975)))"
   ]
  },
  {
   "cell_type": "markdown",
   "id": "ad43c6f5",
   "metadata": {},
   "source": [
    "Thus, with 95% probability, we expect our running estimate of the mean to fall in the interval \n",
    "\n",
    "$$\n",
    "3.5 - 1.96\\cdot\\frac{1.71}{\\sqrt{n}} \\leq \\bar{X}_n \\leq 3.5 + 1.96\\cdot\\frac{1.71}{\\sqrt{n}}\n",
    "$$\n",
    "\n",
    "Note that as $n$ increases (i.e. we run more iterations of the simulation) the interval around the true mean shrinks.  The coefficients in the $\\pm$ terms then give us an idea how large $n$ should be if we want our estimate to be particularly close to the true mean of $\\mu = 3.5$. "
   ]
  },
  {
   "cell_type": "markdown",
   "id": "929fcaf1",
   "metadata": {},
   "source": [
    "**Part F**: The following function takes the number of sides of the dice and your array of running estimates of the mean and plots the trajectory of the running estimate.  If you set the bounds flag to True it plots a shaded region enclosing the mean.  Currently the shaded region is a constant interval.  Your job in this part of the exercise is to modify the array err95 so that the shaded region depicts the 95% confidence interval around the mean of the estimator. \n",
    "\n",
    "**Note**: For bonus (non-existent) points, make your implementation general with respect to the number of sides on the dice."
   ]
  },
  {
   "cell_type": "code",
   "execution_count": null,
   "id": "8f400d6f",
   "metadata": {},
   "outputs": [],
   "source": [
    "def running_plot(d, r, bounds=False):\n",
    "    \n",
    "    fig, ax = plt.subplots(nrows=1, ncols=1, figsize=(12,5))\n",
    "    ax.plot(range(1,len(r)+1),r, color=\"steelblue\")\n",
    "    ax.grid(alpha=0.25)\n",
    "    ax.set_axisbelow(True)\n",
    "    ax.set_ylim([np.mean(range(1,d+1))-1.5, np.mean(range(1,d+1))+1.5])\n",
    "    ax.set_xlim([1,len(r)])\n",
    "    ax.set_xlabel(\"iteration\", fontsize=16)\n",
    "    ax.set_ylabel(\"estimate\", fontsize=16)\n",
    "    \n",
    "    mu = np.mean(range(1,d+1))\n",
    "    var = ((d-1+1)**2-1)/12\n",
    "    sd = np.sqrt(var)\n",
    "    \n",
    "    if bounds: \n",
    "        err95 = ...\n",
    "        ax.fill_between(range(1,len(r)+1), mu+err95, mu-err95, color=\"steelblue\", alpha=0.2)"
   ]
  },
  {
   "cell_type": "code",
   "execution_count": null,
   "id": "3a9f2f47",
   "metadata": {},
   "outputs": [],
   "source": [
    "d=6\n",
    "x, rolls = sim_die(d=d, n=int(1e3))    \n",
    "r = running_est(rolls)\n",
    "running_plot(d,r,bounds=True)"
   ]
  },
  {
   "cell_type": "markdown",
   "id": "686e6136",
   "metadata": {},
   "source": [
    "**Part G**: If you run your simulation enough times, you'll eventually get a case where the running estimate wanders outside of the shaded region.  How can you explain this? "
   ]
  },
  {
   "cell_type": "markdown",
   "id": "5d8145b3",
   "metadata": {},
   "source": [
    "**Solution**: "
   ]
  },
  {
   "cell_type": "markdown",
   "id": "c28e87a1",
   "metadata": {},
   "source": [
    "**Part F**: Run the experiment for dice with increasing number of sides.  What differences do you notice in the trajectory and confidence interval?  How can you explain the differences? "
   ]
  },
  {
   "cell_type": "code",
   "execution_count": null,
   "id": "f5e65bbd-80fa-43b2-b793-497939328cfd",
   "metadata": {},
   "outputs": [],
   "source": [
    "# YOUR CODE HERE"
   ]
  },
  {
   "cell_type": "code",
   "execution_count": null,
   "id": "e5ca6096-cf5b-4478-8052-8019353082e6",
   "metadata": {},
   "outputs": [],
   "source": [
    "# YOUR CODE HERE"
   ]
  },
  {
   "cell_type": "code",
   "execution_count": null,
   "id": "564d0dc8-b757-482a-b54a-d0f071be2c4b",
   "metadata": {},
   "outputs": [],
   "source": [
    "# YOUR CODE HERE"
   ]
  },
  {
   "cell_type": "markdown",
   "id": "0786623f",
   "metadata": {},
   "source": [
    "**Solution**: "
   ]
  },
  {
   "cell_type": "code",
   "execution_count": null,
   "id": "f9ffc6a6",
   "metadata": {},
   "outputs": [],
   "source": []
  }
 ],
 "metadata": {
  "kernelspec": {
   "display_name": "Python 3 (ipykernel)",
   "language": "python",
   "name": "python3"
  },
  "language_info": {
   "codemirror_mode": {
    "name": "ipython",
    "version": 3
   },
   "file_extension": ".py",
   "mimetype": "text/x-python",
   "name": "python",
   "nbconvert_exporter": "python",
   "pygments_lexer": "ipython3",
   "version": "3.9.13"
  }
 },
 "nbformat": 4,
 "nbformat_minor": 5
}
