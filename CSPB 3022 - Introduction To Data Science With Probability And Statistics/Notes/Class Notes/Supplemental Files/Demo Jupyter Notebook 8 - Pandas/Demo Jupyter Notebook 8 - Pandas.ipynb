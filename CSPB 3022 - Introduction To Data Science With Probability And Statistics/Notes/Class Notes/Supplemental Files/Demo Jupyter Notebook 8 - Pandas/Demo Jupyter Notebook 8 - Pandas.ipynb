{
 "cells": [
  {
   "cell_type": "markdown",
   "id": "9e9ada5b-b401-463c-af70-342219db4154",
   "metadata": {},
   "source": [
    "# Lab 3: Pandas Practice\n",
    "\n",
    "This lab is all about practicing using `pandas`, and learning about its various functionalities to accomplish small tasks.\n",
    "\n",
    "We will be using the `elections` dataset from lecture."
   ]
  },
  {
   "cell_type": "markdown",
   "id": "817b6999-9259-415b-8db1-a8112ad53304",
   "metadata": {},
   "source": [
    "## Warm-up"
   ]
  },
  {
   "cell_type": "code",
   "execution_count": 1,
   "id": "c8814983-006e-4be7-a605-9b184bec25bc",
   "metadata": {},
   "outputs": [],
   "source": [
    "# import packages\n",
    "import pandas as pd\n",
    "import numpy as np"
   ]
  },
  {
   "cell_type": "markdown",
   "id": "63908df0-fbde-4b15-898a-24022e796bd6",
   "metadata": {},
   "source": [
    "## Task 1\n",
    "\n",
    "Assume `elections.csv` is the file containing the elections data, and it is in your current working directory already. Write a line of code to read the data into a Pandas DataFrame, storing it in a variable called `elections`. It's good practice to quickly check the contents of such variables to ensure you loaded up the right dataset, so follow up with a line of code whose output displays the first 10 rows of the dataset.\n",
    "\n",
    "*Answer*:"
   ]
  },
  {
   "cell_type": "code",
   "execution_count": null,
   "id": "4a259ec9-373f-43fe-99c6-9c7065cce125",
   "metadata": {},
   "outputs": [],
   "source": []
  },
  {
   "cell_type": "markdown",
   "id": "1121b16f-ffa5-4ac1-a378-8d63f9fec2c9",
   "metadata": {},
   "source": [
    "## Task 2\n",
    "\n",
    "We want to select the \"Popular vote\" column as a `pd.Series`. Which of the following lines of code will error?\n",
    "\n",
    "1. `elections['Popular vote']`\n",
    "2. `elections.iloc['Popular vote']`\n",
    "3. `elections.loc['Popular vote']`\n",
    "4. `elections.loc[:, 'Popular vote']`\n",
    "5. `elections.iloc[:, 'Popular vote']`\n",
    "\n",
    "*Answer:*"
   ]
  },
  {
   "cell_type": "code",
   "execution_count": 3,
   "id": "cc7f9004-408c-4642-a0e6-6ffe2752b380",
   "metadata": {},
   "outputs": [],
   "source": [
    "#1."
   ]
  },
  {
   "cell_type": "code",
   "execution_count": 4,
   "id": "b8df9fd9-6667-47fa-88f7-fcf3f999cb45",
   "metadata": {},
   "outputs": [],
   "source": [
    "#2."
   ]
  },
  {
   "cell_type": "code",
   "execution_count": 5,
   "id": "b67f1647-2caa-40f9-b8c9-9ad6471ec85f",
   "metadata": {},
   "outputs": [],
   "source": [
    "#3."
   ]
  },
  {
   "cell_type": "code",
   "execution_count": 6,
   "id": "123b6ea8-f1a6-456f-85fc-1ad9939b2450",
   "metadata": {},
   "outputs": [],
   "source": [
    "#4."
   ]
  },
  {
   "cell_type": "code",
   "execution_count": 7,
   "id": "d595d7c4-997a-43d3-9ca1-046d6b56159c",
   "metadata": {},
   "outputs": [],
   "source": [
    "#5."
   ]
  },
  {
   "cell_type": "markdown",
   "id": "487ca1f0-466a-4098-97f5-1facfbc67ab2",
   "metadata": {},
   "source": [
    "## Task 3\n",
    "\n",
    "Write one line of Pandas code to display a Pandas DataFrame that only contains results from the 1900s.\n",
    "\n",
    "*Answer*:"
   ]
  },
  {
   "cell_type": "code",
   "execution_count": null,
   "id": "2cf4403e-8b54-407e-82d9-8b6cef89dd10",
   "metadata": {},
   "outputs": [],
   "source": []
  },
  {
   "cell_type": "markdown",
   "id": "c0777678-a2b2-4997-9464-b00e306ecb68",
   "metadata": {},
   "source": [
    "## Task 4"
   ]
  },
  {
   "cell_type": "markdown",
   "id": "f403868c-7dc7-4694-bbe2-79e4617f26f7",
   "metadata": {},
   "source": [
    "Write one line of Pandas code that will return a Pandas Series where index is the party, and the values are how many times that party won an election. Use `value_counts`.\n",
    "\n",
    "*Answer:*"
   ]
  },
  {
   "cell_type": "code",
   "execution_count": null,
   "id": "e6b407c8-7cc1-4a4f-9dbd-0b115f3eeceb",
   "metadata": {},
   "outputs": [],
   "source": []
  },
  {
   "cell_type": "markdown",
   "id": "4834c499-611a-4401-bddb-bccee0f053b5",
   "metadata": {},
   "source": [
    "## Task 5\n",
    "\n",
    "Which of the following lines of code returns a Pandas Series with the mean vote percentage for each political party, for all years given, sorted in decreasing order?\n",
    "\n",
    "1. elections.groupby('Party')['%'].agg('mean').sort_values()\n",
    "2. elections.groupby('Party')['%'].agg('mean').sort_values(ascending = False)\n",
    "3. elections.groupby('Party')['%'].mean().sort_values()\n",
    "4. elections.groupby('Party')['%'].mean().sort_values(ascending = False)\n",
    "\n",
    "*Answer*"
   ]
  },
  {
   "cell_type": "code",
   "execution_count": 9,
   "id": "f8f407c1-b316-4044-a432-e36cfae52dfb",
   "metadata": {},
   "outputs": [],
   "source": [
    "#1."
   ]
  },
  {
   "cell_type": "code",
   "execution_count": 10,
   "id": "8805a0a0-3c97-42db-9eb7-728e760e7eea",
   "metadata": {},
   "outputs": [],
   "source": [
    "#2."
   ]
  },
  {
   "cell_type": "code",
   "execution_count": 11,
   "id": "70d6ba8e-7df0-43d4-9f40-a6c7e2fb8c09",
   "metadata": {},
   "outputs": [],
   "source": [
    "#3."
   ]
  },
  {
   "cell_type": "code",
   "execution_count": 12,
   "id": "1b742b11-462b-48d0-91e1-b567448552d9",
   "metadata": {},
   "outputs": [],
   "source": [
    "#4."
   ]
  },
  {
   "cell_type": "markdown",
   "id": "cb6981f4-696f-43cc-8434-22d65fbdeff9",
   "metadata": {},
   "source": [
    "## Task 6 "
   ]
  },
  {
   "cell_type": "markdown",
   "id": "adacbbf6-f023-40b2-886e-bbfda51e077f",
   "metadata": {},
   "source": [
    "Write a line of Pandas code that returns a Pandas series with the year as the index, and the total number of votes that were cast across all parties for that year.\n",
    "\n",
    "*Answer*"
   ]
  },
  {
   "cell_type": "code",
   "execution_count": null,
   "id": "e428f0f2-90e8-45fc-b89c-488f5b1e6e9b",
   "metadata": {},
   "outputs": [],
   "source": []
  },
  {
   "cell_type": "markdown",
   "id": "d5efb972-02e6-4b4d-ac61-b8570cb92474",
   "metadata": {},
   "source": [
    "## Task 7\n",
    "\n",
    "Finally, write a line of Pandas code that returns a Pandas Series whose index are the years and whose values are the number of candidates that participated in the election.\n",
    "\n",
    "*Answer:*"
   ]
  },
  {
   "cell_type": "code",
   "execution_count": null,
   "id": "b72a7508-14f9-4634-b5ec-1fa0b3b37a22",
   "metadata": {},
   "outputs": [],
   "source": []
  },
  {
   "cell_type": "markdown",
   "id": "8383f09b-25ea-4452-a291-72b1a41eee34",
   "metadata": {},
   "source": [
    "# Pandas Challenges\n",
    "\n",
    "Now that you've warmed up, it's time to challenge yourself by making interesting queries on the California `babynames` dataset.\n",
    "\n",
    "The following are 5 challenges that require relatively complex queries, especially compared to what you just did above. "
   ]
  },
  {
   "cell_type": "code",
   "execution_count": 39,
   "id": "a2404a69",
   "metadata": {},
   "outputs": [],
   "source": [
    "# loading up the California baby names data\n",
    "\n",
    "import urllib.request\n",
    "import os.path\n",
    "import zipfile\n",
    "\n",
    "data_url = \"https://www.ssa.gov/oact/babynames/state/namesbystate.zip\"\n",
    "local_filename = \"babynamesbystate.zip\"\n",
    "if not os.path.exists(local_filename): # if the data exists don't download again\n",
    "    with urllib.request.urlopen(data_url) as resp, open(local_filename, 'wb') as f:\n",
    "        f.write(resp.read())\n",
    "\n",
    "zf = zipfile.ZipFile(local_filename, 'r')\n",
    "\n",
    "ca_name = 'STATE.CA.TXT' # note the fix - add the 'STATE.' prefix\n",
    "field_names = ['State', 'Sex', 'Year', 'Name', 'Count']\n",
    "with zf.open(ca_name) as fh:\n",
    "    babynames = pd.read_csv(fh, header=None, names=field_names)"
   ]
  },
  {
   "cell_type": "markdown",
   "id": "cd9602f3-7771-4feb-94bc-ac965bfa7f9d",
   "metadata": {},
   "source": [
    "## Challenge 1\n",
    "\n",
    "There's over 20,000 unique names in this dataset. However, some have been used for longer periods of time than others. Create a Pandas DataFrame where the index is the name, and there are two columns: one corresponding to the first year in which that name appeared in the dataset, and the other corresponding to the last year in which it appeared. Add a third column corresponding to the longevity of the name (how many years it's been used), and arrange the table by decreasing longevity, and display only the first 10 names."
   ]
  },
  {
   "cell_type": "code",
   "execution_count": null,
   "id": "7baa5721",
   "metadata": {},
   "outputs": [],
   "source": []
  },
  {
   "cell_type": "markdown",
   "id": "09c1055e-cdc3-4314-9e06-75af6ab2d316",
   "metadata": {},
   "source": [
    "## Challenge 2"
   ]
  },
  {
   "cell_type": "markdown",
   "id": "ae7eb9a1-f9ab-4565-b519-ee43ca680889",
   "metadata": {},
   "source": [
    "Some think that baby names are getting longer, on average, as time wears on. We're not sure if that's true, but let's query the data to check this out. Write code to return a Pandas Series whose index is the year (from 1910 to 2021), and whose values are the average name length **among all babies in the dataset for that year**. *(More concretely, for each year, we are asking for the sum of the name lengths of every individual baby included in the dataset, divided by the number of babies included in that year.)*\n",
    "\n",
    "Print out the first 10 years and the last 10 years and see if you notice any significant differences."
   ]
  },
  {
   "cell_type": "code",
   "execution_count": null,
   "id": "792144ef",
   "metadata": {},
   "outputs": [],
   "source": []
  },
  {
   "cell_type": "markdown",
   "id": "0a0025d3-34ee-4d93-8465-ed8cbde5bf35",
   "metadata": {},
   "source": [
    "## Challenge 3\n",
    "\n",
    "Of the unique names given in different years, what proportion of them start with a vowel? Write Pandas code to return a Pandas Series with the index as the year and the value as the proportion of different names given that year that start with a vowel.\n",
    "\n",
    "*Hint: the str.startswith() method for a Pandas series may be useful to you. You may also find it useful to define a function to plug into to the agg method for groupby objects, as in lecture.*"
   ]
  },
  {
   "cell_type": "code",
   "execution_count": null,
   "id": "f43f59e6",
   "metadata": {},
   "outputs": [],
   "source": []
  },
  {
   "cell_type": "markdown",
   "id": "86b24369-0087-4080-87d8-9579da2c7673",
   "metadata": {},
   "source": [
    "## Challenge 4\n",
    "\n",
    "Are names becoming more unique over time? Return a Pandas Series whose index is the Year and whose values are the number of names given that year whose count is less than 15. Print the first 10 and last 10 elements of the series."
   ]
  },
  {
   "cell_type": "code",
   "execution_count": null,
   "id": "b21138fb",
   "metadata": {},
   "outputs": [],
   "source": []
  },
  {
   "cell_type": "markdown",
   "id": "eeb3b91e-7ef3-4a2a-b53c-5e4d1132bec0",
   "metadata": {},
   "source": [
    "## Challenge 5\n",
    "\n"
   ]
  },
  {
   "cell_type": "markdown",
   "id": "bcc252da-5b72-459d-8b51-b90d6d933876",
   "metadata": {},
   "source": [
    "Among names that were very popular (let's say, have a count greater than 1000), how many different names are there across sex and year? Write Pandas code that returns a Pandas DataFrame, whose columns correspond to sex and whose row indices correspond to year. Each entry should be the number of unique, \"popular\" names for that year for that sex (given our definition of popular from above).\n",
    "\n",
    "If there's a NaN value (missing value) in the table, why do you think it's there? What do you think is a reasonable value to impute into these missing values? Fill in all missing values with the value your group finds most appropriate (look for the `fillna()` method for pandas dataframes online for info on how to do this)"
   ]
  },
  {
   "cell_type": "code",
   "execution_count": null,
   "id": "6ad8d79b",
   "metadata": {},
   "outputs": [],
   "source": []
  }
 ],
 "metadata": {
  "kernelspec": {
   "display_name": "Python 3 (ipykernel)",
   "language": "python",
   "name": "python3"
  },
  "language_info": {
   "codemirror_mode": {
    "name": "ipython",
    "version": 3
   },
   "file_extension": ".py",
   "mimetype": "text/x-python",
   "name": "python",
   "nbconvert_exporter": "python",
   "pygments_lexer": "ipython3",
   "version": "3.9.13"
  }
 },
 "nbformat": 4,
 "nbformat_minor": 5
}
