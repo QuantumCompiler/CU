{
 "cells": [
  {
   "cell_type": "code",
   "execution_count": 4,
   "metadata": {
    "scrolled": true
   },
   "outputs": [],
   "source": [
    "import matplotlib\n",
    "%matplotlib inline\n",
    "import matplotlib.pyplot as plt\n",
    "import numpy as np\n",
    "import pandas as pd\n",
    "from _collections_abc import Iterator\n",
    "plt.style.use('fivethirtyeight')"
   ]
  },
  {
   "cell_type": "markdown",
   "metadata": {},
   "source": [
    "# Lecture 25 #"
   ]
  },
  {
   "cell_type": "markdown",
   "metadata": {},
   "source": [
    "## Review: Lecture 24\n",
    "From a random sample, construct a 95% confidence interval for the ages of the mothers in the population."
   ]
  },
  {
   "cell_type": "code",
   "execution_count": 6,
   "metadata": {},
   "outputs": [
    {
     "data": {
      "text/html": [
       "<div>\n",
       "<style scoped>\n",
       "    .dataframe tbody tr th:only-of-type {\n",
       "        vertical-align: middle;\n",
       "    }\n",
       "\n",
       "    .dataframe tbody tr th {\n",
       "        vertical-align: top;\n",
       "    }\n",
       "\n",
       "    .dataframe thead th {\n",
       "        text-align: right;\n",
       "    }\n",
       "</style>\n",
       "<table border=\"1\" class=\"dataframe\">\n",
       "  <thead>\n",
       "    <tr style=\"text-align: right;\">\n",
       "      <th></th>\n",
       "      <th>Birth Weight</th>\n",
       "      <th>Gestational Days</th>\n",
       "      <th>Maternal Age</th>\n",
       "      <th>Maternal Height</th>\n",
       "      <th>Maternal Pregnancy Weight</th>\n",
       "      <th>Maternal Smoker</th>\n",
       "    </tr>\n",
       "  </thead>\n",
       "  <tbody>\n",
       "    <tr>\n",
       "      <th>0</th>\n",
       "      <td>120</td>\n",
       "      <td>284</td>\n",
       "      <td>27</td>\n",
       "      <td>62</td>\n",
       "      <td>100</td>\n",
       "      <td>False</td>\n",
       "    </tr>\n",
       "    <tr>\n",
       "      <th>1</th>\n",
       "      <td>113</td>\n",
       "      <td>282</td>\n",
       "      <td>33</td>\n",
       "      <td>64</td>\n",
       "      <td>135</td>\n",
       "      <td>False</td>\n",
       "    </tr>\n",
       "    <tr>\n",
       "      <th>2</th>\n",
       "      <td>128</td>\n",
       "      <td>279</td>\n",
       "      <td>28</td>\n",
       "      <td>64</td>\n",
       "      <td>115</td>\n",
       "      <td>True</td>\n",
       "    </tr>\n",
       "    <tr>\n",
       "      <th>3</th>\n",
       "      <td>108</td>\n",
       "      <td>282</td>\n",
       "      <td>23</td>\n",
       "      <td>67</td>\n",
       "      <td>125</td>\n",
       "      <td>True</td>\n",
       "    </tr>\n",
       "    <tr>\n",
       "      <th>4</th>\n",
       "      <td>136</td>\n",
       "      <td>286</td>\n",
       "      <td>25</td>\n",
       "      <td>62</td>\n",
       "      <td>93</td>\n",
       "      <td>False</td>\n",
       "    </tr>\n",
       "  </tbody>\n",
       "</table>\n",
       "</div>"
      ],
      "text/plain": [
       "   Birth Weight  Gestational Days  Maternal Age  Maternal Height  \\\n",
       "0           120               284            27               62   \n",
       "1           113               282            33               64   \n",
       "2           128               279            28               64   \n",
       "3           108               282            23               67   \n",
       "4           136               286            25               62   \n",
       "\n",
       "   Maternal Pregnancy Weight  Maternal Smoker  \n",
       "0                        100            False  \n",
       "1                        135            False  \n",
       "2                        115             True  \n",
       "3                        125             True  \n",
       "4                         93            False  "
      ]
     },
     "execution_count": 6,
     "metadata": {},
     "output_type": "execute_result"
    }
   ],
   "source": [
    "# Random sample of mother-newborn pairs\n",
    "births = pd.read_csv('baby.csv')\n",
    "births.head()"
   ]
  },
  {
   "cell_type": "markdown",
   "metadata": {},
   "source": [
    "What is the average age of moms who are having children in the entire population?\n",
    "\n",
    "**Parameter:** Average age of moms when they give birth to first child.\n",
    "\n",
    "**Statistic:** Average age of moms in our sample."
   ]
  },
  {
   "cell_type": "code",
   "execution_count": 7,
   "metadata": {},
   "outputs": [
    {
     "data": {
      "text/plain": [
       "27.228279386712096"
      ]
     },
     "execution_count": 7,
     "metadata": {},
     "output_type": "execute_result"
    }
   ],
   "source": [
    "# Average age of mothers in the sample\n",
    "births['Maternal Age'].mean()"
   ]
  },
  {
   "cell_type": "markdown",
   "metadata": {},
   "source": [
    "Remember there was a distribution of ages."
   ]
  },
  {
   "cell_type": "code",
   "execution_count": 8,
   "metadata": {},
   "outputs": [
    {
     "data": {
      "text/plain": [
       "Text(0.5, 1.0, 'Distribution of Age in our SAMPLE')"
      ]
     },
     "execution_count": 8,
     "metadata": {},
     "output_type": "execute_result"
    },
    {
     "data": {
      "image/png": "[encoded data removed]",
      "text/plain": [
       "<Figure size 432x288 with 1 Axes>"
      ]
     },
     "metadata": {},
     "output_type": "display_data"
    }
   ],
   "source": [
    "births.hist('Maternal Age')\n",
    "plt.title(\"Distribution of Age in our SAMPLE\")\n"
   ]
  },
  {
   "cell_type": "markdown",
   "metadata": {},
   "source": [
    "### Compute the Sample Statistic\n",
    "Since we are interested in estimating the average age of mothers in the population we will use the average age statistic:"
   ]
  },
  {
   "cell_type": "code",
   "execution_count": 9,
   "metadata": {},
   "outputs": [],
   "source": [
    "def avg_maternal_age(sample):\n",
    "    return sample[\"Maternal Age\"].mean()"
   ]
  },
  {
   "cell_type": "code",
   "execution_count": 10,
   "metadata": {},
   "outputs": [
    {
     "data": {
      "text/plain": [
       "27.228279386712096"
      ]
     },
     "execution_count": 10,
     "metadata": {},
     "output_type": "execute_result"
    }
   ],
   "source": [
    "sample_statistic = avg_maternal_age(births)\n",
    "sample_statistic"
   ]
  },
  {
   "cell_type": "markdown",
   "metadata": {},
   "source": [
    "### Use the Bootstrap to Estimate the CI \n",
    "\n",
    "The interval of estimates is the \"middle 95%\" of the bootstrap estimates.\n",
    "\n",
    "This is called a *95% confidence interval* for the **mean age in the population**.\n"
   ]
  },
  {
   "cell_type": "code",
   "execution_count": 12,
   "metadata": {},
   "outputs": [],
   "source": [
    "def bootstrapper(sample, statistic, num_repetitions=10000):\n",
    "    \"\"\"\n",
    "    Returns the statistic computed on a num_repetitions  \n",
    "    bootstrap samples from sample.\n",
    "    \"\"\"\n",
    "    bstrap_stats = np.array([])\n",
    "    for i in np.arange(num_repetitions):\n",
    "        # Step 1: Sample the Sample\n",
    "        bootstrap_sample = sample.sample(frac=1, replace=True)\n",
    "        # Step 2: compute statistics on the sample of the sample\n",
    "        bootstrap_stat = statistic(bootstrap_sample)\n",
    "        # Accumulate the statistics\n",
    "        bstrap_stats = np.append(bstrap_stats, bootstrap_stat)\n",
    "\n",
    "    return bstrap_stats    "
   ]
  },
  {
   "cell_type": "code",
   "execution_count": 14,
   "metadata": {},
   "outputs": [],
   "source": [
    "def compute_ci(bs_samples, confidence_level):\n",
    "    \"\"\"\n",
    "    Returns the confidence interval for the provided bootstrap samples\n",
    "    and desired confidence level.\n",
    "    \"\"\"\n",
    "    tail_size = (100 - confidence_level)/2\n",
    "    lower = np.percentile(bs_samples, tail_size,)\n",
    "    upper = np.percentile(bs_samples, 100 - tail_size, )\n",
    "    return [lower, upper]"
   ]
  },
  {
   "cell_type": "code",
   "execution_count": 15,
   "metadata": {},
   "outputs": [
    {
     "data": {
      "text/plain": [
       "[26.89267461669506, 27.55792163543441]"
      ]
     },
     "execution_count": 15,
     "metadata": {},
     "output_type": "execute_result"
    }
   ],
   "source": [
    "bootstrap_means = bootstrapper(births, avg_maternal_age, 10000)\n",
    "avg_maternal_age_ci = compute_ci(bootstrap_means, confidence_level=95)\n",
    "avg_maternal_age_ci"
   ]
  },
  {
   "cell_type": "code",
   "execution_count": 24,
   "metadata": {},
   "outputs": [
    {
     "data": {
      "text/plain": [
       "<matplotlib.legend.Legend at 0x7feb48099640>"
      ]
     },
     "execution_count": 24,
     "metadata": {},
     "output_type": "execute_result"
    },
    {
     "data": {
      "image/png": "[encoded data removed]",
      "text/plain": [
       "<Figure size 432x288 with 1 Axes>"
      ]
     },
     "metadata": {},
     "output_type": "display_data"
    }
   ],
   "source": [
    "plt.hist(bootstrap_means, density=True, ec='white');\n",
    "\n",
    "\n",
    "[left, right] = avg_maternal_age_ci\n",
    "plt.plot([left, right], [0, 0], color='yellow', lw=8,label='95% CI');\n",
    "plt.title(\"Bootstrapped Sample Mean\")\n",
    "plt.legend()"
   ]
  },
  {
   "cell_type": "code",
   "execution_count": 25,
   "metadata": {},
   "outputs": [
    {
     "data": {
      "text/plain": [
       "<matplotlib.legend.Legend at 0x7feb8a7a4460>"
      ]
     },
     "execution_count": 25,
     "metadata": {},
     "output_type": "execute_result"
    },
    {
     "data": {
      "image/png": "[encoded data removed]",
      "text/plain": [
       "<Figure size 432x288 with 1 Axes>"
      ]
     },
     "metadata": {},
     "output_type": "display_data"
    }
   ],
   "source": [
    "# Now we can visualize this interval back on our sample\n",
    "# Notice tiny yellow bar at the bottom:\n",
    "births.hist('Maternal Age')\n",
    "plt.title(\"Distribution of Age in our SAMPLE\")\n",
    "\n",
    "plt.plot([left, right], [0, 0], color='yellow', lw=10,label='95% CI of pop ave age');\n",
    "\n",
    "plt.legend()\n"
   ]
  },
  {
   "cell_type": "markdown",
   "metadata": {},
   "source": [
    "## Method Based on CLT"
   ]
  },
  {
   "cell_type": "code",
   "execution_count": 62,
   "metadata": {
    "scrolled": true
   },
   "outputs": [
    {
     "name": "stdout",
     "output_type": "stream",
     "text": [
      "Sample Size: 1174\n",
      "Sample Average: 27.228279386712096\n",
      "Sample SD: 5.817838716855792\n"
     ]
    }
   ],
   "source": [
    "sampled_ages = births['Maternal Age']\n",
    "sample_size = len(sampled_ages)\n",
    "sample_average = np.average(sampled_ages)\n",
    "sample_SD = np.std(sampled_ages,ddof=1) #The parameter ddof=1 ensures that you're calculating the std for a sample, not a population\n",
    "\n",
    "print(f\"Sample Size: {sample_size}\")\n",
    "print(f\"Sample Average: {sample_average}\")\n",
    "print(f\"Sample SD: {sample_SD}\")"
   ]
  },
  {
   "cell_type": "markdown",
   "metadata": {},
   "source": [
    "## Approximating the confidence interval"
   ]
  },
  {
   "cell_type": "markdown",
   "metadata": {},
   "source": [
    "We need to add $2 \\cdot ( \\frac{\\text{Population SD}}{\\sqrt{\\text{Sample_Size}}})$ on one side and subtract it on the other side to get the confidence interval but we don't have the population SD."
   ]
  },
  {
   "cell_type": "code",
   "execution_count": 29,
   "metadata": {
    "scrolled": true
   },
   "outputs": [
    {
     "data": {
      "text/plain": [
       "0.16979606801968558"
      ]
     },
     "execution_count": 29,
     "metadata": {},
     "output_type": "execute_result"
    }
   ],
   "source": [
    "# Try estimating it from the sample\n",
    "\n",
    "estimated_SE_of_sample_average = sample_SD / (sample_size**0.5)\n",
    "estimated_SE_of_sample_average"
   ]
  },
  {
   "cell_type": "code",
   "execution_count": 30,
   "metadata": {
    "scrolled": true
   },
   "outputs": [
    {
     "data": {
      "text/plain": [
       "(26.888687250672724, 27.567871522751467)"
      ]
     },
     "execution_count": 30,
     "metadata": {},
     "output_type": "execute_result"
    }
   ],
   "source": [
    "# Approximate 95% confidence interval for population mean\n",
    "\n",
    "sample_average - 2*estimated_SE_of_sample_average, sample_average + 2*estimated_SE_of_sample_average"
   ]
  },
  {
   "cell_type": "code",
   "execution_count": 31,
   "metadata": {},
   "outputs": [
    {
     "data": {
      "text/plain": [
       "[26.89267461669506, 27.55792163543441]"
      ]
     },
     "execution_count": 31,
     "metadata": {},
     "output_type": "execute_result"
    }
   ],
   "source": [
    "#Compare this to the bootstrapped results we got above:\n",
    "avg_maternal_age_ci"
   ]
  },
  {
   "cell_type": "markdown",
   "metadata": {},
   "source": [
    "\n",
    "\n",
    "\n",
    "\n",
    "\n",
    "\n",
    "\n",
    "\n",
    "Back to Slides"
   ]
  }
 ],
 "metadata": {
  "kernelspec": {
   "display_name": "Python 3 (ipykernel)",
   "language": "python",
   "name": "python3"
  },
  "language_info": {
   "codemirror_mode": {
    "name": "ipython",
    "version": 3
   },
   "file_extension": ".py",
   "mimetype": "text/x-python",
   "name": "python",
   "nbconvert_exporter": "python",
   "pygments_lexer": "ipython3",
   "version": "3.9.12"
  }
 },
 "nbformat": 4,
 "nbformat_minor": 4
}
