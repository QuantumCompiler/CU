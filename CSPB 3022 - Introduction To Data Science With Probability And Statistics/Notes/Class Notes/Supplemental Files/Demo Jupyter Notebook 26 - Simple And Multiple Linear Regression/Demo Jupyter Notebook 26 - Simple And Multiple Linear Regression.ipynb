{
 "cells": [
  {
   "cell_type": "markdown",
   "id": "fb41fbef-af8f-48e0-8fd1-377c5470baaf",
   "metadata": {},
   "source": [
    "# Notebook 11: Simple Linear Regression & Multiple Linear Regression\n",
    "\n",
    "Welcome to Notebook 11! This week's lab will focus on simple and multiple linear regression.\n",
    "\n",
    "First, set up the notebook by running the cell below."
   ]
  },
  {
   "cell_type": "code",
   "execution_count": null,
   "id": "641a4683-f80e-49b7-9f12-9a0b6fa7ce1d",
   "metadata": {},
   "outputs": [],
   "source": [
    "# Run this cell\n",
    "import pandas as pd\n",
    "import numpy as np\n",
    "import seaborn as sns\n",
    "import matplotlib.pyplot as plt\n",
    "from sklearn.linear_model import LinearRegression\n",
    "%matplotlib inline"
   ]
  },
  {
   "cell_type": "markdown",
   "id": "fbaa8d84-448b-465b-bcbe-cfd0a687e1b8",
   "metadata": {},
   "source": [
    "## 1. SLR: Cryptocurrencies"
   ]
  },
  {
   "cell_type": "markdown",
   "id": "e362d847-cd28-4e80-b4e7-e797f54cb645",
   "metadata": {},
   "source": [
    "Imagine you're an investor in December 2017. Cryptocurrencies, online currencies backed by secure software, are becoming extremely valuable, and you want in on the action!\n",
    "\n",
    "The two most valuable cryptocurrencies are Bitcoin (BTC) and Ethereum (ETH). Each one has a dollar price attached to it at any given moment in time. For example, on December 1st, 2017, one BTC costs $\\$10,859.56$ and one ETH costs $\\$424.64.$\n",
    "\n",
    "For fun, here are the current prices of [Bitcoin](https://www.coinbase.com/price/bitcoin) and [Ethereum](https://www.coinbase.com/price/ethereum)!\n",
    "\n",
    "**You want to predict the price of ETH at some point in time based on the price of BTC.** Below, we load two [tables](https://www.kaggle.com/jessevent/all-crypto-currencies/data) called `btc` and `eth`. Each has 5 columns:\n",
    "* `date`, the date\n",
    "* `open`, the value of the currency at the beginning of the day\n",
    "* `close`, the value of the currency at the end of the day\n",
    "* `market`, the market cap or total dollar value invested in the currency\n",
    "* `day`, the number of days since the start of our data"
   ]
  },
  {
   "cell_type": "code",
   "execution_count": null,
   "id": "f684f4d9-f386-49b6-89a8-7804c66798d9",
   "metadata": {
    "ExecuteTime": {
     "end_time": "2018-04-04T09:57:46.445990Z",
     "start_time": "2018-04-04T09:57:46.433958Z"
    },
    "tags": []
   },
   "outputs": [],
   "source": [
    "btc = pd.read_csv('btc.csv')\n",
    "btc.head()"
   ]
  },
  {
   "cell_type": "code",
   "execution_count": null,
   "id": "e2455126-9684-475c-ab31-01980c2a5fa3",
   "metadata": {
    "ExecuteTime": {
     "end_time": "2018-04-04T09:57:46.458022Z",
     "start_time": "2018-04-04T09:57:46.446994Z"
    },
    "tags": []
   },
   "outputs": [],
   "source": [
    "eth = pd.read_csv('eth.csv')\n",
    "eth.head()"
   ]
  },
  {
   "cell_type": "markdown",
   "id": "8bc8894c-5063-45ea-bbe1-7fab2099a142",
   "metadata": {},
   "source": [
    "**Question 1.1.** In the cell below, create an overlaid line plot that visualizes the BTC and ETH open prices as a function of the day. Both BTC and ETH open prices should be plotted on the same graph.\n",
    "\n",
    "*Hint*: [Section 7.3](https://inferentialthinking.com/chapters/07/3/Overlaid_Graphs.html#overlaid-line-plots) in the textbook might be helpful!\n"
   ]
  },
  {
   "cell_type": "code",
   "execution_count": null,
   "id": "80884c26-42df-400f-b2f3-0b3760ce90af",
   "metadata": {},
   "outputs": [],
   "source": [
    "# Your code here"
   ]
  },
  {
   "cell_type": "markdown",
   "id": "c8e2fec2-de79-47d5-9d44-a4c23c255fee",
   "metadata": {},
   "source": [
    "**Question 1.2.** Now, write a `standard_units` and `correlation` function to calculate the correlation coefficient between the opening prices of BTC and ETH."
   ]
  },
  {
   "cell_type": "code",
   "execution_count": null,
   "id": "6289cc9e-9f1f-4a8a-8808-be3fe427b5e3",
   "metadata": {},
   "outputs": [],
   "source": [
    "def standard_units(x):\n",
    "    # Your code here\n",
    "\n",
    "def correlation(x, y):\n",
    "    # Your code here"
   ]
  },
  {
   "cell_type": "code",
   "execution_count": null,
   "id": "12f008c7-d696-45bc-bec0-4e1cb59cfdef",
   "metadata": {},
   "outputs": [],
   "source": [
    "correlation(btc['open'], eth['open'])"
   ]
  },
  {
   "cell_type": "markdown",
   "id": "493542fd-2ca4-4286-b0b7-23e8462f2961",
   "metadata": {},
   "source": [
    "**Question 2.3.** Using scikitlearn's `LinearRegression`, perform a linear regression that predicts the opening price of ETH using the opening BTC price as its sole feature. "
   ]
  },
  {
   "cell_type": "code",
   "execution_count": null,
   "id": "953df435-6020-4e90-9a0d-dd39c79a26ed",
   "metadata": {},
   "outputs": [],
   "source": [
    "# Your code here"
   ]
  },
  {
   "cell_type": "markdown",
   "id": "7ed02af7-3124-4196-8001-020fe2f27adb",
   "metadata": {},
   "source": [
    "**Question 2.4.** Now, using the `eth_predictor` function you just defined, make a scatter plot with BTC prices along the x-axis and both real and predicted ETH prices along the y-axis. The color of the dots for the real ETH prices should be different from the color for the predicted ETH prices. \n"
   ]
  },
  {
   "cell_type": "code",
   "execution_count": null,
   "id": "b1144cbc-8a51-4af9-83b8-bf38debc8506",
   "metadata": {},
   "outputs": [],
   "source": [
    "# Generate predictions here"
   ]
  },
  {
   "cell_type": "code",
   "execution_count": null,
   "id": "3baa2b7b-29ee-4afa-b97c-ddc5eebca2dc",
   "metadata": {},
   "outputs": [],
   "source": [
    "# Create plot here"
   ]
  },
  {
   "cell_type": "markdown",
   "id": "888b4632-e731-4c85-a125-26f6a6f4a72b",
   "metadata": {},
   "source": [
    "**Question 2.5.** Considering the shape of the scatter plot of the true data, is the model we used reasonable? If so, what features or characteristics make this model reasonable? If not, what features or characteristics make it unreasonable? \n"
   ]
  },
  {
   "cell_type": "markdown",
   "id": "0844cdba-f4d3-46b7-b5f2-b33e3c652757",
   "metadata": {
    "manual_problem_id": "crypto_5"
   },
   "source": [
    "**SOLUTION:** "
   ]
  },
  {
   "cell_type": "markdown",
   "id": "98a3a25f-6363-4fca-b335-85bbde1e0cdd",
   "metadata": {},
   "source": [
    "---\n",
    "## 2: What about multiple linear regression?\n"
   ]
  },
  {
   "cell_type": "code",
   "execution_count": null,
   "id": "2f075265-baa5-4ec2-93d6-3bf8ae1e0fbe",
   "metadata": {},
   "outputs": [],
   "source": [
    "# Here, we load the fuel dataset, and drop any rows that have missing data\n",
    "vehicle_data = sns.load_dataset('mpg').dropna()\n",
    "vehicle_data = vehicle_data.sort_values('horsepower', ascending=True)\n",
    "vehicle_data.head(5)"
   ]
  },
  {
   "cell_type": "markdown",
   "id": "b0f362ad-f7a1-43bc-b768-06958a62fe7a",
   "metadata": {},
   "source": [
    "\n",
    "### Question 2a\n",
    "\n",
    "Using scikit learn's `LinearRegression`, create and fit three separate models that:\n",
    "<ol>\n",
    "    <li>predicts <b>mpg</b> from <b>horsepower</b> without any data transformation</li>\n",
    "    <li>predicts <b>mpg</b> from <b>sqrt(horsepower)</b></li>\n",
    "    <li>predicts <b>mpg</b> from <b>horsepower</b> AND <b>horsepower^2</b></li>\n",
    "</ol>"
   ]
  },
  {
   "cell_type": "code",
   "execution_count": null,
   "id": "eaf271ac-4300-4ee2-bdc4-da4d66062043",
   "metadata": {},
   "outputs": [],
   "source": [
    "# Model 1\n",
    "# Your code here"
   ]
  },
  {
   "cell_type": "code",
   "execution_count": null,
   "id": "704f66aa-7d0e-4ad5-8815-0d9fd5dd8891",
   "metadata": {},
   "outputs": [],
   "source": [
    "# Model 2\n",
    "# Your code here"
   ]
  },
  {
   "cell_type": "code",
   "execution_count": null,
   "id": "0db3a2cd-5dfb-43b5-8832-28b68d9594ab",
   "metadata": {},
   "outputs": [],
   "source": [
    "# Model 3\n",
    "# Your code here"
   ]
  },
  {
   "cell_type": "markdown",
   "id": "7ed9cc87-e815-4191-a6b4-8599c2991d52",
   "metadata": {},
   "source": [
    "---\n",
    "\n",
    "### Question 2b\n",
    "\n",
    "Using the model_multi, extract the coefficients and, in LaTeX, write out the function that the model is using to predict `mpg` from `horsepower` and `hp^2`.\n"
   ]
  },
  {
   "cell_type": "code",
   "execution_count": null,
   "id": "1c2538b1-6d00-4fb9-89a9-f8e2abf44d20",
   "metadata": {},
   "outputs": [],
   "source": [
    "# Your code here"
   ]
  },
  {
   "cell_type": "markdown",
   "id": "5687f8c1-f58f-41b3-86ff-e2735c6477ed",
   "metadata": {},
   "source": [
    "**SOLUTION**:\n",
    "\n",
    "$$\\text{mpg} = 56.9 - 0.466 \\cdot \\text{horsepower} + 0.00123 \\cdot \\text{horsepower}^2$$"
   ]
  },
  {
   "cell_type": "markdown",
   "id": "ae055886-efc1-4fcb-a7ca-69c2f61697b9",
   "metadata": {},
   "source": [
    "---\n",
    "### Question 2c\n",
    "\n",
    "Calculate and print the R^2 value for each of the three models. How do they compare? Is the R^2 enough to evaluate model performance on its own?"
   ]
  },
  {
   "cell_type": "code",
   "execution_count": null,
   "id": "59b352a6-3643-437d-8509-7daff7e45b62",
   "metadata": {},
   "outputs": [],
   "source": [
    "# Your code here"
   ]
  },
  {
   "cell_type": "markdown",
   "id": "96d0d025-46b9-4292-ad0f-da6f20d63181",
   "metadata": {},
   "source": [
    "<br/><br/>\n",
    "\n",
    "The plot below shows the prediction of our model. It's much better!"
   ]
  },
  {
   "cell_type": "code",
   "execution_count": null,
   "id": "b006e698-e921-40c1-8aec-9e81c436377f",
   "metadata": {},
   "outputs": [],
   "source": [
    "# just run this cel\n",
    "\n",
    "sns.scatterplot(x='horsepower', y='mpg', data=vehicle_data)\n",
    "plt.plot(vehicle_data['horsepower'],  predicted_mpg_hp_only, label='hp only');\n",
    "plt.plot(vehicle_data['horsepower'],  predicted_mpg_hp_sqrt, color = 'r', linestyle='--', label='sqrt(hp) fit');\n",
    "plt.plot(vehicle_data['horsepower'],  predicted_mpg_multi, color = 'gold', linewidth=2, label='hp and hp^2');\n",
    "plt.legend();"
   ]
  },
  {
   "cell_type": "markdown",
   "id": "eb94ba88-2260-4791-a3b9-4aa4e301a7dc",
   "metadata": {},
   "source": [
    "---\n",
    "\n",
    "### Question 2d\n",
    "\n",
    "In the cell below, we assign the mean of the `mpg` column of the vehicle `data` dataframe to `mean_mpg`. Given this information, what is the mean of the `mean_predicted_mpg_hp_only`, `predicted_mpg_hp_sqrt`, and `predicted_mpg_multi` arrays?"
   ]
  },
  {
   "cell_type": "code",
   "execution_count": null,
   "id": "76b10688-e27d-42f6-a1c8-342b6b2838b3",
   "metadata": {},
   "outputs": [],
   "source": [
    "vehicle_data['mpg'].mean()"
   ]
  },
  {
   "cell_type": "code",
   "execution_count": null,
   "id": "afe0296f-2ea3-471f-b04f-94af63b6723e",
   "metadata": {},
   "outputs": [],
   "source": [
    "predicted_mpg_hp_only.mean()"
   ]
  },
  {
   "cell_type": "code",
   "execution_count": null,
   "id": "c5466ea2-ed53-4def-a8d8-f4b281f55bd6",
   "metadata": {},
   "outputs": [],
   "source": [
    "predicted_mpg_hp_sqrt.mean()"
   ]
  },
  {
   "cell_type": "code",
   "execution_count": null,
   "id": "9765db0c-d046-4e42-afaf-6f5ba92942cc",
   "metadata": {},
   "outputs": [],
   "source": [
    "predicted_mpg_multi.mean()"
   ]
  },
  {
   "cell_type": "markdown",
   "id": "bf740122-06fd-41c0-98d4-d1616006daa1",
   "metadata": {},
   "source": [
    "---\n",
    "## Question 3: Overfitting with Too Many Features\n",
    "\n",
    "Let's take what we've learned so far and go one step further: introduce even more features.\n",
    "\n",
    "Again, using scikit learn's `LinearRegression`, we fit a model that tries to predict `mpg` using each of the following as features:\n",
    "- `horsepower`\n",
    "- `hp^2`\n",
    "- `model_year`\n",
    "- `acceleration`"
   ]
  },
  {
   "cell_type": "code",
   "execution_count": null,
   "id": "ab7631aa-913a-46eb-ae55-88f37c8c3ec3",
   "metadata": {},
   "outputs": [],
   "source": [
    "# just run this cell\n",
    "desired_columns = ['horsepower', 'hp^2', 'model_year', 'acceleration']\n",
    "model_overfit = LinearRegression()\n",
    "model_overfit.fit(X = vehicle_data[desired_columns], y= vehicle_data['mpg'])\n",
    "predicted_mpg_overfit = model_overfit.predict(vehicle_data[['horsepower', 'hp^2', 'model_year', 'acceleration']])"
   ]
  },
  {
   "cell_type": "markdown",
   "id": "a819832d-1ba6-430f-a68d-bb333e32b02e",
   "metadata": {},
   "source": [
    "<br/>\n",
    "The plot below shows the prediction of our more sophisticated model. Note we arbitrarily plot against horsepower for the ease of keeping our plots 2-dimensional."
   ]
  },
  {
   "cell_type": "code",
   "execution_count": null,
   "id": "38461092-0d40-4c18-9254-1d72c50f11da",
   "metadata": {},
   "outputs": [],
   "source": [
    "# just run this cell\n",
    "sns.scatterplot(x='horsepower', y='mpg', data=vehicle_data)\n",
    "plt.plot(vehicle_data['horsepower'],  predicted_mpg_overfit, color = 'r')\n",
    "plt.show()"
   ]
  },
  {
   "cell_type": "markdown",
   "id": "395fc31e-0b77-42e8-9a20-6b1892ef4a42",
   "metadata": {},
   "source": [
    "Think about what you see in the above plot. Why is the shape of our prediction curve so jagged? Do you think this is a good model to predict the `mpg` of some car we don't already have information on?\n",
    "\n",
    "This idea –the **bias-variance tradeoff**– is an idea we will explore in the coming weeks."
   ]
  },
  {
   "cell_type": "markdown",
   "id": "b33e232b-07ba-4d57-8250-2ad2c2a4c715",
   "metadata": {},
   "source": [
    "---\n",
    "\n",
    "## Question 4: Comparing $R^2$\n",
    "\n",
    "Lastly, set `r2_overfit` to be the multiple $R^2$ coefficient obtained by using `model_overfit`."
   ]
  },
  {
   "cell_type": "code",
   "execution_count": null,
   "id": "4f7bca95-fd77-4cc7-be78-8b5553f878f4",
   "metadata": {},
   "outputs": [],
   "source": [
    "# Your code here"
   ]
  },
  {
   "cell_type": "markdown",
   "id": "3d075aa5-9e54-478e-9558-e8362ae10257",
   "metadata": {},
   "source": [
    "Comparing this model with previous models:"
   ]
  },
  {
   "cell_type": "code",
   "execution_count": null,
   "id": "677504bb-a566-428d-9276-16ed98bcd03d",
   "metadata": {},
   "outputs": [],
   "source": [
    "# just run this cell\n",
    "# compares q1, q2, q3, and overfit models (ignores redundant model)\n",
    "print('Multiple R^2 using only horsepower: ', r2_hp_only)\n",
    "print('Multiple R^2 using sqrt(hp): ', r2_hp_sqrt)\n",
    "print('Multiple R^2 using both hp and hp^2: ', r2_multi)\n",
    "print('Multiple R^2 using hp, hp^2, model year, and acceleration: ', r2_overfit)"
   ]
  },
  {
   "cell_type": "markdown",
   "id": "54326b54-12d6-4281-bedf-b5c86db04468",
   "metadata": {},
   "source": [
    "If everything was done correctly, the multiple $R^2$ of our latest model should be substantially higher than that of the previous models. This is because multiple $R^2$ increases with the number of covariates (i.e., features) we add to our model. \n",
    "\n",
    "<br/>\n",
    "\n",
    "**A Word on Overfitting**: We might not always want to use models with large multiple $R^2$ values because these models could be **overfitting** to our specific sample data, and won't generalize well to unseen data from the population. Again, this is an idea we will explore in future lectures and assignments."
   ]
  }
 ],
 "metadata": {
  "kernelspec": {
   "display_name": "Python 3 (ipykernel)",
   "language": "python",
   "name": "python3"
  },
  "language_info": {
   "codemirror_mode": {
    "name": "ipython",
    "version": 3
   },
   "file_extension": ".py",
   "mimetype": "text/x-python",
   "name": "python",
   "nbconvert_exporter": "python",
   "pygments_lexer": "ipython3",
   "version": "3.9.13"
  }
 },
 "nbformat": 4,
 "nbformat_minor": 5
}
