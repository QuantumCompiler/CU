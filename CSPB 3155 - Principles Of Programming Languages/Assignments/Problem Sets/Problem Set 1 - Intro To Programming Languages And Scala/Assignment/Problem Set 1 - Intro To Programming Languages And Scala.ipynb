{
 "cells": [
  {
   "cell_type": "code",
   "execution_count": null,
   "metadata": {},
   "outputs": [],
   "source": []
  },
  {
   "attachments": {},
   "cell_type": "markdown",
   "metadata": {
    "deletable": false,
    "editable": false,
    "nbgrader": {
     "cell_type": "markdown",
     "checksum": "518ae5ff7d970410d6aff53a3b9b2b66",
     "grade": false,
     "grade_id": "cell-e7db94ed69698ea4",
     "locked": true,
     "schema_version": 3,
     "solution": false
    }
   },
   "source": [
    "# CSPB 3155 Assignment 1 : Scala Programming\n",
    "\n",
    "This assignment asks you to write scala programs. Fill in the programs below. Use the test cases provided to test them. You are also encouraged to write your own test cases."
   ]
  },
  {
   "cell_type": "markdown",
   "metadata": {},
   "source": [
    "**YOUR NAME HERE**"
   ]
  },
  {
   "cell_type": "code",
   "execution_count": 1,
   "metadata": {
    "deletable": false,
    "editable": false,
    "nbgrader": {
     "cell_type": "code",
     "checksum": "087da0e760fe1c4e3297c01e2cdac1ef",
     "grade": false,
     "grade_id": "cell-79ca066ce8c19e02",
     "locked": true,
     "schema_version": 3,
     "solution": false
    }
   },
   "outputs": [
    {
     "name": "stderr",
     "output_type": "stream",
     "text": [
      "cell1.sc:108: procedure syntax is deprecated: instead, add `: Unit =` to explicitly declare `passed`'s return type [quickfixable]\n",
      "def passed(points: Int) {\n",
      "                        ^\n"
     ]
    },
    {
     "data": {
      "text/plain": [
       "defined \u001b[32mfunction\u001b[39m \u001b[36mpassed\u001b[39m\n",
       "defined \u001b[32mfunction\u001b[39m \u001b[36mtestWithMessage\u001b[39m"
      ]
     },
     "execution_count": 1,
     "metadata": {},
     "output_type": "execute_result"
    }
   ],
   "source": [
    "// TEST HELPER\n",
    "def passed(points: Int) {\n",
    "    require(points >=0)\n",
    "    if (points == 1) print(s\"\\n*** Tests Passed (1 point) ***\\n\")\n",
    "    else print(s\"\\n*** Tests Passed ($points points) ***\\n\")\n",
    "}\n",
    "\n",
    "def testWithMessage(cond: Boolean, testID: String) = { \n",
    "    assert(cond, s\"Test $testID Failed\"); \n",
    "    println(s\"Test $testID Passed!\")\n",
    "}"
   ]
  },
  {
   "cell_type": "markdown",
   "metadata": {
    "deletable": false,
    "editable": false,
    "nbgrader": {
     "cell_type": "markdown",
     "checksum": "f307422339034e4744add3edb0f7f716",
     "grade": false,
     "grade_id": "cell-07737f1428302d50",
     "locked": true,
     "schema_version": 3,
     "solution": false
    }
   },
   "source": [
    "## Problem 1 (5 points)\n",
    "\n",
    "Write a scala function titled `isPalindrome (s)` that tests whether a given input string `s` is a palindrome.\n",
    "\n",
    "The following string operations will be helpful.\n",
    "\n",
    "1. `s.size` gives you the size of the string.\n",
    "2. `s(i)` gives you the `ith` character for `i = 0, ... , s.size-1`\n",
    "3. For loops in scala are described here: https://www.tutorialspoint.com/scala/scala_for_loop.htm\n",
    "   Pay careful attention between the _to_ and _until_ forms \n",
    "   of the for loop."
   ]
  },
  {
   "cell_type": "code",
   "execution_count": 2,
   "metadata": {
    "deletable": false,
    "nbgrader": {
     "cell_type": "code",
     "checksum": "bc579dc690fed8cb89f73f47994f4669",
     "grade": false,
     "grade_id": "cell-794743da17722228",
     "locked": false,
     "schema_version": 3,
     "solution": true
    }
   },
   "outputs": [
    {
     "data": {
      "text/plain": [
       "defined \u001b[32mfunction\u001b[39m \u001b[36misPalindrome\u001b[39m"
      ]
     },
     "execution_count": 2,
     "metadata": {},
     "output_type": "execute_result"
    }
   ],
   "source": [
    "def isPalindrome(s: String): Boolean = { \n",
    "    ??? // YOUR CODE HERE\n",
    " }"
   ]
  },
  {
   "cell_type": "code",
   "execution_count": null,
   "metadata": {
    "deletable": false,
    "editable": false,
    "nbgrader": {
     "cell_type": "code",
     "checksum": "698208fd3612fb4c4d7028e039aab12d",
     "grade": true,
     "grade_id": "cell-082571ccc4ca97d0",
     "locked": true,
     "points": 5,
     "schema_version": 3,
     "solution": false
    }
   },
   "outputs": [],
   "source": [
    "//BEGIN TEST\n",
    "assert(isPalindrome(\"hellolleh\"), \"Test 1 Failed\")\n",
    "assert(!isPalindrome(\"bababablacksheep\"), \"Test 2 Failed\")\n",
    "assert(isPalindrome(\"\"), \"Test 3 Failed\")\n",
    "assert(isPalindrome(\"a\"), \"Test 4 Failed\")\n",
    "assert(isPalindrome(\"xxxxxxxx\"), \"Test 5 Failed\")\n",
    "assert(isPalindrome(\"ablewasiereisawelba\"), \"Test 6 Failed\")\n",
    "passed(5)\n",
    "//END TEST"
   ]
  },
  {
   "cell_type": "markdown",
   "metadata": {
    "deletable": false,
    "editable": false,
    "nbgrader": {
     "cell_type": "markdown",
     "checksum": "f931b4ba4b94dbe58217c4c958011b73",
     "grade": false,
     "grade_id": "cell-7cc33962c9bf5094",
     "locked": true,
     "schema_version": 3,
     "solution": false
    }
   },
   "source": [
    "## Problem 2 (10 points)\n",
    "\n",
    "Implement a `isPalindromeRec` function that checks if a given string is a palindrome, but without using mutable `var` or without using `for`/`while` loops. Your recursive function should use the following high level algorithm:\n",
    "  * Strings of length 0 (empty string) or 1 (single char) are by default palindrones. (This is your base case).\n",
    "  * If the first and last characters of the string are the same, the string if a palindrome if the substring between second and last but one characters is itself a palindrome (use the recursive call to check).\n",
    "  * Or else, the string cannot be a palindrome.\n",
    "\n",
    "**Hint:** You should consult Scala documentation on strings to figure out: https://www.tutorialspoint.com/scala/scala_strings.htm\n",
    "1. How do we get first and last characters of a string.\n",
    "2. How do we get substring between first and last character.\n",
    "3. How to find out if a string is empty or a single character.\n"
   ]
  },
  {
   "cell_type": "code",
   "execution_count": null,
   "metadata": {
    "deletable": false,
    "nbgrader": {
     "cell_type": "code",
     "checksum": "ae8a41f6c5114bdc22773ed19bc78759",
     "grade": false,
     "grade_id": "cell-80da0f71ccafab19",
     "locked": false,
     "schema_version": 3,
     "solution": true
    }
   },
   "outputs": [],
   "source": [
    "def isPalindromeRec(s: String): Boolean = {\n",
    "    ??? // YOUR CODE HERE\n",
    "}"
   ]
  },
  {
   "cell_type": "code",
   "execution_count": null,
   "metadata": {
    "deletable": false,
    "editable": false,
    "nbgrader": {
     "cell_type": "code",
     "checksum": "bab8c0b20362e3ac9762b66f54bd452c",
     "grade": true,
     "grade_id": "cell-ef781cc6d55287ba",
     "locked": true,
     "points": 10,
     "schema_version": 3,
     "solution": false
    }
   },
   "outputs": [],
   "source": [
    "//BEGIN TEST\n",
    "testWithMessage(isPalindromeRec(\"hellolleh\") == true, \"1\")\n",
    "testWithMessage(isPalindromeRec(\"bababablacksheep\") == false, \"2\")\n",
    "testWithMessage(isPalindromeRec(\"\") == true, \"3\")\n",
    "testWithMessage(isPalindromeRec(\"a\") == true, \"4\")\n",
    "testWithMessage(isPalindromeRec(\"xxxxxxxx\") == true, \"5\")\n",
    "testWithMessage(isPalindromeRec(\"ablewasiereisawelba\") == true, \"6\")\n",
    "passed(5)\n",
    "//END TEST"
   ]
  },
  {
   "cell_type": "markdown",
   "metadata": {
    "deletable": false,
    "editable": false,
    "nbgrader": {
     "cell_type": "markdown",
     "checksum": "fd5ca80d6f8614cabe80abf38cc70503",
     "grade": false,
     "grade_id": "cell-20615692105e5303",
     "locked": true,
     "schema_version": 3,
     "solution": false
    }
   },
   "source": [
    "## Problem 3 (20 points)\n",
    "\n",
    "We would like you to implement the methods in the class Rational that is supposed to represent fractions $\\frac{n}{d}$, where the numerator and denominator are integers $n, d$. Note that it is important to ensure that $d \\not= 0$.\n",
    "\n",
    "Implement the missing methods below.\n",
    "\n",
    "You should read this blog post about how to convert between numeric types.\n",
    "\n",
    "https://alvinalexander.com/scala/how-to-convert-between-numeric-types-in-scala-int-long-float-double\n"
   ]
  },
  {
   "cell_type": "code",
   "execution_count": null,
   "metadata": {
    "deletable": false,
    "nbgrader": {
     "cell_type": "code",
     "checksum": "3be1ef4e56bdf27cb7794c594054dfba",
     "grade": false,
     "grade_id": "cell-a410d01fa666b077",
     "locked": false,
     "schema_version": 3,
     "solution": true
    }
   },
   "outputs": [],
   "source": [
    "class Rational(val n: Int, val d: Int) {\n",
    "    // Implement a pretty printer\n",
    "    override def toString(): String = {\n",
    "        s\"$n/$d\"\n",
    "    }\n",
    "    \n",
    "    def isValid(): Boolean = {\n",
    "        // check if this is a valid fraction.\n",
    "        ??? // YOUR CODE HERE\n",
    "    }\n",
    "    def toDouble(): Double = {\n",
    "        // Convert n/ d to double\n",
    "        // use toDouble method to convert an integer to double\n",
    "        ??? // YOUR CODE HERE\n",
    "    }\n",
    "    \n",
    "    def isInteger(): Boolean = {\n",
    "        // Is this fraction an integer.\n",
    "        // A fraction is an integer if n is divisible by d\n",
    "        ??? // YOUR CODE HERE\n",
    "    }\n",
    "    \n",
    "    def floor(): Double = {\n",
    "        // return the floor of n/d\n",
    "        // math.floor(f) takes the floor of a double precision number in scala\n",
    "        ??? // YOUR CODE HERE\n",
    "    }\n",
    "    \n",
    "    \n",
    "    def rationalEquals(r: Rational): Boolean = {\n",
    "        // Check if this equals r\n",
    "        ??? // YOUR CODE HERE\n",
    "    }\n",
    "    \n",
    "    \n",
    "    \n",
    "    def + (r: Rational) : Rational = {\n",
    "        // Add two rationals and return a new Rational\n",
    "        ??? // YOUR CODE HERE\n",
    "    }\n",
    "    \n",
    "    def - (r: Rational): Rational = {\n",
    "        // compute this - r and return a new Rational\n",
    "        ??? // YOUR CODE HERE\n",
    "    }\n",
    "    \n",
    "    def * (r: Rational): Rational = {\n",
    "        // multiply two rationals and return a new Rational\n",
    "        ??? // YOUR CODE HERE\n",
    "    }\n",
    "    \n",
    "    def / (r: Rational): Rational = {\n",
    "        // compute this/r and return a new Rational\n",
    "        ??? // YOUR CODE HERE\n",
    "    }\n",
    "    \n",
    "    // We can use your rationalEquals method to overide the == operator as follows\n",
    "    // Ignore this method for now -- it will be clearer soon\n",
    "    override def equals(r: Any): Boolean = r match {\n",
    "        case rat: Rational => this.rationalEquals(rat) \n",
    "        case _ => false\n",
    "    }\n",
    "    // END Ignore   \n",
    "}"
   ]
  },
  {
   "cell_type": "code",
   "execution_count": null,
   "metadata": {
    "deletable": false,
    "editable": false,
    "nbgrader": {
     "cell_type": "code",
     "checksum": "ad3710b16bd20a8271aee56807e17628",
     "grade": true,
     "grade_id": "cell-6275b75f19c16246",
     "locked": true,
     "points": 2,
     "schema_version": 3,
     "solution": false
    }
   },
   "outputs": [],
   "source": [
    "//BEGIN TEST\n",
    "testWithMessage(new Rational(10, 0).isValid() == false, \"1 - isValid\")\n",
    "testWithMessage(new Rational(10, 1).isValid() == true, \"2 - isValid\")\n",
    "passed(2)\n",
    "//END TEST"
   ]
  },
  {
   "cell_type": "code",
   "execution_count": null,
   "metadata": {
    "deletable": false,
    "editable": false,
    "nbgrader": {
     "cell_type": "code",
     "checksum": "3fddb00e81c6883fdbfa27751574445c",
     "grade": true,
     "grade_id": "cell-0dabc332060e86bd",
     "locked": true,
     "points": 2,
     "schema_version": 3,
     "solution": false
    }
   },
   "outputs": [],
   "source": [
    "//BEGIN TEST\n",
    "testWithMessage(new Rational(10, 3).toDouble() == 10.0/3.0, \"1 - toDouble\")\n",
    "testWithMessage(new Rational(19, 5).toDouble() == 19.0/5.0, \"2 - toDouble\")\n",
    "passed(2)\n",
    "//END TEST"
   ]
  },
  {
   "cell_type": "code",
   "execution_count": null,
   "metadata": {
    "deletable": false,
    "editable": false,
    "nbgrader": {
     "cell_type": "code",
     "checksum": "93192188b2e496914e972f60991fcdbe",
     "grade": true,
     "grade_id": "cell-cd465592f873c02f",
     "locked": true,
     "points": 2,
     "schema_version": 3,
     "solution": false
    }
   },
   "outputs": [],
   "source": [
    "//BEGIN TEST\n",
    "testWithMessage(new Rational(15, 3).isInteger() == true, \"1 - isInteger\")\n",
    "testWithMessage(new Rational(15, 8).isInteger() == false, \"2 - isInteger\")\n",
    "testWithMessage(new Rational(225, 15).isInteger() == true, \"3 - isInteger\")\n",
    "testWithMessage(new Rational(181, 2).isInteger() == false, \"4 - isInteger\")\n",
    "passed(2)\n",
    "//END TEST"
   ]
  },
  {
   "cell_type": "code",
   "execution_count": null,
   "metadata": {
    "deletable": false,
    "editable": false,
    "nbgrader": {
     "cell_type": "code",
     "checksum": "2fd0646839fb349496ed7aaa8777c299",
     "grade": true,
     "grade_id": "cell-1746cc35b42175e3",
     "locked": true,
     "points": 2,
     "schema_version": 3,
     "solution": false
    }
   },
   "outputs": [],
   "source": [
    "//BEGIN TEST\n",
    "testWithMessage(new Rational(15, 4).floor() == 3.0, \"1 - floor\")\n",
    "testWithMessage(new Rational(100, 45).floor() == 2.0, \"2 - floor\")\n",
    "testWithMessage(new Rational(-25, 3).floor() == -9.0, \"3 - floor\")\n",
    "testWithMessage(new Rational(-40, 7).floor() == -6.0, \"4 - floor\")\n",
    "passed(2)\n",
    "//END TEST"
   ]
  },
  {
   "cell_type": "code",
   "execution_count": null,
   "metadata": {
    "deletable": false,
    "editable": false,
    "nbgrader": {
     "cell_type": "code",
     "checksum": "35264f1b5ceef6508a17f8099c7731a7",
     "grade": true,
     "grade_id": "cell-1c01befb23ee7487",
     "locked": true,
     "points": 2,
     "schema_version": 3,
     "solution": false
    }
   },
   "outputs": [],
   "source": [
    "//BEGIN TEST\n",
    "testWithMessage((new Rational(20, 5)) == (new Rational(16 , 4)), \"1 - rationalEquals\")\n",
    "testWithMessage((new Rational(24, 5)) == (new Rational(120, 25)), \"2 - rationalEquals\")\n",
    "testWithMessage((new Rational(19, 5)) != (new Rational(58, 15)), \"3 - rationalEquals\")\n",
    "testWithMessage((new Rational(24, 1)) != (new Rational(120, 15)), \"4 - rationalEquals\")\n",
    "passed(2)\n",
    "//END TEST"
   ]
  },
  {
   "cell_type": "code",
   "execution_count": null,
   "metadata": {
    "deletable": false,
    "editable": false,
    "nbgrader": {
     "cell_type": "code",
     "checksum": "ab0d360a08ef832d620be0597e738d14",
     "grade": true,
     "grade_id": "cell-f595d18030ee424d",
     "locked": true,
     "points": 10,
     "schema_version": 3,
     "solution": false
    }
   },
   "outputs": [],
   "source": [
    "//BEGIN TEST\n",
    "val r1 = new Rational(10, 3)\n",
    "val r2 = new Rational(14, 3)\n",
    "val r3 = r1 + r2\n",
    "testWithMessage(r3.n == r3.d * 8, \"1 - addition of 10/3 + 14/3 - \")\n",
    "\n",
    "val r4 = new Rational(9, 2)\n",
    "val r5 = new Rational(18, 2)\n",
    "val r6 = r4 + r5\n",
    "testWithMessage(r6.n * 2 == r6.d * 27, \"2 - addition of 9/2 + 18/2 - \")\n",
    "\n",
    "val r7 = new Rational(15, 7)\n",
    "val r8 = new Rational(19, 6)\n",
    "val r9 = r7 + r8\n",
    "testWithMessage(r9.n * 42 == r9.d * 223, \"3 - addition of 15/7 + 19/6 - \")\n",
    "\n",
    "val r10 = r1 - r2\n",
    "testWithMessage(r10.n * 3 == r10.d * -4, \"1 - subtraction of 10/3 - 14/3 - \")\n",
    "\n",
    "val r11 = r6 - r7\n",
    "passed(10)\n",
    "//END TEST"
   ]
  },
  {
   "cell_type": "markdown",
   "metadata": {
    "deletable": false,
    "editable": false,
    "nbgrader": {
     "cell_type": "markdown",
     "checksum": "ec81b337ae19f919a9ee763e0b5c2e28",
     "grade": false,
     "grade_id": "cell-a5b8c84c218f2b7d",
     "locked": true,
     "schema_version": 3,
     "solution": false
    }
   },
   "source": [
    "## Problem 4 (20 points)\n",
    "\n",
    "Newton invented the Newton-Raphson method for solving an equation. We are going to ask you to write some code to solve equations.\n",
    "\n",
    "To solve an equation of the form\n",
    "\n",
    "$$ x^2 - 3x + 2 = 0$$\n",
    "\n",
    "we start from an initial guess at the solution: say $x_0 = 4.5$\n",
    "Each time we have the $i^{th}$ guess $x_i$, we update it as\n",
    "\n",
    "$$ x_{i+1} = x_i - \\frac{f(x_i)}{f'(x_i)} $$\n",
    "\n",
    "For our equation, $f(x) = x^2 - 3x +2$ and $f'(x) = 2 x - 3$. Thus, our update equation is \n",
    "$$ x_{i+1} = x_i - \\frac{x_i^2 - 3 x_i + 2}{2 x_i - 3}$$.\n",
    "\n",
    "We stop whenever $|f(x_i)| \\leq 10^{-8}$: i.e, we are very close to a root of the function. Gory details are here for the curious ones (curiosity = bad for cats, great for students).\n",
    "http://www.math.ubc.ca/~anstee/math104/newtonmethod.pdf\n",
    "\n",
    "__(A, 5 points)__ Write a scala function `calculateRoot(x0: Double)` that takes in the initial guess $x_0$ as input and calculates the root for the polynomial $x^2 - 3 x + 2$. Your code should use a var and While loop.\n",
    "\n",
    "Caution: To calculate $x^2$, you should use `math.pow(x,2)` in Scala."
   ]
  },
  {
   "cell_type": "code",
   "execution_count": null,
   "metadata": {
    "deletable": false,
    "nbgrader": {
     "cell_type": "code",
     "checksum": "e20b7d43866bff9d5b742d1863c9eaf1",
     "grade": false,
     "grade_id": "cell-2dd21341b51d86ad",
     "locked": false,
     "schema_version": 3,
     "solution": true
    }
   },
   "outputs": [],
   "source": [
    "def calculateRoot(x0: Double): Double = { \n",
    "    /* Some helpful functions for f and its derivative */\n",
    "    def f(x: Double) = { math.pow(x,2) - 3 * x + 2.0 }\n",
    "    def df(x: Double) = { 2* x - 3}\n",
    "    // Your code here: use f(x) and df(x) provided already.\n",
    "    ??? // YOUR CODE HERE\n",
    "}"
   ]
  },
  {
   "cell_type": "code",
   "execution_count": null,
   "metadata": {
    "deletable": false,
    "editable": false,
    "nbgrader": {
     "cell_type": "code",
     "checksum": "ed975918c2fd4c08534421f19f64eb41",
     "grade": true,
     "grade_id": "cell-2e7493c157d154dc",
     "locked": true,
     "points": 5,
     "schema_version": 3,
     "solution": false
    }
   },
   "outputs": [],
   "source": [
    "//BEGIN TEST\n",
    "def isRootCorrect(x: Double): Boolean = {\n",
    "    def f(x: Double) = { math.pow(x,2) - 3 * x + 2.0 }\n",
    "    val y = calculateRoot(x)\n",
    "    math.abs(f(y)) <= 1e-08\n",
    "}\n",
    "\n",
    "testWithMessage(isRootCorrect(3.5), \"1\")\n",
    "testWithMessage(isRootCorrect(4.6), \"2\")\n",
    "testWithMessage(isRootCorrect(-3), \"3\")\n",
    "testWithMessage(isRootCorrect(-3.5), \"4\")\n",
    "testWithMessage(isRootCorrect(1.3), \"5\")\n",
    "passed(5)\n",
    "//END TEST"
   ]
  },
  {
   "cell_type": "markdown",
   "metadata": {
    "deletable": false,
    "editable": false,
    "nbgrader": {
     "cell_type": "markdown",
     "checksum": "7973ae6ced45f091b25c227a97ab1027",
     "grade": false,
     "grade_id": "cell-05773f195e62f092",
     "locked": true,
     "schema_version": 3,
     "solution": false
    }
   },
   "source": [
    "__(B, 10 points)__ Implement the function `calculateRootRec` that uses a recursion instead of a while loop to compute the root. You should __not__ use a mutable `var` in your code and no loops are allowed. "
   ]
  },
  {
   "cell_type": "code",
   "execution_count": null,
   "metadata": {
    "deletable": false,
    "nbgrader": {
     "cell_type": "code",
     "checksum": "bd1be73e41ae2ab06834a9052fca3b1f",
     "grade": false,
     "grade_id": "cell-57d2ad2f5ba44329",
     "locked": false,
     "schema_version": 3,
     "solution": true
    }
   },
   "outputs": [],
   "source": [
    "def calculateRootRec(x: Double): Double = {\n",
    "    /* Some helpful functions for f and its derivative */\n",
    "    def f(x: Double) = { math.pow(x,2) - 3 * x + 2.0 }\n",
    "    def df(x: Double) = { 2* x - 3}\n",
    "    ??? // YOUR CODE HERE\n",
    "}"
   ]
  },
  {
   "cell_type": "code",
   "execution_count": null,
   "metadata": {
    "deletable": false,
    "editable": false,
    "nbgrader": {
     "cell_type": "code",
     "checksum": "614a559274121c38c7bb333aad3ff67c",
     "grade": true,
     "grade_id": "cell-49bff1b838e3e910",
     "locked": true,
     "points": 10,
     "schema_version": 3,
     "solution": false
    }
   },
   "outputs": [],
   "source": [
    "//BEGIN TEST\n",
    "def isRootCorrectRec(x: Double): Boolean = {\n",
    "    val y = calculateRootRec(x)\n",
    "    (math.abs(y - 2.0) <= 1e-06) || (math.abs(y - 1.0) <= 1e-06)\n",
    "}\n",
    "\n",
    "testWithMessage(isRootCorrectRec(3.5), \"1\")\n",
    "testWithMessage(isRootCorrectRec(4.6), \"2\")\n",
    "testWithMessage(isRootCorrectRec(-3), \"3\")\n",
    "testWithMessage(isRootCorrectRec(-3.5), \"4\")\n",
    "testWithMessage(isRootCorrectRec(1.3), \"5\")\n",
    "passed(5)\n",
    "//END TEST"
   ]
  },
  {
   "cell_type": "markdown",
   "metadata": {
    "deletable": false,
    "editable": false,
    "nbgrader": {
     "cell_type": "markdown",
     "checksum": "c8c3d3a867e523b11c01d6f3dd4fd831",
     "grade": false,
     "grade_id": "cell-4228b908a740e278",
     "locked": true,
     "schema_version": 3,
     "solution": false
    }
   },
   "source": [
    "__(C, 10 points)__ Write a generalized Newton-Raphson function `solveEquationNewtonRaphson` to solve any \n",
    "equation $f(x) = 0$ wherein the functions $f$ and $f'(x)$ are given as inputs. Do not use while loops or mutable `var` in your code.\n",
    "\n"
   ]
  },
  {
   "cell_type": "code",
   "execution_count": null,
   "metadata": {
    "deletable": false,
    "nbgrader": {
     "cell_type": "code",
     "checksum": "18f26b2057c7c644c6c485946f6c5764",
     "grade": false,
     "grade_id": "cell-d053a7e0f075bd32",
     "locked": false,
     "schema_version": 3,
     "solution": true
    }
   },
   "outputs": [],
   "source": [
    "def solveEquationNewtonRaphson(x: Double, f: Double => Double, df: Double => Double): Double = {\n",
    "   ??? // YOUR CODE HERE\n",
    "}"
   ]
  },
  {
   "cell_type": "code",
   "execution_count": null,
   "metadata": {
    "deletable": false,
    "editable": false,
    "nbgrader": {
     "cell_type": "code",
     "checksum": "a20ebc12d967bf6ccbab5209af3146bf",
     "grade": true,
     "grade_id": "cell-4a86f811b0471af9",
     "locked": true,
     "points": 2,
     "schema_version": 3,
     "solution": false
    }
   },
   "outputs": [],
   "source": [
    "//BEGIN TEST\n",
    "def f1(x: Double) = 2.0 * math.pow(x,3) - math.pow(x, 2) - 1.0\n",
    "def df1(x: Double) = 6.0 * math.pow(x, 2) - 2 * x \n",
    "val x1 = solveEquationNewtonRaphson(3.0, f1, df1)\n",
    "testWithMessage(math.abs(f1(x1)) <= 1e-06, \"1\")\n",
    "passed(2)\n",
    "//END TEST"
   ]
  },
  {
   "cell_type": "code",
   "execution_count": null,
   "metadata": {
    "deletable": false,
    "editable": false,
    "nbgrader": {
     "cell_type": "code",
     "checksum": "2de4239b99205cbdb087af6e7c17e147",
     "grade": true,
     "grade_id": "cell-dd5de96626a8f24c",
     "locked": true,
     "points": 2,
     "schema_version": 3,
     "solution": false
    }
   },
   "outputs": [],
   "source": [
    "//BEGIN TEST\n",
    "def f2(x: Double) = math.sin(x) - 0.5 * x \n",
    "def df2(x: Double) = math.cos(x) - 0.5\n",
    "val x2 = solveEquationNewtonRaphson(0.7, f2, df2)\n",
    "testWithMessage(math.abs(f2(x2)) <= 1e-06, \"2\")\n",
    "passed(2)\n",
    "//END TEST"
   ]
  },
  {
   "cell_type": "code",
   "execution_count": null,
   "metadata": {
    "deletable": false,
    "editable": false,
    "nbgrader": {
     "cell_type": "code",
     "checksum": "7a89614f674105122a1ecb19accbe658",
     "grade": true,
     "grade_id": "cell-24787c8854b20def",
     "locked": true,
     "points": 2,
     "schema_version": 3,
     "solution": false
    }
   },
   "outputs": [],
   "source": [
    "//BEGIN TEST\n",
    "def f3(x: Double) = math.log(x) - 2 \n",
    "def df3(x: Double) = 1/x \n",
    "val x3 = solveEquationNewtonRaphson(2.0, f3, df3)\n",
    "testWithMessage(math.abs(f3(x3)) <= 1e-06, \"3\")\n",
    "passed(2)\n",
    "//END TEST"
   ]
  },
  {
   "cell_type": "code",
   "execution_count": null,
   "metadata": {
    "deletable": false,
    "editable": false,
    "nbgrader": {
     "cell_type": "code",
     "checksum": "1a590fbd159445aa3cc0c53dd30adfea",
     "grade": true,
     "grade_id": "cell-08b0bc89a3d1d886",
     "locked": true,
     "points": 2,
     "schema_version": 3,
     "solution": false
    }
   },
   "outputs": [],
   "source": [
    "//BEGIN TEST\n",
    "def f4(x: Double) = math.atan(x) - 1\n",
    "def df4(x: Double) = 1.0/(1.0 + x*x)\n",
    "val x4 = solveEquationNewtonRaphson(3.0, f4, df4)\n",
    "testWithMessage(math.abs(f4(x4)) <= 1e-06, \"4\")\n",
    "passed(2)\n",
    "//END TEST"
   ]
  },
  {
   "cell_type": "code",
   "execution_count": null,
   "metadata": {
    "deletable": false,
    "editable": false,
    "nbgrader": {
     "cell_type": "code",
     "checksum": "462ef182e5faa6bf29c193d76fd68bc4",
     "grade": true,
     "grade_id": "cell-e858482df5178f7d",
     "locked": true,
     "points": 2,
     "schema_version": 3,
     "solution": false
    }
   },
   "outputs": [],
   "source": [
    "//BEGIN TEST\n",
    "def f5(x: Double) = math.cos(x)* math.cos(x) - 1\n",
    "def df5(x: Double) = -2.0 * math.sin(x) * math.cos(x)\n",
    "val x5 = solveEquationNewtonRaphson(3.5, f5, df5)\n",
    "testWithMessage(math.abs(f5(x5)) <= 1e-06, \"5\")\n",
    "passed(2)\n",
    "//END TEST"
   ]
  },
  {
   "cell_type": "markdown",
   "metadata": {
    "deletable": false,
    "editable": false,
    "nbgrader": {
     "cell_type": "markdown",
     "checksum": "eb7bf9a1870f59ef5aaf1a4accac77aa",
     "grade": false,
     "grade_id": "cell-9b80689314361884",
     "locked": true,
     "schema_version": 3,
     "solution": false
    }
   },
   "source": [
    "-- That is all for now, folks! -- "
   ]
  }
 ],
 "metadata": {
  "kernelspec": {
   "display_name": "Scala",
   "language": "scala",
   "name": "scala"
  },
  "language_info": {
   "codemirror_mode": "text/x-scala",
   "file_extension": ".sc",
   "mimetype": "text/x-scala",
   "name": "scala",
   "nbconvert_exporter": "script",
   "version": "2.13.12"
  }
 },
 "nbformat": 4,
 "nbformat_minor": 2
}
