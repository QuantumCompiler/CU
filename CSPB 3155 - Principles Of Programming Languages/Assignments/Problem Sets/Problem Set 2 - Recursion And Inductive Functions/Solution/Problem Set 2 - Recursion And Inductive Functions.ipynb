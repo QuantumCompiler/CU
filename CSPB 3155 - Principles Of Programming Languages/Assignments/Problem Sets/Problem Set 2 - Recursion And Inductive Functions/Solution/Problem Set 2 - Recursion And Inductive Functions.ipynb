{
 "cells": [
  {
   "cell_type": "code",
   "execution_count": null,
   "metadata": {},
   "outputs": [],
   "source": []
  },
  {
   "attachments": {},
   "cell_type": "markdown",
   "metadata": {
    "deletable": false,
    "editable": false,
    "nbgrader": {
     "cell_type": "markdown",
     "checksum": "5ff89b158e3ee1650ac4a16590e6aa84",
     "grade": false,
     "grade_id": "cell-e0dcd8e0c2513390",
     "locked": true,
     "schema_version": 3,
     "solution": false
    }
   },
   "source": [
    "# CSPB 3155: Assignment 2\n",
    "\n",
    "Topics covered: recursion and inductive definitions."
   ]
  },
  {
   "cell_type": "markdown",
   "metadata": {},
   "source": [
    "__Taylor Larrechea__\n",
    "\n",
    "Note: Please first run the `TEST HELPER` cell that defines the `passed` function below. Failing to run this cell will make it hard for you to check your work."
   ]
  },
  {
   "cell_type": "code",
   "execution_count": 1,
   "metadata": {
    "deletable": false,
    "editable": false,
    "nbgrader": {
     "cell_type": "code",
     "checksum": "96678f5d66f4c661e13ffc883498a235",
     "grade": false,
     "grade_id": "cell-0ff5abf81cd57123",
     "locked": true,
     "schema_version": 3,
     "solution": false
    }
   },
   "outputs": [
    {
     "name": "stderr",
     "output_type": "stream",
     "text": [
      "cell1.sc:108: procedure syntax is deprecated: instead, add `: Unit =` to explicitly declare `passed`'s return type [quickfixable]\n",
      "def passed(points: Int) {\n",
      "                        ^\n"
     ]
    },
    {
     "data": {
      "text/plain": [
       "defined \u001b[32mfunction\u001b[39m \u001b[36mpassed\u001b[39m"
      ]
     },
     "execution_count": 1,
     "metadata": {},
     "output_type": "execute_result"
    }
   ],
   "source": [
    "// TEST HELPER\n",
    "def passed(points: Int) {\n",
    "    require(points >=0)\n",
    "    if (points == 1) print(s\"\\n*** Tests Passed (1 point) ***\\n\")\n",
    "    else print(s\"\\n*** Tests Passed ($points points) ***\\n\")\n",
    "}"
   ]
  },
  {
   "cell_type": "markdown",
   "metadata": {
    "deletable": false,
    "editable": false,
    "nbgrader": {
     "cell_type": "markdown",
     "checksum": "aa476612e71503bca649bc5184017119",
     "grade": false,
     "grade_id": "cell-edc3a04e8cb8306b",
     "locked": true,
     "schema_version": 3,
     "solution": false
    }
   },
   "source": [
    "## Problem 1 (10 points total)"
   ]
  },
  {
   "cell_type": "markdown",
   "metadata": {
    "deletable": false,
    "editable": false,
    "nbgrader": {
     "cell_type": "markdown",
     "checksum": "1df38c76600d45cfcf03b630311acd0e",
     "grade": false,
     "grade_id": "cell-b52581c289282f6d",
     "locked": true,
     "schema_version": 3,
     "solution": false
    }
   },
   "source": [
    "### A (5 points) Recursive `logTen`\n",
    "Given a positive integer $n$, we wish to compute $\\textsf{floor}(\\log_{10}(n))$. Recall `floor` of a real number is the smallest integer that is less than or equal to it. Write a recursive function `logTen(n: Int): Int` that does the same. Ensure that your precondition restricts the inputs to  $n > 0$."
   ]
  },
  {
   "cell_type": "code",
   "execution_count": 2,
   "metadata": {
    "deletable": false,
    "nbgrader": {
     "cell_type": "code",
     "checksum": "b6eac58035a896c6ecbd1f2260603194",
     "grade": false,
     "grade_id": "answer_1a",
     "locked": false,
     "schema_version": 3,
     "solution": true
    }
   },
   "outputs": [
    {
     "data": {
      "text/plain": [
       "defined \u001b[32mfunction\u001b[39m \u001b[36mlogTen\u001b[39m"
      ]
     },
     "execution_count": 2,
     "metadata": {},
     "output_type": "execute_result"
    }
   ],
   "source": [
    "/* logTen - Computes the base-10 logarithm of an integer\n",
    "    Input:\n",
    "        n - Integer value for which to compute the base-10 logarithm (must be >= 1)\n",
    "    Algorithm:\n",
    "        * Ensure that the input integer n is greater than or equal to 1 using the require function\n",
    "        * If n is greater than or equal to 10:\n",
    "            - Recursively call logTen with n divided by 10\n",
    "            - Add 1 to the result of the recursive call to account for the current power of 10\n",
    "        * If n is less than 10:\n",
    "            - Return 0 because the base-10 logarithm of a number less than 10 is 0\n",
    "    Output:\n",
    "        An integer representing the base-10 logarithm of the input number\n",
    "*/\n",
    "def logTen(n: Int): Int = {\n",
    "    require( n >= 1 ) // If this is violated, you will get a \"requirement failed message\"\n",
    "    // YOUR CODE HERE\n",
    "    if (n >= 10) {\n",
    "        1 + logTen(n / 10);\n",
    "    }\n",
    "    else {\n",
    "        0;\n",
    "    }\n",
    "}"
   ]
  },
  {
   "cell_type": "code",
   "execution_count": 3,
   "metadata": {
    "deletable": false,
    "editable": false,
    "nbgrader": {
     "cell_type": "code",
     "checksum": "aff700dcec8f82949a29354b42acd1c1",
     "grade": true,
     "grade_id": "tests_1a",
     "locked": true,
     "points": 5,
     "schema_version": 3,
     "solution": false
    }
   },
   "outputs": [
    {
     "name": "stdout",
     "output_type": "stream",
     "text": [
      "\n",
      "*** Tests Passed (5 points) ***\n"
     ]
    }
   ],
   "source": [
    "//BEGIN TEST\n",
    "assert(logTen(1) == 0, \"logTen(1) must be 0\")\n",
    "assert(logTen(10) == 1, \"logTen(10) must be 1\")\n",
    "assert(logTen(11) == 1, \"logTen(11) must be 1\")\n",
    "assert(logTen(4100) == 3, \"logTen(4100) must be 3\")\n",
    "assert(logTen(30108100) == 7, \"logTen(30108100) must be 7\")\n",
    "passed(5)\n",
    "//END TEST"
   ]
  },
  {
   "cell_type": "markdown",
   "metadata": {
    "deletable": false,
    "editable": false,
    "nbgrader": {
     "cell_type": "markdown",
     "checksum": "f4774caadb8944447f2bd80a4fd1aa11",
     "grade": false,
     "grade_id": "cell-12d5214e2a806a43",
     "locked": true,
     "schema_version": 3,
     "solution": false
    }
   },
   "source": [
    "### B (5 points) _Tail_ Recursive `logTen`\n",
    "Now, write a tail recursive version of the `logTen` function, called `logTenTail`. You should implement the helper function as a tail recursive function."
   ]
  },
  {
   "cell_type": "code",
   "execution_count": 4,
   "metadata": {
    "deletable": false,
    "nbgrader": {
     "cell_type": "code",
     "checksum": "fd479ac91e753cbbbcef46f6d6574f41",
     "grade": false,
     "grade_id": "answer_1b",
     "locked": false,
     "schema_version": 3,
     "solution": true
    }
   },
   "outputs": [
    {
     "data": {
      "text/plain": [
       "\u001b[32mimport \u001b[39m\u001b[36mscala.annotation.tailrec\u001b[39m\n",
       "defined \u001b[32mfunction\u001b[39m \u001b[36mlogTenHelper\u001b[39m\n",
       "defined \u001b[32mfunction\u001b[39m \u001b[36mlogTenTail\u001b[39m"
      ]
     },
     "execution_count": 4,
     "metadata": {},
     "output_type": "execute_result"
    }
   ],
   "source": [
    "import scala.annotation.tailrec\n",
    "\n",
    "/* logTenHelper - Tail-recursive helper function to compute the base-10 logarithm of an integer\n",
    "    Input:\n",
    "        n - Integer value for which to compute the base-10 logarithm (must be >= 1)\n",
    "        acc - Accumulator to keep track of the count of divisions by 10\n",
    "    Algorithm:\n",
    "        * Ensure that the input integer n is greater than or equal to 1 using the require function\n",
    "        * If n is greater than or equal to 10:\n",
    "            - Recursively call logTenHelper with n divided by 10 and acc incremented by 1\n",
    "        * If n is less than 10:\n",
    "            - Return the accumulator acc because it represents the count of divisions by 10\n",
    "    Output:\n",
    "        An integer representing the base-10 logarithm of the input number\n",
    "*/\n",
    "@tailrec\n",
    "def logTenHelper(n: Int, acc: Int): Int = {\n",
    "    require(n >= 1)\n",
    "    // YOUR CODE HERE\n",
    "    if (n >= 10) {\n",
    "        logTenHelper(n / 10, acc + 1);\n",
    "    }\n",
    "    else {\n",
    "        acc;\n",
    "    }\n",
    "}\n",
    "\n",
    "/* logTenTail - Computes the base-10 logarithm of an integer using a tail-recursive helper function\n",
    "    Input:\n",
    "        n - Integer value for which to compute the base-10 logarithm (must be >= 1)\n",
    "    Algorithm:\n",
    "        * Call the tail-recursive helper function logTenHelper with n and an initial accumulator value of 0\n",
    "    Output:\n",
    "        An integer representing the base-10 logarithm of the input number\n",
    "*/\n",
    "def logTenTail(n: Int): Int = { \n",
    "    // YOUR CODE HERE\n",
    "    logTenHelper(n, 0);\n",
    "}\n"
   ]
  },
  {
   "cell_type": "code",
   "execution_count": 5,
   "metadata": {
    "deletable": false,
    "editable": false,
    "nbgrader": {
     "cell_type": "code",
     "checksum": "446b07713f23d063729031bd43610b39",
     "grade": true,
     "grade_id": "tests_1b",
     "locked": true,
     "points": 5,
     "schema_version": 3,
     "solution": false
    }
   },
   "outputs": [
    {
     "name": "stdout",
     "output_type": "stream",
     "text": [
      "\n",
      "*** Tests Passed (5 points) ***\n"
     ]
    }
   ],
   "source": [
    "// BEGIN TEST\n",
    "assert(logTenTail(1) == 0, \"logTen(1) must be 0\")\n",
    "assert(logTenTail(218) == 2, \"logTen(218) must be 2\")\n",
    "assert(logTenTail(3) == 0, \"logTen(3) must be 0\")\n",
    "assert(logTenTail(159) == 2, \"logTen(159) must be 2\")\n",
    "assert(logTenTail(121349) == 5, \"logTen(121349) must be 5\")\n",
    "passed(5)\n",
    "//END TEST"
   ]
  },
  {
   "cell_type": "markdown",
   "metadata": {
    "deletable": false,
    "editable": false,
    "nbgrader": {
     "cell_type": "markdown",
     "checksum": "6be88b07bd3f73d5f2b30d75eeda76d4",
     "grade": false,
     "grade_id": "cell-ea75378d2e0e50c2",
     "locked": true,
     "schema_version": 3,
     "solution": false
    }
   },
   "source": [
    "## Problem 2 (15 points)"
   ]
  },
  {
   "cell_type": "markdown",
   "metadata": {
    "deletable": false,
    "editable": false,
    "nbgrader": {
     "cell_type": "markdown",
     "checksum": "eb749d50a7fb74e1c3a7d3cd68fe93c5",
     "grade": false,
     "grade_id": "cell-a586cec16d8a92e7",
     "locked": true,
     "schema_version": 3,
     "solution": false
    }
   },
   "source": [
    "We define a function `shuffleString(s: String): String` that, given an\n",
    "input string `s`, does the following:\n",
    "- If the string `s` is empty or length 1, the result is the same as input string `s`.\n",
    "- Let n be the length of s.\n",
    "- Recursively call `shuffleString` on the substring `s(n/2)... s(n-1)`. Let `s1` be the result\n",
    "- Concatenate `s1` to the first half `s(0)..s(n/2-1)` to the result of the call.\n",
    "\n",
    "Here is an implementation of this function and some examples, for your reference.\n"
   ]
  },
  {
   "cell_type": "code",
   "execution_count": 6,
   "metadata": {
    "deletable": false,
    "editable": false,
    "nbgrader": {
     "cell_type": "code",
     "checksum": "f07fdb2af1edb9ba41773c27445a4351",
     "grade": false,
     "grade_id": "cell-815e98469269ed5e",
     "locked": true,
     "schema_version": 3,
     "solution": false
    }
   },
   "outputs": [
    {
     "data": {
      "text/plain": [
       "defined \u001b[32mfunction\u001b[39m \u001b[36mshuffleString\u001b[39m\n",
       "\u001b[36mf0\u001b[39m: \u001b[32mString\u001b[39m = \u001b[32m\"4312\"\u001b[39m\n",
       "\u001b[36mf1\u001b[39m: \u001b[32mString\u001b[39m = \u001b[32m\"54312\"\u001b[39m\n",
       "\u001b[36mf2\u001b[39m: \u001b[32mString\u001b[39m = \u001b[32m\"654123\"\u001b[39m\n",
       "\u001b[36mf3\u001b[39m: \u001b[32mString\u001b[39m = \u001b[32m\"7645123\"\u001b[39m\n",
       "\u001b[36mf4\u001b[39m: \u001b[32mString\u001b[39m = \u001b[32m\"87561234\"\u001b[39m\n",
       "\u001b[36mf5\u001b[39m: \u001b[32mString\u001b[39m = \u001b[32m\"987561234\"\u001b[39m"
      ]
     },
     "execution_count": 6,
     "metadata": {},
     "output_type": "execute_result"
    }
   ],
   "source": [
    "/* shuffleString - Recursively shuffles a string by moving the second half to the front\n",
    "    Input:\n",
    "        s - A string to be shuffled\n",
    "    Algorithm:\n",
    "        * Determine the length of the input string n\n",
    "        * If the length n is less than or equal to 1, return the string as it is because no shuffling is needed\n",
    "        * Otherwise:\n",
    "            - Split the string into two halves: the second half starting from index n/2 to the end, and the first half from the beginning to index n/2\n",
    "            - Recursively call shuffleString on the second half\n",
    "            - Concatenate the shuffled second half with the first half\n",
    "    Output:\n",
    "        A new string with the second half of the original string moved to the front, recursively shuffled\n",
    "*/\n",
    "def shuffleString(s: String): String = {\n",
    "    val n = s.length()\n",
    "    if (n <= 1) { s }\n",
    "    else {\n",
    "        val secondHalf = s.substring(n/2, n)\n",
    "        val shuffledHalf = shuffleString(secondHalf)\n",
    "        val firstHalf = s.substring(0, n/2)\n",
    "        return  shuffledHalf +  firstHalf \n",
    "    }\n",
    "}\n",
    "\n",
    "val f0 = shuffleString(\"1234\")\n",
    "val f1 = shuffleString(\"12345\")\n",
    "val f2 = shuffleString(\"123456\")\n",
    "val f3 = shuffleString(\"1234567\")\n",
    "val f4 = shuffleString(\"12345678\")\n",
    "val f5 = shuffleString(\"123456789\")"
   ]
  },
  {
   "cell_type": "markdown",
   "metadata": {
    "deletable": false,
    "editable": false,
    "nbgrader": {
     "cell_type": "markdown",
     "checksum": "225cda10c6340ab96045c83693b921a6",
     "grade": false,
     "grade_id": "cell-41b11e6aa881ddb4",
     "locked": true,
     "schema_version": 3,
     "solution": false
    }
   },
   "source": [
    "Implement a tail recursive version of `shuffleString` using an accumulator variable. It will help to carefully examine how different parts of the string get rearranged to design this function or even first try to write a simple while loop that mimics `shuffleString`."
   ]
  },
  {
   "cell_type": "code",
   "execution_count": 7,
   "metadata": {
    "deletable": false,
    "nbgrader": {
     "cell_type": "code",
     "checksum": "47409f7b35c7348532877775de9c0831",
     "grade": false,
     "grade_id": "answer_2",
     "locked": false,
     "schema_version": 3,
     "solution": true
    }
   },
   "outputs": [
    {
     "data": {
      "text/plain": [
       "defined \u001b[32mfunction\u001b[39m \u001b[36mtailRecursiveShuffleString\u001b[39m"
      ]
     },
     "execution_count": 7,
     "metadata": {},
     "output_type": "execute_result"
    }
   ],
   "source": [
    "/* tailRecursiveShuffleString - Tail-recursively shuffles a string by moving the second half to the front\n",
    "    Input:\n",
    "        s - A string to be shuffled\n",
    "        acc - An accumulator string to build the result (default is an empty string)\n",
    "    Algorithm:\n",
    "        * Determine the length of the input string n\n",
    "        * If the length n is less than or equal to 1:\n",
    "            - Concatenate the string s with the accumulator acc and return the result\n",
    "        * Otherwise:\n",
    "            - Split the string into two halves: the second half starting from index n/2 to the end, and the first half from the beginning to index n/2\n",
    "            - Recursively call tailRecursiveShuffleString on the second half with the first half concatenated to the accumulator\n",
    "    Output:\n",
    "        A new string with the second half of the original string moved to the front, tail-recursively shuffled\n",
    "*/\n",
    "@scala.annotation.tailrec\n",
    "def tailRecursiveShuffleString(s: String, acc: String = \"\"): String = {\n",
    "    // YOUR CODE HERE\n",
    "    val n = s.length()\n",
    "    if (n <= 1) {\n",
    "        s + acc;\n",
    "    }\n",
    "    else {\n",
    "        tailRecursiveShuffleString(s.substring(n / 2, n), s.substring(0, n / 2) + acc);\n",
    "    }\n",
    "}"
   ]
  },
  {
   "cell_type": "code",
   "execution_count": 8,
   "metadata": {
    "deletable": false,
    "editable": false,
    "nbgrader": {
     "cell_type": "code",
     "checksum": "704f1767f0f1571143b63ee99e11d9f9",
     "grade": true,
     "grade_id": "tests_2",
     "locked": true,
     "points": 5,
     "schema_version": 3,
     "solution": false
    }
   },
   "outputs": [
    {
     "name": "stdout",
     "output_type": "stream",
     "text": [
      "\n",
      "*** Tests Passed (5 points) ***\n"
     ]
    }
   ],
   "source": [
    "//BEGIN TEST\n",
    "assert(shuffleString(\"1\") == tailRecursiveShuffleString(\"1\"), \"Failed test 1\")\n",
    "assert(shuffleString(\"12\") == tailRecursiveShuffleString(\"12\"), \"Failed test 12\")\n",
    "passed(5)\n",
    "//END TEST"
   ]
  },
  {
   "cell_type": "code",
   "execution_count": 9,
   "metadata": {
    "deletable": false,
    "editable": false,
    "nbgrader": {
     "cell_type": "code",
     "checksum": "ff95b0b66cf6adefe35984b3473fa174",
     "grade": true,
     "grade_id": "cell-c174e2598d2c215b",
     "locked": true,
     "points": 5,
     "schema_version": 3,
     "solution": false
    }
   },
   "outputs": [
    {
     "name": "stdout",
     "output_type": "stream",
     "text": [
      "\n",
      "*** Tests Passed (5 points) ***\n"
     ]
    }
   ],
   "source": [
    "//BEGIN TEST\n",
    "assert(shuffleString(\"123\") == tailRecursiveShuffleString(\"123\"), \"Failed test 123\")\n",
    "assert(shuffleString(\"1234\") == tailRecursiveShuffleString(\"1234\"), \"Failed test 1234\")\n",
    "passed(5)\n",
    "//END TEST"
   ]
  },
  {
   "cell_type": "code",
   "execution_count": 10,
   "metadata": {
    "deletable": false,
    "editable": false,
    "nbgrader": {
     "cell_type": "code",
     "checksum": "88869c61c66e9d6f32066fefae87d6d1",
     "grade": true,
     "grade_id": "cell-87ed95f98899fdc2",
     "locked": true,
     "points": 5,
     "schema_version": 3,
     "solution": false
    }
   },
   "outputs": [
    {
     "name": "stdout",
     "output_type": "stream",
     "text": [
      "\n",
      "*** Tests Passed (5 points) ***\n"
     ]
    }
   ],
   "source": [
    "//BEGIN TEST\n",
    "assert(shuffleString(\"12345\") == tailRecursiveShuffleString(\"12345\"), \"Failed test 12345\")\n",
    "assert(shuffleString(\"123456\") == tailRecursiveShuffleString(\"123456\"), \"Failed test 123456\")\n",
    "assert(shuffleString(\"1234567\") == tailRecursiveShuffleString(\"1234567\"), \"Failed test 1234567\")\n",
    "assert(shuffleString(\"12345678\") == tailRecursiveShuffleString(\"12345678\"), \"Failed test 12345678\")\n",
    "assert(shuffleString(\"123456789\") == tailRecursiveShuffleString(\"123456789\"), \"Failed test 123456789\")\n",
    "assert(shuffleString(\"1234567890\") == tailRecursiveShuffleString(\"1234567890\"), \"Failed test 1234567890\")\n",
    "passed(5)\n",
    "//END TEST"
   ]
  },
  {
   "cell_type": "markdown",
   "metadata": {
    "deletable": false,
    "editable": false,
    "nbgrader": {
     "cell_type": "markdown",
     "checksum": "63965a9584c37c34093a9e387d1ac698",
     "grade": false,
     "grade_id": "cell-81cdcc323818976e",
     "locked": true,
     "schema_version": 3,
     "solution": false
    }
   },
   "source": [
    "## Problem 3 (20 points)\n",
    "\n",
    "Convert the following inductive definition for regular expressions into a grammar first and then into a set of scala classes.\n",
    "\n",
    "A regular expression is defined inductively as follows:\n",
    "- Any string s is an \"atomic\" regular expression.\n",
    "- If $r_1$, $r_2$ are regular expressions then so are\n",
    "  - The concatenation $r_1 ; r_2$, \n",
    "  - The disjunction $r_1 | r_2$, and \n",
    "  - The conjunction $r_1 \\& r_2$.\n",
    "- If $r$ is a regular expression, then its Kleene star $r^*$ is also a regular expression.\n",
    "\n",
    "Use the constructor symbols:\n",
    "  - $\\text{Atom}(s)$ to denote an atomic regular expression,\n",
    "  - $\\text{Concat}(r_1, r_2)$ for the \";\" operator, \n",
    "  - $\\text{Or}(r_1, r_2)$ for the \"|\" operator, \n",
    "  - $\\text{And}(r_1, r_2)$ for the \"&\" operator and \n",
    "  - $\\text{Star}(r)$ for the Kleene-star operator. \n",
    "  \n",
    "You may use the nonterminal $\\textbf{string}$ without definition to denote a string of characters."
   ]
  },
  {
   "cell_type": "markdown",
   "metadata": {
    "deletable": false,
    "editable": false,
    "nbgrader": {
     "cell_type": "markdown",
     "checksum": "94d67433a1337072493b15821ba3801b",
     "grade": false,
     "grade_id": "cell-f1ddab147675a4e6",
     "locked": true,
     "schema_version": 3,
     "solution": false
    }
   },
   "source": [
    "### A (7 point)\n",
    "Write the grammar using constructor symbols for the inductive definition above. __Tip:__ you can examine the notebooks with inductive definitions to see how we typeset the grammar. There are no tests for this because it will be manualy graded."
   ]
  },
  {
   "cell_type": "markdown",
   "metadata": {
    "deletable": false,
    "nbgrader": {
     "cell_type": "markdown",
     "checksum": "a9d62bc05c17700e2259c1fa8b298739",
     "grade": true,
     "grade_id": "answer_3a",
     "locked": false,
     "points": 7,
     "schema_version": 3,
     "solution": true
    }
   },
   "source": [
    "To write the grammar of this, we need to consider what we are working with. The constructor symbol starts off with a string. The following constructors work with regexes. The original regex can be considered as \"Empty\". Formally, this looks something like (S represents a string, R represents a Regex)\n",
    "\n",
    "\\begin{align*}\n",
    "    \\text{Regex} & \\rightarrow & \\varnothing , & \\text{ (Empty)} \\\\\n",
    "    & \\rightarrow & \\text{ Atom(S),} & \\text{ (String)} \\\\\n",
    "    & \\rightarrow & \\text{ Concat(R, R),} & \\text{ (Regex)} \\\\\n",
    "    & \\rightarrow & \\text{ Or(R, R),} & \\text{ (Regex)} \\\\\n",
    "    & \\rightarrow & \\text{ And(R, R),} & \\text{ (Regex)} \\\\\n",
    "    & \\rightarrow & \\text{ Star(R),} & \\text{ (Regex).}\n",
    "\\end{align*}"
   ]
  },
  {
   "cell_type": "markdown",
   "metadata": {
    "deletable": false,
    "editable": false,
    "nbgrader": {
     "cell_type": "markdown",
     "checksum": "14931160f289eae6c41a5428943c4cdb",
     "grade": false,
     "grade_id": "cell-e0e8da3d6108f6e2",
     "locked": true,
     "schema_version": 3,
     "solution": false
    }
   },
   "source": [
    "### B (7 points)\n",
    "Define the structure as a set of case class in scala.\n"
   ]
  },
  {
   "cell_type": "code",
   "execution_count": 11,
   "metadata": {
    "deletable": false,
    "nbgrader": {
     "cell_type": "code",
     "checksum": "0575d7fc362b3c9cfd8520b6a7835559",
     "grade": false,
     "grade_id": "answer_3b",
     "locked": false,
     "schema_version": 3,
     "solution": true
    }
   },
   "outputs": [
    {
     "data": {
      "text/plain": [
       "defined \u001b[32mtrait\u001b[39m \u001b[36mRegex\u001b[39m\n",
       "defined \u001b[32mclass\u001b[39m \u001b[36mEmpty\u001b[39m\n",
       "defined \u001b[32mclass\u001b[39m \u001b[36mAtom\u001b[39m\n",
       "defined \u001b[32mclass\u001b[39m \u001b[36mConcat\u001b[39m\n",
       "defined \u001b[32mclass\u001b[39m \u001b[36mOr\u001b[39m\n",
       "defined \u001b[32mclass\u001b[39m \u001b[36mAnd\u001b[39m\n",
       "defined \u001b[32mclass\u001b[39m \u001b[36mStar\u001b[39m"
      ]
     },
     "execution_count": 11,
     "metadata": {},
     "output_type": "execute_result"
    }
   ],
   "source": [
    "sealed trait Regex\n",
    "// Use constructors: Atom, Concat, Or, And and Star\n",
    "// YOUR CODE HERE\n",
    "case class Empty() extends Regex;\n",
    "case class Atom(s: String) extends Regex;\n",
    "case class Concat(r1: Regex, r2: Regex) extends Regex;\n",
    "case class Or(r1: Regex, r2: Regex) extends Regex;\n",
    "case class And(r1: Regex, r2: Regex) extends Regex;\n",
    "case class Star(r: Regex) extends Regex;"
   ]
  },
  {
   "cell_type": "code",
   "execution_count": 12,
   "metadata": {
    "deletable": false,
    "editable": false,
    "nbgrader": {
     "cell_type": "code",
     "checksum": "b1b85c82de175b5254ba959fab982de9",
     "grade": true,
     "grade_id": "tests_3b",
     "locked": true,
     "points": 7,
     "schema_version": 3,
     "solution": false
    }
   },
   "outputs": [
    {
     "name": "stdout",
     "output_type": "stream",
     "text": [
      "\n",
      "*** Tests Passed (7 points) ***\n"
     ]
    },
    {
     "data": {
      "text/plain": [
       "\u001b[36mv1\u001b[39m: \u001b[32mAtom\u001b[39m = \u001b[33mAtom\u001b[39m(s = \u001b[32m\"Hello\"\u001b[39m)\n",
       "\u001b[36mv2\u001b[39m: \u001b[32mConcat\u001b[39m = \u001b[33mConcat\u001b[39m(r1 = \u001b[33mAtom\u001b[39m(s = \u001b[32m\"Hello\"\u001b[39m), r2 = \u001b[33mAtom\u001b[39m(s = \u001b[32m\"Hello\"\u001b[39m))\n",
       "\u001b[36mv3\u001b[39m: \u001b[32mOr\u001b[39m = \u001b[33mOr\u001b[39m(\n",
       "  r1 = \u001b[33mAtom\u001b[39m(s = \u001b[32m\"Hello\"\u001b[39m),\n",
       "  r2 = \u001b[33mConcat\u001b[39m(r1 = \u001b[33mAtom\u001b[39m(s = \u001b[32m\"Hello\"\u001b[39m), r2 = \u001b[33mAtom\u001b[39m(s = \u001b[32m\"Hello\"\u001b[39m))\n",
       ")\n",
       "\u001b[36mv4\u001b[39m: \u001b[32mStar\u001b[39m = \u001b[33mStar\u001b[39m(\n",
       "  r = \u001b[33mOr\u001b[39m(\n",
       "    r1 = \u001b[33mAtom\u001b[39m(s = \u001b[32m\"Hello\"\u001b[39m),\n",
       "    r2 = \u001b[33mConcat\u001b[39m(r1 = \u001b[33mAtom\u001b[39m(s = \u001b[32m\"Hello\"\u001b[39m), r2 = \u001b[33mAtom\u001b[39m(s = \u001b[32m\"Hello\"\u001b[39m))\n",
       "  )\n",
       ")\n",
       "\u001b[36mv5\u001b[39m: \u001b[32mOr\u001b[39m = \u001b[33mOr\u001b[39m(\n",
       "  r1 = \u001b[33mAtom\u001b[39m(s = \u001b[32m\"Hello\"\u001b[39m),\n",
       "  r2 = \u001b[33mStar\u001b[39m(\n",
       "    r = \u001b[33mOr\u001b[39m(\n",
       "      r1 = \u001b[33mAtom\u001b[39m(s = \u001b[32m\"Hello\"\u001b[39m),\n",
       "      r2 = \u001b[33mConcat\u001b[39m(r1 = \u001b[33mAtom\u001b[39m(s = \u001b[32m\"Hello\"\u001b[39m), r2 = \u001b[33mAtom\u001b[39m(s = \u001b[32m\"Hello\"\u001b[39m))\n",
       "    )\n",
       "  )\n",
       ")"
      ]
     },
     "execution_count": 12,
     "metadata": {},
     "output_type": "execute_result"
    }
   ],
   "source": [
    "//BEGIN TEST\n",
    "val v1 = Atom(\"Hello\")\n",
    "val v2 = Concat(v1, v1)\n",
    "val v3 = Or(v1, v2)\n",
    "val v4 = Star(v3)\n",
    "val v5 = Or(v1, v4)\n",
    "passed(7)\n",
    "//END TEST"
   ]
  },
  {
   "cell_type": "markdown",
   "metadata": {
    "deletable": false,
    "editable": false,
    "nbgrader": {
     "cell_type": "markdown",
     "checksum": "39bc4ab59b83c05f086234066ea4ff39",
     "grade": false,
     "grade_id": "cell-f847cff392d180bd",
     "locked": true,
     "schema_version": 3,
     "solution": false
    }
   },
   "source": [
    "### C (6 points)\n",
    "Write down the representation of the regular expression in Scala. Your cell must define a term that should be called `finalAnswerC`.\n",
    "\n",
    "$$ (\\text{\"hello\"})^* ;  ((\\text{\"scala\"}; \\text{\"best\"})^*) $$\n"
   ]
  },
  {
   "cell_type": "code",
   "execution_count": 13,
   "metadata": {
    "deletable": false,
    "nbgrader": {
     "cell_type": "code",
     "checksum": "01f5a91e65a794f7aa59f7947ac36f37",
     "grade": false,
     "grade_id": "answer_3c",
     "locked": false,
     "schema_version": 3,
     "solution": true
    }
   },
   "outputs": [
    {
     "data": {
      "text/plain": [
       "\u001b[36mfinalAnswerC\u001b[39m: \u001b[32mConcat\u001b[39m = \u001b[33mConcat\u001b[39m(\n",
       "  r1 = \u001b[33mStar\u001b[39m(r = \u001b[33mAtom\u001b[39m(s = \u001b[32m\"hello\"\u001b[39m)),\n",
       "  r2 = \u001b[33mStar\u001b[39m(r = \u001b[33mConcat\u001b[39m(r1 = \u001b[33mAtom\u001b[39m(s = \u001b[32m\"scala\"\u001b[39m), r2 = \u001b[33mAtom\u001b[39m(s = \u001b[32m\"best\"\u001b[39m)))\n",
       ")"
      ]
     },
     "execution_count": 13,
     "metadata": {},
     "output_type": "execute_result"
    }
   ],
   "source": [
    "val finalAnswerC = {\n",
    "    // YOUR CODE HERE\n",
    "    Concat(Star(Atom(\"hello\")), Star(Concat(Atom(\"scala\"), Atom(\"best\"))));\n",
    "}"
   ]
  },
  {
   "cell_type": "code",
   "execution_count": 14,
   "metadata": {
    "deletable": false,
    "editable": false,
    "nbgrader": {
     "cell_type": "code",
     "checksum": "12fb5a7baf0a5096c71ef3102ce2faaa",
     "grade": true,
     "grade_id": "tests_3c",
     "locked": true,
     "points": 6,
     "schema_version": 3,
     "solution": false
    }
   },
   "outputs": [
    {
     "name": "stderr",
     "output_type": "stream",
     "text": [
      "cell14.sc:2: match may not be exhaustive.\n",
      "It would fail on the following input: Empty()\n",
      "def munge(r: Regex): String = r match {\n",
      "                              ^\n"
     ]
    },
    {
     "name": "stdout",
     "output_type": "stream",
     "text": [
      "\n",
      "*** Tests Passed (6 points) ***\n"
     ]
    },
    {
     "data": {
      "text/plain": [
       "defined \u001b[32mfunction\u001b[39m \u001b[36mmunge\u001b[39m"
      ]
     },
     "execution_count": 14,
     "metadata": {},
     "output_type": "execute_result"
    }
   ],
   "source": [
    "//BEGIN TEST\n",
    "def munge(r: Regex): String = r match {\n",
    "    case Atom(st) => \"$A$\"+st\n",
    "    case Concat(r1, r2) => munge(r1)+\"$C$\"+munge(r2)\n",
    "    case Star(r) => \"$K$\"+munge(r)+\"$S$\"\n",
    "    case Or(r1, r2) => munge(r1)+\"_O_\"+munge(r2)\n",
    "    case And(r1,r2) => munge(r1)+\"/\\\\\"+ munge(r2)\n",
    "}\n",
    "\n",
    "assert(munge(finalAnswerC) == \"$K$$A$hello$S$$C$$K$$A$scala$C$$A$best$S$\", \"Test failed: you should seek help from the course staff to help you debug this problem, please\")\n",
    "passed(6)\n",
    "//END TEST"
   ]
  }
 ],
 "metadata": {
  "kernelspec": {
   "display_name": "Scala",
   "language": "scala",
   "name": "scala"
  },
  "language_info": {
   "codemirror_mode": "text/x-scala",
   "file_extension": ".sc",
   "mimetype": "text/x-scala",
   "name": "scala",
   "nbconvert_exporter": "script",
   "version": "2.13.12"
  }
 },
 "nbformat": 4,
 "nbformat_minor": 2
}
