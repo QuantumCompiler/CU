{
 "cells": [
  {
   "cell_type": "code",
   "execution_count": null,
   "metadata": {},
   "outputs": [],
   "source": []
  },
  {
   "attachments": {},
   "cell_type": "markdown",
   "metadata": {
    "deletable": false,
    "editable": false,
    "nbgrader": {
     "cell_type": "markdown",
     "checksum": "5ff89b158e3ee1650ac4a16590e6aa84",
     "grade": false,
     "grade_id": "cell-e0dcd8e0c2513390",
     "locked": true,
     "schema_version": 3,
     "solution": false
    }
   },
   "source": [
    "# CSPB 3155: Assignment 2\n",
    "\n",
    "Topics covered: recursion and inductive definitions."
   ]
  },
  {
   "cell_type": "markdown",
   "metadata": {},
   "source": [
    "__YOUR NAME HERE__\n",
    "\n",
    "Note: Please first run the `TEST HELPER` cell that defines the `passed` function below. Failing to run this cell will make it hard for you to check your work."
   ]
  },
  {
   "cell_type": "code",
   "execution_count": null,
   "metadata": {
    "deletable": false,
    "editable": false,
    "nbgrader": {
     "cell_type": "code",
     "checksum": "96678f5d66f4c661e13ffc883498a235",
     "grade": false,
     "grade_id": "cell-0ff5abf81cd57123",
     "locked": true,
     "schema_version": 3,
     "solution": false
    }
   },
   "outputs": [],
   "source": [
    "// TEST HELPER\n",
    "def passed(points: Int) {\n",
    "    require(points >=0)\n",
    "    if (points == 1) print(s\"\\n*** Tests Passed (1 point) ***\\n\")\n",
    "    else print(s\"\\n*** Tests Passed ($points points) ***\\n\")\n",
    "}"
   ]
  },
  {
   "cell_type": "markdown",
   "metadata": {
    "deletable": false,
    "editable": false,
    "nbgrader": {
     "cell_type": "markdown",
     "checksum": "aa476612e71503bca649bc5184017119",
     "grade": false,
     "grade_id": "cell-edc3a04e8cb8306b",
     "locked": true,
     "schema_version": 3,
     "solution": false
    }
   },
   "source": [
    "## Problem 1 (10 points total)"
   ]
  },
  {
   "cell_type": "markdown",
   "metadata": {
    "deletable": false,
    "editable": false,
    "nbgrader": {
     "cell_type": "markdown",
     "checksum": "1df38c76600d45cfcf03b630311acd0e",
     "grade": false,
     "grade_id": "cell-b52581c289282f6d",
     "locked": true,
     "schema_version": 3,
     "solution": false
    }
   },
   "source": [
    "### A (5 points) Recursive `logTen`\n",
    "Given a positive integer $n$, we wish to compute $\\textsf{floor}(\\log_{10}(n))$. Recall `floor` of a real number is the smallest integer that is less than or equal to it. Write a recursive function `logTen(n: Int): Int` that does the same. Ensure that your precondition restricts the inputs to  $n > 0$."
   ]
  },
  {
   "cell_type": "code",
   "execution_count": null,
   "metadata": {
    "deletable": false,
    "nbgrader": {
     "cell_type": "code",
     "checksum": "b6eac58035a896c6ecbd1f2260603194",
     "grade": false,
     "grade_id": "answer_1a",
     "locked": false,
     "schema_version": 3,
     "solution": true
    }
   },
   "outputs": [],
   "source": [
    "def logTen(n: Int): Int = {\n",
    "    require( n >= 1) // If this is violated, you will get a \"requirement failed message\"\n",
    "    ??? // YOUR CODE HERE\n",
    "}"
   ]
  },
  {
   "cell_type": "code",
   "execution_count": null,
   "metadata": {
    "deletable": false,
    "editable": false,
    "nbgrader": {
     "cell_type": "code",
     "checksum": "aff700dcec8f82949a29354b42acd1c1",
     "grade": true,
     "grade_id": "tests_1a",
     "locked": true,
     "points": 5,
     "schema_version": 3,
     "solution": false
    }
   },
   "outputs": [],
   "source": [
    "//BEGIN TEST\n",
    "assert(logTen(1) == 0, \"logTen(1) must be 0\")\n",
    "assert(logTen(10) == 1, \"logTen(10) must be 1\")\n",
    "assert(logTen(11) == 1, \"logTen(11) must be 1\")\n",
    "assert(logTen(4100) == 3, \"logTen(4100) must be 3\")\n",
    "assert(logTen(30108100) == 7, \"logTen(30108100) must be 7\")\n",
    "passed(5)\n",
    "//END TEST"
   ]
  },
  {
   "cell_type": "markdown",
   "metadata": {
    "deletable": false,
    "editable": false,
    "nbgrader": {
     "cell_type": "markdown",
     "checksum": "f4774caadb8944447f2bd80a4fd1aa11",
     "grade": false,
     "grade_id": "cell-12d5214e2a806a43",
     "locked": true,
     "schema_version": 3,
     "solution": false
    }
   },
   "source": [
    "### B (5 points) _Tail_ Recursive `logTen`\n",
    "Now, write a tail recursive version of the `logTen` function, called `logTenTail`. You should implement the helper function as a tail recursive function."
   ]
  },
  {
   "cell_type": "code",
   "execution_count": null,
   "metadata": {
    "deletable": false,
    "nbgrader": {
     "cell_type": "code",
     "checksum": "fd479ac91e753cbbbcef46f6d6574f41",
     "grade": false,
     "grade_id": "answer_1b",
     "locked": false,
     "schema_version": 3,
     "solution": true
    }
   },
   "outputs": [],
   "source": [
    "import scala.annotation.tailrec\n",
    "\n",
    "@tailrec\n",
    "def logTenHelper(n: Int, acc: Int): Int = {\n",
    "    require(n >= 1)\n",
    "    ??? // YOUR CODE HERE\n",
    "}\n",
    "\n",
    "def logTenTail(n: Int): Int = { \n",
    "    ??? // YOUR CODE HERE\n",
    "}\n"
   ]
  },
  {
   "cell_type": "code",
   "execution_count": null,
   "metadata": {
    "deletable": false,
    "editable": false,
    "nbgrader": {
     "cell_type": "code",
     "checksum": "446b07713f23d063729031bd43610b39",
     "grade": true,
     "grade_id": "tests_1b",
     "locked": true,
     "points": 5,
     "schema_version": 3,
     "solution": false
    }
   },
   "outputs": [],
   "source": [
    "// BEGIN TEST\n",
    "assert(logTenTail(1) == 0, \"logTen(1) must be 0\")\n",
    "assert(logTenTail(218) == 2, \"logTen(218) must be 2\")\n",
    "assert(logTenTail(3) == 0, \"logTen(3) must be 0\")\n",
    "assert(logTenTail(159) == 2, \"logTen(159) must be 2\")\n",
    "assert(logTenTail(121349) == 5, \"logTen(121349) must be 5\")\n",
    "passed(5)\n",
    "//END TEST"
   ]
  },
  {
   "cell_type": "markdown",
   "metadata": {
    "deletable": false,
    "editable": false,
    "nbgrader": {
     "cell_type": "markdown",
     "checksum": "6be88b07bd3f73d5f2b30d75eeda76d4",
     "grade": false,
     "grade_id": "cell-ea75378d2e0e50c2",
     "locked": true,
     "schema_version": 3,
     "solution": false
    }
   },
   "source": [
    "## Problem 2 (15 points)"
   ]
  },
  {
   "cell_type": "markdown",
   "metadata": {
    "deletable": false,
    "editable": false,
    "nbgrader": {
     "cell_type": "markdown",
     "checksum": "eb749d50a7fb74e1c3a7d3cd68fe93c5",
     "grade": false,
     "grade_id": "cell-a586cec16d8a92e7",
     "locked": true,
     "schema_version": 3,
     "solution": false
    }
   },
   "source": [
    "We define a function `shuffleString(s: String): String` that, given an\n",
    "input string `s`, does the following:\n",
    "- If the string `s` is empty or length 1, the result is the same as input string `s`.\n",
    "- Let n be the length of s.\n",
    "- Recursively call `shuffleString` on the substring `s(n/2)... s(n-1)`. Let `s1` be the result\n",
    "- Concatenate `s1` to the first half `s(0)..s(n/2-1)` to the result of the call.\n",
    "\n",
    "Here is an implementation of this function and some examples, for your reference.\n"
   ]
  },
  {
   "cell_type": "code",
   "execution_count": null,
   "metadata": {
    "deletable": false,
    "editable": false,
    "nbgrader": {
     "cell_type": "code",
     "checksum": "f07fdb2af1edb9ba41773c27445a4351",
     "grade": false,
     "grade_id": "cell-815e98469269ed5e",
     "locked": true,
     "schema_version": 3,
     "solution": false
    }
   },
   "outputs": [],
   "source": [
    "def shuffleString(s: String): String = {\n",
    "    val n = s.length()\n",
    "    if (n <= 1) { s }\n",
    "    else {\n",
    "        val secondHalf = s.substring(n/2, n)\n",
    "        val shuffledHalf = shuffleString(secondHalf)\n",
    "        val firstHalf = s.substring(0, n/2)\n",
    "        return  shuffledHalf +  firstHalf \n",
    "    }\n",
    "}\n",
    "\n",
    "val f0 = shuffleString(\"1234\")\n",
    "val f1 = shuffleString(\"12345\")\n",
    "val f2 = shuffleString(\"123456\")\n",
    "val f3 = shuffleString(\"1234567\")\n",
    "val f4 = shuffleString(\"12345678\")\n",
    "val f5 = shuffleString(\"123456789\")"
   ]
  },
  {
   "cell_type": "markdown",
   "metadata": {
    "deletable": false,
    "editable": false,
    "nbgrader": {
     "cell_type": "markdown",
     "checksum": "225cda10c6340ab96045c83693b921a6",
     "grade": false,
     "grade_id": "cell-41b11e6aa881ddb4",
     "locked": true,
     "schema_version": 3,
     "solution": false
    }
   },
   "source": [
    "Implement a tail recursive version of `shuffleString` using an accumulator variable. It will help to carefully examine how different parts of the string get rearranged to design this function or even first try to write a simple while loop that mimics `shuffleString`."
   ]
  },
  {
   "cell_type": "code",
   "execution_count": null,
   "metadata": {
    "deletable": false,
    "nbgrader": {
     "cell_type": "code",
     "checksum": "47409f7b35c7348532877775de9c0831",
     "grade": false,
     "grade_id": "answer_2",
     "locked": false,
     "schema_version": 3,
     "solution": true
    }
   },
   "outputs": [],
   "source": [
    "def tailRecursiveShuffleString(s: String, acc: String = \"\"): String = {\n",
    "    ??? // YOUR CODE HERE\n",
    "}"
   ]
  },
  {
   "cell_type": "code",
   "execution_count": null,
   "metadata": {
    "deletable": false,
    "editable": false,
    "nbgrader": {
     "cell_type": "code",
     "checksum": "704f1767f0f1571143b63ee99e11d9f9",
     "grade": true,
     "grade_id": "tests_2",
     "locked": true,
     "points": 5,
     "schema_version": 3,
     "solution": false
    }
   },
   "outputs": [],
   "source": [
    "//BEGIN TEST\n",
    "assert(shuffleString(\"1\") == tailRecursiveShuffleString(\"1\"), \"Failed test 1\")\n",
    "assert(shuffleString(\"12\") == tailRecursiveShuffleString(\"12\"), \"Failed test 12\")\n",
    "passed(5)\n",
    "//END TEST"
   ]
  },
  {
   "cell_type": "code",
   "execution_count": null,
   "metadata": {
    "deletable": false,
    "editable": false,
    "nbgrader": {
     "cell_type": "code",
     "checksum": "ff95b0b66cf6adefe35984b3473fa174",
     "grade": true,
     "grade_id": "cell-c174e2598d2c215b",
     "locked": true,
     "points": 5,
     "schema_version": 3,
     "solution": false
    }
   },
   "outputs": [],
   "source": [
    "//BEGIN TEST\n",
    "assert(shuffleString(\"123\") == tailRecursiveShuffleString(\"123\"), \"Failed test 123\")\n",
    "assert(shuffleString(\"1234\") == tailRecursiveShuffleString(\"1234\"), \"Failed test 1234\")\n",
    "passed(5)\n",
    "//END TEST"
   ]
  },
  {
   "cell_type": "code",
   "execution_count": null,
   "metadata": {
    "deletable": false,
    "editable": false,
    "nbgrader": {
     "cell_type": "code",
     "checksum": "88869c61c66e9d6f32066fefae87d6d1",
     "grade": true,
     "grade_id": "cell-87ed95f98899fdc2",
     "locked": true,
     "points": 5,
     "schema_version": 3,
     "solution": false
    }
   },
   "outputs": [],
   "source": [
    "//BEGIN TEST\n",
    "assert(shuffleString(\"12345\") == tailRecursiveShuffleString(\"12345\"), \"Failed test 12345\")\n",
    "assert(shuffleString(\"123456\") == tailRecursiveShuffleString(\"123456\"), \"Failed test 123456\")\n",
    "assert(shuffleString(\"1234567\") == tailRecursiveShuffleString(\"1234567\"), \"Failed test 1234567\")\n",
    "assert(shuffleString(\"12345678\") == tailRecursiveShuffleString(\"12345678\"), \"Failed test 12345678\")\n",
    "assert(shuffleString(\"123456789\") == tailRecursiveShuffleString(\"123456789\"), \"Failed test 123456789\")\n",
    "assert(shuffleString(\"1234567890\") == tailRecursiveShuffleString(\"1234567890\"), \"Failed test 1234567890\")\n",
    "passed(5)\n",
    "//END TEST"
   ]
  },
  {
   "cell_type": "markdown",
   "metadata": {
    "deletable": false,
    "editable": false,
    "nbgrader": {
     "cell_type": "markdown",
     "checksum": "63965a9584c37c34093a9e387d1ac698",
     "grade": false,
     "grade_id": "cell-81cdcc323818976e",
     "locked": true,
     "schema_version": 3,
     "solution": false
    }
   },
   "source": [
    "## Problem 3 (20 points)\n",
    "\n",
    "Convert the following inductive definition for regular expressions into a grammar first and then into a set of scala classes.\n",
    "\n",
    "A regular expression is defined inductively as follows:\n",
    "- Any string s is an \"atomic\" regular expression.\n",
    "- If $r_1$, $r_2$ are regular expressions then so are\n",
    "  - The concatenation $r_1 ; r_2$, \n",
    "  - The disjunction $r_1 | r_2$, and \n",
    "  - The conjunction $r_1 \\& r_2$.\n",
    "- If $r$ is a regular expression, then its Kleene star $r^*$ is also a regular expression.\n",
    "\n",
    "Use the constructor symbols:\n",
    "  - $\\text{Atom}(s)$ to denote an atomic regular expression,\n",
    "  - $\\text{Concat}(r_1, r_2)$ for the \";\" operator, \n",
    "  - $\\text{Or}(r_1, r_2)$ for the \"|\" operator, \n",
    "  - $\\text{And}(r_1, r_2)$ for the \"&\" operator and \n",
    "  - $\\text{Star}(r)$ for the Kleene-star operator. \n",
    "  \n",
    "You may use the nonterminal $\\textbf{string}$ without definition to denote a string of characters.\n",
    "\n",
    "\n"
   ]
  },
  {
   "cell_type": "markdown",
   "metadata": {
    "deletable": false,
    "editable": false,
    "nbgrader": {
     "cell_type": "markdown",
     "checksum": "94d67433a1337072493b15821ba3801b",
     "grade": false,
     "grade_id": "cell-f1ddab147675a4e6",
     "locked": true,
     "schema_version": 3,
     "solution": false
    }
   },
   "source": [
    "### A (7 point)\n",
    "Write the grammar using constructor symbols for the inductive definition above. __Tip:__ you can examine the notebooks with inductive definitions to see how we typeset the grammar. There are no tests for this because it will be manualy graded."
   ]
  },
  {
   "cell_type": "markdown",
   "metadata": {
    "deletable": false,
    "nbgrader": {
     "cell_type": "markdown",
     "checksum": "a9d62bc05c17700e2259c1fa8b298739",
     "grade": true,
     "grade_id": "answer_3a",
     "locked": false,
     "points": 7,
     "schema_version": 3,
     "solution": true
    }
   },
   "source": [
    "YOUR ANSWER HERE"
   ]
  },
  {
   "cell_type": "markdown",
   "metadata": {
    "deletable": false,
    "editable": false,
    "nbgrader": {
     "cell_type": "markdown",
     "checksum": "14931160f289eae6c41a5428943c4cdb",
     "grade": false,
     "grade_id": "cell-e0e8da3d6108f6e2",
     "locked": true,
     "schema_version": 3,
     "solution": false
    }
   },
   "source": [
    "### B (7 points)\n",
    "Define the structure as a set of case class in scala.\n"
   ]
  },
  {
   "cell_type": "code",
   "execution_count": null,
   "metadata": {
    "deletable": false,
    "nbgrader": {
     "cell_type": "code",
     "checksum": "0575d7fc362b3c9cfd8520b6a7835559",
     "grade": false,
     "grade_id": "answer_3b",
     "locked": false,
     "schema_version": 3,
     "solution": true
    }
   },
   "outputs": [],
   "source": [
    "sealed trait Regex\n",
    "// Use constructors: Atom, Concat, Or, And and Star\n",
    "??? // YOUR CODE HERE"
   ]
  },
  {
   "cell_type": "code",
   "execution_count": null,
   "metadata": {
    "deletable": false,
    "editable": false,
    "nbgrader": {
     "cell_type": "code",
     "checksum": "b1b85c82de175b5254ba959fab982de9",
     "grade": true,
     "grade_id": "tests_3b",
     "locked": true,
     "points": 7,
     "schema_version": 3,
     "solution": false
    }
   },
   "outputs": [],
   "source": [
    "//BEGIN TEST\n",
    "val v1 = Atom(\"Hello\")\n",
    "val v2 = Concat(v1, v1)\n",
    "val v3 = Or(v1, v2)\n",
    "val v4 = Star(v3)\n",
    "val v5 = Or(v1, v4)\n",
    "passed(7)\n",
    "//END TEST"
   ]
  },
  {
   "cell_type": "markdown",
   "metadata": {
    "deletable": false,
    "editable": false,
    "nbgrader": {
     "cell_type": "markdown",
     "checksum": "39bc4ab59b83c05f086234066ea4ff39",
     "grade": false,
     "grade_id": "cell-f847cff392d180bd",
     "locked": true,
     "schema_version": 3,
     "solution": false
    }
   },
   "source": [
    "### C (6 points)\n",
    "Write down the representation of the regular expression in Scala. Your cell must define a term that should be called `finalAnswerC`.\n",
    "\n",
    "$$ (\\text{\"hello\"})^* ;  ((\\text{\"scala\"}; \\text{\"best\"})^*) $$\n"
   ]
  },
  {
   "cell_type": "code",
   "execution_count": null,
   "metadata": {
    "deletable": false,
    "nbgrader": {
     "cell_type": "code",
     "checksum": "01f5a91e65a794f7aa59f7947ac36f37",
     "grade": false,
     "grade_id": "answer_3c",
     "locked": false,
     "schema_version": 3,
     "solution": true
    }
   },
   "outputs": [],
   "source": [
    "val finalAnswerC = {\n",
    "    ??? // YOUR CODE HERE\n",
    "}"
   ]
  },
  {
   "cell_type": "code",
   "execution_count": null,
   "metadata": {
    "deletable": false,
    "editable": false,
    "nbgrader": {
     "cell_type": "code",
     "checksum": "12fb5a7baf0a5096c71ef3102ce2faaa",
     "grade": true,
     "grade_id": "tests_3c",
     "locked": true,
     "points": 6,
     "schema_version": 3,
     "solution": false
    }
   },
   "outputs": [],
   "source": [
    "//BEGIN TEST\n",
    "def munge(r: Regex): String = r match {\n",
    "    case Atom(st) => \"$A$\"+st\n",
    "    case Concat(r1, r2) => munge(r1)+\"$C$\"+munge(r2)\n",
    "    case Star(r) => \"$K$\"+munge(r)+\"$S$\"\n",
    "    case Or(r1, r2) => munge(r1)+\"_O_\"+munge(r2)\n",
    "    case And(r1,r2) => munge(r1)+\"/\\\\\"+ munge(r2)\n",
    "}\n",
    "\n",
    "assert(munge(finalAnswerC) == \"$K$$A$hello$S$$C$$K$$A$scala$C$$A$best$S$\", \"Test failed: you should seek help from the course staff to help you debug this problem, please\")\n",
    "passed(6)\n",
    "//END TEST"
   ]
  },
  {
   "cell_type": "code",
   "execution_count": null,
   "metadata": {},
   "outputs": [],
   "source": []
  }
 ],
 "metadata": {
  "kernelspec": {
   "display_name": "Scala",
   "language": "scala",
   "name": "scala"
  },
  "language_info": {
   "codemirror_mode": "text/x-scala",
   "file_extension": ".scala",
   "mimetype": "text/x-scala",
   "name": "scala",
   "nbconvert_exporter": "script",
   "version": "2.12.10"
  }
 },
 "nbformat": 4,
 "nbformat_minor": 2
}
