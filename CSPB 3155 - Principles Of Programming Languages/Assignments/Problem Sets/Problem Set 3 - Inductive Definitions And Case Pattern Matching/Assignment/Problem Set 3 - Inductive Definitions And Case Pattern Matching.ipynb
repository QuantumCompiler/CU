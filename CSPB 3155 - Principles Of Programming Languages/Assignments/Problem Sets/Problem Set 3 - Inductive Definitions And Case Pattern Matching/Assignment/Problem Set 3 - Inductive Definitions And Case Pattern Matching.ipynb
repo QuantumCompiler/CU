{
 "cells": [
  {
   "cell_type": "code",
   "execution_count": null,
   "metadata": {},
   "outputs": [],
   "source": []
  },
  {
   "attachments": {},
   "cell_type": "markdown",
   "metadata": {
    "deletable": false,
    "editable": false,
    "nbgrader": {
     "cell_type": "markdown",
     "checksum": "ab627712e1367302c90741029d2963fb",
     "grade": false,
     "grade_id": "cell-224ca5a0097f63b5",
     "locked": true,
     "schema_version": 3,
     "solution": false
    }
   },
   "source": [
    "# CSPB 3155: Assignment 3 \n",
    "\n",
    "Topics covered: ASTs, pattern matching, higher order functions."
   ]
  },
  {
   "cell_type": "code",
   "execution_count": 2,
   "metadata": {
    "deletable": false,
    "editable": false,
    "nbgrader": {
     "cell_type": "code",
     "checksum": "7f1326e22a77065e280ecdfc467fd178",
     "grade": false,
     "grade_id": "cell-7e3b987db2733a1c",
     "locked": true,
     "schema_version": 3,
     "solution": false
    }
   },
   "outputs": [
    {
     "data": {
      "text/plain": [
       "defined \u001b[32mfunction\u001b[39m \u001b[36mpassed\u001b[39m"
      ]
     },
     "execution_count": 2,
     "metadata": {},
     "output_type": "execute_result"
    }
   ],
   "source": [
    "// TEST HELPER\n",
    "def passed(points: Int) {\n",
    "    require(points >=0)\n",
    "    if (points == 1) print(s\"\\n*** Tests Passed (1 point) ***\\n\")\n",
    "    else print(s\"\\n*** Tests Passed ($points points) ***\\n\")\n",
    "}"
   ]
  },
  {
   "attachments": {},
   "cell_type": "markdown",
   "metadata": {
    "deletable": false,
    "editable": false,
    "nbgrader": {
     "cell_type": "markdown",
     "checksum": "26ace7386cc85ea26d596eaae182efc4",
     "grade": false,
     "grade_id": "cell-a3d45980c5a3961a",
     "locked": true,
     "schema_version": 3,
     "solution": false
    }
   },
   "source": [
    "## Problem 1 (15 points)\n",
    "\n",
    "Adding a switch statement for the `mython` (var) language developed in class. \n",
    "\n",
    "The syntax for the switch statement is given in terms of the following additional rules that\n",
    "extend the mython implementation found in the class notes.\n",
    "\n",
    "$$\\begin{array}{rcl}\n",
    "\\mathbf{Statement} & \\rightarrow & \\text{Switch}(\\mathbf{Expr},  \\mathbf{Case}* ) \\\\[5pt]\n",
    "\\mathbf{Case} & \\rightarrow & \\text{SwitchCase}(\\mathbf{Expr}, \\mathbf{Statement}* ) \\\\[5pt]\n",
    "& | & \\text{DefaultCase}(\\mathbf{Statement}*) \\\\\n",
    "\\end{array}$$\n",
    "\n",
    "The box below contains the scala language definitions of `mython` so far, with space for you to \n",
    "concretely implement the abstract grammar above.\n",
    "\n",
    "Augment the definitions by adding the extra definitions to support switch statements. Please use\n",
    "the same constructor names as in the grammar: `Switch` for the switch statement and \n",
    "`SwitchCase` and `DefaultCase` for the two rules corresponding to the __Case__ specifications.\n",
    "\n",
    "For your convenience, the definitions used in the class are given. Add your solution at the end.\n"
   ]
  },
  {
   "cell_type": "code",
   "execution_count": null,
   "metadata": {
    "deletable": false,
    "nbgrader": {
     "cell_type": "code",
     "checksum": "51ec25b96f007ae0f32ad922d55554a0",
     "grade": false,
     "grade_id": "cell-a3a78387d2a93841",
     "locked": false,
     "schema_version": 3,
     "solution": true
    }
   },
   "outputs": [],
   "source": [
    "sealed trait Expr\n",
    "case class Const(d: Double) extends Expr \n",
    "// 1. We cheated a bit and allowed all floating point numbers\n",
    "// Also, this deviates from the grammar\n",
    "case class Ident(s: String) extends Expr\n",
    "// 2. We allow any string to be an identifier for now instead of the regular expression shown in the grammar.\n",
    "case class Plus(e1: Expr, e2: Expr ) extends Expr\n",
    "case class Minus(e1: Expr, e2: Expr) extends Expr\n",
    "case class Mult(e1: Expr, e2: Expr) extends Expr\n",
    "case class Div(e1: Expr, e2: Expr) extends Expr\n",
    "case class Negate(e: Expr) extends Expr\n",
    "case class Log(e: Expr) extends Expr\n",
    "case class Exp(e: Expr) extends Expr\n",
    "case class Sine(e: Expr) extends Expr\n",
    "case class Cosine(e: Expr) extends Expr\n",
    "\n",
    "sealed trait CondExpr\n",
    "case object ConstTrue extends CondExpr\n",
    "case object ConstFalse extends CondExpr\n",
    "case class Geq(e1: Expr, e2: Expr) extends CondExpr\n",
    "case class Leq(e1: Expr, e2: Expr) extends CondExpr\n",
    "case class Eq(e1: Expr, e2: Expr) extends CondExpr\n",
    "case class And(c1: CondExpr, c2: CondExpr) extends CondExpr\n",
    "case class Or(c1: CondExpr, c2: CondExpr) extends CondExpr\n",
    "case class Not(c: CondExpr) extends CondExpr\n",
    "\n",
    "sealed trait Declaration\n",
    "sealed trait Statement\n",
    "sealed trait MythonProgram\n",
    "\n",
    "case class Program(decls: List[Declaration], stmts: List[Statement], returnAtEnd: Expr) extends MythonProgram // We stripped the ReturnStmt tag since it is redundant\n",
    "case class VarDecl(identifier: String, rhsExpr: Expr) extends Declaration\n",
    "case class AssignStmt(identifier: String, rhsExpr: Expr) extends Statement\n",
    "case class WhileStmt(cond: CondExpr, stmts: List[Statement]) extends Statement\n",
    "case class IfThenElseStmt(cond: CondExpr, stmtsThen: List[Statement], stmtsElse: List[Statement]) extends Statement\n",
    "case class ReturnStmt(retExpr: Expr) extends Statement\n",
    "\n",
    "??? // YOUR CODE HERE"
   ]
  },
  {
   "cell_type": "code",
   "execution_count": null,
   "metadata": {
    "deletable": false,
    "editable": false,
    "nbgrader": {
     "cell_type": "code",
     "checksum": "04c96aa21f6e205e2bf194c7a27faf1a",
     "grade": true,
     "grade_id": "cell-b4433298fac96b06",
     "locked": true,
     "points": 5,
     "schema_version": 3,
     "solution": false
    }
   },
   "outputs": [],
   "source": [
    "//BEGIN TEST\n",
    "val e1 = Plus(Ident(\"y\"), Plus( Ident(\"z\"), Exp( Minus(Ident(\"x\"), Ident(\"y\")) ) )) // y + z + exp(x - y)\n",
    "val stmt1 = AssignStmt(\"x\", e1) // x = y + z + exp(x - y)\n",
    "// Let us make up the parts of the while statement\n",
    "val cond1 = Leq(Ident(\"y\"), Const(15.0f)) // y <= 15\n",
    "// The assignment inside the while\n",
    "val stmt2 = AssignStmt(\"y\", Minus(Ident(\"y\"), Ident(\"x\"))) // y = y - x\n",
    "// The condition for the if statement\n",
    "val cond2 = Leq(Ident(\"x\"), Const(0.0f)) // x <= 0.0\n",
    "val stmt3 = AssignStmt(\"x\", Minus(Const(0.0f), Ident(\"x\"))) // x= 0 - x\n",
    "val ifStmt = IfThenElseStmt(cond2, List(stmt3), List()) // if ( x <= 0) x = -x else nothing\n",
    "val whileStmt = WhileStmt(cond1, List(stmt2, ifStmt)) // while loop \n",
    "val allstmts = List(stmt1, whileStmt)\n",
    "val retExpr = Minus(Ident(\"y\"), Ident(\"x\")) // y - x to be returned\n",
    "\n",
    "val c1 = SwitchCase(Const(2.0), List(stmt1, stmt3))\n",
    "val c3 = SwitchCase(Ident(\"y\"), List(stmt1, stmt2, whileStmt))\n",
    "\n",
    "passed(5)\n",
    "//END TEST"
   ]
  },
  {
   "cell_type": "code",
   "execution_count": null,
   "metadata": {
    "deletable": false,
    "editable": false,
    "nbgrader": {
     "cell_type": "code",
     "checksum": "790aa12ea5693ce99cef65abd2c79b06",
     "grade": true,
     "grade_id": "cell-590403a05cbd399c",
     "locked": true,
     "points": 5,
     "schema_version": 3,
     "solution": false
    }
   },
   "outputs": [],
   "source": [
    "//BEGIN TEST\n",
    "val e1 = Plus(Ident(\"y\"), Plus( Ident(\"z\"), Exp( Minus(Ident(\"x\"), Ident(\"y\")) ) )) // y + z + exp(x - y)\n",
    "val stmt1 = AssignStmt(\"x\", e1) // x = y + z + exp(x - y)\n",
    "// Let us make up the parts of the while statement\n",
    "val cond1 = Leq(Ident(\"y\"), Const(15.0f)) // y <= 15\n",
    "// The assignment inside the while\n",
    "val stmt2 = AssignStmt(\"y\", Minus(Ident(\"y\"), Ident(\"x\"))) // y = y - x\n",
    "// The condition for the if statement\n",
    "val cond2 = Leq(Ident(\"x\"), Const(0.0f)) // x <= 0.0\n",
    "val stmt3 = AssignStmt(\"x\", Minus(Const(0.0f), Ident(\"x\"))) // x= 0 - x\n",
    "val ifStmt = IfThenElseStmt(cond2, List(stmt3), List()) // if ( x <= 0) x = -x else nothing\n",
    "val whileStmt = WhileStmt(cond1, List(stmt2, ifStmt)) // while loop \n",
    "val allstmts = List(stmt1, whileStmt)\n",
    "val retExpr = Minus(Ident(\"y\"), Ident(\"x\")) // y - x to be returned\n",
    "\n",
    "val c2 = DefaultCase(List(ifStmt))\n",
    "\n",
    "passed(5)\n",
    "//END TEST"
   ]
  },
  {
   "cell_type": "code",
   "execution_count": null,
   "metadata": {
    "deletable": false,
    "editable": false,
    "nbgrader": {
     "cell_type": "code",
     "checksum": "42e0b4b9a49f0c0cc8550c07c63a7a8a",
     "grade": true,
     "grade_id": "cell-73f9de24de44bb2f",
     "locked": true,
     "points": 5,
     "schema_version": 3,
     "solution": false
    }
   },
   "outputs": [],
   "source": [
    "//BEGIN TEST\n",
    "val e1 = Plus(Ident(\"y\"), Plus( Ident(\"z\"), Exp( Minus(Ident(\"x\"), Ident(\"y\")) ) )) // y + z + exp(x - y)\n",
    "val stmt1 = AssignStmt(\"x\", e1) // x = y + z + exp(x - y)\n",
    "// Let us make up the parts of the while statement\n",
    "val cond1 = Leq(Ident(\"y\"), Const(15.0f)) // y <= 15\n",
    "// The assignment inside the while\n",
    "val stmt2 = AssignStmt(\"y\", Minus(Ident(\"y\"), Ident(\"x\"))) // y = y - x\n",
    "// The condition for the if statement\n",
    "val cond2 = Leq(Ident(\"x\"), Const(0.0f)) // x <= 0.0\n",
    "val stmt3 = AssignStmt(\"x\", Minus(Const(0.0f), Ident(\"x\"))) // x= 0 - x\n",
    "val ifStmt = IfThenElseStmt(cond2, List(stmt3), List()) // if ( x <= 0) x = -x else nothing\n",
    "val whileStmt = WhileStmt(cond1, List(stmt2, ifStmt)) // while loop \n",
    "val allstmts = List(stmt1, whileStmt)\n",
    "val retExpr = Minus(Ident(\"y\"), Ident(\"x\")) // y - x to be returned\n",
    "\n",
    "val c1 = SwitchCase(Const(2.0), List(stmt1, stmt3))\n",
    "val c3 = SwitchCase(Ident(\"y\"), List(stmt1, stmt2, whileStmt))\n",
    "val c2 = DefaultCase(List(ifStmt))\n",
    "\n",
    "val v1 = Switch(e1, List(c1, c2, c3))\n",
    "\n",
    "passed(5)\n",
    "//END TEST"
   ]
  },
  {
   "attachments": {},
   "cell_type": "markdown",
   "metadata": {
    "deletable": false,
    "editable": false,
    "nbgrader": {
     "cell_type": "markdown",
     "checksum": "33d31ced5861058217dc5062f59afb2f",
     "grade": false,
     "grade_id": "cell-55543ed7e443b655",
     "locked": true,
     "schema_version": 3,
     "solution": false
    }
   },
   "source": [
    "## Problem 2 (15 Points)\n",
    "\n",
    "Add list manipulation expressions to the allowed expressions in the `mython` language. \n",
    "\n",
    "We allow list expressions (use a new non terminal called __ListExpr__) that can do the following:\n",
    "- The empty list: use constructor symbol `EmptyList`. It should not have arguments.\n",
    "- The new list of arithmetic expressions: use constructor symbol `NewList`. It has as arguments a list of arithmetic expressions. Use Kleene-star in your grammar to specify a list.\n",
    "- \"Cons\" an arithmetic expression to the front of a list: use constructor symbol `Cons`. It must have two arguments: the first argument is an arithmetic expression and the second argument is a list expression.\n",
    "- Concatenate two lists defined by list expressions: use constructor symbol `Concat`. It must have two arguments that are list expressions.\n",
    "\n",
    "Next, we add the following rule to  __CondExpr__  (conditional expressions):\n",
    "- A condition expression to check if a list is empty:  Use constructor `IsEmptyList`. It's argument must be a list expression that we check for emptiness.\n",
    "\n",
    "Finally, we add a special foreach loop statement over the elements of a list.\n",
    "\n",
    "`foreach (x in list_expr) begin  .. list of statements...  end `\n",
    "\n",
    "- Add a statement to loop over the elements of a list: use constructor`ForEach`. Its arguments must include (a) the identifier, (b) the list expression to be iterated over and (c) the body of the loop (list of statements).\n",
    "\n",
    "Write down the extra grammar rules that you would add to the overall \n",
    "`mython` grammar to create these functionalities."
   ]
  },
  {
   "cell_type": "markdown",
   "metadata": {
    "deletable": false,
    "nbgrader": {
     "cell_type": "markdown",
     "checksum": "10c1c3648bc72d60b80f2cb28419e223",
     "grade": true,
     "grade_id": "cell-76cfd1d2c6a5898d",
     "locked": false,
     "points": 15,
     "schema_version": 3,
     "solution": true
    }
   },
   "source": [
    "YOUR ANSWER HERE"
   ]
  },
  {
   "cell_type": "markdown",
   "metadata": {
    "deletable": false,
    "editable": false,
    "nbgrader": {
     "cell_type": "markdown",
     "checksum": "9b87b15d8753e51aeba513918528c36d",
     "grade": false,
     "grade_id": "cell-33da7cb13bb6465f",
     "locked": true,
     "schema_version": 3,
     "solution": false
    }
   },
   "source": [
    "## Problem 3 (20 points)\n",
    "\n",
    "### A (5 points)\n",
    "We defined lists in the class. Write a recursive procedure to get the nth element of the list or throw an `IllegalArgumentException` if $n < 0$ or $n >= \\text{length of list} $. Assume $n=0$ obtains the very first element\n",
    "and $n = \\text{length of list} -1$ yields very last element. "
   ]
  },
  {
   "cell_type": "code",
   "execution_count": null,
   "metadata": {
    "deletable": false,
    "nbgrader": {
     "cell_type": "code",
     "checksum": "5df30706da6a9235f6c9cb4562406892",
     "grade": false,
     "grade_id": "cell-724b4ca89445ceaf",
     "locked": false,
     "schema_version": 3,
     "solution": true
    }
   },
   "outputs": [],
   "source": [
    "sealed trait NumList\n",
    "case object Nil extends NumList\n",
    "case class Cons(n: Int, l: NumList) extends NumList \n",
    "\n",
    "def getNthElement(lst: NumList, n: Int): Int = {\n",
    "    ??? // YOUR CODE HERE\n",
    "}"
   ]
  },
  {
   "cell_type": "code",
   "execution_count": null,
   "metadata": {
    "deletable": false,
    "editable": false,
    "nbgrader": {
     "cell_type": "code",
     "checksum": "223b78e6307e83dfb7fd9d4567a8820b",
     "grade": true,
     "grade_id": "cell-2bc6d5ee94793b48",
     "locked": true,
     "points": 5,
     "schema_version": 3,
     "solution": false
    }
   },
   "outputs": [],
   "source": [
    "//BEGIN TEST\n",
    "val l1 = Nil\n",
    "val l2 = Cons(1, Cons(-1, Nil))\n",
    "val l3 = Cons(1, Cons(2, l2))\n",
    "val l4 = Cons(0, Cons(4, Cons(8, l3)))\n",
    "\n",
    "val test1 = try {\n",
    "    getNthElement(Nil, 3);\n",
    "    assert(false, \"Test 1 : getNthElement(Nil, 3) should raise an IllegalArgumentException. Your code did not.\")\n",
    "} catch {\n",
    "    case e: IllegalArgumentException => \"OK\"\n",
    "} \n",
    "\n",
    "assert(getNthElement(l2, 0) == 1, \"Test2: getNthElement(l2, 0)  failed (expected answer = 1)\")\n",
    "assert(getNthElement(l3, 3) == -1, \"Test3: getNthElement(l3, 3)  failed (expected answer = -1)\")\n",
    "assert(getNthElement(l4, 2) == 8, \"Test4: getNthElement(l4, 2)  failed (expected answer = 8)\")\n",
    "\n",
    "val test2 = try {\n",
    "    getNthElement(l4, 8);\n",
    "    assert(false, \"Test 5 : getNthElement(l4, 8) should raise an IllegalArgumentException. Your code did not.\")\n",
    "} catch {\n",
    "    case e: IllegalArgumentException => \"OK\"\n",
    "}\n",
    "\n",
    "passed(5)\n",
    "//END TEST"
   ]
  },
  {
   "cell_type": "markdown",
   "metadata": {
    "deletable": false,
    "editable": false,
    "nbgrader": {
     "cell_type": "markdown",
     "checksum": "f4a061c4891d5c2002006c5db21ac0fc",
     "grade": false,
     "grade_id": "cell-f33dba0762a43adc",
     "locked": true,
     "schema_version": 3,
     "solution": false
    }
   },
   "source": [
    "### B (7 points)\n",
    "Write a recursive procedure that returns true if the list has the Fibonacci property. I.e, every element at position $i \\geq 2$ is the sum of the two preceding elements. Note that the property is trivially true for lists of sizes $0$ and $1$."
   ]
  },
  {
   "cell_type": "code",
   "execution_count": null,
   "metadata": {
    "deletable": false,
    "nbgrader": {
     "cell_type": "code",
     "checksum": "c6fbfb5ab27aece235003295ae6a39de",
     "grade": false,
     "grade_id": "cell-eedd55e1f86bd6c6",
     "locked": false,
     "schema_version": 3,
     "solution": true
    }
   },
   "outputs": [],
   "source": [
    "def isFibonacciList(lst: NumList): Boolean = {\n",
    "    ??? // YOUR CODE HERE\n",
    "}"
   ]
  },
  {
   "cell_type": "code",
   "execution_count": null,
   "metadata": {
    "deletable": false,
    "editable": false,
    "nbgrader": {
     "cell_type": "code",
     "checksum": "85888353537a8918b7e75c94e13ba9f0",
     "grade": true,
     "grade_id": "cell-33a4f21c01f0c7c4",
     "locked": true,
     "points": 7,
     "schema_version": 3,
     "solution": false
    }
   },
   "outputs": [],
   "source": [
    "//BEGIN TEST\n",
    "val l1 = Cons(12, Cons(25, Cons(37, Nil)))\n",
    "assert(isFibonacciList(l1), \n",
    "       \"Test case 1 :  isFibonacciList(l1) -- should return true\")\n",
    "\n",
    "val l2 = Cons(14, Cons(-1, Cons(13, l1 )))\n",
    "assert(isFibonacciList(l2), \n",
    "       \"Test case 2 :  isFibonacciList(l2) -- should return true\")\n",
    "\n",
    "val l3 = Cons(7, Cons(7, l2))\n",
    "\n",
    "assert(!isFibonacciList(l3), \n",
    "       \"Test case 3 :  isFibonacciList(l3) -- should return false\")\n",
    "\n",
    "val l4 = Cons(0, Cons(0, Cons(0, Cons(0, Cons(0, Cons(0, Nil))))))\n",
    "assert(isFibonacciList(l2), \n",
    "       \"Test case 4:  isFibonacciList(l4) -- should return true\")\n",
    "\n",
    "passed(7)\n",
    "//END TEST"
   ]
  },
  {
   "cell_type": "markdown",
   "metadata": {
    "deletable": false,
    "editable": false,
    "nbgrader": {
     "cell_type": "markdown",
     "checksum": "9a1a2912b9bdbdbf2f3bcfabb5cbdd76",
     "grade": false,
     "grade_id": "cell-d4f6c640c40f9924",
     "locked": true,
     "schema_version": 3,
     "solution": false
    }
   },
   "source": [
    "### C (8 points)\n",
    "Write a recursive function `filterNumList(l: NumList, f: Int => Boolean): NumList` that takes in a `NumList` and a function `f: Int => Boolean`. \n",
    "\n",
    "1. It should return a new list that consist of all elements of the list `l` that return `true` when the function `f` is called on them.\n",
    "2. The returned list elements must preserve the same order as in the original list."
   ]
  },
  {
   "cell_type": "code",
   "execution_count": null,
   "metadata": {
    "deletable": false,
    "nbgrader": {
     "cell_type": "code",
     "checksum": "233d449d2aa9a1b4dbdb91ee5c9773d1",
     "grade": false,
     "grade_id": "cell-0f9f5a51ae34b3bb",
     "locked": false,
     "schema_version": 3,
     "solution": true
    }
   },
   "outputs": [],
   "source": [
    "??? // YOUR CODE HERE"
   ]
  },
  {
   "cell_type": "code",
   "execution_count": null,
   "metadata": {
    "deletable": false,
    "editable": false,
    "nbgrader": {
     "cell_type": "code",
     "checksum": "5e9db1f5d62d2c3a4bf042a1a503f85a",
     "grade": true,
     "grade_id": "cell-a2549ef77f3f9bb0",
     "locked": true,
     "points": 8,
     "schema_version": 3,
     "solution": false
    }
   },
   "outputs": [],
   "source": [
    "//BEGIN TEST\n",
    "val l1 = Cons(12, Cons(25, Cons(37, Nil)))\n",
    "def f1(j: Int): Boolean =  j <= 25 && j >= 12\n",
    "assert(filterNumList(l1, f1) == Cons(12, Cons(25, Nil)), \"Test 1 failed.\")\n",
    "\n",
    "\n",
    "val l2 = Cons(22, Cons(135, Cons(137, l1)))\n",
    "def f2(j: Int): Boolean =  j % 5 == 0\n",
    "assert(filterNumList(l2, f2) == Cons(135, Cons(25, Nil)), \"Test 2 failed.\")\n",
    "\n",
    "def f3(j: Int): Boolean =  j >= 210\n",
    "assert(filterNumList(l2, f3) == Nil, \"Test 3 failed.\")\n",
    "assert(filterNumList(Nil, f3) == Nil, \"Test 4 failed.\")\n",
    "\n",
    "val l4 = Cons(0, Cons(0, Cons(0, Cons(0, Cons(0, Cons(0, Nil))))))\n",
    "\n",
    "def f4(j: Int): Boolean =  j <= 0\n",
    "assert(filterNumList(l4, f4) == l4, \"Test 5 failed\")\n",
    "\n",
    "passed(8)\n",
    "//END TEST"
   ]
  }
 ],
 "metadata": {
  "kernelspec": {
   "display_name": "Scala",
   "language": "scala",
   "name": "scala"
  },
  "language_info": {
   "codemirror_mode": "text/x-scala",
   "file_extension": ".scala",
   "mimetype": "text/x-scala",
   "name": "scala",
   "nbconvert_exporter": "script",
   "version": "2.12.10"
  }
 },
 "nbformat": 4,
 "nbformat_minor": 2
}
