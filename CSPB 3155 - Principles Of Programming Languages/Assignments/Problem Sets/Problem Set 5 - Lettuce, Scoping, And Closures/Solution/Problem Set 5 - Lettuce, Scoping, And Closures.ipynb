{
 "cells": [
  {
   "attachments": {},
   "cell_type": "markdown",
   "metadata": {
    "deletable": false,
    "editable": false,
    "nbgrader": {
     "cell_type": "markdown",
     "checksum": "10d8421bd9aaaac48ddc1a6e458c27c4",
     "grade": false,
     "grade_id": "cell-12d4d54eb5df4c25",
     "locked": true,
     "schema_version": 3,
     "solution": false,
     "task": false
    }
   },
   "source": [
    "# CSPB 3155 : Assignment 5\n",
    "\n",
    "\n",
    "Topics Covered:\n",
    "  - Let binding semantics\n",
    "  - Scopes\n",
    "  - Function calls"
   ]
  },
  {
   "cell_type": "markdown",
   "metadata": {},
   "source": [
    "__Taylor Larrechea__\n",
    "\n",
    "Note: Please first run the `TEST HELPER` cell that defines the `passed` function below. Failing to run this cell will make it hard for you to check your work."
   ]
  },
  {
   "cell_type": "code",
   "execution_count": 1,
   "metadata": {
    "deletable": false,
    "editable": false,
    "nbgrader": {
     "cell_type": "code",
     "checksum": "86ef6ac50594512173d959494dba3da6",
     "grade": false,
     "grade_id": "cell-78353727eb378a16",
     "locked": true,
     "schema_version": 3,
     "solution": false,
     "task": false
    }
   },
   "outputs": [
    {
     "name": "stderr",
     "output_type": "stream",
     "text": [
      "cell1.sc:108: procedure syntax is deprecated: instead, add `: Unit =` to explicitly declare `passed`'s return type [quickfixable]\n",
      "def passed(points: Int) {\n",
      "                        ^\n"
     ]
    },
    {
     "data": {
      "text/plain": [
       "defined \u001b[32mfunction\u001b[39m \u001b[36mpassed\u001b[39m"
      ]
     },
     "execution_count": 1,
     "metadata": {},
     "output_type": "execute_result"
    }
   ],
   "source": [
    "// TEST HELPER\n",
    "def passed(points: Int) {\n",
    "    require(points >=0)\n",
    "    if (points == 1) print(s\"Tests Passed (1 point)\")\n",
    "    else print(s\"Tests Passed ($points points)\") \n",
    "}"
   ]
  },
  {
   "cell_type": "markdown",
   "metadata": {
    "deletable": false,
    "editable": false,
    "nbgrader": {
     "cell_type": "markdown",
     "checksum": "048e59e023e79a775408cebb326d77ee",
     "grade": false,
     "grade_id": "cell-fbc647b0aaee3fc6",
     "locked": true,
     "schema_version": 3,
     "solution": false,
     "task": false
    }
   },
   "source": [
    "## Problem 1: Multiple Simultaneous Let Bindings (15 points)"
   ]
  },
  {
   "cell_type": "markdown",
   "metadata": {
    "deletable": false,
    "editable": false,
    "nbgrader": {
     "cell_type": "markdown",
     "checksum": "888397ce8f415a1296a146d04773528f",
     "grade": false,
     "grade_id": "cell-23c9f7992612ebe8",
     "locked": true,
     "schema_version": 3,
     "solution": false,
     "task": false
    }
   },
   "source": [
    "In class, we studied let bindings that assigned a \"single\" identifier to a \"single\" expression. Here, we will extend lettuce with multiple let bindings at the same time:\n",
    "\n",
    "## Example 1 \n",
    "~~~\n",
    "let (x, y, z) = (10, 25.6, 30.3) in \n",
    "   x - y * z\n",
    "~~~\n",
    "\n",
    "The program computes `10 - 25.6 * 30.3`.\n",
    "\n",
    "## Example 2\n",
    "\n",
    " In multi-let binding, we treat all the assignments as happening \"simultaneously\". For instance, the program \n",
    "\n",
    "~~~\n",
    "let (x, y, z) = (10, x, y - x) in \n",
    "  x - y * z\n",
    "~~~\n",
    "\n",
    "is disallowed since neither `x` nor `y` are in scope in the right hand side of the multi-let binding. Example 2 above produces an `error` value since `x` and `y` are out of scope on the right hand side of the assignment.\n",
    "\n",
    "## Example 3\n",
    "\n",
    "~~~\n",
    "let x = 15 in \n",
    "  let (x, y, z) = (x*x, -10 *x, -2*x) in \n",
    "     x + y + z\n",
    "~~~\n",
    "\n",
    "Note that the usage `x*x`, `-10*x` and `-2*x` refer back to `let x = 15` definition. However, the usages `x+y+z` refer to the result of the \"multi-let\" binding. Verify that this program will evaluate to \"45\".\n",
    "\n",
    "## Grammar of Lettuce\n",
    "\n",
    "Let us extend a minimalistic subset of Lettuce by adding a `MultiLet` statement as shown below.\n",
    "$$\\newcommand\\Expr{\\mathbf{Expr}}$$\n",
    "\n",
    "$$\\begin{array}{rcll}\n",
    "  \\Expr & \\Rightarrow & \\text{Const}(\\mathbf{Double}) \\\\\n",
    "  & | & \\text{Ident}(\\mathbf{String}) \\\\\n",
    "  & | & \\text{Plus}(\\mathbf{Expr}, \\mathbf{Expr}) \\\\\n",
    "  & | & \\text{Mult}(\\mathbf{Expr}, \\mathbf{Expr})\\\\\n",
    "  & | & \\text{Let}(\\mathbf{Ident}, \\mathbf{Expr}, \\mathbf{Expr}) \\\\\n",
    "  & | & \\text{MultiLet}(\\mathbf{Ident}*, \\mathbf{Expr}*, \\mathbf{Expr}) & \\leftarrow\\ \\text{ let (x1, .., xn) = (e1, ...,en) in e } \\\\\n",
    "  & & & \\text{Note: Number of identifiers n must match number of expressions n, or else evaluate to error }\\\\\n",
    "  \\end{array}$$\n",
    "  \n",
    "The scala definitions are given below."
   ]
  },
  {
   "cell_type": "code",
   "execution_count": 2,
   "metadata": {
    "deletable": false,
    "editable": false,
    "nbgrader": {
     "cell_type": "code",
     "checksum": "2a5c631886fc39fdf4658d9aad788032",
     "grade": false,
     "grade_id": "cell-0721126a00877145",
     "locked": true,
     "schema_version": 3,
     "solution": false,
     "task": false
    }
   },
   "outputs": [
    {
     "data": {
      "text/plain": [
       "defined \u001b[32mtrait\u001b[39m \u001b[36mExpr\u001b[39m\n",
       "defined \u001b[32mclass\u001b[39m \u001b[36mConst\u001b[39m\n",
       "defined \u001b[32mclass\u001b[39m \u001b[36mIdent\u001b[39m\n",
       "defined \u001b[32mclass\u001b[39m \u001b[36mPlus\u001b[39m\n",
       "defined \u001b[32mclass\u001b[39m \u001b[36mMult\u001b[39m\n",
       "defined \u001b[32mclass\u001b[39m \u001b[36mLet\u001b[39m\n",
       "defined \u001b[32mclass\u001b[39m \u001b[36mMultiLet\u001b[39m"
      ]
     },
     "execution_count": 2,
     "metadata": {},
     "output_type": "execute_result"
    }
   ],
   "source": [
    "sealed trait Expr\n",
    "case class Const(d: Double) extends Expr\n",
    "case class Ident(s: String) extends Expr\n",
    "case class Plus(e1: Expr, e2: Expr) extends Expr\n",
    "case class Mult(e1: Expr, e2: Expr) extends Expr \n",
    "case class Let(id: String, e1: Expr, e2: Expr) extends Expr\n",
    "case class MultiLet(id: List[String], eList: List[Expr], e2: Expr) extends Expr"
   ]
  },
  {
   "cell_type": "markdown",
   "metadata": {
    "deletable": false,
    "editable": false,
    "nbgrader": {
     "cell_type": "markdown",
     "checksum": "fb2977903a99d03718918987f5c30cfb",
     "grade": false,
     "grade_id": "cell-ff5684de0dab161b",
     "locked": true,
     "schema_version": 3,
     "solution": false,
     "task": false
    }
   },
   "source": [
    "## Semantics for MultiLet\n",
    "\n",
    "$$\\newcommand\\semrule[3]{\\begin{array}{c} #1 \\\\ \\hline #2 \\\\ \\end{array}(\\text{#3})} $$\n",
    "\n",
    "Let us write down the semantic rules for a multilet statement:\n",
    "\n",
    "$$\\newcommand\\eval{\\textit{eval}}$$\n",
    "$$\\semrule{ \\eval(\\texttt{ei}, \\texttt{env})= v_i,\\ v_i \\not= \\mathbf{error}, \\text{for}\\ i = 1, \\ldots, n,\\ \\texttt{newenv} = env \\circ \\{ \\texttt{x1} \\mapsto v_1, \\ldots, \\texttt{xn} \\mapsto v_n \\} }{ \\eval( \\texttt{MultiLet([x1,..,xn], [e1,...,en], e2), env}) = \\eval(\\texttt{e2, newenv})}{multilet-ok}$$\n",
    "\n",
    "The semantic rule above tells you to \n",
    "  - Evaluate each of the expressions from `e1`, ..., `en` under the environment `env`.\n",
    "  - Next, if all the expressions above evaluated without an error, it tells you to update the map `env` by binding each `xi` to $v_i$, the result of evaluating `ei`. You can use the Scala Map \"++\" operator to achieve this in one shot.\n",
    "  - Finally, you should evaluate `e2` under the new environment created.\n",
    "\n",
    "For convenience, we write a single \"generic\" semantic rule that shows that if some argument `ej` evaluates to an error, the whole expression is erroneous.\n",
    "\n",
    "$$\\semrule{ \\eval(\\texttt{ei}, \\texttt{env})= v_i,\\ v_i \\not= \\mathbf{error}, \\text{for}\\ i = 1, \\ldots, j-1,\\ \\ eval(\\texttt{ej}, \\texttt{env})= \\mathbf{error} }{ \\eval( \\texttt{MultiLet([x1,..,xn], [e1,...,en], e2), env}) = \\mathbf{error}}{multilet-err-j}$$\n",
    "\n",
    "### Interpreter for MultiLet Statements\n",
    "\n",
    "Implement an interpreter for the lettuce language with `multi-let` statements. Your interpreter does not need to \"propagate\" error: instead you should throw an `IllegalArgumentException` whenever an error is encountered. \n",
    "\n",
    "### Style Guide\n",
    "\n",
    "Use of var/while/for loops in your solution below is disallowed.\n"
   ]
  },
  {
   "cell_type": "code",
   "execution_count": 3,
   "metadata": {
    "deletable": false,
    "nbgrader": {
     "cell_type": "code",
     "checksum": "f444a34a2f31019470a7f69c4a074218",
     "grade": false,
     "grade_id": "cell-b0c581e7fd05ee58",
     "locked": false,
     "schema_version": 3,
     "solution": true,
     "task": false
    }
   },
   "outputs": [
    {
     "data": {
      "text/plain": [
       "defined \u001b[32mtrait\u001b[39m \u001b[36mValue\u001b[39m\n",
       "defined \u001b[32mclass\u001b[39m \u001b[36mNumValue\u001b[39m\n",
       "defined \u001b[32mobject\u001b[39m \u001b[36mError\u001b[39m\n",
       "defined \u001b[32mtype\u001b[39m \u001b[36mEnvironment\u001b[39m\n",
       "defined \u001b[32mfunction\u001b[39m \u001b[36mevalExpr\u001b[39m"
      ]
     },
     "execution_count": 3,
     "metadata": {},
     "output_type": "execute_result"
    }
   ],
   "source": [
    "sealed trait Value\n",
    "case class NumValue(f: Double) extends Value\n",
    "case object Error extends Value /* -- Do not return Error -- simply throw an new IllegalArgumentException whenever you encounter an erroneous case --*/\n",
    "\n",
    "type Environment = Map[String, Value]\n",
    "\n",
    "def evalExpr(e: Expr, env: Environment): Value = {\n",
    "    \n",
    "    e match {\n",
    "        case Const(f) => NumValue(f)\n",
    "        case Ident(x) => { \n",
    "            if (env.contains(x)) { \n",
    "                env(x)\n",
    "            } else {\n",
    "                throw new IllegalArgumentException(\"Not found identifier\")\n",
    "            }\n",
    "        }\n",
    "        case Plus(e1, e2) => {\n",
    "            val v1 = evalExpr(e1, env)\n",
    "            val v2 = evalExpr(e2, env)\n",
    "            (v1, v2) match {\n",
    "                case (NumValue(f1), NumValue(f2)) => NumValue(f1 + f2)\n",
    "                case _ => throw new IllegalArgumentException(\"plus failed\")\n",
    "            }\n",
    "        }\n",
    "        case Mult(e1, e2) => {\n",
    "            val v1 = evalExpr(e1, env)\n",
    "            val v2 = evalExpr(e2, env)\n",
    "            (v1, v2) match {\n",
    "                case (NumValue(f1), NumValue(f2)) => NumValue(f1 * f2)\n",
    "                case _ => throw new IllegalArgumentException(\"mult failed\")\n",
    "            }\n",
    "        }\n",
    "        /*  Let - Evaluate e1 in current env, bind x to the value, and evaluates e2 in the new env\n",
    "                Input:\n",
    "                    - x: String\n",
    "                    - e1: Expr\n",
    "                    - e2: Expr\n",
    "                Algorithm:\n",
    "                    * Evaluate e1 in the current environment\n",
    "                    * Bind x to the value in the current environment\n",
    "                    * Evaluate e2 in the new environment\n",
    "                Output:\n",
    "                    Value found by evaluating e2 in the new environment\n",
    "        */\n",
    "        case Let(x, e1, e2) => {\n",
    "            // YOUR CODE HERE\n",
    "            val v1 = evalExpr(e1, env);\n",
    "            val newEnv = env + (x -> v1);\n",
    "            evalExpr(e2, newEnv);\n",
    "        }\n",
    "        /*  MultiLet - Evaluate each expression in the list in the current env, bind each x the value, and evaluate e2 in the new env\n",
    "                Input:\n",
    "                    - xList: List[String]\n",
    "                    - eList: List[Expr]\n",
    "                    - e2: Expr\n",
    "                Algorithm:\n",
    "                    * Evaluate each expression in the list in the current environment\n",
    "                        * This is done by 'zipping' - Zipping is pairs the elements of the two lists\n",
    "                        * FoldLeft is used to iterate through the zipped list (in this case, the environment is the accumulator)\n",
    "                    * Bind each x to the corresponding value in the current environment\n",
    "                        * This is done by adding the pair to the current environment\n",
    "                        * We then evaluate the next pair in the list (and repeat the process until all pairs are evaluated)\n",
    "                        * We then update the environment with the new pair\n",
    "                    * Evaluate e2 in the new environment\n",
    "                Output:\n",
    "                    Value found by evaluating e2 in the new environment\n",
    "        \n",
    "        */\n",
    "        case MultiLet(xList, eList, e2) => {\n",
    "            // YOUR CODE HERE\n",
    "            val newEnv = (xList zip eList).foldLeft(env) {\n",
    "                case (currentEnv, (x, e)) => {\n",
    "                    val v = evalExpr(e, currentEnv);\n",
    "                    currentEnv + (x -> v);\n",
    "                }\n",
    "            }\n",
    "            evalExpr(e2, newEnv);\n",
    "        }\n",
    "    }\n",
    "\n",
    "}"
   ]
  },
  {
   "cell_type": "code",
   "execution_count": 4,
   "metadata": {
    "deletable": false,
    "editable": false,
    "nbgrader": {
     "cell_type": "code",
     "checksum": "d1041fe9b515652fa6b4d056edc3c799",
     "grade": true,
     "grade_id": "cell-057ff52ae71bca9f",
     "locked": true,
     "points": 5,
     "schema_version": 3,
     "solution": false,
     "task": false
    }
   },
   "outputs": [
    {
     "name": "stdout",
     "output_type": "stream",
     "text": [
      "Tests Passed (5 points)"
     ]
    },
    {
     "data": {
      "text/plain": [
       "\u001b[36mx\u001b[39m: \u001b[32mIdent\u001b[39m = \u001b[33mIdent\u001b[39m(s = \u001b[32m\"x\"\u001b[39m)\n",
       "\u001b[36my\u001b[39m: \u001b[32mIdent\u001b[39m = \u001b[33mIdent\u001b[39m(s = \u001b[32m\"y\"\u001b[39m)\n",
       "\u001b[36mlet1\u001b[39m: \u001b[32mLet\u001b[39m = \u001b[33mLet\u001b[39m(\n",
       "  id = \u001b[32m\"x\"\u001b[39m,\n",
       "  e1 = \u001b[33mIdent\u001b[39m(s = \u001b[32m\"y\"\u001b[39m),\n",
       "  e2 = \u001b[33mPlus\u001b[39m(\n",
       "    e1 = \u001b[33mIdent\u001b[39m(s = \u001b[32m\"x\"\u001b[39m),\n",
       "    e2 = \u001b[33mMult\u001b[39m(e1 = \u001b[33mIdent\u001b[39m(s = \u001b[32m\"x\"\u001b[39m), e2 = \u001b[33mIdent\u001b[39m(s = \u001b[32m\"y\"\u001b[39m))\n",
       "  )\n",
       ")\n",
       "\u001b[36mmlet1\u001b[39m: \u001b[32mMultiLet\u001b[39m = \u001b[33mMultiLet\u001b[39m(\n",
       "  id = \u001b[33mList\u001b[39m(\u001b[32m\"x\"\u001b[39m, \u001b[32m\"y\"\u001b[39m),\n",
       "  eList = \u001b[33mList\u001b[39m(\u001b[33mConst\u001b[39m(d = \u001b[32m10.0\u001b[39m), \u001b[33mConst\u001b[39m(d = \u001b[32m20.0\u001b[39m)),\n",
       "  e2 = \u001b[33mLet\u001b[39m(\n",
       "    id = \u001b[32m\"x\"\u001b[39m,\n",
       "    e1 = \u001b[33mIdent\u001b[39m(s = \u001b[32m\"y\"\u001b[39m),\n",
       "    e2 = \u001b[33mPlus\u001b[39m(\n",
       "      e1 = \u001b[33mIdent\u001b[39m(s = \u001b[32m\"x\"\u001b[39m),\n",
       "      e2 = \u001b[33mMult\u001b[39m(e1 = \u001b[33mIdent\u001b[39m(s = \u001b[32m\"x\"\u001b[39m), e2 = \u001b[33mIdent\u001b[39m(s = \u001b[32m\"y\"\u001b[39m))\n",
       "    )\n",
       "  )\n",
       ")\n",
       "\u001b[36mv\u001b[39m: \u001b[32mValue\u001b[39m = \u001b[33mNumValue\u001b[39m(f = \u001b[32m420.0\u001b[39m)"
      ]
     },
     "execution_count": 4,
     "metadata": {},
     "output_type": "execute_result"
    }
   ],
   "source": [
    "//BEGIN TEST\n",
    "/*\n",
    " let (x, y) = (10, 20) in \n",
    "    let x = y in \n",
    "      x +  x * y\n",
    "*/\n",
    "val x = Ident(\"x\")\n",
    "val y = Ident(\"y\")\n",
    "val let1 = Let(\"x\", y, Plus(x, Mult(x, y)) )\n",
    "val mlet1 = MultiLet( List(\"x\", \"y\"), List(Const(10.0), Const(20.0)), let1)\n",
    "val v = evalExpr(mlet1, Map.empty)\n",
    "assert(v == NumValue(420.0), s\"Test 1 failed expected: NumValue(420.0), obtained $v\")\n",
    "\n",
    "passed(5)\n",
    "//END TEST"
   ]
  },
  {
   "cell_type": "code",
   "execution_count": 5,
   "metadata": {
    "deletable": false,
    "editable": false,
    "nbgrader": {
     "cell_type": "code",
     "checksum": "0b65edb47b80763044e8fb92f03c1b87",
     "grade": true,
     "grade_id": "cell-0e289e2aff61b5b0",
     "locked": true,
     "points": 5,
     "schema_version": 3,
     "solution": false,
     "task": false
    }
   },
   "outputs": [
    {
     "name": "stderr",
     "output_type": "stream",
     "text": [
      "cell5.sc:16: This catches all Throwables. If this is really intended, use `case _ : Throwable` to clear this warning.\n",
      "    case _ => {println(\"Wrong type of exception thrown\")}\n",
      "         ^\n"
     ]
    },
    {
     "name": "stdout",
     "output_type": "stream",
     "text": [
      "Wrong type of exception thrown\n",
      "Tests Passed (5 points)"
     ]
    },
    {
     "data": {
      "text/plain": [
       "\u001b[36mx\u001b[39m: \u001b[32mIdent\u001b[39m = \u001b[33mIdent\u001b[39m(s = \u001b[32m\"x\"\u001b[39m)\n",
       "\u001b[36my\u001b[39m: \u001b[32mIdent\u001b[39m = \u001b[33mIdent\u001b[39m(s = \u001b[32m\"y\"\u001b[39m)\n",
       "\u001b[36mlet1\u001b[39m: \u001b[32mLet\u001b[39m = \u001b[33mLet\u001b[39m(\n",
       "  id = \u001b[32m\"x\"\u001b[39m,\n",
       "  e1 = \u001b[33mIdent\u001b[39m(s = \u001b[32m\"y\"\u001b[39m),\n",
       "  e2 = \u001b[33mPlus\u001b[39m(\n",
       "    e1 = \u001b[33mIdent\u001b[39m(s = \u001b[32m\"x\"\u001b[39m),\n",
       "    e2 = \u001b[33mMult\u001b[39m(e1 = \u001b[33mIdent\u001b[39m(s = \u001b[32m\"x\"\u001b[39m), e2 = \u001b[33mIdent\u001b[39m(s = \u001b[32m\"y\"\u001b[39m))\n",
       "  )\n",
       ")\n",
       "\u001b[36mmlet1\u001b[39m: \u001b[32mMultiLet\u001b[39m = \u001b[33mMultiLet\u001b[39m(\n",
       "  id = \u001b[33mList\u001b[39m(\u001b[32m\"x\"\u001b[39m, \u001b[32m\"y\"\u001b[39m),\n",
       "  eList = \u001b[33mList\u001b[39m(\u001b[33mConst\u001b[39m(d = \u001b[32m10.0\u001b[39m), \u001b[33mIdent\u001b[39m(s = \u001b[32m\"x\"\u001b[39m)),\n",
       "  e2 = \u001b[33mLet\u001b[39m(\n",
       "    id = \u001b[32m\"x\"\u001b[39m,\n",
       "    e1 = \u001b[33mIdent\u001b[39m(s = \u001b[32m\"y\"\u001b[39m),\n",
       "    e2 = \u001b[33mPlus\u001b[39m(\n",
       "      e1 = \u001b[33mIdent\u001b[39m(s = \u001b[32m\"x\"\u001b[39m),\n",
       "      e2 = \u001b[33mMult\u001b[39m(e1 = \u001b[33mIdent\u001b[39m(s = \u001b[32m\"x\"\u001b[39m), e2 = \u001b[33mIdent\u001b[39m(s = \u001b[32m\"y\"\u001b[39m))\n",
       "    )\n",
       "  )\n",
       ")"
      ]
     },
     "execution_count": 5,
     "metadata": {},
     "output_type": "execute_result"
    }
   ],
   "source": [
    "//BEGIN TEST\n",
    "/*\n",
    " let (x, y) = (10, x) in \n",
    "    let x = y in \n",
    "      x +  x * y\n",
    "*/\n",
    "val x = Ident(\"x\")\n",
    "val y = Ident(\"y\")\n",
    "val let1 = Let(\"x\", y, Plus(x, Mult(x, y)) )\n",
    "val mlet1 = MultiLet( List(\"x\", \"y\"), List(Const(10.0), x), let1)\n",
    "try {\n",
    "    val v = evalExpr(mlet1, Map.empty)\n",
    "    assert(false, \"Test 2 failed -- your code should detect a usage of x that is out of scope\")\n",
    "} catch {\n",
    "    case e:IllegalArgumentException => { println(\"Illegal argument exception caught -- as expected!!\") }\n",
    "    case _ => {println(\"Wrong type of exception thrown\")}\n",
    "}\n",
    "\n",
    "passed(5)\n",
    "//END TEST"
   ]
  },
  {
   "cell_type": "code",
   "execution_count": 6,
   "metadata": {
    "deletable": false,
    "editable": false,
    "nbgrader": {
     "cell_type": "code",
     "checksum": "dd322b45f314a81b1c56753acb6e8fe0",
     "grade": true,
     "grade_id": "cell-0b8bac4591e81507",
     "locked": true,
     "points": 5,
     "schema_version": 3,
     "solution": false,
     "task": false
    }
   },
   "outputs": [
    {
     "name": "stdout",
     "output_type": "stream",
     "text": [
      "Tests Passed (5 points)"
     ]
    },
    {
     "data": {
      "text/plain": [
       "\u001b[36mx\u001b[39m: \u001b[32mIdent\u001b[39m = \u001b[33mIdent\u001b[39m(s = \u001b[32m\"x\"\u001b[39m)\n",
       "\u001b[36my\u001b[39m: \u001b[32mIdent\u001b[39m = \u001b[33mIdent\u001b[39m(s = \u001b[32m\"y\"\u001b[39m)\n",
       "\u001b[36mz\u001b[39m: \u001b[32mIdent\u001b[39m = \u001b[33mIdent\u001b[39m(s = \u001b[32m\"z\"\u001b[39m)\n",
       "\u001b[36mw\u001b[39m: \u001b[32mIdent\u001b[39m = \u001b[33mIdent\u001b[39m(s = \u001b[32m\"w\"\u001b[39m)\n",
       "\u001b[36mten\u001b[39m: \u001b[32mConst\u001b[39m = \u001b[33mConst\u001b[39m(d = \u001b[32m10.0\u001b[39m)\n",
       "\u001b[36mtwenty\u001b[39m: \u001b[32mConst\u001b[39m = \u001b[33mConst\u001b[39m(d = \u001b[32m20.0\u001b[39m)\n",
       "\u001b[36minnerLet2\u001b[39m: \u001b[32mLet\u001b[39m = \u001b[33mLet\u001b[39m(\n",
       "  id = \u001b[32m\"w\"\u001b[39m,\n",
       "  e1 = \u001b[33mIdent\u001b[39m(s = \u001b[32m\"w\"\u001b[39m),\n",
       "  e2 = \u001b[33mMult\u001b[39m(\n",
       "    e1 = \u001b[33mIdent\u001b[39m(s = \u001b[32m\"x\"\u001b[39m),\n",
       "    e2 = \u001b[33mPlus\u001b[39m(e1 = \u001b[33mIdent\u001b[39m(s = \u001b[32m\"y\"\u001b[39m), e2 = \u001b[33mIdent\u001b[39m(s = \u001b[32m\"w\"\u001b[39m))\n",
       "  )\n",
       ")\n",
       "\u001b[36mmultiLet1\u001b[39m: \u001b[32mMultiLet\u001b[39m = \u001b[33mMultiLet\u001b[39m(\n",
       "  id = \u001b[33mList\u001b[39m(),\n",
       "  eList = \u001b[33mList\u001b[39m(),\n",
       "  e2 = \u001b[33mLet\u001b[39m(\n",
       "    id = \u001b[32m\"w\"\u001b[39m,\n",
       "    e1 = \u001b[33mIdent\u001b[39m(s = \u001b[32m\"w\"\u001b[39m),\n",
       "    e2 = \u001b[33mMult\u001b[39m(\n",
       "      e1 = \u001b[33mIdent\u001b[39m(s = \u001b[32m\"x\"\u001b[39m),\n",
       "      e2 = \u001b[33mPlus\u001b[39m(e1 = \u001b[33mIdent\u001b[39m(s = \u001b[32m\"y\"\u001b[39m), e2 = \u001b[33mIdent\u001b[39m(s = \u001b[32m\"w\"\u001b[39m))\n",
       "    )\n",
       "  )\n",
       ")\n",
       "\u001b[36me\u001b[39m: \u001b[32mMultiLet\u001b[39m = \u001b[33mMultiLet\u001b[39m(\n",
       "  id = \u001b[33mList\u001b[39m(\u001b[32m\"x\"\u001b[39m, \u001b[32m\"y\"\u001b[39m, \u001b[32m\"z\"\u001b[39m, \u001b[32m\"w\"\u001b[39m),\n",
       "  eList = \u001b[33mList\u001b[39m(\n",
       "    \u001b[33mConst\u001b[39m(d = \u001b[32m10.0\u001b[39m),\n",
       "    \u001b[33mConst\u001b[39m(d = \u001b[32m10.0\u001b[39m),\n",
       "    \u001b[33mConst\u001b[39m(d = \u001b[32m10.0\u001b[39m),\n",
       "    \u001b[33mConst\u001b[39m(d = \u001b[32m20.0\u001b[39m)\n",
       "  ),\n",
       "  e2 = \u001b[33mMultiLet\u001b[39m(\n",
       "    id = \u001b[33mList\u001b[39m(),\n",
       "    eList = \u001b[33mList\u001b[39m(),\n",
       "    e2 = \u001b[33mLet\u001b[39m(\n",
       "      id = \u001b[32m\"w\"\u001b[39m,\n",
       "      e1 = \u001b[33mIdent\u001b[39m(s = \u001b[32m\"w\"\u001b[39m),\n",
       "      e2 = \u001b[33mMult\u001b[39m(\n",
       "        e1 = \u001b[33mIdent\u001b[39m(s = \u001b[32m\"x\"\u001b[39m),\n",
       "        e2 = \u001b[33mPlus\u001b[39m(e1 = \u001b[33mIdent\u001b[39m(s = \u001b[32m\"y\"\u001b[39m), e2 = \u001b[33mIdent\u001b[39m(s = \u001b[32m\"w\"\u001b[39m))\n",
       "      )\n",
       "    )\n",
       "  )\n",
       ")\n",
       "\u001b[36mv\u001b[39m: \u001b[32mValue\u001b[39m = \u001b[33mNumValue\u001b[39m(f = \u001b[32m300.0\u001b[39m)"
      ]
     },
     "execution_count": 6,
     "metadata": {},
     "output_type": "execute_result"
    }
   ],
   "source": [
    "//BEGIN TEST\n",
    "/*\n",
    "let (x, y, z, w) = (10, 10, 10, 20 ) in \n",
    "  let () = () in \n",
    "    let w = w in \n",
    "       x *( y + w )\n",
    "*/\n",
    "\n",
    "val x = Ident(\"x\")\n",
    "val y = Ident(\"y\")\n",
    "val z = Ident(\"z\")\n",
    "val w = Ident(\"w\")\n",
    "val ten = Const(10.0)\n",
    "val twenty = Const(20.0)\n",
    "val innerLet2 = Let(\"w\", w, Mult(x, Plus(y, w)))\n",
    "val multiLet1 = MultiLet(Nil, Nil, innerLet2)\n",
    "val e = MultiLet(List(\"x\",\"y\",\"z\",\"w\"), List(ten, ten, ten, twenty), multiLet1)\n",
    "val v = evalExpr(e, Map.empty)\n",
    "assert(v == NumValue(300.0), \"Test2 Failed -- expected value NumValue(300.0), obtained value $v\")\n",
    "\n",
    "passed(5)\n",
    "//END TEST"
   ]
  },
  {
   "cell_type": "markdown",
   "metadata": {
    "deletable": false,
    "editable": false,
    "nbgrader": {
     "cell_type": "markdown",
     "checksum": "198b7bc7a046d94d7c39810c9709636c",
     "grade": false,
     "grade_id": "cell-6b7cdb7e09aaeeaa",
     "locked": true,
     "schema_version": 3,
     "solution": false,
     "task": false
    }
   },
   "source": [
    "## Problem 2: Translating Lettuce Into Scala (25 points)"
   ]
  },
  {
   "attachments": {},
   "cell_type": "markdown",
   "metadata": {
    "deletable": false,
    "editable": false,
    "nbgrader": {
     "cell_type": "markdown",
     "checksum": "21314956789d0cdee29efa411f387f30",
     "grade": false,
     "grade_id": "cell-7e674466527f9a86",
     "locked": true,
     "schema_version": 3,
     "solution": false,
     "task": false
    }
   },
   "source": [
    "In this problem, we will translate Lettuce programs into scala. We will consider the fragment of the\n",
    "language with Let bindings and if-then-else statements.\n",
    "\n",
    "$$\\renewcommand\\Expr{\\mathbf{Expr}}$$\n",
    "$$ \\begin{array}{rcl}\n",
    "\\Expr &\\Rightarrow & \\text{Const}(\\mathbf{Double}) \\\\\n",
    "& | & \\text{ConstTrue}\\\\\n",
    "&|& \\text{ConstFalse}\\\\\n",
    "& | & \\text{Ident}(\\mathbf{String}) \\\\\n",
    "& | & \\text{Plus}(\\Expr, \\Expr) \\\\\n",
    "&|& \\text{Minus}(\\Expr, \\Expr) \\\\\n",
    "& |& \\text{Mult}(\\Expr, \\Expr) \\\\\n",
    "& | & \\text{Geq}(\\Expr, \\Expr) \\\\\n",
    "& | & \\text{And}(\\Expr, \\Expr) \\\\\n",
    "&|& \\text{Or}(\\Expr, \\Expr) \\\\\n",
    "& | & \\text{IfThenElse}(\\Expr, \\Expr, \\Expr) \\\\\n",
    "&|& \\text{Let}(\\mathbf{String}, \\Expr, \\Expr) \\\\\n",
    "\\end{array}$$\n",
    "\n",
    "\n",
    "$$\\newcommand\\translate{\\textsf{translateIntoScala}}$$ \n",
    "The goal is to implement the function  $\\translate(e)$ that inputs a Lettuce Expr $e$ and outputs\n",
    "a __string__ that is supposed to be a scala expression. \n",
    "\n",
    "We provide semantics of the translation as below:\n",
    "\n",
    "$$\\newcommand\\semRule[3]{\\begin{array}{c} #1 \\\\ \\hline #2 \\\\ \\end{array} (\\text{#3})}$$\n",
    "\n",
    "Note that the output of $\\translate$ is a string. \n",
    "$$\\semRule{}{\\translate(\\text{Const}(f)) = \\textsf{convertToString}(f) }{const}$$\n",
    "\n",
    "Note that to convert a number to string in scala, use the 'toString' method.\n",
    "\n",
    "$$\\semRule{}{\\translate(\\text{Ident}(x)) = x }{ident}$$\n",
    "$$\\semRule{}{\\translate(\\text{ConstTrue}) = \"true\" }{true}$$\n",
    "$$\\semRule{}{\\translate(\\text{ConstFalse}) = \"false\" }{false}$$\n",
    "\n",
    "Note that when you translate subexpressions, you have to make sure to wrap them in curly braces so that\n",
    "things defined in the scope of one subexpression do not accidently fall into another. <font color=\"red\"> Please follow the conventions below with curly braces. Otherwise you will not pass the tests </font>\n",
    "\n",
    "$$\\semRule{\\translate(e1) = s1,\\ \\translate(e2) = s2}{\\translate(\\text{Plus}(e1, e2)) = \\{ s1 \\} + \\{ s2 \\} }{plus}$$\n",
    "$$\\semRule{\\translate(e1) = s1,\\ \\translate(e2) = s2}{\\translate(\\text{Minus}(e1, e2)) = \\{ s1  \\} - \\{ s2 \\} }{minus}$$\n",
    "$$\\semRule{\\translate(e1) = s1,\\ \\translate(e2) = s2}{\\translate(\\text{Geq}(e1, e2)) = \\{ s1 \\} >= \\{ s2 \\} }{geq}$$\n",
    "$$\\semRule{\\translate(e1) = s1,\\ \\translate(e2) = s2}{\\translate(\\text{And}(e1, e2)) = \\{ s1  \\}\\ \\&\\!\\&\\ \\{ s2 \\} }{and}$$\n",
    "$$\\semRule{\\translate(e1) = s1,\\ \\translate(e2) = s2}{\\translate(\\text{Or}(e1, e2)) = \\{ s1 \\}\\ |\\!|\\ \\{ s2 \\} }{or}$$\n",
    "$$\\semRule{\\translate(e) = s, \\translate(e1) = s1,\\ \\translate(e2) = s2}{\\translate(\\text{IfThenEllse}(e,e1, e2)) = \\text{if}\\ (\\{s\\})\\ \\{ s1 \\}\\ else\\ \\{ s2 \\} }{ite}$$\n",
    "$$\\semRule{\\translate(e1) = s1,\\ \\translate(e2) = s2}{\\translate(\\text{Let}(x,e1, e2)) =\\ \\text{val}\\ x\\ =\\ \\{ s1 \\}\\  \\{ s2 \\}  }{let}$$\n",
    "\n",
    "Whitespaces (space, tab, returns) are ignored by our test cases. "
   ]
  },
  {
   "cell_type": "code",
   "execution_count": 7,
   "metadata": {
    "deletable": false,
    "editable": false,
    "nbgrader": {
     "cell_type": "code",
     "checksum": "3c4c5c73c9c6713cd73e99536e5c2212",
     "grade": false,
     "grade_id": "cell-def36675e2a45ecf",
     "locked": true,
     "schema_version": 3,
     "solution": false,
     "task": false
    }
   },
   "outputs": [
    {
     "data": {
      "text/plain": [
       "defined \u001b[32mtrait\u001b[39m \u001b[36mExpr\u001b[39m\n",
       "defined \u001b[32mclass\u001b[39m \u001b[36mConst\u001b[39m\n",
       "defined \u001b[32mobject\u001b[39m \u001b[36mConstTrue\u001b[39m\n",
       "defined \u001b[32mobject\u001b[39m \u001b[36mConstFalse\u001b[39m\n",
       "defined \u001b[32mclass\u001b[39m \u001b[36mIdent\u001b[39m\n",
       "defined \u001b[32mclass\u001b[39m \u001b[36mPlus\u001b[39m\n",
       "defined \u001b[32mclass\u001b[39m \u001b[36mMinus\u001b[39m\n",
       "defined \u001b[32mclass\u001b[39m \u001b[36mMult\u001b[39m\n",
       "defined \u001b[32mclass\u001b[39m \u001b[36mGeq\u001b[39m\n",
       "defined \u001b[32mclass\u001b[39m \u001b[36mAnd\u001b[39m\n",
       "defined \u001b[32mclass\u001b[39m \u001b[36mOr\u001b[39m\n",
       "defined \u001b[32mclass\u001b[39m \u001b[36mIfThenElse\u001b[39m\n",
       "defined \u001b[32mclass\u001b[39m \u001b[36mLet\u001b[39m"
      ]
     },
     "execution_count": 7,
     "metadata": {},
     "output_type": "execute_result"
    }
   ],
   "source": [
    "sealed trait Expr\n",
    "case class Const(f: Double) extends Expr\n",
    "case object ConstTrue extends Expr\n",
    "case object ConstFalse extends Expr\n",
    "case class Ident(s: String) extends Expr\n",
    "case class Plus(e1: Expr, e2: Expr) extends Expr\n",
    "case class Minus(e1: Expr, e2: Expr) extends Expr\n",
    "case class Mult(e1: Expr, e2: Expr) extends Expr\n",
    "case class Geq(e1: Expr, e2: Expr) extends Expr\n",
    "case class And(e1: Expr, e2: Expr) extends Expr\n",
    "case class Or(e1: Expr, e2: Expr) extends Expr\n",
    "case class IfThenElse(e1: Expr, e2: Expr, e3: Expr) extends Expr\n",
    "case class Let(x:String, e1: Expr, e2: Expr) extends Expr"
   ]
  },
  {
   "cell_type": "code",
   "execution_count": 8,
   "metadata": {
    "deletable": false,
    "nbgrader": {
     "cell_type": "code",
     "checksum": "12cad3c76da4aef4af5c5c94d9b84823",
     "grade": false,
     "grade_id": "cell-25cd4d4783a12e2c",
     "locked": false,
     "schema_version": 3,
     "solution": true,
     "task": false
    }
   },
   "outputs": [
    {
     "data": {
      "text/plain": [
       "defined \u001b[32mfunction\u001b[39m \u001b[36mtranslateIntoScala\u001b[39m"
      ]
     },
     "execution_count": 8,
     "metadata": {},
     "output_type": "execute_result"
    }
   ],
   "source": [
    "/*  translateIntoScala - Translate the given expression into a Scala expression\n",
    "        Input:\n",
    "            - e: Expr\n",
    "        Algorithm:\n",
    "            * Match the expression with the following cases:\n",
    "                * Const(f) - Return the double as a string\n",
    "                * ConstTrue - Return \"true\"\n",
    "                * ConstFalse - Return \"false\"\n",
    "                * Ident(s) - Return the string\n",
    "                * Plus(e1, e2) - Return the string \"{e1} + {e2}\"\n",
    "                * Minus(e1, e2) - Return the string \"{e1} - {e2}\"\n",
    "                * Mult(e1, e2) - Return the string \"{e1} * {e2}\"\n",
    "                * Geq(e1, e2) - Return the string \"{e1} >= {e2}\"\n",
    "                * And(e1, e2) - Return the string \"{e1} && {e2}\"\n",
    "                * Or(e1, e2) - Return the string \"{e1} || {e2}\"\n",
    "                * IfThenElse(e, e1, e2) - Return the string \"if ({e}) {e1} else {e2}\"\n",
    "                * Let(x, e1, e2) - Return the string \"val x = {e1} {e2}\"\n",
    "        Output:\n",
    "            String representation of the expression in Scala\n",
    "*/\n",
    "def translateIntoScala(e: Expr): String = {\n",
    "    // YOUR CODE HERE\n",
    "    e match {\n",
    "        case Const(f) => f.toString\n",
    "        case ConstTrue => \"true\"\n",
    "        case ConstFalse => \"false\"\n",
    "        case Ident(x) => x\n",
    "        case Plus(e1, e2) => s\"{${translateIntoScala(e1)}} + {${translateIntoScala(e2)}}\"\n",
    "        case Minus(e1, e2) => s\"{${translateIntoScala(e1)}} - {${translateIntoScala(e2)}}\"\n",
    "        case Mult(e1, e2) => s\"{${translateIntoScala(e1)}} * {${translateIntoScala(e2)}}\"\n",
    "        case Geq(e1, e2) => s\"{${translateIntoScala(e1)}} >= {${translateIntoScala(e2)}}\"\n",
    "        case And(e1, e2) => s\"{${translateIntoScala(e1)}} && {${translateIntoScala(e2)}}\"\n",
    "        case Or(e1, e2) => s\"{${translateIntoScala(e1)}} || {${translateIntoScala(e2)}}\"\n",
    "        case IfThenElse(e, e1, e2) => s\"if ({${translateIntoScala(e)}}) {${translateIntoScala(e1)}} else {${translateIntoScala(e2)}}\"\n",
    "        case Let(x, e1, e2) => s\"val $x = {${translateIntoScala(e1)}} {${translateIntoScala(e2)}}\"\n",
    "    }\n",
    "}"
   ]
  },
  {
   "cell_type": "code",
   "execution_count": 9,
   "metadata": {
    "deletable": false,
    "editable": false,
    "nbgrader": {
     "cell_type": "code",
     "checksum": "6bb757ec185b65a91c5a26d421d24ad8",
     "grade": false,
     "grade_id": "cell-0ddf10680a51f9c8",
     "locked": true,
     "schema_version": 3,
     "solution": false,
     "task": false
    }
   },
   "outputs": [
    {
     "name": "stdout",
     "output_type": "stream",
     "text": [
      "valx={{1}+{3}}{valy={2}{valz={10}{x}+{{y}*{z}}}}"
     ]
    },
    {
     "data": {
      "text/plain": [
       "defined \u001b[32mfunction\u001b[39m \u001b[36mcleanUpWhiteSpacesInString\u001b[39m\n",
       "\u001b[36mtst1\u001b[39m: \u001b[32mString\u001b[39m = \u001b[32m\"\"\"\n",
       "val x = { { 1 } + { 3 } }\n",
       "     {\n",
       "        val y = { 2 }\n",
       "        {\n",
       "            val z = { 10 }\n",
       "                { x } + { { y } * { z } }\n",
       "        }\n",
       "     }\n",
       "\n",
       "\"\"\"\u001b[39m\n",
       "defined \u001b[32mfunction\u001b[39m \u001b[36mcheckWhitespaceMunged\u001b[39m"
      ]
     },
     "execution_count": 9,
     "metadata": {},
     "output_type": "execute_result"
    }
   ],
   "source": [
    "// PLEASE RUN THIS CELL BEFORE TESTING FURTHER\n",
    "def cleanUpWhiteSpacesInString(st: String): String = \n",
    "    st.filterNot( _.isWhitespace )\n",
    "\n",
    "val tst1 = \"\"\"\n",
    "val x = { { 1 } + { 3 } }\n",
    "     {\n",
    "        val y = { 2 }\n",
    "        {\n",
    "            val z = { 10 }\n",
    "                { x } + { { y } * { z } }\n",
    "        }\n",
    "     }\n",
    "\n",
    "\"\"\"\n",
    "print(cleanUpWhiteSpacesInString(tst1))\n",
    "\n",
    "def checkWhitespaceMunged(testName: String, s1: String, s2: String) : Boolean = {\n",
    "    println(s\"--- Test $testName ---\")\n",
    "    println(\"Your code returned:\")\n",
    "    println(s\"$s1\")\n",
    "    println(\"Expected result:\")\n",
    "    println(s\"$s2\")\n",
    "    cleanUpWhiteSpacesInString(s1) == cleanUpWhiteSpacesInString(s2)\n",
    "}"
   ]
  },
  {
   "cell_type": "code",
   "execution_count": 10,
   "metadata": {
    "deletable": false,
    "editable": false,
    "nbgrader": {
     "cell_type": "code",
     "checksum": "81928a2300425b230efe063e43d82a01",
     "grade": true,
     "grade_id": "cell-010af2c944cfd1ac",
     "locked": true,
     "points": 10,
     "schema_version": 3,
     "solution": false,
     "task": false
    }
   },
   "outputs": [
    {
     "name": "stdout",
     "output_type": "stream",
     "text": [
      "--- Test e1 ---\n",
      "Your code returned:\n",
      "{x} + {y}\n",
      "Expected result:\n",
      "{ x } + { y }\n",
      "Test passed!\n",
      "--- Test e2 ---\n",
      "Your code returned:\n",
      "{x} + {1.0}\n",
      "Expected result:\n",
      "{ x } + { 1.0 }\n",
      "Test passed!\n",
      "--- Test e3 ---\n",
      "Your code returned:\n",
      "{x} - {2.0}\n",
      "Expected result:\n",
      "{ x } - { 2.0 }\n",
      "Test passed!\n",
      "--- Test e4 ---\n",
      "Your code returned:\n",
      "{x} + {{y} - {1.0}}\n",
      "Expected result:\n",
      "{ x } + { { y } - {1.0} }\n",
      "Test passed!\n",
      "--- Test e5 ---\n",
      "Your code returned:\n",
      "{{x} >= {y}} && {{y} >= {1.0}}\n",
      "Expected result:\n",
      "{{x} >= {y}} && {{y} >= {1.0}}\n",
      "Test passed!\n",
      "--- Test e6 ---\n",
      "Your code returned:\n",
      "{{{x} * {y}} >= {z}} || {{y} >= {1.0}}\n",
      "Expected result:\n",
      "{{ {x} * {y}} >= {z}} || {{y} >= {1.0}}\n",
      "test passed!\n",
      "Tests Passed (10 points)"
     ]
    },
    {
     "data": {
      "text/plain": [
       "\u001b[36mx\u001b[39m: \u001b[32mIdent\u001b[39m = \u001b[33mIdent\u001b[39m(s = \u001b[32m\"x\"\u001b[39m)\n",
       "\u001b[36my\u001b[39m: \u001b[32mIdent\u001b[39m = \u001b[33mIdent\u001b[39m(s = \u001b[32m\"y\"\u001b[39m)\n",
       "\u001b[36mone\u001b[39m: \u001b[32mConst\u001b[39m = \u001b[33mConst\u001b[39m(f = \u001b[32m1.0\u001b[39m)\n",
       "\u001b[36mtwo\u001b[39m: \u001b[32mConst\u001b[39m = \u001b[33mConst\u001b[39m(f = \u001b[32m2.0\u001b[39m)\n",
       "\u001b[36me1\u001b[39m: \u001b[32mPlus\u001b[39m = \u001b[33mPlus\u001b[39m(e1 = \u001b[33mIdent\u001b[39m(s = \u001b[32m\"x\"\u001b[39m), e2 = \u001b[33mIdent\u001b[39m(s = \u001b[32m\"y\"\u001b[39m))\n",
       "\u001b[36me1Expected\u001b[39m: \u001b[32mString\u001b[39m = \u001b[32m\"{ x } + { y }\"\u001b[39m\n",
       "\u001b[36me1Translated\u001b[39m: \u001b[32mString\u001b[39m = \u001b[32m\"{x} + {y}\"\u001b[39m\n",
       "\u001b[36me2\u001b[39m: \u001b[32mPlus\u001b[39m = \u001b[33mPlus\u001b[39m(e1 = \u001b[33mIdent\u001b[39m(s = \u001b[32m\"x\"\u001b[39m), e2 = \u001b[33mConst\u001b[39m(f = \u001b[32m1.0\u001b[39m))\n",
       "\u001b[36me2Expected\u001b[39m: \u001b[32mString\u001b[39m = \u001b[32m\"{ x } + { 1.0 }\"\u001b[39m\n",
       "\u001b[36me3\u001b[39m: \u001b[32mMinus\u001b[39m = \u001b[33mMinus\u001b[39m(e1 = \u001b[33mIdent\u001b[39m(s = \u001b[32m\"x\"\u001b[39m), e2 = \u001b[33mConst\u001b[39m(f = \u001b[32m2.0\u001b[39m))\n",
       "\u001b[36me3Expected\u001b[39m: \u001b[32mString\u001b[39m = \u001b[32m\"{ x } - { 2.0 }\"\u001b[39m\n",
       "\u001b[36me4\u001b[39m: \u001b[32mPlus\u001b[39m = \u001b[33mPlus\u001b[39m(\n",
       "  e1 = \u001b[33mIdent\u001b[39m(s = \u001b[32m\"x\"\u001b[39m),\n",
       "  e2 = \u001b[33mMinus\u001b[39m(e1 = \u001b[33mIdent\u001b[39m(s = \u001b[32m\"y\"\u001b[39m), e2 = \u001b[33mConst\u001b[39m(f = \u001b[32m1.0\u001b[39m))\n",
       ")\n",
       "\u001b[36me4Expected\u001b[39m: \u001b[32mString\u001b[39m = \u001b[32m\"{ x } + { { y } - {1.0} }\"\u001b[39m\n",
       "\u001b[36ms4\u001b[39m: \u001b[32mString\u001b[39m = \u001b[32m\"{x} + {{y} - {1.0}}\"\u001b[39m\n",
       "\u001b[36me5\u001b[39m: \u001b[32mAnd\u001b[39m = \u001b[33mAnd\u001b[39m(\n",
       "  e1 = \u001b[33mGeq\u001b[39m(e1 = \u001b[33mIdent\u001b[39m(s = \u001b[32m\"x\"\u001b[39m), e2 = \u001b[33mIdent\u001b[39m(s = \u001b[32m\"y\"\u001b[39m)),\n",
       "  e2 = \u001b[33mGeq\u001b[39m(e1 = \u001b[33mIdent\u001b[39m(s = \u001b[32m\"y\"\u001b[39m), e2 = \u001b[33mConst\u001b[39m(f = \u001b[32m1.0\u001b[39m))\n",
       ")\n",
       "\u001b[36me5Expected\u001b[39m: \u001b[32mString\u001b[39m = \u001b[32m\"{{x} >= {y}} && {{y} >= {1.0}}\"\u001b[39m\n",
       "\u001b[36ms5\u001b[39m: \u001b[32mString\u001b[39m = \u001b[32m\"{{x} >= {y}} && {{y} >= {1.0}}\"\u001b[39m\n",
       "\u001b[36me6\u001b[39m: \u001b[32mOr\u001b[39m = \u001b[33mOr\u001b[39m(\n",
       "  e1 = \u001b[33mGeq\u001b[39m(\n",
       "    e1 = \u001b[33mMult\u001b[39m(e1 = \u001b[33mIdent\u001b[39m(s = \u001b[32m\"x\"\u001b[39m), e2 = \u001b[33mIdent\u001b[39m(s = \u001b[32m\"y\"\u001b[39m)),\n",
       "    e2 = \u001b[33mIdent\u001b[39m(s = \u001b[32m\"z\"\u001b[39m)\n",
       "  ),\n",
       "  e2 = \u001b[33mGeq\u001b[39m(e1 = \u001b[33mIdent\u001b[39m(s = \u001b[32m\"y\"\u001b[39m), e2 = \u001b[33mConst\u001b[39m(f = \u001b[32m1.0\u001b[39m))\n",
       ")\n",
       "\u001b[36me6Expected\u001b[39m: \u001b[32mString\u001b[39m = \u001b[32m\"{{ {x} * {y}} >= {z}} || {{y} >= {1.0}}\"\u001b[39m\n",
       "\u001b[36ms6\u001b[39m: \u001b[32mString\u001b[39m = \u001b[32m\"{{{x} * {y}} >= {z}} || {{y} >= {1.0}}\"\u001b[39m"
      ]
     },
     "execution_count": 10,
     "metadata": {},
     "output_type": "execute_result"
    }
   ],
   "source": [
    "//BEGIN TEST\n",
    "\n",
    "val x = Ident(\"x\")\n",
    "val y = Ident(\"y\")\n",
    "val one = Const(1.0)\n",
    "val two = Const(2.0)\n",
    "\n",
    "val e1 = Plus(x, y)\n",
    "val e1Expected = \"{ x } + { y }\"\n",
    "val e1Translated = translateIntoScala(e1)\n",
    "assert(checkWhitespaceMunged(\"e1\", e1Translated, e1Expected), \"Failed test for e1\")\n",
    "println(\"Test passed!\")\n",
    "\n",
    "val e2 = Plus(x, one)\n",
    "val e2Expected = \"{ x } + { 1.0 }\"\n",
    "assert(checkWhitespaceMunged(\"e2\", translateIntoScala(e2), e2Expected), \"Failed test for e2\")\n",
    "println(\"Test passed!\")\n",
    "\n",
    "val e3 = Minus(x, two)\n",
    "val e3Expected = \"{ x } - { 2.0 }\"\n",
    "assert(checkWhitespaceMunged(\"e3\", translateIntoScala(e3), e3Expected), \"Failed test for e3\")\n",
    "println(\"Test passed!\")\n",
    "\n",
    "val e4 = Plus(x, Minus(y, one))\n",
    "val e4Expected = \"{ x } + { { y } - {1.0} }\"\n",
    "val s4 = translateIntoScala(e4)\n",
    "assert(checkWhitespaceMunged(\"e4\", s4, e4Expected), \"Failed test for e4\")\n",
    "println(\"Test passed!\")\n",
    "\n",
    "val e5 = And( Geq( x, y) , Geq(y, one))\n",
    "val e5Expected = \"{{x} >= {y}} && {{y} >= {1.0}}\"\n",
    "val s5 = translateIntoScala(e5)\n",
    "assert(checkWhitespaceMunged(\"e5\", s5, e5Expected), \"Failed test for e5\")\n",
    "println(\"Test passed!\")\n",
    "\n",
    "val e6 = Or( Geq( Mult(x, y), Ident(\"z\")) , Geq(y, one))\n",
    "val e6Expected = \"{{ {x} * {y}} >= {z}} || {{y} >= {1.0}}\"\n",
    "val s6 = translateIntoScala(e6)\n",
    "assert(checkWhitespaceMunged(\"e6\", s6, e6Expected), \"Failed test for e6\")\n",
    "println(\"test passed!\")\n",
    "\n",
    "passed(10)\n",
    "\n",
    "//END TEST"
   ]
  },
  {
   "cell_type": "code",
   "execution_count": 11,
   "metadata": {
    "deletable": false,
    "editable": false,
    "nbgrader": {
     "cell_type": "code",
     "checksum": "8f890f5188f88c851946216109d5f8a4",
     "grade": true,
     "grade_id": "cell-6c046fd2c49abd66",
     "locked": true,
     "points": 5,
     "schema_version": 3,
     "solution": false,
     "task": false
    }
   },
   "outputs": [
    {
     "name": "stdout",
     "output_type": "stream",
     "text": [
      "iteTranslated = if ({{{x} >= {y}} && {{y} >= {1.0}}}) {1.0} else {y}\n",
      "--- Test itetest ---\n",
      "Your code returned:\n",
      "if ({{{x} >= {y}} && {{y} >= {1.0}}}) {1.0} else {y}\n",
      "Expected result:\n",
      " if ({{{x} >= {y}} && {{y} >= {1.0}}}) {\n",
      "    1.0\n",
      "} else {\n",
      "    y\n",
      "}\n",
      "\n",
      "Tests Passed (5 points)"
     ]
    },
    {
     "data": {
      "text/plain": [
       "\u001b[36mx\u001b[39m: \u001b[32mIdent\u001b[39m = \u001b[33mIdent\u001b[39m(s = \u001b[32m\"x\"\u001b[39m)\n",
       "\u001b[36my\u001b[39m: \u001b[32mIdent\u001b[39m = \u001b[33mIdent\u001b[39m(s = \u001b[32m\"y\"\u001b[39m)\n",
       "\u001b[36mone\u001b[39m: \u001b[32mConst\u001b[39m = \u001b[33mConst\u001b[39m(f = \u001b[32m1.0\u001b[39m)\n",
       "\u001b[36mtwo\u001b[39m: \u001b[32mConst\u001b[39m = \u001b[33mConst\u001b[39m(f = \u001b[32m2.0\u001b[39m)\n",
       "\u001b[36me5\u001b[39m: \u001b[32mAnd\u001b[39m = \u001b[33mAnd\u001b[39m(\n",
       "  e1 = \u001b[33mGeq\u001b[39m(e1 = \u001b[33mIdent\u001b[39m(s = \u001b[32m\"x\"\u001b[39m), e2 = \u001b[33mIdent\u001b[39m(s = \u001b[32m\"y\"\u001b[39m)),\n",
       "  e2 = \u001b[33mGeq\u001b[39m(e1 = \u001b[33mIdent\u001b[39m(s = \u001b[32m\"y\"\u001b[39m), e2 = \u001b[33mConst\u001b[39m(f = \u001b[32m1.0\u001b[39m))\n",
       ")\n",
       "\u001b[36me5Expected\u001b[39m: \u001b[32mString\u001b[39m = \u001b[32m\"{{x} >= {y}} && {{y} >= {1.0}}\"\u001b[39m\n",
       "\u001b[36miteExpr\u001b[39m: \u001b[32mIfThenElse\u001b[39m = \u001b[33mIfThenElse\u001b[39m(\n",
       "  e1 = \u001b[33mAnd\u001b[39m(\n",
       "    e1 = \u001b[33mGeq\u001b[39m(e1 = \u001b[33mIdent\u001b[39m(s = \u001b[32m\"x\"\u001b[39m), e2 = \u001b[33mIdent\u001b[39m(s = \u001b[32m\"y\"\u001b[39m)),\n",
       "    e2 = \u001b[33mGeq\u001b[39m(e1 = \u001b[33mIdent\u001b[39m(s = \u001b[32m\"y\"\u001b[39m), e2 = \u001b[33mConst\u001b[39m(f = \u001b[32m1.0\u001b[39m))\n",
       "  ),\n",
       "  e2 = \u001b[33mConst\u001b[39m(f = \u001b[32m1.0\u001b[39m),\n",
       "  e3 = \u001b[33mIdent\u001b[39m(s = \u001b[32m\"y\"\u001b[39m)\n",
       ")\n",
       "\u001b[36miteExpected\u001b[39m: \u001b[32mString\u001b[39m = \u001b[32m\"\"\" if ({{{x} >= {y}} && {{y} >= {1.0}}}) {\n",
       "    1.0\n",
       "} else {\n",
       "    y\n",
       "}\n",
       "\"\"\"\u001b[39m\n",
       "\u001b[36miteTranslated\u001b[39m: \u001b[32mString\u001b[39m = \u001b[32m\"if ({{{x} >= {y}} && {{y} >= {1.0}}}) {1.0} else {y}\"\u001b[39m"
      ]
     },
     "execution_count": 11,
     "metadata": {},
     "output_type": "execute_result"
    }
   ],
   "source": [
    "//BEGIN TEST\n",
    "val x = Ident(\"x\")\n",
    "val y = Ident(\"y\")\n",
    "val one = Const(1.0)\n",
    "val two = Const(2.0)\n",
    "val e5 = And( Geq( x, y) , Geq(y, one))\n",
    "val e5Expected = \"{{x} >= {y}} && {{y} >= {1.0}}\"\n",
    "val iteExpr = IfThenElse(e5, one, y)\n",
    "val iteExpected = s\"\"\" if ({$e5Expected}) {\n",
    "    1.0\n",
    "} else {\n",
    "    y\n",
    "}\n",
    "\"\"\"\n",
    "val iteTranslated = translateIntoScala(iteExpr)\n",
    "println(\"iteTranslated = \" + iteTranslated)\n",
    "assert(checkWhitespaceMunged(\"itetest\", iteTranslated, iteExpected), \"Failed test for ite\")\n",
    "passed(5)\n",
    "//END TEST"
   ]
  },
  {
   "cell_type": "code",
   "execution_count": 12,
   "metadata": {
    "deletable": false,
    "editable": false,
    "nbgrader": {
     "cell_type": "code",
     "checksum": "1f6090fcf1c166092bd8bc2a86bee692",
     "grade": true,
     "grade_id": "cell-1756e8343948ec60",
     "locked": true,
     "points": 10,
     "schema_version": 3,
     "solution": false,
     "task": false
    }
   },
   "outputs": [
    {
     "name": "stdout",
     "output_type": "stream",
     "text": [
      "--- Test letExprTranslated1 ---\n",
      "Your code returned:\n",
      "val x = {10.0} {{x} + {1.0}}\n",
      "Expected result:\n",
      "val x = { 10.0 } {\n",
      "    { x } + { 1.0 } }\n",
      "\n",
      "--- Test letExprTranslated2 ---\n",
      "Your code returned:\n",
      "val x = {val x = {10.0} {{x} + {1.0}}} {val y = {2.0} {{x} + {y}}}\n",
      "Expected result:\n",
      " val x = {\n",
      "                 \t   \n",
      "                val x = {\n",
      "                 \t   10.0\n",
      "                }\n",
      "                {\n",
      "                 \t  { x } + {1.0}\n",
      "                }\n",
      "            \n",
      "                }\n",
      "                {\n",
      "                 \t  \n",
      "                val y = {\n",
      "                 \t   2.0\n",
      "                }\n",
      "                {\n",
      "                 \t  { x } + {y}\n",
      "                }\n",
      "            \n",
      "                }\n",
      "\n",
      "Tests Passed (10 points)"
     ]
    },
    {
     "data": {
      "text/plain": [
       "\u001b[36mx\u001b[39m: \u001b[32mIdent\u001b[39m = \u001b[33mIdent\u001b[39m(s = \u001b[32m\"x\"\u001b[39m)\n",
       "\u001b[36my\u001b[39m: \u001b[32mIdent\u001b[39m = \u001b[33mIdent\u001b[39m(s = \u001b[32m\"y\"\u001b[39m)\n",
       "\u001b[36mone\u001b[39m: \u001b[32mConst\u001b[39m = \u001b[33mConst\u001b[39m(f = \u001b[32m1.0\u001b[39m)\n",
       "\u001b[36mtwo\u001b[39m: \u001b[32mConst\u001b[39m = \u001b[33mConst\u001b[39m(f = \u001b[32m2.0\u001b[39m)\n",
       "\u001b[36me6\u001b[39m: \u001b[32mOr\u001b[39m = \u001b[33mOr\u001b[39m(\n",
       "  e1 = \u001b[33mGeq\u001b[39m(\n",
       "    e1 = \u001b[33mMult\u001b[39m(e1 = \u001b[33mIdent\u001b[39m(s = \u001b[32m\"x\"\u001b[39m), e2 = \u001b[33mIdent\u001b[39m(s = \u001b[32m\"y\"\u001b[39m)),\n",
       "    e2 = \u001b[33mIdent\u001b[39m(s = \u001b[32m\"z\"\u001b[39m)\n",
       "  ),\n",
       "  e2 = \u001b[33mGeq\u001b[39m(e1 = \u001b[33mIdent\u001b[39m(s = \u001b[32m\"y\"\u001b[39m), e2 = \u001b[33mConst\u001b[39m(f = \u001b[32m1.0\u001b[39m))\n",
       ")\n",
       "\u001b[36me6Expected\u001b[39m: \u001b[32mString\u001b[39m = \u001b[32m\"{{ {x} * {y}} >= {z}} || {{y} >= {1.0}}\"\u001b[39m\n",
       "\u001b[36mletExpr1\u001b[39m: \u001b[32mLet\u001b[39m = \u001b[33mLet\u001b[39m(\n",
       "  x = \u001b[32m\"x\"\u001b[39m,\n",
       "  e1 = \u001b[33mConst\u001b[39m(f = \u001b[32m10.0\u001b[39m),\n",
       "  e2 = \u001b[33mPlus\u001b[39m(e1 = \u001b[33mIdent\u001b[39m(s = \u001b[32m\"x\"\u001b[39m), e2 = \u001b[33mConst\u001b[39m(f = \u001b[32m1.0\u001b[39m))\n",
       ")\n",
       "\u001b[36mletExpr1Expected\u001b[39m: \u001b[32mString\u001b[39m = \u001b[32m\"\"\"val x = { 10.0 } {\n",
       "    { x } + { 1.0 } }\n",
       "\"\"\"\u001b[39m\n",
       "\u001b[36mletExprTranslated1\u001b[39m: \u001b[32mString\u001b[39m = \u001b[32m\"val x = {10.0} {{x} + {1.0}}\"\u001b[39m\n",
       "\u001b[36mletExpr2\u001b[39m: \u001b[32mLet\u001b[39m = \u001b[33mLet\u001b[39m(\n",
       "  x = \u001b[32m\"x\"\u001b[39m,\n",
       "  e1 = \u001b[33mLet\u001b[39m(\n",
       "    x = \u001b[32m\"x\"\u001b[39m,\n",
       "    e1 = \u001b[33mConst\u001b[39m(f = \u001b[32m10.0\u001b[39m),\n",
       "    e2 = \u001b[33mPlus\u001b[39m(e1 = \u001b[33mIdent\u001b[39m(s = \u001b[32m\"x\"\u001b[39m), e2 = \u001b[33mConst\u001b[39m(f = \u001b[32m1.0\u001b[39m))\n",
       "  ),\n",
       "  e2 = \u001b[33mLet\u001b[39m(\n",
       "    x = \u001b[32m\"y\"\u001b[39m,\n",
       "    e1 = \u001b[33mConst\u001b[39m(f = \u001b[32m2.0\u001b[39m),\n",
       "    e2 = \u001b[33mPlus\u001b[39m(e1 = \u001b[33mIdent\u001b[39m(s = \u001b[32m\"x\"\u001b[39m), e2 = \u001b[33mIdent\u001b[39m(s = \u001b[32m\"y\"\u001b[39m))\n",
       "  )\n",
       ")\n",
       "\u001b[36mletExprTranslated2\u001b[39m: \u001b[32mString\u001b[39m = \u001b[32m\"val x = {val x = {10.0} {{x} + {1.0}}} {val y = {2.0} {{x} + {y}}}\"\u001b[39m\n",
       "\u001b[36mletExprExpected2\u001b[39m: \u001b[32mString\u001b[39m = \u001b[32m\"\"\" val x = {\n",
       "                 \t   \n",
       "                val x = {\n",
       "                 \t   10.0\n",
       "                }\n",
       "                {\n",
       "                 \t  { x } + {1.0}\n",
       "                }\n",
       "            \n",
       "                }\n",
       "                {\n",
       "                 \t  \n",
       "                val y = {\n",
       "                 \t   2.0\n",
       "                }\n",
       "                {\n",
       "                 \t  { x } + {y}\n",
       "                }\n",
       "            \n",
       "                }\n",
       "\"\"\"\u001b[39m"
      ]
     },
     "execution_count": 12,
     "metadata": {},
     "output_type": "execute_result"
    }
   ],
   "source": [
    "//BEGIN TEST\n",
    "val x = Ident(\"x\")\n",
    "val y = Ident(\"y\")\n",
    "val one = Const(1.0)\n",
    "val two = Const(2.0)\n",
    "val e6 = Or( Geq( Mult(x, y), Ident(\"z\")) , Geq(y, one))\n",
    "val e6Expected = \"{{ {x} * {y}} >= {z}} || {{y} >= {1.0}}\"\n",
    "\n",
    "val letExpr1 = Let(\"x\", Const(10.0) , Plus(x, one))\n",
    "val letExpr1Expected = \"\"\"val x = { 10.0 } {\n",
    "    { x } + { 1.0 } }\n",
    "\"\"\"\n",
    "val letExprTranslated1 = translateIntoScala(letExpr1)\n",
    "assert(checkWhitespaceMunged(\"letExprTranslated1\",letExprTranslated1, letExpr1Expected), \"Failed test for letExpr1\")\n",
    "\n",
    "\n",
    "val letExpr2 = Let(\"x\", letExpr1 , Let (\"y\", two, Plus(x, y)))\n",
    "val letExprTranslated2 = translateIntoScala(letExpr2)\n",
    "val letExprExpected2 = \"\"\" val x = {\n",
    "                 \t   \n",
    "                val x = {\n",
    "                 \t   10.0\n",
    "                }\n",
    "                {\n",
    "                 \t  { x } + {1.0}\n",
    "                }\n",
    "            \n",
    "                }\n",
    "                {\n",
    "                 \t  \n",
    "                val y = {\n",
    "                 \t   2.0\n",
    "                }\n",
    "                {\n",
    "                 \t  { x } + {y}\n",
    "                }\n",
    "            \n",
    "                }\n",
    "\"\"\"\n",
    "\n",
    "assert(checkWhitespaceMunged(\"letExprTranslated2\", letExprTranslated2, letExprExpected2), \"Failed test for letExpr2\")\n",
    "passed(10)\n",
    "//END TEST"
   ]
  }
 ],
 "metadata": {
  "kernelspec": {
   "display_name": "Scala",
   "language": "scala",
   "name": "scala"
  },
  "language_info": {
   "codemirror_mode": "text/x-scala",
   "file_extension": ".sc",
   "mimetype": "text/x-scala",
   "name": "scala",
   "nbconvert_exporter": "script",
   "version": "2.13.12"
  }
 },
 "nbformat": 4,
 "nbformat_minor": 4
}
