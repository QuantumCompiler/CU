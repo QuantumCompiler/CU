{
 "cells": [
  {
   "attachments": {},
   "cell_type": "markdown",
   "metadata": {
    "deletable": false,
    "editable": false,
    "nbgrader": {
     "cell_type": "markdown",
     "checksum": "10d8421bd9aaaac48ddc1a6e458c27c4",
     "grade": false,
     "grade_id": "cell-12d4d54eb5df4c25",
     "locked": true,
     "schema_version": 3,
     "solution": false,
     "task": false
    }
   },
   "source": [
    "# CSPB 3155 : Assignment 5\n",
    "\n",
    "\n",
    "Topics Covered:\n",
    "  - Let binding semantics\n",
    "  - Scopes\n",
    "  - Function calls"
   ]
  },
  {
   "cell_type": "markdown",
   "metadata": {},
   "source": [
    "__YOUR NAME HERE__\n",
    "\n",
    "Note: Please first run the `TEST HELPER` cell that defines the `passed` function below. Failing to run this cell will make it hard for you to check your work."
   ]
  },
  {
   "cell_type": "code",
   "execution_count": null,
   "metadata": {
    "deletable": false,
    "editable": false,
    "nbgrader": {
     "cell_type": "code",
     "checksum": "86ef6ac50594512173d959494dba3da6",
     "grade": false,
     "grade_id": "cell-78353727eb378a16",
     "locked": true,
     "schema_version": 3,
     "solution": false,
     "task": false
    },
    "vscode": {
     "languageId": "python"
    }
   },
   "outputs": [],
   "source": [
    "// TEST HELPER\n",
    "def passed(points: Int) {\n",
    "    require(points >=0)\n",
    "    if (points == 1) print(s\"Tests Passed (1 point)\")\n",
    "    else print(s\"Tests Passed ($points points)\") \n",
    "}"
   ]
  },
  {
   "cell_type": "markdown",
   "metadata": {
    "deletable": false,
    "editable": false,
    "nbgrader": {
     "cell_type": "markdown",
     "checksum": "048e59e023e79a775408cebb326d77ee",
     "grade": false,
     "grade_id": "cell-fbc647b0aaee3fc6",
     "locked": true,
     "schema_version": 3,
     "solution": false,
     "task": false
    }
   },
   "source": [
    "## Problem 1: Multiple Simultaneous Let Bindings (15 points)"
   ]
  },
  {
   "cell_type": "markdown",
   "metadata": {
    "deletable": false,
    "editable": false,
    "nbgrader": {
     "cell_type": "markdown",
     "checksum": "888397ce8f415a1296a146d04773528f",
     "grade": false,
     "grade_id": "cell-23c9f7992612ebe8",
     "locked": true,
     "schema_version": 3,
     "solution": false,
     "task": false
    }
   },
   "source": [
    "In class, we studied let bindings that assigned a \"single\" identifier to a \"single\" expression. Here, we will extend lettuce with multiple let bindings at the same time:\n",
    "\n",
    "## Example 1 \n",
    "~~~\n",
    "let (x, y, z) = (10, 25.6, 30.3) in \n",
    "   x - y * z\n",
    "~~~\n",
    "\n",
    "The program computes `10 - 25.6 * 30.3`.\n",
    "\n",
    "## Example 2\n",
    "\n",
    " In multi-let binding, we treat all the assignments as happening \"simultaneously\". For instance, the program \n",
    "\n",
    "~~~\n",
    "let (x, y, z) = (10, x, y - x) in \n",
    "  x - y * z\n",
    "~~~\n",
    "\n",
    "is disallowed since neither `x` nor `y` are in scope in the right hand side of the multi-let binding. Example 2 above produces an `error` value since `x` and `y` are out of scope on the right hand side of the assignment.\n",
    "\n",
    "## Example 3\n",
    "\n",
    "~~~\n",
    "let x = 15 in \n",
    "  let (x, y, z) = (x*x, -10 *x, -2*x) in \n",
    "     x + y + z\n",
    "~~~\n",
    "\n",
    "Note that the usage `x*x`, `-10*x` and `-2*x` refer back to `let x = 15` definition. However, the usages `x+y+z` refer to the result of the \"multi-let\" binding. Verify that this program will evaluate to \"45\".\n",
    "\n",
    "## Grammar of Lettuce\n",
    "\n",
    "Let us extend a minimalistic subset of Lettuce by adding a `MultiLet` statement as shown below.\n",
    "$$\\newcommand\\Expr{\\mathbf{Expr}}$$\n",
    "\n",
    "$$\\begin{array}{rcll}\n",
    "  \\Expr & \\Rightarrow & \\text{Const}(\\mathbf{Double}) \\\\\n",
    "  & | & \\text{Ident}(\\mathbf{String}) \\\\\n",
    "  & | & \\text{Plus}(\\mathbf{Expr}, \\mathbf{Expr}) \\\\\n",
    "  & | & \\text{Mult}(\\mathbf{Expr}, \\mathbf{Expr})\\\\\n",
    "  & | & \\text{Let}(\\mathbf{Ident}, \\mathbf{Expr}, \\mathbf{Expr}) \\\\\n",
    "  & | & \\text{MultiLet}(\\mathbf{Ident}*, \\mathbf{Expr}*, \\mathbf{Expr}) & \\leftarrow\\ \\text{ let (x1, .., xn) = (e1, ...,en) in e } \\\\\n",
    "  & & & \\text{Note: Number of identifiers n must match number of expressions n, or else evaluate to error }\\\\\n",
    "  \\end{array}$$\n",
    "  \n",
    "The scala definitions are given below."
   ]
  },
  {
   "cell_type": "code",
   "execution_count": null,
   "metadata": {
    "deletable": false,
    "editable": false,
    "nbgrader": {
     "cell_type": "code",
     "checksum": "2a5c631886fc39fdf4658d9aad788032",
     "grade": false,
     "grade_id": "cell-0721126a00877145",
     "locked": true,
     "schema_version": 3,
     "solution": false,
     "task": false
    },
    "vscode": {
     "languageId": "python"
    }
   },
   "outputs": [],
   "source": [
    "sealed trait Expr\n",
    "case class Const(d: Double) extends Expr\n",
    "case class Ident(s: String) extends Expr\n",
    "case class Plus(e1: Expr, e2: Expr) extends Expr\n",
    "case class Mult(e1: Expr, e2: Expr) extends Expr \n",
    "case class Let(id: String, e1: Expr, e2: Expr) extends Expr\n",
    "case class MultiLet(id: List[String], eList: List[Expr], e2: Expr) extends Expr"
   ]
  },
  {
   "cell_type": "markdown",
   "metadata": {
    "deletable": false,
    "editable": false,
    "nbgrader": {
     "cell_type": "markdown",
     "checksum": "fb2977903a99d03718918987f5c30cfb",
     "grade": false,
     "grade_id": "cell-ff5684de0dab161b",
     "locked": true,
     "schema_version": 3,
     "solution": false,
     "task": false
    }
   },
   "source": [
    "## Semantics for MultiLet\n",
    "\n",
    "$$\\newcommand\\semrule[3]{\\begin{array}{c} #1 \\\\ \\hline #2 \\\\ \\end{array}(\\text{#3})} $$\n",
    "\n",
    "Let us write down the semantic rules for a multilet statement:\n",
    "\n",
    "$$\\newcommand\\eval{\\textit{eval}}$$\n",
    "$$\\semrule{ \\eval(\\texttt{ei}, \\texttt{env})= v_i,\\ v_i \\not= \\mathbf{error}, \\text{for}\\ i = 1, \\ldots, n,\\ \\texttt{newenv} = env \\circ \\{ \\texttt{x1} \\mapsto v_1, \\ldots, \\texttt{xn} \\mapsto v_n \\} }{ \\eval( \\texttt{MultiLet([x1,..,xn], [e1,...,en], e2), env}) = \\eval(\\texttt{e2, newenv})}{multilet-ok}$$\n",
    "\n",
    "The semantic rule above tells you to \n",
    "  - Evaluate each of the expressions from `e1`, ..., `en` under the environment `env`.\n",
    "  - Next, if all the expressions above evaluated without an error, it tells you to update the map `env` by binding each `xi` to $v_i$, the result of evaluating `ei`. You can use the Scala Map \"++\" operator to achieve this in one shot.\n",
    "  - Finally, you should evaluate `e2` under the new environment created.\n",
    "\n",
    "For convenience, we write a single \"generic\" semantic rule that shows that if some argument `ej` evaluates to an error, the whole expression is erroneous.\n",
    "\n",
    "$$\\semrule{ \\eval(\\texttt{ei}, \\texttt{env})= v_i,\\ v_i \\not= \\mathbf{error}, \\text{for}\\ i = 1, \\ldots, j-1,\\ \\ eval(\\texttt{ej}, \\texttt{env})= \\mathbf{error} }{ \\eval( \\texttt{MultiLet([x1,..,xn], [e1,...,en], e2), env}) = \\mathbf{error}}{multilet-err-j}$$\n",
    "\n",
    "### Interpreter for MultiLet Statements\n",
    "\n",
    "Implement an interpreter for the lettuce language with `multi-let` statements. Your interpreter does not need to \"propagate\" error: instead you should throw an `IllegalArgumentException` whenever an error is encountered. \n",
    "\n",
    "### Style Guide\n",
    "\n",
    "Use of var/while/for loops in your solution below is disallowed.\n"
   ]
  },
  {
   "cell_type": "code",
   "execution_count": null,
   "metadata": {
    "deletable": false,
    "nbgrader": {
     "cell_type": "code",
     "checksum": "f444a34a2f31019470a7f69c4a074218",
     "grade": false,
     "grade_id": "cell-b0c581e7fd05ee58",
     "locked": false,
     "schema_version": 3,
     "solution": true,
     "task": false
    },
    "vscode": {
     "languageId": "python"
    }
   },
   "outputs": [],
   "source": [
    "sealed trait Value\n",
    "case class NumValue(f: Double) extends Value\n",
    "case object Error extends Value /* -- Do not return Error -- simply throw an new IllegalArgumentException whenever you encounter an erroneous case --*/\n",
    "\n",
    "type Environment = Map[String, Value]\n",
    "\n",
    "def evalExpr(e: Expr, env: Environment): Value = {\n",
    "    \n",
    "    e match {\n",
    "        case Const(f) => NumValue(f)\n",
    "        case Ident(x) => { \n",
    "            if (env.contains(x)) { \n",
    "                env(x)\n",
    "            } else {\n",
    "                throw new IllegalArgumentException(\"Not found identifier\")\n",
    "            }\n",
    "        }\n",
    "        case Plus(e1, e2) => {\n",
    "            val v1 = evalExpr(e1, env)\n",
    "            val v2 = evalExpr(e2, env)\n",
    "            (v1, v2) match {\n",
    "                case (NumValue(f1), NumValue(f2)) => NumValue(f1 + f2)\n",
    "                case _ => throw new IllegalArgumentException(\"plus failed\")\n",
    "            }\n",
    "        }\n",
    "        case Mult(e1, e2) => {\n",
    "            val v1 = evalExpr(e1, env)\n",
    "            val v2 = evalExpr(e2, env)\n",
    "            (v1, v2) match {\n",
    "                case (NumValue(f1), NumValue(f2)) => NumValue(f1 * f2)\n",
    "                case _ => throw new IllegalArgumentException(\"mult failed\")\n",
    "            }\n",
    "        }\n",
    "        case Let(x, e1, e2) => {\n",
    "            ??? // YOUR CODE HERE\n",
    "        }\n",
    "        case MultiLet(xList, eList, e2) => {\n",
    "            ??? // YOUR CODE HERE\n",
    "        }\n",
    "    }\n",
    "   \n",
    "}"
   ]
  },
  {
   "cell_type": "code",
   "execution_count": null,
   "metadata": {
    "deletable": false,
    "editable": false,
    "nbgrader": {
     "cell_type": "code",
     "checksum": "d1041fe9b515652fa6b4d056edc3c799",
     "grade": true,
     "grade_id": "cell-057ff52ae71bca9f",
     "locked": true,
     "points": 5,
     "schema_version": 3,
     "solution": false,
     "task": false
    },
    "vscode": {
     "languageId": "python"
    }
   },
   "outputs": [],
   "source": [
    "//BEGIN TEST\n",
    "/*\n",
    " let (x, y) = (10, 20) in \n",
    "    let x = y in \n",
    "      x +  x * y\n",
    "*/\n",
    "val x = Ident(\"x\")\n",
    "val y = Ident(\"y\")\n",
    "val let1 = Let(\"x\", y, Plus(x, Mult(x, y)) )\n",
    "val mlet1 = MultiLet( List(\"x\", \"y\"), List(Const(10.0), Const(20.0)), let1)\n",
    "val v = evalExpr(mlet1, Map.empty)\n",
    "assert(v == NumValue(420.0), s\"Test 1 failed expected: NumValue(420.0), obtained $v\")\n",
    "\n",
    "passed(5)\n",
    "//END TEST"
   ]
  },
  {
   "cell_type": "code",
   "execution_count": null,
   "metadata": {
    "deletable": false,
    "editable": false,
    "nbgrader": {
     "cell_type": "code",
     "checksum": "0b65edb47b80763044e8fb92f03c1b87",
     "grade": true,
     "grade_id": "cell-0e289e2aff61b5b0",
     "locked": true,
     "points": 5,
     "schema_version": 3,
     "solution": false,
     "task": false
    },
    "vscode": {
     "languageId": "python"
    }
   },
   "outputs": [],
   "source": [
    "//BEGIN TEST\n",
    "/*\n",
    " let (x, y) = (10, x) in \n",
    "    let x = y in \n",
    "      x +  x * y\n",
    "*/\n",
    "val x = Ident(\"x\")\n",
    "val y = Ident(\"y\")\n",
    "val let1 = Let(\"x\", y, Plus(x, Mult(x, y)) )\n",
    "val mlet1 = MultiLet( List(\"x\", \"y\"), List(Const(10.0), x), let1)\n",
    "try {\n",
    "    val v = evalExpr(mlet1, Map.empty)\n",
    "    assert(false, \"Test 2 failed -- your code should detect a usage of x that is out of scope\")\n",
    "} catch {\n",
    "    case e:IllegalArgumentException => { println(\"Illegal argument exception caught -- as expected!!\") }\n",
    "    case _ => {println(\"Wrong type of exception thrown\")}\n",
    "}\n",
    "\n",
    "passed(5)\n",
    "//END TEST"
   ]
  },
  {
   "cell_type": "code",
   "execution_count": null,
   "metadata": {
    "deletable": false,
    "editable": false,
    "nbgrader": {
     "cell_type": "code",
     "checksum": "dd322b45f314a81b1c56753acb6e8fe0",
     "grade": true,
     "grade_id": "cell-0b8bac4591e81507",
     "locked": true,
     "points": 5,
     "schema_version": 3,
     "solution": false,
     "task": false
    },
    "vscode": {
     "languageId": "python"
    }
   },
   "outputs": [],
   "source": [
    "//BEGIN TEST\n",
    "/*\n",
    "let (x, y, z, w) = (10, 10, 10, 20 ) in \n",
    "  let () = () in \n",
    "    let w = w in \n",
    "       x *( y + w )\n",
    "*/\n",
    "\n",
    "val x = Ident(\"x\")\n",
    "val y = Ident(\"y\")\n",
    "val z = Ident(\"z\")\n",
    "val w = Ident(\"w\")\n",
    "val ten = Const(10.0)\n",
    "val twenty = Const(20.0)\n",
    "val innerLet2 = Let(\"w\", w, Mult(x, Plus(y, w)))\n",
    "val multiLet1 = MultiLet(Nil, Nil, innerLet2)\n",
    "val e = MultiLet(List(\"x\",\"y\",\"z\",\"w\"), List(ten, ten, ten, twenty), multiLet1)\n",
    "val v = evalExpr(e, Map.empty)\n",
    "assert(v == NumValue(300.0), \"Test2 Failed -- expected value NumValue(300.0), obtained value $v\")\n",
    "\n",
    "passed(5)\n",
    "//END TEST"
   ]
  },
  {
   "cell_type": "markdown",
   "metadata": {
    "deletable": false,
    "editable": false,
    "nbgrader": {
     "cell_type": "markdown",
     "checksum": "198b7bc7a046d94d7c39810c9709636c",
     "grade": false,
     "grade_id": "cell-6b7cdb7e09aaeeaa",
     "locked": true,
     "schema_version": 3,
     "solution": false,
     "task": false
    }
   },
   "source": [
    "## Problem 2: Translating Lettuce Into Scala (25 points)"
   ]
  },
  {
   "attachments": {},
   "cell_type": "markdown",
   "metadata": {
    "deletable": false,
    "editable": false,
    "nbgrader": {
     "cell_type": "markdown",
     "checksum": "21314956789d0cdee29efa411f387f30",
     "grade": false,
     "grade_id": "cell-7e674466527f9a86",
     "locked": true,
     "schema_version": 3,
     "solution": false,
     "task": false
    }
   },
   "source": [
    "In this problem, we will translate Lettuce programs into scala. We will consider the fragment of the\n",
    "language with Let bindings and if-then-else statements.\n",
    "\n",
    "$$\\renewcommand\\Expr{\\mathbf{Expr}}$$\n",
    "$$ \\begin{array}{rcl}\n",
    "\\Expr &\\Rightarrow & \\text{Const}(\\mathbf{Double}) \\\\\n",
    "& | & \\text{ConstTrue}\\\\\n",
    "&|& \\text{ConstFalse}\\\\\n",
    "& | & \\text{Ident}(\\mathbf{String}) \\\\\n",
    "& | & \\text{Plus}(\\Expr, \\Expr) \\\\\n",
    "&|& \\text{Minus}(\\Expr, \\Expr) \\\\\n",
    "& |& \\text{Mult}(\\Expr, \\Expr) \\\\\n",
    "& | & \\text{Geq}(\\Expr, \\Expr) \\\\\n",
    "& | & \\text{And}(\\Expr, \\Expr) \\\\\n",
    "&|& \\text{Or}(\\Expr, \\Expr) \\\\\n",
    "& | & \\text{IfThenElse}(\\Expr, \\Expr, \\Expr) \\\\\n",
    "&|& \\text{Let}(\\mathbf{String}, \\Expr, \\Expr) \\\\\n",
    "\\end{array}$$\n",
    "\n",
    "\n",
    "$$\\newcommand\\translate{\\textsf{translateIntoScala}}$$ \n",
    "The goal is to implement the function  $\\translate(e)$ that inputs a Lettuce Expr $e$ and outputs\n",
    "a __string__ that is supposed to be a scala expression. \n",
    "\n",
    "We provide semantics of the translation as below:\n",
    "\n",
    "$$\\newcommand\\semRule[3]{\\begin{array}{c} #1 \\\\ \\hline #2 \\\\ \\end{array} (\\text{#3})}$$\n",
    "\n",
    "Note that the output of $\\translate$ is a string. \n",
    "$$\\semRule{}{\\translate(\\text{Const}(f)) = \\textsf{convertToString}(f) }{const}$$\n",
    "\n",
    "Note that to convert a number to string in scala, use the 'toString' method.\n",
    "\n",
    "$$\\semRule{}{\\translate(\\text{Ident}(x)) = x }{ident}$$\n",
    "$$\\semRule{}{\\translate(\\text{ConstTrue}) = \"true\" }{true}$$\n",
    "$$\\semRule{}{\\translate(\\text{ConstFalse}) = \"false\" }{false}$$\n",
    "\n",
    "Note that when you translate subexpressions, you have to make sure to wrap them in curly braces so that\n",
    "things defined in the scope of one subexpression do not accidently fall into another. <font color=\"red\"> Please follow the conventions below with curly braces. Otherwise you will not pass the tests </font>\n",
    "\n",
    "$$\\semRule{\\translate(e1) = s1,\\ \\translate(e2) = s2}{\\translate(\\text{Plus}(e1, e2)) = \\{ s1 \\} + \\{ s2 \\} }{plus}$$\n",
    "$$\\semRule{\\translate(e1) = s1,\\ \\translate(e2) = s2}{\\translate(\\text{Minus}(e1, e2)) = \\{ s1  \\} - \\{ s2 \\} }{minus}$$\n",
    "$$\\semRule{\\translate(e1) = s1,\\ \\translate(e2) = s2}{\\translate(\\text{Geq}(e1, e2)) = \\{ s1 \\} >= \\{ s2 \\} }{geq}$$\n",
    "$$\\semRule{\\translate(e1) = s1,\\ \\translate(e2) = s2}{\\translate(\\text{And}(e1, e2)) = \\{ s1  \\}\\ \\&\\!\\&\\ \\{ s2 \\} }{and}$$\n",
    "$$\\semRule{\\translate(e1) = s1,\\ \\translate(e2) = s2}{\\translate(\\text{Or}(e1, e2)) = \\{ s1 \\}\\ |\\!|\\ \\{ s2 \\} }{or}$$\n",
    "$$\\semRule{\\translate(e) = s, \\translate(e1) = s1,\\ \\translate(e2) = s2}{\\translate(\\text{IfThenEllse}(e,e1, e2)) = \\text{if}\\ (\\{s\\})\\ \\{ s1 \\}\\ else\\ \\{ s2 \\} }{ite}$$\n",
    "$$\\semRule{\\translate(e1) = s1,\\ \\translate(e2) = s2}{\\translate(\\text{Let}(x,e1, e2)) =\\ \\text{val}\\ x\\ =\\ \\{ s1 \\}\\  \\{ s2 \\}  }{let}$$\n",
    "\n",
    "Whitespaces (space, tab, returns) are ignored by our test cases. "
   ]
  },
  {
   "cell_type": "code",
   "execution_count": null,
   "metadata": {
    "deletable": false,
    "editable": false,
    "nbgrader": {
     "cell_type": "code",
     "checksum": "3c4c5c73c9c6713cd73e99536e5c2212",
     "grade": false,
     "grade_id": "cell-def36675e2a45ecf",
     "locked": true,
     "schema_version": 3,
     "solution": false,
     "task": false
    },
    "vscode": {
     "languageId": "python"
    }
   },
   "outputs": [],
   "source": [
    "sealed trait Expr\n",
    "case class Const(f: Double) extends Expr\n",
    "case object ConstTrue extends Expr\n",
    "case object ConstFalse extends Expr\n",
    "case class Ident(s: String) extends Expr\n",
    "case class Plus(e1: Expr, e2: Expr) extends Expr\n",
    "case class Minus(e1: Expr, e2: Expr) extends Expr\n",
    "case class Mult(e1: Expr, e2: Expr) extends Expr\n",
    "case class Geq(e1: Expr, e2: Expr) extends Expr\n",
    "case class And(e1: Expr, e2: Expr) extends Expr\n",
    "case class Or(e1: Expr, e2: Expr) extends Expr\n",
    "case class IfThenElse(e1: Expr, e2: Expr, e3: Expr) extends Expr\n",
    "case class Let(x:String, e1: Expr, e2: Expr) extends Expr"
   ]
  },
  {
   "cell_type": "code",
   "execution_count": null,
   "metadata": {
    "deletable": false,
    "nbgrader": {
     "cell_type": "code",
     "checksum": "12cad3c76da4aef4af5c5c94d9b84823",
     "grade": false,
     "grade_id": "cell-25cd4d4783a12e2c",
     "locked": false,
     "schema_version": 3,
     "solution": true,
     "task": false
    },
    "vscode": {
     "languageId": "python"
    }
   },
   "outputs": [],
   "source": [
    "def translateIntoScala(e: Expr): String = { \n",
    "    ??? // YOUR CODE HERE\n",
    "}"
   ]
  },
  {
   "cell_type": "code",
   "execution_count": null,
   "metadata": {
    "deletable": false,
    "editable": false,
    "nbgrader": {
     "cell_type": "code",
     "checksum": "6bb757ec185b65a91c5a26d421d24ad8",
     "grade": false,
     "grade_id": "cell-0ddf10680a51f9c8",
     "locked": true,
     "schema_version": 3,
     "solution": false,
     "task": false
    },
    "vscode": {
     "languageId": "python"
    }
   },
   "outputs": [],
   "source": [
    "// PLEASE RUN THIS CELL BEFORE TESTING FURTHER\n",
    "def cleanUpWhiteSpacesInString(st: String): String = \n",
    "    st.filterNot( _.isWhitespace )\n",
    "\n",
    "val tst1 = \"\"\"\n",
    "val x = { { 1 } + { 3 } }\n",
    "     {\n",
    "        val y = { 2 }\n",
    "        {\n",
    "            val z = { 10 }\n",
    "                { x } + { { y } * { z } }\n",
    "        }\n",
    "     }\n",
    "\n",
    "\"\"\"\n",
    "print(cleanUpWhiteSpacesInString(tst1))\n",
    "\n",
    "def checkWhitespaceMunged(testName: String, s1: String, s2: String) : Boolean = {\n",
    "    println(s\"--- Test $testName ---\")\n",
    "    println(\"Your code returned:\")\n",
    "    println(s\"$s1\")\n",
    "    println(\"Expected result:\")\n",
    "    println(s\"$s2\")\n",
    "    cleanUpWhiteSpacesInString(s1) == cleanUpWhiteSpacesInString(s2)\n",
    "}"
   ]
  },
  {
   "cell_type": "code",
   "execution_count": null,
   "metadata": {
    "deletable": false,
    "editable": false,
    "nbgrader": {
     "cell_type": "code",
     "checksum": "81928a2300425b230efe063e43d82a01",
     "grade": true,
     "grade_id": "cell-010af2c944cfd1ac",
     "locked": true,
     "points": 10,
     "schema_version": 3,
     "solution": false,
     "task": false
    },
    "vscode": {
     "languageId": "python"
    }
   },
   "outputs": [],
   "source": [
    "//BEGIN TEST\n",
    "\n",
    "val x = Ident(\"x\")\n",
    "val y = Ident(\"y\")\n",
    "val one = Const(1.0)\n",
    "val two = Const(2.0)\n",
    "\n",
    "val e1 = Plus(x, y)\n",
    "val e1Expected = \"{ x } + { y }\"\n",
    "val e1Translated = translateIntoScala(e1)\n",
    "assert(checkWhitespaceMunged(\"e1\", e1Translated, e1Expected), \"Failed test for e1\")\n",
    "println(\"Test passed!\")\n",
    "\n",
    "val e2 = Plus(x, one)\n",
    "val e2Expected = \"{ x } + { 1.0 }\"\n",
    "assert(checkWhitespaceMunged(\"e2\", translateIntoScala(e2), e2Expected), \"Failed test for e2\")\n",
    "println(\"Test passed!\")\n",
    "\n",
    "val e3 = Minus(x, two)\n",
    "val e3Expected = \"{ x } - { 2.0 }\"\n",
    "assert(checkWhitespaceMunged(\"e3\", translateIntoScala(e3), e3Expected), \"Failed test for e3\")\n",
    "println(\"Test passed!\")\n",
    "\n",
    "val e4 = Plus(x, Minus(y, one))\n",
    "val e4Expected = \"{ x } + { { y } - {1.0} }\"\n",
    "val s4 = translateIntoScala(e4)\n",
    "assert(checkWhitespaceMunged(\"e4\", s4, e4Expected), \"Failed test for e4\")\n",
    "println(\"Test passed!\")\n",
    "\n",
    "val e5 = And( Geq( x, y) , Geq(y, one))\n",
    "val e5Expected = \"{{x} >= {y}} && {{y} >= {1.0}}\"\n",
    "val s5 = translateIntoScala(e5)\n",
    "assert(checkWhitespaceMunged(\"e5\", s5, e5Expected), \"Failed test for e5\")\n",
    "println(\"Test passed!\")\n",
    "\n",
    "val e6 = Or( Geq( Mult(x, y), Ident(\"z\")) , Geq(y, one))\n",
    "val e6Expected = \"{{ {x} * {y}} >= {z}} || {{y} >= {1.0}}\"\n",
    "val s6 = translateIntoScala(e6)\n",
    "assert(checkWhitespaceMunged(\"e6\", s6, e6Expected), \"Failed test for e6\")\n",
    "println(\"test passed!\")\n",
    "\n",
    "passed(10)\n",
    "\n",
    "//END TEST"
   ]
  },
  {
   "cell_type": "code",
   "execution_count": null,
   "metadata": {
    "deletable": false,
    "editable": false,
    "nbgrader": {
     "cell_type": "code",
     "checksum": "8f890f5188f88c851946216109d5f8a4",
     "grade": true,
     "grade_id": "cell-6c046fd2c49abd66",
     "locked": true,
     "points": 5,
     "schema_version": 3,
     "solution": false,
     "task": false
    },
    "vscode": {
     "languageId": "python"
    }
   },
   "outputs": [],
   "source": [
    "//BEGIN TEST\n",
    "val x = Ident(\"x\")\n",
    "val y = Ident(\"y\")\n",
    "val one = Const(1.0)\n",
    "val two = Const(2.0)\n",
    "val e5 = And( Geq( x, y) , Geq(y, one))\n",
    "val e5Expected = \"{{x} >= {y}} && {{y} >= {1.0}}\"\n",
    "val iteExpr = IfThenElse(e5, one, y)\n",
    "val iteExpected = s\"\"\" if ({$e5Expected}) {\n",
    "    1.0\n",
    "} else {\n",
    "    y\n",
    "}\n",
    "\"\"\"\n",
    "val iteTranslated = translateIntoScala(iteExpr)\n",
    "println(\"iteTranslated = \" + iteTranslated)\n",
    "assert(checkWhitespaceMunged(\"itetest\", iteTranslated, iteExpected), \"Failed test for ite\")\n",
    "passed(5)\n",
    "//END TEST"
   ]
  },
  {
   "cell_type": "code",
   "execution_count": null,
   "metadata": {
    "deletable": false,
    "editable": false,
    "nbgrader": {
     "cell_type": "code",
     "checksum": "1f6090fcf1c166092bd8bc2a86bee692",
     "grade": true,
     "grade_id": "cell-1756e8343948ec60",
     "locked": true,
     "points": 10,
     "schema_version": 3,
     "solution": false,
     "task": false
    },
    "vscode": {
     "languageId": "python"
    }
   },
   "outputs": [],
   "source": [
    "//BEGIN TEST\n",
    "val x = Ident(\"x\")\n",
    "val y = Ident(\"y\")\n",
    "val one = Const(1.0)\n",
    "val two = Const(2.0)\n",
    "val e6 = Or( Geq( Mult(x, y), Ident(\"z\")) , Geq(y, one))\n",
    "val e6Expected = \"{{ {x} * {y}} >= {z}} || {{y} >= {1.0}}\"\n",
    "\n",
    "val letExpr1 = Let(\"x\", Const(10.0) , Plus(x, one))\n",
    "val letExpr1Expected = \"\"\"val x = { 10.0 } {\n",
    "    { x } + { 1.0 } }\n",
    "\"\"\"\n",
    "val letExprTranslated1 = translateIntoScala(letExpr1)\n",
    "assert(checkWhitespaceMunged(\"letExprTranslated1\",letExprTranslated1, letExpr1Expected), \"Failed test for letExpr1\")\n",
    "\n",
    "\n",
    "val letExpr2 = Let(\"x\", letExpr1 , Let (\"y\", two, Plus(x, y)))\n",
    "val letExprTranslated2 = translateIntoScala(letExpr2)\n",
    "val letExprExpected2 = \"\"\" val x = {\n",
    "                 \t   \n",
    "                val x = {\n",
    "                 \t   10.0\n",
    "                }\n",
    "                {\n",
    "                 \t  { x } + {1.0}\n",
    "                }\n",
    "            \n",
    "                }\n",
    "                {\n",
    "                 \t  \n",
    "                val y = {\n",
    "                 \t   2.0\n",
    "                }\n",
    "                {\n",
    "                 \t  { x } + {y}\n",
    "                }\n",
    "            \n",
    "                }\n",
    "\"\"\"\n",
    "\n",
    "assert(checkWhitespaceMunged(\"letExprTranslated2\", letExprTranslated2, letExprExpected2), \"Failed test for letExpr2\")\n",
    "passed(10)\n",
    "//END TEST"
   ]
  }
 ],
 "metadata": {
  "kernelspec": {
   "display_name": "Python 3 (ipykernel)",
   "language": "python",
   "name": "python3"
  }
 },
 "nbformat": 4,
 "nbformat_minor": 4
}
