{
 "cells": [
  {
   "cell_type": "markdown",
   "id": "vital-concentrate",
   "metadata": {},
   "source": [
    "Before you turn this problem in, make sure everything runs as expected. \n",
    "  1. First, **restart the kernel** (in the menubar, select Kernel$\\rightarrow$Restart) and \n",
    "  2. Then **run all cells** (in the menubar, select Cell$\\rightarrow$Run All).\n",
    "\n",
    "Make sure you fill in any place that says `YOUR CODE HERE` or \"YOUR ANSWER HERE\", as well as your name below. "
   ]
  },
  {
   "cell_type": "markdown",
   "id": "helpful-heavy",
   "metadata": {},
   "source": [
    "---"
   ]
  },
  {
   "attachments": {},
   "cell_type": "markdown",
   "id": "built-guyana",
   "metadata": {
    "deletable": false,
    "editable": false,
    "nbgrader": {
     "cell_type": "markdown",
     "checksum": "44c0de7bf9ef42d93e2e7c68f7cbfd7f",
     "grade": false,
     "grade_id": "cell-5f4669d652560e4b",
     "locked": true,
     "schema_version": 3,
     "solution": false,
     "task": false
    }
   },
   "source": [
    "# CSPB 3155: Assignment 10\n"
   ]
  },
  {
   "cell_type": "code",
   "execution_count": null,
   "id": "meaningful-software",
   "metadata": {
    "deletable": false,
    "editable": false,
    "nbgrader": {
     "cell_type": "code",
     "checksum": "a36ad7b6378f8f997bbfb3df529a2755",
     "grade": false,
     "grade_id": "cell-254364af3ae82f27",
     "locked": true,
     "schema_version": 3,
     "solution": false,
     "task": false
    }
   },
   "outputs": [],
   "source": [
    "// TEST HELPER\n",
    "def passed(points: Int) {\n",
    "    require(points >=0)\n",
    "    if (points == 1) print(s\"\\n*** Tests Passed (1 point) ***\\n\")\n",
    "    else print(s\"\\n*** Tests Passed ($points points) ***\\n\")\n",
    "}"
   ]
  },
  {
   "cell_type": "markdown",
   "id": "meaningful-stone",
   "metadata": {
    "deletable": false,
    "editable": false,
    "nbgrader": {
     "cell_type": "markdown",
     "checksum": "e4393710acdd692299558e9c915f3a0c",
     "grade": false,
     "grade_id": "cell-bdc405ce24f263f0",
     "locked": true,
     "schema_version": 3,
     "solution": false,
     "task": false
    }
   },
   "source": [
    "# Problem 1: Binary Search Trees in Scala\n",
    "\n",
    "We will define an inductive datatype of binary search trees in scala to implement a map datatype that associates integer valued key with arbitrary data of type `T`.\n",
    "The following inductive definition will be used."
   ]
  },
  {
   "cell_type": "code",
   "execution_count": null,
   "id": "downtown-daily",
   "metadata": {
    "deletable": false,
    "editable": false,
    "nbgrader": {
     "cell_type": "code",
     "checksum": "02a95d2ec22920aa6d051a35c8a735dc",
     "grade": false,
     "grade_id": "cell-a8836a071437f69c",
     "locked": true,
     "schema_version": 3,
     "solution": false,
     "task": false
    }
   },
   "outputs": [],
   "source": [
    "sealed trait Node\n",
    "case object NilNode extends Node\n",
    "case class TreeNode[T](key: Int, data: T, left: Node, right:Node) extends Node"
   ]
  },
  {
   "cell_type": "markdown",
   "id": "driving-gibson",
   "metadata": {
    "deletable": false,
    "editable": false,
    "nbgrader": {
     "cell_type": "markdown",
     "checksum": "bbd83f52e8fc654c403734a096f2ddac",
     "grade": false,
     "grade_id": "cell-f11f293b4355d5f6",
     "locked": true,
     "schema_version": 3,
     "solution": false,
     "task": false
    }
   },
   "source": [
    "## A: Implement the Find Function\n",
    "\n",
    "Implement the find function that given a key, yields the corresponding data if present \n",
    "or throws the `KeyNotFound` Exception."
   ]
  },
  {
   "cell_type": "code",
   "execution_count": null,
   "id": "comprehensive-cycle",
   "metadata": {
    "deletable": false,
    "nbgrader": {
     "cell_type": "code",
     "checksum": "808e7e147eed1b8f965c8d330fd6dacc",
     "grade": false,
     "grade_id": "cell-dc3a33f60f4b537a",
     "locked": false,
     "schema_version": 3,
     "solution": true,
     "task": false
    }
   },
   "outputs": [],
   "source": [
    "case class KeyNotFound(key: Int) extends Exception \n",
    "\n",
    "def find[T](tree: Node, key: Int): T = {\n",
    "    // YOUR CODE HERE\n",
    "    ???\n",
    "}"
   ]
  },
  {
   "cell_type": "code",
   "execution_count": null,
   "id": "danish-graduation",
   "metadata": {
    "deletable": false,
    "editable": false,
    "nbgrader": {
     "cell_type": "code",
     "checksum": "61f300f76e70e6b92f065b530f17d82f",
     "grade": true,
     "grade_id": "cell-b8a8c2f0d50524ae",
     "locked": true,
     "points": 10,
     "schema_version": 3,
     "solution": false,
     "task": false
    }
   },
   "outputs": [],
   "source": [
    "val t1 = new TreeNode(5, \"Hello\", NilNode, NilNode)\n",
    "val t2 = new TreeNode(20, \"Right\", NilNode, NilNode)\n",
    "val root = new TreeNode(15, 10, t1, t2)\n",
    "\n",
    "val data1:String = find(root, 20)\n",
    "assert (data1 == \"Right\")\n",
    "\n",
    "val root1 = new TreeNode(22, List(1), root, NilNode)\n",
    "val data2:Int = find(root1, 15)\n",
    "assert(data2 == 10)\n",
    "\n",
    "val data3: List[Int] = find(root1, 22)\n",
    "passed(10)"
   ]
  },
  {
   "cell_type": "markdown",
   "id": "occupational-essay",
   "metadata": {
    "deletable": false,
    "editable": false,
    "nbgrader": {
     "cell_type": "markdown",
     "checksum": "8dee2bdd5fe85166890502dc4a5a453b",
     "grade": false,
     "grade_id": "cell-3a8310ebac5a5e69",
     "locked": true,
     "schema_version": 3,
     "solution": false,
     "task": false
    }
   },
   "source": [
    "## B: Implement the insertion function\n",
    "\n",
    "Insert a key `key` with data `data`. If key already exists, replace the old data associated with `key` with the given argument `data`."
   ]
  },
  {
   "cell_type": "code",
   "execution_count": null,
   "id": "outside-supplier",
   "metadata": {
    "deletable": false,
    "nbgrader": {
     "cell_type": "code",
     "checksum": "2003a194f69601389e3e38c6cdba6239",
     "grade": false,
     "grade_id": "cell-b6f7dc11e21b0263",
     "locked": false,
     "schema_version": 3,
     "solution": true,
     "task": false
    }
   },
   "outputs": [],
   "source": [
    "def insertKey[T](tree: Node, key: Int, data:T): Node = {\n",
    "    // YOUR CODE HERE\n",
    "    ???\n",
    "}"
   ]
  },
  {
   "cell_type": "code",
   "execution_count": null,
   "id": "under-times",
   "metadata": {
    "deletable": false,
    "editable": false,
    "nbgrader": {
     "cell_type": "code",
     "checksum": "8d82f5831e9a4beff96e78fab9c502cc",
     "grade": true,
     "grade_id": "cell-940c10370f73cede",
     "locked": true,
     "points": 15,
     "schema_version": 3,
     "solution": false,
     "task": false
    }
   },
   "outputs": [],
   "source": [
    "val t0 = NilNode\n",
    "val t1 = insertKey(t0, 10, \"10\")\n",
    "\n",
    "val t1_c :TreeNode[String] = t1.asInstanceOf[TreeNode[String]]\n",
    "assert(t1_c.key == 10)\n",
    "assert(t1_c.data == \"10\")\n",
    "\n",
    "val t2 = insertKey(t1, 5, \"5\")\n",
    "\n",
    "val t2_c: TreeNode[String] = t2.asInstanceOf[TreeNode[String]]\n",
    "assert(t2_c.key == 10)\n",
    "\n",
    "val t3 = insertKey(t2, 15, 15)\n",
    "val t3_c  = t3.asInstanceOf[TreeNode[Int]]\n",
    "val t3_cc = t3_c.right.asInstanceOf[TreeNode[Int]]\n",
    "assert (t3_cc.key == 15)\n",
    "assert (t3_cc.data == 15)\n",
    "\n",
    "val t4 = insertKey(t3, 25, \"25\")\n",
    "val t5 = insertKey(t4, 18, \"18\")\n",
    "\n",
    "val t6 = insertKey(t5, 10, 10)\n",
    "\n",
    "assert(find(t6, 10) == 10)\n",
    "assert(find(t6, 18) == \"18\")\n",
    "assert(find(t6, 5) == \"5\")\n",
    "passed(15)"
   ]
  },
  {
   "cell_type": "markdown",
   "id": "presidential-location",
   "metadata": {
    "deletable": false,
    "editable": false,
    "nbgrader": {
     "cell_type": "markdown",
     "checksum": "e28b1e9832918081573fdde88c5b7570",
     "grade": false,
     "grade_id": "cell-19555cd0c113291f",
     "locked": true,
     "schema_version": 3,
     "solution": false,
     "task": false
    }
   },
   "source": [
    "## C: Implement the Deletion Function\n",
    "\n",
    "To delete a node with a given key from a BST. Here is what you likely learned in your data structures class.\n",
    "  - First find the node you wish to delete.\n",
    "  - If it has no children or one child, deletion is easy -- simply replace the node by Nil or by the subtree of the non-nil child.\n",
    "  - If it has both children, then find the \"deletion successor\" by going to right child and all the way to the left.\n",
    "     - Replace node by deletion successor key and delete that successor key from the right child.\n",
    "     \n",
    "However, this is not suitable for an immutable functional programming version. Complete the implementation of deletion below.\n",
    " "
   ]
  },
  {
   "cell_type": "code",
   "execution_count": null,
   "id": "musical-rolling",
   "metadata": {
    "deletable": false,
    "nbgrader": {
     "cell_type": "code",
     "checksum": "0815bec245b2b2272ead603d39665a67",
     "grade": false,
     "grade_id": "cell-737d891bf83946da",
     "locked": false,
     "schema_version": 3,
     "solution": true,
     "task": false
    }
   },
   "outputs": [],
   "source": [
    "def deleteKey[T](tree: Node, key: Int):Node  = tree match {\n",
    "    case TreeNode(k, d, left, right) if key < k => TreeNode(k, d, deleteKey(left, key), right)\n",
    "    case TreeNode(k, d, left, right) if key > k => { \n",
    "        // YOUR CODE HERE\n",
    "        ???\n",
    "    }\n",
    "    case TreeNode(k, d, NilNode, NilNode) if key == k => {\n",
    "        // YOUR CODE HERE\n",
    "        ???\n",
    "    }\n",
    "    // Left subtree is not nil but right node is Nil\n",
    "    case TreeNode(k, d, left, NilNode) if key == k => {\n",
    "        // YOUR CODE HERE\n",
    "        ???\n",
    "    }\n",
    "    //Left subtree is nil but right is not nil\n",
    "    case TreeNode(k, d,NilNode, right) if key == k => {\n",
    "        // YOUR CODE HERE\n",
    "        ???\n",
    "    }\n",
    "    //Both subtrees are not nil\n",
    "    case TreeNode(k, d, left, right) if key == k => {\n",
    "        //Both children are non-nil\n",
    "        // 1. First find/delete \"leftmost\" node from the right subtree\n",
    "        // 2. We have provided you  the helper function below\n",
    "        //    This function gets you the left most key and data and the new right subtree with \n",
    "        //      the leftmost subtree deleted\n",
    "        \n",
    "        def deleteLeftMostNodeInSubtree(tree: Node): (Int, T, Node) = {\n",
    "            tree match {\n",
    "                case TreeNode(k, d:T, NilNode, r) => (k, d, r)\n",
    "                case TreeNode(k, d:T, left, r) => {\n",
    "                    val (k1, d1, left1) = deleteLeftMostNodeInSubtree(left)\n",
    "                    (k1, d1, TreeNode(k, d, left1, r))\n",
    "                }\n",
    "            }\n",
    "        }\n",
    "        \n",
    "        // YOUR CODE HERE\n",
    "        ???\n",
    "    }\n",
    "    \n",
    "    \n",
    "}"
   ]
  },
  {
   "cell_type": "code",
   "execution_count": null,
   "id": "separated-oakland",
   "metadata": {
    "deletable": false,
    "editable": false,
    "nbgrader": {
     "cell_type": "code",
     "checksum": "7753fa600d058d63f1ccd10019de76f6",
     "grade": true,
     "grade_id": "cell-1320150693414438",
     "locked": true,
     "points": 15,
     "schema_version": 3,
     "solution": false,
     "task": false
    }
   },
   "outputs": [],
   "source": [
    "val t0 = NilNode\n",
    "val t1 = insertKey(t0, 10, \"10\")\n",
    "\n",
    "val t1_c :TreeNode[String] = t1.asInstanceOf[TreeNode[String]]\n",
    "assert(t1_c.key == 10)\n",
    "assert(t1_c.data == \"10\")\n",
    "\n",
    "val t2 = insertKey(t1, 5, \"5\")\n",
    "\n",
    "val t2_c: TreeNode[String] = t2.asInstanceOf[TreeNode[String]]\n",
    "assert(t2_c.key == 10)\n",
    "\n",
    "val t3 = insertKey(t2, 15, 15)\n",
    "val t3_c  = t3.asInstanceOf[TreeNode[Int]]\n",
    "val t3_cc = t3_c.right.asInstanceOf[TreeNode[Int]]\n",
    "assert (t3_cc.key == 15)\n",
    "assert (t3_cc.data == 15)\n",
    "\n",
    "val t4 = insertKey(t3, 25, \"25\")\n",
    "val t5 = insertKey(t4, 18, \"18\")\n",
    "val t6 = insertKey(t5, 10, 10)\n",
    "\n",
    "\n",
    "val t7 = deleteKey(t6, 25)\n",
    "assert (find(t7, 10) == 10)\n",
    "assert(find(t7, 18) == \"18\")\n",
    "assert(find(t7, 5) == \"5\")\n",
    "assert(find(t7, 15) == 15)\n",
    "try{\n",
    "    find(t7, 25)\n",
    "    assert(false, \"key 25 did not get deleted\")\n",
    "} catch {\n",
    "    case KeyNotFound(k) => assert(k == 25)\n",
    "}\n",
    "\n",
    "val t8: Node = deleteKey(t6, 10)\n",
    "assert(find(t8, 18) == \"18\")\n",
    "assert(find(t8, 5) == \"5\")\n",
    "assert(find(t8, 15) == 15)\n",
    "assert(find(t8, 25) == \"25\")\n",
    "\n",
    "try{\n",
    "    find(t8, 10)\n",
    "    assert(false, \"key 10 did not get deleted\")\n",
    "} catch {\n",
    "    case KeyNotFound(k) => assert(k == 10)\n",
    "}\n",
    "passed(15)"
   ]
  },
  {
   "cell_type": "markdown",
   "id": "human-discharge",
   "metadata": {
    "deletable": false,
    "editable": false,
    "nbgrader": {
     "cell_type": "markdown",
     "checksum": "a59ef8d471d95f99db09c08c64e3a7c1",
     "grade": false,
     "grade_id": "cell-6aed23333ae1e177",
     "locked": true,
     "schema_version": 3,
     "solution": false,
     "task": false
    }
   },
   "source": [
    "## That's all folks"
   ]
  }
 ],
 "metadata": {
  "kernelspec": {
   "display_name": "Scala",
   "language": "scala",
   "name": "scala"
  },
  "language_info": {
   "codemirror_mode": "text/x-scala",
   "file_extension": ".sc",
   "mimetype": "text/x-scala",
   "name": "scala",
   "nbconvert_exporter": "script",
   "version": "2.13.3"
  }
 },
 "nbformat": 4,
 "nbformat_minor": 5
}
