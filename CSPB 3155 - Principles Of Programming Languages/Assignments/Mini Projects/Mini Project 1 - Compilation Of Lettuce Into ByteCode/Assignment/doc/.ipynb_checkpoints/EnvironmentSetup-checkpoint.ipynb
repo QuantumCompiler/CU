{
 "cells": [
  {
   "cell_type": "markdown",
   "metadata": {},
   "source": [
    "# Environment Setup\n",
    "\n",
    "You have 2 options to run this project: (jdk + IntelliJ) or (jdk + sbt + text editor).\n",
    "\n",
    "We recommend using [IntelliJ IDEA IDE](https://www.jetbrains.com/idea/download/) (The community edition is fine, though students can get Ultimate for free) with the Scala plugin installed. This makes compiling and running the project a cinch.\n",
    "\n",
    "To build, run, and test this project you will need JDK8 and either IntelliJ + scala plugin or sbt.\n",
    "\n",
    "The following will walk through installing everything necessary on the CU VM.\n",
    "\n",
    "### JDK 8\n",
    "*If you are on the CU virtual machine, you already have this installed*.\n",
    "\n",
    "**You need jdk 8:** Scala does not support 9 or 10 or 11.\n",
    "\n",
    "If you want to run these projects without a VM, select the relevent installer from [this page](https://www.oracle.com/technetwork/java/javase/downloads/jdk8-downloads-2133151.html).\n",
    "\n",
    "### IntelliJ IDEA\n",
    "Download [here](https://www.jetbrains.com/idea/download/). Instructions for CU VM:\n",
    "\n",
    "1. Download the .tar.gz file\n",
    "2. Open a terminal and `cd ~/Downloads`\n",
    "3. Run `sudo tar xf ideaIC-2018.3.4.tar.gz -C /opt/`\n",
    "4. Run `cd /opt/idea-IC-183.5429.30/`\n",
    "5. Run `./bin/idea.sh` \n",
    "6. Go through the installer (**when you get to feeatured plugins make sure to install scala**)\n",
    "7. Click open (or \"File\" -> \"Open\")\n",
    "![title](img/open.png)\n",
    "8. Select the \"csci3155_s19_project1\" folder (not the folder named \"project\")\n",
    "![title](img/select_folder.png)\n",
    "9. If prompted, click \"Import Changes\" in the lower right popup)\n",
    "![title](img/import_changes.png)\n",
    "10. Navigate to a .scala file (like src/main/scala/edu/colorado/csci3155/project1/Expr.scala).\n",
    "11. It should ask you to setup the scala SDK, click the link on the upper right:\n",
    "![title](img/sdk_1.png)\n",
    "12. Click \"Create\" -> \"Download\" -> Select newest version -> \"OK\" -> \"OK\"\n",
    "13. Select the \"Run Main\" configurration and click the play button: ![title](img/run_main.png)\n",
    "\n",
    "*Warning*: if you run into problems with IntelliJ, many online solutions tell you to delete the .idea folder, however if you do this you will not have access to the run, test, and zip configurations used later in the project. Instead, ask the course staff for help or try a different solution\n",
    "\n",
    "### sbt\n",
    "Follow terrminal commands for \"deb\" (if using linux) [here](https://www.scala-sbt.org/download.html), posted below for your convenience:\n",
    "```\n",
    "$ echo \"deb https://dl.bintray.com/sbt/debian /\" | sudo tee -a /etc/apt/sources.list.d/sbt.list\n",
    "\n",
    "$ sudo apt-key adv --keyserver hkp://keyserver.ubuntu.com:80 --recv 2EE0EA64E40A89B84B2DF73499E82A75642AC823\n",
    "\n",
    "$ sudo apt-get update\n",
    "\n",
    "$ sudo apt-get install sbt\n",
    "```"
   ]
  }
 ],
 "metadata": {
  "kernelspec": {
   "display_name": "Scala",
   "language": "scala",
   "name": "scala"
  },
  "language_info": {
   "codemirror_mode": "text/x-scala",
   "file_extension": ".scala",
   "mimetype": "text/x-scala",
   "name": "scala",
   "nbconvert_exporter": "script",
   "version": "2.12.10"
  }
 },
 "nbformat": 4,
 "nbformat_minor": 2
}
