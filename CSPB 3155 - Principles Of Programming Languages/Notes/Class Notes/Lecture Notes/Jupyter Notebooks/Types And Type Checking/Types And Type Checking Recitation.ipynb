{
 "cells": [
  {
   "cell_type": "markdown",
   "metadata": {},
   "source": [
    "# Type Inference by hand\n",
    "\n",
    "Using a subset of the Lettuce grammar and functions from the TypeInferenceLettuce reading, we gain an intuition for the mechanics of type inference by manually solving simple examples.\n",
    "\n",
    "\n",
    "## Lettuce Grammar\n",
    "\n",
    "We will use the following grammar that does not include recursion. Note that we do not allow type annotations in our version.\n",
    "\n",
    "$$\\begin{array}{rcll}\n",
    "\\mathbf{Program} & \\rightarrow & TopLevel(\\mathbf{Expr}) \\\\[5pt]\n",
    "\\mathbf{Expr} & \\rightarrow & Const(\\mathbf{Number}) \\\\\n",
    " & | & Ident(\\mathbf{Identifier}) \\\\\n",
    " & | & Plus(\\mathbf{Expr}, \\mathbf{Expr}) \\\\\n",
    " & | & Mult(\\mathbf{Expr}, \\mathbf{Expr}) \\\\\n",
    " & | & Eq(\\mathbf{Expr}, \\mathbf{Expr}) \\\\\n",
    " & | & Geq (\\mathbf{Expr}, \\mathbf{Expr}) \\\\\n",
    " & | & IfThenElse(\\mathbf{Expr}, \\mathbf{Expr}, \\mathbf{Expr}) \\\\\n",
    " & | & Let( \\mathbf{Identifier}, \\mathbf{Expr}, \\mathbf{Expr}) \\\\\n",
    " & | & FunDef( \\mathbf{Identifier}, \\mathbf{Expr}) \\\\ \n",
    " & | & FunCall(\\mathbf{Expr}, \\mathbf{Expr})\\\\\n",
    "\\end{array}$$\n"
   ]
  },
  {
   "cell_type": "code",
   "execution_count": 1,
   "metadata": {},
   "outputs": [
    {
     "data": {
      "text/plain": [
       "defined \u001b[32mtrait\u001b[39m \u001b[36mExpr\u001b[39m\n",
       "defined \u001b[32mclass\u001b[39m \u001b[36mConst\u001b[39m\n",
       "defined \u001b[32mclass\u001b[39m \u001b[36mIdent\u001b[39m\n",
       "defined \u001b[32mclass\u001b[39m \u001b[36mPlus\u001b[39m\n",
       "defined \u001b[32mclass\u001b[39m \u001b[36mGeq\u001b[39m\n",
       "defined \u001b[32mclass\u001b[39m \u001b[36mAnd\u001b[39m\n",
       "defined \u001b[32mclass\u001b[39m \u001b[36mNot\u001b[39m\n",
       "defined \u001b[32mclass\u001b[39m \u001b[36mIfThenElse\u001b[39m\n",
       "defined \u001b[32mclass\u001b[39m \u001b[36mLet\u001b[39m\n",
       "defined \u001b[32mclass\u001b[39m \u001b[36mFunDef\u001b[39m\n",
       "defined \u001b[32mclass\u001b[39m \u001b[36mFunCall\u001b[39m"
      ]
     },
     "execution_count": 1,
     "metadata": {},
     "output_type": "execute_result"
    }
   ],
   "source": [
    "sealed trait Expr\n",
    "\n",
    "case class Const(f: Double) extends Expr\n",
    "case class Ident(x: String) extends Expr\n",
    "case class Plus(e1: Expr, e2: Expr) extends Expr\n",
    "case class Geq (e1: Expr, e2: Expr) extends Expr\n",
    "case class And(e1: Expr, e2: Expr) extends Expr\n",
    "case class Not(e: Expr) extends Expr\n",
    "case class IfThenElse(e: Expr, e1: Expr, e2: Expr) extends Expr\n",
    "case class Let(x: String, e1: Expr, e2: Expr) extends Expr\n",
    "case class FunDef(param: String, body: Expr) extends Expr\n",
    "case class FunCall(e1: Expr, e2: Expr) extends Expr"
   ]
  },
  {
   "cell_type": "markdown",
   "metadata": {},
   "source": [
    "## Abstract Syntax Tree for Types\n",
    "\n",
    "In lecture, we learned to infer types by performing two steps:\n",
    "\n",
    "1. Generate a system of equations: these are our type constraints\n",
    "2. Solve the system of equations using the unification approach.\n",
    "\n",
    "Let us define an AST for our types along with some utilities."
   ]
  },
  {
   "cell_type": "code",
   "execution_count": 2,
   "metadata": {},
   "outputs": [
    {
     "data": {
      "text/plain": [
       "defined \u001b[32mtrait\u001b[39m \u001b[36mType\u001b[39m\n",
       "defined \u001b[32mobject\u001b[39m \u001b[36mNumType\u001b[39m\n",
       "defined \u001b[32mobject\u001b[39m \u001b[36mBoolType\u001b[39m\n",
       "defined \u001b[32mclass\u001b[39m \u001b[36mFunType\u001b[39m\n",
       "defined \u001b[32mclass\u001b[39m \u001b[36mTypeVar\u001b[39m\n",
       "defined \u001b[32mtype\u001b[39m \u001b[36mTypeEnvironment\u001b[39m\n",
       "defined \u001b[32mtype\u001b[39m \u001b[36mListOfEquations\u001b[39m\n",
       "defined \u001b[32mobject\u001b[39m \u001b[36mTypeVarGenerator\u001b[39m"
      ]
     },
     "execution_count": 2,
     "metadata": {},
     "output_type": "execute_result"
    }
   ],
   "source": [
    "sealed trait Type\n",
    "case object NumType extends Type\n",
    "case object BoolType extends Type\n",
    "case class FunType(type1: Type, type2: Type) extends Type\n",
    "case class TypeVar(name:String) extends Type\n",
    "\n",
    "type TypeEnvironment = Map[String, Type]\n",
    "type ListOfEquations = List[(Type, Type)]\n",
    "\n",
    "object TypeVarGenerator {\n",
    "    var counter = 0\n",
    "    \n",
    "    def getFreshTypeVariable(id: String): TypeVar = {\n",
    "        val t = TypeVar(\"type_\" + id + \"_\" + counter.toString)\n",
    "        counter = counter + 1\n",
    "        t\n",
    "    }\n",
    "    \n",
    "    def resetCounter = {\n",
    "        counter = 0\n",
    "    }\n",
    "}"
   ]
  },
  {
   "cell_type": "markdown",
   "metadata": {},
   "source": [
    "## Generating Type Variables and Constraints\n",
    "\n",
    "The following rules allow us to generate constraints:\n",
    "    - `Const(_)`: \n",
    "        - return NumType, Nil\n",
    "    - `Ident(s)`: \n",
    "        - look up s in our type environment and throw an error if it is not found\n",
    "        - return type(s), Nil\n",
    "    - `Plus(e1, e2)`:   \n",
    "        - generate constraints for `e1` and add a constraint: `type(e1) == NumType`\n",
    "        - generate constraints for `e2` and add a constraint: `type(e2) == NumType`\n",
    "        - return NumType, constraints\n",
    "    - `Geq(e1, e2)`:  \n",
    "        - generate constraints for `e1` and add a constraint: `type(e1) == NumType`\n",
    "        - generate constraints for `e2` and add a constraint: `type(e2) == NumType`\n",
    "        - return BoolType, constraints\n",
    "    - `And(e1, e2)`:  \n",
    "        - generate constraints for `e1` and add a constraint: `type(e1) == BoolType`\n",
    "        - generate constraints for `e2` and add a constraint: `type(e2) == BoolType`\n",
    "        - return BoolType, constraints\n",
    "    - `Not(e1)`:  \n",
    "        - generate constraints for `e1` and add a constraint: `type(e1) == BoolType`\n",
    "        - return BoolType, constraints\n",
    "    - `IfThenElse(e, e1, e2)`:\n",
    "        - generate constraints for `e` and add a constraint: `type(e) == BoolType`\n",
    "        - generate constraints for `e1` and `e2` and add a constraint: `type(e1) == type(e2)`\n",
    "        - return `type(e1)`, constraints\n",
    "    - `Let(x, e1, e2)`:\n",
    "        - create a new `TypeVar` for the argument x and call it `type_x_0`\n",
    "        - generate constraints for `e1` and create a new type environment augmented with `x -> type_x_0`\n",
    "        - generate constraints for `e2` using the new type environment\n",
    "        - add the constraint `type_x_0 == type(e1)` \n",
    "        - return `type(e2)`, constraints\n",
    "    - `FunDef(x, e1)`:\n",
    "        - create a new `TypeVar` for the argument x and call it `type_x_0`\n",
    "        - create a new type environment augmented with `x -> type_x_0`\n",
    "        - generate constraints for `e1` using the new type environment \n",
    "        - return `FunType(type_x_0, type(e1))`, constraints\n",
    "    - `FunCall(e1, e2)`:\n",
    "        - create a new `TypeVar` for the function call and call it `type_fcall_0`\n",
    "        - generate constraints for `e1` and `e2`\n",
    "        - add the constraint `type(e1) == FunType(type(e2), type_fcall_0)`\n",
    "        - return `type_fcall_0`, constraints\n",
    "\n",
    "From the readings, we have code that will do this automatically. We will go through some examples and build up the constraints manually, then compare the results to the output of `generateEquations`.\n"
   ]
  },
  {
   "cell_type": "code",
   "execution_count": 3,
   "metadata": {},
   "outputs": [
    {
     "data": {
      "text/plain": [
       "defined \u001b[32mclass\u001b[39m \u001b[36mErrorException\u001b[39m\n",
       "defined \u001b[32mfunction\u001b[39m \u001b[36mgenerateEquations\u001b[39m"
      ]
     },
     "execution_count": 3,
     "metadata": {},
     "output_type": "execute_result"
    }
   ],
   "source": [
    "case class ErrorException(s: String) extends Exception \n",
    "\n",
    "def generateEquations(e: Expr, alpha: TypeEnvironment): (Type, ListOfEquations) = \n",
    "    e match {\n",
    "        case Const(f) => (NumType, Nil) // If expr is a constant, return num and Nil\n",
    "        case Ident(id) => {\n",
    "              if (alpha contains id){\n",
    "                  (alpha(id), Nil)\n",
    "              } else {\n",
    "                  throw new ErrorException(s\"Used undeclared identifier $id -- type error\")\n",
    "              }\n",
    "        }\n",
    "\n",
    "        case Plus(e1, e2) => {\n",
    "             val (t1, lst1) = generateEquations(e1, alpha) // Gen. eqs for e1\n",
    "             val (t2, lst2) = generateEquations(e2, alpha) // Gen. eqs for e2\n",
    "             val combinedList = lst1 ++ lst2 ++ List( (t1, NumType), (t2, NumType) )\n",
    "             (NumType, combinedList) // The overall type of Plus is a num\n",
    "        }\n",
    "\n",
    "        case Geq(e1, e2) => {\n",
    "             val (t1, lst1) = generateEquations(e1, alpha) // Gen. eqs for e1\n",
    "             val (t2, lst2) = generateEquations(e2, alpha) // Gen. eqs for e2\n",
    "             val combinedList = lst1 ++ lst2 ++ List( (t1, NumType), (t2, NumType) )\n",
    "             (BoolType, combinedList) // Overall type of Geq is a boolean\n",
    "        }\n",
    "\n",
    "        case And(e1, e2) => {\n",
    "            val (t1, lst1) = generateEquations(e1, alpha) // Gen. eqs for e1\n",
    "            val (t2, lst2) = generateEquations(e2, alpha) // Gen. eqs for e2\n",
    "            val combinedList = lst1 ++ lst2 ++ List( (t1, BoolType), (t2, BoolType) )\n",
    "            (BoolType, combinedList) // Overall type of And is a boolean\n",
    "        }\n",
    "\n",
    "        case Not(e1) => {\n",
    "            val (t1, lst1) = generateEquations(e1, alpha) // Gen. eqs for e1\n",
    "            val combinedList = lst1 ++ List( (t1, BoolType) )\n",
    "            (BoolType, combinedList) // Overall type of And is a boolean\n",
    "        }\n",
    "\n",
    "        case IfThenElse(e, e1, e2) => {\n",
    "             val (t0, lst0) = generateEquations(e, alpha) // Gen. eqs for e\n",
    "             val (t1, lst1) = generateEquations(e1, alpha) // Gen. eqs for e1\n",
    "             val (t2, lst2) = generateEquations(e2, alpha) // Gen. eqs for e2\n",
    "             val combinedList = lst1 ++ lst2 ++ List( (t0, BoolType), (t1, t2) )\n",
    "             (t1, combinedList) // Overall type of IfThenElse is t1\n",
    "        }\n",
    "\n",
    "        case Let(x, e1, e2) => {\n",
    "           val tx = TypeVarGenerator.getFreshTypeVariable(x)\n",
    "           val (te1, listE1) = generateEquations(e1, alpha)\n",
    "           val newAlpha = alpha + (x -> tx)\n",
    "           val (te2, listE2) = generateEquations(e2, newAlpha)\n",
    "           val combinedList = listE1 ++ listE2 ++ List( (tx, te1) )\n",
    "           (te2, combinedList)\n",
    "        }  \n",
    "\n",
    "        case FunDef(param, body) => {\n",
    "            val tparam = TypeVarGenerator.getFreshTypeVariable(param) // Gen. fresh type variable \n",
    "            val newEnv = alpha + (param -> tparam)\n",
    "            val (tbody, listBody) = generateEquations(body, newEnv)\n",
    "            val fnType = FunType(tparam, tbody)\n",
    "            (fnType, listBody)\n",
    "        }\n",
    "\n",
    "        case FunCall(e1, e2) => {\n",
    "            val (te1, listE1) = generateEquations(e1, alpha)\n",
    "            val (te2, listE2) = generateEquations(e2, alpha)\n",
    "            val te = TypeVarGenerator.getFreshTypeVariable(\"fcall\")\n",
    "            val newTypeConstraint = (te1, FunType(te2, te) ) // te1 == te2 => te\n",
    "            val combinedList = listE1 ++ listE2 ++ List(newTypeConstraint)\n",
    "            (te, combinedList)\n",
    "        }  \n",
    "    }"
   ]
  },
  {
   "cell_type": "code",
   "execution_count": 4,
   "metadata": {},
   "outputs": [
    {
     "data": {
      "text/plain": [
       "defined \u001b[32mfunction\u001b[39m \u001b[36mtypeToString\u001b[39m\n",
       "defined \u001b[32mfunction\u001b[39m \u001b[36mprettyPrintTypeEqs\u001b[39m"
      ]
     },
     "execution_count": 4,
     "metadata": {},
     "output_type": "execute_result"
    }
   ],
   "source": [
    "def typeToString(t: Type) : String = t match {\n",
    "    case NumType => \"NumType\"\n",
    "    case BoolType => \"BoolType\"\n",
    "    case FunType(t1, t2) => \"FunType(\"+(typeToString(t1)) + \" => \" + (typeToString(t2)) +\")\"\n",
    "    case TypeVar(str) => str\n",
    "}\n",
    "\n",
    "def prettyPrintTypeEqs (lst: List[(Type, Type)]): Unit = {\n",
    "    lst.foreach {\n",
    "        case (t1, t2) => {\n",
    "            println(typeToString(t1) + \" == \" + typeToString(t2))\n",
    "        }\n",
    "    }\n",
    "}"
   ]
  },
  {
   "cell_type": "markdown",
   "metadata": {},
   "source": [
    "## Examples\n"
   ]
  },
  {
   "cell_type": "code",
   "execution_count": 5,
   "metadata": {},
   "outputs": [
    {
     "name": "stdout",
     "output_type": "stream",
     "text": [
      "-- Generated Eqs --\n",
      "type_x_0 == NumType\n",
      "NumType == NumType\n",
      "type_x_0 == NumType\n",
      "The overall program has type: NumType\n"
     ]
    },
    {
     "data": {
      "text/plain": [
       "\u001b[36mexpr\u001b[39m: \u001b[32mLet\u001b[39m = \u001b[33mLet\u001b[39m(\u001b[32m\"x\"\u001b[39m, \u001b[33mConst\u001b[39m(\u001b[32m2.0\u001b[39m), \u001b[33mPlus\u001b[39m(\u001b[33mIdent\u001b[39m(\u001b[32m\"x\"\u001b[39m), \u001b[33mConst\u001b[39m(\u001b[32m1.0\u001b[39m)))\n",
       "\u001b[36mtyp\u001b[39m: \u001b[32mType\u001b[39m = NumType\n",
       "\u001b[36mlstOfEqs\u001b[39m: \u001b[32mListOfEquations\u001b[39m = \u001b[33mList\u001b[39m(\n",
       "  (\u001b[33mTypeVar\u001b[39m(\u001b[32m\"type_x_0\"\u001b[39m), NumType),\n",
       "  (NumType, NumType),\n",
       "  (\u001b[33mTypeVar\u001b[39m(\u001b[32m\"type_x_0\"\u001b[39m), NumType)\n",
       ")"
      ]
     },
     "execution_count": 5,
     "metadata": {},
     "output_type": "execute_result"
    }
   ],
   "source": [
    "// let x = 2 in x + 1\n",
    "val expr = Let(\"x\", Const(2), Plus(Ident(\"x\"), Const(1)))\n",
    "\n",
    "// 1. The top level expression is a Let\n",
    "//     - `Let(x, e1, e2)`:\n",
    "//         - create a new `TypeVar` for the argument x and call it `type_x_0`\n",
    "//         - generate constraints for `e1` and create a new type environment augmented with `x -> type_x_0`\n",
    "//         - generate constraints for `e2` using the new type environment\n",
    "//         - add the constraint `type_x_0 == type(e1)` \n",
    "//         - return `type(e2)`, constraints\n",
    "\n",
    "// 2. e1 = Const(2), so type(e1) = NumType and we evaluate e2 using alpha ++ (x -> NumType)\n",
    "\n",
    "// 3. e2 = Plus(Ident(\"x\"), Const(1))\n",
    "//     - `Plus(e1_hat, e2_hat)`:   \n",
    "//         - generate constraints for `e1_hat` and add a constraint: `type(e1_hat) == NumType`\n",
    "//         - generate constraints for `e2_hat` and add a constraint: `type(e2_hat) == NumType`\n",
    "//         - return NumType, constraints\n",
    "\n",
    "// 4. e1_hat = Ident(\"x\") which evaluates to type_x_0, we add our first constraint type_x_0 == NumType.\n",
    "\n",
    "// 5. e2_hat = Const(1) which evaluates to NumType, we add our second constraint NumType == NumType\n",
    "\n",
    "// 6. type(e2) = NumType, so add the constraint `type_x_0 == NumType`\n",
    "\n",
    "// 7. type(e2) = NumType, so we return NumType\n",
    "\n",
    "val (typ, lstOfEqs) = generateEquations(\n",
    "    expr,\n",
    "    Map[String, Type]()\n",
    ")\n",
    "TypeVarGenerator.resetCounter\n",
    "\n",
    "println(\"-- Generated Eqs --\")\n",
    "prettyPrintTypeEqs(lstOfEqs)\n",
    "println(\"The overall program has type: \" + typeToString(typ))\n",
    "\n"
   ]
  },
  {
   "cell_type": "code",
   "execution_count": 16,
   "metadata": {},
   "outputs": [
    {
     "ename": "",
     "evalue": "",
     "output_type": "error",
     "traceback": [
      "\u001b[31mscala.NotImplementedError: an implementation is missing\u001b[39m\n  scala.Predef$.$qmark$qmark$qmark(\u001b[32mPredef.scala\u001b[39m:\u001b[32m288\u001b[39m)\n  ammonite.$sess.cmd15$Helper.<init>(\u001b[32mcmd15.sc\u001b[39m:\u001b[32m1\u001b[39m)\n  ammonite.$sess.cmd15$.<init>(\u001b[32mcmd15.sc\u001b[39m:\u001b[32m7\u001b[39m)\n  ammonite.$sess.cmd15$.<clinit>(\u001b[32mcmd15.sc\u001b[39m:\u001b[32m-1\u001b[39m)"
     ]
    }
   ],
   "source": [
    "// if 5 > 2 then 3 else function (x) x + 1\n",
    "val expr = ???\n",
    "\n",
    "val (typ, lstOfEqs) = generateEquations(\n",
    "    expr,\n",
    "    Map[String, Type]()\n",
    ")\n",
    "TypeVarGenerator.resetCounter\n",
    "\n",
    "println(\"-- Generated Eqs --\")\n",
    "prettyPrintTypeEqs(lstOfEqs)\n",
    "println(\"The overall program has type: \" + typeToString(typ))\n",
    "\n"
   ]
  },
  {
   "cell_type": "code",
   "execution_count": 17,
   "metadata": {},
   "outputs": [
    {
     "ename": "",
     "evalue": "",
     "output_type": "error",
     "traceback": [
      "\u001b[31mscala.NotImplementedError: an implementation is missing\u001b[39m\n  scala.Predef$.$qmark$qmark$qmark(\u001b[32mPredef.scala\u001b[39m:\u001b[32m288\u001b[39m)\n  ammonite.$sess.cmd16$Helper.<init>(\u001b[32mcmd16.sc\u001b[39m:\u001b[32m1\u001b[39m)\n  ammonite.$sess.cmd16$.<init>(\u001b[32mcmd16.sc\u001b[39m:\u001b[32m7\u001b[39m)\n  ammonite.$sess.cmd16$.<clinit>(\u001b[32mcmd16.sc\u001b[39m:\u001b[32m-1\u001b[39m)"
     ]
    }
   ],
   "source": [
    "// let f = function (x)  x >= 5 in \n",
    "//   f(2)\n",
    "\n",
    "val expr = ???\n",
    "\n",
    "val (typ, lstOfEqs) = generateEquations(\n",
    "    expr,\n",
    "    Map[String, Type]()\n",
    ")\n",
    "TypeVarGenerator.resetCounter\n",
    "\n",
    "println(\"-- Generated Eqs --\")\n",
    "prettyPrintTypeEqs(lstOfEqs)\n",
    "println(\"The overall program has type: \" + typeToString(typ))\n",
    "\n"
   ]
  },
  {
   "cell_type": "markdown",
   "metadata": {},
   "source": [
    "## Do all of these examples typecheck? If no, which ones do not and why?\n"
   ]
  },
  {
   "cell_type": "code",
   "execution_count": null,
   "metadata": {},
   "outputs": [],
   "source": []
  }
 ],
 "metadata": {
  "kernelspec": {
   "display_name": "Scala",
   "language": "scala",
   "name": "scala"
  },
  "language_info": {
   "codemirror_mode": "text/x-scala",
   "file_extension": ".scala",
   "mimetype": "text/x-scala",
   "name": "scala",
   "nbconvert_exporter": "script",
   "version": "2.12.10"
  }
 },
 "nbformat": 4,
 "nbformat_minor": 2
}
