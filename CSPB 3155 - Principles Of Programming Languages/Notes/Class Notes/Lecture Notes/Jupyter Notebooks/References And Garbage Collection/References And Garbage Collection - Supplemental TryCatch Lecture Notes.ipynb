{
 "cells": [
  {
   "cell_type": "markdown",
   "metadata": {},
   "source": [
    "# TryCatch in Lettuce"
   ]
  },
  {
   "cell_type": "markdown",
   "metadata": {},
   "source": [
    "* Author: Spencer Wilson\n",
    "* Date: March 14 2021\n",
    "* Intial Purpose: In CSPB3155-Spring2022 questions arose on why the operational semantic rules involving stores still need a store in error cases. In the version of Lettuce of the reference assignment, there was no value to providing these stores, but if we add try/catch/finally statements to the Lettuce language, then these suddently become important. At this time, this is not in scope for the course\n",
    "* My advanced apologies for any typos"
   ]
  },
  {
   "cell_type": "markdown",
   "metadata": {},
   "source": [
    "## A Lettuce definition of Try Catch"
   ]
  },
  {
   "cell_type": "markdown",
   "metadata": {},
   "source": [
    "* Lettuce concrete syntax: try e1 catch e2\n",
    "* Lettuce abstract syntax as Expr: TryCatch(e1, e2)\n",
    "* Logic:\n",
    "    * I'm not skilled in latex, so I'll write this in an alternate form. Let 'C' be Conclusion is what goes below the line of an operational semantic. Let P\\<n> be a Premis\\<n> are the ordered items above the line.\n",
    "    * Rule: Try-OK\n",
    "        * P0: eval(e1, env,store) = (v1, store1)\n",
    "        * P1: v1 != Error\n",
    "        * C: eval(TryCatch(e1,e2), env, store) = (v1, store1)\n",
    "    * Rule: Try-Catch\n",
    "        * P0: eval(e1, env,store) = (Error, store1)\n",
    "        * P1: eval(e2, env, store1) = (v2, store2)\n",
    "        * C: eval(TryCatch(e1,e2), env, store) = (v2, store2)"
   ]
  },
  {
   "cell_type": "markdown",
   "metadata": {},
   "source": [
    "##  Try Catch in Scala"
   ]
  },
  {
   "cell_type": "markdown",
   "metadata": {},
   "source": [
    "Is that a reasonable operational semantic? Is that what Scala does? Let's look at a sample"
   ]
  },
  {
   "cell_type": "code",
   "execution_count": null,
   "metadata": {},
   "outputs": [],
   "source": [
    "// Scala Sample\n",
    "var x = 10\n",
    "try {\n",
    "    x = 20\n",
    "    throw new RuntimeException(\"foo\")\n",
    "    x = 30\n",
    "    x\n",
    "} catch {\n",
    "    case _RunTimeException => x\n",
    "}\n",
    "\n",
    "// The logic is the same as what scala does. The result here is 20, not 10 and not 30."
   ]
  },
  {
   "cell_type": "markdown",
   "metadata": {},
   "source": [
    "The logic in our operational semantic rules for Lettuce follows the same logic as Scala. The value of the Scala program above is 20."
   ]
  },
  {
   "cell_type": "markdown",
   "metadata": {},
   "source": [
    "## An Alternative Semantic"
   ]
  },
  {
   "cell_type": "markdown",
   "metadata": {},
   "source": [
    "This is a bit of a side note...\n",
    "\n",
    "What if instead wanted a semantic where it returned 10 instead? If the try block fails, then the side effects inside of try effectively do not occur. This could be implmented as a semtic for Lettuce. I'm unaware of a langauge that uses this feature or why it would. Spitballing - a specialized database langauge might benefit from this. Here is a reasonable operational semantic rule for that feature\n",
    "\n",
    "* Rule: Try-OK: remains the same\n",
    "    * P0: eval(e1, env,store) = (v1, store1)\n",
    "    * P1: v1 != Error\n",
    "    * C: eval(TryCatch(e1,e2), env, store) = (v1, store1)\n",
    "* Rule: Try-Catch\n",
    "    * P0. eval(e1, env, store) = (Error, store1)\n",
    "    * C. eval(TryCatch(e1, e2), env, store) = eval(e2, env, store)\n",
    "        * NOTE: It's not using store 1\n",
    "        * NOTE: If our language also had I/O like print statements, we may need to be more sophisticated with this rule for it to really take the try as an atomic expression\n",
    "  \n",
    "\n",
    "Lettuce is special enough as it exists today, so we will not implement this semantic in the code below."
   ]
  },
  {
   "cell_type": "markdown",
   "metadata": {},
   "source": [
    "## Interpreter"
   ]
  },
  {
   "cell_type": "code",
   "execution_count": null,
   "metadata": {},
   "outputs": [],
   "source": [
    "// I've selected a subset of Lettuce to allow us to trigger a few kinds of errors\n",
    "sealed trait Value\n",
    "case class NumValue(n:Double) extends Value\n",
    "case class BoolValue(b:Boolean) extends Value\n",
    "case class Reference(r:Int) extends Value\n",
    "case object ErrorValue extends Value\n",
    "\n",
    "sealed trait Expr\n",
    "case class Const(n:Double) extends Expr\n",
    "case class NewRef(e1:Expr) extends Expr\n",
    "case class Plus(e1:Expr, e2:Expr) extends Expr\n",
    "case class Geq(e1:Expr, e2:Expr) extends Expr\n",
    "case class Let(x:String, e1:Expr, e2:Expr) extends Expr\n",
    "case class Ident(x:String) extends Expr\n",
    "case class AssignRef(e1:Expr, e2:Expr) extends Expr\n",
    "case class DeRef(e1:Expr) extends Expr\n",
    "case class Seq(e1:Expr, e2:Expr) extends Expr\n",
    "case class TryCatch(e1:Expr, e2:Expr) extends Expr\n",
    "\n",
    "sealed trait Program\n",
    "case class TopLevel(e: Expr) extends Program"
   ]
  },
  {
   "cell_type": "code",
   "execution_count": null,
   "metadata": {},
   "outputs": [],
   "source": [
    "// Need to define a store\n",
    "case class ImmutableStore(val nCells: Int, val storeMap: Map[Int, Value])\n",
    "def createNewCell(s: ImmutableStore, v: Value): (ImmutableStore, Int) = {\n",
    "        /*- make a new cell -*/\n",
    "        val j = s.nCells\n",
    "        val nMap = s.storeMap + (j -> v)\n",
    "        val nStore = ImmutableStore(s.nCells + 1, nMap) // Make a new store with one more cell\n",
    "        (nStore, j)\n",
    "}\n",
    "def lookupCellValue(s: ImmutableStore, j: Int): Value = {\n",
    "        if (s.storeMap.contains(j)){\n",
    "            s.storeMap(j)\n",
    "        } else {\n",
    "            throw new IllegalArgumentException(s\"Illegal lookup of nonexistant location $j\")\n",
    "        }\n",
    "}\n",
    "def assignToCell(s: ImmutableStore, j: Int, v: Value): ImmutableStore = {\n",
    "        if (s.storeMap.contains(j)){\n",
    "            val nMap = s.storeMap + (j -> v) // Update the store map.\n",
    "            ImmutableStore(s.nCells, nMap)\n",
    "        } else {\n",
    "            throw new IllegalArgumentException(s\"Illegal assignment to nonexistent location $j\")\n",
    "        }\n",
    "    }\n"
   ]
  },
  {
   "cell_type": "code",
   "execution_count": null,
   "metadata": {},
   "outputs": [],
   "source": [
    "// must define the usual interpreter functions\n",
    "\n",
    "def eval(e:Expr, env:Map[String, Value], sto:ImmutableStore): (Value, ImmutableStore) = e match {\n",
    "    case Const(n) => (NumValue(n), sto)\n",
    "    case NewRef(e1) => eval(e1, env, sto) match {\n",
    "        case r@(ErrorValue, _)  => r\n",
    "        case (v1, sto1) => {\n",
    "            val (sto2, ref) = createNewCell(sto1, v1)\n",
    "            (Reference(ref), sto2)\n",
    "        }\n",
    "    }\n",
    "    case Plus(e1, e2) => eval(e1, env, sto) match {\n",
    "        case r@(ErrorValue, _)  => r\n",
    "        case (NumValue(n1), sto1) => eval(e2, env, sto1) match {\n",
    "            case r@(ErrorValue, _)  => r\n",
    "            case (NumValue(n2), sto2) => {\n",
    "                (NumValue(n1 + n2), sto2)\n",
    "            }\n",
    "            case (_, sto2) => (ErrorValue, sto2)\n",
    "        }\n",
    "        case (_, sto1) => (ErrorValue, sto1)\n",
    "    }\n",
    "    case Geq(e1, e2) => eval(e1, env, sto) match {\n",
    "        case r@(ErrorValue, _)  => r\n",
    "        case (NumValue(n1), sto1) => eval(e2, env, sto1) match {\n",
    "            case r@(ErrorValue, _)  => r\n",
    "            case (NumValue(n2), sto2) => {\n",
    "                (BoolValue(n1 >= n2), sto2)\n",
    "            }\n",
    "            case (_, sto2) => (ErrorValue, sto2)\n",
    "        }\n",
    "        case (_, sto1) => (ErrorValue, sto1)\n",
    "    }\n",
    "    case Let(x, e1, e2) => eval(e1, env, sto) match {\n",
    "        case r@(ErrorValue,_) => r\n",
    "        case (v1, sto1) => eval(e2, env + {x -> v1}, sto1)        \n",
    "    }\n",
    "    case Ident(x) => {\n",
    "        if (env contains x) (env(x), sto)\n",
    "        else (ErrorValue, sto)\n",
    "    }\n",
    "    case AssignRef(e1, e2) => eval(e1, env, sto) match {\n",
    "        case r@(ErrorValue,_) => r\n",
    "        case (Reference(ref), sto1) => eval(e2, env, sto) match {\n",
    "            case r@(ErrorValue,_) => r\n",
    "            case (v2, sto2) => {\n",
    "                val stop = assignToCell(sto2, ref, v2)\n",
    "                (v2, stop)\n",
    "            }\n",
    "        }\n",
    "        case (_, sto1) => (ErrorValue, sto1)\n",
    "    }\n",
    "    case DeRef(e1) => eval(e1, env, sto) match {\n",
    "        case r@(ErrorValue,_) => r\n",
    "        case (Reference(ref), sto1) => {\n",
    "            val v1 = lookupCellValue(sto1, ref)\n",
    "            (v1, sto1)\n",
    "        }\n",
    "        case (_, sto1) => (ErrorValue, sto1)\n",
    "    }\n",
    "    case TryCatch(e1, e2) => eval(e1, env, sto) match {\n",
    "        // The op'sem' that we typically see\n",
    "        case r@(ErrorValue, sto1) => eval(e2, env, sto1)\n",
    "        case r => r\n",
    "        // // SAMPLE Solution for the other op'sem' that doesn't work in any lanaguage I know of\n",
    "        // case r@(ErrorValue, _) => eval(e2, env, sto)\n",
    "        // case r => r\n",
    "    }\n",
    "    case _ => ???\n",
    "}\n",
    "\n",
    "// Convenient for top levels. it's a polymorphic definition of the 'eval' function\n",
    "// I think that Jupyter only allows this if they are in the same box\n",
    "def eval(p:Program):Value = {\n",
    "    val TopLevel(e0) = p\n",
    "    eval(e0, Map(), ImmutableStore(0,Map()))._1\n",
    "}"
   ]
  },
  {
   "cell_type": "markdown",
   "metadata": {},
   "source": [
    "## Tests"
   ]
  },
  {
   "cell_type": "code",
   "execution_count": null,
   "metadata": {},
   "outputs": [],
   "source": [
    "// CANNOT compare a boolean to an int - in Lettuce\n",
    "// let x = NewRef(10) in \n",
    "//     try let tmp = assignref(x, 20) in x > 10 > 10 \n",
    "//     catch deref(x)\n",
    "val tmp = Let(\"tmp\", AssignRef(Ident(\"x\"), Const(20)), Geq(Geq(Ident(\"x\"), Const(10)), Const(10)))\n",
    "val tc = TryCatch(tmp, DeRef(Ident(\"x\")))\n",
    "val x = Let(\"x\", NewRef(Const(10)), tc)\n",
    "val p = TopLevel(x)\n",
    "val v = eval(p)\n",
    "\n",
    "assert(NumValue(20) == v)\n",
    "println(\"\\n\\n\\nPASSED THE TEST\\n\\n\\n\")"
   ]
  },
  {
   "cell_type": "code",
   "execution_count": null,
   "metadata": {},
   "outputs": [],
   "source": [
    "// CANNOT lookup a variable that doesn't exist\n",
    "// let x = NewRef(10) in \n",
    "//     try let t0 = assignref(x, 20) in let t1 = y in let t2 = assignRef(x,30) in deref(x)\n",
    "//     catch deref(x)\n",
    "val t2 = Let(\"t2\", AssignRef(Ident(\"x\"), Const(30)), DeRef(Ident(\"x\")))\n",
    "val t1 = Let(\"t1\", Ident(\"y\"), t2)\n",
    "val t0 = Let(\"t0\", AssignRef(Ident(\"x\"), Const(20)), t1)\n",
    "val tc = TryCatch(tmp, DeRef(Ident(\"x\")))\n",
    "val x = Let(\"x\", NewRef(Const(10)), tc)\n",
    "val p = TopLevel(x)\n",
    "val v = eval(p)\n",
    "\n",
    "assert(NumValue(20) == v)\n",
    "println(\"\\n\\n\\nPASSED THE TEST\\n\\n\\n\")\n"
   ]
  }
 ],
 "metadata": {
  "kernelspec": {
   "display_name": "Scala 2.13",
   "language": "scala",
   "name": "scala213"
  },
  "language_info": {
   "codemirror_mode": "text/x-scala",
   "file_extension": ".sc",
   "mimetype": "text/x-scala",
   "name": "scala",
   "nbconvert_exporter": "script",
   "version": "2.13.3"
  }
 },
 "nbformat": 4,
 "nbformat_minor": 4
}
