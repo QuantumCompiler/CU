{
 "cells": [
  {
   "cell_type": "markdown",
   "metadata": {
    "nbgrader": {
     "grade": false,
     "grade_id": "cell-e4ec8e4f42d06d14",
     "locked": true,
     "schema_version": 1,
     "solution": false
    }
   },
   "source": [
    "## Outline\n",
    "1. Anonymous functions (aka lambda functions)\n",
    "2. Using higher-order functions to replace loops\n",
    "3. Reading inference rules\n"
   ]
  },
  {
   "cell_type": "markdown",
   "metadata": {
    "nbgrader": {
     "grade": false,
     "grade_id": "cell-b8df8cb319677f2a",
     "locked": true,
     "schema_version": 1,
     "solution": false
    }
   },
   "source": [
    "## Anonymous functions\n",
    "\n",
    "Syntax:\n",
    "```\n",
    "Scala:  (param1, param2) => expression\n",
    "Python: lambda param1, param2: expression\n",
    "Java:   (param1, param2) -> expression\n",
    "```"
   ]
  },
  {
   "cell_type": "markdown",
   "metadata": {
    "nbgrader": {
     "grade": false,
     "grade_id": "cell-79c2a81c668fa9d0",
     "locked": true,
     "schema_version": 1,
     "solution": false
    }
   },
   "source": [
    "### Exercise: Anonymous functions\n",
    "Write anonymous functions that perform the requested operations. (Ok, we're putting them in variables, so they're not quite \"anonymous\")"
   ]
  },
  {
   "cell_type": "code",
   "execution_count": null,
   "metadata": {
    "nbgrader": {
     "grade": false,
     "grade_id": "cell-ac54b03388c07a84",
     "locked": false,
     "schema_version": 1,
     "solution": true
    }
   },
   "outputs": [],
   "source": [
    "// Returns true if input is 1, false otherwise\n",
    "val is_one: (Int) => Boolean = x => (x == 1)\n",
    "assert(is_one(1))\n",
    "assert(!is_one(2))\n",
    "\n",
    "// new: pattern matching\n",
    "// Returns true if input is 1, false otherwise *using patterrn matching*\n",
    "val is_one_pattern: (Int) => Boolean = {\n",
    "    case 1 => true\n",
    "    case _ => false\n",
    "}\n",
    "assert(is_one_pattern(1))\n",
    "assert(!is_one_pattern(2))\n",
    "\n",
    "// new: multi-parameter\n",
    "// Returns the addition of the inputs\n",
    "val add: (Int, Int) => Int = (x, y) => x + y\n",
    "assert(add(1, 2) == 3)\n",
    "\n",
    "// new: take funcs\n",
    "// Takes a function and applies it to 3\n",
    "val call_on_3: (Int => Int) => Int = f => f(3)\n",
    "assert(call_on_3(_ + 5) == 8)"
   ]
  },
  {
   "cell_type": "markdown",
   "metadata": {},
   "source": [
    "## Using higher-order function to replace loops\n"
   ]
  },
  {
   "cell_type": "markdown",
   "metadata": {},
   "source": [
    "### Exercise: FoldLeft\n",
    "Find the minimum value in a list of integers"
   ]
  },
  {
   "cell_type": "code",
   "execution_count": null,
   "metadata": {},
   "outputs": [],
   "source": [
    "val aList = List(55, 1, 2, 5, -7, -1111, 2415, 7645, 18)\n",
    "\n",
    "def minValWithLoop(l: List[Int]): Int = {\n",
    "    var minVal = Int.MaxValue\n",
    "    for (item <- l) {\n",
    "        if (minVal > item) {\n",
    "            minVal = item\n",
    "        }\n",
    "    }\n",
    "    minVal\n",
    "}\n",
    "\n",
    "assert(minValWithLoop(aList) == -1111)\n",
    "\n",
    "def minVal(l: List[Int]): Int = {\n",
    "    // BEGIN SOLUTION\n",
    "    val foldFunction = (acc: Int, i: Int) => if (acc > i) { i } else { acc }\n",
    "    aList.foldLeft(Int.MaxValue)(foldFunction)\n",
    "    // END SOLUTION\n",
    "}\n",
    "\n",
    "assert(minVal(aList) == -1111)\n",
    "\n"
   ]
  },
  {
   "cell_type": "markdown",
   "metadata": {
    "nbgrader": {
     "grade": false,
     "grade_id": "cell-5a645649cac30f2f",
     "locked": true,
     "schema_version": 1,
     "solution": false
    }
   },
   "source": [
    "### Exercise: Sort\n",
    "Use Scala's built in `sortWith` to sort food in the requested ways with anonymous functions."
   ]
  },
  {
   "cell_type": "code",
   "execution_count": null,
   "metadata": {},
   "outputs": [],
   "source": [
    "case class Food(val calories: Double, val price: Double)\n",
    "\n",
    "val donut = Food(300, 1.50)\n",
    "val goat_cheese_spinach_kale_and_soy_kombucha = Food(-50, 1000)\n",
    "val buffalo_chicken_pizza = Food(500, 20)\n",
    "\n",
    "val menu = List(donut, goat_cheese_spinach_kale_and_soy_kombucha, buffalo_chicken_pizza)\n",
    "\n",
    "// BEGIN SOLUTION\n",
    "val sorted_by_calories = menu.sortWith((f1, f2) => f1.calories <= f2.calories)\n",
    "val sorted_by_price = menu.sortWith((f1, f2) => f1.price <= f2.price)\n",
    "// END SOLUTION\n",
    "\n",
    "assert(sorted_by_calories == List(goat_cheese_spinach_kale_and_soy_kombucha, donut, buffalo_chicken_pizza))\n",
    "assert(sorted_by_price == List(donut, buffalo_chicken_pizza, goat_cheese_spinach_kale_and_soy_kombucha))"
   ]
  },
  {
   "cell_type": "markdown",
   "metadata": {
    "nbgrader": {
     "grade": false,
     "grade_id": "cell-90a1c627f767f6d6",
     "locked": true,
     "schema_version": 1,
     "solution": false
    }
   },
   "source": [
    "## Inference Rules\n",
    "\n",
    "We write inference rules as follows:\n",
    "\n",
    "$ \\begin{array}{c}\n",
    "\\text{precondition_1},\\;\\;\\text{precondition_2},\\;\\; \\cdots \\\\\n",
    "\\hline\n",
    "\\text{result} \\\\\n",
    "\\end{array} \\textbf{(Name of the rule)} $"
   ]
  },
  {
   "cell_type": "markdown",
   "metadata": {},
   "source": [
    "### Exercise: inference rules for derivative\n",
    "\n",
    "Using the given rules for derivative as inspiration, write down the rule for the derivative of an exponentiation.\n",
    "\n",
    "We will write down the inference rules for derivative, as follows:\n",
    "\n",
    "A rule for constants ($\\frac{dc}{dx} = 0, c \\in \\mathbb{R}$)\n",
    "\n",
    "$\\begin{array}{c}\n",
    "\\\\\n",
    "\\hline \n",
    "\\text{derivative}( \\texttt{Const(f)} , x) = \\texttt{Const(0.0)} \\\\\n",
    "\\end{array} \\mathbf{(Constant)}$      \n",
    "\n",
    "A rule for identifiers $\\frac{dx}{dx} = 1, \\frac{dy}{dx} = 0$ for $y \\not= x$.\n",
    "\n",
    "$\\begin{array}{c}\n",
    "\\\\\n",
    "\\hline \n",
    "\\text{derivative}( \\texttt{Ident(s)} , x) = \\left\\{ \\begin{array}{ll} \\texttt{Const(1.0)} & x == s \\\\\n",
    "\\texttt{Const(0.0)} & \\text{otherwise} \\end{array} \\right.\\\\\n",
    "\\end{array} \\mathbf{(Identifier)}  \\;\\;\\;\n",
    "$\n",
    "\n",
    "A rule for plus $\\frac{d}{dx} (e_1 + e_2) = \\frac{de_1}{dx} + \\frac{de_2}{dx}$.\n",
    "\n",
    "$ \\begin{array}{c}\n",
    "\\text{derivative}(\\texttt{e1}, x) = \\texttt{f1},\\;\\;\\text{derivative}(\\texttt{e2}, x) = \\texttt{f2}\\\\\n",
    "\\hline\n",
    "\\text{derivative}(\\texttt{Plus(e1, e2)}, x) = \\texttt{Plus(f1, f2)} \\\\\n",
    "\\end{array} \\mathbf{(Plus)} $\n",
    "\n",
    "A rule for multiplication: $\\frac{d}{dx} (e_1 e_2) = e_2 \\frac{de_1}{dx} + e_1 \\frac{de_2}{dx}$.\n",
    "\n",
    "$ \\begin{array}{c}\n",
    "\\text{derivative}(\\texttt{e1}, x) = \\texttt{f1},\\;\\;\\text{derivative}(\\texttt{e2}, x) = \\texttt{f2}\\\\\n",
    "\\hline\n",
    "\\text{derivative}(\\texttt{Mult(e1, e2)}, x) = \\texttt{Plus(Mult(f1, e2), Mult(f2, e1))} \\\\\n",
    "\\end{array} \\mathbf{(Mult)} $\n",
    "\n",
    "A rule for division $\\frac{d}{dx} \\left(\\frac{e_1}{e_2}\\right) = \\frac{\\frac{de_1}{dx}}{e_2} - \\frac{e_1 \\frac{d e_2}{dx}}{e_2^2}$\n",
    "\n",
    "$ \\begin{array}{c}\n",
    "\\text{derivative}(\\texttt{e1}, x) = \\texttt{f1},\\;\\;\\text{derivative}(\\texttt{e2}, x) = \\texttt{f2}\\\\\n",
    "\\hline\n",
    "\\text{derivative}(\\texttt{Div(e1, e2)}, x) = \\texttt{Minus(Div(f1, e2), Div(Mult(e1, f2), Mult(e2, e2)))} \\\\\n",
    "\\end{array} \\mathbf{(Div)} $\n",
    "\n",
    "A rule for exponentiation $\\frac{d}{dx} \\left(e^{e_1}\\right) = e^{e_1} \\frac{de_1}{dx}$\n",
    "\n",
    "// BEGIN SOLUTION\n",
    "\n",
    "\n",
    "$ \\begin{array}{c}\n",
    "\\text{derivative}(\\texttt{e1}, x) = \\texttt{f1}\\\\\n",
    "\\hline\n",
    "\\text{derivative}(\\texttt{Exp(e1)}, x) = \\texttt{Mult(Exp(e1), f1)} \\\\\n",
    "\\end{array} \\mathbf{(Exp)} $\n",
    "\n",
    "\n",
    "// END SOLUTION\n",
    "\n"
   ]
  },
  {
   "cell_type": "markdown",
   "metadata": {},
   "source": [
    "## Spot Exam\n",
    "* Spot exam on Tuesday\n",
    "* Questions will be from the first two weeks\n",
    "* https://piazza.com/class/kduj45114rk1jf?cid=135"
   ]
  }
 ],
 "metadata": {
  "celltoolbar": "Create Assignment",
  "kernelspec": {
   "display_name": "Scala",
   "language": "scala",
   "name": "scala"
  },
  "language_info": {
   "codemirror_mode": "text/x-scala",
   "file_extension": ".scala",
   "mimetype": "text/x-scala",
   "name": "scala",
   "nbconvert_exporter": "script",
   "version": "2.12.10"
  }
 },
 "nbformat": 4,
 "nbformat_minor": 2
}
