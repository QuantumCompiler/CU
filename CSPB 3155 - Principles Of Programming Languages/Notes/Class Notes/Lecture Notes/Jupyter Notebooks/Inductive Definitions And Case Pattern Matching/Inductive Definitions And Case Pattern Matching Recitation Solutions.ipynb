{
 "cells": [
  {
   "cell_type": "markdown",
   "metadata": {},
   "source": [
    "## Outline\n",
    "1. Lists and Pattern Matching\n",
    "2. Higher-order Functions\n",
    "3. Abstract Syntax Tree\n"
   ]
  },
  {
   "cell_type": "markdown",
   "metadata": {},
   "source": [
    "## Lists and Pattern Matching"
   ]
  },
  {
   "cell_type": "markdown",
   "metadata": {},
   "source": [
    "Our inductive structure of choice for this problem is a linked list. The below code defines the structure."
   ]
  },
  {
   "cell_type": "code",
   "execution_count": null,
   "metadata": {},
   "outputs": [],
   "source": [
    "sealed trait NumList\n",
    "case object MyNil extends NumList\n",
    "case class MyCons(firstElement : Int, restOfList : NumList) extends NumList"
   ]
  },
  {
   "cell_type": "markdown",
   "metadata": {},
   "source": [
    "Since it's an inductive structure, we can write a grammar for it:\n",
    "\n",
    "$$\n",
    "\\begin{array}{rcl}\n",
    "    \\textbf{NumList} & \\rightarrow & MyNil \\\\\n",
    "                     &           | & MyCons(\\textbf{Int}, \\textbf{NumList}) \\\\\n",
    "\\end{array}\n",
    "$$"
   ]
  },
  {
   "cell_type": "markdown",
   "metadata": {},
   "source": [
    "### Exercise: Writing lists\n",
    "Write out the following lists with our `NumList` class.\n",
    "\n",
    "1. `[]` (The empty list)\n",
    "2. `[1, 2, 3]`"
   ]
  },
  {
   "cell_type": "code",
   "execution_count": null,
   "metadata": {},
   "outputs": [],
   "source": [
    "// BEGIN SOLUTION\n",
    "val ans_1 = MyNil\n",
    "val ans_2 = MyCons(1, MyCons(2, MyCons(3, MyNil)))\n",
    "// END SOLUTION"
   ]
  },
  {
   "cell_type": "markdown",
   "metadata": {},
   "source": [
    "### Exercise: Length of list\n",
    "Implement a `myLength` function for our list type using [pattern matching](https://docs.scala-lang.org/tour/pattern-matching.html)."
   ]
  },
  {
   "cell_type": "code",
   "execution_count": null,
   "metadata": {},
   "outputs": [],
   "source": [
    "// Is this function recursive?\n",
    "// Is it tail recursive?\n",
    "\n",
    "def myLength(list : NumList) : Int = {\n",
    "    // BEGIN SOLUTION\n",
    "    list match {\n",
    "        case MyNil => 0\n",
    "        case MyCons(firstElement, restOfList) => 1 + myLength(restOfList)\n",
    "    }\n",
    "    // END SOLUTION\n",
    "}"
   ]
  },
  {
   "cell_type": "code",
   "execution_count": null,
   "metadata": {},
   "outputs": [],
   "source": [
    "assert(myLength(MyNil) == 0)\n",
    "assert(myLength(MyCons(1, MyCons(2, MyNil))) == 2)"
   ]
  },
  {
   "cell_type": "markdown",
   "metadata": {},
   "source": [
    "### Exercise: Translate to built in lists\n",
    "Rewrite `length` to use [Scala's list class](https://www.scala-lang.org/api/current/scala/collection/immutable/List.html), which is very similar to the one defined above. The table below shows the equivalences:\n",
    "\n",
    "|`NumList`      | `List[Int]`|\n",
    "|---------------|------------|\n",
    "|`MyNil`        | `Nil`      |\n",
    "|`MyCons(a, b)` | `a :: b`   |"
   ]
  },
  {
   "cell_type": "code",
   "execution_count": null,
   "metadata": {},
   "outputs": [],
   "source": [
    "def length(list : List[Int]) : Int = {\n",
    "    // BEGIN SOLUTION\n",
    "    list match {\n",
    "        case Nil => 0\n",
    "        case firstElement :: restOfList => 1 + length(restOfList)\n",
    "    }\n",
    "    \n",
    "    // END SOLUTION\n",
    "}"
   ]
  },
  {
   "cell_type": "code",
   "execution_count": null,
   "metadata": {},
   "outputs": [],
   "source": [
    "assert(length(List()) == 0)\n",
    "assert(length(List(1, 2, 3)) == 3)"
   ]
  },
  {
   "cell_type": "markdown",
   "metadata": {},
   "source": [
    "### Exercise: Higher Order functions\n",
    "Define a function called `map`. `map` should takes a list of `Int`s, and a function from `Int` to `Int`, then call the function on each element and make a new list from the results.\n",
    "\n",
    "For example, the following call:\n",
    "```\n",
    "map(List(1, 2, 3, 4, 5), (x) => x + 1)\n",
    "```\n",
    "should return in the following list\n",
    "```\n",
    "List(2, 3, 4, 5, 6)\n",
    "```"
   ]
  },
  {
   "cell_type": "code",
   "execution_count": null,
   "metadata": {},
   "outputs": [],
   "source": [
    "// BEGIN SOLUTION\n",
    "def map(l: List[Int], f: (Int) => Int): List[Int] = l match {\n",
    "    case Nil => Nil\n",
    "    case e :: rest => f(e) :: map(rest, f)\n",
    "}\n",
    "// END SOLUTION"
   ]
  },
  {
   "cell_type": "code",
   "execution_count": null,
   "metadata": {},
   "outputs": [],
   "source": [
    "assert(map(List(), _ + 1) == List())\n",
    "assert(map(List(1), _ + 1) == List(2))\n",
    "assert(map(List(1, 9, 2), _ + 1) == List(2, 10, 3))\n",
    "assert(map(List(1, 2, 3, 4, 5), _ + 1) == List(2, 3, 4, 5, 6))"
   ]
  },
  {
   "cell_type": "markdown",
   "metadata": {},
   "source": [
    "## Abstract Syntax Trees (AST)\n",
    "We'll be reusing the AST for sets from the previous recitation (without the complement). For more on ASTs, see\n",
    "https://en.wikipedia.org/wiki/Abstract_syntax_tree\n",
    "\n",
    "$$\n",
    "\\begin{array}{rcl}\n",
    "    \\textbf{Set} & \\rightarrow & Empty \\\\\n",
    "                 &           | & Cons(\\textbf{Set}, \\textbf{Int}) \\\\\n",
    "                 &           | & Intersection(\\textbf{Set}, \\textbf{Set}) \\\\\n",
    "                 &           | & Union(\\textbf{Set}, \\textbf{Set}) \\\\\n",
    "                 &           | & Subtraction(\\textbf{Set}, \\textbf{Set}) \\\\\n",
    "\\end{array}\n",
    "$$"
   ]
  },
  {
   "cell_type": "code",
   "execution_count": null,
   "metadata": {},
   "outputs": [],
   "source": [
    "sealed trait MySet\n",
    "case object Empty extends MySet\n",
    "case class Cons(s: MySet, n: Int) extends MySet\n",
    "case class Intersection(s1: MySet, s2: MySet) extends MySet\n",
    "case class Union(s1: MySet, s2: MySet) extends MySet\n",
    "case class Subtraction(s1: MySet, s2: MySet) extends MySet"
   ]
  },
  {
   "cell_type": "markdown",
   "metadata": {},
   "source": [
    "### Exercise: Interpreter\n",
    "\n",
    "Scala Set API -- https://docs.scala-lang.org/overviews/collections/sets.html\n",
    "\n",
    "Write an interpreter for the language of sets you've created. Some useful methods of Sets:\n",
    "\n",
    "```\n",
    "Set.+:           (Set[Int], Int)            => Set[Int]\n",
    "Set.intersect:   (Set[Int], Set[Int])       => Set[Int]\n",
    "Set.union:       (Set[Int], Set[Int])       => Set[Int]\n",
    "Set.diff:        (Set[Int], Set[Int])       => Set[Int]\n",
    "```"
   ]
  },
  {
   "cell_type": "code",
   "execution_count": null,
   "metadata": {},
   "outputs": [],
   "source": [
    "def eval(set_expression: MySet): Set[Int] = {\n",
    "    // BEGIN SOLUTION\n",
    "    set_expression match {\n",
    "        case Empty => Set()\n",
    "        case Cons(s, n) => eval(s) + n\n",
    "        case Intersection(s1, s2) => eval(s1) intersect eval(s2)\n",
    "        case Union(s1, s2) => eval(s1) union eval(s2)\n",
    "        case Subtraction(s1, s2) => eval(s1) diff eval(s2)\n",
    "    }\n",
    "    // END SOLUTION\n",
    "}"
   ]
  },
  {
   "cell_type": "code",
   "execution_count": null,
   "metadata": {},
   "outputs": [],
   "source": [
    "val set_1_2 = Cons(Cons(Empty, 1), 2)\n",
    "val set_1_2_3 = Cons(Cons(Cons(Empty, 1), 2), 3)\n",
    "val set_3 = Cons(Empty, 3)\n",
    "\n",
    "assert(eval(Empty) == Set())\n",
    "assert(eval(set_1_2) == Set(1, 2))\n",
    "assert(eval(Union(set_1_2, set_3)) == Set(1, 2, 3))\n",
    "assert(eval(Intersection(set_1_2, set_1_2_3)) == Set(1, 2))\n",
    "assert(eval(Subtraction(set_1_2, set_1_2_3)) == Set())"
   ]
  }
 ],
 "metadata": {
  "kernelspec": {
   "display_name": "Scala",
   "language": "scala",
   "name": "scala"
  },
  "language_info": {
   "codemirror_mode": "text/x-scala",
   "file_extension": ".scala",
   "mimetype": "text/x-scala",
   "name": "scala",
   "nbconvert_exporter": "script",
   "version": "2.12.10"
  }
 },
 "nbformat": 4,
 "nbformat_minor": 2
}
