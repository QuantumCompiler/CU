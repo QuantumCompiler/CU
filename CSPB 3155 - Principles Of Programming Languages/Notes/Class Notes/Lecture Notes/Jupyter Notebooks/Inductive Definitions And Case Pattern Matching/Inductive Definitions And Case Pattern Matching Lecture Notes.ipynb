{
 "cells": [
  {
   "cell_type": "markdown",
   "metadata": {},
   "source": [
    "  * Topics: Trees, Expressions, Programs <~~~ Abstract Syntax\n",
    "  * Operations on inductive definitions\n",
    "    * Visitor Pattern\n",
    "    * Case Pattern Matching"
   ]
  },
  {
   "cell_type": "markdown",
   "metadata": {},
   "source": [
    "\n",
    "$$\\begin{array}{rclclcl}\n",
    "\\textbf{NumTree} & \\rightarrow & Leaf \\\\\n",
    "& & Node(\\textbf{Num}, \\textbf{NumTree}, \\textbf{NumTree}) \\\\\n",
    "\\textbf{Num} & \\rightarrow & 0 \\ |\\ 1\\ |\\ 2\\ | \\ 3 \\ |\\ \\cdots \\\\\n",
    "\\end{array}$$\n",
    "\n",
    "Integer data type: Num"
   ]
  },
  {
   "cell_type": "code",
   "execution_count": 1,
   "metadata": {},
   "outputs": [
    {
     "data": {
      "text/plain": [
       "defined \u001b[32mtrait\u001b[39m \u001b[36mNumTree\u001b[39m\n",
       "defined \u001b[32mtype\u001b[39m \u001b[36mNum\u001b[39m\n",
       "defined \u001b[32mobject\u001b[39m \u001b[36mLeaf\u001b[39m\n",
       "defined \u001b[32mclass\u001b[39m \u001b[36mNode\u001b[39m"
      ]
     },
     "execution_count": 1,
     "metadata": {},
     "output_type": "execute_result"
    }
   ],
   "source": [
    "sealed trait NumTree \n",
    "type Num = Int\n",
    "\n",
    "case object Leaf extends NumTree \n",
    "case class Node(n: Num, left: NumTree, right: NumTree) extends NumTree \n"
   ]
  },
  {
   "cell_type": "code",
   "execution_count": 3,
   "metadata": {},
   "outputs": [
    {
     "data": {
      "text/plain": [
       "\u001b[36mt1\u001b[39m: \u001b[32mNode\u001b[39m = \u001b[33mNode\u001b[39m(n = \u001b[32m4\u001b[39m, left = Leaf, right = Leaf)\n",
       "\u001b[36mt2\u001b[39m: \u001b[32mNode\u001b[39m = \u001b[33mNode\u001b[39m(\n",
       "  n = \u001b[32m8\u001b[39m,\n",
       "  left = \u001b[33mNode\u001b[39m(n = \u001b[32m4\u001b[39m, left = Leaf, right = Leaf),\n",
       "  right = Leaf\n",
       ")\n",
       "\u001b[36mt3\u001b[39m: \u001b[32mNode\u001b[39m = \u001b[33mNode\u001b[39m(\n",
       "  n = \u001b[32m9\u001b[39m,\n",
       "  left = \u001b[33mNode\u001b[39m(n = \u001b[32m4\u001b[39m, left = Leaf, right = Leaf),\n",
       "  right = \u001b[33mNode\u001b[39m(\n",
       "    n = \u001b[32m8\u001b[39m,\n",
       "    left = \u001b[33mNode\u001b[39m(n = \u001b[32m4\u001b[39m, left = Leaf, right = Leaf),\n",
       "    right = Leaf\n",
       "  )\n",
       ")"
      ]
     },
     "execution_count": 3,
     "metadata": {},
     "output_type": "execute_result"
    }
   ],
   "source": [
    "val t1 = Node(4, Leaf, Leaf)\n",
    "val t2 = Node(8, t1, Leaf)\n",
    "val t3 = Node(9, t1, t2)"
   ]
  },
  {
   "cell_type": "markdown",
   "metadata": {},
   "source": [
    "$$\\begin{array}{rcc}\n",
    "\\textbf{Expr} & \\rightarrow & Const(\\textbf{Double}) \\\\\n",
    "& |  & Ident(\\textbf{Identifier}) \\\\\n",
    "& | & Plus( \\textbf{Expr}, \\textbf{Expr}) \\\\\n",
    "& | & Minus( \\textbf{Expr}, \\textbf{Expr}) \\\\\n",
    "& | & Mult(\\textbf{Expr}, \\textbf{Expr}) \\\\\n",
    "& | & Div(\\textbf{Expr}, \\textbf{Expr}) \\\\\n",
    "& | & Log(\\textbf{Expr}) \\\\\n",
    "& | & Exp(\\textbf{Expr}) \\\\\n",
    "& | & Sine(\\textbf{Expr}) \\\\\n",
    "& | & Cosine(\\textbf{Expr}) \\\\\\\\\n",
    "\\textbf{Double} & \\rightarrow & \\cdots\\ |\\  -2\\ |\\ -1\\ |\\ 0\\ |\\ 1\\ |\\ 2\\ |\\ \\cdots \\\\\n",
    "\\textbf{Identifier} & \\rightarrow & [a-z\\ A-Z][a-z\\ A-Z\\ 0-9\\ \\_]*\n",
    "\\end{array}$$"
   ]
  },
  {
   "cell_type": "code",
   "execution_count": 4,
   "metadata": {},
   "outputs": [
    {
     "data": {
      "text/plain": [
       "defined \u001b[32mtrait\u001b[39m \u001b[36mExpr\u001b[39m\n",
       "defined \u001b[32mtype\u001b[39m \u001b[36mIdentifier\u001b[39m\n",
       "defined \u001b[32mclass\u001b[39m \u001b[36mConst\u001b[39m\n",
       "defined \u001b[32mclass\u001b[39m \u001b[36mIdent\u001b[39m\n",
       "defined \u001b[32mclass\u001b[39m \u001b[36mPlus\u001b[39m\n",
       "defined \u001b[32mclass\u001b[39m \u001b[36mMinus\u001b[39m\n",
       "defined \u001b[32mclass\u001b[39m \u001b[36mMult\u001b[39m\n",
       "defined \u001b[32mclass\u001b[39m \u001b[36mLog\u001b[39m"
      ]
     },
     "execution_count": 4,
     "metadata": {},
     "output_type": "execute_result"
    }
   ],
   "source": [
    "sealed trait Expr \n",
    "type Identifier = String\n",
    "\n",
    "case class Const(d: Double) extends Expr \n",
    "case class Ident(name: Identifier) extends Expr \n",
    "case class Plus(e1: Expr, e2: Expr) extends Expr // \"e1 + e2\"\n",
    "case class Minus(e1:Expr, e2: Expr) extends Expr \n",
    "case class Mult(e1:Expr, e2: Expr) extends Expr \n",
    "case class Log(e: Expr) extends Expr "
   ]
  },
  {
   "cell_type": "code",
   "execution_count": 9,
   "metadata": {},
   "outputs": [
    {
     "data": {
      "text/plain": [
       "\u001b[36mvx\u001b[39m: \u001b[32mIdent\u001b[39m = \u001b[33mIdent\u001b[39m(name = \u001b[32m\"x\"\u001b[39m)\n",
       "\u001b[36mvy\u001b[39m: \u001b[32mIdent\u001b[39m = \u001b[33mIdent\u001b[39m(name = \u001b[32m\"y\"\u001b[39m)\n",
       "\u001b[36mxy\u001b[39m: \u001b[32mMult\u001b[39m = \u001b[33mMult\u001b[39m(e1 = \u001b[33mIdent\u001b[39m(name = \u001b[32m\"x\"\u001b[39m), e2 = \u001b[33mIdent\u001b[39m(name = \u001b[32m\"y\"\u001b[39m))\n",
       "\u001b[36mm\u001b[39m: \u001b[32mMinus\u001b[39m = \u001b[33mMinus\u001b[39m(\n",
       "  e1 = \u001b[33mIdent\u001b[39m(name = \u001b[32m\"x\"\u001b[39m),\n",
       "  e2 = \u001b[33mMult\u001b[39m(e1 = \u001b[33mConst\u001b[39m(d = \u001b[32m2.0\u001b[39m), e2 = \u001b[33mIdent\u001b[39m(name = \u001b[32m\"y\"\u001b[39m))\n",
       ")\n",
       "\u001b[36mfin\u001b[39m: \u001b[32mLog\u001b[39m = \u001b[33mLog\u001b[39m(\n",
       "  e = \u001b[33mMinus\u001b[39m(\n",
       "    e1 = \u001b[33mMult\u001b[39m(e1 = \u001b[33mIdent\u001b[39m(name = \u001b[32m\"x\"\u001b[39m), e2 = \u001b[33mIdent\u001b[39m(name = \u001b[32m\"y\"\u001b[39m)),\n",
       "    e2 = \u001b[33mMinus\u001b[39m(\n",
       "      e1 = \u001b[33mIdent\u001b[39m(name = \u001b[32m\"x\"\u001b[39m),\n",
       "      e2 = \u001b[33mMult\u001b[39m(e1 = \u001b[33mConst\u001b[39m(d = \u001b[32m2.0\u001b[39m), e2 = \u001b[33mIdent\u001b[39m(name = \u001b[32m\"y\"\u001b[39m))\n",
       "    )\n",
       "  )\n",
       ")"
      ]
     },
     "execution_count": 9,
     "metadata": {},
     "output_type": "execute_result"
    }
   ],
   "source": [
    "// log( x * y + (x - 2 * y))\n",
    "val vx = Ident(\"x\")\n",
    "val vy = Ident(\"y\")\n",
    "val xy = Mult(Ident(\"x\"), Ident(\"y\"))\n",
    "val m = Minus(vx, Mult(Const(2.0), vy))\n",
    "val fin = Log(Minus(xy, m))"
   ]
  },
  {
   "cell_type": "code",
   "execution_count": 27,
   "metadata": {},
   "outputs": [
    {
     "data": {
      "text/plain": [
       "defined \u001b[32mtrait\u001b[39m \u001b[36mNatNum\u001b[39m\n",
       "defined \u001b[32mobject\u001b[39m \u001b[36mZ\u001b[39m\n",
       "defined \u001b[32mclass\u001b[39m \u001b[36mSucc\u001b[39m"
      ]
     },
     "execution_count": 27,
     "metadata": {},
     "output_type": "execute_result"
    }
   ],
   "source": [
    "//Visitor pattern\n",
    "sealed trait NatNum {\n",
    "    def minusOne(): NatNum\n",
    "    def addNum(n2: NatNum): NatNum\n",
    "}\n",
    "// n1.addNum(n2)\n",
    "case object Z extends NatNum {\n",
    "    def minusOne(): NatNum = {throw new IllegalArgumentException(\"Can't subtract from Zero!\")}\n",
    "    def addNum(n2: NatNum): NatNum = { n2 }\n",
    "}\n",
    "case class Succ(n: NatNum) extends NatNum {\n",
    "    def minusOne(): NatNum = { n }\n",
    "    def addNum(n2: NatNum):NatNum = { n.addNum(Succ(n2))}\n",
    "}"
   ]
  },
  {
   "cell_type": "code",
   "execution_count": 28,
   "metadata": {},
   "outputs": [
    {
     "data": {
      "text/plain": [
       "\u001b[36mone\u001b[39m: \u001b[32mSucc\u001b[39m = \u001b[33mSucc\u001b[39m(n = Z)\n",
       "\u001b[36mtwo\u001b[39m: \u001b[32mSucc\u001b[39m = \u001b[33mSucc\u001b[39m(n = \u001b[33mSucc\u001b[39m(n = Z))\n",
       "\u001b[36mres27_2\u001b[39m: \u001b[32mNatNum\u001b[39m = \u001b[33mSucc\u001b[39m(n = \u001b[33mSucc\u001b[39m(n = \u001b[33mSucc\u001b[39m(n = \u001b[33mSucc\u001b[39m(n = Z))))"
      ]
     },
     "execution_count": 28,
     "metadata": {},
     "output_type": "execute_result"
    }
   ],
   "source": [
    "val one = Succ(Z)\n",
    "val two = Succ(one)\n",
    "two.addNum(two)"
   ]
  },
  {
   "cell_type": "code",
   "execution_count": 19,
   "metadata": {},
   "outputs": [
    {
     "ename": "",
     "evalue": "",
     "output_type": "error",
     "traceback": [
      "\u001b[31mjava.lang.IllegalArgumentException: Can't subtract from Zero!\u001b[39m\n  ammonite.$sess.cmd12$Helper$Z$.minusOne(\u001b[32mcmd12.sc\u001b[39m:\u001b[32m5\u001b[39m)\n  ammonite.$sess.cmd18$Helper.<init>(\u001b[32mcmd18.sc\u001b[39m:\u001b[32m2\u001b[39m)\n  ammonite.$sess.cmd18$.<clinit>(\u001b[32mcmd18.sc\u001b[39m:\u001b[32m7\u001b[39m)"
     ]
    }
   ],
   "source": [
    "// minusOne(n: NatNum) \n",
    "// Succ(inner) -> inner\n",
    "// Z -> throw an error \n",
    "\n",
    "two.minusOne()\n",
    "Z.minusOne()"
   ]
  },
  {
   "cell_type": "code",
   "execution_count": 20,
   "metadata": {},
   "outputs": [
    {
     "data": {
      "text/plain": [
       "defined \u001b[32mfunction\u001b[39m \u001b[36mminusOne\u001b[39m"
      ]
     },
     "execution_count": 20,
     "metadata": {},
     "output_type": "execute_result"
    }
   ],
   "source": [
    "// Case Pattern Matching \n",
    "def minusOne(n: NatNum): NatNum = {\n",
    "    n match {\n",
    "        case Z => {throw new IllegalArgumentException(\"Can't subtract from Zero!\")}\n",
    "        case Succ(innerNat) => innerNat\n",
    "    }\n",
    "}"
   ]
  },
  {
   "cell_type": "code",
   "execution_count": 23,
   "metadata": {},
   "outputs": [
    {
     "data": {
      "text/plain": [
       "\u001b[36mres22\u001b[39m: \u001b[32mNatNum\u001b[39m = \u001b[33mSucc\u001b[39m(n = Z)"
      ]
     },
     "execution_count": 23,
     "metadata": {},
     "output_type": "execute_result"
    }
   ],
   "source": [
    "minusOne(two)"
   ]
  },
  {
   "cell_type": "code",
   "execution_count": 24,
   "metadata": {},
   "outputs": [
    {
     "data": {
      "text/plain": [
       "defined \u001b[32mfunction\u001b[39m \u001b[36maddNum\u001b[39m"
      ]
     },
     "execution_count": 24,
     "metadata": {},
     "output_type": "execute_result"
    }
   ],
   "source": [
    "def addNum(n1: NatNum, n2: NatNum): NatNum = {\n",
    "    n1 match {\n",
    "        case Z => n2 \n",
    "        case Succ(n1Inner) => addNum(n1Inner, Succ(n2))\n",
    "    }\n",
    "}"
   ]
  },
  {
   "cell_type": "code",
   "execution_count": 26,
   "metadata": {},
   "outputs": [
    {
     "data": {
      "text/plain": [
       "\u001b[36mres25\u001b[39m: \u001b[32mNatNum\u001b[39m = \u001b[33mSucc\u001b[39m(n = \u001b[33mSucc\u001b[39m(n = \u001b[33mSucc\u001b[39m(n = \u001b[33mSucc\u001b[39m(n = \u001b[33mSucc\u001b[39m(n = Z)))))"
      ]
     },
     "execution_count": 26,
     "metadata": {},
     "output_type": "execute_result"
    }
   ],
   "source": [
    "addNum(two, Succ(two))"
   ]
  },
  {
   "cell_type": "code",
   "execution_count": 29,
   "metadata": {},
   "outputs": [
    {
     "data": {
      "text/plain": [
       "defined \u001b[32mtrait\u001b[39m \u001b[36mMyList\u001b[39m\n",
       "defined \u001b[32mobject\u001b[39m \u001b[36mEmptyList\u001b[39m\n",
       "defined \u001b[32mclass\u001b[39m \u001b[36mCons\u001b[39m"
      ]
     },
     "execution_count": 29,
     "metadata": {},
     "output_type": "execute_result"
    }
   ],
   "source": [
    "sealed trait MyList \n",
    "case object EmptyList extends MyList \n",
    "case class Cons(i: Int, tail: MyList) extends MyList "
   ]
  },
  {
   "cell_type": "code",
   "execution_count": 30,
   "metadata": {},
   "outputs": [
    {
     "data": {
      "text/plain": [
       "\u001b[36mlst1\u001b[39m: \u001b[32mCons\u001b[39m = \u001b[33mCons\u001b[39m(\n",
       "  i = \u001b[32m1\u001b[39m,\n",
       "  tail = \u001b[33mCons\u001b[39m(i = \u001b[32m3\u001b[39m, tail = \u001b[33mCons\u001b[39m(i = \u001b[32m-5\u001b[39m, tail = EmptyList))\n",
       ")\n",
       "\u001b[36mlst2\u001b[39m: \u001b[32mCons\u001b[39m = \u001b[33mCons\u001b[39m(\n",
       "  i = \u001b[32m2\u001b[39m,\n",
       "  tail = \u001b[33mCons\u001b[39m(i = \u001b[32m4\u001b[39m, tail = \u001b[33mCons\u001b[39m(i = \u001b[32m6\u001b[39m, tail = \u001b[33mCons\u001b[39m(i = \u001b[32m8\u001b[39m, tail = EmptyList)))\n",
       ")"
      ]
     },
     "execution_count": 30,
     "metadata": {},
     "output_type": "execute_result"
    }
   ],
   "source": [
    "val lst1 = Cons(1, Cons(3, Cons(-5, EmptyList)))\n",
    "val lst2 = Cons(2, Cons(4, Cons(6, Cons(8, EmptyList))))"
   ]
  },
  {
   "cell_type": "code",
   "execution_count": 33,
   "metadata": {},
   "outputs": [
    {
     "data": {
      "text/plain": [
       "defined \u001b[32mfunction\u001b[39m \u001b[36maddOneToEveryElt\u001b[39m"
      ]
     },
     "execution_count": 33,
     "metadata": {},
     "output_type": "execute_result"
    }
   ],
   "source": [
    "def addOneToEveryElt(lst: MyList): MyList = {\n",
    "    lst match {\n",
    "        case EmptyList => EmptyList\n",
    "        case Cons(head, rest) => Cons(head+1, addOneToEveryElt(rest))\n",
    "    }\n",
    "}"
   ]
  },
  {
   "cell_type": "code",
   "execution_count": 34,
   "metadata": {},
   "outputs": [
    {
     "data": {
      "text/plain": [
       "\u001b[36mres33\u001b[39m: \u001b[32mMyList\u001b[39m = \u001b[33mCons\u001b[39m(\n",
       "  i = \u001b[32m2\u001b[39m,\n",
       "  tail = \u001b[33mCons\u001b[39m(i = \u001b[32m4\u001b[39m, tail = \u001b[33mCons\u001b[39m(i = \u001b[32m-4\u001b[39m, tail = EmptyList))\n",
       ")"
      ]
     },
     "execution_count": 34,
     "metadata": {},
     "output_type": "execute_result"
    }
   ],
   "source": [
    "addOneToEveryElt(lst1)"
   ]
  },
  {
   "cell_type": "code",
   "execution_count": 35,
   "metadata": {},
   "outputs": [
    {
     "data": {
      "text/plain": [
       "defined \u001b[32mfunction\u001b[39m \u001b[36misListAscending\u001b[39m"
      ]
     },
     "execution_count": 35,
     "metadata": {},
     "output_type": "execute_result"
    }
   ],
   "source": [
    "def isListAscending(lst: MyList): Boolean = {\n",
    "    lst match{\n",
    "        case EmptyList => true\n",
    "        case Cons(head, tail) => {\n",
    "            tail match {\n",
    "                case EmptyList => true\n",
    "                case Cons(head2, tail2) => {\n",
    "                    if( head2 <= head) {false}\n",
    "                    else{ isListAscending(tail)} //not tail2! \n",
    "                }\n",
    "            }\n",
    "        }\n",
    "    }\n",
    "}"
   ]
  },
  {
   "cell_type": "code",
   "execution_count": 37,
   "metadata": {},
   "outputs": [
    {
     "data": {
      "text/plain": [
       "\u001b[36mres36\u001b[39m: \u001b[32mBoolean\u001b[39m = true"
      ]
     },
     "execution_count": 37,
     "metadata": {},
     "output_type": "execute_result"
    }
   ],
   "source": [
    "isListAscending(lst2)"
   ]
  },
  {
   "cell_type": "code",
   "execution_count": 44,
   "metadata": {},
   "outputs": [
    {
     "data": {
      "text/plain": [
       "defined \u001b[32mfunction\u001b[39m \u001b[36misListAscending\u001b[39m"
      ]
     },
     "execution_count": 44,
     "metadata": {},
     "output_type": "execute_result"
    }
   ],
   "source": [
    "def isListAscending(lst:MyList): Boolean = {\n",
    "    lst match {\n",
    "        case EmptyList => true\n",
    "        case Cons(head, EmptyList) => true\n",
    "        case Cons(head, tail@Cons(head2, tail2)) => {\n",
    "            if (head2 <= head) {false}\n",
    "            else {isListAscending(tail)}\n",
    "        }\n",
    "        case _ => throw new IllegalArgumentException(\"Shouldn't be here!\")\n",
    "    }\n",
    "}"
   ]
  },
  {
   "cell_type": "code",
   "execution_count": 45,
   "metadata": {},
   "outputs": [
    {
     "data": {
      "text/plain": [
       "\u001b[36mres44\u001b[39m: \u001b[32mBoolean\u001b[39m = true"
      ]
     },
     "execution_count": 45,
     "metadata": {},
     "output_type": "execute_result"
    }
   ],
   "source": [
    "isListAscending(Cons(1, EmptyList))"
   ]
  },
  {
   "cell_type": "code",
   "execution_count": 51,
   "metadata": {},
   "outputs": [
    {
     "data": {
      "text/plain": [
       "defined \u001b[32mfunction\u001b[39m \u001b[36misListAscending\u001b[39m"
      ]
     },
     "execution_count": 51,
     "metadata": {},
     "output_type": "execute_result"
    }
   ],
   "source": [
    "//Qualifications\n",
    "def isListAscending(lst:MyList): Boolean = {\n",
    "    lst match {\n",
    "        case EmptyList => true\n",
    "        case Cons(_ , EmptyList) => true\n",
    "        case Cons(head, Cons(head2, _)) if head2 <= head => false\n",
    "        case Cons(_, tail) => isListAscending(tail)\n",
    "        case _ => throw new IllegalArgumentException(\"Shouldn't be here!\")\n",
    "    }\n",
    "}"
   ]
  },
  {
   "cell_type": "code",
   "execution_count": 52,
   "metadata": {},
   "outputs": [
    {
     "data": {
      "text/plain": [
       "\u001b[36mres51\u001b[39m: \u001b[32mBoolean\u001b[39m = true"
      ]
     },
     "execution_count": 52,
     "metadata": {},
     "output_type": "execute_result"
    }
   ],
   "source": [
    "isListAscending(lst2)"
   ]
  },
  {
   "cell_type": "code",
   "execution_count": 2,
   "metadata": {},
   "outputs": [
    {
     "data": {
      "text/plain": [
       "defined \u001b[32mfunction\u001b[39m \u001b[36misListAscending\u001b[39m"
      ]
     },
     "execution_count": 2,
     "metadata": {},
     "output_type": "execute_result"
    }
   ],
   "source": [
    "// EmptyList => Nil\n",
    "// Cons(head, tail) => head :: tail \n",
    "\n",
    "def isListAscending(lst: List[Int]): Boolean = {\n",
    "    lst match {\n",
    "        case Nil => true\n",
    "        case _ :: Nil => true \n",
    "        case head :: head2 :: _ if head2 <= head => false \n",
    "        case _ :: tail => isListAscending(tail)\n",
    "        case _ => throw new IllegalArgumentException(\"no\")\n",
    "    }\n",
    "}"
   ]
  },
  {
   "cell_type": "code",
   "execution_count": 4,
   "metadata": {},
   "outputs": [
    {
     "data": {
      "text/plain": [
       "\u001b[36mres3\u001b[39m: \u001b[32mBoolean\u001b[39m = false"
      ]
     },
     "execution_count": 4,
     "metadata": {},
     "output_type": "execute_result"
    }
   ],
   "source": [
    "isListAscending(List(1,2,3,1))"
   ]
  },
  {
   "cell_type": "code",
   "execution_count": null,
   "metadata": {},
   "outputs": [],
   "source": []
  }
 ],
 "metadata": {
  "kernelspec": {
   "display_name": "Scala",
   "language": "scala",
   "name": "scala"
  },
  "language_info": {
   "codemirror_mode": "text/x-scala",
   "file_extension": ".sc",
   "mimetype": "text/x-scala",
   "name": "scala",
   "nbconvert_exporter": "script",
   "version": "2.13.5"
  }
 },
 "nbformat": 4,
 "nbformat_minor": 4
}
