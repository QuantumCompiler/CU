{
 "cells": [
  {
   "cell_type": "markdown",
   "metadata": {},
   "source": [
    "# Spencer Supplemental on Parsing\n",
    "I was looking through the paring notes and I need to practice my own little language to understand these. So, I typed that up. I figured why not share it with you all and put it in a JN\n",
    "\n",
    "You’ll notice below that the syntax for a parser is quite advanced. Don’t worry about it right now. We are not going to write one of these **yet** - we’ll do that toward the end of the course.\n",
    "\n",
    "You’ll note that this does not explain **why** these steps are taken. That is quite intentional. I want you to have this reference of what is done without worrying about why it works\n",
    "\n",
    "I've also posted my code as a stand alone file that includes tests. The file is named \"pythonicBooleanAlgebra.scala\""
   ]
  },
  {
   "cell_type": "markdown",
   "metadata": {},
   "source": [
    "## High level overview\n",
    "* We define an object language\n",
    "* We define a generative grammar\n",
    "* We implement a class definition in Scala – guided by the generative \n",
    "* We define precedence of thing within the language\n",
    "* We derive a parsing grammar – guided by the generative grammar and the precedence\n",
    "* We implement a parser – guided by the parsing grammar and the definition of the object language\n",
    "* We define behavior of operations within the language\n",
    "* Maybe we bother to write inference rules – not shown in this document\n",
    "* We implement an interpreter – guided by inference rules of the operator’s behaviors"
   ]
  },
  {
   "cell_type": "markdown",
   "metadata": {},
   "source": [
    "### Object Language\n",
    "* The **object language** is the thing I wish to describe. This could be literally any set you can imagine.\n",
    "* Today I want to look at some simple Boolean algebra, so this could be an acceptable grammar:\n",
    "    * S &RightArrow; T | ~S | S&&S | S||S | (S)\n",
    "    * T &RightArrow; 0 | 1\n",
    "* But I don’t love that one. Instead I’ll use a subset of python: \n",
    "    * S &RightArrow;  T | not S | S and S | S or S | (S)\n",
    "    * T &RightArrow; True | False\n",
    "* If we prefer we could write it in one line, but I don’t feel like it. Here is an example of that method:\n",
    "    * S &RightArrow;  True | False | not S | S and S | S or S | (S)"
   ]
  },
  {
   "cell_type": "markdown",
   "metadata": {},
   "source": [
    "### Generative Grammar\n",
    "* object language grammar:\n",
    "    * S &RightArrow;  T | not S | S and S | S or S | (S)\n",
    "    * T &RightArrow; True | False\n",
    "* generative grammar: \n",
    "\t* CondExpr &RightArrow; Bool | Not(CondExpr) | And(CondExpr, CondExpr) | Or(CondExpr, CondExpr)\n",
    "\t* Bool &RightArrow; ConstTrue | ConstFalse\n",
    "* Observations:\n",
    "\t* the (S) is not shown in the generative grammar, it is not needed… "
   ]
  },
  {
   "cell_type": "markdown",
   "metadata": {},
   "source": [
    "### Scala Class\n",
    "* my generative grammar: \n",
    "\t* CondExpr &RightArrow; Bool | Not(CondExpr) | And(CondExpr, CondExpr) | Or(CondExpr, CondExpr)\n",
    "\t* Bool &RightArrow; ConstTrue | ConstFalse\n",
    "* My Class"
   ]
  },
  {
   "cell_type": "code",
   "execution_count": 2,
   "metadata": {
    "collapsed": false
   },
   "outputs": [
    {
     "data": {
      "text/plain": [
       "defined \u001b[32mtrait\u001b[39m \u001b[36mCondExpr\u001b[39m\n",
       "defined \u001b[32mtrait\u001b[39m \u001b[36mBool\u001b[39m\n",
       "defined \u001b[32mobject\u001b[39m \u001b[36mConstTrue\u001b[39m\n",
       "defined \u001b[32mobject\u001b[39m \u001b[36mConstFalse\u001b[39m\n",
       "defined \u001b[32mclass\u001b[39m \u001b[36mNot\u001b[39m\n",
       "defined \u001b[32mclass\u001b[39m \u001b[36mOr\u001b[39m\n",
       "defined \u001b[32mclass\u001b[39m \u001b[36mAnd\u001b[39m"
      ]
     },
     "execution_count": 2,
     "metadata": {},
     "output_type": "execute_result"
    }
   ],
   "source": [
    "sealed trait CondExpr\n",
    "sealed trait Bool extends CondExpr\n",
    "case object ConstTrue extends Bool\n",
    "case object ConstFalse extends Bool\n",
    "case class Not(c1:CondExpr) extends CondExpr\n",
    "case class Or(c1:CondExpr, c2:CondExpr) extends CondExpr\n",
    "case class And(c1:CondExpr, c2:CondExpr) extends CondExpr"
   ]
  },
  {
   "cell_type": "markdown",
   "metadata": {},
   "source": [
    "### Precedence\n",
    "* It is entirely your choice how you will define precedence. Today I want to mimic the behavior of python so my precedence will be defined as follows:\n",
    "* python / general\n",
    "* our constants, “True” and “False” have the highest precedence\n",
    "* parentheses heighten the precedence of whatever they encapsulated\n",
    "* unary operator typically have higher precedence than binary operators\n",
    "* relative precedence\n",
    "* {True, False} > {()} > {not} > {or, and}"
   ]
  },
  {
   "cell_type": "markdown",
   "metadata": {},
   "source": [
    "### Parsing grammars\n",
    "* object langauge grammar:\n",
    "    * S &RightArrow;  T | not S | S and S | S or S | (S)\n",
    "    * T &RightArrow; True | False\n",
    "* precedence:\n",
    "    * {True, False} > {()} > {not} > {or, and}\n",
    "* parsing grammar\n",
    "\t* expr &RightArrow; binary\n",
    "\t* binary &RightArrow; unary | unary and binary | unary or binary\n",
    "\t* unary &RightArrow; atom | not unary\n",
    "\t* atom &RightArrow; bool | (expr)\n",
    "\t* bool &RightArrow; True | False\n",
    "* Observations:\n",
    "    * It has the start symbol **expr**\n",
    "    * It has a chaining structure to it\n",
    "    * the things with a high precedence are lower in the chaining structure, and would be lower in the parse tree.\n",
    "    * We write a parsing grammar – guided by the generative grammar and the precedence"
   ]
  },
  {
   "cell_type": "markdown",
   "metadata": {},
   "source": [
    "### Parser\n",
    "* generative grammar\n",
    "\t* CondExpr &RightArrow; Bool | Not(CondExpr) | And(CondExpr, CondExpr) | Or(CondExpr, CondExpr)\n",
    "\t* Bool &RightArrow; ConstTrue | ConstFalse\n",
    "* parsing grammar\n",
    "\t* expr &RightArrow; binary\n",
    "\t* binary &RightArrow; unary and binary | unary or binary | unary\n",
    "\t* unary &RightArrow; atom | not unary\n",
    "\t* atom &RightArrow; bool | (expr)\n",
    "\t* bool &RightArrow; True | False\n",
    "* parser:\n",
    "    * works on my machine, but not working on JN right now\n",
    "    * Something to do with the combinator library\n"
   ]
  },
  {
   "cell_type": "code",
   "execution_count": 2,
   "metadata": {
    "collapsed": false
   },
   "outputs": [
    {
     "name": "stderr",
     "output_type": "stream",
     "text": [
      "cmd2.sc:1: object parsing is not a member of package util\n",
      "import scala.util.parsing.combinator._\n",
      "                  ^cmd2.sc:2: not found: type RegexParsers\n",
      "class CondExprParser extends RegexParsers {\n",
      "                             ^cmd2.sc:3: not found: type Parser\n",
      "    def expr:Parser[CondExpr] = binary\n",
      "             ^cmd2.sc:4: not found: type Parser\n",
      "    def binary:Parser[CondExpr] = {\n",
      "               ^cmd2.sc:14: not found: type Parser\n",
      "    def unary:Parser[CondExpr] = {\n",
      "              ^cmd2.sc:19: not found: type Parser\n",
      "    def atom:Parser[CondExpr] = {\n",
      "             ^cmd2.sc:16: value ~> is not a member of String\n",
      "        val opt2 = (\"not\" ~> atom) ^^ { Not(_) }\n",
      "                          ^cmd2.sc:24: not found: type Parser\n",
      "    def bool:Parser[CondExpr] = {\n",
      "             ^cmd2.sc:21: value ~> is not a member of String\n",
      "        val opt2 = (\"(\" ~> expr) <~ \")\"\n",
      "                        ^cmd2.sc:25: value ^^ is not a member of String\n",
      "        val opt1 = \"True\" ^^ { _ => ConstTrue }\n",
      "                          ^cmd2.sc:26: value ^^ is not a member of String\n",
      "        val opt2 = \"False\" ^^ { _ => ConstFalse }\n",
      "                           ^Compilation Failed"
     ]
    },
    {
     "ename": "",
     "evalue": "",
     "output_type": "error",
     "traceback": [
      "Compilation Failed"
     ]
    }
   ],
   "source": [
    "import scala.util.parsing.combinator._\n",
    "class CondExprParser extends RegexParsers {\n",
    "    def expr:Parser[CondExpr] = binary\n",
    "    def binary:Parser[CondExpr] = {\n",
    "        val opt1 = (unary <~ \"and\") ~ binary ^^ {\n",
    "            case e1 ~ e2 => And(e1, e2)\n",
    "        }\n",
    "        val opt2 = (unary <~ \"or\") ~ binary ^^ {\n",
    "            case e1 ~ e2 => Or(e1,e2)\n",
    "        }\n",
    "        val opt3 = unary\n",
    "        opt1 | opt2 | opt3  // this order counts... GRRRRR\n",
    "    }\n",
    "    def unary:Parser[CondExpr] = {\n",
    "        val opt1 = atom\n",
    "        val opt2 = (\"not\" ~> atom) ^^ { Not(_) }\n",
    "        opt1 | opt2\n",
    "    }\n",
    "    def atom:Parser[CondExpr] = {\n",
    "        val opt1 = bool\n",
    "        val opt2 = (\"(\" ~> expr) <~ \")\"\n",
    "        opt1 | opt2\n",
    "    }\n",
    "    def bool:Parser[CondExpr] = {\n",
    "        val opt1 = \"True\" ^^ { _ => ConstTrue }\n",
    "        val opt2 = \"False\" ^^ { _ => ConstFalse }\n",
    "        opt1 | opt2\n",
    "    }\n",
    "}"
   ]
  },
  {
   "cell_type": "markdown",
   "metadata": {},
   "source": [
    "### Operations Behavior\n",
    "I learned this with inference rules. I don’t yet know how we’ll cover it this semester. I don’t know how to typeset them well. But here are my inference rules\n",
    "\n",
    "* OS1: bool = ! bool\n",
    "\t* R1\n",
    "\t\t* C: ConstFalse = !ConstTrue\n",
    "\t* R2\n",
    "\t\t* C: ConstTrue = !ConstFalse\n",
    "* OS2: bool = bool && bool\n",
    "    * R1\n",
    "        * P1: bool1 &in; { ConstFalse } OR bool2 &in; { ConstFalse }\n",
    "        * C: ConstFalse = bool1 && bool2\n",
    "    * R2\n",
    "        * P1: bool1 &in; { ConstTrue } AND bool2 &in; { ConstTrue }\n",
    "        * C: ConstTrue = bool1 && bool2\n",
    "* OS2: bool = bool || bool\n",
    "    * R1\n",
    "        * P1: bool1 &in; { ConstTrue } OR bool2 &in; { ConstTrue}\n",
    "        * C: ConstTrue = bool1 || bool2\n",
    "    * R2\n",
    "        * P1: bool2 not in { ConstTrue } and bool2 not in { ConstTrue }\n",
    "        * C: ConstFalse = bool1 || bool2\n",
    "* OS3: bool = expr.eval()\n",
    "    * R1: \n",
    "        * C: bool = bool.eval()\n",
    "    * R2:\n",
    "        * P1: bool1 = expr1.eval()\n",
    "        * P2: bool<sub>out</sub> = !bool1\n",
    "        * C: bool<sub>out</sub> = !expr1.eval()\n",
    "    * R3: \n",
    "        * P1: bool1 = expr1.eval()\n",
    "        * P2: bool2 = expr2.eval()\n",
    "        * P3: bool<sub>out</sub> = bool1 && bool2\n",
    "        * C: bool<sub>out</sub> = And(expr1, expr2).eval()\n",
    "    * R4: \n",
    "        * P1: bool1 = expr1.eval()\n",
    "        * P2: bool2 = expr2.eval()\n",
    "        * P3: bool<sub>out</sub> = bool1 || bool2\n",
    "        * C: bool<sub>out</sub> = And(expr1, expr2).eval()"
   ]
  },
  {
   "cell_type": "markdown",
   "metadata": {},
   "source": [
    "### Interpreter\n",
    "I’ve commented this interpreter… to show the mapping to the operational semantics (op) and the Rules (r) in from above\n"
   ]
  },
  {
   "cell_type": "code",
   "execution_count": 3,
   "metadata": {
    "collapsed": false
   },
   "outputs": [
    {
     "data": {
      "text/plain": [
       "defined \u001b[32mtrait\u001b[39m \u001b[36mCondExpr\u001b[39m\n",
       "defined \u001b[32mtrait\u001b[39m \u001b[36mBool\u001b[39m\n",
       "defined \u001b[32mobject\u001b[39m \u001b[36mConstTrue\u001b[39m\n",
       "defined \u001b[32mobject\u001b[39m \u001b[36mConstFalse\u001b[39m\n",
       "defined \u001b[32mclass\u001b[39m \u001b[36mNot\u001b[39m\n",
       "defined \u001b[32mclass\u001b[39m \u001b[36mOr\u001b[39m\n",
       "defined \u001b[32mclass\u001b[39m \u001b[36mAnd\u001b[39m"
      ]
     },
     "execution_count": 3,
     "metadata": {},
     "output_type": "execute_result"
    }
   ],
   "source": [
    "sealed trait CondExpr {\n",
    "    // op4\n",
    "    def eval():Bool = this match {\n",
    "        // r1\n",
    "        case b:Bool => b\n",
    "        // r2\n",
    "        case Not(c1) => !c1.eval()  // could use (c1 eval but that is discouraged)\n",
    "        // r3\n",
    "        case And(c1, c2) => c1.eval() && c2.eval()\n",
    "        // r4\n",
    "        case Or(c1, c2) => c1.eval() || c2.eval()\n",
    "    }\n",
    "}\n",
    "sealed trait Bool extends CondExpr {\n",
    "    // prefix \"unary_\" allows us to prefix the method\n",
    "    // so we can say (! b) rather than (b !)\n",
    "    // op1\n",
    "    def unary_!():Bool = this match {\n",
    "        // r1\n",
    "        case ConstTrue => ConstFalse\n",
    "        // r2\n",
    "        case ConstFalse => ConstTrue\n",
    "    }\n",
    "    // op2\n",
    "    def &&(b2:Bool):Bool = (this, b2) match {\n",
    "        // r1\n",
    "        case (ConstFalse,_) | (_,ConstFalse) => ConstFalse\n",
    "        // r2\n",
    "        case (ConstTrue, ConstTrue) => ConstTrue\n",
    "    }\n",
    "    // op3\n",
    "    def ||(b2:Bool):Bool = (this, b2) match {\n",
    "        // r1\n",
    "        case (ConstTrue,_) | (_,ConstTrue) => ConstTrue\n",
    "        // r2\n",
    "        case (ConstFalse, ConstFalse) => ConstFalse\n",
    "    }\n",
    "}\n",
    "case object ConstTrue extends Bool\n",
    "case object ConstFalse extends Bool\n",
    "case class Not(c1:CondExpr) extends CondExpr\n",
    "case class Or(c1:CondExpr, c2:CondExpr) extends CondExpr\n",
    "case class And(c1:CondExpr, c2:CondExpr) extends CondExpr"
   ]
  }
 ],
 "metadata": {
  "anaconda-cloud": {},
  "kernelspec": {
   "display_name": "Scala",
   "language": "scala",
   "name": "scala"
  },
  "language_info": {
   "codemirror_mode": "text/x-scala",
   "file_extension": ".scala",
   "mimetype": "text/x-scala",
   "name": "scala",
   "nbconvert_exporter": "script",
   "version": "2.12.8"
  }
 },
 "nbformat": 4,
 "nbformat_minor": 1
}
