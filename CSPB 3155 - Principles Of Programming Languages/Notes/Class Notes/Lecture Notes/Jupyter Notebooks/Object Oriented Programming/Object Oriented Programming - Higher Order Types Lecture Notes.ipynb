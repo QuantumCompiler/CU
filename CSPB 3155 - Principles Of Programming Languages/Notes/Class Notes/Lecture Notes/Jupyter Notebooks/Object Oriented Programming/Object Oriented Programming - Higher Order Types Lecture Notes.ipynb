{
 "cells": [
  {
   "cell_type": "markdown",
   "metadata": {},
   "source": [
    "# Higher-Order Types\n",
    "Types are a useful tool to keep programs organized and avoid certain kind of errors.\n",
    "\n",
    "Higher-order types extend the idea of types in a fairly intuitive way given the first-class nature of functions in functional programming, but can be confusing to look at and takes some getting used to.\n",
    "\n",
    "We will be looking at types in both Scala and Lettuce, starting simple and working our way up to complex, higher-order types.\n",
    "\n",
    "First, let's just get a type checker for Lettuce going. Don't worry about how this code works for now."
   ]
  },
  {
   "cell_type": "code",
   "execution_count": null,
   "metadata": {},
   "outputs": [],
   "source": [
    "sealed trait Type\n",
    "case object NumType extends Type\n",
    "case object BoolType extends Type\n",
    "case class FunType(t1: Type, t2: Type) extends Type\n",
    "\n",
    "sealed trait Program\n",
    "sealed trait Expr\n",
    "\n",
    "case class Const(f: Double) extends Expr\n",
    "case class Ident(s: String) extends Expr\n",
    "case class Plus(e1: Expr, e2: Expr) extends Expr\n",
    "case class Minus(e1: Expr, e2: Expr) extends Expr\n",
    "case class Geq(e1: Expr, e2: Expr) extends Expr\n",
    "case class IfThenElse(e1: Expr, e2: Expr, e3: Expr) extends Expr\n",
    "case class Let(x: String, xType: Type, e1: Expr, e2: Expr) extends Expr\n",
    "case class FunDef(id: String, idType: Type, e: Expr) extends Expr\n",
    "case class FunCall(calledFun: Expr, argExpr: Expr) extends Expr\n",
    "case class TopLevel(e: Expr) extends Program\n",
    "\n",
    "def typeEquals(t1: Type, t2: Type): Boolean = t1 == t2\n",
    "case class TypeErrorException(s: String) extends Exception\n",
    "\n",
    "def typeOf(e: Expr, alpha: Map[String, Type]): Type = {\n",
    "    def checkType(opName: String, e1: Expr, t1: Type, e2: Expr, t2: Type, resType: Type): Type = {\n",
    "        val t1hat = typeOf(e1, alpha)\n",
    "        if (! typeEquals(t1hat, t1)){\n",
    "            throw new TypeErrorException(s\"Type mismatch in arithmetic/comparison/bool op $opName, Expected type $t1, obtained $t1hat\")\n",
    "        }\n",
    "        \n",
    "        val t2hat = typeOf(e2, alpha)\n",
    "        if (! typeEquals(t2hat, t2)){\n",
    "            throw new TypeErrorException(s\"Type mismatch in arithmetic/comparison/bool op $opName, Expected type $t2, obtained $t2hat\")\n",
    "        }\n",
    "        \n",
    "        resType\n",
    "    }\n",
    "    \n",
    "    e match {\n",
    "        case Const(f) => NumType\n",
    "        case Ident(s) => {if (alpha contains s)\n",
    "                             alpha(s)\n",
    "                          else \n",
    "                             throw TypeErrorException(s\"Unknown identifier $s\")}\n",
    "        case Plus(e1, e2) =>  checkType(\"Plus\", e1,  NumType, e2, NumType, NumType)\n",
    "        case Minus(e1, e2) => checkType(\"Minus\",e1,  NumType, e2, NumType, NumType)\n",
    "        case Geq(e1, e2) => checkType(\"Geq\", e1,  NumType, e2, NumType, BoolType)\n",
    "        case IfThenElse(e, e1, e2) => {\n",
    "            val t = typeOf(e, alpha)\n",
    "            if (t == BoolType){\n",
    "                val t1 = typeOf(e1, alpha)\n",
    "                val t2 = typeOf(e2, alpha)\n",
    "                if (typeEquals(t1, t2))\n",
    "                    t1\n",
    "                else \n",
    "                    throw TypeErrorException(s\"If then else returns unequal types $t1 and $t2\")\n",
    "            } else {\n",
    "                throw TypeErrorException(s\"If then else condition expression not boolean $t\")\n",
    "            }\n",
    "        }\n",
    "\n",
    "        case Let(x, t, e1, e2) => {\n",
    "            val t1 = typeOf(e1, alpha)\n",
    "            if (typeEquals(t1, t)){\n",
    "                val newAlpha = alpha + (x -> t)\n",
    "                typeOf(e2, newAlpha)\n",
    "            } else {\n",
    "                throw TypeErrorException(s\"Let binding has type $t whereas it is bound to expression of type $t1\")\n",
    "            }\n",
    "        }\n",
    "\n",
    "        case FunDef(x, t1, e) => {\n",
    "            val newAlpha = alpha + (x -> t1)\n",
    "            val t2 = typeOf(e, newAlpha)\n",
    "            FunType(t1, t2)\n",
    "        }\n",
    "\n",
    "        case FunCall(e1, e2) => {\n",
    "            val ftype = typeOf(e1, alpha)\n",
    "            ftype match {\n",
    "                case FunType(t1, t2) => {\n",
    "                    val argType = typeOf(e2, alpha)\n",
    "                    if (typeEquals(argType, t1)){\n",
    "                        t2\n",
    "                    } else {\n",
    "                        throw TypeErrorException(s\"Call to function with incompatible argument type. Expected $t1, obtained $argType\")\n",
    "                    }\n",
    "                }\n",
    "                case _ => { throw TypeErrorException(s\"Call to function but with a non function type $ftype\")}\n",
    "\n",
    "            }\n",
    "        }\n",
    "    }\n",
    "}\n",
    "\n",
    "def typeOfProgram(p: Program) = p match {\n",
    "    case TopLevel(e) => {\n",
    "            val t = typeOf(e, Map())\n",
    "            //println(s\"Program type computed successfully as $t\")\n",
    "            t\n",
    "    }\n",
    "}"
   ]
  },
  {
   "cell_type": "markdown",
   "metadata": {},
   "source": [
    "### Simple Types\n",
    "Make some Scala and Lettuce values that have the following types."
   ]
  },
  {
   "cell_type": "code",
   "execution_count": null,
   "metadata": {},
   "outputs": [],
   "source": [
    "import scala.reflect.runtime.universe.TypeTag\n",
    "def getType[A](a: A)(implicit evA: TypeTag[A]) = evA.toString\n",
    "\n",
    "//Make a Double in Scala\n",
    "val sv1 = ???\n",
    "\n",
    "assert(getType(sv1) == \"TypeTag[Double]\")\n",
    "\n",
    "//Make a Bool in Scala\n",
    "val sv2 = ???\n",
    "\n",
    "assert(getType(sv2) == \"TypeTag[Boolean]\")"
   ]
  },
  {
   "cell_type": "code",
   "execution_count": null,
   "metadata": {},
   "outputs": [],
   "source": [
    "//Make a NumType in Lettuce\n",
    "val lv1 = ???\n",
    "\n",
    "assert(typeOfProgram(TopLevel(lv1)) == NumType)\n",
    "\n",
    "//Make a BoolType in Lettuce\n",
    "val lv2 = ???\n",
    "\n",
    "assert(typeOfProgram(TopLevel(lv2)) == BoolType)"
   ]
  },
  {
   "cell_type": "markdown",
   "metadata": {},
   "source": [
    "### Functions\n",
    "Of course, we have functions in both our languages, and functions have types too.\n",
    "\n",
    "Say we have a function that takes as input a double and yields that double plus one. We say that function has type $\\mathbf{Double} \\Rightarrow \\mathbf{Double}$, or \"double to double\"."
   ]
  },
  {
   "cell_type": "code",
   "execution_count": null,
   "metadata": {},
   "outputs": [],
   "source": [
    "//Make a Double => Double in Scala\n",
    "def sf1(x:Double) =\n",
    "    ???\n",
    "\n",
    "assert(getType(sf1(_)) == \"TypeTag[Double => Double]\")\n",
    "\n",
    "//Make a Double => Double => Boolean in Scala\n",
    "def sf2(x:Double) =\n",
    "    ???\n",
    "\n",
    "assert(getType(sf2(_)) == \"TypeTag[Double => (Double => Boolean)]\")"
   ]
  },
  {
   "cell_type": "code",
   "execution_count": null,
   "metadata": {},
   "outputs": [],
   "source": [
    "//Make a NumType => NumType in Lettuce\n",
    "val lf1 =\n",
    "    ???\n",
    "\n",
    "assert(typeOfProgram(TopLevel(lf1)) == FunType(NumType, NumType))\n",
    "\n",
    "//Make a NumType => NumType => BoolType in Lettuce\n",
    "val lf2 =\n",
    "    ???\n",
    "\n",
    "assert(typeOfProgram(TopLevel(lf2)) == FunType(NumType, FunType(NumType, BoolType)))"
   ]
  },
  {
   "cell_type": "markdown",
   "metadata": {},
   "source": [
    "Lets see how these functions reduce as we apply arguements to them."
   ]
  },
  {
   "cell_type": "code",
   "execution_count": null,
   "metadata": {},
   "outputs": [],
   "source": [
    "val sf1_ = sf1(1)\n",
    "println(getType(sf1(_)))\n",
    "println(getType(sf1_))\n",
    "println()"
   ]
  },
  {
   "cell_type": "code",
   "execution_count": null,
   "metadata": {},
   "outputs": [],
   "source": [
    "val sf2_ = sf2(1)\n",
    "val sf2__ = sf2_(2)\n",
    "println(getType(sf2 (_)))\n",
    "println(getType(sf2_))\n",
    "println(getType(sf2__))\n",
    "println()"
   ]
  },
  {
   "cell_type": "code",
   "execution_count": null,
   "metadata": {},
   "outputs": [],
   "source": [
    "val lf1_ = FunCall(lf1,Const(3))\n",
    "println(typeOfProgram(TopLevel(lf1)))\n",
    "println(typeOfProgram(TopLevel(lf1_)))\n",
    "println()"
   ]
  },
  {
   "cell_type": "code",
   "execution_count": null,
   "metadata": {},
   "outputs": [],
   "source": [
    "val lf2_ = FunCall(lf2,Const(1))\n",
    "val lf2__ = FunCall(lf2_,Const(1))\n",
    "println(typeOfProgram(TopLevel(lf2)))\n",
    "println(typeOfProgram(TopLevel(lf2_)))\n",
    "println(typeOfProgram(TopLevel(lf2__)))"
   ]
  },
  {
   "cell_type": "markdown",
   "metadata": {},
   "source": [
    "### High-Order Functions\n",
    "We've seen functions that can take functions as arguments. Let's take a closer look at how they are typed.\n",
    "\n",
    "When a function $f1$ is given as an argument to another function $f2$, we will see the type of $f1$ expressed in $f2$'s type signature, contained in parens.\n",
    "\n",
    "Say $f$ takes a function from double to double as one argument and a double as a second argument. It then applys its first argument to the second argument to produce a new double.\n",
    "\n",
    "ie: f ( (x:Double => x+1) , 2 ) == 2+1 == 3\n",
    "\n",
    "The type of $f$ should look something like this: $(\\mathbf{Double} \\Rightarrow \\mathbf{Double}) \\Rightarrow \\mathbf{Double} \\Rightarrow \\mathbf{Double}$\n",
    "\n",
    "The first component, $(\\mathbf{Double} \\Rightarrow \\mathbf{Double})$, repersents the function given as an argument. The next component, $\\mathbf{Double}$, is the second argument, just a simple double. The last component, $\\mathbf{Double}$, is what gets produced by $f$ once it receives all its arguments."
   ]
  },
  {
   "cell_type": "code",
   "execution_count": null,
   "metadata": {},
   "outputs": [],
   "source": [
    "//Make a (Double => Boolean) => Double => Boolean in Scala\n",
    "def sho1(f:(Double => Boolean)) =\n",
    "    ???\n",
    "\n",
    "assert(getType(sho1(_)) == \"TypeTag[(Double => Boolean) => (Double => Boolean)]\")\n",
    "\n",
    "//Make a (Double => Double => Boolean) => (Double => Double) => Bool in Scala\n",
    "def sho2(f1:(Double => Double => Boolean)) =\n",
    "    ???\n",
    "\n",
    "assert(getType(sho2(_)) == \"TypeTag[(Double => (Double => Boolean)) => ((Double => Double) => Boolean)]\")"
   ]
  },
  {
   "cell_type": "code",
   "execution_count": null,
   "metadata": {},
   "outputs": [],
   "source": [
    "//Make a (NumType => BoolType) => NumType => BoolType in Lettuce\n",
    "val lho1 =\n",
    "    ???\n",
    "\n",
    "assert(typeOfProgram(TopLevel(lho1)) == FunType(FunType(NumType, BoolType), FunType(NumType, BoolType)))\n",
    "\n",
    "//Make a (NumType => NumType => BoolType) => (NumType => NumType) => BoolType in Lettuce\n",
    "val lho2 =\n",
    "    ???\n",
    "\n",
    "assert(typeOfProgram(TopLevel(lho2)) == FunType(FunType(NumType, FunType(NumType, BoolType)),FunType(FunType(NumType, NumType), BoolType)))"
   ]
  },
  {
   "cell_type": "markdown",
   "metadata": {},
   "source": [
    "Again, lets see how these functions reduce as we apply arguements to them."
   ]
  },
  {
   "cell_type": "code",
   "execution_count": null,
   "metadata": {},
   "outputs": [],
   "source": [
    "val sho1_ = sho1((x:Double) => true)\n",
    "val sho1__ = sho1_(2)\n",
    "println(getType(sho1(_)))\n",
    "println(getType(sho1_))\n",
    "println(getType(sho1__))\n",
    "println()"
   ]
  },
  {
   "cell_type": "code",
   "execution_count": null,
   "metadata": {},
   "outputs": [],
   "source": [
    "val sho2_ = sho2((x:Double) => ((y:Double) => true))\n",
    "val sho2__ = sho2_((x:Double) => 2.0)\n",
    "println(getType(sho2(_)))\n",
    "println(getType(sho2_))\n",
    "println(getType(sho2__))\n",
    "println()"
   ]
  },
  {
   "cell_type": "code",
   "execution_count": null,
   "metadata": {},
   "outputs": [],
   "source": [
    "val lho1_ = FunCall(lho1, FunDef(\"x\", NumType, Geq(Const(2),Const(2))))\n",
    "val lho1__ = FunCall(lho1_, Const(2))\n",
    "println(typeOfProgram(TopLevel(lho1)))\n",
    "println(typeOfProgram(TopLevel(lho1_)))\n",
    "println(typeOfProgram(TopLevel(lho1__)))\n",
    "println()"
   ]
  },
  {
   "cell_type": "code",
   "execution_count": null,
   "metadata": {},
   "outputs": [],
   "source": [
    "val lho2_ = FunCall(lho2, lf2)\n",
    "val lho2__ = FunCall(lho2_, lf1)\n",
    "println(typeOfProgram(TopLevel(lho2)))\n",
    "println(typeOfProgram(TopLevel(lho2_)))\n",
    "println(typeOfProgram(TopLevel(lho2__)))"
   ]
  },
  {
   "cell_type": "markdown",
   "metadata": {},
   "source": [
    "### Map, Filter and Fold\n",
    "Finally, let's look at the types for our favorite higher-order functions in order to understand them better.\n"
   ]
  },
  {
   "cell_type": "code",
   "execution_count": null,
   "metadata": {},
   "outputs": [],
   "source": [
    "//myMap\n",
    "???\n",
    "\n",
    "//myFilter\n",
    "???\n",
    "\n",
    "//myFold\n",
    "???"
   ]
  },
  {
   "cell_type": "code",
   "execution_count": null,
   "metadata": {},
   "outputs": [],
   "source": []
  }
 ],
 "metadata": {
  "kernelspec": {
   "display_name": "Scala",
   "language": "scala",
   "name": "scala"
  },
  "language_info": {
   "codemirror_mode": "text/x-scala",
   "file_extension": ".scala",
   "mimetype": "text/x-scala",
   "name": "scala",
   "nbconvert_exporter": "script",
   "version": "2.12.8"
  }
 },
 "nbformat": 4,
 "nbformat_minor": 2
}