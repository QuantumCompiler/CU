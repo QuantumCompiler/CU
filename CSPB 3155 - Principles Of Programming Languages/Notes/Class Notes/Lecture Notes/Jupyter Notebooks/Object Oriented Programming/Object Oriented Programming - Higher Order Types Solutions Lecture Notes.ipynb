{
 "cells": [
  {
   "cell_type": "markdown",
   "metadata": {},
   "source": [
    "# Higher-Order Types\n",
    "Types are a useful tool to keep programs organized and avoid certain kind of errors.\n",
    "\n",
    "Higher-order types extend the idea of types in a fairly intuitive way given the first-class nature of functions in functional programming, but can be confusing to look at and takes some getting used to.\n",
    "\n",
    "We will be looking at types in both Scala and Lettuce, starting simple and working our way up to complex, higher-order types.\n",
    "\n",
    "First, let's just get a type checker for Lettuce going. Don't worry about how this code works for now."
   ]
  },
  {
   "cell_type": "code",
   "execution_count": 5,
   "metadata": {},
   "outputs": [
    {
     "data": {
      "text/plain": [
       "defined \u001b[32mtrait\u001b[39m \u001b[36mType\u001b[39m\n",
       "defined \u001b[32mobject\u001b[39m \u001b[36mNumType\u001b[39m\n",
       "defined \u001b[32mobject\u001b[39m \u001b[36mBoolType\u001b[39m\n",
       "defined \u001b[32mclass\u001b[39m \u001b[36mFunType\u001b[39m\n",
       "defined \u001b[32mtrait\u001b[39m \u001b[36mProgram\u001b[39m\n",
       "defined \u001b[32mtrait\u001b[39m \u001b[36mExpr\u001b[39m\n",
       "defined \u001b[32mclass\u001b[39m \u001b[36mConst\u001b[39m\n",
       "defined \u001b[32mclass\u001b[39m \u001b[36mIdent\u001b[39m\n",
       "defined \u001b[32mclass\u001b[39m \u001b[36mPlus\u001b[39m\n",
       "defined \u001b[32mclass\u001b[39m \u001b[36mMinus\u001b[39m\n",
       "defined \u001b[32mclass\u001b[39m \u001b[36mGeq\u001b[39m\n",
       "defined \u001b[32mclass\u001b[39m \u001b[36mIfThenElse\u001b[39m\n",
       "defined \u001b[32mclass\u001b[39m \u001b[36mLet\u001b[39m\n",
       "defined \u001b[32mclass\u001b[39m \u001b[36mFunDef\u001b[39m\n",
       "defined \u001b[32mclass\u001b[39m \u001b[36mFunCall\u001b[39m\n",
       "defined \u001b[32mclass\u001b[39m \u001b[36mTopLevel\u001b[39m\n",
       "defined \u001b[32mfunction\u001b[39m \u001b[36mtypeEquals\u001b[39m\n",
       "defined \u001b[32mclass\u001b[39m \u001b[36mTypeErrorException\u001b[39m\n",
       "defined \u001b[32mfunction\u001b[39m \u001b[36mtypeOf\u001b[39m\n",
       "defined \u001b[32mfunction\u001b[39m \u001b[36mtypeOfProgram\u001b[39m"
      ]
     },
     "execution_count": 5,
     "metadata": {},
     "output_type": "execute_result"
    }
   ],
   "source": [
    "sealed trait Type\n",
    "case object NumType extends Type\n",
    "case object BoolType extends Type\n",
    "case class FunType(t1: Type, t2: Type) extends Type\n",
    "\n",
    "sealed trait Program\n",
    "sealed trait Expr\n",
    "\n",
    "case class Const(f: Double) extends Expr\n",
    "case class Ident(s: String) extends Expr\n",
    "case class Plus(e1: Expr, e2: Expr) extends Expr\n",
    "case class Minus(e1: Expr, e2: Expr) extends Expr\n",
    "case class Geq(e1: Expr, e2: Expr) extends Expr\n",
    "case class IfThenElse(e1: Expr, e2: Expr, e3: Expr) extends Expr\n",
    "case class Let(x: String, xType: Type, e1: Expr, e2: Expr) extends Expr\n",
    "case class FunDef(id: String, idType: Type, e: Expr) extends Expr\n",
    "case class FunCall(calledFun: Expr, argExpr: Expr) extends Expr\n",
    "case class TopLevel(e: Expr) extends Program\n",
    "\n",
    "def typeEquals(t1: Type, t2: Type): Boolean = t1 == t2\n",
    "case class TypeErrorException(s: String) extends Exception\n",
    "\n",
    "def typeOf(e: Expr, alpha: Map[String, Type]): Type = {\n",
    "    def checkType(opName: String, e1: Expr, t1: Type, e2: Expr, t2: Type, resType: Type): Type = {\n",
    "        val t1hat = typeOf(e1, alpha)\n",
    "        if (! typeEquals(t1hat, t1)){\n",
    "            throw new TypeErrorException(s\"Type mismatch in arithmetic/comparison/bool op $opName, Expected type $t1, obtained $t1hat\")\n",
    "        }\n",
    "        \n",
    "        val t2hat = typeOf(e2, alpha)\n",
    "        if (! typeEquals(t2hat, t2)){\n",
    "            throw new TypeErrorException(s\"Type mismatch in arithmetic/comparison/bool op $opName, Expected type $t2, obtained $t2hat\")\n",
    "        }\n",
    "        \n",
    "        resType\n",
    "    }\n",
    "    \n",
    "    e match {\n",
    "        case Const(f) => NumType\n",
    "        case Ident(s) => {if (alpha contains s)\n",
    "                             alpha(s)\n",
    "                          else \n",
    "                             throw TypeErrorException(s\"Unknown identifier $s\")}\n",
    "        case Plus(e1, e2) =>  checkType(\"Plus\", e1,  NumType, e2, NumType, NumType)\n",
    "        case Minus(e1, e2) => checkType(\"Minus\",e1,  NumType, e2, NumType, NumType)\n",
    "        case Geq(e1, e2) => checkType(\"Geq\", e1,  NumType, e2, NumType, BoolType)\n",
    "        case IfThenElse(e, e1, e2) => {\n",
    "            val t = typeOf(e, alpha)\n",
    "            if (t == BoolType){\n",
    "                val t1 = typeOf(e1, alpha)\n",
    "                val t2 = typeOf(e2, alpha)\n",
    "                if (typeEquals(t1, t2))\n",
    "                    t1\n",
    "                else \n",
    "                    throw TypeErrorException(s\"If then else returns unequal types $t1 and $t2\")\n",
    "            } else {\n",
    "                throw TypeErrorException(s\"If then else condition expression not boolean $t\")\n",
    "            }\n",
    "        }\n",
    "\n",
    "        case Let(x, t, e1, e2) => {\n",
    "            val t1 = typeOf(e1, alpha)\n",
    "            if (typeEquals(t1, t)){\n",
    "                val newAlpha = alpha + (x -> t)\n",
    "                typeOf(e2, newAlpha)\n",
    "            } else {\n",
    "                throw TypeErrorException(s\"Let binding has type $t whereas it is bound to expression of type $t1\")\n",
    "            }\n",
    "        }\n",
    "\n",
    "        case FunDef(x, t1, e) => {\n",
    "            val newAlpha = alpha + (x -> t1)\n",
    "            val t2 = typeOf(e, newAlpha)\n",
    "            FunType(t1, t2)\n",
    "        }\n",
    "\n",
    "        case FunCall(e1, e2) => {\n",
    "            val ftype = typeOf(e1, alpha)\n",
    "            ftype match {\n",
    "                case FunType(t1, t2) => {\n",
    "                    val argType = typeOf(e2, alpha)\n",
    "                    if (typeEquals(argType, t1)){\n",
    "                        t2\n",
    "                    } else {\n",
    "                        throw TypeErrorException(s\"Call to function with incompatible argument type. Expected $t1, obtained $argType\")\n",
    "                    }\n",
    "                }\n",
    "                case _ => { throw TypeErrorException(s\"Call to function but with a non function type $ftype\")}\n",
    "\n",
    "            }\n",
    "        }\n",
    "    }\n",
    "}\n",
    "\n",
    "def typeOfProgram(p: Program) = p match {\n",
    "    case TopLevel(e) => {\n",
    "            val t = typeOf(e, Map())\n",
    "            //println(s\"Program type computed successfully as $t\")\n",
    "            t\n",
    "    }\n",
    "}"
   ]
  },
  {
   "cell_type": "markdown",
   "metadata": {},
   "source": [
    "### Simple Types\n",
    "Make some Scala and Lettuce values that have the following types."
   ]
  },
  {
   "cell_type": "code",
   "execution_count": 6,
   "metadata": {},
   "outputs": [
    {
     "data": {
      "text/plain": [
       "\u001b[32mimport \u001b[39m\u001b[36mscala.reflect.runtime.universe.TypeTag\n",
       "\u001b[39m\n",
       "defined \u001b[32mfunction\u001b[39m \u001b[36mgetType\u001b[39m\n",
       "\u001b[36msv1\u001b[39m: \u001b[32mDouble\u001b[39m = \u001b[32m2.0\u001b[39m\n",
       "\u001b[36msv2\u001b[39m: \u001b[32mBoolean\u001b[39m = true"
      ]
     },
     "execution_count": 6,
     "metadata": {},
     "output_type": "execute_result"
    }
   ],
   "source": [
    "import scala.reflect.runtime.universe.TypeTag\n",
    "def getType[A](a: A)(implicit evA: TypeTag[A]) = evA.toString\n",
    "\n",
    "//Make a Double in Scala\n",
    "val sv1 = 2.0\n",
    "\n",
    "assert(getType(sv1) == \"TypeTag[Double]\")\n",
    "\n",
    "//Make a Bool in Scala\n",
    "val sv2 = true\n",
    "\n",
    "assert(getType(sv2) == \"TypeTag[Boolean]\")"
   ]
  },
  {
   "cell_type": "code",
   "execution_count": 7,
   "metadata": {},
   "outputs": [
    {
     "data": {
      "text/plain": [
       "\u001b[36mlv1\u001b[39m: \u001b[32mConst\u001b[39m = \u001b[33mConst\u001b[39m(\u001b[32m2.0\u001b[39m)\n",
       "\u001b[36mlv2\u001b[39m: \u001b[32mGeq\u001b[39m = \u001b[33mGeq\u001b[39m(\u001b[33mConst\u001b[39m(\u001b[32m1.0\u001b[39m), \u001b[33mConst\u001b[39m(\u001b[32m0.0\u001b[39m))"
      ]
     },
     "execution_count": 7,
     "metadata": {},
     "output_type": "execute_result"
    }
   ],
   "source": [
    "//Make a NumType in Lettuce\n",
    "val lv1 = Const(2)\n",
    "\n",
    "assert(typeOfProgram(TopLevel(lv1)) == NumType)\n",
    "\n",
    "//Make a BoolType in Lettuce\n",
    "val lv2 = Geq(Const(1), Const(0))\n",
    "\n",
    "assert(typeOfProgram(TopLevel(lv2)) == BoolType)"
   ]
  },
  {
   "cell_type": "markdown",
   "metadata": {},
   "source": [
    "### Functions\n",
    "Of course, we have functions in both our languages, and functions have types too.\n",
    "\n",
    "Say we have a function that takes as input a double and yields that double plus one. We say that function has type $\\mathbf{Double} \\Rightarrow \\mathbf{Double}$, or \"double to double\"."
   ]
  },
  {
   "cell_type": "code",
   "execution_count": 8,
   "metadata": {},
   "outputs": [
    {
     "data": {
      "text/plain": [
       "defined \u001b[32mfunction\u001b[39m \u001b[36msf1\u001b[39m\n",
       "defined \u001b[32mfunction\u001b[39m \u001b[36msf2\u001b[39m"
      ]
     },
     "execution_count": 8,
     "metadata": {},
     "output_type": "execute_result"
    }
   ],
   "source": [
    "//Make a Double => Double in Scala\n",
    "def sf1(x:Double) =\n",
    "    x+1\n",
    "\n",
    "assert(getType(sf1(_)) == \"TypeTag[Double => Double]\")\n",
    "\n",
    "//Make a Double => Double => Boolean in Scala\n",
    "def sf2(x:Double) =\n",
    "    (y:Double) => x == y\n",
    "\n",
    "assert(getType(sf2(_)) == \"TypeTag[Double => (Double => Boolean)]\")"
   ]
  },
  {
   "cell_type": "code",
   "execution_count": 10,
   "metadata": {},
   "outputs": [
    {
     "data": {
      "text/plain": [
       "\u001b[36mlf1\u001b[39m: \u001b[32mFunDef\u001b[39m = \u001b[33mFunDef\u001b[39m(\u001b[32m\"x\"\u001b[39m, NumType, \u001b[33mPlus\u001b[39m(\u001b[33mIdent\u001b[39m(\u001b[32m\"x\"\u001b[39m), \u001b[33mConst\u001b[39m(\u001b[32m1.0\u001b[39m)))\n",
       "\u001b[36mlf2\u001b[39m: \u001b[32mFunDef\u001b[39m = \u001b[33mFunDef\u001b[39m(\n",
       "  \u001b[32m\"x\"\u001b[39m,\n",
       "  NumType,\n",
       "  \u001b[33mFunDef\u001b[39m(\u001b[32m\"y\"\u001b[39m, NumType, \u001b[33mGeq\u001b[39m(\u001b[33mIdent\u001b[39m(\u001b[32m\"x\"\u001b[39m), \u001b[33mIdent\u001b[39m(\u001b[32m\"y\"\u001b[39m)))\n",
       ")"
      ]
     },
     "execution_count": 10,
     "metadata": {},
     "output_type": "execute_result"
    }
   ],
   "source": [
    "//Make a NumType => NumType in Lettuce\n",
    "val lf1 =\n",
    "    FunDef(\"x\", NumType, Plus(Ident(\"x\"), Const(1)))\n",
    "\n",
    "assert(typeOfProgram(TopLevel(lf1)) == FunType(NumType, NumType))\n",
    "\n",
    "//Make a NumType => NumType => BoolType in Lettuce\n",
    "val lf2 =\n",
    "    FunDef(\"x\", NumType,\n",
    "               FunDef(\"y\", NumType, Geq(Ident(\"x\"), Ident(\"y\")))\n",
    "          )\n",
    "\n",
    "assert(typeOfProgram(TopLevel(lf2)) == FunType(NumType, FunType(NumType, BoolType)))"
   ]
  },
  {
   "cell_type": "markdown",
   "metadata": {},
   "source": [
    "Lets see how these functions reduce as we apply arguements to them."
   ]
  },
  {
   "cell_type": "code",
   "execution_count": 11,
   "metadata": {},
   "outputs": [
    {
     "name": "stdout",
     "output_type": "stream",
     "text": [
      "TypeTag[Double => Double]\n",
      "TypeTag[Double]\n",
      "\n"
     ]
    },
    {
     "data": {
      "text/plain": [
       "\u001b[36msf1_\u001b[39m: \u001b[32mDouble\u001b[39m = \u001b[32m2.0\u001b[39m"
      ]
     },
     "execution_count": 11,
     "metadata": {},
     "output_type": "execute_result"
    }
   ],
   "source": [
    "val sf1_ = sf1(1)\n",
    "println(getType(sf1(_)))\n",
    "println(getType(sf1_))\n",
    "println()"
   ]
  },
  {
   "cell_type": "code",
   "execution_count": 12,
   "metadata": {},
   "outputs": [
    {
     "name": "stdout",
     "output_type": "stream",
     "text": [
      "TypeTag[Double => (Double => Boolean)]\n",
      "TypeTag[Double => Boolean]\n",
      "TypeTag[Boolean]\n",
      "\n"
     ]
    },
    {
     "data": {
      "text/plain": [
       "\u001b[36msf2_\u001b[39m: \u001b[32mDouble\u001b[39m => \u001b[32mBoolean\u001b[39m = ammonite.$sess.cmd7$Helper$$Lambda$2936/0x0000000801e53040@57a94cae\n",
       "\u001b[36msf2__\u001b[39m: \u001b[32mBoolean\u001b[39m = false"
      ]
     },
     "execution_count": 12,
     "metadata": {},
     "output_type": "execute_result"
    }
   ],
   "source": [
    "val sf2_ = sf2(1)\n",
    "val sf2__ = sf2_(2)\n",
    "println(getType(sf2 (_)))\n",
    "println(getType(sf2_))\n",
    "println(getType(sf2__))\n",
    "println()"
   ]
  },
  {
   "cell_type": "code",
   "execution_count": 13,
   "metadata": {},
   "outputs": [
    {
     "name": "stdout",
     "output_type": "stream",
     "text": [
      "FunType(NumType,NumType)\n",
      "NumType\n",
      "\n"
     ]
    },
    {
     "data": {
      "text/plain": [
       "\u001b[36mlf1_\u001b[39m: \u001b[32mFunCall\u001b[39m = \u001b[33mFunCall\u001b[39m(\n",
       "  \u001b[33mFunDef\u001b[39m(\u001b[32m\"x\"\u001b[39m, NumType, \u001b[33mPlus\u001b[39m(\u001b[33mIdent\u001b[39m(\u001b[32m\"x\"\u001b[39m), \u001b[33mConst\u001b[39m(\u001b[32m1.0\u001b[39m))),\n",
       "  \u001b[33mConst\u001b[39m(\u001b[32m3.0\u001b[39m)\n",
       ")"
      ]
     },
     "execution_count": 13,
     "metadata": {},
     "output_type": "execute_result"
    }
   ],
   "source": [
    "val lf1_ = FunCall(lf1,Const(3))\n",
    "println(typeOfProgram(TopLevel(lf1)))\n",
    "println(typeOfProgram(TopLevel(lf1_)))\n",
    "println()"
   ]
  },
  {
   "cell_type": "code",
   "execution_count": 14,
   "metadata": {},
   "outputs": [
    {
     "name": "stdout",
     "output_type": "stream",
     "text": [
      "FunType(NumType,FunType(NumType,BoolType))\n",
      "FunType(NumType,BoolType)\n",
      "BoolType\n"
     ]
    },
    {
     "data": {
      "text/plain": [
       "\u001b[36mlf2_\u001b[39m: \u001b[32mFunCall\u001b[39m = \u001b[33mFunCall\u001b[39m(\n",
       "  \u001b[33mFunDef\u001b[39m(\u001b[32m\"x\"\u001b[39m, NumType, \u001b[33mFunDef\u001b[39m(\u001b[32m\"y\"\u001b[39m, NumType, \u001b[33mGeq\u001b[39m(\u001b[33mIdent\u001b[39m(\u001b[32m\"x\"\u001b[39m), \u001b[33mIdent\u001b[39m(\u001b[32m\"y\"\u001b[39m)))),\n",
       "  \u001b[33mConst\u001b[39m(\u001b[32m1.0\u001b[39m)\n",
       ")\n",
       "\u001b[36mlf2__\u001b[39m: \u001b[32mFunCall\u001b[39m = \u001b[33mFunCall\u001b[39m(\n",
       "  \u001b[33mFunCall\u001b[39m(\n",
       "    \u001b[33mFunDef\u001b[39m(\u001b[32m\"x\"\u001b[39m, NumType, \u001b[33mFunDef\u001b[39m(\u001b[32m\"y\"\u001b[39m, NumType, \u001b[33mGeq\u001b[39m(\u001b[33mIdent\u001b[39m(\u001b[32m\"x\"\u001b[39m), \u001b[33mIdent\u001b[39m(\u001b[32m\"y\"\u001b[39m)))),\n",
       "    \u001b[33mConst\u001b[39m(\u001b[32m1.0\u001b[39m)\n",
       "  ),\n",
       "  \u001b[33mConst\u001b[39m(\u001b[32m1.0\u001b[39m)\n",
       ")"
      ]
     },
     "execution_count": 14,
     "metadata": {},
     "output_type": "execute_result"
    }
   ],
   "source": [
    "val lf2_ = FunCall(lf2,Const(1))\n",
    "val lf2__ = FunCall(lf2_,Const(1))\n",
    "println(typeOfProgram(TopLevel(lf2)))\n",
    "println(typeOfProgram(TopLevel(lf2_)))\n",
    "println(typeOfProgram(TopLevel(lf2__)))"
   ]
  },
  {
   "cell_type": "markdown",
   "metadata": {},
   "source": [
    "### High-Order Functions\n",
    "We've seen functions that can take functions as arguments. Let's take a closer look at how they are typed.\n",
    "\n",
    "When a function $f1$ is given as an argument to another function $f2$, we will see the type of $f1$ expressed in $f2$'s type signature, contained in parens.\n",
    "\n",
    "Say $f$ takes a function from double to double as one argument and a double as a second argument. It then applys its first argument to the second argument to produce a new double.\n",
    "\n",
    "ie: f ( (x:Double => x+1) , 2 ) == 2+1 == 3\n",
    "\n",
    "The type of $f$ should look something like this: $(\\mathbf{Double} \\Rightarrow \\mathbf{Double}) \\Rightarrow \\mathbf{Double} \\Rightarrow \\mathbf{Double}$\n",
    "\n",
    "The first component, $(\\mathbf{Double} \\Rightarrow \\mathbf{Double})$, repersents the function given as an argument. The next component, $\\mathbf{Double}$, is the second argument, just a simple double. The last component, $\\mathbf{Double}$, is what gets produced by $f$ once it receives all its arguments."
   ]
  },
  {
   "cell_type": "code",
   "execution_count": 15,
   "metadata": {},
   "outputs": [
    {
     "data": {
      "text/plain": [
       "defined \u001b[32mfunction\u001b[39m \u001b[36msho1\u001b[39m\n",
       "defined \u001b[32mfunction\u001b[39m \u001b[36msho2\u001b[39m"
      ]
     },
     "execution_count": 15,
     "metadata": {},
     "output_type": "execute_result"
    }
   ],
   "source": [
    "//Make a (Double => Boolean) => Double => Boolean in Scala\n",
    "def sho1(f:(Double => Boolean)) =\n",
    "    (y:Double) => f(y)\n",
    "\n",
    "assert(getType(sho1(_)) == \"TypeTag[(Double => Boolean) => (Double => Boolean)]\")\n",
    "\n",
    "//Make a (Double => Double => Boolean) => (Double => Double) => Bool in Scala\n",
    "def sho2(f1:(Double => Double => Boolean)) =\n",
    "    (f2:(Double => Double)) => true\n",
    "\n",
    "assert(getType(sho2(_)) == \"TypeTag[(Double => (Double => Boolean)) => ((Double => Double) => Boolean)]\")"
   ]
  },
  {
   "cell_type": "code",
   "execution_count": 18,
   "metadata": {},
   "outputs": [
    {
     "data": {
      "text/plain": [
       "\u001b[36mlho1\u001b[39m: \u001b[32mFunDef\u001b[39m = \u001b[33mFunDef\u001b[39m(\n",
       "  \u001b[32m\"f\"\u001b[39m,\n",
       "  \u001b[33mFunType\u001b[39m(NumType, BoolType),\n",
       "  \u001b[33mFunDef\u001b[39m(\u001b[32m\"x\"\u001b[39m, NumType, \u001b[33mFunCall\u001b[39m(\u001b[33mIdent\u001b[39m(\u001b[32m\"f\"\u001b[39m), \u001b[33mIdent\u001b[39m(\u001b[32m\"x\"\u001b[39m)))\n",
       ")\n",
       "\u001b[36mlho2\u001b[39m: \u001b[32mFunDef\u001b[39m = \u001b[33mFunDef\u001b[39m(\n",
       "  \u001b[32m\"f1\"\u001b[39m,\n",
       "  \u001b[33mFunType\u001b[39m(NumType, \u001b[33mFunType\u001b[39m(NumType, BoolType)),\n",
       "  \u001b[33mFunDef\u001b[39m(\u001b[32m\"f2\"\u001b[39m, \u001b[33mFunType\u001b[39m(NumType, NumType), \u001b[33mGeq\u001b[39m(\u001b[33mConst\u001b[39m(\u001b[32m1.0\u001b[39m), \u001b[33mConst\u001b[39m(\u001b[32m0.0\u001b[39m)))\n",
       ")"
      ]
     },
     "execution_count": 18,
     "metadata": {},
     "output_type": "execute_result"
    }
   ],
   "source": [
    "//Make a (NumType => BoolType) => NumType => BoolType in Lettuce\n",
    "val lho1 =\n",
    "    FunDef(\"f\", FunType(NumType, BoolType),\n",
    "           FunDef(\"x\", NumType, FunCall(Ident(\"f\"),Ident(\"x\")))\n",
    "          )\n",
    "\n",
    "assert(typeOfProgram(TopLevel(lho1)) == FunType(FunType(NumType, BoolType), FunType(NumType, BoolType)))\n",
    "\n",
    "//Make a (NumType => NumType => BoolType) => (NumType => NumType) => BoolType in Lettuce\n",
    "val lho2 =\n",
    "    FunDef(\"f1\", typeOfProgram(TopLevel(lf2)),\n",
    "           FunDef(\"f2\", typeOfProgram(TopLevel(lf1)), Geq(Const(1), Const(0)))\n",
    "          )\n",
    "\n",
    "assert(typeOfProgram(TopLevel(lho2)) == FunType(FunType(NumType, FunType(NumType, BoolType)),FunType(FunType(NumType, NumType), BoolType)))"
   ]
  },
  {
   "cell_type": "markdown",
   "metadata": {},
   "source": [
    "Again, lets see how these functions reduce as we apply arguements to them."
   ]
  },
  {
   "cell_type": "code",
   "execution_count": 16,
   "metadata": {},
   "outputs": [
    {
     "name": "stdout",
     "output_type": "stream",
     "text": [
      "TypeTag[(Double => Boolean) => (Double => Boolean)]\n",
      "TypeTag[Double => Boolean]\n",
      "TypeTag[Boolean]\n",
      "\n"
     ]
    },
    {
     "data": {
      "text/plain": [
       "\u001b[36msho1_\u001b[39m: \u001b[32mDouble\u001b[39m => \u001b[32mBoolean\u001b[39m = ammonite.$sess.cmd14$Helper$$Lambda$3162/0x0000000801f03840@a8dc7d0\n",
       "\u001b[36msho1__\u001b[39m: \u001b[32mBoolean\u001b[39m = true"
      ]
     },
     "execution_count": 16,
     "metadata": {},
     "output_type": "execute_result"
    }
   ],
   "source": [
    "val sho1_ = sho1((x:Double) => true)\n",
    "val sho1__ = sho1_(2)\n",
    "println(getType(sho1(_)))\n",
    "println(getType(sho1_))\n",
    "println(getType(sho1__))\n",
    "println()"
   ]
  },
  {
   "cell_type": "code",
   "execution_count": 17,
   "metadata": {},
   "outputs": [
    {
     "name": "stdout",
     "output_type": "stream",
     "text": [
      "TypeTag[(Double => (Double => Boolean)) => ((Double => Double) => Boolean)]\n",
      "TypeTag[(Double => Double) => Boolean]\n",
      "TypeTag[Boolean]\n",
      "\n"
     ]
    },
    {
     "data": {
      "text/plain": [
       "\u001b[36msho2_\u001b[39m: \u001b[32mDouble\u001b[39m => \u001b[32mDouble\u001b[39m => \u001b[32mBoolean\u001b[39m = ammonite.$sess.cmd14$Helper$$Lambda$3182/0x0000000801f0f840@647f2b5b\n",
       "\u001b[36msho2__\u001b[39m: \u001b[32mBoolean\u001b[39m = true"
      ]
     },
     "execution_count": 17,
     "metadata": {},
     "output_type": "execute_result"
    }
   ],
   "source": [
    "val sho2_ = sho2((x:Double) => ((y:Double) => true))\n",
    "val sho2__ = sho2_((x:Double) => 2.0)\n",
    "println(getType(sho2(_)))\n",
    "println(getType(sho2_))\n",
    "println(getType(sho2__))\n",
    "println()"
   ]
  },
  {
   "cell_type": "code",
   "execution_count": 19,
   "metadata": {},
   "outputs": [
    {
     "name": "stdout",
     "output_type": "stream",
     "text": [
      "FunType(FunType(NumType,BoolType),FunType(NumType,BoolType))\n",
      "FunType(NumType,BoolType)\n",
      "BoolType\n",
      "\n"
     ]
    },
    {
     "data": {
      "text/plain": [
       "\u001b[36mlho1_\u001b[39m: \u001b[32mFunCall\u001b[39m = \u001b[33mFunCall\u001b[39m(\n",
       "  \u001b[33mFunDef\u001b[39m(\n",
       "    \u001b[32m\"f\"\u001b[39m,\n",
       "    \u001b[33mFunType\u001b[39m(NumType, BoolType),\n",
       "    \u001b[33mFunDef\u001b[39m(\u001b[32m\"x\"\u001b[39m, NumType, \u001b[33mFunCall\u001b[39m(\u001b[33mIdent\u001b[39m(\u001b[32m\"f\"\u001b[39m), \u001b[33mIdent\u001b[39m(\u001b[32m\"x\"\u001b[39m)))\n",
       "  ),\n",
       "  \u001b[33mFunDef\u001b[39m(\u001b[32m\"x\"\u001b[39m, NumType, \u001b[33mGeq\u001b[39m(\u001b[33mConst\u001b[39m(\u001b[32m2.0\u001b[39m), \u001b[33mConst\u001b[39m(\u001b[32m2.0\u001b[39m)))\n",
       ")\n",
       "\u001b[36mlho1__\u001b[39m: \u001b[32mFunCall\u001b[39m = \u001b[33mFunCall\u001b[39m(\n",
       "  \u001b[33mFunCall\u001b[39m(\n",
       "    \u001b[33mFunDef\u001b[39m(\n",
       "      \u001b[32m\"f\"\u001b[39m,\n",
       "      \u001b[33mFunType\u001b[39m(NumType, BoolType),\n",
       "      \u001b[33mFunDef\u001b[39m(\u001b[32m\"x\"\u001b[39m, NumType, \u001b[33mFunCall\u001b[39m(\u001b[33mIdent\u001b[39m(\u001b[32m\"f\"\u001b[39m), \u001b[33mIdent\u001b[39m(\u001b[32m\"x\"\u001b[39m)))\n",
       "    ),\n",
       "    \u001b[33mFunDef\u001b[39m(\u001b[32m\"x\"\u001b[39m, NumType, \u001b[33mGeq\u001b[39m(\u001b[33mConst\u001b[39m(\u001b[32m2.0\u001b[39m), \u001b[33mConst\u001b[39m(\u001b[32m2.0\u001b[39m)))\n",
       "  ),\n",
       "  \u001b[33mConst\u001b[39m(\u001b[32m2.0\u001b[39m)\n",
       ")"
      ]
     },
     "execution_count": 19,
     "metadata": {},
     "output_type": "execute_result"
    }
   ],
   "source": [
    "val lho1_ = FunCall(lho1, FunDef(\"x\", NumType, Geq(Const(2),Const(2))))\n",
    "val lho1__ = FunCall(lho1_, Const(2))\n",
    "println(typeOfProgram(TopLevel(lho1)))\n",
    "println(typeOfProgram(TopLevel(lho1_)))\n",
    "println(typeOfProgram(TopLevel(lho1__)))\n",
    "println()"
   ]
  },
  {
   "cell_type": "code",
   "execution_count": 20,
   "metadata": {},
   "outputs": [
    {
     "name": "stdout",
     "output_type": "stream",
     "text": [
      "FunType(FunType(NumType,FunType(NumType,BoolType)),FunType(FunType(NumType,NumType),BoolType))\n",
      "FunType(FunType(NumType,NumType),BoolType)\n",
      "BoolType\n"
     ]
    },
    {
     "data": {
      "text/plain": [
       "\u001b[36mlho2_\u001b[39m: \u001b[32mFunCall\u001b[39m = \u001b[33mFunCall\u001b[39m(\n",
       "  \u001b[33mFunDef\u001b[39m(\n",
       "    \u001b[32m\"f1\"\u001b[39m,\n",
       "    \u001b[33mFunType\u001b[39m(NumType, \u001b[33mFunType\u001b[39m(NumType, BoolType)),\n",
       "    \u001b[33mFunDef\u001b[39m(\u001b[32m\"f2\"\u001b[39m, \u001b[33mFunType\u001b[39m(NumType, NumType), \u001b[33mGeq\u001b[39m(\u001b[33mConst\u001b[39m(\u001b[32m1.0\u001b[39m), \u001b[33mConst\u001b[39m(\u001b[32m0.0\u001b[39m)))\n",
       "  ),\n",
       "  \u001b[33mFunDef\u001b[39m(\u001b[32m\"x\"\u001b[39m, NumType, \u001b[33mFunDef\u001b[39m(\u001b[32m\"y\"\u001b[39m, NumType, \u001b[33mGeq\u001b[39m(\u001b[33mIdent\u001b[39m(\u001b[32m\"x\"\u001b[39m), \u001b[33mIdent\u001b[39m(\u001b[32m\"y\"\u001b[39m))))\n",
       ")\n",
       "\u001b[36mlho2__\u001b[39m: \u001b[32mFunCall\u001b[39m = \u001b[33mFunCall\u001b[39m(\n",
       "  \u001b[33mFunCall\u001b[39m(\n",
       "    \u001b[33mFunDef\u001b[39m(\n",
       "      \u001b[32m\"f1\"\u001b[39m,\n",
       "      \u001b[33mFunType\u001b[39m(NumType, \u001b[33mFunType\u001b[39m(NumType, BoolType)),\n",
       "      \u001b[33mFunDef\u001b[39m(\u001b[32m\"f2\"\u001b[39m, \u001b[33mFunType\u001b[39m(NumType, NumType), \u001b[33mGeq\u001b[39m(\u001b[33mConst\u001b[39m(\u001b[32m1.0\u001b[39m), \u001b[33mConst\u001b[39m(\u001b[32m0.0\u001b[39m)))\n",
       "    ),\n",
       "    \u001b[33mFunDef\u001b[39m(\u001b[32m\"x\"\u001b[39m, NumType, \u001b[33mFunDef\u001b[39m(\u001b[32m\"y\"\u001b[39m, NumType, \u001b[33mGeq\u001b[39m(\u001b[33mIdent\u001b[39m(\u001b[32m\"x\"\u001b[39m), \u001b[33mIdent\u001b[39m(\u001b[32m\"y\"\u001b[39m))))\n",
       "  ),\n",
       "  \u001b[33mFunDef\u001b[39m(\u001b[32m\"x\"\u001b[39m, NumType, \u001b[33mPlus\u001b[39m(\u001b[33mIdent\u001b[39m(\u001b[32m\"x\"\u001b[39m), \u001b[33mConst\u001b[39m(\u001b[32m1.0\u001b[39m)))\n",
       ")"
      ]
     },
     "execution_count": 20,
     "metadata": {},
     "output_type": "execute_result"
    }
   ],
   "source": [
    "val lho2_ = FunCall(lho2, lf2)\n",
    "val lho2__ = FunCall(lho2_, lf1)\n",
    "println(typeOfProgram(TopLevel(lho2)))\n",
    "println(typeOfProgram(TopLevel(lho2_)))\n",
    "println(typeOfProgram(TopLevel(lho2__)))"
   ]
  },
  {
   "cell_type": "markdown",
   "metadata": {},
   "source": [
    "### Map, Filter and Fold\n",
    "Finally, let's look at the types for our favorite higher-order functions in order to understand them better.\n"
   ]
  },
  {
   "cell_type": "code",
   "execution_count": 23,
   "metadata": {},
   "outputs": [
    {
     "data": {
      "text/plain": [
       "defined \u001b[32mfunction\u001b[39m \u001b[36mmyMap\u001b[39m\n",
       "\u001b[36mres22_1\u001b[39m: \u001b[32mList\u001b[39m[\u001b[32mInt\u001b[39m] = \u001b[33mList\u001b[39m(\u001b[32m2\u001b[39m, \u001b[32m3\u001b[39m, \u001b[32m4\u001b[39m)\n",
       "\u001b[36mres22_2\u001b[39m: \u001b[32mList\u001b[39m[\u001b[32mBoolean\u001b[39m] = \u001b[33mList\u001b[39m(false, true, true)\n",
       "defined \u001b[32mfunction\u001b[39m \u001b[36mmyFilter\u001b[39m\n",
       "\u001b[36mres22_4\u001b[39m: \u001b[32mList\u001b[39m[\u001b[32mInt\u001b[39m] = \u001b[33mList\u001b[39m(\u001b[32m2\u001b[39m, \u001b[32m3\u001b[39m)\n",
       "defined \u001b[32mfunction\u001b[39m \u001b[36mmyFold\u001b[39m\n",
       "\u001b[36mres22_6\u001b[39m: \u001b[32mInt\u001b[39m = \u001b[32m6\u001b[39m\n",
       "defined \u001b[32mfunction\u001b[39m \u001b[36mmapWithFold\u001b[39m\n",
       "\u001b[36mres22_8\u001b[39m: \u001b[32mList\u001b[39m[\u001b[32mInt\u001b[39m] = \u001b[33mList\u001b[39m(\u001b[32m2\u001b[39m, \u001b[32m3\u001b[39m, \u001b[32m4\u001b[39m)\n",
       "\u001b[36mres22_9\u001b[39m: \u001b[32mList\u001b[39m[\u001b[32mBoolean\u001b[39m] = \u001b[33mList\u001b[39m(false, true, true)\n",
       "defined \u001b[32mfunction\u001b[39m \u001b[36mfilterWithFold\u001b[39m\n",
       "\u001b[36mres22_11\u001b[39m: \u001b[32mList\u001b[39m[\u001b[32mInt\u001b[39m] = \u001b[33mList\u001b[39m(\u001b[32m2\u001b[39m, \u001b[32m3\u001b[39m)"
      ]
     },
     "execution_count": 23,
     "metadata": {},
     "output_type": "execute_result"
    }
   ],
   "source": [
    "def myMap[A,B](l:List[A], f:(A => B)): List[B] =\n",
    "    l match {\n",
    "        case Nil => Nil\n",
    "        case x::xs => f(x) :: myMap(xs, f)\n",
    "    }\n",
    "\n",
    "myMap(List(1,2,3), (x:Int)=>x+1)\n",
    "myMap(List(1,2,3), (x:Int)=>x>1)\n",
    "\n",
    "def myFilter[A](l:List[A], f:(A => Boolean)): List[A] =\n",
    "    l match {\n",
    "        case Nil => Nil\n",
    "        case x::xs => f(x) match {\n",
    "            case true => x :: myFilter(xs, f)\n",
    "            case false => myFilter(xs, f)\n",
    "        }\n",
    "    }\n",
    "\n",
    "myFilter(List(1,2,3), (x:Int)=>x>=2)\n",
    "\n",
    "def myFold[A,B](l:List[A], acc:B, f:((B,A) => B)): B = \n",
    "    l match{\n",
    "        case Nil => acc\n",
    "        case x::xs => myFold(xs, f(acc, x), f)\n",
    "    }\n",
    "\n",
    "myFold(List(1,2,3), 0, (x:Int,y:Int)=>x+y)\n",
    "\n",
    "def mapWithFold[A,B](l:List[A], f:(A => B)): List[B] = \n",
    "    myFold(l, Nil, (x:List[B], y:A) => (f(y) :: x)).reverse\n",
    "\n",
    "mapWithFold(List(1,2,3), (x:Int)=>x+1)\n",
    "mapWithFold(List(1,2,3), (x:Int)=>x>1)\n",
    "\n",
    "def filterWithFold[A](l:List[A], f:(A=>Boolean)): List[A] =\n",
    "    myFold(l, Nil, (x:List[A], y:A) => if(f(y)) (y :: x) else x).reverse\n",
    "\n",
    "filterWithFold(List(1,2,3), (x:Int)=>x>=2)"
   ]
  },
  {
   "cell_type": "code",
   "execution_count": null,
   "metadata": {},
   "outputs": [],
   "source": []
  }
 ],
 "metadata": {
  "kernelspec": {
   "display_name": "Scala",
   "language": "scala",
   "name": "scala"
  },
  "language_info": {
   "codemirror_mode": "text/x-scala",
   "file_extension": ".scala",
   "mimetype": "text/x-scala",
   "name": "scala",
   "nbconvert_exporter": "script",
   "version": "2.12.8"
  }
 },
 "nbformat": 4,
 "nbformat_minor": 2
}