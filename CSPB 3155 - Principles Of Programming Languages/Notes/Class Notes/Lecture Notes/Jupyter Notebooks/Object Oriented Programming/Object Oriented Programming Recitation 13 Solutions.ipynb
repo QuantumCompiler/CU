{
 "cells": [
  {
   "cell_type": "markdown",
   "metadata": {},
   "source": [
    "# Objects and Design Patterns\n"
   ]
  },
  {
   "cell_type": "markdown",
   "metadata": {},
   "source": [
    "### Inheritance Exercise\n",
    "Given the following classes:\n",
    "```scala\n",
    "class A {\n",
    "    def m1(): String = \"m1 in A\"\n",
    "    def m2(): String = \"m2 in A\"\n",
    "}\n",
    "\n",
    "abstract class B extends A {\n",
    "    def m1(): String = \"m1 in B\"\n",
    "    def m3(): String\n",
    "}\n",
    "\n",
    "trait C {\n",
    "    def m2(): String\n",
    "    def m3(): String = \"m3 in C\"\n",
    "}\n",
    "\n",
    "class D extends B with C {\n",
    "    def m2(x: Int): String = \"m2 in D\"\n",
    "    def m4(): String = \"m4 in D\"\n",
    "}\n",
    "```\n",
    "\n",
    "Write the result of each of the following calls, then comment on how overloading, overriding, and / or inheritance result in the given behavior. Assume the following has been run before each:\n",
    "```scala\n",
    "val d: D = new D()\n",
    "val a: A = new A()\n",
    "val a_from_d: A = d\n",
    "```\n",
    "1. `d.m1()`\n",
    "2. `d.m2()`\n",
    "3. `d.m2(46)`\n",
    "4. `d.m3()`\n",
    "5. `d.m4()`\n",
    "\n",
    "6. `a_from_d.m1()`\n",
    "7. `a_from_d.m2()`\n",
    "8. `a.m1()`\n",
    "9. `a.m2()`\n",
    "\n",
    "Next, which classes are the values `a`, `d`, and `a_from_d` instances of?\n",
    "\n",
    "Finally, say whether each of the following casts is valid\n",
    "1. `d.asInstanceOf[A]`\n",
    "2. `a_from_d.asInstanceOf[D]`\n",
    "3. `a_from_d.asInstanceOf[C]`\n",
    "4. `a.asInstanceOf[D]`"
   ]
  },
  {
   "cell_type": "markdown",
   "metadata": {},
   "source": [
    "### Solution\n",
    "1. `\"m1 in B\"` - D doesn't implement m1 directly, so the method defined by B is used, which overrides m1 on A.\n",
    "2. `\"m2 in A\"` - Method m2 on class D is overloaded, and this call is to the overload that also overrides m2 from B and implements m2 from C.\n",
    "3. `\"m2 in D\"` - Method m2 on class D is overloaded, and this call is to the overload that is not inherited from either B or C\n",
    "4. `\"m3 in C\"` - The implementation of m3 is inherited from C\n",
    "5. `\"m4 in D\"` - m4 is defined only by D, and so doesn't override anything.\n",
    "6. `\"m1 in B\"` - Though it has been cast to an A, the underlying object is still a D, and so we go through it's inheritance hierarchy and find that m1 is overriden in B.\n",
    "7. `\"m2 in A\"` - Since nothing overrides m2, we use the only implementation in our hierarchy, found in A.\n",
    "8. `\"m1 in A\"` - A does not inherit from anything, thus there is only one possible method to call.\n",
    "9. `\"m2 in A\"` - A does not inherit from anything, thus there is only one possible method to call.\n",
    "\n",
    "\n",
    "1. valid - D inherits from B which inherits from A, so (since inheritance is transitive) D \"is an\" A.\n",
    "2. valid - The object is a D, it's just being treated as an A by the type system, so this is safe.\n",
    "3. valid - The object is a D, it's just being treated as an A by the type system, so this is safe because D \"is a\" C (in other words, D <: C)\n",
    "4. invalid - a is not a D, so it doesn't have the methods class D claims to provide."
   ]
  },
  {
   "cell_type": "code",
   "execution_count": 1,
   "metadata": {},
   "outputs": [
    {
     "data": {
      "text/plain": [
       "defined \u001b[32mclass\u001b[39m \u001b[36mA\u001b[39m\n",
       "defined \u001b[32mclass\u001b[39m \u001b[36mB\u001b[39m\n",
       "defined \u001b[32mtrait\u001b[39m \u001b[36mC\u001b[39m\n",
       "defined \u001b[32mclass\u001b[39m \u001b[36mD\u001b[39m\n",
       "\u001b[36md\u001b[39m: \u001b[32mD\u001b[39m = ammonite.$sess.cmd0$Helper$D@2a4a60a0\n",
       "\u001b[36ma\u001b[39m: \u001b[32mA\u001b[39m = ammonite.$sess.cmd0$Helper$A@cf92147\n",
       "\u001b[36ma_from_d\u001b[39m: \u001b[32mA\u001b[39m = ammonite.$sess.cmd0$Helper$D@2a4a60a0\n",
       "\u001b[36mres0_7\u001b[39m: \u001b[32mString\u001b[39m = \u001b[32m\"m1 in B\"\u001b[39m\n",
       "\u001b[36mres0_8\u001b[39m: \u001b[32mString\u001b[39m = \u001b[32m\"m2 in A\"\u001b[39m\n",
       "\u001b[36mres0_9\u001b[39m: \u001b[32mString\u001b[39m = \u001b[32m\"m2 in D\"\u001b[39m\n",
       "\u001b[36mres0_10\u001b[39m: \u001b[32mString\u001b[39m = \u001b[32m\"m3 in C\"\u001b[39m\n",
       "\u001b[36mres0_11\u001b[39m: \u001b[32mString\u001b[39m = \u001b[32m\"m4 in D\"\u001b[39m\n",
       "\u001b[36mres0_12\u001b[39m: \u001b[32mString\u001b[39m = \u001b[32m\"m1 in B\"\u001b[39m\n",
       "\u001b[36mres0_13\u001b[39m: \u001b[32mString\u001b[39m = \u001b[32m\"m2 in A\"\u001b[39m\n",
       "\u001b[36mres0_14\u001b[39m: \u001b[32mString\u001b[39m = \u001b[32m\"m1 in A\"\u001b[39m\n",
       "\u001b[36mres0_15\u001b[39m: \u001b[32mString\u001b[39m = \u001b[32m\"m2 in A\"\u001b[39m\n",
       "\u001b[36mres0_16\u001b[39m: \u001b[32mBoolean\u001b[39m = true\n",
       "\u001b[36mres0_17\u001b[39m: \u001b[32mBoolean\u001b[39m = false\n",
       "\u001b[36mres0_18\u001b[39m: \u001b[32mBoolean\u001b[39m = false\n",
       "\u001b[36mres0_19\u001b[39m: \u001b[32mBoolean\u001b[39m = false\n",
       "\u001b[36mres0_20\u001b[39m: \u001b[32mBoolean\u001b[39m = true\n",
       "\u001b[36mres0_21\u001b[39m: \u001b[32mBoolean\u001b[39m = true\n",
       "\u001b[36mres0_22\u001b[39m: \u001b[32mBoolean\u001b[39m = true\n",
       "\u001b[36mres0_23\u001b[39m: \u001b[32mBoolean\u001b[39m = true\n",
       "\u001b[36mres0_24\u001b[39m: \u001b[32mBoolean\u001b[39m = true\n",
       "\u001b[36mres0_25\u001b[39m: \u001b[32mBoolean\u001b[39m = true\n",
       "\u001b[36mres0_26\u001b[39m: \u001b[32mBoolean\u001b[39m = true\n",
       "\u001b[36mres0_27\u001b[39m: \u001b[32mBoolean\u001b[39m = true\n",
       "\u001b[36md_casted1\u001b[39m: \u001b[32mA\u001b[39m = ammonite.$sess.cmd0$Helper$D@2a4a60a0\n",
       "\u001b[36md_casted2\u001b[39m: \u001b[32mD\u001b[39m = ammonite.$sess.cmd0$Helper$D@2a4a60a0\n",
       "\u001b[36md_casted3\u001b[39m: \u001b[32mC\u001b[39m = ammonite.$sess.cmd0$Helper$D@2a4a60a0"
      ]
     },
     "execution_count": 1,
     "metadata": {},
     "output_type": "execute_result"
    }
   ],
   "source": [
    "class A {\n",
    "    def m1(): String = \"m1 in A\"\n",
    "    def m2(): String = \"m2 in A\"\n",
    "}\n",
    "\n",
    "abstract class B extends A {\n",
    "    override def m1(): String = \"m1 in B\"\n",
    "    def m3(): String\n",
    "}\n",
    "\n",
    "trait C {\n",
    "    def m2(): String\n",
    "    def m3(): String = \"m3 in C\"\n",
    "}\n",
    "\n",
    "class D extends B with C {\n",
    "    def m2(x: Int): String = \"m2 in D\"\n",
    "    def m4(): String = \"m4 in D\"\n",
    "}\n",
    "\n",
    "val d: D = new D()\n",
    "val a: A = new A()\n",
    "val a_from_d: A = d\n",
    "\n",
    "// SOLUTIOMN\n",
    "\n",
    "d.m1()\n",
    "d.m2()\n",
    "d.m2(46)\n",
    "d.m3()\n",
    "d.m4()\n",
    "\n",
    "a_from_d.m1()\n",
    "a_from_d.m2()\n",
    "a.m1()\n",
    "a.m2()\n",
    "\n",
    "a.isInstanceOf[A]\n",
    "a.isInstanceOf[B]\n",
    "a.isInstanceOf[C]\n",
    "a.isInstanceOf[D]\n",
    "\n",
    "a_from_d.isInstanceOf[A]\n",
    "a_from_d.isInstanceOf[B]\n",
    "a_from_d.isInstanceOf[C]\n",
    "a_from_d.isInstanceOf[D]\n",
    "\n",
    "d.isInstanceOf[A]\n",
    "d.isInstanceOf[B]\n",
    "d.isInstanceOf[C]\n",
    "d.isInstanceOf[D]\n",
    "\n",
    "val d_casted1 = d.asInstanceOf[A]\n",
    "val d_casted2 = a_from_d.asInstanceOf[D]\n",
    "val d_casted3 = a_from_d.asInstanceOf[C]\n",
    "// val d_casted4 = a.asInstanceOf[D]"
   ]
  },
  {
   "cell_type": "markdown",
   "metadata": {},
   "source": [
    "### Dynamic dispatch\n",
    "\n",
    "Due to inheritance and subtyping in scala, we often have objects that is an instance of many classes. An object like this can have methods that override each other. How do we know which method to run when we call it by name?\n",
    "\n",
    "Dynamic dispatch is how we pick the correct method to run at runtime, as opposed to compile time. Scala keeps track of the actual type of objects created. It then knows what the type of that object is and which method to use. \n"
   ]
  },
  {
   "cell_type": "code",
   "execution_count": 2,
   "metadata": {},
   "outputs": [
    {
     "data": {
      "text/plain": [
       "defined \u001b[32mclass\u001b[39m \u001b[36mFruit\u001b[39m\n",
       "defined \u001b[32mclass\u001b[39m \u001b[36mOrange\u001b[39m\n",
       "defined \u001b[32mclass\u001b[39m \u001b[36mBanana\u001b[39m\n",
       "defined \u001b[32mfunction\u001b[39m \u001b[36mwhatami\u001b[39m\n",
       "\u001b[36ma\u001b[39m: \u001b[32mOrange\u001b[39m = ammonite.$sess.cmd1$Helper$Orange@4db330c5\n",
       "\u001b[36mb\u001b[39m: \u001b[32mBanana\u001b[39m = ammonite.$sess.cmd1$Helper$Banana@5f60a472\n",
       "\u001b[36mc\u001b[39m: \u001b[32mFruit\u001b[39m = ammonite.$sess.cmd1$Helper$Orange@727e0db9\n",
       "\u001b[36mres1_7\u001b[39m: \u001b[32mString\u001b[39m = \u001b[32m\"i am a Orange\"\u001b[39m\n",
       "\u001b[36mbasket\u001b[39m: \u001b[32mList\u001b[39m[\u001b[32mFruit\u001b[39m] = \u001b[33mList\u001b[39m(\n",
       "  ammonite.$sess.cmd1$Helper$Orange@4db330c5,\n",
       "  ammonite.$sess.cmd1$Helper$Banana@5f60a472,\n",
       "  ammonite.$sess.cmd1$Helper$Orange@727e0db9\n",
       ")\n",
       "\u001b[36mres1_9\u001b[39m: \u001b[32mList\u001b[39m[\u001b[32mString\u001b[39m] = \u001b[33mList\u001b[39m(\u001b[32m\"orange\"\u001b[39m, \u001b[32m\"yellow\"\u001b[39m, \u001b[32m\"orange\"\u001b[39m)"
      ]
     },
     "execution_count": 2,
     "metadata": {},
     "output_type": "execute_result"
    }
   ],
   "source": [
    "class Fruit {\n",
    "    def color() : String = \"unknown\"\n",
    "}\n",
    "\n",
    "class Orange  extends Fruit {\n",
    "    override def color() : String = \"orange\"\n",
    "} \n",
    "\n",
    "class Banana extends Fruit {\n",
    "    override def color() : String = \"yellow\"\n",
    "}\n",
    "\n",
    "def whatami( x : Fruit) : String =\n",
    "   \"i am a \" + (x match {\n",
    "        case b : Banana => \"Banana\"\n",
    "        case o : Orange => \"Orange\"\n",
    "        case f : Fruit => \"Fruit\"\n",
    "    })\n",
    "\n",
    "val a = new Orange\n",
    "val b = new Banana\n",
    "val c : Fruit = new Orange\n",
    "\n",
    "whatami(c)\n",
    "\n",
    "val basket = List[Fruit]( a, b,c)\n",
    "\n",
    "basket.map{ f => f.color }"
   ]
  },
  {
   "cell_type": "markdown",
   "metadata": {},
   "source": [
    "### Design patterns in scala\n",
    "\n",
    "Design patterns are suggested ways of approaching common problems in software engineering, usually found in object oriented languages. The design pattern itself is outside the scope of the source code itself, but it is a description of the best practices on how to approach an implementation that solves that common problem. \n",
    "\n",
    "Here are some examples of design patterns in scala."
   ]
  },
  {
   "cell_type": "markdown",
   "metadata": {},
   "source": [
    "### Factory pattern\n",
    "We have seen factory patterns as an example in class. Factory patterns are one way of building instances of a class. Instead of having a constructor on the class, there is a factory object which constructs new objects. In scala the factory pattern is typically implemented as a method of a companion object."
   ]
  },
  {
   "cell_type": "code",
   "execution_count": 3,
   "metadata": {},
   "outputs": [
    {
     "name": "stdout",
     "output_type": "stream",
     "text": [
      "I am printed whenever a new  object A is created.\n",
      "I am printed whenever a new  object A is created.\n"
     ]
    },
    {
     "data": {
      "text/plain": [
       "defined \u001b[32mclass\u001b[39m \u001b[36mA\u001b[39m\n",
       "defined \u001b[32mobject\u001b[39m \u001b[36mAFactory\u001b[39m\n",
       "\u001b[36ma1\u001b[39m: \u001b[32mA\u001b[39m = ammonite.$sess.cmd2$Helper$A@65ed1983\n",
       "\u001b[36ma2\u001b[39m: \u001b[32mA\u001b[39m = ammonite.$sess.cmd2$Helper$A@54832350"
      ]
     },
     "execution_count": 3,
     "metadata": {},
     "output_type": "execute_result"
    }
   ],
   "source": [
    "class A ( val t1: Int = 0, val t2: String) {\n",
    "    // Note that any code outside of a method definition or field definition will \n",
    "    // be executed as part of the default constructor\n",
    "    private val t3: Int = t1\n",
    "    def getT1: Int = t1\n",
    "    def getT2: String = t2\n",
    "    def getT3: Int = t3\n",
    "    def setT1(new_t1: Int): A = { \n",
    "        new A (new_t1, t2)\n",
    "    }\n",
    "    println(\"I am printed whenever a new  object A is created.\")\n",
    "    \n",
    "}\n",
    "\n",
    "object AFactory {\n",
    "    // We may create a standalone object that is a \"factory\" for objects of type A\n",
    "    // instead of having a constructor\n",
    "    def createA(t1: Int, t2: String): A = {\n",
    "        new A (t1, t2)\n",
    "    }\n",
    "    \n",
    "    def createA(t: String): A = {\n",
    "        new A (t2=t)\n",
    "    }\n",
    "}\n",
    "\n",
    "val a1 = AFactory.createA(\"hello\")\n",
    "val a2 = AFactory.createA(10, \"15\")"
   ]
  },
  {
   "cell_type": "markdown",
   "metadata": {},
   "source": [
    "### Builder pattern\n",
    "A builder pattern separates the construction of an object from its description. With a builder pattern you create a builder class that matches the object you want to build. By instantiating the builder class with the desired characteristics it it able to construct the final object."
   ]
  },
  {
   "cell_type": "code",
   "execution_count": 4,
   "metadata": {},
   "outputs": [
    {
     "data": {
      "text/plain": [
       "defined \u001b[32mclass\u001b[39m \u001b[36mIngredients\u001b[39m\n",
       "defined \u001b[32mclass\u001b[39m \u001b[36mSteps\u001b[39m\n",
       "defined \u001b[32mclass\u001b[39m \u001b[36mCake\u001b[39m\n",
       "defined \u001b[32mclass\u001b[39m \u001b[36mCakeBuilder\u001b[39m\n",
       "\u001b[36mmycakebuilder\u001b[39m: \u001b[32mCakeBuilder\u001b[39m = ammonite.$sess.cmd3$Helper$CakeBuilder@24a60d46\n",
       "\u001b[36mres3_5\u001b[39m: \u001b[32mUnit\u001b[39m.type = object scala.Unit\n",
       "\u001b[36mres3_6\u001b[39m: \u001b[32mUnit\u001b[39m.type = object scala.Unit\n",
       "\u001b[36mres3_7\u001b[39m: \u001b[32mUnit\u001b[39m.type = object scala.Unit\n",
       "\u001b[36mres3_8\u001b[39m: \u001b[32mUnit\u001b[39m.type = object scala.Unit\n",
       "\u001b[36mmycake\u001b[39m: \u001b[32mCake\u001b[39m = ammonite.$sess.cmd3$Helper$Cake@7d943e97"
      ]
     },
     "execution_count": 4,
     "metadata": {},
     "output_type": "execute_result"
    }
   ],
   "source": [
    "class Ingredients(val name : String)\n",
    "class Steps\n",
    "\n",
    "class Cake(val ingredients : List[Ingredients], val steps :List[Steps]) {\n",
    "    // how to bake the cake?\n",
    "}\n",
    "\n",
    "class CakeBuilder() {\n",
    "    def add( ingredient : String) = Unit\n",
    "    def mix() = Unit\n",
    "    def bake() : Cake = new Cake(Nil,Nil)\n",
    "}\n",
    "\n",
    "val mycakebuilder = new CakeBuilder\n",
    "mycakebuilder.add(\"eggs\")\n",
    "mycakebuilder.add(\"sugar\")\n",
    "mycakebuilder.add(\"flour\")\n",
    "mycakebuilder.mix()\n",
    "val mycake = mycakebuilder.bake()"
   ]
  },
  {
   "cell_type": "markdown",
   "metadata": {},
   "source": [
    "### Singleton pattern\n",
    "The singleton pattern is used when we want to create a class with only one instance. A single object is constructed when we first use the class, whenevever we refer to that singleton, we are refering to the same instance.\n",
    "Scala provides us with the `object` built-in for creating singletons, so creating them in is easy."
   ]
  },
  {
   "cell_type": "code",
   "execution_count": 8,
   "metadata": {},
   "outputs": [
    {
     "data": {
      "text/plain": [
       "defined \u001b[32mtrait\u001b[39m \u001b[36mList\u001b[39m\n",
       "defined \u001b[32mobject\u001b[39m \u001b[36mEmpty\u001b[39m\n",
       "defined \u001b[32mclass\u001b[39m \u001b[36mCons\u001b[39m"
      ]
     },
     "execution_count": 8,
     "metadata": {},
     "output_type": "execute_result"
    }
   ],
   "source": [
    "sealed trait List[+A]\n",
    "case object Empty extends List[Nothing]\n",
    "case class Cons[A](x : A, xs : List[A]) extends List[A]"
   ]
  },
  {
   "cell_type": "code",
   "execution_count": 6,
   "metadata": {},
   "outputs": [
    {
     "data": {
      "text/plain": [
       "defined \u001b[32mobject\u001b[39m \u001b[36mCount\u001b[39m\n",
       "\u001b[36mres5_4\u001b[39m: \u001b[32mInt\u001b[39m = \u001b[32m3\u001b[39m"
      ]
     },
     "execution_count": 6,
     "metadata": {},
     "output_type": "execute_result"
    }
   ],
   "source": [
    "object Count {\n",
    "    var count = 0;\n",
    "    def increment() : Unit = {\n",
    "        count = count +1\n",
    "    }\n",
    "    def getCount() : Int = {count}\n",
    "}\n",
    "\n",
    "Count.increment()\n",
    "Count.increment()\n",
    "Count.increment()\n",
    "Count.getCount()"
   ]
  },
  {
   "cell_type": "markdown",
   "metadata": {},
   "source": [
    "### Adapter pattern\n",
    "Software developers have to deal with code that uses clunky interfaces. Using an adapter pattern allows the programmer to clean up the interface and allow code from two different interface styles to interact. Wrapping an old implementation with a new interface is an example of an adapter pattern."
   ]
  },
  {
   "cell_type": "code",
   "execution_count": 7,
   "metadata": {},
   "outputs": [
    {
     "data": {
      "text/plain": [
       "defined \u001b[32mtrait\u001b[39m \u001b[36mNewInterface\u001b[39m\n",
       "defined \u001b[32mclass\u001b[39m \u001b[36mOldImplementation\u001b[39m\n",
       "defined \u001b[32mclass\u001b[39m \u001b[36mAdapter\u001b[39m\n",
       "\u001b[36mold\u001b[39m: \u001b[32mOldImplementation\u001b[39m = ammonite.$sess.cmd6$Helper$OldImplementation@679b91af\n",
       "\u001b[36madapter\u001b[39m: \u001b[32mAdapter\u001b[39m = ammonite.$sess.cmd6$Helper$Adapter@3101f2e5\n",
       "\u001b[36mres6_5\u001b[39m: \u001b[32mInt\u001b[39m = \u001b[32m3\u001b[39m"
      ]
     },
     "execution_count": 7,
     "metadata": {},
     "output_type": "execute_result"
    }
   ],
   "source": [
    "trait NewInterface {\n",
    "    def foo(x : Int, y : Int) : Int\n",
    "}\n",
    "\n",
    "class OldImplementation() {\n",
    "    def bar(x : Double, y : Double) : Double = x + y\n",
    "}\n",
    "\n",
    "class Adapter(old : OldImplementation) extends NewInterface {\n",
    "    def foo(x : Int, y : Int) : Int = old.bar(x,y).toInt\n",
    "}\n",
    "\n",
    "val old = new OldImplementation\n",
    "val adapter = new Adapter(old)\n",
    "\n",
    "adapter.foo(1,2)"
   ]
  },
  {
   "cell_type": "code",
   "execution_count": null,
   "metadata": {},
   "outputs": [],
   "source": []
  }
 ],
 "metadata": {
  "kernelspec": {
   "display_name": "Scala",
   "language": "scala",
   "name": "scala"
  },
  "language_info": {
   "codemirror_mode": "text/x-scala",
   "file_extension": ".scala",
   "mimetype": "text/x-scala",
   "name": "scala",
   "nbconvert_exporter": "script",
   "version": "2.12.8"
  }
 },
 "nbformat": 4,
 "nbformat_minor": 2
}
