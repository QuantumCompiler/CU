{
 "cells": [
  {
   "cell_type": "markdown",
   "metadata": {},
   "source": [
    "# Traits, Type Parameters, Generics and Type Constraints\n",
    "\n",
    "In this lecture, we will cover the concepts of traits, type parameters, generics, and constraints\n",
    "on type parameters in Scala. This material is covered in chapters 12 and 19 of the Oderseky et al\n",
    "book on Scala. \n",
    "\n",
    "### Outline\n",
    "\n",
    "- Inheritance: super calls.\n",
    "- Final keyword in scala (read on your own).\n",
    "- Traits: what are traits?\n",
    "- Examples with traits.\n",
    "- Things we can and cannot do with a trait: \n",
    "  - Cannot take in class parameters\n",
    "  - If we add members to a trait, the class that extends a trait has to implement those members\n",
    "  - Traits can inherit from a base class but that limits the kind of classes that can make use of the traits\n",
    "- Talk about type parameters in functions\n",
    "\n",
    "## Inheritance: Super Calls\n",
    "\n",
    "Note that thus far, we have talked about how inheritance works. We also noted the concept of dynamic dispatch.\n",
    "Suppose we defined a function `foo` inside the base class A and override that function `foo` inside the derived class B.\n",
    "\n",
    "\n",
    "  "
   ]
  },
  {
   "cell_type": "code",
   "execution_count": 91,
   "metadata": {},
   "outputs": [
    {
     "data": {
      "text/plain": [
       "defined \u001b[32mclass\u001b[39m \u001b[36mA\u001b[39m\n",
       "defined \u001b[32mclass\u001b[39m \u001b[36mB\u001b[39m"
      ]
     },
     "execution_count": 91,
     "metadata": {},
     "output_type": "execute_result"
    }
   ],
   "source": [
    "class A {\n",
    "    def foo() = println(\"From A: Base Class\")\n",
    "}\n",
    "\n",
    "class B extends A {\n",
    "    override def foo() = {println(\"From B: Derived Class\")}\n",
    "}\n"
   ]
  },
  {
   "cell_type": "markdown",
   "metadata": {},
   "source": [
    "Suppose we created an object `b` of type B and upcast it to an object `a` of type A. What happens if we call `a.foo()`? Clearly, dynamic dispatch means that in runtime scala recognizes that object `a` was originally created as a B and upcast. It therefore calls the `foo` method defined in B. The following code illustrates this clearly."
   ]
  },
  {
   "cell_type": "code",
   "execution_count": 92,
   "metadata": {},
   "outputs": [
    {
     "name": "stdout",
     "output_type": "stream",
     "text": [
      "From B: Derived Class\n"
     ]
    },
    {
     "data": {
      "text/plain": [
       "defined \u001b[32mfunction\u001b[39m \u001b[36mcallFoo\u001b[39m\n",
       "\u001b[36mb\u001b[39m: \u001b[32mB\u001b[39m = $sess.cmd90Wrapper$Helper$B@786c6389"
      ]
     },
     "execution_count": 92,
     "metadata": {},
     "output_type": "execute_result"
    }
   ],
   "source": [
    "def callFoo(a: A) = a.foo()\n",
    "\n",
    "val b = new B()\n",
    "callFoo(b) // Upcast implicitly by scala since callFoo takes in an argument of type A"
   ]
  },
  {
   "cell_type": "markdown",
   "metadata": {},
   "source": [
    "Suppose our goal is to call the super class method from the B, we can use a super call. This simply\n",
    "uses `super` as a reference to the _immediate_ super class of a given class. For instance, inside an instance\n",
    "of object B, saying `super` refers to an object of type A."
   ]
  },
  {
   "cell_type": "code",
   "execution_count": 93,
   "metadata": {},
   "outputs": [
    {
     "name": "stdout",
     "output_type": "stream",
     "text": [
      "From A: whatever\n",
      "From B: nonsense\n"
     ]
    },
    {
     "data": {
      "text/plain": [
       "defined \u001b[32mclass\u001b[39m \u001b[36mA\u001b[39m\n",
       "defined \u001b[32mclass\u001b[39m \u001b[36mB\u001b[39m\n",
       "\u001b[36mb\u001b[39m: \u001b[32mwrapper\u001b[39m.\u001b[32mwrapper\u001b[39m.\u001b[32mB\u001b[39m = $sess.cmd92Wrapper$Helper$B@6fd5f46f"
      ]
     },
     "execution_count": 93,
     "metadata": {},
     "output_type": "execute_result"
    }
   ],
   "source": [
    "class A { \n",
    "    def foo() =  println(\"From A: whatever\")\n",
    "}\n",
    "\n",
    "class B extends A {\n",
    "    override def foo() = { super.foo(); println(\"From B: nonsense\") }\n",
    "    \n",
    "    def bar() = {super.foo()}\n",
    "}\n",
    "\n",
    "val b = new B()\n",
    "b.foo()"
   ]
  },
  {
   "cell_type": "markdown",
   "metadata": {},
   "source": [
    "## Traits\n",
    "\n",
    "Traits are an important mechanism for code reuse in scala. They allow us to define functionality that can be \n",
    "exported across multiple objects in the overall hierarchy. A trait is almost like an abstract class or an interface. It can define its own members and methods."
   ]
  },
  {
   "cell_type": "code",
   "execution_count": 94,
   "metadata": {},
   "outputs": [
    {
     "data": {
      "text/plain": [
       "defined \u001b[32mtrait\u001b[39m \u001b[36mPhilosophical\u001b[39m\n",
       "defined \u001b[32mtrait\u001b[39m \u001b[36mGreen\u001b[39m"
      ]
     },
     "execution_count": 94,
     "metadata": {},
     "output_type": "execute_result"
    }
   ],
   "source": [
    "trait Philosophical {\n",
    "    def philosophize: Unit = println(s\"I take up space, therefore I am !\")\n",
    "}\n",
    "\n",
    "trait Green {\n",
    "    def color: String = \"green\"\n",
    "}\n"
   ]
  },
  {
   "cell_type": "markdown",
   "metadata": {},
   "source": [
    "Traits can be _applied_ or _mixed in_ to classes so that the methods of the trait and the members are part of the\n",
    "object itself."
   ]
  },
  {
   "cell_type": "code",
   "execution_count": 95,
   "metadata": {},
   "outputs": [
    {
     "data": {
      "text/plain": [
       "defined \u001b[32mclass\u001b[39m \u001b[36mFrog\u001b[39m"
      ]
     },
     "execution_count": 95,
     "metadata": {},
     "output_type": "execute_result"
    }
   ],
   "source": [
    "class Frog(val name: String) extends Philosophical {\n",
    "    def getName: String = name\n",
    "    override def toString: String= \"Frog \" + name\n",
    "}"
   ]
  },
  {
   "cell_type": "code",
   "execution_count": 23,
   "metadata": {},
   "outputs": [
    {
     "name": "stdout",
     "output_type": "stream",
     "text": [
      "I take up space, therefore I am !\n",
      "I take up space, therefore I am !\n"
     ]
    },
    {
     "data": {
      "text/plain": [
       "\u001b[36mf\u001b[39m: \u001b[32mFrog\u001b[39m = Frog Freddie\n",
       "\u001b[36mk\u001b[39m: \u001b[32mFrog\u001b[39m = Frog Kermit"
      ]
     },
     "execution_count": 23,
     "metadata": {},
     "output_type": "execute_result"
    }
   ],
   "source": [
    "val f = new Frog(\"Freddie\")\n",
    "val k = new Frog(\"Kermit\")\n",
    "f.philosophize\n",
    "k.philosophize"
   ]
  },
  {
   "cell_type": "markdown",
   "metadata": {},
   "source": [
    "You cannot directly create a trait since traints are considered abstract. Well, to be honest there is a way to do this (if you are interested). **Chapter 20** of the scala textbook describes this and you may want to take a look."
   ]
  },
  {
   "cell_type": "code",
   "execution_count": 5,
   "metadata": {},
   "outputs": [
    {
     "name": "stderr",
     "output_type": "stream",
     "text": [
      "cmd5.sc:1: trait Philosophical is abstract; cannot be instantiated\n",
      "val t = new Philosophical()\n",
      "        ^"
     ]
    },
    {
     "ename": "",
     "evalue": "",
     "output_type": "error",
     "traceback": [
      "Compilation Failed"
     ]
    }
   ],
   "source": [
    "val t = new Philosophical()"
   ]
  },
  {
   "cell_type": "markdown",
   "metadata": {},
   "source": [
    "Traits are useful as modifications that we can apply and stack on top of each other. \n",
    "\n",
    "### Pattern 1: Create useful functionality that can be applied to many classes.\n",
    "\n",
    "Here is a slightly contrived example. Suppose I have a good pretty printer that can be used\n",
    "to print debug messages but can be turned off if we ever needed to. We could build a trait\n",
    "that can be applied to objects which need debug messages. The flag debug can be set to false\n",
    "and the debug messages will stop printing to the standard output."
   ]
  },
  {
   "cell_type": "code",
   "execution_count": 9,
   "metadata": {},
   "outputs": [
    {
     "data": {
      "text/plain": [
       "defined \u001b[32mtrait\u001b[39m \u001b[36mDebugPrinter\u001b[39m\n",
       "defined \u001b[32mclass\u001b[39m \u001b[36mA\u001b[39m"
      ]
     },
     "execution_count": 9,
     "metadata": {},
     "output_type": "execute_result"
    }
   ],
   "source": [
    "trait DebugPrinter {\n",
    "    val debug: Boolean\n",
    "    def debugPrint(s: String) = if (debug) println(\"Debug: \" + s)\n",
    "}\n",
    "\n",
    "class A extends DebugPrinter {\n",
    "    val debug = true // Turn off if you do not want debugging\n",
    "    def foo() = {\n",
    "        debugPrint(\"Called Foo\")\n",
    "        // Code goes here.\n",
    "        debugPrint(\"Done with Foo\")\n",
    "    }\n",
    "}"
   ]
  },
  {
   "cell_type": "markdown",
   "metadata": {},
   "source": [
    "Notice how the trait has a field `debug` in it. It is important therefore that any object that seeks to mixin a trait will need to define debug and set it appropriately during construction.\n",
    "\n",
    "## Pattern 2: Define an interface that can be implemented by various objects.\n",
    "\n",
    "Here is an example. We define an a comparison relation over objects of type T. The name of the trait\n",
    "is `Ordering[T]`. The object that extends this trait implements the `compare` operator. Once that is\n",
    "done: the trait itself implements a bunch of useful operators like <, > , ==, <= that can all be inherited."
   ]
  },
  {
   "cell_type": "code",
   "execution_count": 13,
   "metadata": {},
   "outputs": [
    {
     "data": {
      "text/plain": [
       "defined \u001b[32mtrait\u001b[39m \u001b[36mOrdering\u001b[39m"
      ]
     },
     "execution_count": 13,
     "metadata": {},
     "output_type": "execute_result"
    }
   ],
   "source": [
    "trait Ordering[T]  { \n",
    "    //The user defines a compare operator that \n",
    "    // returns == 0 if two objects are equal\n",
    "    //  > 0 if this > t\n",
    "    //  < 0 if this < t\n",
    "    def compare(t: T): Int \n",
    "    \n",
    "    // The trait can automatically define operators for us to use\n",
    "    def < (t:T): Boolean = this.compare(t) < 0\n",
    "    \n",
    "    def > (t:T): Boolean = this.compare(t) > 0\n",
    "    \n",
    "    def <= (t: T): Boolean = this.compare(t) <= 0\n",
    "    \n",
    "    def >= (t :T): Boolean = this.compare(t) >= 0\n",
    "    \n",
    "    def ==(t:T): Boolean = this.compare(t) == 0\n",
    "    \n",
    "    /* def sortList(l: List[T]): List[T] = { // Implement a generic sort algorithm using < operator\n",
    "        \n",
    "    }*/\n",
    "}"
   ]
  },
  {
   "cell_type": "code",
   "execution_count": 14,
   "metadata": {},
   "outputs": [
    {
     "data": {
      "text/plain": [
       "defined \u001b[32mclass\u001b[39m \u001b[36mA\u001b[39m"
      ]
     },
     "execution_count": 14,
     "metadata": {},
     "output_type": "execute_result"
    }
   ],
   "source": [
    "class A (val x: Int, val y: Int) extends Ordering[A] {\n",
    "    def compare(a: A) = {\n",
    "        if (this.x - a.x != 0) \n",
    "            this.x - a.x \n",
    "        else  // the x values are equal, just compare y values\n",
    "            this.y - a.y\n",
    "    }\n",
    "}"
   ]
  },
  {
   "cell_type": "code",
   "execution_count": 19,
   "metadata": {},
   "outputs": [
    {
     "name": "stdout",
     "output_type": "stream",
     "text": [
      "true\n",
      "false\n",
      "true\n",
      "true\n"
     ]
    },
    {
     "data": {
      "text/plain": [
       "\u001b[36ma\u001b[39m: \u001b[32mA\u001b[39m = $sess.cmd13Wrapper$Helper$A@6c6e8f24\n",
       "\u001b[36mb\u001b[39m: \u001b[32mA\u001b[39m = $sess.cmd13Wrapper$Helper$A@5e7a4c7f\n",
       "\u001b[36mc\u001b[39m: \u001b[32mA\u001b[39m = $sess.cmd13Wrapper$Helper$A@5276ee65"
      ]
     },
     "execution_count": 19,
     "metadata": {},
     "output_type": "execute_result"
    }
   ],
   "source": [
    "val a = new A(10, 15)\n",
    "val b = new A(12, 18)\n",
    "val c = new A(9, 19)\n",
    "\n",
    "println(a < b)\n",
    "println(a < c)\n",
    "println(a >= c)\n",
    "println(a <= a)"
   ]
  },
  {
   "cell_type": "markdown",
   "metadata": {},
   "source": [
    "Note that traits cannot take in parameters in their definition"
   ]
  },
  {
   "cell_type": "code",
   "execution_count": 19,
   "metadata": {},
   "outputs": [
    {
     "ename": "",
     "evalue": "",
     "output_type": "error",
     "traceback": [
      "SyntaxError: found \"(val color: String) \", expected Semis | End at index 13",
      "trait Color (val color: String) ",
      "            ^"
     ]
    }
   ],
   "source": [
    "\n",
    "trait Color (val color: String) { \n",
    "    def getColor: String = color\n",
    "}"
   ]
  },
  {
   "cell_type": "markdown",
   "metadata": {},
   "source": [
    "The correct way to define this is to add a field called color to the trait. "
   ]
  },
  {
   "cell_type": "code",
   "execution_count": 20,
   "metadata": {},
   "outputs": [
    {
     "data": {
      "text/plain": [
       "defined \u001b[32mtrait\u001b[39m \u001b[36mColor\u001b[39m"
      ]
     },
     "execution_count": 20,
     "metadata": {},
     "output_type": "execute_result"
    }
   ],
   "source": [
    "\n",
    "trait Color {\n",
    "    val color: String\n",
    "    def getColor: String = color\n",
    "}\n"
   ]
  },
  {
   "cell_type": "markdown",
   "metadata": {},
   "source": [
    "## Multiple Traits Applied to an Object\n",
    "\n",
    "Whereas a class in scala cannot extend from multiple base classes, it can extend from a single base class and a bunch of traits that can be mixed in. Note that we use `extends` keyword for the first class/trait that we inherit from/mixin and then a bunch of other traits can be mixed-in using the `with` keyword."
   ]
  },
  {
   "cell_type": "code",
   "execution_count": 29,
   "metadata": {},
   "outputs": [
    {
     "data": {
      "text/plain": [
       "defined \u001b[32mclass\u001b[39m \u001b[36mAnimal\u001b[39m\n",
       "defined \u001b[32mclass\u001b[39m \u001b[36mGreenFrog\u001b[39m"
      ]
     },
     "execution_count": 29,
     "metadata": {},
     "output_type": "execute_result"
    }
   ],
   "source": [
    "abstract class Animal \n",
    "// We can use extends keyword for the first inheritance from an object or for the first trait mixed in.\n",
    "// The subsequent traits are mixed in using the with keyword.\n",
    "class GreenFrog(n: String) extends Animal with Philosophical with Color { \n",
    "    // Without this line we will get a syntax error\n",
    "    val color=\"green\"\n",
    "    override def philosophize: Unit = println(s\"It ain't easy being $color\")\n",
    "}"
   ]
  },
  {
   "cell_type": "code",
   "execution_count": 30,
   "metadata": {},
   "outputs": [
    {
     "name": "stdout",
     "output_type": "stream",
     "text": [
      "It ain't easy being green\n"
     ]
    },
    {
     "data": {
      "text/plain": [
       "\u001b[36mf\u001b[39m: \u001b[32mGreenFrog\u001b[39m = $sess.cmd28Wrapper$Helper$GreenFrog@1ca99765"
      ]
     },
     "execution_count": 30,
     "metadata": {},
     "output_type": "execute_result"
    }
   ],
   "source": [
    "val f = new GreenFrog(\"froyo\")\n",
    "f.philosophize"
   ]
  },
  {
   "cell_type": "code",
   "execution_count": 96,
   "metadata": {},
   "outputs": [
    {
     "data": {
      "text/plain": [
       "defined \u001b[32mclass\u001b[39m \u001b[36mMultiColorFrog\u001b[39m"
      ]
     },
     "execution_count": 96,
     "metadata": {},
     "output_type": "execute_result"
    }
   ],
   "source": [
    "class MultiColorFrog(n: String, val color: String) extends Animal with Philosophical with Color "
   ]
  },
  {
   "cell_type": "markdown",
   "metadata": {},
   "source": [
    "Traits themselves can inherit from a class or another trait. \n",
    "If a trait inherits from a class A, it poses a restriction that the trait can only be mixed into classes\n",
    "that themselves inherit from A."
   ]
  },
  {
   "cell_type": "code",
   "execution_count": 28,
   "metadata": {},
   "outputs": [
    {
     "data": {
      "text/plain": [
       "defined \u001b[32mclass\u001b[39m \u001b[36mA\u001b[39m\n",
       "defined \u001b[32mclass\u001b[39m \u001b[36mC\u001b[39m\n",
       "defined \u001b[32mtrait\u001b[39m \u001b[36mFriendly\u001b[39m\n",
       "defined \u001b[32mclass\u001b[39m \u001b[36mD\u001b[39m\n",
       "defined \u001b[32mclass\u001b[39m \u001b[36mE\u001b[39m\n",
       "defined \u001b[32mclass\u001b[39m \u001b[36mF\u001b[39m"
      ]
     },
     "execution_count": 28,
     "metadata": {},
     "output_type": "execute_result"
    }
   ],
   "source": [
    "abstract class A \n",
    "\n",
    "abstract class C \n",
    "\n",
    "trait Friendly extends A \n",
    "\n",
    "class D extends A with Friendly // OK\n",
    "\n",
    "class E extends D // OK\n",
    "\n",
    "class F extends E with Friendly // OK since F inherits from E, which inherits from D and in turn inherits from A.\n"
   ]
  },
  {
   "cell_type": "code",
   "execution_count": 28,
   "metadata": {},
   "outputs": [
    {
     "name": "stderr",
     "output_type": "stream",
     "text": [
      "cmd28.sc:1: illegal inheritance; superclass C\n",
      " is not a subclass of the superclass A\n",
      " of the mixin trait Friendly\n",
      "class B extends C with Friendly  // NOT OK C does not inherit from A\n",
      "                       ^"
     ]
    },
    {
     "ename": "",
     "evalue": "",
     "output_type": "error",
     "traceback": [
      "Compilation Failed"
     ]
    }
   ],
   "source": [
    "class B extends C with Friendly  // NOT OK C does not inherit from A"
   ]
  },
  {
   "cell_type": "markdown",
   "metadata": {},
   "source": [
    "## Type Parameters\n",
    "\n",
    "We have thus far seen definitions like `Ordering[T]` that had a type parameter `[T]` attached to it. What is the meaning of the `[T]` parameter?\n",
    "\n",
    "Here is an example of a class C that has a parameer `[T]`."
   ]
  },
  {
   "cell_type": "code",
   "execution_count": 33,
   "metadata": {},
   "outputs": [
    {
     "data": {
      "text/plain": [
       "defined \u001b[32mclass\u001b[39m \u001b[36mC\u001b[39m"
      ]
     },
     "execution_count": 33,
     "metadata": {},
     "output_type": "execute_result"
    }
   ],
   "source": [
    "abstract class C[T] {\n",
    "    val t: T\n",
    "    def transform(arg: T): String = arg.toString\n",
    "}"
   ]
  },
  {
   "cell_type": "markdown",
   "metadata": {},
   "source": [
    "`T` stands for a type that can be any type: an object defined by us or a predefined object such as `Int`, `String`, `List[String]` and so on.\n",
    "\n",
    "We can instantiate `T` in many ways."
   ]
  },
  {
   "cell_type": "code",
   "execution_count": 41,
   "metadata": {},
   "outputs": [
    {
     "data": {
      "text/plain": [
       "defined \u001b[32mclass\u001b[39m \u001b[36mD\u001b[39m\n",
       "defined \u001b[32mclass\u001b[39m \u001b[36mE\u001b[39m\n",
       "\u001b[36me\u001b[39m: \u001b[32mwrapper\u001b[39m.\u001b[32mwrapper\u001b[39m.\u001b[32mE\u001b[39m[\u001b[32mString\u001b[39m] = $sess.cmd40Wrapper$Helper$E@7e676bd0\n",
       "\u001b[36mf\u001b[39m: \u001b[32mwrapper\u001b[39m.\u001b[32mwrapper\u001b[39m.\u001b[32mE\u001b[39m[\u001b[32mList\u001b[39m[\u001b[32mString\u001b[39m]] = $sess.cmd40Wrapper$Helper$E@4384fb39\n",
       "defined \u001b[32mclass\u001b[39m \u001b[36mF\u001b[39m\n",
       "\u001b[36mg\u001b[39m: \u001b[32mwrapper\u001b[39m.\u001b[32mwrapper\u001b[39m.\u001b[32mE\u001b[39m[\u001b[32mwrapper\u001b[39m.\u001b[32mwrapper\u001b[39m.\u001b[32mF\u001b[39m] = $sess.cmd40Wrapper$Helper$E@22025e17"
      ]
     },
     "execution_count": 41,
     "metadata": {},
     "output_type": "execute_result"
    }
   ],
   "source": [
    "class D extends C[Int] {\n",
    "    val t = 42\n",
    "    override def transform(arg: Int): String = {s\"Transform to $arg\"}\n",
    "}\n",
    "\n",
    "class E[T](val t: T) extends C[T] {\n",
    "    override def transform(arg: T): String = s\"Better way to transform ${arg.toString}\"\n",
    "}\n",
    "\n",
    "val e = new E(\"hello\") //No need to say E[String] Why?\n",
    "\n",
    "val f = new E(List(\"Hello\", \"World\", \"Whatever\")) // Scala type infers that f has type E[List[String]]\n",
    "\n",
    "\n",
    "class F (val x: String) \n",
    "\n",
    "val g: E[F] = new E(new F(\"Hello\"))"
   ]
  },
  {
   "cell_type": "markdown",
   "metadata": {},
   "source": [
    "## Constraints on Type Parameters\n",
    "\n",
    "We often want to assume that when we have a type parameter T, that T has a certain function foo defined inside it so that we could call the foo method of any object of type t. In general, it is not enough to pass any type parameter but to have some things that we would like to assume about the type parameter. How do we achieve that?"
   ]
  },
  {
   "cell_type": "code",
   "execution_count": 41,
   "metadata": {},
   "outputs": [
    {
     "name": "stderr",
     "output_type": "stream",
     "text": [
      "cmd41.sc:1: value foo is not a member of type parameter T\n",
      "def callFoo[T](arg: T): Unit = arg.foo()\n",
      "                                   ^"
     ]
    },
    {
     "ename": "",
     "evalue": "",
     "output_type": "error",
     "traceback": [
      "Compilation Failed"
     ]
    }
   ],
   "source": [
    "def callFoo[T](arg: T): Unit = arg.foo(25)"
   ]
  },
  {
   "cell_type": "markdown",
   "metadata": {},
   "source": [
    "The attempt above failed. Scala being strongly typed wants an assurance that T has a method called foo that takes in an `Int` and returns `Unit`. How do we say this?\n",
    "- Define an abstract class or a trait called A.\n",
    "- Say that T must be a derived class of A. To do so we say `T <: A` the `<:` means `is a subtype of` (or is a derived class of)."
   ]
  },
  {
   "cell_type": "code",
   "execution_count": 44,
   "metadata": {},
   "outputs": [
    {
     "data": {
      "text/plain": [
       "defined \u001b[32mtrait\u001b[39m \u001b[36mA\u001b[39m\n",
       "defined \u001b[32mfunction\u001b[39m \u001b[36mcallFoo\u001b[39m"
      ]
     },
     "execution_count": 44,
     "metadata": {},
     "output_type": "execute_result"
    }
   ],
   "source": [
    "trait A {\n",
    "    def foo(i: Int): Unit\n",
    "}\n",
    "\n",
    "def callFoo[T <: A ](arg: T ): Unit = {\n",
    "    arg.foo(42)\n",
    "}"
   ]
  },
  {
   "cell_type": "code",
   "execution_count": 46,
   "metadata": {},
   "outputs": [
    {
     "name": "stdout",
     "output_type": "stream",
     "text": [
      "phoo - 42\n"
     ]
    },
    {
     "data": {
      "text/plain": [
       "defined \u001b[32mclass\u001b[39m \u001b[36mC\u001b[39m\n",
       "\u001b[36mc\u001b[39m: \u001b[32mwrapper\u001b[39m.\u001b[32mwrapper\u001b[39m.\u001b[32mC\u001b[39m = $sess.cmd45Wrapper$Helper$C@9940a9c"
      ]
     },
     "execution_count": 46,
     "metadata": {},
     "output_type": "execute_result"
    }
   ],
   "source": [
    "class C extends A {\n",
    "    override def foo(i: Int): Unit = println(s\"phoo - $i\")\n",
    "}\n",
    "\n",
    "val c = new C()\n",
    "callFoo(c)"
   ]
  },
  {
   "cell_type": "code",
   "execution_count": 50,
   "metadata": {
    "scrolled": true
   },
   "outputs": [
    {
     "data": {
      "text/plain": [
       "defined \u001b[32mclass\u001b[39m \u001b[36mA\u001b[39m\n",
       "defined \u001b[32mclass\u001b[39m \u001b[36mB\u001b[39m\n",
       "defined \u001b[32mfunction\u001b[39m \u001b[36mcallFoo\u001b[39m\n",
       "defined \u001b[32mclass\u001b[39m \u001b[36mC\u001b[39m\n",
       "\u001b[36mres49_4\u001b[39m: \u001b[32mInt\u001b[39m = \u001b[32m42\u001b[39m"
      ]
     },
     "execution_count": 50,
     "metadata": {},
     "output_type": "execute_result"
    }
   ],
   "source": [
    "class A  {\n",
    "    val t = 25\n",
    "}\n",
    "\n",
    "abstract class B extends A {\n",
    "    def foo(): Int\n",
    "}\n",
    "\n",
    "def callFoo[T <: B] (t: T) = t.foo() // Scala infers return type is Int\n",
    "\n",
    "class C extends B {\n",
    "    override def foo() = 42\n",
    "}\n",
    "\n",
    "callFoo(new C())"
   ]
  },
  {
   "cell_type": "markdown",
   "metadata": {},
   "source": [
    "Notice that callFoo has the constraint that `T` can only be a subclass of `B`. For instance, we cannot try to use a class of type A."
   ]
  },
  {
   "cell_type": "code",
   "execution_count": 50,
   "metadata": {},
   "outputs": [
    {
     "name": "stderr",
     "output_type": "stream",
     "text": [
      "cmd50.sc:1: inferred type arguments [cmd50Wrapper.this.cmd49.wrapper.A] do not conform to method callFoo's type parameter bounds [T <: cmd50Wrapper.this.cmd49.wrapper.B]\n",
      "def wrapper(a: A) = callFoo(a)\n",
      "                    ^cmd50.sc:1: type mismatch;\n",
      " found   : cmd50Wrapper.this.cmd49.wrapper.A\n",
      " required: T\n",
      "def wrapper(a: A) = callFoo(a)\n",
      "                            ^"
     ]
    },
    {
     "ename": "",
     "evalue": "",
     "output_type": "error",
     "traceback": [
      "Compilation Failed"
     ]
    }
   ],
   "source": [
    "def wrapper(a: A) = callFoo(a)"
   ]
  },
  {
   "cell_type": "markdown",
   "metadata": {},
   "source": [
    "Sometimes we may imagine an opposite situation where we do not want foo to be called on objects that are greater than some object in the type hierarchy.\n",
    "\n",
    "The following exposition is inspired from this wonderful blog post: https://apiumhub.com/tech-blog-barcelona/scala-type-bounds/"
   ]
  },
  {
   "cell_type": "code",
   "execution_count": 87,
   "metadata": {},
   "outputs": [
    {
     "data": {
      "text/plain": [
       "defined \u001b[32mtrait\u001b[39m \u001b[36mThing\u001b[39m\n",
       "defined \u001b[32mtrait\u001b[39m \u001b[36mVehicle\u001b[39m\n",
       "defined \u001b[32mclass\u001b[39m \u001b[36mCar\u001b[39m\n",
       "defined \u001b[32mclass\u001b[39m \u001b[36mBus\u001b[39m\n",
       "defined \u001b[32mclass\u001b[39m \u001b[36mSedan\u001b[39m\n",
       "defined \u001b[32mclass\u001b[39m \u001b[36mBigCar\u001b[39m\n",
       "defined \u001b[32mclass\u001b[39m \u001b[36mJeep\u001b[39m\n",
       "defined \u001b[32mclass\u001b[39m \u001b[36mMotorCycle\u001b[39m\n",
       "defined \u001b[32mclass\u001b[39m \u001b[36mTomato\u001b[39m"
      ]
     },
     "execution_count": 87,
     "metadata": {},
     "output_type": "execute_result"
    }
   ],
   "source": [
    "trait Thing {\n",
    "    val name: String \n",
    "}\n",
    "trait Vehicle extends Thing\n",
    "\n",
    "class Car (val name: String) extends Vehicle {\n",
    "    def getName: String = s\"car + $name\"\n",
    "}\n",
    "\n",
    "class Bus (val name: String) extends Vehicle\n",
    "\n",
    "// The class parameter name in Sedan must be the same name in car. \n",
    "// Therefore, you need to say override\n",
    "// Read chapters 4, 10 of the Scala book\n",
    "class Sedan (override val name: String) extends Car(name) {\n",
    "    override def getName: String = s\"sedan + $name\"\n",
    "}\n",
    "\n",
    "\n",
    "abstract class BigCar(override val name: String) extends Sedan(name) {\n",
    "    override def getName: String = s\"bigcar + $name\"\n",
    "}\n",
    "\n",
    "class Jeep (override val name: String) extends BigCar(name) {\n",
    "    override def getName: String = s\"jeep + $name\"\n",
    "}\n",
    "\n",
    "class MotorCycle(override val name: String) extends Vehicle \n",
    "\n",
    "class Tomato extends Thing { \n",
    "    override val name = \"Tomato \"\n",
    "}"
   ]
  },
  {
   "cell_type": "markdown",
   "metadata": {},
   "source": [
    "Drawing a tree diagram helps one visualize the class hierarchy that the above definitions have created.\n",
    "Let us now define a function that will park a vehicle."
   ]
  },
  {
   "cell_type": "code",
   "execution_count": 75,
   "metadata": {},
   "outputs": [
    {
     "name": "stderr",
     "output_type": "stream",
     "text": [
      "cmd75.sc:1: value name is not a member of type parameter A\n",
      "def parkVehicle[A] (a: A) = println(s\"Parked vehicle: ${a.name}\")\n",
      "                                                          ^"
     ]
    },
    {
     "ename": "",
     "evalue": "",
     "output_type": "error",
     "traceback": [
      "Compilation Failed"
     ]
    }
   ],
   "source": [
    "def parkVehicle[A] (a: A) = println(s\"Parked vehicle: ${a.name}\")"
   ]
  },
  {
   "cell_type": "markdown",
   "metadata": {},
   "source": [
    "Oops: The type parameter A must have a field called name. To ensure that Scala is happy, we will add a constraint."
   ]
  },
  {
   "cell_type": "code",
   "execution_count": 76,
   "metadata": {},
   "outputs": [
    {
     "data": {
      "text/plain": [
       "defined \u001b[32mfunction\u001b[39m \u001b[36mparkVehicle\u001b[39m"
      ]
     },
     "execution_count": 76,
     "metadata": {},
     "output_type": "execute_result"
    }
   ],
   "source": [
    "def parkVehicle[A <: Thing](a: A) = println(s\"Parked vehicle: ${a.name}\")"
   ]
  },
  {
   "cell_type": "code",
   "execution_count": 77,
   "metadata": {},
   "outputs": [
    {
     "name": "stdout",
     "output_type": "stream",
     "text": [
      "Parked vehicle: Toyota Yaris\n"
     ]
    }
   ],
   "source": [
    "parkVehicle(new Sedan(\"Toyota Yaris\"))"
   ]
  },
  {
   "cell_type": "markdown",
   "metadata": {},
   "source": [
    "Ooops: But I can now park a tomato"
   ]
  },
  {
   "cell_type": "code",
   "execution_count": 78,
   "metadata": {},
   "outputs": [
    {
     "name": "stdout",
     "output_type": "stream",
     "text": [
      "Parked vehicle: Tomato \n"
     ]
    }
   ],
   "source": [
    "parkVehicle(new Tomato)"
   ]
  },
  {
   "cell_type": "markdown",
   "metadata": {},
   "source": [
    "I can also park a bus"
   ]
  },
  {
   "cell_type": "code",
   "execution_count": 79,
   "metadata": {},
   "outputs": [
    {
     "name": "stdout",
     "output_type": "stream",
     "text": [
      "Parked vehicle: School Bus\n"
     ]
    }
   ],
   "source": [
    "parkVehicle(new Bus(\"School Bus\"))"
   ]
  },
  {
   "cell_type": "markdown",
   "metadata": {},
   "source": [
    "Let us fix it by adding an appropriate constraint."
   ]
  },
  {
   "cell_type": "code",
   "execution_count": 80,
   "metadata": {},
   "outputs": [
    {
     "data": {
      "text/plain": [
       "defined \u001b[32mfunction\u001b[39m \u001b[36mparkVehicle\u001b[39m"
      ]
     },
     "execution_count": 80,
     "metadata": {},
     "output_type": "execute_result"
    }
   ],
   "source": [
    "def parkVehicle[A <: Car] (a: A) = println(s\"Parked vehicle: ${a.name}\")"
   ]
  },
  {
   "cell_type": "code",
   "execution_count": 80,
   "metadata": {},
   "outputs": [
    {
     "name": "stderr",
     "output_type": "stream",
     "text": [
      "cmd80.sc:1: inferred type arguments [cmd80Wrapper.this.cmd74.wrapper.Bus] do not conform to method parkVehicle's type parameter bounds [A <: cmd80Wrapper.this.cmd79.cmd74.wrapper.Car]\n",
      "val res80 = parkVehicle(new Bus(\"School Bus\"))\n",
      "            ^cmd80.sc:1: type mismatch;\n",
      " found   : cmd80Wrapper.this.cmd74.wrapper.Bus\n",
      " required: A\n",
      "val res80 = parkVehicle(new Bus(\"School Bus\"))\n",
      "                        ^"
     ]
    },
    {
     "ename": "",
     "evalue": "",
     "output_type": "error",
     "traceback": [
      "Compilation Failed"
     ]
    }
   ],
   "source": [
    "parkVehicle(new Bus(\"School Bus\"))"
   ]
  },
  {
   "cell_type": "code",
   "execution_count": 80,
   "metadata": {},
   "outputs": [
    {
     "name": "stderr",
     "output_type": "stream",
     "text": [
      "cmd80.sc:1: inferred type arguments [cmd80Wrapper.this.cmd74.wrapper.Tomato] do not conform to method parkVehicle's type parameter bounds [A <: cmd80Wrapper.this.cmd79.cmd74.wrapper.Car]\n",
      "val res80 = parkVehicle(new Tomato)\n",
      "            ^cmd80.sc:1: type mismatch;\n",
      " found   : cmd80Wrapper.this.cmd74.wrapper.Tomato\n",
      " required: A\n",
      "val res80 = parkVehicle(new Tomato)\n",
      "                        ^"
     ]
    },
    {
     "ename": "",
     "evalue": "",
     "output_type": "error",
     "traceback": [
      "Compilation Failed"
     ]
    }
   ],
   "source": [
    "parkVehicle(new Tomato)"
   ]
  },
  {
   "cell_type": "markdown",
   "metadata": {},
   "source": [
    "However, we do not want to be able to park Jeeps since they are too big for parking spot. We can right an annotation like so using `>:` to say that `A` must be a super class of BigCar in the class hierarchy."
   ]
  },
  {
   "cell_type": "code",
   "execution_count": 88,
   "metadata": {},
   "outputs": [
    {
     "data": {
      "text/plain": [
       "defined \u001b[32mfunction\u001b[39m \u001b[36mparkCompactVehicle\u001b[39m"
      ]
     },
     "execution_count": 88,
     "metadata": {},
     "output_type": "execute_result"
    }
   ],
   "source": [
    "def parkCompactVehicle[A >: BigCar <: Car] (a: A) = println(s\"Parked vehicle: ${a.getName} in a compact spot\")"
   ]
  },
  {
   "cell_type": "code",
   "execution_count": 88,
   "metadata": {},
   "outputs": [
    {
     "name": "stderr",
     "output_type": "stream",
     "text": [
      "cmd88.sc:1: type arguments [cmd88Wrapper.this.cmd86.wrapper.Jeep] do not conform to method parkCompactVehicle's type parameter bounds [A >: cmd88Wrapper.this.cmd87.cmd86.wrapper.BigCar <: cmd88Wrapper.this.cmd87.cmd86.wrapper.Car]\n",
      "val res88 = parkCompactVehicle[Jeep](new Jeep(\"Volvo\"))\n",
      "                              ^"
     ]
    },
    {
     "ename": "",
     "evalue": "",
     "output_type": "error",
     "traceback": [
      "Compilation Failed"
     ]
    }
   ],
   "source": [
    "parkCompactVehicle[Jeep](new Jeep(\"Volvo\"))\n"
   ]
  },
  {
   "cell_type": "code",
   "execution_count": 89,
   "metadata": {},
   "outputs": [
    {
     "name": "stdout",
     "output_type": "stream",
     "text": [
      "Parked vehicle: jeep + Volvo in a compact spot\n"
     ]
    }
   ],
   "source": [
    "parkCompactVehicle[Sedan](new Jeep(\"Volvo\")) // Can you tell me why this works? "
   ]
  },
  {
   "cell_type": "code",
   "execution_count": 90,
   "metadata": {},
   "outputs": [
    {
     "name": "stdout",
     "output_type": "stream",
     "text": [
      "Parked vehicle: sedan + Toyota Yaris in a compact spot\n"
     ]
    },
    {
     "data": {
      "text/plain": [
       "\u001b[36ms\u001b[39m: \u001b[32mSedan\u001b[39m = $sess.cmd86Wrapper$Helper$Sedan@710abf94"
      ]
     },
     "execution_count": 90,
     "metadata": {},
     "output_type": "execute_result"
    }
   ],
   "source": [
    "val s: Sedan = new Sedan(\"Toyota Yaris\")\n",
    "parkCompactVehicle[Sedan](s)"
   ]
  }
 ],
 "metadata": {
  "kernelspec": {
   "display_name": "Scala",
   "language": "scala",
   "name": "scala"
  },
  "language_info": {
   "codemirror_mode": "text/x-scala",
   "file_extension": ".scala",
   "mimetype": "text/x-scala",
   "name": "scala",
   "nbconvert_exporter": "script",
   "version": "2.12.10"
  }
 },
 "nbformat": 4,
 "nbformat_minor": 2
}
