{
 "cells": [
  {
   "cell_type": "markdown",
   "metadata": {},
   "source": [
    "# Classes and Inheritance\n",
    "\n",
    "In this lecture, we will cover Classes and Inheritance, keeping scala as the focus of our study. Our goal is to understand object systems and inheritance concepts. \n",
    "- What are classes? \n",
    "- What is inheritance and why is it useful?\n",
    "- Multiple inheritance and the  dreaded diamond issue (discussed in lecture)\n",
    "- Upcasting/Downcasting\n",
    "- Liskov's Substitution Principle\n",
    "\n",
    "\n",
    "## Object Oriented Programming\n",
    "\n",
    "\"_I thought of objects being like biological cells and/or individual computers on a network, only able to communicate with messages (so messaging came at the very beginning -- it took a while to see how to do messaging in a programming language efficiently enough to be useful)._\" -- Alan Kay (computing pioneer and an early inventor of object oriented programming)\n",
    "\n",
    "Object oriented programming is a style of programming that involves creating and manipulating objects/classes. We have already seen objects and used them. Let us summarize their main features:\n",
    "1. Objects have a bunch of members which can be fields or methods. Some languages allow us to classify these fields as public/private.\n",
    "2. The fields encapsulate a bunch of related data items and the methods encapsulate a bunch of operations that can apply to these data items. \n",
    "\n",
    "### What are objects (and how are they different from classes)?\n",
    "\n",
    "A class is a type and an object is an instance of that type.\n",
    "\n",
    "Here is an example of a class `A`. It has member fields `t1, t2` and `t3`. It also has methods\n",
    "`getT1, getT2, getT3` and `setT1`."
   ]
  },
  {
   "cell_type": "code",
   "execution_count": 3,
   "metadata": {},
   "outputs": [
    {
     "data": {
      "text/plain": [
       "\u001b[32mimport \u001b[39m\u001b[36mscala.util.matching.Regex\n",
       "\n",
       "// Note that t4 has a default value of 0 here.\n",
       "\u001b[39m\n",
       "defined \u001b[32mclass\u001b[39m \u001b[36mA\u001b[39m"
      ]
     },
     "execution_count": 3,
     "metadata": {},
     "output_type": "execute_result"
    }
   ],
   "source": [
    "import scala.util.matching.Regex\n",
    "\n",
    "// Note that t4 has a default value of 0 here.\n",
    "class A ( val t1: Int, val t2: String, val t4: Int = 0) {\n",
    "    // Note that any code outside of a method definition or field definition will \n",
    "    // be executed as part of the default constructor\n",
    "    if (t4 == 0){\n",
    "        println(\"You set the field t4 to its default value 0\")\n",
    "    }\n",
    "    \n",
    "    private val t3: Int = t1\n",
    "    def getT1: Int = t1\n",
    "    def getT2: String = t2\n",
    "    def getT3: Int = t3\n",
    "    def setT1(new_t1: Int): A = { \n",
    "        new A (new_t1, t2)\n",
    "    }\n",
    "    \n",
    "    println(\"I am printed whenever a new  object A is created.\")\n",
    "    \n",
    "}\n"
   ]
  },
  {
   "cell_type": "markdown",
   "metadata": {},
   "source": [
    "Here are some instances of class A also called objects (in the standard terminology)."
   ]
  },
  {
   "cell_type": "code",
   "execution_count": 4,
   "metadata": {},
   "outputs": [
    {
     "name": "stdout",
     "output_type": "stream",
     "text": [
      "You set the field t4 to its default value 0\n",
      "I am printed whenever a new  object A is created.\n",
      "I am printed whenever a new  object A is created.\n"
     ]
    },
    {
     "data": {
      "text/plain": [
       "\u001b[36ma1\u001b[39m: \u001b[32mA\u001b[39m = ammonite.$sess.cmd2$Helper$A@8ddbc72\n",
       "\u001b[36mres3_1\u001b[39m: \u001b[32mInt\u001b[39m = \u001b[32m10\u001b[39m\n",
       "\u001b[36ma2\u001b[39m: \u001b[32mA\u001b[39m = ammonite.$sess.cmd2$Helper$A@7bb92dc8\n",
       "\u001b[36mres3_3\u001b[39m: \u001b[32mString\u001b[39m = \u001b[32m\"hello\"\u001b[39m"
      ]
     },
     "execution_count": 4,
     "metadata": {},
     "output_type": "execute_result"
    }
   ],
   "source": [
    "val a1: A = new A( 10, \"15\")\n",
    "a1.getT3\n",
    "val a2: A = new A (22, \"hello\", -24)\n",
    "a2.getT2"
   ]
  },
  {
   "cell_type": "markdown",
   "metadata": {},
   "source": [
    "We can interact with objects in many ways: (a) by accessing public fields, and (b) by calling public methods in the objects. Calling a method in an object is also termed _sending a message to the object_ in the technical literature.\n",
    "\n",
    "Accessing private fields in an object from outside will result in an error."
   ]
  },
  {
   "cell_type": "code",
   "execution_count": 7,
   "metadata": {},
   "outputs": [
    {
     "name": "stderr",
     "output_type": "stream",
     "text": [
      "cmd7.sc:3: value t3 in class A cannot be accessed in cmd7.this.cmd2.A\n",
      "val res7_1 = println(s\"t3 = ${a2.t3}\")\n",
      "                                 ^Compilation Failed"
     ]
    },
    {
     "ename": "",
     "evalue": "",
     "output_type": "error",
     "traceback": [
      "Compilation Failed"
     ]
    }
   ],
   "source": [
    "val a2: A = new A(250, \"hello\")\n",
    "// This will fail why?\n",
    "println(s\"t3 = ${a2.t3}\")"
   ]
  },
  {
   "cell_type": "markdown",
   "metadata": {},
   "source": [
    "Scala also allows something called an \"object\" which is declared as such."
   ]
  },
  {
   "cell_type": "code",
   "execution_count": 5,
   "metadata": {},
   "outputs": [
    {
     "data": {
      "text/plain": [
       "defined \u001b[32mobject\u001b[39m \u001b[36mAFactory\u001b[39m"
      ]
     },
     "execution_count": 5,
     "metadata": {},
     "output_type": "execute_result"
    }
   ],
   "source": [
    "\n",
    "object AFactory {\n",
    "    // We may create a standalone object that is a \"factory\" for objects of type A\n",
    "    // instead of having a constructor\n",
    "    def createA(t1: Int, t2: String): A = {\n",
    "        new A (t1, t2)\n",
    "    }\n",
    "    \n",
    "    def createA(t: String): A = {\n",
    "        new A (t1 = 0, t2=t)\n",
    "    }\n",
    "    def createAFromFormattedString(fString: String): A = {\n",
    "        // Regular expression\n",
    "        val regex = raw\"(\\d+)\\s*,\\s*([a-zA-Z_ ]*)\".r\n",
    "        fString match {\n",
    "            case regex(numField, strField) => { println(s\"Parsed formatted string: $numField, $strField\")\n",
    "                                               createA(numField.toInt, strField)}\n",
    "            case _ => throw new IllegalArgumentException(s\"You must supply a formatted input: integer, string\")\n",
    "        }\n",
    "    }\n",
    "}"
   ]
  },
  {
   "cell_type": "markdown",
   "metadata": {},
   "source": [
    "When a class is declared as an \"object\" in scala, there is only one instance of the class which is an object with the name `AFactory` in this case. We cannot create the object but it is already pre-created. We can call its methods since a single instance of the class has already been created."
   ]
  },
  {
   "cell_type": "code",
   "execution_count": 7,
   "metadata": {},
   "outputs": [
    {
     "name": "stdout",
     "output_type": "stream",
     "text": [
      "You set the field t4 to its default value 0\n",
      "I am printed whenever a new  object A is created.\n",
      "You set the field t4 to its default value 0\n",
      "I am printed whenever a new  object A is created.\n",
      "You set the field t4 to its default value 0\n",
      "I am printed whenever a new  object A is created.\n",
      "Parsed formatted string: 251, hello world\n",
      "You set the field t4 to its default value 0\n",
      "I am printed whenever a new  object A is created.\n"
     ]
    },
    {
     "data": {
      "text/plain": [
       "\u001b[36ma1\u001b[39m: \u001b[32mA\u001b[39m = ammonite.$sess.cmd2$Helper$A@6b51d04e\n",
       "\u001b[36mres6_1\u001b[39m: \u001b[32mA\u001b[39m = ammonite.$sess.cmd2$Helper$A@1d3147ef\n",
       "\u001b[36mres6_2\u001b[39m: \u001b[32mA\u001b[39m = ammonite.$sess.cmd2$Helper$A@78d39ca5\n",
       "\u001b[36mres6_3\u001b[39m: \u001b[32mA\u001b[39m = ammonite.$sess.cmd2$Helper$A@1b625440"
      ]
     },
     "execution_count": 7,
     "metadata": {},
     "output_type": "execute_result"
    }
   ],
   "source": [
    "val a1 = AFactory.createA(10, \"hey\")\n",
    "AFactory.createA(\"hello\")\n",
    "AFactory.createA(10, \"15\")\n",
    "AFactory.createAFromFormattedString(\"251, hello world\")"
   ]
  },
  {
   "cell_type": "markdown",
   "metadata": {},
   "source": [
    "## Information Hiding Through Encapsulation\n",
    "\n",
    "Encapsulation is an important reason why we use classes. Classes are wrappers around data that allow us to access their internals either through public fields or well defined methods. As a result, they provide a clean interface that  the outside world (i.e, other classes) can use to manipulate the data or compute information.\n",
    "\n",
    "Here is a simple example of encapsulation of an employee's salary. We are not allowed to directly manipulate the salary. Instead we can use the defined interface methods `setSalary`, `giveARaise` and `getSalary` to change or find out what the employee's salary is. "
   ]
  },
  {
   "cell_type": "code",
   "execution_count": 6,
   "metadata": {},
   "outputs": [
    {
     "data": {
      "text/plain": [
       "defined \u001b[32mclass\u001b[39m \u001b[36mEmployee\u001b[39m"
      ]
     },
     "execution_count": 6,
     "metadata": {},
     "output_type": "execute_result"
    }
   ],
   "source": [
    "class Employee(val n: String, val id: Int) {\n",
    "    \n",
    "    private var salary: Double = 0\n",
    "    \n",
    "    def setSalary(s: Double) = { \n",
    "        assert (s > 0, \"setting salary to a negative value is not allowed\")\n",
    "        salary = s\n",
    "    }\n",
    "    \n",
    "    def giveARaise(percent: Double)={\n",
    "        assert(percent >= 0 && percent < 100.0)\n",
    "        salary = salary * ( 1+ percent/100.0)\n",
    "    }\n",
    "    \n",
    "    def getSalary: Double = salary\n",
    "}"
   ]
  },
  {
   "cell_type": "markdown",
   "metadata": {},
   "source": [
    "Encapsulation is super important in many situations where we wish to maintain important \"invariants\" that must be preserved even if the underlying data changes. A classic example consists of _tracking_ quantities as we are making changes. For instance, let us maintain an array of tasks for which we would like  to maintain the total time taken so far. As we add tasks or change task times, we would like to maintain the _invariant_ that the \n",
    "field `totalTimesSoFar` is the sum of all the task times."
   ]
  },
  {
   "cell_type": "code",
   "execution_count": 13,
   "metadata": {},
   "outputs": [
    {
     "data": {
      "text/plain": [
       "defined \u001b[32mclass\u001b[39m \u001b[36mArrayOfTaskTimes\u001b[39m"
      ]
     },
     "execution_count": 13,
     "metadata": {},
     "output_type": "execute_result"
    }
   ],
   "source": [
    "class ArrayOfTaskTimes {\n",
    "    private var taskTimes: List[Double] = List()\n",
    "    private var totalTimeSoFar: Double = 0.0\n",
    "    private var maxTaskTime: Double = \"-inf\".toDouble\n",
    "    \n",
    "    // Getters\n",
    "    def getNumTasks: Int = taskTimes.length\n",
    "    def getTotalTimeSoFar: Double = totalTimeSoFar // We are saving on computing sum here\n",
    "    \n",
    "    \n",
    "    def addTask(t: Double) = {\n",
    "        // Append to the task times\n",
    "        taskTimes = t::taskTimes\n",
    "        // Adjust totalTimeSoFAr\n",
    "        totalTimeSoFar = totalTimeSoFar + t\n",
    "        // Adjust the max\n",
    "        maxTaskTime = math.max(maxTaskTime, t)\n",
    "    }\n",
    "    \n",
    "    def changeTaskTimes(delta: Double) =  {\n",
    "        // Add delta to all taskTimes but do not let it go below 0\n",
    "        taskTimes = taskTimes.map ( v => { math.max( 0.0, v + delta) } )\n",
    "        // update total task time\n",
    "        totalTimeSoFar = taskTimes.sum\n",
    "        // update the max: there is an easier way but this works for now.\n",
    "        maxTaskTime = taskTimes.max\n",
    "    }\n",
    "}"
   ]
  },
  {
   "cell_type": "markdown",
   "metadata": {},
   "source": [
    "## Composition\n",
    "\n",
    "Objects are very useful in composition that allows us to build bigger structures from smaller ones. \n",
    "In composition, one object contains a reference to others.\n",
    "\n",
    "For instance, let us think of representing what we need for a webpage in a browser. We have class HtmlContents\n",
    "to store the contents of a page and a Url that holds a url and its contents as a HtmlContents object.\n",
    "\n",
    "When it requires a function to remove the tags from a given url, it _delegates_ it to the HtmlContents object that has a removeTags object."
   ]
  },
  {
   "cell_type": "code",
   "execution_count": 14,
   "metadata": {},
   "outputs": [
    {
     "data": {
      "text/plain": [
       "defined \u001b[32mclass\u001b[39m \u001b[36mHtmlContents\u001b[39m\n",
       "defined \u001b[32mclass\u001b[39m \u001b[36mUrl\u001b[39m"
      ]
     },
     "execution_count": 14,
     "metadata": {},
     "output_type": "execute_result"
    }
   ],
   "source": [
    "class HtmlContents(cont: String) {\n",
    "    def removeTags: String = { \n",
    "        val dummy = \"\"\n",
    "        // CODE that will remove tags from a HTML\n",
    "        return dummy\n",
    "    }\n",
    "}\n",
    "\n",
    "class Url(url: String, html: HtmlContents) {\n",
    "  //.. various classes\n",
    "  def fetchAndRemoveTags() = {\n",
    "      /// function that will fetch an URL\n",
    "      //\n",
    "      html.removeTags\n",
    "  }  \n",
    "}\n"
   ]
  },
  {
   "cell_type": "markdown",
   "metadata": {},
   "source": [
    "##  Inheritance\n",
    "\n",
    "Inheritance is a powerful mechanism in many object oriented languages. It allows us to define something common to numerous classes and refactor it out. Inheritance has many positive properties: (a) it allows us to reuse code by implementing functionality that is common to many objects; (b) it makes the code much more readable by keeping it better organized _and documents how various concepts created in our design are inter-related_.\n",
    "\n",
    "\n",
    "As an example of how inheritance may be used, let us try to recreate a classic feature that we see in drawing editors such as Powerpoint. They allow us to define basic shapes, place them at various points in the screen and create groupings off these shapes."
   ]
  },
  {
   "cell_type": "code",
   "execution_count": 42,
   "metadata": {},
   "outputs": [
    {
     "data": {
      "text/plain": [
       "defined \u001b[32mclass\u001b[39m \u001b[36mCanvasBox\u001b[39m\n",
       "defined \u001b[32mclass\u001b[39m \u001b[36mShape\u001b[39m\n",
       "defined \u001b[32mclass\u001b[39m \u001b[36mRectangle\u001b[39m\n",
       "defined \u001b[32mclass\u001b[39m \u001b[36mColoredRectangle\u001b[39m\n",
       "defined \u001b[32mclass\u001b[39m \u001b[36mSquare\u001b[39m"
      ]
     },
     "execution_count": 42,
     "metadata": {},
     "output_type": "execute_result"
    }
   ],
   "source": [
    "class CanvasBox (val xc: Double, val yc: Double, val width: Double, val height: Double) { \n",
    "    override def toString = \n",
    "        s\"CanvasBox: center at ($xc, $yc) with width= $width, height= $height\"\n",
    "    \n",
    "    \n",
    "}\n",
    "\n",
    "abstract class Shape {\n",
    "    def boundingBox: CanvasBox \n",
    "    def repOK: Boolean\n",
    "    def toString: String\n",
    "}\n",
    "\n",
    "// NOTE: It is important that you specify val here. \n",
    "// Not doing so makes these fields x1, y1, x2, y2 implicitly private\n",
    "class Rectangle(val x1: Double, val y1: Double, val x2: Double, val y2: Double) extends Shape {\n",
    "    // Override is important to specfy because we are overriding the definition from a base class\n",
    "    override def repOK: Boolean = {\n",
    "        (x1 < x2) && (y1 < y2)\n",
    "    }\n",
    "    \n",
    "    def centerX: Double = 0.5 * (x1+ x2)\n",
    "    def centerY: Double = 0.5 * (y1 + y2)\n",
    "    def width: Double = x2 - x1\n",
    "    def height: Double = y2 - y1\n",
    "    \n",
    "    \n",
    "    //Override is important because we are overriding definition from a base class.\n",
    "    override def boundingBox: CanvasBox = {\n",
    "        new CanvasBox( this.centerX, this.centerY, (x2 - x1), (y2 - y1))\n",
    "    }\n",
    "    \n",
    "    override def toString: String = {\n",
    "        s\"Rectangle ($x1, $y1) to ($x2, $y2)\"\n",
    "    }\n",
    "}\n",
    "// Note that each subclass has an implicit call to the super class constructor as below\n",
    "class ColoredRectangle(x1: Double, y1: Double, x2: Double, y2: Double, color: String) extends Rectangle (x1, y1, x2, y2) \n",
    "\n",
    "// Note that each subclass has an implicit call to the super class constructor as below\n",
    "// Here, a square just needs a center point and a side length. But it extends a rectangle as specified below.\n",
    "class Square(x: Double, y: Double, sideLength: Double) extends Rectangle(x - 0.5*sideLength, y - 0.5 * sideLength, x + 0.5*sideLength, y + 0.5 * sideLength ) {\n",
    "    override def toString: String = {\n",
    "        s\"Square centered at ($x, $y) with side $sideLength\"\n",
    "    }\n",
    "}"
   ]
  },
  {
   "cell_type": "code",
   "execution_count": 33,
   "metadata": {},
   "outputs": [
    {
     "name": "stdout",
     "output_type": "stream",
     "text": [
      "10.0\n",
      "17.5\n"
     ]
    },
    {
     "data": {
      "text/plain": [
       "\u001b[36ms1\u001b[39m: \u001b[32mSquare\u001b[39m = Square centered at (10.0, 12.0) with side 15.0"
      ]
     },
     "execution_count": 33,
     "metadata": {},
     "output_type": "execute_result"
    }
   ],
   "source": [
    "// Square inherits all the methods and fields of Rectangle\n",
    "val s1 = new Square(10, 12, 15)\n",
    "// method centerX is defined in rectangle but inherited by square\n",
    "println(s1.centerX)\n",
    "println(s1.x2)\n"
   ]
  },
  {
   "cell_type": "markdown",
   "metadata": {},
   "source": [
    "## Single vs. Multiple Inheritance\n",
    "\n",
    "Scala allows single inheritance. Each class may inherit from exactly one parent class. Many languages\n",
    "such as C++ allow multiple inheritance.\n",
    "\n",
    "We discussed the problem in detail during class. Here is a nice reference about the \"dreaded diamond\" problem.\n",
    "https://medium.freecodecamp.org/multiple-inheritance-in-c-and-the-diamond-problem-7c12a9ddbbec\n",
    "https://www.geeksforgeeks.org/multiple-inheritance-in-c/\n",
    "\n"
   ]
  },
  {
   "cell_type": "markdown",
   "metadata": {},
   "source": [
    "## Type Casting from Inherited to Base Class\n",
    "\n",
    "It is always possible to take an object from a derived class  and type cast it to an object of the base class. \n",
    "In our example above, we can always take a __Square__ object and use it in whatever context a __Shape__ object is used. This kind of type casting is called `upcasting` which goes from a derived class to a base class.\n",
    "\n",
    "Let us define a function printShape that takes in an object of type shape and prints it. Note that printing an object calls the `toString` method to first convert into a string and then prints it.\n",
    "\n",
    "However, Shape does not have a toString method with code in it. It is an `abstract class` whose members were not defined. What happens if we call printShape on a __Square__ object? Are we even allowed to do that?"
   ]
  },
  {
   "cell_type": "code",
   "execution_count": 34,
   "metadata": {},
   "outputs": [
    {
     "data": {
      "text/plain": [
       "defined \u001b[32mfunction\u001b[39m \u001b[36mprintShape\u001b[39m"
      ]
     },
     "execution_count": 34,
     "metadata": {},
     "output_type": "execute_result"
    }
   ],
   "source": [
    "def printShape(s: Shape) = {\n",
    "    println(s\"We have here a shape: $s\")\n",
    "}"
   ]
  },
  {
   "cell_type": "code",
   "execution_count": 36,
   "metadata": {},
   "outputs": [
    {
     "name": "stdout",
     "output_type": "stream",
     "text": [
      "We have here a shape: Square centered at (10.0, 24.0) with side 44.0\n"
     ]
    },
    {
     "data": {
      "text/plain": [
       "\u001b[36ms2\u001b[39m: \u001b[32mSquare\u001b[39m = Square centered at (10.0, 24.0) with side 44.0"
      ]
     },
     "execution_count": 36,
     "metadata": {},
     "output_type": "execute_result"
    }
   ],
   "source": [
    "val s2 = new Square(10, 24, 44.0)\n",
    "printShape(s2)"
   ]
  },
  {
   "cell_type": "code",
   "execution_count": 37,
   "metadata": {},
   "outputs": [
    {
     "name": "stdout",
     "output_type": "stream",
     "text": [
      "We have here a shape: Rectangle (10.0, 12.0) to (15.0, 18.0)\n"
     ]
    },
    {
     "data": {
      "text/plain": [
       "\u001b[36mr2\u001b[39m: \u001b[32mRectangle\u001b[39m = Rectangle (10.0, 12.0) to (15.0, 18.0)"
      ]
     },
     "execution_count": 37,
     "metadata": {},
     "output_type": "execute_result"
    }
   ],
   "source": [
    "val r2 = new Rectangle(10, 12, 15, 18)\n",
    "printShape(r2)"
   ]
  },
  {
   "cell_type": "markdown",
   "metadata": {},
   "source": [
    "For both examples above, `s2` and `r2` are passed onto the `printShape` function. However, they are `upcast` to a `Shape` object. Nevertheless, the internal representation of objects remembers what the original type of the created object was. Therefore, when the method `toString` is called, the call is dispatched to the `toString` method of the appropriate derived class. \n",
    "\n",
    "For instance, `Square` has its own toString method which would be called from `printShape` method if the parameter `s` happened ot be a `Square`."
   ]
  },
  {
   "cell_type": "markdown",
   "metadata": {},
   "source": [
    "### Liskov's Substitution Principle\n",
    "\n",
    "\" Functions that use pointers or references to base classes must be able to use objects of derived classes without knowing it.\"\n",
    "\n",
    "In other words, we must always be able to up cast from a derived class to a base class and use it without any problems.\n",
    "\n",
    "As a result of this, derived classes must have all the fields that base class will have and with the same type. Furthermore, whenever we override a method from a base class it must be of the same type. (why?)\n",
    "\n",
    "#### Bad Example 1"
   ]
  },
  {
   "cell_type": "code",
   "execution_count": 38,
   "metadata": {},
   "outputs": [
    {
     "name": "stderr",
     "output_type": "stream",
     "text": [
      "cmd38.sc:8: overriding value x in class Base of type Int;\n",
      " value x has incompatible type\n",
      "    override val x: String = \"Hello\" // BAD!! Why?\n",
      "                 ^"
     ]
    },
    {
     "ename": "",
     "evalue": "",
     "output_type": "error",
     "traceback": [
      "Compilation Failed"
     ]
    }
   ],
   "source": [
    "class Base {\n",
    "    val x : Int = 10\n",
    "    def foo(i: Int): String = { i.toString }\n",
    "}\n",
    "\n",
    "\n",
    "class Derived extends Base {\n",
    "    override val x: String = \"Hello\" // BAD!! Why?\n",
    "    def foo(i: Double): Int = { i.toInt }\n",
    "}"
   ]
  },
  {
   "cell_type": "markdown",
   "metadata": {},
   "source": [
    "#### Bad Example 2\n",
    "\n",
    "The type of a overridden function must be the same as in base class."
   ]
  },
  {
   "cell_type": "code",
   "execution_count": 40,
   "metadata": {},
   "outputs": [
    {
     "name": "stderr",
     "output_type": "stream",
     "text": [
      "cmd40.sc:9: method foo overrides nothing.\n",
      "Note: the super classes of class Derived contain the following, non final members named foo:\n",
      "def foo(i: Int): String\n",
      "    override def foo(i: Double): Int = {i.toInt}\n",
      "                 ^"
     ]
    },
    {
     "ename": "",
     "evalue": "",
     "output_type": "error",
     "traceback": [
      "Compilation Failed"
     ]
    }
   ],
   "source": [
    "class Base {\n",
    "    def foo(i: Int): String = i.toString\n",
    "}\n",
    "\n",
    "class Derived extends Base {\n",
    "    // This is perfectly fine and no override is needed.\n",
    "    //def foo(i: Char): Int = { i.toInt }\n",
    "    // This will yield an error.\n",
    "    override def foo(i: Double): Int = {i.toInt}\n",
    "}\n",
    "    "
   ]
  },
  {
   "cell_type": "markdown",
   "metadata": {},
   "source": [
    "## Downcasting\n",
    "\n",
    "Downcasting tries to cast an object whose type is of basetype to an object of derived type.  This should only be possible in one situation: \n",
    "- An object $o$ of the derived type (say B) is created.\n",
    "- The object $o$ is upcast into the base type (say A).\n",
    "- Then in a different place, we try to downcast it back to an object of type B.\n",
    "Otherwise, downcast risks serious trouble since in general a base type object may be missing several fields and methods that are needed in the derived type. Calling these non existant methods or referring to non existant fields can lead to serious issues.\n",
    "\n",
    "Object type casting in scala is performed using the `asInstanceOf[T]` method. Suppose we have an object $o$ of type A and we wish to typecast it to an object of type B, we write `o.asInstanceOf[T]`, if it succeeds it returns an object which is a version of the object o but now has a type T.\n",
    "\n",
    "Before doing this type casting (which can yield a runtime error), we would like to see if it is safe. The method `o.isInstanceOf[T]` can be used to achieve that.\n"
   ]
  },
  {
   "cell_type": "code",
   "execution_count": 45,
   "metadata": {},
   "outputs": [
    {
     "name": "stdout",
     "output_type": "stream",
     "text": [
      "Shape t is a square\n",
      "Shape t is a rectangle\n"
     ]
    },
    {
     "ename": "",
     "evalue": "",
     "output_type": "error",
     "traceback": [
      "\u001b[31mjava.lang.ClassCastException: $sess.cmd41Wrapper$Helper$Square cannot be cast to $sess.cmd41Wrapper$Helper$ColoredRectangle\u001b[39m",
      "  $sess.cmd44Wrapper$Helper.<init>(\u001b[32mcmd44.sc\u001b[39m:\u001b[32m6\u001b[39m)",
      "  $sess.cmd44Wrapper.<init>(\u001b[32mcmd44.sc\u001b[39m:\u001b[32m238\u001b[39m)",
      "  $sess.cmd44$.<init>(\u001b[32mcmd44.sc\u001b[39m:\u001b[32m133\u001b[39m)",
      "  $sess.cmd44$.<clinit>(\u001b[32mcmd44.sc\u001b[39m:\u001b[32m-1\u001b[39m)"
     ]
    }
   ],
   "source": [
    "val s: Square = new Square(10, 11, 12)\n",
    "val t: Shape= s\n",
    "if (t.isInstanceOf[ColoredRectangle]) println(\"Shape t is a colored rectangle\")\n",
    "if (t.isInstanceOf[Square]) println(\"Shape t is a square\")\n",
    "if (t.isInstanceOf[Rectangle]) println(\"Shape t is a rectangle\")\n",
    "val q: ColoredRectangle =  t.asInstanceOf[ColoredRectangle]"
   ]
  },
  {
   "cell_type": "code",
   "execution_count": 46,
   "metadata": {},
   "outputs": [
    {
     "data": {
      "text/plain": [
       "\u001b[36ml\u001b[39m: \u001b[32mList\u001b[39m[\u001b[32mShape\u001b[39m] = \u001b[33mList\u001b[39m(\n",
       "  Square centered at (1.0, 1.0) with side 2.0,\n",
       "  Rectangle (1.0, 1.0) to (4.0, 4.0),\n",
       "  Rectangle (1.0, 1.0) to (5.0, 5.0),\n",
       "  Square centered at (1.0, 5.0) with side 10.0\n",
       ")"
      ]
     },
     "execution_count": 46,
     "metadata": {},
     "output_type": "execute_result"
    }
   ],
   "source": [
    "val l: List[Shape] = List( new Square(1, 1, 2), new Rectangle(1, 1, 4, 4), new ColoredRectangle(1,1,5,5,\"blue\"),  new Square(1,5,10))"
   ]
  },
  {
   "cell_type": "code",
   "execution_count": 47,
   "metadata": {},
   "outputs": [
    {
     "data": {
      "text/plain": [
       "defined \u001b[32mfunction\u001b[39m \u001b[36mfindTypes\u001b[39m"
      ]
     },
     "execution_count": 47,
     "metadata": {},
     "output_type": "execute_result"
    }
   ],
   "source": [
    "def findTypes(l: List[Shape]) = {\n",
    "    for (x <- l) {\n",
    "        // Before we try to downcast x into a ColoredRectangle, check if we can do it\n",
    "        if (x.isInstanceOf[ColoredRectangle]){\n",
    "            println(x.asInstanceOf[ColoredRectangle])\n",
    "        }\n",
    "        // Before we downcast into a square check if we can do it.\n",
    "        if (x.isInstanceOf[Square]){\n",
    "            println(x.asInstanceOf[Square])\n",
    "        }\n",
    "    }\n",
    "}"
   ]
  },
  {
   "cell_type": "code",
   "execution_count": 48,
   "metadata": {},
   "outputs": [
    {
     "name": "stdout",
     "output_type": "stream",
     "text": [
      "Square centered at (1.0, 1.0) with side 2.0\n",
      "Rectangle (1.0, 1.0) to (5.0, 5.0)\n",
      "Square centered at (1.0, 5.0) with side 10.0\n"
     ]
    }
   ],
   "source": [
    "findTypes(l)"
   ]
  }
 ],
 "metadata": {
  "kernelspec": {
   "display_name": "Scala",
   "language": "scala",
   "name": "scala"
  },
  "language_info": {
   "codemirror_mode": "text/x-scala",
   "file_extension": ".scala",
   "mimetype": "text/x-scala",
   "name": "scala",
   "nbconvert_exporter": "script",
   "version": "2.12.10"
  }
 },
 "nbformat": 4,
 "nbformat_minor": 2
}
