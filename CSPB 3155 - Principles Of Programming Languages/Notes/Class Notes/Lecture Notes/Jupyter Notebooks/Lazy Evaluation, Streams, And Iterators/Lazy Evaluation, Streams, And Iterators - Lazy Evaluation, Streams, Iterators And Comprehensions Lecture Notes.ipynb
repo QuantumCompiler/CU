{
 "cells": [
  {
   "cell_type": "markdown",
   "metadata": {},
   "source": [
    "# Lazy Evaluation\n",
    "\n",
    "We will investigate lazy evaluation: an important and cool area where functional programming excels. We will demonstrate how laziness can be used to save time and space especially when we wish to process large amounts of data.\n",
    "\n",
    "Let us start by examining the following function:"
   ]
  },
  {
   "cell_type": "code",
   "execution_count": 5,
   "metadata": {},
   "outputs": [
    {
     "name": "stdout",
     "output_type": "stream",
     "text": [
      "Called: func(2.4, 1.2)\n",
      "Called: func(1.5, -0.05993999644407877)\n",
      "Called: func(3.0, 2.5)\n",
      "Called: func(-1.2, 1.7250379807705825)\n",
      "-3.1124804219960183\n"
     ]
    },
    {
     "data": {
      "text/plain": [
       "defined \u001b[32mfunction\u001b[39m \u001b[36mfunc\u001b[39m\n",
       "\u001b[36mz\u001b[39m: \u001b[32mDouble\u001b[39m = \u001b[32m-3.1124804219960183\u001b[39m"
      ]
     },
     "execution_count": 5,
     "metadata": {},
     "output_type": "execute_result"
    }
   ],
   "source": [
    "def func(x: Double, y: Double): Double = {\n",
    "    println(s\"Called: func($x, $y)\")\n",
    "    if (x >= 0){\n",
    "        x*x - 2.5 * x + 4.3 * math.sin(x * 3.1415/180.0)\n",
    "    } else {\n",
    "        y\n",
    "    }\n",
    "}\n",
    "\n",
    "val z = func(1.5, func(2.4, 1.2)) - func(-1.2, func(3.0, 2.5))\n",
    "\n",
    "println(z)"
   ]
  },
  {
   "cell_type": "markdown",
   "metadata": {},
   "source": [
    "Notice that `func` has an if-then-else statement that compares `x` to 0. In particular, the value of `y` is needed in the else branch but never needed in the then branch.\n",
    "\n",
    "Now consider the call to `func(1.5, func(2.4, 1.2))`.  Such a call would compute `x=1.5` and `y= func(2.4, 1.2)`. However, in this instance `x >= 0`, thus the value of `y` is not needed after all. \n",
    "\n",
    "However, for the call `func(-1.2, func(3.0, 2.5))`, we would need to know the value of the `y` argument for this call which is `func(3.0, 2.5)`.\n",
    "\n",
    "Also, notice that the value of `z` is not really needed until we print it or use it in some calculation.\n",
    "\n",
    "We will now present two interesting scala constructs that take advantage of these patterns.\n",
    "\n",
    "## Call by Name\n",
    "\n",
    "Call by name is a calling convention for functions that do not evaluate the arguments. Rather under call by name, the expression corresponding to the argument is passed to the function and evaluated when needed.\n",
    "\n",
    "In Scala, function evaluation is normally performed using call by value.\n",
    "However, we can use call by name as follows:\n",
    "\n",
    "~~~\n",
    "def multTwice(x :=> Int): Int\n",
    "~~~\n",
    "\n",
    "This signifies that a function multTwice takes in an argument `x`\n",
    "which is an `Int`. However, it also signifies that `x` is passed using\n",
    "\"call by name\". I.e, whenever we call this function\n",
    "\n",
    "~~~\n",
    "multTwice( expr )\n",
    "~~~\n",
    "\n",
    "the argument `expr` is passed unevaluated to the function. Every time `x` is used in the function, it is evaluated again."
   ]
  },
  {
   "cell_type": "code",
   "execution_count": 17,
   "metadata": {},
   "outputs": [
    {
     "name": "stdout",
     "output_type": "stream",
     "text": [
      "Calling factorial 5\n",
      "Calling factorial 5\n"
     ]
    },
    {
     "data": {
      "text/plain": [
       "defined \u001b[32mfunction\u001b[39m \u001b[36mmultTwice\u001b[39m\n",
       "defined \u001b[32mfunction\u001b[39m \u001b[36mfactorial\u001b[39m\n",
       "\u001b[36mres16_2\u001b[39m: \u001b[32mInt\u001b[39m = \u001b[32m14400\u001b[39m"
      ]
     },
     "execution_count": 17,
     "metadata": {},
     "output_type": "execute_result"
    }
   ],
   "source": [
    "def multTwice( x : => Int): Int = {\n",
    "    // Note: the \"=>\" symbol in front of the type Int\n",
    "    //    signifies call by name.\n",
    "    x * x\n",
    "}\n",
    "\n",
    "\n",
    "def factorial(n: Int): Int = {\n",
    "    println(s\"Calling factorial $n\")\n",
    "    (1 to n).product\n",
    "}\n",
    "\n",
    "\n",
    "multTwice(factorial(5))"
   ]
  },
  {
   "cell_type": "markdown",
   "metadata": {},
   "source": [
    "Notice that in the example above there are two calls to factorial, why? This is because under call by name, the argument of the function `multTwice` is an unevaluated expression : `factorial(5)`. Every time, we access the argument `x`, it results in `factorial(5)` being called. If we do not want this behavior, then we force the argument to be evaluated as follows:"
   ]
  },
  {
   "cell_type": "code",
   "execution_count": 18,
   "metadata": {},
   "outputs": [
    {
     "name": "stdout",
     "output_type": "stream",
     "text": [
      "Calling factorial 5\n"
     ]
    },
    {
     "data": {
      "text/plain": [
       "defined \u001b[32mfunction\u001b[39m \u001b[36mmultTwice\u001b[39m\n",
       "defined \u001b[32mfunction\u001b[39m \u001b[36mfactorial\u001b[39m\n",
       "\u001b[36mres17_2\u001b[39m: \u001b[32mInt\u001b[39m = \u001b[32m14400\u001b[39m"
      ]
     },
     "execution_count": 18,
     "metadata": {},
     "output_type": "execute_result"
    }
   ],
   "source": [
    "def multTwice( x : => Int): Int = {\n",
    "    // Note: the \"=>\" symbol in front of the type Int\n",
    "    //    signifies call by name.\n",
    "    \n",
    "    val z = x // This forces x to be evaluated and the result stored in z\n",
    "    z * z\n",
    "}\n",
    "\n",
    "def factorial(n: Int): Int = {\n",
    "    println(s\"Calling factorial $n\")\n",
    "    (1 to n).product\n",
    "}\n",
    "\n",
    "\n",
    "multTwice(factorial(5))"
   ]
  },
  {
   "cell_type": "markdown",
   "metadata": {},
   "source": [
    "Going back to the original example, we see how it can be achieved using call by name."
   ]
  },
  {
   "cell_type": "code",
   "execution_count": 21,
   "metadata": {},
   "outputs": [
    {
     "name": "stdout",
     "output_type": "stream",
     "text": [
      "Called: func with x = 1.5, y = ???\n",
      "Called: func with x = 3.0, y = ???\n",
      "Called: func with x = -1.2, y = 1.7250379807705825\n",
      "-3.1124804219960183\n"
     ]
    },
    {
     "data": {
      "text/plain": [
       "defined \u001b[32mfunction\u001b[39m \u001b[36mfunc\u001b[39m\n",
       "\u001b[36mz\u001b[39m: \u001b[32mDouble\u001b[39m = \u001b[32m-3.1124804219960183\u001b[39m"
      ]
     },
     "execution_count": 21,
     "metadata": {},
     "output_type": "execute_result"
    }
   ],
   "source": [
    "def func(x0: => Double, y0: => Double): Double = {\n",
    "    // Call by name arguments.\n",
    "   \n",
    "    val x = x0 // Force x to be evaluatedd\n",
    "    if (x >= 0){\n",
    "        println(s\"Called: func with x = $x, y = ???\")\n",
    "        x*x - 2.5 * x + 4.3 * math.sin(x * 3.1415/180.0)\n",
    "    } else {\n",
    "        val y = y0 // Force y to be evaluated\n",
    "        println(s\"Called: func with x = $x, y = $y\")\n",
    "        y\n",
    "    }\n",
    "}\n",
    "\n",
    "val z = func(1.5, func(2.4, 1.2)) - func(-1.2, func(3.0, 2.5))\n",
    "\n",
    "println(z)"
   ]
  },
  {
   "cell_type": "markdown",
   "metadata": {},
   "source": [
    "Call by name is often used in context of lazy evaluation. Notice that for the function `func` above, we have to be careful when to evaluate the call by name parameters `x0` and `y0`. We can use a construct called lazy evaluation to simplify things considerably."
   ]
  },
  {
   "cell_type": "code",
   "execution_count": 23,
   "metadata": {},
   "outputs": [
    {
     "name": "stdout",
     "output_type": "stream",
     "text": [
      "Called: func with x = 1.5, y = ???\n",
      "Called: func with x = 3.0, y = ???\n",
      "Called: func with x = -1.2, y = 1.7250379807705825\n",
      "-3.1124804219960183\n"
     ]
    },
    {
     "data": {
      "text/html": [
       "<div class=\"jp-RenderedText\">\n",
       "<pre><code>defined <span style=\"color: rgb(0, 187, 0)\"><span class=\"ansi-green-fg\">function</span></span> <span style=\"color: rgb(0, 187, 187)\"><span class=\"ansi-cyan-fg\">func</span></span>\n",
       "<span style=\"color: rgb(0, 187, 187)\"><span class=\"ansi-cyan-fg\">z</span></span>: <span style=\"color: rgb(0, 187, 0)\"><span class=\"ansi-green-fg\">Double</span></span> = <span style=\"color: white\"><span class=\"ansi-white-fg\">[lazy]</span></span></code></pre>\n",
       "</div>"
      ],
      "text/plain": [
       "defined \u001b[32mfunction\u001b[39m \u001b[36mfunc\u001b[39m\n",
       "\u001b[36mz\u001b[39m: \u001b[32mDouble\u001b[39m = \u001b[37m[lazy]\u001b[39m"
      ]
     },
     "metadata": {},
     "output_type": "display_data"
    }
   ],
   "source": [
    "def func(x0: => Double, y0: => Double): Double = {\n",
    "    // Call by name arguments.\n",
    "   \n",
    "    lazy val x = x0 // place x0 inside a \"lazy\" val x\n",
    "    lazy val y = y0 // place y0 inside a \"lazy\" val y\n",
    "    \n",
    "    if (x >= 0){\n",
    "        println(s\"Called: func with x = $x, y = ???\")\n",
    "        x*x - 2.5 * x + 4.3 * math.sin(x * 3.1415/180.0)\n",
    "    } else {\n",
    "        println(s\"Called: func with x = $x, y = $y\")\n",
    "        y\n",
    "    }\n",
    "}\n",
    "\n",
    "lazy val z = func(1.5, func(2.4, 1.2)) - func(-1.2, func(3.0, 2.5))\n",
    "\n",
    "println(z)"
   ]
  },
  {
   "cell_type": "markdown",
   "metadata": {},
   "source": [
    "When we declare\n",
    "\n",
    "~~~\n",
    "lazy val x = x0\n",
    "~~~\n",
    "\n",
    "the right hand side expression `x0` is evaluated only when the value of `x` is used. Also, unlike call by name,  lazy values are \"cached\". I.e., the value of `x` once  evaluated now becomes a Double precision number."
   ]
  },
  {
   "cell_type": "code",
   "execution_count": 30,
   "metadata": {},
   "outputs": [
    {
     "name": "stdout",
     "output_type": "stream",
     "text": [
      "calling twice(5)\n",
      "calling twice(10)\n",
      "20\n",
      "10\n",
      " Message z = \n",
      "calling twice(20)\n",
      "40\n",
      " Message y = \n",
      "calling twice(10)\n",
      "20\n",
      " Message z = \n",
      "40\n"
     ]
    },
    {
     "data": {
      "text/html": [
       "<div class=\"jp-RenderedText\">\n",
       "<pre><code>defined <span style=\"color: rgb(0, 187, 0)\"><span class=\"ansi-green-fg\">function</span></span> <span style=\"color: rgb(0, 187, 187)\"><span class=\"ansi-cyan-fg\">twice</span></span>\n",
       "<span style=\"color: rgb(0, 187, 187)\"><span class=\"ansi-cyan-fg\">y1</span></span>: <span style=\"color: rgb(0, 187, 0)\"><span class=\"ansi-green-fg\">Int</span></span> = <span style=\"color: rgb(0, 187, 0)\"><span class=\"ansi-green-fg\">10</span></span>\n",
       "<span style=\"color: rgb(0, 187, 187)\"><span class=\"ansi-cyan-fg\">y2</span></span>: <span style=\"color: rgb(0, 187, 0)\"><span class=\"ansi-green-fg\">Int</span></span> = <span style=\"color: rgb(0, 187, 0)\"><span class=\"ansi-green-fg\">20</span></span>\n",
       "<span style=\"color: rgb(0, 187, 187)\"><span class=\"ansi-cyan-fg\">y</span></span>: <span style=\"color: rgb(0, 187, 0)\"><span class=\"ansi-green-fg\">Int</span></span> = <span style=\"color: white\"><span class=\"ansi-white-fg\">[lazy]</span></span>\n",
       "<span style=\"color: rgb(0, 187, 187)\"><span class=\"ansi-cyan-fg\">z</span></span>: <span style=\"color: rgb(0, 187, 0)\"><span class=\"ansi-green-fg\">Int</span></span> = <span style=\"color: white\"><span class=\"ansi-white-fg\">[lazy]</span></span></code></pre>\n",
       "</div>"
      ],
      "text/plain": [
       "defined \u001b[32mfunction\u001b[39m \u001b[36mtwice\u001b[39m\n",
       "\u001b[36my1\u001b[39m: \u001b[32mInt\u001b[39m = \u001b[32m10\u001b[39m\n",
       "\u001b[36my2\u001b[39m: \u001b[32mInt\u001b[39m = \u001b[32m20\u001b[39m\n",
       "\u001b[36my\u001b[39m: \u001b[32mInt\u001b[39m = \u001b[37m[lazy]\u001b[39m\n",
       "\u001b[36mz\u001b[39m: \u001b[32mInt\u001b[39m = \u001b[37m[lazy]\u001b[39m"
      ]
     },
     "metadata": {},
     "output_type": "display_data"
    }
   ],
   "source": [
    "def twice(x:Int): Int = {\n",
    "    println(s\"calling twice($x)\")\n",
    "    x + x\n",
    "}\n",
    "\n",
    "/*-- Eager evaluation -- what we are used to so far --*/\n",
    "val y1 = twice(5) // Call happens at once\n",
    "val y2 = twice(10) // call happens at once\n",
    "println(y2)\n",
    "println(y1)\n",
    "\n",
    "/* lazy evaluation */\n",
    "lazy val y = twice(10)\n",
    "lazy val z = twice(20)\n",
    "println(\" Message z = \"); println(z) // call to twice(20) here\n",
    "println(\" Message y = \"); println(y) // call to twice(10) here\n",
    "println(\" Message z = \"); println(z) // Does not call twice(20) again, reuses cached result."
   ]
  },
  {
   "cell_type": "markdown",
   "metadata": {},
   "source": [
    "Lazy evaluation is useful because it saves unnecessary computation by evaluating arguments on demand. However, this is not the main use for lazy evaluation. The main reason we do lazy evaluation are two fold:\n",
    "  - Creating functionality that is otherwise not possible.\n",
    "  - Lazy data structures such as streams, iterators and so on."
   ]
  },
  {
   "cell_type": "markdown",
   "metadata": {},
   "source": [
    "### Unique Functionality provided by lazy evaluation\n",
    "\n",
    "Lazy evaluation and call by name are very useful in designing embedded domain specific languages (DSLs) since they can enable useful functionality that cannot be provided otherwise."
   ]
  },
  {
   "cell_type": "code",
   "execution_count": 76,
   "metadata": {},
   "outputs": [
    {
     "data": {
      "text/plain": [
       "defined \u001b[32mfunction\u001b[39m \u001b[36mmyWhileLoop\u001b[39m"
      ]
     },
     "execution_count": 76,
     "metadata": {},
     "output_type": "execute_result"
    }
   ],
   "source": [
    "/*-- my own whole loop --*/\n",
    "def myWhileLoop (b : => Boolean) (body: => Unit) : Unit = {\n",
    "    if (b) {\n",
    "        body;\n",
    "        myWhileLoop (b) (body)\n",
    "    }   \n",
    "}"
   ]
  },
  {
   "cell_type": "code",
   "execution_count": 32,
   "metadata": {},
   "outputs": [
    {
     "name": "stdout",
     "output_type": "stream",
     "text": [
      "1\n",
      "2\n",
      "3\n",
      "4\n",
      "5\n",
      "6\n",
      "7\n",
      "8\n",
      "9\n",
      "10\n",
      "11\n"
     ]
    },
    {
     "data": {
      "text/html": [
       "<div class=\"jp-RenderedText\">\n",
       "<pre><code><span style=\"color: rgb(0, 187, 187)\"><span class=\"ansi-cyan-fg\">i</span></span>: <span style=\"color: rgb(0, 187, 0)\"><span class=\"ansi-green-fg\">Int</span></span> = <span style=\"color: rgb(0, 187, 0)\"><span class=\"ansi-green-fg\">11</span></span></code></pre>\n",
       "</div>"
      ],
      "text/plain": [
       "\u001b[36mi\u001b[39m: \u001b[32mInt\u001b[39m = \u001b[32m11\u001b[39m"
      ]
     },
     "metadata": {},
     "output_type": "display_data"
    }
   ],
   "source": [
    "var i = 0\n",
    "\n",
    "myWhileLoop (i <= 10) { \n",
    "                i = i + 1;\n",
    "                println(i)\n",
    "}"
   ]
  },
  {
   "cell_type": "markdown",
   "metadata": {},
   "source": [
    "### Lazy Functional Data Structures\n",
    "\n",
    "Scala supports lazy functional data structures that allow us to implement functionality that is otherwise quite cumbersome with eager evaluation methods.\n",
    "\n",
    "### Streams\n",
    "\n",
    "We will first study streams, a very powerful lazy abstraction.\n",
    "At the first sight, a stream is very much like a list. However, \n",
    "elements are computed lazily as needed. We will illustrate this using an example.\n",
    "\n",
    "First, we note that a stream is very much like a list."
   ]
  },
  {
   "cell_type": "code",
   "execution_count": 84,
   "metadata": {},
   "outputs": [
    {
     "data": {
      "text/plain": [
       "\u001b[36ms1\u001b[39m: \u001b[32mStream\u001b[39m[\u001b[32mInt\u001b[39m] = \u001b[33mStream\u001b[39m(\u001b[32m1\u001b[39m, \u001b[32m2\u001b[39m, \u001b[32m3\u001b[39m, \u001b[32m4\u001b[39m, \u001b[32m5\u001b[39m)\n",
       "\u001b[36ml1\u001b[39m: \u001b[32mList\u001b[39m[\u001b[32mInt\u001b[39m] = \u001b[33mList\u001b[39m(\u001b[32m1\u001b[39m, \u001b[32m2\u001b[39m, \u001b[32m3\u001b[39m, \u001b[32m4\u001b[39m, \u001b[32m5\u001b[39m)\n",
       "\u001b[36ms2\u001b[39m: \u001b[32mStream\u001b[39m[\u001b[32mString\u001b[39m] = \u001b[33mStream\u001b[39m(\u001b[32m\"hello\"\u001b[39m, \u001b[32m\"world\"\u001b[39m, \u001b[32m\"this\"\u001b[39m, \u001b[32m\"is\"\u001b[39m, \u001b[32m\"CSCI3155\"\u001b[39m)\n",
       "\u001b[36mh2\u001b[39m: \u001b[32mString\u001b[39m = \u001b[32m\"hello\"\u001b[39m\n",
       "\u001b[36mt2\u001b[39m: \u001b[32mStream\u001b[39m[\u001b[32mString\u001b[39m] = \u001b[33mStream\u001b[39m(\u001b[32m\"hello\"\u001b[39m, \u001b[32m\"world\"\u001b[39m, \u001b[32m\"this\"\u001b[39m)\n",
       "\u001b[36ms3\u001b[39m: \u001b[32mStream\u001b[39m[\u001b[32mString\u001b[39m] = \u001b[33mStream\u001b[39m(\u001b[32m\"hello\"\u001b[39m, \u001b[32m\"world\"\u001b[39m)"
      ]
     },
     "execution_count": 84,
     "metadata": {},
     "output_type": "execute_result"
    }
   ],
   "source": [
    "val s1: Stream[Int] = Stream(1, 2, 3, 4, 5) \n",
    "// Stream can be converted to a list\n",
    "val l1: List[Int]= s1.toList \n",
    "// Streams can support generic data types\n",
    "val s2: Stream[String] = Stream(\"hello\", \"world\", \"this\", \"is\", \"CSCI3155\")\n",
    "// Head andd tail function\n",
    "val h2: String= s2.head\n",
    "// Take 3 elements from s2\n",
    "val t2 = s2.take(3)\n",
    "//Create a new stream that filters all elements of length = 5\n",
    "val s3 = s2.filter( x => x.length == 5)"
   ]
  },
  {
   "cell_type": "markdown",
   "metadata": {},
   "source": [
    "However, unlike a list, a stream is lazy. I.e, its elements are computed on demand.\n",
    "\n",
    "Just like `::` is the Cons operator for a list in scala, we have\n",
    "the operator `#::` that is a cons operator for a stream. However, `#::` does not evaluate its arguments. Read through the following example carefully."
   ]
  },
  {
   "cell_type": "code",
   "execution_count": 34,
   "metadata": {},
   "outputs": [
    {
     "name": "stdout",
     "output_type": "stream",
     "text": [
      "calling twice(10)\n",
      "stream s = Stream(20, ?)\n",
      "20\n",
      "calling twice(20)\n",
      "40\n"
     ]
    },
    {
     "data": {
      "text/html": [
       "<div class=\"jp-RenderedText\">\n",
       "<pre><code>defined <span style=\"color: rgb(0, 187, 0)\"><span class=\"ansi-green-fg\">function</span></span> <span style=\"color: rgb(0, 187, 187)\"><span class=\"ansi-cyan-fg\">twice</span></span>\n",
       "<span style=\"color: rgb(0, 187, 187)\"><span class=\"ansi-cyan-fg\">myFirstStream</span></span>: <span style=\"color: rgb(0, 187, 0)\"><span class=\"ansi-green-fg\">Stream</span></span>[<span style=\"color: rgb(0, 187, 0)\"><span class=\"ansi-green-fg\">Int</span></span>] = <span style=\"color: white\"><span class=\"ansi-white-fg\">[lazy]</span></span>\n",
       "<span style=\"color: rgb(0, 187, 187)\"><span class=\"ansi-cyan-fg\">i1</span></span>: <span style=\"color: rgb(0, 187, 0)\"><span class=\"ansi-green-fg\">Int</span></span> = <span style=\"color: rgb(0, 187, 0)\"><span class=\"ansi-green-fg\">20</span></span>\n",
       "<span style=\"color: rgb(0, 187, 187)\"><span class=\"ansi-cyan-fg\">i2</span></span>: <span style=\"color: rgb(0, 187, 0)\"><span class=\"ansi-green-fg\">Int</span></span> = <span style=\"color: rgb(0, 187, 0)\"><span class=\"ansi-green-fg\">40</span></span></code></pre>\n",
       "</div>"
      ],
      "text/plain": [
       "defined \u001b[32mfunction\u001b[39m \u001b[36mtwice\u001b[39m\n",
       "\u001b[36mmyFirstStream\u001b[39m: \u001b[32mStream\u001b[39m[\u001b[32mInt\u001b[39m] = \u001b[37m[lazy]\u001b[39m\n",
       "\u001b[36mi1\u001b[39m: \u001b[32mInt\u001b[39m = \u001b[32m20\u001b[39m\n",
       "\u001b[36mi2\u001b[39m: \u001b[32mInt\u001b[39m = \u001b[32m40\u001b[39m"
      ]
     },
     "metadata": {},
     "output_type": "display_data"
    }
   ],
   "source": [
    "def twice(x:Int): Int = {\n",
    "    println(s\"calling twice($x)\")\n",
    "    x + x\n",
    "}\n",
    "\n",
    "// Let us create a stream using the cons operator\n",
    "lazy val myFirstStream: Stream[Int] = twice(10) #:: twice(20) #:: twice(30) #:: twice(40) #:: twice(50) #:: twice(60) #:: twice(70) #:: twice(80) #::Stream.empty\n",
    "// Notice that twice(10) is called at this point\n",
    "// But also printing the stream reveals that it is \"unwound\" or evaluated\n",
    "// in a lazy manner\n",
    "println(s\"stream s = $myFirstStream\")\n",
    "val i1 = myFirstStream.head\n",
    "println(i1)\n",
    "val i2 = myFirstStream.tail.head // This will materialize the second element in the stream\n",
    "println(i2)\n"
   ]
  },
  {
   "cell_type": "markdown",
   "metadata": {},
   "source": [
    "Notice in the above code that we accessed the first two elements of the stream. Therefore, `twice(10)` and `twice(20)` are called. However, the remaining elements of the stream are unevaluated because we have not tried to access them.\n",
    "\n",
    "#### Memoization in Streams\n",
    "\n",
    "It is important to note that a streams memoize in scala. I.e, once an element of a stream has been computed, its value is cached for future use.\n",
    "\n",
    "Going back to the example above notice that `myFirstStream` is a stream whose first two elements are computed by calling the twice function. If we wanted to retrieve those elements again, twice function need not be called since their values are cached.\n",
    "\n",
    "This is illustrated below by calling `take(2)` on the stream.\n",
    "However, if we called `take(3)`, you will notice a new call to the twice function (`twice(30)`) to materialize the third element."
   ]
  },
  {
   "cell_type": "code",
   "execution_count": 36,
   "metadata": {},
   "outputs": [
    {
     "name": "stdout",
     "output_type": "stream",
     "text": [
      "calling twice(30)\n"
     ]
    },
    {
     "data": {
      "text/plain": [
       "\u001b[36mfirstTwo\u001b[39m: \u001b[32mList\u001b[39m[\u001b[32mInt\u001b[39m] = \u001b[33mList\u001b[39m(\u001b[32m20\u001b[39m, \u001b[32m40\u001b[39m)\n",
       "\u001b[36mfirstThree\u001b[39m: \u001b[32mList\u001b[39m[\u001b[32mInt\u001b[39m] = \u001b[33mList\u001b[39m(\u001b[32m20\u001b[39m, \u001b[32m40\u001b[39m, \u001b[32m60\u001b[39m)"
      ]
     },
     "execution_count": 36,
     "metadata": {},
     "output_type": "execute_result"
    }
   ],
   "source": [
    "val firstTwo = myFirstStream.take(2).toList\n",
    "\n",
    "val firstThree = myFirstStream.take(3).toList"
   ]
  },
  {
   "cell_type": "markdown",
   "metadata": {},
   "source": [
    "### Stream Processing\n",
    "\n",
    "Streams allow us to do some tasks efficiently that would not be otherwise possible. Let us say we wish to load a large text file and get  the first 10 lines that match some pattern of interests. The standard way would be:\n",
    "  - Load the file from disk\n",
    "  - Go through each line in the file\n",
    "  - Match against the pattern\n",
    "  - If it matches, print the line.\n",
    "  - If more than 10 lines have been printed then exit.\n",
    "  \n",
    "  \n",
    "Of course, we could avoid a loop and use functors to do this."
   ]
  },
  {
   "cell_type": "code",
   "execution_count": 77,
   "metadata": {},
   "outputs": [
    {
     "name": "stdout",
     "output_type": "stream",
     "text": [
      "Filter was called 77788 times\n"
     ]
    },
    {
     "data": {
      "text/html": [
       "<div class=\"jp-RenderedText\">\n",
       "<pre><code><span style=\"color: rgb(0, 187, 0)\"><span class=\"ansi-green-fg\">import </span></span><span style=\"color: rgb(0, 187, 187)\"><span class=\"ansi-cyan-fg\">scala.io.Source\n",
       "\n",
       "</span></span>\n",
       "<span style=\"color: rgb(0, 187, 187)\"><span class=\"ansi-cyan-fg\">numFilterApps</span></span>: <span style=\"color: rgb(0, 187, 0)\"><span class=\"ansi-green-fg\">Int</span></span> = <style>@keyframes fadein { from { opacity: 0; } to { opacity: 1; } }</style><span style=\"animation: fadein 2s;\"><span style=\"color: rgb(0, 187, 0)\"><span class=\"ansi-green-fg\">27</span></span></span>\n",
       "defined <span style=\"color: rgb(0, 187, 0)\"><span class=\"ansi-green-fg\">function</span></span> <span style=\"color: rgb(0, 187, 187)\"><span class=\"ansi-cyan-fg\">applyMyFilter</span></span>\n",
       "defined <span style=\"color: rgb(0, 187, 0)\"><span class=\"ansi-green-fg\">function</span></span> <span style=\"color: rgb(0, 187, 187)\"><span class=\"ansi-cyan-fg\">processFileEager</span></span>\n",
       "<span style=\"color: rgb(0, 187, 187)\"><span class=\"ansi-cyan-fg\">res76_4</span></span>: <span style=\"color: rgb(0, 187, 0)\"><span class=\"ansi-green-fg\">List</span></span>[<span style=\"color: rgb(0, 187, 0)\"><span class=\"ansi-green-fg\">String</span></span>] = <span style=\"color: yellow\"><span class=\"ansi-yellow-fg\">List</span></span>(\n",
       "  <span style=\"color: rgb(0, 187, 0)\"><span class=\"ansi-green-fg\">&quot;&lt;!DOCTYPE html&quot;</span></span>,\n",
       "  <span style=\"color: rgb(0, 187, 0)\"><span class=\"ansi-green-fg\">&quot;    &lt;title&gt;&quot;</span></span>,\n",
       "  <span style=\"color: rgb(0, 187, 0)\"><span class=\"ansi-green-fg\">&quot;      War and Peace, by Leo Tolstoy&quot;</span></span>,\n",
       "  <span style=\"color: rgb(0, 187, 0)\"><span class=\"ansi-green-fg\">&quot;    &lt;/title&gt;&quot;</span></span>,\n",
       "  <span style=\"color: rgb(0, 187, 0)\"><span class=\"ansi-green-fg\">&quot;    &lt;style type=\\&quot;text/css\\&quot; xml:space=\\&quot;preserve\\&quot;&gt;&quot;</span></span>,\n",
       "  <span style=\"color: rgb(0, 187, 0)\"><span class=\"ansi-green-fg\">&quot;    body { margin:5%; background:#faebd0; text-align:justify}&quot;</span></span>,\n",
       "  <span style=\"color: rgb(0, 187, 0)\"><span class=\"ansi-green-fg\">&quot;    H1,H2,H3,H4,H5,H6 { text-align: center; margin-left: 15%; margin-right: 15%; }&quot;</span></span>,\n",
       "  <span style=\"color: rgb(0, 187, 0)\"><span class=\"ansi-green-fg\">&quot;    hr  { width: 50%; text-align: center;}&quot;</span></span>,\n",
       "  <span style=\"color: rgb(0, 187, 0)\"><span class=\"ansi-green-fg\">&quot;    blockquote {font-size: 97%; font-style: italic; margin-left: 10%; margin-right: 10%;}&quot;</span></span>,\n",
       "  <span style=\"color: rgb(0, 187, 0)\"><span class=\"ansi-green-fg\">&quot;    pre     { font-style: italic; font-size: 90%; margin-left: 10%;}&quot;</span></span>\n",
       ")</code></pre>\n",
       "</div>"
      ],
      "text/plain": [
       "\u001b[32mimport \u001b[39m\u001b[36mscala.io.Source\n",
       "\n",
       "\u001b[39m\n",
       "\u001b[36mnumFilterApps\u001b[39m: \u001b[32mInt\u001b[39m = \u001b[32m27\u001b[39m\n",
       "defined \u001b[32mfunction\u001b[39m \u001b[36mapplyMyFilter\u001b[39m\n",
       "defined \u001b[32mfunction\u001b[39m \u001b[36mprocessFileEager\u001b[39m\n",
       "\u001b[36mres76_4\u001b[39m: \u001b[32mList\u001b[39m[\u001b[32mString\u001b[39m] = \u001b[33mList\u001b[39m(\n",
       "  \u001b[32m\"<!DOCTYPE html\"\u001b[39m,\n",
       "  \u001b[32m\"    <title>\"\u001b[39m,\n",
       "  \u001b[32m\"      War and Peace, by Leo Tolstoy\"\u001b[39m,\n",
       "  \u001b[32m\"    </title>\"\u001b[39m,\n",
       "  \u001b[32m\"    <style type=\\\"text/css\\\" xml:space=\\\"preserve\\\">\"\u001b[39m,\n",
       "  \u001b[32m\"    body { margin:5%; background:#faebd0; text-align:justify}\"\u001b[39m,\n",
       "  \u001b[32m\"    H1,H2,H3,H4,H5,H6 { text-align: center; margin-left: 15%; margin-right: 15%; }\"\u001b[39m,\n",
       "  \u001b[32m\"    hr  { width: 50%; text-align: center;}\"\u001b[39m,\n",
       "  \u001b[32m\"    blockquote {font-size: 97%; font-style: italic; margin-left: 10%; margin-right: 10%;}\"\u001b[39m,\n",
       "  \u001b[32m\"    pre     { font-style: italic; font-size: 90%; margin-left: 10%;}\"\u001b[39m\n",
       ")"
      ]
     },
     "metadata": {},
     "output_type": "display_data"
    }
   ],
   "source": [
    "import scala.io.Source\n",
    "\n",
    "var numFilterApps = 0\n",
    "\n",
    "def applyMyFilter(s: String): Boolean = {\n",
    "    numFilterApps = numFilterApps + 1 // Do some stats to count how many times this function calledd\n",
    "    s.length >= 10 && !s.contains('.')\n",
    "}\n",
    "\n",
    "def processFileEager(f: String): List[String] = {\n",
    "    Source.fromFile(f) // Load the file\n",
    "          .getLines // Get the lines from the file\n",
    "          .toList // Convert it to a list\n",
    "          .filter(applyMyFilter)\n",
    "          .take(10)\n",
    "}\n",
    "\n",
    "processFileEager(\"WarAndPeace.html\")\n",
    "\n",
    "println(s\"Filter was called $numFilterApps times\")"
   ]
  },
  {
   "cell_type": "markdown",
   "metadata": {},
   "source": [
    "Notice that in the code above, although we output 10 lines in the end, the filter was run on the entire file with 77788 lines. \n",
    "\n",
    "If on the other hand, we used a stream, we will immediately see an advantage."
   ]
  },
  {
   "cell_type": "code",
   "execution_count": 78,
   "metadata": {},
   "outputs": [
    {
     "name": "stdout",
     "output_type": "stream",
     "text": [
      "Filter was called 27 times\n"
     ]
    },
    {
     "data": {
      "text/plain": [
       "\u001b[32mimport \u001b[39m\u001b[36mscala.io.Source\n",
       "\n",
       "\u001b[39m\n",
       "defined \u001b[32mfunction\u001b[39m \u001b[36mprocessFileLazy\u001b[39m\n",
       "\u001b[36mres77_3\u001b[39m: \u001b[32mList\u001b[39m[\u001b[32mString\u001b[39m] = \u001b[33mList\u001b[39m(\n",
       "  \u001b[32m\"<!DOCTYPE html\"\u001b[39m,\n",
       "  \u001b[32m\"    <title>\"\u001b[39m,\n",
       "  \u001b[32m\"      War and Peace, by Leo Tolstoy\"\u001b[39m,\n",
       "  \u001b[32m\"    </title>\"\u001b[39m,\n",
       "  \u001b[32m\"    <style type=\\\"text/css\\\" xml:space=\\\"preserve\\\">\"\u001b[39m,\n",
       "  \u001b[32m\"    body { margin:5%; background:#faebd0; text-align:justify}\"\u001b[39m,\n",
       "  \u001b[32m\"    H1,H2,H3,H4,H5,H6 { text-align: center; margin-left: 15%; margin-right: 15%; }\"\u001b[39m,\n",
       "  \u001b[32m\"    hr  { width: 50%; text-align: center;}\"\u001b[39m,\n",
       "  \u001b[32m\"    blockquote {font-size: 97%; font-style: italic; margin-left: 10%; margin-right: 10%;}\"\u001b[39m,\n",
       "  \u001b[32m\"    pre     { font-style: italic; font-size: 90%; margin-left: 10%;}\"\u001b[39m\n",
       ")"
      ]
     },
     "execution_count": 78,
     "metadata": {},
     "output_type": "execute_result"
    }
   ],
   "source": [
    "import scala.io.Source\n",
    "\n",
    "numFilterApps = 0\n",
    "\n",
    "def processFileLazy(f: String): List[String] = {\n",
    "    Source.fromFile(f)\n",
    "          .getLines\n",
    "          .toStream // Convert it to a stream\n",
    "          .filter(applyMyFilter)\n",
    "          .take(10)\n",
    "          .toList\n",
    "}\n",
    "\n",
    "processFileLazy(\"WarAndPeace.html\")\n",
    "println(s\"Filter was called $numFilterApps times\")"
   ]
  },
  {
   "cell_type": "markdown",
   "metadata": {},
   "source": [
    "The reason we call filter method so few times is that a stream performs lazy processing.\n",
    "\n",
    "### Infinite Streams\n",
    "\n",
    "We can take things to a limit and create an infinite stream. \n",
    "Here is a seemingly non terminating recursive function. However, it does terminate instead of going on forever. Why?"
   ]
  },
  {
   "cell_type": "code",
   "execution_count": 20,
   "metadata": {},
   "outputs": [
    {
     "data": {
      "text/plain": [
       "defined \u001b[32mfunction\u001b[39m \u001b[36mstreamOfOnes\u001b[39m\n",
       "\u001b[36ms\u001b[39m: \u001b[32mStream\u001b[39m[\u001b[32mDouble\u001b[39m] = \u001b[33mStream\u001b[39m(\n",
       "  \u001b[32m1.0\u001b[39m,\n",
       "  \u001b[32m1.0\u001b[39m,\n",
       "  \u001b[32m1.0\u001b[39m,\n",
       "  \u001b[32m1.0\u001b[39m,\n",
       "  \u001b[32m1.0\u001b[39m,\n",
       "  \u001b[32m1.0\u001b[39m,\n",
       "  \u001b[32m1.0\u001b[39m,\n",
       "  \u001b[32m1.0\u001b[39m,\n",
       "  \u001b[32m1.0\u001b[39m,\n",
       "  \u001b[32m1.0\u001b[39m,\n",
       "  \u001b[32m1.0\u001b[39m,\n",
       "  \u001b[32m1.0\u001b[39m,\n",
       "  \u001b[32m1.0\u001b[39m,\n",
       "  \u001b[32m1.0\u001b[39m,\n",
       "  \u001b[32m1.0\u001b[39m,\n",
       "  \u001b[32m1.0\u001b[39m,\n",
       "  \u001b[32m1.0\u001b[39m,\n",
       "  \u001b[32m1.0\u001b[39m,\n",
       "  \u001b[32m1.0\u001b[39m,\n",
       "  \u001b[32m1.0\u001b[39m,\n",
       "  \u001b[32m1.0\u001b[39m,\n",
       "  \u001b[32m1.0\u001b[39m,\n",
       "  \u001b[32m1.0\u001b[39m,\n",
       "  \u001b[32m1.0\u001b[39m,\n",
       "  \u001b[32m1.0\u001b[39m,\n",
       "  \u001b[32m1.0\u001b[39m,\n",
       "  \u001b[32m1.0\u001b[39m,\n",
       "  \u001b[32m1.0\u001b[39m,\n",
       "  \u001b[32m1.0\u001b[39m,\n",
       "  \u001b[32m1.0\u001b[39m,\n",
       "  \u001b[32m1.0\u001b[39m,\n",
       "  \u001b[32m1.0\u001b[39m,\n",
       "  \u001b[32m1.0\u001b[39m,\n",
       "  \u001b[32m1.0\u001b[39m,\n",
       "  \u001b[32m1.0\u001b[39m,\n",
       "  \u001b[32m1.0\u001b[39m,\n",
       "  \u001b[32m1.0\u001b[39m,\n",
       "  \u001b[32m1.0\u001b[39m,\n",
       "..."
      ]
     },
     "execution_count": 20,
     "metadata": {},
     "output_type": "execute_result"
    }
   ],
   "source": [
    "def streamOfOnes: Stream[Double] = 1.0 #:: streamOfOnes\n",
    "\n",
    "val s = streamOfOnes"
   ]
  },
  {
   "cell_type": "code",
   "execution_count": 24,
   "metadata": {},
   "outputs": [
    {
     "data": {
      "text/plain": [
       "defined \u001b[32mfunction\u001b[39m \u001b[36mcalculateContinuedFraction\u001b[39m\n",
       "\u001b[36mres23_1\u001b[39m: \u001b[32mDouble\u001b[39m = \u001b[32m0.6180339887498948\u001b[39m"
      ]
     },
     "execution_count": 24,
     "metadata": {},
     "output_type": "execute_result"
    }
   ],
   "source": [
    "def calculateContinuedFraction(s: Stream[Double], n: Int): Double = {\n",
    "    if (n <= 0) { 1.0 }\n",
    "    else {\n",
    "        1.0 / (1.0 + calculateContinuedFraction(s.tail, n-1))\n",
    "    }\n",
    "}\n",
    "\n",
    "calculateContinuedFraction(s, 100)"
   ]
  },
  {
   "cell_type": "code",
   "execution_count": 25,
   "metadata": {},
   "outputs": [
    {
     "data": {
      "text/plain": [
       "defined \u001b[32mfunction\u001b[39m \u001b[36mfibonacciStream\u001b[39m"
      ]
     },
     "execution_count": 25,
     "metadata": {},
     "output_type": "execute_result"
    }
   ],
   "source": [
    "def fibonacciStream(x1: Int, x2: Int): Stream[Int] = x1 #:: fibonacciStream(x2, x1+x2)"
   ]
  },
  {
   "cell_type": "code",
   "execution_count": 33,
   "metadata": {},
   "outputs": [
    {
     "data": {
      "text/plain": [
       "\u001b[36mallFibonacciNumbers\u001b[39m: \u001b[32mStream\u001b[39m[\u001b[32mInt\u001b[39m] = \u001b[33mStream\u001b[39m(\n",
       "  \u001b[32m1\u001b[39m,\n",
       "  \u001b[32m1\u001b[39m,\n",
       "  \u001b[32m2\u001b[39m,\n",
       "  \u001b[32m3\u001b[39m,\n",
       "  \u001b[32m5\u001b[39m,\n",
       "  \u001b[32m8\u001b[39m,\n",
       "  \u001b[32m13\u001b[39m,\n",
       "  \u001b[32m21\u001b[39m,\n",
       "  \u001b[32m34\u001b[39m,\n",
       "  \u001b[32m55\u001b[39m,\n",
       "  \u001b[32m89\u001b[39m,\n",
       "  \u001b[32m144\u001b[39m,\n",
       "  \u001b[32m233\u001b[39m,\n",
       "  \u001b[32m377\u001b[39m,\n",
       "  \u001b[32m610\u001b[39m,\n",
       "  \u001b[32m987\u001b[39m,\n",
       "  \u001b[32m1597\u001b[39m,\n",
       "  \u001b[32m2584\u001b[39m,\n",
       "  \u001b[32m4181\u001b[39m,\n",
       "  \u001b[32m6765\u001b[39m,\n",
       "  \u001b[32m10946\u001b[39m,\n",
       "  \u001b[32m17711\u001b[39m,\n",
       "  \u001b[32m28657\u001b[39m,\n",
       "  \u001b[32m46368\u001b[39m,\n",
       "  \u001b[32m75025\u001b[39m,\n",
       "  \u001b[32m121393\u001b[39m,\n",
       "  \u001b[32m196418\u001b[39m,\n",
       "  \u001b[32m317811\u001b[39m,\n",
       "  \u001b[32m514229\u001b[39m,\n",
       "  \u001b[32m832040\u001b[39m,\n",
       "  \u001b[32m1346269\u001b[39m,\n",
       "  \u001b[32m2178309\u001b[39m,\n",
       "  \u001b[32m3524578\u001b[39m,\n",
       "  \u001b[32m5702887\u001b[39m,\n",
       "  \u001b[32m9227465\u001b[39m,\n",
       "  \u001b[32m14930352\u001b[39m,\n",
       "  \u001b[32m24157817\u001b[39m,\n",
       "  \u001b[32m39088169\u001b[39m,\n",
       "...\n",
       "\u001b[36moddFibBelowBillion\u001b[39m: \u001b[32mList\u001b[39m[\u001b[32mInt\u001b[39m] = \u001b[33mList\u001b[39m(\n",
       "  \u001b[32m1\u001b[39m,\n",
       "  \u001b[32m1\u001b[39m,\n",
       "  \u001b[32m3\u001b[39m,\n",
       "  \u001b[32m5\u001b[39m,\n",
       "  \u001b[32m13\u001b[39m,\n",
       "  \u001b[32m21\u001b[39m,\n",
       "  \u001b[32m55\u001b[39m,\n",
       "  \u001b[32m89\u001b[39m,\n",
       "  \u001b[32m233\u001b[39m,\n",
       "  \u001b[32m377\u001b[39m,\n",
       "  \u001b[32m987\u001b[39m,\n",
       "  \u001b[32m1597\u001b[39m,\n",
       "  \u001b[32m4181\u001b[39m,\n",
       "  \u001b[32m6765\u001b[39m,\n",
       "  \u001b[32m17711\u001b[39m,\n",
       "  \u001b[32m28657\u001b[39m,\n",
       "  \u001b[32m75025\u001b[39m,\n",
       "  \u001b[32m121393\u001b[39m,\n",
       "  \u001b[32m317811\u001b[39m,\n",
       "  \u001b[32m514229\u001b[39m,\n",
       "  \u001b[32m1346269\u001b[39m,\n",
       "  \u001b[32m2178309\u001b[39m,\n",
       "  \u001b[32m5702887\u001b[39m,\n",
       "  \u001b[32m9227465\u001b[39m,\n",
       "  \u001b[32m24157817\u001b[39m,\n",
       "  \u001b[32m39088169\u001b[39m\n",
       ")"
      ]
     },
     "execution_count": 33,
     "metadata": {},
     "output_type": "execute_result"
    }
   ],
   "source": [
    "val allFibonacciNumbers:Stream[Int] = fibonacciStream(1,1)\n",
    "/*-- List all odd fibonacci numbers <= 100000000 ? */\n",
    "val oddFibBelowBillion = allFibonacciNumbers\n",
    "    .filter( _ % 2 == 1)\n",
    "    .takeWhile( _ <= 100000000)\n",
    "    .toList"
   ]
  },
  {
   "cell_type": "markdown",
   "metadata": {},
   "source": [
    "An alternative to a stream is a sequence or an iterator in scala."
   ]
  },
  {
   "cell_type": "markdown",
   "metadata": {},
   "source": [
    "## Iterators\n",
    "\n",
    "Iterators are an alternative to streams that support lazy computation in an on-demand manner. We will illustrate iterators and show how they can be used in a similar manner as streams in scala.\n",
    "\n",
    "An `Iterator` is a generic trait in scala that requires us to implement two methods `next` and `hasNext` as shown below.\n",
    " \n",
    "  - Iterators extend from the trait called Iterator[T]\n",
    "  - Iterators must implement two methods `hasNext` and `next`. \n",
    "    - `hasNext` returns a boolean that says if there are more elements\n",
    "    - `next` returns the next element of type `T`."
   ]
  },
  {
   "cell_type": "code",
   "execution_count": 79,
   "metadata": {},
   "outputs": [
    {
     "data": {
      "text/plain": [
       "defined \u001b[32mclass\u001b[39m \u001b[36mRange\u001b[39m\n",
       "\u001b[36mr1\u001b[39m: \u001b[32mRange\u001b[39m = \u001b[32mempty iterator\u001b[39m\n",
       "\u001b[36mr1ToList\u001b[39m: \u001b[32mList\u001b[39m[\u001b[32mInt\u001b[39m] = \u001b[33mList\u001b[39m(\u001b[32m100\u001b[39m, \u001b[32m105\u001b[39m, \u001b[32m110\u001b[39m, \u001b[32m115\u001b[39m, \u001b[32m120\u001b[39m, \u001b[32m125\u001b[39m, \u001b[32m130\u001b[39m, \u001b[32m135\u001b[39m, \u001b[32m140\u001b[39m)\n",
       "\u001b[36mr1ToListAgain\u001b[39m: \u001b[32mList\u001b[39m[\u001b[32mInt\u001b[39m] = \u001b[33mList\u001b[39m()"
      ]
     },
     "execution_count": 79,
     "metadata": {},
     "output_type": "execute_result"
    }
   ],
   "source": [
    "class Range(start: Int, end: Int, step: Int = 1) extends Iterator[Int] {\n",
    "    var current: Int = start\n",
    "    assert(step > 0)\n",
    "    assert(start <= end)\n",
    "    \n",
    "    override def hasNext: Boolean = current < end\n",
    "    \n",
    "    override def next: Int = {\n",
    "        val retval = current\n",
    "        current = current + step // Increment current\n",
    "        retval\n",
    "    }\n",
    "}\n",
    "\n",
    "val r1 = new Range(100, 142, 5)\n",
    "val r1ToList = r1.toList // toList is inbuilt in the Iterator trait\n",
    "// However, if we tried this again, we will not get anything\n",
    "val r1ToListAgain = r1.toList"
   ]
  },
  {
   "cell_type": "markdown",
   "metadata": {},
   "source": [
    "However, the same functionality can be provided by a stream."
   ]
  },
  {
   "cell_type": "code",
   "execution_count": 4,
   "metadata": {},
   "outputs": [
    {
     "data": {
      "text/plain": [
       "defined \u001b[32mfunction\u001b[39m \u001b[36mstreamRange\u001b[39m\n",
       "\u001b[36mstr1\u001b[39m: \u001b[32mStream\u001b[39m[\u001b[32mInt\u001b[39m] = \u001b[33mStream\u001b[39m(\u001b[32m100\u001b[39m, \u001b[32m105\u001b[39m, \u001b[32m110\u001b[39m, \u001b[32m115\u001b[39m, \u001b[32m120\u001b[39m, \u001b[32m125\u001b[39m, \u001b[32m130\u001b[39m, \u001b[32m135\u001b[39m, \u001b[32m140\u001b[39m)\n",
       "\u001b[36mstr1ToList\u001b[39m: \u001b[32mList\u001b[39m[\u001b[32mInt\u001b[39m] = \u001b[33mList\u001b[39m(\u001b[32m100\u001b[39m, \u001b[32m105\u001b[39m, \u001b[32m110\u001b[39m, \u001b[32m115\u001b[39m, \u001b[32m120\u001b[39m, \u001b[32m125\u001b[39m, \u001b[32m130\u001b[39m, \u001b[32m135\u001b[39m, \u001b[32m140\u001b[39m)\n",
       "\u001b[36mstr1ToListAgain\u001b[39m: \u001b[32mList\u001b[39m[\u001b[32mInt\u001b[39m] = \u001b[33mList\u001b[39m(\u001b[32m100\u001b[39m, \u001b[32m105\u001b[39m, \u001b[32m110\u001b[39m, \u001b[32m115\u001b[39m, \u001b[32m120\u001b[39m, \u001b[32m125\u001b[39m, \u001b[32m130\u001b[39m, \u001b[32m135\u001b[39m, \u001b[32m140\u001b[39m)"
      ]
     },
     "execution_count": 4,
     "metadata": {},
     "output_type": "execute_result"
    }
   ],
   "source": [
    "def streamRange(start: Int, end: Int, step: Int = 1): Stream[Int] = {\n",
    "         if (start < end) \n",
    "            start #:: streamRange(start+step, end, step)\n",
    "         else \n",
    "            Stream.empty\n",
    "} \n",
    "val str1 = streamRange(100, 142, 5)\n",
    "val str1ToList = str1.toList\n",
    "// The nice thing about streams is we can iterate again\n",
    "val str1ToListAgain = str1.toList"
   ]
  },
  {
   "cell_type": "markdown",
   "metadata": {},
   "source": [
    "Here is an iterator for Fibonacci numbers."
   ]
  },
  {
   "cell_type": "code",
   "execution_count": 42,
   "metadata": {},
   "outputs": [
    {
     "data": {
      "text/plain": [
       "defined \u001b[32mclass\u001b[39m \u001b[36mAllFibonacci\u001b[39m"
      ]
     },
     "execution_count": 42,
     "metadata": {},
     "output_type": "execute_result"
    }
   ],
   "source": [
    "class AllFibonacci extends Iterator[Int] {\n",
    "    var f1 = 1 // Iterators are different from streams in that they\n",
    "    var f2 = 1 // must store a state.\n",
    "    override def next: Int = {\n",
    "        val tmp = f1 + f2\n",
    "        f1 = f2\n",
    "        f2 = tmp\n",
    "        f1\n",
    "    }\n",
    "    \n",
    "    override def hasNext: Boolean = {\n",
    "        true\n",
    "    }\n",
    "}"
   ]
  },
  {
   "cell_type": "code",
   "execution_count": 41,
   "metadata": {},
   "outputs": [
    {
     "data": {
      "text/plain": [
       "\u001b[36mfibValues\u001b[39m: \u001b[32mList\u001b[39m[\u001b[32mInt\u001b[39m] = \u001b[33mList\u001b[39m(\n",
       "  \u001b[32m1\u001b[39m,\n",
       "  \u001b[32m2\u001b[39m,\n",
       "  \u001b[32m3\u001b[39m,\n",
       "  \u001b[32m5\u001b[39m,\n",
       "  \u001b[32m8\u001b[39m,\n",
       "  \u001b[32m13\u001b[39m,\n",
       "  \u001b[32m21\u001b[39m,\n",
       "  \u001b[32m34\u001b[39m,\n",
       "  \u001b[32m55\u001b[39m,\n",
       "  \u001b[32m89\u001b[39m,\n",
       "  \u001b[32m144\u001b[39m,\n",
       "  \u001b[32m233\u001b[39m,\n",
       "  \u001b[32m377\u001b[39m,\n",
       "  \u001b[32m610\u001b[39m,\n",
       "  \u001b[32m987\u001b[39m,\n",
       "  \u001b[32m1597\u001b[39m,\n",
       "  \u001b[32m2584\u001b[39m,\n",
       "  \u001b[32m4181\u001b[39m,\n",
       "  \u001b[32m6765\u001b[39m,\n",
       "  \u001b[32m10946\u001b[39m,\n",
       "  \u001b[32m17711\u001b[39m,\n",
       "  \u001b[32m28657\u001b[39m,\n",
       "  \u001b[32m46368\u001b[39m,\n",
       "  \u001b[32m75025\u001b[39m,\n",
       "  \u001b[32m121393\u001b[39m,\n",
       "  \u001b[32m196418\u001b[39m,\n",
       "  \u001b[32m317811\u001b[39m,\n",
       "  \u001b[32m514229\u001b[39m,\n",
       "  \u001b[32m832040\u001b[39m,\n",
       "  \u001b[32m1346269\u001b[39m,\n",
       "  \u001b[32m2178309\u001b[39m,\n",
       "  \u001b[32m3524578\u001b[39m,\n",
       "  \u001b[32m5702887\u001b[39m,\n",
       "  \u001b[32m9227465\u001b[39m,\n",
       "  \u001b[32m14930352\u001b[39m,\n",
       "  \u001b[32m24157817\u001b[39m,\n",
       "  \u001b[32m39088169\u001b[39m,\n",
       "  \u001b[32m63245986\u001b[39m,\n",
       "...\n",
       "\u001b[36mfibStrings\u001b[39m: \u001b[32mList\u001b[39m[\u001b[32mString\u001b[39m] = \u001b[33mList\u001b[39m(\n",
       "  \u001b[32m\"Hello: 1\"\u001b[39m,\n",
       "  \u001b[32m\"Hello: 2\"\u001b[39m,\n",
       "  \u001b[32m\"Hello: 3\"\u001b[39m,\n",
       "  \u001b[32m\"Hello: 5\"\u001b[39m,\n",
       "  \u001b[32m\"Hello: 8\"\u001b[39m,\n",
       "  \u001b[32m\"Hello: 13\"\u001b[39m,\n",
       "  \u001b[32m\"Hello: 21\"\u001b[39m,\n",
       "  \u001b[32m\"Hello: 34\"\u001b[39m,\n",
       "  \u001b[32m\"Hello: 55\"\u001b[39m,\n",
       "  \u001b[32m\"Hello: 89\"\u001b[39m,\n",
       "  \u001b[32m\"Hello: 144\"\u001b[39m,\n",
       "  \u001b[32m\"Hello: 233\"\u001b[39m,\n",
       "  \u001b[32m\"Hello: 377\"\u001b[39m,\n",
       "  \u001b[32m\"Hello: 610\"\u001b[39m,\n",
       "  \u001b[32m\"Hello: 987\"\u001b[39m,\n",
       "  \u001b[32m\"Hello: 1597\"\u001b[39m,\n",
       "  \u001b[32m\"Hello: 2584\"\u001b[39m,\n",
       "  \u001b[32m\"Hello: 4181\"\u001b[39m,\n",
       "  \u001b[32m\"Hello: 6765\"\u001b[39m,\n",
       "  \u001b[32m\"Hello: 10946\"\u001b[39m,\n",
       "  \u001b[32m\"Hello: 17711\"\u001b[39m,\n",
       "  \u001b[32m\"Hello: 28657\"\u001b[39m,\n",
       "  \u001b[32m\"Hello: 46368\"\u001b[39m,\n",
       "  \u001b[32m\"Hello: 75025\"\u001b[39m,\n",
       "  \u001b[32m\"Hello: 121393\"\u001b[39m,\n",
       "  \u001b[32m\"Hello: 196418\"\u001b[39m,\n",
       "  \u001b[32m\"Hello: 317811\"\u001b[39m,\n",
       "  \u001b[32m\"Hello: 514229\"\u001b[39m,\n",
       "  \u001b[32m\"Hello: 832040\"\u001b[39m,\n",
       "  \u001b[32m\"Hello: 1346269\"\u001b[39m,\n",
       "  \u001b[32m\"Hello: 2178309\"\u001b[39m,\n",
       "  \u001b[32m\"Hello: 3524578\"\u001b[39m,\n",
       "  \u001b[32m\"Hello: 5702887\"\u001b[39m,\n",
       "  \u001b[32m\"Hello: 9227465\"\u001b[39m,\n",
       "  \u001b[32m\"Hello: 14930352\"\u001b[39m,\n",
       "  \u001b[32m\"Hello: 24157817\"\u001b[39m,\n",
       "  \u001b[32m\"Hello: 39088169\"\u001b[39m,\n",
       "  \u001b[32m\"Hello: 63245986\"\u001b[39m,\n",
       "..."
      ]
     },
     "execution_count": 41,
     "metadata": {},
     "output_type": "execute_result"
    }
   ],
   "source": [
    "val fibValues= new AllFibonacci().take(1000).toList\n",
    "val fibStrings = new AllFibonacci().take(1000).map( \"Hello: \" + _.toString).toList"
   ]
  },
  {
   "cell_type": "markdown",
   "metadata": {},
   "source": [
    "Key differences between a stream and an iterator are:\n",
    "  - A stream is immutable, we can iterate over a stream multiple times.\n",
    "  - An iterator is typically mutable: we can usually iterate through it just once.\n",
    "  - Streams support memoization whereas iterators do not.\n",
    "  "
   ]
  },
  {
   "cell_type": "markdown",
   "metadata": {},
   "source": [
    "## For Loops (Comprehensions)\n",
    "\n",
    "Finally, we will revisit for loops and provide some useful ways to build iterators and streams.\n",
    "\n",
    "We have seen for loops before, but thus far forbidden their use."
   ]
  },
  {
   "cell_type": "code",
   "execution_count": 69,
   "metadata": {},
   "outputs": [
    {
     "name": "stdout",
     "output_type": "stream",
     "text": [
      "sum = 210\n"
     ]
    },
    {
     "data": {
      "text/html": [
       "<div class=\"jp-RenderedText\">\n",
       "<pre><code><span style=\"color: rgb(0, 187, 187)\"><span class=\"ansi-cyan-fg\">i</span></span>: <span style=\"color: rgb(0, 187, 0)\"><span class=\"ansi-green-fg\">Int</span></span> = <span style=\"color: rgb(0, 187, 0)\"><span class=\"ansi-green-fg\">210</span></span></code></pre>\n",
       "</div>"
      ],
      "text/plain": [
       "\u001b[36mi\u001b[39m: \u001b[32mInt\u001b[39m = \u001b[32m210\u001b[39m"
      ]
     },
     "metadata": {},
     "output_type": "display_data"
    }
   ],
   "source": [
    "var i = 0\n",
    "for (j <- 1 to 20) {\n",
    "    i = i + j\n",
    "}\n",
    "println(s\"sum = $i\")"
   ]
  },
  {
   "cell_type": "markdown",
   "metadata": {},
   "source": [
    "Note however, that a `for loop` in scala is not the same as in C++.\n",
    "As an example, in C++, we would write the same for loop as\n",
    "\n",
    "~~~\n",
    "int i = 0;\n",
    "int j = 0;\n",
    "for (j = 0; j <= 20; ++j){\n",
    "    i = i + j\n",
    "}\n",
    "~~~\n",
    "\n",
    "However, the meaning of the for loop in C++ is different from that in Scala. For instance, let us take this for loop:\n",
    "\n",
    "~~~\n",
    "int j = 0;\n",
    "for (j = 0; j <= 20; ++j){\n",
    "    j = 0;\n",
    "}\n",
    "~~~\n",
    "\n",
    "The body of the loop keeps assigning `j` to `0`. Such a loop would never terminate. However, let us do the same in Scala.\n"
   ]
  },
  {
   "cell_type": "code",
   "execution_count": 72,
   "metadata": {},
   "outputs": [
    {
     "name": "stderr",
     "output_type": "stream",
     "text": [
      "cmd72.sc:2: reassignment to val\n",
      "    j = 0\n",
      "      ^Compilation Failed"
     ]
    },
    {
     "ename": "",
     "evalue": "",
     "output_type": "error",
     "traceback": [
      "Compilation Failed"
     ]
    }
   ],
   "source": [
    "for (j <- 0 to 20) {\n",
    "    j = 0\n",
    "}"
   ]
  },
  {
   "cell_type": "markdown",
   "metadata": {},
   "source": [
    "Let us try a slightly different loop. "
   ]
  },
  {
   "cell_type": "code",
   "execution_count": 80,
   "metadata": {},
   "outputs": [
    {
     "name": "stdout",
     "output_type": "stream",
     "text": [
      "Loop\n",
      "Loop\n",
      "Loop\n",
      "Loop\n",
      "Loop\n",
      "Loop\n",
      "Loop\n",
      "Loop\n",
      "Loop\n",
      "Loop\n",
      "Loop\n",
      "Hurray! Loop is complete!\n"
     ]
    },
    {
     "data": {
      "text/html": [
       "<div class=\"jp-RenderedText\">\n",
       "<pre><code><span style=\"color: rgb(0, 187, 187)\"><span class=\"ansi-cyan-fg\">n</span></span>: <span style=\"color: rgb(0, 187, 0)\"><span class=\"ansi-green-fg\">Int</span></span> = <span style=\"color: rgb(0, 187, 0)\"><span class=\"ansi-green-fg\">21</span></span></code></pre>\n",
       "</div>"
      ],
      "text/plain": [
       "\u001b[36mn\u001b[39m: \u001b[32mInt\u001b[39m = \u001b[32m21\u001b[39m"
      ]
     },
     "metadata": {},
     "output_type": "display_data"
    }
   ],
   "source": [
    "var n = 10\n",
    "for (j <- 0 to n) {\n",
    "    n = n + 1\n",
    "    println(\"Loop\")\n",
    "}\n",
    "println(\"Hurray! Loop is complete!\")"
   ]
  },
  {
   "cell_type": "markdown",
   "metadata": {},
   "source": [
    "In the first example, we see that  the loop index is treated as a `val` or an immutable while it clearly changes in each iteration. What is happening here?\n",
    "\n",
    "In the second example, we are incrementing the upper bound in each loop iteration. Nevertheless, the loop runs `11` times and finishes.  What is happening here?\n",
    "\n",
    "Note that a `for` loop is scala is rewritten as a functor as follows.\n",
    "\n",
    "~~~\n",
    "for (i <- iterator) {\n",
    "   loop body \n",
    "}\n",
    "~~~\n",
    "\n",
    "is translated into\n",
    "\n",
    "~~~\n",
    "iterator.foreach ( i => { loop body } ) \n",
    "~~~\n",
    "\n",
    "With this in mind, let us piece apart the two examples.  First, the loop index `i` is immutable since it is just translated into the formal parameter for an anonymous function.\n",
    "\n",
    "Second, the loop  \n",
    "~~~\n",
    "for (j <- 0 to n) {\n",
    "    n = n + 1\n",
    "    println(\"Loop\")\n",
    "}\n",
    "~~~\n",
    "\n",
    "is transformed into \n",
    "\n",
    "~~~\n",
    "val it = 0 to n\n",
    "it.foreach ( j => {  \n",
    "    n = n + 1\n",
    "    println(\"Loop\")\n",
    "    } )\n",
    "~~~\n",
    "\n",
    "This the iterator `it` is created using the value of `n` at the beginning. Even though `n` changes, the iterator `it` does not change.\n",
    "\n",
    "## For loops with yield\n",
    "\n",
    "Scala allows us to do \"comprehensions\" using for loops and a `yield` keyword. The for-yield pattern looks like this\n",
    "\n",
    "~~~\n",
    "for (ident <- iterator) yield (expr)\n",
    "~~~\n",
    "\n",
    "It is translated into: `iterator.map( ident => { expr } ) ` \n",
    "\n",
    "The result of a for-yield loop is itself of the same type as the iterator. For instance, if the iterator is a `List` the result is an int.\n",
    "If the iterator is a stream, then so is the result.\n"
   ]
  },
  {
   "cell_type": "code",
   "execution_count": 9,
   "metadata": {},
   "outputs": [
    {
     "name": "stdout",
     "output_type": "stream",
     "text": [
      "Stream((0,1), ?)\n",
      "List((0,Hello:0), (1,Hello:1), (2,Hello:2), (3,Hello:3), (4,Hello:4), (5,Hello:5))\n"
     ]
    },
    {
     "data": {
      "text/html": [
       "<div class=\"jp-RenderedText\">\n",
       "<pre><code><span style=\"color: rgb(0, 187, 187)\"><span class=\"ansi-cyan-fg\">cons</span></span>: <span style=\"color: rgb(0, 187, 0)\"><span class=\"ansi-green-fg\">Stream</span></span>[(<span style=\"color: rgb(0, 187, 0)\"><span class=\"ansi-green-fg\">Int</span></span>, <span style=\"color: rgb(0, 187, 0)\"><span class=\"ansi-green-fg\">Int</span></span>)] = <span style=\"color: white\"><span class=\"ansi-white-fg\">[lazy]</span></span>\n",
       "<span style=\"color: rgb(0, 187, 187)\"><span class=\"ansi-cyan-fg\">cons2</span></span>: <span style=\"color: rgb(0, 187, 0)\"><span class=\"ansi-green-fg\">List</span></span>[(<span style=\"color: rgb(0, 187, 0)\"><span class=\"ansi-green-fg\">Int</span></span>, <span style=\"color: rgb(0, 187, 0)\"><span class=\"ansi-green-fg\">String</span></span>)] = <span style=\"color: yellow\"><span class=\"ansi-yellow-fg\">List</span></span>(\n",
       "  (<span style=\"color: rgb(0, 187, 0)\"><span class=\"ansi-green-fg\">0</span></span>, <span style=\"color: rgb(0, 187, 0)\"><span class=\"ansi-green-fg\">&quot;Hello:0&quot;</span></span>),\n",
       "  (<span style=\"color: rgb(0, 187, 0)\"><span class=\"ansi-green-fg\">1</span></span>, <span style=\"color: rgb(0, 187, 0)\"><span class=\"ansi-green-fg\">&quot;Hello:1&quot;</span></span>),\n",
       "  (<span style=\"color: rgb(0, 187, 0)\"><span class=\"ansi-green-fg\">2</span></span>, <span style=\"color: rgb(0, 187, 0)\"><span class=\"ansi-green-fg\">&quot;Hello:2&quot;</span></span>),\n",
       "  (<span style=\"color: rgb(0, 187, 0)\"><span class=\"ansi-green-fg\">3</span></span>, <span style=\"color: rgb(0, 187, 0)\"><span class=\"ansi-green-fg\">&quot;Hello:3&quot;</span></span>),\n",
       "  (<span style=\"color: rgb(0, 187, 0)\"><span class=\"ansi-green-fg\">4</span></span>, <span style=\"color: rgb(0, 187, 0)\"><span class=\"ansi-green-fg\">&quot;Hello:4&quot;</span></span>),\n",
       "  (<span style=\"color: rgb(0, 187, 0)\"><span class=\"ansi-green-fg\">5</span></span>, <span style=\"color: rgb(0, 187, 0)\"><span class=\"ansi-green-fg\">&quot;Hello:5&quot;</span></span>)\n",
       ")\n",
       "<span style=\"color: rgb(0, 187, 187)\"><span class=\"ansi-cyan-fg\">cons3</span></span>: <span style=\"color: rgb(0, 187, 0)\"><span class=\"ansi-green-fg\">Seq</span></span>[(<span style=\"color: rgb(0, 187, 0)\"><span class=\"ansi-green-fg\">Int</span></span>, <span style=\"color: rgb(0, 187, 0)\"><span class=\"ansi-green-fg\">String</span></span>)] = <span style=\"color: yellow\"><span class=\"ansi-yellow-fg\">Vector</span></span>(\n",
       "  (<span style=\"color: rgb(0, 187, 0)\"><span class=\"ansi-green-fg\">0</span></span>, <span style=\"color: rgb(0, 187, 0)\"><span class=\"ansi-green-fg\">&quot;Hello:0&quot;</span></span>),\n",
       "  (<span style=\"color: rgb(0, 187, 0)\"><span class=\"ansi-green-fg\">1</span></span>, <span style=\"color: rgb(0, 187, 0)\"><span class=\"ansi-green-fg\">&quot;Hello:1&quot;</span></span>),\n",
       "  (<span style=\"color: rgb(0, 187, 0)\"><span class=\"ansi-green-fg\">2</span></span>, <span style=\"color: rgb(0, 187, 0)\"><span class=\"ansi-green-fg\">&quot;Hello:2&quot;</span></span>),\n",
       "  (<span style=\"color: rgb(0, 187, 0)\"><span class=\"ansi-green-fg\">3</span></span>, <span style=\"color: rgb(0, 187, 0)\"><span class=\"ansi-green-fg\">&quot;Hello:3&quot;</span></span>),\n",
       "  (<span style=\"color: rgb(0, 187, 0)\"><span class=\"ansi-green-fg\">4</span></span>, <span style=\"color: rgb(0, 187, 0)\"><span class=\"ansi-green-fg\">&quot;Hello:4&quot;</span></span>),\n",
       "  (<span style=\"color: rgb(0, 187, 0)\"><span class=\"ansi-green-fg\">5</span></span>, <span style=\"color: rgb(0, 187, 0)\"><span class=\"ansi-green-fg\">&quot;Hello:5&quot;</span></span>)\n",
       ")</code></pre>\n",
       "</div>"
      ],
      "text/plain": [
       "\u001b[36mcons\u001b[39m: \u001b[32mStream\u001b[39m[(\u001b[32mInt\u001b[39m, \u001b[32mInt\u001b[39m)] = \u001b[37m[lazy]\u001b[39m\n",
       "\u001b[36mcons2\u001b[39m: \u001b[32mList\u001b[39m[(\u001b[32mInt\u001b[39m, \u001b[32mString\u001b[39m)] = \u001b[33mList\u001b[39m(\n",
       "  (\u001b[32m0\u001b[39m, \u001b[32m\"Hello:0\"\u001b[39m),\n",
       "  (\u001b[32m1\u001b[39m, \u001b[32m\"Hello:1\"\u001b[39m),\n",
       "  (\u001b[32m2\u001b[39m, \u001b[32m\"Hello:2\"\u001b[39m),\n",
       "  (\u001b[32m3\u001b[39m, \u001b[32m\"Hello:3\"\u001b[39m),\n",
       "  (\u001b[32m4\u001b[39m, \u001b[32m\"Hello:4\"\u001b[39m),\n",
       "  (\u001b[32m5\u001b[39m, \u001b[32m\"Hello:5\"\u001b[39m)\n",
       ")\n",
       "\u001b[36mcons3\u001b[39m: \u001b[32mSeq\u001b[39m[(\u001b[32mInt\u001b[39m, \u001b[32mString\u001b[39m)] = \u001b[33mVector\u001b[39m(\n",
       "  (\u001b[32m0\u001b[39m, \u001b[32m\"Hello:0\"\u001b[39m),\n",
       "  (\u001b[32m1\u001b[39m, \u001b[32m\"Hello:1\"\u001b[39m),\n",
       "  (\u001b[32m2\u001b[39m, \u001b[32m\"Hello:2\"\u001b[39m),\n",
       "  (\u001b[32m3\u001b[39m, \u001b[32m\"Hello:3\"\u001b[39m),\n",
       "  (\u001b[32m4\u001b[39m, \u001b[32m\"Hello:4\"\u001b[39m),\n",
       "  (\u001b[32m5\u001b[39m, \u001b[32m\"Hello:5\"\u001b[39m)\n",
       ")"
      ]
     },
     "metadata": {},
     "output_type": "display_data"
    }
   ],
   "source": [
    "lazy val cons: Stream[(Int, Int)] = {\n",
    "    for (i <- streamRange(0, 20, 3)) yield (i, i + 1)\n",
    "} \n",
    "println(cons)\n",
    "\n",
    "val cons2: List[(Int, String)]= {\n",
    "    for (i <- List(0, 1, 2, 3, 4, 5)) yield (i, \"Hello:\"+i.toString)\n",
    "}\n",
    "println(cons2)\n",
    "\n",
    "val cons3: Seq[(Int, String)] = {\n",
    "    for (i <- 0 to 5) yield (i, \"Hello:\"+i.toString)\n",
    "}"
   ]
  },
  {
   "cell_type": "markdown",
   "metadata": {},
   "source": [
    "We can do nested iterations in the same for loop\n"
   ]
  },
  {
   "cell_type": "code",
   "execution_count": 13,
   "metadata": {},
   "outputs": [
    {
     "data": {
      "text/plain": [
       "\u001b[36mres12\u001b[39m: \u001b[32mcollection\u001b[39m.\u001b[32mimmutable\u001b[39m.\u001b[32mIndexedSeq\u001b[39m[(\u001b[32mInt\u001b[39m, \u001b[32mInt\u001b[39m)] = \u001b[33mVector\u001b[39m(\n",
       "  (\u001b[32m1\u001b[39m, \u001b[32m1\u001b[39m),\n",
       "  (\u001b[32m1\u001b[39m, \u001b[32m2\u001b[39m),\n",
       "  (\u001b[32m1\u001b[39m, \u001b[32m3\u001b[39m),\n",
       "  (\u001b[32m1\u001b[39m, \u001b[32m4\u001b[39m),\n",
       "  (\u001b[32m1\u001b[39m, \u001b[32m5\u001b[39m),\n",
       "  (\u001b[32m1\u001b[39m, \u001b[32m6\u001b[39m),\n",
       "  (\u001b[32m1\u001b[39m, \u001b[32m7\u001b[39m),\n",
       "  (\u001b[32m1\u001b[39m, \u001b[32m8\u001b[39m),\n",
       "  (\u001b[32m1\u001b[39m, \u001b[32m9\u001b[39m),\n",
       "  (\u001b[32m1\u001b[39m, \u001b[32m10\u001b[39m),\n",
       "  (\u001b[32m1\u001b[39m, \u001b[32m11\u001b[39m),\n",
       "  (\u001b[32m1\u001b[39m, \u001b[32m12\u001b[39m),\n",
       "  (\u001b[32m1\u001b[39m, \u001b[32m13\u001b[39m),\n",
       "  (\u001b[32m1\u001b[39m, \u001b[32m14\u001b[39m),\n",
       "  (\u001b[32m1\u001b[39m, \u001b[32m15\u001b[39m),\n",
       "  (\u001b[32m1\u001b[39m, \u001b[32m16\u001b[39m),\n",
       "  (\u001b[32m1\u001b[39m, \u001b[32m17\u001b[39m),\n",
       "  (\u001b[32m1\u001b[39m, \u001b[32m18\u001b[39m),\n",
       "  (\u001b[32m1\u001b[39m, \u001b[32m19\u001b[39m),\n",
       "  (\u001b[32m1\u001b[39m, \u001b[32m20\u001b[39m),\n",
       "  (\u001b[32m1\u001b[39m, \u001b[32m21\u001b[39m),\n",
       "  (\u001b[32m1\u001b[39m, \u001b[32m22\u001b[39m),\n",
       "  (\u001b[32m1\u001b[39m, \u001b[32m23\u001b[39m),\n",
       "  (\u001b[32m1\u001b[39m, \u001b[32m24\u001b[39m),\n",
       "  (\u001b[32m1\u001b[39m, \u001b[32m25\u001b[39m),\n",
       "  (\u001b[32m1\u001b[39m, \u001b[32m26\u001b[39m),\n",
       "  (\u001b[32m2\u001b[39m, \u001b[32m2\u001b[39m),\n",
       "  (\u001b[32m2\u001b[39m, \u001b[32m3\u001b[39m),\n",
       "  (\u001b[32m2\u001b[39m, \u001b[32m4\u001b[39m),\n",
       "  (\u001b[32m2\u001b[39m, \u001b[32m5\u001b[39m),\n",
       "  (\u001b[32m2\u001b[39m, \u001b[32m6\u001b[39m),\n",
       "  (\u001b[32m2\u001b[39m, \u001b[32m7\u001b[39m),\n",
       "  (\u001b[32m2\u001b[39m, \u001b[32m8\u001b[39m),\n",
       "  (\u001b[32m2\u001b[39m, \u001b[32m9\u001b[39m),\n",
       "  (\u001b[32m2\u001b[39m, \u001b[32m10\u001b[39m),\n",
       "  (\u001b[32m2\u001b[39m, \u001b[32m11\u001b[39m),\n",
       "  (\u001b[32m2\u001b[39m, \u001b[32m12\u001b[39m),\n",
       "  (\u001b[32m2\u001b[39m, \u001b[32m13\u001b[39m),\n",
       "..."
      ]
     },
     "execution_count": 13,
     "metadata": {},
     "output_type": "execute_result"
    }
   ],
   "source": [
    "for ( i <- (1 to 5);\n",
    "      j <- (i to i+25)\n",
    "    ) yield (i, j)"
   ]
  },
  {
   "cell_type": "markdown",
   "metadata": {},
   "source": [
    "We can write if conditions to guard which iterations pass through to the yield statement."
   ]
  },
  {
   "cell_type": "code",
   "execution_count": 16,
   "metadata": {},
   "outputs": [
    {
     "data": {
      "text/plain": [
       "\u001b[36mres15\u001b[39m: \u001b[32mcollection\u001b[39m.\u001b[32mimmutable\u001b[39m.\u001b[32mIndexedSeq\u001b[39m[\u001b[32mInt\u001b[39m] = \u001b[33mVector\u001b[39m(\n",
       "  \u001b[32m4\u001b[39m,\n",
       "  \u001b[32m5\u001b[39m,\n",
       "  \u001b[32m6\u001b[39m,\n",
       "  \u001b[32m7\u001b[39m,\n",
       "  \u001b[32m8\u001b[39m,\n",
       "  \u001b[32m9\u001b[39m,\n",
       "  \u001b[32m9\u001b[39m,\n",
       "  \u001b[32m10\u001b[39m,\n",
       "  \u001b[32m11\u001b[39m,\n",
       "  \u001b[32m12\u001b[39m,\n",
       "  \u001b[32m13\u001b[39m,\n",
       "  \u001b[32m14\u001b[39m,\n",
       "  \u001b[32m14\u001b[39m,\n",
       "  \u001b[32m15\u001b[39m,\n",
       "  \u001b[32m16\u001b[39m,\n",
       "  \u001b[32m17\u001b[39m,\n",
       "  \u001b[32m18\u001b[39m,\n",
       "  \u001b[32m19\u001b[39m,\n",
       "  \u001b[32m19\u001b[39m,\n",
       "  \u001b[32m20\u001b[39m,\n",
       "  \u001b[32m21\u001b[39m,\n",
       "  \u001b[32m22\u001b[39m,\n",
       "  \u001b[32m23\u001b[39m,\n",
       "  \u001b[32m24\u001b[39m,\n",
       "  \u001b[32m24\u001b[39m,\n",
       "  \u001b[32m25\u001b[39m,\n",
       "  \u001b[32m26\u001b[39m,\n",
       "  \u001b[32m27\u001b[39m,\n",
       "  \u001b[32m28\u001b[39m,\n",
       "  \u001b[32m29\u001b[39m,\n",
       "  \u001b[32m4\u001b[39m,\n",
       "  \u001b[32m5\u001b[39m,\n",
       "  \u001b[32m6\u001b[39m,\n",
       "  \u001b[32m7\u001b[39m,\n",
       "  \u001b[32m8\u001b[39m,\n",
       "  \u001b[32m9\u001b[39m,\n",
       "  \u001b[32m9\u001b[39m,\n",
       "  \u001b[32m10\u001b[39m,\n",
       "..."
      ]
     },
     "execution_count": 16,
     "metadata": {},
     "output_type": "execute_result"
    }
   ],
   "source": [
    "for ( i <- (1 to 5);\n",
    "      j <- (i to i+25);\n",
    "      if ((i+j) % 5 == 4); // Filter applied to pairs (i,j)\n",
    "      k <- (i+j to i+j+5) // (i,j) have the filter applied\n",
    "    ) yield (k)"
   ]
  },
  {
   "cell_type": "markdown",
   "metadata": {},
   "source": [
    "Here is an example that prints out all pythagorean triples"
   ]
  },
  {
   "cell_type": "code",
   "execution_count": 19,
   "metadata": {},
   "outputs": [
    {
     "name": "stdout",
     "output_type": "stream",
     "text": [
      "List((3,4), (5,12), (6,8), (7,24), (8,15), (9,12), (9,40), (10,24), (11,60), (12,16))\n"
     ]
    },
    {
     "data": {
      "text/html": [
       "<div class=\"jp-RenderedText\">\n",
       "<pre><code><span style=\"color: rgb(0, 187, 187)\"><span class=\"ansi-cyan-fg\">counter</span></span>: <span style=\"color: rgb(0, 187, 0)\"><span class=\"ansi-green-fg\">Int</span></span> = <span style=\"color: rgb(0, 187, 0)\"><span class=\"ansi-green-fg\">1038</span></span>\n",
       "defined <span style=\"color: rgb(0, 187, 0)\"><span class=\"ansi-green-fg\">function</span></span> <span style=\"color: rgb(0, 187, 187)\"><span class=\"ansi-cyan-fg\">isPerfectSquare</span></span>\n",
       "defined <span style=\"color: rgb(0, 187, 0)\"><span class=\"ansi-green-fg\">function</span></span> <span style=\"color: rgb(0, 187, 187)\"><span class=\"ansi-cyan-fg\">getPythagoreanTriples</span></span></code></pre>\n",
       "</div>"
      ],
      "text/plain": [
       "\u001b[36mcounter\u001b[39m: \u001b[32mInt\u001b[39m = \u001b[32m1038\u001b[39m\n",
       "defined \u001b[32mfunction\u001b[39m \u001b[36misPerfectSquare\u001b[39m\n",
       "defined \u001b[32mfunction\u001b[39m \u001b[36mgetPythagoreanTriples\u001b[39m"
      ]
     },
     "metadata": {},
     "output_type": "display_data"
    }
   ],
   "source": [
    "var counter = 0\n",
    "\n",
    "def isPerfectSquare(s: Int): Boolean = {\n",
    "    counter = counter + 1\n",
    "    val f = s.toDouble\n",
    "    val d = math.sqrt(f)\n",
    "    val sqrt = d.toInt\n",
    "    sqrt * sqrt == s || (sqrt +1 )* (sqrt + 1) == s\n",
    "}\n",
    "\n",
    "def getPythagoreanTriples(n: Int) = \n",
    "    for (j <- (1 to n-1).toStream;\n",
    "         k <- (j+1 to n).toStream;\n",
    "            if (isPerfectSquare(j * j + k * k))\n",
    "        ) yield (j,k)\n",
    "\n",
    "println(getPythagoreanTriples(100).take(10).toList)"
   ]
  },
  {
   "cell_type": "markdown",
   "metadata": {},
   "source": [
    "More readings: \n",
    "  - Functional Programming in Scala (https://www.manning.com/books/functional-programming-in-scala)\n",
    "  - Haskell programming language\n",
    "  http://learnyouahaskell.com/"
   ]
  }
 ],
 "metadata": {
  "kernelspec": {
   "display_name": "Scala",
   "language": "scala",
   "name": "scala"
  },
  "language_info": {
   "codemirror_mode": "text/x-scala",
   "file_extension": ".scala",
   "mimetype": "text/x-scala",
   "name": "scala",
   "nbconvert_exporter": "script",
   "version": "2.12.10"
  }
 },
 "nbformat": 4,
 "nbformat_minor": 4
}
