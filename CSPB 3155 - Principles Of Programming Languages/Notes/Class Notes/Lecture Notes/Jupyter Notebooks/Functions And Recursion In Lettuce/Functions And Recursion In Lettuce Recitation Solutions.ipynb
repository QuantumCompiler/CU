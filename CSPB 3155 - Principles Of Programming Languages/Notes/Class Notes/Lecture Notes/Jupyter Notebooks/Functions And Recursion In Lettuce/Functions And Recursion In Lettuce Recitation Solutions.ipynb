{
 "cells": [
  {
   "cell_type": "markdown",
   "metadata": {},
   "source": [
    "## Functions with Multiple Parameters vs. Curried Functions\n",
    "\n",
    "We will first study this in Scala. \n",
    "  - Currying named after mathematician/computer scientist Haskell Curry.\n",
    "  - Multiple argument functions can be seen as a sequence of single argument functions.\n",
    "  \n",
    "  "
   ]
  },
  {
   "cell_type": "code",
   "execution_count": null,
   "metadata": {},
   "outputs": [],
   "source": [
    "def addTwo (x: Int, y: Int): Int = x + y"
   ]
  },
  {
   "cell_type": "markdown",
   "metadata": {},
   "source": [
    "Note the type of addTwo is `(Int, Int) => Int`"
   ]
  },
  {
   "cell_type": "code",
   "execution_count": null,
   "metadata": {},
   "outputs": [],
   "source": [
    "// Scala supports curried functions: sort of.\n",
    "\n",
    "def curriedAddTwo (x: Int) (y: Int) = x + y \n",
    "\n"
   ]
  },
  {
   "cell_type": "markdown",
   "metadata": {},
   "source": [
    "Note the type of curriedAddTwo is `Int => (Int => Int)`.\n",
    "\n",
    "  - If you give it a number, it returns a function from number to number.\n",
    "  \n",
    "\n",
    "### Question 1.\n",
    "\n",
    "Interpret the meaning of the call `curriedAddTwo (15)`.\n"
   ]
  },
  {
   "cell_type": "code",
   "execution_count": null,
   "metadata": {},
   "outputs": [],
   "source": [
    "val f1 = curriedAddTwo(15)\n",
    "// Oops.. scala does not allow this syntax although lettuce does."
   ]
  },
  {
   "cell_type": "code",
   "execution_count": null,
   "metadata": {},
   "outputs": [],
   "source": [
    "val f1 = curriedAddTwo (15)(_)\n",
    "// f1 has plugged in x but y has not be set. Remember _ makes it an anonymous function\n",
    "val x = f1(20)\n",
    "val y = f1(30)\n",
    "val z = f1(45)"
   ]
  },
  {
   "cell_type": "code",
   "execution_count": null,
   "metadata": {},
   "outputs": [],
   "source": [
    "// Currying in anonymous function syntax\n",
    "val curriedAddTwoAnon = (x: Int) => { (y:Int) => (x + y) } "
   ]
  },
  {
   "cell_type": "code",
   "execution_count": null,
   "metadata": {},
   "outputs": [],
   "source": [
    "val f1 = curriedAddTwoAnon(15) // Now this is closer to lettuce syntax\n",
    "val f2 = curriedAddTwoAnon(15)(_) // This is also OK"
   ]
  },
  {
   "cell_type": "markdown",
   "metadata": {},
   "source": [
    "### Extending Lettuce to Multiple Argument Functions"
   ]
  },
  {
   "cell_type": "markdown",
   "metadata": {},
   "source": [
    "In class, we have explored just single argument functions in lettuce. In this problem we will \n",
    "explore multiple argument functions.\n",
    "\n",
    "Consider: \n",
    "\n",
    "~~~\n",
    "let foo1 = function (x, y)\n",
    "            x - 2 * y\n",
    "          in \n",
    "       foo1(10, 15)\n",
    "~~~\n",
    "\n",
    "this code should return -20\n",
    "\n",
    "We will allow zero arguments as well.\n",
    "\n",
    "~~~\n",
    "let x = 5 in \n",
    "let bar1 = function()\n",
    "           x \n",
    "           in \n",
    "    bar1()\n",
    "~~~\n",
    "\n",
    "This code should return 5.\n",
    "\n",
    "Consider the grammar specification we have seen thus far.\n",
    "\n",
    "$$\\begin{array}{rcll}\n",
    "\\mathbf{Program} & \\rightarrow & TopLevel(\\mathbf{Expr}) \\\\[5pt]\n",
    "\\mathbf{Expr} & \\rightarrow & Const(\\mathbf{Number}) \\\\\n",
    " & | & Ident(\\mathbf{Identifier}) \\\\\n",
    " & | & Plus(\\mathbf{Expr}, \\mathbf{Expr}) \\\\\n",
    " & | & FunDef( \\mathbf{Identifier}^*, \\mathbf{Expr}) & \\text{Note multiple parameters possible} \\\\ \n",
    " & | & FunCall(\\mathbf{Expr}, \\mathbf{Expr}^*) & \\text{function call - expr(expr1, ... , exprn)} \\\\\n",
    " & | & Let(\\mathbf{Identifier},\\mathbf{Expr}, \\mathbf{Expr})  \\\\\n",
    "\\end{array}$$\n",
    "\n",
    "Write the scala definition for `FunDef` and `FunCall`. Please use lists to implement the Kleene Star."
   ]
  },
  {
   "cell_type": "code",
   "execution_count": null,
   "metadata": {},
   "outputs": [],
   "source": [
    "sealed trait Program\n",
    "sealed trait Expr\n",
    "case class Const(f: Double) extends Expr\n",
    "case class Ident(s: String) extends Expr\n",
    "case class Plus(e1: Expr, e2: Expr) extends Expr\n",
    "case class Let(x: String, e1: Expr, e2: Expr) extends Expr\n",
    "//BEGIN SOLUTION\n",
    "case class FunDef(idList: List[String], e: Expr) extends Expr\n",
    "case class FunCall(calledFun: Expr, argExpr: List[Expr]) extends Expr\n",
    "//END SOLUTION\n",
    "case class TopLevel(e: Expr) extends Program"
   ]
  },
  {
   "cell_type": "markdown",
   "metadata": {},
   "source": [
    "We will now redefine closures for functions with zero or more args. When our function had one argument, our closures were defined as `Closure(id, expr, env)`. We would now like to define closures as\n",
    "`Closure([id1, ..., idn], expr, env)` where \n",
    "  - `id1, ..., idn` are the arguments for the function to be called. \n",
    "  - `expr` is the body of the function and \n",
    "  - `env` is the stored environment for static scoping.\n",
    " \n",
    " $$\\begin{array}{rcl}\n",
    " \\mathbf{Value} & \\Rightarrow & num(\\mathbf{Double}) \\\\\n",
    " & \\Rightarrow & closure(\\mathbf{String}^*, \\mathbf{Expr}, \\mathbf{Environment}) \\\\\n",
    " & \\Rightarrow & error \\\\\n",
    " \\end{array}$$\n",
    " \n",
    " For __Environment__ please use a scala immutable map from __String__ to __Value__"
   ]
  },
  {
   "cell_type": "code",
   "execution_count": null,
   "metadata": {},
   "outputs": [],
   "source": [
    "sealed trait Value\n",
    "case class Num(d: Double) extends Value\n",
    "case object Error extends Value\n",
    "//BEGIN SOLUTION\n",
    "case class Closure(s: List[String], e: Expr, env: Map[String, Value]) extends Value\n",
    "//END SOLUTION"
   ]
  },
  {
   "cell_type": "markdown",
   "metadata": {},
   "source": [
    "Build an interpreter using the following semantic rules. Ensure that your interpreter correctly deals with the cases that give rise to error by throwing an exception.\n",
    "\n",
    "$$\\newcommand\\semRule[3]{\\begin{array}{c} #1 \\\\ \\hline #2 \\\\\\end{array} (\\text{#3})} $$\n",
    "$$\\newcommand\\eval{\\mathbf{eval}}$$\n",
    "$$\\semRule{}{\\eval(\\texttt{FunDef([id1,..., idk], e)},\\sigma) = \\text{Closure}(\\texttt{[id1,..., idk]}, \\texttt{e}, \\sigma)}{fundef}$$\n",
    "\n",
    "$$\\semRule {\\eval(\\texttt{e}, \\sigma) = \\text{Closure}(\\texttt{[id1,..., idn]}, \\texttt{fBody}, \\color{red}{\\sigma_{cl}}),\\  \\color{red}{n = k},\\ (\\forall\\ i \\in \\{ 1, \\ldots, k\\})\\ \\eval(\\texttt{ei}, \\sigma) = v_i,  v_i \\not= \\mathbf{error}}\n",
    "           {\\eval(\\texttt{FunCall(e, [e1, ..., ek])}, \\sigma) = \\eval(\\texttt{fBody}, \\color{red}{\\sigma_{cl} \\circ [id1 \\rightarrow v_1, \\ldots, idk \\rightarrow v_k]})}{funcall-ok}$$\n",
    "           \n",
    "Let us interpret this rule. Read the points below carefully.\n",
    "   - __Purpose__ : Evaluate an expression of the form `FunCall(e, [e1,...,ek])` where `e` is the expr for the called function, and `e1, ..., ek` are exprs for the arguments of this call. There are $k$ arguments.\n",
    "     - (A) Evaluating `e` must yield a closure of the form $\\text{Closure}(\\texttt{[id1,..., idn]}, \\texttt{fBody}, \\color{red}{\\sigma_{cl}})$.\n",
    "     - (B) The number of arguments for the closure $n$ must equal that of the function call $k$.\n",
    "     - (C) Evaluating each of the $k$ arguments `ei` for $i = 1, \\ldots, k$ must yield $v_i$ where $v_i$ is not error.\n",
    "     - (D) Then the result of evaluating the call is the same as that of evaluating `fBody` under the environment $\\color{red}{\\sigma_{cl}}$ extended by mapping the formal parameters `id1.., idk` to $v_1, \\ldots, v_k$, respectively.\n",
    "\n",
    "\n",
    "We can write some error rules.\n",
    "\n",
    "$$\\semRule {\\eval(\\texttt{e}, \\sigma) \\not\\in \\text{Closure}}\n",
    "           {\\eval(\\texttt{FunCall(e, [e1, ..., ek])}, \\sigma) = \\mathbf{error}}{funcall-not-a-function}$$\n",
    "\n",
    "\n",
    "$$\\semRule {\\eval(\\texttt{e}, \\sigma) = \\text{Closure}(\\texttt{[id1,..., idn]}, \\texttt{fBody}, \\color{red}{\\sigma_{cl}}),\\  \\color{red}{n \\not= k}}\n",
    "           {\\eval(\\texttt{FunCall(e, [e1, ..., ek])}, \\sigma) = \\mathbf{error}}{funcall-wrong-num-args}$$\n",
    "           \n",
    "  \n",
    "$$\\semRule {\\eval(\\texttt{e}, \\sigma) = \\text{Closure}(\\texttt{[id1,..., idn]}, \\texttt{fBody}, \\color{red}{\\sigma_{cl}}),\\  \\color{red}{n = k},\\ (\\exists\\ i \\in \\{1, \\ldots, k\\})\\ \\eval(\\texttt{ei}, \\sigma) = \\mathbf{error}}\n",
    "           {\\eval(\\texttt{FunCall(e, [e1, ..., ek])}, \\sigma) = \\mathbf{error}}{funcall-arg-error}$$\n",
    "           "
   ]
  },
  {
   "cell_type": "code",
   "execution_count": null,
   "metadata": {},
   "outputs": [],
   "source": [
    "class ErrorException(s:String) extends Exception(s){}  \n",
    "\n",
    "\n",
    "def valueToNumber(v: Value): Double = v match {\n",
    "    case Num(d) => d\n",
    "    case _ => throw new ErrorException(s\"Could not convert value $v to a number\")\n",
    "}\n",
    "\n",
    "def eval(e: Expr, env: Map[String, Value]): Value = {\n",
    "    def addValues(v1: Value, v2: Value): Value = \n",
    "        Num ( valueToNumber(v1) + valueToNumber(v2) )\n",
    "    \n",
    "    e match {\n",
    "        case Const(d) => Num(d)\n",
    "        case Ident(x) => {\n",
    "            //BEGIN SOLUTION\n",
    "            if (env contains x) {\n",
    "                env(x)\n",
    "            } else {\n",
    "                throw new ErrorException(s\"Could not find identifier $x\")\n",
    "            }\n",
    "            //END SOLUTION\n",
    "        }\n",
    "        case Plus(e1,e2) => {\n",
    "            val v1 = eval(e1, env)\n",
    "            val v2 = eval(e2, env)\n",
    "            addValues(v1,v2)\n",
    "        }\n",
    "        case Let(id, e1, e2) => {\n",
    "            val v1 = eval(e1, env)\n",
    "            val env2 = env + (id -> v1)\n",
    "            eval(e2, env2)\n",
    "        }\n",
    "        \n",
    "        case FunDef(idList, e) => {\n",
    "            //BEGIN SOLUTION\n",
    "            Closure(idList, e, env)\n",
    "            //END SOLUTION\n",
    "        }\n",
    "        \n",
    "        case FunCall(e, eList) => {\n",
    "            //BEGIN SOLUTION\n",
    "            val v = eval(e, env)\n",
    "            v match {\n",
    "                case Closure(argList, fBody, closureEnv) => {\n",
    "                    // Check that the length of the list of arguments\n",
    "                    // matches with the length of the list of formal parameters\n",
    "                    // in the closure\n",
    "                    if (argList.length == eList.length){\n",
    "                        // The two lists are of the same length\n",
    "                        // Recursively evaluate the list of arguments\n",
    "                        val valList = eList.map {eval(_, env)}\n",
    "                        // Combine argument list with the list of values\n",
    "                        val zipList = argList.zip(valList)\n",
    "                        // Simply update closureEnv\n",
    "                        val newEnv = closureEnv ++ zipList\n",
    "                        // Call the body of the function with new environment\n",
    "                        eval(fBody, newEnv)\n",
    "                    } else {\n",
    "                        throw new ErrorException(s\"Argument length mismatch\")\n",
    "                    }\n",
    "                }\n",
    "                case _ => throw new ErrorException(s\"Tried to use a numerical value as a function\")\n",
    "            }\n",
    "            //END SOLUTION\n",
    "        }\n",
    "    }\n",
    "}\n",
    "\n",
    "\n",
    "def evalProgram(p: Program): Value = p match {\n",
    "    case TopLevel(e) => try\n",
    "            eval(e, Map.empty)\n",
    "    catch {\n",
    "        case e: ErrorException => {\n",
    "            println(e)\n",
    "            Error\n",
    "        }\n",
    "        case e: IllegalArgumentException => {\n",
    "            println(e)\n",
    "            Error\n",
    "        }\n",
    "        case e => {\n",
    "            println(\"Unknown Exception \" + e.toString)\n",
    "            Error\n",
    "        }\n",
    "            \n",
    "    }\n",
    "}"
   ]
  },
  {
   "cell_type": "code",
   "execution_count": null,
   "metadata": {},
   "outputs": [],
   "source": [
    "val p1 = TopLevel(Const(5.0))\n",
    "val p2 = TopLevel(Plus(Const(4.0), Const(5.0)))\n",
    "val p3 = TopLevel(Let(\"x\", Const(1.0), Plus(Ident(\"x\"), Const(5.0))))\n",
    "\n",
    "assert(evalProgram(p1) == Num(5.0), \"Test 1\")\n",
    "assert(evalProgram(p2) == Num(9.0), \"Test 2\")\n",
    "assert(evalProgram(p3) == Num(6.0), \"Test 3\")"
   ]
  },
  {
   "cell_type": "code",
   "execution_count": null,
   "metadata": {},
   "outputs": [],
   "source": [
    "val p4 = TopLevel(\n",
    "    Let(\n",
    "        \"f\", \n",
    "        FunDef(List(\"x\", \"y\", \"z\"), Plus(Ident(\"x\"), Ident(\"z\"))), \n",
    "        FunCall(Ident(\"f\"), List(Const(1.0), Const(2.0), Const(3.0)))\n",
    "    )\n",
    ")\n",
    "assert(evalProgram(p4) == Num(4.0), \"Test 4\") // (funcall-ok)"
   ]
  },
  {
   "cell_type": "code",
   "execution_count": null,
   "metadata": {},
   "outputs": [],
   "source": [
    "val p5 = TopLevel(\n",
    "    Let(\n",
    "        \"f\", \n",
    "        Const(2.0), \n",
    "        FunCall(Ident(\"f\"), List(Const(1.0), Const(2.0), Const(3.0)))\n",
    "    )\n",
    ")\n",
    "assert(evalProgram(p5) == Error, \"Test 5\") // (funcall-not-a-function)"
   ]
  },
  {
   "cell_type": "code",
   "execution_count": null,
   "metadata": {},
   "outputs": [],
   "source": [
    "val p6 = TopLevel(\n",
    "    Let(\n",
    "        \"f\", \n",
    "        FunDef(List(\"x\", \"y\", \"z\"), Plus(Ident(\"x\"), Ident(\"z\"))), \n",
    "        FunCall(Ident(\"f\"), List(Const(1.0)))\n",
    "    )\n",
    ")\n",
    "assert(evalProgram(p6) == Error, \"Test 6\") // (funcall-wrong-num-args)"
   ]
  },
  {
   "cell_type": "code",
   "execution_count": null,
   "metadata": {},
   "outputs": [],
   "source": [
    "val p7 = TopLevel(\n",
    "    Let(\n",
    "        \"f\", \n",
    "        FunDef(List(\"x\", \"y\", \"z\"), Plus(Ident(\"x\"), Ident(\"z\"))), \n",
    "        FunCall(Ident(\"f\"), List(Const(1.0), Const(2.0), Ident(\"giraffe\")))\n",
    "    )\n",
    ")\n",
    "assert(evalProgram(p7) == Error, \"Test 7\") // (funcall-arg-error)"
   ]
  }
 ],
 "metadata": {
  "kernelspec": {
   "display_name": "Scala",
   "language": "scala",
   "name": "scala"
  },
  "language_info": {
   "codemirror_mode": "text/x-scala",
   "file_extension": ".scala",
   "mimetype": "text/x-scala",
   "name": "scala",
   "nbconvert_exporter": "script",
   "version": "2.12.10"
  }
 },
 "nbformat": 4,
 "nbformat_minor": 4
}
