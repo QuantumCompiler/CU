{
 "cells": [
  {
   "cell_type": "markdown",
   "metadata": {
    "nbgrader": {
     "checksum": "5f8ea2574e5e5a8d494cb7f65f0ea5ab",
     "grade": false,
     "grade_id": "cell-4b046c8798d6213e",
     "locked": true,
     "schema_version": 1,
     "solution": false
    }
   },
   "source": [
    "# Tail Recursion\n",
    "\n",
    "A recursive function is *tail-recursive* when the recursive subcall is the last computation of the recursive function body. The benefit of tail recursion is that it consumes less stack memory. See [here](https://docs.google.com/presentation/d/1q0l0RTgsTe2ux3VuhbsgeJZ50-rFeUhy-l8RjTiCiWc/edit?usp=sharing) for some visuals."
   ]
  },
  {
   "cell_type": "markdown",
   "metadata": {
    "deletable": false,
    "editable": false,
    "nbgrader": {
     "checksum": "88b9ee79ecf1964e1898bb5b47a0739a",
     "grade": false,
     "grade_id": "cell-4368609d1a17ee23",
     "locked": true,
     "schema_version": 1,
     "solution": false
    }
   },
   "source": [
    "## Making a recursive function tail-recursive\n",
    "\n",
    "A recursive function is *not* tail-recursive when it still has to perform computation after its recursive subcall returns. For example, in the following implementation of `factorial`, we need to multiply the returned result of `factorial(n-1)` by `n`."
   ]
  },
  {
   "cell_type": "code",
   "execution_count": null,
   "metadata": {
    "deletable": false,
    "nbgrader": {
     "checksum": "d6f92d56aa4b39bd25d4ec6ccbb790db",
     "grade": false,
     "grade_id": "cell-abdeac9d066c7166",
     "locked": true,
     "schema_version": 1,
     "solution": false
    }
   },
   "outputs": [],
   "source": [
    "def factorial(n : Int) : Int = {\n",
    "    if (n == 0) {\n",
    "        1\n",
    "    } else {\n",
    "        n * factorial(n - 1)\n",
    "    }\n",
    "}"
   ]
  },
  {
   "cell_type": "markdown",
   "metadata": {
    "deletable": false,
    "editable": false,
    "nbgrader": {
     "checksum": "bd37e63db1b8438e5d6c72ffad85d03a",
     "grade": false,
     "grade_id": "cell-37caf60119718627",
     "locked": true,
     "schema_version": 1,
     "solution": false
    }
   },
   "source": [
    "To make this function tail-recursive, we want to take the work we perform *after* the recursive subcall and perform it *before* the recursive subcall. The trick is to perform that work on an accumulator variable, which then gets passed into the recursive subcall. When you reach the base case, you can simply return the work that you've accumulated in the accumulator variable.\n",
    "\n",
    "The annotation `@tailrec` can be used to check if your function is properly tail recursive."
   ]
  },
  {
   "cell_type": "code",
   "execution_count": null,
   "metadata": {
    "deletable": false,
    "nbgrader": {
     "checksum": "943cf8f93d8a9c0bfec4d89765d0eb29",
     "grade": false,
     "grade_id": "cell-1b47831f7ad79477",
     "locked": true,
     "schema_version": 1,
     "solution": false
    }
   },
   "outputs": [],
   "source": [
    "import scala.annotation.tailrec\n",
    "\n",
    "// Notice the default argument for the accumulator (acc : Int = 1)\n",
    "\n",
    "@tailrec\n",
    "def factorial_tr(n : Int, acc : Int = 1) : Int = {\n",
    "    if (n == 0) {\n",
    "        acc\n",
    "    } else {\n",
    "        factorial_tr(n - 1, n * acc)\n",
    "    }\n",
    "}"
   ]
  },
  {
   "cell_type": "markdown",
   "metadata": {
    "deletable": false,
    "editable": false,
    "nbgrader": {
     "checksum": "bd37e63db1b8438e5d6c72ffad85d03a",
     "grade": false,
     "grade_id": "cell-37caf60119718627",
     "locked": true,
     "schema_version": 1,
     "solution": false
    }
   },
   "source": [
    "The `tailrec` annotation causes a compile time error if the function cannot be optimized for tail recursion."
   ]
  },
  {
   "cell_type": "code",
   "execution_count": null,
   "metadata": {},
   "outputs": [],
   "source": [
    "@tailrec\n",
    "def factorial(n : Int) : Int = {\n",
    "    if (n == 0) {\n",
    "        1\n",
    "    } else {\n",
    "        n * factorial(n - 1)\n",
    "    }\n",
    "}"
   ]
  },
  {
   "cell_type": "markdown",
   "metadata": {
    "deletable": false,
    "editable": false,
    "nbgrader": {
     "checksum": "4aa46931051df61b6f79fa9690e74069",
     "grade": false,
     "grade_id": "cell-2abd22e5bc945197",
     "locked": true,
     "schema_version": 1,
     "solution": false
    }
   },
   "source": [
    "## Exercise: implement tail-recursive `reverse`\n",
    "\n",
    "Here is a non-tail-recursive implementation of `reverse`."
   ]
  },
  {
   "cell_type": "code",
   "execution_count": null,
   "metadata": {
    "deletable": false,
    "nbgrader": {
     "checksum": "ec15bf46e99b58a732e5dd20ef63debc",
     "grade": false,
     "grade_id": "cell-c56b9683d1d8ade3",
     "locked": true,
     "schema_version": 1,
     "solution": false
    }
   },
   "outputs": [],
   "source": [
    "def reverse(s : String) : String = {\n",
    "    if (s.isEmpty()) {\n",
    "        \"\"\n",
    "    } else {\n",
    "        val n = s.size\n",
    "        s(n - 1) + reverse(s.slice(0, n - 1))\n",
    "    }\n",
    "}"
   ]
  },
  {
   "cell_type": "code",
   "execution_count": null,
   "metadata": {
    "nbgrader": {
     "checksum": "3114613e1a086c4a93aa1311711b5fe3",
     "grade": false,
     "grade_id": "cell-70c8969a9d956e25",
     "locked": true,
     "schema_version": 1,
     "solution": false
    }
   },
   "outputs": [],
   "source": [
    "assert(reverse(\"\") == \"\", \"Failed on \\\"\\\"\")\n",
    "assert(reverse(\"a\") == \"a\", \"Failed on \\\"a\\\"\")\n",
    "assert(reverse(\"abcde\") == \"edcba\", \"Failed on \\\"abcde\\\"\")\n",
    "assert(reverse(\"Mom's spaghetti\") == \"ittehgaps s'moM\", \"Failed on \\\"Mom's spaghetti\\\"\")"
   ]
  },
  {
   "cell_type": "markdown",
   "metadata": {
    "deletable": false,
    "editable": false,
    "nbgrader": {
     "checksum": "d1f18a726ddee1c9c66791efefb45f5c",
     "grade": false,
     "grade_id": "cell-dc00478985232eed",
     "locked": true,
     "schema_version": 1,
     "solution": false
    }
   },
   "source": [
    "Your task is to implement the tail-recursive version `reverse_tr`."
   ]
  },
  {
   "cell_type": "code",
   "execution_count": null,
   "metadata": {
    "deletable": false,
    "nbgrader": {
     "checksum": "604a834a314e0ea071a12c950da1e959",
     "grade": false,
     "grade_id": "cell-fcb94a97759a1e94",
     "locked": false,
     "schema_version": 1,
     "solution": true
    }
   },
   "outputs": [],
   "source": [
    "// YOUR CODE HERE\n",
    "???"
   ]
  },
  {
   "cell_type": "code",
   "execution_count": null,
   "metadata": {
    "deletable": false,
    "editable": false,
    "nbgrader": {
     "checksum": "d5900ddaefdde6ba20c2e17cfc27bdc4",
     "grade": true,
     "grade_id": "cell-56099d8df8a74e27",
     "locked": true,
     "points": 1,
     "schema_version": 1,
     "solution": false
    }
   },
   "outputs": [],
   "source": [
    "assert(reverse_tr(\"\") == \"\", \"Failed on \\\"\\\"\")\n",
    "assert(reverse_tr(\"a\") == \"a\", \"Failed on \\\"a\\\"\")\n",
    "assert(reverse_tr(\"abcde\") == \"edcba\", \"Failed on \\\"abcde\\\"\")\n",
    "assert(reverse_tr(\"Mom's spaghetti\") == \"ittehgaps s'moM\", \"Failed on \\\"Mom's spaghetti\\\"\")"
   ]
  },
  {
   "cell_type": "markdown",
   "metadata": {
    "deletable": false,
    "editable": false,
    "nbgrader": {
     "checksum": "bd37e63db1b8438e5d6c72ffad85d03a",
     "grade": false,
     "grade_id": "cell-37caf60119718627",
     "locked": true,
     "schema_version": 1,
     "solution": false
    }
   },
   "source": [
    "# Inductive definitions\n",
    "## Grammars\n",
    "## Exercise: Give grammar for inductively defined set of numbers\n",
    "\n",
    "Convert the following inductive definition for sets given in english into a grammar.\n",
    "\n",
    "A set ($S$) is defined inductively as follows:\n",
    "- The empty set, $\\emptyset$, is a set\n",
    "- If $S$ is a set, then the insertion of a number is also a set: $S, n$.\n",
    "- If $S$ is a set, then its complement is also a set: $\\lnot S$\n",
    "- If $S_1$ and $S_2$ are sets, then so are the following:\n",
    "  - The intersection $S_1 \\bigcap S_2$.\n",
    "  - The union $S_1 \\bigcup S_2$.\n",
    "  - The subtraction $S_1 - S_2$.\n",
    "\n",
    "See the following table for the constructor symbols which correspond to the given syntax (use these in your solution):\n",
    "\n",
    "| Syntax              | Constructor    |\n",
    "|---------------------|----------------|\n",
    "| $n$                 | $\\textbf{int}$ |\n",
    "| $S$                 | $\\textbf{Set}$ |\n",
    "| $\\emptyset$         | $Empty$        |\n",
    "| $S, n$              | $Cons$         |\n",
    "| $\\lnot S$           | $Complement$   |\n",
    "| $$S_1 \\bigcap S_2$$ | $Intersection$ |\n",
    "| $$S_1 \\bigcup S_2$$ | $Union$        |\n",
    "| $S_1 - S_2$         | $Subtraction$  |"
   ]
  },
  {
   "cell_type": "markdown",
   "metadata": {
    "nbgrader": {
     "checksum": "0548945f32d9aa16b495e7cab1a2fbfc",
     "grade": false,
     "grade_id": "cell-b498600ca3de5458",
     "locked": true,
     "schema_version": 1,
     "solution": false
    }
   },
   "source": [
    "$\\LaTeX$ to get you started:\n",
    "$$\n",
    "\\begin{array}{rcl}\n",
    "    \\textbf{Set} & \\rightarrow & Cons(\\textbf{Set}, n) \\\\\n",
    "                 &           | & TODO \\\\\n",
    "\\end{array}\n",
    "$$"
   ]
  },
  {
   "cell_type": "markdown",
   "metadata": {
    "deletable": false,
    "editable": false,
    "nbgrader": {
     "checksum": "1f0acc9f5b9ad7b00fca54b3c0ef975b",
     "grade": false,
     "grade_id": "cell-bf27c5835c3e1c20",
     "locked": true,
     "schema_version": 1,
     "solution": false
    }
   },
   "source": [
    "## Exercise: Scala\n",
    "Give the Scala case classes that represent the same structure."
   ]
  },
  {
   "cell_type": "code",
   "execution_count": null,
   "metadata": {
    "deletable": false,
    "nbgrader": {
     "checksum": "5e34cdaa6cf94193cb7e3923b63f5604",
     "grade": false,
     "grade_id": "cell-08da72763665aaf9",
     "locked": false,
     "schema_version": 1,
     "solution": true
    }
   },
   "outputs": [],
   "source": [
    "// YOUR CODE HERE\n",
    "???"
   ]
  },
  {
   "cell_type": "markdown",
   "metadata": {
    "deletable": false,
    "nbgrader": {
     "checksum": "b718050be119e46d70e881c6830f449e",
     "grade": false,
     "grade_id": "cell-36db756670fb7035",
     "locked": true,
     "schema_version": 1,
     "solution": false
    }
   },
   "source": [
    "Use the above case classes to create Scala objects representing the following:\n",
    "\n",
    "1. $\\emptyset$\n",
    "2. $\\{1, 2\\}$\n",
    "3. $\\emptyset \\bigcup \\emptyset$\n",
    "4. $(\\emptyset \\bigcup \\emptyset) \\bigcap (\\lnot \\emptyset)$\n",
    "5. $\\emptyset - \\emptyset \\bigcup \\emptyset$"
   ]
  },
  {
   "cell_type": "code",
   "execution_count": null,
   "metadata": {
    "deletable": false,
    "nbgrader": {
     "checksum": "bfd9cc22de959385a6a0d60cccf969ad",
     "grade": false,
     "grade_id": "cell-78c694043839ba98",
     "locked": false,
     "schema_version": 1,
     "solution": true
    }
   },
   "outputs": [],
   "source": [
    "// YOUR CODE HERE\n",
    "???"
   ]
  },
  {
   "cell_type": "code",
   "execution_count": null,
   "metadata": {},
   "outputs": [],
   "source": []
  },
  {
   "cell_type": "markdown",
   "metadata": {},
   "source": [
    "The next section will not be covered during recitation, but has been left in the notebook for future reference."
   ]
  },
  {
   "cell_type": "markdown",
   "metadata": {
    "deletable": false,
    "editable": false,
    "nbgrader": {
     "checksum": "5f8ea2574e5e5a8d494cb7f65f0ea5ab",
     "grade": false,
     "grade_id": "cell-4b046c8798d6213e",
     "locked": true,
     "schema_version": 1,
     "solution": false
    }
   },
   "source": [
    "# The Point of No Return\n",
    "Until now, we have been calling `return` to pass values back from functions.  The `return` keyword is short hand for \"skip the remaining code in this function\".  Since `return` can cause unexpected behavior and make code less readable, we encourage students to avoid it from now on.\n",
    "\n",
    "For example, consider the factorial function as it has been written in class."
   ]
  },
  {
   "cell_type": "code",
   "execution_count": null,
   "metadata": {},
   "outputs": [],
   "source": [
    "def factorial_return(n : Int) : Int = {\n",
    "    if (n != 0) {\n",
    "        return n * factorial_return(n - 1)\n",
    "    }\n",
    "    return 1\n",
    "}\n",
    "factorial_return(5)"
   ]
  },
  {
   "cell_type": "markdown",
   "metadata": {
    "deletable": false,
    "editable": false,
    "nbgrader": {
     "checksum": "5f8ea2574e5e5a8d494cb7f65f0ea5ab",
     "grade": false,
     "grade_id": "cell-4b046c8798d6213e",
     "locked": true,
     "schema_version": 1,
     "solution": false
    }
   },
   "source": [
    "The \"no return\" version of this function is more than simply removing the `return` keyword.  We use an if *expression*."
   ]
  },
  {
   "cell_type": "code",
   "execution_count": null,
   "metadata": {},
   "outputs": [],
   "source": [
    "def factorial(n : Int) : Int = {\n",
    "    if (n != 0) {\n",
    "        n * factorial(n - 1)\n",
    "    } else {\n",
    "        1\n",
    "    }\n",
    "}\n",
    "factorial(5)"
   ]
  },
  {
   "cell_type": "markdown",
   "metadata": {
    "deletable": false,
    "editable": false,
    "nbgrader": {
     "checksum": "5f8ea2574e5e5a8d494cb7f65f0ea5ab",
     "grade": false,
     "grade_id": "cell-4b046c8798d6213e",
     "locked": true,
     "schema_version": 1,
     "solution": false
    }
   },
   "source": [
    "In many programming languages (e.g. Java, Python, and C++), we often use the `if` keyword to decide whether to execute a command.  If the \\[condition\\] is true, then the \\[code\\] runs. If the \\[condition\\] is false, nothing runs.\n",
    "\n",
    "```\n",
    "if([condition]){\n",
    "    [code]\n",
    "}\n",
    "```\n",
    "\n",
    "Scala evaluates `if` expressions to a value that may be stored in a variable, used as the return of a method, or more.\n",
    "In the following code snippet, the first expression will be evaluated and stored in the result if the condition is true, otherwise the second expression will be evaluated and stored in result.\n",
    "```\n",
    "val result = if([condition]){ \n",
    "    [expression if true] \n",
    "} else { \n",
    "    [expression if false] \n",
    "}\n",
    "\n",
    "```\n",
    "Your task is to modify the `if` expression to fix the compilation error."
   ]
  },
  {
   "cell_type": "code",
   "execution_count": null,
   "metadata": {},
   "outputs": [],
   "source": [
    "val n = 5\n",
    "val b: String = if (n < 2) { \"Less than or equal to two.\" } else { \"Greater than or equal to two.\" }"
   ]
  },
  {
   "cell_type": "markdown",
   "metadata": {
    "deletable": false,
    "editable": false,
    "nbgrader": {
     "checksum": "5f8ea2574e5e5a8d494cb7f65f0ea5ab",
     "grade": false,
     "grade_id": "cell-4b046c8798d6213e",
     "locked": true,
     "schema_version": 1,
     "solution": false
    }
   },
   "source": [
    "Beware, an `if` without an `else` is rarely desirable.  If you simply remove the `return` keyword from the factorial function, it will always return `1`."
   ]
  },
  {
   "cell_type": "code",
   "execution_count": null,
   "metadata": {},
   "outputs": [],
   "source": [
    "def factorial_bad(n : Int) : Int = {\n",
    "    if (n != 0) {\n",
    "        n * factorial_bad(n - 1)\n",
    "    }\n",
    "    1\n",
    "}\n",
    "factorial_bad(5)"
   ]
  }
 ],
 "metadata": {
  "celltoolbar": "Edit Metadata",
  "kernelspec": {
   "display_name": "Scala",
   "language": "scala",
   "name": "scala"
  },
  "language_info": {
   "codemirror_mode": "text/x-scala",
   "file_extension": ".scala",
   "mimetype": "text/x-scala",
   "name": "scala",
   "nbconvert_exporter": "script",
   "version": "2.12.10"
  }
 },
 "nbformat": 4,
 "nbformat_minor": 2
}
