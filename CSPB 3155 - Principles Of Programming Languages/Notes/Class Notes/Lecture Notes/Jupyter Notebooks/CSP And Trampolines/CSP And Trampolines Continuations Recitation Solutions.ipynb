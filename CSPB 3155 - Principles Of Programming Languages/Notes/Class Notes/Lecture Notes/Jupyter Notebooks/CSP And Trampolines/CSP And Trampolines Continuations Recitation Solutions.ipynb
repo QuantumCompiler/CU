{
 "cells": [
  {
   "cell_type": "markdown",
   "metadata": {},
   "source": [
    "# CSCI 3155 Recitation 10\n",
    "March 22, 2018"
   ]
  },
  {
   "cell_type": "markdown",
   "metadata": {},
   "source": [
    "## Parametric Polymorphism\n",
    "\n",
    "[Parametric polymorphism](https://en.wikipedia.org/wiki/Parametric_polymorphism) allows us to write reusable, type safe code. This is also called type parameters, generics, templates, or type variables.\n",
    "\n",
    "As a reminder, we list type parameters in brackets similarly to how we list regular parameters in parentheses:\n",
    "```scala\n",
    "def f[T](x: T): Int = ???\n",
    "```"
   ]
  },
  {
   "cell_type": "markdown",
   "metadata": {},
   "source": [
    "## Exercise: Identity\n",
    "Fix this identity function:\n",
    "```scala\n",
    "def id(x: Any): Any = x\n",
    "```\n",
    "So that the following operations compile:\n",
    "```scala\n",
    "val n: Int    = id(4)\n",
    "val s: String = id(\"hi\")\n",
    "```"
   ]
  },
  {
   "cell_type": "code",
   "execution_count": 22,
   "metadata": {},
   "outputs": [
    {
     "data": {
      "text/plain": [
       "defined \u001b[32mfunction\u001b[39m \u001b[36mid\u001b[39m"
      ]
     },
     "execution_count": 22,
     "metadata": {},
     "output_type": "execute_result"
    }
   ],
   "source": [
    "// BEGIN SOLUTION\n",
    "def id[T](t: T): T = t\n",
    "// END SOLUTION"
   ]
  },
  {
   "cell_type": "code",
   "execution_count": 23,
   "metadata": {},
   "outputs": [
    {
     "data": {
      "text/plain": [
       "\u001b[36mn\u001b[39m: \u001b[32mInt\u001b[39m = \u001b[32m4\u001b[39m\n",
       "\u001b[36ms\u001b[39m: \u001b[32mString\u001b[39m = \u001b[32m\"hi\"\u001b[39m"
      ]
     },
     "execution_count": 23,
     "metadata": {},
     "output_type": "execute_result"
    }
   ],
   "source": [
    "val n: Int    = id(4)\n",
    "val s: String = id(\"hi\")"
   ]
  },
  {
   "cell_type": "markdown",
   "metadata": {},
   "source": [
    "## Exercise: Class\n",
    "Improve the following class to take any type:\n",
    "```scala\n",
    "case class C(t: Int) {\n",
    "    def get: Int = t\n",
    "}\n",
    "```"
   ]
  },
  {
   "cell_type": "code",
   "execution_count": 25,
   "metadata": {},
   "outputs": [
    {
     "data": {
      "text/plain": [
       "defined \u001b[32mclass\u001b[39m \u001b[36mC\u001b[39m"
      ]
     },
     "execution_count": 25,
     "metadata": {},
     "output_type": "execute_result"
    }
   ],
   "source": [
    "// BEGIN SOLUTION\n",
    "case class C[T](t: T) {\n",
    "    def get: T = t\n",
    "}\n",
    "// END SOLUTION"
   ]
  },
  {
   "cell_type": "code",
   "execution_count": 26,
   "metadata": {},
   "outputs": [
    {
     "data": {
      "text/plain": [
       "\u001b[36mx\u001b[39m: \u001b[32mInt\u001b[39m = \u001b[32m4\u001b[39m\n",
       "\u001b[36my\u001b[39m: \u001b[32mString\u001b[39m = \u001b[32m\"4\"\u001b[39m"
      ]
     },
     "execution_count": 26,
     "metadata": {},
     "output_type": "execute_result"
    }
   ],
   "source": [
    "val x: Int = C(4).get\n",
    "val y: String = C(\"4\").get"
   ]
  },
  {
   "cell_type": "markdown",
   "metadata": {},
   "source": [
    "### Exercise: Reusable data structures\n",
    "Make a reusable tree data structure which can hold any arbitrary type at it's nodes, as long as all nodes in the tree have the same type. Use the constructors `EmptyPoly` and `NodePoly`"
   ]
  },
  {
   "cell_type": "code",
   "execution_count": 18,
   "metadata": {
    "nbgrader": {
     "grade": false,
     "grade_id": "cell-89ce853776b2aa84",
     "locked": false,
     "schema_version": 1,
     "solution": true
    }
   },
   "outputs": [
    {
     "data": {
      "text/plain": [
       "defined \u001b[32mtrait\u001b[39m \u001b[36mTreePoly\u001b[39m\n",
       "defined \u001b[32mclass\u001b[39m \u001b[36mEmptyPoly\u001b[39m\n",
       "defined \u001b[32mclass\u001b[39m \u001b[36mNodePoly\u001b[39m"
      ]
     },
     "execution_count": 18,
     "metadata": {},
     "output_type": "execute_result"
    }
   ],
   "source": [
    "sealed trait TreePoly[T]\n",
    "// BEGIN SOLUTION\n",
    "case class EmptyPoly[T]() extends TreePoly[T]\n",
    "case class NodePoly[T](l: TreePoly[T], d: T, r: TreePoly[T]) extends TreePoly[T]\n",
    "// END SOLUTION"
   ]
  },
  {
   "cell_type": "code",
   "execution_count": 19,
   "metadata": {},
   "outputs": [
    {
     "data": {
      "text/plain": [
       "\u001b[36mt\u001b[39m: \u001b[32mNodePoly\u001b[39m[\u001b[32mInt\u001b[39m] = NodePoly(NodePoly(EmptyPoly(),5,EmptyPoly()),6,EmptyPoly())"
      ]
     },
     "execution_count": 19,
     "metadata": {},
     "output_type": "execute_result"
    }
   ],
   "source": [
    "// This should compile:\n",
    "val t = NodePoly(\n",
    "    NodePoly(\n",
    "        EmptyPoly(),\n",
    "        5,\n",
    "        EmptyPoly()),\n",
    "    6,\n",
    "    EmptyPoly())"
   ]
  },
  {
   "cell_type": "code",
   "execution_count": 19,
   "metadata": {},
   "outputs": [
    {
     "name": "stderr",
     "output_type": "stream",
     "text": [
      "cmd19.sc:2: type mismatch;\n",
      " found   : cmd19Wrapper.this.cmd17.wrapper.NodePoly[Int]\n",
      " required: cmd19Wrapper.this.cmd17.wrapper.TreePoly[Any]\n",
      "Note: Int <: Any, but trait TreePoly is invariant in type T.\n",
      "You may wish to define T as +T instead. (SLS 4.5)\n",
      "    NodePoly(\n",
      "            ^"
     ]
    },
    {
     "ename": "",
     "evalue": "",
     "output_type": "error",
     "traceback": [
      "Compilation Failed"
     ]
    }
   ],
   "source": [
    "// This should NOT compile:\n",
    "NodePoly(\n",
    "    NodePoly(\n",
    "        EmptyPoly(),\n",
    "        5,\n",
    "        EmptyPoly()),\n",
    "    \"6\",\n",
    "    EmptyPoly())"
   ]
  },
  {
   "cell_type": "markdown",
   "metadata": {},
   "source": [
    "### Exercise: generic functions\n",
    "Implement map, which should allow someone to take a `Tree[X]` and a function `X => Y` and get out a `Tree[Y]`."
   ]
  },
  {
   "cell_type": "code",
   "execution_count": 29,
   "metadata": {
    "nbgrader": {
     "grade": false,
     "grade_id": "cell-11843a63b5b7990f",
     "locked": false,
     "schema_version": 1,
     "solution": true
    }
   },
   "outputs": [
    {
     "data": {
      "text/plain": [
       "defined \u001b[32mfunction\u001b[39m \u001b[36mmap\u001b[39m"
      ]
     },
     "execution_count": 29,
     "metadata": {},
     "output_type": "execute_result"
    }
   ],
   "source": [
    "// BEGIN SOLUTION\n",
    "def map[X, Y](t: TreePoly[X], f: X => Y): TreePoly[Y] = t match {\n",
    "    case EmptyPoly() =>\n",
    "        EmptyPoly()\n",
    "    case NodePoly(l, d, r) =>\n",
    "        NodePoly(map(l, f), f(d), map(r, f))\n",
    "}\n",
    "// END SOLUTION"
   ]
  },
  {
   "cell_type": "code",
   "execution_count": 30,
   "metadata": {
    "nbgrader": {
     "grade": true,
     "grade_id": "cell-d725bf4fbe8683ac",
     "locked": true,
     "points": 1,
     "schema_version": 1,
     "solution": false
    }
   },
   "outputs": [
    {
     "data": {
      "text/plain": [
       "\u001b[36mt2\u001b[39m: \u001b[32mNodePoly\u001b[39m[\u001b[32mString\u001b[39m] = NodePoly(NodePoly(EmptyPoly(),5,EmptyPoly()),6,EmptyPoly())"
      ]
     },
     "execution_count": 30,
     "metadata": {},
     "output_type": "execute_result"
    }
   ],
   "source": [
    "// TEST\n",
    "val t2 = NodePoly(\n",
    "    NodePoly(\n",
    "        EmptyPoly(),\n",
    "        \"5\",\n",
    "        EmptyPoly()),\n",
    "    \"6\",\n",
    "    EmptyPoly())\n",
    "\n",
    "assert(map(t, (i: Int) => i.toString) == t2)\n",
    "// TEST"
   ]
  }
 ],
 "metadata": {
  "celltoolbar": "Create Assignment",
  "kernelspec": {
   "display_name": "Scala",
   "language": "scala",
   "name": "scala"
  },
  "language_info": {
   "codemirror_mode": "text/x-scala",
   "file_extension": ".scala",
   "mimetype": "text/x-scala",
   "name": "scala211",
   "nbconvert_exporter": "script",
   "pygments_lexer": "scala",
   "version": "2.11.11"
  }
 },
 "nbformat": 4,
 "nbformat_minor": 2
}
