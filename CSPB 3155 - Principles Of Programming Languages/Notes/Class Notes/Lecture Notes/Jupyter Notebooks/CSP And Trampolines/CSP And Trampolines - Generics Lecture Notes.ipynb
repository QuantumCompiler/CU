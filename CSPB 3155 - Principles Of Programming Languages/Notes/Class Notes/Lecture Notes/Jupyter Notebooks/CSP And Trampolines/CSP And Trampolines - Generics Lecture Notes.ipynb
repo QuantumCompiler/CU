{
 "cells": [
  {
   "cell_type": "markdown",
   "metadata": {},
   "source": [
    "# Generics\n",
    "Generics allow functions and classes that operate over arbitrary data types while preserving type safety.\n",
    "\n",
    "For example, consider the identity function that returns the only argument. In the implementation below, the identity function is specified for strings and integers independently. "
   ]
  },
  {
   "cell_type": "code",
   "execution_count": 1,
   "metadata": {},
   "outputs": [
    {
     "name": "stderr",
     "output_type": "stream",
     "text": [
      "cmd1.sc:4: type mismatch;\n",
      " found   : String(\"two\")\n",
      " required: Int\n",
      "val res1_2 = ident_int(\"two\")\n",
      "                       ^Compilation Failed"
     ]
    },
    {
     "ename": "",
     "evalue": "",
     "output_type": "error",
     "traceback": [
      "Compilation Failed"
     ]
    }
   ],
   "source": [
    "def ident_int( x : Int) : Int =\n",
    "    x\n",
    "ident_int(1)\n",
    "// ident_int(\"two\")\n",
    "def ident_string( x : String) : String =\n",
    "    x\n",
    "ident_string(\"two\")"
   ]
  },
  {
   "cell_type": "markdown",
   "metadata": {},
   "source": [
    "Generics allow more versitile and concise code.  The following identity function operates over any data type."
   ]
  },
  {
   "cell_type": "code",
   "execution_count": 1,
   "metadata": {},
   "outputs": [
    {
     "data": {
      "text/plain": [
       "defined \u001b[32mfunction\u001b[39m \u001b[36mident\u001b[39m\n",
       "\u001b[36mres0_1\u001b[39m: \u001b[32mInt\u001b[39m = \u001b[32m1\u001b[39m\n",
       "\u001b[36mres0_2\u001b[39m: \u001b[32mString\u001b[39m = \u001b[32m\"two\"\u001b[39m"
      ]
     },
     "execution_count": 1,
     "metadata": {},
     "output_type": "execute_result"
    }
   ],
   "source": [
    "def ident[A]( x : A) : A = \n",
    "    x\n",
    "ident(1)\n",
    "ident(\"two\")"
   ]
  },
  {
   "cell_type": "markdown",
   "metadata": {},
   "source": [
    "Type safety is important with generics.  Before the program is run, a type checker can determine what type a generic (e.g., `A` in the previous function) is bound to.  For the call `ident(1)` the type checker can determine that the return type is an `Int` rather than a `String`.\n",
    "\n",
    "The following identity function also operates on both `Int` and `String` but loses type information.  Note that `Any` is a type that includes all scala datatypes."
   ]
  },
  {
   "cell_type": "code",
   "execution_count": 2,
   "metadata": {},
   "outputs": [
    {
     "data": {
      "text/plain": [
       "defined \u001b[32mfunction\u001b[39m \u001b[36mident_any\u001b[39m\n",
       "\u001b[36mres1_1\u001b[39m: \u001b[32mAny\u001b[39m = \u001b[32m1\u001b[39m\n",
       "\u001b[36mres1_2\u001b[39m: \u001b[32mAny\u001b[39m = \u001b[32m\"two\"\u001b[39m"
      ]
     },
     "execution_count": 2,
     "metadata": {},
     "output_type": "execute_result"
    }
   ],
   "source": [
    "def ident_any( x : Any): Any =\n",
    "    x\n",
    "ident_any(1)\n",
    "ident_any(\"two\")"
   ]
  },
  {
   "cell_type": "markdown",
   "metadata": {},
   "source": [
    "With `ident_any`, we must check the type of the return value before we can do anything useful.  Note that the following code throws a type error.  The type checker cannot understand what `ident_any(1)` returns, even if it is evident to us."
   ]
  },
  {
   "cell_type": "code",
   "execution_count": 2,
   "metadata": {},
   "outputs": [
    {
     "name": "stderr",
     "output_type": "stream",
     "text": [
      "cmd2.sc:1: overloaded method value + with alternatives:\n",
      "  (x: Double)Double <and>\n",
      "  (x: Float)Float <and>\n",
      "  (x: Long)Long <and>\n",
      "  (x: Int)Int <and>\n",
      "  (x: Char)Int <and>\n",
      "  (x: Short)Int <and>\n",
      "  (x: Byte)Int <and>\n",
      "  (x: String)String\n",
      " cannot be applied to (Any)\n",
      "val res2 = 1 + ident_any(1)\n",
      "             ^Compilation Failed"
     ]
    },
    {
     "ename": "",
     "evalue": "",
     "output_type": "error",
     "traceback": [
      "Compilation Failed"
     ]
    }
   ],
   "source": [
    "1 + ident_any(1)"
   ]
  },
  {
   "cell_type": "markdown",
   "metadata": {},
   "source": [
    "Pattern matching may be used to fix this error.  However, solving the type error with pattern matching forces us to handle an error condition that is not possible."
   ]
  },
  {
   "cell_type": "code",
   "execution_count": null,
   "metadata": {},
   "outputs": [],
   "source": [
    "1 + (ident_any(1) match{\n",
    "    case i : Int => i\n",
    "    case _ => throw new IllegalStateException(\"This can never be thrown.\")\n",
    "})"
   ]
  },
  {
   "cell_type": "markdown",
   "metadata": {},
   "source": [
    "Using the generic function gives the type checker a hint about how the types of the function parameters relate to the return of the function.\n",
    "\n",
    "The signature of the ident function says \"There exists a type A such that my parameter is a type A and my return is a type A\". \n",
    "```scala\n",
    "def ident[A]( x : A) : A\n",
    "```\n",
    "\n",
    "The type checker can figure out on its own that `ident(1)` returns an `Int`."
   ]
  },
  {
   "cell_type": "code",
   "execution_count": 3,
   "metadata": {},
   "outputs": [
    {
     "data": {
      "text/plain": [
       "\u001b[36mres2\u001b[39m: \u001b[32mInt\u001b[39m = \u001b[32m2\u001b[39m"
      ]
     },
     "execution_count": 3,
     "metadata": {},
     "output_type": "execute_result"
    }
   ],
   "source": [
    "1+ident(1)"
   ]
  },
  {
   "cell_type": "markdown",
   "metadata": {},
   "source": [
    "### Example: List\n",
    "\n",
    "When we create a list, it can be a list of any type.\n",
    "\n",
    "List of Integers:\n",
    "```scala\n",
    "List(1,2,3)\n",
    "```\n",
    "\n",
    "List of Strings:\n",
    "```scala\n",
    "List(\"Eve\", \"Bob\" ,\"Alice\")\n",
    "```\n",
    "\n",
    "The list implementation you saw before today was over integers:"
   ]
  },
  {
   "cell_type": "code",
   "execution_count": 4,
   "metadata": {},
   "outputs": [
    {
     "data": {
      "text/plain": [
       "defined \u001b[32mtrait\u001b[39m \u001b[36mListInt\u001b[39m\n",
       "defined \u001b[32mobject\u001b[39m \u001b[36mEmptyInt\u001b[39m\n",
       "defined \u001b[32mclass\u001b[39m \u001b[36mConsInt\u001b[39m\n",
       "\u001b[36mres3_3\u001b[39m: \u001b[32mConsInt\u001b[39m = \u001b[33mConsInt\u001b[39m(\u001b[32m1\u001b[39m, \u001b[33mConsInt\u001b[39m(\u001b[32m2\u001b[39m, \u001b[33mConsInt\u001b[39m(\u001b[32m3\u001b[39m, EmptyInt)))"
      ]
     },
     "execution_count": 4,
     "metadata": {},
     "output_type": "execute_result"
    }
   ],
   "source": [
    "sealed trait ListInt\n",
    "case object EmptyInt extends ListInt\n",
    "case class ConsInt(v:Int, rest: ListInt) extends ListInt\n",
    "\n",
    "ConsInt(1, ConsInt(2, ConsInt(3, EmptyInt)))"
   ]
  },
  {
   "cell_type": "markdown",
   "metadata": {},
   "source": [
    "Implement `MyCons` using generics to complete a generic List implementation.\n",
    "\n",
    "Note: we make `MyEmpty` a class here to simplify the generics.  Scala uses [lower type bounds](https://docs.scala-lang.org/tour/lower-type-bounds.html) allowing `Nil` to be a `case object` and allowing lists with different data types.  See the Scala implementation [here](https://github.com/scala/scala/blob/4c0f49c7de6ba48f2b0ae59e64ea94fabd82b4a7/src/library/scala/collection/immutable/List.scala#L594)."
   ]
  },
  {
   "cell_type": "code",
   "execution_count": 5,
   "metadata": {},
   "outputs": [
    {
     "data": {
      "text/plain": [
       "defined \u001b[32mtrait\u001b[39m \u001b[36mMyList\u001b[39m\n",
       "defined \u001b[32mclass\u001b[39m \u001b[36mMyEmpty\u001b[39m\n",
       "defined \u001b[32mclass\u001b[39m \u001b[36mMyCons\u001b[39m"
      ]
     },
     "execution_count": 5,
     "metadata": {},
     "output_type": "execute_result"
    }
   ],
   "source": [
    "sealed trait MyList[A]\n",
    "case class MyEmpty[A]() extends MyList[A]\n",
    "??? // Your Solution Here"
   ]
  },
  {
   "cell_type": "code",
   "execution_count": 6,
   "metadata": {},
   "outputs": [
    {
     "data": {
      "text/plain": [
       "\u001b[36mlist_int\u001b[39m: \u001b[32mMyCons\u001b[39m[\u001b[32mInt\u001b[39m] = \u001b[33mMyCons\u001b[39m(\u001b[32m1\u001b[39m, \u001b[33mMyCons\u001b[39m(\u001b[32m2\u001b[39m, \u001b[33mMyCons\u001b[39m(\u001b[32m3\u001b[39m, MyEmpty())))\n",
       "\u001b[36mlist_double\u001b[39m: \u001b[32mMyCons\u001b[39m[\u001b[32mDouble\u001b[39m] = \u001b[33mMyCons\u001b[39m(\u001b[32m1.1\u001b[39m, \u001b[33mMyCons\u001b[39m(\u001b[32m2.2\u001b[39m, \u001b[33mMyCons\u001b[39m(\u001b[32m3.3\u001b[39m, MyEmpty())))"
      ]
     },
     "execution_count": 6,
     "metadata": {},
     "output_type": "execute_result"
    }
   ],
   "source": [
    "val list_int = MyCons( 1, MyCons(2, MyCons(3, MyEmpty())))\n",
    "val list_double = MyCons( 1.1, MyCons(2.2, MyCons(3.3, MyEmpty())))"
   ]
  },
  {
   "cell_type": "markdown",
   "metadata": {},
   "source": [
    "Note that our use of generics prevents us from writing a list with `Strings`s and `Int`s."
   ]
  },
  {
   "cell_type": "code",
   "execution_count": 6,
   "metadata": {},
   "outputs": [
    {
     "name": "stderr",
     "output_type": "stream",
     "text": [
      "cmd6.sc:1: type mismatch;\n",
      " found   : cmd6.this.cmd4.MyCons[Double]\n",
      " required: cmd6.this.cmd4.MyList[Any]\n",
      "Note: Double <: Any, but trait MyList is invariant in type A.\n",
      "You may wish to define A as +A instead. (SLS 4.5)\n",
      "val bad_list = MyCons(\"1\", MyCons(2.0, MyEmpty()))\n",
      "                                 ^Compilation Failed"
     ]
    },
    {
     "ename": "",
     "evalue": "",
     "output_type": "error",
     "traceback": [
      "Compilation Failed"
     ]
    }
   ],
   "source": [
    "val bad_list = MyCons(\"1\", MyCons(2.0, MyEmpty()))"
   ]
  },
  {
   "cell_type": "markdown",
   "metadata": {},
   "source": [
    "The Scala `List` will allow different types.  We get a `List[Any]` due to the lower type bounds."
   ]
  },
  {
   "cell_type": "code",
   "execution_count": 7,
   "metadata": {},
   "outputs": [
    {
     "data": {
      "text/plain": [
       "\u001b[36mres6\u001b[39m: \u001b[32mList\u001b[39m[\u001b[32mAny\u001b[39m] = \u001b[33mList\u001b[39m(\u001b[32m\"1\"\u001b[39m, \u001b[32m2.0\u001b[39m)"
      ]
     },
     "execution_count": 7,
     "metadata": {},
     "output_type": "execute_result"
    }
   ],
   "source": [
    "\"1\"::2.0::Nil"
   ]
  },
  {
   "cell_type": "markdown",
   "metadata": {},
   "source": [
    "### Example: map\n",
    "\n",
    "Implement the map function over our list using generics.  For reference we have provided the int only map implementation.  Note that you may declare multiple generic types to use in a function with `def fun[A,B]`.  Think carefully about why map may need two generic types.\n",
    "\n",
    "```scala\n",
    "val strList: List[String] = List(1,2,3).map(_.toString)\n",
    "```"
   ]
  },
  {
   "cell_type": "code",
   "execution_count": null,
   "metadata": {},
   "outputs": [],
   "source": [
    "def map_int(l : MyList[Int], f: Int => Int) : MyList[Int] = \n",
    "    l match {\n",
    "        case MyEmpty() => MyEmpty()\n",
    "        case MyCons(h,t) => MyCons( f(h), map(t,f))\n",
    "    }"
   ]
  },
  {
   "cell_type": "code",
   "execution_count": 8,
   "metadata": {},
   "outputs": [
    {
     "data": {
      "text/plain": [
       "defined \u001b[32mfunction\u001b[39m \u001b[36mmap\u001b[39m"
      ]
     },
     "execution_count": 8,
     "metadata": {},
     "output_type": "execute_result"
    }
   ],
   "source": [
    "??? // Your Solution Here"
   ]
  },
  {
   "cell_type": "code",
   "execution_count": 9,
   "metadata": {},
   "outputs": [
    {
     "data": {
      "text/plain": [
       "\u001b[36mres8_1\u001b[39m: \u001b[32mMyList\u001b[39m[\u001b[32mDouble\u001b[39m] = \u001b[33mMyCons\u001b[39m(\u001b[32m1.0\u001b[39m, \u001b[33mMyCons\u001b[39m(\u001b[32m2.0\u001b[39m, \u001b[33mMyCons\u001b[39m(\u001b[32m3.0\u001b[39m, MyEmpty())))"
      ]
     },
     "execution_count": 9,
     "metadata": {},
     "output_type": "execute_result"
    }
   ],
   "source": [
    "assert(map( list_int, (x : Int) => \"1\" + x) == MyCons( \"11\", MyCons(\"12\", MyCons(\"13\", MyEmpty()))))\n",
    "map[Int,Double](list_int, x => x)"
   ]
  },
  {
   "cell_type": "markdown",
   "metadata": {},
   "source": [
    "### Example: filter\n",
    "\n",
    "Impliment a filter function over MyList."
   ]
  },
  {
   "cell_type": "code",
   "execution_count": 11,
   "metadata": {},
   "outputs": [
    {
     "data": {
      "text/plain": [
       "defined \u001b[32mfunction\u001b[39m \u001b[36mfilter\u001b[39m"
      ]
     },
     "execution_count": 11,
     "metadata": {},
     "output_type": "execute_result"
    }
   ],
   "source": [
    "??? // Your Solution Here"
   ]
  },
  {
   "cell_type": "code",
   "execution_count": 12,
   "metadata": {},
   "outputs": [],
   "source": [
    "assert(filter( list_double, (x : Double)=> x > 2) == MyCons(2.2, MyCons(3.3, MyEmpty())))"
   ]
  },
  {
   "cell_type": "markdown",
   "metadata": {},
   "source": [
    "### Example: fold\n",
    "\n",
    "Impliment a fold function over MyList."
   ]
  },
  {
   "cell_type": "code",
   "execution_count": 13,
   "metadata": {},
   "outputs": [
    {
     "data": {
      "text/plain": [
       "defined \u001b[32mfunction\u001b[39m \u001b[36mfold\u001b[39m"
      ]
     },
     "execution_count": 13,
     "metadata": {},
     "output_type": "execute_result"
    }
   ],
   "source": [
    "??? // Your Solution Here"
   ]
  },
  {
   "cell_type": "code",
   "execution_count": 14,
   "metadata": {},
   "outputs": [
    {
     "data": {
      "text/plain": [
       "\u001b[36mc\u001b[39m: \u001b[32mMyCons\u001b[39m[\u001b[32mInt\u001b[39m] = \u001b[33mMyCons\u001b[39m(\u001b[32m2\u001b[39m, \u001b[33mMyCons\u001b[39m(\u001b[32m3\u001b[39m, MyEmpty()))"
      ]
     },
     "execution_count": 14,
     "metadata": {},
     "output_type": "execute_result"
    }
   ],
   "source": [
    "val c = MyCons(2, MyCons(3, MyEmpty()))\n",
    "assert(fold(0, c, (acc: Int, v: Int) => acc + v) == 5)"
   ]
  }
 ],
 "metadata": {
  "kernelspec": {
   "display_name": "Scala",
   "language": "scala",
   "name": "scala"
  },
  "language_info": {
   "codemirror_mode": "text/x-scala",
   "file_extension": ".scala",
   "mimetype": "text/x-scala",
   "name": "scala",
   "nbconvert_exporter": "script",
   "version": "2.12.10"
  }
 },
 "nbformat": 4,
 "nbformat_minor": 2
}