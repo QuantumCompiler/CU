{
 "cells": [
  {
   "cell_type": "markdown",
   "metadata": {},
   "source": [
    "# Trampolines\n",
    "\n",
    "Trampolines go hand in hand with continuation passing style of writing programs. Let us quickly review the basic facts about CPS.\n",
    "- We add an extra continuation argument to every function call in the program.\n",
    "- We transform the program so that all function calls happen at the tail position.\n",
    "- Finally, we __hope__ that the compiler/interpreter in all its goodness will optimize the tail call away.\n",
    "\n",
    "## Fibonacci\n",
    "\n",
    "We already saw the CPS version of Fibonacci"
   ]
  },
  {
   "cell_type": "code",
   "execution_count": 1,
   "metadata": {},
   "outputs": [
    {
     "data": {
      "text/plain": [
       "defined \u001b[32mfunction\u001b[39m \u001b[36mfibonacci_k\u001b[39m"
      ]
     },
     "execution_count": 1,
     "metadata": {},
     "output_type": "execute_result"
    }
   ],
   "source": [
    "def fibonacci_k[T] (n: Int, k: Int => T): T = {\n",
    "    if (n < 2)\n",
    "        k(1)\n",
    "    else \n",
    "        fibonacci_k(n-1, v1 => fibonacci_k(n-2, v2 => {k(v1 + v2)} ))\n",
    "}"
   ]
  },
  {
   "cell_type": "code",
   "execution_count": 2,
   "metadata": {},
   "outputs": [
    {
     "name": "stdout",
     "output_type": "stream",
     "text": [
      "89"
     ]
    }
   ],
   "source": [
    "fibonacci_k(10, print)"
   ]
  },
  {
   "cell_type": "code",
   "execution_count": 3,
   "metadata": {},
   "outputs": [
    {
     "name": "stdout",
     "output_type": "stream",
     "text": [
      "987"
     ]
    }
   ],
   "source": [
    "fibonacci_k(15, print)"
   ]
  },
  {
   "cell_type": "code",
   "execution_count": 4,
   "metadata": {},
   "outputs": [
    {
     "ename": "",
     "evalue": "",
     "output_type": "error",
     "traceback": [
      "\u001b[31mjava.lang.StackOverflowError\u001b[39m\n  ammonite.$sess.cmd0$Helper.$anonfun$fibonacci_k$1(\u001b[32mcmd0.sc\u001b[39m:\u001b[32m5\u001b[39m)\n  ammonite.$sess.cmd0$Helper.$anonfun$fibonacci_k$1$adapted(\u001b[32mcmd0.sc\u001b[39m:\u001b[32m5\u001b[39m)\n  ammonite.$sess.cmd0$Helper.fibonacci_k(\u001b[32mcmd0.sc\u001b[39m:\u001b[32m3\u001b[39m)\n  ammonite.$sess.cmd0$Helper.$anonfun$fibonacci_k$1(\u001b[32mcmd0.sc\u001b[39m:\u001b[32m5\u001b[39m)\n  ammonite.$sess.cmd0$Helper.$anonfun$fibonacci_k$1$adapted(\u001b[32mcmd0.sc\u001b[39m:\u001b[32m5\u001b[39m)\n  ammonite.$sess.cmd0$Helper.$anonfun$fibonacci_k$2(\u001b[32mcmd0.sc\u001b[39m:\u001b[32m5\u001b[39m)\n  ammonite.$sess.cmd0$Helper.$anonfun$fibonacci_k$2$adapted(\u001b[32mcmd0.sc\u001b[39m:\u001b[32m5\u001b[39m)\n  ammonite.$sess.cmd0$Helper.$anonfun$fibonacci_k$2(\u001b[32mcmd0.sc\u001b[39m:\u001b[32m5\u001b[39m)\n  ammonite.$sess.cmd0$Helper.$anonfun$fibonacci_k$2$adapted(\u001b[32mcmd0.sc\u001b[39m:\u001b[32m5\u001b[39m)\n  ammonite.$sess.cmd0$Helper.fibonacci_k(\u001b[32mcmd0.sc\u001b[39m:\u001b[32m3\u001b[39m)\n  ammonite.$sess.cmd0$Helper.$anonfun$fibonacci_k$1(\u001b[32mcmd0.sc\u001b[39m:\u001b[32m5\u001b[39m)\n  ammonite.$sess.cmd0$Helper.$anonfun$fibonacci_k$1$adapted(\u001b[32mcmd0.sc\u001b[39m:\u001b[32m5\u001b[39m)\n  ammonite.$sess.cmd0$Helper.$anonfun$fibonacci_k$2(\u001b[32mcmd0.sc\u001b[39m:\u001b[32m5\u001b[39m)\n  ammonite.$sess.cmd0$Helper.$anonfun$fibonacci_k$2$adapted(\u001b[32mcmd0.sc\u001b[39m:\u001b[32m5\u001b[39m)\n  ammonite.$sess.cmd0$Helper.fibonacci_k(\u001b[32mcmd0.sc\u001b[39m:\u001b[32m3\u001b[39m)\n  ammonite.$sess.cmd0$Helper.$anonfun$fibonacci_k$1(\u001b[32mcmd0.sc\u001b[39m:\u001b[32m5\u001b[39m)\n  ammonite.$sess.cmd0$Helper.$anonfun$fibonacci_k$1$adapted(\u001b[32mcmd0.sc\u001b[39m:\u001b[32m5\u001b[39m)\n  ammonite.$sess.cmd0$Helper.fibonacci_k(\u001b[32mcmd0.sc\u001b[39m:\u001b[32m3\u001b[39m)\n  ammonite.$sess.cmd0$Helper.$anonfun$fibonacci_k$1(\u001b[32mcmd0.sc\u001b[39m:\u001b[32m5\u001b[39m)\n  ammonite.$sess.cmd0$Helper.$anonfun$fibonacci_k$1$adapted(\u001b[32mcmd0.sc\u001b[39m:\u001b[32m5\u001b[39m)\n  ammonite.$sess.cmd0$Helper.$anonfun$fibonacci_k$2(\u001b[32mcmd0.sc\u001b[39m:\u001b[32m5\u001b[39m)\n  ammonite.$sess.cmd0$Helper.$anonfun$fibonacci_k$2$adapted(\u001b[32mcmd0.sc\u001b[39m:\u001b[32m5\u001b[39m)\n  ammonite.$sess.cmd0$Helper.$anonfun$fibonacci_k$2(\u001b[32mcmd0.sc\u001b[39m:\u001b[32m5\u001b[39m)\n  ammonite.$sess.cmd0$Helper.$anonfun$fibonacci_k$2$adapted(\u001b[32mcmd0.sc\u001b[39m:\u001b[32m5\u001b[39m)\n  ammonite.$sess.cmd0$Helper.fibonacci_k(\u001b[32mcmd0.sc\u001b[39m:\u001b[32m3\u001b[39m)\n  ammonite.$sess.cmd0$Helper.$anonfun$fibonacci_k$1(\u001b[32mcmd0.sc\u001b[39m:\u001b[32m5\u001b[39m)\n  ammonite.$sess.cmd0$Helper.$anonfun$fibonacci_k$1$adapted(\u001b[32mcmd0.sc\u001b[39m:\u001b[32m5\u001b[39m)\n  ammonite.$sess.cmd0$Helper.fibonacci_k(\u001b[32mcmd0.sc\u001b[39m:\u001b[32m3\u001b[39m)\n  ammonite.$sess.cmd0$Helper.$anonfun$fibonacci_k$1(\u001b[32mcmd0.sc\u001b[39m:\u001b[32m5\u001b[39m)\n  ammonite.$sess.cmd0$Helper.$anonfun$fibonacci_k$1$adapted(\u001b[32mcmd0.sc\u001b[39m:\u001b[32m5\u001b[39m)\n  ammonite.$sess.cmd0$Helper.$anonfun$fibonacci_k$2(\u001b[32mcmd0.sc\u001b[39m:\u001b[32m5\u001b[39m)\n  ammonite.$sess.cmd0$Helper.$anonfun$fibonacci_k$2$adapted(\u001b[32mcmd0.sc\u001b[39m:\u001b[32m5\u001b[39m)\n  ammonite.$sess.cmd0$Helper.fibonacci_k(\u001b[32mcmd0.sc\u001b[39m:\u001b[32m3\u001b[39m)\n  ammonite.$sess.cmd0$Helper.$anonfun$fibonacci_k$1(\u001b[32mcmd0.sc\u001b[39m:\u001b[32m5\u001b[39m)\n  ammonite.$sess.cmd0$Helper.$anonfun$fibonacci_k$1$adapted(\u001b[32mcmd0.sc\u001b[39m:\u001b[32m5\u001b[39m)\n  ammonite.$sess.cmd0$Helper.$anonfun$fibonacci_k$2(\u001b[32mcmd0.sc\u001b[39m:\u001b[32m5\u001b[39m)\n  ammonite.$sess.cmd0$Helper.$anonfun$fibonacci_k$2$adapted(\u001b[32mcmd0.sc\u001b[39m:\u001b[32m5\u001b[39m)\n  ammonite.$sess.cmd0$Helper.fibonacci_k(\u001b[32mcmd0.sc\u001b[39m:\u001b[32m3\u001b[39m)\n  ammonite.$sess.cmd0$Helper.$anonfun$fibonacci_k$1(\u001b[32mcmd0.sc\u001b[39m:\u001b[32m5\u001b[39m)\n  ammonite.$sess.cmd0$Helper.$anonfun$fibonacci_k$1$adapted(\u001b[32mcmd0.sc\u001b[39m:\u001b[32m5\u001b[39m)\n  ammonite.$sess.cmd0$Helper.fibonacci_k(\u001b[32mcmd0.sc\u001b[39m:\u001b[32m3\u001b[39m)\n  ammonite.$sess.cmd0$Helper.$anonfun$fibonacci_k$1(\u001b[32mcmd0.sc\u001b[39m:\u001b[32m5\u001b[39m)\n  ammonite.$sess.cmd0$Helper.$anonfun$fibonacci_k$1$adapted(\u001b[32mcmd0.sc\u001b[39m:\u001b[32m5\u001b[39m)\n  ammonite.$sess.cmd0$Helper.$anonfun$fibonacci_k$2(\u001b[32mcmd0.sc\u001b[39m:\u001b[32m5\u001b[39m)\n  ammonite.$sess.cmd0$Helper.$anonfun$fibonacci_k$2$adapted(\u001b[32mcmd0.sc\u001b[39m:\u001b[32m5\u001b[39m)\n  ammonite.$sess.cmd0$Helper.$anonfun$fibonacci_k$2(\u001b[32mcmd0.sc\u001b[39m:\u001b[32m5\u001b[39m)\n  ammonite.$sess.cmd0$Helper.$anonfun$fibonacci_k$2$adapted(\u001b[32mcmd0.sc\u001b[39m:\u001b[32m5\u001b[39m)\n  ammonite.$sess.cmd0$Helper.$anonfun$fibonacci_k$2(\u001b[32mcmd0.sc\u001b[39m:\u001b[32m5\u001b[39m)\n  ammonite.$sess.cmd0$Helper.$anonfun$fibonacci_k$2$adapted(\u001b[32mcmd0.sc\u001b[39m:\u001b[32m5\u001b[39m)\n  ammonite.$sess.cmd0$Helper.$anonfun$fibonacci_k$2(\u001b[32mcmd0.sc\u001b[39m:\u001b[32m5\u001b[39m)\n  ammonite.$sess.cmd0$Helper.$anonfun$fibonacci_k$2$adapted(\u001b[32mcmd0.sc\u001b[39m:\u001b[32m5\u001b[39m)\n  ammonite.$sess.cmd0$Helper.fibonacci_k(\u001b[32mcmd0.sc\u001b[39m:\u001b[32m3\u001b[39m)\n  ammonite.$sess.cmd0$Helper.$anonfun$fibonacci_k$1(\u001b[32mcmd0.sc\u001b[39m:\u001b[32m5\u001b[39m)\n  ammonite.$sess.cmd0$Helper.$anonfun$fibonacci_k$1$adapted(\u001b[32mcmd0.sc\u001b[39m:\u001b[32m5\u001b[39m)\n  ammonite.$sess.cmd0$Helper.$anonfun$fibonacci_k$2(\u001b[32mcmd0.sc\u001b[39m:\u001b[32m5\u001b[39m)\n  ammonite.$sess.cmd0$Helper.$anonfun$fibonacci_k$2$adapted(\u001b[32mcmd0.sc\u001b[39m:\u001b[32m5\u001b[39m)\n  ammonite.$sess.cmd0$Helper.fibonacci_k(\u001b[32mcmd0.sc\u001b[39m:\u001b[32m3\u001b[39m)\n  ammonite.$sess.cmd0$Helper.$anonfun$fibonacci_k$1(\u001b[32mcmd0.sc\u001b[39m:\u001b[32m5\u001b[39m)\n  ammonite.$sess.cmd0$Helper.$anonfun$fibonacci_k$1$adapted(\u001b[32mcmd0.sc\u001b[39m:\u001b[32m5\u001b[39m)\n  ammonite.$sess.cmd0$Helper.fibonacci_k(\u001b[32mcmd0.sc\u001b[39m:\u001b[32m3\u001b[39m)\n  ammonite.$sess.cmd0$Helper.$anonfun$fibonacci_k$1(\u001b[32mcmd0.sc\u001b[39m:\u001b[32m5\u001b[39m)\n  ammonite.$sess.cmd0$Helper.$anonfun$fibonacci_k$1$adapted(\u001b[32mcmd0.sc\u001b[39m:\u001b[32m5\u001b[39m)\n  ammonite.$sess.cmd0$Helper.$anonfun$fibonacci_k$2(\u001b[32mcmd0.sc\u001b[39m:\u001b[32m5\u001b[39m)\n  ammonite.$sess.cmd0$Helper.$anonfun$fibonacci_k$2$adapted(\u001b[32mcmd0.sc\u001b[39m:\u001b[32m5\u001b[39m)\n  ammonite.$sess.cmd0$Helper.$anonfun$fibonacci_k$2(\u001b[32mcmd0.sc\u001b[39m:\u001b[32m5\u001b[39m)\n  ammonite.$sess.cmd0$Helper.$anonfun$fibonacci_k$2$adapted(\u001b[32mcmd0.sc\u001b[39m:\u001b[32m5\u001b[39m)\n  ammonite.$sess.cmd0$Helper.fibonacci_k(\u001b[32mcmd0.sc\u001b[39m:\u001b[32m3\u001b[39m)\n  ammonite.$sess.cmd0$Helper.$anonfun$fibonacci_k$1(\u001b[32mcmd0.sc\u001b[39m:\u001b[32m5\u001b[39m)\n  ammonite.$sess.cmd0$Helper.$anonfun$fibonacci_k$1$adapted(\u001b[32mcmd0.sc\u001b[39m:\u001b[32m5\u001b[39m)\n  ammonite.$sess.cmd0$Helper.fibonacci_k(\u001b[32mcmd0.sc\u001b[39m:\u001b[32m3\u001b[39m)\n  ammonite.$sess.cmd0$Helper.$anonfun$fibonacci_k$1(\u001b[32mcmd0.sc\u001b[39m:\u001b[32m5\u001b[39m)\n  ammonite.$sess.cmd0$Helper.$anonfun$fibonacci_k$1$adapted(\u001b[32mcmd0.sc\u001b[39m:\u001b[32m5\u001b[39m)\n  ammonite.$sess.cmd0$Helper.$anonfun$fibonacci_k$2(\u001b[32mcmd0.sc\u001b[39m:\u001b[32m5\u001b[39m)\n  ammonite.$sess.cmd0$Helper.$anonfun$fibonacci_k$2$adapted(\u001b[32mcmd0.sc\u001b[39m:\u001b[32m5\u001b[39m)\n  ammonite.$sess.cmd0$Helper.fibonacci_k(\u001b[32mcmd0.sc\u001b[39m:\u001b[32m3\u001b[39m)\n  ammonite.$sess.cmd0$Helper.$anonfun$fibonacci_k$1(\u001b[32mcmd0.sc\u001b[39m:\u001b[32m5\u001b[39m)\n  ammonite.$sess.cmd0$Helper.$anonfun$fibonacci_k$1$adapted(\u001b[32mcmd0.sc\u001b[39m:\u001b[32m5\u001b[39m)\n  ammonite.$sess.cmd0$Helper.$anonfun$fibonacci_k$2(\u001b[32mcmd0.sc\u001b[39m:\u001b[32m5\u001b[39m)\n  ammonite.$sess.cmd0$Helper.$anonfun$fibonacci_k$2$adapted(\u001b[32mcmd0.sc\u001b[39m:\u001b[32m5\u001b[39m)\n  ammonite.$sess.cmd0$Helper.fibonacci_k(\u001b[32mcmd0.sc\u001b[39m:\u001b[32m3\u001b[39m)\n  ammonite.$sess.cmd0$Helper.$anonfun$fibonacci_k$1(\u001b[32mcmd0.sc\u001b[39m:\u001b[32m5\u001b[39m)\n  ammonite.$sess.cmd0$Helper.$anonfun$fibonacci_k$1$adapted(\u001b[32mcmd0.sc\u001b[39m:\u001b[32m5\u001b[39m)\n  ammonite.$sess.cmd0$Helper.fibonacci_k(\u001b[32mcmd0.sc\u001b[39m:\u001b[32m3\u001b[39m)\n  ammonite.$sess.cmd0$Helper.$anonfun$fibonacci_k$1(\u001b[32mcmd0.sc\u001b[39m:\u001b[32m5\u001b[39m)\n  ammonite.$sess.cmd0$Helper.$anonfun$fibonacci_k$1$adapted(\u001b[32mcmd0.sc\u001b[39m:\u001b[32m5\u001b[39m)\n  ammonite.$sess.cmd0$Helper.$anonfun$fibonacci_k$2(\u001b[32mcmd0.sc\u001b[39m:\u001b[32m5\u001b[39m)\n  ammonite.$sess.cmd0$Helper.$anonfun$fibonacci_k$2$adapted(\u001b[32mcmd0.sc\u001b[39m:\u001b[32m5\u001b[39m)\n  ammonite.$sess.cmd0$Helper.$anonfun$fibonacci_k$2(\u001b[32mcmd0.sc\u001b[39m:\u001b[32m5\u001b[39m)\n  ammonite.$sess.cmd0$Helper.$anonfun$fibonacci_k$2$adapted(\u001b[32mcmd0.sc\u001b[39m:\u001b[32m5\u001b[39m)\n  ammonite.$sess.cmd0$Helper.$anonfun$fibonacci_k$2(\u001b[32mcmd0.sc\u001b[39m:\u001b[32m5\u001b[39m)\n  ammonite.$sess.cmd0$Helper.$anonfun$fibonacci_k$2$adapted(\u001b[32mcmd0.sc\u001b[39m:\u001b[32m5\u001b[39m)\n  ammonite.$sess.cmd0$Helper.fibonacci_k(\u001b[32mcmd0.sc\u001b[39m:\u001b[32m3\u001b[39m)\n  ammonite.$sess.cmd0$Helper.$anonfun$fibonacci_k$1(\u001b[32mcmd0.sc\u001b[39m:\u001b[32m5\u001b[39m)\n  ammonite.$sess.cmd0$Helper.$anonfun$fibonacci_k$1$adapted(\u001b[32mcmd0.sc\u001b[39m:\u001b[32m5\u001b[39m)\n  ammonite.$sess.cmd0$Helper.fibonacci_k(\u001b[32mcmd0.sc\u001b[39m:\u001b[32m3\u001b[39m)\n  ammonite.$sess.cmd0$Helper.$anonfun$fibonacci_k$1(\u001b[32mcmd0.sc\u001b[39m:\u001b[32m5\u001b[39m)\n  ammonite.$sess.cmd0$Helper.$anonfun$fibonacci_k$1$adapted(\u001b[32mcmd0.sc\u001b[39m:\u001b[32m5\u001b[39m)\n  ammonite.$sess.cmd0$Helper.$anonfun$fibonacci_k$2(\u001b[32mcmd0.sc\u001b[39m:\u001b[32m5\u001b[39m)\n  ammonite.$sess.cmd0$Helper.$anonfun$fibonacci_k$2$adapted(\u001b[32mcmd0.sc\u001b[39m:\u001b[32m5\u001b[39m)\n  ammonite.$sess.cmd0$Helper.fibonacci_k(\u001b[32mcmd0.sc\u001b[39m:\u001b[32m3\u001b[39m)\n  ammonite.$sess.cmd0$Helper.$anonfun$fibonacci_k$1(\u001b[32mcmd0.sc\u001b[39m:\u001b[32m5\u001b[39m)\n  ammonite.$sess.cmd0$Helper.$anonfun$fibonacci_k$1$adapted(\u001b[32mcmd0.sc\u001b[39m:\u001b[32m5\u001b[39m)\n  ammonite.$sess.cmd0$Helper.$anonfun$fibonacci_k$2(\u001b[32mcmd0.sc\u001b[39m:\u001b[32m5\u001b[39m)\n  ammonite.$sess.cmd0$Helper.$anonfun$fibonacci_k$2$adapted(\u001b[32mcmd0.sc\u001b[39m:\u001b[32m5\u001b[39m)\n  ammonite.$sess.cmd0$Helper.fibonacci_k(\u001b[32mcmd0.sc\u001b[39m:\u001b[32m3\u001b[39m)\n  ammonite.$sess.cmd0$Helper.$anonfun$fibonacci_k$1(\u001b[32mcmd0.sc\u001b[39m:\u001b[32m5\u001b[39m)\n  ammonite.$sess.cmd0$Helper.$anonfun$fibonacci_k$1$adapted(\u001b[32mcmd0.sc\u001b[39m:\u001b[32m5\u001b[39m)\n  ammonite.$sess.cmd0$Helper.fibonacci_k(\u001b[32mcmd0.sc\u001b[39m:\u001b[32m3\u001b[39m)\n  ammonite.$sess.cmd0$Helper.$anonfun$fibonacci_k$1(\u001b[32mcmd0.sc\u001b[39m:\u001b[32m5\u001b[39m)\n  ammonite.$sess.cmd0$Helper.$anonfun$fibonacci_k$1$adapted(\u001b[32mcmd0.sc\u001b[39m:\u001b[32m5\u001b[39m)\n  ammonite.$sess.cmd0$Helper.$anonfun$fibonacci_k$2(\u001b[32mcmd0.sc\u001b[39m:\u001b[32m5\u001b[39m)\n  ammonite.$sess.cmd0$Helper.$anonfun$fibonacci_k$2$adapted(\u001b[32mcmd0.sc\u001b[39m:\u001b[32m5\u001b[39m)\n  ammonite.$sess.cmd0$Helper.$anonfun$fibonacci_k$2(\u001b[32mcmd0.sc\u001b[39m:\u001b[32m5\u001b[39m)\n  ammonite.$sess.cmd0$Helper.$anonfun$fibonacci_k$2$adapted(\u001b[32mcmd0.sc\u001b[39m:\u001b[32m5\u001b[39m)\n  ammonite.$sess.cmd0$Helper.fibonacci_k(\u001b[32mcmd0.sc\u001b[39m:\u001b[32m3\u001b[39m)\n  ammonite.$sess.cmd0$Helper.$anonfun$fibonacci_k$1(\u001b[32mcmd0.sc\u001b[39m:\u001b[32m5\u001b[39m)\n  ammonite.$sess.cmd0$Helper.$anonfun$fibonacci_k$1$adapted(\u001b[32mcmd0.sc\u001b[39m:\u001b[32m5\u001b[39m)\n  ammonite.$sess.cmd0$Helper.$anonfun$fibonacci_k$2(\u001b[32mcmd0.sc\u001b[39m:\u001b[32m5\u001b[39m)\n  ammonite.$sess.cmd0$Helper.$anonfun$fibonacci_k$2$adapted(\u001b[32mcmd0.sc\u001b[39m:\u001b[32m5\u001b[39m)\n  ammonite.$sess.cmd0$Helper.fibonacci_k(\u001b[32mcmd0.sc\u001b[39m:\u001b[32m3\u001b[39m)\n  ammonite.$sess.cmd0$Helper.$anonfun$fibonacci_k$1(\u001b[32mcmd0.sc\u001b[39m:\u001b[32m5\u001b[39m)\n  ammonite.$sess.cmd0$Helper.$anonfun$fibonacci_k$1$adapted(\u001b[32mcmd0.sc\u001b[39m:\u001b[32m5\u001b[39m)\n  ammonite.$sess.cmd0$Helper.fibonacci_k(\u001b[32mcmd0.sc\u001b[39m:\u001b[32m3\u001b[39m)\n  ammonite.$sess.cmd0$Helper.$anonfun$fibonacci_k$1(\u001b[32mcmd0.sc\u001b[39m:\u001b[32m5\u001b[39m)\n  ammonite.$sess.cmd0$Helper.$anonfun$fibonacci_k$1$adapted(\u001b[32mcmd0.sc\u001b[39m:\u001b[32m5\u001b[39m)\n  ammonite.$sess.cmd0$Helper.$anonfun$fibonacci_k$2(\u001b[32mcmd0.sc\u001b[39m:\u001b[32m5\u001b[39m)\n  ammonite.$sess.cmd0$Helper.$anonfun$fibonacci_k$2$adapted(\u001b[32mcmd0.sc\u001b[39m:\u001b[32m5\u001b[39m)\n  ammonite.$sess.cmd0$Helper.$anonfun$fibonacci_k$2(\u001b[32mcmd0.sc\u001b[39m:\u001b[32m5\u001b[39m)\n  ammonite.$sess.cmd0$Helper.$anonfun$fibonacci_k$2$adapted(\u001b[32mcmd0.sc\u001b[39m:\u001b[32m5\u001b[39m)\n  ammonite.$sess.cmd0$Helper.fibonacci_k(\u001b[32mcmd0.sc\u001b[39m:\u001b[32m3\u001b[39m)\n  ammonite.$sess.cmd0$Helper.$anonfun$fibonacci_k$1(\u001b[32mcmd0.sc\u001b[39m:\u001b[32m5\u001b[39m)\n  ammonite.$sess.cmd0$Helper.$anonfun$fibonacci_k$1$adapted(\u001b[32mcmd0.sc\u001b[39m:\u001b[32m5\u001b[39m)\n  ammonite.$sess.cmd0$Helper.fibonacci_k(\u001b[32mcmd0.sc\u001b[39m:\u001b[32m3\u001b[39m)\n  ammonite.$sess.cmd0$Helper.$anonfun$fibonacci_k$1(\u001b[32mcmd0.sc\u001b[39m:\u001b[32m5\u001b[39m)\n  ammonite.$sess.cmd0$Helper.$anonfun$fibonacci_k$1$adapted(\u001b[32mcmd0.sc\u001b[39m:\u001b[32m5\u001b[39m)\n  ammonite.$sess.cmd0$Helper.$anonfun$fibonacci_k$2(\u001b[32mcmd0.sc\u001b[39m:\u001b[32m5\u001b[39m)\n  ammonite.$sess.cmd0$Helper.$anonfun$fibonacci_k$2$adapted(\u001b[32mcmd0.sc\u001b[39m:\u001b[32m5\u001b[39m)\n  ammonite.$sess.cmd0$Helper.fibonacci_k(\u001b[32mcmd0.sc\u001b[39m:\u001b[32m3\u001b[39m)\n  ammonite.$sess.cmd0$Helper.$anonfun$fibonacci_k$1(\u001b[32mcmd0.sc\u001b[39m:\u001b[32m5\u001b[39m)\n  ammonite.$sess.cmd0$Helper.$anonfun$fibonacci_k$1$adapted(\u001b[32mcmd0.sc\u001b[39m:\u001b[32m5\u001b[39m)\n  ammonite.$sess.cmd0$Helper.$anonfun$fibonacci_k$2(\u001b[32mcmd0.sc\u001b[39m:\u001b[32m5\u001b[39m)\n  ammonite.$sess.cmd0$Helper.$anonfun$fibonacci_k$2$adapted(\u001b[32mcmd0.sc\u001b[39m:\u001b[32m5\u001b[39m)\n  ammonite.$sess.cmd0$Helper.fibonacci_k(\u001b[32mcmd0.sc\u001b[39m:\u001b[32m3\u001b[39m)\n  ammonite.$sess.cmd0$Helper.$anonfun$fibonacci_k$1(\u001b[32mcmd0.sc\u001b[39m:\u001b[32m5\u001b[39m)\n  ammonite.$sess.cmd0$Helper.$anonfun$fibonacci_k$1$adapted(\u001b[32mcmd0.sc\u001b[39m:\u001b[32m5\u001b[39m)\n  ammonite.$sess.cmd0$Helper.fibonacci_k(\u001b[32mcmd0.sc\u001b[39m:\u001b[32m3\u001b[39m)\n  ammonite.$sess.cmd0$Helper.$anonfun$fibonacci_k$1(\u001b[32mcmd0.sc\u001b[39m:\u001b[32m5\u001b[39m)\n  ammonite.$sess.cmd0$Helper.$anonfun$fibonacci_k$1$adapted(\u001b[32mcmd0.sc\u001b[39m:\u001b[32m5\u001b[39m)\n  ammonite.$sess.cmd0$Helper.$anonfun$fibonacci_k$2(\u001b[32mcmd0.sc\u001b[39m:\u001b[32m5\u001b[39m)\n  ammonite.$sess.cmd0$Helper.$anonfun$fibonacci_k$2$adapted(\u001b[32mcmd0.sc\u001b[39m:\u001b[32m5\u001b[39m)\n  ammonite.$sess.cmd0$Helper.$anonfun$fibonacci_k$2(\u001b[32mcmd0.sc\u001b[39m:\u001b[32m5\u001b[39m)\n  ammonite.$sess.cmd0$Helper.$anonfun$fibonacci_k$2$adapted(\u001b[32mcmd0.sc\u001b[39m:\u001b[32m5\u001b[39m)\n  ammonite.$sess.cmd0$Helper.$anonfun$fibonacci_k$2(\u001b[32mcmd0.sc\u001b[39m:\u001b[32m5\u001b[39m)\n  ammonite.$sess.cmd0$Helper.$anonfun$fibonacci_k$2$adapted(\u001b[32mcmd0.sc\u001b[39m:\u001b[32m5\u001b[39m)\n  ammonite.$sess.cmd0$Helper.$anonfun$fibonacci_k$2(\u001b[32mcmd0.sc\u001b[39m:\u001b[32m5\u001b[39m)\n  ammonite.$sess.cmd0$Helper.$anonfun$fibonacci_k$2$adapted(\u001b[32mcmd0.sc\u001b[39m:\u001b[32m5\u001b[39m)\n  ammonite.$sess.cmd0$Helper.fibonacci_k(\u001b[32mcmd0.sc\u001b[39m:\u001b[32m3\u001b[39m)\n  ammonite.$sess.cmd0$Helper.$anonfun$fibonacci_k$1(\u001b[32mcmd0.sc\u001b[39m:\u001b[32m5\u001b[39m)\n  ammonite.$sess.cmd0$Helper.$anonfun$fibonacci_k$1$adapted(\u001b[32mcmd0.sc\u001b[39m:\u001b[32m5\u001b[39m)\n  ammonite.$sess.cmd0$Helper.fibonacci_k(\u001b[32mcmd0.sc\u001b[39m:\u001b[32m3\u001b[39m)\n  ammonite.$sess.cmd0$Helper.$anonfun$fibonacci_k$1(\u001b[32mcmd0.sc\u001b[39m:\u001b[32m5\u001b[39m)\n  ammonite.$sess.cmd0$Helper.$anonfun$fibonacci_k$1$adapted(\u001b[32mcmd0.sc\u001b[39m:\u001b[32m5\u001b[39m)\n  ammonite.$sess.cmd0$Helper.$anonfun$fibonacci_k$2(\u001b[32mcmd0.sc\u001b[39m:\u001b[32m5\u001b[39m)\n  ammonite.$sess.cmd0$Helper.$anonfun$fibonacci_k$2$adapted(\u001b[32mcmd0.sc\u001b[39m:\u001b[32m5\u001b[39m)\n  ammonite.$sess.cmd0$Helper.fibonacci_k(\u001b[32mcmd0.sc\u001b[39m:\u001b[32m3\u001b[39m)\n  ammonite.$sess.cmd0$Helper.$anonfun$fibonacci_k$1(\u001b[32mcmd0.sc\u001b[39m:\u001b[32m5\u001b[39m)\n  ammonite.$sess.cmd0$Helper.$anonfun$fibonacci_k$1$adapted(\u001b[32mcmd0.sc\u001b[39m:\u001b[32m5\u001b[39m)\n  ammonite.$sess.cmd0$Helper.$anonfun$fibonacci_k$2(\u001b[32mcmd0.sc\u001b[39m:\u001b[32m5\u001b[39m)\n  ammonite.$sess.cmd0$Helper.$anonfun$fibonacci_k$2$adapted(\u001b[32mcmd0.sc\u001b[39m:\u001b[32m5\u001b[39m)\n  ammonite.$sess.cmd0$Helper.fibonacci_k(\u001b[32mcmd0.sc\u001b[39m:\u001b[32m3\u001b[39m)\n  ammonite.$sess.cmd0$Helper.$anonfun$fibonacci_k$1(\u001b[32mcmd0.sc\u001b[39m:\u001b[32m5\u001b[39m)\n  ammonite.$sess.cmd0$Helper.$anonfun$fibonacci_k$1$adapted(\u001b[32mcmd0.sc\u001b[39m:\u001b[32m5\u001b[39m)\n  ammonite.$sess.cmd0$Helper.fibonacci_k(\u001b[32mcmd0.sc\u001b[39m:\u001b[32m3\u001b[39m)\n  ammonite.$sess.cmd0$Helper.$anonfun$fibonacci_k$1(\u001b[32mcmd0.sc\u001b[39m:\u001b[32m5\u001b[39m)\n  ammonite.$sess.cmd0$Helper.$anonfun$fibonacci_k$1$adapted(\u001b[32mcmd0.sc\u001b[39m:\u001b[32m5\u001b[39m)\n  ammonite.$sess.cmd0$Helper.$anonfun$fibonacci_k$2(\u001b[32mcmd0.sc\u001b[39m:\u001b[32m5\u001b[39m)\n  ammonite.$sess.cmd0$Helper.$anonfun$fibonacci_k$2$adapted(\u001b[32mcmd0.sc\u001b[39m:\u001b[32m5\u001b[39m)\n  ammonite.$sess.cmd0$Helper.$anonfun$fibonacci_k$2(\u001b[32mcmd0.sc\u001b[39m:\u001b[32m5\u001b[39m)\n  ammonite.$sess.cmd0$Helper.$anonfun$fibonacci_k$2$adapted(\u001b[32mcmd0.sc\u001b[39m:\u001b[32m5\u001b[39m)\n  ammonite.$sess.cmd0$Helper.fibonacci_k(\u001b[32mcmd0.sc\u001b[39m:\u001b[32m3\u001b[39m)\n  ammonite.$sess.cmd0$Helper.$anonfun$fibonacci_k$1(\u001b[32mcmd0.sc\u001b[39m:\u001b[32m5\u001b[39m)\n  ammonite.$sess.cmd0$Helper.$anonfun$fibonacci_k$1$adapted(\u001b[32mcmd0.sc\u001b[39m:\u001b[32m5\u001b[39m)\n  ammonite.$sess.cmd0$Helper.$anonfun$fibonacci_k$2(\u001b[32mcmd0.sc\u001b[39m:\u001b[32m5\u001b[39m)\n  ammonite.$sess.cmd0$Helper.$anonfun$fibonacci_k$2$adapted(\u001b[32mcmd0.sc\u001b[39m:\u001b[32m5\u001b[39m)\n  ammonite.$sess.cmd0$Helper.fibonacci_k(\u001b[32mcmd0.sc\u001b[39m:\u001b[32m3\u001b[39m)\n  ammonite.$sess.cmd0$Helper.$anonfun$fibonacci_k$1(\u001b[32mcmd0.sc\u001b[39m:\u001b[32m5\u001b[39m)\n  ammonite.$sess.cmd0$Helper.$anonfun$fibonacci_k$1$adapted(\u001b[32mcmd0.sc\u001b[39m:\u001b[32m5\u001b[39m)\n  ammonite.$sess.cmd0$Helper.fibonacci_k(\u001b[32mcmd0.sc\u001b[39m:\u001b[32m3\u001b[39m)\n  ammonite.$sess.cmd0$Helper.$anonfun$fibonacci_k$1(\u001b[32mcmd0.sc\u001b[39m:\u001b[32m5\u001b[39m)\n  ammonite.$sess.cmd0$Helper.$anonfun$fibonacci_k$1$adapted(\u001b[32mcmd0.sc\u001b[39m:\u001b[32m5\u001b[39m)\n  ammonite.$sess.cmd0$Helper.$anonfun$fibonacci_k$2(\u001b[32mcmd0.sc\u001b[39m:\u001b[32m5\u001b[39m)\n  ammonite.$sess.cmd0$Helper.$anonfun$fibonacci_k$2$adapted(\u001b[32mcmd0.sc\u001b[39m:\u001b[32m5\u001b[39m)\n  ammonite.$sess.cmd0$Helper.$anonfun$fibonacci_k$2(\u001b[32mcmd0.sc\u001b[39m:\u001b[32m5\u001b[39m)\n  ammonite.$sess.cmd0$Helper.$anonfun$fibonacci_k$2$adapted(\u001b[32mcmd0.sc\u001b[39m:\u001b[32m5\u001b[39m)\n  ammonite.$sess.cmd0$Helper.fibonacci_k(\u001b[32mcmd0.sc\u001b[39m:\u001b[32m3\u001b[39m)\n  ammonite.$sess.cmd0$Helper.$anonfun$fibonacci_k$1(\u001b[32mcmd0.sc\u001b[39m:\u001b[32m5\u001b[39m)\n  ammonite.$sess.cmd0$Helper.$anonfun$fibonacci_k$1$adapted(\u001b[32mcmd0.sc\u001b[39m:\u001b[32m5\u001b[39m)\n  ammonite.$sess.cmd0$Helper.fibonacci_k(\u001b[32mcmd0.sc\u001b[39m:\u001b[32m3\u001b[39m)\n  ammonite.$sess.cmd0$Helper.$anonfun$fibonacci_k$1(\u001b[32mcmd0.sc\u001b[39m:\u001b[32m5\u001b[39m)\n  ammonite.$sess.cmd0$Helper.$anonfun$fibonacci_k$1$adapted(\u001b[32mcmd0.sc\u001b[39m:\u001b[32m5\u001b[39m)\n  ammonite.$sess.cmd0$Helper.$anonfun$fibonacci_k$2(\u001b[32mcmd0.sc\u001b[39m:\u001b[32m5\u001b[39m)\n  ammonite.$sess.cmd0$Helper.$anonfun$fibonacci_k$2$adapted(\u001b[32mcmd0.sc\u001b[39m:\u001b[32m5\u001b[39m)\n  ammonite.$sess.cmd0$Helper.fibonacci_k(\u001b[32mcmd0.sc\u001b[39m:\u001b[32m3\u001b[39m)\n  ammonite.$sess.cmd0$Helper.$anonfun$fibonacci_k$1(\u001b[32mcmd0.sc\u001b[39m:\u001b[32m5\u001b[39m)\n  ammonite.$sess.cmd0$Helper.$anonfun$fibonacci_k$1$adapted(\u001b[32mcmd0.sc\u001b[39m:\u001b[32m5\u001b[39m)\n  ammonite.$sess.cmd0$Helper.$anonfun$fibonacci_k$2(\u001b[32mcmd0.sc\u001b[39m:\u001b[32m5\u001b[39m)\n  ammonite.$sess.cmd0$Helper.$anonfun$fibonacci_k$2$adapted(\u001b[32mcmd0.sc\u001b[39m:\u001b[32m5\u001b[39m)\n  ammonite.$sess.cmd0$Helper.fibonacci_k(\u001b[32mcmd0.sc\u001b[39m:\u001b[32m3\u001b[39m)\n  ammonite.$sess.cmd0$Helper.$anonfun$fibonacci_k$1(\u001b[32mcmd0.sc\u001b[39m:\u001b[32m5\u001b[39m)\n  ammonite.$sess.cmd0$Helper.$anonfun$fibonacci_k$1$adapted(\u001b[32mcmd0.sc\u001b[39m:\u001b[32m5\u001b[39m)\n  ammonite.$sess.cmd0$Helper.fibonacci_k(\u001b[32mcmd0.sc\u001b[39m:\u001b[32m3\u001b[39m)\n  ammonite.$sess.cmd0$Helper.$anonfun$fibonacci_k$1(\u001b[32mcmd0.sc\u001b[39m:\u001b[32m5\u001b[39m)\n  ammonite.$sess.cmd0$Helper.$anonfun$fibonacci_k$1$adapted(\u001b[32mcmd0.sc\u001b[39m:\u001b[32m5\u001b[39m)\n  ammonite.$sess.cmd0$Helper.$anonfun$fibonacci_k$2(\u001b[32mcmd0.sc\u001b[39m:\u001b[32m5\u001b[39m)\n  ammonite.$sess.cmd0$Helper.$anonfun$fibonacci_k$2$adapted(\u001b[32mcmd0.sc\u001b[39m:\u001b[32m5\u001b[39m)\n  ammonite.$sess.cmd0$Helper.$anonfun$fibonacci_k$2(\u001b[32mcmd0.sc\u001b[39m:\u001b[32m5\u001b[39m)\n  ammonite.$sess.cmd0$Helper.$anonfun$fibonacci_k$2$adapted(\u001b[32mcmd0.sc\u001b[39m:\u001b[32m5\u001b[39m)\n  ammonite.$sess.cmd0$Helper.$anonfun$fibonacci_k$2(\u001b[32mcmd0.sc\u001b[39m:\u001b[32m5\u001b[39m)\n  ammonite.$sess.cmd0$Helper.$anonfun$fibonacci_k$2$adapted(\u001b[32mcmd0.sc\u001b[39m:\u001b[32m5\u001b[39m)\n  ammonite.$sess.cmd0$Helper.fibonacci_k(\u001b[32mcmd0.sc\u001b[39m:\u001b[32m3\u001b[39m)\n  ammonite.$sess.cmd0$Helper.$anonfun$fibonacci_k$1(\u001b[32mcmd0.sc\u001b[39m:\u001b[32m5\u001b[39m)\n  ammonite.$sess.cmd0$Helper.$anonfun$fibonacci_k$1$adapted(\u001b[32mcmd0.sc\u001b[39m:\u001b[32m5\u001b[39m)\n  ammonite.$sess.cmd0$Helper.$anonfun$fibonacci_k$2(\u001b[32mcmd0.sc\u001b[39m:\u001b[32m5\u001b[39m)\n  ammonite.$sess.cmd0$Helper.$anonfun$fibonacci_k$2$adapted(\u001b[32mcmd0.sc\u001b[39m:\u001b[32m5\u001b[39m)\n  ammonite.$sess.cmd0$Helper.fibonacci_k(\u001b[32mcmd0.sc\u001b[39m:\u001b[32m3\u001b[39m)\n  ammonite.$sess.cmd0$Helper.$anonfun$fibonacci_k$1(\u001b[32mcmd0.sc\u001b[39m:\u001b[32m5\u001b[39m)\n  ammonite.$sess.cmd0$Helper.$anonfun$fibonacci_k$1$adapted(\u001b[32mcmd0.sc\u001b[39m:\u001b[32m5\u001b[39m)\n  ammonite.$sess.cmd0$Helper.fibonacci_k(\u001b[32mcmd0.sc\u001b[39m:\u001b[32m3\u001b[39m)\n  ammonite.$sess.cmd0$Helper.$anonfun$fibonacci_k$1(\u001b[32mcmd0.sc\u001b[39m:\u001b[32m5\u001b[39m)\n  ammonite.$sess.cmd0$Helper.$anonfun$fibonacci_k$1$adapted(\u001b[32mcmd0.sc\u001b[39m:\u001b[32m5\u001b[39m)\n  ammonite.$sess.cmd0$Helper.$anonfun$fibonacci_k$2(\u001b[32mcmd0.sc\u001b[39m:\u001b[32m5\u001b[39m)\n  ammonite.$sess.cmd0$Helper.$anonfun$fibonacci_k$2$adapted(\u001b[32mcmd0.sc\u001b[39m:\u001b[32m5\u001b[39m)\n  ammonite.$sess.cmd0$Helper.$anonfun$fibonacci_k$2(\u001b[32mcmd0.sc\u001b[39m:\u001b[32m5\u001b[39m)\n  ammonite.$sess.cmd0$Helper.$anonfun$fibonacci_k$2$adapted(\u001b[32mcmd0.sc\u001b[39m:\u001b[32m5\u001b[39m)\n  ammonite.$sess.cmd0$Helper.fibonacci_k(\u001b[32mcmd0.sc\u001b[39m:\u001b[32m3\u001b[39m)\n  ammonite.$sess.cmd0$Helper.$anonfun$fibonacci_k$1(\u001b[32mcmd0.sc\u001b[39m:\u001b[32m5\u001b[39m)\n  ammonite.$sess.cmd0$Helper.$anonfun$fibonacci_k$1$adapted(\u001b[32mcmd0.sc\u001b[39m:\u001b[32m5\u001b[39m)\n  ammonite.$sess.cmd0$Helper.fibonacci_k(\u001b[32mcmd0.sc\u001b[39m:\u001b[32m3\u001b[39m)\n  ammonite.$sess.cmd0$Helper.$anonfun$fibonacci_k$1(\u001b[32mcmd0.sc\u001b[39m:\u001b[32m5\u001b[39m)\n  ammonite.$sess.cmd0$Helper.$anonfun$fibonacci_k$1$adapted(\u001b[32mcmd0.sc\u001b[39m:\u001b[32m5\u001b[39m)\n  ammonite.$sess.cmd0$Helper.$anonfun$fibonacci_k$2(\u001b[32mcmd0.sc\u001b[39m:\u001b[32m5\u001b[39m)\n  ammonite.$sess.cmd0$Helper.$anonfun$fibonacci_k$2$adapted(\u001b[32mcmd0.sc\u001b[39m:\u001b[32m5\u001b[39m)\n  ammonite.$sess.cmd0$Helper.fibonacci_k(\u001b[32mcmd0.sc\u001b[39m:\u001b[32m3\u001b[39m)\n  ammonite.$sess.cmd0$Helper.$anonfun$fibonacci_k$1(\u001b[32mcmd0.sc\u001b[39m:\u001b[32m5\u001b[39m)\n  ammonite.$sess.cmd0$Helper.$anonfun$fibonacci_k$1$adapted(\u001b[32mcmd0.sc\u001b[39m:\u001b[32m5\u001b[39m)\n  ammonite.$sess.cmd0$Helper.$anonfun$fibonacci_k$2(\u001b[32mcmd0.sc\u001b[39m:\u001b[32m5\u001b[39m)\n  ammonite.$sess.cmd0$Helper.$anonfun$fibonacci_k$2$adapted(\u001b[32mcmd0.sc\u001b[39m:\u001b[32m5\u001b[39m)\n  ammonite.$sess.cmd0$Helper.fibonacci_k(\u001b[32mcmd0.sc\u001b[39m:\u001b[32m3\u001b[39m)\n  ammonite.$sess.cmd0$Helper.$anonfun$fibonacci_k$1(\u001b[32mcmd0.sc\u001b[39m:\u001b[32m5\u001b[39m)\n  ammonite.$sess.cmd0$Helper.$anonfun$fibonacci_k$1$adapted(\u001b[32mcmd0.sc\u001b[39m:\u001b[32m5\u001b[39m)\n  ammonite.$sess.cmd0$Helper.fibonacci_k(\u001b[32mcmd0.sc\u001b[39m:\u001b[32m3\u001b[39m)\n  ammonite.$sess.cmd0$Helper.$anonfun$fibonacci_k$1(\u001b[32mcmd0.sc\u001b[39m:\u001b[32m5\u001b[39m)\n  ammonite.$sess.cmd0$Helper.$anonfun$fibonacci_k$1$adapted(\u001b[32mcmd0.sc\u001b[39m:\u001b[32m5\u001b[39m)\n  ammonite.$sess.cmd0$Helper.$anonfun$fibonacci_k$2(\u001b[32mcmd0.sc\u001b[39m:\u001b[32m5\u001b[39m)\n  ammonite.$sess.cmd0$Helper.$anonfun$fibonacci_k$2$adapted(\u001b[32mcmd0.sc\u001b[39m:\u001b[32m5\u001b[39m)\n  ammonite.$sess.cmd0$Helper.$anonfun$fibonacci_k$2(\u001b[32mcmd0.sc\u001b[39m:\u001b[32m5\u001b[39m)\n  ammonite.$sess.cmd0$Helper.$anonfun$fibonacci_k$2$adapted(\u001b[32mcmd0.sc\u001b[39m:\u001b[32m5\u001b[39m)\n  ammonite.$sess.cmd0$Helper.$anonfun$fibonacci_k$2(\u001b[32mcmd0.sc\u001b[39m:\u001b[32m5\u001b[39m)\n  ammonite.$sess.cmd0$Helper.$anonfun$fibonacci_k$2$adapted(\u001b[32mcmd0.sc\u001b[39m:\u001b[32m5\u001b[39m)\n  ammonite.$sess.cmd0$Helper.fibonacci_k(\u001b[32mcmd0.sc\u001b[39m:\u001b[32m3\u001b[39m)\n  ammonite.$sess.cmd0$Helper.$anonfun$fibonacci_k$1(\u001b[32mcmd0.sc\u001b[39m:\u001b[32m5\u001b[39m)\n  ammonite.$sess.cmd0$Helper.$anonfun$fibonacci_k$1$adapted(\u001b[32mcmd0.sc\u001b[39m:\u001b[32m5\u001b[39m)\n  ammonite.$sess.cmd0$Helper.fibonacci_k(\u001b[32mcmd0.sc\u001b[39m:\u001b[32m3\u001b[39m)\n  ammonite.$sess.cmd0$Helper.$anonfun$fibonacci_k$1(\u001b[32mcmd0.sc\u001b[39m:\u001b[32m5\u001b[39m)\n  ammonite.$sess.cmd0$Helper.$anonfun$fibonacci_k$1$adapted(\u001b[32mcmd0.sc\u001b[39m:\u001b[32m5\u001b[39m)\n  ammonite.$sess.cmd0$Helper.$anonfun$fibonacci_k$2(\u001b[32mcmd0.sc\u001b[39m:\u001b[32m5\u001b[39m)\n  ammonite.$sess.cmd0$Helper.$anonfun$fibonacci_k$2$adapted(\u001b[32mcmd0.sc\u001b[39m:\u001b[32m5\u001b[39m)\n  ammonite.$sess.cmd0$Helper.fibonacci_k(\u001b[32mcmd0.sc\u001b[39m:\u001b[32m3\u001b[39m)\n  ammonite.$sess.cmd0$Helper.$anonfun$fibonacci_k$1(\u001b[32mcmd0.sc\u001b[39m:\u001b[32m5\u001b[39m)\n  ammonite.$sess.cmd0$Helper.$anonfun$fibonacci_k$1$adapted(\u001b[32mcmd0.sc\u001b[39m:\u001b[32m5\u001b[39m)\n  ammonite.$sess.cmd0$Helper.$anonfun$fibonacci_k$2(\u001b[32mcmd0.sc\u001b[39m:\u001b[32m5\u001b[39m)\n  ammonite.$sess.cmd0$Helper.$anonfun$fibonacci_k$2$adapted(\u001b[32mcmd0.sc\u001b[39m:\u001b[32m5\u001b[39m)\n  ammonite.$sess.cmd0$Helper.fibonacci_k(\u001b[32mcmd0.sc\u001b[39m:\u001b[32m3\u001b[39m)\n  ammonite.$sess.cmd0$Helper.$anonfun$fibonacci_k$1(\u001b[32mcmd0.sc\u001b[39m:\u001b[32m5\u001b[39m)\n  ammonite.$sess.cmd0$Helper.$anonfun$fibonacci_k$1$adapted(\u001b[32mcmd0.sc\u001b[39m:\u001b[32m5\u001b[39m)\n  ammonite.$sess.cmd0$Helper.fibonacci_k(\u001b[32mcmd0.sc\u001b[39m:\u001b[32m3\u001b[39m)\n  ammonite.$sess.cmd0$Helper.$anonfun$fibonacci_k$1(\u001b[32mcmd0.sc\u001b[39m:\u001b[32m5\u001b[39m)\n  ammonite.$sess.cmd0$Helper.$anonfun$fibonacci_k$1$adapted(\u001b[32mcmd0.sc\u001b[39m:\u001b[32m5\u001b[39m)\n  ammonite.$sess.cmd0$Helper.$anonfun$fibonacci_k$2(\u001b[32mcmd0.sc\u001b[39m:\u001b[32m5\u001b[39m)\n  ammonite.$sess.cmd0$Helper.$anonfun$fibonacci_k$2$adapted(\u001b[32mcmd0.sc\u001b[39m:\u001b[32m5\u001b[39m)\n  ammonite.$sess.cmd0$Helper.$anonfun$fibonacci_k$2(\u001b[32mcmd0.sc\u001b[39m:\u001b[32m5\u001b[39m)\n  ammonite.$sess.cmd0$Helper.$anonfun$fibonacci_k$2$adapted(\u001b[32mcmd0.sc\u001b[39m:\u001b[32m5\u001b[39m)\n  ammonite.$sess.cmd0$Helper.fibonacci_k(\u001b[32mcmd0.sc\u001b[39m:\u001b[32m3\u001b[39m)\n  ammonite.$sess.cmd0$Helper.$anonfun$fibonacci_k$1(\u001b[32mcmd0.sc\u001b[39m:\u001b[32m5\u001b[39m)\n  ammonite.$sess.cmd0$Helper.$anonfun$fibonacci_k$1$adapted(\u001b[32mcmd0.sc\u001b[39m:\u001b[32m5\u001b[39m)\n  ammonite.$sess.cmd0$Helper.$anonfun$fibonacci_k$2(\u001b[32mcmd0.sc\u001b[39m:\u001b[32m5\u001b[39m)\n  ammonite.$sess.cmd0$Helper.$anonfun$fibonacci_k$2$adapted(\u001b[32mcmd0.sc\u001b[39m:\u001b[32m5\u001b[39m)\n  ammonite.$sess.cmd0$Helper.fibonacci_k(\u001b[32mcmd0.sc\u001b[39m:\u001b[32m3\u001b[39m)\n  ammonite.$sess.cmd0$Helper.$anonfun$fibonacci_k$1(\u001b[32mcmd0.sc\u001b[39m:\u001b[32m5\u001b[39m)\n  ammonite.$sess.cmd0$Helper.$anonfun$fibonacci_k$1$adapted(\u001b[32mcmd0.sc\u001b[39m:\u001b[32m5\u001b[39m)\n  ammonite.$sess.cmd0$Helper.fibonacci_k(\u001b[32mcmd0.sc\u001b[39m:\u001b[32m3\u001b[39m)\n  ammonite.$sess.cmd0$Helper.$anonfun$fibonacci_k$1(\u001b[32mcmd0.sc\u001b[39m:\u001b[32m5\u001b[39m)\n  ammonite.$sess.cmd0$Helper.$anonfun$fibonacci_k$1$adapted(\u001b[32mcmd0.sc\u001b[39m:\u001b[32m5\u001b[39m)\n  ammonite.$sess.cmd0$Helper.$anonfun$fibonacci_k$2(\u001b[32mcmd0.sc\u001b[39m:\u001b[32m5\u001b[39m)\n  ammonite.$sess.cmd0$Helper.$anonfun$fibonacci_k$2$adapted(\u001b[32mcmd0.sc\u001b[39m:\u001b[32m5\u001b[39m)\n  ammonite.$sess.cmd0$Helper.$anonfun$fibonacci_k$2(\u001b[32mcmd0.sc\u001b[39m:\u001b[32m5\u001b[39m)\n  ammonite.$sess.cmd0$Helper.$anonfun$fibonacci_k$2$adapted(\u001b[32mcmd0.sc\u001b[39m:\u001b[32m5\u001b[39m)\n  ammonite.$sess.cmd0$Helper.fibonacci_k(\u001b[32mcmd0.sc\u001b[39m:\u001b[32m3\u001b[39m)\n  ammonite.$sess.cmd0$Helper.$anonfun$fibonacci_k$1(\u001b[32mcmd0.sc\u001b[39m:\u001b[32m5\u001b[39m)\n  ammonite.$sess.cmd0$Helper.$anonfun$fibonacci_k$1$adapted(\u001b[32mcmd0.sc\u001b[39m:\u001b[32m5\u001b[39m)\n  ammonite.$sess.cmd0$Helper.fibonacci_k(\u001b[32mcmd0.sc\u001b[39m:\u001b[32m3\u001b[39m)\n  ammonite.$sess.cmd0$Helper.$anonfun$fibonacci_k$1(\u001b[32mcmd0.sc\u001b[39m:\u001b[32m5\u001b[39m)\n  ammonite.$sess.cmd0$Helper.$anonfun$fibonacci_k$1$adapted(\u001b[32mcmd0.sc\u001b[39m:\u001b[32m5\u001b[39m)\n  ammonite.$sess.cmd0$Helper.$anonfun$fibonacci_k$2(\u001b[32mcmd0.sc\u001b[39m:\u001b[32m5\u001b[39m)\n  ammonite.$sess.cmd0$Helper.$anonfun$fibonacci_k$2$adapted(\u001b[32mcmd0.sc\u001b[39m:\u001b[32m5\u001b[39m)\n  ammonite.$sess.cmd0$Helper.fibonacci_k(\u001b[32mcmd0.sc\u001b[39m:\u001b[32m3\u001b[39m)\n  ammonite.$sess.cmd0$Helper.$anonfun$fibonacci_k$1(\u001b[32mcmd0.sc\u001b[39m:\u001b[32m5\u001b[39m)\n  ammonite.$sess.cmd0$Helper.$anonfun$fibonacci_k$1$adapted(\u001b[32mcmd0.sc\u001b[39m:\u001b[32m5\u001b[39m)\n  ammonite.$sess.cmd0$Helper.$anonfun$fibonacci_k$2(\u001b[32mcmd0.sc\u001b[39m:\u001b[32m5\u001b[39m)\n  ammonite.$sess.cmd0$Helper.$anonfun$fibonacci_k$2$adapted(\u001b[32mcmd0.sc\u001b[39m:\u001b[32m5\u001b[39m)\n  ammonite.$sess.cmd0$Helper.fibonacci_k(\u001b[32mcmd0.sc\u001b[39m:\u001b[32m3\u001b[39m)\n  ammonite.$sess.cmd0$Helper.$anonfun$fibonacci_k$1(\u001b[32mcmd0.sc\u001b[39m:\u001b[32m5\u001b[39m)\n  ammonite.$sess.cmd0$Helper.$anonfun$fibonacci_k$1$adapted(\u001b[32mcmd0.sc\u001b[39m:\u001b[32m5\u001b[39m)\n  ammonite.$sess.cmd0$Helper.fibonacci_k(\u001b[32mcmd0.sc\u001b[39m:\u001b[32m3\u001b[39m)\n  ammonite.$sess.cmd0$Helper.$anonfun$fibonacci_k$1(\u001b[32mcmd0.sc\u001b[39m:\u001b[32m5\u001b[39m)\n  ammonite.$sess.cmd0$Helper.$anonfun$fibonacci_k$1$adapted(\u001b[32mcmd0.sc\u001b[39m:\u001b[32m5\u001b[39m)\n  ammonite.$sess.cmd0$Helper.$anonfun$fibonacci_k$2(\u001b[32mcmd0.sc\u001b[39m:\u001b[32m5\u001b[39m)\n  ammonite.$sess.cmd0$Helper.$anonfun$fibonacci_k$2$adapted(\u001b[32mcmd0.sc\u001b[39m:\u001b[32m5\u001b[39m)\n  ammonite.$sess.cmd0$Helper.$anonfun$fibonacci_k$2(\u001b[32mcmd0.sc\u001b[39m:\u001b[32m5\u001b[39m)\n  ammonite.$sess.cmd0$Helper.$anonfun$fibonacci_k$2$adapted(\u001b[32mcmd0.sc\u001b[39m:\u001b[32m5\u001b[39m)\n  ammonite.$sess.cmd0$Helper.$anonfun$fibonacci_k$2(\u001b[32mcmd0.sc\u001b[39m:\u001b[32m5\u001b[39m)\n  ammonite.$sess.cmd0$Helper.$anonfun$fibonacci_k$2$adapted(\u001b[32mcmd0.sc\u001b[39m:\u001b[32m5\u001b[39m)\n  ammonite.$sess.cmd0$Helper.$anonfun$fibonacci_k$2(\u001b[32mcmd0.sc\u001b[39m:\u001b[32m5\u001b[39m)\n  ammonite.$sess.cmd0$Helper.$anonfun$fibonacci_k$2$adapted(\u001b[32mcmd0.sc\u001b[39m:\u001b[32m5\u001b[39m)\n  ammonite.$sess.cmd0$Helper.$anonfun$fibonacci_k$2(\u001b[32mcmd0.sc\u001b[39m:\u001b[32m5\u001b[39m)\n  ammonite.$sess.cmd0$Helper.$anonfun$fibonacci_k$2$adapted(\u001b[32mcmd0.sc\u001b[39m:\u001b[32m5\u001b[39m)\n  ammonite.$sess.cmd0$Helper.fibonacci_k(\u001b[32mcmd0.sc\u001b[39m:\u001b[32m3\u001b[39m)\n  ammonite.$sess.cmd0$Helper.$anonfun$fibonacci_k$1(\u001b[32mcmd0.sc\u001b[39m:\u001b[32m5\u001b[39m)\n  ammonite.$sess.cmd0$Helper.$anonfun$fibonacci_k$1$adapted(\u001b[32mcmd0.sc\u001b[39m:\u001b[32m5\u001b[39m)\n  ammonite.$sess.cmd0$Helper.$anonfun$fibonacci_k$2(\u001b[32mcmd0.sc\u001b[39m:\u001b[32m5\u001b[39m)\n  ammonite.$sess.cmd0$Helper.$anonfun$fibonacci_k$2$adapted(\u001b[32mcmd0.sc\u001b[39m:\u001b[32m5\u001b[39m)\n  ammonite.$sess.cmd0$Helper.fibonacci_k(\u001b[32mcmd0.sc\u001b[39m:\u001b[32m3\u001b[39m)\n  ammonite.$sess.cmd0$Helper.$anonfun$fibonacci_k$1(\u001b[32mcmd0.sc\u001b[39m:\u001b[32m5\u001b[39m)\n  ammonite.$sess.cmd0$Helper.$anonfun$fibonacci_k$1$adapted(\u001b[32mcmd0.sc\u001b[39m:\u001b[32m5\u001b[39m)\n  ammonite.$sess.cmd0$Helper.fibonacci_k(\u001b[32mcmd0.sc\u001b[39m:\u001b[32m3\u001b[39m)\n  ammonite.$sess.cmd0$Helper.$anonfun$fibonacci_k$1(\u001b[32mcmd0.sc\u001b[39m:\u001b[32m5\u001b[39m)\n  ammonite.$sess.cmd0$Helper.$anonfun$fibonacci_k$1$adapted(\u001b[32mcmd0.sc\u001b[39m:\u001b[32m5\u001b[39m)\n  ammonite.$sess.cmd0$Helper.$anonfun$fibonacci_k$2(\u001b[32mcmd0.sc\u001b[39m:\u001b[32m5\u001b[39m)\n  ammonite.$sess.cmd0$Helper.$anonfun$fibonacci_k$2$adapted(\u001b[32mcmd0.sc\u001b[39m:\u001b[32m5\u001b[39m)\n  ammonite.$sess.cmd0$Helper.$anonfun$fibonacci_k$2(\u001b[32mcmd0.sc\u001b[39m:\u001b[32m5\u001b[39m)\n  ammonite.$sess.cmd0$Helper.$anonfun$fibonacci_k$2$adapted(\u001b[32mcmd0.sc\u001b[39m:\u001b[32m5\u001b[39m)\n  ammonite.$sess.cmd0$Helper.fibonacci_k(\u001b[32mcmd0.sc\u001b[39m:\u001b[32m3\u001b[39m)\n  ammonite.$sess.cmd0$Helper.$anonfun$fibonacci_k$1(\u001b[32mcmd0.sc\u001b[39m:\u001b[32m5\u001b[39m)\n  ammonite.$sess.cmd0$Helper.$anonfun$fibonacci_k$1$adapted(\u001b[32mcmd0.sc\u001b[39m:\u001b[32m5\u001b[39m)\n  ammonite.$sess.cmd0$Helper.fibonacci_k(\u001b[32mcmd0.sc\u001b[39m:\u001b[32m3\u001b[39m)\n  ammonite.$sess.cmd0$Helper.$anonfun$fibonacci_k$1(\u001b[32mcmd0.sc\u001b[39m:\u001b[32m5\u001b[39m)\n  ammonite.$sess.cmd0$Helper.$anonfun$fibonacci_k$1$adapted(\u001b[32mcmd0.sc\u001b[39m:\u001b[32m5\u001b[39m)\n  ammonite.$sess.cmd0$Helper.$anonfun$fibonacci_k$2(\u001b[32mcmd0.sc\u001b[39m:\u001b[32m5\u001b[39m)\n  ammonite.$sess.cmd0$Helper.$anonfun$fibonacci_k$2$adapted(\u001b[32mcmd0.sc\u001b[39m:\u001b[32m5\u001b[39m)\n  ammonite.$sess.cmd0$Helper.fibonacci_k(\u001b[32mcmd0.sc\u001b[39m:\u001b[32m3\u001b[39m)\n  ammonite.$sess.cmd0$Helper.$anonfun$fibonacci_k$1(\u001b[32mcmd0.sc\u001b[39m:\u001b[32m5\u001b[39m)\n  ammonite.$sess.cmd0$Helper.$anonfun$fibonacci_k$1$adapted(\u001b[32mcmd0.sc\u001b[39m:\u001b[32m5\u001b[39m)\n  ammonite.$sess.cmd0$Helper.$anonfun$fibonacci_k$2(\u001b[32mcmd0.sc\u001b[39m:\u001b[32m5\u001b[39m)\n  ammonite.$sess.cmd0$Helper.$anonfun$fibonacci_k$2$adapted(\u001b[32mcmd0.sc\u001b[39m:\u001b[32m5\u001b[39m)\n  ammonite.$sess.cmd0$Helper.fibonacci_k(\u001b[32mcmd0.sc\u001b[39m:\u001b[32m3\u001b[39m)\n  ammonite.$sess.cmd0$Helper.$anonfun$fibonacci_k$1(\u001b[32mcmd0.sc\u001b[39m:\u001b[32m5\u001b[39m)\n  ammonite.$sess.cmd0$Helper.$anonfun$fibonacci_k$1$adapted(\u001b[32mcmd0.sc\u001b[39m:\u001b[32m5\u001b[39m)\n  ammonite.$sess.cmd0$Helper.fibonacci_k(\u001b[32mcmd0.sc\u001b[39m:\u001b[32m3\u001b[39m)\n  ammonite.$sess.cmd0$Helper.$anonfun$fibonacci_k$1(\u001b[32mcmd0.sc\u001b[39m:\u001b[32m5\u001b[39m)\n  ammonite.$sess.cmd0$Helper.$anonfun$fibonacci_k$1$adapted(\u001b[32mcmd0.sc\u001b[39m:\u001b[32m5\u001b[39m)\n  ammonite.$sess.cmd0$Helper.$anonfun$fibonacci_k$2(\u001b[32mcmd0.sc\u001b[39m:\u001b[32m5\u001b[39m)\n  ammonite.$sess.cmd0$Helper.$anonfun$fibonacci_k$2$adapted(\u001b[32mcmd0.sc\u001b[39m:\u001b[32m5\u001b[39m)\n  ammonite.$sess.cmd0$Helper.$anonfun$fibonacci_k$2(\u001b[32mcmd0.sc\u001b[39m:\u001b[32m5\u001b[39m)\n  ammonite.$sess.cmd0$Helper.$anonfun$fibonacci_k$2$adapted(\u001b[32mcmd0.sc\u001b[39m:\u001b[32m5\u001b[39m)\n  ammonite.$sess.cmd0$Helper.$anonfun$fibonacci_k$2(\u001b[32mcmd0.sc\u001b[39m:\u001b[32m5\u001b[39m)\n  ammonite.$sess.cmd0$Helper.$anonfun$fibonacci_k$2$adapted(\u001b[32mcmd0.sc\u001b[39m:\u001b[32m5\u001b[39m)\n  ammonite.$sess.cmd0$Helper.fibonacci_k(\u001b[32mcmd0.sc\u001b[39m:\u001b[32m3\u001b[39m)\n  ammonite.$sess.cmd0$Helper.$anonfun$fibonacci_k$1(\u001b[32mcmd0.sc\u001b[39m:\u001b[32m5\u001b[39m)\n  ammonite.$sess.cmd0$Helper.$anonfun$fibonacci_k$1$adapted(\u001b[32mcmd0.sc\u001b[39m:\u001b[32m5\u001b[39m)\n  ammonite.$sess.cmd0$Helper.fibonacci_k(\u001b[32mcmd0.sc\u001b[39m:\u001b[32m3\u001b[39m)\n  ammonite.$sess.cmd0$Helper.$anonfun$fibonacci_k$1(\u001b[32mcmd0.sc\u001b[39m:\u001b[32m5\u001b[39m)\n  ammonite.$sess.cmd0$Helper.$anonfun$fibonacci_k$1$adapted(\u001b[32mcmd0.sc\u001b[39m:\u001b[32m5\u001b[39m)\n  ammonite.$sess.cmd0$Helper.$anonfun$fibonacci_k$2(\u001b[32mcmd0.sc\u001b[39m:\u001b[32m5\u001b[39m)\n  ammonite.$sess.cmd0$Helper.$anonfun$fibonacci_k$2$adapted(\u001b[32mcmd0.sc\u001b[39m:\u001b[32m5\u001b[39m)\n  ammonite.$sess.cmd0$Helper.fibonacci_k(\u001b[32mcmd0.sc\u001b[39m:\u001b[32m3\u001b[39m)\n  ammonite.$sess.cmd0$Helper.$anonfun$fibonacci_k$1(\u001b[32mcmd0.sc\u001b[39m:\u001b[32m5\u001b[39m)\n  ammonite.$sess.cmd0$Helper.$anonfun$fibonacci_k$1$adapted(\u001b[32mcmd0.sc\u001b[39m:\u001b[32m5\u001b[39m)\n  ammonite.$sess.cmd0$Helper.$anonfun$fibonacci_k$2(\u001b[32mcmd0.sc\u001b[39m:\u001b[32m5\u001b[39m)\n  ammonite.$sess.cmd0$Helper.$anonfun$fibonacci_k$2$adapted(\u001b[32mcmd0.sc\u001b[39m:\u001b[32m5\u001b[39m)\n  ammonite.$sess.cmd0$Helper.fibonacci_k(\u001b[32mcmd0.sc\u001b[39m:\u001b[32m3\u001b[39m)\n  ammonite.$sess.cmd0$Helper.$anonfun$fibonacci_k$1(\u001b[32mcmd0.sc\u001b[39m:\u001b[32m5\u001b[39m)\n  ammonite.$sess.cmd0$Helper.$anonfun$fibonacci_k$1$adapted(\u001b[32mcmd0.sc\u001b[39m:\u001b[32m5\u001b[39m)\n  ammonite.$sess.cmd0$Helper.fibonacci_k(\u001b[32mcmd0.sc\u001b[39m:\u001b[32m3\u001b[39m)\n  ammonite.$sess.cmd0$Helper.$anonfun$fibonacci_k$1(\u001b[32mcmd0.sc\u001b[39m:\u001b[32m5\u001b[39m)\n  ammonite.$sess.cmd0$Helper.$anonfun$fibonacci_k$1$adapted(\u001b[32mcmd0.sc\u001b[39m:\u001b[32m5\u001b[39m)\n  ammonite.$sess.cmd0$Helper.$anonfun$fibonacci_k$2(\u001b[32mcmd0.sc\u001b[39m:\u001b[32m5\u001b[39m)\n  ammonite.$sess.cmd0$Helper.$anonfun$fibonacci_k$2$adapted(\u001b[32mcmd0.sc\u001b[39m:\u001b[32m5\u001b[39m)\n  ammonite.$sess.cmd0$Helper.$anonfun$fibonacci_k$2(\u001b[32mcmd0.sc\u001b[39m:\u001b[32m5\u001b[39m)\n  ammonite.$sess.cmd0$Helper.$anonfun$fibonacci_k$2$adapted(\u001b[32mcmd0.sc\u001b[39m:\u001b[32m5\u001b[39m)\n  ammonite.$sess.cmd0$Helper.fibonacci_k(\u001b[32mcmd0.sc\u001b[39m:\u001b[32m3\u001b[39m)\n  ammonite.$sess.cmd0$Helper.$anonfun$fibonacci_k$1(\u001b[32mcmd0.sc\u001b[39m:\u001b[32m5\u001b[39m)\n  ammonite.$sess.cmd0$Helper.$anonfun$fibonacci_k$1$adapted(\u001b[32mcmd0.sc\u001b[39m:\u001b[32m5\u001b[39m)\n  ammonite.$sess.cmd0$Helper.$anonfun$fibonacci_k$2(\u001b[32mcmd0.sc\u001b[39m:\u001b[32m5\u001b[39m)\n  ammonite.$sess.cmd0$Helper.$anonfun$fibonacci_k$2$adapted(\u001b[32mcmd0.sc\u001b[39m:\u001b[32m5\u001b[39m)\n  ammonite.$sess.cmd0$Helper.fibonacci_k(\u001b[32mcmd0.sc\u001b[39m:\u001b[32m3\u001b[39m)\n  ammonite.$sess.cmd0$Helper.$anonfun$fibonacci_k$1(\u001b[32mcmd0.sc\u001b[39m:\u001b[32m5\u001b[39m)\n  ammonite.$sess.cmd0$Helper.$anonfun$fibonacci_k$1$adapted(\u001b[32mcmd0.sc\u001b[39m:\u001b[32m5\u001b[39m)\n  ammonite.$sess.cmd0$Helper.fibonacci_k(\u001b[32mcmd0.sc\u001b[39m:\u001b[32m3\u001b[39m)\n  ammonite.$sess.cmd0$Helper.$anonfun$fibonacci_k$1(\u001b[32mcmd0.sc\u001b[39m:\u001b[32m5\u001b[39m)\n  ammonite.$sess.cmd0$Helper.$anonfun$fibonacci_k$1$adapted(\u001b[32mcmd0.sc\u001b[39m:\u001b[32m5\u001b[39m)\n  ammonite.$sess.cmd0$Helper.$anonfun$fibonacci_k$2(\u001b[32mcmd0.sc\u001b[39m:\u001b[32m5\u001b[39m)\n  ammonite.$sess.cmd0$Helper.$anonfun$fibonacci_k$2$adapted(\u001b[32mcmd0.sc\u001b[39m:\u001b[32m5\u001b[39m)\n  ammonite.$sess.cmd0$Helper.$anonfun$fibonacci_k$2(\u001b[32mcmd0.sc\u001b[39m:\u001b[32m5\u001b[39m)\n  ammonite.$sess.cmd0$Helper.$anonfun$fibonacci_k$2$adapted(\u001b[32mcmd0.sc\u001b[39m:\u001b[32m5\u001b[39m)\n  ammonite.$sess.cmd0$Helper.fibonacci_k(\u001b[32mcmd0.sc\u001b[39m:\u001b[32m3\u001b[39m)\n  ammonite.$sess.cmd0$Helper.$anonfun$fibonacci_k$1(\u001b[32mcmd0.sc\u001b[39m:\u001b[32m5\u001b[39m)\n  ammonite.$sess.cmd0$Helper.$anonfun$fibonacci_k$1$adapted(\u001b[32mcmd0.sc\u001b[39m:\u001b[32m5\u001b[39m)\n  ammonite.$sess.cmd0$Helper.fibonacci_k(\u001b[32mcmd0.sc\u001b[39m:\u001b[32m3\u001b[39m)\n  ammonite.$sess.cmd0$Helper.$anonfun$fibonacci_k$1(\u001b[32mcmd0.sc\u001b[39m:\u001b[32m5\u001b[39m)\n  ammonite.$sess.cmd0$Helper.$anonfun$fibonacci_k$1$adapted(\u001b[32mcmd0.sc\u001b[39m:\u001b[32m5\u001b[39m)\n  ammonite.$sess.cmd0$Helper.$anonfun$fibonacci_k$2(\u001b[32mcmd0.sc\u001b[39m:\u001b[32m5\u001b[39m)\n  ammonite.$sess.cmd0$Helper.$anonfun$fibonacci_k$2$adapted(\u001b[32mcmd0.sc\u001b[39m:\u001b[32m5\u001b[39m)\n  ammonite.$sess.cmd0$Helper.fibonacci_k(\u001b[32mcmd0.sc\u001b[39m:\u001b[32m3\u001b[39m)\n  ammonite.$sess.cmd0$Helper.$anonfun$fibonacci_k$1(\u001b[32mcmd0.sc\u001b[39m:\u001b[32m5\u001b[39m)\n  ammonite.$sess.cmd0$Helper.$anonfun$fibonacci_k$1$adapted(\u001b[32mcmd0.sc\u001b[39m:\u001b[32m5\u001b[39m)\n  ammonite.$sess.cmd0$Helper.$anonfun$fibonacci_k$2(\u001b[32mcmd0.sc\u001b[39m:\u001b[32m5\u001b[39m)\n  ammonite.$sess.cmd0$Helper.$anonfun$fibonacci_k$2$adapted(\u001b[32mcmd0.sc\u001b[39m:\u001b[32m5\u001b[39m)\n  ammonite.$sess.cmd0$Helper.fibonacci_k(\u001b[32mcmd0.sc\u001b[39m:\u001b[32m3\u001b[39m)\n  ammonite.$sess.cmd0$Helper.$anonfun$fibonacci_k$1(\u001b[32mcmd0.sc\u001b[39m:\u001b[32m5\u001b[39m)\n  ammonite.$sess.cmd0$Helper.$anonfun$fibonacci_k$1$adapted(\u001b[32mcmd0.sc\u001b[39m:\u001b[32m5\u001b[39m)\n  ammonite.$sess.cmd0$Helper.fibonacci_k(\u001b[32mcmd0.sc\u001b[39m:\u001b[32m3\u001b[39m)\n  ammonite.$sess.cmd0$Helper.$anonfun$fibonacci_k$1(\u001b[32mcmd0.sc\u001b[39m:\u001b[32m5\u001b[39m)\n  ammonite.$sess.cmd0$Helper.$anonfun$fibonacci_k$1$adapted(\u001b[32mcmd0.sc\u001b[39m:\u001b[32m5\u001b[39m)\n  ammonite.$sess.cmd0$Helper.$anonfun$fibonacci_k$2(\u001b[32mcmd0.sc\u001b[39m:\u001b[32m5\u001b[39m)\n  ammonite.$sess.cmd0$Helper.$anonfun$fibonacci_k$2$adapted(\u001b[32mcmd0.sc\u001b[39m:\u001b[32m5\u001b[39m)\n  ammonite.$sess.cmd0$Helper.$anonfun$fibonacci_k$2(\u001b[32mcmd0.sc\u001b[39m:\u001b[32m5\u001b[39m)\n  ammonite.$sess.cmd0$Helper.$anonfun$fibonacci_k$2$adapted(\u001b[32mcmd0.sc\u001b[39m:\u001b[32m5\u001b[39m)\n  ammonite.$sess.cmd0$Helper.$anonfun$fibonacci_k$2(\u001b[32mcmd0.sc\u001b[39m:\u001b[32m5\u001b[39m)\n  ammonite.$sess.cmd0$Helper.$anonfun$fibonacci_k$2$adapted(\u001b[32mcmd0.sc\u001b[39m:\u001b[32m5\u001b[39m)\n  ammonite.$sess.cmd0$Helper.$anonfun$fibonacci_k$2(\u001b[32mcmd0.sc\u001b[39m:\u001b[32m5\u001b[39m)\n  ammonite.$sess.cmd0$Helper.$anonfun$fibonacci_k$2$adapted(\u001b[32mcmd0.sc\u001b[39m:\u001b[32m5\u001b[39m)\n  ammonite.$sess.cmd0$Helper.fibonacci_k(\u001b[32mcmd0.sc\u001b[39m:\u001b[32m3\u001b[39m)\n  ammonite.$sess.cmd0$Helper.$anonfun$fibonacci_k$1(\u001b[32mcmd0.sc\u001b[39m:\u001b[32m5\u001b[39m)\n  ammonite.$sess.cmd0$Helper.$anonfun$fibonacci_k$1$adapted(\u001b[32mcmd0.sc\u001b[39m:\u001b[32m5\u001b[39m)\n  ammonite.$sess.cmd0$Helper.fibonacci_k(\u001b[32mcmd0.sc\u001b[39m:\u001b[32m3\u001b[39m)\n  ammonite.$sess.cmd0$Helper.$anonfun$fibonacci_k$1(\u001b[32mcmd0.sc\u001b[39m:\u001b[32m5\u001b[39m)\n  ammonite.$sess.cmd0$Helper.$anonfun$fibonacci_k$1$adapted(\u001b[32mcmd0.sc\u001b[39m:\u001b[32m5\u001b[39m)\n  ammonite.$sess.cmd0$Helper.$anonfun$fibonacci_k$2(\u001b[32mcmd0.sc\u001b[39m:\u001b[32m5\u001b[39m)\n  ammonite.$sess.cmd0$Helper.$anonfun$fibonacci_k$2$adapted(\u001b[32mcmd0.sc\u001b[39m:\u001b[32m5\u001b[39m)\n  ammonite.$sess.cmd0$Helper.fibonacci_k(\u001b[32mcmd0.sc\u001b[39m:\u001b[32m3\u001b[39m)\n  ammonite.$sess.cmd0$Helper.$anonfun$fibonacci_k$1(\u001b[32mcmd0.sc\u001b[39m:\u001b[32m5\u001b[39m)\n  ammonite.$sess.cmd0$Helper.$anonfun$fibonacci_k$1$adapted(\u001b[32mcmd0.sc\u001b[39m:\u001b[32m5\u001b[39m)\n  ammonite.$sess.cmd0$Helper.$anonfun$fibonacci_k$2(\u001b[32mcmd0.sc\u001b[39m:\u001b[32m5\u001b[39m)\n  ammonite.$sess.cmd0$Helper.$anonfun$fibonacci_k$2$adapted(\u001b[32mcmd0.sc\u001b[39m:\u001b[32m5\u001b[39m)\n  ammonite.$sess.cmd0$Helper.fibonacci_k(\u001b[32mcmd0.sc\u001b[39m:\u001b[32m3\u001b[39m)\n  ammonite.$sess.cmd0$Helper.$anonfun$fibonacci_k$1(\u001b[32mcmd0.sc\u001b[39m:\u001b[32m5\u001b[39m)\n  ammonite.$sess.cmd0$Helper.$anonfun$fibonacci_k$1$adapted(\u001b[32mcmd0.sc\u001b[39m:\u001b[32m5\u001b[39m)\n  ammonite.$sess.cmd0$Helper.fibonacci_k(\u001b[32mcmd0.sc\u001b[39m:\u001b[32m3\u001b[39m)\n  ammonite.$sess.cmd0$Helper.$anonfun$fibonacci_k$1(\u001b[32mcmd0.sc\u001b[39m:\u001b[32m5\u001b[39m)\n  ammonite.$sess.cmd0$Helper.$anonfun$fibonacci_k$1$adapted(\u001b[32mcmd0.sc\u001b[39m:\u001b[32m5\u001b[39m)\n  ammonite.$sess.cmd0$Helper.$anonfun$fibonacci_k$2(\u001b[32mcmd0.sc\u001b[39m:\u001b[32m5\u001b[39m)\n  ammonite.$sess.cmd0$Helper.$anonfun$fibonacci_k$2$adapted(\u001b[32mcmd0.sc\u001b[39m:\u001b[32m5\u001b[39m)\n  ammonite.$sess.cmd0$Helper.$anonfun$fibonacci_k$2(\u001b[32mcmd0.sc\u001b[39m:\u001b[32m5\u001b[39m)\n  ammonite.$sess.cmd0$Helper.$anonfun$fibonacci_k$2$adapted(\u001b[32mcmd0.sc\u001b[39m:\u001b[32m5\u001b[39m)\n  ammonite.$sess.cmd0$Helper.fibonacci_k(\u001b[32mcmd0.sc\u001b[39m:\u001b[32m3\u001b[39m)\n  ammonite.$sess.cmd0$Helper.$anonfun$fibonacci_k$1(\u001b[32mcmd0.sc\u001b[39m:\u001b[32m5\u001b[39m)\n  ammonite.$sess.cmd0$Helper.$anonfun$fibonacci_k$1$adapted(\u001b[32mcmd0.sc\u001b[39m:\u001b[32m5\u001b[39m)\n  ammonite.$sess.cmd0$Helper.$anonfun$fibonacci_k$2(\u001b[32mcmd0.sc\u001b[39m:\u001b[32m5\u001b[39m)\n  ammonite.$sess.cmd0$Helper.$anonfun$fibonacci_k$2$adapted(\u001b[32mcmd0.sc\u001b[39m:\u001b[32m5\u001b[39m)\n  ammonite.$sess.cmd0$Helper.fibonacci_k(\u001b[32mcmd0.sc\u001b[39m:\u001b[32m3\u001b[39m)\n  ammonite.$sess.cmd0$Helper.$anonfun$fibonacci_k$1(\u001b[32mcmd0.sc\u001b[39m:\u001b[32m5\u001b[39m)\n  ammonite.$sess.cmd0$Helper.$anonfun$fibonacci_k$1$adapted(\u001b[32mcmd0.sc\u001b[39m:\u001b[32m5\u001b[39m)\n  ammonite.$sess.cmd0$Helper.fibonacci_k(\u001b[32mcmd0.sc\u001b[39m:\u001b[32m3\u001b[39m)\n  ammonite.$sess.cmd0$Helper.$anonfun$fibonacci_k$1(\u001b[32mcmd0.sc\u001b[39m:\u001b[32m5\u001b[39m)\n  ammonite.$sess.cmd0$Helper.$anonfun$fibonacci_k$1$adapted(\u001b[32mcmd0.sc\u001b[39m:\u001b[32m5\u001b[39m)\n  ammonite.$sess.cmd0$Helper.$anonfun$fibonacci_k$2(\u001b[32mcmd0.sc\u001b[39m:\u001b[32m5\u001b[39m)\n  ammonite.$sess.cmd0$Helper.$anonfun$fibonacci_k$2$adapted(\u001b[32mcmd0.sc\u001b[39m:\u001b[32m5\u001b[39m)\n  ammonite.$sess.cmd0$Helper.$anonfun$fibonacci_k$2(\u001b[32mcmd0.sc\u001b[39m:\u001b[32m5\u001b[39m)\n  ammonite.$sess.cmd0$Helper.$anonfun$fibonacci_k$2$adapted(\u001b[32mcmd0.sc\u001b[39m:\u001b[32m5\u001b[39m)\n  ammonite.$sess.cmd0$Helper.fibonacci_k(\u001b[32mcmd0.sc\u001b[39m:\u001b[32m3\u001b[39m)\n  ammonite.$sess.cmd0$Helper.$anonfun$fibonacci_k$1(\u001b[32mcmd0.sc\u001b[39m:\u001b[32m5\u001b[39m)\n  ammonite.$sess.cmd0$Helper.$anonfun$fibonacci_k$1$adapted(\u001b[32mcmd0.sc\u001b[39m:\u001b[32m5\u001b[39m)\n  ammonite.$sess.cmd0$Helper.fibonacci_k(\u001b[32mcmd0.sc\u001b[39m:\u001b[32m3\u001b[39m)\n  ammonite.$sess.cmd0$Helper.$anonfun$fibonacci_k$1(\u001b[32mcmd0.sc\u001b[39m:\u001b[32m5\u001b[39m)\n  ammonite.$sess.cmd0$Helper.$anonfun$fibonacci_k$1$adapted(\u001b[32mcmd0.sc\u001b[39m:\u001b[32m5\u001b[39m)\n  ammonite.$sess.cmd0$Helper.$anonfun$fibonacci_k$2(\u001b[32mcmd0.sc\u001b[39m:\u001b[32m5\u001b[39m)\n  ammonite.$sess.cmd0$Helper.$anonfun$fibonacci_k$2$adapted(\u001b[32mcmd0.sc\u001b[39m:\u001b[32m5\u001b[39m)\n  ammonite.$sess.cmd0$Helper.fibonacci_k(\u001b[32mcmd0.sc\u001b[39m:\u001b[32m3\u001b[39m)\n  ammonite.$sess.cmd0$Helper.$anonfun$fibonacci_k$1(\u001b[32mcmd0.sc\u001b[39m:\u001b[32m5\u001b[39m)\n  ammonite.$sess.cmd0$Helper.$anonfun$fibonacci_k$1$adapted(\u001b[32mcmd0.sc\u001b[39m:\u001b[32m5\u001b[39m)\n  ammonite.$sess.cmd0$Helper.$anonfun$fibonacci_k$2(\u001b[32mcmd0.sc\u001b[39m:\u001b[32m5\u001b[39m)\n  ammonite.$sess.cmd0$Helper.$anonfun$fibonacci_k$2$adapted(\u001b[32mcmd0.sc\u001b[39m:\u001b[32m5\u001b[39m)\n  ammonite.$sess.cmd0$Helper.fibonacci_k(\u001b[32mcmd0.sc\u001b[39m:\u001b[32m3\u001b[39m)\n  ammonite.$sess.cmd0$Helper.$anonfun$fibonacci_k$1(\u001b[32mcmd0.sc\u001b[39m:\u001b[32m5\u001b[39m)\n  ammonite.$sess.cmd0$Helper.$anonfun$fibonacci_k$1$adapted(\u001b[32mcmd0.sc\u001b[39m:\u001b[32m5\u001b[39m)\n  ammonite.$sess.cmd0$Helper.fibonacci_k(\u001b[32mcmd0.sc\u001b[39m:\u001b[32m3\u001b[39m)\n  ammonite.$sess.cmd0$Helper.$anonfun$fibonacci_k$1(\u001b[32mcmd0.sc\u001b[39m:\u001b[32m5\u001b[39m)\n  ammonite.$sess.cmd0$Helper.$anonfun$fibonacci_k$1$adapted(\u001b[32mcmd0.sc\u001b[39m:\u001b[32m5\u001b[39m)\n  ammonite.$sess.cmd0$Helper.$anonfun$fibonacci_k$2(\u001b[32mcmd0.sc\u001b[39m:\u001b[32m5\u001b[39m)\n  ammonite.$sess.cmd0$Helper.$anonfun$fibonacci_k$2$adapted(\u001b[32mcmd0.sc\u001b[39m:\u001b[32m5\u001b[39m)\n  ammonite.$sess.cmd0$Helper.$anonfun$fibonacci_k$2(\u001b[32mcmd0.sc\u001b[39m:\u001b[32m5\u001b[39m)\n  ammonite.$sess.cmd0$Helper.$anonfun$fibonacci_k$2$adapted(\u001b[32mcmd0.sc\u001b[39m:\u001b[32m5\u001b[39m)\n  ammonite.$sess.cmd0$Helper.$anonfun$fibonacci_k$2(\u001b[32mcmd0.sc\u001b[39m:\u001b[32m5\u001b[39m)\n  ammonite.$sess.cmd0$Helper.$anonfun$fibonacci_k$2$adapted(\u001b[32mcmd0.sc\u001b[39m:\u001b[32m5\u001b[39m)\n  ammonite.$sess.cmd0$Helper.fibonacci_k(\u001b[32mcmd0.sc\u001b[39m:\u001b[32m3\u001b[39m)\n  ammonite.$sess.cmd0$Helper.$anonfun$fibonacci_k$1(\u001b[32mcmd0.sc\u001b[39m:\u001b[32m5\u001b[39m)\n  ammonite.$sess.cmd0$Helper.$anonfun$fibonacci_k$1$adapted(\u001b[32mcmd0.sc\u001b[39m:\u001b[32m5\u001b[39m)\n  ammonite.$sess.cmd0$Helper.$anonfun$fibonacci_k$2(\u001b[32mcmd0.sc\u001b[39m:\u001b[32m5\u001b[39m)\n  ammonite.$sess.cmd0$Helper.$anonfun$fibonacci_k$2$adapted(\u001b[32mcmd0.sc\u001b[39m:\u001b[32m5\u001b[39m)\n  ammonite.$sess.cmd0$Helper.fibonacci_k(\u001b[32mcmd0.sc\u001b[39m:\u001b[32m3\u001b[39m)\n  ammonite.$sess.cmd0$Helper.$anonfun$fibonacci_k$1(\u001b[32mcmd0.sc\u001b[39m:\u001b[32m5\u001b[39m)\n  ammonite.$sess.cmd0$Helper.$anonfun$fibonacci_k$1$adapted(\u001b[32mcmd0.sc\u001b[39m:\u001b[32m5\u001b[39m)\n  ammonite.$sess.cmd0$Helper.fibonacci_k(\u001b[32mcmd0.sc\u001b[39m:\u001b[32m3\u001b[39m)\n  ammonite.$sess.cmd0$Helper.$anonfun$fibonacci_k$1(\u001b[32mcmd0.sc\u001b[39m:\u001b[32m5\u001b[39m)\n  ammonite.$sess.cmd0$Helper.$anonfun$fibonacci_k$1$adapted(\u001b[32mcmd0.sc\u001b[39m:\u001b[32m5\u001b[39m)\n  ammonite.$sess.cmd0$Helper.$anonfun$fibonacci_k$2(\u001b[32mcmd0.sc\u001b[39m:\u001b[32m5\u001b[39m)\n  ammonite.$sess.cmd0$Helper.$anonfun$fibonacci_k$2$adapted(\u001b[32mcmd0.sc\u001b[39m:\u001b[32m5\u001b[39m)\n  ammonite.$sess.cmd0$Helper.$anonfun$fibonacci_k$2(\u001b[32mcmd0.sc\u001b[39m:\u001b[32m5\u001b[39m)\n  ammonite.$sess.cmd0$Helper.$anonfun$fibonacci_k$2$adapted(\u001b[32mcmd0.sc\u001b[39m:\u001b[32m5\u001b[39m)\n  ammonite.$sess.cmd0$Helper.fibonacci_k(\u001b[32mcmd0.sc\u001b[39m:\u001b[32m3\u001b[39m)\n  ammonite.$sess.cmd0$Helper.$anonfun$fibonacci_k$1(\u001b[32mcmd0.sc\u001b[39m:\u001b[32m5\u001b[39m)\n  ammonite.$sess.cmd0$Helper.$anonfun$fibonacci_k$1$adapted(\u001b[32mcmd0.sc\u001b[39m:\u001b[32m5\u001b[39m)\n  ammonite.$sess.cmd0$Helper.fibonacci_k(\u001b[32mcmd0.sc\u001b[39m:\u001b[32m3\u001b[39m)\n  ammonite.$sess.cmd0$Helper.$anonfun$fibonacci_k$1(\u001b[32mcmd0.sc\u001b[39m:\u001b[32m5\u001b[39m)\n  ammonite.$sess.cmd0$Helper.$anonfun$fibonacci_k$1$adapted(\u001b[32mcmd0.sc\u001b[39m:\u001b[32m5\u001b[39m)\n  ammonite.$sess.cmd0$Helper.$anonfun$fibonacci_k$2(\u001b[32mcmd0.sc\u001b[39m:\u001b[32m5\u001b[39m)\n  ammonite.$sess.cmd0$Helper.$anonfun$fibonacci_k$2$adapted(\u001b[32mcmd0.sc\u001b[39m:\u001b[32m5\u001b[39m)\n  ammonite.$sess.cmd0$Helper.fibonacci_k(\u001b[32mcmd0.sc\u001b[39m:\u001b[32m3\u001b[39m)\n  ammonite.$sess.cmd0$Helper.$anonfun$fibonacci_k$1(\u001b[32mcmd0.sc\u001b[39m:\u001b[32m5\u001b[39m)\n  ammonite.$sess.cmd0$Helper.$anonfun$fibonacci_k$1$adapted(\u001b[32mcmd0.sc\u001b[39m:\u001b[32m5\u001b[39m)\n  ammonite.$sess.cmd0$Helper.$anonfun$fibonacci_k$2(\u001b[32mcmd0.sc\u001b[39m:\u001b[32m5\u001b[39m)\n  ammonite.$sess.cmd0$Helper.$anonfun$fibonacci_k$2$adapted(\u001b[32mcmd0.sc\u001b[39m:\u001b[32m5\u001b[39m)\n  ammonite.$sess.cmd0$Helper.fibonacci_k(\u001b[32mcmd0.sc\u001b[39m:\u001b[32m3\u001b[39m)\n  ammonite.$sess.cmd0$Helper.$anonfun$fibonacci_k$1(\u001b[32mcmd0.sc\u001b[39m:\u001b[32m5\u001b[39m)\n  ammonite.$sess.cmd0$Helper.$anonfun$fibonacci_k$1$adapted(\u001b[32mcmd0.sc\u001b[39m:\u001b[32m5\u001b[39m)\n  ammonite.$sess.cmd0$Helper.fibonacci_k(\u001b[32mcmd0.sc\u001b[39m:\u001b[32m3\u001b[39m)\n  ammonite.$sess.cmd0$Helper.$anonfun$fibonacci_k$1(\u001b[32mcmd0.sc\u001b[39m:\u001b[32m5\u001b[39m)\n  ammonite.$sess.cmd0$Helper.$anonfun$fibonacci_k$1$adapted(\u001b[32mcmd0.sc\u001b[39m:\u001b[32m5\u001b[39m)\n  ammonite.$sess.cmd0$Helper.$anonfun$fibonacci_k$2(\u001b[32mcmd0.sc\u001b[39m:\u001b[32m5\u001b[39m)\n  ammonite.$sess.cmd0$Helper.$anonfun$fibonacci_k$2$adapted(\u001b[32mcmd0.sc\u001b[39m:\u001b[32m5\u001b[39m)\n  ammonite.$sess.cmd0$Helper.$anonfun$fibonacci_k$2(\u001b[32mcmd0.sc\u001b[39m:\u001b[32m5\u001b[39m)\n  ammonite.$sess.cmd0$Helper.$anonfun$fibonacci_k$2$adapted(\u001b[32mcmd0.sc\u001b[39m:\u001b[32m5\u001b[39m)\n  ammonite.$sess.cmd0$Helper.$anonfun$fibonacci_k$2(\u001b[32mcmd0.sc\u001b[39m:\u001b[32m5\u001b[39m)\n  ammonite.$sess.cmd0$Helper.$anonfun$fibonacci_k$2$adapted(\u001b[32mcmd0.sc\u001b[39m:\u001b[32m5\u001b[39m)\n  ammonite.$sess.cmd0$Helper.fibonacci_k(\u001b[32mcmd0.sc\u001b[39m:\u001b[32m3\u001b[39m)\n  ammonite.$sess.cmd0$Helper.$anonfun$fibonacci_k$1(\u001b[32mcmd0.sc\u001b[39m:\u001b[32m5\u001b[39m)\n  ammonite.$sess.cmd0$Helper.$anonfun$fibonacci_k$1$adapted(\u001b[32mcmd0.sc\u001b[39m:\u001b[32m5\u001b[39m)\n  ammonite.$sess.cmd0$Helper.fibonacci_k(\u001b[32mcmd0.sc\u001b[39m:\u001b[32m3\u001b[39m)\n  ammonite.$sess.cmd0$Helper.$anonfun$fibonacci_k$1(\u001b[32mcmd0.sc\u001b[39m:\u001b[32m5\u001b[39m)\n  ammonite.$sess.cmd0$Helper.$anonfun$fibonacci_k$1$adapted(\u001b[32mcmd0.sc\u001b[39m:\u001b[32m5\u001b[39m)\n  ammonite.$sess.cmd0$Helper.$anonfun$fibonacci_k$2(\u001b[32mcmd0.sc\u001b[39m:\u001b[32m5\u001b[39m)\n  ammonite.$sess.cmd0$Helper.$anonfun$fibonacci_k$2$adapted(\u001b[32mcmd0.sc\u001b[39m:\u001b[32m5\u001b[39m)\n  ammonite.$sess.cmd0$Helper.fibonacci_k(\u001b[32mcmd0.sc\u001b[39m:\u001b[32m3\u001b[39m)\n  ammonite.$sess.cmd0$Helper.$anonfun$fibonacci_k$1(\u001b[32mcmd0.sc\u001b[39m:\u001b[32m5\u001b[39m)\n  ammonite.$sess.cmd0$Helper.$anonfun$fibonacci_k$1$adapted(\u001b[32mcmd0.sc\u001b[39m:\u001b[32m5\u001b[39m)\n  ammonite.$sess.cmd0$Helper.$anonfun$fibonacci_k$2(\u001b[32mcmd0.sc\u001b[39m:\u001b[32m5\u001b[39m)\n  ammonite.$sess.cmd0$Helper.$anonfun$fibonacci_k$2$adapted(\u001b[32mcmd0.sc\u001b[39m:\u001b[32m5\u001b[39m)\n  ammonite.$sess.cmd0$Helper.fibonacci_k(\u001b[32mcmd0.sc\u001b[39m:\u001b[32m3\u001b[39m)\n  ammonite.$sess.cmd0$Helper.$anonfun$fibonacci_k$1(\u001b[32mcmd0.sc\u001b[39m:\u001b[32m5\u001b[39m)\n  ammonite.$sess.cmd0$Helper.$anonfun$fibonacci_k$1$adapted(\u001b[32mcmd0.sc\u001b[39m:\u001b[32m5\u001b[39m)\n  ammonite.$sess.cmd0$Helper.fibonacci_k(\u001b[32mcmd0.sc\u001b[39m:\u001b[32m3\u001b[39m)\n  ammonite.$sess.cmd0$Helper.$anonfun$fibonacci_k$1(\u001b[32mcmd0.sc\u001b[39m:\u001b[32m5\u001b[39m)\n  ammonite.$sess.cmd0$Helper.$anonfun$fibonacci_k$1$adapted(\u001b[32mcmd0.sc\u001b[39m:\u001b[32m5\u001b[39m)\n  ammonite.$sess.cmd0$Helper.$anonfun$fibonacci_k$2(\u001b[32mcmd0.sc\u001b[39m:\u001b[32m5\u001b[39m)\n  ammonite.$sess.cmd0$Helper.$anonfun$fibonacci_k$2$adapted(\u001b[32mcmd0.sc\u001b[39m:\u001b[32m5\u001b[39m)\n  ammonite.$sess.cmd0$Helper.$anonfun$fibonacci_k$2(\u001b[32mcmd0.sc\u001b[39m:\u001b[32m5\u001b[39m)\n  ammonite.$sess.cmd0$Helper.$anonfun$fibonacci_k$2$adapted(\u001b[32mcmd0.sc\u001b[39m:\u001b[32m5\u001b[39m)\n  ammonite.$sess.cmd0$Helper.fibonacci_k(\u001b[32mcmd0.sc\u001b[39m:\u001b[32m3\u001b[39m)\n  ammonite.$sess.cmd0$Helper.$anonfun$fibonacci_k$1(\u001b[32mcmd0.sc\u001b[39m:\u001b[32m5\u001b[39m)\n  ammonite.$sess.cmd0$Helper.$anonfun$fibonacci_k$1$adapted(\u001b[32mcmd0.sc\u001b[39m:\u001b[32m5\u001b[39m)\n  ammonite.$sess.cmd0$Helper.$anonfun$fibonacci_k$2(\u001b[32mcmd0.sc\u001b[39m:\u001b[32m5\u001b[39m)\n  ammonite.$sess.cmd0$Helper.$anonfun$fibonacci_k$2$adapted(\u001b[32mcmd0.sc\u001b[39m:\u001b[32m5\u001b[39m)\n  ammonite.$sess.cmd0$Helper.fibonacci_k(\u001b[32mcmd0.sc\u001b[39m:\u001b[32m3\u001b[39m)\n  ammonite.$sess.cmd0$Helper.$anonfun$fibonacci_k$1(\u001b[32mcmd0.sc\u001b[39m:\u001b[32m5\u001b[39m)\n  ammonite.$sess.cmd0$Helper.$anonfun$fibonacci_k$1$adapted(\u001b[32mcmd0.sc\u001b[39m:\u001b[32m5\u001b[39m)\n  ammonite.$sess.cmd0$Helper.fibonacci_k(\u001b[32mcmd0.sc\u001b[39m:\u001b[32m3\u001b[39m)\n  ammonite.$sess.cmd0$Helper.$anonfun$fibonacci_k$1(\u001b[32mcmd0.sc\u001b[39m:\u001b[32m5\u001b[39m)\n  ammonite.$sess.cmd0$Helper.$anonfun$fibonacci_k$1$adapted(\u001b[32mcmd0.sc\u001b[39m:\u001b[32m5\u001b[39m)\n  ammonite.$sess.cmd0$Helper.$anonfun$fibonacci_k$2(\u001b[32mcmd0.sc\u001b[39m:\u001b[32m5\u001b[39m)\n  ammonite.$sess.cmd0$Helper.$anonfun$fibonacci_k$2$adapted(\u001b[32mcmd0.sc\u001b[39m:\u001b[32m5\u001b[39m)\n  ammonite.$sess.cmd0$Helper.$anonfun$fibonacci_k$2(\u001b[32mcmd0.sc\u001b[39m:\u001b[32m5\u001b[39m)\n  ammonite.$sess.cmd0$Helper.$anonfun$fibonacci_k$2$adapted(\u001b[32mcmd0.sc\u001b[39m:\u001b[32m5\u001b[39m)\n  ammonite.$sess.cmd0$Helper.fibonacci_k(\u001b[32mcmd0.sc\u001b[39m:\u001b[32m3\u001b[39m)\n  ammonite.$sess.cmd0$Helper.$anonfun$fibonacci_k$1(\u001b[32mcmd0.sc\u001b[39m:\u001b[32m5\u001b[39m)\n  ammonite.$sess.cmd0$Helper.$anonfun$fibonacci_k$1$adapted(\u001b[32mcmd0.sc\u001b[39m:\u001b[32m5\u001b[39m)\n  ammonite.$sess.cmd0$Helper.fibonacci_k(\u001b[32mcmd0.sc\u001b[39m:\u001b[32m3\u001b[39m)\n  ammonite.$sess.cmd0$Helper.$anonfun$fibonacci_k$1(\u001b[32mcmd0.sc\u001b[39m:\u001b[32m5\u001b[39m)\n  ammonite.$sess.cmd0$Helper.$anonfun$fibonacci_k$1$adapted(\u001b[32mcmd0.sc\u001b[39m:\u001b[32m5\u001b[39m)\n  ammonite.$sess.cmd0$Helper.$anonfun$fibonacci_k$2(\u001b[32mcmd0.sc\u001b[39m:\u001b[32m5\u001b[39m)\n  ammonite.$sess.cmd0$Helper.$anonfun$fibonacci_k$2$adapted(\u001b[32mcmd0.sc\u001b[39m:\u001b[32m5\u001b[39m)\n  ammonite.$sess.cmd0$Helper.fibonacci_k(\u001b[32mcmd0.sc\u001b[39m:\u001b[32m3\u001b[39m)\n  ammonite.$sess.cmd0$Helper.$anonfun$fibonacci_k$1(\u001b[32mcmd0.sc\u001b[39m:\u001b[32m5\u001b[39m)\n  ammonite.$sess.cmd0$Helper.$anonfun$fibonacci_k$1$adapted(\u001b[32mcmd0.sc\u001b[39m:\u001b[32m5\u001b[39m)\n  ammonite.$sess.cmd0$Helper.$anonfun$fibonacci_k$2(\u001b[32mcmd0.sc\u001b[39m:\u001b[32m5\u001b[39m)\n  ammonite.$sess.cmd0$Helper.$anonfun$fibonacci_k$2$adapted(\u001b[32mcmd0.sc\u001b[39m:\u001b[32m5\u001b[39m)\n  ammonite.$sess.cmd0$Helper.fibonacci_k(\u001b[32mcmd0.sc\u001b[39m:\u001b[32m3\u001b[39m)\n  ammonite.$sess.cmd0$Helper.$anonfun$fibonacci_k$1(\u001b[32mcmd0.sc\u001b[39m:\u001b[32m5\u001b[39m)\n  ammonite.$sess.cmd0$Helper.$anonfun$fibonacci_k$1$adapted(\u001b[32mcmd0.sc\u001b[39m:\u001b[32m5\u001b[39m)\n  ammonite.$sess.cmd0$Helper.fibonacci_k(\u001b[32mcmd0.sc\u001b[39m:\u001b[32m3\u001b[39m)\n  ammonite.$sess.cmd0$Helper.$anonfun$fibonacci_k$1(\u001b[32mcmd0.sc\u001b[39m:\u001b[32m5\u001b[39m)\n  ammonite.$sess.cmd0$Helper.$anonfun$fibonacci_k$1$adapted(\u001b[32mcmd0.sc\u001b[39m:\u001b[32m5\u001b[39m)\n  ammonite.$sess.cmd0$Helper.$anonfun$fibonacci_k$2(\u001b[32mcmd0.sc\u001b[39m:\u001b[32m5\u001b[39m)\n  ammonite.$sess.cmd0$Helper.$anonfun$fibonacci_k$2$adapted(\u001b[32mcmd0.sc\u001b[39m:\u001b[32m5\u001b[39m)\n  ammonite.$sess.cmd0$Helper.$anonfun$fibonacci_k$2(\u001b[32mcmd0.sc\u001b[39m:\u001b[32m5\u001b[39m)\n  ammonite.$sess.cmd0$Helper.$anonfun$fibonacci_k$2$adapted(\u001b[32mcmd0.sc\u001b[39m:\u001b[32m5\u001b[39m)\n  ammonite.$sess.cmd0$Helper.$anonfun$fibonacci_k$2(\u001b[32mcmd0.sc\u001b[39m:\u001b[32m5\u001b[39m)\n  ammonite.$sess.cmd0$Helper.$anonfun$fibonacci_k$2$adapted(\u001b[32mcmd0.sc\u001b[39m:\u001b[32m5\u001b[39m)\n  ammonite.$sess.cmd0$Helper.$anonfun$fibonacci_k$2(\u001b[32mcmd0.sc\u001b[39m:\u001b[32m5\u001b[39m)\n  ammonite.$sess.cmd0$Helper.$anonfun$fibonacci_k$2$adapted(\u001b[32mcmd0.sc\u001b[39m:\u001b[32m5\u001b[39m)\n  ammonite.$sess.cmd0$Helper.$anonfun$fibonacci_k$2(\u001b[32mcmd0.sc\u001b[39m:\u001b[32m5\u001b[39m)\n  ammonite.$sess.cmd0$Helper.$anonfun$fibonacci_k$2$adapted(\u001b[32mcmd0.sc\u001b[39m:\u001b[32m5\u001b[39m)\n  ammonite.$sess.cmd0$Helper.fibonacci_k(\u001b[32mcmd0.sc\u001b[39m:\u001b[32m3\u001b[39m)\n  ammonite.$sess.cmd0$Helper.$anonfun$fibonacci_k$1(\u001b[32mcmd0.sc\u001b[39m:\u001b[32m5\u001b[39m)\n  ammonite.$sess.cmd0$Helper.$anonfun$fibonacci_k$1$adapted(\u001b[32mcmd0.sc\u001b[39m:\u001b[32m5\u001b[39m)\n  ammonite.$sess.cmd0$Helper.fibonacci_k(\u001b[32mcmd0.sc\u001b[39m:\u001b[32m3\u001b[39m)\n  ammonite.$sess.cmd0$Helper.$anonfun$fibonacci_k$1(\u001b[32mcmd0.sc\u001b[39m:\u001b[32m5\u001b[39m)\n  ammonite.$sess.cmd0$Helper.$anonfun$fibonacci_k$1$adapted(\u001b[32mcmd0.sc\u001b[39m:\u001b[32m5\u001b[39m)\n  ammonite.$sess.cmd0$Helper.$anonfun$fibonacci_k$2(\u001b[32mcmd0.sc\u001b[39m:\u001b[32m5\u001b[39m)\n  ammonite.$sess.cmd0$Helper.$anonfun$fibonacci_k$2$adapted(\u001b[32mcmd0.sc\u001b[39m:\u001b[32m5\u001b[39m)\n  ammonite.$sess.cmd0$Helper.fibonacci_k(\u001b[32mcmd0.sc\u001b[39m:\u001b[32m3\u001b[39m)\n  ammonite.$sess.cmd0$Helper.$anonfun$fibonacci_k$1(\u001b[32mcmd0.sc\u001b[39m:\u001b[32m5\u001b[39m)\n  ammonite.$sess.cmd0$Helper.$anonfun$fibonacci_k$1$adapted(\u001b[32mcmd0.sc\u001b[39m:\u001b[32m5\u001b[39m)\n  ammonite.$sess.cmd0$Helper.$anonfun$fibonacci_k$2(\u001b[32mcmd0.sc\u001b[39m:\u001b[32m5\u001b[39m)\n  ammonite.$sess.cmd0$Helper.$anonfun$fibonacci_k$2$adapted(\u001b[32mcmd0.sc\u001b[39m:\u001b[32m5\u001b[39m)\n  ammonite.$sess.cmd0$Helper.fibonacci_k(\u001b[32mcmd0.sc\u001b[39m:\u001b[32m3\u001b[39m)\n  ammonite.$sess.cmd0$Helper.$anonfun$fibonacci_k$1(\u001b[32mcmd0.sc\u001b[39m:\u001b[32m5\u001b[39m)\n  ammonite.$sess.cmd0$Helper.$anonfun$fibonacci_k$1$adapted(\u001b[32mcmd0.sc\u001b[39m:\u001b[32m5\u001b[39m)\n  ammonite.$sess.cmd0$Helper.fibonacci_k(\u001b[32mcmd0.sc\u001b[39m:\u001b[32m3\u001b[39m)\n  ammonite.$sess.cmd0$Helper.$anonfun$fibonacci_k$1(\u001b[32mcmd0.sc\u001b[39m:\u001b[32m5\u001b[39m)\n  ammonite.$sess.cmd0$Helper.$anonfun$fibonacci_k$1$adapted(\u001b[32mcmd0.sc\u001b[39m:\u001b[32m5\u001b[39m)\n  ammonite.$sess.cmd0$Helper.$anonfun$fibonacci_k$2(\u001b[32mcmd0.sc\u001b[39m:\u001b[32m5\u001b[39m)\n  ammonite.$sess.cmd0$Helper.$anonfun$fibonacci_k$2$adapted(\u001b[32mcmd0.sc\u001b[39m:\u001b[32m5\u001b[39m)\n  ammonite.$sess.cmd0$Helper.$anonfun$fibonacci_k$2(\u001b[32mcmd0.sc\u001b[39m:\u001b[32m5\u001b[39m)\n  ammonite.$sess.cmd0$Helper.$anonfun$fibonacci_k$2$adapted(\u001b[32mcmd0.sc\u001b[39m:\u001b[32m5\u001b[39m)\n  ammonite.$sess.cmd0$Helper.fibonacci_k(\u001b[32mcmd0.sc\u001b[39m:\u001b[32m3\u001b[39m)\n  ammonite.$sess.cmd0$Helper.$anonfun$fibonacci_k$1(\u001b[32mcmd0.sc\u001b[39m:\u001b[32m5\u001b[39m)\n  ammonite.$sess.cmd0$Helper.$anonfun$fibonacci_k$1$adapted(\u001b[32mcmd0.sc\u001b[39m:\u001b[32m5\u001b[39m)\n  ammonite.$sess.cmd0$Helper.$anonfun$fibonacci_k$2(\u001b[32mcmd0.sc\u001b[39m:\u001b[32m5\u001b[39m)\n  ammonite.$sess.cmd0$Helper.$anonfun$fibonacci_k$2$adapted(\u001b[32mcmd0.sc\u001b[39m:\u001b[32m5\u001b[39m)\n  ammonite.$sess.cmd0$Helper.fibonacci_k(\u001b[32mcmd0.sc\u001b[39m:\u001b[32m3\u001b[39m)\n  ammonite.$sess.cmd0$Helper.$anonfun$fibonacci_k$1(\u001b[32mcmd0.sc\u001b[39m:\u001b[32m5\u001b[39m)\n  ammonite.$sess.cmd0$Helper.$anonfun$fibonacci_k$1$adapted(\u001b[32mcmd0.sc\u001b[39m:\u001b[32m5\u001b[39m)\n  ammonite.$sess.cmd0$Helper.fibonacci_k(\u001b[32mcmd0.sc\u001b[39m:\u001b[32m3\u001b[39m)\n  ammonite.$sess.cmd0$Helper.$anonfun$fibonacci_k$1(\u001b[32mcmd0.sc\u001b[39m:\u001b[32m5\u001b[39m)\n  ammonite.$sess.cmd0$Helper.$anonfun$fibonacci_k$1$adapted(\u001b[32mcmd0.sc\u001b[39m:\u001b[32m5\u001b[39m)\n  ammonite.$sess.cmd0$Helper.$anonfun$fibonacci_k$2(\u001b[32mcmd0.sc\u001b[39m:\u001b[32m5\u001b[39m)\n  ammonite.$sess.cmd0$Helper.$anonfun$fibonacci_k$2$adapted(\u001b[32mcmd0.sc\u001b[39m:\u001b[32m5\u001b[39m)\n  ammonite.$sess.cmd0$Helper.$anonfun$fibonacci_k$2(\u001b[32mcmd0.sc\u001b[39m:\u001b[32m5\u001b[39m)\n  ammonite.$sess.cmd0$Helper.$anonfun$fibonacci_k$2$adapted(\u001b[32mcmd0.sc\u001b[39m:\u001b[32m5\u001b[39m)\n  ammonite.$sess.cmd0$Helper.fibonacci_k(\u001b[32mcmd0.sc\u001b[39m:\u001b[32m3\u001b[39m)\n  ammonite.$sess.cmd0$Helper.$anonfun$fibonacci_k$1(\u001b[32mcmd0.sc\u001b[39m:\u001b[32m5\u001b[39m)\n  ammonite.$sess.cmd0$Helper.$anonfun$fibonacci_k$1$adapted(\u001b[32mcmd0.sc\u001b[39m:\u001b[32m5\u001b[39m)\n  ammonite.$sess.cmd0$Helper.fibonacci_k(\u001b[32mcmd0.sc\u001b[39m:\u001b[32m3\u001b[39m)\n  ammonite.$sess.cmd0$Helper.$anonfun$fibonacci_k$1(\u001b[32mcmd0.sc\u001b[39m:\u001b[32m5\u001b[39m)\n  ammonite.$sess.cmd0$Helper.$anonfun$fibonacci_k$1$adapted(\u001b[32mcmd0.sc\u001b[39m:\u001b[32m5\u001b[39m)\n  ammonite.$sess.cmd0$Helper.$anonfun$fibonacci_k$2(\u001b[32mcmd0.sc\u001b[39m:\u001b[32m5\u001b[39m)\n  ammonite.$sess.cmd0$Helper.$anonfun$fibonacci_k$2$adapted(\u001b[32mcmd0.sc\u001b[39m:\u001b[32m5\u001b[39m)\n  ammonite.$sess.cmd0$Helper.fibonacci_k(\u001b[32mcmd0.sc\u001b[39m:\u001b[32m3\u001b[39m)\n  ammonite.$sess.cmd0$Helper.$anonfun$fibonacci_k$1(\u001b[32mcmd0.sc\u001b[39m:\u001b[32m5\u001b[39m)\n  ammonite.$sess.cmd0$Helper.$anonfun$fibonacci_k$1$adapted(\u001b[32mcmd0.sc\u001b[39m:\u001b[32m5\u001b[39m)\n  ammonite.$sess.cmd0$Helper.$anonfun$fibonacci_k$2(\u001b[32mcmd0.sc\u001b[39m:\u001b[32m5\u001b[39m)\n  ammonite.$sess.cmd0$Helper.$anonfun$fibonacci_k$2$adapted(\u001b[32mcmd0.sc\u001b[39m:\u001b[32m5\u001b[39m)\n  ammonite.$sess.cmd0$Helper.fibonacci_k(\u001b[32mcmd0.sc\u001b[39m:\u001b[32m3\u001b[39m)\n  ammonite.$sess.cmd0$Helper.$anonfun$fibonacci_k$1(\u001b[32mcmd0.sc\u001b[39m:\u001b[32m5\u001b[39m)\n  ammonite.$sess.cmd0$Helper.$anonfun$fibonacci_k$1$adapted(\u001b[32mcmd0.sc\u001b[39m:\u001b[32m5\u001b[39m)\n  ammonite.$sess.cmd0$Helper.fibonacci_k(\u001b[32mcmd0.sc\u001b[39m:\u001b[32m3\u001b[39m)\n  ammonite.$sess.cmd0$Helper.$anonfun$fibonacci_k$1(\u001b[32mcmd0.sc\u001b[39m:\u001b[32m5\u001b[39m)\n  ammonite.$sess.cmd0$Helper.$anonfun$fibonacci_k$1$adapted(\u001b[32mcmd0.sc\u001b[39m:\u001b[32m5\u001b[39m)\n  ammonite.$sess.cmd0$Helper.$anonfun$fibonacci_k$2(\u001b[32mcmd0.sc\u001b[39m:\u001b[32m5\u001b[39m)\n  ammonite.$sess.cmd0$Helper.$anonfun$fibonacci_k$2$adapted(\u001b[32mcmd0.sc\u001b[39m:\u001b[32m5\u001b[39m)\n  ammonite.$sess.cmd0$Helper.$anonfun$fibonacci_k$2(\u001b[32mcmd0.sc\u001b[39m:\u001b[32m5\u001b[39m)\n  ammonite.$sess.cmd0$Helper.$anonfun$fibonacci_k$2$adapted(\u001b[32mcmd0.sc\u001b[39m:\u001b[32m5\u001b[39m)\n  ammonite.$sess.cmd0$Helper.$anonfun$fibonacci_k$2(\u001b[32mcmd0.sc\u001b[39m:\u001b[32m5\u001b[39m)\n  ammonite.$sess.cmd0$Helper.$anonfun$fibonacci_k$2$adapted(\u001b[32mcmd0.sc\u001b[39m:\u001b[32m5\u001b[39m)\n  ammonite.$sess.cmd0$Helper.fibonacci_k(\u001b[32mcmd0.sc\u001b[39m:\u001b[32m3\u001b[39m)\n  ammonite.$sess.cmd0$Helper.$anonfun$fibonacci_k$1(\u001b[32mcmd0.sc\u001b[39m:\u001b[32m5\u001b[39m)\n  ammonite.$sess.cmd0$Helper.$anonfun$fibonacci_k$1$adapted(\u001b[32mcmd0.sc\u001b[39m:\u001b[32m5\u001b[39m)\n  ammonite.$sess.cmd0$Helper.$anonfun$fibonacci_k$2(\u001b[32mcmd0.sc\u001b[39m:\u001b[32m5\u001b[39m)\n  ammonite.$sess.cmd0$Helper.$anonfun$fibonacci_k$2$adapted(\u001b[32mcmd0.sc\u001b[39m:\u001b[32m5\u001b[39m)\n  ammonite.$sess.cmd0$Helper.fibonacci_k(\u001b[32mcmd0.sc\u001b[39m:\u001b[32m3\u001b[39m)\n  ammonite.$sess.cmd0$Helper.$anonfun$fibonacci_k$1(\u001b[32mcmd0.sc\u001b[39m:\u001b[32m5\u001b[39m)\n  ammonite.$sess.cmd0$Helper.$anonfun$fibonacci_k$1$adapted(\u001b[32mcmd0.sc\u001b[39m:\u001b[32m5\u001b[39m)\n  ammonite.$sess.cmd0$Helper.fibonacci_k(\u001b[32mcmd0.sc\u001b[39m:\u001b[32m3\u001b[39m)\n  ammonite.$sess.cmd0$Helper.$anonfun$fibonacci_k$1(\u001b[32mcmd0.sc\u001b[39m:\u001b[32m5\u001b[39m)\n  ammonite.$sess.cmd0$Helper.$anonfun$fibonacci_k$1$adapted(\u001b[32mcmd0.sc\u001b[39m:\u001b[32m5\u001b[39m)\n  ammonite.$sess.cmd0$Helper.$anonfun$fibonacci_k$2(\u001b[32mcmd0.sc\u001b[39m:\u001b[32m5\u001b[39m)\n  ammonite.$sess.cmd0$Helper.$anonfun$fibonacci_k$2$adapted(\u001b[32mcmd0.sc\u001b[39m:\u001b[32m5\u001b[39m)\n  ammonite.$sess.cmd0$Helper.$anonfun$fibonacci_k$2(\u001b[32mcmd0.sc\u001b[39m:\u001b[32m5\u001b[39m)\n  ammonite.$sess.cmd0$Helper.$anonfun$fibonacci_k$2$adapted(\u001b[32mcmd0.sc\u001b[39m:\u001b[32m5\u001b[39m)\n  ammonite.$sess.cmd0$Helper.fibonacci_k(\u001b[32mcmd0.sc\u001b[39m:\u001b[32m3\u001b[39m)\n  ammonite.$sess.cmd0$Helper.$anonfun$fibonacci_k$1(\u001b[32mcmd0.sc\u001b[39m:\u001b[32m5\u001b[39m)\n  ammonite.$sess.cmd0$Helper.$anonfun$fibonacci_k$1$adapted(\u001b[32mcmd0.sc\u001b[39m:\u001b[32m5\u001b[39m)\n  ammonite.$sess.cmd0$Helper.fibonacci_k(\u001b[32mcmd0.sc\u001b[39m:\u001b[32m3\u001b[39m)\n  ammonite.$sess.cmd0$Helper.$anonfun$fibonacci_k$1(\u001b[32mcmd0.sc\u001b[39m:\u001b[32m5\u001b[39m)\n  ammonite.$sess.cmd0$Helper.$anonfun$fibonacci_k$1$adapted(\u001b[32mcmd0.sc\u001b[39m:\u001b[32m5\u001b[39m)\n  ammonite.$sess.cmd0$Helper.$anonfun$fibonacci_k$2(\u001b[32mcmd0.sc\u001b[39m:\u001b[32m5\u001b[39m)\n  ammonite.$sess.cmd0$Helper.$anonfun$fibonacci_k$2$adapted(\u001b[32mcmd0.sc\u001b[39m:\u001b[32m5\u001b[39m)\n  ammonite.$sess.cmd0$Helper.fibonacci_k(\u001b[32mcmd0.sc\u001b[39m:\u001b[32m3\u001b[39m)\n  ammonite.$sess.cmd0$Helper.$anonfun$fibonacci_k$1(\u001b[32mcmd0.sc\u001b[39m:\u001b[32m5\u001b[39m)\n  ammonite.$sess.cmd0$Helper.$anonfun$fibonacci_k$1$adapted(\u001b[32mcmd0.sc\u001b[39m:\u001b[32m5\u001b[39m)\n  ammonite.$sess.cmd0$Helper.$anonfun$fibonacci_k$2(\u001b[32mcmd0.sc\u001b[39m:\u001b[32m5\u001b[39m)\n  ammonite.$sess.cmd0$Helper.$anonfun$fibonacci_k$2$adapted(\u001b[32mcmd0.sc\u001b[39m:\u001b[32m5\u001b[39m)\n  ammonite.$sess.cmd0$Helper.fibonacci_k(\u001b[32mcmd0.sc\u001b[39m:\u001b[32m3\u001b[39m)\n  ammonite.$sess.cmd0$Helper.$anonfun$fibonacci_k$1(\u001b[32mcmd0.sc\u001b[39m:\u001b[32m5\u001b[39m)\n  ammonite.$sess.cmd0$Helper.$anonfun$fibonacci_k$1$adapted(\u001b[32mcmd0.sc\u001b[39m:\u001b[32m5\u001b[39m)\n  ammonite.$sess.cmd0$Helper.fibonacci_k(\u001b[32mcmd0.sc\u001b[39m:\u001b[32m3\u001b[39m)\n  ammonite.$sess.cmd0$Helper.$anonfun$fibonacci_k$1(\u001b[32mcmd0.sc\u001b[39m:\u001b[32m5\u001b[39m)\n  ammonite.$sess.cmd0$Helper.$anonfun$fibonacci_k$1$adapted(\u001b[32mcmd0.sc\u001b[39m:\u001b[32m5\u001b[39m)\n  ammonite.$sess.cmd0$Helper.$anonfun$fibonacci_k$2(\u001b[32mcmd0.sc\u001b[39m:\u001b[32m5\u001b[39m)\n  ammonite.$sess.cmd0$Helper.$anonfun$fibonacci_k$2$adapted(\u001b[32mcmd0.sc\u001b[39m:\u001b[32m5\u001b[39m)\n  ammonite.$sess.cmd0$Helper.$anonfun$fibonacci_k$2(\u001b[32mcmd0.sc\u001b[39m:\u001b[32m5\u001b[39m)\n  ammonite.$sess.cmd0$Helper.$anonfun$fibonacci_k$2$adapted(\u001b[32mcmd0.sc\u001b[39m:\u001b[32m5\u001b[39m)\n  ammonite.$sess.cmd0$Helper.$anonfun$fibonacci_k$2(\u001b[32mcmd0.sc\u001b[39m:\u001b[32m5\u001b[39m)\n  ammonite.$sess.cmd0$Helper.$anonfun$fibonacci_k$2$adapted(\u001b[32mcmd0.sc\u001b[39m:\u001b[32m5\u001b[39m)\n  ammonite.$sess.cmd0$Helper.fibonacci_k(\u001b[32mcmd0.sc\u001b[39m:\u001b[32m3\u001b[39m)\n  ammonite.$sess.cmd0$Helper.$anonfun$fibonacci_k$1(\u001b[32mcmd0.sc\u001b[39m:\u001b[32m5\u001b[39m)\n  ammonite.$sess.cmd0$Helper.$anonfun$fibonacci_k$1$adapted(\u001b[32mcmd0.sc\u001b[39m:\u001b[32m5\u001b[39m)\n  ammonite.$sess.cmd0$Helper.fibonacci_k(\u001b[32mcmd0.sc\u001b[39m:\u001b[32m3\u001b[39m)\n  ammonite.$sess.cmd0$Helper.$anonfun$fibonacci_k$1(\u001b[32mcmd0.sc\u001b[39m:\u001b[32m5\u001b[39m)\n  ammonite.$sess.cmd0$Helper.$anonfun$fibonacci_k$1$adapted(\u001b[32mcmd0.sc\u001b[39m:\u001b[32m5\u001b[39m)\n  ammonite.$sess.cmd0$Helper.$anonfun$fibonacci_k$2(\u001b[32mcmd0.sc\u001b[39m:\u001b[32m5\u001b[39m)\n  ammonite.$sess.cmd0$Helper.$anonfun$fibonacci_k$2$adapted(\u001b[32mcmd0.sc\u001b[39m:\u001b[32m5\u001b[39m)\n  ammonite.$sess.cmd0$Helper.fibonacci_k(\u001b[32mcmd0.sc\u001b[39m:\u001b[32m3\u001b[39m)\n  ammonite.$sess.cmd0$Helper.$anonfun$fibonacci_k$1(\u001b[32mcmd0.sc\u001b[39m:\u001b[32m5\u001b[39m)\n  ammonite.$sess.cmd0$Helper.$anonfun$fibonacci_k$1$adapted(\u001b[32mcmd0.sc\u001b[39m:\u001b[32m5\u001b[39m)\n  ammonite.$sess.cmd0$Helper.$anonfun$fibonacci_k$2(\u001b[32mcmd0.sc\u001b[39m:\u001b[32m5\u001b[39m)\n  ammonite.$sess.cmd0$Helper.$anonfun$fibonacci_k$2$adapted(\u001b[32mcmd0.sc\u001b[39m:\u001b[32m5\u001b[39m)\n  ammonite.$sess.cmd0$Helper.fibonacci_k(\u001b[32mcmd0.sc\u001b[39m:\u001b[32m3\u001b[39m)\n  ammonite.$sess.cmd0$Helper.$anonfun$fibonacci_k$1(\u001b[32mcmd0.sc\u001b[39m:\u001b[32m5\u001b[39m)\n  ammonite.$sess.cmd0$Helper.$anonfun$fibonacci_k$1$adapted(\u001b[32mcmd0.sc\u001b[39m:\u001b[32m5\u001b[39m)\n  ammonite.$sess.cmd0$Helper.fibonacci_k(\u001b[32mcmd0.sc\u001b[39m:\u001b[32m3\u001b[39m)\n  ammonite.$sess.cmd0$Helper.$anonfun$fibonacci_k$1(\u001b[32mcmd0.sc\u001b[39m:\u001b[32m5\u001b[39m)\n  ammonite.$sess.cmd0$Helper.$anonfun$fibonacci_k$1$adapted(\u001b[32mcmd0.sc\u001b[39m:\u001b[32m5\u001b[39m)\n  ammonite.$sess.cmd0$Helper.$anonfun$fibonacci_k$2(\u001b[32mcmd0.sc\u001b[39m:\u001b[32m5\u001b[39m)\n  ammonite.$sess.cmd0$Helper.$anonfun$fibonacci_k$2$adapted(\u001b[32mcmd0.sc\u001b[39m:\u001b[32m5\u001b[39m)\n  ammonite.$sess.cmd0$Helper.$anonfun$fibonacci_k$2(\u001b[32mcmd0.sc\u001b[39m:\u001b[32m5\u001b[39m)\n  ammonite.$sess.cmd0$Helper.$anonfun$fibonacci_k$2$adapted(\u001b[32mcmd0.sc\u001b[39m:\u001b[32m5\u001b[39m)\n  ammonite.$sess.cmd0$Helper.fibonacci_k(\u001b[32mcmd0.sc\u001b[39m:\u001b[32m3\u001b[39m)\n  ammonite.$sess.cmd0$Helper.$anonfun$fibonacci_k$1(\u001b[32mcmd0.sc\u001b[39m:\u001b[32m5\u001b[39m)\n  ammonite.$sess.cmd0$Helper.$anonfun$fibonacci_k$1$adapted(\u001b[32mcmd0.sc\u001b[39m:\u001b[32m5\u001b[39m)\n  ammonite.$sess.cmd0$Helper.$anonfun$fibonacci_k$2(\u001b[32mcmd0.sc\u001b[39m:\u001b[32m5\u001b[39m)\n  ammonite.$sess.cmd0$Helper.$anonfun$fibonacci_k$2$adapted(\u001b[32mcmd0.sc\u001b[39m:\u001b[32m5\u001b[39m)\n  ammonite.$sess.cmd0$Helper.fibonacci_k(\u001b[32mcmd0.sc\u001b[39m:\u001b[32m3\u001b[39m)\n  ammonite.$sess.cmd0$Helper.$anonfun$fibonacci_k$1(\u001b[32mcmd0.sc\u001b[39m:\u001b[32m5\u001b[39m)\n  ammonite.$sess.cmd0$Helper.$anonfun$fibonacci_k$1$adapted(\u001b[32mcmd0.sc\u001b[39m:\u001b[32m5\u001b[39m)\n  ammonite.$sess.cmd0$Helper.fibonacci_k(\u001b[32mcmd0.sc\u001b[39m:\u001b[32m3\u001b[39m)\n  ammonite.$sess.cmd0$Helper.$anonfun$fibonacci_k$1(\u001b[32mcmd0.sc\u001b[39m:\u001b[32m5\u001b[39m)\n  ammonite.$sess.cmd0$Helper.$anonfun$fibonacci_k$1$adapted(\u001b[32mcmd0.sc\u001b[39m:\u001b[32m5\u001b[39m)\n  ammonite.$sess.cmd0$Helper.$anonfun$fibonacci_k$2(\u001b[32mcmd0.sc\u001b[39m:\u001b[32m5\u001b[39m)\n  ammonite.$sess.cmd0$Helper.$anonfun$fibonacci_k$2$adapted(\u001b[32mcmd0.sc\u001b[39m:\u001b[32m5\u001b[39m)\n  ammonite.$sess.cmd0$Helper.$anonfun$fibonacci_k$2(\u001b[32mcmd0.sc\u001b[39m:\u001b[32m5\u001b[39m)\n  ammonite.$sess.cmd0$Helper.$anonfun$fibonacci_k$2$adapted(\u001b[32mcmd0.sc\u001b[39m:\u001b[32m5\u001b[39m)\n  ammonite.$sess.cmd0$Helper.fibonacci_k(\u001b[32mcmd0.sc\u001b[39m:\u001b[32m3\u001b[39m)\n  ammonite.$sess.cmd0$Helper.$anonfun$fibonacci_k$1(\u001b[32mcmd0.sc\u001b[39m:\u001b[32m5\u001b[39m)\n  ammonite.$sess.cmd0$Helper.$anonfun$fibonacci_k$1$adapted(\u001b[32mcmd0.sc\u001b[39m:\u001b[32m5\u001b[39m)\n  ammonite.$sess.cmd0$Helper.fibonacci_k(\u001b[32mcmd0.sc\u001b[39m:\u001b[32m3\u001b[39m)\n  ammonite.$sess.cmd0$Helper.$anonfun$fibonacci_k$1(\u001b[32mcmd0.sc\u001b[39m:\u001b[32m5\u001b[39m)\n  ammonite.$sess.cmd0$Helper.$anonfun$fibonacci_k$1$adapted(\u001b[32mcmd0.sc\u001b[39m:\u001b[32m5\u001b[39m)\n  ammonite.$sess.cmd0$Helper.$anonfun$fibonacci_k$2(\u001b[32mcmd0.sc\u001b[39m:\u001b[32m5\u001b[39m)\n  ammonite.$sess.cmd0$Helper.$anonfun$fibonacci_k$2$adapted(\u001b[32mcmd0.sc\u001b[39m:\u001b[32m5\u001b[39m)\n  ammonite.$sess.cmd0$Helper.fibonacci_k(\u001b[32mcmd0.sc\u001b[39m:\u001b[32m3\u001b[39m)\n  ammonite.$sess.cmd0$Helper.$anonfun$fibonacci_k$1(\u001b[32mcmd0.sc\u001b[39m:\u001b[32m5\u001b[39m)\n  ammonite.$sess.cmd0$Helper.$anonfun$fibonacci_k$1$adapted(\u001b[32mcmd0.sc\u001b[39m:\u001b[32m5\u001b[39m)\n  ammonite.$sess.cmd0$Helper.$anonfun$fibonacci_k$2(\u001b[32mcmd0.sc\u001b[39m:\u001b[32m5\u001b[39m)\n  ammonite.$sess.cmd0$Helper.$anonfun$fibonacci_k$2$adapted(\u001b[32mcmd0.sc\u001b[39m:\u001b[32m5\u001b[39m)\n  ammonite.$sess.cmd0$Helper.fibonacci_k(\u001b[32mcmd0.sc\u001b[39m:\u001b[32m3\u001b[39m)\n  ammonite.$sess.cmd0$Helper.$anonfun$fibonacci_k$1(\u001b[32mcmd0.sc\u001b[39m:\u001b[32m5\u001b[39m)\n  ammonite.$sess.cmd0$Helper.$anonfun$fibonacci_k$1$adapted(\u001b[32mcmd0.sc\u001b[39m:\u001b[32m5\u001b[39m)\n  ammonite.$sess.cmd0$Helper.fibonacci_k(\u001b[32mcmd0.sc\u001b[39m:\u001b[32m3\u001b[39m)\n  ammonite.$sess.cmd0$Helper.$anonfun$fibonacci_k$1(\u001b[32mcmd0.sc\u001b[39m:\u001b[32m5\u001b[39m)\n  ammonite.$sess.cmd0$Helper.$anonfun$fibonacci_k$1$adapted(\u001b[32mcmd0.sc\u001b[39m:\u001b[32m5\u001b[39m)\n  ammonite.$sess.cmd0$Helper.$anonfun$fibonacci_k$2(\u001b[32mcmd0.sc\u001b[39m:\u001b[32m5\u001b[39m)\n  ammonite.$sess.cmd0$Helper.$anonfun$fibonacci_k$2$adapted(\u001b[32mcmd0.sc\u001b[39m:\u001b[32m5\u001b[39m)\n  ammonite.$sess.cmd0$Helper.$anonfun$fibonacci_k$2(\u001b[32mcmd0.sc\u001b[39m:\u001b[32m5\u001b[39m)\n  ammonite.$sess.cmd0$Helper.$anonfun$fibonacci_k$2$adapted(\u001b[32mcmd0.sc\u001b[39m:\u001b[32m5\u001b[39m)\n  ammonite.$sess.cmd0$Helper.$anonfun$fibonacci_k$2(\u001b[32mcmd0.sc\u001b[39m:\u001b[32m5\u001b[39m)\n  ammonite.$sess.cmd0$Helper.$anonfun$fibonacci_k$2$adapted(\u001b[32mcmd0.sc\u001b[39m:\u001b[32m5\u001b[39m)\n  ammonite.$sess.cmd0$Helper.$anonfun$fibonacci_k$2(\u001b[32mcmd0.sc\u001b[39m:\u001b[32m5\u001b[39m)\n  ammonite.$sess.cmd0$Helper.$anonfun$fibonacci_k$2$adapted(\u001b[32mcmd0.sc\u001b[39m:\u001b[32m5\u001b[39m)\n  ammonite.$sess.cmd0$Helper.fibonacci_k(\u001b[32mcmd0.sc\u001b[39m:\u001b[32m3\u001b[39m)\n  ammonite.$sess.cmd0$Helper.$anonfun$fibonacci_k$1(\u001b[32mcmd0.sc\u001b[39m:\u001b[32m5\u001b[39m)\n  ammonite.$sess.cmd0$Helper.$anonfun$fibonacci_k$1$adapted(\u001b[32mcmd0.sc\u001b[39m:\u001b[32m5\u001b[39m)\n  ammonite.$sess.cmd0$Helper.$anonfun$fibonacci_k$2(\u001b[32mcmd0.sc\u001b[39m:\u001b[32m5\u001b[39m)\n  ammonite.$sess.cmd0$Helper.$anonfun$fibonacci_k$2$adapted(\u001b[32mcmd0.sc\u001b[39m:\u001b[32m5\u001b[39m)\n  ammonite.$sess.cmd0$Helper.fibonacci_k(\u001b[32mcmd0.sc\u001b[39m:\u001b[32m3\u001b[39m)\n  ammonite.$sess.cmd0$Helper.$anonfun$fibonacci_k$1(\u001b[32mcmd0.sc\u001b[39m:\u001b[32m5\u001b[39m)\n  ammonite.$sess.cmd0$Helper.$anonfun$fibonacci_k$1$adapted(\u001b[32mcmd0.sc\u001b[39m:\u001b[32m5\u001b[39m)\n  ammonite.$sess.cmd0$Helper.fibonacci_k(\u001b[32mcmd0.sc\u001b[39m:\u001b[32m3\u001b[39m)\n  ammonite.$sess.cmd0$Helper.$anonfun$fibonacci_k$1(\u001b[32mcmd0.sc\u001b[39m:\u001b[32m5\u001b[39m)\n  ammonite.$sess.cmd0$Helper.$anonfun$fibonacci_k$1$adapted(\u001b[32mcmd0.sc\u001b[39m:\u001b[32m5\u001b[39m)\n  ammonite.$sess.cmd0$Helper.$anonfun$fibonacci_k$2(\u001b[32mcmd0.sc\u001b[39m:\u001b[32m5\u001b[39m)\n  ammonite.$sess.cmd0$Helper.$anonfun$fibonacci_k$2$adapted(\u001b[32mcmd0.sc\u001b[39m:\u001b[32m5\u001b[39m)\n  ammonite.$sess.cmd0$Helper.$anonfun$fibonacci_k$2(\u001b[32mcmd0.sc\u001b[39m:\u001b[32m5\u001b[39m)\n  ammonite.$sess.cmd0$Helper.$anonfun$fibonacci_k$2$adapted(\u001b[32mcmd0.sc\u001b[39m:\u001b[32m5\u001b[39m)\n  ammonite.$sess.cmd0$Helper.fibonacci_k(\u001b[32mcmd0.sc\u001b[39m:\u001b[32m3\u001b[39m)\n  ammonite.$sess.cmd0$Helper.$anonfun$fibonacci_k$1(\u001b[32mcmd0.sc\u001b[39m:\u001b[32m5\u001b[39m)\n  ammonite.$sess.cmd0$Helper.$anonfun$fibonacci_k$1$adapted(\u001b[32mcmd0.sc\u001b[39m:\u001b[32m5\u001b[39m)\n  ammonite.$sess.cmd0$Helper.fibonacci_k(\u001b[32mcmd0.sc\u001b[39m:\u001b[32m3\u001b[39m)\n  ammonite.$sess.cmd0$Helper.$anonfun$fibonacci_k$1(\u001b[32mcmd0.sc\u001b[39m:\u001b[32m5\u001b[39m)\n  ammonite.$sess.cmd0$Helper.$anonfun$fibonacci_k$1$adapted(\u001b[32mcmd0.sc\u001b[39m:\u001b[32m5\u001b[39m)\n  ammonite.$sess.cmd0$Helper.$anonfun$fibonacci_k$2(\u001b[32mcmd0.sc\u001b[39m:\u001b[32m5\u001b[39m)\n  ammonite.$sess.cmd0$Helper.$anonfun$fibonacci_k$2$adapted(\u001b[32mcmd0.sc\u001b[39m:\u001b[32m5\u001b[39m)\n  ammonite.$sess.cmd0$Helper.fibonacci_k(\u001b[32mcmd0.sc\u001b[39m:\u001b[32m3\u001b[39m)\n  ammonite.$sess.cmd0$Helper.$anonfun$fibonacci_k$1(\u001b[32mcmd0.sc\u001b[39m:\u001b[32m5\u001b[39m)\n  ammonite.$sess.cmd0$Helper.$anonfun$fibonacci_k$1$adapted(\u001b[32mcmd0.sc\u001b[39m:\u001b[32m5\u001b[39m)\n  ammonite.$sess.cmd0$Helper.$anonfun$fibonacci_k$2(\u001b[32mcmd0.sc\u001b[39m:\u001b[32m5\u001b[39m)\n  ammonite.$sess.cmd0$Helper.$anonfun$fibonacci_k$2$adapted(\u001b[32mcmd0.sc\u001b[39m:\u001b[32m5\u001b[39m)\n  ammonite.$sess.cmd0$Helper.fibonacci_k(\u001b[32mcmd0.sc\u001b[39m:\u001b[32m3\u001b[39m)\n  ammonite.$sess.cmd0$Helper.$anonfun$fibonacci_k$1(\u001b[32mcmd0.sc\u001b[39m:\u001b[32m5\u001b[39m)\n  ammonite.$sess.cmd0$Helper.$anonfun$fibonacci_k$1$adapted(\u001b[32mcmd0.sc\u001b[39m:\u001b[32m5\u001b[39m)\n  ammonite.$sess.cmd0$Helper.fibonacci_k(\u001b[32mcmd0.sc\u001b[39m:\u001b[32m3\u001b[39m)\n  ammonite.$sess.cmd0$Helper.$anonfun$fibonacci_k$1(\u001b[32mcmd0.sc\u001b[39m:\u001b[32m5\u001b[39m)\n  ammonite.$sess.cmd0$Helper.$anonfun$fibonacci_k$1$adapted(\u001b[32mcmd0.sc\u001b[39m:\u001b[32m5\u001b[39m)\n  ammonite.$sess.cmd0$Helper.$anonfun$fibonacci_k$2(\u001b[32mcmd0.sc\u001b[39m:\u001b[32m5\u001b[39m)\n  ammonite.$sess.cmd0$Helper.$anonfun$fibonacci_k$2$adapted(\u001b[32mcmd0.sc\u001b[39m:\u001b[32m5\u001b[39m)\n  ammonite.$sess.cmd0$Helper.$anonfun$fibonacci_k$2(\u001b[32mcmd0.sc\u001b[39m:\u001b[32m5\u001b[39m)\n  ammonite.$sess.cmd0$Helper.$anonfun$fibonacci_k$2$adapted(\u001b[32mcmd0.sc\u001b[39m:\u001b[32m5\u001b[39m)\n  ammonite.$sess.cmd0$Helper.$anonfun$fibonacci_k$2(\u001b[32mcmd0.sc\u001b[39m:\u001b[32m5\u001b[39m)\n  ammonite.$sess.cmd0$Helper.$anonfun$fibonacci_k$2$adapted(\u001b[32mcmd0.sc\u001b[39m:\u001b[32m5\u001b[39m)\n  ammonite.$sess.cmd0$Helper.fibonacci_k(\u001b[32mcmd0.sc\u001b[39m:\u001b[32m3\u001b[39m)\n  ammonite.$sess.cmd0$Helper.$anonfun$fibonacci_k$1(\u001b[32mcmd0.sc\u001b[39m:\u001b[32m5\u001b[39m)\n  ammonite.$sess.cmd0$Helper.$anonfun$fibonacci_k$1$adapted(\u001b[32mcmd0.sc\u001b[39m:\u001b[32m5\u001b[39m)\n  ammonite.$sess.cmd0$Helper.fibonacci_k(\u001b[32mcmd0.sc\u001b[39m:\u001b[32m3\u001b[39m)\n  ammonite.$sess.cmd0$Helper.$anonfun$fibonacci_k$1(\u001b[32mcmd0.sc\u001b[39m:\u001b[32m5\u001b[39m)\n  ammonite.$sess.cmd0$Helper.$anonfun$fibonacci_k$1$adapted(\u001b[32mcmd0.sc\u001b[39m:\u001b[32m5\u001b[39m)\n  ammonite.$sess.cmd0$Helper.$anonfun$fibonacci_k$2(\u001b[32mcmd0.sc\u001b[39m:\u001b[32m5\u001b[39m)\n  ammonite.$sess.cmd0$Helper.$anonfun$fibonacci_k$2$adapted(\u001b[32mcmd0.sc\u001b[39m:\u001b[32m5\u001b[39m)\n  ammonite.$sess.cmd0$Helper.fibonacci_k(\u001b[32mcmd0.sc\u001b[39m:\u001b[32m3\u001b[39m)\n  ammonite.$sess.cmd0$Helper.$anonfun$fibonacci_k$1(\u001b[32mcmd0.sc\u001b[39m:\u001b[32m5\u001b[39m)\n  ammonite.$sess.cmd0$Helper.$anonfun$fibonacci_k$1$adapted(\u001b[32mcmd0.sc\u001b[39m:\u001b[32m5\u001b[39m)\n  ammonite.$sess.cmd0$Helper.$anonfun$fibonacci_k$2(\u001b[32mcmd0.sc\u001b[39m:\u001b[32m5\u001b[39m)\n  ammonite.$sess.cmd0$Helper.$anonfun$fibonacci_k$2$adapted(\u001b[32mcmd0.sc\u001b[39m:\u001b[32m5\u001b[39m)\n  ammonite.$sess.cmd0$Helper.fibonacci_k(\u001b[32mcmd0.sc\u001b[39m:\u001b[32m3\u001b[39m)\n  ammonite.$sess.cmd0$Helper.$anonfun$fibonacci_k$1(\u001b[32mcmd0.sc\u001b[39m:\u001b[32m5\u001b[39m)\n  ammonite.$sess.cmd0$Helper.$anonfun$fibonacci_k$1$adapted(\u001b[32mcmd0.sc\u001b[39m:\u001b[32m5\u001b[39m)\n  ammonite.$sess.cmd0$Helper.fibonacci_k(\u001b[32mcmd0.sc\u001b[39m:\u001b[32m3\u001b[39m)\n  ammonite.$sess.cmd0$Helper.$anonfun$fibonacci_k$1(\u001b[32mcmd0.sc\u001b[39m:\u001b[32m5\u001b[39m)\n  ammonite.$sess.cmd0$Helper.$anonfun$fibonacci_k$1$adapted(\u001b[32mcmd0.sc\u001b[39m:\u001b[32m5\u001b[39m)\n  ammonite.$sess.cmd0$Helper.$anonfun$fibonacci_k$2(\u001b[32mcmd0.sc\u001b[39m:\u001b[32m5\u001b[39m)\n  ammonite.$sess.cmd0$Helper.$anonfun$fibonacci_k$2$adapted(\u001b[32mcmd0.sc\u001b[39m:\u001b[32m5\u001b[39m)\n  ammonite.$sess.cmd0$Helper.$anonfun$fibonacci_k$2(\u001b[32mcmd0.sc\u001b[39m:\u001b[32m5\u001b[39m)\n  ammonite.$sess.cmd0$Helper.$anonfun$fibonacci_k$2$adapted(\u001b[32mcmd0.sc\u001b[39m:\u001b[32m5\u001b[39m)\n  ammonite.$sess.cmd0$Helper.fibonacci_k(\u001b[32mcmd0.sc\u001b[39m:\u001b[32m3\u001b[39m)\n  ammonite.$sess.cmd0$Helper.$anonfun$fibonacci_k$1(\u001b[32mcmd0.sc\u001b[39m:\u001b[32m5\u001b[39m)\n  ammonite.$sess.cmd0$Helper.$anonfun$fibonacci_k$1$adapted(\u001b[32mcmd0.sc\u001b[39m:\u001b[32m5\u001b[39m)\n  ammonite.$sess.cmd0$Helper.$anonfun$fibonacci_k$2(\u001b[32mcmd0.sc\u001b[39m:\u001b[32m5\u001b[39m)\n  ammonite.$sess.cmd0$Helper.$anonfun$fibonacci_k$2$adapted(\u001b[32mcmd0.sc\u001b[39m:\u001b[32m5\u001b[39m)\n  ammonite.$sess.cmd0$Helper.fibonacci_k(\u001b[32mcmd0.sc\u001b[39m:\u001b[32m3\u001b[39m)\n  ammonite.$sess.cmd0$Helper.$anonfun$fibonacci_k$1(\u001b[32mcmd0.sc\u001b[39m:\u001b[32m5\u001b[39m)\n  ammonite.$sess.cmd0$Helper.$anonfun$fibonacci_k$1$adapted(\u001b[32mcmd0.sc\u001b[39m:\u001b[32m5\u001b[39m)\n  ammonite.$sess.cmd0$Helper.fibonacci_k(\u001b[32mcmd0.sc\u001b[39m:\u001b[32m3\u001b[39m)\n  ammonite.$sess.cmd0$Helper.$anonfun$fibonacci_k$1(\u001b[32mcmd0.sc\u001b[39m:\u001b[32m5\u001b[39m)\n  ammonite.$sess.cmd0$Helper.$anonfun$fibonacci_k$1$adapted(\u001b[32mcmd0.sc\u001b[39m:\u001b[32m5\u001b[39m)\n  ammonite.$sess.cmd0$Helper.$anonfun$fibonacci_k$2(\u001b[32mcmd0.sc\u001b[39m:\u001b[32m5\u001b[39m)\n  ammonite.$sess.cmd0$Helper.$anonfun$fibonacci_k$2$adapted(\u001b[32mcmd0.sc\u001b[39m:\u001b[32m5\u001b[39m)\n  ammonite.$sess.cmd0$Helper.$anonfun$fibonacci_k$2(\u001b[32mcmd0.sc\u001b[39m:\u001b[32m5\u001b[39m)\n  ammonite.$sess.cmd0$Helper.$anonfun$fibonacci_k$2$adapted(\u001b[32mcmd0.sc\u001b[39m:\u001b[32m5\u001b[39m)\n  ammonite.$sess.cmd0$Helper.fibonacci_k(\u001b[32mcmd0.sc\u001b[39m:\u001b[32m3\u001b[39m)\n  ammonite.$sess.cmd0$Helper.$anonfun$fibonacci_k$1(\u001b[32mcmd0.sc\u001b[39m:\u001b[32m5\u001b[39m)\n  ammonite.$sess.cmd0$Helper.$anonfun$fibonacci_k$1$adapted(\u001b[32mcmd0.sc\u001b[39m:\u001b[32m5\u001b[39m)\n  ammonite.$sess.cmd0$Helper.fibonacci_k(\u001b[32mcmd0.sc\u001b[39m:\u001b[32m3\u001b[39m)\n  ammonite.$sess.cmd0$Helper.$anonfun$fibonacci_k$1(\u001b[32mcmd0.sc\u001b[39m:\u001b[32m5\u001b[39m)\n  ammonite.$sess.cmd0$Helper.$anonfun$fibonacci_k$1$adapted(\u001b[32mcmd0.sc\u001b[39m:\u001b[32m5\u001b[39m)\n  ammonite.$sess.cmd0$Helper.$anonfun$fibonacci_k$2(\u001b[32mcmd0.sc\u001b[39m:\u001b[32m5\u001b[39m)\n  ammonite.$sess.cmd0$Helper.$anonfun$fibonacci_k$2$adapted(\u001b[32mcmd0.sc\u001b[39m:\u001b[32m5\u001b[39m)\n  ammonite.$sess.cmd0$Helper.fibonacci_k(\u001b[32mcmd0.sc\u001b[39m:\u001b[32m3\u001b[39m)\n  ammonite.$sess.cmd0$Helper.$anonfun$fibonacci_k$1(\u001b[32mcmd0.sc\u001b[39m:\u001b[32m5\u001b[39m)\n  ammonite.$sess.cmd0$Helper.$anonfun$fibonacci_k$1$adapted(\u001b[32mcmd0.sc\u001b[39m:\u001b[32m5\u001b[39m)\n  ammonite.$sess.cmd0$Helper.$anonfun$fibonacci_k$2(\u001b[32mcmd0.sc\u001b[39m:\u001b[32m5\u001b[39m)\n  ammonite.$sess.cmd0$Helper.$anonfun$fibonacci_k$2$adapted(\u001b[32mcmd0.sc\u001b[39m:\u001b[32m5\u001b[39m)\n  ammonite.$sess.cmd0$Helper.fibonacci_k(\u001b[32mcmd0.sc\u001b[39m:\u001b[32m3\u001b[39m)\n  ammonite.$sess.cmd0$Helper.$anonfun$fibonacci_k$1(\u001b[32mcmd0.sc\u001b[39m:\u001b[32m5\u001b[39m)\n  ammonite.$sess.cmd0$Helper.$anonfun$fibonacci_k$1$adapted(\u001b[32mcmd0.sc\u001b[39m:\u001b[32m5\u001b[39m)\n  ammonite.$sess.cmd0$Helper.fibonacci_k(\u001b[32mcmd0.sc\u001b[39m:\u001b[32m3\u001b[39m)\n  ammonite.$sess.cmd0$Helper.$anonfun$fibonacci_k$1(\u001b[32mcmd0.sc\u001b[39m:\u001b[32m5\u001b[39m)\n  ammonite.$sess.cmd0$Helper.$anonfun$fibonacci_k$1$adapted(\u001b[32mcmd0.sc\u001b[39m:\u001b[32m5\u001b[39m)\n  ammonite.$sess.cmd0$Helper.$anonfun$fibonacci_k$2(\u001b[32mcmd0.sc\u001b[39m:\u001b[32m5\u001b[39m)\n  ammonite.$sess.cmd0$Helper.$anonfun$fibonacci_k$2$adapted(\u001b[32mcmd0.sc\u001b[39m:\u001b[32m5\u001b[39m)\n  ammonite.$sess.cmd0$Helper.$anonfun$fibonacci_k$2(\u001b[32mcmd0.sc\u001b[39m:\u001b[32m5\u001b[39m)\n  ammonite.$sess.cmd0$Helper.$anonfun$fibonacci_k$2$adapted(\u001b[32mcmd0.sc\u001b[39m:\u001b[32m5\u001b[39m)\n  ammonite.$sess.cmd0$Helper.$anonfun$fibonacci_k$2(\u001b[32mcmd0.sc\u001b[39m:\u001b[32m5\u001b[39m)\n  ammonite.$sess.cmd0$Helper.$anonfun$fibonacci_k$2$adapted(\u001b[32mcmd0.sc\u001b[39m:\u001b[32m5\u001b[39m)\n  ammonite.$sess.cmd0$Helper.$anonfun$fibonacci_k$2(\u001b[32mcmd0.sc\u001b[39m:\u001b[32m5\u001b[39m)\n  ammonite.$sess.cmd0$Helper.$anonfun$fibonacci_k$2$adapted(\u001b[32mcmd0.sc\u001b[39m:\u001b[32m5\u001b[39m)\n  ammonite.$sess.cmd0$Helper.fibonacci_k(\u001b[32mcmd0.sc\u001b[39m:\u001b[32m3\u001b[39m)\n  ammonite.$sess.cmd0$Helper.$anonfun$fibonacci_k$1(\u001b[32mcmd0.sc\u001b[39m:\u001b[32m5\u001b[39m)\n  ammonite.$sess.cmd0$Helper.$anonfun$fibonacci_k$1$adapted(\u001b[32mcmd0.sc\u001b[39m:\u001b[32m5\u001b[39m)\n  ammonite.$sess.cmd0$Helper.fibonacci_k(\u001b[32mcmd0.sc\u001b[39m:\u001b[32m3\u001b[39m)\n  ammonite.$sess.cmd0$Helper.$anonfun$fibonacci_k$1(\u001b[32mcmd0.sc\u001b[39m:\u001b[32m5\u001b[39m)\n  ammonite.$sess.cmd0$Helper.$anonfun$fibonacci_k$1$adapted(\u001b[32mcmd0.sc\u001b[39m:\u001b[32m5\u001b[39m)\n  ammonite.$sess.cmd0$Helper.$anonfun$fibonacci_k$2(\u001b[32mcmd0.sc\u001b[39m:\u001b[32m5\u001b[39m)\n  ammonite.$sess.cmd0$Helper.$anonfun$fibonacci_k$2$adapted(\u001b[32mcmd0.sc\u001b[39m:\u001b[32m5\u001b[39m)\n  ammonite.$sess.cmd0$Helper.fibonacci_k(\u001b[32mcmd0.sc\u001b[39m:\u001b[32m3\u001b[39m)\n  ammonite.$sess.cmd0$Helper.$anonfun$fibonacci_k$1(\u001b[32mcmd0.sc\u001b[39m:\u001b[32m5\u001b[39m)\n  ammonite.$sess.cmd0$Helper.$anonfun$fibonacci_k$1$adapted(\u001b[32mcmd0.sc\u001b[39m:\u001b[32m5\u001b[39m)\n  ammonite.$sess.cmd0$Helper.$anonfun$fibonacci_k$2(\u001b[32mcmd0.sc\u001b[39m:\u001b[32m5\u001b[39m)\n  ammonite.$sess.cmd0$Helper.$anonfun$fibonacci_k$2$adapted(\u001b[32mcmd0.sc\u001b[39m:\u001b[32m5\u001b[39m)\n  ammonite.$sess.cmd0$Helper.fibonacci_k(\u001b[32mcmd0.sc\u001b[39m:\u001b[32m3\u001b[39m)\n  ammonite.$sess.cmd0$Helper.$anonfun$fibonacci_k$1(\u001b[32mcmd0.sc\u001b[39m:\u001b[32m5\u001b[39m)\n  ammonite.$sess.cmd0$Helper.$anonfun$fibonacci_k$1$adapted(\u001b[32mcmd0.sc\u001b[39m:\u001b[32m5\u001b[39m)\n  ammonite.$sess.cmd0$Helper.fibonacci_k(\u001b[32mcmd0.sc\u001b[39m:\u001b[32m3\u001b[39m)\n  ammonite.$sess.cmd0$Helper.$anonfun$fibonacci_k$1(\u001b[32mcmd0.sc\u001b[39m:\u001b[32m5\u001b[39m)\n  ammonite.$sess.cmd0$Helper.$anonfun$fibonacci_k$1$adapted(\u001b[32mcmd0.sc\u001b[39m:\u001b[32m5\u001b[39m)\n  ammonite.$sess.cmd0$Helper.$anonfun$fibonacci_k$2(\u001b[32mcmd0.sc\u001b[39m:\u001b[32m5\u001b[39m)\n  ammonite.$sess.cmd0$Helper.$anonfun$fibonacci_k$2$adapted(\u001b[32mcmd0.sc\u001b[39m:\u001b[32m5\u001b[39m)\n  ammonite.$sess.cmd0$Helper.$anonfun$fibonacci_k$2(\u001b[32mcmd0.sc\u001b[39m:\u001b[32m5\u001b[39m)\n  ammonite.$sess.cmd0$Helper.$anonfun$fibonacci_k$2$adapted(\u001b[32mcmd0.sc\u001b[39m:\u001b[32m5\u001b[39m)\n  ammonite.$sess.cmd0$Helper.fibonacci_k(\u001b[32mcmd0.sc\u001b[39m:\u001b[32m3\u001b[39m)\n  ammonite.$sess.cmd0$Helper.$anonfun$fibonacci_k$1(\u001b[32mcmd0.sc\u001b[39m:\u001b[32m5\u001b[39m)\n  ammonite.$sess.cmd0$Helper.$anonfun$fibonacci_k$1$adapted(\u001b[32mcmd0.sc\u001b[39m:\u001b[32m5\u001b[39m)\n  ammonite.$sess.cmd0$Helper.$anonfun$fibonacci_k$2(\u001b[32mcmd0.sc\u001b[39m:\u001b[32m5\u001b[39m)\n  ammonite.$sess.cmd0$Helper.$anonfun$fibonacci_k$2$adapted(\u001b[32mcmd0.sc\u001b[39m:\u001b[32m5\u001b[39m)\n  ammonite.$sess.cmd0$Helper.fibonacci_k(\u001b[32mcmd0.sc\u001b[39m:\u001b[32m3\u001b[39m)\n  ammonite.$sess.cmd0$Helper.$anonfun$fibonacci_k$1(\u001b[32mcmd0.sc\u001b[39m:\u001b[32m5\u001b[39m)\n  ammonite.$sess.cmd0$Helper.$anonfun$fibonacci_k$1$adapted(\u001b[32mcmd0.sc\u001b[39m:\u001b[32m5\u001b[39m)\n  ammonite.$sess.cmd0$Helper.fibonacci_k(\u001b[32mcmd0.sc\u001b[39m:\u001b[32m3\u001b[39m)\n  ammonite.$sess.cmd0$Helper.$anonfun$fibonacci_k$1(\u001b[32mcmd0.sc\u001b[39m:\u001b[32m5\u001b[39m)\n  ammonite.$sess.cmd0$Helper.$anonfun$fibonacci_k$1$adapted(\u001b[32mcmd0.sc\u001b[39m:\u001b[32m5\u001b[39m)\n  ammonite.$sess.cmd0$Helper.$anonfun$fibonacci_k$2(\u001b[32mcmd0.sc\u001b[39m:\u001b[32m5\u001b[39m)\n  ammonite.$sess.cmd0$Helper.$anonfun$fibonacci_k$2$adapted(\u001b[32mcmd0.sc\u001b[39m:\u001b[32m5\u001b[39m)\n  ammonite.$sess.cmd0$Helper.$anonfun$fibonacci_k$2(\u001b[32mcmd0.sc\u001b[39m:\u001b[32m5\u001b[39m)\n  ammonite.$sess.cmd0$Helper.$anonfun$fibonacci_k$2$adapted(\u001b[32mcmd0.sc\u001b[39m:\u001b[32m5\u001b[39m)\n  ammonite.$sess.cmd0$Helper.fibonacci_k(\u001b[32mcmd0.sc\u001b[39m:\u001b[32m3\u001b[39m)\n  ammonite.$sess.cmd0$Helper.$anonfun$fibonacci_k$1(\u001b[32mcmd0.sc\u001b[39m:\u001b[32m5\u001b[39m)\n  ammonite.$sess.cmd0$Helper.$anonfun$fibonacci_k$1$adapted(\u001b[32mcmd0.sc\u001b[39m:\u001b[32m5\u001b[39m)\n  ammonite.$sess.cmd0$Helper.fibonacci_k(\u001b[32mcmd0.sc\u001b[39m:\u001b[32m3\u001b[39m)\n  ammonite.$sess.cmd0$Helper.$anonfun$fibonacci_k$1(\u001b[32mcmd0.sc\u001b[39m:\u001b[32m5\u001b[39m)\n  ammonite.$sess.cmd0$Helper.$anonfun$fibonacci_k$1$adapted(\u001b[32mcmd0.sc\u001b[39m:\u001b[32m5\u001b[39m)\n  ammonite.$sess.cmd0$Helper.$anonfun$fibonacci_k$2(\u001b[32mcmd0.sc\u001b[39m:\u001b[32m5\u001b[39m)\n  ammonite.$sess.cmd0$Helper.$anonfun$fibonacci_k$2$adapted(\u001b[32mcmd0.sc\u001b[39m:\u001b[32m5\u001b[39m)\n  ammonite.$sess.cmd0$Helper.fibonacci_k(\u001b[32mcmd0.sc\u001b[39m:\u001b[32m3\u001b[39m)\n  ammonite.$sess.cmd0$Helper.$anonfun$fibonacci_k$1(\u001b[32mcmd0.sc\u001b[39m:\u001b[32m5\u001b[39m)\n  ammonite.$sess.cmd0$Helper.$anonfun$fibonacci_k$1$adapted(\u001b[32mcmd0.sc\u001b[39m:\u001b[32m5\u001b[39m)\n  ammonite.$sess.cmd0$Helper.$anonfun$fibonacci_k$2(\u001b[32mcmd0.sc\u001b[39m:\u001b[32m5\u001b[39m)\n  ammonite.$sess.cmd0$Helper.$anonfun$fibonacci_k$2$adapted(\u001b[32mcmd0.sc\u001b[39m:\u001b[32m5\u001b[39m)\n  ammonite.$sess.cmd0$Helper.fibonacci_k(\u001b[32mcmd0.sc\u001b[39m:\u001b[32m3\u001b[39m)\n  ammonite.$sess.cmd0$Helper.$anonfun$fibonacci_k$1(\u001b[32mcmd0.sc\u001b[39m:\u001b[32m5\u001b[39m)\n  ammonite.$sess.cmd0$Helper.$anonfun$fibonacci_k$1$adapted(\u001b[32mcmd0.sc\u001b[39m:\u001b[32m5\u001b[39m)\n  ammonite.$sess.cmd0$Helper.fibonacci_k(\u001b[32mcmd0.sc\u001b[39m:\u001b[32m3\u001b[39m)\n  ammonite.$sess.cmd0$Helper.$anonfun$fibonacci_k$1(\u001b[32mcmd0.sc\u001b[39m:\u001b[32m5\u001b[39m)\n  ammonite.$sess.cmd0$Helper.$anonfun$fibonacci_k$1$adapted(\u001b[32mcmd0.sc\u001b[39m:\u001b[32m5\u001b[39m)\n  ammonite.$sess.cmd0$Helper.$anonfun$fibonacci_k$2(\u001b[32mcmd0.sc\u001b[39m:\u001b[32m5\u001b[39m)\n  ammonite.$sess.cmd0$Helper.$anonfun$fibonacci_k$2$adapted(\u001b[32mcmd0.sc\u001b[39m:\u001b[32m5\u001b[39m)\n  ammonite.$sess.cmd0$Helper.$anonfun$fibonacci_k$2(\u001b[32mcmd0.sc\u001b[39m:\u001b[32m5\u001b[39m)\n  ammonite.$sess.cmd0$Helper.$anonfun$fibonacci_k$2$adapted(\u001b[32mcmd0.sc\u001b[39m:\u001b[32m5\u001b[39m)\n  ammonite.$sess.cmd0$Helper.$anonfun$fibonacci_k$2(\u001b[32mcmd0.sc\u001b[39m:\u001b[32m5\u001b[39m)\n  ammonite.$sess.cmd0$Helper.$anonfun$fibonacci_k$2$adapted(\u001b[32mcmd0.sc\u001b[39m:\u001b[32m5\u001b[39m)\n  ammonite.$sess.cmd0$Helper.fibonacci_k(\u001b[32mcmd0.sc\u001b[39m:\u001b[32m3\u001b[39m)\n  ammonite.$sess.cmd0$Helper.$anonfun$fibonacci_k$1(\u001b[32mcmd0.sc\u001b[39m:\u001b[32m5\u001b[39m)\n  ammonite.$sess.cmd0$Helper.$anonfun$fibonacci_k$1$adapted(\u001b[32mcmd0.sc\u001b[39m:\u001b[32m5\u001b[39m)\n  ammonite.$sess.cmd0$Helper.$anonfun$fibonacci_k$2(\u001b[32mcmd0.sc\u001b[39m:\u001b[32m5\u001b[39m)\n  ammonite.$sess.cmd0$Helper.$anonfun$fibonacci_k$2$adapted(\u001b[32mcmd0.sc\u001b[39m:\u001b[32m5\u001b[39m)\n  ammonite.$sess.cmd0$Helper.fibonacci_k(\u001b[32mcmd0.sc\u001b[39m:\u001b[32m3\u001b[39m)\n  ammonite.$sess.cmd0$Helper.$anonfun$fibonacci_k$1(\u001b[32mcmd0.sc\u001b[39m:\u001b[32m5\u001b[39m)\n  ammonite.$sess.cmd0$Helper.$anonfun$fibonacci_k$1$adapted(\u001b[32mcmd0.sc\u001b[39m:\u001b[32m5\u001b[39m)\n  ammonite.$sess.cmd0$Helper.fibonacci_k(\u001b[32mcmd0.sc\u001b[39m:\u001b[32m3\u001b[39m)\n  ammonite.$sess.cmd0$Helper.$anonfun$fibonacci_k$1(\u001b[32mcmd0.sc\u001b[39m:\u001b[32m5\u001b[39m)\n  ammonite.$sess.cmd0$Helper.$anonfun$fibonacci_k$1$adapted(\u001b[32mcmd0.sc\u001b[39m:\u001b[32m5\u001b[39m)\n  ammonite.$sess.cmd0$Helper.$anonfun$fibonacci_k$2(\u001b[32mcmd0.sc\u001b[39m:\u001b[32m5\u001b[39m)\n  ammonite.$sess.cmd0$Helper.$anonfun$fibonacci_k$2$adapted(\u001b[32mcmd0.sc\u001b[39m:\u001b[32m5\u001b[39m)\n  ammonite.$sess.cmd0$Helper.$anonfun$fibonacci_k$2(\u001b[32mcmd0.sc\u001b[39m:\u001b[32m5\u001b[39m)\n  ammonite.$sess.cmd0$Helper.$anonfun$fibonacci_k$2$adapted(\u001b[32mcmd0.sc\u001b[39m:\u001b[32m5\u001b[39m)\n  ammonite.$sess.cmd0$Helper.fibonacci_k(\u001b[32mcmd0.sc\u001b[39m:\u001b[32m3\u001b[39m)\n  ammonite.$sess.cmd0$Helper.$anonfun$fibonacci_k$1(\u001b[32mcmd0.sc\u001b[39m:\u001b[32m5\u001b[39m)\n  ammonite.$sess.cmd0$Helper.$anonfun$fibonacci_k$1$adapted(\u001b[32mcmd0.sc\u001b[39m:\u001b[32m5\u001b[39m)\n  ammonite.$sess.cmd0$Helper.fibonacci_k(\u001b[32mcmd0.sc\u001b[39m:\u001b[32m3\u001b[39m)\n  ammonite.$sess.cmd0$Helper.$anonfun$fibonacci_k$1(\u001b[32mcmd0.sc\u001b[39m:\u001b[32m5\u001b[39m)\n  ammonite.$sess.cmd0$Helper.$anonfun$fibonacci_k$1$adapted(\u001b[32mcmd0.sc\u001b[39m:\u001b[32m5\u001b[39m)\n  ammonite.$sess.cmd0$Helper.$anonfun$fibonacci_k$2(\u001b[32mcmd0.sc\u001b[39m:\u001b[32m5\u001b[39m)\n  ammonite.$sess.cmd0$Helper.$anonfun$fibonacci_k$2$adapted(\u001b[32mcmd0.sc\u001b[39m:\u001b[32m5\u001b[39m)\n  ammonite.$sess.cmd0$Helper.fibonacci_k(\u001b[32mcmd0.sc\u001b[39m:\u001b[32m3\u001b[39m)\n  ammonite.$sess.cmd0$Helper.$anonfun$fibonacci_k$1(\u001b[32mcmd0.sc\u001b[39m:\u001b[32m5\u001b[39m)\n  ammonite.$sess.cmd0$Helper.$anonfun$fibonacci_k$1$adapted(\u001b[32mcmd0.sc\u001b[39m:\u001b[32m5\u001b[39m)\n  ammonite.$sess.cmd0$Helper.$anonfun$fibonacci_k$2(\u001b[32mcmd0.sc\u001b[39m:\u001b[32m5\u001b[39m)\n  ammonite.$sess.cmd0$Helper.$anonfun$fibonacci_k$2$adapted(\u001b[32mcmd0.sc\u001b[39m:\u001b[32m5\u001b[39m)\n  ammonite.$sess.cmd0$Helper.fibonacci_k(\u001b[32mcmd0.sc\u001b[39m:\u001b[32m3\u001b[39m)\n  ammonite.$sess.cmd0$Helper.$anonfun$fibonacci_k$1(\u001b[32mcmd0.sc\u001b[39m:\u001b[32m5\u001b[39m)\n  ammonite.$sess.cmd0$Helper.$anonfun$fibonacci_k$1$adapted(\u001b[32mcmd0.sc\u001b[39m:\u001b[32m5\u001b[39m)\n  ammonite.$sess.cmd0$Helper.fibonacci_k(\u001b[32mcmd0.sc\u001b[39m:\u001b[32m3\u001b[39m)\n  ammonite.$sess.cmd0$Helper.$anonfun$fibonacci_k$1(\u001b[32mcmd0.sc\u001b[39m:\u001b[32m5\u001b[39m)\n  ammonite.$sess.cmd0$Helper.$anonfun$fibonacci_k$1$adapted(\u001b[32mcmd0.sc\u001b[39m:\u001b[32m5\u001b[39m)\n  ammonite.$sess.cmd0$Helper.$anonfun$fibonacci_k$2(\u001b[32mcmd0.sc\u001b[39m:\u001b[32m5\u001b[39m)\n  ammonite.$sess.cmd0$Helper.$anonfun$fibonacci_k$2$adapted(\u001b[32mcmd0.sc\u001b[39m:\u001b[32m5\u001b[39m)\n  ammonite.$sess.cmd0$Helper.$anonfun$fibonacci_k$2(\u001b[32mcmd0.sc\u001b[39m:\u001b[32m5\u001b[39m)\n  ammonite.$sess.cmd0$Helper.$anonfun$fibonacci_k$2$adapted(\u001b[32mcmd0.sc\u001b[39m:\u001b[32m5\u001b[39m)\n  ammonite.$sess.cmd0$Helper.$anonfun$fibonacci_k$2(\u001b[32mcmd0.sc\u001b[39m:\u001b[32m5\u001b[39m)\n  ammonite.$sess.cmd0$Helper.$anonfun$fibonacci_k$2$adapted(\u001b[32mcmd0.sc\u001b[39m:\u001b[32m5\u001b[39m)\n  ammonite.$sess.cmd0$Helper.fibonacci_k(\u001b[32mcmd0.sc\u001b[39m:\u001b[32m3\u001b[39m)\n  ammonite.$sess.cmd0$Helper.$anonfun$fibonacci_k$1(\u001b[32mcmd0.sc\u001b[39m:\u001b[32m5\u001b[39m)\n  ammonite.$sess.cmd0$Helper.$anonfun$fibonacci_k$1$adapted(\u001b[32mcmd0.sc\u001b[39m:\u001b[32m5\u001b[39m)\n  ammonite.$sess.cmd0$Helper.fibonacci_k(\u001b[32mcmd0.sc\u001b[39m:\u001b[32m3\u001b[39m)\n  ammonite.$sess.cmd0$Helper.$anonfun$fibonacci_k$1(\u001b[32mcmd0.sc\u001b[39m:\u001b[32m5\u001b[39m)\n  ammonite.$sess.cmd0$Helper.$anonfun$fibonacci_k$1$adapted(\u001b[32mcmd0.sc\u001b[39m:\u001b[32m5\u001b[39m)\n  ammonite.$sess.cmd0$Helper.$anonfun$fibonacci_k$2(\u001b[32mcmd0.sc\u001b[39m:\u001b[32m5\u001b[39m)\n  ammonite.$sess.cmd0$Helper.$anonfun$fibonacci_k$2$adapted(\u001b[32mcmd0.sc\u001b[39m:\u001b[32m5\u001b[39m)\n  ammonite.$sess.cmd0$Helper.fibonacci_k(\u001b[32mcmd0.sc\u001b[39m:\u001b[32m3\u001b[39m)\n  ammonite.$sess.cmd0$Helper.$anonfun$fibonacci_k$1(\u001b[32mcmd0.sc\u001b[39m:\u001b[32m5\u001b[39m)\n  ammonite.$sess.cmd0$Helper.$anonfun$fibonacci_k$1$adapted(\u001b[32mcmd0.sc\u001b[39m:\u001b[32m5\u001b[39m)\n  ammonite.$sess.cmd0$Helper.$anonfun$fibonacci_k$2(\u001b[32mcmd0.sc\u001b[39m:\u001b[32m5\u001b[39m)\n  ammonite.$sess.cmd0$Helper.$anonfun$fibonacci_k$2$adapted(\u001b[32mcmd0.sc\u001b[39m:\u001b[32m5\u001b[39m)\n  ammonite.$sess.cmd0$Helper.fibonacci_k(\u001b[32mcmd0.sc\u001b[39m:\u001b[32m3\u001b[39m)\n  ammonite.$sess.cmd0$Helper.$anonfun$fibonacci_k$1(\u001b[32mcmd0.sc\u001b[39m:\u001b[32m5\u001b[39m)\n  ammonite.$sess.cmd0$Helper.$anonfun$fibonacci_k$1$adapted(\u001b[32mcmd0.sc\u001b[39m:\u001b[32m5\u001b[39m)\n  ammonite.$sess.cmd0$Helper.fibonacci_k(\u001b[32mcmd0.sc\u001b[39m:\u001b[32m3\u001b[39m)\n  ammonite.$sess.cmd0$Helper.$anonfun$fibonacci_k$1(\u001b[32mcmd0.sc\u001b[39m:\u001b[32m5\u001b[39m)\n  ammonite.$sess.cmd0$Helper.$anonfun$fibonacci_k$1$adapted(\u001b[32mcmd0.sc\u001b[39m:\u001b[32m5\u001b[39m)\n  ammonite.$sess.cmd0$Helper.$anonfun$fibonacci_k$2(\u001b[32mcmd0.sc\u001b[39m:\u001b[32m5\u001b[39m)\n  ammonite.$sess.cmd0$Helper.$anonfun$fibonacci_k$2$adapted(\u001b[32mcmd0.sc\u001b[39m:\u001b[32m5\u001b[39m)\n  ammonite.$sess.cmd0$Helper.$anonfun$fibonacci_k$2(\u001b[32mcmd0.sc\u001b[39m:\u001b[32m5\u001b[39m)\n  ammonite.$sess.cmd0$Helper.$anonfun$fibonacci_k$2$adapted(\u001b[32mcmd0.sc\u001b[39m:\u001b[32m5\u001b[39m)\n  ammonite.$sess.cmd0$Helper.fibonacci_k(\u001b[32mcmd0.sc\u001b[39m:\u001b[32m3\u001b[39m)\n  ammonite.$sess.cmd0$Helper.$anonfun$fibonacci_k$1(\u001b[32mcmd0.sc\u001b[39m:\u001b[32m5\u001b[39m)\n  ammonite.$sess.cmd0$Helper.$anonfun$fibonacci_k$1$adapted(\u001b[32mcmd0.sc\u001b[39m:\u001b[32m5\u001b[39m)\n  ammonite.$sess.cmd0$Helper.$anonfun$fibonacci_k$2(\u001b[32mcmd0.sc\u001b[39m:\u001b[32m5\u001b[39m)\n  ammonite.$sess.cmd0$Helper.$anonfun$fibonacci_k$2$adapted(\u001b[32mcmd0.sc\u001b[39m:\u001b[32m5\u001b[39m)\n  ammonite.$sess.cmd0$Helper.fibonacci_k(\u001b[32mcmd0.sc\u001b[39m:\u001b[32m3\u001b[39m)\n  ammonite.$sess.cmd0$Helper.$anonfun$fibonacci_k$1(\u001b[32mcmd0.sc\u001b[39m:\u001b[32m5\u001b[39m)\n  ammonite.$sess.cmd0$Helper.$anonfun$fibonacci_k$1$adapted(\u001b[32mcmd0.sc\u001b[39m:\u001b[32m5\u001b[39m)\n  ammonite.$sess.cmd0$Helper.fibonacci_k(\u001b[32mcmd0.sc\u001b[39m:\u001b[32m3\u001b[39m)\n  ammonite.$sess.cmd0$Helper.$anonfun$fibonacci_k$1(\u001b[32mcmd0.sc\u001b[39m:\u001b[32m5\u001b[39m)\n  ammonite.$sess.cmd0$Helper.$anonfun$fibonacci_k$1$adapted(\u001b[32mcmd0.sc\u001b[39m:\u001b[32m5\u001b[39m)\n  ammonite.$sess.cmd0$Helper.$anonfun$fibonacci_k$2(\u001b[32mcmd0.sc\u001b[39m:\u001b[32m5\u001b[39m)\n  ammonite.$sess.cmd0$Helper.$anonfun$fibonacci_k$2$adapted(\u001b[32mcmd0.sc\u001b[39m:\u001b[32m5\u001b[39m)\n  ammonite.$sess.cmd0$Helper.$anonfun$fibonacci_k$2(\u001b[32mcmd0.sc\u001b[39m:\u001b[32m5\u001b[39m)\n  ammonite.$sess.cmd0$Helper.$anonfun$fibonacci_k$2$adapted(\u001b[32mcmd0.sc\u001b[39m:\u001b[32m5\u001b[39m)\n  ammonite.$sess.cmd0$Helper.fibonacci_k(\u001b[32mcmd0.sc\u001b[39m:\u001b[32m3\u001b[39m)\n  ammonite.$sess.cmd0$Helper.$anonfun$fibonacci_k$1(\u001b[32mcmd0.sc\u001b[39m:\u001b[32m5\u001b[39m)\n  ammonite.$sess.cmd0$Helper.$anonfun$fibonacci_k$1$adapted(\u001b[32mcmd0.sc\u001b[39m:\u001b[32m5\u001b[39m)\n  ammonite.$sess.cmd0$Helper.fibonacci_k(\u001b[32mcmd0.sc\u001b[39m:\u001b[32m3\u001b[39m)\n  ammonite.$sess.cmd0$Helper.$anonfun$fibonacci_k$1(\u001b[32mcmd0.sc\u001b[39m:\u001b[32m5\u001b[39m)\n  ammonite.$sess.cmd0$Helper.$anonfun$fibonacci_k$1$adapted(\u001b[32mcmd0.sc\u001b[39m:\u001b[32m5\u001b[39m)\n  ammonite.$sess.cmd0$Helper.$anonfun$fibonacci_k$2(\u001b[32mcmd0.sc\u001b[39m:\u001b[32m5\u001b[39m)\n  ammonite.$sess.cmd0$Helper.$anonfun$fibonacci_k$2$adapted(\u001b[32mcmd0.sc\u001b[39m:\u001b[32m5\u001b[39m)\n  ammonite.$sess.cmd0$Helper.fibonacci_k(\u001b[32mcmd0.sc\u001b[39m:\u001b[32m3\u001b[39m)"
     ]
    }
   ],
   "source": [
    "fibonacci_k(20, print)"
   ]
  },
  {
   "cell_type": "markdown",
   "metadata": {},
   "source": [
    "What just happened? \n",
    "- Well, even though the function is tail recursive, Scala did not recognize it as tail recursive.\n",
    "\n",
    "Scala runs on the Java Virtual Machines which implements a lot of powerful optimizations to make our code run faster. However, tail call optimization, which is a very basic optimization implemented in numerous languages is not possible in the JVM. Scala implements a poor-person version of this optimization but it is not very good."
   ]
  },
  {
   "cell_type": "code",
   "execution_count": 5,
   "metadata": {},
   "outputs": [
    {
     "data": {
      "text/plain": [
       "\u001b[32mimport \u001b[39m\u001b[36mscala.annotation.tailrec\n",
       "\n",
       "\u001b[39m\n",
       "defined \u001b[32mfunction\u001b[39m \u001b[36mfactorialTCO_k\u001b[39m"
      ]
     },
     "execution_count": 5,
     "metadata": {},
     "output_type": "execute_result"
    }
   ],
   "source": [
    "import scala.annotation.tailrec\n",
    "\n",
    "@tailrec\n",
    "def factorialTCO_k[T] (n: Int, k: Int => T): T = {\n",
    "    if (n < 1)\n",
    "        k(1)\n",
    "    else \n",
    "        factorialTCO_k(n-1, v1 => {k(n*v1)})\n",
    "}"
   ]
  },
  {
   "cell_type": "code",
   "execution_count": 5,
   "metadata": {},
   "outputs": [
    {
     "name": "stderr",
     "output_type": "stream",
     "text": [
      "cmd5.sc:8: could not optimize @tailrec annotated method fibonacciTCO_k: it contains a recursive call not in tail position\n",
      "        fibonacciTCO_k(n-1, v1 => fibonacciTCO_k(n-2, v2 => {k(v1 + v2)} ))\n",
      "                                                ^Compilation Failed"
     ]
    },
    {
     "ename": "",
     "evalue": "",
     "output_type": "error",
     "traceback": [
      "Compilation Failed"
     ]
    }
   ],
   "source": [
    "import scala.annotation.tailrec\n",
    "\n",
    "@tailrec\n",
    "def fibonacciTCO_k[T] (n: Int, k: Int => T): T = {\n",
    "    if (n < 2)\n",
    "        k(1)\n",
    "    else \n",
    "        fibonacciTCO_k(n-1, v1 => fibonacciTCO_k(n-2, v2 => {k(v1 + v2)} ))\n",
    "}"
   ]
  },
  {
   "cell_type": "markdown",
   "metadata": {},
   "source": [
    "As you can see, it was clever enough to optimize the tail call in factorial but not clever enough to optimize that in fibonacci. This is because scala is limited in its ability to recognize tail calls. A more sophisticated analysis could understand that ` v1 => fibonacciTCO_k(n-2, v2 => {k(v1 + v2)} )` is not a tail call but a closure.\n",
    "But we have to work with the language we have and not the one we wish we had ;-)"
   ]
  },
  {
   "cell_type": "markdown",
   "metadata": {},
   "source": [
    "## Trampolines\n",
    "\n",
    "Trampolines are a trick that support continuation passing style in languages that lack the ability to do TCO. You can view it as a manual approach to tail call optimization. \n",
    "\n",
    "We make two simple changes: \n",
    "- The CPS program rather than calling the tail call simply returns the tail call as a closure.\n",
    "- The trampoline is simply a while loop that will call the tail call while making sure that the stack never grows.\n",
    "\n",
    "\n",
    "Therefore, rather than make the tail call, the CPS transform returns an object of type CPSResult.\n",
    "\n",
    "A `CPSResult` can be one of two things:\n",
    "- A _CALL_ object that encapsulates a function denoted by `Call( f: () => CPSResult[T] ) `. Call takes in a field `f` such that if we call `f` it returns an object of type `CPSResult[T]`\n",
    "- A _DONE_ object that encapsulates a value of type `T` (the overall return value of our original function).\n"
   ]
  },
  {
   "cell_type": "code",
   "execution_count": 6,
   "metadata": {},
   "outputs": [
    {
     "data": {
      "text/plain": [
       "defined \u001b[32mtrait\u001b[39m \u001b[36mCPSResult\u001b[39m\n",
       "defined \u001b[32mclass\u001b[39m \u001b[36mCall\u001b[39m\n",
       "defined \u001b[32mclass\u001b[39m \u001b[36mDone\u001b[39m"
      ]
     },
     "execution_count": 6,
     "metadata": {},
     "output_type": "execute_result"
    }
   ],
   "source": [
    "sealed trait CPSResult[T]\n",
    "case class Call[T](f: () => CPSResult[T]) extends CPSResult[T]\n",
    "case class Done[T](v: T) extends CPSResult[T]"
   ]
  },
  {
   "cell_type": "markdown",
   "metadata": {},
   "source": [
    "The main idea is as follows. Suppose the original CPS function is of the form \n",
    "\n",
    "~~~\n",
    "def originalCPSFunction( x: ..., k: ... => T) : T = {\n",
    "   if ( ... base case condition ... )\n",
    "       return k ( .base args.)\n",
    "   else \n",
    "       ...\n",
    "       return tailCall( new_x, new_k )\n",
    "     }\n",
    "~~~\n",
    "\n",
    "the trampolined version is of the form\n",
    "\n",
    "~~~\n",
    "def trampolinedCPSFunction(x: .., k : ... => CPSResult[T]): CPSResult[T] = {\n",
    "   if ( ... base case condition ... ) \n",
    "        return Call( () => k( .. base args .. )\n",
    "   else \n",
    "        ..... \n",
    "        return Call( () => tailCall(new_x, new_k_trampolined) \n",
    "}\n",
    "~~~\n",
    "\n",
    "Notice that instead of calling `k` or calling `tailCall`, we return a `Call` object that\n",
    "encapsulates a closure `() => <whatever we were calling originally> `. The idea of making a unit\n",
    "closure is that it delays computation so that scala does not evaluate `k(..base args..)` or \n",
    "`tailCall( ...) ` which would totally defeat the purpose.\n",
    "\n"
   ]
  },
  {
   "cell_type": "code",
   "execution_count": 7,
   "metadata": {},
   "outputs": [
    {
     "data": {
      "text/plain": [
       "defined \u001b[32mfunction\u001b[39m \u001b[36mfactorial_k\u001b[39m\n",
       "defined \u001b[32mfunction\u001b[39m \u001b[36mtramp_factorial_k\u001b[39m"
      ]
     },
     "execution_count": 7,
     "metadata": {},
     "output_type": "execute_result"
    }
   ],
   "source": [
    "def factorial_k[T](n: Int, k: Int => T): T = {\n",
    "    if (n <= 0)\n",
    "        k(1) // () => k(1)\n",
    "    else \n",
    "       factorial_k(n-1, v => {k(n * v)}) // () => ... \n",
    "}\n",
    "\n",
    "// The trampolined version with continuations\n",
    "def tramp_factorial_k[T](n: Int, k: Int => CPSResult[T]): CPSResult[T] = {\n",
    "    //println(\"DEBUG: I am in tramp_factorial_k\")\n",
    "    if (n <= 0)\n",
    "        Call( () => { k(1)} )\n",
    "    else \n",
    "       // Used to be factorial_k(n-1, v => {k(n *v)})\n",
    "       Call( () => tramp_factorial_k(n-1, v => { // Used to be k(n*v) \n",
    "                                        Call( () =>  {  k(n * v) } ) \n",
    "                                        }) )\n",
    "}"
   ]
  },
  {
   "cell_type": "markdown",
   "metadata": {},
   "source": [
    "Notice two main things: \n",
    "- The trampolined function when called always returns a new function encapsulated inside a Call object.\n",
    "- We replace every function call f(...args ..) by Call( () => f( .. args .. ) ) \n",
    "- A trampolined version should never call another function. It always returns an object of type `CPSResult[T]`\n",
    "- The type of the continuation used to be `k: Int => T` is now `k: Int => CPSResult[T]`.\n",
    "\n",
    "Now we write the trampoline for factorial."
   ]
  },
  {
   "cell_type": "code",
   "execution_count": 8,
   "metadata": {},
   "outputs": [
    {
     "data": {
      "text/plain": [
       "defined \u001b[32mfunction\u001b[39m \u001b[36mfactorial\u001b[39m"
      ]
     },
     "execution_count": 8,
     "metadata": {},
     "output_type": "execute_result"
    }
   ],
   "source": [
    "def factorial(n: Int):Int = {\n",
    "    // It is important that the  continuation passed to the very first call\n",
    "    // return Done(value) to indicate that the computation is done when it is called.\n",
    "    // Identity function that encapsulates its result in Done\n",
    "    \n",
    "    // x => Done(x) \n",
    "    def terminal_continuation (x: Int): CPSResult[Int] = {  Done(x) }\n",
    "    \n",
    "    // Now instead of recursion, we will use a while loop\n",
    "    var call_res = tramp_factorial_k(n, terminal_continuation)\n",
    "    var done = false\n",
    "    while (!done ){\n",
    "        println(\"DEBUG: I am in trampoline!\")\n",
    "        call_res match {\n",
    "            // Here is where we will call f\n",
    "            case Call(f) => { call_res = f() }\n",
    "            case Done(v) => {done = true}\n",
    "        }\n",
    "    }\n",
    "    print(\"DEBUG: Trampoline is done.\")\n",
    "    call_res match {\n",
    "        case Call(f) => { throw new AssertionError(\"This should never happen, since the while loop must have kept iterating until we saw Done\")\n",
    "                        }\n",
    "        case Done(v: Int) => {return v}\n",
    "    }\n",
    "    \n",
    "}"
   ]
  },
  {
   "cell_type": "code",
   "execution_count": 9,
   "metadata": {},
   "outputs": [
    {
     "name": "stdout",
     "output_type": "stream",
     "text": [
      "DEBUG: I am in trampoline!\n",
      "DEBUG: I am in trampoline!\n",
      "DEBUG: I am in trampoline!\n",
      "DEBUG: I am in trampoline!\n",
      "DEBUG: I am in trampoline!\n",
      "DEBUG: I am in trampoline!\n",
      "DEBUG: I am in trampoline!\n",
      "DEBUG: I am in trampoline!\n",
      "DEBUG: I am in trampoline!\n",
      "DEBUG: I am in trampoline!\n",
      "DEBUG: I am in trampoline!\n",
      "DEBUG: I am in trampoline!\n",
      "DEBUG: I am in trampoline!\n",
      "DEBUG: I am in trampoline!\n",
      "DEBUG: Trampoline is done."
     ]
    },
    {
     "data": {
      "text/plain": [
       "\u001b[36mres8\u001b[39m: \u001b[32mInt\u001b[39m = \u001b[32m720\u001b[39m"
      ]
     },
     "execution_count": 9,
     "metadata": {},
     "output_type": "execute_result"
    }
   ],
   "source": [
    "factorial(6)"
   ]
  },
  {
   "cell_type": "markdown",
   "metadata": {},
   "source": [
    "Notice how the code jumps between calling the trampoline and the tramp_factorial_k functions.\n",
    "\n",
    "- Initial call to trampoline.\n",
    "- Trampoline calls factorial function\n",
    "- Factorial function returns a new function to call.\n",
    "- Trampoline calls the function that factorial returns\n",
    "- Call returns a function to the trampoline.\n",
    "- Trampoline calls this function\n",
    "- ....\n",
    "- The returned function is the terminal\n",
    "- Trampoline calls terminal function.\n",
    "\n",
    "Note how the stack has at most two calls in it.\n",
    "- The call to trampoline.\n",
    "- The call to whatever trampoline has called.\n",
    "\n",
    "Since whatever is called by trampoline just returns a closure and trampoline calls that closure.\n",
    "\n",
    "How does this work for Fibonacci?"
   ]
  },
  {
   "cell_type": "code",
   "execution_count": 10,
   "metadata": {},
   "outputs": [
    {
     "data": {
      "text/plain": [
       "defined \u001b[32mfunction\u001b[39m \u001b[36mtramp_fibonacci_k\u001b[39m"
      ]
     },
     "execution_count": 10,
     "metadata": {},
     "output_type": "execute_result"
    }
   ],
   "source": [
    "//was: def fibonacci_k[T](n: Int, k: Int => T): T\n",
    "def tramp_fibonacci_k[T](n: Int, k: Int => CPSResult[T]): CPSResult[T]  = {\n",
    "    \n",
    "    if (n <= 2)\n",
    "        {\n",
    "            //was: return k(1)\n",
    "            // since fibonacci should not call k, it returns a Call object to trampoline, which will call it.\n",
    "            return Call( () => { k(1) } )\n",
    "        }\n",
    "    else \n",
    "        // was: fibonacci_k(n-1, v1 => fibonacci_k(n-2, v2 => k(v1+v2)))\n",
    "        // make it into a call object\n",
    "        // Do not forget to modify the continuation as well. \n",
    "        // Wherever you see a function being called, mechanically replace it by Call( () => fun-being-called)\n",
    "        return Call( () => { fibonacci_k(n-1, \n",
    "                                         v1 => Call( () => { \n",
    "                                                        fibonacci_k(n-2, v2 => {\n",
    "                                                               Call( () => { k(v1 + v2)} )\n",
    "                                                        } ) } )\n",
    "                                        )\n",
    "                           }\n",
    "                   )\n",
    "}"
   ]
  },
  {
   "cell_type": "markdown",
   "metadata": {},
   "source": [
    "We build the trampoline in the usual way."
   ]
  },
  {
   "cell_type": "code",
   "execution_count": 11,
   "metadata": {},
   "outputs": [
    {
     "data": {
      "text/plain": [
       "defined \u001b[32mfunction\u001b[39m \u001b[36mfibonacci\u001b[39m"
      ]
     },
     "execution_count": 11,
     "metadata": {},
     "output_type": "execute_result"
    }
   ],
   "source": [
    "def fibonacci(n: Int): Int = {\n",
    "    var done = false\n",
    "    def k (t: Int) = Done(t)\n",
    "    var res: CPSResult[Int] = tramp_fibonacci_k(n, k)\n",
    "    while (!done){\n",
    "        res match {\n",
    "            case Call(f) => { res = f() } \n",
    "            case Done(v) => {done = true}\n",
    "        }\n",
    "    }\n",
    "    res match {\n",
    "            case Call(f) => throw new IllegalArgumentException(\"what the ..\")\n",
    "            case Done(v: Int) => {return v}\n",
    "        }\n",
    "}"
   ]
  },
  {
   "cell_type": "code",
   "execution_count": 12,
   "metadata": {},
   "outputs": [
    {
     "data": {
      "text/plain": [
       "\u001b[36mres11\u001b[39m: \u001b[32mInt\u001b[39m = \u001b[32m144\u001b[39m"
      ]
     },
     "execution_count": 12,
     "metadata": {},
     "output_type": "execute_result"
    }
   ],
   "source": [
    "fibonacci(11)"
   ]
  },
  {
   "cell_type": "markdown",
   "metadata": {},
   "source": [
    "Let us try a simple example over trees."
   ]
  },
  {
   "cell_type": "code",
   "execution_count": 13,
   "metadata": {},
   "outputs": [
    {
     "data": {
      "text/plain": [
       "defined \u001b[32mtrait\u001b[39m \u001b[36mNumTree\u001b[39m\n",
       "defined \u001b[32mclass\u001b[39m \u001b[36mNode\u001b[39m\n",
       "defined \u001b[32mobject\u001b[39m \u001b[36mLeaf\u001b[39m"
      ]
     },
     "execution_count": 13,
     "metadata": {},
     "output_type": "execute_result"
    }
   ],
   "source": [
    "sealed trait NumTree\n",
    "case class Node(j: Int, child1: NumTree, child2: NumTree) extends NumTree\n",
    "case object Leaf extends NumTree"
   ]
  },
  {
   "cell_type": "code",
   "execution_count": 14,
   "metadata": {},
   "outputs": [
    {
     "data": {
      "text/plain": [
       "defined \u001b[32mfunction\u001b[39m \u001b[36mheightOfTree\u001b[39m\n",
       "defined \u001b[32mfunction\u001b[39m \u001b[36mheightOfTree_k\u001b[39m\n",
       "defined \u001b[32mfunction\u001b[39m \u001b[36mtramp_heightOfTree_k\u001b[39m"
      ]
     },
     "execution_count": 14,
     "metadata": {},
     "output_type": "execute_result"
    }
   ],
   "source": [
    "def heightOfTree(t: NumTree): Int = t match {\n",
    "    case Leaf => 0\n",
    "    case Node(j, c1, c2) => 1 + math.max(heightOfTree(c1), heightOfTree(c2))\n",
    "}\n",
    "\n",
    "def heightOfTree_k[T](t: NumTree, k: Int => T): T = t match {\n",
    "    case Leaf => k(0)\n",
    "    case Node(j, c1, c2) => heightOfTree_k(c1, v1 => { heightOfTree_k(c2, v2 => { k(1+ math.max(v1, v2)) } )})\n",
    "}\n",
    "\n",
    "def tramp_heightOfTree_k[T](t: NumTree, k: Int => CPSResult[T]) : CPSResult[T] = t match {\n",
    "     case Leaf => Call(() => k(0) )\n",
    "    case Node(j, c1, c2) => { Call(() => heightOfTree_k(c1, v1 => \n",
    "                                 { Call( () =>  heightOfTree_k(c2, v2 => { Call( () => k(1 + math.max(v1, v2)) ) }))})) }\n",
    "}"
   ]
  },
  {
   "cell_type": "code",
   "execution_count": 15,
   "metadata": {},
   "outputs": [
    {
     "data": {
      "text/plain": [
       "defined \u001b[32mfunction\u001b[39m \u001b[36mheightOfTreeWithTrampoline\u001b[39m"
      ]
     },
     "execution_count": 15,
     "metadata": {},
     "output_type": "execute_result"
    }
   ],
   "source": [
    "def heightOfTreeWithTrampoline(t: NumTree): Int = {\n",
    "    def terminal_cont(j: Int) = Done(j)\n",
    "    var res = tramp_heightOfTree_k(t, terminal_cont)\n",
    "    var done = false\n",
    "    while (!done){\n",
    "        res match {\n",
    "            case Done(j) => {done = true}\n",
    "            case Call(f) => {res = f() }\n",
    "        }\n",
    "    }\n",
    "    res match {\n",
    "            case Call(f) => throw new IllegalArgumentException(\"what the ..\")\n",
    "            case Done(v: Int) => {return v}\n",
    "    }\n",
    "}"
   ]
  },
  {
   "cell_type": "code",
   "execution_count": 16,
   "metadata": {},
   "outputs": [
    {
     "data": {
      "text/plain": [
       "\u001b[36mt1\u001b[39m: \u001b[32mNode\u001b[39m = \u001b[33mNode\u001b[39m(\u001b[32m18\u001b[39m, Leaf, Leaf)\n",
       "\u001b[36mt2\u001b[39m: \u001b[32mNode\u001b[39m = \u001b[33mNode\u001b[39m(\u001b[32m10\u001b[39m, \u001b[33mNode\u001b[39m(\u001b[32m15\u001b[39m, \u001b[33mNode\u001b[39m(\u001b[32m18\u001b[39m, Leaf, Leaf), Leaf), \u001b[33mNode\u001b[39m(\u001b[32m28\u001b[39m, Leaf, Leaf))\n",
       "\u001b[36mt3\u001b[39m: \u001b[32mNode\u001b[39m = \u001b[33mNode\u001b[39m(\n",
       "  \u001b[32m20\u001b[39m,\n",
       "  \u001b[33mNode\u001b[39m(\u001b[32m18\u001b[39m, Leaf, Leaf),\n",
       "  \u001b[33mNode\u001b[39m(\u001b[32m10\u001b[39m, \u001b[33mNode\u001b[39m(\u001b[32m15\u001b[39m, \u001b[33mNode\u001b[39m(\u001b[32m18\u001b[39m, Leaf, Leaf), Leaf), \u001b[33mNode\u001b[39m(\u001b[32m28\u001b[39m, Leaf, Leaf))\n",
       ")\n",
       "\u001b[36mt4\u001b[39m: \u001b[32mNode\u001b[39m = \u001b[33mNode\u001b[39m(\n",
       "  \u001b[32m19\u001b[39m,\n",
       "  \u001b[33mNode\u001b[39m(\n",
       "    \u001b[32m20\u001b[39m,\n",
       "    \u001b[33mNode\u001b[39m(\u001b[32m18\u001b[39m, Leaf, Leaf),\n",
       "    \u001b[33mNode\u001b[39m(\u001b[32m10\u001b[39m, \u001b[33mNode\u001b[39m(\u001b[32m15\u001b[39m, \u001b[33mNode\u001b[39m(\u001b[32m18\u001b[39m, Leaf, Leaf), Leaf), \u001b[33mNode\u001b[39m(\u001b[32m28\u001b[39m, Leaf, Leaf))\n",
       "  ),\n",
       "  \u001b[33mNode\u001b[39m(\n",
       "    \u001b[32m20\u001b[39m,\n",
       "    \u001b[33mNode\u001b[39m(\u001b[32m18\u001b[39m, Leaf, Leaf),\n",
       "    \u001b[33mNode\u001b[39m(\u001b[32m10\u001b[39m, \u001b[33mNode\u001b[39m(\u001b[32m15\u001b[39m, \u001b[33mNode\u001b[39m(\u001b[32m18\u001b[39m, Leaf, Leaf), Leaf), \u001b[33mNode\u001b[39m(\u001b[32m28\u001b[39m, Leaf, Leaf))\n",
       "  )\n",
       ")"
      ]
     },
     "execution_count": 16,
     "metadata": {},
     "output_type": "execute_result"
    }
   ],
   "source": [
    "val t1 = Node(18, Leaf, Leaf)\n",
    "val t2 = Node(10,  Node(15, t1, Leaf), Node(28, Leaf, Leaf))\n",
    "val t3 = Node(20, t1, t2)\n",
    "val t4 = Node(19, t3, t3)"
   ]
  },
  {
   "cell_type": "code",
   "execution_count": 19,
   "metadata": {},
   "outputs": [
    {
     "data": {
      "text/plain": [
       "\u001b[36mres18\u001b[39m: \u001b[32mInt\u001b[39m = \u001b[32m5\u001b[39m"
      ]
     },
     "execution_count": 19,
     "metadata": {},
     "output_type": "execute_result"
    }
   ],
   "source": [
    "heightOfTree(t4)"
   ]
  },
  {
   "cell_type": "code",
   "execution_count": 18,
   "metadata": {},
   "outputs": [
    {
     "data": {
      "text/plain": [
       "\u001b[36mres17\u001b[39m: \u001b[32mInt\u001b[39m = \u001b[32m5\u001b[39m"
      ]
     },
     "execution_count": 18,
     "metadata": {},
     "output_type": "execute_result"
    }
   ],
   "source": [
    "heightOfTreeWithTrampoline(t4)"
   ]
  },
  {
   "cell_type": "code",
   "execution_count": 17,
   "metadata": {},
   "outputs": [
    {
     "data": {
      "text/plain": [
       "\u001b[36mres16\u001b[39m: \u001b[32mInt\u001b[39m = \u001b[32m5\u001b[39m"
      ]
     },
     "execution_count": 17,
     "metadata": {},
     "output_type": "execute_result"
    }
   ],
   "source": [
    "heightOfTree_k(t4, x => x)"
   ]
  },
  {
   "cell_type": "markdown",
   "metadata": {},
   "source": [
    "## Trampolines In-Built Inside Scala"
   ]
  },
  {
   "cell_type": "markdown",
   "metadata": {},
   "source": [
    "We have been pretending that scala does not have trampolines. This is not true. It has support for them inside its standard library. Here is how we would trampoline in scala."
   ]
  },
  {
   "cell_type": "code",
   "execution_count": 24,
   "metadata": {},
   "outputs": [
    {
     "data": {
      "text/plain": [
       "\u001b[32mimport \u001b[39m\u001b[36mscala.util.control.TailCalls.{ TailRec, done, tailcall }\n",
       "\u001b[39m\n",
       "defined \u001b[32mfunction\u001b[39m \u001b[36mfibonacciTCO_k\u001b[39m\n",
       "defined \u001b[32mfunction\u001b[39m \u001b[36mfibonacci\u001b[39m"
      ]
     },
     "execution_count": 24,
     "metadata": {},
     "output_type": "execute_result"
    }
   ],
   "source": [
    "import scala.util.control.TailCalls.{ TailRec, done, tailcall }\n",
    "def fibonacciTCO_k[T] (n: Int, k: Int => TailRec[T]): TailRec[T] = {\n",
    "    if (n < 2)\n",
    "        tailcall(k(1)) // Simply wrap this under tailcall function \n",
    "    else // Simply wrap this around tailcall function\n",
    "        tailcall(\n",
    "            fibonacciTCO_k(n-1, v1 => fibonacciTCO_k(n-2, v2 => {k(v1 + v2)} ))\n",
    "            )\n",
    "}\n",
    "\n",
    "def fibonacci(n: Int): Int = {\n",
    "    def terminalFun(x: Int):TailRec[Int] = done(x) // The terminal function should call done\n",
    "    val y = fibonacciTCO_k(n, terminalFun)\n",
    "    y.result // Use result to extract the result.\n",
    "}"
   ]
  },
  {
   "cell_type": "code",
   "execution_count": 25,
   "metadata": {},
   "outputs": [
    {
     "data": {
      "text/plain": [
       "\u001b[36mres24\u001b[39m: \u001b[32mInt\u001b[39m = \u001b[32m10946\u001b[39m"
      ]
     },
     "execution_count": 25,
     "metadata": {},
     "output_type": "execute_result"
    }
   ],
   "source": [
    "fibonacci(20)"
   ]
  },
  {
   "cell_type": "code",
   "execution_count": 26,
   "metadata": {},
   "outputs": [
    {
     "data": {
      "text/plain": [
       "\u001b[36mres25\u001b[39m: \u001b[32mInt\u001b[39m = \u001b[32m1346269\u001b[39m"
      ]
     },
     "execution_count": 26,
     "metadata": {},
     "output_type": "execute_result"
    }
   ],
   "source": [
    "fibonacci(30)"
   ]
  },
  {
   "cell_type": "code",
   "execution_count": 27,
   "metadata": {},
   "outputs": [
    {
     "data": {
      "text/plain": [
       "\u001b[36mres26\u001b[39m: \u001b[32mInt\u001b[39m = \u001b[32m165580141\u001b[39m"
      ]
     },
     "execution_count": 27,
     "metadata": {},
     "output_type": "execute_result"
    }
   ],
   "source": [
    "fibonacci(40)"
   ]
  }
 ],
 "metadata": {
  "kernelspec": {
   "display_name": "Scala",
   "language": "scala",
   "name": "scala"
  },
  "language_info": {
   "codemirror_mode": "text/x-scala",
   "file_extension": ".scala",
   "mimetype": "text/x-scala",
   "name": "scala",
   "nbconvert_exporter": "script",
   "version": "2.12.8"
  }
 },
 "nbformat": 4,
 "nbformat_minor": 2
}
