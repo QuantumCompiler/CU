{
 "cells": [
  {
   "cell_type": "code",
   "execution_count": 1,
   "metadata": {},
   "outputs": [
    {
     "data": {
      "text/plain": [
       "defined \u001b[32mtrait\u001b[39m \u001b[36mActions\u001b[39m\n",
       "defined \u001b[32mclass\u001b[39m \u001b[36mCall\u001b[39m\n",
       "defined \u001b[32mclass\u001b[39m \u001b[36mDone\u001b[39m"
      ]
     },
     "execution_count": 1,
     "metadata": {},
     "output_type": "execute_result"
    }
   ],
   "source": [
    "sealed trait Actions {\n",
    "    def doIt(): Actions\n",
    "    def isCallable: Boolean\n",
    "}\n",
    "case class Call( thunk: () => Actions) extends Actions {\n",
    "    def doIt(): Actions =  {thunk()} // Thing that executes the thunk\n",
    "    def isCallable: Boolean = true \n",
    "}\n",
    "\n",
    "case class Done[T](v: T) extends Actions { // Termination action\n",
    "    def doIt(): Actions = throw new IllegalArgumentException(\"Cannot ask me to do it when I am already done\")\n",
    "    def isCallable: Boolean = false \n",
    "}"
   ]
  },
  {
   "cell_type": "code",
   "execution_count": 2,
   "metadata": {},
   "outputs": [
    {
     "data": {
      "text/plain": [
       "defined \u001b[32mfunction\u001b[39m \u001b[36mfactorial_cps\u001b[39m"
      ]
     },
     "execution_count": 2,
     "metadata": {},
     "output_type": "execute_result"
    }
   ],
   "source": [
    "def factorial_cps[T](x: Int, k: Int => T): T = {\n",
    "    if (x <= 1)\n",
    "        k(1) // Call cont. on base case\n",
    "    else \n",
    "        factorial_cps( x - 1, v => k(x * v)) // factorial call with cont.\n",
    "}"
   ]
  },
  {
   "cell_type": "code",
   "execution_count": 7,
   "metadata": {},
   "outputs": [
    {
     "data": {
      "text/plain": [
       "defined \u001b[32mfunction\u001b[39m \u001b[36mfactorial_trampoline\u001b[39m"
      ]
     },
     "execution_count": 7,
     "metadata": {},
     "output_type": "execute_result"
    }
   ],
   "source": [
    "def factorial_trampoline(x: Int, k: Int => Actions): Actions = {\n",
    "    println(\"In Factorial_Trampoline Function\")\n",
    "    if (x <= 1)\n",
    "        Call (() => k(1)) // Thunk up k(1)\n",
    "    else\n",
    "        Call (() => factorial_trampoline(x-1, (v)=> { Call( () => k(x * v)) } )) // Thunk up all inner fn. calls as well.\n",
    "}"
   ]
  },
  {
   "cell_type": "code",
   "execution_count": 8,
   "metadata": {},
   "outputs": [
    {
     "data": {
      "text/plain": [
       "defined \u001b[32mfunction\u001b[39m \u001b[36mfactorial_main\u001b[39m"
      ]
     },
     "execution_count": 8,
     "metadata": {},
     "output_type": "execute_result"
    }
   ],
   "source": [
    "def factorial_main(x: Int): Int = {\n",
    "    val k0 = (v: Int) => {Done(v)} // Terminal Continuation\n",
    "    var currentThunk = factorial_trampoline(x, k0)\n",
    "    while (currentThunk.isCallable) {\n",
    "        println(\"In Factorial Main Function\")\n",
    "        currentThunk = currentThunk.doIt()\n",
    "    }\n",
    "    currentThunk match {\n",
    "        case Done(v: Int) => v\n",
    "        case _ => throw new AssertionError(\"This is impossible since when the trampoline loop is done, we should be done.\")\n",
    "    }\n",
    "    \n",
    "}"
   ]
  },
  {
   "cell_type": "code",
   "execution_count": 9,
   "metadata": {},
   "outputs": [
    {
     "name": "stdout",
     "output_type": "stream",
     "text": [
      "In Factorial_Trampoline Function\n",
      "In Factorial Main Function\n",
      "In Factorial_Trampoline Function\n",
      "In Factorial Main Function\n",
      "In Factorial_Trampoline Function\n",
      "In Factorial Main Function\n",
      "In Factorial_Trampoline Function\n",
      "In Factorial Main Function\n",
      "In Factorial_Trampoline Function\n",
      "In Factorial Main Function\n",
      "In Factorial_Trampoline Function\n",
      "In Factorial Main Function\n",
      "In Factorial_Trampoline Function\n",
      "In Factorial Main Function\n",
      "In Factorial_Trampoline Function\n",
      "In Factorial Main Function\n",
      "In Factorial_Trampoline Function\n",
      "In Factorial Main Function\n",
      "In Factorial_Trampoline Function\n",
      "In Factorial Main Function\n",
      "In Factorial Main Function\n",
      "In Factorial Main Function\n",
      "In Factorial Main Function\n",
      "In Factorial Main Function\n",
      "In Factorial Main Function\n",
      "In Factorial Main Function\n",
      "In Factorial Main Function\n",
      "In Factorial Main Function\n",
      "In Factorial Main Function\n"
     ]
    },
    {
     "data": {
      "text/plain": [
       "\u001b[36mres8\u001b[39m: \u001b[32mInt\u001b[39m = \u001b[32m3628800\u001b[39m"
      ]
     },
     "execution_count": 9,
     "metadata": {},
     "output_type": "execute_result"
    }
   ],
   "source": [
    "factorial_main(10)"
   ]
  },
  {
   "cell_type": "code",
   "execution_count": 11,
   "metadata": {},
   "outputs": [
    {
     "data": {
      "text/plain": [
       "defined \u001b[32mfunction\u001b[39m \u001b[36mfibonacci_cps\u001b[39m"
      ]
     },
     "execution_count": 11,
     "metadata": {},
     "output_type": "execute_result"
    }
   ],
   "source": [
    "def fibonacci_cps[T](x: Int, k : Int => T): T = {\n",
    "    if (x <= 2)\n",
    "        k(1)\n",
    "    else\n",
    "        fibonacci_cps( x -1 , v1 => { fibonacci_cps(x -2, v2 => {k (v1 + v2)})})\n",
    "} // Thing that failed us"
   ]
  },
  {
   "cell_type": "code",
   "execution_count": 13,
   "metadata": {},
   "outputs": [
    {
     "data": {
      "text/plain": [
       "defined \u001b[32mfunction\u001b[39m \u001b[36mfibonacci_trampoline\u001b[39m"
      ]
     },
     "execution_count": 13,
     "metadata": {},
     "output_type": "execute_result"
    }
   ],
   "source": [
    "def fibonacci_trampoline[T](x: Int, k: Int => Actions): Actions = {\n",
    "    if (x <= 2)\n",
    "        Call ( () => k(1)) // Wrap up the call into a thunk\n",
    "    else \n",
    "        Call ( () => {\n",
    "            fibonacci_trampoline( x-1, \n",
    "                         v1 => {\n",
    "                             Call( () => fibonacci_trampoline(x-2, v2 => {\n",
    "                                     Call (() => k(v1+v2))\n",
    "                                 }) \n",
    "                             )\n",
    "                         }\n",
    "                         )\n",
    "        }  ) // Wrap up every tail call into a thunk\n",
    "}"
   ]
  },
  {
   "cell_type": "code",
   "execution_count": 14,
   "metadata": {},
   "outputs": [
    {
     "data": {
      "text/plain": [
       "defined \u001b[32mfunction\u001b[39m \u001b[36mtrampolineIt\u001b[39m"
      ]
     },
     "execution_count": 14,
     "metadata": {},
     "output_type": "execute_result"
    }
   ],
   "source": [
    "def trampolineIt(thunkedCPSStyleFun: (Int, Int => Actions) => Actions, x0: Int): Int = {\n",
    "    val k0 = ( v: Int ) => Done(v) // Create a terminal continuation\n",
    "    var k = thunkedCPSStyleFun(x0, k0)\n",
    "    while (k.isCallable){\n",
    "        k = k.doIt()\n",
    "    }\n",
    "    k match {\n",
    "        case Done(v: Int)=> v\n",
    "        // This case below should not be reachable.\n",
    "        case _ => throw new AssertionError(\"This is impossible since when the trampoline loop is done, we should be done.\")\n",
    "    }\n",
    "}"
   ]
  },
  {
   "cell_type": "code",
   "execution_count": 15,
   "metadata": {},
   "outputs": [
    {
     "data": {
      "text/plain": [
       "defined \u001b[32mfunction\u001b[39m \u001b[36mfibonacci\u001b[39m"
      ]
     },
     "execution_count": 15,
     "metadata": {},
     "output_type": "execute_result"
    }
   ],
   "source": [
    "def fibonacci(x: Int) = trampolineIt(fibonacci_trampoline, x)"
   ]
  },
  {
   "cell_type": "code",
   "execution_count": 16,
   "metadata": {},
   "outputs": [
    {
     "data": {
      "text/plain": [
       "\u001b[36mres15\u001b[39m: \u001b[32mInt\u001b[39m = \u001b[32m55\u001b[39m"
      ]
     },
     "execution_count": 16,
     "metadata": {},
     "output_type": "execute_result"
    }
   ],
   "source": [
    "fibonacci(10)"
   ]
  },
  {
   "cell_type": "code",
   "execution_count": 17,
   "metadata": {},
   "outputs": [
    {
     "data": {
      "text/plain": [
       "\u001b[36mres16\u001b[39m: \u001b[32mInt\u001b[39m = \u001b[32m6765\u001b[39m"
      ]
     },
     "execution_count": 17,
     "metadata": {},
     "output_type": "execute_result"
    }
   ],
   "source": [
    "fibonacci(20)"
   ]
  },
  {
   "cell_type": "code",
   "execution_count": 18,
   "metadata": {},
   "outputs": [
    {
     "data": {
      "text/plain": [
       "\u001b[36mres17\u001b[39m: \u001b[32mInt\u001b[39m = \u001b[32m102334155\u001b[39m"
      ]
     },
     "execution_count": 18,
     "metadata": {},
     "output_type": "execute_result"
    }
   ],
   "source": [
    "fibonacci(40)"
   ]
  },
  {
   "cell_type": "code",
   "execution_count": 19,
   "metadata": {},
   "outputs": [
    {
     "data": {
      "text/plain": [
       "\u001b[32mimport \u001b[39m\u001b[36mscala.util.control.TailCalls.{ TailRec, done, tailcall }\n",
       "// Scala library does have the trampoline\n",
       "\n",
       "\u001b[39m\n",
       "defined \u001b[32mfunction\u001b[39m \u001b[36mfibonacci_cps_working\u001b[39m\n",
       "\u001b[36mv0\u001b[39m: \u001b[32mInt\u001b[39m = \u001b[32m102334155\u001b[39m"
      ]
     },
     "execution_count": 19,
     "metadata": {},
     "output_type": "execute_result"
    }
   ],
   "source": [
    "import scala.util.control.TailCalls.{ TailRec, done, tailcall }\n",
    "// Scala library does have the trampoline\n",
    "\n",
    "def fibonacci_cps_working(x: Int, k: Int => TailRec[Int]): TailRec[Int] = {\n",
    "    if (x <= 2)\n",
    "        tailcall(k(1)) // Call(() => k(1))\n",
    "    else\n",
    "            tailcall( fibonacci_cps_working(\n",
    "                x-1, v1 => (\n",
    "                        tailcall( fibonacci_cps_working(x-2, \n",
    "                                             v2 => { tailcall(k(v1 + v2))}\n",
    "                                             ) )\n",
    "                    )\n",
    "            )\n",
    "        )\n",
    "}\n",
    "\n",
    "\n",
    "val v0 = (fibonacci_cps_working(40, (v:Int) => (done(v)))).result\n"
   ]
  },
  {
   "cell_type": "code",
   "execution_count": null,
   "metadata": {},
   "outputs": [],
   "source": []
  }
 ],
 "metadata": {
  "kernelspec": {
   "display_name": "Scala",
   "language": "scala",
   "name": "scala"
  },
  "language_info": {
   "codemirror_mode": "text/x-scala",
   "file_extension": ".scala",
   "mimetype": "text/x-scala",
   "name": "scala",
   "nbconvert_exporter": "script",
   "version": "2.12.10"
  }
 },
 "nbformat": 4,
 "nbformat_minor": 2
}
