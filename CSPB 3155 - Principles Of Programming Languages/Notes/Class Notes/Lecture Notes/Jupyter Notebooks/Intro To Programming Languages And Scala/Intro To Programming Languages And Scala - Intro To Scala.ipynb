{
 "cells": [
  {
   "cell_type": "markdown",
   "metadata": {},
   "source": [
    "# Week 1, Lecture notes\n",
    "\n",
    "We will cover the following topics:\n",
    "  * Val vs Var\n",
    "  * Scala functions: defining them, higher order functions.\n",
    "  * Scala expressions: how are scala expressions put together.\n",
    "  * Scala types\n",
    "  * Scala in-built data structures: List and Map\n",
    "  * Scala classes.\n",
    "  * Writing code using recursive style.\n",
    "  \n",
    "What is the difference between val and var?"
   ]
  },
  {
   "cell_type": "code",
   "execution_count": 15,
   "metadata": {},
   "outputs": [
    {
     "data": {
      "text/html": [
       "<div class=\"jp-RenderedText\">\n",
       "<pre><code><span style=\"color: rgb(0, 187, 187)\"><span class=\"ansi-cyan-fg\">x</span></span>: <span style=\"color: rgb(0, 187, 0)\"><span class=\"ansi-green-fg\">Int</span></span> = <span style=\"color: rgb(0, 187, 0)\"><span class=\"ansi-green-fg\">10</span></span>\n",
       "<span style=\"color: rgb(0, 187, 187)\"><span class=\"ansi-cyan-fg\">y</span></span>: <span style=\"color: rgb(0, 187, 0)\"><span class=\"ansi-green-fg\">Int</span></span> = <span style=\"color: rgb(0, 187, 0)\"><span class=\"ansi-green-fg\">10</span></span></code></pre>\n",
       "</div>"
      ],
      "text/plain": [
       "\u001b[36mx\u001b[39m: \u001b[32mInt\u001b[39m = \u001b[32m10\u001b[39m\n",
       "\u001b[36my\u001b[39m: \u001b[32mInt\u001b[39m = \u001b[32m10\u001b[39m"
      ]
     },
     "metadata": {},
     "output_type": "display_data"
    }
   ],
   "source": [
    "val x: Int = 10 /* Immutable */\n",
    "var y: Int = 10 /* Mutable */"
   ]
  },
  {
   "cell_type": "code",
   "execution_count": 15,
   "metadata": {},
   "outputs": [
    {
     "name": "stderr",
     "output_type": "stream",
     "text": [
      "cmd15.sc:1: reassignment to val\n",
      "val res15 = x = 11\n",
      "              ^Compilation Failed"
     ]
    },
    {
     "ename": "",
     "evalue": "",
     "output_type": "error",
     "traceback": [
      "Compilation Failed"
     ]
    }
   ],
   "source": [
    "x = 11"
   ]
  },
  {
   "cell_type": "code",
   "execution_count": 16,
   "metadata": {},
   "outputs": [],
   "source": [
    "y = 12"
   ]
  },
  {
   "cell_type": "code",
   "execution_count": 17,
   "metadata": {},
   "outputs": [
    {
     "name": "stdout",
     "output_type": "stream",
     "text": [
      "13\n"
     ]
    }
   ],
   "source": [
    "y = y + 1\n",
    "println(y)"
   ]
  },
  {
   "cell_type": "markdown",
   "metadata": {},
   "source": [
    "val --> immutable identifier. Same as a const declaration in C/C++.\n",
    "\n",
    "var --> mutable: you can reassign.\n",
    "\n",
    "So we would mostly using var and rarely use vals right?? :-)"
   ]
  },
  {
   "cell_type": "code",
   "execution_count": 18,
   "metadata": {},
   "outputs": [
    {
     "data": {
      "text/plain": [
       "\u001b[36mx\u001b[39m: \u001b[32mInt\u001b[39m = \u001b[32m10\u001b[39m\n",
       "\u001b[36my\u001b[39m: \u001b[32mInt\u001b[39m = \u001b[32m20\u001b[39m\n",
       "\u001b[36mz\u001b[39m: \u001b[32mInt\u001b[39m = \u001b[32m0\u001b[39m\n",
       "\u001b[36mw\u001b[39m: \u001b[32mInt\u001b[39m = \u001b[32m200\u001b[39m"
      ]
     },
     "execution_count": 18,
     "metadata": {},
     "output_type": "execute_result"
    }
   ],
   "source": [
    "val x = 10\n",
    "val y = x + 10\n",
    "val z = x - y + 10\n",
    "val w = x * y - z / 15\n",
    "\n",
    "/* int x; */"
   ]
  },
  {
   "cell_type": "markdown",
   "metadata": {},
   "source": [
    "Scala code can be written in the usual way you would write C/C++/Python code: \n",
    "   * Using if/then/else, loops and function calls?\n",
    "   \n",
    "Some notes about use of \";\" and \"return\"."
   ]
  },
  {
   "cell_type": "code",
   "execution_count": 23,
   "metadata": {},
   "outputs": [
    {
     "name": "stdout",
     "output_type": "stream",
     "text": [
      "10\n",
      "9\n",
      "8\n",
      "7\n",
      "6\n",
      "5\n",
      "4\n",
      "3\n",
      "2\n",
      "1\n",
      "0\n"
     ]
    },
    {
     "data": {
      "text/plain": [
       "defined \u001b[32mfunction\u001b[39m \u001b[36mmyFirstFunction\u001b[39m\n",
       "\u001b[36mres22_1\u001b[39m: \u001b[32mInt\u001b[39m = \u001b[32m0\u001b[39m"
      ]
     },
     "execution_count": 23,
     "metadata": {},
     "output_type": "execute_result"
    }
   ],
   "source": [
    "/* Broken code: please fix */\n",
    "def myFirstFunction(x: Int): Int = {\n",
    "    // If x is non-negative, then \n",
    "    // it should count down from x to zero and print \n",
    "    var y = x\n",
    "    while (y >= 0) {\n",
    "           println(y)\n",
    "           y = y - 1\n",
    "    }\n",
    "    0\n",
    "}\n",
    "\n",
    "myFirstFunction(10)"
   ]
  },
  {
   "cell_type": "markdown",
   "metadata": {},
   "source": [
    "Write the same without var/loop but using recursion.\n",
    "  * Talk about avoiding \"return\" statements.\n",
    "  * if-then-else as a statement vs. if-then-else as an expression."
   ]
  },
  {
   "cell_type": "code",
   "execution_count": 5,
   "metadata": {},
   "outputs": [
    {
     "data": {
      "text/plain": [
       "defined \u001b[32mfunction\u001b[39m \u001b[36mmyFirstFunctionRec\u001b[39m"
      ]
     },
     "execution_count": 5,
     "metadata": {},
     "output_type": "execute_result"
    }
   ],
   "source": [
    "def myFirstFunctionRec(x: Int): Int = {\n",
    "    if (x < 0)  0 \n",
    "    else { \n",
    "        println(x)\n",
    "        myFirstFunctionRec(x-1)\n",
    "         }\n",
    "}"
   ]
  },
  {
   "cell_type": "code",
   "execution_count": 24,
   "metadata": {},
   "outputs": [
    {
     "data": {
      "text/plain": [
       "defined \u001b[32mfunction\u001b[39m \u001b[36mcountHowManyOccurrences\u001b[39m"
      ]
     },
     "execution_count": 24,
     "metadata": {},
     "output_type": "execute_result"
    }
   ],
   "source": [
    "/* Example 2 with while loop */\n",
    "\n",
    "def countHowManyOccurrences(str: String, ch: Char): Int = {\n",
    "    var count = 0\n",
    "    val n = str.size\n",
    "    for (i <- 0 until n) { /* range(0,n) */\n",
    "        if (str(i) == ch) {\n",
    "            count = count + 1\n",
    "        } // else ()\n",
    "    }\n",
    "    count\n",
    "}"
   ]
  },
  {
   "cell_type": "code",
   "execution_count": 25,
   "metadata": {},
   "outputs": [
    {
     "data": {
      "text/plain": [
       "\u001b[36mz\u001b[39m: \u001b[32mString\u001b[39m = \u001b[32m\"Hello World\"\u001b[39m\n",
       "\u001b[36mres24_1\u001b[39m: \u001b[32mInt\u001b[39m = \u001b[32m2\u001b[39m\n",
       "\u001b[36mres24_2\u001b[39m: \u001b[32mInt\u001b[39m = \u001b[32m1\u001b[39m"
      ]
     },
     "execution_count": 25,
     "metadata": {},
     "output_type": "execute_result"
    }
   ],
   "source": [
    "val z = \"Hello World\"\n",
    "countHowManyOccurrences(z, 'o')\n",
    "countHowManyOccurrences(z, ' ')"
   ]
  },
  {
   "cell_type": "code",
   "execution_count": 26,
   "metadata": {},
   "outputs": [
    {
     "data": {
      "text/plain": [
       "defined \u001b[32mfunction\u001b[39m \u001b[36mrecursiveCountHMO\u001b[39m"
      ]
     },
     "execution_count": 26,
     "metadata": {},
     "output_type": "execute_result"
    }
   ],
   "source": [
    "/*TODO: Write a recursive version */\n",
    "\n",
    "def recursiveCountHMO(s: String, ch: Char): Int = {\n",
    "    if (s(0) == ch) {\n",
    "        1 + recursiveCountHMO(s.substring(1), ch)\n",
    "    }\n",
    "    else {\n",
    "        recursiveCountHMO(s.substring(1), ch)\n",
    "    }\n",
    "}\n"
   ]
  },
  {
   "cell_type": "code",
   "execution_count": 27,
   "metadata": {},
   "outputs": [
    {
     "data": {
      "text/plain": [
       "defined \u001b[32mfunction\u001b[39m \u001b[36mcountHowManyOccurrencesRec\u001b[39m"
      ]
     },
     "execution_count": 27,
     "metadata": {},
     "output_type": "execute_result"
    }
   ],
   "source": [
    "/* Documentation of scala string API: http://otfried.org/scala/string.html */\n",
    "def countHowManyOccurrencesRec(str: String, ch: Char): Int = {\n",
    "    if (str.size == 0) 0\n",
    "    else {\n",
    "        if (str(0) == ch) {\n",
    "            1 + countHowManyOccurrencesRec(str.substring(1), ch)\n",
    "        } else {\n",
    "            countHowManyOccurrencesRec(str.substring(1), ch)\n",
    "        }\n",
    "    }\n",
    "}"
   ]
  },
  {
   "cell_type": "code",
   "execution_count": 28,
   "metadata": {},
   "outputs": [
    {
     "data": {
      "text/plain": [
       "\u001b[36mz\u001b[39m: \u001b[32mString\u001b[39m = \u001b[32m\"Hello World\"\u001b[39m\n",
       "\u001b[36mres27_1\u001b[39m: \u001b[32mInt\u001b[39m = \u001b[32m2\u001b[39m\n",
       "\u001b[36mres27_2\u001b[39m: \u001b[32mInt\u001b[39m = \u001b[32m1\u001b[39m"
      ]
     },
     "execution_count": 28,
     "metadata": {},
     "output_type": "execute_result"
    }
   ],
   "source": [
    "val z = \"Hello World\"\n",
    "countHowManyOccurrencesRec(z, 'o')\n",
    "countHowManyOccurrencesRec(z, ' ')"
   ]
  },
  {
   "cell_type": "markdown",
   "metadata": {},
   "source": [
    "Higher order functions: \n",
    "  * Functions can be passed around.\n",
    "  * Functions can create and return other functions.\n",
    "  * Types of functions.\n",
    "  \n",
    "Q: what does the function below do? "
   ]
  },
  {
   "cell_type": "code",
   "execution_count": 29,
   "metadata": {},
   "outputs": [
    {
     "data": {
      "text/plain": [
       "\u001b[36mx\u001b[39m: \u001b[32mInt\u001b[39m = \u001b[32m25\u001b[39m\n",
       "\u001b[36mres28_1\u001b[39m: \u001b[32mString\u001b[39m = \u001b[32m\"25\"\u001b[39m"
      ]
     },
     "execution_count": 29,
     "metadata": {},
     "output_type": "execute_result"
    }
   ],
   "source": [
    "val x = 25\n",
    "x.toString"
   ]
  },
  {
   "cell_type": "code",
   "execution_count": 6,
   "metadata": {},
   "outputs": [
    {
     "data": {
      "text/plain": [
       "defined \u001b[32mfunction\u001b[39m \u001b[36mfunctionA\u001b[39m"
      ]
     },
     "execution_count": 6,
     "metadata": {},
     "output_type": "execute_result"
    }
   ],
   "source": [
    "/*-- Function that takes in another function as input \n",
    "  Q: what does this code do?\n",
    "--*/\n",
    "def functionA (x: Int, foo: Int => String): String =  {\n",
    "    if (x <= 0) x.toString\n",
    "    else foo(x)\n",
    "}\n"
   ]
  },
  {
   "cell_type": "code",
   "execution_count": 30,
   "metadata": {},
   "outputs": [
    {
     "data": {
      "text/plain": [
       "defined \u001b[32mfunction\u001b[39m \u001b[36mintToStringFancyConverter\u001b[39m\n",
       "defined \u001b[32mfunction\u001b[39m \u001b[36maltConverter\u001b[39m"
      ]
     },
     "execution_count": 30,
     "metadata": {},
     "output_type": "execute_result"
    }
   ],
   "source": [
    "def intToStringFancyConverter(x: Int): String = \"Natural Number: \" + x\n",
    "def altConverter(x: Int): String = x.toString + \"<-- important number\""
   ]
  },
  {
   "cell_type": "code",
   "execution_count": 31,
   "metadata": {},
   "outputs": [
    {
     "data": {
      "text/plain": [
       "\u001b[36mstr1\u001b[39m: \u001b[32mString\u001b[39m = \u001b[32m\"Natural Number: 100\"\u001b[39m\n",
       "\u001b[36mstr2\u001b[39m: \u001b[32mString\u001b[39m = \u001b[32m\"-20\"\u001b[39m\n",
       "\u001b[36mstr3\u001b[39m: \u001b[32mString\u001b[39m = \u001b[32m\"120<-- important number\"\u001b[39m"
      ]
     },
     "execution_count": 31,
     "metadata": {},
     "output_type": "execute_result"
    }
   ],
   "source": [
    "val str1 = functionA(100, intToStringFancyConverter)\n",
    "val str2 = functionA(-20, altConverter)\n",
    "val str3 = functionA(120, altConverter)"
   ]
  },
  {
   "cell_type": "markdown",
   "metadata": {},
   "source": [
    "Briefly mention tuples"
   ]
  },
  {
   "cell_type": "code",
   "execution_count": 34,
   "metadata": {},
   "outputs": [
    {
     "data": {
      "text/plain": [
       "\u001b[36mx\u001b[39m: (\u001b[32mInt\u001b[39m, \u001b[32mString\u001b[39m) = (\u001b[32m1\u001b[39m, \u001b[32m\"10\"\u001b[39m)\n",
       "\u001b[36my\u001b[39m: (\u001b[32mInt\u001b[39m, \u001b[32mInt\u001b[39m, \u001b[32mString\u001b[39m, \u001b[32mString\u001b[39m, \u001b[32mChar\u001b[39m) = (\u001b[32m1\u001b[39m, \u001b[32m15\u001b[39m, \u001b[32m\"10\"\u001b[39m, \u001b[32m\"Hello\"\u001b[39m, \u001b[32m'c'\u001b[39m)"
      ]
     },
     "execution_count": 34,
     "metadata": {},
     "output_type": "execute_result"
    }
   ],
   "source": [
    "val x: (Int, String) = (1, \"10\")\n",
    "val y = (1, 15, \"10\", \"Hello\", 'c')"
   ]
  },
  {
   "cell_type": "code",
   "execution_count": 33,
   "metadata": {},
   "outputs": [
    {
     "name": "stdout",
     "output_type": "stream",
     "text": [
      "1\n",
      "10\n",
      "Hello\n"
     ]
    }
   ],
   "source": [
    "println(x._1)\n",
    "println(x._2)\n",
    "println(y._4)"
   ]
  },
  {
   "cell_type": "markdown",
   "metadata": {},
   "source": [
    "  * Basic types in Scala:  Int, Float, Double, String, Char, ...\n",
    "  * Tuple Type: (T1, T2, T3, T4)\n",
    "  * Function types: T1 => T2 : function whose inputs are of type T1, output of type T2\n",
    "\n"
   ]
  },
  {
   "cell_type": "code",
   "execution_count": 11,
   "metadata": {},
   "outputs": [
    {
     "data": {
      "text/plain": [
       "defined \u001b[32mfunction\u001b[39m \u001b[36mfoo\u001b[39m"
      ]
     },
     "execution_count": 11,
     "metadata": {},
     "output_type": "execute_result"
    }
   ],
   "source": [
    "def foo(x: Int): Char = {x.toChar}"
   ]
  },
  {
   "cell_type": "code",
   "execution_count": 12,
   "metadata": {},
   "outputs": [
    {
     "data": {
      "text/plain": [
       "defined \u001b[32mfunction\u001b[39m \u001b[36mbar\u001b[39m"
      ]
     },
     "execution_count": 12,
     "metadata": {},
     "output_type": "execute_result"
    }
   ],
   "source": [
    "def bar(x: Int, y: Int): String = { (x + y).toString }"
   ]
  },
  {
   "cell_type": "code",
   "execution_count": 35,
   "metadata": {},
   "outputs": [
    {
     "data": {
      "text/plain": [
       "defined \u001b[32mfunction\u001b[39m \u001b[36mpairFun\u001b[39m"
      ]
     },
     "execution_count": 35,
     "metadata": {},
     "output_type": "execute_result"
    }
   ],
   "source": [
    "def pairFun(x: Int, y: String, z: Int): (Int, String) = (x+z, y)"
   ]
  },
  {
   "cell_type": "markdown",
   "metadata": {},
   "source": [
    "foo has type Int => Char\n",
    "\n",
    "bar has type (Int, Int) => String\n",
    "\n",
    "pairFun has type (Int, String, Int) => (Int, String)"
   ]
  },
  {
   "cell_type": "markdown",
   "metadata": {},
   "source": [
    "### Scala in-built data structures\n",
    "\n",
    "Immutable: List, Map, Set, ..\n",
    "\n",
    "Mutable: Array\n"
   ]
  },
  {
   "cell_type": "code",
   "execution_count": 36,
   "metadata": {},
   "outputs": [
    {
     "data": {
      "text/plain": [
       "\u001b[36mx\u001b[39m: \u001b[32mList\u001b[39m[\u001b[32mInt\u001b[39m] = \u001b[33mList\u001b[39m(\u001b[32m1\u001b[39m, \u001b[32m2\u001b[39m, \u001b[32m3\u001b[39m, \u001b[32m4\u001b[39m, \u001b[32m5\u001b[39m)"
      ]
     },
     "execution_count": 36,
     "metadata": {},
     "output_type": "execute_result"
    }
   ],
   "source": [
    "val x : List[Int] = List(1, 2, 3, 4, 5)"
   ]
  },
  {
   "cell_type": "code",
   "execution_count": 37,
   "metadata": {},
   "outputs": [
    {
     "data": {
      "text/plain": [
       "\u001b[36my\u001b[39m: \u001b[32mList\u001b[39m[\u001b[32mString\u001b[39m] = \u001b[33mList\u001b[39m(\u001b[32m\"1\"\u001b[39m, \u001b[32m\"Hello\"\u001b[39m, \u001b[32m\"World\"\u001b[39m, \u001b[32m\"bar\"\u001b[39m, \u001b[32m\"foo\"\u001b[39m)"
      ]
     },
     "execution_count": 37,
     "metadata": {},
     "output_type": "execute_result"
    }
   ],
   "source": [
    "val y: List[String] = List(\"1\", \"Hello\", \"World\", \"bar\", \"foo\")"
   ]
  },
  {
   "cell_type": "code",
   "execution_count": 38,
   "metadata": {},
   "outputs": [
    {
     "data": {
      "text/plain": [
       "\u001b[36mz\u001b[39m: \u001b[32mList\u001b[39m[(\u001b[32mInt\u001b[39m, \u001b[32mInt\u001b[39m)] = \u001b[33mList\u001b[39m((\u001b[32m1\u001b[39m, \u001b[32m1\u001b[39m), (\u001b[32m1\u001b[39m, \u001b[32m2\u001b[39m), (\u001b[32m2\u001b[39m, \u001b[32m3\u001b[39m), (\u001b[32m1\u001b[39m, \u001b[32m4\u001b[39m), (\u001b[32m17\u001b[39m, \u001b[32m-5\u001b[39m))"
      ]
     },
     "execution_count": 38,
     "metadata": {},
     "output_type": "execute_result"
    }
   ],
   "source": [
    "val z : List[(Int, Int)] = List((1,1), (1,2), (2,3), (1,4), (17,-5))"
   ]
  },
  {
   "cell_type": "code",
   "execution_count": 39,
   "metadata": {},
   "outputs": [
    {
     "name": "stdout",
     "output_type": "stream",
     "text": [
      "5\n"
     ]
    }
   ],
   "source": [
    "println(x.length) // size of a list (# of elements)"
   ]
  },
  {
   "cell_type": "code",
   "execution_count": 41,
   "metadata": {},
   "outputs": [
    {
     "name": "stdout",
     "output_type": "stream",
     "text": [
      "(1,4)\n"
     ]
    }
   ],
   "source": [
    "println(z(3)) // 4th element of a list"
   ]
  },
  {
   "cell_type": "code",
   "execution_count": 42,
   "metadata": {},
   "outputs": [
    {
     "name": "stdout",
     "output_type": "stream",
     "text": [
      "1\n"
     ]
    }
   ],
   "source": [
    "println(x.head) // head of a list same as x(0)"
   ]
  },
  {
   "cell_type": "code",
   "execution_count": 43,
   "metadata": {},
   "outputs": [
    {
     "name": "stdout",
     "output_type": "stream",
     "text": [
      "List(Hello, World, bar, foo)\n"
     ]
    }
   ],
   "source": [
    "println(y.tail) // tail of a list 2nd element to end."
   ]
  },
  {
   "cell_type": "code",
   "execution_count": 44,
   "metadata": {},
   "outputs": [
    {
     "name": "stdout",
     "output_type": "stream",
     "text": [
      "List(foo, bar, World, Hello, 1)\n"
     ]
    }
   ],
   "source": [
    "println(y.reverse) // reverse a list"
   ]
  },
  {
   "cell_type": "code",
   "execution_count": 45,
   "metadata": {},
   "outputs": [
    {
     "data": {
      "text/plain": [
       "\u001b[36my2\u001b[39m: \u001b[32mList\u001b[39m[\u001b[32mString\u001b[39m] = \u001b[33mList\u001b[39m(\u001b[32m\"what\"\u001b[39m, \u001b[32m\"1\"\u001b[39m, \u001b[32m\"Hello\"\u001b[39m, \u001b[32m\"World\"\u001b[39m, \u001b[32m\"bar\"\u001b[39m, \u001b[32m\"foo\"\u001b[39m)"
      ]
     },
     "execution_count": 45,
     "metadata": {},
     "output_type": "execute_result"
    }
   ],
   "source": [
    "val y2 = \"what\" :: y // Append to front using :: (cons) operator"
   ]
  },
  {
   "cell_type": "code",
   "execution_count": 47,
   "metadata": {},
   "outputs": [
    {
     "data": {
      "text/plain": [
       "\u001b[36my3\u001b[39m: \u001b[32mList\u001b[39m[\u001b[32mString\u001b[39m] = \u001b[33mList\u001b[39m(\u001b[32m\"1\"\u001b[39m, \u001b[32m\"Hello\"\u001b[39m, \u001b[32m\"World\"\u001b[39m, \u001b[32m\"bar\"\u001b[39m, \u001b[32m\"foo\"\u001b[39m, \u001b[32m\"What\"\u001b[39m)"
      ]
     },
     "execution_count": 47,
     "metadata": {},
     "output_type": "execute_result"
    }
   ],
   "source": [
    "val y3 = y ++ List(\"What\") // Concatenate two lists using ++ operator"
   ]
  },
  {
   "cell_type": "markdown",
   "metadata": {},
   "source": [
    "See the list API in scala: https://www.tutorialspoint.com/scala/scala_lists.htm"
   ]
  },
  {
   "cell_type": "code",
   "execution_count": 48,
   "metadata": {},
   "outputs": [
    {
     "name": "stdout",
     "output_type": "stream",
     "text": [
      "Hello\n",
      "World\n",
      "bar\n",
      "foo\n",
      "What\n"
     ]
    }
   ],
   "source": [
    "for (elt <- y3) {\n",
    "    if (elt.size >= 3)\n",
    "        println(elt)\n",
    "}"
   ]
  },
  {
   "cell_type": "code",
   "execution_count": 49,
   "metadata": {},
   "outputs": [
    {
     "name": "stdout",
     "output_type": "stream",
     "text": [
      "Hello\n",
      "World\n",
      "bar\n",
      "foo\n",
      "What\n"
     ]
    }
   ],
   "source": [
    "y3.foreach( elt => { if (elt.size >= 3) println(elt)})"
   ]
  },
  {
   "cell_type": "code",
   "execution_count": 50,
   "metadata": {},
   "outputs": [
    {
     "data": {
      "text/plain": [
       "\u001b[36mm1\u001b[39m: \u001b[32mMap\u001b[39m[\u001b[32mInt\u001b[39m, \u001b[32mString\u001b[39m] = \u001b[33mMap\u001b[39m(\n",
       "  \u001b[32m0\u001b[39m -> \u001b[32m\"Hello\"\u001b[39m,\n",
       "  \u001b[32m1\u001b[39m -> \u001b[32m\"World\"\u001b[39m,\n",
       "  \u001b[32m2\u001b[39m -> \u001b[32m\"Scala\"\u001b[39m,\n",
       "  \u001b[32m3\u001b[39m -> \u001b[32m\"C/C++\"\u001b[39m\n",
       ")"
      ]
     },
     "execution_count": 50,
     "metadata": {},
     "output_type": "execute_result"
    }
   ],
   "source": [
    "val m1 = Map ( 0 -> \"Hello\", 1 -> \"World\", 2 -> \"Scala\", 3 -> \"C/C++\")"
   ]
  },
  {
   "cell_type": "code",
   "execution_count": 51,
   "metadata": {},
   "outputs": [
    {
     "data": {
      "text/plain": [
       "\u001b[36mm2\u001b[39m: \u001b[32mMap\u001b[39m[\u001b[32mString\u001b[39m, \u001b[32mString\u001b[39m] = \u001b[33mMap\u001b[39m(\n",
       "  \u001b[32m\"hell\"\u001b[39m -> \u001b[32m\"Hello\"\u001b[39m,\n",
       "  \u001b[32m\"wold\"\u001b[39m -> \u001b[32m\"World\"\u001b[39m,\n",
       "  \u001b[32m\"scla\"\u001b[39m -> \u001b[32m\"Scala\"\u001b[39m,\n",
       "  \u001b[32m\"badidea\"\u001b[39m -> \u001b[32m\"C/C++\"\u001b[39m\n",
       ")"
      ]
     },
     "execution_count": 51,
     "metadata": {},
     "output_type": "execute_result"
    }
   ],
   "source": [
    "val m2 = Map ( \"hell\" -> \"Hello\", \n",
    "               \"wold\" -> \"World\", \n",
    "               \"scla\" -> \"Scala\", \n",
    "               \"badidea\" -> \"C/C++\")"
   ]
  },
  {
   "cell_type": "code",
   "execution_count": 52,
   "metadata": {},
   "outputs": [
    {
     "name": "stdout",
     "output_type": "stream",
     "text": [
      "Hello\n"
     ]
    },
    {
     "data": {
      "text/plain": [
       "\u001b[36mres51_0\u001b[39m: \u001b[32mBoolean\u001b[39m = true"
      ]
     },
     "execution_count": 52,
     "metadata": {},
     "output_type": "execute_result"
    }
   ],
   "source": [
    "m2.contains(\"hell\")\n",
    "println( m2(\"hell\") )"
   ]
  },
  {
   "cell_type": "code",
   "execution_count": 53,
   "metadata": {},
   "outputs": [
    {
     "data": {
      "text/plain": [
       "\u001b[36mres52\u001b[39m: \u001b[32mBoolean\u001b[39m = false"
      ]
     },
     "execution_count": 53,
     "metadata": {},
     "output_type": "execute_result"
    }
   ],
   "source": [
    "m1.contains(15)\n"
   ]
  },
  {
   "cell_type": "code",
   "execution_count": 54,
   "metadata": {},
   "outputs": [
    {
     "ename": "",
     "evalue": "",
     "output_type": "error",
     "traceback": [
      "\u001b[31mjava.util.NoSuchElementException: key not found: 15\u001b[39m\n  scala.collection.immutable.Map$Map4.apply(\u001b[32mMap.scala\u001b[39m:\u001b[32m517\u001b[39m)\n  ammonite.$sess.cmd53$Helper.<init>(\u001b[32mcmd53.sc\u001b[39m:\u001b[32m1\u001b[39m)\n  ammonite.$sess.cmd53$.<clinit>(\u001b[32mcmd53.sc\u001b[39m:\u001b[32m7\u001b[39m)"
     ]
    }
   ],
   "source": [
    "println(m1(15))"
   ]
  },
  {
   "cell_type": "code",
   "execution_count": 55,
   "metadata": {},
   "outputs": [
    {
     "data": {
      "text/plain": [
       "\u001b[36mm3\u001b[39m: \u001b[32mMap\u001b[39m[\u001b[32mInt\u001b[39m, \u001b[32mString\u001b[39m] = \u001b[33mHashMap\u001b[39m(\n",
       "  \u001b[32m0\u001b[39m -> \u001b[32m\"Hello\"\u001b[39m,\n",
       "  \u001b[32m1\u001b[39m -> \u001b[32m\"World\"\u001b[39m,\n",
       "  \u001b[32m2\u001b[39m -> \u001b[32m\"Scala\"\u001b[39m,\n",
       "  \u001b[32m3\u001b[39m -> \u001b[32m\"C/C++\"\u001b[39m,\n",
       "  \u001b[32m-1\u001b[39m -> \u001b[32m\"Bad Idea\"\u001b[39m\n",
       ")"
      ]
     },
     "execution_count": 55,
     "metadata": {},
     "output_type": "execute_result"
    }
   ],
   "source": [
    "val m3 = m1 + (-1 -> \"Bad Idea\") // Add a binding to a map"
   ]
  },
  {
   "cell_type": "markdown",
   "metadata": {},
   "source": [
    "https://www.tutorialspoint.com/scala/scala_maps.htm"
   ]
  },
  {
   "cell_type": "markdown",
   "metadata": {},
   "source": [
    "## Scala Classes and Objects\n",
    "\n",
    "Scala is an objected oriented language. Everything in scala is an object. Even numbers are objects: they have member functions and have inheritance relationships that we will study later."
   ]
  },
  {
   "cell_type": "code",
   "execution_count": 56,
   "metadata": {},
   "outputs": [
    {
     "data": {
      "text/plain": [
       "\u001b[36mx\u001b[39m: \u001b[32mDouble\u001b[39m = \u001b[32m2.1515\u001b[39m\n",
       "\u001b[36mj\u001b[39m: \u001b[32mInt\u001b[39m = \u001b[32m2\u001b[39m\n",
       "\u001b[36mstr\u001b[39m: \u001b[32mString\u001b[39m = \u001b[32m\"2.1515\"\u001b[39m"
      ]
     },
     "execution_count": 56,
     "metadata": {},
     "output_type": "execute_result"
    }
   ],
   "source": [
    "val x: Double = 2.1515\n",
    "val j: Int = x.toInt\n",
    "val str: String = x.toString"
   ]
  },
  {
   "cell_type": "code",
   "execution_count": 60,
   "metadata": {},
   "outputs": [
    {
     "data": {
      "text/plain": [
       "defined \u001b[32mclass\u001b[39m \u001b[36mFirstClass\u001b[39m"
      ]
     },
     "execution_count": 60,
     "metadata": {},
     "output_type": "execute_result"
    }
   ],
   "source": [
    "class FirstClass(val s: String, val t: Int) {\n",
    "    // s and t are class parameters. \n",
    "    /* def this(t: Int) = { \n",
    "        print(\"Auxiliary constructor.\")\n",
    "        this(\"Hello\", t)\n",
    "    } */\n",
    "    // Member of the class\n",
    "    val x : String = s + t.toString  \n",
    "    // Private member\n",
    "    private val y : Int = s.size + t \n",
    "    // Mutable member\n",
    "    var z = t\n",
    "    \n",
    "    // Member function\n",
    "    def sayHello(name: String): Unit = {\n",
    "        val z = s + \" \" + name + \"!!\"\n",
    "        println(z)\n",
    "    }\n",
    "    \n",
    "    // Another member function\n",
    "    def incrZ(): Int = { // Note that if a function does not \n",
    "                       // have any arguments, you do not need ()\n",
    "        z = z + 1\n",
    "        z\n",
    "    }\n",
    "    \n",
    "}"
   ]
  },
  {
   "cell_type": "code",
   "execution_count": 58,
   "metadata": {},
   "outputs": [
    {
     "name": "stdout",
     "output_type": "stream",
     "text": [
      "Konichiwa20\n",
      "Konichiwa Coco Chanel!!\n",
      "23\n"
     ]
    },
    {
     "data": {
      "text/plain": [
       "\u001b[36mf\u001b[39m: \u001b[32mFirstClass\u001b[39m = ammonite.$sess.cmd56$Helper$FirstClass@5c1d1d52\n",
       "\u001b[36mres57_3\u001b[39m: \u001b[32mInt\u001b[39m = \u001b[32m21\u001b[39m\n",
       "\u001b[36mres57_4\u001b[39m: \u001b[32mInt\u001b[39m = \u001b[32m22\u001b[39m\n",
       "\u001b[36mres57_5\u001b[39m: \u001b[32mInt\u001b[39m = \u001b[32m23\u001b[39m\n",
       "\u001b[36mg\u001b[39m: \u001b[32mFirstClass\u001b[39m = ammonite.$sess.cmd56$Helper$FirstClass@14e3855b"
      ]
     },
     "execution_count": 58,
     "metadata": {},
     "output_type": "execute_result"
    }
   ],
   "source": [
    "val f = new FirstClass(\"Konichiwa\", 20) // Constructor is implicitly built.\n",
    "\n",
    "println(f.x)\n",
    "f.sayHello(\"Coco Chanel\")\n",
    "f.incrZ\n",
    "f.incrZ\n",
    "f.incrZ\n",
    "\n",
    "println(f.z)\n",
    "\n",
    "\n",
    "val g = new FirstClass(\"\", 35) "
   ]
  },
  {
   "cell_type": "code",
   "execution_count": null,
   "metadata": {},
   "outputs": [
    {
     "name": "stderr",
     "output_type": "stream",
     "text": [
      "cmd0.sc:1: not found: value f\n",
      "val res0 = println(f.y) // This is not allowed. Why?\n",
      "                   ^Compilation Failed"
     ]
    },
    {
     "ename": "",
     "evalue": "",
     "output_type": "error",
     "traceback": [
      "Compilation Failed"
     ]
    }
   ],
   "source": [
    "println(f.y) // This is not allowed. Why?"
   ]
  },
  {
   "cell_type": "markdown",
   "metadata": {},
   "source": [
    "## Loops into recursion"
   ]
  },
  {
   "cell_type": "code",
   "execution_count": 61,
   "metadata": {},
   "outputs": [
    {
     "data": {
      "text/plain": [
       "defined \u001b[32mfunction\u001b[39m \u001b[36mrepeatKTimes\u001b[39m"
      ]
     },
     "execution_count": 61,
     "metadata": {},
     "output_type": "execute_result"
    }
   ],
   "source": [
    "def repeatKTimes(s: String, k: Int): String = {\n",
    "    var reslt = \"\"\n",
    "    for (i <- 0 until k){\n",
    "        reslt = reslt + s\n",
    "    }\n",
    "    reslt\n",
    "}"
   ]
  },
  {
   "cell_type": "code",
   "execution_count": 62,
   "metadata": {},
   "outputs": [
    {
     "data": {
      "text/plain": [
       "\u001b[36mres61_0\u001b[39m: \u001b[32mString\u001b[39m = \u001b[32m\"AussieAussie\"\u001b[39m\n",
       "\u001b[36mres61_1\u001b[39m: \u001b[32mString\u001b[39m = \u001b[32m\"OiOi\"\u001b[39m\n",
       "\u001b[36mres61_2\u001b[39m: \u001b[32mString\u001b[39m = \u001b[32m\"AussieAussieAussie\"\u001b[39m\n",
       "\u001b[36mres61_3\u001b[39m: \u001b[32mString\u001b[39m = \u001b[32m\"OiOiOi\"\u001b[39m"
      ]
     },
     "execution_count": 62,
     "metadata": {},
     "output_type": "execute_result"
    }
   ],
   "source": [
    "repeatKTimes(\"Aussie\", 2)\n",
    "repeatKTimes(\"Oi\", 2)\n",
    "repeatKTimes(\"Aussie\", 3)\n",
    "repeatKTimes(\"Oi\", 3)"
   ]
  },
  {
   "cell_type": "code",
   "execution_count": 63,
   "metadata": {},
   "outputs": [
    {
     "data": {
      "text/plain": [
       "defined \u001b[32mfunction\u001b[39m \u001b[36mrepeatKTimesRec\u001b[39m"
      ]
     },
     "execution_count": 63,
     "metadata": {},
     "output_type": "execute_result"
    }
   ],
   "source": [
    "def repeatKTimesRec(s: String, k: Int): String = {\n",
    "    if (k <= 0) \"\"\n",
    "    else {\n",
    "        repeatKTimesRec(s, k-1) + s\n",
    "    }\n",
    "}"
   ]
  },
  {
   "cell_type": "code",
   "execution_count": 64,
   "metadata": {},
   "outputs": [
    {
     "data": {
      "text/plain": [
       "defined \u001b[32mfunction\u001b[39m \u001b[36mrepeatKTimesAlt__\u001b[39m\n",
       "defined \u001b[32mfunction\u001b[39m \u001b[36mrepeatKTimesAlt\u001b[39m"
      ]
     },
     "execution_count": 64,
     "metadata": {},
     "output_type": "execute_result"
    }
   ],
   "source": [
    "def repeatKTimesAlt__(s: String, k: Int, result: String) : String = {\n",
    "    if (k <= 0) result\n",
    "    else repeatKTimesAlt__(s, k-1, result + s )\n",
    "}\n",
    "\n",
    "def repeatKTimesAlt(s: String, k: Int): String = repeatKTimesAlt__(s, k, \"\")"
   ]
  },
  {
   "cell_type": "code",
   "execution_count": 65,
   "metadata": {},
   "outputs": [
    {
     "data": {
      "text/plain": [
       "\u001b[36mres64_0\u001b[39m: \u001b[32mString\u001b[39m = \u001b[32m\"DonkeyDonkeyDonkey\"\u001b[39m\n",
       "\u001b[36mres64_1\u001b[39m: \u001b[32mString\u001b[39m = \u001b[32m\"DonkeyDonkeyDonkeyDonkey\"\u001b[39m"
      ]
     },
     "execution_count": 65,
     "metadata": {},
     "output_type": "execute_result"
    }
   ],
   "source": [
    "repeatKTimesAlt(\"Donkey\", 3)\n",
    "repeatKTimesAlt(\"Donkey\", 4)"
   ]
  },
  {
   "cell_type": "code",
   "execution_count": null,
   "metadata": {},
   "outputs": [],
   "source": []
  }
 ],
 "metadata": {
  "kernelspec": {
   "display_name": "Scala",
   "language": "scala",
   "name": "scala"
  },
  "language_info": {
   "codemirror_mode": "text/x-scala",
   "file_extension": ".sc",
   "mimetype": "text/x-scala",
   "name": "scala",
   "nbconvert_exporter": "script",
   "version": "2.13.5"
  }
 },
 "nbformat": 4,
 "nbformat_minor": 4
}