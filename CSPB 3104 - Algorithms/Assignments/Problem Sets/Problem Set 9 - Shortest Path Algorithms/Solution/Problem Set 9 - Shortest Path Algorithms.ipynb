{
 "cells": [
  {
   "cell_type": "markdown",
   "metadata": {},
   "source": [
    "# CSPB 3104 Assignment 10:\n",
    "## Instructions\n",
    "\n",
    "> This assignment is to be completed and uploaded to \n",
    "moodle as a python3 notebook. \n",
    "\n",
    "> Submission deadlines are posted on moodle. \n",
    "\n",
    "> The questions  provided  below will ask you to either write code or \n",
    "write answers in the form of markdown.\n",
    "\n",
    "> Markdown syntax guide is here: [click here](https://github.com/adam-p/markdown-here/wiki/Markdown-Cheatsheet)\n",
    "\n",
    "> Using markdown you can typeset formulae using latex.\n",
    "\n",
    "> This way you can write nice readable answers with formulae like thus:\n",
    "\n",
    ">> The algorithm runs in time $\\Theta\\left(n^{2.1\\log_2(\\log_2( n \\log^*(n)))}\\right)$, \n",
    "wherein $\\log^*(n)$ is the inverse _Ackerman_ function.\n",
    "\n",
    "__Double click anywhere on this box to find out how your instructor typeset it. Press Shift+Enter to go back.__\n"
   ]
  },
  {
   "cell_type": "markdown",
   "metadata": {},
   "source": [
    "## Question 1: Arbitrage Opportunities\n",
    "\n",
    "An arbitrage in finance is a way to make money for sure without much risk. For instance, suppose 1 USD yields 5 Chinese RMB and 1 RMB trades for 0.4 Euros, and 1 Euro trades for 0.52 USD,  you have an arbitrage opportunity\n",
    "wherein you can take x USD, obtain 5x RMB, and in turn trade them for 2x Euros and finally end up with 1.02x USD back. Every time you exercise this opportunity, you get a 2 cent profit (assuming you can trade for free and there is no spread in the buying and selling prices, but that is another can of worms).\n",
    "\n",
    "In theory, arbitrage cannot exist in efficient markets but they can persist for a short amount of time. Electronic traders can then search for such opportunities in real time and rapidly exploit them.\n",
    "\n",
    "You are given a basket of $n$ currencies and for each pair of currencies $(C_i,C_j)$, you are given a ratio\n",
    "$R_{i,j}$ that says that one unit of currency $C_i$ is currently fetching $R_{i,j}$ units of $C_j$.\n",
    "\n",
    "__(A)__ Given the ratios $R_{i,j}$ write an efficient algorithm that can detect if any arbitrage opportunities currently exist. What is the running time of your algorithm?\n",
    "\n",
    "(__Hint:__ Make a graph out of the problem data. What does the presence of arbitrage mean for this graph? )\n",
    "\n",
    "__(B)__ We are not just interested in finding an arbitrage opportunity, but also interested in finding the shortest length opportunity, defined as one that involves the smallest number of trades. Naturally, given that prices change\n",
    "and also given that there are trading fees, such opportunities are more desirable. \n",
    "\n",
    "Write an algorithm to find the smallest length arbitrage opportunity. What is the running time for your algorithm?\n",
    "\n",
    "(__Hint:__ Modify the Floyd Warshall algorithm you learned this week. In particular, how do you detect if there is a negative weight cycle of length k in the graph?)\n",
    "\n",
    "\n"
   ]
  },
  {
   "cell_type": "markdown",
   "metadata": {},
   "source": [
    "### Answer 1 (Expected Length: 12 lines).\n",
    "\n",
    "#### Part A\n",
    "\n",
    "To determine the arbitrage currencies in this market, we first construct a directed graph where each vertex is a currency and the directed edges from vertex $i$ to vertex $j$ have the weight of $-\\log{(R_{i,j})}$. We use the negative logarithm in this context because when the argument in the logarithm has a ratio of less than one, the result is positive. Namely,\n",
    "\n",
    "$$\n",
    "\\text{When } \\alpha < 1, \\hspace{5pt} \\log{(\\alpha)} < 0.\n",
    "$$\n",
    "\n",
    "So, when a directed edge has the weight of $-\\log{(R_{i,j})}$, if $R_{i,j} < 1$ the resulting edge weight will be positive. If $R_{i,j} \\geq 1$ then the resulting edge weight will be negative. We have $n$ currencies in this context, and we could theoretically have an exchange with every other currency in this graph. Thus, we are essentially constructing a matrix-esque type of graph that is of size $n \\times n$ and thus the creation of this graph will be in\n",
    "\n",
    "$$\n",
    "\\color{blue}{\\mathcal{O}(n^{2})}.\n",
    "$$\n",
    "\n",
    "Now, the focus is on creating an algorithm that can determine if there is a negative cycle that is present in this graph. To do this, we need to determine the shortest path in this graph (visit every vertex in the graph). To achieve this, we use the **Bellman-Ford** algorithm since it is capable of calculating the shortest distance in a graph where negative edge weights are present. After each iteration of the algorithm, starting at a different vertex each time, if there is at least one resulting shortest path that is less than 1, we know that an arbitrage exists. Namely,\n",
    "\n",
    "$$\n",
    "\\text{If } \\sum_{i = 1, j = 1} \\log_{(R_{i,j})} < 0 \\hspace{5pt} \\text{ an arbitrage opportunity exists}.\n",
    "$$\n",
    "\n",
    "The Bellman-Ford algorithm that was used in this context runs in \n",
    "\n",
    "$$\n",
    "\\color{blue}{\\mathcal{O}(n^{3})}.\n",
    "$$\n",
    "\n",
    "#### Part B\n",
    "\n",
    "To modify the Floyd-Warshall algorithm, we essentially need to keep track of the length for each path that is taken in the Floyd-Warshall algorithm. This algorithm will look something like:\n",
    "\n",
    "```\n",
    "Define matrix path[i][j] that represents the shortest path from currency i to currency j\n",
    "Initialize all elements of path[i][j] to -log(R(i,j))\n",
    "Define matrix dist[i][j] that represents the distance (number of trades) from currency i to currency j\n",
    "Initialize all elements of dist[i][j] to 1\n",
    "for k from 0 to |V|\n",
    "    for i from 0 to |V|\n",
    "        for j from 0 to |V|\n",
    "            if path[i][j] > path[i][k] + path[k][j]\n",
    "                path[i][j] = path[i][k] + path[k][j]\n",
    "                dist[i][j] = dist[i][k] + dist[k][j] <----- This is the modified step\n",
    "Return the smallest element in dist\n",
    "```\n",
    "\n",
    "The Floyd-Warshall algorithm is known to run in \n",
    "\n",
    "$$\n",
    "\\color{blue}{\\mathcal{O}(n^{3}\\log{(n)})}.\n",
    "$$\n",
    "\n",
    "The search in the matrix `dist` is going to be less than the Floyd-Warshall algorithm so the overall complexity of this algorithm is going to be the aforementioned complexity. The shortest value in the `dist` matrix then corresponds the least amount of trades that are needed for an arbitrage opportunity."
   ]
  },
  {
   "cell_type": "markdown",
   "metadata": {},
   "source": [
    "----"
   ]
  },
  {
   "cell_type": "markdown",
   "metadata": {},
   "source": [
    "### Question 2: Longest Paths.\n",
    "\n",
    "Given a weighted, directed graph $G$, the longest simple path from vertex $s$ to $t$ is a path that (a) goes from $s$ to $t$, (b) cannot revisit a vertex along the path, and (c) has the maximum weight among all the paths going from $s$ to $t$.\n",
    "\n",
    "__(A)__ Show using an example that for any graph $G$, that the longest path problem is not equivalent to solving the shortest path problem by negating the edge weights. (*Hint* Negating edge weights will work but for a common problem that makes shortest paths undefined.)\n",
    "\n",
    "__(B)__ Show that if the graph $G$ is a DAG, the longest path problem can be solved by negating the edge weights and solving a shortest path problem. What is the running time cost?\n"
   ]
  },
  {
   "cell_type": "markdown",
   "metadata": {},
   "source": [
    "### Answer 2 (Expected Length: 6 lines)\n",
    "\n",
    "#### Part A\n",
    "\n",
    "Consider a very simple graph `G` that has three vertices: `A, B, C` with edges `A -> B, B -> C, C -> A`. If we make the aforementioned weights of these edges `1, 2, -4` respectively, this graph has a cycle weight of `-1`. If we then negate the edge weights such that they are `-1, -2, 4` respectively, then each cycle has a weight of `1`. This process will continue forever and both shortest and longest paths will be undefined (infinity) and thus this process does not work.\n",
    "\n",
    "#### Part B\n",
    "\n",
    "Using a DAG will prevent the endless cycles that are mentioned in Part A. If we negate the weights of a DAG and then perform topological sort on the graph, we essentially are going to find the minimum (in the context of negated edge weights, this will be the maximum) we will in turn find the longest path while using the shortest path algorithm. Topological sort and the relaxation that happens in this process both have a runtime of \n",
    "\n",
    "$$\n",
    "\\color{blue}{\\mathcal{O}(|V| + |E|)}\n",
    "$$\n",
    "\n",
    "and is therefore the longest path in the DAG."
   ]
  },
  {
   "cell_type": "markdown",
   "metadata": {},
   "source": [
    "----"
   ]
  },
  {
   "cell_type": "markdown",
   "metadata": {},
   "source": [
    "### Question 3: Being In the Right Place At the Right Time.\n",
    "\n",
    "You are helping a secret agent plan a series of rendezvous in a capital. The rendezvous are happening along different stations of a subway line at precisely hours $1, 2, \\ldots, n$.  There are $m$ subway stations, each with an ID numbered $1, \\ldots, m$.\n",
    "The rendezvous at hour $j$ occurs at station $S_j$:\n",
    "\n",
    "$$\\begin{array}{|l|c|c|c|c|c|}\n",
    "\\hline\n",
    "\\text{Rendezvous} & 1 & 2 & \\cdots & n-1 & n \\\\\n",
    "\\hline\n",
    "\\text{Station ID} & S_1 & S_2 & \\cdots & S_{n-1} & S_n \\\\\n",
    "\\hline \\end{array}$$\n",
    "\n",
    "For instance, The rendezvous at hour 1 might happen at station 5, the rendezvous at hour 2 might happen at station 12, and the rendezvous at hour 3 might happen at station 1.  In this case, $S_1 = 5, S_2 = 12,$ and $S_3 = 1$.  __Note:__ Your answer should be for any sequence of rendezvous, not for this specific example.\n",
    "\n",
    "The spy starts at station $1$ at time $0$ and further, must at all costs attend rendezvous $n$. In each hour, the agent is limited to travelling no more than $K$ stations along the line.  Thus, she must decide whether to skip some of the rendezvous in favor of others.\n",
    "\n",
    "Provide an algorithm to calculate the maximum number of rendezvous the agent can make with the constraint that she must make rendezvous $n$. What is the running time?\n",
    "\n",
    "__Hint:__ As usual, it comes down to defining a graph and solving a suitable problem.\n"
   ]
  },
  {
   "cell_type": "markdown",
   "metadata": {},
   "source": [
    "### Answer 3 (expected length: 6 lines)\n",
    "\n",
    "With the goal in mind to maximize the number of rendezvous that the agent can make with the aforementioned constraint, we first construct a graph `G` such that each vertex in the graph is a rendezvous and the directed edges from vertex `i` to `j` if and only if `j > i` that correspond to the traversal from one station to another. An edge from one vertex to another only exists if\n",
    "\n",
    "$$\n",
    "|S_{j} - S_{i}| \\leq K \\cdot (j - i)\n",
    "$$\n",
    "\n",
    "where $|S_{j} - S_{i}|$ is the absolute distance between two stations, $K$ is the maximum number of stations that can be visited in one hour by the agent, and $j - i$ is the time elapsed from one rendezvous to the other. The time complexity of the construction for this graph is $\\color{blue}{\\mathcal{O}(n^{2})}$. We then construct an algorithm that looks something like:\n",
    "\n",
    "```\n",
    "Construct an array maxR[i] for the max rendezvouses that an agent can travel ending at i\n",
    "Initialize maxR[] to -1\n",
    "for j = 1 to n:\n",
    "    for i = 0 to j - 1\n",
    "        If a valid edge exists (|S_j - S_i| <= K(j - i)):\n",
    "            maxR[j] = max(maxR[j], maxR[i] + 1)\n",
    "return maxR[n]\n",
    "```\n",
    "\n",
    "We essentially are finding the shortest path from the initial vertex to the last. The negation of this cost gives us the max number of rendezvouses that the agent can attend. In turn, the complexity of this algorithm is then\n",
    "\n",
    "$$\n",
    "\\color{blue}{\\mathcal{O}(n^{2})}.\n",
    "$$"
   ]
  },
  {
   "cell_type": "markdown",
   "metadata": {},
   "source": [
    "----"
   ]
  },
  {
   "cell_type": "markdown",
   "metadata": {},
   "source": [
    "## Question 4: U-turn if you want to.\n",
    "\n",
    "A $N \\times N$ maze is defined by a graph with vertices $(i,j)$ for $1 \\leq i \\leq n$ and $1 \\leq j \\leq n$.\n",
    "Each node $(i,j)$ is connected to a subset of its four adjacent neighbors $\\{(i+1, j), (i, j+1), (i-1, j), (i, j-1) \\}$.\n",
    "\n",
    "The grid is laid out so that $(1,1)$ is the south west corner and $(n,n)$ is the northeast corner.\n",
    "\n",
    "The vehicle starts at $(1,1)$ *oriented north* and needs to reach $(n,n)$ *oriented east*.\n",
    "\n",
    "It can travel along the four cardinal directions $N, E, W, S$ and rapidly change these direction by \n",
    "making a left or right turn. Eg., changing heading from $N$ to $E$ \n",
    "requires making a right turn, $N$ to $W$ requires a left turn and $N$ to $S$\n",
    "requires either 2 left or 2 right turns.\n",
    "\n",
    "Find the minimimum cost path from $(1,1)$ oriented north to $(n,n)$ oriented east, \n",
    "where the cost is defined as the number of \n",
    "edges plus $2 \\times$ the number of left turns plus $3 \\times$ the number of right turns.\n",
    "\n",
    "What is the running time of your algorithm?\n",
    "\n",
    "*Hint* Define a new graph that helps us track not just the vehicle location but also its current travel direction.\n",
    "Define edge weights appropriately so that the shortest cost problem on this new graph will solve the original problem."
   ]
  },
  {
   "cell_type": "markdown",
   "metadata": {},
   "source": [
    "### Answer 4 (Expected Length: 8 lines)\n",
    "\n",
    "We first construct a graph such that each vertex is a cell in the maze along with a specialized component that indicates the vehicles direction. Essentially, each vertex will have a component that indicates its location, `i` and `j`, and then a direction `d`. So each vertex will be represented with `(i,j,d)`. Each adjacent vertex will be a possible cell that the vehicle can travel to, and the weights of these edges that connect each possible vertex will correspond to `1,2,3` for forward, left and right turns respectively.\n",
    "\n",
    "We then implore Dijkstra's algorithm to find the shortest path in this graph from (1,1,N) to (n,n,E). Dijkstra's algorithm usually runs in\n",
    "\n",
    "$$\n",
    "\\color{blue}{\\mathcal{O}(n^{2}\\log{(n)})}\n",
    "$$\n",
    "\n",
    "and this is in turn the complexity of our algorithm."
   ]
  },
  {
   "cell_type": "markdown",
   "metadata": {},
   "source": [
    "----"
   ]
  },
  {
   "cell_type": "markdown",
   "metadata": {},
   "source": [
    "## Testing your solutions -- Do not edit code beyond this point"
   ]
  },
  {
   "cell_type": "code",
   "execution_count": null,
   "metadata": {},
   "outputs": [],
   "source": []
  }
 ],
 "metadata": {
  "kernelspec": {
   "display_name": "Python 3",
   "language": "python",
   "name": "python3"
  },
  "language_info": {
   "codemirror_mode": {
    "name": "ipython",
    "version": 3
   },
   "file_extension": ".py",
   "mimetype": "text/x-python",
   "name": "python",
   "nbconvert_exporter": "python",
   "pygments_lexer": "ipython3",
   "version": "3.7.2"
  }
 },
 "nbformat": 4,
 "nbformat_minor": 2
}
