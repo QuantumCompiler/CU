{
 "cells": [
  {
   "cell_type": "markdown",
   "metadata": {},
   "source": [
    "# CSPB 3104 Assignment 9\n",
    "## Instructions\n",
    "\n",
    "> This assignment is to be completed and uploaded to \n",
    "moodle as a python3 notebook. \n",
    "\n",
    "> Submission deadlines are posted on moodle. \n",
    "\n",
    "> The questions  provided  below will ask you to either write code or \n",
    "write answers in the form of markdown.\n",
    "\n",
    "> Markdown syntax guide is here: [click here](https://github.com/adam-p/markdown-here/wiki/Markdown-Cheatsheet)\n",
    "\n",
    "> Using markdown you can typeset formulae using latex.\n",
    "\n",
    "> This way you can write nice readable answers with formulae like thus:\n",
    "\n",
    ">> The algorithm runs in time $\\Theta\\left(n^{2.1\\log_2(\\log_2( n \\log^*(n)))}\\right)$, \n",
    "wherein $\\log^*(n)$ is the inverse _Ackerman_ function.\n",
    "\n",
    "__Double click anywhere on this box to find out how your instructor typeset it. Press Shift+Enter to go back. __\n"
   ]
  },
  {
   "cell_type": "markdown",
   "metadata": {},
   "source": [
    "## Question 1: Most Likely Mutation Tree\n",
    "\n",
    "This question is inspired by this research article: *Spada et al. J Clin Microbiol. 2004 Sep; 42(9): 4230–4236.* and this episode of the erstwhile popular TV show Numb3rs https://www.hulu.com/watch/315041 (need a hulu subscription).\n",
    "\n",
    "\n",
    "Viruses have RNA which mutate rapidly. Let us assume that the RNA of a viral species can be written as\n",
    "an $l$ letter string made up of A, C, T and G.  While replicating, a virus can mutate through random changes in \n",
    "$k$ out of these $l$ positions with probability proportional to  $2^{-k^2}$.  \n",
    "\n",
    "We collect viral samples starting from a single individual and after sequencing, \n",
    "we observe $n$ mutants $A_1, \\ldots, A_n$, but we do not know which individual mutated to another nor what the order of these mutations were. We wish to  reconstruct the mutation tree that connects $A_i$ to $A_j$ if $A_i$ mutated into $A_j$ or vice-versa. \n",
    "\n",
    "Assume that $l$ is large enough that the same RNA sequence cannot be obtained through two different sequences of mutations.\n",
    "\n",
    "You are given a weighted undirected graph $G$ whose vertices are the RNA sequences $A_1, \\ldots, A_n$ and there is an edge between any two nodes $(A_i, A_j)$ with weight $2^{-d(i,j)^2}$, where $d(i,j)$ is the the number of differences between  $A_i$ and $A_j$. \n",
    "\n",
    "A spanning tree $T$ of $G$ then represents a possible history of mutations, the likelihood of which is given by the product of the edge weights of $T$.\n",
    "\n",
    "Show how to compute the most likely spanning tree $T$ in this graph.\n"
   ]
  },
  {
   "cell_type": "markdown",
   "metadata": {},
   "source": [
    "#### Answer 1 (Expected Length: 6 lines)\n",
    "\n",
    "__your answer here__\n"
   ]
  },
  {
   "cell_type": "markdown",
   "metadata": {},
   "source": [
    "### Question 2 (A): Distance Between Clusters\n",
    "\n",
    "Let $G$ be a weighted undirected graph with vertices $V$ and edges $E$. \n",
    "\n",
    "Assume that all edge weights are unique and let $T$ be a MST for this graph.\n",
    "\n",
    "Let us partition the vertices into two clusters $V_1$ and $V_2$. If an edge $e: (u,v)$ satisfies\n",
    "$u \\in V_1$ and $v\\in V_2$, we will call it _partition crossing_.\n",
    "\n",
    "We define the distance between these clusters\n",
    "as the minimum weight among all partition crossing edges of the graph. \n",
    "\n",
    "Show that the minimum weight partition crossing edge must belong to the MST $T$.\n",
    "\n",
    "__Hint:__ Attempt a proof by contradiction."
   ]
  },
  {
   "cell_type": "markdown",
   "metadata": {},
   "source": [
    "### Answer 2(A) ( Expected Length: 6 lines)\n",
    "\n",
    "__your answer here__"
   ]
  },
  {
   "cell_type": "markdown",
   "metadata": {},
   "source": [
    "## Question 2 (B) : Distance Between Point Clusters\n",
    "\n",
    "Let $\\mathcal{Q}:\\ \\{ (x_1,y_1), \\ldots, (x_n, y_n)\\}$ be the coordinates of $n$ points on a plane. Given a partition of $\\mathcal{Q}$ into two clusters $\\mathcal{Q}_1$ and $\\mathcal{Q}_2$, the distance between these clusters is defined as the smallest among the pairwise distances taking one point in $\\mathcal{Q}_1$ and one in $\\mathcal{Q}_2$:\n",
    " \n",
    " $$d(\\mathcal{Q}_1, \\mathcal{Q}_2) = \\min_{ (x_i, y_i) \\in \\mathcal{Q}_1, (x_j, y_j) \\in \\mathcal{Q}_2}\\ \\sqrt{(y_j-y_i)^2 + (x_j - x_i)^2} \\,.$$\n",
    "\n",
    "Given such a partition of $\\mathcal{Q}$, write an efficient algorithm to calculate the distance between them. In particular, we would like you to use the idea from 2(A) for this task. Also, what is the complexity of your method?\n"
   ]
  },
  {
   "cell_type": "markdown",
   "metadata": {},
   "source": [
    "### Answer 2 (B) (Expected Length: 8 lines)\n",
    "\n",
    "__your answer here__\n"
   ]
  },
  {
   "cell_type": "markdown",
   "metadata": {},
   "source": [
    "### Question 2(C): Finding maximally separated clusters\n",
    "\n",
    "Now you are given $\\mathcal{Q}$ as above ($n$ points scattered in the plane), but without a partition.\n",
    "Use the idea from 2(B) to partition the set $\\mathcal{Q}$ into maximally separated clusters $\\mathcal{Q}_1$ and $\\mathcal{Q}_2$.  Ie, find $\\mathcal{Q}_1$ and $\\mathcal{Q}_2$ such that\n",
    "$d(\\mathcal{Q}_1, \\mathcal{Q}_2)$ is maximized.\n",
    "\n"
   ]
  },
  {
   "cell_type": "markdown",
   "metadata": {},
   "source": [
    "### Answer 2(C) (Expected Size: 4 lines)\n",
    "\n",
    "__your answer here__\n"
   ]
  },
  {
   "cell_type": "markdown",
   "metadata": {},
   "source": [
    "## Question 3:  Circular dependencies\n",
    "\n",
    "Jane Programmer (of the dreaded dynamic programming assignment) has been reviewing her school's course catalog.  Classes in her department are organized into 8 divisions -- PBNJ-1000 through PBNJ-8999, with each division more difficult than the last.  But Jane has noticed some issues -- some upper division classes have lower division prerequisites, but the opposite is true as well.  In fact, her current course, PBNJ-3104, requires PBNJ-2400 and PBNJ-2400 requires PBNJ-1300, but PBNJ-1300 requires PBNJ-3104! \n",
    "\n",
    "She wants to report these circular dependencies to the dean of the department by finding two classes which depend on each other and have the largest difference in class number.  In the example above, PBNJ-3104 and PBNJ-1300 depend on each other and have a difference of 3104 - 1300 = 1804.\n",
    "\n",
    "Given a list of classes and their prerequisites, describe an algorithm that will help Jane find the pair of classes with maximum difference between their class numbers.\n",
    "\n",
    "What is the running time of your algorithm in terms of number of classes and prereqs?\n",
    "\n",
    "__HINT:__ Your algorithm should involve the strongly connected components of a graph."
   ]
  },
  {
   "cell_type": "markdown",
   "metadata": {},
   "source": [
    "### Answer 3  (Expected Length: 5 lines) \n"
   ]
  },
  {
   "cell_type": "markdown",
   "metadata": {},
   "source": [
    "## Testing your solutions -- Do not edit code beyond this point"
   ]
  },
  {
   "cell_type": "code",
   "execution_count": null,
   "metadata": {},
   "outputs": [],
   "source": []
  }
 ],
 "metadata": {
  "kernelspec": {
   "display_name": "Python 3",
   "language": "python",
   "name": "python3"
  },
  "language_info": {
   "codemirror_mode": {
    "name": "ipython",
    "version": 3
   },
   "file_extension": ".py",
   "mimetype": "text/x-python",
   "name": "python",
   "nbconvert_exporter": "python",
   "pygments_lexer": "ipython3",
   "version": "3.7.2"
  }
 },
 "nbformat": 4,
 "nbformat_minor": 2
}
