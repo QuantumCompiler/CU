{
 "cells": [
  {
   "cell_type": "markdown",
   "metadata": {
    "deletable": false,
    "editable": false,
    "nbgrader": {
     "checksum": "bfa10372945594d526a3451700847332",
     "grade": false,
     "grade_id": "cell-90272a0660e1e543",
     "locked": true,
     "schema_version": 1,
     "solution": false
    }
   },
   "source": [
    "# CSPB 3104 Assignment 2:"
   ]
  },
  {
   "cell_type": "markdown",
   "metadata": {
    "deletable": false,
    "editable": false,
    "nbgrader": {
     "checksum": "f69baec4344547349fece2ce266b1906",
     "grade": false,
     "grade_id": "cell-b2378586f074c0e1",
     "locked": true,
     "schema_version": 1,
     "solution": false
    }
   },
   "source": [
    "***\n",
    "# Instructions\n",
    "\n",
    "This assignment is to be completed as a python3 notebook.  \n",
    "\n",
    "The questions  provided  below will ask you to either write code or \n",
    "write answers in the form of markdown.\n",
    "\n",
    " Markdown syntax guide is here: [click here](https://github.com/adam-p/markdown-here/wiki/Markdown-Cheatsheet)\n",
    "\n",
    "Using markdown you can typeset formulae using latex.\n",
    "This way you can write nice readable answers with formulae like thus:\n",
    "\n",
    "The algorithm runs in time $\\Theta\\left(n^{2.1\\log_2(\\log_2( n \\log^*(n)))}\\right)$, \n",
    "where $\\log^*(n)$ is the inverse _Ackerman_ function.\n",
    "\n",
    "__Double click anywhere on this box to find out how your instructor typeset it. Press Shift+Enter to go back.__\n"
   ]
  },
  {
   "cell_type": "markdown",
   "metadata": {
    "deletable": false,
    "editable": false,
    "nbgrader": {
     "checksum": "e5552ff91c4189986de921e15845a12b",
     "grade": false,
     "grade_id": "cell-767eb69472626de9",
     "locked": true,
     "schema_version": 1,
     "solution": false
    }
   },
   "source": [
    "***\n",
    "## Question 1: Setting Up and Solving Recurrences\n",
    "\n",
    "Consider the python-like pseudocode below\n",
    "\n",
    "~~~\n",
    "def div_and_conquer_fun(a):\n",
    "    # a is an array of size n\n",
    "    n = length(a)\n",
    "    if n == 0:\n",
    "        return 0\n",
    "    if n == 1: \n",
    "        return a[1]\n",
    "    # 1. Divide into 3 parts\n",
    "    a1 = a[1 ... n//3]\n",
    "    a2 = a[n//3+1 ... 2*n//3]\n",
    "    a3 = a[2*n//3+1 ... n]\n",
    "    # note // denotes integer division a//b := floor(a/b)\n",
    "    (b1, b2) = coalesce_arrays_into_two(a1, a2, a3)\n",
    "    # note b1, b2 are arrays of size n//4 each.\n",
    "    c1 = div_and_conquer_fun(b1)\n",
    "    c2 = div_and_conquer_fun(b2)\n",
    "    return c1 + c2 // Theta (1) time\n",
    "~~~\n",
    "\n",
    "1. The algorithm first divides an array of size n into 3 roughly equal parts.\n",
    "2. Next, it uses the function `coalesce_arrays_into_two(a1, a2, a3)` that runs in $\\Theta(n)$ time, returning two arrays `b1` and `b2` of size $\\frac{n}{4}$ each.\n",
    "3. The function is then recursively called on `b1` and `b2`.\n",
    "4. Finally, the result is summed up and returned.\n",
    "\n",
    "Write down a recurrence relation for the running time of the divide and conquer function above. Use master method to solve the recurrence: write down which case of the master method and the result.\n"
   ]
  },
  {
   "cell_type": "markdown",
   "metadata": {
    "deletable": false,
    "nbgrader": {
     "checksum": "2ee945ba87f3ce5fefbdca45f6fb6760",
     "grade": true,
     "grade_id": "cell-0025f295bb34e01b",
     "locked": false,
     "points": 20,
     "schema_version": 1,
     "solution": true
    }
   },
   "source": [
    "YOUR ANSWER HERE"
   ]
  },
  {
   "cell_type": "markdown",
   "metadata": {
    "deletable": false,
    "editable": false,
    "nbgrader": {
     "checksum": "a6bb61265e60ef3955dc6bcd4d7e80fa",
     "grade": false,
     "grade_id": "cell-14b16acc08601846",
     "locked": true,
     "schema_version": 1,
     "solution": false
    }
   },
   "source": [
    "***\n",
    "## Question 2(a): Counting Dominances\n",
    "Suppose you are given two sorted arrays $a$ and $b$ of the sizes $m$ and $n$, respectively. A \"dominance\" of $a$ over $b$ is a pair of indices $(i,j)$ such that $a[i] > b[j]$.  Note that $i$ is an index of array $a$ and $j$ must be an index of array $b$.\n",
    "\n",
    "\n",
    "Write a __brute force__ algorithm that counts the number of dominances of $a$ over $b$ that runs in $\\Theta(n^2)$ time."
   ]
  },
  {
   "cell_type": "code",
   "execution_count": null,
   "metadata": {
    "deletable": false,
    "nbgrader": {
     "checksum": "97bf8e44cad345ac3ee6e5c847d9c124",
     "grade": false,
     "grade_id": "cell-57660028cdf2b31f",
     "locked": false,
     "schema_version": 1,
     "solution": true
    }
   },
   "outputs": [],
   "source": [
    "#Answer 2(a):\n",
    "def count_dominances_brute_force(a, b):\n",
    "    # YOUR CODE HERE\n",
    "    raise NotImplementedError()\n",
    "    "
   ]
  },
  {
   "cell_type": "markdown",
   "metadata": {
    "deletable": false,
    "editable": false,
    "nbgrader": {
     "checksum": "860be429462dbaf8d2f2c515ed723ef1",
     "grade": false,
     "grade_id": "cell-cdfb6eee99246206",
     "locked": true,
     "schema_version": 1,
     "solution": false
    }
   },
   "source": [
    "## Question 2(b): Counting Dominances\n",
    "However, the brute force algorithm is suboptimal. Design a $\\Theta(n)$ algorithm to count the number of dominances. Do this by modifying the merge algorithm we studied as part of merge sort. Instead of merging the two sorted arrays, count the number of dominances."
   ]
  },
  {
   "cell_type": "code",
   "execution_count": null,
   "metadata": {
    "deletable": false,
    "nbgrader": {
     "checksum": "c9d09891a702692324317f2f06928f83",
     "grade": false,
     "grade_id": "cell-a6e9bad601c5a14f",
     "locked": false,
     "schema_version": 1,
     "solution": true
    }
   },
   "outputs": [],
   "source": [
    "#Answer 2(b):\n",
    "def count_dominances(a, b):\n",
    "    # YOUR CODE HERE\n",
    "    raise NotImplementedError()"
   ]
  },
  {
   "cell_type": "markdown",
   "metadata": {
    "deletable": false,
    "editable": false,
    "nbgrader": {
     "checksum": "08af54cb42f3d273d7ab2dddae7611a5",
     "grade": false,
     "grade_id": "cell-78c09dcbb3442f85",
     "locked": true,
     "schema_version": 1,
     "solution": false
    }
   },
   "source": [
    "## Question 2(c): Counting Dominances\n",
    "Explain the logic behind your solution to Question 2(b) briefly (5 lines)."
   ]
  },
  {
   "cell_type": "markdown",
   "metadata": {
    "deletable": false,
    "nbgrader": {
     "checksum": "dea5ee254285bc894d3403d3a7c9e368",
     "grade": true,
     "grade_id": "cell-efd6f00eccd2e786",
     "locked": false,
     "points": 15,
     "schema_version": 1,
     "solution": true
    }
   },
   "source": [
    "YOUR ANSWER HERE"
   ]
  },
  {
   "cell_type": "markdown",
   "metadata": {
    "deletable": false,
    "editable": false,
    "nbgrader": {
     "checksum": "10c9b10bda40c50df22d4539e9e1293a",
     "grade": false,
     "grade_id": "cell-717259161e0da085",
     "locked": true,
     "schema_version": 1,
     "solution": false
    }
   },
   "source": [
    "***\n",
    "## Question 3(a): Finding a Fixed Point. \n",
    "A fixed point of an array $A$, if it exists, is an index $i$ such that $A[i] = i$.\n",
    "Given a _sorted_ array $A$ of _distinct_ __integers__, return the index of the fixed point if one exists, or otherwise, return `-1` to signal that no fixed point exists. Your algorithm must be as efficient as possible."
   ]
  },
  {
   "cell_type": "code",
   "execution_count": null,
   "metadata": {
    "deletable": false,
    "nbgrader": {
     "checksum": "64439ed70c5cea4a6bffc2dabe93edf7",
     "grade": false,
     "grade_id": "cell-6a58c57b10f4d43e",
     "locked": false,
     "schema_version": 1,
     "solution": true
    }
   },
   "outputs": [],
   "source": [
    "#Answer 3(a)\n",
    "def find_fixed_point(a):\n",
    " # YOUR CODE HERE\n",
    " raise NotImplementedError()"
   ]
  },
  {
   "cell_type": "markdown",
   "metadata": {
    "deletable": false,
    "editable": false,
    "nbgrader": {
     "checksum": "6c274681c749bb6c58e8dde56635d7eb",
     "grade": false,
     "grade_id": "cell-efe5ac4bc0e4837f",
     "locked": true,
     "schema_version": 1,
     "solution": false
    }
   },
   "source": [
    "## Question 3(b): \n",
    "Explain your solution to the problem briefly and derive its running time complexity."
   ]
  },
  {
   "cell_type": "markdown",
   "metadata": {
    "deletable": false,
    "nbgrader": {
     "checksum": "b56d56218876bc9dbd207eae9ca1a7b4",
     "grade": true,
     "grade_id": "cell-15fd886bc11e6fd3",
     "locked": false,
     "points": 15,
     "schema_version": 1,
     "solution": true
    }
   },
   "source": [
    "YOUR ANSWER HERE"
   ]
  },
  {
   "cell_type": "markdown",
   "metadata": {
    "deletable": false,
    "editable": false,
    "nbgrader": {
     "checksum": "2301b95ece8905c2526db45ded4ddae5",
     "grade": false,
     "grade_id": "cell-60a6c725103b998b",
     "locked": true,
     "schema_version": 1,
     "solution": false
    }
   },
   "source": [
    "## Question 3(c): Finding a Fixed Point Again. \n",
    "\n",
    "Given a _sorted_ array $A$ of _distinct_ __natural numbers__, return the index of the fixed point if one exists, or otherwise, return `-1` to signal that no fixed point exists. Your algorithm must be as efficient as possible."
   ]
  },
  {
   "cell_type": "code",
   "execution_count": null,
   "metadata": {
    "deletable": false,
    "nbgrader": {
     "checksum": "d98b1301107a5bbfa66ae3a977b791fe",
     "grade": false,
     "grade_id": "cell-03b15d6700803f4e",
     "locked": false,
     "schema_version": 1,
     "solution": true
    }
   },
   "outputs": [],
   "source": [
    "#Answer 3(c)\n",
    "def find_fixed_point_natural(a):\n",
    "    # YOUR CODE HERE\n",
    "    raise NotImplementedError()"
   ]
  },
  {
   "cell_type": "markdown",
   "metadata": {
    "deletable": false,
    "editable": false,
    "nbgrader": {
     "checksum": "c8e490b2a7c6014caa537f97cc83ded2",
     "grade": false,
     "grade_id": "cell-9c27a502610b58e6",
     "locked": true,
     "schema_version": 1,
     "solution": false
    }
   },
   "source": [
    "## Question 3(d)\n",
    "Explain your solution to the problem briefly and derive its running time complexity. (*Hint*: Your algorithm should be quicker than your algorithm for part (a).)"
   ]
  },
  {
   "cell_type": "markdown",
   "metadata": {
    "deletable": false,
    "nbgrader": {
     "checksum": "7c4bb7c5d9bab33e741016192c9e4ed9",
     "grade": true,
     "grade_id": "cell-f933018b82a90554",
     "locked": false,
     "points": 10,
     "schema_version": 1,
     "solution": true
    }
   },
   "source": [
    "YOUR ANSWER HERE"
   ]
  },
  {
   "cell_type": "markdown",
   "metadata": {
    "deletable": false,
    "editable": false,
    "nbgrader": {
     "checksum": "a5328778b7b206131cac84e3bd7a2b3a",
     "grade": false,
     "grade_id": "cell-4b434c6869df301a",
     "locked": true,
     "schema_version": 1,
     "solution": false
    }
   },
   "source": [
    "## Testing your solutions -- Do not edit code beyond this point"
   ]
  },
  {
   "cell_type": "code",
   "execution_count": null,
   "metadata": {
    "deletable": false,
    "editable": false,
    "nbgrader": {
     "checksum": "c7c0636e3689887b061f9989282df7c2",
     "grade": true,
     "grade_id": "cell-07261dba53118757",
     "locked": true,
     "points": 0,
     "schema_version": 1,
     "solution": false
    }
   },
   "outputs": [],
   "source": [
    "# This code runs 5 test cases on your two algorithms\n",
    "def test_count_dominances(func):\n",
    "    a1 = [ 5, 7, 10]\n",
    "    b1 = [ 1, 2,  3] \n",
    "    n1 = 9\n",
    "\n",
    "    a2 = [ 6, 10, 15, 21]\n",
    "    b2 = [ 4, 19, 25, 32]\n",
    "    n2 = 5\n",
    "    \n",
    "    \n",
    "    a3 = [ 6, 10, 15, 21]\n",
    "    b3 = []\n",
    "    n3 = 0\n",
    "    \n",
    "    a4 = [ 1, 3, 5, 7, 9, 11, 13]\n",
    "    b4 = [ 2,  4, 6, 8, 10]\n",
    "    n4 = 20\n",
    "    \n",
    "    a5 = [1, 3, 5, 6, 7, 9, 11, 13]\n",
    "    b5 = [2, 4, 6, 6, 6, 8, 10]\n",
    "    n5 = 30\n",
    "    \n",
    "    problems = [(a1, b1, n1), (a2, b2, n2), (a3, b3, n3), (a4, b4, n4), (a5, b5, n5)]\n",
    "    num_passed = 0\n",
    "    for (a, b, n) in problems:\n",
    "        res = func(a, b)\n",
    "        if res == n:\n",
    "            num_passed = num_passed + 1\n",
    "        else: \n",
    "            print('FAILED: a = ', a, 'b = ', b, ' expected = ', n, 'your code = ', res)\n",
    "    print('--- Done ---')\n",
    "    print ('Num tests = ', len(problems))\n",
    "    print ('Num passed = ', num_passed)"
   ]
  },
  {
   "cell_type": "code",
   "execution_count": null,
   "metadata": {
    "deletable": false,
    "editable": false,
    "nbgrader": {
     "checksum": "28764e3f2e016c045b78f4a55afe9653",
     "grade": true,
     "grade_id": "cell-5fec67453127a249",
     "locked": true,
     "points": 10,
     "schema_version": 1,
     "solution": false
    }
   },
   "outputs": [],
   "source": [
    "print('Testing brute force:')\n",
    "test_count_dominances(count_dominances_brute_force)"
   ]
  },
  {
   "cell_type": "code",
   "execution_count": null,
   "metadata": {
    "deletable": false,
    "editable": false,
    "nbgrader": {
     "checksum": "971316c3d8c19f59176d0326dd51b505",
     "grade": true,
     "grade_id": "cell-a4ebce53d021bc00",
     "locked": true,
     "points": 10,
     "schema_version": 1,
     "solution": false
    }
   },
   "outputs": [],
   "source": [
    "print('Testing modified merge algorithm:')\n",
    "test_count_dominances(count_dominances)"
   ]
  },
  {
   "cell_type": "code",
   "execution_count": null,
   "metadata": {
    "deletable": false,
    "editable": false,
    "nbgrader": {
     "checksum": "6442c0a137c6d1f059a8567df954d0bf",
     "grade": false,
     "grade_id": "cell-c7a63ccb8e19aab3",
     "locked": true,
     "schema_version": 1,
     "solution": false
    }
   },
   "outputs": [],
   "source": [
    "from random import sample\n",
    "def compare_brute_force_vs_fast():\n",
    "    a = sorted( sample (range(60), 20) )\n",
    "    b = sorted( sample (range(60), 20) )\n",
    "    n1 = count_dominances_brute_force(a, b)\n",
    "    n2 = count_dominances(a, b)\n",
    "    if n1 != n2:\n",
    "        print('Disparity observed between two algorithms:', a, b, n1, n2)\n",
    "        return False\n",
    "    return True\n",
    "    \n",
    "print('Comparing the two implementations.')\n",
    "num_passed = 0\n",
    "total = 100\n",
    "for i in range(total):\n",
    "    if compare_brute_force_vs_fast():\n",
    "        num_passed = num_passed + 1\n",
    "print(' -- all tests done -- ')\n",
    "print(' passed = ', num_passed, ' out of ', total)"
   ]
  },
  {
   "cell_type": "code",
   "execution_count": null,
   "metadata": {},
   "outputs": [],
   "source": [
    "print(find_fixed_point([-10, -5, -2, 2, 3, 5, 7, 10, 15, 25, 35, 78, 129]))"
   ]
  },
  {
   "cell_type": "code",
   "execution_count": null,
   "metadata": {
    "deletable": false,
    "editable": false,
    "nbgrader": {
     "checksum": "8eaa4311469820a218deed308cbf7e9d",
     "grade": false,
     "grade_id": "cell-9aa7da7a9b1a3e5e",
     "locked": true,
     "schema_version": 1,
     "solution": false
    }
   },
   "outputs": [],
   "source": [
    "def find_fixed_point_very_naive(a):\n",
    "    n = len(a)\n",
    "    for i in range(0, n):\n",
    "        if a[i] == i:\n",
    "            return i\n",
    "    return -1"
   ]
  },
  {
   "cell_type": "code",
   "execution_count": null,
   "metadata": {
    "deletable": false,
    "editable": false,
    "nbgrader": {
     "checksum": "58ff305dcd27e92873949fd092e24fa7",
     "grade": true,
     "grade_id": "cell-84c230b8d60d7a54",
     "locked": true,
     "points": 10,
     "schema_version": 1,
     "solution": false
    }
   },
   "outputs": [],
   "source": [
    "def test_find_fixed_point_code(n_tests, test_size):\n",
    "    n_passed = 0\n",
    "    for i in range(0, n_tests):\n",
    "        a = sorted( sample( range(-10 * n_tests,  10 * n_tests ), test_size))\n",
    "        j = find_fixed_point(a)\n",
    "        if j >= 0 and a[j] != j:\n",
    "            print(' Code failed for input: ', a, 'returned : ', j, 'expected:', find_fixed_point_very_naive(a))\n",
    "        elif j < 0: \n",
    "            assert j == -1, 'Your code returns an illegal negative number: have you implemented it yet?'\n",
    "            k = find_fixed_point_very_naive(a)\n",
    "            if k >= 0:\n",
    "                print('Code failed for input', a)\n",
    "                print('Your code failed to find a fixed point')\n",
    "                print('However, for j = ', k, 'a[j] =', a[k])\n",
    "            else: \n",
    "                n_passed = n_passed + 1\n",
    "        else: \n",
    "            n_passed = n_passed + 1\n",
    "    return n_passed\n",
    "\n",
    "n_tests = 10000\n",
    "n_passed = test_find_fixed_point_code(10000, 10)\n",
    "print(' num tests  = ', n_tests)\n",
    "print(' num passed = ', n_passed)"
   ]
  },
  {
   "cell_type": "code",
   "execution_count": null,
   "metadata": {
    "deletable": false,
    "editable": false,
    "nbgrader": {
     "checksum": "eeb1e1a03469c671cddf0f72790c24f7",
     "grade": false,
     "grade_id": "cell-8d74aba7a056516c",
     "locked": true,
     "schema_version": 1,
     "solution": false
    }
   },
   "outputs": [],
   "source": [
    "print('Test: expected answer = 5, your answer = ', find_fixed_point([-10, -5, -2, 2, 3, 5, 7, 10, 15, 25, 35, 78, 129])) "
   ]
  },
  {
   "cell_type": "code",
   "execution_count": null,
   "metadata": {
    "deletable": false,
    "editable": false,
    "nbgrader": {
     "checksum": "cc3f9f39c49153f8645945dbfa9da88b",
     "grade": true,
     "grade_id": "cell-1a18d5990fb957a8",
     "locked": true,
     "points": 10,
     "schema_version": 1,
     "solution": false
    }
   },
   "outputs": [],
   "source": [
    "def test_find_fixed_point_natural_code(n_tests, test_size):\n",
    "    n_passed = 0\n",
    "    for i in range(0, n_tests):\n",
    "        a = sorted( sample( range(0,  10 * n_tests ), test_size))\n",
    "        j = find_fixed_point_natural(a)\n",
    "        if j >= 0 and a[j] != j:\n",
    "            print(' Code failed for input: ', a, 'returned : ', j, 'expected:', find_fixed_point_very_naive(a))\n",
    "        elif j < 0: \n",
    "            assert j == -1, 'Your code returns an illegal negative number: have you implemented it yet?'\n",
    "            k = find_fixed_point_very_naive(a)\n",
    "            if k >= 0:\n",
    "                print('Code failed for input', a)\n",
    "                print('Your code failed to find a fixed point')\n",
    "                print('However, for j = ', k, 'a[j] =', a[k])\n",
    "            else: \n",
    "                n_passed = n_passed + 1\n",
    "        else: \n",
    "            n_passed = n_passed + 1\n",
    "    return n_passed\n",
    "\n",
    "n_tests = 10000\n",
    "n_passed = test_find_fixed_point_natural_code(10000, 10)\n",
    "print(' num tests  = ', n_tests)\n",
    "print(' num passed = ', n_passed)"
   ]
  },
  {
   "cell_type": "code",
   "execution_count": null,
   "metadata": {
    "deletable": false,
    "editable": false,
    "nbgrader": {
     "checksum": "5b0ecf7bc8c94372fe301e21df4b5189",
     "grade": false,
     "grade_id": "cell-b234e2cab95033fe",
     "locked": true,
     "schema_version": 1,
     "solution": false
    }
   },
   "outputs": [],
   "source": [
    "print('Test: expected answer = 0, your answer = ', find_fixed_point_natural([0,1, 2, 3, 5, 7, 10, 15, 25, 35, 78, 129])) "
   ]
  }
 ],
 "metadata": {
  "kernelspec": {
   "display_name": "Python 3",
   "language": "python",
   "name": "python3"
  },
  "language_info": {
   "codemirror_mode": {
    "name": "ipython",
    "version": 3
   },
   "file_extension": ".py",
   "mimetype": "text/x-python",
   "name": "python",
   "nbconvert_exporter": "python",
   "pygments_lexer": "ipython3",
   "version": "3.7.2"
  }
 },
 "nbformat": 4,
 "nbformat_minor": 2
}
