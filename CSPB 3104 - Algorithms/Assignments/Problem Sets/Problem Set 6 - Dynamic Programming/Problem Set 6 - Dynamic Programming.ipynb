{
 "cells": [
  {
   "cell_type": "markdown",
   "metadata": {},
   "source": [
    "# CSPB 3104 Assignment 6/7"
   ]
  },
  {
   "cell_type": "markdown",
   "metadata": {},
   "source": [
    "## Instructions\n",
    "\n",
    "> This assignment is to be completed and uploaded to \n",
    "moodle as a python3 notebook. \n",
    "\n",
    "> Submission deadlines are posted on moodle. \n",
    "\n",
    "> The questions  provided  below will ask you to either write code or \n",
    "write answers in the form of markdown.\n",
    "\n",
    "> Markdown syntax guide is here: [click here](https://github.com/adam-p/markdown-here/wiki/Markdown-Cheatsheet)\n",
    "\n",
    "> Using markdown you can typeset formulae using latex.\n",
    "\n",
    "> This way you can write nice readable answers with formulae like thus:\n",
    "\n",
    ">> The algorithm runs in time $\\Theta\\left(n^{2.1\\log_2(\\log_2( n \\log^*(n)))}\\right)$, \n",
    "wherein $\\log^*(n)$ is the inverse _Ackerman_ function.\n",
    "\n",
    "__Double click anywhere on this box to find out how your instructor typeset it. Press Shift+Enter to go back.__\n"
   ]
  },
  {
   "cell_type": "markdown",
   "metadata": {},
   "source": [
    "## Question 1: Dynamic Programmer Jane's Progress\n",
    "\n",
    "__Note:__ There is an accompanying set of images that should be placed in the same directory as this notebook.\n",
    "\n",
    "We are writing a simple game AI for guiding our `Jane` the dynamic programmer to jump through a set of levels to reach a target level by taking\n",
    "courses in dynamic programming.\n",
    "\n",
    "The levels positions are numbered 1, ... , n. The character starts at level 1 and the goal is to reach level n (where she becomes\n",
    "a d.p. ninja) and thus aces CSCI 3104.\n",
    "After taking a course, she can choose to move up by 1, 4, 5 or 11 levels forward at each step. No backward jumps are available.\n",
    "\n",
    "![Jane_Programmer At Start of Game](jane-picture-p1.png \"Jane at the Very Start of the Game\" )\n",
    "\n",
    "Your goal is to use dynamic programming to find out how to reach from level 1 to level n with the minimum number of courses.\n",
    "\n",
    "## 1(A) Write a recurrence.\n",
    "\n",
    "Write a recurrence `minCoursesForJane(j, n)` that represents the minimum number of steps for Jane to reach from level j to level n.\n"
   ]
  },
  {
   "cell_type": "code",
   "execution_count": 59,
   "metadata": {},
   "outputs": [],
   "source": [
    "\"\"\" minCoursesForJane - Returns the minimum number of steps for Jane to reach from level j to level n.\n",
    "    Input:\n",
    "        j - the current level of Jane (starting point).\n",
    "        n - the target level Jane aims to reach (destination).\n",
    "    Algorithm:\n",
    "        * Check if j is equal to n\n",
    "            * If so, return 0\n",
    "        * Check if j > n\n",
    "            * If so, return infinity\n",
    "        * Otherwise\n",
    "            * Return the minimum number of steps by recursively calling the function for all possible step values\n",
    "    Output:\n",
    "        Returns the minimum number of courses (steps) Jane needs to take to reach from her current level j to the target level n\n",
    "\"\"\"\n",
    "def minCoursesForJane(j, n):\n",
    "    # Must return a number\n",
    "    if (j == n):\n",
    "        return 0\n",
    "    elif (j > n):\n",
    "        return float('inf')\n",
    "    else:\n",
    "        steps = [1, 4, 5, 11]\n",
    "        return min([1 + minCoursesForJane(j + s, n) for s in steps])"
   ]
  },
  {
   "cell_type": "code",
   "execution_count": 60,
   "metadata": {},
   "outputs": [
    {
     "name": "stdout",
     "output_type": "stream",
     "text": [
      "2\n",
      "2\n",
      "4\n",
      "3\n",
      "5\n"
     ]
    }
   ],
   "source": [
    "## Test Code: Do not edit\n",
    "print(minCoursesForJane(1, 9)) # should be 2\n",
    "print(minCoursesForJane(1, 13)) # should be 2\n",
    "print(minCoursesForJane(1, 19)) # should be 4\n",
    "print(minCoursesForJane(1, 34)) # should be 3\n",
    "print(minCoursesForJane(1, 43)) # should be 5"
   ]
  },
  {
   "cell_type": "markdown",
   "metadata": {},
   "source": [
    "## 1(B) Memoize the Recurrence.\n",
    "\n",
    "Assume that n is fixed. The memo table $T[0], \\ldots, T[n]$ should store the value of `minCoursesForJane(j, n)`. "
   ]
  },
  {
   "cell_type": "code",
   "execution_count": 61,
   "metadata": {},
   "outputs": [],
   "source": [
    "\"\"\" minCoursesForJane_Memoize - Returns the minimum number of steps for Jane to reach from level j to level n.\n",
    "    Input:\n",
    "        n - the target level Jane aims to reach\n",
    "    Algorithm:\n",
    "        * Create an empty dictionary for the memo table\n",
    "        * Define the memoize function\n",
    "            * Repeat the same logic as the previous algorithm except:\n",
    "                * Check if j is in the memo table\n",
    "                    * If it is, return the value in the memo table\n",
    "                * Otherwise, iterate over possible steps and return the minimum, set the index of memo to this values\n",
    "            * Return the memo of j\n",
    "    Output:\n",
    "        Returns the minimum number of courses Jane needs to take to reach from her current level j to the target level n using memoization\n",
    "\"\"\"\n",
    "def minCoursesForJane_Memoize(n): # Assume that j = 1 is always the starting point.\n",
    "    # must return a number\n",
    "    memo = {}\n",
    "    def memoize(j):\n",
    "        if (j == n):\n",
    "            return 0\n",
    "        elif (j > n):\n",
    "            return float('inf')\n",
    "        elif (j in memo):\n",
    "            return memo[j]\n",
    "        else:\n",
    "            steps = [1, 4, 5, 11]\n",
    "            memo[j] = min([1 + memoize(j + s) for s in steps])\n",
    "        return memo[j]\n",
    "    # answer must coincide with recursive version\n",
    "    return memoize(1) # EDIT"
   ]
  },
  {
   "cell_type": "code",
   "execution_count": 62,
   "metadata": {},
   "outputs": [
    {
     "name": "stdout",
     "output_type": "stream",
     "text": [
      "2\n",
      "2\n",
      "4\n",
      "3\n",
      "5\n"
     ]
    }
   ],
   "source": [
    "## Test Code: Do not edit\n",
    "print(minCoursesForJane_Memoize(9)) # should be 2\n",
    "print(minCoursesForJane_Memoize(13)) # should be 2\n",
    "print(minCoursesForJane_Memoize(19)) # should be 4\n",
    "print(minCoursesForJane_Memoize(34)) # should be 3\n",
    "print(minCoursesForJane_Memoize(43)) # should be 5"
   ]
  },
  {
   "cell_type": "markdown",
   "metadata": {},
   "source": [
    "## 1(C) Recover the Solution\n",
    "\n",
    "Modify the solution from part B to also return how many steps Jane needs to jump at each course.  Your answer must be a pair: `minimum number of courses, list of jumps at each course: each elements of this list must be 1, 4, 5 or 11`"
   ]
  },
  {
   "cell_type": "code",
   "execution_count": 63,
   "metadata": {},
   "outputs": [],
   "source": [
    "\"\"\" minCoursesForJane_Solution - Calculates the minimum number of courses Jane needs to take to reach level n from level 1 and the sequence of jumps for each course\n",
    "   Input:\n",
    "      n - The target level Jane aims to reach (destination).\n",
    "   Algorithm:\n",
    "      * Use the same logic from the memoization except:\n",
    "         * Set the minSteps to infinity\n",
    "         * Create an empty array for the steps to be appended to\n",
    "         * Iterate over the possible steps\n",
    "            * Calculate the minimum steps\n",
    "            * Keep track of the steps taken\n",
    "         * Update the memo table with the minimum steps and the min path for the current indices\n",
    "         * Return the memo table for the current index\n",
    "   Output: Returns the minimum number of courses (steps) and the second element is a list detailing the sequence of jumps\n",
    "\"\"\"\n",
    "def minCoursesForJane_Solution(n): # Assume that j = 1 is always the starting point\n",
    "   # must return a pair of number, list\n",
    "   # number returned is the same as minCoursesForJane_Memoize\n",
    "   # list must be a list of jumps consisting of elements [1,4, 5, 11]\n",
    "   memo = {}\n",
    "   def memoize(j):\n",
    "      if (j == n):\n",
    "         return (0, [])\n",
    "      elif (j > n):\n",
    "         return (float('inf'), [])\n",
    "      elif (j in memo):\n",
    "         return memo[j]\n",
    "      else:\n",
    "         steps = [1, 4, 5, 11]\n",
    "         ret = [(1 + steps, [s] + path) for s in steps for steps, path in [memoize(j + s)]]\n",
    "         minSteps, minPath = min(ret, key=lambda x: x[0])\n",
    "         memo[j] = (minSteps, minPath)\n",
    "      return memo[j]\n",
    "   return memoize(1) # EDIT"
   ]
  },
  {
   "cell_type": "code",
   "execution_count": 64,
   "metadata": {},
   "outputs": [
    {
     "name": "stdout",
     "output_type": "stream",
     "text": [
      "(2, [4, 4])\n",
      "(2, [1, 11])\n",
      "(4, [1, 1, 5, 11])\n",
      "(3, [11, 11, 11])\n",
      "(5, [4, 5, 11, 11, 11])\n"
     ]
    }
   ],
   "source": [
    "## Test Code: Do not edit\n",
    "print(minCoursesForJane_Solution(9)) # should be 2, [4, 4]\n",
    "print(minCoursesForJane_Solution(13)) # should be 2, [1, 11]\n",
    "print(minCoursesForJane_Solution(19)) # should be 4, [1, 1, 5, 11]\n",
    "print(minCoursesForJane_Solution(34)) # should be 3, [11, 11, 11]\n",
    "print(minCoursesForJane_Solution(43)) # should be 5, [4, 5, 11, 11, 11]"
   ]
  },
  {
   "cell_type": "markdown",
   "metadata": {},
   "source": [
    "## 1(D) Greedy Solution\n",
    "\n",
    "Suppose Jane tried a greedy strategy that works as follows. \n",
    "Initialize number of courses $c = 0$.\n",
    "\n",
    "   1. While $n \\geq 11$,\n",
    "      1.1 jump $11$ steps forward, and set $n = n - 11$, $ c = c + 1$\n",
    "   2. While $n \\geq 5$, \n",
    "      2.1 jump $5$ steps forward and set $n = n - 5$, $ c = c + 1$\n",
    "   3. While $n \\geq 4$, \n",
    "      3.1 jump $4$ steps forward and set $n = n - 4$, $c = c + 1$\n",
    "   4. Finally, while $n > 1$, \n",
    "      4.1 jump $1$ step forward and set $n = n - 1$, $c = c + 1$\n",
    "     \n",
    "This way, she can reach level $n$ starting from level $1$ using $c$ courses.\n",
    "\n",
    "Show using an example for $n$ that this strategy may require her to take more courses than the optimal solution from dynamic programming."
   ]
  },
  {
   "cell_type": "markdown",
   "metadata": {},
   "source": [
    "## Answer (Expected Length 3 lines) \n",
    "\n",
    "For this example, I will be using $n = 15$. The greedy algorithm seeks to perform the same operation as our dynamic programming implementation. If we use the greedy algorithm, the logic goes as follows:\n",
    "\n",
    "\\begin{align}\n",
    "    n \\geq 11 & \\therefore \\text{ Jump from 1 to 12} \\rightarrow n = 15 - 11 = 4, & c = 0 + 1 = 1 \\\\\n",
    "    n > 1 & \\therefore \\text{ Jump from 12 to 13} \\rightarrow n = 4 - 1 = 3, & c = 1 + 1 = 2 \\\\\n",
    "    n > 1 & \\therefore \\text{ Jump from 13 to 14} \\rightarrow n = 3 - 1 = 2, & c = 2 + 1 = 3 \\\\\n",
    "    n > 1 & \\therefore \\text{ Jump from 14 to 15} \\rightarrow n = 2 - 1 = 1, & c = 3 + 1 = 4 \\\\\n",
    "    n = 1 & \\therefore \\text{ No more jumps} \\rightarrow n = 1, & \\color{blue}{c = 4}\n",
    "\\end{align}\n",
    "\n",
    "If the greedy algorithm were to have jumped 4 spots in the second jump, it would have exceeded the max level 15. Therefore we can only jump at one level at a time once we are at $n = 12$. This results in 4 total courses (jumps) needed and is more than the 3 that came from our dynamic programming example. We can see the values for the dynamic programming solution below from $n = 1$ to $n = 20$."
   ]
  },
  {
   "cell_type": "code",
   "execution_count": 65,
   "metadata": {},
   "outputs": [
    {
     "name": "stdout",
     "output_type": "stream",
     "text": [
      "n = 1, Jumps: 0\n",
      "n = 2, Jumps: 1\n",
      "n = 3, Jumps: 2\n",
      "n = 4, Jumps: 3\n",
      "n = 5, Jumps: 1\n",
      "n = 6, Jumps: 1\n",
      "n = 7, Jumps: 2\n",
      "n = 8, Jumps: 3\n",
      "n = 9, Jumps: 2\n",
      "n = 10, Jumps: 2\n",
      "n = 11, Jumps: 2\n",
      "n = 12, Jumps: 1\n",
      "n = 13, Jumps: 2\n",
      "n = 14, Jumps: 3\n",
      "n = 15, Jumps: 3\n",
      "n = 16, Jumps: 2\n",
      "n = 17, Jumps: 2\n",
      "n = 18, Jumps: 3\n",
      "n = 19, Jumps: 4\n",
      "n = 20, Jumps: 3\n"
     ]
    }
   ],
   "source": [
    "for i in range(1,21):\n",
    "    print(f\"n = {i}, Jumps: {minCoursesForJane_Memoize(i)}\")"
   ]
  },
  {
   "cell_type": "markdown",
   "metadata": {},
   "source": [
    "----"
   ]
  },
  {
   "cell_type": "markdown",
   "metadata": {},
   "source": [
    "## Question 2: The Defeat of Kilokahn\n",
    "\n",
    "Unfortunately, life was not as simple as it seemed in problem 1. Some of the levels have been hacked by an evil group of \n",
    "students who can subvert Jane and her great expertise to serve evil Kilokahn (Kilometric Knowledge-base Animate Human Nullity). \n",
    "\n",
    "Any level j that leaves a remainder of 2 when divided by 7 is to be avoided by Jane as she progresses towards level n (where she\n",
    "becomes a code ninja). However, Kilokahn will not be at level $n$ even if $n \\mod 7 = 2$.\n",
    "\n",
    "\n",
    "![Jane_Programmer At Start of Game with Kilokahn lurking](jane-picture-p2.png \"Jane at the Very Start of the Game with Kilokahn lurking\" )\n",
    "\n",
    "\n",
    "## 2(A) Write a recurrence.\n",
    "\n",
    "Write a recurrence `minCoursesForJaneAvoidKK(j, n)` that represents the minimum number of steps for Jane to reach from level j to level n while not reaching any level occupied by Kilokahn.\n"
   ]
  },
  {
   "cell_type": "code",
   "execution_count": 66,
   "metadata": {},
   "outputs": [],
   "source": [
    "\"\"\" minCoursesForJaneAvoidKK - Calculates the minimum number of steps for Jane to reach level n from level j without landing on levels hacked by Kilokahn.\n",
    "    Input:\n",
    "        j - Current level of Jane\n",
    "        n - Target level for Jane to reach, avoiding levels where j % 7 == 2 (Kilokahn's hack), except for the target level itself\n",
    "    Algorithm:\n",
    "        * Check if j is equal to n\n",
    "            * If so, return 0\n",
    "        * Check if j is greater than n or if the modulo of n divided by 7 is equal to 2 and j not equal to n\n",
    "            * If so, return infinity\n",
    "        * Return the minimum number of steps given that the modulo of the jumps is not equal to 2 or if we are at the targe\n",
    "    Output:\n",
    "        The minimum number of courses (steps) required for Jane to reach level n from level j, avoiding Kilokahn's hacks, or infinity if no valid path exists\n",
    "\"\"\"\n",
    "def minCoursesForJaneAvoidKK(j, n):\n",
    "    if (j == n):\n",
    "        return 0\n",
    "    elif (j > n) or (j % 7 == 2 and j != n):\n",
    "        return float('inf')\n",
    "    else:\n",
    "        steps = [1, 4, 5, 11]\n",
    "        return min([1 + minCoursesForJaneAvoidKK(j + s, n) for s in steps if ((j + s) % 7 != 2 or (j + s) == n)])"
   ]
  },
  {
   "cell_type": "code",
   "execution_count": 67,
   "metadata": {},
   "outputs": [
    {
     "name": "stdout",
     "output_type": "stream",
     "text": [
      "2\n",
      "2\n",
      "4\n",
      "5\n",
      "5\n",
      "6\n"
     ]
    }
   ],
   "source": [
    "## Test Code: Do not edit\n",
    "print(minCoursesForJaneAvoidKK(1, 9)) # should be 2\n",
    "print(minCoursesForJaneAvoidKK(1, 13)) # should be 2\n",
    "print(minCoursesForJaneAvoidKK(1, 19)) # should be 4\n",
    "print(minCoursesForJaneAvoidKK(1, 34)) # should be 5\n",
    "print(minCoursesForJaneAvoidKK(1, 43)) # should be 5\n",
    "print(minCoursesForJaneAvoidKK(1, 55)) # should be 6 "
   ]
  },
  {
   "cell_type": "markdown",
   "metadata": {},
   "source": [
    "## 2(B) Memoize the recurrence in 2(A)"
   ]
  },
  {
   "cell_type": "code",
   "execution_count": 68,
   "metadata": {},
   "outputs": [],
   "source": [
    "\"\"\" minCoursesForJaneAvoidKK_Memoize - Optimizes the calculation of the minimum number of steps for Jane to reach level n from level 1\n",
    "    Input:\n",
    "        n - Target level for Jane to reach, ensuring avoidance of levels hacked by Kilokahn, except if it's the target level itself\n",
    "    Algorithm:\n",
    "        * Use the same logic as the previous function except:\n",
    "            * Check if the value is present in the memo table\n",
    "                * If it is, return that value from the table\n",
    "            * Otherwise\n",
    "                * Iterate over the possible steps, return the minimum, as long as we don't run into KiloKahn's comprised levels\n",
    "    Output:\n",
    "        Returns the minimum number of courses (steps) required for Jane to reach the target level n from level 1, while avoiding Kilokahn's compromised levels\n",
    "\"\"\"\n",
    "def minCoursesForJaneAvoidKK_Memoize(n): # j is assumed to be 1 \n",
    "    memo = {}\n",
    "    def memoize(j):\n",
    "        if (j == n):\n",
    "            return 0\n",
    "        elif ((j > n) or (j % 7 == 2 and j != n)):\n",
    "            return float('inf')\n",
    "        elif (j in memo):\n",
    "            return memo[j]\n",
    "        else:\n",
    "            steps = [1, 4, 5, 11]\n",
    "            memo[j] = min([1 + memoize(j + s) for s in steps if ((j + s) % 7 != 2 or (j + s) == n)])\n",
    "        return memo[j]\n",
    "    return memoize(1)"
   ]
  },
  {
   "cell_type": "code",
   "execution_count": 69,
   "metadata": {},
   "outputs": [
    {
     "name": "stdout",
     "output_type": "stream",
     "text": [
      "2\n",
      "2\n",
      "4\n",
      "5\n",
      "5\n",
      "6\n",
      "8\n",
      "83\n"
     ]
    }
   ],
   "source": [
    "## Test Code: Do not edit\n",
    "print(minCoursesForJaneAvoidKK_Memoize(9)) # should be 2\n",
    "print(minCoursesForJaneAvoidKK_Memoize(13)) # should be 2\n",
    "print(minCoursesForJaneAvoidKK_Memoize(19)) # should be 4\n",
    "print(minCoursesForJaneAvoidKK_Memoize(34)) # should be 5\n",
    "print(minCoursesForJaneAvoidKK_Memoize(43)) # should be 5\n",
    "print(minCoursesForJaneAvoidKK_Memoize(55)) # should be 6\n",
    "print(minCoursesForJaneAvoidKK_Memoize(69)) # should be 8\n",
    "print(minCoursesForJaneAvoidKK_Memoize(812)) # should be 83"
   ]
  },
  {
   "cell_type": "markdown",
   "metadata": {},
   "source": [
    "## 2(C) Recover the solution in terms of number of jumps for each course."
   ]
  },
  {
   "cell_type": "code",
   "execution_count": 70,
   "metadata": {},
   "outputs": [],
   "source": [
    "\"\"\" minCoursesForJaneAvoidKK_Solution - Calculates the minimum number of steps and the specific sequence of jumps for Jane to reach level n from level 1\n",
    "    Input:\n",
    "        n - Target level for Jane to reach, navigating around levels compromised by Kilokahn\n",
    "    Algorithm:\n",
    "        * Use the same logic as the memoization algorithm except:\n",
    "            * Calculate the minimum steps\n",
    "            * Calculate the path\n",
    "            * Add these to the memo table\n",
    "    Output:\n",
    "        Returns a tuple with the minimum number of courses (steps) required and the sequence of those steps (as a list of jumps) for Jane to reach the target level n from level 1\n",
    "\"\"\"\n",
    "def minCoursesForJaneAvoidKK_Solution(n):\n",
    "    memo = {}\n",
    "    def memoize(j):\n",
    "        if (j == n):\n",
    "            return (0, [])\n",
    "        elif (j > n) or (j % 7 == 2 and j != n):\n",
    "            return (float('inf'), [])\n",
    "        elif (j in memo):\n",
    "            return memo[j]\n",
    "        else:\n",
    "            steps = [1, 4, 5, 11]\n",
    "            ret = [(1 + steps, [s] + path) for s in steps for steps, path in [memoize(j + s)] if ((j + s) % 7 != 2 or (j + s == n))]\n",
    "            minSteps, minPath = min(ret, key=lambda x: x[0])\n",
    "            memo[j] = (minSteps, minPath)\n",
    "        return memo[j]\n",
    "    return memoize(1)"
   ]
  },
  {
   "cell_type": "code",
   "execution_count": 71,
   "metadata": {},
   "outputs": [
    {
     "name": "stdout",
     "output_type": "stream",
     "text": [
      "(2, [4, 4])\n",
      "(2, [11, 1])\n",
      "(4, [4, 5, 4, 5])\n",
      "(5, [5, 1, 11, 11, 5])\n",
      "(5, [4, 5, 11, 11, 11])\n",
      "(6, [5, 11, 11, 11, 11, 5])\n",
      "(8, [11, 1, 11, 11, 11, 11, 11, 1])\n",
      "(83, [5, 11, 11, 11, 11, 5, 11, 11, 11, 11, 5, 11, 11, 11, 11, 5, 11, 11, 11, 11, 5, 11, 11, 11, 11, 5, 11, 11, 11, 11, 5, 11, 11, 11, 11, 5, 11, 11, 11, 11, 5, 11, 11, 11, 11, 5, 11, 11, 11, 11, 5, 11, 11, 11, 11, 5, 11, 11, 11, 11, 5, 11, 11, 11, 11, 5, 11, 11, 11, 11, 5, 11, 11, 11, 11, 5, 11, 11, 11, 11, 5, 11, 11])\n"
     ]
    }
   ],
   "source": [
    "## Test Code: Do not edit\n",
    "print(minCoursesForJaneAvoidKK_Solution(9)) # should be 2, [4, 4]\n",
    "print(minCoursesForJaneAvoidKK_Solution(13)) # should be 2, [11, 1]\n",
    "print(minCoursesForJaneAvoidKK_Solution(19)) # should be 4, [4, 5, 4, 5]\n",
    "print(minCoursesForJaneAvoidKK_Solution(34)) # should be 5, [5, 1, 11, 11, 5]\n",
    "print(minCoursesForJaneAvoidKK_Solution(43)) # should be 5, [4, 5, 11, 11, 11]\n",
    "print(minCoursesForJaneAvoidKK_Solution(55)) # should be 6, [5, 11, 11, 11, 11, 5]\n",
    "print(minCoursesForJaneAvoidKK_Solution(69)) # should be 8, [11, 1, 11, 11, 11, 11, 11, 1]\n",
    "print(minCoursesForJaneAvoidKK_Solution(812)) # should be 83, [5, 11, 11, 11, 11, 5, 11, 11, 11, 11, 5, 11, 11, 11, 11, 5, 11, 11, 11, 11, 5, 11, 11, 11, 11, 5, 11, 11, 11, 11, 5, 11, 11, 11, 11, 5, 11, 11, 11, 11, 5, 11, 11, 11, 11, 5, 11, 11, 11, 11, 5, 11, 11, 11, 11, 5, 11, 11, 11, 11, 5, 11, 11, 11, 11, 5, 11, 11, 11, 11, 5, 11, 11, 11, 11, 5, 11, 11, 11, 11, 5, 11, 11]"
   ]
  },
  {
   "cell_type": "markdown",
   "metadata": {},
   "source": [
    "## Question 3: Energize Jane with a budget.\n",
    "\n",
    "Unfortunately, life was not as simple as it seemed in problem 2. Besides dealing with Kilokahn, taking a course with a level jump consumes\n",
    "a lot of Jane's energy, and she has an energy $E_0$ to begin with. Each time Jane jumps levels, she loses energy as follows:\n",
    "\n",
    "\n",
    "| Jump   | Energy Consumed |\n",
    "|--------|-----------------|\n",
    "|  1     |       1         |\n",
    "|  4     |       2         |\n",
    "|  5     |       3         |\n",
    "| 11     |       7         |\n",
    "\n",
    "\n",
    "If at any point her energy level is $ \\leq 0$ (even if she is at the destination), she will lose.\n",
    "\n",
    "Given $n$, and initial energy $E_0$, plan how Jane can reach level $n$ (ninja level, in case you forgot) while\n",
    "avoiding Kilokahn who  lurks when dividing the level by $7$ leaves a remainder of $2$ and keeping her energy levels\n",
    "always strictly positive."
   ]
  },
  {
   "cell_type": "markdown",
   "metadata": {},
   "source": [
    "----"
   ]
  },
  {
   "cell_type": "markdown",
   "metadata": {},
   "source": [
    "### 3(A): Write a Recurrence\n",
    "\n",
    "Write a recurrence `minCoursesWithEnergyBudget(j, E, n)` that given that Jane is currently on level `j` with energy `E` finds the minimal \n",
    "number of courses she needs to take to reach `n`. Do not forget the base cases."
   ]
  },
  {
   "cell_type": "code",
   "execution_count": 72,
   "metadata": {},
   "outputs": [],
   "source": [
    "\"\"\" minCoursesWithEnergyBudget - Calculates the minimum number of courses (steps) Jane needs to take to reach a target level n from a starting level j, with a given energy budget e\n",
    "    Input:\n",
    "        j - Current level of Jane\n",
    "        e - Current energy level of Jane\n",
    "        n - Target level for Jane to reach, avoiding Kilokahn-compromised levels\n",
    "    Algorithm:        \n",
    "        * Check the base conditions, if j equals n\n",
    "            * Return 0\n",
    "        * If j is greater than n, we are at a Kilokahn level, or the energy is less than or equal to 0\n",
    "            * Return infinity\n",
    "        * Otherwise\n",
    "            * Find the minimum value of the path taken to get to this level\n",
    "    Output:\n",
    "        Returns the minimum number of courses (steps) required for Jane to reach the target level n from level j\n",
    "\"\"\"\n",
    "def minCoursesWithEnergyBudget(j, e, n):\n",
    "    if (j == n):\n",
    "        return 0\n",
    "    elif ((j > n) or (j % 7 == 2 and j != n) or (e <= 0)):\n",
    "        return float('inf')\n",
    "    else:\n",
    "        energySteps = [(1,1), (4,2), (5,3), (11,7)]\n",
    "        return min([1 + minCoursesWithEnergyBudget(j + s, e - cost, n) for s, cost in energySteps if (e - cost > 0) and ((j + s) % 7 != 2 or (j + s == n))], default=float('inf'))"
   ]
  },
  {
   "cell_type": "code",
   "execution_count": 73,
   "metadata": {},
   "outputs": [
    {
     "name": "stdout",
     "output_type": "stream",
     "text": [
      "2\n",
      "1\n",
      "5\n",
      "7\n",
      "7\n",
      "7\n",
      "11\n",
      "12\n"
     ]
    }
   ],
   "source": [
    "# test code do not edit\n",
    "print(minCoursesWithEnergyBudget(1, 25, 10)) # must be 2\n",
    "print(minCoursesWithEnergyBudget(1, 25, 6)) # must be 1\n",
    "print(minCoursesWithEnergyBudget(1, 25, 30)) # must be 5\n",
    "print(minCoursesWithEnergyBudget(1, 16, 30)) # must be 7\n",
    "print(minCoursesWithEnergyBudget(1, 18, 31)) # must be 7\n",
    "print(minCoursesWithEnergyBudget(1, 22, 38)) # must be 7\n",
    "print(minCoursesWithEnergyBudget(1, 32, 55)) # must be 11\n",
    "print(minCoursesWithEnergyBudget(1, 35, 60)) # must be 12"
   ]
  },
  {
   "cell_type": "markdown",
   "metadata": {},
   "source": [
    "## 3(B): Memoize the Recurrence\n",
    "\n",
    "Write a memo table to memoize the recurrence. Your memo table must be  of the form $T[j][e]$ for $j$ ranging from $1$ to $n$\n",
    "and $e$ ranging from $0$ to $E$. You will have to handle the base cases carefully."
   ]
  },
  {
   "cell_type": "code",
   "execution_count": 74,
   "metadata": {},
   "outputs": [],
   "source": [
    "\"\"\" minCoursesWithEnergyBudget_Memoize - Computes the minimum number of steps required for Jane to reach a target level n from level 1, with a given initial energy e, while avoiding levels compromised by Kilokahn\n",
    "    Input:\n",
    "        e - Initial energy level of Jane\n",
    "        n - Target level for Jane to reach, avoiding levels where j % 7 == 2, except the target level itself\n",
    "    Algorithm:\n",
    "        * Do the same as the previous algorithm except:\n",
    "            * Create a memo table and check if that value is in the memo table\n",
    "            * Define the memoization function and call it recursively to solve the problem\n",
    "    Output:\n",
    "        Returns the minimum number of courses (steps) Jane needs to reach the target level n from level 1, given her initial energy e\n",
    "\"\"\"\n",
    "def minCoursesWithEnergyBudget_Memoize(e, n): # j is assumed 1 and omitted as an argument.\n",
    "    memo = {}\n",
    "    def memoize(j, e):\n",
    "        if (j == n):\n",
    "            return 0\n",
    "        elif ((j > n) or (j % 7 == 2 and j != n) or (e <= 0)):\n",
    "            return float('inf')\n",
    "        elif ((j, e) in memo):\n",
    "            return memo[(j,e)]\n",
    "        else:\n",
    "            energySteps = [(1,1), (4,2), (5,3), (11,7)]\n",
    "            memo[(j, e)] = min([1 + memoize(j + s, e - cost) for s, cost in energySteps if (e - cost > 0) and ((j + s) % 7 != 2 or (j + s == n))], default=float('inf'))\n",
    "            return memo[(j, e)]\n",
    "    return memoize(1, e)"
   ]
  },
  {
   "cell_type": "code",
   "execution_count": 75,
   "metadata": {},
   "outputs": [
    {
     "name": "stdout",
     "output_type": "stream",
     "text": [
      "2\n",
      "1\n",
      "5\n",
      "7\n",
      "7\n",
      "7\n",
      "11\n",
      "12\n"
     ]
    }
   ],
   "source": [
    "# test code do not edit\n",
    "print(minCoursesWithEnergyBudget_Memoize(25, 10)) # must be 2\n",
    "print(minCoursesWithEnergyBudget_Memoize(25, 6)) # must be 1\n",
    "print(minCoursesWithEnergyBudget_Memoize(25, 30)) # must be 5\n",
    "print(minCoursesWithEnergyBudget_Memoize(16, 30)) # must be 7\n",
    "print(minCoursesWithEnergyBudget_Memoize(18, 31)) # must be 7\n",
    "print(minCoursesWithEnergyBudget_Memoize(22, 38)) # must be 7\n",
    "print(minCoursesWithEnergyBudget_Memoize(32, 55)) # must be 11\n",
    "print(minCoursesWithEnergyBudget_Memoize(35, 60)) # must be 12"
   ]
  },
  {
   "cell_type": "markdown",
   "metadata": {},
   "source": [
    "## 3(C): Recover the Solution\n",
    "\n",
    "Now write code that will also return the minimum number of courses along with the list of jumps that will achieve this minimum number"
   ]
  },
  {
   "cell_type": "code",
   "execution_count": 76,
   "metadata": {},
   "outputs": [],
   "source": [
    "\"\"\" minCoursesWithEnergyBudget_Solution - Calculates the minimum number of steps and the sequence of jumps Jane needs to reach a target level n from level 1, given an initial energy budget e\n",
    "    Input:\n",
    "        e - The initial energy level of Jane\n",
    "        n - The target level Jane aims to reach, avoiding levels where j % 7 == 2, except the target level itself\n",
    "    Algorithm:\n",
    "        * Do the same as the memoization algorithm except:\n",
    "            * Keep track of the steps as well as the minimum value\n",
    "    Output:\n",
    "        Returns a tuple containing the minimum number of steps required for Jane to reach the target level n from level 1 and the sequence of those steps, given her initial energy budget e\n",
    "\"\"\"\n",
    "def minCoursesWithEnergyBudget_Solution(e, n): # j is assumed 1 and omitted as an argument.\n",
    "    memo = {}\n",
    "    def memoize(j, e):\n",
    "        if (j == n):\n",
    "            return (0, [])\n",
    "        elif ((j > n) or (j % 7 == 2 and j != n) or (e <= 0)):\n",
    "            return (float('inf'), [])\n",
    "        elif ((j, e) in memo):\n",
    "            return memo[(j, e)]\n",
    "        else:\n",
    "            energySteps = [(1,1), (4,2), (5,3), (11,7)]\n",
    "            ret = [(1 + steps, [s] + path) for s, cost in energySteps for steps, path in [memoize(j + s, e - cost)] if e - cost > 0 and ((j + s) % 7 != 2 or j + s == n)]\n",
    "            if not ret:\n",
    "                memo[(j, e)] = (float('inf'), [])\n",
    "            else:\n",
    "                minSteps, minPath = min(ret, key=lambda x: x[0])\n",
    "                memo[(j, e)] = (minSteps, minPath)\n",
    "        return memo[j,e]\n",
    "    return memoize(1, e)"
   ]
  },
  {
   "cell_type": "code",
   "execution_count": 77,
   "metadata": {},
   "outputs": [
    {
     "name": "stdout",
     "output_type": "stream",
     "text": [
      "(2, [4, 5])\n",
      "(1, [5])\n",
      "(5, [4, 5, 4, 5, 11])\n",
      "(7, [4, 5, 4, 4, 4, 4, 4])\n",
      "(7, [4, 5, 4, 4, 4, 4, 5])\n",
      "(7, [4, 5, 4, 4, 4, 5, 11])\n",
      "(11, [4, 5, 4, 4, 4, 4, 5, 4, 4, 11, 5])\n",
      "(12, [4, 5, 4, 4, 4, 4, 5, 4, 4, 11, 5, 5])\n"
     ]
    }
   ],
   "source": [
    "# test code do not edit\n",
    "print(minCoursesWithEnergyBudget_Solution(25, 10)) # must be 2, [4,5]\n",
    "print(minCoursesWithEnergyBudget_Solution(25, 6)) # must be 1, [5]\n",
    "print(minCoursesWithEnergyBudget_Solution(25, 30)) # must be 5, [4, 5, 4, 5, 11]\n",
    "print(minCoursesWithEnergyBudget_Solution(16, 30)) # must be 7, [4, 5, 4, 4, 4, 4, 4]\n",
    "print(minCoursesWithEnergyBudget_Solution(18, 31)) # must be 7, [4, 5, 4, 4, 4, 4, 5]\n",
    "print(minCoursesWithEnergyBudget_Solution(22, 38)) # must be 7,  [4, 5, 4, 4, 4, 5, 11]\n",
    "print(minCoursesWithEnergyBudget_Solution(32, 55)) # must be 11, [4, 5, 4, 4, 4, 4, 5, 4, 4, 11, 5]\n",
    "print(minCoursesWithEnergyBudget_Solution(35, 60)) # must be 12, [4, 5, 4, 4, 4, 4, 5, 4, 4, 11, 5, 5]"
   ]
  },
  {
   "cell_type": "markdown",
   "metadata": {},
   "source": [
    "----"
   ]
  },
  {
   "cell_type": "markdown",
   "metadata": {},
   "source": [
    "## Question 4: Subset Sum Problem\n",
    "\n",
    "We are given a set of whole numbers $S:\\ \\{ n_1, \\ldots, n_k \\}$ and a number $N$.\n",
    "Our goal is to choose a subset of numbers $T:\\ \\{ n_{i_1}, \\ldots, n_{i_j} \\} \\subseteq S$ such that\n",
    "\n",
    "   (a) $\\sum_{l=1}^j n_{i_l}  \\leq N$, the sum of chosen numbers is less than or equal to $N$, \n",
    "\n",
    "   (b) The difference $N - \\sum_{l=1}^j n_{i_l} $ is made as small as possible.\n",
    "\n",
    " For example, $S = \\{ 1, 2, 3, 4, 5, 10 \\}$ and $N = 20$ then by choosing $T = \\{1, 2, 3, 4, 5\\}$, we have  \n",
    "$1 + 2 + 3 + 4 + 5 = 15 \\leq 20$, achieving a difference of $5$. However, if we chose $T = \\{ 2,3,5,10\\}$ \n",
    "we obtain a sum of $2 + 3 + 5 + 10 = 20$ achieving the smallest possible difference of $0$.\n",
    "\n",
    "\n",
    "Therefore the problem is as follows:\n",
    "\n",
    "  * Inputs: list  $S: [n_1, \\ldots, n_k]$ and number $N$.\n",
    "  * Output: a list $T$ of elements from $S$ such that sum of elements of $T$ is  $\\leq N$ and $N - \\sum_{e \\in T} e$ is the smallest possible.\n",
    "\n",
    "The subsequent parts to this problem ask you to derive a dynamic programming solution to this problem.\n",
    "\n",
    "__Note:__ Because $S$ and $T$ are viewed as sets, each element in the set may occur exactly once."
   ]
  },
  {
   "cell_type": "markdown",
   "metadata": {},
   "source": [
    " ## 4(A) Show how the decisions can be staged to obtain optimal substructure (expected size: 5 lines)"
   ]
  },
  {
   "cell_type": "markdown",
   "metadata": {},
   "source": [
    "For this algorithm, we need to be checking if the sum of the subset is going to be less than or equal to that of the value of $N$. If the previous condition is true, then we will return the difference between $N$ and the sum of the subset, otherwise we return infinity to signal that this sum is not possible. For each value in the list, we need to consider whether we are going to include it in the calculation, or to exclude it. We then calculate the minimum between these two instances, while at the same time making a recursive call to the function to calculate these two scenarios."
   ]
  },
  {
   "cell_type": "markdown",
   "metadata": {},
   "source": [
    "## 4(B): Write a recursive function for calculating the minimum value of the difference possible. "
   ]
  },
  {
   "cell_type": "code",
   "execution_count": 78,
   "metadata": {},
   "outputs": [],
   "source": [
    "\"\"\" minSubsetDifference_recursive - Calculates the minimum difference between a subset and value N\n",
    "    Input:\n",
    "        N - Value that the sum of the subset is to be compared against\n",
    "        s_list - List that is being fed into the function\n",
    "    Algorithm:\n",
    "        * Define an inner function that\n",
    "            * Checks if the index is at the beginning of the list\n",
    "                * If it is, check if the sum of the subset is less than the value of N\n",
    "                    * If it is, return the difference\n",
    "                * Otherwise\n",
    "                    * Return infinity\n",
    "            * Makes a recursive call to including the current index of the list\n",
    "            * Makes a recursive call to excluding the current index of the list\n",
    "            * Returns the minimum of the two paths\n",
    "    Output:\n",
    "        Returns the difference of the sum of a subset and the value N\n",
    "\"\"\"\n",
    "def minSubsetDifference_recursive(N, s_list):\n",
    "    def calc(index, current_sum):\n",
    "        if (index < 0 or current_sum == N):\n",
    "            if (current_sum <= N):\n",
    "                return N - current_sum\n",
    "            else:\n",
    "                return float('inf')\n",
    "        else:\n",
    "            include = calc(index - 1, current_sum + s_list[index])\n",
    "            exclude = calc(index - 1, current_sum)\n",
    "            return min(include, exclude)\n",
    "    return calc(len(s_list) - 1, 0)"
   ]
  },
  {
   "cell_type": "code",
   "execution_count": 79,
   "metadata": {},
   "outputs": [
    {
     "name": "stdout",
     "output_type": "stream",
     "text": [
      "0\n",
      "1\n",
      "0\n",
      "0\n",
      "0\n",
      "1\n",
      "0\n",
      "1\n"
     ]
    }
   ],
   "source": [
    "# Code for testing your solution\n",
    "# DO NOT EDIT\n",
    "print(minSubsetDifference_recursive(15, [1, 2, 3, 4, 5, 10])) # Should be zero\n",
    "print(minSubsetDifference_recursive(26, [1, 2, 3, 4, 5, 10])) # should be 1\n",
    "print(minSubsetDifference_recursive(23, [1, 2, 3, 4, 5, 10])) # should be 0\n",
    "print(minSubsetDifference_recursive(18, [1, 2, 3, 4, 5, 10])) # should be 0\n",
    "print(minSubsetDifference_recursive(9, [1, 2, 3, 4, 5, 10])) # should be 0\n",
    "print(minSubsetDifference_recursive(457, [11, 23, 37, 48, 94, 152, 230, 312, 339, 413])) # should be 1\n",
    "print(minSubsetDifference_recursive(512, [11, 23, 37, 48, 94, 152, 230, 312, 339, 413])) # should be 0\n",
    "print(minSubsetDifference_recursive(616, [11, 23, 37, 48, 94, 152, 230, 312, 339, 413])) # should be 1"
   ]
  },
  {
   "cell_type": "markdown",
   "metadata": {},
   "source": [
    "## 4(C): Memoize the recurrence above. \n",
    "\n",
    "To help with your memoization, use a 2D memo table  $T[n][j]$ that represents the value for `minSubsetDifference(n, s_list[0:j])`. "
   ]
  },
  {
   "cell_type": "code",
   "execution_count": 80,
   "metadata": {},
   "outputs": [],
   "source": [
    "\"\"\" minSubsetDifference_Memoize - Memoizes the subset difference algorithm\n",
    "    Input:\n",
    "        N - Value that the sum of the subset is to be compared against\n",
    "        s_list - List that is being fed into the function\n",
    "    Algorithm:\n",
    "        * Do the same as the previous algorithm except:\n",
    "            * Create a memo table\n",
    "            * Check if the value is present in the memo table\n",
    "                * If so, return that value in the table\n",
    "            * Otherwise\n",
    "                * Proceed with the same logic as before and append the result to the memo table\n",
    "    Output:\n",
    "        Returns the difference of the sum of a subset and the value N\n",
    "\"\"\"\n",
    "def minSubsetDifference_Memoize(N, s_list):\n",
    "    memo = {}\n",
    "    def memoize(index, current_sum):\n",
    "        if (index < 0 or current_sum == N):\n",
    "            if (current_sum <= N):\n",
    "                return N - current_sum\n",
    "            else:\n",
    "                return float('inf')\n",
    "        elif ((index, current_sum) in memo):\n",
    "            return memo[(index, current_sum)]\n",
    "        else:\n",
    "            include = memoize(index - 1, current_sum + s_list[index])\n",
    "            exclude = memoize(index - 1, current_sum)\n",
    "            memo[((index, current_sum))] = min(include, exclude)\n",
    "            return memo[(index, current_sum)]\n",
    "    return memoize(len(s_list) - 1,0)"
   ]
  },
  {
   "cell_type": "code",
   "execution_count": 81,
   "metadata": {},
   "outputs": [
    {
     "name": "stdout",
     "output_type": "stream",
     "text": [
      "0\n",
      "1\n",
      "0\n",
      "0\n",
      "0\n",
      "1\n",
      "0\n",
      "1\n"
     ]
    }
   ],
   "source": [
    "# Code for testing your solution\n",
    "# DO NOT EDIT\n",
    "print(minSubsetDifference_Memoize(15, [1, 2, 3, 4, 5, 10])) # Should be 0\n",
    "print(minSubsetDifference_Memoize(26, [1, 2, 3, 4, 5, 10])) # should be 1\n",
    "print(minSubsetDifference_Memoize(23, [1, 2, 3, 4, 5, 10])) # should be 0\n",
    "print(minSubsetDifference_Memoize(18, [1, 2, 3, 4, 5, 10])) # should be 0\n",
    "print(minSubsetDifference_Memoize(9, [1, 2, 3, 4, 5, 10])) # should be 0\n",
    "print(minSubsetDifference_Memoize(457, [11, 23, 37, 48, 94, 152, 230, 312, 339, 413])) # should be 1\n",
    "print(minSubsetDifference_Memoize(512, [11, 23, 37, 48, 94, 152, 230, 312, 339, 413])) # should be 0\n",
    "print(minSubsetDifference_Memoize(616, [11, 23, 37, 48, 94, 152, 230, 312, 339, 413])) # should be 1"
   ]
  },
  {
   "cell_type": "markdown",
   "metadata": {},
   "source": [
    "## 4(D): Write code to recover the solution"
   ]
  },
  {
   "cell_type": "code",
   "execution_count": 82,
   "metadata": {},
   "outputs": [],
   "source": [
    "\"\"\" minSubsetDifference - Finds the minimum difference of the sum of a subset relative to N\n",
    "    Input:\n",
    "        N - Value that the sum of the subset is to be compared against\n",
    "        s_list - List that is being fed into the function\n",
    "    Algorithm:\n",
    "        * Do the same as the memoization algorithm except\n",
    "            * Modify the memoization so that it keeps track of the subset\n",
    "            * Return the minimum of the two subset paths\n",
    "    Output:\n",
    "        Returns the difference of the sum of a subset and the value N and the subset\n",
    "\"\"\"\n",
    "def minSubsetDifference(N, s_list):\n",
    "    memo = {}\n",
    "    def memoize(index, current_sum, subset):\n",
    "        if (index < 0 or current_sum == N):\n",
    "            if (current_sum <= N):\n",
    "                return N - current_sum, subset\n",
    "            else:\n",
    "                return float('inf'), []\n",
    "        elif ((index, current_sum)) in memo:\n",
    "            return memo[(index, current_sum)]\n",
    "        else:\n",
    "            include_diff, include_subset = memoize(index - 1, current_sum + s_list[index], subset + [s_list[index]])\n",
    "            exclude_diff, exclude_subset = memoize(index - 1, current_sum, subset)\n",
    "            memo[(index, current_sum)] = min((include_diff, include_subset), (exclude_diff, exclude_subset))\n",
    "            return memo[(index, current_sum)]\n",
    "    return memoize(len(s_list) - 1, 0, [])\n"
   ]
  },
  {
   "cell_type": "code",
   "execution_count": 83,
   "metadata": {},
   "outputs": [
    {
     "name": "stdout",
     "output_type": "stream",
     "text": [
      "(0, [10, 3, 2])\n",
      "(1, [10, 5, 4, 3, 2, 1])\n",
      "(0, [10, 5, 4, 3, 1])\n",
      "(0, [10, 5, 2, 1])\n",
      "(0, [4, 3, 2])\n",
      "(1, [339, 94, 23])\n",
      "(0, [312, 152, 37, 11])\n",
      "(1, [413, 94, 48, 37, 23])\n"
     ]
    }
   ],
   "source": [
    "# Code for testing your solution\n",
    "# DO NOT EDIT\n",
    "print(minSubsetDifference(15, [1, 2, 3, 4, 5, 10])) # Should be 0, [5, 4, 3, 2, 1]\n",
    "print(minSubsetDifference(26, [1, 2, 3, 4, 5, 10])) # should be 1, [10, 5, 4, 3, 2, 1]\n",
    "print(minSubsetDifference(23, [1, 2, 3, 4, 5, 10])) # should be 0, [10, 5, 4, 3, 1]\n",
    "print(minSubsetDifference(18, [1, 2, 3, 4, 5, 10])) # should be 0, [10, 4, 3, 1]\n",
    "print(minSubsetDifference(9, [1, 2, 3, 4, 5, 10])) # should be 0, [4, 3, 2]\n",
    "print(minSubsetDifference(457, [11, 23, 37, 48, 94, 152, 230, 312, 339, 413])) # should be 1, [339, 94, 23]\n",
    "print(minSubsetDifference(512, [11, 23, 37, 48, 94, 152, 230, 312, 339, 413])) # should be 0, [312, 152, 37, 11]\n",
    "print(minSubsetDifference(616, [11, 23, 37, 48, 94, 152, 230, 312, 339, 413])) # should be 1, [413, 94, 48, 37]"
   ]
  },
  {
   "cell_type": "markdown",
   "metadata": {},
   "source": [
    "## 4 (E): Greedy Solution\n",
    "\n",
    "Suppose we use the following greedy solution to solve the problem.\n",
    "  * $T = \\emptyset$\n",
    "  * While ( $ N \\geq 0 $) \n",
    "    * Select the largest element $e$ for $S$ that is smaller than $N$\n",
    "    * Remove $e$ from $S$\n",
    "    * Add $e$ to $T$\n",
    "    * N = N - e\n",
    "  * return (N, T)\n",
    "  \n",
    "Using an example, show that the greedy algorithm does not necessarily produce the optimal solution."
   ]
  },
  {
   "cell_type": "markdown",
   "metadata": {},
   "source": [
    "### Answer (4 lines)"
   ]
  },
  {
   "cell_type": "markdown",
   "metadata": {},
   "source": [
    "Take for example in the input of `15, [1, 2, 3, 4, 5, 10]`, the greedy algorithm will return a different result from the dynamic programming example. Going through the logic of this input we would have\n",
    "\n",
    "\\begin{align}\n",
    "    T & = [] \\hspace{5pt} , \\hspace{5pt} e = 10 \\hspace{5pt} , \\hspace{5pt} S = [1,2,3,4,5] \\hspace{5pt} , \\hspace{5pt} T = [10] \\hspace{5pt} , \\hspace{5pt} N = 15 - 10 = 5 & \\text{(First Iteration)} \\\\\n",
    "    T & = [10] \\hspace{5pt} , \\hspace{5pt} e = 4 \\hspace{5pt} , \\hspace{5pt} S = [1,2,3,5] \\hspace{5pt} , \\hspace{5pt} T = [10,4] \\hspace{5pt} , \\hspace{5pt} N = 5 - 4 = 1 & \\text{(Second Iteration)} \\\\\n",
    "    T & = [10,4] \\hspace{5pt} , \\hspace{5pt} e = 0 \\hspace{5pt} , \\hspace{5pt} S = [1,2,3,5] \\hspace{5pt} , \\hspace{5pt} T = [10,4] \\hspace{5pt} , \\hspace{5pt} N = 1 & \\text{(Final Iteration)}\n",
    "\\end{align}\n",
    "\n",
    "In this example, the while loop will actually never stop running. This is because at this point $N = 1$ and there are no values that are less than $N$ left in $S$. If we were to edit this so that if there are no values less than $N$ and we would then break out of the loop, we would return `(1, [10,4])`. This isn't optimal as we saw in our example with the dynamic programming that we can have subset such as `[10,3,2]` where the difference of the sum between the subset is going to be 0."
   ]
  },
  {
   "cell_type": "markdown",
   "metadata": {},
   "source": [
    "## Testing your solutions -- Do not edit code beyond this point"
   ]
  }
 ],
 "metadata": {
  "kernelspec": {
   "display_name": "Python 3",
   "language": "python",
   "name": "python3"
  },
  "language_info": {
   "codemirror_mode": {
    "name": "ipython",
    "version": 3
   },
   "file_extension": ".py",
   "mimetype": "text/x-python",
   "name": "python",
   "nbconvert_exporter": "python",
   "pygments_lexer": "ipython3",
   "version": "3.11.7"
  }
 },
 "nbformat": 4,
 "nbformat_minor": 2
}
