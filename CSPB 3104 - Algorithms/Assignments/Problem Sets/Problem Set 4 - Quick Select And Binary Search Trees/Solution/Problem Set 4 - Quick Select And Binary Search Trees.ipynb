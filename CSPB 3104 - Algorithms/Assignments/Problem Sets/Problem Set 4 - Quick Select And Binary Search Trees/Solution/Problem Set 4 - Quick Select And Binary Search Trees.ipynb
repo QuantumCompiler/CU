{
 "cells": [
  {
   "cell_type": "markdown",
   "metadata": {
    "deletable": false,
    "editable": false,
    "nbgrader": {
     "checksum": "6f67ee2b1e65e1f08882d5c311a652b5",
     "grade": false,
     "grade_id": "cell-cc92243d53530a68",
     "locked": true,
     "schema_version": 1,
     "solution": false
    }
   },
   "source": [
    "# CSPB 3104 Assignment 4:"
   ]
  },
  {
   "cell_type": "markdown",
   "metadata": {
    "deletable": false,
    "editable": false,
    "nbgrader": {
     "checksum": "393de84110c62844ccd1caec4398ed3c",
     "grade": false,
     "grade_id": "cell-d39a5349c12a82ad",
     "locked": true,
     "schema_version": 1,
     "solution": false
    }
   },
   "source": [
    "***\n",
    "# Instructions\n",
    "\n",
    "This assignment is to be completed as a python3 notebook.  When you upload, please upload the completed notebook (ipynb file).\n",
    "\n",
    "The questions  provided  below will ask you to either write code or \n",
    "write answers in the form of markdown.\n",
    "\n",
    " Markdown syntax guide is here: [click here](https://github.com/adam-p/markdown-here/wiki/Markdown-Cheatsheet)\n",
    "\n",
    "Using markdown you can typeset formulae using latex.\n",
    "This way you can write nice readable answers with formulae like thus:\n",
    "\n",
    "The algorithm runs in time $\\Theta\\left(n^{2.1\\log_2(\\log_2( n \\log^*(n)))}\\right)$, \n",
    "where $\\log^*(n)$ is the inverse _Ackerman_ function.\n",
    "\n",
    "__Double click anywhere on this box to find out how your instructor typeset it. Press Shift+Enter to go back.__\n",
    "\n",
    "***"
   ]
  },
  {
   "cell_type": "markdown",
   "metadata": {
    "deletable": false,
    "editable": false,
    "nbgrader": {
     "checksum": "871eb541c1d418aa4f1ca4c48aa520fc",
     "grade": false,
     "grade_id": "cell-b993b6aab5013b9e",
     "locked": true,
     "schema_version": 1,
     "solution": false
    }
   },
   "source": [
    "## Question 1\n",
    "\n",
    " Your professor has the brilliant idea of using heaps to select the pivot in the quicksort algorithm as follows:\n",
    "   - Heapify the array $a$.\n",
    "   - Choose a leaf element at random  (i.e, an element in $A[\\lceil \\frac{n}{2} \\rceil ] , \\ldots, A[n]$ ) and use it as a pivot.\n",
    "   - Apply Lomuto's partitioning. \n",
    "\n",
    " If this scheme is used in quicksort, what is the __worst case__ complexity of the resulting algorithm?"
   ]
  },
  {
   "cell_type": "markdown",
   "metadata": {
    "deletable": false,
    "nbgrader": {
     "checksum": "7a0d1bd1b9396d994f9b44351f006422",
     "grade": true,
     "grade_id": "cell-500eb5d207ef0ea0",
     "locked": false,
     "points": 10,
     "schema_version": 1,
     "solution": true
    }
   },
   "source": [
    "If we consider the size of the array $a$ as $n$, then when we first heapify the array the worst case runtime of this operation is going to take $\\mathcal{O}(n)$. Choosing a random leaf element from this newly heapified array is going to take constant time, so the worst case runtime complexity of this operation is going to be $\\mathcal{O}(1)$. Lomuto's partitioning algorithm will then iterate over the array that appears before the pivot element, and swap elements if the current element in the array is less than the pivot element. In the worst case here, Lomuto's partitioning is at worst going to be $\\mathcal{O}(n^{2})$, where the worst case appears if the pivot element that is selected from the leaf is the last element in the heapified array.\n",
    "\n",
    "Stitching this together, we can confidently say that the worst runtime complexity of this algorithm when used in quicksort is going to be\n",
    "\n",
    "$$\n",
    "\\color{blue}{\\mathcal{O}(n^{2})}.\n",
    "$$\n",
    "\n",
    "Of course, in the broader context of the Quick Sort algorithm, if this above algorithm generates partitions that are lopsided (one is significantly larger than the other), this can result in Quick Sort having its worst runtime complexity of $\\color{blue}{\\mathcal{O}(n^{2})}$. However, if the partitions are of near equal size or they are of equal size, then this can cause the complexity of Quick Sort to either be its average or best runtime complexity, $\\color{blue}{\\mathcal{O}(n \\log{(n)})}$."
   ]
  },
  {
   "cell_type": "markdown",
   "metadata": {
    "deletable": false,
    "editable": false,
    "nbgrader": {
     "checksum": "4710b959a700f0ccd99a5d7f48b222dd",
     "grade": false,
     "grade_id": "cell-66179a16152d8275",
     "locked": true,
     "schema_version": 1,
     "solution": false
    }
   },
   "source": [
    "---\n",
    "## Question 2a: Move Negatives To Left\n",
    "\n",
    " You are given an input array $a$ with negative and positive numbers. Write an algorithm that partitions the array so that the negative numbers are moved to the left hand side and positive numbers to the right hand side. However, the relative ordering between the negative numbers should not be altered. However you may alter the ordering amongst the positive numbers.\n",
    "\n",
    " Input: array a with positive and negative numbers. Size = n. \n",
    "\n",
    " Output: partitioned array a, index j such that $a[0], \\ldots, a[j-1]$ are negative and $a[j], \\ldots, a[n-1]$ are positive.\n",
    "\n",
    " Note since arrays are passed by reference in python, you just need to return j\n",
    "\n",
    " Constraints: must be done in place. Relative ordering between negative elements unchanged.\n",
    "\n",
    " Example: \n",
    "\n",
    " Input array a = [-2, 3, -1, 4, 5, -3, -4, -1, -2, 5]\n",
    "\n",
    " Output array a = [-2, -1, -3, -4, -1, -2, 3, 5, 5, 4]\n",
    "\n",
    " Output       j = 6\n"
   ]
  },
  {
   "cell_type": "code",
   "execution_count": 22,
   "metadata": {
    "deletable": false,
    "nbgrader": {
     "checksum": "d6fae7679d26ede07ed374a9d2c94599",
     "grade": false,
     "grade_id": "cell-4ba49cfbe820eb9b",
     "locked": false,
     "schema_version": 1,
     "solution": true
    }
   },
   "outputs": [],
   "source": [
    "\"\"\" move_negatives_to_left - Moves the negative values to the left of a, returns index first element is non negative\n",
    "    Input:\n",
    "        a - Array of values to be 'sorted'\n",
    "    Algorithm:\n",
    "        * Initialize an index 'j' at the start of the array to keep track of the position where the next negative number should be moved\n",
    "        * Iterate through the array 'a'\n",
    "        * If a negative number is found, it needs to be moved to the index of 'j':\n",
    "            * If 'i' is not equal to 'j', swap the elements at positions 'i' and 'j'.\n",
    "            * Increment 'j' to update the position for the next negative number.\n",
    "        * The array 'a' is now partitioned such that all negative numbers are to the left, and all non-negative numbers are to the right\n",
    "    Output:\n",
    "        j - Index where first nonnegative element occurs\n",
    "\"\"\"\n",
    "def move_negatives_to_left(a):\n",
    "    # YOUR CODE HERE\n",
    "    j = 0 # Index placeholder\n",
    "    # Iterate over a\n",
    "    for i in range(len(a)):\n",
    "        # Check if current element is less than zero\n",
    "        if (a[i] < 0):\n",
    "            # Swap iff current i is not equal to j\n",
    "            if (i != j):\n",
    "                a[i], a[j] = a[j], a[i] # Swap\n",
    "            j += 1 # Increment\n",
    "    return j\n"
   ]
  },
  {
   "cell_type": "markdown",
   "metadata": {
    "deletable": false,
    "editable": false,
    "nbgrader": {
     "checksum": "150d909c5bc1552a87cd78f810c7dba1",
     "grade": false,
     "grade_id": "cell-2fbd90a2db572ce6",
     "locked": true,
     "schema_version": 1,
     "solution": false
    }
   },
   "source": [
    "__2(b):__ Give the running time of your solution and briefly explain the logic by clearly writing down\n",
    "the loop invariants that hold during the operation of your algorithm and why these invariants lead to the correct result."
   ]
  },
  {
   "cell_type": "markdown",
   "metadata": {
    "deletable": false,
    "nbgrader": {
     "checksum": "59b9d35f8704d91a3470203654397281",
     "grade": true,
     "grade_id": "cell-b02c0f60558db791",
     "locked": false,
     "points": 10,
     "schema_version": 1,
     "solution": true
    }
   },
   "source": [
    "The worst case runtime complexity of this algorithm is going to be $\\color{blue}{\\mathcal{O}(n)}$. This is because, in the worst case of this algorithm we are going to have to iterate through all the elements in the original array.\n",
    "\n",
    "The logic behind this algorithm is to iterate through the array, keep track of the current index of where a negative number should be placed, and swap elements inside the array so that they are correctly placed in their respective locations. In the context of loop invariants, there is no explicit invariant that happens other than the iteration of the index `i`. Meaning, the only thing that is true for each iteration of the array is that `i` is incremented.\n",
    "\n",
    "Inside the loop however, if it is the case that the current index of `a` is less than 0 (negative), then we proceed to check if the current value of `i` is not the same value as the index for the next negative number to be placed `j`. This is mainly to handle the first negative number that is going to be relocated inside the array. Furthermore, if `i != j` is evaluated to be true, then we simply swap the current element of `a` in the loop with the negative value and place it in its correct location. In the case that a negative number was found, i.e `i != j`, we also increment the index `j` for the next location in the array for the next negative value."
   ]
  },
  {
   "cell_type": "markdown",
   "metadata": {
    "deletable": false,
    "editable": false,
    "nbgrader": {
     "checksum": "d72dd1ee9cd4118e152d6bee038b8fb1",
     "grade": false,
     "grade_id": "cell-a8636f88e42a5631",
     "locked": true,
     "schema_version": 1,
     "solution": false
    }
   },
   "source": [
    "---\n",
    "## Question 3: Median of Median Selection.\n",
    "\n",
    "In the class, we analyzed an approach for pivot selection that used median of 5 medians.  Here we explore what happens\n",
    "with median of 3 medians.\n",
    "\n",
    " 1. Divide the input array $a$ of size n into $\\frac{n}{3}$ groups of $3$ elements each.\n",
    " 2. Calculate the median of each group of 3 to create a new array $\\hat{a}$ of these medians.\n",
    " 3. Recursively apply the algorithm to find the median of $\\hat{a}$. Let it be $m$.\n",
    " 4. Use $m$ as the pivot element to partition the original array $a$.\n",
    "\n",
    "__3(a)__ How many elements in the array $a$ are guaranteed to be less than the chosen pivot $m$? How many are guaranteed to be greater? Assume all elements in the array $a$ are distinct."
   ]
  },
  {
   "cell_type": "markdown",
   "metadata": {
    "deletable": false,
    "nbgrader": {
     "checksum": "2a78c83e499a1f89c214f7cfee63d608",
     "grade": true,
     "grade_id": "cell-21d980b003edcd7a",
     "locked": false,
     "points": 10,
     "schema_version": 1,
     "solution": true
    }
   },
   "source": [
    "For each $\\frac{n}{3}$ group, there is a guarantee that at least one element in this group is less than and one is greater than the median of that specific group. When the medians of these groups are appended to the array $\\hat{a}$, there are $\\frac{n}{3}$ elements in $\\hat{a}$. At this point, roughly half of the medians in $\\hat{a}$ are going to be less than or greater than $m$.\n",
    "\n",
    "At least one half of the $n / 3$ medians in the original group are going to be smaller than $m$. Consequently, each of these groups is also going to contribute one more element that is less than $m$, so effectively doubling the number. When we calculate this out, there are going to be\n",
    "\n",
    "$$\n",
    "\\color{blue}{\\frac{n}{3}}\n",
    "$$\n",
    "\n",
    "elements that are guaranteed to be less than the median $m$, and \n",
    "\n",
    "$$\n",
    "\\color{blue}{\\frac{n}{3}}\n",
    "$$\n",
    "\n",
    "elements that are guaranteed to be greater than the median $m$, following the same logic that was used for finding the number less than $m$."
   ]
  },
  {
   "cell_type": "markdown",
   "metadata": {
    "deletable": false,
    "editable": false,
    "nbgrader": {
     "checksum": "66052be2bee3b65fe2993ce8c7b2de0a",
     "grade": false,
     "grade_id": "cell-1807a9189d3a49c9",
     "locked": true,
     "schema_version": 1,
     "solution": false
    }
   },
   "source": [
    " __3(b)__ If $m$ computed using the median of 3 medians were used to partition the array $a$ for a *quickselect* algorithm that is used to find the median of an array $a$, write down the recurrence for $T(n)$, the time taken to find the median of an array of size $n$ using the quick select algorithm with the median of 3 medians trick.\n"
   ]
  },
  {
   "cell_type": "markdown",
   "metadata": {
    "deletable": false,
    "nbgrader": {
     "checksum": "7ab57e89295273cbfa3b7520d5bde5ce",
     "grade": true,
     "grade_id": "cell-c816d4e898ab76d5",
     "locked": false,
     "points": 10,
     "schema_version": 1,
     "solution": true
    }
   },
   "source": [
    "We know that for each level of the recursion, the array is being split into $n/3$ groups, this takes time $\\mathcal{O}(n)$. We then find the median of these medians, which is going to take $T(n/3)$. We then partition the array and this going to take $cn$ time. At it's worst, the array can be lopsided with $2n/3$ elements. Stitching this together we get the recursion relation:\n",
    "\n",
    "$$\n",
    "T(n) = T(n/3) + T(2n/3) + \\mathcal{O}(n).\n",
    "$$"
   ]
  },
  {
   "cell_type": "markdown",
   "metadata": {
    "deletable": false,
    "editable": false,
    "nbgrader": {
     "checksum": "4e2e52cb59d005186f422b8a4d67a3b5",
     "grade": false,
     "grade_id": "cell-9c62273ea26b5433",
     "locked": true,
     "schema_version": 1,
     "solution": false
    }
   },
   "source": [
    " __3(c)__ The celebrated \"Akra-Bazzi\" method shows that the recurrence $S(n) = S(\\alpha n) + S( (1-\\alpha)n) + \\Theta(n)$ with base case $S(1) = \\Theta(1)$ has solution $S(n) = \\Theta(n \\log (n) )$. Use this to show that median of 3 medians trick fails to achieve a linear time algorithm for quickselect. (**Note** However, as we saw in the lecture, median of 5 medians works to provide $\\Theta(n)$ deterministic selection algorithm or $\\Theta(n \\log(n))$ quicksort that does not depend on randomization in any way)."
   ]
  },
  {
   "cell_type": "markdown",
   "metadata": {
    "deletable": false,
    "nbgrader": {
     "checksum": "0565dac1fed9be779e84506551ef6d79",
     "grade": true,
     "grade_id": "cell-d3ef115f191421d9",
     "locked": false,
     "points": 10,
     "schema_version": 1,
     "solution": true
    }
   },
   "source": [
    "The Akra-Bazzi method says that for a recurrence of the form\n",
    "\n",
    "$$\n",
    "S(n) = S(\\alpha n) + S(\\beta n) + Cn\n",
    "$$\n",
    "\n",
    "if $\\alpha + \\beta < 1$, then the algorithm will run in linear time. For our case, $\\alpha = 1 / 3$ and $\\beta = 2 / 3$, so $\\alpha + \\beta = 1 / 3 + 2 / 3 = 1$ and this is not less than 1. So the median of 3 medians trick fails to achieve a linear time algorithm for Quick Select. This means the complexity of this recurrence is going to be\n",
    "\n",
    "$$\n",
    "\\color{blue}{T(n) = \\Theta(n \\log{(n)})}.\n",
    "$$"
   ]
  },
  {
   "cell_type": "markdown",
   "metadata": {
    "deletable": false,
    "editable": false,
    "nbgrader": {
     "checksum": "9dee874f33e77c51b0f5f520a6f06d74",
     "grade": false,
     "grade_id": "cell-82b69a9b275bc571",
     "locked": true,
     "schema_version": 1,
     "solution": false
    }
   },
   "source": [
    "---\n",
    "## Question 4: Detective Work on Pre-Order Traversal of a BST\n",
    "\n",
    "A BST with integer keys in each node is traversed using pre-order traversal and the keys in each node are presented in the order they are visited as an array $a$ of $n$ elements -- $a: [a[1], \\ldots, a[n]]$. Assume that the elements of this array are all distinct."
   ]
  },
  {
   "cell_type": "markdown",
   "metadata": {
    "deletable": false,
    "editable": false,
    "nbgrader": {
     "checksum": "4bcde34c8f42a69a888200e83f75f005",
     "grade": false,
     "grade_id": "cell-0e7a2a8bec29c68a",
     "locked": true,
     "schema_version": 1,
     "solution": false
    }
   },
   "source": [
    "\n",
    "\n",
    " __4(a)__ Describe an algorithm to reconstruct the tree in pseudocode. What is the complexity of your algorithm? \n",
    " \n",
    " **Hint:** First identify the root of the tree. Next, how do we identify which elements of the array belong to the left subtree of the root, and which elements to the right subtree? Once that is done, can you recursively perform the reconstruction.\n",
    "\n",
    " Note that you will learn how to build trees properly in your CSPB 2270 class. Here, assume a pseudocode function called `build_tree(n, T1, T2)` that build a tree with root node n and subtrees T1, T2 and returns it."
   ]
  },
  {
   "cell_type": "markdown",
   "metadata": {
    "deletable": false,
    "nbgrader": {
     "checksum": "0bd04cad356efae0bef0cf082303eac5",
     "grade": true,
     "grade_id": "cell-eea75f81136de1cd",
     "locked": false,
     "points": 15,
     "schema_version": 1,
     "solution": true
    }
   },
   "source": [
    "In pre-order traversal, each node is visited first. Then, the traversal proceeds recursively to explore the left subtree of the node, followed by a recursive exploration of the right subtree. This pattern is repeated for each node encountered, ensuring that each node is processed before its left and right subtrees are explored.\n",
    "\n",
    "The first node that is visited is the root of the tree, here is a pseudo code for how to reconstruct the tree.\n",
    "\n",
    "```\n",
    "ReconstructTree(a):\n",
    "    // Base case\n",
    "    if (len(a) == 1):\n",
    "        return build_tree(a[0], None, None)\n",
    "    // Find right child\n",
    "    j = 1\n",
    "    while (a[j] < a[0]):\n",
    "        j += 1\n",
    "    return build_tree(a[0], ReconstructTree(a[1:j-1]), ReconstructTree(a[j:]))\n",
    "```\n",
    "\n",
    "Thankfully, we can use the master method to solve this problem. The recursion relation for this problem is\n",
    "\n",
    "$$\n",
    "T(n) = 2T(n/2) + \\Theta(n).\n",
    "$$\n",
    "\n",
    "Case 2 of the master method applies here, so our complexity of the above algorithm is going to be\n",
    "\n",
    "$$\n",
    "\\color{blue}{\\Theta(n \\log{(n)})}.\n",
    "$$"
   ]
  },
  {
   "cell_type": "markdown",
   "metadata": {
    "deletable": false,
    "editable": false,
    "nbgrader": {
     "checksum": "0a510ab7b91f4da740a1ffbc50bfc2c5",
     "grade": false,
     "grade_id": "cell-f2f0c7b193b4a42e",
     "locked": true,
     "schema_version": 1,
     "solution": false
    }
   },
   "source": [
    "\n",
    " __4(b)__ Describe an algorithm that converts the array obtained using the pre-order traversal of a BST into an array representing the post-order traversal without reconstructing the tree. **Hint:** Use the previous part but now instead of reconstructing the tree, think of how pre and post order traversals differ."
   ]
  },
  {
   "cell_type": "markdown",
   "metadata": {
    "deletable": false,
    "nbgrader": {
     "checksum": "183dd9f6c103591df6f909fdaf5ab80a",
     "grade": true,
     "grade_id": "cell-e9b84a8c3b425b2a",
     "locked": false,
     "points": 15,
     "schema_version": 1,
     "solution": true
    }
   },
   "source": [
    "To design an algorithm of this type, the easiest part is to first acknowledge that the first element of the pre order array is going to be the last element in the post order traversal conversion. What one could do to make this conversion possible is to take the pre order array and first determine what part of the array is the left subtree and what is the right subtree. This can be done by excluding the first element of the pre order array as it is the root of the tree. The left subtree is going to be all elements that are less than the root, and the right subtree is going to be all elements that are greater than the root of the subtree.\n",
    "\n",
    "Once we have correctly identified the left and right subtrees from the pre order array, we need to construct the post order traversal of each recursively. The first element in each subtree is going to be the root of each subtree. Post order traversal is in the manner that we visit the left node, right node, and root node of each tree (or subtree). In the context of the pre order array that was given to us, we can determine the left node of each subtree as the element that is less than the root, and the right node that is greater than the root. We then apply this recursively until the base condition is met (sub array is empty). Finally, these values are appended to the return array representing the post order traversal, where the last element in the array is the original root of the tree."
   ]
  },
  {
   "cell_type": "markdown",
   "metadata": {
    "deletable": false,
    "editable": false,
    "nbgrader": {
     "checksum": "2ef385587fe8ab0ff5a10fdd7112e9d5",
     "grade": false,
     "grade_id": "cell-2aca70a42a7c6559",
     "locked": true,
     "schema_version": 1,
     "solution": false
    }
   },
   "source": [
    "## Testing your solutions -- Do not edit code beyond this point"
   ]
  },
  {
   "cell_type": "code",
   "execution_count": 23,
   "metadata": {
    "deletable": false,
    "editable": false,
    "nbgrader": {
     "checksum": "b0eb55ccce4c3b469caff6c156319267",
     "grade": true,
     "grade_id": "cell-0daf295a92acfcd1",
     "locked": true,
     "points": 20,
     "schema_version": 1,
     "solution": false
    }
   },
   "outputs": [
    {
     "name": "stdout",
     "output_type": "stream",
     "text": [
      "Num Tests =  10000  Passed =  10000\n"
     ]
    }
   ],
   "source": [
    "import random\n",
    "\n",
    "def unequalArrays(a, b):\n",
    "    n = min(len(a), len(b))\n",
    "    for j in range(n):\n",
    "        if a[j] != b[j]:\n",
    "            return True\n",
    "    if len(a) != len(b):\n",
    "        return True\n",
    "    return False\n",
    "\n",
    "def test_move_negatives(a):\n",
    "    b = [e for e in a if e < 0]\n",
    "    j0 = len(b)\n",
    "    j = move_negatives_to_left(a)\n",
    "    res = True\n",
    "    if j != j0:\n",
    "        print('Failed: input =', a)\n",
    "        print('Failed: expected value j = ', j0, ' Your code obtained j = ', j)\n",
    "        res = False\n",
    "    if unequalArrays(b, a[0:j]):\n",
    "        if res:\n",
    "            print('Failed: input =', a)\n",
    "        print('Failed: the LHS portion should be = ', b)\n",
    "        print('\\t Your code returned: ', a[0:j])\n",
    "        res = False\n",
    "    return res\n",
    "\n",
    "def createRandomArray(n):\n",
    "    a = []\n",
    "    for i in range(n):\n",
    "        j = random.randint(-1000,1000)\n",
    "        if j == 0: \n",
    "            j = 1\n",
    "        a.append(j)\n",
    "    return a\n",
    "\n",
    "nPassed = 0\n",
    "nTests = 10000\n",
    "for i in range(0, nTests):\n",
    "    a = createRandomArray(9)\n",
    "    res = test_move_negatives(a)\n",
    "    if res: \n",
    "        nPassed = nPassed + 1\n",
    "print('Num Tests = ', nTests, ' Passed = ', nPassed)"
   ]
  },
  {
   "cell_type": "code",
   "execution_count": null,
   "metadata": {},
   "outputs": [],
   "source": []
  }
 ],
 "metadata": {
  "kernelspec": {
   "display_name": "Python 3",
   "language": "python",
   "name": "python3"
  },
  "language_info": {
   "codemirror_mode": {
    "name": "ipython",
    "version": 3
   },
   "file_extension": ".py",
   "mimetype": "text/x-python",
   "name": "python",
   "nbconvert_exporter": "python",
   "pygments_lexer": "ipython3",
   "version": "3.11.7"
  }
 },
 "nbformat": 4,
 "nbformat_minor": 2
}
