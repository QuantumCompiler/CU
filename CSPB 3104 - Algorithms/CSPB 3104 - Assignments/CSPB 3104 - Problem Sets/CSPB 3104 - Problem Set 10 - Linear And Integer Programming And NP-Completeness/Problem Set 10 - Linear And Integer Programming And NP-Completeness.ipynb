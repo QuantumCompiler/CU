{
 "cells": [
  {
   "cell_type": "markdown",
   "metadata": {},
   "source": [
    "# CSPB 3104 Assignment 11:\n",
    "## Instructions\n",
    "\n",
    "> This assignment is to be completed and uploaded to \n",
    "moodle as a python3 notebook. \n",
    "\n",
    "> Submission deadlines are posted on moodle. \n",
    "\n",
    "> The questions  provided  below will ask you to either write code or \n",
    "write answers in the form of markdown.\n",
    "\n",
    "> Markdown syntax guide is here: [click here](https://github.com/adam-p/markdown-here/wiki/Markdown-Cheatsheet)\n",
    "\n",
    "> Using markdown you can typeset formulae using latex.\n",
    "\n",
    "> This way you can write nice readable answers with formulae like thus:\n",
    "\n",
    ">> The algorithm runs in time $\\Theta\\left(n^{2.1\\log_2(\\log_2( n \\log^*(n)))}\\right)$, \n",
    "wherein $\\log^*(n)$ is the inverse _Ackerman_ function.\n",
    "\n",
    "__Double click anywhere on this box to find out how your instructor typeset it. Press Shift+Enter to go back.__\n"
   ]
  },
  {
   "cell_type": "markdown",
   "metadata": {},
   "source": [
    "## Question 1: Box Constrained Linear Program\n",
    "\n",
    "A box-constrained linear program is a problem of the following form:\n",
    "\n",
    "$$ \\begin{array}{rl}\n",
    "\\max & c_1 x_1 + \\cdots + c_n x_n \\\\\n",
    "\\mathsf{s.t.} & l_1 \\leq x_1 \\leq u_1 \\\\\n",
    "& l_2 \\leq x_2 \\leq u_2 \\\\\n",
    "& \\ddots \\\\\n",
    "& l_n \\leq x_n \\leq u_n \\\\\n",
    "\\end{array}$$\n",
    "\n",
    "In other words, each variable $x_i$ is constrained between lower limit $l_i$ and upper limit $u_i$.\n",
    "Given a box constrained LP, write down a linear time $\\Theta(n)$ algorithm to find its optimal solution."
   ]
  },
  {
   "cell_type": "markdown",
   "metadata": {},
   "source": [
    "### Answer (Expected Length: 3 lines)\n",
    "\n",
    "We are seeking to maximize the weighted sum of the variables in the expression\n",
    "\n",
    "$$\n",
    "\\text{max } \\sum_{i = 1}^{n} c_{i}x_{i}.\n",
    "$$\n",
    "\n",
    "There are three basic conditions that we can use to maximize this sum:\n",
    "\n",
    "- If $c_{i} > 0$, then we set $x_{i} = u_{i}$. By setting $x_{i}$ to its upper limit, we maximize the contribution of this term.\n",
    "- If $c_{i} < 0$, then we set $x_{i} = l_{i}$. By setting $x_{i}$ to its lower limit, we minimize the contribution of this term.\n",
    "- If $c_{i} = 0$, then we set $x_{i} = u_{i}$. This scenario has no effect on the aforementioned quantity since anything multiplied by zero is zero.\n",
    "\n",
    "In pseudo code language, this would look something like:\n",
    "\n",
    "```\n",
    "max_box_problem(c, l, u):\n",
    "    # c - list of c values\n",
    "    # l - list of l values\n",
    "    # u - list of u values\n",
    "    n = length of c list\n",
    "    x = a list of all zeros of length n\n",
    "    max = number that holds max value\n",
    "    loop over every value of c:\n",
    "        if current c is greater than zero:\n",
    "            set x = current value in u list\n",
    "        if current c is less than zero:\n",
    "            set x = current value in l list\n",
    "        if current c is equal to zero:\n",
    "            set x = current value in u\n",
    "        max += current value of c times current value of x\n",
    "    return x, max\n",
    "```\n",
    "\n",
    "We can clearly see that since we are only iterating over the length of the `c` list once that is of length `n`, this algorithm will run in\n",
    "\n",
    "$$\n",
    "\\color{blue}{\\Theta(n)}.\n",
    "$$"
   ]
  },
  {
   "cell_type": "markdown",
   "metadata": {},
   "source": [
    "----"
   ]
  },
  {
   "cell_type": "markdown",
   "metadata": {},
   "source": [
    "## Question 2: Budget Allocation Problem\n",
    "\n",
    "There are $n$ communities in a city, $C_1, \\ldots, C_k$, with population $P_1, \\ldots, P_k$. \n",
    "The average daily income per capita for each community is given by $I_1, \\ldots, I_k$.\n",
    "The development budget $B$ dollars of the city is to be distributed between these communities following state law\n",
    "which stipulates the following constraints:\n",
    "\n",
    "  - The budget as a whole must be spent (no borrowing or saving allowed).\n",
    "  - The fair share fraction $f_i$ for a community $C_i$ is defined as $\\frac{P_i}{\\sum_{j=1}^k P_j}$.\n",
    "  - No community may receive an allocation that exceeds $1.1 f_i B$ or is lower than $0.9 f_i B$.\n",
    "  - Let $x_j$ be the allocation for community $C_j$. The overall allocation should be progressive to maximize the overall welfare formula given by $ \\sum_{j=1}^n \\frac{P_j}{I_j} x_j $.\n",
    "  \n",
    "\n",
    "Formulate the budget allocation problem as a linear program.\n",
    "\n",
    "Write down the LP for the data below.\n",
    "Use your favorite solver (Excel, GLPSOL, online solver)\n",
    "to solve the problem for the following data:\n",
    "\n",
    "$$\\begin{array}{ccccccc}\n",
    "\\hline\n",
    "ID & C_1 & C_2 & C_3 & C_4 & C_5 \\\\\n",
    "\\hline\n",
    "P_j & 50000 & 120000 & 110000 & 130000& 80000\\\\\n",
    "I_j & 250 & 125 & 200 & 90 & 280 \\\\\n",
    "\\hline\n",
    "\\end{array}$$\n",
    " \n",
    "The total budget in millions is $53$ million.\n"
   ]
  },
  {
   "cell_type": "markdown",
   "metadata": {},
   "source": [
    "### Answer 2 (Expected Length: 6 lines)\n",
    "\n",
    "To solve this problem, we need to calculate the total population so we can then in turn calculate the fair share fraction for each community. The population amongst these 5 communities is\n",
    "\n",
    "$$\n",
    "P = \\sum_{i = 1}^{5} P_{i} = P_{1} + P_{2} + P_{3} + P_{4} + P_{5} = 50,000 + 120,000 + 110,000 + 130,000 + 80,000 = 490,000.\n",
    "$$\n",
    "\n",
    "The fair share fractions $f_{i}$ for the five communities are then\n",
    "\n",
    "\\begin{align*}\n",
    "    f_{1} & = \\frac{50,000}{490,000} = \\frac{5}{49} \\\\\n",
    "    f_{2} & = \\frac{120,000}{490,000} = \\frac{12}{49} \\\\\n",
    "    f_{3} & = \\frac{110,000}{490,000} = \\frac{11}{49} \\\\\n",
    "    f_{4} & = \\frac{130,000}{490,000} = \\frac{13}{49} \\\\\n",
    "    f_{5} & = \\frac{80,000}{490,000} = \\frac{8}{49}.\n",
    "\\end{align*}\n",
    "\n",
    "The LP for the data mentioned in the problem statement is then\n",
    "\n",
    "$$\n",
    "\\sum_{j = 1}^{n} \\frac{P_{j}}{I_{j}}x_{j} = \\frac{50,000}{250}x_{1} + \\frac{120,000}{125}x_{2} + \\frac{110,000}{200}x_{3} + \\frac{130,000}{90}x_{4} + \\frac{80,000}{280}x_{5}\n",
    "$$\n",
    "\n",
    "which must be maximized under the constraint that $x_{1} + x_{2} + x_{3} + x_{4} + x_{5} = 53.0 \\cdot 10^{6}$ where\n",
    "\n",
    "\\begin{align*}\n",
    "x_{1} & \\geq 0.9 \\cdot \\left(\\frac{5}{49}\\right) \\cdot 53.0 \\cdot 10^{6} \\hspace{5pt} , \\hspace{5pt} x_{1} \\leq 1.1 \\cdot \\left(\\frac{5}{49}\\right) \\cdot 53.0 \\cdot 10^{6} \\\\\n",
    "x_{2} & \\geq 0.9 \\cdot \\left(\\frac{12}{49}\\right) \\cdot 53.0 \\cdot 10^{6} \\hspace{5pt} , \\hspace{5pt} x_{2} \\leq 1.1 \\cdot \\left(\\frac{12}{49}\\right) \\cdot 53.0 \\cdot 10^{6} \\\\\n",
    "x_{3} & \\geq 0.9 \\cdot \\left(\\frac{11}{49}\\right) \\cdot 53.0 \\cdot 10^{6} \\hspace{5pt} , \\hspace{5pt} x_{3} \\leq 1.1 \\cdot \\left(\\frac{11}{49}\\right)\n",
    "\\cdot 53.0 \\cdot 10^{6} \\\\\n",
    "x_{4} & \\geq 0.9 \\cdot \\left(\\frac{13}{49}\\right) \\cdot 53.0 \\cdot 10^{6} \\hspace{5pt} , \\hspace{5pt} x_{4} \\leq 1.1 \\cdot \\left(\\frac{13}{49}\\right)\n",
    "\\cdot 53.0 \\cdot 10^{6} \\\\\n",
    "x_{5} & \\geq 0.9 \\cdot \\left(\\frac{8}{49}\\right) \\cdot 53.0 \\cdot 10^{6} \\hspace{5pt} , \\hspace{5pt} x_{5} \\leq 1.1 \\cdot \\left(\\frac{8}{49}\\right)\n",
    "\\cdot 53.0 \\cdot 10^{6}.\n",
    "\\end{align*}\n",
    "\n",
    "This problem is then solved with Microsoft Excel. Using the solver in Excel the following allocations for each community are:\n",
    "\n",
    "$$\n",
    "C_{1} = \\$4,867,347 \\hspace{5pt} , \\hspace{5pt} C_{2} = \\$14,169,388 \\hspace{5pt} , \\hspace{5pt} C_{3} = \\$10,708,163 \\hspace{5pt} , \\hspace{5pt} C_{4} = \\$15,467,347 \\hspace{5pt} , \\hspace{5pt} C_{5} = \\$7,787,755.\n",
    "$$"
   ]
  },
  {
   "cell_type": "markdown",
   "metadata": {},
   "source": [
    "----"
   ]
  },
  {
   "cell_type": "markdown",
   "metadata": {},
   "source": [
    "## Question 3: 0-1 Integer Linear Programming\n",
    "\n",
    "A 0-1 integer linear program is an optimization problem involving binary variables\n",
    "$x_1, \\ldots, x_n \\in \\{0,1\\}^n$ as follows:\n",
    "\n",
    "$$\\begin{array}{rll}\n",
    "\\max & c_1 x_1 + \\cdots + c_n x_n \\\\\n",
    "\\mathsf{s.t} & a_{11} x_1 + \\cdots + a_{1n} x_n & \\leq b_1 \\\\\n",
    "& \\; \\; \\; \\; \\; \\; \\; \\; \\; \\;  \\ddots & \\\\\n",
    "& a_{m1} x_1  + \\cdots + a_{mn} x_n & \\leq b_m \\\\\n",
    "& x_1, \\ldots, x_n & \\in \\{0,1\\}\\\\\n",
    "\\end{array}$$\n",
    "\n",
    "You may think of it as a linear program but with variables restricted to take on values in the\n",
    "set $\\{0,1\\}$.\n",
    "\n",
    "The 0-1 ILP problem takes as an input (a) description of the problem (variables, objectives and constraints) and\n",
    "(b) limit $L$ and decides whether there exists a solution for the variables satisfying the constraints such that\n",
    "the objective value $\\geq L$.\n",
    "\n",
    "Show that 0-1 ILP problem is NP-Complete. (*Hint* Directly encode a 3-CNF-SAT clause as an inequality).\n",
    "\n"
   ]
  },
  {
   "cell_type": "markdown",
   "metadata": {},
   "source": [
    "### Answer (Expected Length: 10 lines)\n",
    "\n",
    "To verify that the 0-1 ILP problem is NP-Complete, we need to first verify that the 0-1 ILP problem is verifiable in polynomial time and it must be as hard as the hardest problems in NP.\n",
    "\n",
    "First, we verify that the 0-1 ILP problem is NP. We are maximizing a sum of \n",
    "\n",
    "$$\n",
    "\\sum_{i = 1}^{n} c_{i}x_{i}.\n",
    "$$\n",
    "\n",
    "The aforementioned expression is linear, and checking if whether the variable $x_{i}$ is binary can be done in linear time. Checking that for each expression of the form\n",
    "\n",
    "$$\n",
    "a_{m1}x_{1} + \\dots + a_{mn}x_{n} \\leq b_{m}\n",
    "$$\n",
    "\n",
    "is done in linear time where each arithmetic operation can be calculated in constant time. Because of this, we can then say that the 0-1 ILP problem is NP due to the runtime being\n",
    "\n",
    "$$\n",
    "\\color{blue}{\\mathcal{O}(m \\cdot n)}.\n",
    "$$\n",
    "\n",
    "The 0-1 ILP problem is considered to be NP hard due to the fact that each boolean variable in the 3-SAT instance is mapped to a binary variable in the 0-1 ILP. Each clause that is present in the 3-SAT is converted into a linear inequality ensuring that at least one literal evaluates to true. Because the 3-SAT instance is satisfiable, the corresponding 0-1 ILP also has a solution. This in turn means that the 0-1 ILP is just as hard as the solution for the 3-SAT. Therefore it is NP hard.\n",
    "\n",
    "Because the 0-1 ILP problem is both NP and NP hard, we can conclude that it is NP complete.\n"
   ]
  },
  {
   "cell_type": "markdown",
   "metadata": {},
   "source": [
    "----"
   ]
  },
  {
   "cell_type": "markdown",
   "metadata": {},
   "source": [
    "## Question 4: Independent Set\n",
    "\n",
    "An _independent set_ in a graph $G= (V,E)$ is a set of vertices $I \\subseteq V$ such that each edge in $E$ is incident to at most one vertex in $I$. That is, an independent set is a set of vertices where no two vertices are adjacent.\n",
    "\n",
    "The _$k$-independent set problem_ is to determine if a graph has an independent set of size at least $k$.\n",
    "\n",
    "(A) Show that the $k$-independent set problem is NP-Complete by reducing from the $3$-CNF-SAT problem.\n",
    "\n",
    "(B) Show that the $k$-independent set problem is NP-Complete by reducing from the $k$-clique problem."
   ]
  },
  {
   "cell_type": "markdown",
   "metadata": {},
   "source": [
    "### Answer (Expected Length: 10 lines)\n",
    "\n",
    "#### Part A\n",
    "\n",
    "We first construct a graph $G = (V,E)$ from a given 3-CNF-SAT with clauses $C_{1}, C_{2}, \\dots, C_{m}$ over variables $x_{1}, x_{2}, \\dots x_{n}$. Then, for each literal in each clause, create a vertex $V$. If there are $m$ clauses, and each clause has three literals, then the result has $3m$ vertices. \n",
    "\n",
    "We then connect two edges if they represent contradictory literals or if they belong to the same clause. We then set $k = m$ where we aim to find an independent set where each vertex in the set represents a literal from different clauses that can simultaneously be true, in turn satisfying the CNF formula. \n",
    "\n",
    "If the formula is satisfiable, then there is a truth assignment where at least one literal in each clause can be true without contradiction, and thus forming an independent set $G$ of size $m$.\n",
    "\n",
    "#### Part B\n",
    "\n",
    "We first take the complement of the graph $G$. We use the same vertices as in the original as we do in the complement. We then construct a new graph using these vertices where two vertices are connected by an edge if they are not connected in the complement. A set of vertices in the complement forms a clique if and only if the same set of vertices in the original graph form an independent set.\n",
    "\n",
    "Therefore, if there is a $k$-clique in the complement, there is an independent set in the original graph, and vice versa."
   ]
  },
  {
   "cell_type": "markdown",
   "metadata": {},
   "source": [
    "----"
   ]
  },
  {
   "cell_type": "markdown",
   "metadata": {},
   "source": [
    "## Testing your solutions -- Do not edit code beyond this point"
   ]
  },
  {
   "cell_type": "code",
   "execution_count": null,
   "metadata": {},
   "outputs": [],
   "source": []
  }
 ],
 "metadata": {
  "kernelspec": {
   "display_name": "Python 3",
   "language": "python",
   "name": "python3"
  },
  "language_info": {
   "codemirror_mode": {
    "name": "ipython",
    "version": 3
   },
   "file_extension": ".py",
   "mimetype": "text/x-python",
   "name": "python",
   "nbconvert_exporter": "python",
   "pygments_lexer": "ipython3",
   "version": "3.6.9"
  }
 },
 "nbformat": 4,
 "nbformat_minor": 4
}
