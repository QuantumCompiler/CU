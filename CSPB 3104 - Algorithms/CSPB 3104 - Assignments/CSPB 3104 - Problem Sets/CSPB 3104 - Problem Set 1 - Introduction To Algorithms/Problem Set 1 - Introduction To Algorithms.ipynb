{
 "cells": [
  {
   "cell_type": "markdown",
   "metadata": {
    "deletable": false,
    "editable": false,
    "nbgrader": {
     "checksum": "36fbbc00986735486d428ea2568edd2e",
     "grade": false,
     "grade_id": "cell-086e405e17c8a0df",
     "locked": true,
     "schema_version": 1,
     "solution": false
    }
   },
   "source": [
    "# CSCI 3104 Assignment 1:"
   ]
  },
  {
   "cell_type": "markdown",
   "metadata": {
    "deletable": false,
    "editable": false,
    "nbgrader": {
     "checksum": "0080687169369e2f3ed274d2627409bf",
     "grade": false,
     "grade_id": "cell-598c4569950c61cd",
     "locked": true,
     "schema_version": 1,
     "solution": false
    }
   },
   "source": [
    "***\n",
    "# Instructions\n",
    "\n",
    "This assignment is to be completed as a python3 notebook.  When you upload, please upload the completed notebook (ipynb file).\n",
    "\n",
    "The questions  provided  below will ask you to either write code or \n",
    "write answers in the form of markdown.\n",
    "\n",
    " Markdown syntax guide is here: [click here](https://github.com/adam-p/markdown-here/wiki/Markdown-Cheatsheet)\n",
    "\n",
    "Using markdown you can typeset formulae using latex.\n",
    "This way you can write nice readable answers with formulae like thus:\n",
    "\n",
    "The algorithm runs in time $\\Theta\\left(n^{2.1\\log_2(\\log_2( n \\log^*(n)))}\\right)$, \n",
    "where $\\log^*(n)$ is the inverse _Ackerman_ function.\n",
    "\n",
    "__Double click anywhere on this box to find out how your instructor typeset it. Press Shift+Enter to go back.__\n",
    "\n",
    "***"
   ]
  },
  {
   "cell_type": "markdown",
   "metadata": {
    "deletable": false,
    "editable": false,
    "nbgrader": {
     "checksum": "e732462e4eeb2d4845707309687bdd53",
     "grade": false,
     "grade_id": "cell-9f589cc259529ba9",
     "locked": true,
     "schema_version": 1,
     "solution": false
    }
   },
   "source": [
    "## Question 1 : Everyday Algorithms.\n",
    "\n",
    "  Write down a ten sentence description of an algorithm that drives an important\n",
    "piece of technology that you encounter in your every day life. \n",
    "Research on the Internet to find out what sort of algorithms can solve the \n",
    "core problem behind the technology and how it works.\n",
    "\n",
    "__Examples:__ \n",
    "> 1. Auto-complete feature when typing text messages on my iphone, \n",
    "> 2. My email service automatically tags dates/times so that I could insert \n",
    "them in my calendar, or \n",
    "> 3. My python IDE automatically takes me to a function's code from a call site."
   ]
  },
  {
   "cell_type": "markdown",
   "metadata": {
    "deletable": false,
    "nbgrader": {
     "checksum": "f915d99606fadd005dcd7e3c92dd6c9b",
     "grade": true,
     "grade_id": "cell-eb8962afb5074af9",
     "locked": false,
     "points": 20,
     "schema_version": 1,
     "solution": true
    }
   },
   "source": [
    "A really important algorithm that is used in our everyday lives are encryption algorithms. Encryption algorithms are very important because they perform operations on data in such a way that the data can be safely transferred between users. Without encryption algorithms, one's data could be at severe risk of being intercepted and interpreted.\n",
    "\n",
    "One of the most common encryption algorithms is the RSA algorithm. The RSA algorithm was originally invented by Rivest–Shamir–Adleman (RSA) and utilizes something called a public and private key. The public key in the algorithm is calculated with the use of two large prime numbers and some other mathematical operations such as FME (Fast Modular Exponentiation). RSA is extremely safe because breaking the encryption key is very difficult due to the factorization of large numbers. With the difficulty of factoring these large numbers, the runtime that would be required to break the encryption can be on the order of magnitude of how old the Earth is and longer!\n",
    "\n",
    "Encryption algorithms like RSA solve the problem of safely transmitting data between users with the use of very powerful mathematical theorems and procedures. Safely transmitting data is a very important aspect of society and something we do everyday, without it, important information would be susceptible to being intercepted and used in ways that the users of the information would not have originally intended."
   ]
  },
  {
   "cell_type": "markdown",
   "metadata": {
    "deletable": false,
    "editable": false,
    "nbgrader": {
     "checksum": "bf9b8c7eb79332f10997dc896096fd79",
     "grade": false,
     "grade_id": "cell-067dec7bb19a61b4",
     "locked": true,
     "schema_version": 1,
     "solution": false
    }
   },
   "source": [
    "***\n",
    "## Question 2(a): Insert into a sorted array.\n",
    "\n",
    "Write a python3 function `insert_into(a, j)` that given sorted array `a` and a number `j`,  returns a new array that includes the contents of the original array and the newly inserted element `j`, so that the returned array is also sorted. \n",
    "\n",
    "__You are not allowed to use inbuilt routines in python such as sort. You should also avoid using the list insert method.__\n",
    "\n"
   ]
  },
  {
   "cell_type": "code",
   "execution_count": 55,
   "metadata": {
    "deletable": false,
    "nbgrader": {
     "checksum": "3d60bef7bf0ee6950be63148c8b93516",
     "grade": false,
     "grade_id": "cell-bfae6e2483f225f6",
     "locked": false,
     "schema_version": 1,
     "solution": true
    }
   },
   "outputs": [],
   "source": [
    "# Answer 2(a): IMPLEMENT HERE. Each time you edit, do not forget to type shift+enter\n",
    "\"\"\" insert_into - Inserts a value into an already sorted list\n",
    "    Input:\n",
    "        a - Sorted array that is or is not empty\n",
    "        j - Value that is to be inserted into the sorted array\n",
    "    Algorithm:\n",
    "        * Insert the value into the array if the array is empty\n",
    "        * Otherwise\n",
    "            * Create a boolean value to keep track of if a value has been inserted\n",
    "            * Iterate over the array\n",
    "                * If the value to be inserted is less than the current value in the array\n",
    "                    * Insert it, change the boolean value to true, and break the loop\n",
    "                * Otherwise, continue to the next index of the array\n",
    "            * If a value has not been inserted\n",
    "                * Insert the value at the end of the array\n",
    "    Output:\n",
    "        a - Sorted array of values\n",
    "\"\"\"\n",
    "def insert_into(a, j):\n",
    "    # YOUR CODE HERE\n",
    "    # Array is empty, just add the value to the list\n",
    "    if (len(a) == 0):\n",
    "        a.append(j)\n",
    "    # Array is not empty\n",
    "    else:\n",
    "        # Boolean to keep track if a value has been inserted\n",
    "        ins = False\n",
    "        # Iterate over the list\n",
    "        for i in range(0,len(a)):\n",
    "            # Inserted value is less than the current value\n",
    "            if (j < a[i]):\n",
    "                # Insert the value, change ins to true, and break the for loop\n",
    "                a.insert(i,j)\n",
    "                ins = True\n",
    "                break\n",
    "        # The value is greater than or equal to all values in the list\n",
    "        if not ins:\n",
    "            # Add value to the end of the list\n",
    "            a.append(j)\n",
    "    return a\n",
    "\n",
    "\n",
    "# Press Shift enter when you are done with your code"
   ]
  },
  {
   "cell_type": "markdown",
   "metadata": {
    "deletable": false,
    "editable": false,
    "nbgrader": {
     "checksum": "b8c05e659790069201f563bfd0ad7307",
     "grade": false,
     "grade_id": "cell-92203b41f4912683",
     "locked": true,
     "schema_version": 1,
     "solution": false
    }
   },
   "source": [
    "## Question 2(b): Running time of your insertion routine\n",
    "For an input of size $n$, how much time does your routine take to run in the worst case? You can use big-theta notation $\\Theta$ for your answer."
   ]
  },
  {
   "cell_type": "markdown",
   "metadata": {
    "deletable": false,
    "nbgrader": {
     "checksum": "fd1b95e85f22eb6e6d6a3b70b02c793a",
     "grade": true,
     "grade_id": "cell-e20bd727fd810843",
     "locked": false,
     "points": 20,
     "schema_version": 1,
     "solution": true
    }
   },
   "source": [
    "In the case of an input of size $n$, the algorithm is going to run until it gets to the end of the input. In this case, the worst case runtime of this algorithm is going to be $\\Theta(n)$. This worst case scenario occurs when the value that is to be inserted is greater than or equal to the largest value in the list. The best case runtime would be $\\Omega(1)$ when the value that is to be inserted is less than or equal to the smallest value in the list."
   ]
  },
  {
   "cell_type": "markdown",
   "metadata": {
    "deletable": false,
    "editable": false,
    "nbgrader": {
     "checksum": "06f6f051b3507eb4cda09792fac437ad",
     "grade": false,
     "grade_id": "cell-abd155f85d45b068",
     "locked": true,
     "schema_version": 1,
     "solution": false
    }
   },
   "source": [
    "***\n",
    "## Question 3: Tournaments\n",
    "\n",
    "A tennis tournament has $n$ participants who must play matches in rounds to determine a winner. For instance if $n = 100$, then the first round has $50$ matches, the second round has $25$ matches and so on. If the number of players left in a round is odd, then one lucky player is chosen at random to move to the next round without contest.\n",
    "\n",
    "Do not use asymptotic ($O, \\Omega, \\Theta$) notations in your answer below. Provide exact numbers as much as possible.\n",
    "\n",
    "1. Write down a formula involving $n$ for the total number of rounds played? (*Hint*: You should try some values for $n$, before you attempt to derive a formula ).\n",
    "\n",
    "2. Show that the total number of matches played cannot exceed $n$. (*Hint*: write down a series summation for the total number of matches played and use known facts about summation of geometric series ).\n",
    "\n",
    "3. How many matches does the overall winner need to play in the _best case_?\n",
    "\n",
    "4. How many matches does the overall winner need to play in the _worst case_?\n",
    "\n",
    "5. Assume that every player has a unique hidden talent score so that for any match, the higher talent score is always going to win. \n",
    "Is the winner always guaranteed to be the highest talent score? Is the runner up (i.e, the person who lost to the winner in the final match) always the second highest talent score? If your answer is no, illustrate using a counter-example.\n",
    "\n",
    "6. From the answer in 5, design a scheme to identify the second highest talent score among the $n$ participants. Your scheme may select some players and schedule extra matches. (*Hint*: Look up the term _repechage_ in olympics sports)\n"
   ]
  },
  {
   "cell_type": "markdown",
   "metadata": {},
   "source": [
    "### 3.1 Solution\n",
    "\n",
    "To solve this problem, we need to count how many rounds are required until there are only 2 contestants left. Take for instance a tournament of 8 contestants. Round 1 there are 8 contestants, round 2 there are 4 contestants, and then round 3 there are 2 contestants. So for a tournament of 8 contestants, it only requires 3 rounds.\n",
    "\n",
    "Diving into this deeper, to find the number of rounds that are required based upon the number of contestants, we need calculate $2^{\\text{Rounds}} = n$. We will refer to the number of rounds required to be played as $\\rho$. We then have:\n",
    "\n",
    "$$\n",
    "\\begin{align*}\n",
    "2^{\\rho} & = n & \\text{(Premise)} \\\\\n",
    "\\log_{2}{(2^{\\rho})} & = \\log_{2}{(n)} & \\text{(Logarithmic Implementation)} \\\\\n",
    "\\rho & = \\log_{2}{(n)}. & \\text{(Rules of Logarithms)}\n",
    "\\end{align*}\n",
    "$$\n",
    "\n",
    "Now, the only problem with our final expression is that if we have a value of $n$ when plugged into our formula does not return an integer, we need to perform one more operation to get an integer value. In our original problem of $n = 100$, it takes 7 rounds to crown a winner. Namely:\n",
    "\n",
    "$$\n",
    "\\text{Round 1: } n = 100, \\text{ Round 2: } n = 50, \\text{ Round 3: } n = 25, \\text{ Round 4: } n = 13, \\text{ Round 5: } n = 7, \\text{ Round 6: } n = 4, \\text{ Round 7: } n = 2.\n",
    "$$\n",
    "\n",
    "This means that when $n = 100$, we require 7 rounds to crown a winner. Going back to our original problem, we can then see that all we need to do our expression is to take the ceiling of our value because $\\rho = \\log_{2}{(8)} \\approx 6.64$. Namely:\n",
    "\n",
    "$$\n",
    "\\color{blue} \\rho = \\lceil \\log_{2}{(n)} \\rceil.\n",
    "$$"
   ]
  },
  {
   "cell_type": "markdown",
   "metadata": {},
   "source": [
    "### 3.2 Solution\n",
    "\n",
    "For this part of the problem we want to show that it is not possible for $\\rho > n$. In every round, the number of players that are left is effectively cut in half. Mathematically, the number of matches that will occur for a tournament is:\n",
    "\n",
    "$$\n",
    "\\rho = \\frac{n}{2} + \\frac{n}{4} + \\frac{n}{8} + \\dots\n",
    "$$\n",
    "\n",
    "According to [Khan Academy](https://www.khanacademy.org/math/algebra2/x2ec2f6f830c9fb89:poly-factor/x2ec2f6f830c9fb89:geo-series/v/deriving-formula-for-sum-of-finite-geometric-series#:~:text=A%20finite%20geometric%20series%20can,number%20of%20terms%20being%20summed.), a geometric series can be represented as:\n",
    "\n",
    "$$\n",
    "S_{k} = \\frac{a(1 - r^{k})}{(1 - r)}\n",
    "$$\n",
    "\n",
    "where $a$ is the first term of the first $k$ terms in the series and $r$ is the common ratio in the geometric series. In our case, $a = n / 2$, $r = 1 / 2$, and $k$ is unknown. We can simplify the expression for the geometric series by evaluating it when $k$ becomes really large. Namely,\n",
    "\n",
    "$$\n",
    "\\lim_{k \\rightarrow \\infty} \\left( \\frac{a(1 - r^{k})}{(1 - r)} \\right) \\leq \\frac{a}{1 - r}.\n",
    "$$\n",
    "\n",
    "If we now plug in our values for $a$ and $r$ we have\n",
    "\n",
    "$$\n",
    "\\color{blue} \\rho \\leq \\frac{n / 2}{1 - 1 / 2} \\leq \\frac{n / 2}{1 / 2} \\leq n.\n",
    "$$\n",
    "\n",
    "Thus, the number of rounds can not exceed the number of contestants that are in a tournament."
   ]
  },
  {
   "cell_type": "markdown",
   "metadata": {},
   "source": [
    "### 3.3 Solution\n",
    "\n",
    "If we assume in our rules where a contestant was a lucky recipient of being advanced without needing to play, and that same player cannot be selected again to skip a round, the best case scenario for the winner of the contest is going to be\n",
    "\n",
    "$$\n",
    "\\color{blue} \\rho_{\\text{Winner}} = \\lceil \\log_{2}{(n)} \\rceil - 1.\n",
    "$$\n",
    "\n",
    "The winner would have to play one less round than the number of rounds that are necessary for the tournament."
   ]
  },
  {
   "cell_type": "markdown",
   "metadata": {},
   "source": [
    "### 3.4 Solution\n",
    "\n",
    "If the winner of the contest did not skip any rounds due to them being a lucky recipient of an odd numbered round, then the worst case scenario for the number of rounds played by the winner is going to be\n",
    "\n",
    "$$\n",
    "\\color{blue} \\rho_{\\text{Winner}} = \\lceil \\log_{2}{(n)} \\rceil.\n",
    "$$"
   ]
  },
  {
   "cell_type": "markdown",
   "metadata": {},
   "source": [
    "### 3.5 Solution\n",
    "\n",
    "The short answer to this question is, the winner will **always** have the highest hidden talent score, and it is **not the case** that the runner up will always have the second highest hidden talent score.\n",
    "\n",
    "Take for example a tournament with 4 contestants. Contestant 1 has the highest, contestant 2 has the second highest, contestant 3 has the third highest, and contestant 4 has the fourth highest hidden talent score. If player 1 and player 2 play each other and player 3 and player 4 play each other in the first round, then player 1 and player 3 advance to the finals. The winner of the final round would then be player 1 because they have the highest hidden talent score. In this case, the runner up would be player 3 and they do not have the second highest hidden talent score amongst all contestants.\n",
    "\n",
    "This counter example I gave is a perfect example of why in professional sports they always pair up the highest seeds with the lowest seeds in each subsequent round in the hopes that the final round will consist of the teams / contestants with the highest skills / wins."
   ]
  },
  {
   "cell_type": "markdown",
   "metadata": {},
   "source": [
    "### 3.6 Solution\n",
    "\n",
    "The simplest scheme to make sure that the runner up in the contest is the contestant with the second highest hidden talent score is to create scheme that is analogous to how professional sports teams schedule playoffs in their leagues. The scheme do achieve this outcome is the following:\n",
    "\n",
    "1. Create a numerical score for the hidden talent of each contestant.\n",
    "\n",
    "2. Put all the hidden talent scores of each contestant into a list / array.\n",
    "\n",
    "3. Sort the list in descending order. (Highest talent is the 1 seed, lowest talent is the $n^{th}$ seed.)\n",
    "\n",
    "4. Create matches for each round such that the match ups are $\\text{contestant}[i] \\text{ vs. } \\text{contestant}[ (n - 1) - i]$ where $n$ is the number of players in a round and $i$ is the index of the player in the list.\n",
    "\n",
    "    - If $n$ is odd, the highest seed is given a bye and will not participate in the current round. After each round, re-calculate the number $n$.\n",
    "\n",
    "    - Sort the remaining contestants in descending order again.\n",
    "\n",
    "    - Re-create the seeding for the new number of contestants in the current round.\n",
    "\n",
    "This scheme will assure that the last two contestants will play in the final round. The winner will be the original one seed, and the runner up will be the two seed. Assuring that the runner up will always have the second highest hidden talent / skill."
   ]
  },
  {
   "cell_type": "markdown",
   "metadata": {
    "deletable": false,
    "editable": false,
    "nbgrader": {
     "checksum": "748123b5818848ee9f2a9c15be1b0ebf",
     "grade": false,
     "grade_id": "cell-67bf820f43d30c7d",
     "locked": true,
     "schema_version": 1,
     "solution": false
    }
   },
   "source": [
    "***\n",
    "## Autograder for quesion 2(a): Do not edit code below. "
   ]
  },
  {
   "cell_type": "code",
   "execution_count": 57,
   "metadata": {
    "deletable": false,
    "editable": false,
    "nbgrader": {
     "checksum": "4d22bf97981848ddef5f571de1c32e72",
     "grade": true,
     "grade_id": "cell-d4ddaf2aded6b2ff",
     "locked": true,
     "points": 20,
     "schema_version": 1,
     "solution": false
    }
   },
   "outputs": [
    {
     "data": {
      "text/html": [
       "<font color=\"green\"> All tests succeeded! </font>"
      ],
      "text/plain": [
       "<IPython.core.display.HTML object>"
      ]
     },
     "metadata": {},
     "output_type": "display_data"
    }
   ],
   "source": [
    "## DO NOT EDIT TESTING CODE FOR YOUR ANSWER ABOVE\n",
    "# Press shift enter to test your code. Ensure that your code has been saved first by pressing shift+enter on the previous cell.\n",
    "from IPython.display import display, HTML\n",
    "def test_insert():\n",
    "    failed = False\n",
    "    test_cases = [ # (Input Array, Inserted Number, Expected Output)\n",
    "            ([1,3,6,8,10], 4 , [1,3,4,6,8,10]),\n",
    "            ([1,1,1,1,3,3,5,5,7,7], 1, [1,1,1,1,1,3,3,5,5,7,7]),\n",
    "            ([-10,9,15,18,35,44], 47, [-10, 9, 15, 18, 35, 44, 47]),\n",
    "            ([], 10, [10]),\n",
    "            ([-10, 9, 10, 20, 35], -20, [-20, -10, 9, 10, 20, 35]),\n",
    "            ([0,0,0,0,0,0], 0, [0,0,0,0,0,0,0])]\n",
    "    for (test_array, j, expected_output) in test_cases:\n",
    "        obtained_output = insert_into(test_array, j)\n",
    "        if obtained_output != expected_output:\n",
    "            s1 = '<font color=\\\"red\\\"> Failed - test case: Inputs: a=' + str(test_array)+ ' j=' + str(j)\n",
    "            s2 = '  <b> Expected Output: </b> ' + str(expected_output) + ' Your code output: ' + str(obtained_output) + ' </font>'\n",
    "            display(HTML(s1+s2))\n",
    "            failed = True\n",
    "            \n",
    "    if failed:\n",
    "        display(HTML('<font color=\"red\"> One or more tests failed. </font>'))\n",
    "    else:\n",
    "        display(HTML('<font color=\"green\"> All tests succeeded! </font>'))\n",
    "test_insert()"
   ]
  }
 ],
 "metadata": {
  "kernelspec": {
   "display_name": "Python 3",
   "language": "python",
   "name": "python3"
  },
  "language_info": {
   "codemirror_mode": {
    "name": "ipython",
    "version": 3
   },
   "file_extension": ".py",
   "mimetype": "text/x-python",
   "name": "python",
   "nbconvert_exporter": "python",
   "pygments_lexer": "ipython3",
   "version": "3.11.7"
  }
 },
 "nbformat": 4,
 "nbformat_minor": 2
}
