{
 "cells": [
  {
   "cell_type": "markdown",
   "metadata": {},
   "source": [
    "# CSPB 3104 Assignment 11:\n",
    "## Instructions\n",
    "\n",
    "> This assignment is to be completed and uploaded to \n",
    "moodle as a python3 notebook. \n",
    "\n",
    "> Submission deadlines are posted on moodle. \n",
    "\n",
    "> The questions  provided  below will ask you to either write code or \n",
    "write answers in the form of markdown.\n",
    "\n",
    "> Markdown syntax guide is here: [click here](https://github.com/adam-p/markdown-here/wiki/Markdown-Cheatsheet)\n",
    "\n",
    "> Using markdown you can typeset formulae using latex.\n",
    "\n",
    "> This way you can write nice readable answers with formulae like thus:\n",
    "\n",
    ">> The algorithm runs in time $\\Theta\\left(n^{2.1\\log_2(\\log_2( n \\log^*(n)))}\\right)$, \n",
    "wherein $\\log^*(n)$ is the inverse _Ackerman_ function.\n",
    "\n",
    "__Double click anywhere on this box to find out how your instructor typeset it. Press Shift+Enter to go back.__\n"
   ]
  },
  {
   "cell_type": "markdown",
   "metadata": {},
   "source": [
    "## Question 1: Box Constrained Linear Program\n",
    "\n",
    "A box-constrained linear program is a problem of the following form:\n",
    "\n",
    "$$ \\begin{array}{rl}\n",
    "\\max & c_1 x_1 + \\cdots + c_n x_n \\\\\n",
    "\\mathsf{s.t.} & l_1 \\leq x_1 \\leq u_1 \\\\\n",
    "& l_2 \\leq x_2 \\leq u_2 \\\\\n",
    "& \\ddots \\\\\n",
    "& l_n \\leq x_n \\leq u_n \\\\\n",
    "\\end{array}$$\n",
    "\n",
    "In other words, each variable $x_i$ is constrained between lower limit $l_i$ and upper limit $u_i$.\n",
    "Given a box constrained LP, write down a linear time $\\Theta(n)$ algorithm to find its optimal solution."
   ]
  },
  {
   "cell_type": "markdown",
   "metadata": {},
   "source": [
    "### Answer (Expected Length: 3 lines)\n",
    "\n",
    "__Your answer here__"
   ]
  },
  {
   "cell_type": "markdown",
   "metadata": {},
   "source": [
    "----"
   ]
  },
  {
   "cell_type": "markdown",
   "metadata": {},
   "source": [
    "## Question 2: Budget Allocation Problem\n",
    "\n",
    "There are $n$ communities in a city, $C_1, \\ldots, C_k$, with population $P_1, \\ldots, P_k$. \n",
    "The average daily income per capita for each community is given by $I_1, \\ldots, I_k$.\n",
    "The development budget $B$ dollars of the city is to be distributed between these communities following state law\n",
    "which stipulates the following constraints:\n",
    "\n",
    "  - The budget as a whole must be spent (no borrowing or saving allowed).\n",
    "  - The fair share fraction $f_i$ for a community $C_i$ is defined as $\\frac{P_i}{\\sum_{j=1}^k P_j}$.\n",
    "  - No community may receive an allocation that exceeds $1.1 f_i B$ or is lower than $0.9 f_i B$.\n",
    "  - Let $x_j$ be the allocation for community $C_j$. The overall allocation should be progressive to maximize the overall welfare formula given by $ \\sum_{j=1}^n \\frac{P_j}{I_j} x_j $.\n",
    "  \n",
    "\n",
    "Formulate the budget allocation problem as a linear program.\n",
    "\n",
    "Write down the LP for the data below.\n",
    "Use your favorite solver (Excel, GLPSOL, online solver)\n",
    "to solve the problem for the following data:\n",
    "\n",
    "$$\\begin{array}{ccccccc}\n",
    "\\hline\n",
    "ID & C_1 & C_2 & C_3 & C_4 & C_5 \\\\\n",
    "\\hline\n",
    "P_j & 50000 & 120000 & 110000 & 130000& 80000\\\\\n",
    "I_j & 250 & 125 & 200 & 90 & 280 \\\\\n",
    "\\hline\n",
    "\\end{array}$$\n",
    " \n",
    "The total budget in millions is $53$ million.\n"
   ]
  },
  {
   "cell_type": "markdown",
   "metadata": {},
   "source": [
    "### Answer 2 (Expected Length: 6 lines)\n",
    "\n",
    "__Your answer here__"
   ]
  },
  {
   "cell_type": "markdown",
   "metadata": {},
   "source": [
    "----"
   ]
  },
  {
   "cell_type": "markdown",
   "metadata": {},
   "source": [
    "## Question 3: 0-1 Integer Linear Programming\n",
    "\n",
    "A 0-1 integer linear program is an optimization problem involving binary variables\n",
    "$x_1, \\ldots, x_n \\in \\{0,1\\}^n$ as follows:\n",
    "\n",
    "$$\\begin{array}{rll}\n",
    "\\max & c_1 x_1 + \\cdots + c_n x_n \\\\\n",
    "\\mathsf{s.t} & a_{11} x_1 + \\cdots + a_{1n} x_n & \\leq b_1 \\\\\n",
    "& \\; \\; \\; \\; \\; \\; \\; \\; \\; \\;  \\ddots & \\\\\n",
    "& a_{m1} x_1  + \\cdots + a_{mn} x_n & \\leq b_m \\\\\n",
    "& x_1, \\ldots, x_n & \\in \\{0,1\\}\\\\\n",
    "\\end{array}$$\n",
    "\n",
    "You may think of it as a linear program but with variables restricted to take on values in the\n",
    "set $\\{0,1\\}$.\n",
    "\n",
    "The 0-1 ILP problem takes as an input (a) description of the problem (variables, objectives and constraints) and\n",
    "(b) limit $L$ and decides whether there exists a solution for the variables satisfying the constraints such that\n",
    "the objective value $\\geq L$.\n",
    "\n",
    "Show that 0-1 ILP problem is NP-Complete. (*Hint* Directly encode a 3-CNF-SAT clause as an inequality).\n",
    "\n"
   ]
  },
  {
   "cell_type": "markdown",
   "metadata": {},
   "source": [
    "### Answer (Expected Length: 10 lines)\n",
    "\n",
    "__Your answer here__\n"
   ]
  },
  {
   "cell_type": "markdown",
   "metadata": {},
   "source": [
    "----"
   ]
  },
  {
   "cell_type": "markdown",
   "metadata": {},
   "source": [
    "## Question 4: Independent Set\n",
    "\n",
    "An _independent set_ in a graph $G= (V,E)$ is a set of vertices $I \\subseteq V$ such that each edge in $E$ is incident to at most one vertex in $I$. That is, an independent set is a set of vertices where no two vertices are adjacent.\n",
    "\n",
    "The _$k$-independent set problem_ is to determine if a graph has an independent set of size at least $k$.\n",
    "\n",
    "(A) Show that the $k$-independent set problem is NP-Complete by reducing from the $3$-CNF-SAT problem.\n",
    "\n",
    "(B) Show that the $k$-independent set problem is NP-Complete by reducing from the $k$-clique problem.\n",
    "\n"
   ]
  },
  {
   "cell_type": "markdown",
   "metadata": {},
   "source": [
    "### Answer (Expected Length: 10 lines)\n",
    "\n",
    "__Your answer here__\n"
   ]
  },
  {
   "cell_type": "markdown",
   "metadata": {},
   "source": [
    "----"
   ]
  },
  {
   "cell_type": "markdown",
   "metadata": {},
   "source": [
    "## Testing your solutions -- Do not edit code beyond this point"
   ]
  },
  {
   "cell_type": "code",
   "execution_count": null,
   "metadata": {},
   "outputs": [],
   "source": []
  }
 ],
 "metadata": {
  "kernelspec": {
   "display_name": "Python 3",
   "language": "python",
   "name": "python3"
  },
  "language_info": {
   "codemirror_mode": {
    "name": "ipython",
    "version": 3
   },
   "file_extension": ".py",
   "mimetype": "text/x-python",
   "name": "python",
   "nbconvert_exporter": "python",
   "pygments_lexer": "ipython3",
   "version": "3.6.9"
  }
 },
 "nbformat": 4,
 "nbformat_minor": 4
}
