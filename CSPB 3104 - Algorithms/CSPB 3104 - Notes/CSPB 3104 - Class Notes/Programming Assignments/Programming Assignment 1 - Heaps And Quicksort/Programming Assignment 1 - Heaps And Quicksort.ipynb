{
 "cells": [
  {
   "cell_type": "markdown",
   "metadata": {},
   "source": [
    "# Programming Assignment \\# 1\n",
    "\n",
    "__Goal:__ \n",
    "\n",
    "This programming assignment will ask you to do the following tasks.\n",
    "\n",
    "(a) Implement some of the sorting algorithms for sorting integer data in ascending order in python3.\n",
    "  - Simple sort (implemented for you)\n",
    "  - Bubble Sort (read from book or online sources)\n",
    "  - Merge Sort\n",
    "  - Quicksort \n",
    "  \n",
    "  \n",
    "(b) Your implementation must count the number of *compare* operations each sorting algorithm carries out.\n",
    "    \n",
    "(c) You must formulate a series of arrays of lengths from $5$ to $100$  (step by 5), that will form the worst case of these\n",
    "sorting algorithms and plot the number of comparisons in the __worst case__ vs. size of input array (x axis)\n",
    " \n",
    "(d) Generate $1000$ random inputs for each size and compute average time. Plot the size of input array (x axis) vs. number of comparisons (y axis)"
   ]
  },
  {
   "cell_type": "markdown",
   "metadata": {},
   "source": [
    "----\n",
    "## Simple Sort"
   ]
  },
  {
   "cell_type": "code",
   "execution_count": 3,
   "metadata": {},
   "outputs": [],
   "source": [
    "%matplotlib inline\n",
    "import matplotlib\n",
    "import numpy as np\n",
    "import matplotlib.pyplot as plt\n",
    "\n",
    "def simple_sort(a):\n",
    "    # must sort the array a in place and return the number of comparisons\n",
    "    num_compare = 0\n",
    "    n = len(a)\n",
    "    for i in range(0, n): # i goes from 0 to n-1\n",
    "        for j in range(i+1, n): # j goes from i+1 to n-1\n",
    "            num_compare = num_compare + 1\n",
    "            if a[i] >= a[j]:\n",
    "                # swap\n",
    "                a[i], a[j] = a[j], a[i]\n",
    "    return num_compare"
   ]
  },
  {
   "cell_type": "code",
   "execution_count": 4,
   "metadata": {},
   "outputs": [
    {
     "name": "stdout",
     "output_type": "stream",
     "text": [
      "Num Comparison =  45\n",
      "Sorted Result =  [-2, -1, 1, 2, 3, 3, 4, 10, 15, 29]\n"
     ]
    }
   ],
   "source": [
    "# TESTING CODE\n",
    "a = [3, 10, 1, 29, -1, 4, 3, 15, 2, -2]\n",
    "nc = simple_sort(a)\n",
    "print('Num Comparison = ', nc)\n",
    "print('Sorted Result = ', a)"
   ]
  },
  {
   "cell_type": "markdown",
   "metadata": {},
   "source": [
    "### Complexity analysis of simple sort.\n",
    "\n",
    "Note that simple sort consists of two loops and regardless of the input array, the first loop runs from n steps. And the second loop runs $n-i-1$ steps where $i$ is the index of the first loop. Thus, the worst case, best case and average case complexity should be $\\sum_{j=1}^{n-1} j = \\frac{n(n-1)}{2}$ comparisons = $\\Theta(n^2)$\n",
    "\n",
    "The code below plots it for arrays of size 5, 10, ..., 100. However, we cannot really distinguish between the number of comparisons for randomized vs. worst case."
   ]
  },
  {
   "cell_type": "code",
   "execution_count": 15,
   "metadata": {},
   "outputs": [
    {
     "data": {
      "image/png": "[encoded data removed]",
      "text/plain": [
       "<Figure size 432x288 with 1 Axes>"
      ]
     },
     "metadata": {},
     "output_type": "display_data"
    }
   ],
   "source": [
    "import random\n",
    "\n",
    "# CODE TO GENERATE WORST CASE\n",
    "array_sizes = range(5, 100, 5)\n",
    "\n",
    "# Code for creating an already sorted array\n",
    "def create_ascending_sorted_array(a_size):\n",
    "    a = []\n",
    "    for i in range(a_size):\n",
    "        a.append(i)\n",
    "    return a\n",
    "\n",
    "# Code for creating a random array\n",
    "def create_random_shuffled_array(a_size):\n",
    "    a = list(range(a_size))\n",
    "    random.shuffle(a)\n",
    "    return a\n",
    "\n",
    "\n",
    "# Code for running sorting and generating number of compares\n",
    "num_compares_wc = []\n",
    "for n in array_sizes:\n",
    "    a = create_ascending_sorted_array(n)\n",
    "    nc = simple_sort(a)\n",
    "    num_compares_wc.append(nc)\n",
    "    \n",
    "# Randomized comparisons\n",
    "num_compares_random = []\n",
    "num_trials = 1000\n",
    "for n in array_sizes:\n",
    "    total = 0\n",
    "    for m in range(num_trials):\n",
    "        a = create_random_shuffled_array(n)\n",
    "        nc = simple_sort(a)\n",
    "        total = total + nc\n",
    "    avg = total / num_trials\n",
    "    num_compares_random.append(avg)\n",
    "# Code for plotting\n",
    "\n",
    "plt.plot(array_sizes, num_compares_wc, label='Worst Case')\n",
    "plt.plot(array_sizes, num_compares_random, label='Average Case')\n",
    "plt.legend(['Worst Case', 'Average Case'])\n",
    "plt.title('Simple Sort (Worst and Average Cases)')\n",
    "plt.xlabel('Array Size')\n",
    "plt.ylabel('Number of Comparisons')\n",
    "\n",
    "plt.show()"
   ]
  },
  {
   "cell_type": "markdown",
   "metadata": {},
   "source": [
    "----\n",
    "\n",
    "### Bubble Sort"
   ]
  },
  {
   "cell_type": "code",
   "execution_count": 21,
   "metadata": {},
   "outputs": [],
   "source": [
    "def bubble_sort(a):\n",
    "    # Implement code to bubble sort the given array a in place.\n",
    "    # Also return the number of comparisons. \n",
    "    num_compares = 0\n",
    "    # ... blah blah blah .. \n",
    "    return num_compares"
   ]
  },
  {
   "cell_type": "markdown",
   "metadata": {},
   "source": [
    "### Complexity Analysis of Bubble Sort\n",
    "\n",
    "__Todo: explain what the worst and average cases are. Explain how you would craft inputs for the worst case __"
   ]
  },
  {
   "cell_type": "code",
   "execution_count": 26,
   "metadata": {},
   "outputs": [],
   "source": [
    "## WRITE CODE HERE TO GENERATE WORST CASE and AVERAGE CASE INPUTS/PLOT\n",
    "## You may cut and paste from code we provided or directly call them"
   ]
  },
  {
   "cell_type": "markdown",
   "metadata": {},
   "source": [
    "----\n",
    "### Merge Sort"
   ]
  },
  {
   "cell_type": "code",
   "execution_count": 20,
   "metadata": {},
   "outputs": [],
   "source": [
    "def merge_sort(a):\n",
    "    # Implement the code for merge sort\n",
    "    # Use a function merge_sort_recursive to implement the recursive call\n",
    "    # Be careful in counting number of comparisons since you should include comparisons in the merge part.\n",
    "    # Also: code needs to sort the array a. You may have to copy things over from a temp array back into a.\n",
    "    return merge_sort_recursive(a, 0, len(a)-1)"
   ]
  },
  {
   "cell_type": "markdown",
   "metadata": {},
   "source": [
    "### Complexity Analysis of Merge Sort\n",
    "\n",
    "__Todo: explain what the worst and average cases are. Explain how you would craft inputs for the worst case __\n"
   ]
  },
  {
   "cell_type": "code",
   "execution_count": 17,
   "metadata": {},
   "outputs": [],
   "source": [
    "## WRITE CODE HERE TO GENERATE WORST CASE and AVERAGE CASE INPUTS/PLOT\n",
    "## You may cut and paste from code we provided or directly call them"
   ]
  },
  {
   "cell_type": "markdown",
   "metadata": {},
   "source": [
    "----\n",
    "### Quick Sort\n"
   ]
  },
  {
   "cell_type": "code",
   "execution_count": 18,
   "metadata": {},
   "outputs": [],
   "source": [
    "def quick_sort(a):\n",
    "    # Implement code for quick sort\n",
    "    # Must sort the array a in place\n",
    "    # Must return the number of comparisons\n",
    "    return # you can implement it how you wish"
   ]
  },
  {
   "cell_type": "markdown",
   "metadata": {},
   "source": [
    "### Complexity Analysis of Quick Sort\n",
    "\n",
    "__Todo: explain what the worst and average cases are. Explain how you would craft inputs for the worst case __\n"
   ]
  },
  {
   "cell_type": "code",
   "execution_count": 19,
   "metadata": {},
   "outputs": [],
   "source": [
    "## WRITE CODE HERE TO GENERATE WORST CASE and AVERAGE CASE INPUTS/PLOT\n",
    "## You may cut and paste from code we provided or directly call them"
   ]
  },
  {
   "cell_type": "markdown",
   "metadata": {},
   "source": [
    "-----\n",
    "## Testing Code: Do not edit\n",
    "\n"
   ]
  },
  {
   "cell_type": "code",
   "execution_count": 23,
   "metadata": {},
   "outputs": [],
   "source": [
    "def test_sorting_algorithm(sort_fun, sz, num_trials):\n",
    "    num_passed = 0\n",
    "    for i in range(num_trials):\n",
    "        a = create_random_shuffled_array(sz)\n",
    "        a_orig = list(a) # make a copy\n",
    "        b = sorted(a)\n",
    "        nc = sort_fun(a)\n",
    "        if a == b:\n",
    "            num_passed = num_passed + 1\n",
    "        else:\n",
    "            print('----')\n",
    "            print('FAILED: Input = ', a_orig)\n",
    "            print('Expected: ', b)\n",
    "            print('Obtained:', a)\n",
    "            print('----')\n",
    "    print('Num Trials = ', num_trials)\n",
    "    print('Num Passed = ', num_passed)"
   ]
  },
  {
   "cell_type": "code",
   "execution_count": 24,
   "metadata": {},
   "outputs": [
    {
     "name": "stdout",
     "output_type": "stream",
     "text": [
      "Num Trials =  100\n",
      "Num Passed =  100\n"
     ]
    }
   ],
   "source": [
    "test_sorting_algorithm(simple_sort, 50, 100)"
   ]
  },
  {
   "cell_type": "code",
   "execution_count": 25,
   "metadata": {},
   "outputs": [
    {
     "name": "stdout",
     "output_type": "stream",
     "text": [
      "----\n",
      "FAILED: Input =  [9, 8, 5, 4, 3, 6, 7, 1, 0, 2]\n",
      "Expected:  [0, 1, 2, 3, 4, 5, 6, 7, 8, 9]\n",
      "Obtained: [9, 8, 5, 4, 3, 6, 7, 1, 0, 2]\n",
      "----\n",
      "----\n",
      "FAILED: Input =  [3, 9, 8, 4, 0, 5, 6, 2, 7, 1]\n",
      "Expected:  [0, 1, 2, 3, 4, 5, 6, 7, 8, 9]\n",
      "Obtained: [3, 9, 8, 4, 0, 5, 6, 2, 7, 1]\n",
      "----\n",
      "----\n",
      "FAILED: Input =  [1, 6, 8, 2, 4, 0, 7, 5, 9, 3]\n",
      "Expected:  [0, 1, 2, 3, 4, 5, 6, 7, 8, 9]\n",
      "Obtained: [1, 6, 8, 2, 4, 0, 7, 5, 9, 3]\n",
      "----\n",
      "----\n",
      "FAILED: Input =  [5, 9, 2, 7, 0, 8, 4, 6, 3, 1]\n",
      "Expected:  [0, 1, 2, 3, 4, 5, 6, 7, 8, 9]\n",
      "Obtained: [5, 9, 2, 7, 0, 8, 4, 6, 3, 1]\n",
      "----\n",
      "----\n",
      "FAILED: Input =  [3, 2, 0, 8, 5, 9, 6, 4, 7, 1]\n",
      "Expected:  [0, 1, 2, 3, 4, 5, 6, 7, 8, 9]\n",
      "Obtained: [3, 2, 0, 8, 5, 9, 6, 4, 7, 1]\n",
      "----\n",
      "----\n",
      "FAILED: Input =  [0, 2, 1, 9, 8, 6, 4, 7, 3, 5]\n",
      "Expected:  [0, 1, 2, 3, 4, 5, 6, 7, 8, 9]\n",
      "Obtained: [0, 2, 1, 9, 8, 6, 4, 7, 3, 5]\n",
      "----\n",
      "----\n",
      "FAILED: Input =  [0, 6, 3, 1, 9, 7, 5, 2, 4, 8]\n",
      "Expected:  [0, 1, 2, 3, 4, 5, 6, 7, 8, 9]\n",
      "Obtained: [0, 6, 3, 1, 9, 7, 5, 2, 4, 8]\n",
      "----\n",
      "----\n",
      "FAILED: Input =  [7, 3, 5, 4, 9, 6, 0, 1, 8, 2]\n",
      "Expected:  [0, 1, 2, 3, 4, 5, 6, 7, 8, 9]\n",
      "Obtained: [7, 3, 5, 4, 9, 6, 0, 1, 8, 2]\n",
      "----\n",
      "----\n",
      "FAILED: Input =  [5, 9, 4, 8, 6, 1, 7, 3, 0, 2]\n",
      "Expected:  [0, 1, 2, 3, 4, 5, 6, 7, 8, 9]\n",
      "Obtained: [5, 9, 4, 8, 6, 1, 7, 3, 0, 2]\n",
      "----\n",
      "----\n",
      "FAILED: Input =  [2, 1, 4, 0, 5, 7, 3, 9, 8, 6]\n",
      "Expected:  [0, 1, 2, 3, 4, 5, 6, 7, 8, 9]\n",
      "Obtained: [2, 1, 4, 0, 5, 7, 3, 9, 8, 6]\n",
      "----\n",
      "Num Trials =  10\n",
      "Num Passed =  0\n"
     ]
    }
   ],
   "source": [
    "test_sorting_algorithm(bubble_sort, 10, 10)"
   ]
  },
  {
   "cell_type": "code",
   "execution_count": 28,
   "metadata": {},
   "outputs": [
    {
     "ename": "NameError",
     "evalue": "name 'merge_sort_recursive' is not defined",
     "output_type": "error",
     "traceback": [
      "\u001b[0;31m---------------------------------------------------------------------------\u001b[0m",
      "\u001b[0;31mNameError\u001b[0m                                 Traceback (most recent call last)",
      "\u001b[0;32m<ipython-input-28-9e06f1dd96aa>\u001b[0m in \u001b[0;36m<module>\u001b[0;34m()\u001b[0m\n\u001b[0;32m----> 1\u001b[0;31m \u001b[0mtest_sorting_algorithm\u001b[0m\u001b[0;34m(\u001b[0m\u001b[0mmerge_sort\u001b[0m\u001b[0;34m,\u001b[0m \u001b[0;36m10\u001b[0m\u001b[0;34m,\u001b[0m \u001b[0;36m10\u001b[0m\u001b[0;34m)\u001b[0m\u001b[0;34m\u001b[0m\u001b[0m\n\u001b[0m",
      "\u001b[0;32m<ipython-input-23-15703f38a571>\u001b[0m in \u001b[0;36mtest_sorting_algorithm\u001b[0;34m(sort_fun, sz, num_trials)\u001b[0m\n\u001b[1;32m      5\u001b[0m         \u001b[0ma_orig\u001b[0m \u001b[0;34m=\u001b[0m \u001b[0mlist\u001b[0m\u001b[0;34m(\u001b[0m\u001b[0ma\u001b[0m\u001b[0;34m)\u001b[0m \u001b[0;31m# make a copy\u001b[0m\u001b[0;34m\u001b[0m\u001b[0m\n\u001b[1;32m      6\u001b[0m         \u001b[0mb\u001b[0m \u001b[0;34m=\u001b[0m \u001b[0msorted\u001b[0m\u001b[0;34m(\u001b[0m\u001b[0ma\u001b[0m\u001b[0;34m)\u001b[0m\u001b[0;34m\u001b[0m\u001b[0m\n\u001b[0;32m----> 7\u001b[0;31m         \u001b[0mnc\u001b[0m \u001b[0;34m=\u001b[0m \u001b[0msort_fun\u001b[0m\u001b[0;34m(\u001b[0m\u001b[0ma\u001b[0m\u001b[0;34m)\u001b[0m\u001b[0;34m\u001b[0m\u001b[0m\n\u001b[0m\u001b[1;32m      8\u001b[0m         \u001b[0;32mif\u001b[0m \u001b[0ma\u001b[0m \u001b[0;34m==\u001b[0m \u001b[0mb\u001b[0m\u001b[0;34m:\u001b[0m\u001b[0;34m\u001b[0m\u001b[0m\n\u001b[1;32m      9\u001b[0m             \u001b[0mnum_passed\u001b[0m \u001b[0;34m=\u001b[0m \u001b[0mnum_passed\u001b[0m \u001b[0;34m+\u001b[0m \u001b[0;36m1\u001b[0m\u001b[0;34m\u001b[0m\u001b[0m\n",
      "\u001b[0;32m<ipython-input-20-2c2d7a21f43e>\u001b[0m in \u001b[0;36mmerge_sort\u001b[0;34m(a)\u001b[0m\n\u001b[1;32m      4\u001b[0m     \u001b[0;31m# Be careful in counting number of comparisons since you should include comparisons in the merge part.\u001b[0m\u001b[0;34m\u001b[0m\u001b[0;34m\u001b[0m\u001b[0m\n\u001b[1;32m      5\u001b[0m     \u001b[0;31m# Also: code needs to sort the array a. You may have to copy things over from a temp array back into a.\u001b[0m\u001b[0;34m\u001b[0m\u001b[0;34m\u001b[0m\u001b[0m\n\u001b[0;32m----> 6\u001b[0;31m     \u001b[0;32mreturn\u001b[0m \u001b[0mmerge_sort_recursive\u001b[0m\u001b[0;34m(\u001b[0m\u001b[0ma\u001b[0m\u001b[0;34m,\u001b[0m \u001b[0;36m0\u001b[0m\u001b[0;34m,\u001b[0m \u001b[0mlen\u001b[0m\u001b[0;34m(\u001b[0m\u001b[0ma\u001b[0m\u001b[0;34m)\u001b[0m\u001b[0;34m-\u001b[0m\u001b[0;36m1\u001b[0m\u001b[0;34m)\u001b[0m\u001b[0;34m\u001b[0m\u001b[0m\n\u001b[0m",
      "\u001b[0;31mNameError\u001b[0m: name 'merge_sort_recursive' is not defined"
     ]
    }
   ],
   "source": [
    "test_sorting_algorithm(merge_sort, 10, 10)"
   ]
  },
  {
   "cell_type": "code",
   "execution_count": 29,
   "metadata": {},
   "outputs": [
    {
     "name": "stdout",
     "output_type": "stream",
     "text": [
      "----\n",
      "FAILED: Input =  [1, 7, 0, 8, 5, 2, 9, 4, 3, 6]\n",
      "Expected:  [0, 1, 2, 3, 4, 5, 6, 7, 8, 9]\n",
      "Obtained: [1, 7, 0, 8, 5, 2, 9, 4, 3, 6]\n",
      "----\n",
      "----\n",
      "FAILED: Input =  [7, 8, 6, 2, 9, 4, 1, 3, 5, 0]\n",
      "Expected:  [0, 1, 2, 3, 4, 5, 6, 7, 8, 9]\n",
      "Obtained: [7, 8, 6, 2, 9, 4, 1, 3, 5, 0]\n",
      "----\n",
      "----\n",
      "FAILED: Input =  [4, 6, 7, 0, 2, 1, 3, 9, 5, 8]\n",
      "Expected:  [0, 1, 2, 3, 4, 5, 6, 7, 8, 9]\n",
      "Obtained: [4, 6, 7, 0, 2, 1, 3, 9, 5, 8]\n",
      "----\n",
      "----\n",
      "FAILED: Input =  [4, 7, 5, 1, 2, 0, 8, 9, 6, 3]\n",
      "Expected:  [0, 1, 2, 3, 4, 5, 6, 7, 8, 9]\n",
      "Obtained: [4, 7, 5, 1, 2, 0, 8, 9, 6, 3]\n",
      "----\n",
      "----\n",
      "FAILED: Input =  [2, 5, 7, 4, 9, 6, 1, 0, 8, 3]\n",
      "Expected:  [0, 1, 2, 3, 4, 5, 6, 7, 8, 9]\n",
      "Obtained: [2, 5, 7, 4, 9, 6, 1, 0, 8, 3]\n",
      "----\n",
      "----\n",
      "FAILED: Input =  [1, 7, 9, 4, 0, 3, 6, 5, 2, 8]\n",
      "Expected:  [0, 1, 2, 3, 4, 5, 6, 7, 8, 9]\n",
      "Obtained: [1, 7, 9, 4, 0, 3, 6, 5, 2, 8]\n",
      "----\n",
      "----\n",
      "FAILED: Input =  [8, 9, 7, 5, 2, 1, 0, 4, 3, 6]\n",
      "Expected:  [0, 1, 2, 3, 4, 5, 6, 7, 8, 9]\n",
      "Obtained: [8, 9, 7, 5, 2, 1, 0, 4, 3, 6]\n",
      "----\n",
      "----\n",
      "FAILED: Input =  [2, 5, 6, 9, 1, 3, 0, 8, 4, 7]\n",
      "Expected:  [0, 1, 2, 3, 4, 5, 6, 7, 8, 9]\n",
      "Obtained: [2, 5, 6, 9, 1, 3, 0, 8, 4, 7]\n",
      "----\n",
      "----\n",
      "FAILED: Input =  [7, 6, 5, 0, 3, 1, 9, 2, 8, 4]\n",
      "Expected:  [0, 1, 2, 3, 4, 5, 6, 7, 8, 9]\n",
      "Obtained: [7, 6, 5, 0, 3, 1, 9, 2, 8, 4]\n",
      "----\n",
      "----\n",
      "FAILED: Input =  [5, 1, 6, 9, 7, 3, 4, 2, 8, 0]\n",
      "Expected:  [0, 1, 2, 3, 4, 5, 6, 7, 8, 9]\n",
      "Obtained: [5, 1, 6, 9, 7, 3, 4, 2, 8, 0]\n",
      "----\n",
      "Num Trials =  10\n",
      "Num Passed =  0\n"
     ]
    }
   ],
   "source": [
    "test_sorting_algorithm(quick_sort, 10, 10)"
   ]
  },
  {
   "cell_type": "code",
   "execution_count": null,
   "metadata": {},
   "outputs": [],
   "source": []
  }
 ],
 "metadata": {
  "kernelspec": {
   "display_name": "Python 3",
   "language": "python",
   "name": "python3"
  },
  "language_info": {
   "codemirror_mode": {
    "name": "ipython",
    "version": 3
   },
   "file_extension": ".py",
   "mimetype": "text/x-python",
   "name": "python",
   "nbconvert_exporter": "python",
   "pygments_lexer": "ipython3",
   "version": "3.6.5"
  }
 },
 "nbformat": 4,
 "nbformat_minor": 2
}
