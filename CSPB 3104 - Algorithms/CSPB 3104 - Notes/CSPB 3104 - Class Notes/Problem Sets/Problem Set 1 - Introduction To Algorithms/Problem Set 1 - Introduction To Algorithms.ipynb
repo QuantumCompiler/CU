{
 "cells": [
  {
   "cell_type": "markdown",
   "metadata": {
    "deletable": false,
    "editable": false,
    "nbgrader": {
     "checksum": "36fbbc00986735486d428ea2568edd2e",
     "grade": false,
     "grade_id": "cell-086e405e17c8a0df",
     "locked": true,
     "schema_version": 1,
     "solution": false
    }
   },
   "source": [
    "# CSCI 3104 Assignment 1:"
   ]
  },
  {
   "cell_type": "markdown",
   "metadata": {
    "deletable": false,
    "editable": false,
    "nbgrader": {
     "checksum": "0080687169369e2f3ed274d2627409bf",
     "grade": false,
     "grade_id": "cell-598c4569950c61cd",
     "locked": true,
     "schema_version": 1,
     "solution": false
    }
   },
   "source": [
    "***\n",
    "# Instructions\n",
    "\n",
    "This assignment is to be completed as a python3 notebook.  When you upload, please upload the completed notebook (ipynb file).\n",
    "\n",
    "The questions  provided  below will ask you to either write code or \n",
    "write answers in the form of markdown.\n",
    "\n",
    " Markdown syntax guide is here: [click here](https://github.com/adam-p/markdown-here/wiki/Markdown-Cheatsheet)\n",
    "\n",
    "Using markdown you can typeset formulae using latex.\n",
    "This way you can write nice readable answers with formulae like thus:\n",
    "\n",
    "The algorithm runs in time $\\Theta\\left(n^{2.1\\log_2(\\log_2( n \\log^*(n)))}\\right)$, \n",
    "where $\\log^*(n)$ is the inverse _Ackerman_ function.\n",
    "\n",
    "__Double click anywhere on this box to find out how your instructor typeset it. Press Shift+Enter to go back.__\n",
    "\n",
    "***"
   ]
  },
  {
   "cell_type": "markdown",
   "metadata": {
    "deletable": false,
    "editable": false,
    "nbgrader": {
     "checksum": "e732462e4eeb2d4845707309687bdd53",
     "grade": false,
     "grade_id": "cell-9f589cc259529ba9",
     "locked": true,
     "schema_version": 1,
     "solution": false
    }
   },
   "source": [
    "## Question 1 : Everyday Algorithms.\n",
    "\n",
    "  Write down a ten sentence description of an algorithm that drives an important\n",
    "piece of technology that you encounter in your every day life. \n",
    "Research on the Internet to find out what sort of algorithms can solve the \n",
    "core problem behind the technology and how it works.\n",
    "\n",
    "__Examples:__ \n",
    "> 1. Auto-complete feature when typing text messages on my iphone, \n",
    "> 2. My email service automatically tags dates/times so that I could insert \n",
    "them in my calendar, or \n",
    "> 3. My python IDE automatically takes me to a function's code from a call site."
   ]
  },
  {
   "cell_type": "markdown",
   "metadata": {
    "deletable": false,
    "nbgrader": {
     "checksum": "f915d99606fadd005dcd7e3c92dd6c9b",
     "grade": true,
     "grade_id": "cell-eb8962afb5074af9",
     "locked": false,
     "points": 20,
     "schema_version": 1,
     "solution": true
    }
   },
   "source": [
    "YOUR ANSWER HERE"
   ]
  },
  {
   "cell_type": "markdown",
   "metadata": {
    "deletable": false,
    "editable": false,
    "nbgrader": {
     "checksum": "bf9b8c7eb79332f10997dc896096fd79",
     "grade": false,
     "grade_id": "cell-067dec7bb19a61b4",
     "locked": true,
     "schema_version": 1,
     "solution": false
    }
   },
   "source": [
    "***\n",
    "## Question 2(a): Insert into a sorted array.\n",
    "\n",
    "Write a python3 function `insert_into(a, j)` that given sorted array `a` and a number `j`,  returns a new array that includes the contents of the original array and the newly inserted element `j`, so that the returned array is also sorted. \n",
    "\n",
    "__You are not allowed to use inbuilt routines in python such as sort. You should also avoid using the list insert method.__\n",
    "\n"
   ]
  },
  {
   "cell_type": "code",
   "execution_count": null,
   "metadata": {
    "deletable": false,
    "nbgrader": {
     "checksum": "3d60bef7bf0ee6950be63148c8b93516",
     "grade": false,
     "grade_id": "cell-bfae6e2483f225f6",
     "locked": false,
     "schema_version": 1,
     "solution": true
    }
   },
   "outputs": [],
   "source": [
    "# Answer 2(a): IMPLEMENT HERE. Each time you edit, do not forget to type shift+enter\n",
    "def insert_into(a, j):\n",
    "    \n",
    "    # YOUR CODE HERE\n",
    "    raise NotImplementedError()\n",
    "\n",
    "\n",
    "# Press Shift enter when you are done with your code"
   ]
  },
  {
   "cell_type": "markdown",
   "metadata": {
    "deletable": false,
    "editable": false,
    "nbgrader": {
     "checksum": "b8c05e659790069201f563bfd0ad7307",
     "grade": false,
     "grade_id": "cell-92203b41f4912683",
     "locked": true,
     "schema_version": 1,
     "solution": false
    }
   },
   "source": [
    "## Question 2(b): Running time of your insertion routine\n",
    "For an input of size $n$, how much time does your routine take to run in the worst case? You can use big-theta notation $\\Theta$ for your answer."
   ]
  },
  {
   "cell_type": "markdown",
   "metadata": {
    "deletable": false,
    "nbgrader": {
     "checksum": "fd1b95e85f22eb6e6d6a3b70b02c793a",
     "grade": true,
     "grade_id": "cell-e20bd727fd810843",
     "locked": false,
     "points": 20,
     "schema_version": 1,
     "solution": true
    }
   },
   "source": [
    "YOUR ANSWER HERE"
   ]
  },
  {
   "cell_type": "markdown",
   "metadata": {
    "deletable": false,
    "editable": false,
    "nbgrader": {
     "checksum": "06f6f051b3507eb4cda09792fac437ad",
     "grade": false,
     "grade_id": "cell-abd155f85d45b068",
     "locked": true,
     "schema_version": 1,
     "solution": false
    }
   },
   "source": [
    "***\n",
    "## Question 3: Tournaments\n",
    "\n",
    "A tennis tournament has $n$ participants who must play matches in rounds to determine a winner. For instance if $n = 100$, then the first round has $50$ matches, the second round has $25$ matches and so on. If the number of players left in a round is odd, then one lucky player is chosen at random to move to the next round without contest.\n",
    "\n",
    "Do not use asymptotic ($O, \\Omega, \\Theta$) notations in your answer below. Provide exact numbers as much as possible.\n",
    "\n",
    "1. Write down a formula involving $n$ for the total number of rounds played? (*Hint*: You should try some values for $n$, before you attempt to derive a formula ).\n",
    "\n",
    "2. Show that the total number of matches played cannot exceed $n$. (*Hint*: write down a series summation for the total number of matches played and use known facts about summation of geometric series ).\n",
    "\n",
    "3. How many matches does the overall winner need to play in the _best case_? \n",
    "\n",
    "4. How many matches does the overall winner need to play in the _worst case_?\n",
    "\n",
    "5. Assume that every player has a unique hidden talent score so that for any match, the higher talent score is always going to win. \n",
    "Is the winner always guaranteed to be the highest talent score? Is the runner up (i.e, the person who lost to the winner in the final match) always the second highest talent score? If your answer is no, illustrate using a counter-example.\n",
    "\n",
    "6. From the answer in 5. design a scheme to identify the second highest talent score among the $n$ participants. Your scheme may select some players and schedule extra matches. (*Hint*: Look up the term _repechage_ in olympics sports)\n"
   ]
  },
  {
   "cell_type": "markdown",
   "metadata": {
    "deletable": false,
    "nbgrader": {
     "checksum": "7fbeef83ad3de88a6701227521b43bda",
     "grade": true,
     "grade_id": "cell-04cfcc6cb37a48fe",
     "locked": false,
     "points": 40,
     "schema_version": 1,
     "solution": true
    }
   },
   "source": [
    "YOUR ANSWER HERE"
   ]
  },
  {
   "cell_type": "markdown",
   "metadata": {
    "deletable": false,
    "editable": false,
    "nbgrader": {
     "checksum": "748123b5818848ee9f2a9c15be1b0ebf",
     "grade": false,
     "grade_id": "cell-67bf820f43d30c7d",
     "locked": true,
     "schema_version": 1,
     "solution": false
    }
   },
   "source": [
    "***\n",
    "## Autograder for quesion 2(a): Do not edit code below. "
   ]
  },
  {
   "cell_type": "code",
   "execution_count": null,
   "metadata": {
    "deletable": false,
    "editable": false,
    "nbgrader": {
     "checksum": "4d22bf97981848ddef5f571de1c32e72",
     "grade": true,
     "grade_id": "cell-d4ddaf2aded6b2ff",
     "locked": true,
     "points": 20,
     "schema_version": 1,
     "solution": false
    }
   },
   "outputs": [],
   "source": [
    "## DO NOT EDIT TESTING CODE FOR YOUR ANSWER ABOVE\n",
    "# Press shift enter to test your code. Ensure that your code has been saved first by pressing shift+enter on the previous cell.\n",
    "from IPython.core.display import display, HTML\n",
    "def test_insert():\n",
    "    failed = False\n",
    "    test_cases = [ # (Input Array, Inserted Number, Expected Output)\n",
    "             ([1,3,6,8,10], 4 , [1,3,4,6,8,10]),\n",
    "             ([1,1,1,1,3,3,5,5,7,7], 1, [1,1,1,1,1,3,3,5,5,7,7]),\n",
    "             ([-10,9,15,18,35,44], 47, [-10, 9, 15, 18, 35, 44, 47]),\n",
    "             ([], 10, [10]),\n",
    "             ([-10, 9, 10, 20, 35], -20, [-20, -10, 9, 10, 20, 35]),\n",
    "             ([0,0,0,0,0,0], 0, [0,0,0,0,0,0,0])]\n",
    "    for (test_array, j, expected_output) in test_cases:\n",
    "        obtained_output = insert_into(test_array, j)\n",
    "        if obtained_output != expected_output:\n",
    "            s1 = '<font color=\\\"red\\\"> Failed - test case: Inputs: a=' + str(test_array)+ ' j=' + str(j)\n",
    "            s2 = '  <b> Expected Output: </b> ' + str(expected_output) + ' Your code output: ' + str(obtained_output) + ' </font>'\n",
    "            display(HTML(s1+s2))\n",
    "            failed = True\n",
    "            \n",
    "    if failed:\n",
    "        display(HTML('<font color=\"red\"> One or more tests failed. </font>'))\n",
    "    else:\n",
    "        display(HTML('<font color=\"green\"> All tests succeeded! </font>'))\n",
    "test_insert()"
   ]
  }
 ],
 "metadata": {
  "kernelspec": {
   "display_name": "Python 3",
   "language": "python",
   "name": "python3"
  },
  "language_info": {
   "codemirror_mode": {
    "name": "ipython",
    "version": 3
   },
   "file_extension": ".py",
   "mimetype": "text/x-python",
   "name": "python",
   "nbconvert_exporter": "python",
   "pygments_lexer": "ipython3",
   "version": "3.7.2"
  }
 },
 "nbformat": 4,
 "nbformat_minor": 2
}
