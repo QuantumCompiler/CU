{
 "cells": [
  {
   "cell_type": "markdown",
   "metadata": {},
   "source": [
    "# CSPB 3104 Assignment 5:"
   ]
  },
  {
   "cell_type": "markdown",
   "metadata": {},
   "source": [
    "***\n",
    "# Instructions\n",
    "\n",
    "This assignment is to be completed as a python3 notebook.  When you upload, please upload the completed notebook (ipynb file).\n",
    "\n",
    "The questions  provided  below will ask you to either write code or \n",
    "write answers in the form of markdown.\n",
    "\n",
    " Markdown syntax guide is here: [click here](https://github.com/adam-p/markdown-here/wiki/Markdown-Cheatsheet)\n",
    "\n",
    "Using markdown you can typeset formulae using latex.\n",
    "This way you can write nice readable answers with formulae like thus:\n",
    "\n",
    "The algorithm runs in time $\\Theta\\left(n^{2.1\\log_2(\\log_2( n \\log^*(n)))}\\right)$, \n",
    "where $\\log^*(n)$ is the inverse _Ackerman_ function.\n",
    "\n",
    "__Double click anywhere on this box to find out how your instructor typeset it. Press Shift+Enter to go back.__\n",
    "\n",
    "***"
   ]
  },
  {
   "cell_type": "markdown",
   "metadata": {},
   "source": [
    "## Question 1: AVL Trees.\n",
    "\n",
    " AVL Trees are yet another self balancing binary search tree (BST) that are sometimes used in the place of  red black trees.\n",
    " The key property of an AVL tree is that \n",
    "\n",
    " *for all nodes $n$ in the tree*, $\\left|\\ \\text{height}(n.\\text{left}) - \\text{height}(n.\\text{right}) \\right| \\leq 1$\n",
    "\n",
    " In words, the height of the left subtree and right subtree at any node can differ by at most $1$.\n",
    " \n",
    " Let $h$ be the height of an AVL tree and $n$ be the number of nodes in the tree.  The goal of this problem is to prove a relationship between $h$ and $n$.  We've broken this into two steps:\n",
    "\n",
    " (A) Prove that $n \\geq F_h$, where $F_h$ is the $h^{th}$ Fibonacci number. ($F_0 = 1, F_1 = 1, F_2 = 2, \\ldots $)\n",
    "  (*Hint* Use strong induction with two base cases. First establish the property for all AVL trees of heights 0 and 1. Next, assuming\n",
    "  it holds for trees of height $\\leq h$, prove it for trees of height $h+1$ ).\n",
    "  \n",
    "  \n",
    "  Next, it is a fact that for any $k \\geq 30$, $F_k \\geq 1.5^k$.\n",
    "  \n",
    " (B) Using the above fact and the result from part A,  show that $h = \\Theta(\\log(n))$.\n",
    "\n",
    " (C) We will briefly examine inserting a node into an AVL tree through an example. On the left, we have shown an AVL tree and to the right we show the result after a BST insert has happened.\n",
    "\n",
    "![AVL Tree Before and After Insertion](avl-tree-insert-problem-img.jpeg \"AVL Tree Insertion\" )\n",
    "\n",
    "  Devise a sequence of left and right rotations that will restore the AVL tree property.\n",
    "Explain for each rotation what is the root node at which we are rotating and which direction. If you wish, you may insert images showing the trees before/after rotation using markdown (see how we inserted the image. But do not forget to upload the images with the submission).\n",
    "\n",
    "\n",
    "\n",
    "\n"
   ]
  },
  {
   "cell_type": "markdown",
   "metadata": {},
   "source": [
    " ### Answer 1 (Expected length: 15 lines)\n",
    "\n",
    "__(A)__ __Your answer here__\n",
    "\n",
    "__(B)__ __Your answer here__\n",
    "\n",
    "__(C)__ __Your answer here__\n"
   ]
  },
  {
   "cell_type": "markdown",
   "metadata": {},
   "source": [
    "***\n",
    "## Question 2: Bloom Filters"
   ]
  },
  {
   "cell_type": "markdown",
   "metadata": {},
   "source": [
    "\n",
    " A bloom filter is a fast set data structure that maintains a set $S$ of keys. One can insert keys into the set and test whether a given key $k$ belongs to the set. It may used in applications where the keys are \"complicated\" objects such as TCP packets or images that are expensive to compare with each other. \n",
    " \n",
    "\n",
    " The data structure is an array $T$ of Booleans size $m$ with $l$ different hash functions $h_1, \\ldots, h_l$.\n",
    " Initially, `T[i] = FALSE` for all `i`.\n",
    "\n",
    " If a key $k$ is to be inserted \n",
    " we first compute $i_1 = h_1(k), \\ldots, i_l = h_l(k)$ and then we set $T[i_1] = \\cdots T[i_l] = \\text{TRUE}$.\n",
    "\n",
    " __Note:  A bloom filter is *not* a hash table, but they both use hash functions in interesting ways.__\n",
    "\n",
    " __(A)__ Suppose we wish to find out if an element $k$ is a member of the set by checking if\n",
    "$T[h_1(k)], \\ldots, T[h_l(k)]$ are all true. Explain whether this can lead to a *false positive* i.e,\n",
    "the approach wrongly concludes that $k$ belongs to the set when it was never inserted; or *false negative*\n",
    "i.e, the approach wrongly concludes that $k$ does not belong to the set when it does.\n",
    "\n",
    " __(B)__ Suppose our hash functions are guaranteed to be uniform. I.e, for any randomly chosen\n",
    "key $k$, for any hash function $h_i$ and cell $j$, \n",
    "  $$ \\mathbb{P}( h_i(k) = j)  = \\frac{1}{m} $$\n",
    " If $n$ keys are chosen at random and inserted into the filter, compute that probability that any given cell $T[j]$ is set to FALSE after this.\n",
    "\n",
    " __(C)__ Use the results from previous set to estimate the probabilisty of a false positive. I.e, some $l$ cells\n",
    "$i_1, i_2, \\ldots, i_l$ are simultaneously set to TRUE.\n",
    "\n",
    " \n",
    "\n"
   ]
  },
  {
   "cell_type": "markdown",
   "metadata": {},
   "source": [
    "### Answer 2 { Expected Size: 15 lines}\n",
    "\n",
    "__(A)__ __Your answer here__\n",
    "\n",
    "__(B)__ __Your answer here__\n",
    "\n",
    "__(C)__ __Your answer here__\n",
    "\n"
   ]
  },
  {
   "cell_type": "markdown",
   "metadata": {},
   "source": [
    "## Testing your solutions -- Do not edit code beyond this point"
   ]
  },
  {
   "cell_type": "code",
   "execution_count": null,
   "metadata": {},
   "outputs": [],
   "source": []
  }
 ],
 "metadata": {
  "kernelspec": {
   "display_name": "Python 3",
   "language": "python",
   "name": "python3"
  },
  "language_info": {
   "codemirror_mode": {
    "name": "ipython",
    "version": 3
   },
   "file_extension": ".py",
   "mimetype": "text/x-python",
   "name": "python",
   "nbconvert_exporter": "python",
   "pygments_lexer": "ipython3",
   "version": "3.7.2"
  }
 },
 "nbformat": 4,
 "nbformat_minor": 2
}
