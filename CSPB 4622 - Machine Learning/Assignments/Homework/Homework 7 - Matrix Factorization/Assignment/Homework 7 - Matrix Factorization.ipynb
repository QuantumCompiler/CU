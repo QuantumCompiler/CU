{
 "cells": [
  {
   "attachments": {},
   "cell_type": "markdown",
   "id": "local-marketing",
   "metadata": {
    "deletable": false,
    "editable": false,
    "nbgrader": {
     "cell_type": "markdown",
     "checksum": "412c0fbff4d9e5401141ed5f953ba132",
     "grade": false,
     "grade_id": "cell-539bfe3db5c0f774",
     "locked": true,
     "schema_version": 3,
     "solution": false,
     "task": false
    }
   },
   "source": [
    "# Clustering RNA sequences to identify cancer types\n",
    "\n",
    "In this assignment, we will use clustering algorithms on RNA sequence data to identify cancer types.\n",
    "Since the [whole data](https://www.synapse.org/#!Synapse:syn4301332) (from [Cancer Genome Atlas Pan-Cancer project](https://www.ncbi.nlm.nih.gov/pmc/articles/PMC3919969/)) is very big, we will use a [subset data from UCI Machine Learning repository](https://archive.ics.uci.edu/ml/datasets/gene+expression+cancer+RNA-Seq#). The subset data contains only 5 labels; BRCA, KIRC, COAD, LUAD and PRAD. The meanings of those labels are as below.\n",
    "\n",
    "|Abbreviation|Cancer|\n",
    "|:----:|:-------:|\n",
    "|LUSC|Lung squamous cell carcinoma |\n",
    "|READ |Rectum adenocarcinoma |\n",
    "|GBM |Glioblastoma multiforme|\n",
    "|BLCA |Bladder Urothelial Carcinoma|\n",
    "|UCEC |Uterine Corpus Endometrioid Carcinoma|\n",
    "|COAD |Colon adenocarcinoma|\n",
    "|OV |Ovarian serous cystadenocarcinoma|\n",
    "|LAML |Acute Myeloid Leukemia|\n",
    "|HNSC |Head and Neck squamous cell carcinoma|\n",
    "|LUAD |Lung adenocarcinoma|\n",
    "|BRCA |Breast invasive carcinoma|\n",
    "|KIRC |Kidney renal clear cell carcinoma|\n",
    "\n",
    "Although we can use the data for supervised learning model training, we will not use these labels for training, but use them for evaluation."
   ]
  },
  {
   "cell_type": "code",
   "execution_count": null,
   "id": "ordered-pasta",
   "metadata": {
    "deletable": false,
    "editable": false,
    "nbgrader": {
     "cell_type": "code",
     "checksum": "deb30e3992bd6264bc0999a631f4f249",
     "grade": false,
     "grade_id": "cell-aae50706a878da7b",
     "locked": true,
     "schema_version": 3,
     "solution": false,
     "task": false
    }
   },
   "outputs": [],
   "source": [
    "import pandas as pd\n",
    "import matplotlib.pyplot as plt\n",
    "import numpy as np\n",
    "from sklearn.cluster import AgglomerativeClustering, KMeans\n",
    "from sklearn.metrics import accuracy_score, confusion_matrix\n",
    "import time"
   ]
  },
  {
   "cell_type": "code",
   "execution_count": null,
   "id": "forbidden-patrol",
   "metadata": {
    "deletable": false,
    "editable": false,
    "nbgrader": {
     "cell_type": "code",
     "checksum": "7d54524a953add3d7536b6f813e910b6",
     "grade": false,
     "grade_id": "cell-0349e5e5a7302cd2",
     "locked": true,
     "schema_version": 3,
     "solution": false,
     "task": false
    }
   },
   "outputs": [],
   "source": [
    "# Read data. Do not change the variable names (data, label)\n",
    "data = pd.read_csv('data/data.csv')\n",
    "label = pd.read_csv('data/labels.csv')\n",
    "data=data.drop('Unnamed: 0',axis=1)\n",
    "label=label.drop('Unnamed: 0',axis=1)"
   ]
  },
  {
   "attachments": {},
   "cell_type": "markdown",
   "id": "universal-consultancy",
   "metadata": {
    "deletable": false,
    "editable": false,
    "nbgrader": {
     "cell_type": "markdown",
     "checksum": "4ef29c8853bd413b47f39cb62c1d8405",
     "grade": false,
     "grade_id": "cell-a2791930798cf4eb",
     "locked": true,
     "schema_version": 3,
     "solution": false,
     "task": false
    }
   },
   "source": [
    "### A. Perform basic data inspection or EDA on the pandas dataframe.\n",
    "- How many observations?\n",
    "- How many features?\n",
    "- If we were to train a \"supervised\" learning model, how would you deal with such large feature dimension? \n",
    "- Even after feature dimension reduction, still the number of useful features may be enormous. How it would impact performance or runtime of certain supervised learning algorithms? Which algorithms would suffer from high dimension features than others and why? \n",
    "- How it would impact performance or runtime of an unsupervised learning algorithm?\n",
    "- Draw histograms of mean, max and min values in each feature. You may see numbers around 0-20. What those numbers mean? (We do not expect students to know or figure out the meanings, but if you do know by chance, feel free to discuss them with the class on the discussion board.)"
   ]
  },
  {
   "cell_type": "code",
   "execution_count": null,
   "id": "technical-bristol",
   "metadata": {
    "deletable": false,
    "nbgrader": {
     "cell_type": "code",
     "checksum": "bacf960f7ea86b11bcd443446a6c860c",
     "grade": true,
     "grade_id": "cell-849bea6119ed7609",
     "locked": false,
     "points": 15,
     "schema_version": 3,
     "solution": true,
     "task": false
    }
   },
   "outputs": [],
   "source": [
    "# YOUR CODE HERE\n"
   ]
  },
  {
   "attachments": {},
   "cell_type": "markdown",
   "id": "double-employee",
   "metadata": {
    "deletable": false,
    "editable": false,
    "nbgrader": {
     "cell_type": "markdown",
     "checksum": "1a163e45debc3e34bb4c49db0191da7f",
     "grade": false,
     "grade_id": "cell-beed8ed5fc8d2e64",
     "locked": true,
     "schema_version": 3,
     "solution": false,
     "task": false
    }
   },
   "source": [
    "### B. Build a hierarchical clustering model \n",
    "Let's build a model using hierarchical clustering. Hierarchical clustering module is available from  `sklearn.cluster.AgglomerativeClustering`. You can choose linkage type and metric. Please check its documentation for more details.\n",
    "\n",
    "#### a) Number of clusters vs distance threshold\n",
    "Ofterntimes hierarchical clustering does not need to know the number of clusters in advance. Instead, one needs to choose threshold distance/similarity to cut the dendrogram later.  The `AgglomerativeClustering` module lets you specify either the number of clusters (`n_clusters`) or the threshold (`distance_threshold`). Based on our data, which should we choose to set to which value and why?"
   ]
  },
  {
   "cell_type": "code",
   "execution_count": null,
   "id": "stunning-intensity",
   "metadata": {
    "deletable": false,
    "nbgrader": {
     "cell_type": "code",
     "checksum": "b5013ea64a9d59ea360e10a1258fed12",
     "grade": true,
     "grade_id": "cell-70056c122f962c97",
     "locked": false,
     "points": 5,
     "schema_version": 3,
     "solution": true,
     "task": false
    }
   },
   "outputs": [],
   "source": [
    "# YOUR CODE HERE\n"
   ]
  },
  {
   "attachments": {},
   "cell_type": "markdown",
   "id": "compact-hartford",
   "metadata": {
    "deletable": false,
    "editable": false,
    "nbgrader": {
     "cell_type": "markdown",
     "checksum": "56f7c1c6b44af90252e56acb948198b1",
     "grade": false,
     "grade_id": "cell-50370db254c0a9d5",
     "locked": true,
     "schema_version": 3,
     "solution": false,
     "task": false
    }
   },
   "source": [
    "#### b) Guess which metric?\n",
    "Can you guess which metric to use (distance-based vs. similarity-based) and why? Share your thoughts with the class."
   ]
  },
  {
   "cell_type": "code",
   "execution_count": null,
   "id": "charming-audio",
   "metadata": {
    "deletable": false,
    "nbgrader": {
     "cell_type": "code",
     "checksum": "f9e9e28c5e5a86ec5c05a14308e737f6",
     "grade": true,
     "grade_id": "cell-292c158383d41c75",
     "locked": false,
     "points": 0,
     "schema_version": 3,
     "solution": true,
     "task": false
    }
   },
   "outputs": [],
   "source": [
    "# YOUR CODE HERE\n"
   ]
  },
  {
   "attachments": {},
   "cell_type": "markdown",
   "id": "induced-benchmark",
   "metadata": {
    "deletable": false,
    "editable": false,
    "nbgrader": {
     "cell_type": "markdown",
     "checksum": "24bbd98211c302b84afcef87f05ca425",
     "grade": false,
     "grade_id": "cell-89f6f15a99461906",
     "locked": true,
     "schema_version": 3,
     "solution": false,
     "task": false
    }
   },
   "source": [
    "#### c) Build a model\n",
    "Build a model using n_clusters=5 option. Choose any metric and linkage type at first. Display the clustering result labels (you can just print out the result). Do not change the variable (model) name."
   ]
  },
  {
   "cell_type": "code",
   "execution_count": null,
   "id": "statistical-indicator",
   "metadata": {
    "deletable": false,
    "nbgrader": {
     "cell_type": "code",
     "checksum": "bbb74e59d0858a36331b39b25fcdf3ad",
     "grade": true,
     "grade_id": "cell-2ced6bf493d15d10",
     "locked": false,
     "points": 5,
     "schema_version": 3,
     "solution": true,
     "task": false
    }
   },
   "outputs": [],
   "source": [
    "model=None\n",
    "# YOUR CODE HERE\n"
   ]
  },
  {
   "attachments": {},
   "cell_type": "markdown",
   "id": "characteristic-oriental",
   "metadata": {
    "deletable": false,
    "editable": false,
    "nbgrader": {
     "cell_type": "markdown",
     "checksum": "c59fefe24b3d6460cb76833e0d3b80a7",
     "grade": false,
     "grade_id": "cell-f1337843b202bc8d",
     "locked": true,
     "schema_version": 3,
     "solution": false,
     "task": false
    }
   },
   "source": [
    "#### d) Label permuation\n",
    "In clustering, the labels get assigned randomly, so the label numbering won't match the ground truth necessarily. Write a function below to find best matching label ordering based on the accuracy. Do not change the variable names.\n",
    "\n",
    "**Note**: Label order is ['PRAD', 'LUAD', 'BRCA', 'KIRC', 'COAD'] as 0,1,2,3,4. So PRAD is 0, LUAD is 1, etc.\n",
    "This part asks you to rematch the labels from your model. The clustering model does not know which label is which, but will give you 5 numeric labels (0-4). You'll need to find out which label correspond to which of the data set label."
   ]
  },
  {
   "cell_type": "code",
   "execution_count": null,
   "id": "editorial-chemistry",
   "metadata": {
    "deletable": false,
    "nbgrader": {
     "cell_type": "code",
     "checksum": "ca6f37443fbda33616176080c3f2bde9",
     "grade": true,
     "grade_id": "cell-a4893d1f69efe80d",
     "locked": false,
     "points": 10,
     "schema_version": 3,
     "solution": true,
     "task": false
    }
   },
   "outputs": [],
   "source": [
    "import itertools\n",
    "\n",
    "def label_permute_compare(ytdf,yp,n=5):\n",
    "    \"\"\"\n",
    "    ytdf: labels dataframe object\n",
    "    yp: clustering label prediction output\n",
    "    Returns permuted label order and accuracy. \n",
    "    Example output: (3, 4, 1, 2, 0), 0.74 \n",
    "    \"\"\"\n",
    "# YOUR CODE HERE\n"
   ]
  },
  {
   "cell_type": "code",
   "execution_count": null,
   "id": "hawaiian-declaration",
   "metadata": {
    "deletable": false,
    "editable": false,
    "nbgrader": {
     "cell_type": "code",
     "checksum": "9caa5be20c8b0088db308050abf4d44a",
     "grade": false,
     "grade_id": "cell-c20eb208412ef9c1",
     "locked": true,
     "schema_version": 3,
     "solution": false,
     "task": false
    }
   },
   "outputs": [],
   "source": [
    "labelorder, acc = label_permute_compare(label, model.labels_)\n",
    "print(labelorder, acc)"
   ]
  },
  {
   "attachments": {},
   "cell_type": "markdown",
   "id": "thirty-category",
   "metadata": {},
   "source": [
    "#### e) Check confusion matrix\n",
    "Use sklearn's confusion matrix and display the results. "
   ]
  },
  {
   "cell_type": "code",
   "execution_count": null,
   "id": "miniature-shark",
   "metadata": {
    "deletable": false,
    "nbgrader": {
     "cell_type": "code",
     "checksum": "06e89292700ad7c9bc5d228026d3f78f",
     "grade": true,
     "grade_id": "cell-00e0a107c6b6f149",
     "locked": false,
     "points": 5,
     "schema_version": 3,
     "solution": true,
     "task": false
    }
   },
   "outputs": [],
   "source": [
    "# YOUR CODE HERE\n"
   ]
  },
  {
   "attachments": {},
   "cell_type": "markdown",
   "id": "marked-gasoline",
   "metadata": {
    "deletable": false,
    "editable": false,
    "nbgrader": {
     "cell_type": "markdown",
     "checksum": "2518e56ca1c5211d325d669138bc989d",
     "grade": false,
     "grade_id": "cell-d9659ebe08a907e7",
     "locked": true,
     "schema_version": 3,
     "solution": false,
     "task": false
    }
   },
   "source": [
    "#### f) Change linkage method and distance metric. Which ones lead the best performance? Print out the accuracy and confusion matrix for the best model."
   ]
  },
  {
   "cell_type": "code",
   "execution_count": null,
   "id": "individual-following",
   "metadata": {
    "deletable": false,
    "nbgrader": {
     "cell_type": "code",
     "checksum": "ca45896299daba09a04db43955c5ad9d",
     "grade": true,
     "grade_id": "cell-cff24ed2e17d935b",
     "locked": false,
     "points": 10,
     "schema_version": 3,
     "solution": true,
     "task": false
    }
   },
   "outputs": [],
   "source": [
    "# YOUR CODE HERE\n"
   ]
  },
  {
   "attachments": {},
   "cell_type": "markdown",
   "id": "reduced-remains",
   "metadata": {
    "deletable": false,
    "editable": false,
    "nbgrader": {
     "cell_type": "markdown",
     "checksum": "bde67fd1f58e1a7674f0ee4af3e8854b",
     "grade": false,
     "grade_id": "cell-0baa2a94e0febce7",
     "locked": true,
     "schema_version": 3,
     "solution": false,
     "task": false
    }
   },
   "source": [
    "### C. What about k-means clustering?\n",
    "Can we apply kmeans clustering on this data? Which clustering methods give a better performance? Is kmeans faster or slower?"
   ]
  },
  {
   "cell_type": "code",
   "execution_count": null,
   "id": "incorporated-proportion",
   "metadata": {
    "deletable": false,
    "nbgrader": {
     "cell_type": "code",
     "checksum": "1cc7646ab25665f3705d03cf2c418deb",
     "grade": true,
     "grade_id": "cell-c84252f264431f74",
     "locked": false,
     "points": 10,
     "schema_version": 3,
     "solution": true,
     "task": false
    }
   },
   "outputs": [],
   "source": [
    "# YOUR CODE HERE\n"
   ]
  }
 ],
 "metadata": {
  "kernelspec": {
   "display_name": "Python 3",
   "language": "python",
   "name": "python3"
  },
  "language_info": {
   "codemirror_mode": {
    "name": "ipython",
    "version": 3
   },
   "file_extension": ".py",
   "mimetype": "text/x-python",
   "name": "python",
   "nbconvert_exporter": "python",
   "pygments_lexer": "ipython3",
   "version": "3.7.4"
  }
 },
 "nbformat": 4,
 "nbformat_minor": 5
}
