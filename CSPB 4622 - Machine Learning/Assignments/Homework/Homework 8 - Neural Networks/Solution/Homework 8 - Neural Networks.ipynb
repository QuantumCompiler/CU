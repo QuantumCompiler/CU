{
 "cells": [
  {
   "cell_type": "markdown",
   "id": "closed-olympus",
   "metadata": {
    "deletable": false,
    "editable": false,
    "nbgrader": {
     "cell_type": "markdown",
     "checksum": "30010faab7d9fd7f5bc72a057620f48c",
     "grade": false,
     "grade_id": "cell-9eedb11cec3e9123",
     "locked": true,
     "schema_version": 3,
     "solution": false,
     "task": false
    }
   },
   "source": [
    "# Building Recommender Systems for Movie Rating Prediction\n",
    "\n",
    "In this assignment, we will build a recommender systems that predict movie ratings. [MovieLense](https://grouplens.org/datasets/movielens/) has currently 25 million user-movie ratings.  Since the entire data is too big, we use  a 1 million ratings subset [MovieLens 1M](https://www.kaggle.com/odedgolden/movielens-1m-dataset), and we reformatted the data to make it more convenient to use."
   ]
  },
  {
   "cell_type": "code",
   "execution_count": 2,
   "id": "senior-pipeline",
   "metadata": {
    "deletable": false,
    "editable": false,
    "nbgrader": {
     "cell_type": "code",
     "checksum": "308e922d8c10e2474c834b2630bc2153",
     "grade": false,
     "grade_id": "cell-4e36dbcf890c6b34",
     "locked": true,
     "schema_version": 3,
     "solution": false,
     "task": false
    }
   },
   "outputs": [],
   "source": [
    "import pandas as pd\n",
    "import matplotlib.pyplot as plt\n",
    "import numpy as np\n",
    "import time\n",
    "from sklearn.model_selection import train_test_split\n",
    "from scipy.sparse import coo_matrix, csr_matrix\n",
    "from scipy.spatial.distance import jaccard, cosine \n",
    "from pytest import approx"
   ]
  },
  {
   "cell_type": "code",
   "execution_count": 3,
   "id": "designed-bench",
   "metadata": {
    "deletable": false,
    "editable": false,
    "nbgrader": {
     "cell_type": "code",
     "checksum": "c14df713a97d83f14e063283052b28e8",
     "grade": false,
     "grade_id": "cell-7361d67958dc4bc9",
     "locked": true,
     "schema_version": 3,
     "solution": false,
     "task": false
    }
   },
   "outputs": [],
   "source": [
    "MV_users = pd.read_csv('data/users.csv')\n",
    "MV_movies = pd.read_csv('data/movies.csv')\n",
    "train = pd.read_csv('data/train.csv')\n",
    "test = pd.read_csv('data/test.csv')"
   ]
  },
  {
   "cell_type": "code",
   "execution_count": 4,
   "id": "typical-mirror",
   "metadata": {
    "deletable": false,
    "editable": false,
    "nbgrader": {
     "cell_type": "code",
     "checksum": "e627acd86e5986e784e912db882d06ad",
     "grade": false,
     "grade_id": "cell-d48cc1df156da904",
     "locked": true,
     "schema_version": 3,
     "solution": false,
     "task": false
    }
   },
   "outputs": [],
   "source": [
    "from collections import namedtuple\n",
    "Data = namedtuple('Data', ['users','movies','train','test'])\n",
    "data = Data(MV_users, MV_movies, train, test)"
   ]
  },
  {
   "cell_type": "markdown",
   "id": "located-directory",
   "metadata": {},
   "source": [
    "### Starter codes\n",
    "Now, we will be building a recommender system which has various techniques to predict ratings. \n",
    "The `class RecSys` has baseline prediction methods (such as predicting everything to 3 or to average rating of each user) and other utility functions. `class ContentBased` and `class Collaborative` inherit `class RecSys` and further add methods calculating item-item similarity matrix. You will be completing those functions using what we learned about content-based filtering and collaborative filtering.\n",
    "\n",
    "`RecSys`'s `rating_matrix` method converts the (user id, movie id, rating) triplet from the train data (train data's ratings are known) into a utility matrix for 6040 users and 3883 movies.    \n",
    "Here, we create the utility matrix as a dense matrix (numpy.array) format for convenience. But in a real world data where hundreds of millions of users and items may exist, we won't be able to create the utility matrix in a dense matrix format (For those who are curious why, try measuring the dense matrix self.Mr using .nbytes()). In that case, we may use sparse matrix operations as much as possible and distributed file systems and distributed computing will be needed. Fortunately, our data is small enough to fit in a laptop/pc memory. Also, we will use numpy and scipy.sparse, which allow significantly faster calculations than calculating on pandas.DataFrame object.    \n",
    "In the `rating_matrix` method, pay attention to the index mapping as user IDs and movie IDs are not the same as array index."
   ]
  },
  {
   "cell_type": "code",
   "execution_count": 58,
   "id": "victorian-cradle",
   "metadata": {
    "deletable": false,
    "nbgrader": {
     "cell_type": "code",
     "checksum": "df0d37a49017820f98cef6361480501c",
     "grade": false,
     "grade_id": "cell-f295a973cd85d36c",
     "locked": false,
     "schema_version": 3,
     "solution": true,
     "task": false
    }
   },
   "outputs": [],
   "source": [
    "class RecSys():\n",
    "    def __init__(self,data):\n",
    "        self.data=data\n",
    "        self.allusers = list(self.data.users['uID'])\n",
    "        self.allmovies = list(self.data.movies['mID'])\n",
    "        self.genres = list(self.data.movies.columns.drop(['mID', 'title', 'year']))\n",
    "        self.mid2idx = dict(zip(self.data.movies.mID,list(range(len(self.data.movies)))))\n",
    "        self.uid2idx = dict(zip(self.data.users.uID,list(range(len(self.data.users)))))\n",
    "        self.Mr=self.rating_matrix()\n",
    "        self.Mm=None \n",
    "        self.sim=np.zeros((len(self.allmovies),len(self.allmovies)))\n",
    "        \n",
    "    def rating_matrix(self):\n",
    "        \"\"\"\n",
    "        Convert the rating matrix to numpy array of shape (#allusers,#allmovies)\n",
    "        \"\"\"\n",
    "        ind_movie = [self.mid2idx[x] for x in self.data.train.mID] \n",
    "        ind_user = [self.uid2idx[x] for x in self.data.train.uID]\n",
    "        rating_train = list(train.rating)\n",
    "        return np.array(coo_matrix((rating_train, (ind_user, ind_movie)), shape=(len(self.allusers), len(self.allmovies))).toarray())\n",
    "\n",
    "\n",
    "    def predict_everything_to_3(self):\n",
    "        \"\"\"\n",
    "        Predict everything to 3 for the test data\n",
    "        \"\"\"\n",
    "        # YOUR CODE HERE\n",
    "        return np.full(len(self.data.test),3)\n",
    "        \n",
    "        \n",
    "    def predict_to_user_average(self):\n",
    "        \"\"\"\n",
    "        Predict to average rating for the user.\n",
    "        Returns numpy array of shape (#users,)\n",
    "        \"\"\"\n",
    "        # YOUR CODE HERE\n",
    "        avg = np.true_divide(self.Mr.sum(axis=1),(self.Mr!=0).sum(axis=1))\n",
    "        test = self.data.test['uID'].map(self.uid2idx).values\n",
    "        return avg[test]\n",
    "    \n",
    "    def predict_from_sim(self,uid,mid):\n",
    "        \"\"\"\n",
    "        Predict a user rating on a movie given userID and movieID\n",
    "        \"\"\"\n",
    "        # YOUR CODE HERE\n",
    "        usr_idx = self.uid2idx[uid]\n",
    "        mov_idx = self.mid2idx[mid]\n",
    "        usr_rat = self.Mr[usr_idx]\n",
    "        mov_sim = self.sim[mov_idx]\n",
    "\n",
    "        weighted = 0\n",
    "        sim_sum = 0\n",
    "\n",
    "        for i, rating in enumerate(usr_rat):\n",
    "            if rating > 0:\n",
    "                weighted += mov_sim[i] * rating\n",
    "                sim_sum += mov_sim[i]\n",
    "\n",
    "        if sim_sum == 0:\n",
    "            # Fallback to user's average rating or 3\n",
    "            user_average = np.mean(usr_rat[usr_rat > 0]) if usr_rat[usr_rat > 0].size > 0 else 3\n",
    "            return user_average\n",
    "        \n",
    "        return weighted / sim_sum\n",
    "    \n",
    "    def predict(self):\n",
    "        \"\"\"\n",
    "        Predict ratings in the test data. Returns predicted rating in a numpy array of size (# of rows in testdata,)\n",
    "        \"\"\"\n",
    "        # YOUR CODE HERE\n",
    "        predicted = []\n",
    "        for index, row in self.data.test.iterrows():\n",
    "            uid = row['uID']\n",
    "            mid = row['mID']\n",
    "            prediction = self.predict_from_sim(uid, mid)\n",
    "            predicted.append(prediction)\n",
    "        \n",
    "        return np.array(predicted)\n",
    "    \n",
    "    def rmse(self,yp):\n",
    "        yp[np.isnan(yp)]=3 #In case there is nan values in prediction, it will impute to 3.\n",
    "        yt=np.array(self.data.test.rating)\n",
    "        return np.sqrt(((yt-yp)**2).mean())\n",
    "\n",
    "    \n",
    "class ContentBased(RecSys):\n",
    "    def __init__(self,data):\n",
    "        super().__init__(data)\n",
    "        self.data=data\n",
    "        self.Mm = self.calc_movie_feature_matrix()\n",
    "        \n",
    "    def calc_movie_feature_matrix(self):\n",
    "        \"\"\"\n",
    "        Create movie feature matrix in a numpy array of shape (#allmovies, #genres) \n",
    "        \"\"\"\n",
    "        # YOUR CODE HERE\n",
    "        return self.data.movies[self.genres].values\n",
    "    \n",
    "    def calc_item_item_similarity(self):\n",
    "        \"\"\"\n",
    "        Create item-item similarity using Jaccard similarity\n",
    "        \"\"\"\n",
    "        # YOUR CODE HERE\n",
    "        num_movies = self.Mm.shape[0]\n",
    "        similarity_matrix = np.zeros((num_movies, num_movies))\n",
    "\n",
    "        for i in range(num_movies):\n",
    "            for j in range(num_movies):\n",
    "                intersection = np.sum(np.minimum(self.Mm[i], self.Mm[j]))\n",
    "                union = np.sum(np.maximum(self.Mm[i], self.Mm[j]))\n",
    "\n",
    "                similarity = intersection / union if union > 0 else 0\n",
    "                similarity_matrix[i, j] = similarity\n",
    "                similarity_matrix[j, i] = similarity\n",
    "\n",
    "        self.sim = similarity_matrix\n",
    "        \n",
    "    # YOUR CODE HERE\n",
    "    \n",
    "        \n",
    "        \n",
    "class Collaborative(RecSys):\n",
    "    def __init__(self,data):\n",
    "        super().__init__(data)\n",
    "        \n",
    "    def calc_item_item_similarity(self, simfunction, *X):  \n",
    "        \"\"\"\n",
    "        Create item-item similarity using similarity function. \n",
    "        X is an optional transformed matrix of Mr\n",
    "        \"\"\"    \n",
    "        if len(X) == 0:\n",
    "            self.sim = simfunction()            \n",
    "        else:\n",
    "            self.sim = simfunction(X[0])\n",
    "            \n",
    "    def cossim(self, Xr=None):    \n",
    "        \"\"\"\n",
    "        Calculates item-item similarity for all pairs of items using adjusted cosine similarity (values from 0 to 1)\n",
    "        Returns a cosine similarity matrix of size (#all movies, #all movies)\n",
    "        \"\"\"\n",
    "        if Xr is None:\n",
    "            ratings = self.Mr.copy()\n",
    "        else:\n",
    "            ratings = Xr.copy()\n",
    "\n",
    "        # Compute user means\n",
    "        user_sums = ratings.sum(axis=1)\n",
    "        user_counts = (ratings != 0).sum(axis=1)\n",
    "        user_means = np.divide(\n",
    "            user_sums, \n",
    "            user_counts, \n",
    "            out=np.zeros_like(user_sums, dtype=float), \n",
    "            where=user_counts != 0\n",
    "        ).reshape(-1, 1)  # Make it a column vector\n",
    "\n",
    "        adjusted_ratings = ratings - user_means\n",
    "        adjusted_ratings[ratings == 0] = 0     \n",
    "\n",
    "        item_user_matrix = adjusted_ratings.T\n",
    "\n",
    "        norms = np.linalg.norm(item_user_matrix, axis=1, keepdims=True)\n",
    "        norms[norms == 0] = 1  # Avoid division by zero\n",
    "\n",
    "        normalized_items = item_user_matrix / norms\n",
    "\n",
    "        cosine_similarity_matrix = normalized_items @ normalized_items.T\n",
    "\n",
    "        cosine_similarity_matrix = (cosine_similarity_matrix + 1) / 2\n",
    "\n",
    "        cosine_similarity_matrix = np.nan_to_num(cosine_similarity_matrix)\n",
    "\n",
    "        np.fill_diagonal(cosine_similarity_matrix, 1)\n",
    "\n",
    "        return cosine_similarity_matrix\n",
    "    \n",
    "    # YOUR CODE HERE\n",
    "    \n",
    "    def jacsim(self, Xr=None):\n",
    "            \"\"\"\n",
    "            Calculates item-item similarity for all pairs of items using Jaccard similarity (values from 0 to 1)\n",
    "            Xr is the transformed rating matrix.\n",
    "            \"\"\"     \n",
    "            if Xr is None:\n",
    "                Xr = self.Mr.T  # Transpose to get items x users matrix\n",
    "            else:\n",
    "                Xr = Xr.T\n",
    "\n",
    "            bin_rat = (Xr > 0).astype(float)\n",
    "            bin_rat_sparse = csr_matrix(bin_rat)\n",
    "\n",
    "            intersection = bin_rat_sparse @ bin_rat_sparse.T  # Result is a sparse matrix\n",
    "\n",
    "            item_counts = bin_rat_sparse.sum(axis=1).A1  # Convert to a 1D numpy array\n",
    "\n",
    "            item_counts_matrix = item_counts[:, None] + item_counts[None, :] - intersection.toarray()\n",
    "\n",
    "            union = item_counts_matrix.copy()\n",
    "            union[union == 0] = 1  # To prevent division by zero\n",
    "\n",
    "            jaccard_similarity_matrix = intersection.toarray() / union\n",
    "\n",
    "            jaccard_similarity_matrix[item_counts_matrix == 0] = 0\n",
    "\n",
    "            np.fill_diagonal(jaccard_similarity_matrix, 1)\n",
    "\n",
    "            return jaccard_similarity_matrix\n",
    "    \n",
    "    # YOUR CODE HERE"
   ]
  },
  {
   "cell_type": "markdown",
   "id": "herbal-albany",
   "metadata": {
    "deletable": false,
    "editable": false,
    "nbgrader": {
     "cell_type": "markdown",
     "checksum": "3ce773e57c74226bd6f27def1f6ac385",
     "grade": false,
     "grade_id": "cell-8b5ec8e92f55488e",
     "locked": true,
     "schema_version": 3,
     "solution": false,
     "task": false
    }
   },
   "source": [
    "# Q1. Baseline models [15 pts]\n",
    "\n",
    "### 1a. Complete the function `predict_everything_to_3` in the class `RecSys`  [5 pts]"
   ]
  },
  {
   "cell_type": "code",
   "execution_count": 6,
   "id": "severe-plant",
   "metadata": {
    "deletable": false,
    "editable": false,
    "nbgrader": {
     "cell_type": "code",
     "checksum": "df03dc936a6f132382cb330d4068009b",
     "grade": true,
     "grade_id": "cell-f83fafe0ea8c7bc2",
     "locked": true,
     "points": 5,
     "schema_version": 3,
     "solution": false,
     "task": false
    }
   },
   "outputs": [
    {
     "name": "stdout",
     "output_type": "stream",
     "text": [
      "1.2585510334053043\n"
     ]
    }
   ],
   "source": [
    "rs = RecSys(data)\n",
    "yp = rs.predict_everything_to_3()\n",
    "print(rs.rmse(yp))\n",
    "### BEGIN HIDDEN TEST\n",
    "assert(rs.rmse(yp)==approx(1.2585510334053043, abs=1e-2))\n",
    "### END HIDDEN TEST"
   ]
  },
  {
   "cell_type": "markdown",
   "id": "bronze-globe",
   "metadata": {
    "deletable": false,
    "editable": false,
    "nbgrader": {
     "cell_type": "markdown",
     "checksum": "bd1d38615683ec85f6726e24a9d7c1f1",
     "grade": false,
     "grade_id": "cell-a3fd4d86900eb30c",
     "locked": true,
     "schema_version": 3,
     "solution": false,
     "task": false
    }
   },
   "source": [
    "### 1b. Complete the function predict_to_user_average in the class RecSys [10 pts]\n",
    "Hint: Include rated items only when averaging"
   ]
  },
  {
   "cell_type": "code",
   "execution_count": 7,
   "id": "built-poverty",
   "metadata": {
    "deletable": false,
    "editable": false,
    "nbgrader": {
     "cell_type": "code",
     "checksum": "0f79175d61d0ee689bad91715ee63120",
     "grade": true,
     "grade_id": "cell-4fd0ef41e15203a7",
     "locked": true,
     "points": 10,
     "schema_version": 3,
     "solution": false,
     "task": false
    }
   },
   "outputs": [
    {
     "name": "stdout",
     "output_type": "stream",
     "text": [
      "1.0352910334228647\n"
     ]
    }
   ],
   "source": [
    "yp = rs.predict_to_user_average()\n",
    "print(rs.rmse(yp))\n",
    "### BEGIN HIDDEN TEST\n",
    "assert(rs.rmse(yp)==approx(1.0352910334228647, abs=1e-2))\n",
    "### END HIDDEN TEST"
   ]
  },
  {
   "cell_type": "markdown",
   "id": "liquid-advisory",
   "metadata": {},
   "source": [
    "# Q2. Content-Based model [25 pts]\n",
    "\n",
    "### 2a. Complete the function calc_movie_feature_matrix in the class ContentBased [5 pts]"
   ]
  },
  {
   "cell_type": "code",
   "execution_count": 8,
   "id": "remarkable-walker",
   "metadata": {
    "deletable": false,
    "editable": false,
    "nbgrader": {
     "cell_type": "code",
     "checksum": "74f8eafdcfe590712d05240558bf8f3a",
     "grade": false,
     "grade_id": "cell-aa43b55e87743888",
     "locked": true,
     "schema_version": 3,
     "solution": false,
     "task": false
    }
   },
   "outputs": [],
   "source": [
    "cb = ContentBased(data)"
   ]
  },
  {
   "cell_type": "code",
   "execution_count": 9,
   "id": "ranging-cherry",
   "metadata": {
    "deletable": false,
    "editable": false,
    "nbgrader": {
     "cell_type": "code",
     "checksum": "3381e31b6d625b4189963479d46dd905",
     "grade": false,
     "grade_id": "cell-d78beec5c1329629",
     "locked": true,
     "schema_version": 3,
     "solution": false,
     "task": false
    }
   },
   "outputs": [],
   "source": [
    "assert(cb.Mm.shape==(3883, 18))"
   ]
  },
  {
   "cell_type": "code",
   "execution_count": 10,
   "id": "grateful-story",
   "metadata": {
    "deletable": false,
    "editable": false,
    "nbgrader": {
     "cell_type": "code",
     "checksum": "08c324ce502837135035daf8559229a3",
     "grade": true,
     "grade_id": "cell-1f129ee91928bd70",
     "locked": true,
     "points": 5,
     "schema_version": 3,
     "solution": false,
     "task": false
    }
   },
   "outputs": [],
   "source": [
    "### BEGIN HIDDEN TEST\n",
    "assert((cb.Mm[440]==np.array([0, 1, 0, 0, 0, 0, 0, 0, 0, 0, 0, 0, 0, 1, 0, 0, 0, 0]))).all()\n",
    "assert((cb.Mm[0]==np.array([0, 1, 0, 0, 0, 0, 1, 0, 1, 0, 0, 0, 0, 0, 0, 0, 0, 0]))).all()\n",
    "assert((cb.Mm[2336]==np.array([0, 1, 0, 1, 0, 0, 0, 0, 0, 0, 0, 0, 0, 1, 0, 0, 1, 0]))).all()\n",
    "### END HIDDEN TEST"
   ]
  },
  {
   "cell_type": "markdown",
   "id": "executive-clinic",
   "metadata": {
    "deletable": false,
    "editable": false,
    "nbgrader": {
     "cell_type": "markdown",
     "checksum": "94eff12210e0f280f33267a74016d815",
     "grade": false,
     "grade_id": "cell-f14a7855376ccc73",
     "locked": true,
     "schema_version": 3,
     "solution": false,
     "task": false
    }
   },
   "source": [
    "### 2b. Complete the function calc_item_item_similarity in the class ContentBased [10 pts]\n",
    "This function updates `self.sim` and does not return a value.    \n",
    "Some factors to think about:     \n",
    "1. The movie feature matrix has binary elements. Which similarity metric should be used?\n",
    "2. What is the computation complexity (time complexity) on similarity calcuation?      \n",
    "Hint: You may use functions in the `scipy.spatial.distance` module on the dense matrix, but it is quite slow (think about the time complexity). If you want to speed up, you may try using functions in the `scipy.sparse` module. "
   ]
  },
  {
   "cell_type": "code",
   "execution_count": 11,
   "id": "affected-renaissance",
   "metadata": {
    "deletable": false,
    "editable": false,
    "nbgrader": {
     "cell_type": "code",
     "checksum": "f8f1177432b763ab9f677f265a2ece85",
     "grade": false,
     "grade_id": "cell-1fca66f66967ef28",
     "locked": true,
     "schema_version": 3,
     "solution": false,
     "task": false
    }
   },
   "outputs": [],
   "source": [
    "cb.calc_item_item_similarity() "
   ]
  },
  {
   "cell_type": "code",
   "execution_count": 12,
   "id": "intended-uncertainty",
   "metadata": {
    "deletable": false,
    "editable": false,
    "nbgrader": {
     "cell_type": "code",
     "checksum": "c4da4ef79865c2778bd10c07043b6b2f",
     "grade": true,
     "grade_id": "cell-ea7fd0a23b103db5",
     "locked": true,
     "points": 2,
     "schema_version": 3,
     "solution": false,
     "task": false
    }
   },
   "outputs": [],
   "source": [
    "### BEGIN HIDDEN TEST\n",
    "assert(cb.sim.sum()>0)\n",
    "assert(np.trace(cb.sim)==3883)\n",
    "### END HIDDEN TEST"
   ]
  },
  {
   "cell_type": "code",
   "execution_count": 13,
   "id": "dental-elimination",
   "metadata": {
    "deletable": false,
    "editable": false,
    "nbgrader": {
     "cell_type": "code",
     "checksum": "c9aa125c0cd1d18c4870a9426c6ba4d0",
     "grade": true,
     "grade_id": "cell-406bc1ff5e92aaa2",
     "locked": true,
     "points": 3,
     "schema_version": 3,
     "solution": false,
     "task": false
    }
   },
   "outputs": [],
   "source": [
    "### BEGIN HIDDEN TEST\n",
    "assert(cb.sim.sum()>0)\n",
    "assert(cb.sim.min()==0)\n",
    "assert(cb.sim.max()==1)\n",
    "### END HIDDEN TEST"
   ]
  },
  {
   "cell_type": "code",
   "execution_count": 14,
   "id": "enabling-swaziland",
   "metadata": {
    "deletable": false,
    "editable": false,
    "nbgrader": {
     "cell_type": "code",
     "checksum": "3932fd9c97de672279ba83429836fbc0",
     "grade": true,
     "grade_id": "cell-151de273f223e71c",
     "locked": true,
     "points": 1,
     "schema_version": 3,
     "solution": false,
     "task": false
    }
   },
   "outputs": [],
   "source": [
    "### BEGIN HIDDEN TEST\n",
    "assert(cb.sim.sum()>0)\n",
    "n = len(cb.allmovies)     \n",
    "assert(cb.sim.shape==(n,n))\n",
    "### END HIDDEN TEST"
   ]
  },
  {
   "cell_type": "code",
   "execution_count": 15,
   "id": "unlike-compiler",
   "metadata": {
    "deletable": false,
    "editable": false,
    "nbgrader": {
     "cell_type": "code",
     "checksum": "d5a1213424597245dcbd77dd5aff031c",
     "grade": true,
     "grade_id": "cell-90f8956b6d000df3",
     "locked": true,
     "points": 1,
     "schema_version": 3,
     "solution": false,
     "task": false
    }
   },
   "outputs": [],
   "source": [
    "### BEGIN HIDDEN TEST\n",
    "assert(cb.sim.sum()>0)\n",
    "assert(cb.sim==cb.sim.T).all()\n",
    "### END HIDDEN TEST"
   ]
  },
  {
   "cell_type": "code",
   "execution_count": 16,
   "id": "driving-testing",
   "metadata": {
    "deletable": false,
    "editable": false,
    "nbgrader": {
     "cell_type": "code",
     "checksum": "ea00682574dea298a634c04e9d9b266d",
     "grade": true,
     "grade_id": "cell-ea935338407b8ff8",
     "locked": true,
     "points": 3,
     "schema_version": 3,
     "solution": false,
     "task": false
    }
   },
   "outputs": [],
   "source": [
    "### BEGIN HIDDEN TEST\n",
    "assert(cb.sim.sum()>0)\n",
    "assert(cb.sim[:3,:3]==approx(np.array([[1,0.2,0.25],[0.2,1,0],[0.25,0,1]])))\n",
    "### END HIDDEN TEST"
   ]
  },
  {
   "cell_type": "markdown",
   "id": "consolidated-bathroom",
   "metadata": {
    "deletable": false,
    "editable": false,
    "nbgrader": {
     "cell_type": "markdown",
     "checksum": "046e6bf3df964f7a0a06dde4a90f6674",
     "grade": false,
     "grade_id": "cell-579985989a29c84c",
     "locked": true,
     "schema_version": 3,
     "solution": false,
     "task": false
    }
   },
   "source": [
    "### 2c. Complete the function predict_from_sim in the class RecSys [5 pts]"
   ]
  },
  {
   "cell_type": "code",
   "execution_count": 17,
   "id": "unique-capture",
   "metadata": {
    "deletable": false,
    "editable": false,
    "nbgrader": {
     "cell_type": "code",
     "checksum": "db8fcebcd07fdcb97be37c752a2b7e95",
     "grade": true,
     "grade_id": "cell-f482b87fbb7ddbc1",
     "locked": true,
     "points": 5,
     "schema_version": 3,
     "solution": false,
     "task": false
    }
   },
   "outputs": [],
   "source": [
    "### BEGIN HIDDEN TEST\n",
    "assert(cb.predict_from_sim(2233,440)==approx(3.2010178117048347,abs=1e-2))\n",
    "assert(cb.predict_from_sim(2868,2336)==approx(3.8280907095830283,abs=1e-2))\n",
    "### END HIDDEN TEST"
   ]
  },
  {
   "cell_type": "markdown",
   "id": "general-sally",
   "metadata": {
    "deletable": false,
    "editable": false,
    "nbgrader": {
     "cell_type": "markdown",
     "checksum": "3c7dd46b13ca75adfa80bc65938844cb",
     "grade": false,
     "grade_id": "cell-d4290e9657c79210",
     "locked": true,
     "schema_version": 3,
     "solution": false,
     "task": false
    }
   },
   "source": [
    "### 2d. Complete the function predict in the class RecSys [5 pts]\n",
    "After completing, run below cell to calculate rating prediction and RMSE. How much does the performance increase compared to the baseline results from above? "
   ]
  },
  {
   "cell_type": "code",
   "execution_count": 18,
   "id": "harmful-eleven",
   "metadata": {
    "deletable": false,
    "nbgrader": {
     "cell_type": "code",
     "checksum": "6b38107aff0feb565b5eb99fa87f1a3e",
     "grade": false,
     "grade_id": "cell-88f7fb017878af0f",
     "locked": false,
     "schema_version": 3,
     "solution": true,
     "task": false
    }
   },
   "outputs": [],
   "source": [
    "# YOUR CODE HERE\n",
    "rmse = cb.rmse(cb.predict())"
   ]
  },
  {
   "cell_type": "code",
   "execution_count": 19,
   "id": "least-clear",
   "metadata": {
    "deletable": false,
    "editable": false,
    "nbgrader": {
     "cell_type": "code",
     "checksum": "cad89e8d4f9e2926b94ed83c605cf1f8",
     "grade": true,
     "grade_id": "cell-a9be0a56656f04bc",
     "locked": true,
     "points": 5,
     "schema_version": 3,
     "solution": false,
     "task": false
    }
   },
   "outputs": [],
   "source": [
    "### BEGIN HIDDEN TEST\n",
    "assert(rmse==approx(1.0128116783754684, abs=1e-2))\n",
    "### END HIDDEN TEST"
   ]
  },
  {
   "cell_type": "markdown",
   "id": "interested-disease",
   "metadata": {},
   "source": [
    "# Q3. Collaborative Filtering\n",
    "\n",
    "### 3a. Complete the function cossim in the class Collaborative [10 pts]\n",
    "**To Do:**    \n",
    "1.Impute the unrated entries in self.Mr to the user's average rating then subtract by the user mean, call this matrix X.   \n",
    "2.Calculate cosine similarity for all item-item pairs. Don't forget to rescale the cosine similarity to be 0~1.    \n",
    "You might encounter divide by zero warning (numpy will fill nan value for that entry). In that case, you can fill those with appropriate values.    \n",
    "\n",
    "Hint: Let's say a movie item has not been rated by anyone. When you calculate similarity of this vector to anoter, you will get $\\vec{0}$=[0,0,0,....,0]. When you normalize this vector, you'll get divide by zero warning and it will make nan value in self.sim matrix. Theoretically what should the similarity value for $\\vec{x}_i \\cdot \\vec{x}_i$ when $\\vec{x}_i = \\vec{0}$? What about $\\vec{x}_i \\cdot \\vec{x}_j$ when $\\vec{x}_i = \\vec{0}$ and $\\vec{x}_j$ is an any vector?     \n",
    "\n",
    "Hint: You may use `scipy.spatial.distance.cosine`, but it will be slow because its cosine function does vector-vector operation whereas you can implement matrix-matrix operation using numpy to calculate all cosines all at once (it can be 100 times faster than vector-vector operation in our data). Also pay attention to the definition. The scipy.spatial.distance provides distance, not similarity. \n",
    "\n",
    "3. Run the below cell that calculate yp and RMSE. "
   ]
  },
  {
   "cell_type": "code",
   "execution_count": 20,
   "id": "senior-thunder",
   "metadata": {
    "deletable": false,
    "nbgrader": {
     "cell_type": "code",
     "checksum": "25c0e1c23c08f9ec00455059dfb2def1",
     "grade": false,
     "grade_id": "cell-3f894a1c23bc0dff",
     "locked": false,
     "schema_version": 3,
     "solution": true,
     "task": false
    }
   },
   "outputs": [],
   "source": [
    "# YOUR CODE HERE\n",
    "\n",
    "cf = Collaborative(data)\n",
    "\n",
    "cf.calc_item_item_similarity(cf.cossim)\n",
    "\n",
    "rmse = cf.rmse(cf.predict())"
   ]
  },
  {
   "cell_type": "code",
   "execution_count": 21,
   "id": "f29fbc79",
   "metadata": {},
   "outputs": [],
   "source": [
    "### BEGIN HIDDEN TEST\n",
    "assert(cf.sim.sum()!=0.)# filtering out no-answer case\n",
    "n = len(cf.allmovies)\n",
    "assert(cf.sim.shape==(n,n))\n",
    "### END HIDDEN TEST"
   ]
  },
  {
   "cell_type": "code",
   "execution_count": 22,
   "id": "limiting-petite",
   "metadata": {
    "deletable": false,
    "editable": false,
    "nbgrader": {
     "cell_type": "code",
     "checksum": "afb3a5c22890074f9faabbfb257fb381",
     "grade": true,
     "grade_id": "cell-5aa7fd4466ab9043",
     "locked": true,
     "points": 2,
     "schema_version": 3,
     "solution": false,
     "task": false
    }
   },
   "outputs": [],
   "source": [
    "### BEGIN HIDDEN TEST\n",
    "assert(np.trace(cf.sim)==3883)\n",
    "### END HIDDEN TEST"
   ]
  },
  {
   "cell_type": "code",
   "execution_count": 23,
   "id": "connected-adelaide",
   "metadata": {
    "deletable": false,
    "editable": false,
    "nbgrader": {
     "cell_type": "code",
     "checksum": "cd94d47033cdfcb7c74c51dcd4708dc8",
     "grade": true,
     "grade_id": "cell-c5e4d3290b2b52dd",
     "locked": true,
     "points": 1,
     "schema_version": 3,
     "solution": false,
     "task": false
    }
   },
   "outputs": [],
   "source": [
    "### BEGIN HIDDEN TEST\n",
    "assert(cf.sim.sum()!=0.) \n",
    "assert(cf.sim==cf.sim.T).all()\n",
    "### END HIDDEN TEST"
   ]
  },
  {
   "cell_type": "code",
   "execution_count": 24,
   "id": "objective-sample",
   "metadata": {
    "deletable": false,
    "editable": false,
    "nbgrader": {
     "cell_type": "code",
     "checksum": "2393a8f15b8a952a8fb6fed172795453",
     "grade": true,
     "grade_id": "cell-fbc15cb1647d4714",
     "locked": true,
     "points": 2,
     "schema_version": 3,
     "solution": false,
     "task": false
    }
   },
   "outputs": [],
   "source": [
    "### BEGIN HIDDEN TEST\n",
    "assert(cf.sim.min()==0)\n",
    "assert(cf.sim.max()==1)\n",
    "### END HIDDEN TEST"
   ]
  },
  {
   "cell_type": "code",
   "execution_count": 25,
   "id": "surprising-transportation",
   "metadata": {
    "deletable": false,
    "editable": false,
    "nbgrader": {
     "cell_type": "code",
     "checksum": "8a4e60a25cfd646845ccdd4131f0a28d",
     "grade": true,
     "grade_id": "cell-dbc47bdfbf25a032",
     "locked": true,
     "points": 2,
     "schema_version": 3,
     "solution": false,
     "task": false
    }
   },
   "outputs": [],
   "source": [
    "### BEGIN HIDDEN TEST\n",
    "assert(cf.sim[0,:3]==approx([1., 0.48022892, 0.48356793],abs=1e-2))\n",
    "### END HIDDEN TEST"
   ]
  },
  {
   "cell_type": "code",
   "execution_count": 26,
   "id": "casual-theme",
   "metadata": {
    "deletable": false,
    "editable": false,
    "nbgrader": {
     "cell_type": "code",
     "checksum": "977c3bb2ab46df2279ac7307628c60f7",
     "grade": true,
     "grade_id": "cell-06d58b5d2b09a015",
     "locked": true,
     "points": 2,
     "schema_version": 3,
     "solution": false,
     "task": false
    }
   },
   "outputs": [],
   "source": [
    "### BEGIN HIDDEN TEST\n",
    "assert(rmse==approx(1.0263081874204125, abs=5e-3))\n",
    "### END HIDDEN TEST"
   ]
  },
  {
   "cell_type": "markdown",
   "id": "significant-purpose",
   "metadata": {
    "deletable": false,
    "editable": false,
    "nbgrader": {
     "cell_type": "markdown",
     "checksum": "9612e3380aaa300fd43f82c2f8177367",
     "grade": false,
     "grade_id": "cell-9c2eae09316f9bfa",
     "locked": true,
     "schema_version": 3,
     "solution": false,
     "task": false
    }
   },
   "source": [
    "### 3b. Complete the function jacsim in the class Collaborative [15 pts]\n",
    "**3b [15 pts] = 3b-i) [5 pts]+3b-ii) [5 pts]+ 3b-iii) [5 pts]**\n",
    "\n",
    "Function `jacsim` calculates jaccard similarity between items using collaborative filtering method. When we have a rating matrix `self.Mr`, the entries of Mr matrix are 0 to 5 (0: unrated, 1-5: rating). We are interested to see which threshold method works better when we use jaccard dimilarity in the collaborative filtering.    \n",
    "We may treat any rating 3 or above to be 1 and the negatively rated (below 3) and no-rating as 0. Or, we may treat movies with any ratings to be 1 and ones that has no rating as 0. In this question, we will complete a function jacsim that takes a transformed rating matrix X and calculate and returns a jaccard similarity matrix.     \n",
    "Let's consider these input cases for the utility matrix $M_r$ with ratings 1-5 and 0s for no-rating.    \n",
    "1. $M_r \\geq 3$ \n",
    "2. $M_r \\geq 0$ \n",
    "3. $M_r$, no transform.\n",
    "\n",
    "Things to think about: \n",
    "- The cases 1 and 2 are straightforward to calculate Jaccard, but what does Jaccard mean for multicategory data?\n",
    "- Time complexity: The matrix $M_r$ is much bigger than the item feature matrix $M_m$, therefore it will take very long time if we calculate on dense matrix.     \n",
    "Hint: Use sparse matrix.\n",
    "- Which method will give the best performance?"
   ]
  },
  {
   "cell_type": "markdown",
   "id": "resident-hampshire",
   "metadata": {
    "deletable": false,
    "editable": false,
    "nbgrader": {
     "cell_type": "markdown",
     "checksum": "a892215432601ddb2809898abfd475c3",
     "grade": false,
     "grade_id": "cell-b784a9ced6686728",
     "locked": true,
     "schema_version": 3,
     "solution": false,
     "task": false
    }
   },
   "source": [
    "### 3b-i)  When $M_r\\geq3$ [5 pts]\n",
    "After you've implemented the jacsim function, run the code below. If implemented correctly, you'll have RMSE below 0.99. "
   ]
  },
  {
   "cell_type": "code",
   "execution_count": 59,
   "id": "polish-horse",
   "metadata": {
    "deletable": false,
    "editable": false,
    "nbgrader": {
     "cell_type": "code",
     "checksum": "d8dc4c7a0833c0598d16367cdc5032fd",
     "grade": false,
     "grade_id": "cell-9b946c77e95d15ac",
     "locked": true,
     "schema_version": 3,
     "solution": false,
     "task": false
    }
   },
   "outputs": [
    {
     "name": "stdout",
     "output_type": "stream",
     "text": [
      "similarity calculation time 0.5141267920007522\n",
      "0.9819500134453444\n"
     ]
    }
   ],
   "source": [
    "cf = Collaborative(data)\n",
    "Xr = cf.Mr>=3\n",
    "t0=time.perf_counter()\n",
    "cf.calc_item_item_similarity(cf.jacsim,Xr)\n",
    "t1=time.perf_counter()\n",
    "time_sim = t1-t0\n",
    "print('similarity calculation time',time_sim)\n",
    "yp = cf.predict()\n",
    "rmse = cf.rmse(yp)\n",
    "print(rmse)\n",
    "assert(rmse<0.99)"
   ]
  },
  {
   "cell_type": "code",
   "execution_count": 60,
   "id": "hearing-credits",
   "metadata": {
    "deletable": false,
    "editable": false,
    "nbgrader": {
     "cell_type": "code",
     "checksum": "480a51dc3e0bab7b3f6cb50d0ef5f8b0",
     "grade": true,
     "grade_id": "cell-fa9412ff904d52e0",
     "locked": true,
     "points": 2,
     "schema_version": 3,
     "solution": false,
     "task": false
    }
   },
   "outputs": [],
   "source": [
    "### BEGIN HIDDEN TEST\n",
    "assert(rmse<1.02) #in case a small mistake in jaccard calcuation, it will give slightly higher rmse value\n",
    "### END HIDDEN TEST"
   ]
  },
  {
   "cell_type": "code",
   "execution_count": 61,
   "id": "higher-regulation",
   "metadata": {
    "deletable": false,
    "editable": false,
    "nbgrader": {
     "cell_type": "code",
     "checksum": "6f8af547f9266499225a846c1e676885",
     "grade": true,
     "grade_id": "cell-af1ef0eacad13917",
     "locked": true,
     "points": 1,
     "schema_version": 3,
     "solution": false,
     "task": false
    }
   },
   "outputs": [],
   "source": [
    "### BEGIN HIDDEN TEST\n",
    "assert(rmse==approx(0.9819058692126349, abs=5e-3))\n",
    "### END HIDDEN TEST"
   ]
  },
  {
   "cell_type": "code",
   "execution_count": 62,
   "id": "million-negotiation",
   "metadata": {
    "deletable": false,
    "editable": false,
    "nbgrader": {
     "cell_type": "code",
     "checksum": "927d2fcac6336b9f13a2be91ffcf76bc",
     "grade": true,
     "grade_id": "cell-c9764b7c73fbe86e",
     "locked": true,
     "points": 1,
     "schema_version": 3,
     "solution": false,
     "task": false
    }
   },
   "outputs": [],
   "source": [
    "### BEGIN HIDDEN TEST\n",
    "assert(cf.sim[0,:3]==approx([1., 0.10952085, 0.05501618],abs=1e-2))\n",
    "### END HIDDEN TEST"
   ]
  },
  {
   "cell_type": "code",
   "execution_count": 63,
   "id": "comfortable-evening",
   "metadata": {
    "deletable": false,
    "editable": false,
    "nbgrader": {
     "cell_type": "code",
     "checksum": "7a45d23335111a5ce59f1173ce8702bc",
     "grade": true,
     "grade_id": "cell-a3e38f6b7c2b2d3e",
     "locked": true,
     "points": 1,
     "schema_version": 3,
     "solution": false,
     "task": false
    }
   },
   "outputs": [],
   "source": [
    "### BEGIN HIDDEN TEST\n",
    "assert(time_sim<30) \n",
    "### END HIDDEN TEST"
   ]
  },
  {
   "cell_type": "markdown",
   "id": "greenhouse-cleveland",
   "metadata": {
    "deletable": false,
    "editable": false,
    "nbgrader": {
     "cell_type": "markdown",
     "checksum": "6b449ce7fd9e68045374251fcbf5cdca",
     "grade": false,
     "grade_id": "cell-03fad5c83be47bce",
     "locked": true,
     "schema_version": 3,
     "solution": false,
     "task": false
    }
   },
   "source": [
    "### 3b-ii)  When $M_r\\geq1$ [5 pts]\n",
    "After you've implemented the jacsim function, run the code below. If implemented correctly, you'll have RMSE below 1.0. "
   ]
  },
  {
   "cell_type": "code",
   "execution_count": 64,
   "id": "returning-satisfaction",
   "metadata": {
    "deletable": false,
    "editable": false,
    "nbgrader": {
     "cell_type": "code",
     "checksum": "9bb93771018808c8a5b84f6fa7fb6d58",
     "grade": false,
     "grade_id": "cell-751c84b41590c47d",
     "locked": true,
     "schema_version": 3,
     "solution": false,
     "task": false
    }
   },
   "outputs": [
    {
     "name": "stdout",
     "output_type": "stream",
     "text": [
      "similarity calculation time 0.6115036250012054\n",
      "0.9913535741888877\n"
     ]
    }
   ],
   "source": [
    "cf = Collaborative(data)\n",
    "Xr = cf.Mr>=1\n",
    "t0=time.perf_counter()\n",
    "cf.calc_item_item_similarity(cf.jacsim,Xr)\n",
    "t1=time.perf_counter()\n",
    "time_sim = t1-t0\n",
    "print('similarity calculation time',time_sim)\n",
    "yp = cf.predict()\n",
    "rmse = cf.rmse(yp)\n",
    "print(rmse)\n",
    "assert(rmse<1.0)"
   ]
  },
  {
   "cell_type": "code",
   "execution_count": 65,
   "id": "accepting-mining",
   "metadata": {
    "deletable": false,
    "editable": false,
    "nbgrader": {
     "cell_type": "code",
     "checksum": "2e3ab6b9b857c497ae8eeeb19dba61b8",
     "grade": true,
     "grade_id": "cell-a467c4ed7c7d2402",
     "locked": true,
     "points": 2,
     "schema_version": 3,
     "solution": false,
     "task": false
    }
   },
   "outputs": [],
   "source": [
    "### BEGIN HIDDEN TEST\n",
    "assert(rmse<1.03) #in case a small mistake in jaccard calcuation, it will give slightly higher rmse value\n",
    "### END HIDDEN TEST"
   ]
  },
  {
   "cell_type": "code",
   "execution_count": 66,
   "id": "mineral-brunei",
   "metadata": {
    "deletable": false,
    "editable": false,
    "nbgrader": {
     "cell_type": "code",
     "checksum": "85559a3f01745de796329597bbf2d2ab",
     "grade": true,
     "grade_id": "cell-5215ef059d315e96",
     "locked": true,
     "points": 1,
     "schema_version": 3,
     "solution": false,
     "task": false
    }
   },
   "outputs": [],
   "source": [
    "### BEGIN HIDDEN TEST\n",
    "assert(rmse==approx(0.991363571262366, abs=5e-3))\n",
    "### END HIDDEN TEST"
   ]
  },
  {
   "cell_type": "code",
   "execution_count": 67,
   "id": "brave-execution",
   "metadata": {
    "deletable": false,
    "editable": false,
    "nbgrader": {
     "cell_type": "code",
     "checksum": "4482fc8047fdd7010d7f3c89df81260f",
     "grade": true,
     "grade_id": "cell-a674c742f504640e",
     "locked": true,
     "points": 1,
     "schema_version": 3,
     "solution": false,
     "task": false
    }
   },
   "outputs": [],
   "source": [
    "### BEGIN HIDDEN TEST\n",
    "assert(cf.sim[0,:3]==approx([1., 0.13426737, 0.07757066],abs=1e-2))\n",
    "### END HIDDEN TEST"
   ]
  },
  {
   "cell_type": "code",
   "execution_count": 68,
   "id": "characteristic-brunswick",
   "metadata": {
    "deletable": false,
    "editable": false,
    "nbgrader": {
     "cell_type": "code",
     "checksum": "16d71831baf4913843eac808ef4f0a13",
     "grade": true,
     "grade_id": "cell-4c061f9c1fb65ec1",
     "locked": true,
     "points": 1,
     "schema_version": 3,
     "solution": false,
     "task": false
    }
   },
   "outputs": [],
   "source": [
    "### BEGIN HIDDEN TEST\n",
    "assert(time_sim<30) \n",
    "### END HIDDEN TEST"
   ]
  },
  {
   "cell_type": "markdown",
   "id": "wound-eligibility",
   "metadata": {
    "deletable": false,
    "editable": false,
    "nbgrader": {
     "cell_type": "markdown",
     "checksum": "53aa0bfcd012fa82e4311f766cc9890a",
     "grade": false,
     "grade_id": "cell-97c9099e8a0eb805",
     "locked": true,
     "schema_version": 3,
     "solution": false,
     "task": false
    },
    "scrolled": true
   },
   "source": [
    "### 3b-iii)  When $M_r$; no transform [5 pts]\n",
    "After you've implemented the jacsim function, run the code below. If implemented correctly, you'll have RMSE below 0.96"
   ]
  },
  {
   "cell_type": "code",
   "execution_count": 69,
   "id": "congressional-behalf",
   "metadata": {
    "deletable": false,
    "editable": false,
    "nbgrader": {
     "cell_type": "code",
     "checksum": "c7534cd1a6e4706dd0c481bd2a7750b7",
     "grade": false,
     "grade_id": "cell-da425b50349185f7",
     "locked": true,
     "schema_version": 3,
     "solution": false,
     "task": false
    }
   },
   "outputs": [
    {
     "name": "stdout",
     "output_type": "stream",
     "text": [
      "similarity calculation time 0.6107362090006063\n",
      "0.9913535741888877\n"
     ]
    },
    {
     "ename": "AssertionError",
     "evalue": "",
     "output_type": "error",
     "traceback": [
      "\u001b[0;31m---------------------------------------------------------------------------\u001b[0m",
      "\u001b[0;31mAssertionError\u001b[0m                            Traceback (most recent call last)",
      "Cell \u001b[0;32mIn[69], line 11\u001b[0m\n\u001b[1;32m      9\u001b[0m rmse \u001b[38;5;241m=\u001b[39m cf\u001b[38;5;241m.\u001b[39mrmse(yp)\n\u001b[1;32m     10\u001b[0m \u001b[38;5;28mprint\u001b[39m(rmse)\n\u001b[0;32m---> 11\u001b[0m \u001b[38;5;28;01massert\u001b[39;00m(rmse\u001b[38;5;241m<\u001b[39m\u001b[38;5;241m0.96\u001b[39m)\n",
      "\u001b[0;31mAssertionError\u001b[0m: "
     ]
    }
   ],
   "source": [
    "cf = Collaborative(data)\n",
    "Xr = cf.Mr.astype(int)\n",
    "t0=time.perf_counter()\n",
    "cf.calc_item_item_similarity(cf.jacsim,Xr)\n",
    "t1=time.perf_counter()\n",
    "time_sim = t1-t0\n",
    "print('similarity calculation time',time_sim)\n",
    "yp = cf.predict()\n",
    "rmse = cf.rmse(yp)\n",
    "print(rmse)\n",
    "assert(rmse<0.96)"
   ]
  },
  {
   "cell_type": "code",
   "execution_count": 70,
   "id": "primary-amateur",
   "metadata": {
    "deletable": false,
    "editable": false,
    "nbgrader": {
     "cell_type": "code",
     "checksum": "68223d054a651798065fe516135ce03f",
     "grade": true,
     "grade_id": "cell-f7245623cf21dfe7",
     "locked": true,
     "points": 2,
     "schema_version": 3,
     "solution": false,
     "task": false
    }
   },
   "outputs": [],
   "source": [
    "### BEGIN HIDDEN TEST\n",
    "assert(rmse<1.0) #in case a small mistake in jaccard calcuation, it will give slightly higher rmse value\n",
    "### END HIDDEN TEST"
   ]
  },
  {
   "cell_type": "code",
   "execution_count": 71,
   "id": "suburban-prospect",
   "metadata": {
    "deletable": false,
    "editable": false,
    "nbgrader": {
     "cell_type": "code",
     "checksum": "96b1cb4538048697b3e6390c3f7921dc",
     "grade": true,
     "grade_id": "cell-fa62e4a0248a7dab",
     "locked": true,
     "points": 1,
     "schema_version": 3,
     "solution": false,
     "task": false
    }
   },
   "outputs": [
    {
     "ename": "AssertionError",
     "evalue": "",
     "output_type": "error",
     "traceback": [
      "\u001b[0;31m---------------------------------------------------------------------------\u001b[0m",
      "\u001b[0;31mAssertionError\u001b[0m                            Traceback (most recent call last)",
      "Cell \u001b[0;32mIn[71], line 2\u001b[0m\n\u001b[1;32m      1\u001b[0m \u001b[38;5;66;03m### BEGIN HIDDEN TEST\u001b[39;00m\n\u001b[0;32m----> 2\u001b[0m \u001b[38;5;28;01massert\u001b[39;00m(rmse\u001b[38;5;241m==\u001b[39mapprox(\u001b[38;5;241m0.9509126236828654\u001b[39m, \u001b[38;5;28mabs\u001b[39m\u001b[38;5;241m=\u001b[39m\u001b[38;5;241m5e-3\u001b[39m))\n",
      "\u001b[0;31mAssertionError\u001b[0m: "
     ]
    }
   ],
   "source": [
    "### BEGIN HIDDEN TEST\n",
    "assert(rmse==approx(0.9509126236828654, abs=5e-3))\n",
    "### END HIDDEN TEST"
   ]
  },
  {
   "cell_type": "code",
   "execution_count": 72,
   "id": "negative-conviction",
   "metadata": {
    "deletable": false,
    "editable": false,
    "nbgrader": {
     "cell_type": "code",
     "checksum": "c124bf07e633167292a304ca433d7f8c",
     "grade": true,
     "grade_id": "cell-b00a3c4ec2e93656",
     "locked": true,
     "points": 1,
     "schema_version": 3,
     "solution": false,
     "task": false
    }
   },
   "outputs": [
    {
     "ename": "AssertionError",
     "evalue": "",
     "output_type": "error",
     "traceback": [
      "\u001b[0;31m---------------------------------------------------------------------------\u001b[0m",
      "\u001b[0;31mAssertionError\u001b[0m                            Traceback (most recent call last)",
      "Cell \u001b[0;32mIn[72], line 2\u001b[0m\n\u001b[1;32m      1\u001b[0m \u001b[38;5;66;03m### BEGIN HIDDEN TEST\u001b[39;00m\n\u001b[0;32m----> 2\u001b[0m \u001b[38;5;28;01massert\u001b[39;00m(cf\u001b[38;5;241m.\u001b[39msim[\u001b[38;5;241m0\u001b[39m,:\u001b[38;5;241m3\u001b[39m]\u001b[38;5;241m==\u001b[39mapprox([\u001b[38;5;241m1.\u001b[39m, \u001b[38;5;241m3.03561004e-02\u001b[39m, \u001b[38;5;241m1.62357186e-02\u001b[39m],\u001b[38;5;28mabs\u001b[39m\u001b[38;5;241m=\u001b[39m\u001b[38;5;241m1e-2\u001b[39m))\n",
      "\u001b[0;31mAssertionError\u001b[0m: "
     ]
    }
   ],
   "source": [
    "### BEGIN HIDDEN TEST\n",
    "assert(cf.sim[0,:3]==approx([1., 3.03561004e-02, 1.62357186e-02],abs=1e-2))\n",
    "### END HIDDEN TEST"
   ]
  },
  {
   "cell_type": "code",
   "execution_count": 73,
   "id": "premium-jungle",
   "metadata": {
    "deletable": false,
    "editable": false,
    "nbgrader": {
     "cell_type": "code",
     "checksum": "ba67aa1743e2f7427439f6c360dba6ad",
     "grade": true,
     "grade_id": "cell-e63c6e4ae329b64a",
     "locked": true,
     "points": 1,
     "schema_version": 3,
     "solution": false,
     "task": false
    }
   },
   "outputs": [],
   "source": [
    "### BEGIN HIDDEN TEST\n",
    "assert(time_sim<30) \n",
    "### END HIDDEN TEST"
   ]
  },
  {
   "cell_type": "markdown",
   "id": "automated-hungarian",
   "metadata": {
    "deletable": false,
    "editable": false,
    "nbgrader": {
     "cell_type": "markdown",
     "checksum": "a54d1a8889cf1cdd9afa75561231aaa5",
     "grade": false,
     "grade_id": "cell-cf8f8c1aebdf0c42",
     "locked": true,
     "schema_version": 3,
     "solution": false,
     "task": false
    }
   },
   "source": [
    "### 3.C Discussion [5 pts]\n",
    "1. Summarize the methods and performances: Below is a template/example.\n",
    "\n",
    "|Method|RMSE|\n",
    "|:----|:--------:|\n",
    "|Baseline, $Y_p$=3| 1.2585510334053043 |\n",
    "|Baseline, $Y_p=\\mu_u$| 1.0352910334228647 |\n",
    "|Content based, item-item| 1.0128116783754684 |\n",
    "|Collaborative, cosine| 1.0263081874204125 |\n",
    "|Collaborative, jaccard, $M_r\\geq 3$| 0.9819500134453444 |\n",
    "|Collaborative, jaccard, $M_r\\geq 1$| 0.9913535741888877 |\n",
    "|Collaborative, jaccard, $M_r$| 0.9913535741888877 |\n",
    "\n",
    "2. Discuss which method(s) work better than others and why.\n",
    "\n",
    "The best method (from what I was able to complete) was the collaborative, jaccard with $M_r\\geq 3$. The RMSE for my non transform jaccard calculation is having an error, but by reading the expected values from the tests it is the one that should have the smallest RMSE. This is likely due to the binary nature of the data set. Hence why it is scaled between 0 and 1. This means that\n",
    "the binary nature of the dataset is more informative and should be a better model."
   ]
  },
  {
   "cell_type": "markdown",
   "id": "copyrighted-temple",
   "metadata": {
    "deletable": false,
    "nbgrader": {
     "cell_type": "markdown",
     "checksum": "95e5d3aff0832e38567d9c8cb900f584",
     "grade": true,
     "grade_id": "cell-2d3be9278d36364b",
     "locked": false,
     "points": 5,
     "schema_version": 3,
     "solution": true,
     "task": false
    }
   },
   "source": [
    "See template above."
   ]
  }
 ],
 "metadata": {
  "kernelspec": {
   "display_name": "base",
   "language": "python",
   "name": "python3"
  },
  "language_info": {
   "codemirror_mode": {
    "name": "ipython",
    "version": 3
   },
   "file_extension": ".py",
   "mimetype": "text/x-python",
   "name": "python",
   "nbconvert_exporter": "python",
   "pygments_lexer": "ipython3",
   "version": "3.12.4"
  }
 },
 "nbformat": 4,
 "nbformat_minor": 5
}
